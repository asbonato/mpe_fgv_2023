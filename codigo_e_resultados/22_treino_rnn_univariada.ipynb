{
 "cells": [
  {
   "cell_type": "markdown",
   "metadata": {},
   "source": [
    "# Aplicação de Modelos de Markov e Redes Neurais LSTM na Previsão de Arrecadação do ICMS Paulista\n",
    "## Resultados 2022 \n",
    "\n",
    "### Antonio Sergio Ferreira Bonato"
   ]
  },
  {
   "cell_type": "markdown",
   "metadata": {},
   "source": [
    "Atualmente, na Secretaria da Fazenda e Planejamento do Estado de São Paulo, a previsão de arrecadação do ICMS paulista é feita usando-se um modelo ARIMA com variáveis exógenas, o ARIMAX. Mas o ICMS é não linear e há várias quebras estruturais controladas com diversas *dummies*. A consequência é um modelo bastante sobreajustado, inadequado para previsões de mais longo prazo (mais do que alguns meses, muito menos para um ano). \n",
    "A proposta deste trabalho é utilizar modelos não lineares multivariados na previsão do ICMS paulista, utilizando redes neurais recorrentes LSTM (*Long Short Term Memory*) e modelos Markov-Switching, fazendo um contraponto entre estes dois modelos. E utilizar, como baseline de comparação, o modelo ARIMAX atual. \n",
    "\n",
    "**Palavras-chave**: Markov-Switching Models. Redes Neurais Recorrentes. LSTM. ICMS."
   ]
  },
  {
   "cell_type": "markdown",
   "metadata": {},
   "source": [
    "## Treinamento das Redes Neurais - Série Univariada"
   ]
  },
  {
   "cell_type": "code",
   "execution_count": 1,
   "metadata": {},
   "outputs": [],
   "source": [
    "import pandas as pd\n",
    "import numpy as np\n",
    "import seaborn as sns\n",
    "import matplotlib.pyplot as plt\n",
    "import statsmodels.tsa.stattools\n",
    "import statsmodels.tsa.x13\n",
    "import statsmodels.graphics.tsaplots\n",
    "import statsmodels.api as sm\n",
    "from statsmodels.graphics.api import qqplot\n",
    "from statsmodels.tsa.api import acf, graphics, pacf\n",
    "from statsmodels.tsa.arima.model import ARIMA\n",
    "import pickle\n",
    "from pmdarima.arima import auto_arima, nsdiffs, ndiffs\n",
    "from sklearn.metrics import mean_squared_error, mean_absolute_percentage_error\n",
    "import random\n",
    "import tensorflow as tf\n",
    "seed = 42\n",
    "random.seed(seed)\n",
    "np.random.seed(seed)\n",
    "tf.random.set_seed(seed)\n",
    "\n",
    "sns.set()\n",
    "sns.set_context(\"notebook\")\n",
    "sns.set(rc={'figure.figsize':(10,7)})"
   ]
  },
  {
   "cell_type": "code",
   "execution_count": 2,
   "metadata": {},
   "outputs": [],
   "source": [
    "import warnings\n",
    "warnings.filterwarnings('ignore')\n",
    "warnings.simplefilter('ignore')"
   ]
  },
  {
   "cell_type": "code",
   "execution_count": 3,
   "metadata": {},
   "outputs": [],
   "source": [
    "df_main_orig = pd.read_excel(\"variaveis_previsao.xlsx\", parse_dates=['date'])"
   ]
  },
  {
   "cell_type": "markdown",
   "metadata": {},
   "source": [
    "Removendo as últimas linhas que são todas NaN"
   ]
  },
  {
   "cell_type": "code",
   "execution_count": 4,
   "metadata": {},
   "outputs": [],
   "source": [
    "df_main = df_main_orig.iloc[0:240]\n",
    "datas = df_main['date']"
   ]
  },
  {
   "cell_type": "code",
   "execution_count": 5,
   "metadata": {},
   "outputs": [
    {
     "data": {
      "text/html": [
       "<div>\n",
       "<style scoped>\n",
       "    .dataframe tbody tr th:only-of-type {\n",
       "        vertical-align: middle;\n",
       "    }\n",
       "\n",
       "    .dataframe tbody tr th {\n",
       "        vertical-align: top;\n",
       "    }\n",
       "\n",
       "    .dataframe thead th {\n",
       "        text-align: right;\n",
       "    }\n",
       "</style>\n",
       "<table border=\"1\" class=\"dataframe\">\n",
       "  <thead>\n",
       "    <tr style=\"text-align: right;\">\n",
       "      <th></th>\n",
       "      <th>date</th>\n",
       "      <th>icms_sp</th>\n",
       "      <th>igp_m</th>\n",
       "      <th>dolar</th>\n",
       "      <th>ibc_br</th>\n",
       "      <th>dias_uteis</th>\n",
       "      <th>igp_m_22</th>\n",
       "      <th>dolar_22</th>\n",
       "      <th>ibc_br_22</th>\n",
       "      <th>igp_m_21</th>\n",
       "      <th>dolar_21</th>\n",
       "      <th>ibc_br_21</th>\n",
       "    </tr>\n",
       "  </thead>\n",
       "  <tbody>\n",
       "    <tr>\n",
       "      <th>235</th>\n",
       "      <td>2022-08-01</td>\n",
       "      <td>1.756224e+10</td>\n",
       "      <td>1185.004</td>\n",
       "      <td>5.143287</td>\n",
       "      <td>149.60</td>\n",
       "      <td>23</td>\n",
       "      <td>1137.167829</td>\n",
       "      <td>5.6496</td>\n",
       "      <td>146.408337</td>\n",
       "      <td>NaN</td>\n",
       "      <td>NaN</td>\n",
       "      <td>NaN</td>\n",
       "    </tr>\n",
       "    <tr>\n",
       "      <th>236</th>\n",
       "      <td>2022-09-01</td>\n",
       "      <td>1.726287e+10</td>\n",
       "      <td>1173.793</td>\n",
       "      <td>5.236957</td>\n",
       "      <td>144.44</td>\n",
       "      <td>21</td>\n",
       "      <td>1143.597376</td>\n",
       "      <td>5.6800</td>\n",
       "      <td>142.808302</td>\n",
       "      <td>NaN</td>\n",
       "      <td>NaN</td>\n",
       "      <td>NaN</td>\n",
       "    </tr>\n",
       "    <tr>\n",
       "      <th>237</th>\n",
       "      <td>2022-10-01</td>\n",
       "      <td>1.565000e+10</td>\n",
       "      <td>1162.391</td>\n",
       "      <td>5.250300</td>\n",
       "      <td>142.34</td>\n",
       "      <td>20</td>\n",
       "      <td>1150.115881</td>\n",
       "      <td>5.6700</td>\n",
       "      <td>144.063428</td>\n",
       "      <td>NaN</td>\n",
       "      <td>NaN</td>\n",
       "      <td>NaN</td>\n",
       "    </tr>\n",
       "    <tr>\n",
       "      <th>238</th>\n",
       "      <td>2022-11-01</td>\n",
       "      <td>1.605000e+10</td>\n",
       "      <td>1155.829</td>\n",
       "      <td>5.274650</td>\n",
       "      <td>140.80</td>\n",
       "      <td>20</td>\n",
       "      <td>1155.866460</td>\n",
       "      <td>5.6000</td>\n",
       "      <td>143.165409</td>\n",
       "      <td>NaN</td>\n",
       "      <td>NaN</td>\n",
       "      <td>NaN</td>\n",
       "    </tr>\n",
       "    <tr>\n",
       "      <th>239</th>\n",
       "      <td>2022-12-01</td>\n",
       "      <td>1.767135e+10</td>\n",
       "      <td>1161.006</td>\n",
       "      <td>5.242432</td>\n",
       "      <td>142.78</td>\n",
       "      <td>22</td>\n",
       "      <td>1161.645792</td>\n",
       "      <td>5.6000</td>\n",
       "      <td>141.405133</td>\n",
       "      <td>NaN</td>\n",
       "      <td>NaN</td>\n",
       "      <td>NaN</td>\n",
       "    </tr>\n",
       "  </tbody>\n",
       "</table>\n",
       "</div>"
      ],
      "text/plain": [
       "          date       icms_sp     igp_m     dolar  ibc_br  dias_uteis  \\\n",
       "235 2022-08-01  1.756224e+10  1185.004  5.143287  149.60          23   \n",
       "236 2022-09-01  1.726287e+10  1173.793  5.236957  144.44          21   \n",
       "237 2022-10-01  1.565000e+10  1162.391  5.250300  142.34          20   \n",
       "238 2022-11-01  1.605000e+10  1155.829  5.274650  140.80          20   \n",
       "239 2022-12-01  1.767135e+10  1161.006  5.242432  142.78          22   \n",
       "\n",
       "        igp_m_22  dolar_22   ibc_br_22  igp_m_21  dolar_21  ibc_br_21  \n",
       "235  1137.167829    5.6496  146.408337       NaN       NaN        NaN  \n",
       "236  1143.597376    5.6800  142.808302       NaN       NaN        NaN  \n",
       "237  1150.115881    5.6700  144.063428       NaN       NaN        NaN  \n",
       "238  1155.866460    5.6000  143.165409       NaN       NaN        NaN  \n",
       "239  1161.645792    5.6000  141.405133       NaN       NaN        NaN  "
      ]
     },
     "execution_count": 5,
     "metadata": {},
     "output_type": "execute_result"
    }
   ],
   "source": [
    "df_main.tail()"
   ]
  },
  {
   "cell_type": "markdown",
   "metadata": {},
   "source": [
    "### Criação das Séries"
   ]
  },
  {
   "cell_type": "code",
   "execution_count": 6,
   "metadata": {},
   "outputs": [],
   "source": [
    "icms_ts = pd.Series(list(df_main['icms_sp']), index = datas)"
   ]
  },
  {
   "cell_type": "markdown",
   "metadata": {},
   "source": [
    "#### Testes de Valores Nulos"
   ]
  },
  {
   "cell_type": "code",
   "execution_count": 7,
   "metadata": {},
   "outputs": [
    {
     "name": "stdout",
     "output_type": "stream",
     "text": [
      "ICMS 0\n"
     ]
    }
   ],
   "source": [
    "print('ICMS', icms_ts.isnull().sum())"
   ]
  },
  {
   "cell_type": "code",
   "execution_count": 8,
   "metadata": {},
   "outputs": [
    {
     "data": {
      "text/plain": [
       "Series([], dtype: float64)"
      ]
     },
     "execution_count": 8,
     "metadata": {},
     "output_type": "execute_result"
    }
   ],
   "source": [
    "# listando os nulos do icms\n",
    "icms_ts[icms_ts.isnull()]"
   ]
  },
  {
   "cell_type": "code",
   "execution_count": 9,
   "metadata": {},
   "outputs": [],
   "source": [
    "# eliminando os nulos do icms\n",
    "icms_ts = icms_ts[~icms_ts.isnull()]"
   ]
  },
  {
   "cell_type": "code",
   "execution_count": 10,
   "metadata": {},
   "outputs": [
    {
     "data": {
      "text/plain": [
       "(240,)"
      ]
     },
     "execution_count": 10,
     "metadata": {},
     "output_type": "execute_result"
    }
   ],
   "source": [
    "icms_ts.shape"
   ]
  },
  {
   "cell_type": "markdown",
   "metadata": {},
   "source": [
    "### Série em Log\n",
    "Como os valores do ICMS são muito elevados a série será colocada em log."
   ]
  },
  {
   "cell_type": "code",
   "execution_count": 11,
   "metadata": {},
   "outputs": [],
   "source": [
    "l_icms_ts = pd.Series(np.log(list(df_main['icms_sp'])), index = datas)"
   ]
  },
  {
   "cell_type": "markdown",
   "metadata": {},
   "source": [
    "## Divisão em treino e teste"
   ]
  },
  {
   "cell_type": "code",
   "execution_count": 12,
   "metadata": {},
   "outputs": [],
   "source": [
    "icms_train = icms_ts[:-24]\n",
    "icms_val = icms_ts[-24:-12]\n",
    "icms_test = icms_ts[-12:]"
   ]
  },
  {
   "cell_type": "markdown",
   "metadata": {},
   "source": [
    "## Utilidades para Previsões"
   ]
  },
  {
   "cell_type": "markdown",
   "metadata": {},
   "source": [
    "Além de MAPE e MSE, será usado o erro relativo, que é \n",
    "\n",
    "$Erro Relativo = \\frac{|previsão - real|}{real}$"
   ]
  },
  {
   "cell_type": "code",
   "execution_count": 13,
   "metadata": {},
   "outputs": [],
   "source": [
    "def erro_relativo(prev, real):\n",
    "    return 100*np.absolute(prev-real)/real"
   ]
  },
  {
   "cell_type": "markdown",
   "metadata": {},
   "source": [
    "#### Dicionário de Previsões\n",
    "Será usado para armazenar todas as previsões."
   ]
  },
  {
   "cell_type": "code",
   "execution_count": 14,
   "metadata": {},
   "outputs": [],
   "source": [
    "previsoes = {\n",
    "    'nome':[],\n",
    "    'modelo': [],\n",
    "    'previsoes': [],\n",
    "    'rmse': [],\n",
    "    'mape': [],\n",
    "    'erro relativo':[]\n",
    "}"
   ]
  },
  {
   "cell_type": "markdown",
   "metadata": {},
   "source": [
    "## Modelos RNN LSTM\n",
    "Redes Neurais Recorrentes com neurônios Long Short-Term Memory"
   ]
  },
  {
   "cell_type": "markdown",
   "metadata": {},
   "source": [
    "### Montagem da Série\n",
    "As redes neurais precisam de conjuntos de características e de etiquetas separados. Neste caso, o conjunto de etiquetas é a própria série de ICMS. Para os conjunto de caraterísticas será utilizada a série do ICMS com lags 1, 2, 3, 4, 6 e 12 defasagens, e médias móveis de 2, 3, 6 e 12 meses, conforme trabalho de [Silva & Figueiredo, 2020]."
   ]
  },
  {
   "cell_type": "code",
   "execution_count": 15,
   "metadata": {},
   "outputs": [],
   "source": [
    "def cria_features_target(serie, verbose=0):\n",
    "    serie_d1 = serie.shift(1)\n",
    "    serie_d2 = serie.shift(2)\n",
    "    serie_d3 = serie.shift(3)\n",
    "    serie_d4 = serie.shift(4)\n",
    "    serie_d6 = serie.shift(6)\n",
    "    serie_d12 = serie.shift(12)\n",
    "    serie_ma2 = serie.rolling(2).mean()\n",
    "    serie_ma3 = serie.rolling(3).mean()\n",
    "    serie_ma6 = serie.rolling(6).mean()\n",
    "    serie_ma12 = serie.rolling(12).mean()\n",
    "\n",
    "    if verbose==1:\n",
    "        print(\"shape de cada uma das séries:\")\n",
    "        print(serie_d1.shape, serie_d2.shape, serie_d3.shape, serie_d4.shape, \n",
    "              serie_d6.shape, serie_d12.shape, serie_ma2.shape, serie_ma3.shape, \n",
    "              serie_ma6.shape, serie_ma12.shape)\n",
    "    X = np.array([serie_d1, serie_d2, serie_d3, serie_d4, \n",
    "     serie_d6, serie_d12, serie_ma2, serie_ma3, \n",
    "     serie_ma6, serie_ma12])\n",
    "    if verbose==1:\n",
    "        print(\"shape do array de features:\", X.shape)\n",
    "    X = X[:,12:]\n",
    "    X = X.T\n",
    "    if verbose==1:\n",
    "        print(\"shape do array de features depois da poda e da transposição:\", X.shape)\n",
    "    Y = np.array(serie[12:])\n",
    "    if verbose==1:\n",
    "        print(\"shape do array target:\", Y.shape)\n",
    "    return X, Y"
   ]
  },
  {
   "cell_type": "code",
   "execution_count": 16,
   "metadata": {},
   "outputs": [
    {
     "name": "stdout",
     "output_type": "stream",
     "text": [
      "shape de cada uma das séries:\n",
      "(240,) (240,) (240,) (240,) (240,) (240,) (240,) (240,) (240,) (240,)\n",
      "shape do array de features: (10, 240)\n",
      "shape do array de features depois da poda e da transposição: (228, 10)\n",
      "shape do array target: (228,)\n"
     ]
    }
   ],
   "source": [
    "#série completa, com sazonalidade e em nível\n",
    "#seas_icms_ts = seas_icms.seasadj\n",
    "X_data, Y_data = cria_features_target(l_icms_ts, verbose=1)"
   ]
  },
  {
   "cell_type": "code",
   "execution_count": 17,
   "metadata": {},
   "outputs": [],
   "source": [
    "#print(X_data[0])\n",
    "#print(Y_data[0])\n",
    "#print(X_data[X_data.shape[0]-1])\n",
    "#print(Y_data[X_data.shape[0]-1])"
   ]
  },
  {
   "cell_type": "markdown",
   "metadata": {},
   "source": [
    "#### Normalização dos Dados\n",
    "Serão normalizados usando-se min-max. Apenas as features, a variável target não será normalizada. Os dados serão dividos em treno, validação e teste para a normalização, de modo que o fit seja feito somente nos dados de treino, aumentando-se assim a probabilidade de generalização do modelo."
   ]
  },
  {
   "cell_type": "code",
   "execution_count": 18,
   "metadata": {},
   "outputs": [
    {
     "name": "stdout",
     "output_type": "stream",
     "text": [
      "(204, 10) (12, 10) (12, 10)\n"
     ]
    }
   ],
   "source": [
    "X_train = X_data[:-24]\n",
    "X_val = X_data[-24:-12]\n",
    "X_test = X_data[-12:]\n",
    "print(X_train.shape, X_val.shape, X_test.shape)\n",
    "#Y_train = Y_data[:-24]\n",
    "#Y_val = Y_data[-24:-12]\n",
    "#Y_test = Y_data[-12:]\n",
    "#print(Y_train.shape, Y_val.shape, Y_test.shape)"
   ]
  },
  {
   "cell_type": "code",
   "execution_count": 19,
   "metadata": {},
   "outputs": [
    {
     "name": "stdout",
     "output_type": "stream",
     "text": [
      "numéricas [0, 1, 2, 3, 4, 5, 6, 7, 8, 9]\n",
      "ColumnTransformer(transformers=[('min-max', MinMaxScaler(),\n",
      "                                 [0, 1, 2, 3, 4, 5, 6, 7, 8, 9])],\n",
      "                  verbose=True)\n",
      "[ColumnTransformer] ....... (1 of 1) Processing min-max, total=   0.0s\n",
      "(204, 10)\n",
      "(12, 10)\n",
      "(12, 10)\n"
     ]
    }
   ],
   "source": [
    "from sklearn.preprocessing import MinMaxScaler\n",
    "from sklearn.compose import ColumnTransformer\n",
    "# índice dos atributos numéricos\n",
    "num_atrib = list(range(10))\n",
    "print('numéricas', num_atrib)\n",
    "\n",
    "enc_x = ColumnTransformer([('min-max',MinMaxScaler(), num_atrib)], verbose=True)\n",
    "\n",
    "print(enc_x)\n",
    "X_train_std = enc_x.fit_transform(X_train)\n",
    "X_val_std = enc_x.transform(X_val)\n",
    "X_test_std = enc_x.transform(X_test)\n",
    "\n",
    "print(X_train_std.shape)\n",
    "print(X_val_std.shape)\n",
    "print(X_test_std.shape)\n",
    "\n",
    "#enc_y = MinMaxScaler()\n",
    "\n",
    "#print(enc_y)\n",
    "#Y_train_std = enc_y.fit_transform(Y_train.reshape(Y_train.shape[0], 1))\n",
    "#Y_val_std = enc_y.transform(Y_val.reshape(12,1))\n",
    "#Y_test_std = enc_y.transform(Y_test.reshape(12,1))\n",
    "\n",
    "#print(Y_train_std.shape)\n",
    "#print(Y_val_std.shape)\n",
    "#print(Y_test_std.shape)"
   ]
  },
  {
   "cell_type": "markdown",
   "metadata": {},
   "source": [
    "# Modelo 1 mês\n",
    "Neste modelo cada mês será previsto pelos dados do mês anterior"
   ]
  },
  {
   "cell_type": "markdown",
   "metadata": {},
   "source": [
    "#### Criando as janelas de 12 meses e reshape para LSTM. A arrecadação de cada mês será prevista pela arrecadação dos 12 meses anteriores."
   ]
  },
  {
   "cell_type": "code",
   "execution_count": 20,
   "metadata": {},
   "outputs": [
    {
     "name": "stdout",
     "output_type": "stream",
     "text": [
      "(228, 10, 1)\n"
     ]
    }
   ],
   "source": [
    "X_data_jn = np.concatenate((X_train_std, X_val_std, X_test_std), axis = 0)\n",
    "X_data_jn = X_data_jn.reshape(X_data_jn.shape[0],10,1)\n",
    "print(X_data_jn.shape)"
   ]
  },
  {
   "cell_type": "code",
   "execution_count": 21,
   "metadata": {},
   "outputs": [],
   "source": [
    "def janelamento_1_mes(X, Y, verbose=0):\n",
    "    X_exp = np.roll(X, 1, axis=0)\n",
    "    X_exp_cut = X_exp[1:,:,:]#.transpose(0,2,1)\n",
    "    Y_cut = Y[1:]\n",
    "    if verbose==1:\n",
    "        print('shape das features janeladas:', X_exp.shape)\n",
    "        print('shape das features janeladas pós poda e transposição:', X_exp_cut.shape)\n",
    "        print('shape do array target pós poda:', Y_cut.shape)\n",
    "    return X_exp_cut, Y_cut"
   ]
  },
  {
   "cell_type": "code",
   "execution_count": 22,
   "metadata": {},
   "outputs": [],
   "source": [
    "X_data_exp_cut1, Y_data_cut1 = janelamento_1_mes(X_data_jn, Y_data, verbose=0)"
   ]
  },
  {
   "cell_type": "code",
   "execution_count": 23,
   "metadata": {},
   "outputs": [
    {
     "data": {
      "text/plain": [
       "((227, 10, 1), (227,))"
      ]
     },
     "execution_count": 23,
     "metadata": {},
     "output_type": "execute_result"
    }
   ],
   "source": [
    "X_data_exp_cut1.shape, Y_data_cut1.shape"
   ]
  },
  {
   "cell_type": "code",
   "execution_count": 24,
   "metadata": {},
   "outputs": [
    {
     "data": {
      "text/plain": [
       "array([[0.13327008],\n",
       "       [0.04541673],\n",
       "       [0.03441162],\n",
       "       [0.01694149],\n",
       "       [0.00819836],\n",
       "       [0.05603288],\n",
       "       [0.07789187],\n",
       "       [0.04752486],\n",
       "       [0.        ],\n",
       "       [0.        ]])"
      ]
     },
     "execution_count": 24,
     "metadata": {},
     "output_type": "execute_result"
    }
   ],
   "source": [
    "X_data_exp_cut1[0]"
   ]
  },
  {
   "cell_type": "code",
   "execution_count": 25,
   "metadata": {},
   "outputs": [
    {
     "data": {
      "text/plain": [
       "21.905893928886627"
      ]
     },
     "execution_count": 25,
     "metadata": {},
     "output_type": "execute_result"
    }
   ],
   "source": [
    "Y_data_cut1[0]"
   ]
  },
  {
   "cell_type": "code",
   "execution_count": 26,
   "metadata": {},
   "outputs": [
    {
     "data": {
      "text/plain": [
       "23.59521060183563"
      ]
     },
     "execution_count": 26,
     "metadata": {},
     "output_type": "execute_result"
    }
   ],
   "source": [
    "Y_data_cut1[Y_data_cut1.shape[0]-1]"
   ]
  },
  {
   "cell_type": "code",
   "execution_count": 27,
   "metadata": {},
   "outputs": [
    {
     "data": {
      "text/plain": [
       "array([[1.03945146],\n",
       "       [1.15076843],\n",
       "       [1.20783085],\n",
       "       [1.2024933 ],\n",
       "       [1.17611786],\n",
       "       [1.19303758],\n",
       "       [1.04498213],\n",
       "       [1.08136256],\n",
       "       [1.17391569],\n",
       "       [1.25116028]])"
      ]
     },
     "execution_count": 27,
     "metadata": {},
     "output_type": "execute_result"
    }
   ],
   "source": [
    "X_data_exp_cut1[Y_data_cut1.shape[0]-1]"
   ]
  },
  {
   "cell_type": "markdown",
   "metadata": {},
   "source": [
    "#### Separando novamente em treino, validação e teste"
   ]
  },
  {
   "cell_type": "code",
   "execution_count": 28,
   "metadata": {},
   "outputs": [
    {
     "name": "stdout",
     "output_type": "stream",
     "text": [
      "(203, 10, 1) (12, 10, 1) (12, 10, 1)\n",
      "(203,) (12,) (12,)\n"
     ]
    }
   ],
   "source": [
    "x_train1 = X_data_exp_cut1[:-24]\n",
    "x_val1 = X_data_exp_cut1[-24:-12]\n",
    "x_test1 = X_data_exp_cut1[-12:]\n",
    "print(x_train1.shape, x_val1.shape, x_test1.shape)\n",
    "y_train1 = Y_data_cut1[:-24]\n",
    "y_val1 = Y_data_cut1[-24:-12]\n",
    "y_test1 = Y_data_cut1[-12:]\n",
    "print(y_train1.shape, y_val1.shape, y_test1.shape)"
   ]
  },
  {
   "cell_type": "markdown",
   "metadata": {},
   "source": [
    "### Criando o modelo LSTM "
   ]
  },
  {
   "cell_type": "code",
   "execution_count": 29,
   "metadata": {},
   "outputs": [],
   "source": [
    "# importando as bibliotecas do Keras\n",
    "from tensorflow.keras.models import Sequential\n",
    "from tensorflow.keras.layers import LSTM, Dense, Dropout\n",
    "from tensorflow.keras.callbacks import ReduceLROnPlateau, EarlyStopping\n",
    "from tensorflow.keras.optimizers import Adam"
   ]
  },
  {
   "cell_type": "markdown",
   "metadata": {},
   "source": [
    "## Arquitetura da Rede - Arquitetura Larga"
   ]
  },
  {
   "cell_type": "code",
   "execution_count": 30,
   "metadata": {},
   "outputs": [],
   "source": [
    "rlrop1 = ReduceLROnPlateau(monitor='val_loss', factor=0.1, patience=10, verbose=1)\n",
    "early_stop1 = EarlyStopping(monitor='val_loss', patience=100, verbose=1, \n",
    "                           restore_best_weights=True)"
   ]
  },
  {
   "cell_type": "code",
   "execution_count": 31,
   "metadata": {},
   "outputs": [],
   "source": [
    "# Épocas e percentual de validação\n",
    "EPOCHS = 700\n",
    "\n",
    "# Imstanciação do modelo\n",
    "model = Sequential()\n",
    "\n",
    "# Adicionar camada LSTM \n",
    "model.add(LSTM(activation='tanh', dropout=0.25,\n",
    "        input_shape = (10, 1), return_sequences = False,\n",
    "        units = 600))\n",
    "\n",
    "# Adicionar a camada de saída com 1 neurônio linear\n",
    "model.add(Dense(\n",
    "        units = 1,\n",
    "        activation = 'linear'))\n",
    "# a learning rate padrão do Adam é 0.001\n",
    "model.compile(loss = 'mape', optimizer = Adam(learning_rate=1e-5))"
   ]
  },
  {
   "cell_type": "code",
   "execution_count": 32,
   "metadata": {},
   "outputs": [
    {
     "name": "stdout",
     "output_type": "stream",
     "text": [
      "Model: \"sequential\"\n",
      "_________________________________________________________________\n",
      "Layer (type)                 Output Shape              Param #   \n",
      "=================================================================\n",
      "lstm (LSTM)                  (None, 600)               1444800   \n",
      "_________________________________________________________________\n",
      "dense (Dense)                (None, 1)                 601       \n",
      "=================================================================\n",
      "Total params: 1,445,401\n",
      "Trainable params: 1,445,401\n",
      "Non-trainable params: 0\n",
      "_________________________________________________________________\n"
     ]
    }
   ],
   "source": [
    "model.summary()"
   ]
  },
  {
   "cell_type": "code",
   "execution_count": 33,
   "metadata": {
    "scrolled": true
   },
   "outputs": [
    {
     "name": "stdout",
     "output_type": "stream",
     "text": [
      "Epoch 1/700\n",
      "51/51 [==============================] - 2s 31ms/step - loss: 99.8378 - val_loss: 99.3130\n",
      "Epoch 2/700\n",
      "51/51 [==============================] - 1s 23ms/step - loss: 99.2723 - val_loss: 98.2459\n",
      "Epoch 3/700\n",
      "51/51 [==============================] - 1s 24ms/step - loss: 98.4713 - val_loss: 96.4196\n",
      "Epoch 4/700\n",
      "51/51 [==============================] - 1s 24ms/step - loss: 96.6407 - val_loss: 91.8031\n",
      "Epoch 5/700\n",
      "51/51 [==============================] - 1s 24ms/step - loss: 91.6339 - val_loss: 73.5865\n",
      "Epoch 6/700\n",
      "51/51 [==============================] - 1s 25ms/step - loss: 66.2719 - val_loss: 16.4645\n",
      "Epoch 7/700\n",
      "51/51 [==============================] - 1s 25ms/step - loss: 23.3467 - val_loss: 3.5856\n",
      "Epoch 8/700\n",
      "51/51 [==============================] - 1s 26ms/step - loss: 8.4645 - val_loss: 0.3916\n",
      "Epoch 9/700\n",
      "51/51 [==============================] - 1s 26ms/step - loss: 4.0728 - val_loss: 0.8417\n",
      "Epoch 10/700\n",
      "51/51 [==============================] - 1s 27ms/step - loss: 2.2124 - val_loss: 1.5001\n",
      "Epoch 11/700\n",
      "51/51 [==============================] - 1s 27ms/step - loss: 1.6180 - val_loss: 1.3883\n",
      "Epoch 12/700\n",
      "51/51 [==============================] - 1s 27ms/step - loss: 1.3831 - val_loss: 1.7902\n",
      "Epoch 13/700\n",
      "51/51 [==============================] - 1s 28ms/step - loss: 1.1156 - val_loss: 2.0936\n",
      "Epoch 14/700\n",
      "51/51 [==============================] - 1s 28ms/step - loss: 1.1835 - val_loss: 1.9625\n",
      "Epoch 15/700\n",
      "51/51 [==============================] - 1s 28ms/step - loss: 1.1202 - val_loss: 2.0004\n",
      "Epoch 16/700\n",
      "51/51 [==============================] - 2s 30ms/step - loss: 1.0219 - val_loss: 1.7511\n",
      "Epoch 17/700\n",
      "51/51 [==============================] - 2s 31ms/step - loss: 1.1169 - val_loss: 2.0245\n",
      "Epoch 18/700\n",
      "51/51 [==============================] - ETA: 0s - loss: 1.0391\n",
      "Epoch 00018: ReduceLROnPlateau reducing learning rate to 9.999999747378752e-07.\n",
      "51/51 [==============================] - 1s 29ms/step - loss: 1.0391 - val_loss: 1.8818\n",
      "Epoch 19/700\n",
      "51/51 [==============================] - 1s 29ms/step - loss: 0.9537 - val_loss: 1.8990\n",
      "Epoch 20/700\n",
      "51/51 [==============================] - 1s 29ms/step - loss: 1.0095 - val_loss: 1.9242\n",
      "Epoch 21/700\n",
      "51/51 [==============================] - 1s 29ms/step - loss: 1.0062 - val_loss: 1.9925\n",
      "Epoch 22/700\n",
      "51/51 [==============================] - 1s 29ms/step - loss: 0.9714 - val_loss: 1.9469\n",
      "Epoch 23/700\n",
      "51/51 [==============================] - 2s 30ms/step - loss: 0.9785 - val_loss: 1.9359\n",
      "Epoch 24/700\n",
      "51/51 [==============================] - 2s 30ms/step - loss: 0.9334 - val_loss: 1.9614\n",
      "Epoch 25/700\n",
      "51/51 [==============================] - 1s 27ms/step - loss: 1.0480 - val_loss: 1.9801\n",
      "Epoch 26/700\n",
      "51/51 [==============================] - 1s 27ms/step - loss: 0.9854 - val_loss: 1.9398\n",
      "Epoch 27/700\n",
      "51/51 [==============================] - 1s 28ms/step - loss: 0.8870 - val_loss: 1.9377\n",
      "Epoch 28/700\n",
      "49/51 [===========================>..] - ETA: 0s - loss: 0.9548\n",
      "Epoch 00028: ReduceLROnPlateau reducing learning rate to 9.999999974752428e-08.\n",
      "51/51 [==============================] - 1s 27ms/step - loss: 0.9522 - val_loss: 1.9428\n",
      "Epoch 29/700\n",
      "51/51 [==============================] - 1s 26ms/step - loss: 0.9200 - val_loss: 1.9408\n",
      "Epoch 30/700\n",
      "51/51 [==============================] - 1s 27ms/step - loss: 0.9690 - val_loss: 1.9429\n",
      "Epoch 31/700\n",
      "51/51 [==============================] - 1s 27ms/step - loss: 0.8832 - val_loss: 1.9399\n",
      "Epoch 32/700\n",
      "51/51 [==============================] - 1s 26ms/step - loss: 1.0768 - val_loss: 1.9401\n",
      "Epoch 33/700\n",
      "51/51 [==============================] - 1s 27ms/step - loss: 0.9768 - val_loss: 1.9389\n",
      "Epoch 34/700\n",
      "51/51 [==============================] - 1s 27ms/step - loss: 0.9571 - val_loss: 1.9380\n",
      "Epoch 35/700\n",
      "51/51 [==============================] - 1s 27ms/step - loss: 1.0121 - val_loss: 1.9355\n",
      "Epoch 36/700\n",
      "51/51 [==============================] - 1s 27ms/step - loss: 0.9475 - val_loss: 1.9325\n",
      "Epoch 37/700\n",
      "51/51 [==============================] - 1s 27ms/step - loss: 1.0014 - val_loss: 1.9367\n",
      "Epoch 38/700\n",
      "50/51 [============================>.] - ETA: 0s - loss: 0.9563\n",
      "Epoch 00038: ReduceLROnPlateau reducing learning rate to 1.0000000116860975e-08.\n",
      "51/51 [==============================] - 1s 28ms/step - loss: 0.9628 - val_loss: 1.9358\n",
      "Epoch 39/700\n",
      "51/51 [==============================] - 1s 25ms/step - loss: 1.0517 - val_loss: 1.9358\n",
      "Epoch 40/700\n",
      "51/51 [==============================] - 1s 27ms/step - loss: 1.0188 - val_loss: 1.9357\n",
      "Epoch 41/700\n",
      "51/51 [==============================] - 1s 25ms/step - loss: 1.0129 - val_loss: 1.9353\n",
      "Epoch 42/700\n",
      "51/51 [==============================] - 1s 26ms/step - loss: 0.9800 - val_loss: 1.9358\n",
      "Epoch 43/700\n",
      "51/51 [==============================] - 1s 26ms/step - loss: 0.9755 - val_loss: 1.9359\n",
      "Epoch 44/700\n",
      "51/51 [==============================] - 1s 29ms/step - loss: 0.9447 - val_loss: 1.9360\n",
      "Epoch 45/700\n",
      "51/51 [==============================] - 1s 28ms/step - loss: 0.9258 - val_loss: 1.9360\n",
      "Epoch 46/700\n",
      "51/51 [==============================] - 1s 29ms/step - loss: 1.0237 - val_loss: 1.9357\n",
      "Epoch 47/700\n",
      "51/51 [==============================] - 1s 29ms/step - loss: 0.9540 - val_loss: 1.9356\n",
      "Epoch 48/700\n",
      "51/51 [==============================] - ETA: 0s - loss: 0.9304\n",
      "Epoch 00048: ReduceLROnPlateau reducing learning rate to 9.999999939225292e-10.\n",
      "51/51 [==============================] - 1s 28ms/step - loss: 0.9304 - val_loss: 1.9359\n",
      "Epoch 49/700\n",
      "51/51 [==============================] - 1s 28ms/step - loss: 1.0034 - val_loss: 1.9359\n",
      "Epoch 50/700\n",
      "51/51 [==============================] - 1s 28ms/step - loss: 0.9282 - val_loss: 1.9359\n",
      "Epoch 51/700\n",
      "51/51 [==============================] - 1s 28ms/step - loss: 0.9841 - val_loss: 1.9359\n",
      "Epoch 52/700\n",
      "51/51 [==============================] - 1s 28ms/step - loss: 0.9479 - val_loss: 1.9359\n",
      "Epoch 53/700\n",
      "51/51 [==============================] - 1s 28ms/step - loss: 0.9583 - val_loss: 1.9359\n",
      "Epoch 54/700\n",
      "51/51 [==============================] - 1s 29ms/step - loss: 0.9774 - val_loss: 1.9359\n",
      "Epoch 55/700\n",
      "51/51 [==============================] - 1s 29ms/step - loss: 1.0249 - val_loss: 1.9359\n",
      "Epoch 56/700\n",
      "51/51 [==============================] - 1s 29ms/step - loss: 0.9805 - val_loss: 1.9359\n",
      "Epoch 57/700\n",
      "51/51 [==============================] - 1s 29ms/step - loss: 1.0573 - val_loss: 1.9359\n",
      "Epoch 58/700\n",
      "50/51 [============================>.] - ETA: 0s - loss: 0.9619\n",
      "Epoch 00058: ReduceLROnPlateau reducing learning rate to 9.999999717180686e-11.\n",
      "51/51 [==============================] - 2s 30ms/step - loss: 0.9541 - val_loss: 1.9359\n",
      "Epoch 59/700\n",
      "51/51 [==============================] - 1s 28ms/step - loss: 1.0420 - val_loss: 1.9359\n",
      "Epoch 60/700\n",
      "51/51 [==============================] - 1s 28ms/step - loss: 1.0245 - val_loss: 1.9359\n",
      "Epoch 61/700\n",
      "51/51 [==============================] - 1s 29ms/step - loss: 1.0277 - val_loss: 1.9359\n",
      "Epoch 62/700\n",
      "51/51 [==============================] - 1s 28ms/step - loss: 0.9822 - val_loss: 1.9359\n",
      "Epoch 63/700\n",
      "51/51 [==============================] - 1s 28ms/step - loss: 0.9531 - val_loss: 1.9359\n",
      "Epoch 64/700\n",
      "51/51 [==============================] - 1s 27ms/step - loss: 0.9214 - val_loss: 1.9359\n",
      "Epoch 65/700\n",
      "51/51 [==============================] - 1s 27ms/step - loss: 0.9634 - val_loss: 1.9359\n",
      "Epoch 66/700\n",
      "51/51 [==============================] - 1s 26ms/step - loss: 1.0275 - val_loss: 1.9359\n",
      "Epoch 67/700\n",
      "51/51 [==============================] - 1s 26ms/step - loss: 0.9016 - val_loss: 1.9359\n",
      "Epoch 68/700\n",
      "51/51 [==============================] - ETA: 0s - loss: 1.0362\n",
      "Epoch 00068: ReduceLROnPlateau reducing learning rate to 9.99999943962493e-12.\n",
      "51/51 [==============================] - 1s 25ms/step - loss: 1.0362 - val_loss: 1.9359\n",
      "Epoch 69/700\n",
      "51/51 [==============================] - 1s 27ms/step - loss: 0.9665 - val_loss: 1.9359\n",
      "Epoch 70/700\n",
      "51/51 [==============================] - 1s 26ms/step - loss: 0.9686 - val_loss: 1.9359\n",
      "Epoch 71/700\n",
      "51/51 [==============================] - 1s 26ms/step - loss: 1.0894 - val_loss: 1.9359\n",
      "Epoch 72/700\n",
      "51/51 [==============================] - 1s 25ms/step - loss: 0.9186 - val_loss: 1.9359\n",
      "Epoch 73/700\n",
      "51/51 [==============================] - 1s 24ms/step - loss: 0.9483 - val_loss: 1.9359\n",
      "Epoch 74/700\n",
      "51/51 [==============================] - 1s 24ms/step - loss: 1.0249 - val_loss: 1.9359\n",
      "Epoch 75/700\n",
      "51/51 [==============================] - 1s 25ms/step - loss: 0.9666 - val_loss: 1.9359\n",
      "Epoch 76/700\n",
      "51/51 [==============================] - 1s 25ms/step - loss: 0.9338 - val_loss: 1.9359\n",
      "Epoch 77/700\n",
      "51/51 [==============================] - 1s 24ms/step - loss: 0.9590 - val_loss: 1.9359\n",
      "Epoch 78/700\n",
      "50/51 [============================>.] - ETA: 0s - loss: 1.0690\n",
      "Epoch 00078: ReduceLROnPlateau reducing learning rate to 9.999999092680235e-13.\n",
      "51/51 [==============================] - 1s 25ms/step - loss: 1.0628 - val_loss: 1.9359\n",
      "Epoch 79/700\n",
      "51/51 [==============================] - 1s 25ms/step - loss: 1.0203 - val_loss: 1.9359\n",
      "Epoch 80/700\n",
      "51/51 [==============================] - 1s 26ms/step - loss: 1.0079 - val_loss: 1.9359\n",
      "Epoch 81/700\n",
      "51/51 [==============================] - 1s 25ms/step - loss: 0.9870 - val_loss: 1.9359\n",
      "Epoch 82/700\n",
      "51/51 [==============================] - 1s 26ms/step - loss: 0.9795 - val_loss: 1.9359\n",
      "Epoch 83/700\n",
      "51/51 [==============================] - 1s 25ms/step - loss: 1.0367 - val_loss: 1.9359\n",
      "Epoch 84/700\n",
      "51/51 [==============================] - 1s 25ms/step - loss: 0.9003 - val_loss: 1.9359\n",
      "Epoch 85/700\n",
      "51/51 [==============================] - 1s 26ms/step - loss: 0.9765 - val_loss: 1.9359\n",
      "Epoch 86/700\n",
      "51/51 [==============================] - 1s 26ms/step - loss: 0.9534 - val_loss: 1.9359\n",
      "Epoch 87/700\n",
      "51/51 [==============================] - 1s 26ms/step - loss: 0.9284 - val_loss: 1.9359\n",
      "Epoch 88/700\n",
      "50/51 [============================>.] - ETA: 0s - loss: 1.0612\n",
      "Epoch 00088: ReduceLROnPlateau reducing learning rate to 9.9999988758398e-14.\n",
      "51/51 [==============================] - 1s 27ms/step - loss: 1.0599 - val_loss: 1.9359\n",
      "Epoch 89/700\n",
      "51/51 [==============================] - 1s 27ms/step - loss: 0.9809 - val_loss: 1.9359\n",
      "Epoch 90/700\n",
      "51/51 [==============================] - 1s 28ms/step - loss: 0.9923 - val_loss: 1.9359\n",
      "Epoch 91/700\n",
      "51/51 [==============================] - 1s 28ms/step - loss: 0.9296 - val_loss: 1.9359\n",
      "Epoch 92/700\n",
      "51/51 [==============================] - 1s 28ms/step - loss: 1.0323 - val_loss: 1.9359\n",
      "Epoch 93/700\n",
      "51/51 [==============================] - 1s 27ms/step - loss: 0.9834 - val_loss: 1.9359\n",
      "Epoch 94/700\n",
      "51/51 [==============================] - 1s 28ms/step - loss: 0.9515 - val_loss: 1.9359\n",
      "Epoch 95/700\n",
      "51/51 [==============================] - 1s 28ms/step - loss: 1.0305 - val_loss: 1.9359\n",
      "Epoch 96/700\n",
      "51/51 [==============================] - 1s 28ms/step - loss: 0.8943 - val_loss: 1.9359\n",
      "Epoch 97/700\n",
      "51/51 [==============================] - 1s 28ms/step - loss: 0.9318 - val_loss: 1.9359\n",
      "Epoch 98/700\n",
      "51/51 [==============================] - ETA: 0s - loss: 0.9079\n",
      "Epoch 00098: ReduceLROnPlateau reducing learning rate to 9.999999146890344e-15.\n",
      "51/51 [==============================] - 1s 29ms/step - loss: 0.9079 - val_loss: 1.9359\n",
      "Epoch 99/700\n",
      "51/51 [==============================] - 2s 30ms/step - loss: 0.9719 - val_loss: 1.9359\n",
      "Epoch 100/700\n",
      "51/51 [==============================] - 1s 29ms/step - loss: 0.9778 - val_loss: 1.9359\n",
      "Epoch 101/700\n",
      "51/51 [==============================] - 1s 28ms/step - loss: 1.0406 - val_loss: 1.9359\n",
      "Epoch 102/700\n",
      "51/51 [==============================] - 1s 28ms/step - loss: 0.9949 - val_loss: 1.9359\n",
      "Epoch 103/700\n",
      "51/51 [==============================] - 1s 29ms/step - loss: 1.0046 - val_loss: 1.9359\n",
      "Epoch 104/700\n",
      "51/51 [==============================] - 1s 28ms/step - loss: 1.0268 - val_loss: 1.9359\n",
      "Epoch 105/700\n",
      "51/51 [==============================] - 1s 28ms/step - loss: 0.9701 - val_loss: 1.9359\n",
      "Epoch 106/700\n",
      "51/51 [==============================] - 1s 27ms/step - loss: 0.9449 - val_loss: 1.9359\n",
      "Epoch 107/700\n",
      "51/51 [==============================] - 1s 27ms/step - loss: 0.9320 - val_loss: 1.9359\n",
      "Epoch 108/700\n",
      "49/51 [===========================>..] - ETA: 0s - loss: 0.9942\n",
      "Epoch 00108: ReduceLROnPlateau reducing learning rate to 9.999998977483753e-16.\n",
      "Restoring model weights from the end of the best epoch.\n",
      "51/51 [==============================] - 1s 25ms/step - loss: 0.9850 - val_loss: 1.9359\n",
      "Epoch 00108: early stopping\n"
     ]
    }
   ],
   "source": [
    "# History object for plotting our model loss by epoch\n",
    "history1 = model.fit(x_train1, y_train1, batch_size = 4, \n",
    "                    epochs = EPOCHS, validation_data = (x_val1, y_val1),\n",
    "                    callbacks = [rlrop1, early_stop1])"
   ]
  },
  {
   "cell_type": "code",
   "execution_count": 34,
   "metadata": {},
   "outputs": [
    {
     "data": {
      "image/png": "[encoded data removed]",
      "text/plain": [
       "<Figure size 720x504 with 1 Axes>"
      ]
     },
     "metadata": {
      "needs_background": "light"
     },
     "output_type": "display_data"
    }
   ],
   "source": [
    "# Loss History\n",
    "fig = plt.figure(figsize=(10, 7))\n",
    "plt.plot(history1.history['loss'])\n",
    "plt.plot(history1.history['val_loss'])\n",
    "plt.title('Model Loss')\n",
    "plt.ylabel('Loss')\n",
    "plt.xlabel('Epoch')\n",
    "plt.legend(['Train', 'Val'], loc='upper right')\n",
    "plt.show()"
   ]
  },
  {
   "cell_type": "markdown",
   "metadata": {},
   "source": [
    "### Previsão Multistep 12 meses em Validação\n",
    "Para ficar adequado à realidade, não podemos usar os dados de 2022 para prever 2022. Portanto, a previsão de 2022 será feita do moto *multistep*, isto é, o mês de janeiro/2022 será previsto usando-se os dados de arrecadação de janeiro a dezembro de 2021; o mês de fevereiro/2022 será previsto usando-se os dados de fevereiro a dezembro de 2021 mais a previsão feita para o mês de janeiro/2022; o mês de março/2022 será previsto usando-se os dados de março a dezembro de 2021 mais os meses de janeiro e fevereiro de 2022 previstos nos passos anteriores. E assim por diante, até que a previsão de dezembro/2022 será feita usando-se os dados de dezembro de 2021 mais as previsões de janeiro a novembro de 2022 feitas nos passos anteriores."
   ]
  },
  {
   "cell_type": "markdown",
   "metadata": {},
   "source": [
    "#### Remove os 12 últimos valores que serão previstos e cria as séries novamente"
   ]
  },
  {
   "cell_type": "code",
   "execution_count": 35,
   "metadata": {},
   "outputs": [
    {
     "name": "stdout",
     "output_type": "stream",
     "text": [
      "(240,)\n",
      "(216,)\n"
     ]
    }
   ],
   "source": [
    "# remove\n",
    "serie_multi1 = l_icms_ts[:-24]\n",
    "print(l_icms_ts.shape)\n",
    "print(serie_multi1.shape)"
   ]
  },
  {
   "cell_type": "code",
   "execution_count": 36,
   "metadata": {},
   "outputs": [
    {
     "name": "stdout",
     "output_type": "stream",
     "text": [
      "0 [[1.5949099e+10]]\n",
      "1 [[1.6294623e+10]]\n",
      "2 [[1.647906e+10]]\n",
      "3 [[1.669791e+10]]\n",
      "4 [[1.6836708e+10]]\n",
      "5 [[1.693116e+10]]\n",
      "6 [[1.7000701e+10]]\n",
      "7 [[1.7020332e+10]]\n",
      "8 [[1.7031632e+10]]\n",
      "9 [[1.7039301e+10]]\n",
      "10 [[1.7040048e+10]]\n",
      "11 [[1.7037447e+10]]\n"
     ]
    }
   ],
   "source": [
    "for i in range(12):\n",
    "    # cria as séries\n",
    "    X_multi1, Y_multi1 = cria_features_target(serie_multi1, verbose=0)\n",
    "\n",
    "    # Faz a normalização usando o modelo fitado na normalização anterior\n",
    "    X_multi_std1 = enc_x.transform(X_multi1)\n",
    "    X_multi_std1 = X_multi_std1.reshape(X_multi_std1.shape[0],10,1)\n",
    "\n",
    "    # Faz o janelamento das séries\n",
    "    x_multi1, y_multi1 = janelamento_1_mes(X_multi_std1, Y_multi1, verbose=0)\n",
    "\n",
    "    # Faz a predição da arrecadação do mês\n",
    "    #y_pred_multi = np.mean(model.predict(x_multi[-1:]), axis=1)#[:,0].ravel()\n",
    "    y_pred_multi1 = model.predict(x_multi1[-1:])#[:,0].ravel()\n",
    "    print(i, np.exp(y_pred_multi1))\n",
    "\n",
    "    #### Adicionar o valor previsto à série e fazer o novo janelamento\n",
    "    serie_multi1 = pd.Series(np.append(serie_multi1, y_pred_multi1))"
   ]
  },
  {
   "cell_type": "code",
   "execution_count": 37,
   "metadata": {},
   "outputs": [],
   "source": [
    "Y_pred_multi1 = np.exp(pd.Series(serie_multi1[-12:]))\n",
    "Y_pred_multi1.index = icms_val.index"
   ]
  },
  {
   "cell_type": "code",
   "execution_count": 38,
   "metadata": {},
   "outputs": [
    {
     "data": {
      "text/plain": [
       "date\n",
       "2021-01-01    1.594910e+10\n",
       "2021-02-01    1.629462e+10\n",
       "2021-03-01    1.647906e+10\n",
       "2021-04-01    1.669791e+10\n",
       "2021-05-01    1.683671e+10\n",
       "2021-06-01    1.693116e+10\n",
       "2021-07-01    1.700070e+10\n",
       "2021-08-01    1.702033e+10\n",
       "2021-09-01    1.703163e+10\n",
       "2021-10-01    1.703930e+10\n",
       "2021-11-01    1.704005e+10\n",
       "2021-12-01    1.703745e+10\n",
       "dtype: float64"
      ]
     },
     "execution_count": 38,
     "metadata": {},
     "output_type": "execute_result"
    }
   ],
   "source": [
    "Y_pred_multi1"
   ]
  },
  {
   "cell_type": "code",
   "execution_count": 39,
   "metadata": {},
   "outputs": [
    {
     "data": {
      "text/plain": [
       "1831322678.5981617"
      ]
     },
     "execution_count": 39,
     "metadata": {},
     "output_type": "execute_result"
    }
   ],
   "source": [
    "RMSE_lstm_multi1 = mean_squared_error(icms_val, Y_pred_multi1, squared=False)\n",
    "RMSE_lstm_multi1"
   ]
  },
  {
   "cell_type": "code",
   "execution_count": 40,
   "metadata": {},
   "outputs": [
    {
     "data": {
      "text/plain": [
       "0.10974761611244617"
      ]
     },
     "execution_count": 40,
     "metadata": {},
     "output_type": "execute_result"
    }
   ],
   "source": [
    "MAPE_lstm_multi1 = mean_absolute_percentage_error(icms_val, Y_pred_multi1)\n",
    "MAPE_lstm_multi1"
   ]
  },
  {
   "cell_type": "code",
   "execution_count": 41,
   "metadata": {},
   "outputs": [],
   "source": [
    "previsoes['nome'].append('RNN-LSTM-1-mês-larga')\n",
    "previsoes['modelo'].append(model)\n",
    "previsoes['previsoes'].append(Y_pred_multi1)\n",
    "\n",
    "previsoes['rmse'].append(RMSE_lstm_multi1)\n",
    "\n",
    "previsoes['mape'].append(MAPE_lstm_multi1)\n",
    "\n",
    "previsoes['erro relativo'].append([erro_relativo(prev,real) \n",
    "                                   for prev,real in zip(Y_pred_multi1\n",
    "                                                        , icms_val)])"
   ]
  },
  {
   "cell_type": "markdown",
   "metadata": {},
   "source": [
    "## Arquitetura da Rede - Arquitetura Multicamada"
   ]
  },
  {
   "cell_type": "code",
   "execution_count": 42,
   "metadata": {},
   "outputs": [],
   "source": [
    "rlrop3 = ReduceLROnPlateau(monitor='val_loss', factor=0.1, patience=25, verbose=1)\n",
    "early_stop3 = EarlyStopping(monitor='val_loss', patience=100, verbose=1, \n",
    "                           restore_best_weights=True)"
   ]
  },
  {
   "cell_type": "code",
   "execution_count": 43,
   "metadata": {},
   "outputs": [],
   "source": [
    "# Épocas e percentual de validação\n",
    "EPOCHS3 = 700\n",
    "\n",
    "# Imstanciação do modelo\n",
    "model3 = Sequential()\n",
    "\n",
    "# Adicionar camada LSTM \n",
    "model3.add(LSTM(activation='tanh', dropout=0.15,\n",
    "        input_shape = (10, 1), return_sequences = True,\n",
    "        units = 300))\n",
    "\n",
    "# Adicionar camada LSTM \n",
    "model3.add(LSTM(activation='tanh', dropout=0.15,\n",
    "        input_shape = (10, 1), return_sequences = False,\n",
    "        units = 300))\n",
    "\n",
    "\n",
    "# Adicionar a camada de saída com 1 neurônio linear\n",
    "model3.add(Dense(\n",
    "        units = 1,\n",
    "        activation = 'linear'))\n",
    "# a learning rate padrão do Adam é 0.001\n",
    "model3.compile(loss = 'mape', optimizer = Adam(learning_rate=1e-4))"
   ]
  },
  {
   "cell_type": "code",
   "execution_count": 44,
   "metadata": {},
   "outputs": [
    {
     "name": "stdout",
     "output_type": "stream",
     "text": [
      "Model: \"sequential_1\"\n",
      "_________________________________________________________________\n",
      "Layer (type)                 Output Shape              Param #   \n",
      "=================================================================\n",
      "lstm_1 (LSTM)                (None, 10, 300)           362400    \n",
      "_________________________________________________________________\n",
      "lstm_2 (LSTM)                (None, 300)               721200    \n",
      "_________________________________________________________________\n",
      "dense_1 (Dense)              (None, 1)                 301       \n",
      "=================================================================\n",
      "Total params: 1,083,901\n",
      "Trainable params: 1,083,901\n",
      "Non-trainable params: 0\n",
      "_________________________________________________________________\n"
     ]
    }
   ],
   "source": [
    "model3.summary()"
   ]
  },
  {
   "cell_type": "code",
   "execution_count": 45,
   "metadata": {
    "scrolled": true
   },
   "outputs": [
    {
     "name": "stdout",
     "output_type": "stream",
     "text": [
      "Epoch 1/700\n",
      "13/13 [==============================] - 1s 76ms/step - loss: 99.6440 - val_loss: 98.1224\n",
      "Epoch 2/700\n",
      "13/13 [==============================] - 0s 25ms/step - loss: 97.8223 - val_loss: 93.5657\n",
      "Epoch 3/700\n",
      "13/13 [==============================] - 0s 27ms/step - loss: 92.3559 - val_loss: 75.4085\n",
      "Epoch 4/700\n",
      "13/13 [==============================] - 0s 29ms/step - loss: 70.0827 - val_loss: 32.4815\n",
      "Epoch 5/700\n",
      "13/13 [==============================] - 0s 28ms/step - loss: 29.0255 - val_loss: 9.8745\n",
      "Epoch 6/700\n",
      "13/13 [==============================] - 0s 27ms/step - loss: 5.5998 - val_loss: 1.5635\n",
      "Epoch 7/700\n",
      "13/13 [==============================] - 0s 28ms/step - loss: 1.3620 - val_loss: 0.9885\n",
      "Epoch 8/700\n",
      "13/13 [==============================] - 0s 26ms/step - loss: 0.9849 - val_loss: 2.5666\n",
      "Epoch 9/700\n",
      "13/13 [==============================] - 0s 27ms/step - loss: 0.8972 - val_loss: 2.1669\n",
      "Epoch 10/700\n",
      "13/13 [==============================] - 0s 27ms/step - loss: 0.8059 - val_loss: 1.7880\n",
      "Epoch 11/700\n",
      "13/13 [==============================] - 0s 28ms/step - loss: 0.7867 - val_loss: 1.9101\n",
      "Epoch 12/700\n",
      "13/13 [==============================] - 0s 26ms/step - loss: 0.7213 - val_loss: 1.8066\n",
      "Epoch 13/700\n",
      "13/13 [==============================] - 0s 31ms/step - loss: 0.7649 - val_loss: 1.6980\n",
      "Epoch 14/700\n",
      "13/13 [==============================] - 0s 26ms/step - loss: 0.7122 - val_loss: 1.7804\n",
      "Epoch 15/700\n",
      "13/13 [==============================] - 0s 27ms/step - loss: 0.6858 - val_loss: 1.8443\n",
      "Epoch 16/700\n",
      "13/13 [==============================] - 0s 28ms/step - loss: 0.6788 - val_loss: 1.6219\n",
      "Epoch 17/700\n",
      "13/13 [==============================] - ETA: 0s - loss: 0.6946\n",
      "Epoch 00017: ReduceLROnPlateau reducing learning rate to 9.999999747378752e-06.\n",
      "13/13 [==============================] - 0s 27ms/step - loss: 0.6946 - val_loss: 1.8401\n",
      "Epoch 18/700\n",
      "13/13 [==============================] - 0s 27ms/step - loss: 0.6952 - val_loss: 1.7850\n",
      "Epoch 19/700\n",
      "13/13 [==============================] - 0s 27ms/step - loss: 0.6635 - val_loss: 1.6990\n",
      "Epoch 20/700\n",
      "13/13 [==============================] - 0s 28ms/step - loss: 0.6747 - val_loss: 1.6678\n",
      "Epoch 21/700\n",
      "13/13 [==============================] - 0s 28ms/step - loss: 0.6740 - val_loss: 1.6498\n",
      "Epoch 22/700\n",
      "13/13 [==============================] - 0s 27ms/step - loss: 0.6369 - val_loss: 1.6543\n",
      "Epoch 23/700\n",
      "13/13 [==============================] - 0s 27ms/step - loss: 0.6573 - val_loss: 1.6864\n",
      "Epoch 24/700\n",
      "13/13 [==============================] - 0s 28ms/step - loss: 0.6503 - val_loss: 1.6855\n",
      "Epoch 25/700\n",
      "13/13 [==============================] - 0s 28ms/step - loss: 0.6779 - val_loss: 1.6865\n",
      "Epoch 26/700\n",
      "13/13 [==============================] - 0s 27ms/step - loss: 0.6493 - val_loss: 1.6863\n",
      "Epoch 27/700\n",
      "13/13 [==============================] - ETA: 0s - loss: 0.6450\n",
      "Epoch 00027: ReduceLROnPlateau reducing learning rate to 9.999999747378752e-07.\n",
      "13/13 [==============================] - 0s 28ms/step - loss: 0.6450 - val_loss: 1.7051\n",
      "Epoch 28/700\n",
      "13/13 [==============================] - 0s 28ms/step - loss: 0.7066 - val_loss: 1.6974\n",
      "Epoch 29/700\n",
      "13/13 [==============================] - 0s 28ms/step - loss: 0.6285 - val_loss: 1.6887\n",
      "Epoch 30/700\n",
      "13/13 [==============================] - 0s 28ms/step - loss: 0.6582 - val_loss: 1.6827\n",
      "Epoch 31/700\n",
      "13/13 [==============================] - 0s 29ms/step - loss: 0.6192 - val_loss: 1.6834\n",
      "Epoch 32/700\n",
      "13/13 [==============================] - 0s 27ms/step - loss: 0.6459 - val_loss: 1.6824\n",
      "Epoch 33/700\n",
      "13/13 [==============================] - 0s 28ms/step - loss: 0.6281 - val_loss: 1.6840\n",
      "Epoch 34/700\n",
      "13/13 [==============================] - 0s 28ms/step - loss: 0.6567 - val_loss: 1.6819\n",
      "Epoch 35/700\n",
      "13/13 [==============================] - 0s 27ms/step - loss: 0.7046 - val_loss: 1.6823\n",
      "Epoch 36/700\n",
      "13/13 [==============================] - 0s 28ms/step - loss: 0.6477 - val_loss: 1.6821\n",
      "Epoch 37/700\n",
      "13/13 [==============================] - ETA: 0s - loss: 0.6259\n",
      "Epoch 00037: ReduceLROnPlateau reducing learning rate to 9.999999974752428e-08.\n",
      "13/13 [==============================] - 0s 28ms/step - loss: 0.6259 - val_loss: 1.6785\n",
      "Epoch 38/700\n",
      "13/13 [==============================] - 0s 28ms/step - loss: 0.6643 - val_loss: 1.6783\n",
      "Epoch 39/700\n",
      "13/13 [==============================] - 0s 29ms/step - loss: 0.6416 - val_loss: 1.6783\n",
      "Epoch 40/700\n",
      "13/13 [==============================] - 0s 29ms/step - loss: 0.6226 - val_loss: 1.6785\n",
      "Epoch 41/700\n",
      "13/13 [==============================] - 0s 29ms/step - loss: 0.6627 - val_loss: 1.6783\n",
      "Epoch 42/700\n",
      "13/13 [==============================] - 0s 29ms/step - loss: 0.6504 - val_loss: 1.6782\n",
      "Epoch 43/700\n",
      "13/13 [==============================] - 0s 29ms/step - loss: 0.6531 - val_loss: 1.6775\n",
      "Epoch 44/700\n",
      "13/13 [==============================] - 0s 29ms/step - loss: 0.6170 - val_loss: 1.6771\n",
      "Epoch 45/700\n",
      "13/13 [==============================] - 0s 29ms/step - loss: 0.6039 - val_loss: 1.6767\n",
      "Epoch 46/700\n",
      "13/13 [==============================] - 0s 29ms/step - loss: 0.6533 - val_loss: 1.6765\n",
      "Epoch 47/700\n",
      "13/13 [==============================] - ETA: 0s - loss: 0.6387\n",
      "Epoch 00047: ReduceLROnPlateau reducing learning rate to 1.0000000116860975e-08.\n",
      "13/13 [==============================] - 0s 29ms/step - loss: 0.6387 - val_loss: 1.6762\n",
      "Epoch 48/700\n",
      "13/13 [==============================] - 0s 28ms/step - loss: 0.6598 - val_loss: 1.6762\n",
      "Epoch 49/700\n",
      "13/13 [==============================] - 0s 30ms/step - loss: 0.6887 - val_loss: 1.6762\n",
      "Epoch 50/700\n",
      "13/13 [==============================] - 0s 30ms/step - loss: 0.6592 - val_loss: 1.6762\n",
      "Epoch 51/700\n",
      "13/13 [==============================] - 0s 32ms/step - loss: 0.6649 - val_loss: 1.6762\n",
      "Epoch 52/700\n",
      "13/13 [==============================] - 0s 30ms/step - loss: 0.6694 - val_loss: 1.6762\n",
      "Epoch 53/700\n",
      "13/13 [==============================] - 0s 30ms/step - loss: 0.6647 - val_loss: 1.6762\n",
      "Epoch 54/700\n",
      "13/13 [==============================] - 0s 33ms/step - loss: 0.6531 - val_loss: 1.6762\n",
      "Epoch 55/700\n",
      "13/13 [==============================] - 0s 29ms/step - loss: 0.6213 - val_loss: 1.6762\n",
      "Epoch 56/700\n",
      "13/13 [==============================] - 0s 29ms/step - loss: 0.6982 - val_loss: 1.6762\n",
      "Epoch 57/700\n",
      "13/13 [==============================] - ETA: 0s - loss: 0.6468\n",
      "Epoch 00057: ReduceLROnPlateau reducing learning rate to 9.999999939225292e-10.\n",
      "13/13 [==============================] - 0s 28ms/step - loss: 0.6468 - val_loss: 1.6763\n",
      "Epoch 58/700\n",
      "13/13 [==============================] - 0s 29ms/step - loss: 0.6295 - val_loss: 1.6763\n",
      "Epoch 59/700\n",
      "13/13 [==============================] - 0s 28ms/step - loss: 0.6515 - val_loss: 1.6763\n",
      "Epoch 60/700\n",
      "13/13 [==============================] - 0s 29ms/step - loss: 0.6280 - val_loss: 1.6763\n",
      "Epoch 61/700\n",
      "13/13 [==============================] - 0s 29ms/step - loss: 0.6367 - val_loss: 1.6763\n",
      "Epoch 62/700\n",
      "13/13 [==============================] - 0s 29ms/step - loss: 0.6643 - val_loss: 1.6763\n",
      "Epoch 63/700\n",
      "13/13 [==============================] - 0s 29ms/step - loss: 0.6920 - val_loss: 1.6763\n",
      "Epoch 64/700\n",
      "13/13 [==============================] - 0s 28ms/step - loss: 0.6556 - val_loss: 1.6763\n",
      "Epoch 65/700\n",
      "13/13 [==============================] - 0s 27ms/step - loss: 0.6750 - val_loss: 1.6763\n",
      "Epoch 66/700\n",
      "13/13 [==============================] - 0s 28ms/step - loss: 0.6385 - val_loss: 1.6763\n",
      "Epoch 67/700\n",
      "13/13 [==============================] - ETA: 0s - loss: 0.6556\n",
      "Epoch 00067: ReduceLROnPlateau reducing learning rate to 9.999999717180686e-11.\n",
      "13/13 [==============================] - 0s 28ms/step - loss: 0.6556 - val_loss: 1.6763\n",
      "Epoch 68/700\n",
      "13/13 [==============================] - 0s 28ms/step - loss: 0.6371 - val_loss: 1.6763\n",
      "Epoch 69/700\n",
      "13/13 [==============================] - 0s 27ms/step - loss: 0.6632 - val_loss: 1.6763\n",
      "Epoch 70/700\n",
      "13/13 [==============================] - 0s 27ms/step - loss: 0.6412 - val_loss: 1.6763\n",
      "Epoch 71/700\n",
      "13/13 [==============================] - 0s 31ms/step - loss: 0.6163 - val_loss: 1.6763\n",
      "Epoch 72/700\n",
      "13/13 [==============================] - 0s 27ms/step - loss: 0.6548 - val_loss: 1.6763\n",
      "Epoch 73/700\n",
      "13/13 [==============================] - 0s 27ms/step - loss: 0.6691 - val_loss: 1.6763\n",
      "Epoch 74/700\n",
      "13/13 [==============================] - 0s 27ms/step - loss: 0.6402 - val_loss: 1.6763\n",
      "Epoch 75/700\n",
      "13/13 [==============================] - 0s 26ms/step - loss: 0.6510 - val_loss: 1.6763\n",
      "Epoch 76/700\n",
      "13/13 [==============================] - 0s 27ms/step - loss: 0.6537 - val_loss: 1.6763\n",
      "Epoch 77/700\n",
      "13/13 [==============================] - ETA: 0s - loss: 0.6584\n",
      "Epoch 00077: ReduceLROnPlateau reducing learning rate to 9.99999943962493e-12.\n",
      "13/13 [==============================] - 0s 29ms/step - loss: 0.6584 - val_loss: 1.6763\n",
      "Epoch 78/700\n",
      "13/13 [==============================] - 0s 28ms/step - loss: 0.6441 - val_loss: 1.6763\n",
      "Epoch 79/700\n",
      "13/13 [==============================] - 0s 28ms/step - loss: 0.6392 - val_loss: 1.6763\n",
      "Epoch 80/700\n",
      "13/13 [==============================] - 0s 28ms/step - loss: 0.6381 - val_loss: 1.6763\n",
      "Epoch 81/700\n",
      "13/13 [==============================] - 0s 29ms/step - loss: 0.6690 - val_loss: 1.6763\n",
      "Epoch 82/700\n",
      "13/13 [==============================] - 0s 28ms/step - loss: 0.6645 - val_loss: 1.6763\n",
      "Epoch 83/700\n",
      "13/13 [==============================] - 0s 28ms/step - loss: 0.6436 - val_loss: 1.6763\n",
      "Epoch 84/700\n",
      "13/13 [==============================] - 0s 28ms/step - loss: 0.6397 - val_loss: 1.6763\n",
      "Epoch 85/700\n",
      "13/13 [==============================] - 0s 28ms/step - loss: 0.6647 - val_loss: 1.6763\n",
      "Epoch 86/700\n",
      "13/13 [==============================] - 0s 28ms/step - loss: 0.6556 - val_loss: 1.6763\n",
      "Epoch 87/700\n",
      "13/13 [==============================] - ETA: 0s - loss: 0.6348\n",
      "Epoch 00087: ReduceLROnPlateau reducing learning rate to 9.999999092680235e-13.\n",
      "13/13 [==============================] - 0s 27ms/step - loss: 0.6348 - val_loss: 1.6763\n",
      "Epoch 88/700\n",
      "13/13 [==============================] - 0s 28ms/step - loss: 0.7009 - val_loss: 1.6763\n",
      "Epoch 89/700\n",
      "13/13 [==============================] - 0s 27ms/step - loss: 0.6375 - val_loss: 1.6763\n",
      "Epoch 90/700\n",
      "13/13 [==============================] - 0s 27ms/step - loss: 0.6268 - val_loss: 1.6763\n",
      "Epoch 91/700\n",
      "13/13 [==============================] - 0s 27ms/step - loss: 0.6570 - val_loss: 1.6763\n",
      "Epoch 92/700\n",
      "13/13 [==============================] - 0s 27ms/step - loss: 0.6647 - val_loss: 1.6763\n",
      "Epoch 93/700\n",
      "13/13 [==============================] - 0s 26ms/step - loss: 0.6252 - val_loss: 1.6763\n",
      "Epoch 94/700\n",
      "13/13 [==============================] - 0s 27ms/step - loss: 0.6306 - val_loss: 1.6763\n",
      "Epoch 95/700\n",
      "13/13 [==============================] - 0s 27ms/step - loss: 0.6481 - val_loss: 1.6763\n",
      "Epoch 96/700\n",
      "13/13 [==============================] - 0s 28ms/step - loss: 0.6712 - val_loss: 1.6763\n",
      "Epoch 97/700\n",
      "13/13 [==============================] - ETA: 0s - loss: 0.6378\n",
      "Epoch 00097: ReduceLROnPlateau reducing learning rate to 9.9999988758398e-14.\n",
      "13/13 [==============================] - 0s 28ms/step - loss: 0.6378 - val_loss: 1.6763\n",
      "Epoch 98/700\n",
      "13/13 [==============================] - 0s 28ms/step - loss: 0.6531 - val_loss: 1.6763\n",
      "Epoch 99/700\n",
      "13/13 [==============================] - 0s 28ms/step - loss: 0.6246 - val_loss: 1.6763\n",
      "Epoch 100/700\n",
      "13/13 [==============================] - 0s 28ms/step - loss: 0.6876 - val_loss: 1.6763\n",
      "Epoch 101/700\n",
      "13/13 [==============================] - 0s 29ms/step - loss: 0.6884 - val_loss: 1.6763\n",
      "Epoch 102/700\n",
      "13/13 [==============================] - 0s 28ms/step - loss: 0.6471 - val_loss: 1.6763\n",
      "Epoch 103/700\n",
      "13/13 [==============================] - 0s 30ms/step - loss: 0.6136 - val_loss: 1.6763\n",
      "Epoch 104/700\n",
      "13/13 [==============================] - 0s 29ms/step - loss: 0.6697 - val_loss: 1.6763\n",
      "Epoch 105/700\n",
      "13/13 [==============================] - 0s 28ms/step - loss: 0.6396 - val_loss: 1.6763\n",
      "Epoch 106/700\n",
      "13/13 [==============================] - 0s 27ms/step - loss: 0.6028 - val_loss: 1.6763\n",
      "Epoch 107/700\n",
      "13/13 [==============================] - ETA: 0s - loss: 0.6515\n",
      "Epoch 00107: ReduceLROnPlateau reducing learning rate to 9.999999146890344e-15.\n",
      "Restoring model weights from the end of the best epoch.\n",
      "13/13 [==============================] - 0s 28ms/step - loss: 0.6515 - val_loss: 1.6763\n",
      "Epoch 00107: early stopping\n"
     ]
    }
   ],
   "source": [
    "# History object for plotting our model loss by epoch\n",
    "history3 = model3.fit(x_train1, y_train1, batch_size = 16, \n",
    "                    epochs = EPOCHS, validation_data = (x_val1, y_val1),\n",
    "                    callbacks = [rlrop1, early_stop1])"
   ]
  },
  {
   "cell_type": "code",
   "execution_count": 46,
   "metadata": {},
   "outputs": [
    {
     "data": {
      "image/png": "[encoded data removed]",
      "text/plain": [
       "<Figure size 720x504 with 1 Axes>"
      ]
     },
     "metadata": {
      "needs_background": "light"
     },
     "output_type": "display_data"
    }
   ],
   "source": [
    "# Loss History\n",
    "fig = plt.figure(figsize=(10, 7))\n",
    "plt.plot(history3.history['loss'])\n",
    "plt.plot(history3.history['val_loss'])\n",
    "plt.title('Model Loss')\n",
    "plt.ylabel('Loss')\n",
    "plt.xlabel('Epoch')\n",
    "plt.legend(['Train', 'Val'], loc='upper right')\n",
    "plt.show()"
   ]
  },
  {
   "cell_type": "markdown",
   "metadata": {},
   "source": [
    "### Previsão Multistep 12 meses em Validação\n",
    "Para ficar adequado à realidade, não podemos usar os dados de 2022 para prever 2022. Portanto, a previsão de 2022 será feita do moto *multistep*, isto é, o mês de janeiro/2022 será previsto usando-se os dados de arrecadação de janeiro a dezembro de 2021; o mês de fevereiro/2022 será previsto usando-se os dados de fevereiro a dezembro de 2021 mais a previsão feita para o mês de janeiro/2022; o mês de março/2022 será previsto usando-se os dados de março a dezembro de 2021 mais os meses de janeiro e fevereiro de 2022 previstos nos passos anteriores. E assim por diante, até que a previsão de dezembro/2022 será feita usando-se os dados de dezembro de 2021 mais as previsões de janeiro a novembro de 2022 feitas nos passos anteriores."
   ]
  },
  {
   "cell_type": "markdown",
   "metadata": {},
   "source": [
    "#### Remove os 12 últimos valores que serão previstos e cria as séries novamente"
   ]
  },
  {
   "cell_type": "code",
   "execution_count": 47,
   "metadata": {},
   "outputs": [
    {
     "name": "stdout",
     "output_type": "stream",
     "text": [
      "(240,)\n",
      "(228,)\n"
     ]
    }
   ],
   "source": [
    "# remove\n",
    "serie_multi12 = l_icms_ts[:-24]\n",
    "print(l_icms_ts.shape)\n",
    "print(serie_multi1.shape)"
   ]
  },
  {
   "cell_type": "code",
   "execution_count": 48,
   "metadata": {},
   "outputs": [
    {
     "name": "stdout",
     "output_type": "stream",
     "text": [
      "0 [[1.2151244e+10]]\n",
      "1 [[1.2181155e+10]]\n",
      "2 [[1.2197895e+10]]\n",
      "3 [[1.2176626e+10]]\n",
      "4 [[1.2159821e+10]]\n",
      "5 [[1.2142857e+10]]\n",
      "6 [[1.213038e+10]]\n",
      "7 [[1.213251e+10]]\n",
      "8 [[1.2127396e+10]]\n",
      "9 [[1.212839e+10]]\n",
      "10 [[1.2129339e+10]]\n",
      "11 [[1.2130126e+10]]\n"
     ]
    }
   ],
   "source": [
    "for i in range(12):\n",
    "    # cria as séries\n",
    "    X_multi12, Y_multi12 = cria_features_target(serie_multi12, verbose=0)\n",
    "\n",
    "    # Faz a normalização usando o modelo fitado na normalização anterior\n",
    "    X_multi_std12 = enc_x.transform(X_multi12)\n",
    "    X_multi_std12 = X_multi_std12.reshape(X_multi_std12.shape[0],10,1)\n",
    "\n",
    "    # Faz o janelamento das séries\n",
    "    x_multi12, y_multi12 = janelamento_1_mes(X_multi_std12, Y_multi12, verbose=0)\n",
    "\n",
    "    # Faz a predição da arrecadação do mês\n",
    "    #y_pred_multi = np.mean(model.predict(x_multi[-1:]), axis=1)#[:,0].ravel()\n",
    "    y_pred_multi12 = model3.predict(x_multi12[-1:])#[:,0].ravel()\n",
    "    print(i, np.exp(y_pred_multi12))\n",
    "\n",
    "    #### Adicionar o valor previsto à série e fazer o novo janelamento\n",
    "    serie_multi12 = pd.Series(np.append(serie_multi12, y_pred_multi12))"
   ]
  },
  {
   "cell_type": "code",
   "execution_count": 49,
   "metadata": {},
   "outputs": [],
   "source": [
    "Y_pred_multi12 = np.exp(pd.Series(serie_multi12[-12:]))\n",
    "Y_pred_multi12.index = icms_val.index"
   ]
  },
  {
   "cell_type": "code",
   "execution_count": 50,
   "metadata": {},
   "outputs": [
    {
     "data": {
      "text/plain": [
       "date\n",
       "2021-01-01    1.215124e+10\n",
       "2021-02-01    1.218116e+10\n",
       "2021-03-01    1.219790e+10\n",
       "2021-04-01    1.217663e+10\n",
       "2021-05-01    1.215982e+10\n",
       "2021-06-01    1.214286e+10\n",
       "2021-07-01    1.213038e+10\n",
       "2021-08-01    1.213251e+10\n",
       "2021-09-01    1.212740e+10\n",
       "2021-10-01    1.212839e+10\n",
       "2021-11-01    1.212934e+10\n",
       "2021-12-01    1.213013e+10\n",
       "dtype: float64"
      ]
     },
     "execution_count": 50,
     "metadata": {},
     "output_type": "execute_result"
    }
   ],
   "source": [
    "Y_pred_multi12"
   ]
  },
  {
   "cell_type": "code",
   "execution_count": 51,
   "metadata": {},
   "outputs": [
    {
     "data": {
      "text/plain": [
       "3640152273.301945"
      ]
     },
     "execution_count": 51,
     "metadata": {},
     "output_type": "execute_result"
    }
   ],
   "source": [
    "RMSE_lstm_multi12 = mean_squared_error(icms_val, Y_pred_multi12, squared=False)\n",
    "RMSE_lstm_multi12"
   ]
  },
  {
   "cell_type": "code",
   "execution_count": 52,
   "metadata": {},
   "outputs": [
    {
     "data": {
      "text/plain": [
       "0.2074872831447729"
      ]
     },
     "execution_count": 52,
     "metadata": {},
     "output_type": "execute_result"
    }
   ],
   "source": [
    "MAPE_lstm_multi12 = mean_absolute_percentage_error(icms_val, Y_pred_multi12)\n",
    "MAPE_lstm_multi12"
   ]
  },
  {
   "cell_type": "code",
   "execution_count": 53,
   "metadata": {},
   "outputs": [],
   "source": [
    "previsoes['nome'].append('RNN-LSTM-1-mês-camadas')\n",
    "previsoes['modelo'].append(model3)\n",
    "previsoes['previsoes'].append(Y_pred_multi12)\n",
    "\n",
    "previsoes['rmse'].append(RMSE_lstm_multi12)\n",
    "\n",
    "previsoes['mape'].append(MAPE_lstm_multi12)\n",
    "\n",
    "previsoes['erro relativo'].append([erro_relativo(prev,real) \n",
    "                                   for prev,real in zip(Y_pred_multi12\n",
    "                                                        , icms_val)])"
   ]
  },
  {
   "cell_type": "markdown",
   "metadata": {},
   "source": [
    "# Modelo 12 meses"
   ]
  },
  {
   "cell_type": "markdown",
   "metadata": {},
   "source": [
    "#### Criando as janelas de 12 meses e reshape para LSTM. A arrecadação de cada mês será prevista pela arrecadação dos 12 meses anteriores."
   ]
  },
  {
   "cell_type": "markdown",
   "metadata": {},
   "source": [
    "##### Unindo novamente os dados."
   ]
  },
  {
   "cell_type": "code",
   "execution_count": 54,
   "metadata": {},
   "outputs": [],
   "source": [
    "def janelamento_12_meses(X, Y, verbose=0):\n",
    "    X_exp = np.concatenate((np.roll(X, 12, axis=0),\n",
    "                            np.roll(X, 11, axis=0),\n",
    "                            np.roll(X, 10, axis=0),\n",
    "                            np.roll(X, 9, axis=0),\n",
    "                            np.roll(X, 8, axis=0),\n",
    "                            np.roll(X, 7, axis=0),\n",
    "                            np.roll(X, 6, axis=0),\n",
    "                            np.roll(X, 5, axis=0),\n",
    "                            np.roll(X, 4, axis=0),\n",
    "                            np.roll(X, 3, axis=0),\n",
    "                            np.roll(X, 2, axis=0),\n",
    "                            np.roll(X, 1, axis=0),\n",
    "                            ), axis=2)\n",
    "    X_exp_cut = X_exp[12:,:,:].transpose(0,2,1)\n",
    "    Y_cut = Y[12:]\n",
    "    if verbose==1:\n",
    "        print('shape das features janeladas:', X_exp.shape)\n",
    "        print('shape das features janeladas pós poda e transposição:', X_exp_cut.shape)\n",
    "        print('shape do array target pós poda:', Y_cut.shape)\n",
    "    return X_exp_cut, Y_cut"
   ]
  },
  {
   "cell_type": "code",
   "execution_count": 55,
   "metadata": {},
   "outputs": [],
   "source": [
    "X_data_exp_cut12, Y_data_cut12 = janelamento_12_meses(X_data_jn, Y_data, verbose=0)"
   ]
  },
  {
   "cell_type": "code",
   "execution_count": 56,
   "metadata": {},
   "outputs": [],
   "source": [
    "#Y_data_cut[0]"
   ]
  },
  {
   "cell_type": "code",
   "execution_count": 57,
   "metadata": {},
   "outputs": [],
   "source": [
    "#X_data_exp_cut[0]"
   ]
  },
  {
   "cell_type": "code",
   "execution_count": 58,
   "metadata": {},
   "outputs": [],
   "source": [
    "#Y_data_cut[Y_data_cut.shape[0]-1]"
   ]
  },
  {
   "cell_type": "code",
   "execution_count": 59,
   "metadata": {},
   "outputs": [],
   "source": [
    "#X_data_exp_cut[Y_data_cut.shape[0]-1]"
   ]
  },
  {
   "cell_type": "markdown",
   "metadata": {},
   "source": [
    "#### Separando novamente em treino, validação e teste"
   ]
  },
  {
   "cell_type": "code",
   "execution_count": 60,
   "metadata": {},
   "outputs": [
    {
     "name": "stdout",
     "output_type": "stream",
     "text": [
      "(192, 12, 10) (12, 12, 10) (12, 12, 10)\n",
      "(192,) (12,) (12,)\n"
     ]
    }
   ],
   "source": [
    "x_train12 = X_data_exp_cut12[:-24]\n",
    "x_val12 = X_data_exp_cut12[-24:-12]\n",
    "x_test12 = X_data_exp_cut12[-12:]\n",
    "print(x_train12.shape, x_val12.shape, x_test12.shape)\n",
    "y_train12 = Y_data_cut12[:-24]\n",
    "y_val12 = Y_data_cut12[-24:-12]\n",
    "y_test12 = np.exp(Y_data_cut12[-12:]) # tirar o log para ficar o valor real\n",
    "print(y_train12.shape, y_val12.shape, y_test12.shape)"
   ]
  },
  {
   "cell_type": "markdown",
   "metadata": {},
   "source": [
    "### Criando o modelo LSTM"
   ]
  },
  {
   "cell_type": "markdown",
   "metadata": {},
   "source": [
    "## Arquitetura da Rede - Arquitetura Larga"
   ]
  },
  {
   "cell_type": "code",
   "execution_count": 61,
   "metadata": {},
   "outputs": [],
   "source": [
    "rlrop2 = ReduceLROnPlateau(monitor='val_loss', factor=0.1, patience=10, verbose=1)\n",
    "early_stop2 = EarlyStopping(monitor='val_loss', patience=100, verbose=1, \n",
    "                           restore_best_weights=True)"
   ]
  },
  {
   "cell_type": "code",
   "execution_count": 62,
   "metadata": {},
   "outputs": [],
   "source": [
    "# Épocas e percentual de validação\n",
    "EPOCHS2 = 700\n",
    "\n",
    "# Imstanciação do modelo\n",
    "model2 = Sequential()\n",
    "\n",
    "# Adicionar camada LSTM \n",
    "model2.add(LSTM(activation='tanh', dropout=0.25,\n",
    "        input_shape = (12, 10), return_sequences = False,\n",
    "        units = 600))\n",
    "\n",
    "# Adicionar a camada de saída com 1 neurônio linear\n",
    "model2.add(Dense(\n",
    "        units = 1,\n",
    "        activation = 'linear'))\n",
    "# a learning rate padrão do Adam é 0.001\n",
    "model2.compile(loss = 'mape', optimizer = Adam(learning_rate=1e-5))"
   ]
  },
  {
   "cell_type": "code",
   "execution_count": 63,
   "metadata": {},
   "outputs": [
    {
     "name": "stdout",
     "output_type": "stream",
     "text": [
      "Model: \"sequential_2\"\n",
      "_________________________________________________________________\n",
      "Layer (type)                 Output Shape              Param #   \n",
      "=================================================================\n",
      "lstm_3 (LSTM)                (None, 600)               1466400   \n",
      "_________________________________________________________________\n",
      "dense_2 (Dense)              (None, 1)                 601       \n",
      "=================================================================\n",
      "Total params: 1,467,001\n",
      "Trainable params: 1,467,001\n",
      "Non-trainable params: 0\n",
      "_________________________________________________________________\n"
     ]
    }
   ],
   "source": [
    "model2.summary()"
   ]
  },
  {
   "cell_type": "code",
   "execution_count": 64,
   "metadata": {
    "scrolled": true
   },
   "outputs": [
    {
     "name": "stdout",
     "output_type": "stream",
     "text": [
      "Epoch 1/700\n",
      "48/48 [==============================] - 2s 36ms/step - loss: 99.4873 - val_loss: 97.6153\n",
      "Epoch 2/700\n",
      "48/48 [==============================] - 1s 28ms/step - loss: 97.2799 - val_loss: 93.3537\n",
      "Epoch 3/700\n",
      "48/48 [==============================] - 1s 30ms/step - loss: 93.2115 - val_loss: 83.2717\n",
      "Epoch 4/700\n",
      "48/48 [==============================] - 1s 30ms/step - loss: 80.9212 - val_loss: 51.5310\n",
      "Epoch 5/700\n",
      "48/48 [==============================] - 1s 30ms/step - loss: 48.9285 - val_loss: 16.6971\n",
      "Epoch 6/700\n",
      "48/48 [==============================] - 1s 31ms/step - loss: 18.3538 - val_loss: 0.3713\n",
      "Epoch 7/700\n",
      "48/48 [==============================] - 2s 31ms/step - loss: 7.2160 - val_loss: 1.1068\n",
      "Epoch 8/700\n",
      "48/48 [==============================] - 2s 32ms/step - loss: 4.5489 - val_loss: 1.2433\n",
      "Epoch 9/700\n",
      "48/48 [==============================] - 2s 31ms/step - loss: 2.8802 - val_loss: 1.7536\n",
      "Epoch 10/700\n",
      "48/48 [==============================] - 2s 33ms/step - loss: 2.1550 - val_loss: 1.9402\n",
      "Epoch 11/700\n",
      "48/48 [==============================] - 2s 32ms/step - loss: 1.7451 - val_loss: 1.6965\n",
      "Epoch 12/700\n",
      "48/48 [==============================] - 1s 31ms/step - loss: 1.4685 - val_loss: 2.1247\n",
      "Epoch 13/700\n",
      "48/48 [==============================] - 1s 31ms/step - loss: 1.4238 - val_loss: 2.1488\n",
      "Epoch 14/700\n",
      "48/48 [==============================] - 1s 30ms/step - loss: 1.2347 - val_loss: 1.8313\n",
      "Epoch 15/700\n",
      "48/48 [==============================] - 1s 29ms/step - loss: 1.1332 - val_loss: 1.8681\n",
      "Epoch 16/700\n",
      "47/48 [============================>.] - ETA: 0s - loss: 1.1401\n",
      "Epoch 00016: ReduceLROnPlateau reducing learning rate to 9.999999747378752e-07.\n",
      "48/48 [==============================] - 1s 28ms/step - loss: 1.1240 - val_loss: 1.7599\n",
      "Epoch 17/700\n",
      "48/48 [==============================] - 1s 28ms/step - loss: 1.0422 - val_loss: 1.8654\n",
      "Epoch 18/700\n",
      "48/48 [==============================] - 1s 29ms/step - loss: 1.0376 - val_loss: 1.8654\n",
      "Epoch 19/700\n",
      "48/48 [==============================] - 1s 29ms/step - loss: 1.0595 - val_loss: 1.8551\n",
      "Epoch 20/700\n",
      "48/48 [==============================] - 1s 28ms/step - loss: 1.0020 - val_loss: 1.9163\n",
      "Epoch 21/700\n",
      "48/48 [==============================] - 2s 31ms/step - loss: 1.0112 - val_loss: 1.8927\n",
      "Epoch 22/700\n",
      "48/48 [==============================] - 1s 30ms/step - loss: 1.0105 - val_loss: 1.9082\n",
      "Epoch 23/700\n",
      "48/48 [==============================] - 1s 29ms/step - loss: 1.0016 - val_loss: 1.8754\n",
      "Epoch 24/700\n",
      "48/48 [==============================] - 1s 28ms/step - loss: 0.9942 - val_loss: 1.8377\n",
      "Epoch 25/700\n",
      "48/48 [==============================] - 1s 28ms/step - loss: 1.0069 - val_loss: 1.8781\n",
      "Epoch 26/700\n",
      "47/48 [============================>.] - ETA: 0s - loss: 1.0073\n",
      "Epoch 00026: ReduceLROnPlateau reducing learning rate to 9.999999974752428e-08.\n",
      "48/48 [==============================] - 1s 29ms/step - loss: 0.9999 - val_loss: 1.8575\n",
      "Epoch 27/700\n",
      "48/48 [==============================] - 1s 29ms/step - loss: 0.9970 - val_loss: 1.8552\n",
      "Epoch 28/700\n",
      "48/48 [==============================] - 1s 29ms/step - loss: 0.9952 - val_loss: 1.8576\n",
      "Epoch 29/700\n",
      "48/48 [==============================] - 1s 29ms/step - loss: 0.9991 - val_loss: 1.8623\n",
      "Epoch 30/700\n",
      "48/48 [==============================] - 1s 30ms/step - loss: 0.9693 - val_loss: 1.8693\n",
      "Epoch 31/700\n",
      "48/48 [==============================] - 1s 30ms/step - loss: 1.0037 - val_loss: 1.8695\n",
      "Epoch 32/700\n",
      "48/48 [==============================] - 2s 31ms/step - loss: 1.0219 - val_loss: 1.8700\n",
      "Epoch 33/700\n",
      "48/48 [==============================] - 1s 30ms/step - loss: 1.0324 - val_loss: 1.8687\n",
      "Epoch 34/700\n",
      "48/48 [==============================] - 1s 31ms/step - loss: 1.0067 - val_loss: 1.8692\n",
      "Epoch 35/700\n",
      "48/48 [==============================] - 1s 31ms/step - loss: 0.9708 - val_loss: 1.8701\n",
      "Epoch 36/700\n",
      "47/48 [============================>.] - ETA: 0s - loss: 0.9708\n",
      "Epoch 00036: ReduceLROnPlateau reducing learning rate to 1.0000000116860975e-08.\n",
      "48/48 [==============================] - 1s 30ms/step - loss: 1.0116 - val_loss: 1.8651\n",
      "Epoch 37/700\n",
      "48/48 [==============================] - 1s 30ms/step - loss: 0.9781 - val_loss: 1.8653\n",
      "Epoch 38/700\n",
      "48/48 [==============================] - 1s 30ms/step - loss: 1.0002 - val_loss: 1.8658\n",
      "Epoch 39/700\n",
      "48/48 [==============================] - 1s 30ms/step - loss: 0.9486 - val_loss: 1.8652\n",
      "Epoch 40/700\n",
      "48/48 [==============================] - 1s 31ms/step - loss: 0.9826 - val_loss: 1.8658\n",
      "Epoch 41/700\n",
      "48/48 [==============================] - 2s 32ms/step - loss: 0.9991 - val_loss: 1.8660\n",
      "Epoch 42/700\n",
      "48/48 [==============================] - 1s 31ms/step - loss: 0.9898 - val_loss: 1.8665\n",
      "Epoch 43/700\n",
      "48/48 [==============================] - 1s 30ms/step - loss: 0.9957 - val_loss: 1.8667\n",
      "Epoch 44/700\n",
      "48/48 [==============================] - 1s 29ms/step - loss: 1.0115 - val_loss: 1.8668\n",
      "Epoch 45/700\n",
      "48/48 [==============================] - 1s 30ms/step - loss: 1.0015 - val_loss: 1.8675\n",
      "Epoch 46/700\n",
      "47/48 [============================>.] - ETA: 0s - loss: 0.9672\n",
      "Epoch 00046: ReduceLROnPlateau reducing learning rate to 9.999999939225292e-10.\n",
      "48/48 [==============================] - 1s 30ms/step - loss: 0.9630 - val_loss: 1.8676\n",
      "Epoch 47/700\n",
      "48/48 [==============================] - 1s 29ms/step - loss: 0.9509 - val_loss: 1.8676\n",
      "Epoch 48/700\n",
      "48/48 [==============================] - 1s 29ms/step - loss: 0.9757 - val_loss: 1.8676\n",
      "Epoch 49/700\n",
      "48/48 [==============================] - 1s 27ms/step - loss: 0.9972 - val_loss: 1.8676\n",
      "Epoch 50/700\n",
      "48/48 [==============================] - 1s 28ms/step - loss: 0.9872 - val_loss: 1.8676\n",
      "Epoch 51/700\n",
      "48/48 [==============================] - 1s 26ms/step - loss: 0.9928 - val_loss: 1.8676\n",
      "Epoch 52/700\n",
      "48/48 [==============================] - 1s 27ms/step - loss: 0.9758 - val_loss: 1.8676\n",
      "Epoch 53/700\n",
      "48/48 [==============================] - 1s 27ms/step - loss: 1.0205 - val_loss: 1.8676\n",
      "Epoch 54/700\n",
      "48/48 [==============================] - 1s 28ms/step - loss: 1.0000 - val_loss: 1.8676\n",
      "Epoch 55/700\n",
      "48/48 [==============================] - 1s 28ms/step - loss: 0.9972 - val_loss: 1.8676\n",
      "Epoch 56/700\n",
      "47/48 [============================>.] - ETA: 0s - loss: 0.9648\n",
      "Epoch 00056: ReduceLROnPlateau reducing learning rate to 9.999999717180686e-11.\n",
      "48/48 [==============================] - 1s 27ms/step - loss: 0.9627 - val_loss: 1.8676\n",
      "Epoch 57/700\n",
      "48/48 [==============================] - 1s 27ms/step - loss: 1.0196 - val_loss: 1.8676\n",
      "Epoch 58/700\n",
      "48/48 [==============================] - 1s 28ms/step - loss: 1.0053 - val_loss: 1.8676\n",
      "Epoch 59/700\n",
      "48/48 [==============================] - 1s 27ms/step - loss: 0.9684 - val_loss: 1.8676\n",
      "Epoch 60/700\n",
      "48/48 [==============================] - 1s 27ms/step - loss: 1.0221 - val_loss: 1.8676\n",
      "Epoch 61/700\n",
      "48/48 [==============================] - 1s 29ms/step - loss: 1.0235 - val_loss: 1.8676\n",
      "Epoch 62/700\n",
      "48/48 [==============================] - 1s 30ms/step - loss: 0.9652 - val_loss: 1.8676\n",
      "Epoch 63/700\n",
      "48/48 [==============================] - 1s 28ms/step - loss: 0.9848 - val_loss: 1.8676\n",
      "Epoch 64/700\n",
      "48/48 [==============================] - 1s 29ms/step - loss: 1.0064 - val_loss: 1.8676\n",
      "Epoch 65/700\n",
      "48/48 [==============================] - 1s 30ms/step - loss: 0.9867 - val_loss: 1.8676\n",
      "Epoch 66/700\n",
      "47/48 [============================>.] - ETA: 0s - loss: 0.9870\n",
      "Epoch 00066: ReduceLROnPlateau reducing learning rate to 9.99999943962493e-12.\n",
      "48/48 [==============================] - 1s 29ms/step - loss: 0.9825 - val_loss: 1.8676\n",
      "Epoch 67/700\n",
      "48/48 [==============================] - 1s 29ms/step - loss: 0.9989 - val_loss: 1.8676\n",
      "Epoch 68/700\n",
      "48/48 [==============================] - 1s 29ms/step - loss: 0.9942 - val_loss: 1.8676\n",
      "Epoch 69/700\n",
      "48/48 [==============================] - 1s 30ms/step - loss: 1.0186 - val_loss: 1.8676\n",
      "Epoch 70/700\n",
      "48/48 [==============================] - 1s 29ms/step - loss: 0.9698 - val_loss: 1.8676\n",
      "Epoch 71/700\n",
      "48/48 [==============================] - 1s 29ms/step - loss: 0.9731 - val_loss: 1.8676\n",
      "Epoch 72/700\n",
      "48/48 [==============================] - 1s 29ms/step - loss: 0.9912 - val_loss: 1.8676\n",
      "Epoch 73/700\n",
      "48/48 [==============================] - 1s 30ms/step - loss: 1.0424 - val_loss: 1.8676\n",
      "Epoch 74/700\n",
      "48/48 [==============================] - 1s 30ms/step - loss: 0.9624 - val_loss: 1.8676\n",
      "Epoch 75/700\n",
      "48/48 [==============================] - 1s 30ms/step - loss: 0.9833 - val_loss: 1.8676\n",
      "Epoch 76/700\n",
      "47/48 [============================>.] - ETA: 0s - loss: 0.9936\n",
      "Epoch 00076: ReduceLROnPlateau reducing learning rate to 9.999999092680235e-13.\n",
      "48/48 [==============================] - 1s 31ms/step - loss: 0.9873 - val_loss: 1.8676\n",
      "Epoch 77/700\n",
      "48/48 [==============================] - 1s 30ms/step - loss: 0.9922 - val_loss: 1.8676\n",
      "Epoch 78/700\n",
      "48/48 [==============================] - 1s 31ms/step - loss: 1.0165 - val_loss: 1.8676\n",
      "Epoch 79/700\n",
      "48/48 [==============================] - 1s 30ms/step - loss: 0.9801 - val_loss: 1.8676\n",
      "Epoch 80/700\n",
      "48/48 [==============================] - 1s 29ms/step - loss: 1.0007 - val_loss: 1.8676\n",
      "Epoch 81/700\n",
      "48/48 [==============================] - 1s 30ms/step - loss: 1.0289 - val_loss: 1.8676\n",
      "Epoch 82/700\n",
      "48/48 [==============================] - 1s 29ms/step - loss: 0.9942 - val_loss: 1.8676\n",
      "Epoch 83/700\n",
      "48/48 [==============================] - 1s 28ms/step - loss: 1.0046 - val_loss: 1.8676\n",
      "Epoch 84/700\n",
      "48/48 [==============================] - 1s 27ms/step - loss: 0.9727 - val_loss: 1.8676\n",
      "Epoch 85/700\n",
      "48/48 [==============================] - 1s 27ms/step - loss: 0.9927 - val_loss: 1.8676\n",
      "Epoch 86/700\n",
      "47/48 [============================>.] - ETA: 0s - loss: 1.0425\n",
      "Epoch 00086: ReduceLROnPlateau reducing learning rate to 9.9999988758398e-14.\n",
      "48/48 [==============================] - 1s 27ms/step - loss: 1.0395 - val_loss: 1.8676\n",
      "Epoch 87/700\n",
      "48/48 [==============================] - 1s 26ms/step - loss: 1.0172 - val_loss: 1.8676\n",
      "Epoch 88/700\n",
      "48/48 [==============================] - 1s 27ms/step - loss: 0.9725 - val_loss: 1.8676\n",
      "Epoch 89/700\n",
      "48/48 [==============================] - 1s 27ms/step - loss: 0.9979 - val_loss: 1.8676\n",
      "Epoch 90/700\n",
      "48/48 [==============================] - 1s 28ms/step - loss: 1.0206 - val_loss: 1.8676\n",
      "Epoch 91/700\n",
      "48/48 [==============================] - 1s 28ms/step - loss: 1.0128 - val_loss: 1.8676\n",
      "Epoch 92/700\n",
      "48/48 [==============================] - 1s 29ms/step - loss: 1.0027 - val_loss: 1.8676\n",
      "Epoch 93/700\n",
      "48/48 [==============================] - 1s 28ms/step - loss: 1.0208 - val_loss: 1.8676\n",
      "Epoch 94/700\n",
      "48/48 [==============================] - 1s 31ms/step - loss: 1.0265 - val_loss: 1.8676\n",
      "Epoch 95/700\n",
      "48/48 [==============================] - 1s 31ms/step - loss: 1.0060 - val_loss: 1.8676\n",
      "Epoch 96/700\n",
      "47/48 [============================>.] - ETA: 0s - loss: 0.9419\n",
      "Epoch 00096: ReduceLROnPlateau reducing learning rate to 9.999999146890344e-15.\n",
      "48/48 [==============================] - 1s 30ms/step - loss: 0.9765 - val_loss: 1.8676\n",
      "Epoch 97/700\n",
      "48/48 [==============================] - 1s 29ms/step - loss: 0.9376 - val_loss: 1.8676\n",
      "Epoch 98/700\n",
      "48/48 [==============================] - 1s 29ms/step - loss: 0.9848 - val_loss: 1.8676\n",
      "Epoch 99/700\n",
      "48/48 [==============================] - 1s 30ms/step - loss: 0.9776 - val_loss: 1.8676\n",
      "Epoch 100/700\n",
      "48/48 [==============================] - 1s 29ms/step - loss: 0.9930 - val_loss: 1.8676\n",
      "Epoch 101/700\n",
      "48/48 [==============================] - 1s 29ms/step - loss: 0.9797 - val_loss: 1.8676\n",
      "Epoch 102/700\n",
      "48/48 [==============================] - 1s 30ms/step - loss: 0.9687 - val_loss: 1.8676\n",
      "Epoch 103/700\n",
      "48/48 [==============================] - 1s 31ms/step - loss: 1.0064 - val_loss: 1.8676\n",
      "Epoch 104/700\n",
      "48/48 [==============================] - 1s 31ms/step - loss: 0.9887 - val_loss: 1.8676\n",
      "Epoch 105/700\n",
      "48/48 [==============================] - 1s 31ms/step - loss: 0.9789 - val_loss: 1.8676\n",
      "Epoch 106/700\n",
      "47/48 [============================>.] - ETA: 0s - loss: 0.9990\n",
      "Epoch 00106: ReduceLROnPlateau reducing learning rate to 9.999998977483753e-16.\n",
      "Restoring model weights from the end of the best epoch.\n",
      "48/48 [==============================] - 1s 30ms/step - loss: 0.9925 - val_loss: 1.8676\n",
      "Epoch 00106: early stopping\n"
     ]
    }
   ],
   "source": [
    "# History object for plotting our model loss by epoch\n",
    "history2 = model2.fit(x_train12, y_train12, batch_size = 4, \n",
    "                    epochs = EPOCHS2, validation_data = (x_val12, y_val12),\n",
    "                    callbacks = [rlrop2, early_stop2])"
   ]
  },
  {
   "cell_type": "code",
   "execution_count": 65,
   "metadata": {},
   "outputs": [
    {
     "data": {
      "image/png": "[encoded data removed]",
      "text/plain": [
       "<Figure size 720x504 with 1 Axes>"
      ]
     },
     "metadata": {
      "needs_background": "light"
     },
     "output_type": "display_data"
    }
   ],
   "source": [
    "# Loss History\n",
    "fig = plt.figure(figsize=(10, 7))\n",
    "plt.plot(history2.history['loss'])\n",
    "plt.plot(history2.history['val_loss'])\n",
    "plt.title('Model Loss')\n",
    "plt.ylabel('Loss')\n",
    "plt.xlabel('Epoch')\n",
    "plt.legend(['Train', 'Val'], loc='upper right')\n",
    "plt.show()"
   ]
  },
  {
   "cell_type": "markdown",
   "metadata": {},
   "source": [
    "### Previsão Multistep 12 meses em Validação\n",
    "Para ficar adequado à realidade, não podemos usar os dados de 2022 para prever 2022. Portanto, a previsão de 2022 será feita do moto *multistep*, isto é, o mês de janeiro/2022 será previsto usando-se os dados de arrecadação de janeiro a dezembro de 2021; o mês de fevereiro/2022 será previsto usando-se os dados de fevereiro a dezembro de 2021 mais a previsão feita para o mês de janeiro/2022; o mês de março/2022 será previsto usando-se os dados de março a dezembro de 2021 mais os meses de janeiro e fevereiro de 2022 previstos nos passos anteriores. E assim por diante, até que a previsão de dezembro/2022 será feita usando-se os dados de dezembro de 2021 mais as previsões de janeiro a novembro de 2022 feitas nos passos anteriores."
   ]
  },
  {
   "cell_type": "markdown",
   "metadata": {},
   "source": [
    "#### Remove os 12 últimos valores que serão previstos e cria as séries novamente"
   ]
  },
  {
   "cell_type": "code",
   "execution_count": 66,
   "metadata": {},
   "outputs": [
    {
     "name": "stdout",
     "output_type": "stream",
     "text": [
      "(240,)\n",
      "(216,)\n"
     ]
    },
    {
     "data": {
      "text/plain": [
       "pandas.core.series.Series"
      ]
     },
     "execution_count": 66,
     "metadata": {},
     "output_type": "execute_result"
    }
   ],
   "source": [
    "# remove\n",
    "serie_multi12 = l_icms_ts[:-24]\n",
    "print(l_icms_ts.shape)\n",
    "print(serie_multi12.shape)\n",
    "type(serie_multi12)"
   ]
  },
  {
   "cell_type": "code",
   "execution_count": 67,
   "metadata": {},
   "outputs": [
    {
     "name": "stdout",
     "output_type": "stream",
     "text": [
      "0 [[1.6698865e+10]]\n",
      "1 [[1.6705078e+10]]\n",
      "2 [[1.6616861e+10]]\n",
      "3 [[1.6496953e+10]]\n",
      "4 [[1.6346734e+10]]\n",
      "5 [[1.6157305e+10]]\n",
      "6 [[1.6071399e+10]]\n",
      "7 [[1.6150711e+10]]\n",
      "8 [[1.6313406e+10]]\n",
      "9 [[1.6554479e+10]]\n",
      "10 [[1.6788062e+10]]\n",
      "11 [[1.6996909e+10]]\n"
     ]
    }
   ],
   "source": [
    "for i in range(12):\n",
    "    # cria as séries\n",
    "    X_multi12, Y_multi12 = cria_features_target(serie_multi12, verbose=0)\n",
    "\n",
    "    # Faz a normalização usando o modelo fitado na normalização anterior\n",
    "    X_multi_std12 = enc_x.transform(X_multi12)\n",
    "    X_multi_std12 = X_multi_std12.reshape(X_multi_std12.shape[0],10,1)\n",
    "\n",
    "    # Faz o janelamento das séries\n",
    "    x_multi12, y_multi12 = janelamento_12_meses(X_multi_std12, Y_multi12, verbose=0)\n",
    "\n",
    "    # Faz a predição da arrecadação do mês\n",
    "    #y_pred_multi = np.mean(model.predict(x_multi[-1:]), axis=1)#[:,0].ravel()\n",
    "    y_pred_multi12 = model2.predict(x_multi12[-1:])#[:,0].ravel()\n",
    "    print(i, np.exp(y_pred_multi12))\n",
    "\n",
    "    #### Adicionar o valor previsto à série e fazer o novo janelamento\n",
    "    serie_multi12 = pd.Series(np.append(serie_multi12, y_pred_multi12))\n",
    "    type(serie_multi12)"
   ]
  },
  {
   "cell_type": "code",
   "execution_count": 68,
   "metadata": {},
   "outputs": [],
   "source": [
    "Y_pred_multi12 = np.exp(pd.Series(serie_multi12[-12:])) # tira o log das previsões\n",
    "Y_pred_multi12.index = icms_val.index"
   ]
  },
  {
   "cell_type": "code",
   "execution_count": 69,
   "metadata": {},
   "outputs": [
    {
     "data": {
      "text/plain": [
       "date\n",
       "2021-01-01    1.669887e+10\n",
       "2021-02-01    1.670508e+10\n",
       "2021-03-01    1.661686e+10\n",
       "2021-04-01    1.649695e+10\n",
       "2021-05-01    1.634673e+10\n",
       "2021-06-01    1.615731e+10\n",
       "2021-07-01    1.607140e+10\n",
       "2021-08-01    1.615071e+10\n",
       "2021-09-01    1.631341e+10\n",
       "2021-10-01    1.655448e+10\n",
       "2021-11-01    1.678806e+10\n",
       "2021-12-01    1.699691e+10\n",
       "dtype: float64"
      ]
     },
     "execution_count": 69,
     "metadata": {},
     "output_type": "execute_result"
    }
   ],
   "source": [
    "Y_pred_multi12"
   ]
  },
  {
   "cell_type": "code",
   "execution_count": 70,
   "metadata": {},
   "outputs": [
    {
     "data": {
      "text/plain": [
       "1750161810.16003"
      ]
     },
     "execution_count": 70,
     "metadata": {},
     "output_type": "execute_result"
    }
   ],
   "source": [
    "RMSE_lstm_multi12 = mean_squared_error(icms_val, Y_pred_multi12, squared=False)\n",
    "RMSE_lstm_multi12"
   ]
  },
  {
   "cell_type": "code",
   "execution_count": 71,
   "metadata": {},
   "outputs": [
    {
     "data": {
      "text/plain": [
       "0.09559669801454583"
      ]
     },
     "execution_count": 71,
     "metadata": {},
     "output_type": "execute_result"
    }
   ],
   "source": [
    "MAPE_lstm_multi12 = mean_absolute_percentage_error(icms_val, Y_pred_multi12)\n",
    "MAPE_lstm_multi12"
   ]
  },
  {
   "cell_type": "code",
   "execution_count": 72,
   "metadata": {},
   "outputs": [],
   "source": [
    "previsoes['nome'].append('RNN-LSTM-12-meses-larga')\n",
    "previsoes['modelo'].append(model2)\n",
    "previsoes['previsoes'].append(Y_pred_multi12)\n",
    "\n",
    "previsoes['rmse'].append(RMSE_lstm_multi12)\n",
    "\n",
    "previsoes['mape'].append(MAPE_lstm_multi12)"
   ]
  },
  {
   "cell_type": "code",
   "execution_count": 73,
   "metadata": {},
   "outputs": [],
   "source": [
    "previsoes['erro relativo'].append([erro_relativo(prev,real) \n",
    "                                   for prev,real in zip(Y_pred_multi12\n",
    "                                                        , icms_val)])"
   ]
  },
  {
   "cell_type": "markdown",
   "metadata": {},
   "source": [
    "## Arquitetura da Rede - Arquitetura Multicamada"
   ]
  },
  {
   "cell_type": "code",
   "execution_count": 74,
   "metadata": {},
   "outputs": [],
   "source": [
    "rlrop4 = ReduceLROnPlateau(monitor='val_loss', factor=0.1, patience=25, verbose=1)\n",
    "early_stop4 = EarlyStopping(monitor='val_loss', patience=100, verbose=1, \n",
    "                           restore_best_weights=True)"
   ]
  },
  {
   "cell_type": "code",
   "execution_count": 75,
   "metadata": {},
   "outputs": [],
   "source": [
    "# Épocas e percentual de validação\n",
    "EPOCHS4 = 700\n",
    "\n",
    "# Imstanciação do modelo\n",
    "model4 = Sequential()\n",
    "\n",
    "# Adicionar camada LSTM \n",
    "model4.add(LSTM(activation='tanh', dropout=0.15,\n",
    "        input_shape = (12, 10), return_sequences = True,\n",
    "        units = 300))\n",
    "\n",
    "# Adicionar camada LSTM \n",
    "model4.add(LSTM(activation='tanh', dropout=0.15,\n",
    "        input_shape = (12, 10), return_sequences = False,\n",
    "        units = 300))\n",
    "\n",
    "\n",
    "# Adicionar a camada de saída com 1 neurônio linear\n",
    "model4.add(Dense(\n",
    "        units = 1,\n",
    "        activation = 'linear'))\n",
    "# a learning rate padrão do Adam é 0.001\n",
    "model4.compile(loss = 'mape', optimizer = Adam(learning_rate=1e-4))"
   ]
  },
  {
   "cell_type": "code",
   "execution_count": 76,
   "metadata": {},
   "outputs": [
    {
     "name": "stdout",
     "output_type": "stream",
     "text": [
      "Model: \"sequential_3\"\n",
      "_________________________________________________________________\n",
      "Layer (type)                 Output Shape              Param #   \n",
      "=================================================================\n",
      "lstm_4 (LSTM)                (None, 12, 300)           373200    \n",
      "_________________________________________________________________\n",
      "lstm_5 (LSTM)                (None, 300)               721200    \n",
      "_________________________________________________________________\n",
      "dense_3 (Dense)              (None, 1)                 301       \n",
      "=================================================================\n",
      "Total params: 1,094,701\n",
      "Trainable params: 1,094,701\n",
      "Non-trainable params: 0\n",
      "_________________________________________________________________\n"
     ]
    }
   ],
   "source": [
    "model4.summary()"
   ]
  },
  {
   "cell_type": "code",
   "execution_count": 77,
   "metadata": {
    "scrolled": true
   },
   "outputs": [
    {
     "name": "stdout",
     "output_type": "stream",
     "text": [
      "Epoch 1/700\n",
      "12/12 [==============================] - 1s 76ms/step - loss: 97.2459 - val_loss: 90.5817\n",
      "Epoch 2/700\n",
      "12/12 [==============================] - 0s 25ms/step - loss: 88.3507 - val_loss: 69.2322\n",
      "Epoch 3/700\n",
      "12/12 [==============================] - 0s 26ms/step - loss: 64.9291 - val_loss: 38.1538\n",
      "Epoch 4/700\n",
      "12/12 [==============================] - 0s 25ms/step - loss: 34.0540 - val_loss: 18.3598\n",
      "Epoch 5/700\n",
      "12/12 [==============================] - 0s 26ms/step - loss: 13.1091 - val_loss: 7.2790\n",
      "Epoch 6/700\n",
      "12/12 [==============================] - 0s 26ms/step - loss: 2.7872 - val_loss: 1.7106\n",
      "Epoch 7/700\n",
      "12/12 [==============================] - 0s 26ms/step - loss: 1.4288 - val_loss: 1.2238\n",
      "Epoch 8/700\n",
      "12/12 [==============================] - 0s 27ms/step - loss: 1.1371 - val_loss: 2.4414\n",
      "Epoch 9/700\n",
      "12/12 [==============================] - 0s 27ms/step - loss: 1.0967 - val_loss: 2.4768\n",
      "Epoch 10/700\n",
      "12/12 [==============================] - 0s 27ms/step - loss: 1.0709 - val_loss: 1.9913\n",
      "Epoch 11/700\n",
      "12/12 [==============================] - 0s 28ms/step - loss: 1.0505 - val_loss: 1.9132\n",
      "Epoch 12/700\n",
      "12/12 [==============================] - 0s 27ms/step - loss: 1.0450 - val_loss: 2.0798\n",
      "Epoch 13/700\n",
      "12/12 [==============================] - 0s 29ms/step - loss: 1.0480 - val_loss: 2.0901\n",
      "Epoch 14/700\n",
      "12/12 [==============================] - 0s 28ms/step - loss: 1.0307 - val_loss: 2.0562\n",
      "Epoch 15/700\n",
      "12/12 [==============================] - 0s 26ms/step - loss: 1.0056 - val_loss: 2.0481\n",
      "Epoch 16/700\n",
      "12/12 [==============================] - 0s 27ms/step - loss: 1.0337 - val_loss: 2.0992\n",
      "Epoch 17/700\n",
      "12/12 [==============================] - 0s 27ms/step - loss: 1.0044 - val_loss: 2.0494\n",
      "Epoch 18/700\n",
      "12/12 [==============================] - 0s 27ms/step - loss: 0.9974 - val_loss: 1.9981\n",
      "Epoch 19/700\n",
      "12/12 [==============================] - 0s 26ms/step - loss: 0.9507 - val_loss: 1.9706\n",
      "Epoch 20/700\n",
      "12/12 [==============================] - 0s 26ms/step - loss: 0.9541 - val_loss: 2.0469\n",
      "Epoch 21/700\n",
      "12/12 [==============================] - 0s 26ms/step - loss: 0.9509 - val_loss: 2.1150\n",
      "Epoch 22/700\n",
      "12/12 [==============================] - 0s 27ms/step - loss: 0.9441 - val_loss: 1.9926\n",
      "Epoch 23/700\n",
      "12/12 [==============================] - 0s 27ms/step - loss: 0.9320 - val_loss: 1.9961\n",
      "Epoch 24/700\n",
      "12/12 [==============================] - 0s 28ms/step - loss: 0.8852 - val_loss: 1.8762\n",
      "Epoch 25/700\n",
      "12/12 [==============================] - 0s 27ms/step - loss: 0.8664 - val_loss: 2.1437\n",
      "Epoch 26/700\n",
      "12/12 [==============================] - 0s 27ms/step - loss: 0.8685 - val_loss: 2.0098\n",
      "Epoch 27/700\n",
      "12/12 [==============================] - 0s 27ms/step - loss: 0.7933 - val_loss: 1.9210\n",
      "Epoch 28/700\n",
      "12/12 [==============================] - 0s 27ms/step - loss: 0.7560 - val_loss: 1.8941\n",
      "Epoch 29/700\n",
      "12/12 [==============================] - 0s 28ms/step - loss: 0.6897 - val_loss: 1.7926\n",
      "Epoch 30/700\n",
      "12/12 [==============================] - 0s 29ms/step - loss: 0.6825 - val_loss: 1.6843\n",
      "Epoch 31/700\n",
      "12/12 [==============================] - 0s 29ms/step - loss: 0.6430 - val_loss: 1.7976\n",
      "Epoch 32/700\n",
      "11/12 [==========================>...] - ETA: 0s - loss: 0.6360\n",
      "Epoch 00032: ReduceLROnPlateau reducing learning rate to 9.999999747378752e-06.\n",
      "12/12 [==============================] - 0s 31ms/step - loss: 0.6284 - val_loss: 1.7730\n",
      "Epoch 33/700\n",
      "12/12 [==============================] - 0s 29ms/step - loss: 0.5926 - val_loss: 1.7340\n",
      "Epoch 34/700\n",
      "12/12 [==============================] - 0s 29ms/step - loss: 0.5778 - val_loss: 1.6355\n",
      "Epoch 35/700\n",
      "12/12 [==============================] - 0s 29ms/step - loss: 0.5730 - val_loss: 1.6228\n",
      "Epoch 36/700\n",
      "12/12 [==============================] - 0s 32ms/step - loss: 0.5670 - val_loss: 1.6492\n",
      "Epoch 37/700\n",
      "12/12 [==============================] - 0s 31ms/step - loss: 0.5811 - val_loss: 1.6578\n",
      "Epoch 38/700\n",
      "12/12 [==============================] - 0s 30ms/step - loss: 0.5685 - val_loss: 1.6505\n",
      "Epoch 39/700\n",
      "12/12 [==============================] - 0s 30ms/step - loss: 0.5783 - val_loss: 1.5710\n",
      "Epoch 40/700\n",
      "12/12 [==============================] - 0s 30ms/step - loss: 0.5545 - val_loss: 1.6027\n",
      "Epoch 41/700\n",
      "12/12 [==============================] - 0s 31ms/step - loss: 0.5393 - val_loss: 1.6378\n",
      "Epoch 42/700\n",
      "12/12 [==============================] - 0s 31ms/step - loss: 0.5602 - val_loss: 1.6153\n",
      "Epoch 43/700\n",
      "12/12 [==============================] - 0s 30ms/step - loss: 0.5505 - val_loss: 1.6006\n",
      "Epoch 44/700\n",
      "12/12 [==============================] - 0s 29ms/step - loss: 0.5489 - val_loss: 1.5849\n",
      "Epoch 45/700\n",
      "12/12 [==============================] - 0s 29ms/step - loss: 0.5483 - val_loss: 1.6225\n",
      "Epoch 46/700\n",
      "12/12 [==============================] - 0s 29ms/step - loss: 0.5313 - val_loss: 1.5475\n",
      "Epoch 47/700\n",
      "12/12 [==============================] - 0s 29ms/step - loss: 0.5383 - val_loss: 1.5646\n",
      "Epoch 48/700\n",
      "12/12 [==============================] - 0s 29ms/step - loss: 0.5271 - val_loss: 1.5779\n",
      "Epoch 49/700\n",
      "12/12 [==============================] - 0s 29ms/step - loss: 0.5076 - val_loss: 1.6262\n",
      "Epoch 50/700\n",
      "12/12 [==============================] - 0s 28ms/step - loss: 0.5130 - val_loss: 1.4772\n",
      "Epoch 51/700\n",
      "12/12 [==============================] - 0s 28ms/step - loss: 0.4896 - val_loss: 1.5326\n",
      "Epoch 52/700\n",
      "12/12 [==============================] - 0s 28ms/step - loss: 0.4835 - val_loss: 1.5246\n",
      "Epoch 53/700\n",
      "12/12 [==============================] - 0s 28ms/step - loss: 0.4860 - val_loss: 1.4940\n",
      "Epoch 54/700\n",
      "12/12 [==============================] - 0s 28ms/step - loss: 0.4762 - val_loss: 1.5154\n",
      "Epoch 55/700\n",
      "12/12 [==============================] - 0s 29ms/step - loss: 0.4923 - val_loss: 1.4873\n",
      "Epoch 56/700\n",
      "12/12 [==============================] - 0s 28ms/step - loss: 0.4873 - val_loss: 1.4348\n",
      "Epoch 57/700\n",
      "11/12 [==========================>...] - ETA: 0s - loss: 0.5029\n",
      "Epoch 00057: ReduceLROnPlateau reducing learning rate to 9.999999747378752e-07.\n",
      "12/12 [==============================] - 0s 29ms/step - loss: 0.4978 - val_loss: 1.4756\n",
      "Epoch 58/700\n",
      "12/12 [==============================] - 0s 34ms/step - loss: 0.4665 - val_loss: 1.4837\n",
      "Epoch 59/700\n",
      "12/12 [==============================] - 0s 29ms/step - loss: 0.4546 - val_loss: 1.4814\n",
      "Epoch 60/700\n",
      "12/12 [==============================] - 0s 29ms/step - loss: 0.4848 - val_loss: 1.4801\n",
      "Epoch 61/700\n",
      "12/12 [==============================] - 0s 30ms/step - loss: 0.4827 - val_loss: 1.4851\n",
      "Epoch 62/700\n",
      "12/12 [==============================] - 0s 32ms/step - loss: 0.4894 - val_loss: 1.4796\n",
      "Epoch 63/700\n",
      "12/12 [==============================] - 0s 31ms/step - loss: 0.4764 - val_loss: 1.4744\n",
      "Epoch 64/700\n",
      "12/12 [==============================] - 0s 30ms/step - loss: 0.4694 - val_loss: 1.4600\n",
      "Epoch 65/700\n",
      "12/12 [==============================] - 0s 31ms/step - loss: 0.4798 - val_loss: 1.4550\n",
      "Epoch 66/700\n",
      "12/12 [==============================] - 0s 29ms/step - loss: 0.4723 - val_loss: 1.4529\n",
      "Epoch 67/700\n",
      "12/12 [==============================] - 0s 31ms/step - loss: 0.4550 - val_loss: 1.4542\n",
      "Epoch 68/700\n",
      "12/12 [==============================] - 0s 33ms/step - loss: 0.4705 - val_loss: 1.4496\n",
      "Epoch 69/700\n",
      "12/12 [==============================] - 0s 33ms/step - loss: 0.4640 - val_loss: 1.4486\n",
      "Epoch 70/700\n",
      "12/12 [==============================] - 0s 31ms/step - loss: 0.4882 - val_loss: 1.4604\n",
      "Epoch 71/700\n",
      "12/12 [==============================] - 0s 32ms/step - loss: 0.4787 - val_loss: 1.4637\n",
      "Epoch 72/700\n",
      "12/12 [==============================] - 0s 30ms/step - loss: 0.4910 - val_loss: 1.4569\n",
      "Epoch 73/700\n",
      "12/12 [==============================] - 0s 31ms/step - loss: 0.4739 - val_loss: 1.4532\n",
      "Epoch 74/700\n",
      "12/12 [==============================] - 0s 30ms/step - loss: 0.4671 - val_loss: 1.4477\n",
      "Epoch 75/700\n",
      "12/12 [==============================] - 0s 31ms/step - loss: 0.4441 - val_loss: 1.4487\n",
      "Epoch 76/700\n",
      "12/12 [==============================] - 0s 31ms/step - loss: 0.4594 - val_loss: 1.4442\n",
      "Epoch 77/700\n",
      "12/12 [==============================] - 0s 29ms/step - loss: 0.4533 - val_loss: 1.4475\n",
      "Epoch 78/700\n",
      "12/12 [==============================] - 0s 28ms/step - loss: 0.4579 - val_loss: 1.4467\n",
      "Epoch 79/700\n",
      "12/12 [==============================] - 0s 28ms/step - loss: 0.4708 - val_loss: 1.4407\n",
      "Epoch 80/700\n",
      "12/12 [==============================] - 0s 27ms/step - loss: 0.4725 - val_loss: 1.4362\n",
      "Epoch 81/700\n",
      "12/12 [==============================] - 0s 28ms/step - loss: 0.4725 - val_loss: 1.4299\n",
      "Epoch 82/700\n",
      "11/12 [==========================>...] - ETA: 0s - loss: 0.4734\n",
      "Epoch 00082: ReduceLROnPlateau reducing learning rate to 9.999999974752428e-08.\n",
      "12/12 [==============================] - 0s 29ms/step - loss: 0.4612 - val_loss: 1.4428\n",
      "Epoch 83/700\n",
      "12/12 [==============================] - 0s 28ms/step - loss: 0.4649 - val_loss: 1.4432\n",
      "Epoch 84/700\n",
      "12/12 [==============================] - 0s 28ms/step - loss: 0.4543 - val_loss: 1.4423\n",
      "Epoch 85/700\n",
      "12/12 [==============================] - 0s 28ms/step - loss: 0.4665 - val_loss: 1.4426\n",
      "Epoch 86/700\n",
      "12/12 [==============================] - 0s 28ms/step - loss: 0.4882 - val_loss: 1.4432\n",
      "Epoch 87/700\n",
      "12/12 [==============================] - 0s 28ms/step - loss: 0.4502 - val_loss: 1.4433\n",
      "Epoch 88/700\n",
      "12/12 [==============================] - 0s 29ms/step - loss: 0.4785 - val_loss: 1.4434\n",
      "Epoch 89/700\n",
      "12/12 [==============================] - 0s 28ms/step - loss: 0.4734 - val_loss: 1.4429\n",
      "Epoch 90/700\n",
      "12/12 [==============================] - 0s 28ms/step - loss: 0.4622 - val_loss: 1.4415\n",
      "Epoch 91/700\n",
      "12/12 [==============================] - 0s 31ms/step - loss: 0.4681 - val_loss: 1.4400\n",
      "Epoch 92/700\n",
      "12/12 [==============================] - 0s 27ms/step - loss: 0.4826 - val_loss: 1.4390\n",
      "Epoch 93/700\n",
      "12/12 [==============================] - 0s 27ms/step - loss: 0.4512 - val_loss: 1.4390\n",
      "Epoch 94/700\n",
      "12/12 [==============================] - 0s 27ms/step - loss: 0.4734 - val_loss: 1.4383\n",
      "Epoch 95/700\n",
      "12/12 [==============================] - 0s 28ms/step - loss: 0.4690 - val_loss: 1.4382\n",
      "Epoch 96/700\n",
      "12/12 [==============================] - 0s 30ms/step - loss: 0.4822 - val_loss: 1.4373\n",
      "Epoch 97/700\n",
      "12/12 [==============================] - 0s 29ms/step - loss: 0.4864 - val_loss: 1.4368\n",
      "Epoch 98/700\n",
      "12/12 [==============================] - 0s 29ms/step - loss: 0.4712 - val_loss: 1.4372\n",
      "Epoch 99/700\n",
      "12/12 [==============================] - 0s 29ms/step - loss: 0.4751 - val_loss: 1.4384\n",
      "Epoch 100/700\n",
      "12/12 [==============================] - 0s 29ms/step - loss: 0.4525 - val_loss: 1.4394\n",
      "Epoch 101/700\n",
      "12/12 [==============================] - 0s 29ms/step - loss: 0.4447 - val_loss: 1.4390\n",
      "Epoch 102/700\n",
      "12/12 [==============================] - 0s 29ms/step - loss: 0.4703 - val_loss: 1.4391\n",
      "Epoch 103/700\n",
      "12/12 [==============================] - 0s 29ms/step - loss: 0.4616 - val_loss: 1.4376\n",
      "Epoch 104/700\n",
      "12/12 [==============================] - 0s 28ms/step - loss: 0.4687 - val_loss: 1.4377\n",
      "Epoch 105/700\n",
      "12/12 [==============================] - 0s 27ms/step - loss: 0.4536 - val_loss: 1.4374\n",
      "Epoch 106/700\n",
      "12/12 [==============================] - 0s 28ms/step - loss: 0.4520 - val_loss: 1.4373\n",
      "Epoch 107/700\n",
      "11/12 [==========================>...] - ETA: 0s - loss: 0.4851\n",
      "Epoch 00107: ReduceLROnPlateau reducing learning rate to 1.0000000116860975e-08.\n",
      "Restoring model weights from the end of the best epoch.\n",
      "12/12 [==============================] - 0s 28ms/step - loss: 0.4796 - val_loss: 1.4380\n",
      "Epoch 00107: early stopping\n"
     ]
    }
   ],
   "source": [
    "# History object for plotting our model loss by epoch\n",
    "history4 = model4.fit(x_train12, y_train12, batch_size = 16, \n",
    "                    epochs = EPOCHS4, validation_data = (x_val12, y_val12),\n",
    "                    callbacks = [rlrop4, early_stop4])"
   ]
  },
  {
   "cell_type": "code",
   "execution_count": 78,
   "metadata": {},
   "outputs": [
    {
     "data": {
      "image/png": "[encoded data removed]",
      "text/plain": [
       "<Figure size 720x504 with 1 Axes>"
      ]
     },
     "metadata": {
      "needs_background": "light"
     },
     "output_type": "display_data"
    }
   ],
   "source": [
    "# Loss History\n",
    "fig = plt.figure(figsize=(10, 7))\n",
    "plt.plot(history4.history['loss'])\n",
    "plt.plot(history4.history['val_loss'])\n",
    "plt.title('Model Loss')\n",
    "plt.ylabel('Loss')\n",
    "plt.xlabel('Epoch')\n",
    "plt.legend(['Train', 'Val'], loc='upper right')\n",
    "plt.show()"
   ]
  },
  {
   "cell_type": "markdown",
   "metadata": {},
   "source": [
    "### Previsão Multistep 12 meses em Validação\n",
    "Para ficar adequado à realidade, não podemos usar os dados de 2022 para prever 2022. Portanto, a previsão de 2022 será feita do moto *multistep*, isto é, o mês de janeiro/2022 será previsto usando-se os dados de arrecadação de janeiro a dezembro de 2021; o mês de fevereiro/2022 será previsto usando-se os dados de fevereiro a dezembro de 2021 mais a previsão feita para o mês de janeiro/2022; o mês de março/2022 será previsto usando-se os dados de março a dezembro de 2021 mais os meses de janeiro e fevereiro de 2022 previstos nos passos anteriores. E assim por diante, até que a previsão de dezembro/2022 será feita usando-se os dados de dezembro de 2021 mais as previsões de janeiro a novembro de 2022 feitas nos passos anteriores."
   ]
  },
  {
   "cell_type": "markdown",
   "metadata": {},
   "source": [
    "#### Remove os 12 últimos valores que serão previstos e cria as séries novamente"
   ]
  },
  {
   "cell_type": "code",
   "execution_count": 79,
   "metadata": {},
   "outputs": [
    {
     "name": "stdout",
     "output_type": "stream",
     "text": [
      "(240,)\n",
      "(216,)\n"
     ]
    },
    {
     "data": {
      "text/plain": [
       "pandas.core.series.Series"
      ]
     },
     "execution_count": 79,
     "metadata": {},
     "output_type": "execute_result"
    }
   ],
   "source": [
    "# remove\n",
    "serie_multi122 = l_icms_ts[:-24]\n",
    "print(l_icms_ts.shape)\n",
    "print(serie_multi122.shape)\n",
    "type(serie_multi122)"
   ]
  },
  {
   "cell_type": "code",
   "execution_count": 80,
   "metadata": {},
   "outputs": [
    {
     "name": "stdout",
     "output_type": "stream",
     "text": [
      "0 [[1.1541754e+10]]\n",
      "1 [[1.1545916e+10]]\n",
      "2 [[1.1548185e+10]]\n",
      "3 [[1.1547325e+10]]\n",
      "4 [[1.1544948e+10]]\n",
      "5 [[1.1542106e+10]]\n",
      "6 [[1.1538079e+10]]\n",
      "7 [[1.153775e+10]]\n",
      "8 [[1.1537661e+10]]\n",
      "9 [[1.1538827e+10]]\n",
      "10 [[1.1539972e+10]]\n",
      "11 [[1.1540852e+10]]\n"
     ]
    }
   ],
   "source": [
    "for i in range(12):\n",
    "    # cria as séries\n",
    "    X_multi122, Y_multi122 = cria_features_target(serie_multi122, verbose=0)\n",
    "\n",
    "    # Faz a normalização usando o modelo fitado na normalização anterior\n",
    "    X_multi_std122 = enc_x.transform(X_multi122)\n",
    "    X_multi_std122 = X_multi_std122.reshape(X_multi_std122.shape[0],10,1)\n",
    "\n",
    "    # Faz o janelamento das séries\n",
    "    x_multi122, y_multi122 = janelamento_12_meses(X_multi_std122, Y_multi122, verbose=0)\n",
    "\n",
    "    # Faz a predição da arrecadação do mês\n",
    "    #y_pred_multi = np.mean(model.predict(x_multi[-1:]), axis=1)#[:,0].ravel()\n",
    "    y_pred_multi122 = model4.predict(x_multi122[-1:])#[:,0].ravel()\n",
    "    print(i, np.exp(y_pred_multi122))\n",
    "\n",
    "    #### Adicionar o valor previsto à série e fazer o novo janelamento\n",
    "    serie_multi122 = pd.Series(np.append(serie_multi122, y_pred_multi122))\n",
    "    type(serie_multi122)"
   ]
  },
  {
   "cell_type": "code",
   "execution_count": 81,
   "metadata": {},
   "outputs": [],
   "source": [
    "Y_pred_multi122 = np.exp(pd.Series(serie_multi122[-12:])) # tira o log das previsões\n",
    "Y_pred_multi122.index = icms_val.index"
   ]
  },
  {
   "cell_type": "code",
   "execution_count": 82,
   "metadata": {},
   "outputs": [
    {
     "data": {
      "text/plain": [
       "date\n",
       "2021-01-01    1.154175e+10\n",
       "2021-02-01    1.154592e+10\n",
       "2021-03-01    1.154818e+10\n",
       "2021-04-01    1.154733e+10\n",
       "2021-05-01    1.154495e+10\n",
       "2021-06-01    1.154211e+10\n",
       "2021-07-01    1.153808e+10\n",
       "2021-08-01    1.153775e+10\n",
       "2021-09-01    1.153766e+10\n",
       "2021-10-01    1.153883e+10\n",
       "2021-11-01    1.153997e+10\n",
       "2021-12-01    1.154085e+10\n",
       "dtype: float64"
      ]
     },
     "execution_count": 82,
     "metadata": {},
     "output_type": "execute_result"
    }
   ],
   "source": [
    "Y_pred_multi122"
   ]
  },
  {
   "cell_type": "code",
   "execution_count": 83,
   "metadata": {},
   "outputs": [
    {
     "data": {
      "text/plain": [
       "4195773436.0328603"
      ]
     },
     "execution_count": 83,
     "metadata": {},
     "output_type": "execute_result"
    }
   ],
   "source": [
    "RMSE_lstm_multi122 = mean_squared_error(icms_val, Y_pred_multi122, squared=False)\n",
    "RMSE_lstm_multi122"
   ]
  },
  {
   "cell_type": "code",
   "execution_count": 84,
   "metadata": {
    "scrolled": true
   },
   "outputs": [
    {
     "data": {
      "text/plain": [
       "0.24716940715336277"
      ]
     },
     "execution_count": 84,
     "metadata": {},
     "output_type": "execute_result"
    }
   ],
   "source": [
    "MAPE_lstm_multi122 = mean_absolute_percentage_error(icms_val, Y_pred_multi122)\n",
    "MAPE_lstm_multi122"
   ]
  },
  {
   "cell_type": "code",
   "execution_count": 85,
   "metadata": {},
   "outputs": [],
   "source": [
    "previsoes['nome'].append('RNN-LSTM-12-meses-camadas')\n",
    "previsoes['modelo'].append(model4)\n",
    "previsoes['previsoes'].append(Y_pred_multi122)\n",
    "\n",
    "previsoes['rmse'].append(RMSE_lstm_multi122)\n",
    "\n",
    "previsoes['mape'].append(MAPE_lstm_multi122)"
   ]
  },
  {
   "cell_type": "code",
   "execution_count": 86,
   "metadata": {},
   "outputs": [],
   "source": [
    "previsoes['erro relativo'].append([erro_relativo(prev,real) \n",
    "                                   for prev,real in zip(Y_pred_multi122\n",
    "                                                        , icms_val)])"
   ]
  },
  {
   "cell_type": "markdown",
   "metadata": {},
   "source": [
    "## Resultados"
   ]
  },
  {
   "cell_type": "code",
   "execution_count": 87,
   "metadata": {},
   "outputs": [
    {
     "data": {
      "text/plain": [
       "['RNN-LSTM-1-mês-larga',\n",
       " 'RNN-LSTM-1-mês-camadas',\n",
       " 'RNN-LSTM-12-meses-larga',\n",
       " 'RNN-LSTM-12-meses-camadas']"
      ]
     },
     "execution_count": 87,
     "metadata": {},
     "output_type": "execute_result"
    }
   ],
   "source": [
    "previsoes['nome']"
   ]
  },
  {
   "cell_type": "code",
   "execution_count": 88,
   "metadata": {},
   "outputs": [],
   "source": [
    "df_prev = pd.DataFrame(data=previsoes['previsoes'], \n",
    "                       index=previsoes['nome']).transpose()\n",
    "df_prev[\"real\"] = icms_val\n",
    "df_rmse = pd.DataFrame(data=previsoes['rmse'], \n",
    "                       index=previsoes['nome']).transpose()\n",
    "df_mape = pd.DataFrame(data=previsoes['mape'], \n",
    "                       index=previsoes['nome']).transpose()\n",
    "df_erro = pd.DataFrame(data=previsoes['erro relativo'], \n",
    "                       index=previsoes['nome']).transpose()"
   ]
  },
  {
   "cell_type": "code",
   "execution_count": 89,
   "metadata": {},
   "outputs": [
    {
     "data": {
      "text/html": [
       "<div>\n",
       "<style scoped>\n",
       "    .dataframe tbody tr th:only-of-type {\n",
       "        vertical-align: middle;\n",
       "    }\n",
       "\n",
       "    .dataframe tbody tr th {\n",
       "        vertical-align: top;\n",
       "    }\n",
       "\n",
       "    .dataframe thead th {\n",
       "        text-align: right;\n",
       "    }\n",
       "</style>\n",
       "<table border=\"1\" class=\"dataframe\">\n",
       "  <thead>\n",
       "    <tr style=\"text-align: right;\">\n",
       "      <th></th>\n",
       "      <th>RNN-LSTM-1-mês-larga</th>\n",
       "      <th>RNN-LSTM-1-mês-camadas</th>\n",
       "      <th>RNN-LSTM-12-meses-larga</th>\n",
       "      <th>RNN-LSTM-12-meses-camadas</th>\n",
       "      <th>real</th>\n",
       "    </tr>\n",
       "    <tr>\n",
       "      <th>date</th>\n",
       "      <th></th>\n",
       "      <th></th>\n",
       "      <th></th>\n",
       "      <th></th>\n",
       "      <th></th>\n",
       "    </tr>\n",
       "  </thead>\n",
       "  <tbody>\n",
       "    <tr>\n",
       "      <th>2021-01-01</th>\n",
       "      <td>1.594910e+10</td>\n",
       "      <td>1.215124e+10</td>\n",
       "      <td>1.669887e+10</td>\n",
       "      <td>1.154175e+10</td>\n",
       "      <td>1.413347e+10</td>\n",
       "    </tr>\n",
       "    <tr>\n",
       "      <th>2021-02-01</th>\n",
       "      <td>1.629462e+10</td>\n",
       "      <td>1.218116e+10</td>\n",
       "      <td>1.670508e+10</td>\n",
       "      <td>1.154592e+10</td>\n",
       "      <td>1.370153e+10</td>\n",
       "    </tr>\n",
       "    <tr>\n",
       "      <th>2021-03-01</th>\n",
       "      <td>1.647906e+10</td>\n",
       "      <td>1.219790e+10</td>\n",
       "      <td>1.661686e+10</td>\n",
       "      <td>1.154818e+10</td>\n",
       "      <td>1.484308e+10</td>\n",
       "    </tr>\n",
       "    <tr>\n",
       "      <th>2021-04-01</th>\n",
       "      <td>1.669791e+10</td>\n",
       "      <td>1.217663e+10</td>\n",
       "      <td>1.649695e+10</td>\n",
       "      <td>1.154733e+10</td>\n",
       "      <td>1.366780e+10</td>\n",
       "    </tr>\n",
       "    <tr>\n",
       "      <th>2021-05-01</th>\n",
       "      <td>1.683671e+10</td>\n",
       "      <td>1.215982e+10</td>\n",
       "      <td>1.634673e+10</td>\n",
       "      <td>1.154495e+10</td>\n",
       "      <td>1.414623e+10</td>\n",
       "    </tr>\n",
       "    <tr>\n",
       "      <th>2021-06-01</th>\n",
       "      <td>1.693116e+10</td>\n",
       "      <td>1.214286e+10</td>\n",
       "      <td>1.615731e+10</td>\n",
       "      <td>1.154211e+10</td>\n",
       "      <td>1.465265e+10</td>\n",
       "    </tr>\n",
       "    <tr>\n",
       "      <th>2021-07-01</th>\n",
       "      <td>1.700070e+10</td>\n",
       "      <td>1.213038e+10</td>\n",
       "      <td>1.607140e+10</td>\n",
       "      <td>1.153808e+10</td>\n",
       "      <td>1.570838e+10</td>\n",
       "    </tr>\n",
       "    <tr>\n",
       "      <th>2021-08-01</th>\n",
       "      <td>1.702033e+10</td>\n",
       "      <td>1.213251e+10</td>\n",
       "      <td>1.615071e+10</td>\n",
       "      <td>1.153775e+10</td>\n",
       "      <td>1.597532e+10</td>\n",
       "    </tr>\n",
       "    <tr>\n",
       "      <th>2021-09-01</th>\n",
       "      <td>1.703163e+10</td>\n",
       "      <td>1.212740e+10</td>\n",
       "      <td>1.631341e+10</td>\n",
       "      <td>1.153766e+10</td>\n",
       "      <td>1.622460e+10</td>\n",
       "    </tr>\n",
       "    <tr>\n",
       "      <th>2021-10-01</th>\n",
       "      <td>1.703930e+10</td>\n",
       "      <td>1.212839e+10</td>\n",
       "      <td>1.655448e+10</td>\n",
       "      <td>1.153883e+10</td>\n",
       "      <td>1.664068e+10</td>\n",
       "    </tr>\n",
       "    <tr>\n",
       "      <th>2021-11-01</th>\n",
       "      <td>1.704005e+10</td>\n",
       "      <td>1.212934e+10</td>\n",
       "      <td>1.678806e+10</td>\n",
       "      <td>1.153997e+10</td>\n",
       "      <td>1.737603e+10</td>\n",
       "    </tr>\n",
       "    <tr>\n",
       "      <th>2021-12-01</th>\n",
       "      <td>1.703745e+10</td>\n",
       "      <td>1.213013e+10</td>\n",
       "      <td>1.699691e+10</td>\n",
       "      <td>1.154085e+10</td>\n",
       "      <td>1.853772e+10</td>\n",
       "    </tr>\n",
       "  </tbody>\n",
       "</table>\n",
       "</div>"
      ],
      "text/plain": [
       "            RNN-LSTM-1-mês-larga  RNN-LSTM-1-mês-camadas  \\\n",
       "date                                                       \n",
       "2021-01-01          1.594910e+10            1.215124e+10   \n",
       "2021-02-01          1.629462e+10            1.218116e+10   \n",
       "2021-03-01          1.647906e+10            1.219790e+10   \n",
       "2021-04-01          1.669791e+10            1.217663e+10   \n",
       "2021-05-01          1.683671e+10            1.215982e+10   \n",
       "2021-06-01          1.693116e+10            1.214286e+10   \n",
       "2021-07-01          1.700070e+10            1.213038e+10   \n",
       "2021-08-01          1.702033e+10            1.213251e+10   \n",
       "2021-09-01          1.703163e+10            1.212740e+10   \n",
       "2021-10-01          1.703930e+10            1.212839e+10   \n",
       "2021-11-01          1.704005e+10            1.212934e+10   \n",
       "2021-12-01          1.703745e+10            1.213013e+10   \n",
       "\n",
       "            RNN-LSTM-12-meses-larga  RNN-LSTM-12-meses-camadas          real  \n",
       "date                                                                          \n",
       "2021-01-01             1.669887e+10               1.154175e+10  1.413347e+10  \n",
       "2021-02-01             1.670508e+10               1.154592e+10  1.370153e+10  \n",
       "2021-03-01             1.661686e+10               1.154818e+10  1.484308e+10  \n",
       "2021-04-01             1.649695e+10               1.154733e+10  1.366780e+10  \n",
       "2021-05-01             1.634673e+10               1.154495e+10  1.414623e+10  \n",
       "2021-06-01             1.615731e+10               1.154211e+10  1.465265e+10  \n",
       "2021-07-01             1.607140e+10               1.153808e+10  1.570838e+10  \n",
       "2021-08-01             1.615071e+10               1.153775e+10  1.597532e+10  \n",
       "2021-09-01             1.631341e+10               1.153766e+10  1.622460e+10  \n",
       "2021-10-01             1.655448e+10               1.153883e+10  1.664068e+10  \n",
       "2021-11-01             1.678806e+10               1.153997e+10  1.737603e+10  \n",
       "2021-12-01             1.699691e+10               1.154085e+10  1.853772e+10  "
      ]
     },
     "execution_count": 89,
     "metadata": {},
     "output_type": "execute_result"
    }
   ],
   "source": [
    "df_prev"
   ]
  },
  {
   "cell_type": "code",
   "execution_count": 90,
   "metadata": {},
   "outputs": [
    {
     "data": {
      "text/html": [
       "<div>\n",
       "<style scoped>\n",
       "    .dataframe tbody tr th:only-of-type {\n",
       "        vertical-align: middle;\n",
       "    }\n",
       "\n",
       "    .dataframe tbody tr th {\n",
       "        vertical-align: top;\n",
       "    }\n",
       "\n",
       "    .dataframe thead th {\n",
       "        text-align: right;\n",
       "    }\n",
       "</style>\n",
       "<table border=\"1\" class=\"dataframe\">\n",
       "  <thead>\n",
       "    <tr style=\"text-align: right;\">\n",
       "      <th></th>\n",
       "      <th>RNN-LSTM-1-mês-larga</th>\n",
       "      <th>RNN-LSTM-1-mês-camadas</th>\n",
       "      <th>RNN-LSTM-12-meses-larga</th>\n",
       "      <th>RNN-LSTM-12-meses-camadas</th>\n",
       "    </tr>\n",
       "  </thead>\n",
       "  <tbody>\n",
       "    <tr>\n",
       "      <th>0</th>\n",
       "      <td>12.846273</td>\n",
       "      <td>14.025071</td>\n",
       "      <td>18.151177</td>\n",
       "      <td>18.337454</td>\n",
       "    </tr>\n",
       "    <tr>\n",
       "      <th>1</th>\n",
       "      <td>18.925573</td>\n",
       "      <td>11.096385</td>\n",
       "      <td>21.921258</td>\n",
       "      <td>15.732652</td>\n",
       "    </tr>\n",
       "    <tr>\n",
       "      <th>2</th>\n",
       "      <td>11.021801</td>\n",
       "      <td>17.821019</td>\n",
       "      <td>11.950193</td>\n",
       "      <td>22.198215</td>\n",
       "    </tr>\n",
       "    <tr>\n",
       "      <th>3</th>\n",
       "      <td>22.169672</td>\n",
       "      <td>10.910146</td>\n",
       "      <td>20.699379</td>\n",
       "      <td>15.514400</td>\n",
       "    </tr>\n",
       "    <tr>\n",
       "      <th>4</th>\n",
       "      <td>19.019078</td>\n",
       "      <td>14.041931</td>\n",
       "      <td>15.555440</td>\n",
       "      <td>18.388500</td>\n",
       "    </tr>\n",
       "    <tr>\n",
       "      <th>5</th>\n",
       "      <td>15.550134</td>\n",
       "      <td>17.128611</td>\n",
       "      <td>10.268804</td>\n",
       "      <td>21.228553</td>\n",
       "    </tr>\n",
       "    <tr>\n",
       "      <th>6</th>\n",
       "      <td>8.226965</td>\n",
       "      <td>22.777647</td>\n",
       "      <td>2.310997</td>\n",
       "      <td>26.548253</td>\n",
       "    </tr>\n",
       "    <tr>\n",
       "      <th>7</th>\n",
       "      <td>6.541392</td>\n",
       "      <td>24.054687</td>\n",
       "      <td>1.097876</td>\n",
       "      <td>27.777678</td>\n",
       "    </tr>\n",
       "    <tr>\n",
       "      <th>8</th>\n",
       "      <td>4.974104</td>\n",
       "      <td>25.253054</td>\n",
       "      <td>0.547333</td>\n",
       "      <td>28.887872</td>\n",
       "    </tr>\n",
       "    <tr>\n",
       "      <th>9</th>\n",
       "      <td>2.395461</td>\n",
       "      <td>27.116014</td>\n",
       "      <td>0.518015</td>\n",
       "      <td>30.658918</td>\n",
       "    </tr>\n",
       "    <tr>\n",
       "      <th>10</th>\n",
       "      <td>1.933608</td>\n",
       "      <td>30.195003</td>\n",
       "      <td>3.383801</td>\n",
       "      <td>33.586842</td>\n",
       "    </tr>\n",
       "    <tr>\n",
       "      <th>11</th>\n",
       "      <td>8.093078</td>\n",
       "      <td>34.565171</td>\n",
       "      <td>8.311766</td>\n",
       "      <td>37.743951</td>\n",
       "    </tr>\n",
       "  </tbody>\n",
       "</table>\n",
       "</div>"
      ],
      "text/plain": [
       "    RNN-LSTM-1-mês-larga  RNN-LSTM-1-mês-camadas  RNN-LSTM-12-meses-larga  \\\n",
       "0              12.846273               14.025071                18.151177   \n",
       "1              18.925573               11.096385                21.921258   \n",
       "2              11.021801               17.821019                11.950193   \n",
       "3              22.169672               10.910146                20.699379   \n",
       "4              19.019078               14.041931                15.555440   \n",
       "5              15.550134               17.128611                10.268804   \n",
       "6               8.226965               22.777647                 2.310997   \n",
       "7               6.541392               24.054687                 1.097876   \n",
       "8               4.974104               25.253054                 0.547333   \n",
       "9               2.395461               27.116014                 0.518015   \n",
       "10              1.933608               30.195003                 3.383801   \n",
       "11              8.093078               34.565171                 8.311766   \n",
       "\n",
       "    RNN-LSTM-12-meses-camadas  \n",
       "0                   18.337454  \n",
       "1                   15.732652  \n",
       "2                   22.198215  \n",
       "3                   15.514400  \n",
       "4                   18.388500  \n",
       "5                   21.228553  \n",
       "6                   26.548253  \n",
       "7                   27.777678  \n",
       "8                   28.887872  \n",
       "9                   30.658918  \n",
       "10                  33.586842  \n",
       "11                  37.743951  "
      ]
     },
     "execution_count": 90,
     "metadata": {},
     "output_type": "execute_result"
    }
   ],
   "source": [
    "df_erro"
   ]
  },
  {
   "cell_type": "markdown",
   "metadata": {},
   "source": [
    "#### Previsões"
   ]
  },
  {
   "cell_type": "code",
   "execution_count": 91,
   "metadata": {},
   "outputs": [
    {
     "data": {
      "image/png": "[encoded data removed]",
      "text/plain": [
       "<Figure size 1080x720 with 1 Axes>"
      ]
     },
     "metadata": {
      "needs_background": "light"
     },
     "output_type": "display_data"
    }
   ],
   "source": [
    "fig = plt.figure(figsize=(15, 10))\n",
    "ax = sns.lineplot(data=df_prev)"
   ]
  },
  {
   "cell_type": "markdown",
   "metadata": {},
   "source": [
    "#### RMSE"
   ]
  },
  {
   "cell_type": "code",
   "execution_count": 92,
   "metadata": {
    "scrolled": false
   },
   "outputs": [
    {
     "data": {
      "image/png": "[encoded data removed]",
      "text/plain": [
       "<Figure size 1080x720 with 1 Axes>"
      ]
     },
     "metadata": {
      "needs_background": "light"
     },
     "output_type": "display_data"
    }
   ],
   "source": [
    "fig = plt.figure(figsize=(15, 10))\n",
    "#df_rmse = df_rmse.drop(['mov_avg_12'], axis=1)\n",
    "ax = sns.barplot(data=df_rmse)\n",
    "_ = plt.xticks(rotation=45)"
   ]
  },
  {
   "cell_type": "markdown",
   "metadata": {},
   "source": [
    "#### MAPE"
   ]
  },
  {
   "cell_type": "code",
   "execution_count": 93,
   "metadata": {
    "scrolled": false
   },
   "outputs": [
    {
     "data": {
      "image/png": "[encoded data removed]",
      "text/plain": [
       "<Figure size 1080x720 with 1 Axes>"
      ]
     },
     "metadata": {
      "needs_background": "light"
     },
     "output_type": "display_data"
    }
   ],
   "source": [
    "fig = plt.figure(figsize=(15, 10))\n",
    "#df_mape = df_mape.drop(['mov_avg_12'], axis=1)\n",
    "ax = sns.barplot(data=df_mape)\n",
    "_ = plt.xticks(rotation=45)"
   ]
  },
  {
   "cell_type": "markdown",
   "metadata": {},
   "source": [
    "### Resumo das métricas"
   ]
  },
  {
   "cell_type": "code",
   "execution_count": 94,
   "metadata": {},
   "outputs": [],
   "source": [
    "df_rmse.index = ['RMSE']\n",
    "df_mape.index = ['MAPE']"
   ]
  },
  {
   "cell_type": "code",
   "execution_count": 95,
   "metadata": {},
   "outputs": [
    {
     "data": {
      "text/html": [
       "<div>\n",
       "<style scoped>\n",
       "    .dataframe tbody tr th:only-of-type {\n",
       "        vertical-align: middle;\n",
       "    }\n",
       "\n",
       "    .dataframe tbody tr th {\n",
       "        vertical-align: top;\n",
       "    }\n",
       "\n",
       "    .dataframe thead th {\n",
       "        text-align: right;\n",
       "    }\n",
       "</style>\n",
       "<table border=\"1\" class=\"dataframe\">\n",
       "  <thead>\n",
       "    <tr style=\"text-align: right;\">\n",
       "      <th></th>\n",
       "      <th>RNN-LSTM-1-mês-larga</th>\n",
       "      <th>RNN-LSTM-1-mês-camadas</th>\n",
       "      <th>RNN-LSTM-12-meses-larga</th>\n",
       "      <th>RNN-LSTM-12-meses-camadas</th>\n",
       "    </tr>\n",
       "  </thead>\n",
       "  <tbody>\n",
       "    <tr>\n",
       "      <th>RMSE</th>\n",
       "      <td>1.831323e+09</td>\n",
       "      <td>3.640152e+09</td>\n",
       "      <td>1.750162e+09</td>\n",
       "      <td>4.195773e+09</td>\n",
       "    </tr>\n",
       "    <tr>\n",
       "      <th>MAPE</th>\n",
       "      <td>1.097476e-01</td>\n",
       "      <td>2.074873e-01</td>\n",
       "      <td>9.559670e-02</td>\n",
       "      <td>2.471694e-01</td>\n",
       "    </tr>\n",
       "  </tbody>\n",
       "</table>\n",
       "</div>"
      ],
      "text/plain": [
       "      RNN-LSTM-1-mês-larga  RNN-LSTM-1-mês-camadas  RNN-LSTM-12-meses-larga  \\\n",
       "RMSE          1.831323e+09            3.640152e+09             1.750162e+09   \n",
       "MAPE          1.097476e-01            2.074873e-01             9.559670e-02   \n",
       "\n",
       "      RNN-LSTM-12-meses-camadas  \n",
       "RMSE               4.195773e+09  \n",
       "MAPE               2.471694e-01  "
      ]
     },
     "execution_count": 95,
     "metadata": {},
     "output_type": "execute_result"
    }
   ],
   "source": [
    "df_metricas = df_rmse.copy()\n",
    "df_metricas = df_metricas.append(df_mape.copy())\n",
    "df_metricas"
   ]
  },
  {
   "cell_type": "code",
   "execution_count": 96,
   "metadata": {},
   "outputs": [
    {
     "name": "stdout",
     "output_type": "stream",
     "text": [
      "\\begin{tabular}{lrr}\n",
      "\\toprule\n",
      "{} &          RMSE &      MAPE \\\\\n",
      "\\midrule\n",
      "RNN-LSTM-1-mês-larga      &  1.831323e+09 &  0.109748 \\\\\n",
      "RNN-LSTM-1-mês-camadas    &  3.640152e+09 &  0.207487 \\\\\n",
      "RNN-LSTM-12-meses-larga   &  1.750162e+09 &  0.095597 \\\\\n",
      "RNN-LSTM-12-meses-camadas &  4.195773e+09 &  0.247169 \\\\\n",
      "\\bottomrule\n",
      "\\end{tabular}\n",
      "\n"
     ]
    }
   ],
   "source": [
    "print(df_metricas.transpose().to_latex())"
   ]
  },
  {
   "cell_type": "code",
   "execution_count": 97,
   "metadata": {
    "scrolled": true
   },
   "outputs": [
    {
     "name": "stdout",
     "output_type": "stream",
     "text": [
      "\\begin{tabular}{l}\n",
      "\\toprule\n",
      "Empty DataFrame\n",
      "Columns: DatetimeIndex([], dtype='datetime64[ns]', name='date', freq=None)\n",
      "Index: Index(['RNN-LSTM-1-mês-larga', 'RNN-LSTM-1-mês-camadas',\n",
      "       'RNN-LSTM-12-meses-larga', 'RNN-LSTM-12-meses-camadas', 'real'],\n",
      "      dtype='object') \\\\\n",
      "\\bottomrule\n",
      "\\end{tabular}\n",
      "\n"
     ]
    }
   ],
   "source": [
    "print(df_prev['2022-01-01':'2022-04-01'].transpose().to_latex(escape=False))"
   ]
  },
  {
   "cell_type": "code",
   "execution_count": 98,
   "metadata": {},
   "outputs": [
    {
     "name": "stdout",
     "output_type": "stream",
     "text": [
      "\\begin{tabular}{l}\n",
      "\\toprule\n",
      "Empty DataFrame\n",
      "Columns: DatetimeIndex([], dtype='datetime64[ns]', name='date', freq=None)\n",
      "Index: Index(['RNN-LSTM-1-mês-larga', 'RNN-LSTM-1-mês-camadas',\n",
      "       'RNN-LSTM-12-meses-larga', 'RNN-LSTM-12-meses-camadas', 'real'],\n",
      "      dtype='object') \\\\\n",
      "\\bottomrule\n",
      "\\end{tabular}\n",
      "\n"
     ]
    }
   ],
   "source": [
    "print(df_prev['2022-05-01':'2022-08-01'].transpose().to_latex(escape=False))"
   ]
  },
  {
   "cell_type": "code",
   "execution_count": 99,
   "metadata": {},
   "outputs": [
    {
     "name": "stdout",
     "output_type": "stream",
     "text": [
      "\\begin{tabular}{l}\n",
      "\\toprule\n",
      "Empty DataFrame\n",
      "Columns: DatetimeIndex([], dtype='datetime64[ns]', name='date', freq=None)\n",
      "Index: Index(['RNN-LSTM-1-mês-larga', 'RNN-LSTM-1-mês-camadas',\n",
      "       'RNN-LSTM-12-meses-larga', 'RNN-LSTM-12-meses-camadas', 'real'],\n",
      "      dtype='object') \\\\\n",
      "\\bottomrule\n",
      "\\end{tabular}\n",
      "\n"
     ]
    }
   ],
   "source": [
    "print(df_prev['2022-09-01':'2022-12-01'].transpose().to_latex(escape=False))"
   ]
  },
  {
   "cell_type": "code",
   "execution_count": null,
   "metadata": {},
   "outputs": [],
   "source": []
  }
 ],
 "metadata": {
  "kernelspec": {
   "display_name": "Python 3",
   "language": "python",
   "name": "python3"
  },
  "language_info": {
   "codemirror_mode": {
    "name": "ipython",
    "version": 3
   },
   "file_extension": ".py",
   "mimetype": "text/x-python",
   "name": "python",
   "nbconvert_exporter": "python",
   "pygments_lexer": "ipython3",
   "version": "3.6.4"
  }
 },
 "nbformat": 4,
 "nbformat_minor": 2
}
