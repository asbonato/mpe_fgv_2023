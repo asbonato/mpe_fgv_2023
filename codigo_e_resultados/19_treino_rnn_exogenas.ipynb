{
 "cells": [
  {
   "cell_type": "markdown",
   "metadata": {},
   "source": [
    "# Aplicação de Modelos de Markov e Redes Neurais LSTM na Previsão de Arrecadação do ICMS Paulista\n",
    "## Resultados 2019\n",
    "\n",
    "### Antonio Sergio Ferreira Bonato"
   ]
  },
  {
   "cell_type": "markdown",
   "metadata": {},
   "source": [
    "Atualmente, na Secretaria da Fazenda e Planejamento do Estado de São Paulo, a previsão de arrecadação do ICMS paulista é feita usando-se um modelo ARIMA com variáveis exógenas, o ARIMAX. Mas o ICMS é não linear e há várias quebras estruturais controladas com diversas *dummies*. A consequência é um modelo bastante sobreajustado, inadequado para previsões de mais longo prazo (mais do que alguns meses, muito menos para um ano). \n",
    "A proposta deste trabalho é utilizar modelos não lineares multivariados na previsão do ICMS paulista, utilizando redes neurais recorrentes LSTM (*Long Short Term Memory*) e modelos Markov-Switching, fazendo um contraponto entre estes dois modelos. E utilizar, como baseline de comparação, o modelo ARIMAX atual. \n",
    "\n",
    "**Palavras-chave**: Markov-Switching Models. Redes Neurais Recorrentes. LSTM. ICMS."
   ]
  },
  {
   "cell_type": "markdown",
   "metadata": {},
   "source": [
    "## Treino das RNN-LSTM Multivariadas"
   ]
  },
  {
   "cell_type": "code",
   "execution_count": 1,
   "metadata": {},
   "outputs": [],
   "source": [
    "import pandas as pd\n",
    "import numpy as np\n",
    "import seaborn as sns\n",
    "import matplotlib.pyplot as plt\n",
    "import statsmodels.tsa.stattools\n",
    "import statsmodels.tsa.x13\n",
    "import statsmodels.graphics.tsaplots\n",
    "import statsmodels.api as sm\n",
    "from statsmodels.graphics.api import qqplot\n",
    "from statsmodels.tsa.api import acf, graphics, pacf\n",
    "from statsmodels.tsa.arima.model import ARIMA\n",
    "import pickle\n",
    "from pmdarima.arima import auto_arima\n",
    "from sklearn.metrics import mean_squared_error, mean_absolute_percentage_error\n",
    "import random\n",
    "import tensorflow as tf\n",
    "seed = 42\n",
    "random.seed(seed)\n",
    "np.random.seed(seed)\n",
    "tf.random.set_seed(seed)\n",
    "\n",
    "sns.set()\n",
    "sns.set_context(\"notebook\")\n",
    "sns.set(rc={'figure.figsize':(15,8)})"
   ]
  },
  {
   "cell_type": "code",
   "execution_count": 2,
   "metadata": {},
   "outputs": [],
   "source": [
    "import warnings\n",
    "warnings.filterwarnings('ignore')\n",
    "warnings.simplefilter('ignore')"
   ]
  },
  {
   "cell_type": "code",
   "execution_count": 3,
   "metadata": {},
   "outputs": [
    {
     "data": {
      "text/html": [
       "<div>\n",
       "<style scoped>\n",
       "    .dataframe tbody tr th:only-of-type {\n",
       "        vertical-align: middle;\n",
       "    }\n",
       "\n",
       "    .dataframe tbody tr th {\n",
       "        vertical-align: top;\n",
       "    }\n",
       "\n",
       "    .dataframe thead th {\n",
       "        text-align: right;\n",
       "    }\n",
       "</style>\n",
       "<table border=\"1\" class=\"dataframe\">\n",
       "  <thead>\n",
       "    <tr style=\"text-align: right;\">\n",
       "      <th></th>\n",
       "      <th>date</th>\n",
       "      <th>icms_sp</th>\n",
       "      <th>igp_m</th>\n",
       "      <th>dolar</th>\n",
       "      <th>ibc_br</th>\n",
       "      <th>dias_uteis</th>\n",
       "      <th>igp_m_22</th>\n",
       "      <th>dolar_22</th>\n",
       "      <th>ibc_br_22</th>\n",
       "      <th>igp_m_21</th>\n",
       "      <th>...</th>\n",
       "      <th>ibc_br_16</th>\n",
       "      <th>igp_m_15</th>\n",
       "      <th>dolar_15</th>\n",
       "      <th>ibc_br_15</th>\n",
       "      <th>igp_m_14</th>\n",
       "      <th>dolar_14</th>\n",
       "      <th>ibc_br_14</th>\n",
       "      <th>igp_m_13</th>\n",
       "      <th>dolar_13</th>\n",
       "      <th>ibc_br_13</th>\n",
       "    </tr>\n",
       "  </thead>\n",
       "  <tbody>\n",
       "    <tr>\n",
       "      <th>0</th>\n",
       "      <td>2003-01-01</td>\n",
       "      <td>3.360296e+09</td>\n",
       "      <td>277.173</td>\n",
       "      <td>3.4384</td>\n",
       "      <td>96.15</td>\n",
       "      <td>22</td>\n",
       "      <td>277.173</td>\n",
       "      <td>3.4384</td>\n",
       "      <td>96.15</td>\n",
       "      <td>277.173</td>\n",
       "      <td>...</td>\n",
       "      <td>96.15</td>\n",
       "      <td>277.173</td>\n",
       "      <td>3.4384</td>\n",
       "      <td>96.15</td>\n",
       "      <td>277.173</td>\n",
       "      <td>3.4384</td>\n",
       "      <td>96.15</td>\n",
       "      <td>277.173</td>\n",
       "      <td>3.4384</td>\n",
       "      <td>96.15</td>\n",
       "    </tr>\n",
       "    <tr>\n",
       "      <th>1</th>\n",
       "      <td>2003-02-01</td>\n",
       "      <td>3.196558e+09</td>\n",
       "      <td>283.506</td>\n",
       "      <td>3.5908</td>\n",
       "      <td>98.67</td>\n",
       "      <td>20</td>\n",
       "      <td>283.506</td>\n",
       "      <td>3.5908</td>\n",
       "      <td>98.67</td>\n",
       "      <td>283.506</td>\n",
       "      <td>...</td>\n",
       "      <td>98.67</td>\n",
       "      <td>283.506</td>\n",
       "      <td>3.5908</td>\n",
       "      <td>98.67</td>\n",
       "      <td>283.506</td>\n",
       "      <td>3.5908</td>\n",
       "      <td>98.67</td>\n",
       "      <td>283.506</td>\n",
       "      <td>3.5908</td>\n",
       "      <td>98.67</td>\n",
       "    </tr>\n",
       "    <tr>\n",
       "      <th>2</th>\n",
       "      <td>2003-03-01</td>\n",
       "      <td>3.160011e+09</td>\n",
       "      <td>287.855</td>\n",
       "      <td>3.4469</td>\n",
       "      <td>103.41</td>\n",
       "      <td>19</td>\n",
       "      <td>287.855</td>\n",
       "      <td>3.4469</td>\n",
       "      <td>103.41</td>\n",
       "      <td>287.855</td>\n",
       "      <td>...</td>\n",
       "      <td>103.41</td>\n",
       "      <td>287.855</td>\n",
       "      <td>3.4469</td>\n",
       "      <td>103.41</td>\n",
       "      <td>287.855</td>\n",
       "      <td>3.4469</td>\n",
       "      <td>103.41</td>\n",
       "      <td>287.855</td>\n",
       "      <td>3.4469</td>\n",
       "      <td>103.41</td>\n",
       "    </tr>\n",
       "    <tr>\n",
       "      <th>3</th>\n",
       "      <td>2003-04-01</td>\n",
       "      <td>3.215307e+09</td>\n",
       "      <td>290.512</td>\n",
       "      <td>3.1187</td>\n",
       "      <td>102.19</td>\n",
       "      <td>20</td>\n",
       "      <td>290.512</td>\n",
       "      <td>3.1187</td>\n",
       "      <td>102.19</td>\n",
       "      <td>290.512</td>\n",
       "      <td>...</td>\n",
       "      <td>102.19</td>\n",
       "      <td>290.512</td>\n",
       "      <td>3.1187</td>\n",
       "      <td>102.19</td>\n",
       "      <td>290.512</td>\n",
       "      <td>3.1187</td>\n",
       "      <td>102.19</td>\n",
       "      <td>290.512</td>\n",
       "      <td>3.1187</td>\n",
       "      <td>102.19</td>\n",
       "    </tr>\n",
       "    <tr>\n",
       "      <th>4</th>\n",
       "      <td>2003-05-01</td>\n",
       "      <td>3.098930e+09</td>\n",
       "      <td>289.747</td>\n",
       "      <td>2.9557</td>\n",
       "      <td>100.30</td>\n",
       "      <td>21</td>\n",
       "      <td>289.747</td>\n",
       "      <td>2.9557</td>\n",
       "      <td>100.30</td>\n",
       "      <td>289.747</td>\n",
       "      <td>...</td>\n",
       "      <td>100.30</td>\n",
       "      <td>289.747</td>\n",
       "      <td>2.9557</td>\n",
       "      <td>100.30</td>\n",
       "      <td>289.747</td>\n",
       "      <td>2.9557</td>\n",
       "      <td>100.30</td>\n",
       "      <td>289.747</td>\n",
       "      <td>2.9557</td>\n",
       "      <td>100.30</td>\n",
       "    </tr>\n",
       "  </tbody>\n",
       "</table>\n",
       "<p>5 rows × 36 columns</p>\n",
       "</div>"
      ],
      "text/plain": [
       "        date       icms_sp    igp_m   dolar  ibc_br  dias_uteis  igp_m_22  \\\n",
       "0 2003-01-01  3.360296e+09  277.173  3.4384   96.15          22   277.173   \n",
       "1 2003-02-01  3.196558e+09  283.506  3.5908   98.67          20   283.506   \n",
       "2 2003-03-01  3.160011e+09  287.855  3.4469  103.41          19   287.855   \n",
       "3 2003-04-01  3.215307e+09  290.512  3.1187  102.19          20   290.512   \n",
       "4 2003-05-01  3.098930e+09  289.747  2.9557  100.30          21   289.747   \n",
       "\n",
       "   dolar_22  ibc_br_22  igp_m_21  ...  ibc_br_16  igp_m_15  dolar_15  \\\n",
       "0    3.4384      96.15   277.173  ...      96.15   277.173    3.4384   \n",
       "1    3.5908      98.67   283.506  ...      98.67   283.506    3.5908   \n",
       "2    3.4469     103.41   287.855  ...     103.41   287.855    3.4469   \n",
       "3    3.1187     102.19   290.512  ...     102.19   290.512    3.1187   \n",
       "4    2.9557     100.30   289.747  ...     100.30   289.747    2.9557   \n",
       "\n",
       "   ibc_br_15  igp_m_14  dolar_14  ibc_br_14  igp_m_13  dolar_13  ibc_br_13  \n",
       "0      96.15   277.173    3.4384      96.15   277.173    3.4384      96.15  \n",
       "1      98.67   283.506    3.5908      98.67   283.506    3.5908      98.67  \n",
       "2     103.41   287.855    3.4469     103.41   287.855    3.4469     103.41  \n",
       "3     102.19   290.512    3.1187     102.19   290.512    3.1187     102.19  \n",
       "4     100.30   289.747    2.9557     100.30   289.747    2.9557     100.30  \n",
       "\n",
       "[5 rows x 36 columns]"
      ]
     },
     "execution_count": 3,
     "metadata": {},
     "output_type": "execute_result"
    }
   ],
   "source": [
    "df_main_orig = pd.read_excel(\"variaveis_previsao.xlsx\", parse_dates=['date'])\n",
    "df_main_orig.head()"
   ]
  },
  {
   "cell_type": "code",
   "execution_count": 4,
   "metadata": {},
   "outputs": [
    {
     "data": {
      "text/html": [
       "<div>\n",
       "<style scoped>\n",
       "    .dataframe tbody tr th:only-of-type {\n",
       "        vertical-align: middle;\n",
       "    }\n",
       "\n",
       "    .dataframe tbody tr th {\n",
       "        vertical-align: top;\n",
       "    }\n",
       "\n",
       "    .dataframe thead th {\n",
       "        text-align: right;\n",
       "    }\n",
       "</style>\n",
       "<table border=\"1\" class=\"dataframe\">\n",
       "  <thead>\n",
       "    <tr style=\"text-align: right;\">\n",
       "      <th></th>\n",
       "      <th>date</th>\n",
       "      <th>icms_sp</th>\n",
       "      <th>igp_m</th>\n",
       "      <th>dolar</th>\n",
       "      <th>ibc_br</th>\n",
       "      <th>dias_uteis</th>\n",
       "      <th>igp_m_22</th>\n",
       "      <th>dolar_22</th>\n",
       "      <th>ibc_br_22</th>\n",
       "      <th>igp_m_21</th>\n",
       "      <th>...</th>\n",
       "      <th>ibc_br_16</th>\n",
       "      <th>igp_m_15</th>\n",
       "      <th>dolar_15</th>\n",
       "      <th>ibc_br_15</th>\n",
       "      <th>igp_m_14</th>\n",
       "      <th>dolar_14</th>\n",
       "      <th>ibc_br_14</th>\n",
       "      <th>igp_m_13</th>\n",
       "      <th>dolar_13</th>\n",
       "      <th>ibc_br_13</th>\n",
       "    </tr>\n",
       "  </thead>\n",
       "  <tbody>\n",
       "    <tr>\n",
       "      <th>235</th>\n",
       "      <td>2022-08-01</td>\n",
       "      <td>1.756224e+10</td>\n",
       "      <td>1185.004</td>\n",
       "      <td>5.143287</td>\n",
       "      <td>149.60</td>\n",
       "      <td>23</td>\n",
       "      <td>1137.167829</td>\n",
       "      <td>5.6496</td>\n",
       "      <td>146.408337</td>\n",
       "      <td>NaN</td>\n",
       "      <td>...</td>\n",
       "      <td>NaN</td>\n",
       "      <td>NaN</td>\n",
       "      <td>NaN</td>\n",
       "      <td>NaN</td>\n",
       "      <td>NaN</td>\n",
       "      <td>NaN</td>\n",
       "      <td>NaN</td>\n",
       "      <td>NaN</td>\n",
       "      <td>NaN</td>\n",
       "      <td>NaN</td>\n",
       "    </tr>\n",
       "    <tr>\n",
       "      <th>236</th>\n",
       "      <td>2022-09-01</td>\n",
       "      <td>1.726287e+10</td>\n",
       "      <td>1173.793</td>\n",
       "      <td>5.236957</td>\n",
       "      <td>144.44</td>\n",
       "      <td>21</td>\n",
       "      <td>1143.597376</td>\n",
       "      <td>5.6800</td>\n",
       "      <td>142.808302</td>\n",
       "      <td>NaN</td>\n",
       "      <td>...</td>\n",
       "      <td>NaN</td>\n",
       "      <td>NaN</td>\n",
       "      <td>NaN</td>\n",
       "      <td>NaN</td>\n",
       "      <td>NaN</td>\n",
       "      <td>NaN</td>\n",
       "      <td>NaN</td>\n",
       "      <td>NaN</td>\n",
       "      <td>NaN</td>\n",
       "      <td>NaN</td>\n",
       "    </tr>\n",
       "    <tr>\n",
       "      <th>237</th>\n",
       "      <td>2022-10-01</td>\n",
       "      <td>1.565000e+10</td>\n",
       "      <td>1162.391</td>\n",
       "      <td>5.250300</td>\n",
       "      <td>142.34</td>\n",
       "      <td>20</td>\n",
       "      <td>1150.115881</td>\n",
       "      <td>5.6700</td>\n",
       "      <td>144.063428</td>\n",
       "      <td>NaN</td>\n",
       "      <td>...</td>\n",
       "      <td>NaN</td>\n",
       "      <td>NaN</td>\n",
       "      <td>NaN</td>\n",
       "      <td>NaN</td>\n",
       "      <td>NaN</td>\n",
       "      <td>NaN</td>\n",
       "      <td>NaN</td>\n",
       "      <td>NaN</td>\n",
       "      <td>NaN</td>\n",
       "      <td>NaN</td>\n",
       "    </tr>\n",
       "    <tr>\n",
       "      <th>238</th>\n",
       "      <td>2022-11-01</td>\n",
       "      <td>1.605000e+10</td>\n",
       "      <td>1155.829</td>\n",
       "      <td>5.274650</td>\n",
       "      <td>140.80</td>\n",
       "      <td>20</td>\n",
       "      <td>1155.866460</td>\n",
       "      <td>5.6000</td>\n",
       "      <td>143.165409</td>\n",
       "      <td>NaN</td>\n",
       "      <td>...</td>\n",
       "      <td>NaN</td>\n",
       "      <td>NaN</td>\n",
       "      <td>NaN</td>\n",
       "      <td>NaN</td>\n",
       "      <td>NaN</td>\n",
       "      <td>NaN</td>\n",
       "      <td>NaN</td>\n",
       "      <td>NaN</td>\n",
       "      <td>NaN</td>\n",
       "      <td>NaN</td>\n",
       "    </tr>\n",
       "    <tr>\n",
       "      <th>239</th>\n",
       "      <td>2022-12-01</td>\n",
       "      <td>1.767135e+10</td>\n",
       "      <td>1161.006</td>\n",
       "      <td>5.242432</td>\n",
       "      <td>142.78</td>\n",
       "      <td>22</td>\n",
       "      <td>1161.645792</td>\n",
       "      <td>5.6000</td>\n",
       "      <td>141.405133</td>\n",
       "      <td>NaN</td>\n",
       "      <td>...</td>\n",
       "      <td>NaN</td>\n",
       "      <td>NaN</td>\n",
       "      <td>NaN</td>\n",
       "      <td>NaN</td>\n",
       "      <td>NaN</td>\n",
       "      <td>NaN</td>\n",
       "      <td>NaN</td>\n",
       "      <td>NaN</td>\n",
       "      <td>NaN</td>\n",
       "      <td>NaN</td>\n",
       "    </tr>\n",
       "  </tbody>\n",
       "</table>\n",
       "<p>5 rows × 36 columns</p>\n",
       "</div>"
      ],
      "text/plain": [
       "          date       icms_sp     igp_m     dolar  ibc_br  dias_uteis  \\\n",
       "235 2022-08-01  1.756224e+10  1185.004  5.143287  149.60          23   \n",
       "236 2022-09-01  1.726287e+10  1173.793  5.236957  144.44          21   \n",
       "237 2022-10-01  1.565000e+10  1162.391  5.250300  142.34          20   \n",
       "238 2022-11-01  1.605000e+10  1155.829  5.274650  140.80          20   \n",
       "239 2022-12-01  1.767135e+10  1161.006  5.242432  142.78          22   \n",
       "\n",
       "        igp_m_22  dolar_22   ibc_br_22  igp_m_21  ...  ibc_br_16  igp_m_15  \\\n",
       "235  1137.167829    5.6496  146.408337       NaN  ...        NaN       NaN   \n",
       "236  1143.597376    5.6800  142.808302       NaN  ...        NaN       NaN   \n",
       "237  1150.115881    5.6700  144.063428       NaN  ...        NaN       NaN   \n",
       "238  1155.866460    5.6000  143.165409       NaN  ...        NaN       NaN   \n",
       "239  1161.645792    5.6000  141.405133       NaN  ...        NaN       NaN   \n",
       "\n",
       "     dolar_15  ibc_br_15  igp_m_14  dolar_14  ibc_br_14  igp_m_13  dolar_13  \\\n",
       "235       NaN        NaN       NaN       NaN        NaN       NaN       NaN   \n",
       "236       NaN        NaN       NaN       NaN        NaN       NaN       NaN   \n",
       "237       NaN        NaN       NaN       NaN        NaN       NaN       NaN   \n",
       "238       NaN        NaN       NaN       NaN        NaN       NaN       NaN   \n",
       "239       NaN        NaN       NaN       NaN        NaN       NaN       NaN   \n",
       "\n",
       "     ibc_br_13  \n",
       "235        NaN  \n",
       "236        NaN  \n",
       "237        NaN  \n",
       "238        NaN  \n",
       "239        NaN  \n",
       "\n",
       "[5 rows x 36 columns]"
      ]
     },
     "execution_count": 4,
     "metadata": {},
     "output_type": "execute_result"
    }
   ],
   "source": [
    "df_main_orig.tail()"
   ]
  },
  {
   "cell_type": "code",
   "execution_count": 5,
   "metadata": {},
   "outputs": [
    {
     "name": "stdout",
     "output_type": "stream",
     "text": [
      "<class 'pandas.core.frame.DataFrame'>\n",
      "RangeIndex: 240 entries, 0 to 239\n",
      "Data columns (total 36 columns):\n",
      " #   Column      Non-Null Count  Dtype         \n",
      "---  ------      --------------  -----         \n",
      " 0   date        240 non-null    datetime64[ns]\n",
      " 1   icms_sp     240 non-null    float64       \n",
      " 2   igp_m       240 non-null    float64       \n",
      " 3   dolar       240 non-null    float64       \n",
      " 4   ibc_br      240 non-null    float64       \n",
      " 5   dias_uteis  240 non-null    int64         \n",
      " 6   igp_m_22    240 non-null    float64       \n",
      " 7   dolar_22    240 non-null    float64       \n",
      " 8   ibc_br_22   240 non-null    float64       \n",
      " 9   igp_m_21    228 non-null    float64       \n",
      " 10  dolar_21    228 non-null    float64       \n",
      " 11  ibc_br_21   228 non-null    float64       \n",
      " 12  igp_m_20    216 non-null    float64       \n",
      " 13  dolar_20    216 non-null    float64       \n",
      " 14  ibc_br_20   216 non-null    float64       \n",
      " 15  igp_m_19    204 non-null    float64       \n",
      " 16  dolar_19    204 non-null    float64       \n",
      " 17  ibc_br_19   204 non-null    float64       \n",
      " 18  igp_m_18    192 non-null    float64       \n",
      " 19  dolar_18    192 non-null    float64       \n",
      " 20  ibc_br_18   192 non-null    float64       \n",
      " 21  igp_m_17    180 non-null    float64       \n",
      " 22  dolar_17    180 non-null    float64       \n",
      " 23  ibc_br_17   180 non-null    float64       \n",
      " 24  igp_m_16    168 non-null    float64       \n",
      " 25  dolar_16    168 non-null    float64       \n",
      " 26  ibc_br_16   168 non-null    float64       \n",
      " 27  igp_m_15    156 non-null    float64       \n",
      " 28  dolar_15    156 non-null    float64       \n",
      " 29  ibc_br_15   156 non-null    float64       \n",
      " 30  igp_m_14    144 non-null    float64       \n",
      " 31  dolar_14    144 non-null    float64       \n",
      " 32  ibc_br_14   144 non-null    float64       \n",
      " 33  igp_m_13    132 non-null    float64       \n",
      " 34  dolar_13    132 non-null    float64       \n",
      " 35  ibc_br_13   132 non-null    float64       \n",
      "dtypes: datetime64[ns](1), float64(34), int64(1)\n",
      "memory usage: 67.6 KB\n"
     ]
    }
   ],
   "source": [
    "df_main_orig.info()"
   ]
  },
  {
   "cell_type": "markdown",
   "metadata": {},
   "source": [
    "Removendo as últimas linhas que são todas NaN"
   ]
  },
  {
   "cell_type": "code",
   "execution_count": 6,
   "metadata": {},
   "outputs": [],
   "source": [
    "df_main = df_main_orig.iloc[0:204]\n",
    "datas = df_main['date']"
   ]
  },
  {
   "cell_type": "code",
   "execution_count": 7,
   "metadata": {},
   "outputs": [
    {
     "data": {
      "text/html": [
       "<div>\n",
       "<style scoped>\n",
       "    .dataframe tbody tr th:only-of-type {\n",
       "        vertical-align: middle;\n",
       "    }\n",
       "\n",
       "    .dataframe tbody tr th {\n",
       "        vertical-align: top;\n",
       "    }\n",
       "\n",
       "    .dataframe thead th {\n",
       "        text-align: right;\n",
       "    }\n",
       "</style>\n",
       "<table border=\"1\" class=\"dataframe\">\n",
       "  <thead>\n",
       "    <tr style=\"text-align: right;\">\n",
       "      <th></th>\n",
       "      <th>date</th>\n",
       "      <th>icms_sp</th>\n",
       "      <th>igp_m</th>\n",
       "      <th>dolar</th>\n",
       "      <th>ibc_br</th>\n",
       "      <th>dias_uteis</th>\n",
       "      <th>igp_m_22</th>\n",
       "      <th>dolar_22</th>\n",
       "      <th>ibc_br_22</th>\n",
       "      <th>igp_m_21</th>\n",
       "      <th>...</th>\n",
       "      <th>ibc_br_16</th>\n",
       "      <th>igp_m_15</th>\n",
       "      <th>dolar_15</th>\n",
       "      <th>ibc_br_15</th>\n",
       "      <th>igp_m_14</th>\n",
       "      <th>dolar_14</th>\n",
       "      <th>ibc_br_14</th>\n",
       "      <th>igp_m_13</th>\n",
       "      <th>dolar_13</th>\n",
       "      <th>ibc_br_13</th>\n",
       "    </tr>\n",
       "  </thead>\n",
       "  <tbody>\n",
       "    <tr>\n",
       "      <th>199</th>\n",
       "      <td>2019-08-01</td>\n",
       "      <td>1.178403e+10</td>\n",
       "      <td>736.402</td>\n",
       "      <td>4.019982</td>\n",
       "      <td>141.95</td>\n",
       "      <td>22</td>\n",
       "      <td>736.402</td>\n",
       "      <td>4.019982</td>\n",
       "      <td>141.95</td>\n",
       "      <td>736.402</td>\n",
       "      <td>...</td>\n",
       "      <td>NaN</td>\n",
       "      <td>NaN</td>\n",
       "      <td>NaN</td>\n",
       "      <td>NaN</td>\n",
       "      <td>NaN</td>\n",
       "      <td>NaN</td>\n",
       "      <td>NaN</td>\n",
       "      <td>NaN</td>\n",
       "      <td>NaN</td>\n",
       "      <td>NaN</td>\n",
       "    </tr>\n",
       "    <tr>\n",
       "      <th>200</th>\n",
       "      <td>2019-09-01</td>\n",
       "      <td>1.214739e+10</td>\n",
       "      <td>736.362</td>\n",
       "      <td>4.121500</td>\n",
       "      <td>138.33</td>\n",
       "      <td>21</td>\n",
       "      <td>736.362</td>\n",
       "      <td>4.121500</td>\n",
       "      <td>138.33</td>\n",
       "      <td>736.362</td>\n",
       "      <td>...</td>\n",
       "      <td>NaN</td>\n",
       "      <td>NaN</td>\n",
       "      <td>NaN</td>\n",
       "      <td>NaN</td>\n",
       "      <td>NaN</td>\n",
       "      <td>NaN</td>\n",
       "      <td>NaN</td>\n",
       "      <td>NaN</td>\n",
       "      <td>NaN</td>\n",
       "      <td>NaN</td>\n",
       "    </tr>\n",
       "    <tr>\n",
       "      <th>201</th>\n",
       "      <td>2019-10-01</td>\n",
       "      <td>1.251718e+10</td>\n",
       "      <td>741.333</td>\n",
       "      <td>4.086987</td>\n",
       "      <td>142.94</td>\n",
       "      <td>23</td>\n",
       "      <td>741.333</td>\n",
       "      <td>4.086987</td>\n",
       "      <td>142.94</td>\n",
       "      <td>741.333</td>\n",
       "      <td>...</td>\n",
       "      <td>NaN</td>\n",
       "      <td>NaN</td>\n",
       "      <td>NaN</td>\n",
       "      <td>NaN</td>\n",
       "      <td>NaN</td>\n",
       "      <td>NaN</td>\n",
       "      <td>NaN</td>\n",
       "      <td>NaN</td>\n",
       "      <td>NaN</td>\n",
       "      <td>NaN</td>\n",
       "    </tr>\n",
       "    <tr>\n",
       "      <th>202</th>\n",
       "      <td>2019-11-01</td>\n",
       "      <td>1.257453e+10</td>\n",
       "      <td>743.558</td>\n",
       "      <td>4.155345</td>\n",
       "      <td>138.88</td>\n",
       "      <td>20</td>\n",
       "      <td>743.558</td>\n",
       "      <td>4.155345</td>\n",
       "      <td>138.88</td>\n",
       "      <td>743.558</td>\n",
       "      <td>...</td>\n",
       "      <td>NaN</td>\n",
       "      <td>NaN</td>\n",
       "      <td>NaN</td>\n",
       "      <td>NaN</td>\n",
       "      <td>NaN</td>\n",
       "      <td>NaN</td>\n",
       "      <td>NaN</td>\n",
       "      <td>NaN</td>\n",
       "      <td>NaN</td>\n",
       "      <td>NaN</td>\n",
       "    </tr>\n",
       "    <tr>\n",
       "      <th>203</th>\n",
       "      <td>2019-12-01</td>\n",
       "      <td>1.314626e+10</td>\n",
       "      <td>759.112</td>\n",
       "      <td>4.109590</td>\n",
       "      <td>137.43</td>\n",
       "      <td>21</td>\n",
       "      <td>759.112</td>\n",
       "      <td>4.109590</td>\n",
       "      <td>137.43</td>\n",
       "      <td>759.112</td>\n",
       "      <td>...</td>\n",
       "      <td>NaN</td>\n",
       "      <td>NaN</td>\n",
       "      <td>NaN</td>\n",
       "      <td>NaN</td>\n",
       "      <td>NaN</td>\n",
       "      <td>NaN</td>\n",
       "      <td>NaN</td>\n",
       "      <td>NaN</td>\n",
       "      <td>NaN</td>\n",
       "      <td>NaN</td>\n",
       "    </tr>\n",
       "  </tbody>\n",
       "</table>\n",
       "<p>5 rows × 36 columns</p>\n",
       "</div>"
      ],
      "text/plain": [
       "          date       icms_sp    igp_m     dolar  ibc_br  dias_uteis  igp_m_22  \\\n",
       "199 2019-08-01  1.178403e+10  736.402  4.019982  141.95          22   736.402   \n",
       "200 2019-09-01  1.214739e+10  736.362  4.121500  138.33          21   736.362   \n",
       "201 2019-10-01  1.251718e+10  741.333  4.086987  142.94          23   741.333   \n",
       "202 2019-11-01  1.257453e+10  743.558  4.155345  138.88          20   743.558   \n",
       "203 2019-12-01  1.314626e+10  759.112  4.109590  137.43          21   759.112   \n",
       "\n",
       "     dolar_22  ibc_br_22  igp_m_21  ...  ibc_br_16  igp_m_15  dolar_15  \\\n",
       "199  4.019982     141.95   736.402  ...        NaN       NaN       NaN   \n",
       "200  4.121500     138.33   736.362  ...        NaN       NaN       NaN   \n",
       "201  4.086987     142.94   741.333  ...        NaN       NaN       NaN   \n",
       "202  4.155345     138.88   743.558  ...        NaN       NaN       NaN   \n",
       "203  4.109590     137.43   759.112  ...        NaN       NaN       NaN   \n",
       "\n",
       "     ibc_br_15  igp_m_14  dolar_14  ibc_br_14  igp_m_13  dolar_13  ibc_br_13  \n",
       "199        NaN       NaN       NaN        NaN       NaN       NaN        NaN  \n",
       "200        NaN       NaN       NaN        NaN       NaN       NaN        NaN  \n",
       "201        NaN       NaN       NaN        NaN       NaN       NaN        NaN  \n",
       "202        NaN       NaN       NaN        NaN       NaN       NaN        NaN  \n",
       "203        NaN       NaN       NaN        NaN       NaN       NaN        NaN  \n",
       "\n",
       "[5 rows x 36 columns]"
      ]
     },
     "execution_count": 7,
     "metadata": {},
     "output_type": "execute_result"
    }
   ],
   "source": [
    "df_main.tail()"
   ]
  },
  {
   "cell_type": "markdown",
   "metadata": {},
   "source": [
    "### Criação das Séries\n",
    "Como os valores do ICMS são muito elevados a série será colocada em log."
   ]
  },
  {
   "cell_type": "code",
   "execution_count": 8,
   "metadata": {},
   "outputs": [],
   "source": [
    "icms_ts = pd.Series(np.log(list(df_main['icms_sp'])), index = datas)\n",
    "ibcbr_ts = pd.Series(list(df_main['ibc_br']), index = datas)\n",
    "igpm_ts = pd.Series(list(df_main['igp_m']), index = datas)\n",
    "dolar_ts = pd.Series(list(df_main['dolar']), index = datas)\n",
    "dias_uteis_ts = pd.Series(list(df_main['dias_uteis']), index = datas)"
   ]
  },
  {
   "cell_type": "markdown",
   "metadata": {},
   "source": [
    "#### Testes de Valores Nulos"
   ]
  },
  {
   "cell_type": "code",
   "execution_count": 9,
   "metadata": {},
   "outputs": [
    {
     "name": "stdout",
     "output_type": "stream",
     "text": [
      "ICMS 0\n",
      "IBC-Br 0\n",
      "IGP-DI 0\n",
      "Dólar 0\n",
      "Dias Úteis 0\n"
     ]
    }
   ],
   "source": [
    "print('ICMS', icms_ts.isnull().sum())\n",
    "print('IBC-Br', ibcbr_ts.isnull().sum())\n",
    "print('IGP-DI', igpm_ts.isnull().sum())\n",
    "print('Dólar', dolar_ts.isnull().sum())\n",
    "print('Dias Úteis', dias_uteis_ts.isnull().sum())"
   ]
  },
  {
   "cell_type": "markdown",
   "metadata": {},
   "source": [
    "### Plotando a Série em Nível"
   ]
  },
  {
   "cell_type": "code",
   "execution_count": 10,
   "metadata": {},
   "outputs": [
    {
     "data": {
      "image/png": "[encoded data removed]",
      "text/plain": [
       "<Figure size 1080x2160 with 5 Axes>"
      ]
     },
     "metadata": {
      "needs_background": "light"
     },
     "output_type": "display_data"
    }
   ],
   "source": [
    "fig=plt.figure(figsize=(15, 30))\n",
    "ax1=fig.add_subplot(511)\n",
    "ax2=fig.add_subplot(512)\n",
    "ax3=fig.add_subplot(513)\n",
    "ax4=fig.add_subplot(514)\n",
    "ax5=fig.add_subplot(515)\n",
    "#plots\n",
    "ax1.plot(icms_ts, 'tab:blue', label='Log ICMS SP')\n",
    "ax1.legend(loc='best')\n",
    "ax2.plot(dias_uteis_ts, 'tab:purple', label='Dias Úteis')\n",
    "ax2.legend(loc='best')\n",
    "ax3.plot(ibcbr_ts, 'tab:orange',  label='IBC-BR')\n",
    "ax3.legend(loc='best')\n",
    "ax4.plot(igpm_ts, 'tab:gray', label='IGP-M')\n",
    "ax4.legend(loc='best')\n",
    "ax5.plot(dolar_ts, 'tab:green', label='Dólar')\n",
    "ax5.legend(loc='best')\n",
    "plt.show()"
   ]
  },
  {
   "cell_type": "markdown",
   "metadata": {},
   "source": [
    "## Preparação para Previsões"
   ]
  },
  {
   "cell_type": "markdown",
   "metadata": {},
   "source": [
    "O artigo usa, além de MAPE e MSE, o erro relativo, que é \n",
    "\n",
    "$Erro Relativo = \\frac{|previsão - real|}{real}$"
   ]
  },
  {
   "cell_type": "code",
   "execution_count": 11,
   "metadata": {},
   "outputs": [],
   "source": [
    "def erro_relativo(prev, real):\n",
    "    return 100*np.absolute(prev-real)/real"
   ]
  },
  {
   "cell_type": "markdown",
   "metadata": {},
   "source": [
    "#### Dicionário de Previsões"
   ]
  },
  {
   "cell_type": "code",
   "execution_count": 12,
   "metadata": {},
   "outputs": [],
   "source": [
    "previsoes = {\n",
    "    'nome':[],\n",
    "    'modelo': [],\n",
    "    'previsoes': [],\n",
    "    'rmse': [],\n",
    "    'mape': [],\n",
    "    'erro relativo':[]\n",
    "}"
   ]
  },
  {
   "cell_type": "markdown",
   "metadata": {},
   "source": [
    "### Separando a amostra em treinamento (in-sample) e teste (out-of-sample)\n",
    "Serão usadas as séries com sazonalidade e em nível e as questões de sazonalidade e estacionariedade serão tratadas pelo modelo."
   ]
  },
  {
   "cell_type": "code",
   "execution_count": 13,
   "metadata": {},
   "outputs": [
    {
     "data": {
      "text/html": [
       "<div>\n",
       "<style scoped>\n",
       "    .dataframe tbody tr th:only-of-type {\n",
       "        vertical-align: middle;\n",
       "    }\n",
       "\n",
       "    .dataframe tbody tr th {\n",
       "        vertical-align: top;\n",
       "    }\n",
       "\n",
       "    .dataframe thead th {\n",
       "        text-align: right;\n",
       "    }\n",
       "</style>\n",
       "<table border=\"1\" class=\"dataframe\">\n",
       "  <thead>\n",
       "    <tr style=\"text-align: right;\">\n",
       "      <th></th>\n",
       "      <th>ibcbr</th>\n",
       "      <th>igpdi</th>\n",
       "      <th>dolar</th>\n",
       "      <th>dias_uteis</th>\n",
       "    </tr>\n",
       "    <tr>\n",
       "      <th>date</th>\n",
       "      <th></th>\n",
       "      <th></th>\n",
       "      <th></th>\n",
       "      <th></th>\n",
       "    </tr>\n",
       "  </thead>\n",
       "  <tbody>\n",
       "    <tr>\n",
       "      <th>2003-01-01</th>\n",
       "      <td>96.15</td>\n",
       "      <td>277.173</td>\n",
       "      <td>3.4384</td>\n",
       "      <td>22.0</td>\n",
       "    </tr>\n",
       "    <tr>\n",
       "      <th>2003-02-01</th>\n",
       "      <td>98.67</td>\n",
       "      <td>283.506</td>\n",
       "      <td>3.5908</td>\n",
       "      <td>20.0</td>\n",
       "    </tr>\n",
       "    <tr>\n",
       "      <th>2003-03-01</th>\n",
       "      <td>103.41</td>\n",
       "      <td>287.855</td>\n",
       "      <td>3.4469</td>\n",
       "      <td>19.0</td>\n",
       "    </tr>\n",
       "    <tr>\n",
       "      <th>2003-04-01</th>\n",
       "      <td>102.19</td>\n",
       "      <td>290.512</td>\n",
       "      <td>3.1187</td>\n",
       "      <td>20.0</td>\n",
       "    </tr>\n",
       "    <tr>\n",
       "      <th>2003-05-01</th>\n",
       "      <td>100.30</td>\n",
       "      <td>289.747</td>\n",
       "      <td>2.9557</td>\n",
       "      <td>21.0</td>\n",
       "    </tr>\n",
       "  </tbody>\n",
       "</table>\n",
       "</div>"
      ],
      "text/plain": [
       "             ibcbr    igpdi   dolar  dias_uteis\n",
       "date                                           \n",
       "2003-01-01   96.15  277.173  3.4384        22.0\n",
       "2003-02-01   98.67  283.506  3.5908        20.0\n",
       "2003-03-01  103.41  287.855  3.4469        19.0\n",
       "2003-04-01  102.19  290.512  3.1187        20.0\n",
       "2003-05-01  100.30  289.747  2.9557        21.0"
      ]
     },
     "execution_count": 13,
     "metadata": {},
     "output_type": "execute_result"
    }
   ],
   "source": [
    "exog_df = pd.DataFrame((ibcbr_ts, igpm_ts,\n",
    "                        dolar_ts, dias_uteis_ts\n",
    "                       ), \n",
    "                        index=['ibcbr', 'igpdi', 'dolar', 'dias_uteis'\n",
    "                            ]).transpose()\n",
    "exog_df.head() "
   ]
  },
  {
   "cell_type": "code",
   "execution_count": 14,
   "metadata": {},
   "outputs": [
    {
     "data": {
      "text/html": [
       "<div>\n",
       "<style scoped>\n",
       "    .dataframe tbody tr th:only-of-type {\n",
       "        vertical-align: middle;\n",
       "    }\n",
       "\n",
       "    .dataframe tbody tr th {\n",
       "        vertical-align: top;\n",
       "    }\n",
       "\n",
       "    .dataframe thead th {\n",
       "        text-align: right;\n",
       "    }\n",
       "</style>\n",
       "<table border=\"1\" class=\"dataframe\">\n",
       "  <thead>\n",
       "    <tr style=\"text-align: right;\">\n",
       "      <th></th>\n",
       "      <th>ibcbr</th>\n",
       "      <th>igpdi</th>\n",
       "      <th>dolar</th>\n",
       "      <th>dias_uteis</th>\n",
       "    </tr>\n",
       "    <tr>\n",
       "      <th>date</th>\n",
       "      <th></th>\n",
       "      <th></th>\n",
       "      <th></th>\n",
       "      <th></th>\n",
       "    </tr>\n",
       "  </thead>\n",
       "  <tbody>\n",
       "    <tr>\n",
       "      <th>2019-08-01</th>\n",
       "      <td>141.95</td>\n",
       "      <td>736.402</td>\n",
       "      <td>4.019982</td>\n",
       "      <td>22.0</td>\n",
       "    </tr>\n",
       "    <tr>\n",
       "      <th>2019-09-01</th>\n",
       "      <td>138.33</td>\n",
       "      <td>736.362</td>\n",
       "      <td>4.121500</td>\n",
       "      <td>21.0</td>\n",
       "    </tr>\n",
       "    <tr>\n",
       "      <th>2019-10-01</th>\n",
       "      <td>142.94</td>\n",
       "      <td>741.333</td>\n",
       "      <td>4.086987</td>\n",
       "      <td>23.0</td>\n",
       "    </tr>\n",
       "    <tr>\n",
       "      <th>2019-11-01</th>\n",
       "      <td>138.88</td>\n",
       "      <td>743.558</td>\n",
       "      <td>4.155345</td>\n",
       "      <td>20.0</td>\n",
       "    </tr>\n",
       "    <tr>\n",
       "      <th>2019-12-01</th>\n",
       "      <td>137.43</td>\n",
       "      <td>759.112</td>\n",
       "      <td>4.109590</td>\n",
       "      <td>21.0</td>\n",
       "    </tr>\n",
       "  </tbody>\n",
       "</table>\n",
       "</div>"
      ],
      "text/plain": [
       "             ibcbr    igpdi     dolar  dias_uteis\n",
       "date                                             \n",
       "2019-08-01  141.95  736.402  4.019982        22.0\n",
       "2019-09-01  138.33  736.362  4.121500        21.0\n",
       "2019-10-01  142.94  741.333  4.086987        23.0\n",
       "2019-11-01  138.88  743.558  4.155345        20.0\n",
       "2019-12-01  137.43  759.112  4.109590        21.0"
      ]
     },
     "execution_count": 14,
     "metadata": {},
     "output_type": "execute_result"
    }
   ],
   "source": [
    "exog_df.tail() "
   ]
  },
  {
   "cell_type": "code",
   "execution_count": 15,
   "metadata": {},
   "outputs": [
    {
     "name": "stdout",
     "output_type": "stream",
     "text": [
      "(204, 4) (180, 4) (12, 4) (12, 4)\n"
     ]
    }
   ],
   "source": [
    "exog = exog_df[:].to_numpy()\n",
    "exog_train = exog[:-24]\n",
    "exog_val = exog[-24:-12]\n",
    "exog_test = exog[-12:]\n",
    "print(exog.shape, exog_train.shape, exog_val.shape, exog_test.shape)"
   ]
  },
  {
   "cell_type": "code",
   "execution_count": 16,
   "metadata": {},
   "outputs": [
    {
     "name": "stdout",
     "output_type": "stream",
     "text": [
      "(204,) (180,) (12,) (12,)\n"
     ]
    }
   ],
   "source": [
    "icms_train = icms_ts[:-24]\n",
    "icms_val = np.exp(icms_ts[-24:-12]) # série sem log\n",
    "icms_test = np.exp(icms_ts[-12:]) # série sem log\n",
    "print(icms_ts.shape, icms_train.shape, icms_val.shape, icms_test.shape)"
   ]
  },
  {
   "cell_type": "code",
   "execution_count": 17,
   "metadata": {},
   "outputs": [
    {
     "name": "stdout",
     "output_type": "stream",
     "text": [
      "##############################\n",
      " date\n",
      "2003-01-01    21.935295\n",
      "2003-02-01    21.885340\n",
      "2003-03-01    21.873841\n",
      "2003-04-01    21.891189\n",
      "2003-05-01    21.854323\n",
      "                ...    \n",
      "2017-08-01    23.092037\n",
      "2017-09-01    23.111282\n",
      "2017-10-01    23.122725\n",
      "2017-11-01    23.142988\n",
      "2017-12-01    23.161246\n",
      "Length: 180, dtype: float64\n",
      "##############################\n",
      " date\n",
      "2018-01-01    1.171836e+10\n",
      "2018-02-01    1.055555e+10\n",
      "2018-03-01    1.051107e+10\n",
      "2018-04-01    1.147597e+10\n",
      "2018-05-01    1.108135e+10\n",
      "2018-06-01    1.076198e+10\n",
      "2018-07-01    1.146222e+10\n",
      "2018-08-01    1.157415e+10\n",
      "2018-09-01    1.157068e+10\n",
      "2018-10-01    1.176202e+10\n",
      "2018-11-01    1.150136e+10\n",
      "2018-12-01    1.196787e+10\n",
      "dtype: float64\n",
      "##############################\n",
      " date\n",
      "2019-01-01    1.236685e+10\n",
      "2019-02-01    1.126598e+10\n",
      "2019-03-01    1.131000e+10\n",
      "2019-04-01    1.201696e+10\n",
      "2019-05-01    1.173362e+10\n",
      "2019-06-01    1.138744e+10\n",
      "2019-07-01    1.177099e+10\n",
      "2019-08-01    1.178403e+10\n",
      "2019-09-01    1.214739e+10\n",
      "2019-10-01    1.251718e+10\n",
      "2019-11-01    1.257453e+10\n",
      "2019-12-01    1.314626e+10\n",
      "dtype: float64\n"
     ]
    }
   ],
   "source": [
    "print('#'*30+'\\n',icms_train)\n",
    "print('#'*30+'\\n',icms_val)\n",
    "print('#'*30+'\\n',icms_test)"
   ]
  },
  {
   "cell_type": "markdown",
   "metadata": {},
   "source": [
    "## Modelos RNN LSTM\n",
    "Redes Neurais Recorrentes com neurônios Long Short-Term Memory"
   ]
  },
  {
   "cell_type": "markdown",
   "metadata": {},
   "source": [
    "### Montagem da Série com as Variáveis Exógenas\n",
    "As redes neurais precisam de conjuntos de características e de etiquetas separados. As variáveis exógenas serão o conjunto de características e a variável endógena será o conjunto de etiquetas."
   ]
  },
  {
   "cell_type": "code",
   "execution_count": 18,
   "metadata": {},
   "outputs": [],
   "source": [
    "X_data = np.append(exog, np.roll(exog, 1, axis = 0), axis = 1)\n",
    "X_data = np.append(X_data, np.roll(exog, 2, axis = 0), axis = 1)[2:]\n",
    "Y_data = icms_ts[2:].to_numpy()"
   ]
  },
  {
   "cell_type": "code",
   "execution_count": 19,
   "metadata": {},
   "outputs": [
    {
     "data": {
      "text/plain": [
       "((202, 12), (202,))"
      ]
     },
     "execution_count": 19,
     "metadata": {},
     "output_type": "execute_result"
    }
   ],
   "source": [
    "X_data.shape, Y_data.shape"
   ]
  },
  {
   "cell_type": "markdown",
   "metadata": {},
   "source": [
    "#### Normalização dos Dados\n",
    "Serão normalizados usando-se min-max. Apenas as features, a variável target não será normalizada. Os dados serão dividos em treno, validação e teste para a normalização, de modo que o fit seja feito somente nos dados de treino, aumentando-se assim a probabilidade de generalização do modelo."
   ]
  },
  {
   "cell_type": "code",
   "execution_count": 20,
   "metadata": {},
   "outputs": [
    {
     "name": "stdout",
     "output_type": "stream",
     "text": [
      "(178, 12) (12, 12) (12, 12)\n",
      "(178,) (12,) (12,)\n"
     ]
    }
   ],
   "source": [
    "X_train = X_data[:-24]\n",
    "X_val = X_data[-24:-12]\n",
    "X_test = X_data[-12:]\n",
    "print(X_train.shape, X_val.shape, X_test.shape)\n",
    "Y_train = Y_data[:-24]\n",
    "Y_val = Y_data[-24:-12]\n",
    "Y_test = np.exp(Y_data[-12:]) # tirando o log\n",
    "print(Y_train.shape, Y_val.shape, Y_test.shape)"
   ]
  },
  {
   "cell_type": "code",
   "execution_count": 21,
   "metadata": {},
   "outputs": [
    {
     "name": "stdout",
     "output_type": "stream",
     "text": [
      "numéricas [0, 1, 2, 3, 4, 5, 6, 7, 8, 9, 10, 11]\n",
      "ColumnTransformer(transformers=[('min-max', MinMaxScaler(),\n",
      "                                 [0, 1, 2, 3, 4, 5, 6, 7, 8, 9, 10, 11])],\n",
      "                  verbose=True)\n",
      "[ColumnTransformer] ....... (1 of 1) Processing min-max, total=   0.0s\n",
      "(178, 12)\n",
      "(12, 12)\n",
      "(12, 12)\n"
     ]
    }
   ],
   "source": [
    "from sklearn.preprocessing import MinMaxScaler\n",
    "from sklearn.compose import ColumnTransformer\n",
    "# índice dos atributos numéricos\n",
    "num_atrib = list(range(X_train.shape[1]))\n",
    "print('numéricas', num_atrib)\n",
    "\n",
    "enc_x = ColumnTransformer([('min-max',MinMaxScaler(), num_atrib)], verbose=True)\n",
    "\n",
    "print(enc_x)\n",
    "X_train_std = enc_x.fit_transform(X_train)\n",
    "X_val_std = enc_x.transform(X_val)\n",
    "X_test_std = enc_x.transform(X_test)\n",
    "\n",
    "print(X_train_std.shape)\n",
    "print(X_val_std.shape)\n",
    "print(X_test_std.shape)"
   ]
  },
  {
   "cell_type": "code",
   "execution_count": 22,
   "metadata": {},
   "outputs": [
    {
     "name": "stdout",
     "output_type": "stream",
     "text": [
      "(178, 12, 1) (12, 12, 1) (12, 12, 1)\n",
      "(178, 1) (12, 1) (12, 1)\n"
     ]
    }
   ],
   "source": [
    "x_train = X_train_std.reshape(X_train_std.shape[0], X_train_std.shape[1], 1)\n",
    "x_val = X_val_std.reshape(X_val_std.shape[0], X_val_std.shape[1], 1)\n",
    "x_test = X_test_std.reshape(X_test_std.shape[0], X_test_std.shape[1], 1)\n",
    "print(x_train.shape, x_val.shape, x_test.shape)\n",
    "\n",
    "y_train = Y_train.reshape(Y_train.shape[0], 1)\n",
    "y_val = Y_val.reshape(Y_val.shape[0], 1)\n",
    "y_test = Y_test.reshape(Y_test.shape[0], 1)\n",
    "print(y_train.shape, y_val.shape, y_test.shape)"
   ]
  },
  {
   "cell_type": "markdown",
   "metadata": {},
   "source": [
    "### Criando o modelo LSTM"
   ]
  },
  {
   "cell_type": "code",
   "execution_count": 23,
   "metadata": {},
   "outputs": [],
   "source": [
    "# importando as bibliotecas do Keras\n",
    "from tensorflow.keras.models import Sequential\n",
    "from tensorflow.keras.layers import LSTM, Dense, Dropout, Conv1D, MaxPooling1D\n",
    "from tensorflow.keras.callbacks import ReduceLROnPlateau, EarlyStopping\n",
    "from tensorflow.keras.optimizers import Adam"
   ]
  },
  {
   "cell_type": "markdown",
   "metadata": {},
   "source": [
    "## Arquitetura da Rede - Camadas"
   ]
  },
  {
   "cell_type": "code",
   "execution_count": 24,
   "metadata": {},
   "outputs": [],
   "source": [
    "rlrop = ReduceLROnPlateau(monitor='val_loss', factor=0.1, patience=25)\n",
    "early_stop = EarlyStopping(monitor='val_loss', patience=100, verbose=1, \n",
    "                           restore_best_weights=True)"
   ]
  },
  {
   "cell_type": "code",
   "execution_count": 25,
   "metadata": {},
   "outputs": [],
   "source": [
    "# Épocas\n",
    "EPOCHS = 1000\n",
    "NEURONIOS = 600\n",
    "DROPOUT = 0.15\n",
    "LR = 1e-5\n",
    "BATCH = 8\n",
    "\n",
    "# Imstanciação do modelo\n",
    "model = Sequential()\n",
    "\n",
    "# Adicionar camada LSTM \n",
    "model.add(LSTM(activation='tanh', dropout=DROPOUT,\n",
    "        input_shape = (12, 1), return_sequences = True,\n",
    "        units = NEURONIOS))\n",
    "\n",
    "# Adicionar camada LSTM \n",
    "model.add(LSTM(activation='tanh', dropout=DROPOUT,\n",
    "        input_shape = (12, 1), return_sequences = True,\n",
    "        units = NEURONIOS))\n",
    "\n",
    "# Adicionar camada LSTM \n",
    "model.add(LSTM(activation='tanh', dropout=DROPOUT,\n",
    "        input_shape = (12, 1), return_sequences = False,\n",
    "        units = NEURONIOS))\n",
    "\n",
    "# Adicionar a camada de saída com 1 neurônio linear\n",
    "model.add(Dense(\n",
    "        units = 1,\n",
    "        activation = 'linear'))\n",
    "# a learning rate padrão do Adam é 0.001\n",
    "model.compile(loss = 'mape', optimizer = Adam(learning_rate=LR))"
   ]
  },
  {
   "cell_type": "code",
   "execution_count": 26,
   "metadata": {},
   "outputs": [
    {
     "name": "stdout",
     "output_type": "stream",
     "text": [
      "Model: \"sequential\"\n",
      "_________________________________________________________________\n",
      "Layer (type)                 Output Shape              Param #   \n",
      "=================================================================\n",
      "lstm (LSTM)                  (None, 12, 600)           1444800   \n",
      "_________________________________________________________________\n",
      "lstm_1 (LSTM)                (None, 12, 600)           2882400   \n",
      "_________________________________________________________________\n",
      "lstm_2 (LSTM)                (None, 600)               2882400   \n",
      "_________________________________________________________________\n",
      "dense (Dense)                (None, 1)                 601       \n",
      "=================================================================\n",
      "Total params: 7,210,201\n",
      "Trainable params: 7,210,201\n",
      "Non-trainable params: 0\n",
      "_________________________________________________________________\n"
     ]
    }
   ],
   "source": [
    "model.summary()"
   ]
  },
  {
   "cell_type": "code",
   "execution_count": 27,
   "metadata": {
    "scrolled": true
   },
   "outputs": [
    {
     "name": "stdout",
     "output_type": "stream",
     "text": [
      "Epoch 1/1000\n",
      "23/23 [==============================] - 3s 148ms/step - loss: 99.8463 - val_loss: 99.4763\n",
      "Epoch 2/1000\n",
      "23/23 [==============================] - 3s 114ms/step - loss: 99.4419 - val_loss: 98.6556\n",
      "Epoch 3/1000\n",
      "23/23 [==============================] - 2s 107ms/step - loss: 98.6577 - val_loss: 96.7633\n",
      "Epoch 4/1000\n",
      "23/23 [==============================] - 2s 108ms/step - loss: 96.6009 - val_loss: 91.2092\n",
      "Epoch 5/1000\n",
      "23/23 [==============================] - 2s 106ms/step - loss: 90.1161 - val_loss: 69.8458\n",
      "Epoch 6/1000\n",
      "23/23 [==============================] - 3s 113ms/step - loss: 64.7828 - val_loss: 19.6053\n",
      "Epoch 7/1000\n",
      "23/23 [==============================] - 3s 116ms/step - loss: 19.8776 - val_loss: 4.6607\n",
      "Epoch 8/1000\n",
      "23/23 [==============================] - 3s 114ms/step - loss: 4.9667 - val_loss: 4.8578\n",
      "Epoch 9/1000\n",
      "23/23 [==============================] - 3s 116ms/step - loss: 3.1301 - val_loss: 0.6981\n",
      "Epoch 10/1000\n",
      "23/23 [==============================] - 3s 124ms/step - loss: 2.0429 - val_loss: 0.4267\n",
      "Epoch 11/1000\n",
      "23/23 [==============================] - 3s 128ms/step - loss: 1.4986 - val_loss: 0.7833\n",
      "Epoch 12/1000\n",
      "23/23 [==============================] - 3s 126ms/step - loss: 1.3484 - val_loss: 0.1951\n",
      "Epoch 13/1000\n",
      "23/23 [==============================] - 3s 137ms/step - loss: 1.0913 - val_loss: 0.1411\n",
      "Epoch 14/1000\n",
      "23/23 [==============================] - 3s 134ms/step - loss: 0.8957 - val_loss: 0.4893\n",
      "Epoch 15/1000\n",
      "23/23 [==============================] - 3s 142ms/step - loss: 0.9334 - val_loss: 0.3925\n",
      "Epoch 16/1000\n",
      "23/23 [==============================] - 5s 197ms/step - loss: 0.9618 - val_loss: 0.4249\n",
      "Epoch 17/1000\n",
      "23/23 [==============================] - 5s 239ms/step - loss: 0.9919 - val_loss: 0.5536\n",
      "Epoch 18/1000\n",
      "23/23 [==============================] - 5s 205ms/step - loss: 1.0220 - val_loss: 0.5351\n",
      "Epoch 19/1000\n",
      "23/23 [==============================] - 5s 229ms/step - loss: 0.9164 - val_loss: 0.1087\n",
      "Epoch 20/1000\n",
      "23/23 [==============================] - 5s 232ms/step - loss: 0.9798 - val_loss: 0.4481\n",
      "Epoch 21/1000\n",
      "23/23 [==============================] - 5s 225ms/step - loss: 0.8590 - val_loss: 0.6227\n",
      "Epoch 22/1000\n",
      "23/23 [==============================] - 5s 228ms/step - loss: 0.8952 - val_loss: 0.4982\n",
      "Epoch 23/1000\n",
      "23/23 [==============================] - 6s 247ms/step - loss: 0.8522 - val_loss: 0.6280\n",
      "Epoch 24/1000\n",
      "23/23 [==============================] - 5s 224ms/step - loss: 0.9849 - val_loss: 0.2067\n",
      "Epoch 25/1000\n",
      "23/23 [==============================] - 5s 234ms/step - loss: 0.9082 - val_loss: 0.3824\n",
      "Epoch 26/1000\n",
      "23/23 [==============================] - 5s 229ms/step - loss: 0.8178 - val_loss: 0.2341\n",
      "Epoch 27/1000\n",
      "23/23 [==============================] - 5s 234ms/step - loss: 0.8360 - val_loss: 0.4875\n",
      "Epoch 28/1000\n",
      "23/23 [==============================] - 5s 234ms/step - loss: 0.9099 - val_loss: 0.5182\n",
      "Epoch 29/1000\n",
      "23/23 [==============================] - 6s 252ms/step - loss: 0.8945 - val_loss: 0.1733\n",
      "Epoch 30/1000\n",
      "23/23 [==============================] - 6s 261ms/step - loss: 0.7724 - val_loss: 0.5843\n",
      "Epoch 31/1000\n",
      "23/23 [==============================] - 5s 233ms/step - loss: 0.8110 - val_loss: 0.7589\n",
      "Epoch 32/1000\n",
      "23/23 [==============================] - 5s 217ms/step - loss: 0.8946 - val_loss: 0.7970\n",
      "Epoch 33/1000\n",
      "23/23 [==============================] - 5s 231ms/step - loss: 0.8286 - val_loss: 0.1985\n",
      "Epoch 34/1000\n",
      "23/23 [==============================] - 5s 216ms/step - loss: 0.8890 - val_loss: 0.1881\n",
      "Epoch 35/1000\n",
      "23/23 [==============================] - 5s 230ms/step - loss: 0.9975 - val_loss: 0.3799\n",
      "Epoch 36/1000\n",
      "23/23 [==============================] - 5s 229ms/step - loss: 0.7687 - val_loss: 0.4178\n",
      "Epoch 37/1000\n",
      "23/23 [==============================] - 5s 235ms/step - loss: 0.8787 - val_loss: 0.4603\n",
      "Epoch 38/1000\n",
      "23/23 [==============================] - 5s 224ms/step - loss: 0.8912 - val_loss: 0.4241\n",
      "Epoch 39/1000\n",
      "23/23 [==============================] - 5s 223ms/step - loss: 0.8124 - val_loss: 0.4796\n",
      "Epoch 40/1000\n",
      "23/23 [==============================] - 5s 234ms/step - loss: 0.8617 - val_loss: 0.3152\n",
      "Epoch 41/1000\n",
      "23/23 [==============================] - 5s 231ms/step - loss: 0.7687 - val_loss: 0.2847\n",
      "Epoch 42/1000\n",
      "23/23 [==============================] - 5s 234ms/step - loss: 0.7954 - val_loss: 0.2693\n",
      "Epoch 43/1000\n",
      "23/23 [==============================] - 5s 221ms/step - loss: 0.8305 - val_loss: 0.3918\n",
      "Epoch 44/1000\n",
      "23/23 [==============================] - 5s 228ms/step - loss: 0.8161 - val_loss: 0.6458\n",
      "Epoch 45/1000\n",
      "23/23 [==============================] - 5s 228ms/step - loss: 0.7804 - val_loss: 0.6115\n",
      "Epoch 46/1000\n",
      "23/23 [==============================] - 5s 220ms/step - loss: 0.8132 - val_loss: 0.5126\n",
      "Epoch 47/1000\n",
      "23/23 [==============================] - 5s 212ms/step - loss: 0.8455 - val_loss: 0.3964\n",
      "Epoch 48/1000\n",
      "23/23 [==============================] - 5s 225ms/step - loss: 0.7427 - val_loss: 0.3729\n",
      "Epoch 49/1000\n",
      "23/23 [==============================] - 5s 216ms/step - loss: 0.7467 - val_loss: 0.3999\n",
      "Epoch 50/1000\n",
      "23/23 [==============================] - 5s 223ms/step - loss: 0.6827 - val_loss: 0.4028\n",
      "Epoch 51/1000\n",
      "23/23 [==============================] - 5s 225ms/step - loss: 0.7830 - val_loss: 0.4239\n",
      "Epoch 52/1000\n",
      "23/23 [==============================] - 5s 222ms/step - loss: 0.7713 - val_loss: 0.4148\n",
      "Epoch 53/1000\n",
      "23/23 [==============================] - 5s 208ms/step - loss: 0.7834 - val_loss: 0.3948\n",
      "Epoch 54/1000\n",
      "23/23 [==============================] - 5s 212ms/step - loss: 0.7654 - val_loss: 0.3601\n",
      "Epoch 55/1000\n",
      "23/23 [==============================] - 5s 223ms/step - loss: 0.8043 - val_loss: 0.4069\n",
      "Epoch 56/1000\n",
      "23/23 [==============================] - 5s 230ms/step - loss: 0.8016 - val_loss: 0.3445\n",
      "Epoch 57/1000\n",
      "23/23 [==============================] - 5s 229ms/step - loss: 0.7770 - val_loss: 0.3605\n",
      "Epoch 58/1000\n",
      "23/23 [==============================] - 5s 226ms/step - loss: 0.7701 - val_loss: 0.3928\n",
      "Epoch 59/1000\n",
      "23/23 [==============================] - 5s 222ms/step - loss: 0.8630 - val_loss: 0.3518\n",
      "Epoch 60/1000\n",
      "23/23 [==============================] - 5s 227ms/step - loss: 0.8171 - val_loss: 0.3971\n",
      "Epoch 61/1000\n",
      "23/23 [==============================] - 5s 238ms/step - loss: 0.7386 - val_loss: 0.3617\n",
      "Epoch 62/1000\n",
      "23/23 [==============================] - 5s 215ms/step - loss: 0.7506 - val_loss: 0.4269\n",
      "Epoch 63/1000\n",
      "23/23 [==============================] - 5s 226ms/step - loss: 0.7955 - val_loss: 0.3696\n",
      "Epoch 64/1000\n",
      "23/23 [==============================] - 5s 225ms/step - loss: 0.7540 - val_loss: 0.3713\n",
      "Epoch 65/1000\n",
      "23/23 [==============================] - 5s 228ms/step - loss: 0.7524 - val_loss: 0.3394\n",
      "Epoch 66/1000\n",
      "23/23 [==============================] - 5s 225ms/step - loss: 0.8504 - val_loss: 0.3748\n",
      "Epoch 67/1000\n",
      "23/23 [==============================] - 5s 230ms/step - loss: 0.6988 - val_loss: 0.4129\n",
      "Epoch 68/1000\n",
      "23/23 [==============================] - 5s 230ms/step - loss: 0.7960 - val_loss: 0.3726\n",
      "Epoch 69/1000\n",
      "23/23 [==============================] - 5s 224ms/step - loss: 0.7786 - val_loss: 0.3748\n",
      "Epoch 70/1000\n",
      "23/23 [==============================] - 5s 224ms/step - loss: 0.8078 - val_loss: 0.3701\n",
      "Epoch 71/1000\n",
      "23/23 [==============================] - 5s 224ms/step - loss: 0.7936 - val_loss: 0.3760\n",
      "Epoch 72/1000\n",
      "23/23 [==============================] - 5s 224ms/step - loss: 0.7875 - val_loss: 0.3738\n",
      "Epoch 73/1000\n",
      "23/23 [==============================] - 5s 220ms/step - loss: 0.8135 - val_loss: 0.3664\n",
      "Epoch 74/1000\n",
      "23/23 [==============================] - 5s 216ms/step - loss: 0.7697 - val_loss: 0.3608\n",
      "Epoch 75/1000\n",
      "23/23 [==============================] - 5s 215ms/step - loss: 0.7928 - val_loss: 0.3523\n",
      "Epoch 76/1000\n",
      "23/23 [==============================] - 5s 227ms/step - loss: 0.6970 - val_loss: 0.3529\n",
      "Epoch 77/1000\n",
      "23/23 [==============================] - 5s 223ms/step - loss: 0.7765 - val_loss: 0.3460\n",
      "Epoch 78/1000\n",
      "23/23 [==============================] - 5s 227ms/step - loss: 0.7918 - val_loss: 0.3456\n",
      "Epoch 79/1000\n",
      "23/23 [==============================] - 5s 224ms/step - loss: 0.7951 - val_loss: 0.3418\n",
      "Epoch 80/1000\n",
      "23/23 [==============================] - 5s 227ms/step - loss: 0.7655 - val_loss: 0.3442\n",
      "Epoch 81/1000\n",
      "23/23 [==============================] - 5s 228ms/step - loss: 0.7313 - val_loss: 0.3460\n",
      "Epoch 82/1000\n",
      "23/23 [==============================] - 5s 226ms/step - loss: 0.8105 - val_loss: 0.3551\n",
      "Epoch 83/1000\n",
      "23/23 [==============================] - 5s 228ms/step - loss: 0.7211 - val_loss: 0.3534\n",
      "Epoch 84/1000\n",
      "23/23 [==============================] - 5s 236ms/step - loss: 0.9499 - val_loss: 0.3425\n",
      "Epoch 85/1000\n",
      "23/23 [==============================] - 5s 228ms/step - loss: 0.8297 - val_loss: 0.3420\n",
      "Epoch 86/1000\n",
      "23/23 [==============================] - 5s 218ms/step - loss: 0.8544 - val_loss: 0.3468\n",
      "Epoch 87/1000\n",
      "23/23 [==============================] - 5s 218ms/step - loss: 0.7086 - val_loss: 0.3410\n",
      "Epoch 88/1000\n",
      "23/23 [==============================] - 5s 234ms/step - loss: 0.8152 - val_loss: 0.3496\n",
      "Epoch 89/1000\n",
      "23/23 [==============================] - 5s 219ms/step - loss: 0.8199 - val_loss: 0.3603\n",
      "Epoch 90/1000\n",
      "23/23 [==============================] - 5s 227ms/step - loss: 0.7564 - val_loss: 0.3638\n",
      "Epoch 91/1000\n",
      "23/23 [==============================] - 5s 221ms/step - loss: 0.6896 - val_loss: 0.3610\n",
      "Epoch 92/1000\n",
      "23/23 [==============================] - 5s 214ms/step - loss: 0.7897 - val_loss: 0.3698\n",
      "Epoch 93/1000\n",
      "23/23 [==============================] - 5s 223ms/step - loss: 0.6918 - val_loss: 0.3849\n",
      "Epoch 94/1000\n",
      "23/23 [==============================] - 5s 220ms/step - loss: 0.8174 - val_loss: 0.3884\n",
      "Epoch 95/1000\n",
      "23/23 [==============================] - 5s 228ms/step - loss: 0.8018 - val_loss: 0.3889\n",
      "Epoch 96/1000\n",
      "23/23 [==============================] - 5s 234ms/step - loss: 0.9091 - val_loss: 0.3882\n",
      "Epoch 97/1000\n",
      "23/23 [==============================] - 5s 221ms/step - loss: 0.8002 - val_loss: 0.3873\n",
      "Epoch 98/1000\n",
      "23/23 [==============================] - 5s 220ms/step - loss: 0.7401 - val_loss: 0.3868\n",
      "Epoch 99/1000\n",
      "23/23 [==============================] - 5s 226ms/step - loss: 0.8253 - val_loss: 0.3858\n",
      "Epoch 100/1000\n",
      "23/23 [==============================] - 5s 224ms/step - loss: 0.8165 - val_loss: 0.3848\n",
      "Epoch 101/1000\n",
      "23/23 [==============================] - 5s 236ms/step - loss: 0.8145 - val_loss: 0.3845\n",
      "Epoch 102/1000\n",
      "23/23 [==============================] - 5s 230ms/step - loss: 0.8408 - val_loss: 0.3853\n",
      "Epoch 103/1000\n",
      "23/23 [==============================] - 5s 232ms/step - loss: 0.7874 - val_loss: 0.3846\n",
      "Epoch 104/1000\n",
      "23/23 [==============================] - 5s 219ms/step - loss: 0.7793 - val_loss: 0.3844\n",
      "Epoch 105/1000\n",
      "23/23 [==============================] - 5s 227ms/step - loss: 0.8004 - val_loss: 0.3842\n",
      "Epoch 106/1000\n",
      "23/23 [==============================] - 5s 234ms/step - loss: 0.8218 - val_loss: 0.3837\n",
      "Epoch 107/1000\n",
      "23/23 [==============================] - 5s 220ms/step - loss: 0.7647 - val_loss: 0.3836\n",
      "Epoch 108/1000\n",
      "23/23 [==============================] - 5s 214ms/step - loss: 0.7662 - val_loss: 0.3830\n",
      "Epoch 109/1000\n",
      "23/23 [==============================] - 5s 221ms/step - loss: 0.7758 - val_loss: 0.3819\n",
      "Epoch 110/1000\n",
      "23/23 [==============================] - 5s 232ms/step - loss: 0.8133 - val_loss: 0.3808\n",
      "Epoch 111/1000\n",
      "23/23 [==============================] - 5s 227ms/step - loss: 0.8676 - val_loss: 0.3811\n",
      "Epoch 112/1000\n",
      "23/23 [==============================] - 5s 217ms/step - loss: 0.8346 - val_loss: 0.3809\n",
      "Epoch 113/1000\n",
      "23/23 [==============================] - 5s 228ms/step - loss: 0.7947 - val_loss: 0.3805\n",
      "Epoch 114/1000\n",
      "23/23 [==============================] - 5s 214ms/step - loss: 0.7890 - val_loss: 0.3798\n",
      "Epoch 115/1000\n",
      "23/23 [==============================] - 5s 228ms/step - loss: 0.7862 - val_loss: 0.3800\n",
      "Epoch 116/1000\n",
      "23/23 [==============================] - 5s 225ms/step - loss: 0.7055 - val_loss: 0.3805\n",
      "Epoch 117/1000\n",
      "23/23 [==============================] - 5s 232ms/step - loss: 0.8185 - val_loss: 0.3809\n",
      "Epoch 118/1000\n",
      "23/23 [==============================] - 5s 226ms/step - loss: 0.7819 - val_loss: 0.3804\n",
      "Epoch 119/1000\n",
      "23/23 [==============================] - ETA: 0s - loss: 0.7955Restoring model weights from the end of the best epoch.\n",
      "23/23 [==============================] - 5s 229ms/step - loss: 0.7955 - val_loss: 0.3794\n",
      "Epoch 00119: early stopping\n"
     ]
    }
   ],
   "source": [
    "# History object for plotting our model loss by epoch\n",
    "history = model.fit(x_train, y_train, batch_size = BATCH, \n",
    "                    epochs = EPOCHS, validation_data = (x_val, y_val),\n",
    "                    callbacks = [rlrop, early_stop])"
   ]
  },
  {
   "cell_type": "code",
   "execution_count": 28,
   "metadata": {
    "scrolled": false
   },
   "outputs": [
    {
     "data": {
      "image/png": "[encoded data removed]",
      "text/plain": [
       "<Figure size 720x504 with 1 Axes>"
      ]
     },
     "metadata": {
      "needs_background": "light"
     },
     "output_type": "display_data"
    }
   ],
   "source": [
    "# Loss History\n",
    "fig = plt.figure(figsize=(10, 7))\n",
    "plt.plot(history.history['loss'])\n",
    "plt.plot(history.history['val_loss'])\n",
    "plt.title('Model Loss')\n",
    "plt.ylabel('Loss')\n",
    "plt.xlabel('Epoch')\n",
    "plt.legend(['Train', 'Val'], loc='upper right')\n",
    "plt.show()"
   ]
  },
  {
   "cell_type": "markdown",
   "metadata": {},
   "source": [
    "### Previsão 12 meses em Validação"
   ]
  },
  {
   "cell_type": "code",
   "execution_count": 29,
   "metadata": {},
   "outputs": [
    {
     "data": {
      "text/plain": [
       "array([[1.1060690e+10],\n",
       "       [1.0469394e+10],\n",
       "       [1.0972292e+10],\n",
       "       [1.1128809e+10],\n",
       "       [1.1119770e+10],\n",
       "       [1.1258446e+10],\n",
       "       [1.1406441e+10],\n",
       "       [1.1709789e+10],\n",
       "       [1.1473406e+10],\n",
       "       [1.1558101e+10],\n",
       "       [1.1364029e+10],\n",
       "       [1.1279466e+10]], dtype=float32)"
      ]
     },
     "execution_count": 29,
     "metadata": {},
     "output_type": "execute_result"
    }
   ],
   "source": [
    "Y_pred_val = np.exp(model.predict(x_val))\n",
    "Y_pred_val"
   ]
  },
  {
   "cell_type": "code",
   "execution_count": 30,
   "metadata": {},
   "outputs": [
    {
     "data": {
      "text/plain": [
       "date\n",
       "2018-01-01    1.106069e+10\n",
       "2018-02-01    1.046939e+10\n",
       "2018-03-01    1.097229e+10\n",
       "2018-04-01    1.112881e+10\n",
       "2018-05-01    1.111977e+10\n",
       "2018-06-01    1.125845e+10\n",
       "2018-07-01    1.140644e+10\n",
       "2018-08-01    1.170979e+10\n",
       "2018-09-01    1.147341e+10\n",
       "2018-10-01    1.155810e+10\n",
       "2018-11-01    1.136403e+10\n",
       "2018-12-01    1.127947e+10\n",
       "dtype: float32"
      ]
     },
     "execution_count": 30,
     "metadata": {},
     "output_type": "execute_result"
    }
   ],
   "source": [
    "y_pred_val = pd.Series(Y_pred_val.ravel())\n",
    "y_pred_val.index = icms_val.index\n",
    "y_pred_val"
   ]
  },
  {
   "cell_type": "code",
   "execution_count": 31,
   "metadata": {},
   "outputs": [
    {
     "data": {
      "text/plain": [
       "array([1.17183556e+10, 1.05555509e+10, 1.05110716e+10, 1.14759654e+10,\n",
       "       1.10813459e+10, 1.07619813e+10, 1.14622162e+10, 1.15741454e+10,\n",
       "       1.15706768e+10, 1.17620246e+10, 1.15013565e+10, 1.19678670e+10])"
      ]
     },
     "execution_count": 31,
     "metadata": {},
     "output_type": "execute_result"
    }
   ],
   "source": [
    "np.exp(y_val).ravel()"
   ]
  },
  {
   "cell_type": "code",
   "execution_count": 32,
   "metadata": {},
   "outputs": [
    {
     "data": {
      "text/plain": [
       "363599205.6415559"
      ]
     },
     "execution_count": 32,
     "metadata": {},
     "output_type": "execute_result"
    }
   ],
   "source": [
    "RMSE_lstm_val = mean_squared_error(np.exp(y_val).ravel(), y_pred_val, squared=False)\n",
    "RMSE_lstm_val"
   ]
  },
  {
   "cell_type": "code",
   "execution_count": 33,
   "metadata": {},
   "outputs": [
    {
     "data": {
      "text/plain": [
       "0.02498369017704065"
      ]
     },
     "execution_count": 33,
     "metadata": {},
     "output_type": "execute_result"
    }
   ],
   "source": [
    "MAPE_lstm_val = mean_absolute_percentage_error(np.exp(y_val).ravel(), y_pred_val)\n",
    "MAPE_lstm_val"
   ]
  },
  {
   "cell_type": "code",
   "execution_count": 34,
   "metadata": {},
   "outputs": [],
   "source": [
    "previsoes['nome'].append('RNN-LSTM-Camadas')\n",
    "previsoes['modelo'].append(model)\n",
    "previsoes['previsoes'].append(y_pred_val)\n",
    "\n",
    "previsoes['rmse'].append(RMSE_lstm_val)\n",
    "\n",
    "previsoes['mape'].append(MAPE_lstm_val)"
   ]
  },
  {
   "cell_type": "code",
   "execution_count": 35,
   "metadata": {},
   "outputs": [],
   "source": [
    "previsoes['erro relativo'].append([erro_relativo(prev,real) \n",
    "                                   for prev,real in zip(y_pred_val, y_test)])"
   ]
  },
  {
   "cell_type": "markdown",
   "metadata": {},
   "source": [
    "## Arquitetura da Rede - Larga"
   ]
  },
  {
   "cell_type": "code",
   "execution_count": 36,
   "metadata": {},
   "outputs": [],
   "source": [
    "rlrop2 = ReduceLROnPlateau(monitor='val_loss', factor=0.1, patience=25)\n",
    "early_stop2 = EarlyStopping(monitor='val_loss', patience=100, verbose=1, \n",
    "                           restore_best_weights=True)"
   ]
  },
  {
   "cell_type": "code",
   "execution_count": 37,
   "metadata": {},
   "outputs": [],
   "source": [
    "# Épocas\n",
    "EPOCHS2 = 1000\n",
    "NEURONIOS2 = 600\n",
    "DROPOUT2 = 0.15\n",
    "LR2 = 1e-5\n",
    "BATCH2 = 8\n",
    "\n",
    "# Imstanciação do modelo\n",
    "model2 = Sequential()\n",
    "\n",
    "# Adicionar camada LSTM \n",
    "model2.add(LSTM(activation='tanh', dropout=DROPOUT2,\n",
    "        input_shape = (12, 1), return_sequences = False,\n",
    "        units = NEURONIOS2))\n",
    "\n",
    "# Adicionar a camada de saída com 1 neurônio linear\n",
    "model2.add(Dense(\n",
    "        units = 1,\n",
    "        activation = 'linear'))\n",
    "# a learning rate padrão do Adam é 0.001\n",
    "model2.compile(loss = 'mape', optimizer = Adam(learning_rate=LR2))"
   ]
  },
  {
   "cell_type": "code",
   "execution_count": 38,
   "metadata": {},
   "outputs": [
    {
     "name": "stdout",
     "output_type": "stream",
     "text": [
      "Model: \"sequential_1\"\n",
      "_________________________________________________________________\n",
      "Layer (type)                 Output Shape              Param #   \n",
      "=================================================================\n",
      "lstm_3 (LSTM)                (None, 600)               1444800   \n",
      "_________________________________________________________________\n",
      "dense_1 (Dense)              (None, 1)                 601       \n",
      "=================================================================\n",
      "Total params: 1,445,401\n",
      "Trainable params: 1,445,401\n",
      "Non-trainable params: 0\n",
      "_________________________________________________________________\n"
     ]
    }
   ],
   "source": [
    "model2.summary()"
   ]
  },
  {
   "cell_type": "code",
   "execution_count": 39,
   "metadata": {
    "scrolled": true
   },
   "outputs": [
    {
     "name": "stdout",
     "output_type": "stream",
     "text": [
      "Epoch 1/1000\n",
      "23/23 [==============================] - 2s 86ms/step - loss: 99.9241 - val_loss: 99.6668\n",
      "Epoch 2/1000\n",
      "23/23 [==============================] - 1s 50ms/step - loss: 99.6615 - val_loss: 99.2584\n",
      "Epoch 3/1000\n",
      "23/23 [==============================] - 1s 53ms/step - loss: 99.3946 - val_loss: 98.7870\n",
      "Epoch 4/1000\n",
      "23/23 [==============================] - 1s 56ms/step - loss: 99.0474 - val_loss: 98.2035\n",
      "Epoch 5/1000\n",
      "23/23 [==============================] - 1s 53ms/step - loss: 98.6525 - val_loss: 97.4226\n",
      "Epoch 6/1000\n",
      "23/23 [==============================] - 1s 55ms/step - loss: 98.0421 - val_loss: 96.2673\n",
      "Epoch 7/1000\n",
      "23/23 [==============================] - 1s 58ms/step - loss: 97.2050 - val_loss: 94.4129\n",
      "Epoch 8/1000\n",
      "23/23 [==============================] - 1s 55ms/step - loss: 95.6579 - val_loss: 90.9046\n",
      "Epoch 9/1000\n",
      "23/23 [==============================] - 1s 51ms/step - loss: 92.7007 - val_loss: 82.9945\n",
      "Epoch 10/1000\n",
      "23/23 [==============================] - 1s 53ms/step - loss: 85.3516 - val_loss: 61.6019\n",
      "Epoch 11/1000\n",
      "23/23 [==============================] - 1s 55ms/step - loss: 65.0645 - val_loss: 25.9795\n",
      "Epoch 12/1000\n",
      "23/23 [==============================] - 1s 51ms/step - loss: 35.8956 - val_loss: 5.4346\n",
      "Epoch 13/1000\n",
      "23/23 [==============================] - 1s 53ms/step - loss: 10.7540 - val_loss: 3.7853\n",
      "Epoch 14/1000\n",
      "23/23 [==============================] - 1s 54ms/step - loss: 5.2524 - val_loss: 2.7601\n",
      "Epoch 15/1000\n",
      "23/23 [==============================] - 1s 54ms/step - loss: 3.0227 - val_loss: 0.3269\n",
      "Epoch 16/1000\n",
      "23/23 [==============================] - 1s 59ms/step - loss: 2.0300 - val_loss: 0.4672\n",
      "Epoch 17/1000\n",
      "23/23 [==============================] - 1s 56ms/step - loss: 1.6900 - val_loss: 0.2360\n",
      "Epoch 18/1000\n",
      "23/23 [==============================] - 1s 54ms/step - loss: 1.4322 - val_loss: 0.9879\n",
      "Epoch 19/1000\n",
      "23/23 [==============================] - 1s 53ms/step - loss: 1.4058 - val_loss: 0.7249\n",
      "Epoch 20/1000\n",
      "23/23 [==============================] - 1s 56ms/step - loss: 1.0716 - val_loss: 0.9228\n",
      "Epoch 21/1000\n",
      "23/23 [==============================] - 1s 55ms/step - loss: 1.1867 - val_loss: 0.6700\n",
      "Epoch 22/1000\n",
      "23/23 [==============================] - 1s 54ms/step - loss: 1.2470 - val_loss: 1.0122\n",
      "Epoch 23/1000\n",
      "23/23 [==============================] - 1s 52ms/step - loss: 1.0359 - val_loss: 1.0013\n",
      "Epoch 24/1000\n",
      "23/23 [==============================] - 1s 55ms/step - loss: 1.0114 - val_loss: 0.8594\n",
      "Epoch 25/1000\n",
      "23/23 [==============================] - 1s 56ms/step - loss: 1.1503 - val_loss: 0.8112\n",
      "Epoch 26/1000\n",
      "23/23 [==============================] - 1s 53ms/step - loss: 1.0391 - val_loss: 0.6855\n",
      "Epoch 27/1000\n",
      "23/23 [==============================] - 1s 54ms/step - loss: 0.9692 - val_loss: 1.1158\n",
      "Epoch 28/1000\n",
      "23/23 [==============================] - 1s 57ms/step - loss: 1.1316 - val_loss: 0.9199\n",
      "Epoch 29/1000\n",
      "23/23 [==============================] - 1s 57ms/step - loss: 0.9298 - val_loss: 0.8888\n",
      "Epoch 30/1000\n",
      "23/23 [==============================] - 1s 53ms/step - loss: 0.9611 - val_loss: 1.0334\n",
      "Epoch 31/1000\n",
      "23/23 [==============================] - 1s 56ms/step - loss: 1.0427 - val_loss: 1.0701\n",
      "Epoch 32/1000\n",
      "23/23 [==============================] - 1s 53ms/step - loss: 1.1775 - val_loss: 1.0242\n",
      "Epoch 33/1000\n",
      "23/23 [==============================] - 1s 53ms/step - loss: 1.0869 - val_loss: 0.6967\n",
      "Epoch 34/1000\n",
      "23/23 [==============================] - 1s 54ms/step - loss: 1.1803 - val_loss: 0.8880\n",
      "Epoch 35/1000\n",
      "23/23 [==============================] - 1s 56ms/step - loss: 1.1237 - val_loss: 0.7159\n",
      "Epoch 36/1000\n",
      "23/23 [==============================] - 1s 55ms/step - loss: 1.1285 - val_loss: 1.0357\n",
      "Epoch 37/1000\n",
      "23/23 [==============================] - 1s 54ms/step - loss: 1.1251 - val_loss: 0.8333\n",
      "Epoch 38/1000\n",
      "23/23 [==============================] - 1s 53ms/step - loss: 1.0660 - val_loss: 0.8037\n",
      "Epoch 39/1000\n",
      "23/23 [==============================] - 1s 56ms/step - loss: 0.9768 - val_loss: 1.1003\n",
      "Epoch 40/1000\n",
      "23/23 [==============================] - 1s 52ms/step - loss: 0.9455 - val_loss: 0.8795\n",
      "Epoch 41/1000\n",
      "23/23 [==============================] - 1s 54ms/step - loss: 0.9791 - val_loss: 0.9503\n",
      "Epoch 42/1000\n",
      "23/23 [==============================] - 1s 54ms/step - loss: 0.8464 - val_loss: 0.8548\n",
      "Epoch 43/1000\n",
      "23/23 [==============================] - 1s 57ms/step - loss: 0.9034 - val_loss: 0.8972\n",
      "Epoch 44/1000\n",
      "23/23 [==============================] - 1s 55ms/step - loss: 0.9093 - val_loss: 0.8664\n",
      "Epoch 45/1000\n",
      "23/23 [==============================] - 1s 56ms/step - loss: 0.9379 - val_loss: 0.9027\n",
      "Epoch 46/1000\n",
      "23/23 [==============================] - 1s 51ms/step - loss: 1.1151 - val_loss: 0.8967\n",
      "Epoch 47/1000\n",
      "23/23 [==============================] - 1s 57ms/step - loss: 0.9164 - val_loss: 0.9456\n",
      "Epoch 48/1000\n",
      "23/23 [==============================] - 1s 55ms/step - loss: 0.9229 - val_loss: 0.9601\n",
      "Epoch 49/1000\n",
      "23/23 [==============================] - 1s 55ms/step - loss: 0.8780 - val_loss: 0.9547\n",
      "Epoch 50/1000\n",
      "23/23 [==============================] - 1s 59ms/step - loss: 0.9351 - val_loss: 0.9334\n",
      "Epoch 51/1000\n",
      "23/23 [==============================] - 1s 57ms/step - loss: 1.0618 - val_loss: 0.9242\n",
      "Epoch 52/1000\n",
      "23/23 [==============================] - 1s 52ms/step - loss: 0.8885 - val_loss: 0.8927\n",
      "Epoch 53/1000\n",
      "23/23 [==============================] - 1s 54ms/step - loss: 0.9293 - val_loss: 0.8991\n",
      "Epoch 54/1000\n",
      "23/23 [==============================] - 1s 59ms/step - loss: 1.0444 - val_loss: 0.8807\n",
      "Epoch 55/1000\n",
      "23/23 [==============================] - 1s 58ms/step - loss: 0.9689 - val_loss: 0.8446\n",
      "Epoch 56/1000\n",
      "23/23 [==============================] - 1s 54ms/step - loss: 0.9218 - val_loss: 0.8391\n",
      "Epoch 57/1000\n",
      "23/23 [==============================] - 1s 54ms/step - loss: 0.8740 - val_loss: 0.8811\n",
      "Epoch 58/1000\n",
      "23/23 [==============================] - 1s 55ms/step - loss: 0.9864 - val_loss: 0.8393\n",
      "Epoch 59/1000\n",
      "23/23 [==============================] - 1s 56ms/step - loss: 0.8854 - val_loss: 0.8498\n",
      "Epoch 60/1000\n",
      "23/23 [==============================] - 1s 55ms/step - loss: 0.9129 - val_loss: 0.8790\n",
      "Epoch 61/1000\n",
      "23/23 [==============================] - 1s 55ms/step - loss: 0.9038 - val_loss: 0.9199\n",
      "Epoch 62/1000\n",
      "23/23 [==============================] - 1s 54ms/step - loss: 0.9334 - val_loss: 0.8921\n",
      "Epoch 63/1000\n",
      "23/23 [==============================] - 1s 54ms/step - loss: 0.8082 - val_loss: 0.8944\n",
      "Epoch 64/1000\n",
      "23/23 [==============================] - 1s 53ms/step - loss: 1.1033 - val_loss: 0.9100\n",
      "Epoch 65/1000\n",
      "23/23 [==============================] - 1s 55ms/step - loss: 0.9193 - val_loss: 0.9319\n",
      "Epoch 66/1000\n",
      "23/23 [==============================] - 1s 55ms/step - loss: 0.9391 - val_loss: 0.9330\n",
      "Epoch 67/1000\n",
      "23/23 [==============================] - 1s 54ms/step - loss: 0.8910 - val_loss: 0.9182\n",
      "Epoch 68/1000\n",
      "23/23 [==============================] - 1s 56ms/step - loss: 0.8945 - val_loss: 0.9127\n",
      "Epoch 69/1000\n",
      "23/23 [==============================] - 1s 56ms/step - loss: 0.9321 - val_loss: 0.9145\n",
      "Epoch 70/1000\n",
      "23/23 [==============================] - 1s 53ms/step - loss: 0.9053 - val_loss: 0.9153\n",
      "Epoch 71/1000\n",
      "23/23 [==============================] - 1s 55ms/step - loss: 1.0088 - val_loss: 0.9132\n",
      "Epoch 72/1000\n",
      "23/23 [==============================] - 1s 55ms/step - loss: 0.9031 - val_loss: 0.9051\n",
      "Epoch 73/1000\n",
      "23/23 [==============================] - 1s 56ms/step - loss: 0.9347 - val_loss: 0.9013\n",
      "Epoch 74/1000\n",
      "23/23 [==============================] - 1s 56ms/step - loss: 0.9261 - val_loss: 0.9009\n",
      "Epoch 75/1000\n",
      "23/23 [==============================] - 1s 52ms/step - loss: 1.1039 - val_loss: 0.8945\n",
      "Epoch 76/1000\n",
      "23/23 [==============================] - 1s 53ms/step - loss: 0.9525 - val_loss: 0.8900\n",
      "Epoch 77/1000\n",
      "23/23 [==============================] - 1s 55ms/step - loss: 1.1250 - val_loss: 0.8873\n",
      "Epoch 78/1000\n",
      "23/23 [==============================] - 1s 55ms/step - loss: 0.9925 - val_loss: 0.8813\n",
      "Epoch 79/1000\n",
      "23/23 [==============================] - 1s 54ms/step - loss: 1.0794 - val_loss: 0.8790\n",
      "Epoch 80/1000\n",
      "23/23 [==============================] - 1s 52ms/step - loss: 0.8577 - val_loss: 0.8728\n",
      "Epoch 81/1000\n",
      "23/23 [==============================] - 1s 55ms/step - loss: 0.9022 - val_loss: 0.8747\n",
      "Epoch 82/1000\n",
      "23/23 [==============================] - 1s 55ms/step - loss: 0.9147 - val_loss: 0.8757\n",
      "Epoch 83/1000\n",
      "23/23 [==============================] - 1s 56ms/step - loss: 0.8592 - val_loss: 0.8756\n",
      "Epoch 84/1000\n",
      "23/23 [==============================] - 1s 54ms/step - loss: 1.0443 - val_loss: 0.8795\n",
      "Epoch 85/1000\n",
      "23/23 [==============================] - 1s 53ms/step - loss: 0.9324 - val_loss: 0.8755\n",
      "Epoch 86/1000\n",
      "23/23 [==============================] - 1s 54ms/step - loss: 1.0461 - val_loss: 0.8807\n",
      "Epoch 87/1000\n",
      "23/23 [==============================] - 1s 57ms/step - loss: 0.9163 - val_loss: 0.8772\n",
      "Epoch 88/1000\n",
      "23/23 [==============================] - 1s 55ms/step - loss: 0.9008 - val_loss: 0.8753\n",
      "Epoch 89/1000\n",
      "23/23 [==============================] - 1s 54ms/step - loss: 0.9776 - val_loss: 0.8710\n",
      "Epoch 90/1000\n",
      "23/23 [==============================] - 1s 58ms/step - loss: 1.0449 - val_loss: 0.8693\n",
      "Epoch 91/1000\n",
      "23/23 [==============================] - 1s 55ms/step - loss: 0.8403 - val_loss: 0.8668\n",
      "Epoch 92/1000\n",
      "23/23 [==============================] - 1s 56ms/step - loss: 0.9988 - val_loss: 0.8694\n",
      "Epoch 93/1000\n",
      "23/23 [==============================] - 1s 54ms/step - loss: 1.0426 - val_loss: 0.8695\n",
      "Epoch 94/1000\n",
      "23/23 [==============================] - 1s 55ms/step - loss: 0.8847 - val_loss: 0.8692\n",
      "Epoch 95/1000\n",
      "23/23 [==============================] - 1s 57ms/step - loss: 0.8478 - val_loss: 0.8689\n",
      "Epoch 96/1000\n",
      "23/23 [==============================] - 1s 59ms/step - loss: 0.8658 - val_loss: 0.8689\n",
      "Epoch 97/1000\n",
      "23/23 [==============================] - 1s 52ms/step - loss: 0.9296 - val_loss: 0.8689\n",
      "Epoch 98/1000\n",
      "23/23 [==============================] - 1s 55ms/step - loss: 1.0571 - val_loss: 0.8687\n",
      "Epoch 99/1000\n",
      "23/23 [==============================] - 1s 55ms/step - loss: 0.8518 - val_loss: 0.8680\n",
      "Epoch 100/1000\n",
      "23/23 [==============================] - 1s 54ms/step - loss: 0.9803 - val_loss: 0.8679\n",
      "Epoch 101/1000\n",
      "23/23 [==============================] - 1s 58ms/step - loss: 0.8685 - val_loss: 0.8676\n",
      "Epoch 102/1000\n",
      "23/23 [==============================] - 1s 56ms/step - loss: 1.0047 - val_loss: 0.8677\n",
      "Epoch 103/1000\n",
      "23/23 [==============================] - 1s 57ms/step - loss: 1.0248 - val_loss: 0.8671\n",
      "Epoch 104/1000\n",
      "23/23 [==============================] - 1s 55ms/step - loss: 1.0027 - val_loss: 0.8673\n",
      "Epoch 105/1000\n",
      "23/23 [==============================] - 1s 56ms/step - loss: 0.9051 - val_loss: 0.8668\n",
      "Epoch 106/1000\n",
      "23/23 [==============================] - 1s 53ms/step - loss: 0.8278 - val_loss: 0.8671\n",
      "Epoch 107/1000\n",
      "23/23 [==============================] - 1s 56ms/step - loss: 0.9275 - val_loss: 0.8668\n",
      "Epoch 108/1000\n",
      "23/23 [==============================] - 1s 55ms/step - loss: 0.8911 - val_loss: 0.8665\n",
      "Epoch 109/1000\n",
      "23/23 [==============================] - 1s 54ms/step - loss: 1.0959 - val_loss: 0.8660\n",
      "Epoch 110/1000\n",
      "23/23 [==============================] - 1s 55ms/step - loss: 0.9484 - val_loss: 0.8656\n",
      "Epoch 111/1000\n",
      "23/23 [==============================] - 1s 55ms/step - loss: 0.8854 - val_loss: 0.8659\n",
      "Epoch 112/1000\n",
      "23/23 [==============================] - 1s 53ms/step - loss: 1.1220 - val_loss: 0.8658\n",
      "Epoch 113/1000\n",
      "23/23 [==============================] - 1s 53ms/step - loss: 0.9830 - val_loss: 0.8657\n",
      "Epoch 114/1000\n",
      "23/23 [==============================] - 1s 56ms/step - loss: 0.9466 - val_loss: 0.8657\n",
      "Epoch 115/1000\n",
      "23/23 [==============================] - 1s 57ms/step - loss: 1.0967 - val_loss: 0.8651\n",
      "Epoch 116/1000\n",
      "23/23 [==============================] - 1s 56ms/step - loss: 0.8514 - val_loss: 0.8649\n",
      "Epoch 117/1000\n",
      "23/23 [==============================] - ETA: 0s - loss: 0.8842Restoring model weights from the end of the best epoch.\n",
      "23/23 [==============================] - 1s 57ms/step - loss: 0.8842 - val_loss: 0.8652\n",
      "Epoch 00117: early stopping\n"
     ]
    }
   ],
   "source": [
    "# History object for plotting our model loss by epoch\n",
    "history2 = model2.fit(x_train, y_train, batch_size = BATCH2, \n",
    "                    epochs = EPOCHS2, validation_data = (x_val, y_val),\n",
    "                    callbacks = [rlrop2, early_stop2])"
   ]
  },
  {
   "cell_type": "code",
   "execution_count": 40,
   "metadata": {
    "scrolled": false
   },
   "outputs": [
    {
     "data": {
      "image/png": "[encoded data removed]",
      "text/plain": [
       "<Figure size 720x504 with 1 Axes>"
      ]
     },
     "metadata": {
      "needs_background": "light"
     },
     "output_type": "display_data"
    }
   ],
   "source": [
    "# Loss History\n",
    "fig = plt.figure(figsize=(10, 7))\n",
    "plt.plot(history2.history['loss'])\n",
    "plt.plot(history2.history['val_loss'])\n",
    "plt.title('Model Loss')\n",
    "plt.ylabel('Loss')\n",
    "plt.xlabel('Epoch')\n",
    "plt.legend(['Train', 'Val'], loc='upper right')\n",
    "plt.show()"
   ]
  },
  {
   "cell_type": "markdown",
   "metadata": {},
   "source": [
    "### Previsão 12 meses em Validação"
   ]
  },
  {
   "cell_type": "code",
   "execution_count": 41,
   "metadata": {},
   "outputs": [
    {
     "data": {
      "text/plain": [
       "array([[1.0753585e+10],\n",
       "       [1.0285204e+10],\n",
       "       [1.0827471e+10],\n",
       "       [1.0864480e+10],\n",
       "       [1.0722679e+10],\n",
       "       [1.0824250e+10],\n",
       "       [1.0893739e+10],\n",
       "       [1.0964195e+10],\n",
       "       [1.0790856e+10],\n",
       "       [1.0862989e+10],\n",
       "       [1.0799772e+10],\n",
       "       [1.0786905e+10]], dtype=float32)"
      ]
     },
     "execution_count": 41,
     "metadata": {},
     "output_type": "execute_result"
    }
   ],
   "source": [
    "Y_pred_val2 = np.exp(model2.predict(x_val))\n",
    "Y_pred_val2"
   ]
  },
  {
   "cell_type": "code",
   "execution_count": 42,
   "metadata": {},
   "outputs": [
    {
     "data": {
      "text/plain": [
       "date\n",
       "2018-01-01    1.075359e+10\n",
       "2018-02-01    1.028520e+10\n",
       "2018-03-01    1.082747e+10\n",
       "2018-04-01    1.086448e+10\n",
       "2018-05-01    1.072268e+10\n",
       "2018-06-01    1.082425e+10\n",
       "2018-07-01    1.089374e+10\n",
       "2018-08-01    1.096420e+10\n",
       "2018-09-01    1.079086e+10\n",
       "2018-10-01    1.086299e+10\n",
       "2018-11-01    1.079977e+10\n",
       "2018-12-01    1.078691e+10\n",
       "dtype: float32"
      ]
     },
     "execution_count": 42,
     "metadata": {},
     "output_type": "execute_result"
    }
   ],
   "source": [
    "y_pred_val2 = pd.Series(Y_pred_val2.ravel())\n",
    "y_pred_val2.index = icms_val.index\n",
    "y_pred_val2"
   ]
  },
  {
   "cell_type": "code",
   "execution_count": 43,
   "metadata": {},
   "outputs": [
    {
     "data": {
      "text/plain": [
       "array([1.17183556e+10, 1.05555509e+10, 1.05110716e+10, 1.14759654e+10,\n",
       "       1.10813459e+10, 1.07619813e+10, 1.14622162e+10, 1.15741454e+10,\n",
       "       1.15706768e+10, 1.17620246e+10, 1.15013565e+10, 1.19678670e+10])"
      ]
     },
     "execution_count": 43,
     "metadata": {},
     "output_type": "execute_result"
    }
   ],
   "source": [
    "np.exp(y_val).ravel()"
   ]
  },
  {
   "cell_type": "code",
   "execution_count": 44,
   "metadata": {},
   "outputs": [
    {
     "data": {
      "text/plain": [
       "683672346.8174833"
      ]
     },
     "execution_count": 44,
     "metadata": {},
     "output_type": "execute_result"
    }
   ],
   "source": [
    "RMSE_lstm_val2 = mean_squared_error(np.exp(y_val).ravel(), y_pred_val2, squared=False)\n",
    "RMSE_lstm_val2"
   ]
  },
  {
   "cell_type": "code",
   "execution_count": 45,
   "metadata": {},
   "outputs": [
    {
     "data": {
      "text/plain": [
       "0.05294038849574421"
      ]
     },
     "execution_count": 45,
     "metadata": {},
     "output_type": "execute_result"
    }
   ],
   "source": [
    "MAPE_lstm_val2 = mean_absolute_percentage_error(np.exp(y_val).ravel(), y_pred_val2)\n",
    "MAPE_lstm_val2"
   ]
  },
  {
   "cell_type": "code",
   "execution_count": 46,
   "metadata": {},
   "outputs": [],
   "source": [
    "previsoes['nome'].append('RNN-LSTM-Larga')\n",
    "previsoes['modelo'].append(model2)\n",
    "previsoes['previsoes'].append(y_pred_val2)\n",
    "\n",
    "previsoes['rmse'].append(RMSE_lstm_val2)\n",
    "\n",
    "previsoes['mape'].append(MAPE_lstm_val2)"
   ]
  },
  {
   "cell_type": "code",
   "execution_count": 47,
   "metadata": {},
   "outputs": [],
   "source": [
    "previsoes['erro relativo'].append([erro_relativo(prev,real) \n",
    "                                   for prev,real in zip(y_pred_val2, y_test)])"
   ]
  },
  {
   "cell_type": "markdown",
   "metadata": {},
   "source": [
    "## Resultados"
   ]
  },
  {
   "cell_type": "code",
   "execution_count": 48,
   "metadata": {},
   "outputs": [],
   "source": [
    "df_prev = pd.DataFrame(data=previsoes['previsoes'], \n",
    "                       index=previsoes['nome']).transpose()\n",
    "df_prev[\"real\"] = icms_val\n",
    "df_rmse = pd.DataFrame(data=previsoes['rmse'], \n",
    "                       index=previsoes['nome']).transpose()\n",
    "df_mape = pd.DataFrame(data=previsoes['mape'], \n",
    "                       index=previsoes['nome']).transpose()\n",
    "df_erro = pd.DataFrame(data=previsoes['erro relativo'], \n",
    "                       index=previsoes['nome']).transpose()"
   ]
  },
  {
   "cell_type": "code",
   "execution_count": 49,
   "metadata": {},
   "outputs": [
    {
     "data": {
      "text/html": [
       "<div>\n",
       "<style scoped>\n",
       "    .dataframe tbody tr th:only-of-type {\n",
       "        vertical-align: middle;\n",
       "    }\n",
       "\n",
       "    .dataframe tbody tr th {\n",
       "        vertical-align: top;\n",
       "    }\n",
       "\n",
       "    .dataframe thead th {\n",
       "        text-align: right;\n",
       "    }\n",
       "</style>\n",
       "<table border=\"1\" class=\"dataframe\">\n",
       "  <thead>\n",
       "    <tr style=\"text-align: right;\">\n",
       "      <th></th>\n",
       "      <th>RNN-LSTM-Camadas</th>\n",
       "      <th>RNN-LSTM-Larga</th>\n",
       "      <th>real</th>\n",
       "    </tr>\n",
       "    <tr>\n",
       "      <th>date</th>\n",
       "      <th></th>\n",
       "      <th></th>\n",
       "      <th></th>\n",
       "    </tr>\n",
       "  </thead>\n",
       "  <tbody>\n",
       "    <tr>\n",
       "      <th>2018-01-01</th>\n",
       "      <td>1.106069e+10</td>\n",
       "      <td>1.075359e+10</td>\n",
       "      <td>1.171836e+10</td>\n",
       "    </tr>\n",
       "    <tr>\n",
       "      <th>2018-02-01</th>\n",
       "      <td>1.046939e+10</td>\n",
       "      <td>1.028520e+10</td>\n",
       "      <td>1.055555e+10</td>\n",
       "    </tr>\n",
       "    <tr>\n",
       "      <th>2018-03-01</th>\n",
       "      <td>1.097229e+10</td>\n",
       "      <td>1.082747e+10</td>\n",
       "      <td>1.051107e+10</td>\n",
       "    </tr>\n",
       "    <tr>\n",
       "      <th>2018-04-01</th>\n",
       "      <td>1.112881e+10</td>\n",
       "      <td>1.086448e+10</td>\n",
       "      <td>1.147597e+10</td>\n",
       "    </tr>\n",
       "    <tr>\n",
       "      <th>2018-05-01</th>\n",
       "      <td>1.111977e+10</td>\n",
       "      <td>1.072268e+10</td>\n",
       "      <td>1.108135e+10</td>\n",
       "    </tr>\n",
       "    <tr>\n",
       "      <th>2018-06-01</th>\n",
       "      <td>1.125845e+10</td>\n",
       "      <td>1.082425e+10</td>\n",
       "      <td>1.076198e+10</td>\n",
       "    </tr>\n",
       "    <tr>\n",
       "      <th>2018-07-01</th>\n",
       "      <td>1.140644e+10</td>\n",
       "      <td>1.089374e+10</td>\n",
       "      <td>1.146222e+10</td>\n",
       "    </tr>\n",
       "    <tr>\n",
       "      <th>2018-08-01</th>\n",
       "      <td>1.170979e+10</td>\n",
       "      <td>1.096420e+10</td>\n",
       "      <td>1.157415e+10</td>\n",
       "    </tr>\n",
       "    <tr>\n",
       "      <th>2018-09-01</th>\n",
       "      <td>1.147341e+10</td>\n",
       "      <td>1.079086e+10</td>\n",
       "      <td>1.157068e+10</td>\n",
       "    </tr>\n",
       "    <tr>\n",
       "      <th>2018-10-01</th>\n",
       "      <td>1.155810e+10</td>\n",
       "      <td>1.086299e+10</td>\n",
       "      <td>1.176202e+10</td>\n",
       "    </tr>\n",
       "    <tr>\n",
       "      <th>2018-11-01</th>\n",
       "      <td>1.136403e+10</td>\n",
       "      <td>1.079977e+10</td>\n",
       "      <td>1.150136e+10</td>\n",
       "    </tr>\n",
       "    <tr>\n",
       "      <th>2018-12-01</th>\n",
       "      <td>1.127947e+10</td>\n",
       "      <td>1.078691e+10</td>\n",
       "      <td>1.196787e+10</td>\n",
       "    </tr>\n",
       "  </tbody>\n",
       "</table>\n",
       "</div>"
      ],
      "text/plain": [
       "            RNN-LSTM-Camadas  RNN-LSTM-Larga          real\n",
       "date                                                      \n",
       "2018-01-01      1.106069e+10    1.075359e+10  1.171836e+10\n",
       "2018-02-01      1.046939e+10    1.028520e+10  1.055555e+10\n",
       "2018-03-01      1.097229e+10    1.082747e+10  1.051107e+10\n",
       "2018-04-01      1.112881e+10    1.086448e+10  1.147597e+10\n",
       "2018-05-01      1.111977e+10    1.072268e+10  1.108135e+10\n",
       "2018-06-01      1.125845e+10    1.082425e+10  1.076198e+10\n",
       "2018-07-01      1.140644e+10    1.089374e+10  1.146222e+10\n",
       "2018-08-01      1.170979e+10    1.096420e+10  1.157415e+10\n",
       "2018-09-01      1.147341e+10    1.079086e+10  1.157068e+10\n",
       "2018-10-01      1.155810e+10    1.086299e+10  1.176202e+10\n",
       "2018-11-01      1.136403e+10    1.079977e+10  1.150136e+10\n",
       "2018-12-01      1.127947e+10    1.078691e+10  1.196787e+10"
      ]
     },
     "execution_count": 49,
     "metadata": {},
     "output_type": "execute_result"
    }
   ],
   "source": [
    "df_prev"
   ]
  },
  {
   "cell_type": "code",
   "execution_count": 50,
   "metadata": {},
   "outputs": [
    {
     "data": {
      "text/html": [
       "<div>\n",
       "<style scoped>\n",
       "    .dataframe tbody tr th:only-of-type {\n",
       "        vertical-align: middle;\n",
       "    }\n",
       "\n",
       "    .dataframe tbody tr th {\n",
       "        vertical-align: top;\n",
       "    }\n",
       "\n",
       "    .dataframe thead th {\n",
       "        text-align: right;\n",
       "    }\n",
       "</style>\n",
       "<table border=\"1\" class=\"dataframe\">\n",
       "  <thead>\n",
       "    <tr style=\"text-align: right;\">\n",
       "      <th></th>\n",
       "      <th>RNN-LSTM-Camadas</th>\n",
       "      <th>RNN-LSTM-Larga</th>\n",
       "    </tr>\n",
       "  </thead>\n",
       "  <tbody>\n",
       "    <tr>\n",
       "      <th>0</th>\n",
       "      <td>[10.56177723091434]</td>\n",
       "      <td>[13.04506759096381]</td>\n",
       "    </tr>\n",
       "    <tr>\n",
       "      <th>1</th>\n",
       "      <td>[7.070710770757266]</td>\n",
       "      <td>[8.705632583446913]</td>\n",
       "    </tr>\n",
       "    <tr>\n",
       "      <th>2</th>\n",
       "      <td>[2.9859084370002575]</td>\n",
       "      <td>[4.266379435294386]</td>\n",
       "    </tr>\n",
       "    <tr>\n",
       "      <th>3</th>\n",
       "      <td>[7.39079478307577]</td>\n",
       "      <td>[9.590429763885036]</td>\n",
       "    </tr>\n",
       "    <tr>\n",
       "      <th>4</th>\n",
       "      <td>[5.23157131131273]</td>\n",
       "      <td>[8.615784656796853]</td>\n",
       "    </tr>\n",
       "    <tr>\n",
       "      <th>5</th>\n",
       "      <td>[1.13280470897715]</td>\n",
       "      <td>[4.945736583758334]</td>\n",
       "    </tr>\n",
       "    <tr>\n",
       "      <th>6</th>\n",
       "      <td>[3.0970204528578815]</td>\n",
       "      <td>[7.452664279613089]</td>\n",
       "    </tr>\n",
       "    <tr>\n",
       "      <th>7</th>\n",
       "      <td>[0.6300253917082369]</td>\n",
       "      <td>[6.957179653379558]</td>\n",
       "    </tr>\n",
       "    <tr>\n",
       "      <th>8</th>\n",
       "      <td>[5.548349703684825]</td>\n",
       "      <td>[11.167256580187438]</td>\n",
       "    </tr>\n",
       "    <tr>\n",
       "      <th>9</th>\n",
       "      <td>[7.662075857280178]</td>\n",
       "      <td>[13.215338423767928]</td>\n",
       "    </tr>\n",
       "    <tr>\n",
       "      <th>10</th>\n",
       "      <td>[9.626593829273771]</td>\n",
       "      <td>[14.113901688748408]</td>\n",
       "    </tr>\n",
       "    <tr>\n",
       "      <th>11</th>\n",
       "      <td>[14.200164199112102]</td>\n",
       "      <td>[17.946944948293925]</td>\n",
       "    </tr>\n",
       "  </tbody>\n",
       "</table>\n",
       "</div>"
      ],
      "text/plain": [
       "        RNN-LSTM-Camadas        RNN-LSTM-Larga\n",
       "0    [10.56177723091434]   [13.04506759096381]\n",
       "1    [7.070710770757266]   [8.705632583446913]\n",
       "2   [2.9859084370002575]   [4.266379435294386]\n",
       "3     [7.39079478307577]   [9.590429763885036]\n",
       "4     [5.23157131131273]   [8.615784656796853]\n",
       "5     [1.13280470897715]   [4.945736583758334]\n",
       "6   [3.0970204528578815]   [7.452664279613089]\n",
       "7   [0.6300253917082369]   [6.957179653379558]\n",
       "8    [5.548349703684825]  [11.167256580187438]\n",
       "9    [7.662075857280178]  [13.215338423767928]\n",
       "10   [9.626593829273771]  [14.113901688748408]\n",
       "11  [14.200164199112102]  [17.946944948293925]"
      ]
     },
     "execution_count": 50,
     "metadata": {},
     "output_type": "execute_result"
    }
   ],
   "source": [
    "df_erro"
   ]
  },
  {
   "cell_type": "markdown",
   "metadata": {},
   "source": [
    "### Resultados"
   ]
  },
  {
   "cell_type": "code",
   "execution_count": 51,
   "metadata": {
    "scrolled": false
   },
   "outputs": [
    {
     "data": {
      "image/png": "[encoded data removed]",
      "text/plain": [
       "<Figure size 1080x720 with 1 Axes>"
      ]
     },
     "metadata": {
      "needs_background": "light"
     },
     "output_type": "display_data"
    }
   ],
   "source": [
    "fig = plt.figure(figsize=(15, 10))\n",
    "ax = sns.lineplot(data=df_prev)"
   ]
  },
  {
   "cell_type": "markdown",
   "metadata": {},
   "source": [
    "#### RMSE"
   ]
  },
  {
   "cell_type": "code",
   "execution_count": 52,
   "metadata": {},
   "outputs": [
    {
     "data": {
      "image/png": "[encoded data removed]",
      "text/plain": [
       "<Figure size 1080x720 with 1 Axes>"
      ]
     },
     "metadata": {
      "needs_background": "light"
     },
     "output_type": "display_data"
    }
   ],
   "source": [
    "fig = plt.figure(figsize=(15, 10))\n",
    "ax = sns.barplot(data=df_rmse)"
   ]
  },
  {
   "cell_type": "markdown",
   "metadata": {},
   "source": [
    "#### MAPE"
   ]
  },
  {
   "cell_type": "code",
   "execution_count": 53,
   "metadata": {
    "scrolled": false
   },
   "outputs": [
    {
     "data": {
      "image/png": "[encoded data removed]",
      "text/plain": [
       "<Figure size 1080x720 with 1 Axes>"
      ]
     },
     "metadata": {
      "needs_background": "light"
     },
     "output_type": "display_data"
    }
   ],
   "source": [
    "fig = plt.figure(figsize=(15, 10))\n",
    "ax = sns.barplot(data=df_mape)"
   ]
  },
  {
   "cell_type": "markdown",
   "metadata": {},
   "source": [
    "### Resumo das métricas"
   ]
  },
  {
   "cell_type": "code",
   "execution_count": 54,
   "metadata": {},
   "outputs": [],
   "source": [
    "df_rmse.index = ['RMSE']\n",
    "df_mape.index = ['MAPE']"
   ]
  },
  {
   "cell_type": "code",
   "execution_count": 55,
   "metadata": {},
   "outputs": [
    {
     "data": {
      "text/html": [
       "<div>\n",
       "<style scoped>\n",
       "    .dataframe tbody tr th:only-of-type {\n",
       "        vertical-align: middle;\n",
       "    }\n",
       "\n",
       "    .dataframe tbody tr th {\n",
       "        vertical-align: top;\n",
       "    }\n",
       "\n",
       "    .dataframe thead th {\n",
       "        text-align: right;\n",
       "    }\n",
       "</style>\n",
       "<table border=\"1\" class=\"dataframe\">\n",
       "  <thead>\n",
       "    <tr style=\"text-align: right;\">\n",
       "      <th></th>\n",
       "      <th>RNN-LSTM-Camadas</th>\n",
       "      <th>RNN-LSTM-Larga</th>\n",
       "    </tr>\n",
       "  </thead>\n",
       "  <tbody>\n",
       "    <tr>\n",
       "      <th>RMSE</th>\n",
       "      <td>3.635992e+08</td>\n",
       "      <td>6.836723e+08</td>\n",
       "    </tr>\n",
       "    <tr>\n",
       "      <th>MAPE</th>\n",
       "      <td>2.498369e-02</td>\n",
       "      <td>5.294039e-02</td>\n",
       "    </tr>\n",
       "  </tbody>\n",
       "</table>\n",
       "</div>"
      ],
      "text/plain": [
       "      RNN-LSTM-Camadas  RNN-LSTM-Larga\n",
       "RMSE      3.635992e+08    6.836723e+08\n",
       "MAPE      2.498369e-02    5.294039e-02"
      ]
     },
     "execution_count": 55,
     "metadata": {},
     "output_type": "execute_result"
    }
   ],
   "source": [
    "df_metricas = df_rmse.copy()\n",
    "df_metricas = df_metricas.append(df_mape)\n",
    "df_metricas"
   ]
  }
 ],
 "metadata": {
  "kernelspec": {
   "display_name": "Python 3",
   "language": "python",
   "name": "python3"
  },
  "language_info": {
   "codemirror_mode": {
    "name": "ipython",
    "version": 3
   },
   "file_extension": ".py",
   "mimetype": "text/x-python",
   "name": "python",
   "nbconvert_exporter": "python",
   "pygments_lexer": "ipython3",
   "version": "3.6.4"
  }
 },
 "nbformat": 4,
 "nbformat_minor": 2
}
