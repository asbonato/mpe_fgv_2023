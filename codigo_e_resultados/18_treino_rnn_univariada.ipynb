{
 "cells": [
  {
   "cell_type": "markdown",
   "metadata": {},
   "source": [
    "# Aplicação de Modelos de Markov e Redes Neurais LSTM na Previsão de Arrecadação do ICMS Paulista\n",
    "## Resultados 2018\n",
    "\n",
    "### Antonio Sergio Ferreira Bonato"
   ]
  },
  {
   "cell_type": "markdown",
   "metadata": {},
   "source": [
    "Atualmente, na Secretaria da Fazenda e Planejamento do Estado de São Paulo, a previsão de arrecadação do ICMS paulista é feita usando-se um modelo ARIMA com variáveis exógenas, o ARIMAX. Mas o ICMS é não linear e há várias quebras estruturais controladas com diversas *dummies*. A consequência é um modelo bastante sobreajustado, inadequado para previsões de mais longo prazo (mais do que alguns meses, muito menos para um ano). \n",
    "A proposta deste trabalho é utilizar modelos não lineares multivariados na previsão do ICMS paulista, utilizando redes neurais recorrentes LSTM (*Long Short Term Memory*) e modelos Markov-Switching, fazendo um contraponto entre estes dois modelos. E utilizar, como baseline de comparação, o modelo ARIMAX atual. \n",
    "\n",
    "**Palavras-chave**: Markov-Switching Models. Redes Neurais Recorrentes. LSTM. ICMS."
   ]
  },
  {
   "cell_type": "markdown",
   "metadata": {},
   "source": [
    "## Treinamento das Redes Neurais - Série Univariada"
   ]
  },
  {
   "cell_type": "code",
   "execution_count": 1,
   "metadata": {},
   "outputs": [],
   "source": [
    "import pandas as pd\n",
    "import numpy as np\n",
    "import seaborn as sns\n",
    "import matplotlib.pyplot as plt\n",
    "import statsmodels.tsa.stattools\n",
    "import statsmodels.tsa.x13\n",
    "import statsmodels.graphics.tsaplots\n",
    "import statsmodels.api as sm\n",
    "from statsmodels.graphics.api import qqplot\n",
    "from statsmodels.tsa.api import acf, graphics, pacf\n",
    "from statsmodels.tsa.arima.model import ARIMA\n",
    "import pickle\n",
    "from pmdarima.arima import auto_arima, nsdiffs, ndiffs\n",
    "from sklearn.metrics import mean_squared_error, mean_absolute_percentage_error\n",
    "import random\n",
    "import tensorflow as tf\n",
    "seed = 42\n",
    "random.seed(seed)\n",
    "np.random.seed(seed)\n",
    "tf.random.set_seed(seed)\n",
    "\n",
    "sns.set()\n",
    "sns.set_context(\"notebook\")\n",
    "sns.set(rc={'figure.figsize':(10,7)})"
   ]
  },
  {
   "cell_type": "code",
   "execution_count": 2,
   "metadata": {},
   "outputs": [],
   "source": [
    "import warnings\n",
    "warnings.filterwarnings('ignore')\n",
    "warnings.simplefilter('ignore')"
   ]
  },
  {
   "cell_type": "code",
   "execution_count": 3,
   "metadata": {},
   "outputs": [],
   "source": [
    "df_main_orig = pd.read_excel(\"variaveis_previsao.xlsx\", parse_dates=['date'])"
   ]
  },
  {
   "cell_type": "markdown",
   "metadata": {},
   "source": [
    "Removendo as últimas linhas que são todas NaN"
   ]
  },
  {
   "cell_type": "code",
   "execution_count": 4,
   "metadata": {},
   "outputs": [],
   "source": [
    "df_main = df_main_orig.iloc[0:192]\n",
    "datas = df_main['date']"
   ]
  },
  {
   "cell_type": "code",
   "execution_count": 5,
   "metadata": {},
   "outputs": [
    {
     "data": {
      "text/html": [
       "<div>\n",
       "<style scoped>\n",
       "    .dataframe tbody tr th:only-of-type {\n",
       "        vertical-align: middle;\n",
       "    }\n",
       "\n",
       "    .dataframe tbody tr th {\n",
       "        vertical-align: top;\n",
       "    }\n",
       "\n",
       "    .dataframe thead th {\n",
       "        text-align: right;\n",
       "    }\n",
       "</style>\n",
       "<table border=\"1\" class=\"dataframe\">\n",
       "  <thead>\n",
       "    <tr style=\"text-align: right;\">\n",
       "      <th></th>\n",
       "      <th>date</th>\n",
       "      <th>icms_sp</th>\n",
       "      <th>igp_m</th>\n",
       "      <th>dolar</th>\n",
       "      <th>ibc_br</th>\n",
       "      <th>dias_uteis</th>\n",
       "      <th>igp_m_22</th>\n",
       "      <th>dolar_22</th>\n",
       "      <th>ibc_br_22</th>\n",
       "      <th>igp_m_21</th>\n",
       "      <th>...</th>\n",
       "      <th>ibc_br_16</th>\n",
       "      <th>igp_m_15</th>\n",
       "      <th>dolar_15</th>\n",
       "      <th>ibc_br_15</th>\n",
       "      <th>igp_m_14</th>\n",
       "      <th>dolar_14</th>\n",
       "      <th>ibc_br_14</th>\n",
       "      <th>igp_m_13</th>\n",
       "      <th>dolar_13</th>\n",
       "      <th>ibc_br_13</th>\n",
       "    </tr>\n",
       "  </thead>\n",
       "  <tbody>\n",
       "    <tr>\n",
       "      <th>187</th>\n",
       "      <td>2018-08-01</td>\n",
       "      <td>1.157415e+10</td>\n",
       "      <td>701.677</td>\n",
       "      <td>3.929757</td>\n",
       "      <td>143.43</td>\n",
       "      <td>23</td>\n",
       "      <td>701.677</td>\n",
       "      <td>3.929757</td>\n",
       "      <td>143.43</td>\n",
       "      <td>701.677</td>\n",
       "      <td>...</td>\n",
       "      <td>NaN</td>\n",
       "      <td>NaN</td>\n",
       "      <td>NaN</td>\n",
       "      <td>NaN</td>\n",
       "      <td>NaN</td>\n",
       "      <td>NaN</td>\n",
       "      <td>NaN</td>\n",
       "      <td>NaN</td>\n",
       "      <td>NaN</td>\n",
       "      <td>NaN</td>\n",
       "    </tr>\n",
       "    <tr>\n",
       "      <th>188</th>\n",
       "      <td>2018-09-01</td>\n",
       "      <td>1.157068e+10</td>\n",
       "      <td>712.373</td>\n",
       "      <td>4.116547</td>\n",
       "      <td>135.78</td>\n",
       "      <td>20</td>\n",
       "      <td>712.373</td>\n",
       "      <td>4.116547</td>\n",
       "      <td>135.78</td>\n",
       "      <td>712.373</td>\n",
       "      <td>...</td>\n",
       "      <td>NaN</td>\n",
       "      <td>NaN</td>\n",
       "      <td>NaN</td>\n",
       "      <td>NaN</td>\n",
       "      <td>NaN</td>\n",
       "      <td>NaN</td>\n",
       "      <td>NaN</td>\n",
       "      <td>NaN</td>\n",
       "      <td>NaN</td>\n",
       "      <td>NaN</td>\n",
       "    </tr>\n",
       "    <tr>\n",
       "      <th>189</th>\n",
       "      <td>2018-10-01</td>\n",
       "      <td>1.176202e+10</td>\n",
       "      <td>718.684</td>\n",
       "      <td>3.758409</td>\n",
       "      <td>139.86</td>\n",
       "      <td>22</td>\n",
       "      <td>718.684</td>\n",
       "      <td>3.758409</td>\n",
       "      <td>139.86</td>\n",
       "      <td>718.684</td>\n",
       "      <td>...</td>\n",
       "      <td>NaN</td>\n",
       "      <td>NaN</td>\n",
       "      <td>NaN</td>\n",
       "      <td>NaN</td>\n",
       "      <td>NaN</td>\n",
       "      <td>NaN</td>\n",
       "      <td>NaN</td>\n",
       "      <td>NaN</td>\n",
       "      <td>NaN</td>\n",
       "      <td>NaN</td>\n",
       "    </tr>\n",
       "    <tr>\n",
       "      <th>190</th>\n",
       "      <td>2018-11-01</td>\n",
       "      <td>1.150136e+10</td>\n",
       "      <td>715.166</td>\n",
       "      <td>3.786665</td>\n",
       "      <td>137.67</td>\n",
       "      <td>20</td>\n",
       "      <td>715.166</td>\n",
       "      <td>3.786665</td>\n",
       "      <td>137.67</td>\n",
       "      <td>715.166</td>\n",
       "      <td>...</td>\n",
       "      <td>NaN</td>\n",
       "      <td>NaN</td>\n",
       "      <td>NaN</td>\n",
       "      <td>NaN</td>\n",
       "      <td>NaN</td>\n",
       "      <td>NaN</td>\n",
       "      <td>NaN</td>\n",
       "      <td>NaN</td>\n",
       "      <td>NaN</td>\n",
       "      <td>NaN</td>\n",
       "    </tr>\n",
       "    <tr>\n",
       "      <th>191</th>\n",
       "      <td>2018-12-01</td>\n",
       "      <td>1.196787e+10</td>\n",
       "      <td>707.441</td>\n",
       "      <td>3.882782</td>\n",
       "      <td>136.34</td>\n",
       "      <td>20</td>\n",
       "      <td>707.441</td>\n",
       "      <td>3.882782</td>\n",
       "      <td>136.34</td>\n",
       "      <td>707.441</td>\n",
       "      <td>...</td>\n",
       "      <td>NaN</td>\n",
       "      <td>NaN</td>\n",
       "      <td>NaN</td>\n",
       "      <td>NaN</td>\n",
       "      <td>NaN</td>\n",
       "      <td>NaN</td>\n",
       "      <td>NaN</td>\n",
       "      <td>NaN</td>\n",
       "      <td>NaN</td>\n",
       "      <td>NaN</td>\n",
       "    </tr>\n",
       "  </tbody>\n",
       "</table>\n",
       "<p>5 rows × 36 columns</p>\n",
       "</div>"
      ],
      "text/plain": [
       "          date       icms_sp    igp_m     dolar  ibc_br  dias_uteis  igp_m_22  \\\n",
       "187 2018-08-01  1.157415e+10  701.677  3.929757  143.43          23   701.677   \n",
       "188 2018-09-01  1.157068e+10  712.373  4.116547  135.78          20   712.373   \n",
       "189 2018-10-01  1.176202e+10  718.684  3.758409  139.86          22   718.684   \n",
       "190 2018-11-01  1.150136e+10  715.166  3.786665  137.67          20   715.166   \n",
       "191 2018-12-01  1.196787e+10  707.441  3.882782  136.34          20   707.441   \n",
       "\n",
       "     dolar_22  ibc_br_22  igp_m_21  ...  ibc_br_16  igp_m_15  dolar_15  \\\n",
       "187  3.929757     143.43   701.677  ...        NaN       NaN       NaN   \n",
       "188  4.116547     135.78   712.373  ...        NaN       NaN       NaN   \n",
       "189  3.758409     139.86   718.684  ...        NaN       NaN       NaN   \n",
       "190  3.786665     137.67   715.166  ...        NaN       NaN       NaN   \n",
       "191  3.882782     136.34   707.441  ...        NaN       NaN       NaN   \n",
       "\n",
       "     ibc_br_15  igp_m_14  dolar_14  ibc_br_14  igp_m_13  dolar_13  ibc_br_13  \n",
       "187        NaN       NaN       NaN        NaN       NaN       NaN        NaN  \n",
       "188        NaN       NaN       NaN        NaN       NaN       NaN        NaN  \n",
       "189        NaN       NaN       NaN        NaN       NaN       NaN        NaN  \n",
       "190        NaN       NaN       NaN        NaN       NaN       NaN        NaN  \n",
       "191        NaN       NaN       NaN        NaN       NaN       NaN        NaN  \n",
       "\n",
       "[5 rows x 36 columns]"
      ]
     },
     "execution_count": 5,
     "metadata": {},
     "output_type": "execute_result"
    }
   ],
   "source": [
    "df_main.tail()"
   ]
  },
  {
   "cell_type": "markdown",
   "metadata": {},
   "source": [
    "### Criação das Séries"
   ]
  },
  {
   "cell_type": "code",
   "execution_count": 6,
   "metadata": {},
   "outputs": [],
   "source": [
    "icms_ts = pd.Series(list(df_main['icms_sp']), index = datas)"
   ]
  },
  {
   "cell_type": "markdown",
   "metadata": {},
   "source": [
    "#### Testes de Valores Nulos"
   ]
  },
  {
   "cell_type": "code",
   "execution_count": 7,
   "metadata": {},
   "outputs": [
    {
     "name": "stdout",
     "output_type": "stream",
     "text": [
      "ICMS 0\n"
     ]
    }
   ],
   "source": [
    "print('ICMS', icms_ts.isnull().sum())"
   ]
  },
  {
   "cell_type": "code",
   "execution_count": 8,
   "metadata": {},
   "outputs": [
    {
     "data": {
      "text/plain": [
       "Series([], dtype: float64)"
      ]
     },
     "execution_count": 8,
     "metadata": {},
     "output_type": "execute_result"
    }
   ],
   "source": [
    "# listando os nulos do icms\n",
    "icms_ts[icms_ts.isnull()]"
   ]
  },
  {
   "cell_type": "code",
   "execution_count": 9,
   "metadata": {},
   "outputs": [],
   "source": [
    "# eliminando os nulos do icms\n",
    "icms_ts = icms_ts[~icms_ts.isnull()]"
   ]
  },
  {
   "cell_type": "code",
   "execution_count": 10,
   "metadata": {},
   "outputs": [
    {
     "data": {
      "text/plain": [
       "(192,)"
      ]
     },
     "execution_count": 10,
     "metadata": {},
     "output_type": "execute_result"
    }
   ],
   "source": [
    "icms_ts.shape"
   ]
  },
  {
   "cell_type": "markdown",
   "metadata": {},
   "source": [
    "### Série em Log\n",
    "Como os valores do ICMS são muito elevados a série será colocada em log."
   ]
  },
  {
   "cell_type": "code",
   "execution_count": 11,
   "metadata": {},
   "outputs": [],
   "source": [
    "l_icms_ts = pd.Series(np.log(list(df_main['icms_sp'])), index = datas)"
   ]
  },
  {
   "cell_type": "markdown",
   "metadata": {},
   "source": [
    "## Divisão em treino e teste"
   ]
  },
  {
   "cell_type": "code",
   "execution_count": 12,
   "metadata": {},
   "outputs": [],
   "source": [
    "icms_train = icms_ts[:-24]\n",
    "icms_val = icms_ts[-24:-12]\n",
    "icms_test = icms_ts[-12:]"
   ]
  },
  {
   "cell_type": "code",
   "execution_count": 13,
   "metadata": {},
   "outputs": [
    {
     "name": "stdout",
     "output_type": "stream",
     "text": [
      "##############################\n",
      " date\n",
      "2003-01-01    3.360296e+09\n",
      "2003-02-01    3.196558e+09\n",
      "2003-03-01    3.160011e+09\n",
      "2003-04-01    3.215307e+09\n",
      "2003-05-01    3.098930e+09\n",
      "                  ...     \n",
      "2016-08-01    1.012199e+10\n",
      "2016-09-01    1.003972e+10\n",
      "2016-10-01    1.040347e+10\n",
      "2016-11-01    1.026535e+10\n",
      "2016-12-01    1.098004e+10\n",
      "Length: 168, dtype: float64\n",
      "##############################\n",
      " date\n",
      "2017-01-01    1.072886e+10\n",
      "2017-02-01    9.732300e+09\n",
      "2017-03-01    1.004051e+10\n",
      "2017-04-01    1.067568e+10\n",
      "2017-05-01    1.014303e+10\n",
      "2017-06-01    1.058851e+10\n",
      "2017-07-01    1.036689e+10\n",
      "2017-08-01    1.068426e+10\n",
      "2017-09-01    1.089186e+10\n",
      "2017-10-01    1.101721e+10\n",
      "2017-11-01    1.124273e+10\n",
      "2017-12-01    1.144989e+10\n",
      "dtype: float64\n",
      "##############################\n",
      " date\n",
      "2018-01-01    1.171836e+10\n",
      "2018-02-01    1.055555e+10\n",
      "2018-03-01    1.051107e+10\n",
      "2018-04-01    1.147597e+10\n",
      "2018-05-01    1.108135e+10\n",
      "2018-06-01    1.076198e+10\n",
      "2018-07-01    1.146222e+10\n",
      "2018-08-01    1.157415e+10\n",
      "2018-09-01    1.157068e+10\n",
      "2018-10-01    1.176202e+10\n",
      "2018-11-01    1.150136e+10\n",
      "2018-12-01    1.196787e+10\n",
      "dtype: float64\n"
     ]
    }
   ],
   "source": [
    "print('#'*30+'\\n',icms_train)\n",
    "print('#'*30+'\\n',icms_val)\n",
    "print('#'*30+'\\n',icms_test)"
   ]
  },
  {
   "cell_type": "markdown",
   "metadata": {},
   "source": [
    "## Utilidades para Previsões"
   ]
  },
  {
   "cell_type": "markdown",
   "metadata": {},
   "source": [
    "Além de MAPE e MSE, será usado o erro relativo, que é \n",
    "\n",
    "$Erro Relativo = \\frac{|previsão - real|}{real}$"
   ]
  },
  {
   "cell_type": "code",
   "execution_count": 14,
   "metadata": {},
   "outputs": [],
   "source": [
    "def erro_relativo(prev, real):\n",
    "    return 100*np.absolute(prev-real)/real"
   ]
  },
  {
   "cell_type": "markdown",
   "metadata": {},
   "source": [
    "#### Dicionário de Previsões\n",
    "Será usado para armazenar todas as previsões."
   ]
  },
  {
   "cell_type": "code",
   "execution_count": 15,
   "metadata": {},
   "outputs": [],
   "source": [
    "previsoes = {\n",
    "    'nome':[],\n",
    "    'modelo': [],\n",
    "    'previsoes': [],\n",
    "    'rmse': [],\n",
    "    'mape': [],\n",
    "    'erro relativo':[]\n",
    "}"
   ]
  },
  {
   "cell_type": "markdown",
   "metadata": {},
   "source": [
    "## Modelos RNN LSTM\n",
    "Redes Neurais Recorrentes com neurônios Long Short-Term Memory"
   ]
  },
  {
   "cell_type": "markdown",
   "metadata": {},
   "source": [
    "### Montagem da Série\n",
    "As redes neurais precisam de conjuntos de características e de etiquetas separados. Neste caso, o conjunto de etiquetas é a própria série de ICMS. Para os conjunto de caraterísticas será utilizada a série do ICMS com lags 1, 2, 3, 4, 6 e 12 defasagens, e médias móveis de 2, 3, 6 e 12 meses, conforme trabalho de [Silva & Figueiredo, 2020]."
   ]
  },
  {
   "cell_type": "code",
   "execution_count": 16,
   "metadata": {},
   "outputs": [],
   "source": [
    "def cria_features_target(serie, verbose=0):\n",
    "    serie_d1 = serie.shift(1)\n",
    "    serie_d2 = serie.shift(2)\n",
    "    serie_d3 = serie.shift(3)\n",
    "    serie_d4 = serie.shift(4)\n",
    "    serie_d6 = serie.shift(6)\n",
    "    serie_d12 = serie.shift(12)\n",
    "    serie_ma2 = serie.rolling(2).mean()\n",
    "    serie_ma3 = serie.rolling(3).mean()\n",
    "    serie_ma6 = serie.rolling(6).mean()\n",
    "    serie_ma12 = serie.rolling(12).mean()\n",
    "\n",
    "    if verbose==1:\n",
    "        print(\"shape de cada uma das séries:\")\n",
    "        print(serie_d1.shape, serie_d2.shape, serie_d3.shape, serie_d4.shape, \n",
    "              serie_d6.shape, serie_d12.shape, serie_ma2.shape, serie_ma3.shape, \n",
    "              serie_ma6.shape, serie_ma12.shape)\n",
    "    X = np.array([serie_d1, serie_d2, serie_d3, serie_d4, \n",
    "     serie_d6, serie_d12, serie_ma2, serie_ma3, \n",
    "     serie_ma6, serie_ma12])\n",
    "    if verbose==1:\n",
    "        print(\"shape do array de features:\", X.shape)\n",
    "    X = X[:,12:]\n",
    "    X = X.T\n",
    "    if verbose==1:\n",
    "        print(\"shape do array de features depois da poda e da transposição:\", X.shape)\n",
    "    Y = np.array(serie[12:])\n",
    "    if verbose==1:\n",
    "        print(\"shape do array target:\", Y.shape)\n",
    "    return X, Y"
   ]
  },
  {
   "cell_type": "code",
   "execution_count": 17,
   "metadata": {},
   "outputs": [
    {
     "name": "stdout",
     "output_type": "stream",
     "text": [
      "shape de cada uma das séries:\n",
      "(192,) (192,) (192,) (192,) (192,) (192,) (192,) (192,) (192,) (192,)\n",
      "shape do array de features: (10, 192)\n",
      "shape do array de features depois da poda e da transposição: (180, 10)\n",
      "shape do array target: (180,)\n"
     ]
    }
   ],
   "source": [
    "#série completa, com sazonalidade e em nível\n",
    "#seas_icms_ts = seas_icms.seasadj\n",
    "X_data, Y_data = cria_features_target(l_icms_ts, verbose=1)"
   ]
  },
  {
   "cell_type": "code",
   "execution_count": 18,
   "metadata": {},
   "outputs": [],
   "source": [
    "#print(X_data[0])\n",
    "#print(Y_data[0])\n",
    "#print(X_data[X_data.shape[0]-1])\n",
    "#print(Y_data[X_data.shape[0]-1])"
   ]
  },
  {
   "cell_type": "markdown",
   "metadata": {},
   "source": [
    "#### Normalização dos Dados\n",
    "Serão normalizados usando-se min-max. Apenas as features, a variável target não será normalizada. Os dados serão dividos em treno, validação e teste para a normalização, de modo que o fit seja feito somente nos dados de treino, aumentando-se assim a probabilidade de generalização do modelo."
   ]
  },
  {
   "cell_type": "code",
   "execution_count": 19,
   "metadata": {},
   "outputs": [
    {
     "name": "stdout",
     "output_type": "stream",
     "text": [
      "(156, 10) (12, 10) (12, 10)\n"
     ]
    }
   ],
   "source": [
    "X_train = X_data[:-24]\n",
    "X_val = X_data[-24:-12]\n",
    "X_test = X_data[-12:]\n",
    "print(X_train.shape, X_val.shape, X_test.shape)\n",
    "#Y_train = Y_data[:-24]\n",
    "#Y_val = Y_data[-24:-12]\n",
    "#Y_test = Y_data[-12:]\n",
    "#print(Y_train.shape, Y_val.shape, Y_test.shape)"
   ]
  },
  {
   "cell_type": "code",
   "execution_count": 20,
   "metadata": {},
   "outputs": [
    {
     "name": "stdout",
     "output_type": "stream",
     "text": [
      "numéricas [0, 1, 2, 3, 4, 5, 6, 7, 8, 9]\n",
      "ColumnTransformer(transformers=[('min-max', MinMaxScaler(),\n",
      "                                 [0, 1, 2, 3, 4, 5, 6, 7, 8, 9])],\n",
      "                  verbose=True)\n",
      "[ColumnTransformer] ....... (1 of 1) Processing min-max, total=   0.0s\n",
      "(156, 10)\n",
      "(12, 10)\n",
      "(12, 10)\n"
     ]
    }
   ],
   "source": [
    "from sklearn.preprocessing import MinMaxScaler\n",
    "from sklearn.compose import ColumnTransformer\n",
    "# índice dos atributos numéricos\n",
    "num_atrib = list(range(10))\n",
    "print('numéricas', num_atrib)\n",
    "\n",
    "enc_x = ColumnTransformer([('min-max',MinMaxScaler(), num_atrib)], verbose=True)\n",
    "\n",
    "print(enc_x)\n",
    "X_train_std = enc_x.fit_transform(X_train)\n",
    "X_val_std = enc_x.transform(X_val)\n",
    "X_test_std = enc_x.transform(X_test)\n",
    "\n",
    "print(X_train_std.shape)\n",
    "print(X_val_std.shape)\n",
    "print(X_test_std.shape)\n",
    "\n",
    "#enc_y = MinMaxScaler()\n",
    "\n",
    "#print(enc_y)\n",
    "#Y_train_std = enc_y.fit_transform(Y_train.reshape(Y_train.shape[0], 1))\n",
    "#Y_val_std = enc_y.transform(Y_val.reshape(12,1))\n",
    "#Y_test_std = enc_y.transform(Y_test.reshape(12,1))\n",
    "\n",
    "#print(Y_train_std.shape)\n",
    "#print(Y_val_std.shape)\n",
    "#print(Y_test_std.shape)"
   ]
  },
  {
   "cell_type": "markdown",
   "metadata": {},
   "source": [
    "# Modelo 1 mês\n",
    "Neste modelo cada mês será previsto pelos dados do mês anterior"
   ]
  },
  {
   "cell_type": "markdown",
   "metadata": {},
   "source": [
    "#### Criando as janelas de 12 meses e reshape para LSTM. A arrecadação de cada mês será prevista pela arrecadação dos 12 meses anteriores."
   ]
  },
  {
   "cell_type": "code",
   "execution_count": 21,
   "metadata": {},
   "outputs": [
    {
     "name": "stdout",
     "output_type": "stream",
     "text": [
      "(180, 10, 1)\n"
     ]
    }
   ],
   "source": [
    "X_data_jn = np.concatenate((X_train_std, X_val_std, X_test_std), axis = 0)\n",
    "X_data_jn = X_data_jn.reshape(X_data_jn.shape[0],10,1)\n",
    "print(X_data_jn.shape)"
   ]
  },
  {
   "cell_type": "code",
   "execution_count": 22,
   "metadata": {},
   "outputs": [],
   "source": [
    "def janelamento_1_mes(X, Y, verbose=0):\n",
    "    X_exp = np.roll(X, 1, axis=0)\n",
    "    X_exp_cut = X_exp[1:,:,:]#.transpose(0,2,1)\n",
    "    Y_cut = Y[1:]\n",
    "    if verbose==1:\n",
    "        print('shape das features janeladas:', X_exp.shape)\n",
    "        print('shape das features janeladas pós poda e transposição:', X_exp_cut.shape)\n",
    "        print('shape do array target pós poda:', Y_cut.shape)\n",
    "    return X_exp_cut, Y_cut"
   ]
  },
  {
   "cell_type": "code",
   "execution_count": 23,
   "metadata": {},
   "outputs": [],
   "source": [
    "X_data_exp_cut1, Y_data_cut1 = janelamento_1_mes(X_data_jn, Y_data, verbose=0)"
   ]
  },
  {
   "cell_type": "code",
   "execution_count": 24,
   "metadata": {},
   "outputs": [
    {
     "data": {
      "text/plain": [
       "((179, 10, 1), (179,))"
      ]
     },
     "execution_count": 24,
     "metadata": {},
     "output_type": "execute_result"
    }
   ],
   "source": [
    "X_data_exp_cut1.shape, Y_data_cut1.shape"
   ]
  },
  {
   "cell_type": "code",
   "execution_count": 25,
   "metadata": {},
   "outputs": [
    {
     "data": {
      "text/plain": [
       "array([[0.16251292],\n",
       "       [0.05315468],\n",
       "       [0.03876786],\n",
       "       [0.01908615],\n",
       "       [0.00920992],\n",
       "       [0.0628423 ],\n",
       "       [0.09994771],\n",
       "       [0.06040652],\n",
       "       [0.        ],\n",
       "       [0.        ]])"
      ]
     },
     "execution_count": 25,
     "metadata": {},
     "output_type": "execute_result"
    }
   ],
   "source": [
    "X_data_exp_cut1[0]"
   ]
  },
  {
   "cell_type": "code",
   "execution_count": 26,
   "metadata": {},
   "outputs": [
    {
     "data": {
      "text/plain": [
       "21.905893928886627"
      ]
     },
     "execution_count": 26,
     "metadata": {},
     "output_type": "execute_result"
    }
   ],
   "source": [
    "Y_data_cut1[0]"
   ]
  },
  {
   "cell_type": "code",
   "execution_count": 27,
   "metadata": {},
   "outputs": [
    {
     "data": {
      "text/plain": [
       "23.20549114707319"
      ]
     },
     "execution_count": 27,
     "metadata": {},
     "output_type": "execute_result"
    }
   ],
   "source": [
    "Y_data_cut1[Y_data_cut1.shape[0]-1]"
   ]
  },
  {
   "cell_type": "code",
   "execution_count": 28,
   "metadata": {},
   "outputs": [
    {
     "data": {
      "text/plain": [
       "array([[1.03664243],\n",
       "       [1.02338207],\n",
       "       [1.02362439],\n",
       "       [1.01576805],\n",
       "       [0.9887405 ],\n",
       "       [1.00013168],\n",
       "       [1.07316952],\n",
       "       [1.07484552],\n",
       "       [1.08376591],\n",
       "       [1.08393708]])"
      ]
     },
     "execution_count": 28,
     "metadata": {},
     "output_type": "execute_result"
    }
   ],
   "source": [
    "X_data_exp_cut1[Y_data_cut1.shape[0]-1]"
   ]
  },
  {
   "cell_type": "markdown",
   "metadata": {},
   "source": [
    "#### Separando novamente em treino, validação e teste"
   ]
  },
  {
   "cell_type": "code",
   "execution_count": 29,
   "metadata": {},
   "outputs": [
    {
     "name": "stdout",
     "output_type": "stream",
     "text": [
      "(155, 10, 1) (12, 10, 1) (12, 10, 1)\n",
      "(155,) (12,) (12,)\n"
     ]
    }
   ],
   "source": [
    "x_train1 = X_data_exp_cut1[:-24]\n",
    "x_val1 = X_data_exp_cut1[-24:-12]\n",
    "x_test1 = X_data_exp_cut1[-12:]\n",
    "print(x_train1.shape, x_val1.shape, x_test1.shape)\n",
    "y_train1 = Y_data_cut1[:-24]\n",
    "y_val1 = Y_data_cut1[-24:-12]\n",
    "y_test1 = Y_data_cut1[-12:]\n",
    "print(y_train1.shape, y_val1.shape, y_test1.shape)"
   ]
  },
  {
   "cell_type": "markdown",
   "metadata": {},
   "source": [
    "### Criando o modelo LSTM "
   ]
  },
  {
   "cell_type": "code",
   "execution_count": 30,
   "metadata": {},
   "outputs": [],
   "source": [
    "# importando as bibliotecas do Keras\n",
    "from tensorflow.keras.models import Sequential\n",
    "from tensorflow.keras.layers import LSTM, Dense, Dropout\n",
    "from tensorflow.keras.callbacks import ReduceLROnPlateau, EarlyStopping\n",
    "from tensorflow.keras.optimizers import Adam"
   ]
  },
  {
   "cell_type": "markdown",
   "metadata": {},
   "source": [
    "## Arquitetura da Rede - Arquitetura Larga"
   ]
  },
  {
   "cell_type": "code",
   "execution_count": 31,
   "metadata": {},
   "outputs": [],
   "source": [
    "rlrop1 = ReduceLROnPlateau(monitor='val_loss', factor=0.1, patience=10, verbose=1)\n",
    "early_stop1 = EarlyStopping(monitor='val_loss', patience=100, verbose=1, \n",
    "                           restore_best_weights=True)"
   ]
  },
  {
   "cell_type": "code",
   "execution_count": 32,
   "metadata": {},
   "outputs": [],
   "source": [
    "# Épocas e tamanho do lote\n",
    "EPOCHS = 1000\n",
    "BATCH = 4\n",
    "NEURONIOS = 1200\n",
    "LR = 1e-5\n",
    "DROPOUT = 0.2\n",
    "\n",
    "# Imstanciação do modelo\n",
    "model = Sequential()\n",
    "\n",
    "# Adicionar camada LSTM \n",
    "model.add(LSTM(activation='tanh', dropout=DROPOUT,\n",
    "        input_shape = (10, 1), return_sequences = False,\n",
    "        units = NEURONIOS))\n",
    "\n",
    "# Adicionar a camada de saída com 1 neurônio linear\n",
    "model.add(Dense(\n",
    "        units = 1,\n",
    "        activation = 'linear'))\n",
    "# a learning rate padrão do Adam é 0.001\n",
    "model.compile(loss = 'mape', optimizer = Adam(learning_rate=LR))"
   ]
  },
  {
   "cell_type": "code",
   "execution_count": 33,
   "metadata": {},
   "outputs": [
    {
     "name": "stdout",
     "output_type": "stream",
     "text": [
      "Model: \"sequential\"\n",
      "_________________________________________________________________\n",
      "Layer (type)                 Output Shape              Param #   \n",
      "=================================================================\n",
      "lstm (LSTM)                  (None, 1200)              5769600   \n",
      "_________________________________________________________________\n",
      "dense (Dense)                (None, 1)                 1201      \n",
      "=================================================================\n",
      "Total params: 5,770,801\n",
      "Trainable params: 5,770,801\n",
      "Non-trainable params: 0\n",
      "_________________________________________________________________\n"
     ]
    }
   ],
   "source": [
    "model.summary()"
   ]
  },
  {
   "cell_type": "code",
   "execution_count": 34,
   "metadata": {
    "scrolled": true
   },
   "outputs": [
    {
     "name": "stdout",
     "output_type": "stream",
     "text": [
      "Epoch 1/1000\n",
      "39/39 [==============================] - 9s 236ms/step - loss: 99.7700 - val_loss: 99.0011\n",
      "Epoch 2/1000\n",
      "39/39 [==============================] - 9s 224ms/step - loss: 98.8755 - val_loss: 97.1873\n",
      "Epoch 3/1000\n",
      "39/39 [==============================] - 9s 224ms/step - loss: 96.8958 - val_loss: 92.2548\n",
      "Epoch 4/1000\n",
      "39/39 [==============================] - 9s 227ms/step - loss: 89.5425 - val_loss: 64.9124\n",
      "Epoch 5/1000\n",
      "39/39 [==============================] - 9s 225ms/step - loss: 49.3890 - val_loss: 15.5854\n",
      "Epoch 6/1000\n",
      "39/39 [==============================] - 8s 216ms/step - loss: 18.6727 - val_loss: 2.9664\n",
      "Epoch 7/1000\n",
      "39/39 [==============================] - 8s 211ms/step - loss: 6.7109 - val_loss: 0.6235\n",
      "Epoch 8/1000\n",
      "39/39 [==============================] - 8s 213ms/step - loss: 3.0847 - val_loss: 0.5393\n",
      "Epoch 9/1000\n",
      "39/39 [==============================] - 8s 204ms/step - loss: 1.4925 - val_loss: 1.3863\n",
      "Epoch 10/1000\n",
      "39/39 [==============================] - 8s 198ms/step - loss: 1.5345 - val_loss: 0.8758\n",
      "Epoch 11/1000\n",
      "39/39 [==============================] - 8s 196ms/step - loss: 1.1110 - val_loss: 0.7625\n",
      "Epoch 12/1000\n",
      "39/39 [==============================] - 8s 199ms/step - loss: 1.2030 - val_loss: 1.1491\n",
      "Epoch 13/1000\n",
      "39/39 [==============================] - 8s 196ms/step - loss: 1.1088 - val_loss: 0.4083\n",
      "Epoch 14/1000\n",
      "39/39 [==============================] - 9s 225ms/step - loss: 1.1208 - val_loss: 1.0431\n",
      "Epoch 15/1000\n",
      "39/39 [==============================] - 9s 228ms/step - loss: 1.0456 - val_loss: 0.9709\n",
      "Epoch 16/1000\n",
      "39/39 [==============================] - 10s 247ms/step - loss: 0.9718 - val_loss: 0.7542\n",
      "Epoch 17/1000\n",
      "39/39 [==============================] - 9s 236ms/step - loss: 0.9175 - val_loss: 0.8859\n",
      "Epoch 18/1000\n",
      "39/39 [==============================] - 9s 244ms/step - loss: 0.9260 - val_loss: 0.8214\n",
      "Epoch 19/1000\n",
      "39/39 [==============================] - 9s 244ms/step - loss: 0.8989 - val_loss: 1.1877\n",
      "Epoch 20/1000\n",
      "39/39 [==============================] - 9s 228ms/step - loss: 1.0252 - val_loss: 0.7371\n",
      "Epoch 21/1000\n",
      "39/39 [==============================] - 8s 205ms/step - loss: 0.9124 - val_loss: 0.8085\n",
      "Epoch 22/1000\n",
      "39/39 [==============================] - 8s 202ms/step - loss: 1.0017 - val_loss: 1.0203\n",
      "Epoch 23/1000\n",
      "39/39 [==============================] - ETA: 0s - loss: 0.9288\n",
      "Epoch 00023: ReduceLROnPlateau reducing learning rate to 9.999999747378752e-07.\n",
      "39/39 [==============================] - 8s 198ms/step - loss: 0.9288 - val_loss: 0.4120\n",
      "Epoch 24/1000\n",
      "39/39 [==============================] - 7s 189ms/step - loss: 0.8826 - val_loss: 0.7941\n",
      "Epoch 25/1000\n",
      "39/39 [==============================] - 8s 193ms/step - loss: 0.8632 - val_loss: 0.7002\n",
      "Epoch 26/1000\n",
      "39/39 [==============================] - 7s 191ms/step - loss: 0.8507 - val_loss: 0.8061\n",
      "Epoch 27/1000\n",
      "39/39 [==============================] - 7s 188ms/step - loss: 0.8466 - val_loss: 0.8432\n",
      "Epoch 28/1000\n",
      "39/39 [==============================] - 7s 190ms/step - loss: 0.8103 - val_loss: 0.8035\n",
      "Epoch 29/1000\n",
      "39/39 [==============================] - 8s 197ms/step - loss: 0.7792 - val_loss: 0.8092\n",
      "Epoch 30/1000\n",
      "39/39 [==============================] - 8s 194ms/step - loss: 0.8628 - val_loss: 0.9011\n",
      "Epoch 31/1000\n",
      "39/39 [==============================] - 8s 195ms/step - loss: 0.8413 - val_loss: 0.8629\n",
      "Epoch 32/1000\n",
      "39/39 [==============================] - 8s 194ms/step - loss: 0.8509 - val_loss: 0.7976\n",
      "Epoch 33/1000\n",
      "39/39 [==============================] - ETA: 0s - loss: 0.8664\n",
      "Epoch 00033: ReduceLROnPlateau reducing learning rate to 9.999999974752428e-08.\n",
      "39/39 [==============================] - 8s 197ms/step - loss: 0.8664 - val_loss: 0.7117\n",
      "Epoch 34/1000\n",
      "39/39 [==============================] - 8s 201ms/step - loss: 0.8451 - val_loss: 0.7184\n",
      "Epoch 35/1000\n",
      "39/39 [==============================] - 8s 208ms/step - loss: 0.8369 - val_loss: 0.7336\n",
      "Epoch 36/1000\n",
      "39/39 [==============================] - 8s 204ms/step - loss: 0.8197 - val_loss: 0.7457\n",
      "Epoch 37/1000\n",
      "39/39 [==============================] - 8s 203ms/step - loss: 0.8911 - val_loss: 0.7604\n",
      "Epoch 38/1000\n",
      "39/39 [==============================] - 8s 201ms/step - loss: 0.8417 - val_loss: 0.7706\n",
      "Epoch 39/1000\n",
      "39/39 [==============================] - 8s 204ms/step - loss: 0.8440 - val_loss: 0.7909\n",
      "Epoch 40/1000\n",
      "39/39 [==============================] - 8s 203ms/step - loss: 0.8952 - val_loss: 0.8008\n",
      "Epoch 41/1000\n",
      "39/39 [==============================] - 8s 202ms/step - loss: 0.8409 - val_loss: 0.8000\n",
      "Epoch 42/1000\n",
      "39/39 [==============================] - 8s 205ms/step - loss: 0.7489 - val_loss: 0.7968\n",
      "Epoch 43/1000\n",
      "39/39 [==============================] - ETA: 0s - loss: 0.8892\n",
      "Epoch 00043: ReduceLROnPlateau reducing learning rate to 1.0000000116860975e-08.\n",
      "39/39 [==============================] - 8s 209ms/step - loss: 0.8892 - val_loss: 0.8050\n",
      "Epoch 44/1000\n",
      "39/39 [==============================] - 8s 201ms/step - loss: 0.8283 - val_loss: 0.8050\n",
      "Epoch 45/1000\n",
      "39/39 [==============================] - 8s 201ms/step - loss: 0.8096 - val_loss: 0.8042\n",
      "Epoch 46/1000\n",
      "39/39 [==============================] - 8s 199ms/step - loss: 0.8819 - val_loss: 0.8045\n",
      "Epoch 47/1000\n",
      "39/39 [==============================] - 8s 198ms/step - loss: 0.9135 - val_loss: 0.8027\n",
      "Epoch 48/1000\n",
      "39/39 [==============================] - 7s 192ms/step - loss: 0.8872 - val_loss: 0.8024\n",
      "Epoch 49/1000\n",
      "39/39 [==============================] - 7s 187ms/step - loss: 0.9587 - val_loss: 0.8035\n",
      "Epoch 50/1000\n",
      "39/39 [==============================] - 7s 192ms/step - loss: 0.8404 - val_loss: 0.8045\n",
      "Epoch 51/1000\n",
      "39/39 [==============================] - 8s 200ms/step - loss: 0.8306 - val_loss: 0.8038\n",
      "Epoch 52/1000\n",
      "39/39 [==============================] - 8s 210ms/step - loss: 0.9068 - val_loss: 0.8043\n",
      "Epoch 53/1000\n",
      "39/39 [==============================] - ETA: 0s - loss: 0.8416\n",
      "Epoch 00053: ReduceLROnPlateau reducing learning rate to 9.999999939225292e-10.\n",
      "39/39 [==============================] - 7s 189ms/step - loss: 0.8416 - val_loss: 0.8030\n",
      "Epoch 54/1000\n",
      "39/39 [==============================] - 7s 188ms/step - loss: 0.8858 - val_loss: 0.8030\n",
      "Epoch 55/1000\n",
      "39/39 [==============================] - 7s 190ms/step - loss: 0.7788 - val_loss: 0.8030\n",
      "Epoch 56/1000\n",
      "39/39 [==============================] - 8s 193ms/step - loss: 0.7648 - val_loss: 0.8030\n",
      "Epoch 57/1000\n",
      "39/39 [==============================] - 8s 194ms/step - loss: 0.8086 - val_loss: 0.8029\n",
      "Epoch 58/1000\n",
      "39/39 [==============================] - 7s 191ms/step - loss: 0.8448 - val_loss: 0.8030\n",
      "Epoch 59/1000\n",
      "39/39 [==============================] - 7s 191ms/step - loss: 0.9239 - val_loss: 0.8030\n",
      "Epoch 60/1000\n",
      "39/39 [==============================] - 8s 197ms/step - loss: 0.8449 - val_loss: 0.8030\n",
      "Epoch 61/1000\n",
      "39/39 [==============================] - 8s 199ms/step - loss: 0.8227 - val_loss: 0.8031\n",
      "Epoch 62/1000\n",
      "39/39 [==============================] - 8s 197ms/step - loss: 0.8879 - val_loss: 0.8031\n",
      "Epoch 63/1000\n",
      "39/39 [==============================] - ETA: 0s - loss: 0.8235\n",
      "Epoch 00063: ReduceLROnPlateau reducing learning rate to 9.999999717180686e-11.\n",
      "39/39 [==============================] - 8s 206ms/step - loss: 0.8235 - val_loss: 0.8030\n",
      "Epoch 64/1000\n",
      "39/39 [==============================] - 8s 206ms/step - loss: 0.8200 - val_loss: 0.8030\n",
      "Epoch 65/1000\n",
      "39/39 [==============================] - 8s 200ms/step - loss: 0.8377 - val_loss: 0.8030\n",
      "Epoch 66/1000\n",
      "39/39 [==============================] - 8s 201ms/step - loss: 0.7982 - val_loss: 0.8030\n",
      "Epoch 67/1000\n",
      "39/39 [==============================] - 8s 205ms/step - loss: 0.8286 - val_loss: 0.8030\n",
      "Epoch 68/1000\n",
      "39/39 [==============================] - 8s 214ms/step - loss: 0.8826 - val_loss: 0.8030\n",
      "Epoch 69/1000\n",
      "39/39 [==============================] - 9s 220ms/step - loss: 0.8852 - val_loss: 0.8030\n",
      "Epoch 70/1000\n",
      "39/39 [==============================] - 9s 226ms/step - loss: 0.8368 - val_loss: 0.8030\n",
      "Epoch 71/1000\n",
      "39/39 [==============================] - 8s 210ms/step - loss: 0.8986 - val_loss: 0.8030\n",
      "Epoch 72/1000\n",
      "39/39 [==============================] - 10s 245ms/step - loss: 0.8104 - val_loss: 0.8030\n",
      "Epoch 73/1000\n",
      "39/39 [==============================] - ETA: 0s - loss: 0.9164\n",
      "Epoch 00073: ReduceLROnPlateau reducing learning rate to 9.99999943962493e-12.\n",
      "39/39 [==============================] - 9s 222ms/step - loss: 0.9164 - val_loss: 0.8030\n",
      "Epoch 74/1000\n",
      "39/39 [==============================] - 9s 221ms/step - loss: 0.8038 - val_loss: 0.8030\n",
      "Epoch 75/1000\n",
      "39/39 [==============================] - 9s 226ms/step - loss: 0.8664 - val_loss: 0.8030\n",
      "Epoch 76/1000\n",
      "39/39 [==============================] - 5s 140ms/step - loss: 0.9417 - val_loss: 0.8030\n",
      "Epoch 77/1000\n",
      "39/39 [==============================] - 5s 137ms/step - loss: 0.8326 - val_loss: 0.8030\n",
      "Epoch 78/1000\n",
      "39/39 [==============================] - 7s 172ms/step - loss: 0.8387 - val_loss: 0.8030\n",
      "Epoch 79/1000\n",
      "39/39 [==============================] - 7s 178ms/step - loss: 0.8039 - val_loss: 0.8030\n",
      "Epoch 80/1000\n",
      "39/39 [==============================] - 7s 181ms/step - loss: 0.8384 - val_loss: 0.8030\n",
      "Epoch 81/1000\n",
      "39/39 [==============================] - 8s 195ms/step - loss: 0.8037 - val_loss: 0.8030\n",
      "Epoch 82/1000\n",
      "39/39 [==============================] - 9s 224ms/step - loss: 0.8502 - val_loss: 0.8030\n",
      "Epoch 83/1000\n",
      "39/39 [==============================] - ETA: 0s - loss: 0.8235\n",
      "Epoch 00083: ReduceLROnPlateau reducing learning rate to 9.999999092680235e-13.\n",
      "39/39 [==============================] - 9s 238ms/step - loss: 0.8235 - val_loss: 0.8030\n",
      "Epoch 84/1000\n",
      "39/39 [==============================] - 9s 220ms/step - loss: 0.8476 - val_loss: 0.8030\n",
      "Epoch 85/1000\n",
      "39/39 [==============================] - 7s 191ms/step - loss: 0.8678 - val_loss: 0.8030\n",
      "Epoch 86/1000\n",
      "39/39 [==============================] - 8s 206ms/step - loss: 0.8877 - val_loss: 0.8030\n",
      "Epoch 87/1000\n",
      "39/39 [==============================] - 9s 228ms/step - loss: 0.7863 - val_loss: 0.8030\n",
      "Epoch 88/1000\n",
      "39/39 [==============================] - 7s 184ms/step - loss: 0.8286 - val_loss: 0.8030\n",
      "Epoch 89/1000\n",
      "39/39 [==============================] - 8s 197ms/step - loss: 0.9195 - val_loss: 0.8030\n",
      "Epoch 90/1000\n",
      "39/39 [==============================] - 8s 202ms/step - loss: 0.7908 - val_loss: 0.8030\n",
      "Epoch 91/1000\n",
      "39/39 [==============================] - 7s 188ms/step - loss: 0.9111 - val_loss: 0.8030\n",
      "Epoch 92/1000\n",
      "39/39 [==============================] - 7s 187ms/step - loss: 0.8653 - val_loss: 0.8030\n",
      "Epoch 93/1000\n",
      "39/39 [==============================] - ETA: 0s - loss: 0.8172\n",
      "Epoch 00093: ReduceLROnPlateau reducing learning rate to 9.9999988758398e-14.\n",
      "39/39 [==============================] - 8s 211ms/step - loss: 0.8172 - val_loss: 0.8030\n",
      "Epoch 94/1000\n",
      "39/39 [==============================] - 8s 201ms/step - loss: 1.0115 - val_loss: 0.8030\n",
      "Epoch 95/1000\n",
      "39/39 [==============================] - 8s 198ms/step - loss: 0.8463 - val_loss: 0.8030\n",
      "Epoch 96/1000\n",
      "39/39 [==============================] - 6s 152ms/step - loss: 0.8577 - val_loss: 0.8030\n",
      "Epoch 97/1000\n",
      "39/39 [==============================] - 5s 122ms/step - loss: 0.9324 - val_loss: 0.8030\n",
      "Epoch 98/1000\n",
      "39/39 [==============================] - 5s 126ms/step - loss: 0.8321 - val_loss: 0.8030\n",
      "Epoch 99/1000\n",
      "39/39 [==============================] - 4s 114ms/step - loss: 0.8119 - val_loss: 0.8030\n",
      "Epoch 100/1000\n",
      "39/39 [==============================] - 5s 116ms/step - loss: 0.7885 - val_loss: 0.8030\n",
      "Epoch 101/1000\n",
      "39/39 [==============================] - 4s 106ms/step - loss: 0.8726 - val_loss: 0.8030\n",
      "Epoch 102/1000\n",
      "39/39 [==============================] - 4s 105ms/step - loss: 0.9267 - val_loss: 0.8030\n",
      "Epoch 103/1000\n",
      "39/39 [==============================] - ETA: 0s - loss: 0.9169\n",
      "Epoch 00103: ReduceLROnPlateau reducing learning rate to 9.999999146890344e-15.\n",
      "39/39 [==============================] - 5s 122ms/step - loss: 0.9169 - val_loss: 0.8030\n",
      "Epoch 104/1000\n",
      "39/39 [==============================] - 5s 118ms/step - loss: 0.8702 - val_loss: 0.8030\n",
      "Epoch 105/1000\n",
      "39/39 [==============================] - 4s 108ms/step - loss: 0.9047 - val_loss: 0.8030\n",
      "Epoch 106/1000\n",
      "39/39 [==============================] - 4s 106ms/step - loss: 0.7808 - val_loss: 0.8030\n",
      "Epoch 107/1000\n",
      "39/39 [==============================] - 5s 121ms/step - loss: 0.8234 - val_loss: 0.8030\n",
      "Epoch 108/1000\n",
      "39/39 [==============================] - 4s 111ms/step - loss: 0.8347 - val_loss: 0.8030\n",
      "Epoch 109/1000\n",
      "39/39 [==============================] - 5s 118ms/step - loss: 0.8190 - val_loss: 0.8030\n",
      "Epoch 110/1000\n",
      "39/39 [==============================] - 4s 113ms/step - loss: 0.8805 - val_loss: 0.8030\n",
      "Epoch 111/1000\n",
      "39/39 [==============================] - 5s 124ms/step - loss: 0.8245 - val_loss: 0.8030\n",
      "Epoch 112/1000\n",
      "39/39 [==============================] - 5s 126ms/step - loss: 0.7948 - val_loss: 0.8030\n",
      "Epoch 113/1000\n",
      "39/39 [==============================] - ETA: 0s - loss: 0.8623\n",
      "Epoch 00113: ReduceLROnPlateau reducing learning rate to 9.999998977483753e-16.\n",
      "Restoring model weights from the end of the best epoch.\n",
      "39/39 [==============================] - 5s 121ms/step - loss: 0.8623 - val_loss: 0.8030\n",
      "Epoch 00113: early stopping\n"
     ]
    }
   ],
   "source": [
    "# History object for plotting our model loss by epoch\n",
    "history1 = model.fit(x_train1, y_train1, batch_size = BATCH, \n",
    "                    epochs = EPOCHS, validation_data = (x_val1, y_val1),\n",
    "                    callbacks = [rlrop1, early_stop1])"
   ]
  },
  {
   "cell_type": "code",
   "execution_count": 35,
   "metadata": {},
   "outputs": [
    {
     "data": {
      "image/png": "[encoded data removed]",
      "text/plain": [
       "<Figure size 720x504 with 1 Axes>"
      ]
     },
     "metadata": {
      "needs_background": "light"
     },
     "output_type": "display_data"
    }
   ],
   "source": [
    "# Loss History\n",
    "fig = plt.figure(figsize=(10, 7))\n",
    "plt.plot(history1.history['loss'])\n",
    "plt.plot(history1.history['val_loss'])\n",
    "plt.title('Model Loss')\n",
    "plt.ylabel('Loss')\n",
    "plt.xlabel('Epoch')\n",
    "plt.legend(['Train', 'Val'], loc='upper right')\n",
    "plt.show()"
   ]
  },
  {
   "cell_type": "markdown",
   "metadata": {},
   "source": [
    "### Previsão Multistep 12 meses em Validação\n",
    "Para ficar adequado à realidade, não podemos usar os dados de 2022 para prever 2022. Portanto, a previsão de 2022 será feita do moto *multistep*, isto é, o mês de janeiro/2022 será previsto usando-se os dados de arrecadação de janeiro a dezembro de 2021; o mês de fevereiro/2022 será previsto usando-se os dados de fevereiro a dezembro de 2021 mais a previsão feita para o mês de janeiro/2022; o mês de março/2022 será previsto usando-se os dados de março a dezembro de 2021 mais os meses de janeiro e fevereiro de 2022 previstos nos passos anteriores. E assim por diante, até que a previsão de dezembro/2022 será feita usando-se os dados de dezembro de 2021 mais as previsões de janeiro a novembro de 2022 feitas nos passos anteriores."
   ]
  },
  {
   "cell_type": "markdown",
   "metadata": {},
   "source": [
    "#### Remove os 12 últimos valores que serão previstos e cria as séries novamente"
   ]
  },
  {
   "cell_type": "code",
   "execution_count": 36,
   "metadata": {},
   "outputs": [
    {
     "name": "stdout",
     "output_type": "stream",
     "text": [
      "(192,)\n",
      "(168,)\n"
     ]
    }
   ],
   "source": [
    "# remove\n",
    "serie_multi1 = l_icms_ts[:-24]\n",
    "print(l_icms_ts.shape)\n",
    "print(serie_multi1.shape)"
   ]
  },
  {
   "cell_type": "code",
   "execution_count": 37,
   "metadata": {},
   "outputs": [
    {
     "name": "stdout",
     "output_type": "stream",
     "text": [
      "0 [[9.667677e+09]]\n",
      "1 [[9.661281e+09]]\n",
      "2 [[9.668804e+09]]\n",
      "3 [[9.666959e+09]]\n",
      "4 [[9.667088e+09]]\n",
      "5 [[9.666313e+09]]\n",
      "6 [[9.669005e+09]]\n",
      "7 [[9.668047e+09]]\n",
      "8 [[9.6731e+09]]\n",
      "9 [[9.671035e+09]]\n",
      "10 [[9.671219e+09]]\n",
      "11 [[9.669891e+09]]\n"
     ]
    }
   ],
   "source": [
    "for i in range(12):\n",
    "    # cria as séries\n",
    "    X_multi1, Y_multi1 = cria_features_target(serie_multi1, verbose=0)\n",
    "\n",
    "    # Faz a normalização usando o modelo fitado na normalização anterior\n",
    "    X_multi_std1 = enc_x.transform(X_multi1)\n",
    "    X_multi_std1 = X_multi_std1.reshape(X_multi_std1.shape[0],10,1)\n",
    "\n",
    "    # Faz o janelamento das séries\n",
    "    x_multi1, y_multi1 = janelamento_1_mes(X_multi_std1, Y_multi1, verbose=0)\n",
    "\n",
    "    # Faz a predição da arrecadação do mês\n",
    "    #y_pred_multi = np.mean(model.predict(x_multi[-1:]), axis=1)#[:,0].ravel()\n",
    "    y_pred_multi1 = model.predict(x_multi1[-1:])#[:,0].ravel()\n",
    "    print(i, np.exp(y_pred_multi1))\n",
    "\n",
    "    #### Adicionar o valor previsto à série e fazer o novo janelamento\n",
    "    serie_multi1 = pd.Series(np.append(serie_multi1, y_pred_multi1))"
   ]
  },
  {
   "cell_type": "code",
   "execution_count": 38,
   "metadata": {},
   "outputs": [],
   "source": [
    "Y_pred_multi1 = np.exp(pd.Series(serie_multi1[-12:]))\n",
    "Y_pred_multi1.index = icms_val.index"
   ]
  },
  {
   "cell_type": "code",
   "execution_count": 39,
   "metadata": {},
   "outputs": [
    {
     "data": {
      "text/plain": [
       "date\n",
       "2017-01-01    9.667678e+09\n",
       "2017-02-01    9.661281e+09\n",
       "2017-03-01    9.668803e+09\n",
       "2017-04-01    9.666959e+09\n",
       "2017-05-01    9.667088e+09\n",
       "2017-06-01    9.666313e+09\n",
       "2017-07-01    9.669006e+09\n",
       "2017-08-01    9.668047e+09\n",
       "2017-09-01    9.673101e+09\n",
       "2017-10-01    9.671035e+09\n",
       "2017-11-01    9.671219e+09\n",
       "2017-12-01    9.669891e+09\n",
       "dtype: float64"
      ]
     },
     "execution_count": 39,
     "metadata": {},
     "output_type": "execute_result"
    }
   ],
   "source": [
    "Y_pred_multi1"
   ]
  },
  {
   "cell_type": "code",
   "execution_count": 40,
   "metadata": {},
   "outputs": [
    {
     "data": {
      "text/plain": [
       "1073125339.3508865"
      ]
     },
     "execution_count": 40,
     "metadata": {},
     "output_type": "execute_result"
    }
   ],
   "source": [
    "RMSE_lstm_multi1 = mean_squared_error(icms_val, Y_pred_multi1, squared=False)\n",
    "RMSE_lstm_multi1"
   ]
  },
  {
   "cell_type": "code",
   "execution_count": 41,
   "metadata": {},
   "outputs": [
    {
     "data": {
      "text/plain": [
       "0.08862420704319925"
      ]
     },
     "execution_count": 41,
     "metadata": {},
     "output_type": "execute_result"
    }
   ],
   "source": [
    "MAPE_lstm_multi1 = mean_absolute_percentage_error(icms_val, Y_pred_multi1)\n",
    "MAPE_lstm_multi1"
   ]
  },
  {
   "cell_type": "code",
   "execution_count": 42,
   "metadata": {},
   "outputs": [],
   "source": [
    "previsoes['nome'].append('RNN-LSTM-1-mês-larga')\n",
    "previsoes['modelo'].append(model)\n",
    "previsoes['previsoes'].append(Y_pred_multi1)\n",
    "\n",
    "previsoes['rmse'].append(RMSE_lstm_multi1)\n",
    "\n",
    "previsoes['mape'].append(MAPE_lstm_multi1)\n",
    "\n",
    "previsoes['erro relativo'].append([erro_relativo(prev,real) \n",
    "                                   for prev,real in zip(Y_pred_multi1\n",
    "                                                        , icms_val)])"
   ]
  },
  {
   "cell_type": "markdown",
   "metadata": {},
   "source": [
    "## Arquitetura da Rede - Arquitetura Multicamada"
   ]
  },
  {
   "cell_type": "code",
   "execution_count": 43,
   "metadata": {},
   "outputs": [],
   "source": [
    "rlrop3 = ReduceLROnPlateau(monitor='val_loss', factor=0.1, patience=25, verbose=1)\n",
    "early_stop3 = EarlyStopping(monitor='val_loss', patience=100, verbose=1, \n",
    "                           restore_best_weights=True)"
   ]
  },
  {
   "cell_type": "code",
   "execution_count": 44,
   "metadata": {},
   "outputs": [],
   "source": [
    "# Épocas e tamanho do lote\n",
    "EPOCHS3 = 1000\n",
    "BATCH3 = 8\n",
    "NEURONIOS3 = 600\n",
    "LR3 = 1e-5\n",
    "DROPOUT3 = 0.25\n",
    "\n",
    "# Imstanciação do modelo\n",
    "model3 = Sequential()\n",
    "\n",
    "# Adicionar camada LSTM \n",
    "model3.add(LSTM(activation='tanh', dropout=DROPOUT3,\n",
    "        input_shape = (10, 1), return_sequences = True,\n",
    "        units = NEURONIOS3))\n",
    "\n",
    "# Adicionar camada LSTM \n",
    "model3.add(LSTM(activation='tanh', dropout=DROPOUT3,\n",
    "        input_shape = (10, 1), return_sequences = True,\n",
    "        units = NEURONIOS3))\n",
    "\n",
    "# Adicionar camada LSTM \n",
    "model3.add(LSTM(activation='tanh', dropout=DROPOUT3,\n",
    "        input_shape = (10, 1), return_sequences = False,\n",
    "        units = NEURONIOS3))\n",
    "\n",
    "\n",
    "# Adicionar a camada de saída com 1 neurônio linear\n",
    "model3.add(Dense(\n",
    "        units = 1,\n",
    "        activation = 'linear'))\n",
    "# a learning rate padrão do Adam é 0.001\n",
    "model3.compile(loss = 'mape', optimizer = Adam(learning_rate=LR3))"
   ]
  },
  {
   "cell_type": "code",
   "execution_count": 45,
   "metadata": {},
   "outputs": [
    {
     "name": "stdout",
     "output_type": "stream",
     "text": [
      "Model: \"sequential_1\"\n",
      "_________________________________________________________________\n",
      "Layer (type)                 Output Shape              Param #   \n",
      "=================================================================\n",
      "lstm_1 (LSTM)                (None, 10, 600)           1444800   \n",
      "_________________________________________________________________\n",
      "lstm_2 (LSTM)                (None, 10, 600)           2882400   \n",
      "_________________________________________________________________\n",
      "lstm_3 (LSTM)                (None, 600)               2882400   \n",
      "_________________________________________________________________\n",
      "dense_1 (Dense)              (None, 1)                 601       \n",
      "=================================================================\n",
      "Total params: 7,210,201\n",
      "Trainable params: 7,210,201\n",
      "Non-trainable params: 0\n",
      "_________________________________________________________________\n"
     ]
    }
   ],
   "source": [
    "model3.summary()"
   ]
  },
  {
   "cell_type": "code",
   "execution_count": 46,
   "metadata": {
    "scrolled": true
   },
   "outputs": [
    {
     "name": "stdout",
     "output_type": "stream",
     "text": [
      "Epoch 1/1000\n",
      "20/20 [==============================] - 3s 138ms/step - loss: 99.8694 - val_loss: 99.5483\n",
      "Epoch 2/1000\n",
      "20/20 [==============================] - 2s 98ms/step - loss: 99.5324 - val_loss: 98.9463\n",
      "Epoch 3/1000\n",
      "20/20 [==============================] - 2s 100ms/step - loss: 99.0111 - val_loss: 97.9172\n",
      "Epoch 4/1000\n",
      "20/20 [==============================] - 2s 96ms/step - loss: 98.0304 - val_loss: 95.8025\n",
      "Epoch 5/1000\n",
      "20/20 [==============================] - 2s 103ms/step - loss: 95.8151 - val_loss: 90.7113\n",
      "Epoch 6/1000\n",
      "20/20 [==============================] - 2s 112ms/step - loss: 90.6540 - val_loss: 76.4002\n",
      "Epoch 7/1000\n",
      "20/20 [==============================] - 2s 106ms/step - loss: 74.4674 - val_loss: 37.5074\n",
      "Epoch 8/1000\n",
      "20/20 [==============================] - 2s 110ms/step - loss: 41.8501 - val_loss: 4.4667\n",
      "Epoch 9/1000\n",
      "20/20 [==============================] - 2s 104ms/step - loss: 20.0491 - val_loss: 12.7993\n",
      "Epoch 10/1000\n",
      "20/20 [==============================] - 2s 106ms/step - loss: 13.5455 - val_loss: 8.7711\n",
      "Epoch 11/1000\n",
      "20/20 [==============================] - 2s 111ms/step - loss: 9.5413 - val_loss: 3.6942\n",
      "Epoch 12/1000\n",
      "20/20 [==============================] - 2s 114ms/step - loss: 6.4301 - val_loss: 1.1150\n",
      "Epoch 13/1000\n",
      "20/20 [==============================] - 2s 115ms/step - loss: 4.2252 - val_loss: 0.6230\n",
      "Epoch 14/1000\n",
      "20/20 [==============================] - 2s 108ms/step - loss: 3.3238 - val_loss: 0.2390\n",
      "Epoch 15/1000\n",
      "20/20 [==============================] - 2s 109ms/step - loss: 2.2770 - val_loss: 0.2009\n",
      "Epoch 16/1000\n",
      "20/20 [==============================] - 2s 104ms/step - loss: 1.6197 - val_loss: 0.3162\n",
      "Epoch 17/1000\n",
      "20/20 [==============================] - 3s 132ms/step - loss: 1.7096 - val_loss: 0.3067\n",
      "Epoch 18/1000\n",
      "20/20 [==============================] - 2s 115ms/step - loss: 1.4225 - val_loss: 0.1599\n",
      "Epoch 19/1000\n",
      "20/20 [==============================] - 2s 106ms/step - loss: 1.1298 - val_loss: 0.2556\n",
      "Epoch 20/1000\n",
      "20/20 [==============================] - 2s 110ms/step - loss: 1.0005 - val_loss: 0.5096\n",
      "Epoch 21/1000\n",
      "20/20 [==============================] - 2s 111ms/step - loss: 1.0902 - val_loss: 0.4321\n",
      "Epoch 22/1000\n",
      "20/20 [==============================] - 2s 101ms/step - loss: 1.0805 - val_loss: 0.1972\n",
      "Epoch 23/1000\n",
      "20/20 [==============================] - 2s 99ms/step - loss: 1.0429 - val_loss: 0.7419\n",
      "Epoch 24/1000\n",
      "20/20 [==============================] - 2s 98ms/step - loss: 0.8958 - val_loss: 0.2550\n",
      "Epoch 25/1000\n",
      "20/20 [==============================] - 2s 101ms/step - loss: 0.9221 - val_loss: 0.6121\n",
      "Epoch 26/1000\n",
      "20/20 [==============================] - 2s 109ms/step - loss: 0.9007 - val_loss: 0.4741\n",
      "Epoch 27/1000\n",
      "20/20 [==============================] - 2s 106ms/step - loss: 0.9310 - val_loss: 0.2292\n",
      "Epoch 28/1000\n",
      "20/20 [==============================] - 2s 108ms/step - loss: 1.0068 - val_loss: 0.7327\n",
      "Epoch 29/1000\n",
      "20/20 [==============================] - 2s 105ms/step - loss: 0.8921 - val_loss: 0.5628\n",
      "Epoch 30/1000\n",
      "20/20 [==============================] - 2s 103ms/step - loss: 0.9225 - val_loss: 0.5943\n",
      "Epoch 31/1000\n",
      "20/20 [==============================] - 2s 102ms/step - loss: 0.9291 - val_loss: 0.4223\n",
      "Epoch 32/1000\n",
      "20/20 [==============================] - 2s 106ms/step - loss: 0.9034 - val_loss: 0.6818\n",
      "Epoch 33/1000\n",
      "20/20 [==============================] - 2s 109ms/step - loss: 0.9333 - val_loss: 0.2514\n",
      "Epoch 34/1000\n",
      "20/20 [==============================] - 2s 108ms/step - loss: 0.8728 - val_loss: 0.3847\n",
      "Epoch 35/1000\n",
      "20/20 [==============================] - 2s 111ms/step - loss: 0.8032 - val_loss: 0.3843\n",
      "Epoch 36/1000\n",
      "20/20 [==============================] - 2s 103ms/step - loss: 0.8128 - val_loss: 0.6596\n",
      "Epoch 37/1000\n",
      "20/20 [==============================] - 2s 105ms/step - loss: 0.8389 - val_loss: 0.5331\n",
      "Epoch 38/1000\n",
      "20/20 [==============================] - 2s 102ms/step - loss: 0.8091 - val_loss: 0.4450\n",
      "Epoch 39/1000\n",
      "20/20 [==============================] - 2s 99ms/step - loss: 0.8271 - val_loss: 0.3277\n",
      "Epoch 40/1000\n",
      "20/20 [==============================] - 2s 100ms/step - loss: 0.8859 - val_loss: 0.4189\n",
      "Epoch 41/1000\n",
      "20/20 [==============================] - 2s 101ms/step - loss: 0.8238 - val_loss: 0.5873\n",
      "Epoch 42/1000\n",
      "20/20 [==============================] - 2s 111ms/step - loss: 0.7760 - val_loss: 0.6840\n",
      "Epoch 43/1000\n",
      "20/20 [==============================] - ETA: 0s - loss: 0.7909\n",
      "Epoch 00043: ReduceLROnPlateau reducing learning rate to 9.999999747378752e-07.\n",
      "20/20 [==============================] - 2s 101ms/step - loss: 0.7909 - val_loss: 0.6326\n",
      "Epoch 44/1000\n",
      "20/20 [==============================] - 2s 101ms/step - loss: 0.7998 - val_loss: 0.5815\n",
      "Epoch 45/1000\n",
      "20/20 [==============================] - 2s 116ms/step - loss: 0.7772 - val_loss: 0.4400\n",
      "Epoch 46/1000\n",
      "20/20 [==============================] - 2s 105ms/step - loss: 0.8004 - val_loss: 0.3882\n",
      "Epoch 47/1000\n",
      "20/20 [==============================] - 2s 101ms/step - loss: 0.8804 - val_loss: 0.3475\n",
      "Epoch 48/1000\n",
      "20/20 [==============================] - 2s 98ms/step - loss: 0.7812 - val_loss: 0.3562\n",
      "Epoch 49/1000\n",
      "20/20 [==============================] - 2s 104ms/step - loss: 0.7137 - val_loss: 0.4155\n",
      "Epoch 50/1000\n",
      "20/20 [==============================] - 2s 111ms/step - loss: 0.7914 - val_loss: 0.4526\n",
      "Epoch 51/1000\n",
      "20/20 [==============================] - 2s 108ms/step - loss: 0.7474 - val_loss: 0.4538\n",
      "Epoch 52/1000\n",
      "20/20 [==============================] - 2s 107ms/step - loss: 0.8012 - val_loss: 0.4790\n",
      "Epoch 53/1000\n",
      "20/20 [==============================] - 2s 108ms/step - loss: 0.7041 - val_loss: 0.4077\n",
      "Epoch 54/1000\n",
      "20/20 [==============================] - 2s 110ms/step - loss: 0.7595 - val_loss: 0.4047\n",
      "Epoch 55/1000\n",
      "20/20 [==============================] - 2s 105ms/step - loss: 0.7156 - val_loss: 0.3794\n",
      "Epoch 56/1000\n",
      "20/20 [==============================] - 2s 105ms/step - loss: 0.7373 - val_loss: 0.4594\n",
      "Epoch 57/1000\n",
      "20/20 [==============================] - 2s 106ms/step - loss: 0.8196 - val_loss: 0.4436\n",
      "Epoch 58/1000\n",
      "20/20 [==============================] - 2s 112ms/step - loss: 0.8222 - val_loss: 0.5549\n",
      "Epoch 59/1000\n",
      "20/20 [==============================] - 2s 108ms/step - loss: 0.7591 - val_loss: 0.4799\n",
      "Epoch 60/1000\n",
      "20/20 [==============================] - 2s 106ms/step - loss: 0.8736 - val_loss: 0.3920\n",
      "Epoch 61/1000\n",
      "20/20 [==============================] - 2s 103ms/step - loss: 0.8223 - val_loss: 0.4107\n",
      "Epoch 62/1000\n",
      "20/20 [==============================] - 2s 103ms/step - loss: 0.7935 - val_loss: 0.4251\n",
      "Epoch 63/1000\n",
      "20/20 [==============================] - 2s 109ms/step - loss: 0.7547 - val_loss: 0.4177\n",
      "Epoch 64/1000\n",
      "20/20 [==============================] - 2s 118ms/step - loss: 0.7813 - val_loss: 0.3928\n",
      "Epoch 65/1000\n",
      "20/20 [==============================] - 2s 111ms/step - loss: 0.8143 - val_loss: 0.4585\n",
      "Epoch 66/1000\n",
      "20/20 [==============================] - 2s 110ms/step - loss: 0.8002 - val_loss: 0.4492\n",
      "Epoch 67/1000\n",
      "20/20 [==============================] - 2s 116ms/step - loss: 0.7770 - val_loss: 0.4164\n",
      "Epoch 68/1000\n",
      "20/20 [==============================] - ETA: 0s - loss: 0.7751\n",
      "Epoch 00068: ReduceLROnPlateau reducing learning rate to 9.999999974752428e-08.\n",
      "20/20 [==============================] - 2s 114ms/step - loss: 0.7751 - val_loss: 0.4060\n",
      "Epoch 69/1000\n",
      "20/20 [==============================] - 2s 107ms/step - loss: 0.8152 - val_loss: 0.3965\n",
      "Epoch 70/1000\n",
      "20/20 [==============================] - 2s 105ms/step - loss: 0.8344 - val_loss: 0.3982\n",
      "Epoch 71/1000\n",
      "20/20 [==============================] - 2s 105ms/step - loss: 0.7921 - val_loss: 0.4040\n",
      "Epoch 72/1000\n",
      "20/20 [==============================] - 2s 105ms/step - loss: 0.7932 - val_loss: 0.4043\n",
      "Epoch 73/1000\n",
      "20/20 [==============================] - 2s 102ms/step - loss: 0.7996 - val_loss: 0.3995\n",
      "Epoch 74/1000\n",
      "20/20 [==============================] - 2s 120ms/step - loss: 0.7228 - val_loss: 0.3924\n",
      "Epoch 75/1000\n",
      "20/20 [==============================] - 2s 121ms/step - loss: 0.7908 - val_loss: 0.3788\n",
      "Epoch 76/1000\n",
      "20/20 [==============================] - 2s 121ms/step - loss: 0.8130 - val_loss: 0.3750\n",
      "Epoch 77/1000\n",
      "20/20 [==============================] - 2s 114ms/step - loss: 0.7542 - val_loss: 0.3823\n",
      "Epoch 78/1000\n",
      "20/20 [==============================] - 2s 117ms/step - loss: 0.7980 - val_loss: 0.3890\n",
      "Epoch 79/1000\n",
      "20/20 [==============================] - 2s 118ms/step - loss: 0.7564 - val_loss: 0.4091\n",
      "Epoch 80/1000\n",
      "20/20 [==============================] - 2s 119ms/step - loss: 0.7518 - val_loss: 0.4210\n",
      "Epoch 81/1000\n",
      "20/20 [==============================] - 3s 127ms/step - loss: 0.7890 - val_loss: 0.4219\n",
      "Epoch 82/1000\n",
      "20/20 [==============================] - 2s 116ms/step - loss: 0.7692 - val_loss: 0.4342\n",
      "Epoch 83/1000\n",
      "20/20 [==============================] - 2s 116ms/step - loss: 0.8249 - val_loss: 0.4392\n",
      "Epoch 84/1000\n",
      "20/20 [==============================] - 2s 108ms/step - loss: 0.7893 - val_loss: 0.4309\n",
      "Epoch 85/1000\n",
      "20/20 [==============================] - 2s 105ms/step - loss: 0.7622 - val_loss: 0.4287\n",
      "Epoch 86/1000\n",
      "20/20 [==============================] - 2s 106ms/step - loss: 0.7700 - val_loss: 0.4268\n",
      "Epoch 87/1000\n",
      "20/20 [==============================] - 2s 110ms/step - loss: 0.7622 - val_loss: 0.4267\n",
      "Epoch 88/1000\n",
      "20/20 [==============================] - 2s 107ms/step - loss: 0.7505 - val_loss: 0.4268\n",
      "Epoch 89/1000\n",
      "20/20 [==============================] - 2s 107ms/step - loss: 0.7670 - val_loss: 0.4293\n",
      "Epoch 90/1000\n",
      "20/20 [==============================] - 2s 106ms/step - loss: 0.7540 - val_loss: 0.4274\n",
      "Epoch 91/1000\n",
      "20/20 [==============================] - 2s 102ms/step - loss: 0.7231 - val_loss: 0.4308\n",
      "Epoch 92/1000\n",
      "20/20 [==============================] - 2s 100ms/step - loss: 0.7408 - val_loss: 0.4433\n",
      "Epoch 93/1000\n",
      "20/20 [==============================] - ETA: 0s - loss: 0.7301\n",
      "Epoch 00093: ReduceLROnPlateau reducing learning rate to 1.0000000116860975e-08.\n",
      "20/20 [==============================] - 2s 100ms/step - loss: 0.7301 - val_loss: 0.4416\n",
      "Epoch 94/1000\n",
      "20/20 [==============================] - 2s 108ms/step - loss: 0.7218 - val_loss: 0.4411\n",
      "Epoch 95/1000\n",
      "20/20 [==============================] - 2s 108ms/step - loss: 0.7680 - val_loss: 0.4409\n",
      "Epoch 96/1000\n",
      "20/20 [==============================] - 2s 113ms/step - loss: 0.8219 - val_loss: 0.4413\n",
      "Epoch 97/1000\n",
      "20/20 [==============================] - 2s 116ms/step - loss: 0.8349 - val_loss: 0.4413\n",
      "Epoch 98/1000\n",
      "20/20 [==============================] - 2s 109ms/step - loss: 0.7617 - val_loss: 0.4414\n",
      "Epoch 99/1000\n",
      "20/20 [==============================] - 2s 111ms/step - loss: 0.8247 - val_loss: 0.4418\n",
      "Epoch 100/1000\n",
      "20/20 [==============================] - 2s 103ms/step - loss: 0.7217 - val_loss: 0.4419\n",
      "Epoch 101/1000\n",
      "20/20 [==============================] - 2s 103ms/step - loss: 0.7039 - val_loss: 0.4412\n",
      "Epoch 102/1000\n",
      "20/20 [==============================] - 2s 106ms/step - loss: 0.8506 - val_loss: 0.4410\n",
      "Epoch 103/1000\n",
      "20/20 [==============================] - 2s 104ms/step - loss: 0.7348 - val_loss: 0.4412\n",
      "Epoch 104/1000\n",
      "20/20 [==============================] - 2s 104ms/step - loss: 0.7341 - val_loss: 0.4417\n",
      "Epoch 105/1000\n",
      "20/20 [==============================] - 2s 107ms/step - loss: 0.7224 - val_loss: 0.4418\n",
      "Epoch 106/1000\n",
      "20/20 [==============================] - 2s 110ms/step - loss: 0.7675 - val_loss: 0.4418\n",
      "Epoch 107/1000\n",
      "20/20 [==============================] - 2s 112ms/step - loss: 0.7340 - val_loss: 0.4414\n",
      "Epoch 108/1000\n",
      "20/20 [==============================] - 2s 117ms/step - loss: 0.7454 - val_loss: 0.4407\n",
      "Epoch 109/1000\n",
      "20/20 [==============================] - 2s 124ms/step - loss: 0.8040 - val_loss: 0.4409\n",
      "Epoch 110/1000\n",
      "20/20 [==============================] - 2s 117ms/step - loss: 0.7842 - val_loss: 0.4404\n",
      "Epoch 111/1000\n",
      "20/20 [==============================] - 2s 123ms/step - loss: 0.7240 - val_loss: 0.4408\n",
      "Epoch 112/1000\n",
      "20/20 [==============================] - 2s 112ms/step - loss: 0.7702 - val_loss: 0.4403\n",
      "Epoch 113/1000\n",
      "20/20 [==============================] - 2s 112ms/step - loss: 0.7713 - val_loss: 0.4400\n",
      "Epoch 114/1000\n",
      "20/20 [==============================] - 2s 99ms/step - loss: 0.8668 - val_loss: 0.4390\n",
      "Epoch 115/1000\n",
      "20/20 [==============================] - 2s 100ms/step - loss: 0.7688 - val_loss: 0.4392\n",
      "Epoch 116/1000\n",
      "20/20 [==============================] - 2s 104ms/step - loss: 0.7329 - val_loss: 0.4390\n",
      "Epoch 117/1000\n",
      "20/20 [==============================] - 2s 104ms/step - loss: 0.7155 - val_loss: 0.4386\n",
      "Epoch 118/1000\n",
      "20/20 [==============================] - ETA: 0s - loss: 0.8023\n",
      "Epoch 00118: ReduceLROnPlateau reducing learning rate to 9.999999939225292e-10.\n",
      "Restoring model weights from the end of the best epoch.\n",
      "20/20 [==============================] - 2s 99ms/step - loss: 0.8023 - val_loss: 0.4380\n",
      "Epoch 00118: early stopping\n"
     ]
    }
   ],
   "source": [
    "# History object for plotting our model loss by epoch\n",
    "history3 = model3.fit(x_train1, y_train1, batch_size = BATCH3, \n",
    "                    epochs = EPOCHS, validation_data = (x_val1, y_val1),\n",
    "                    callbacks = [rlrop3, early_stop3])"
   ]
  },
  {
   "cell_type": "code",
   "execution_count": 47,
   "metadata": {},
   "outputs": [
    {
     "data": {
      "image/png": "[encoded data removed]",
      "text/plain": [
       "<Figure size 720x504 with 1 Axes>"
      ]
     },
     "metadata": {
      "needs_background": "light"
     },
     "output_type": "display_data"
    }
   ],
   "source": [
    "# Loss History\n",
    "fig = plt.figure(figsize=(10, 7))\n",
    "plt.plot(history3.history['loss'])\n",
    "plt.plot(history3.history['val_loss'])\n",
    "plt.title('Model Loss')\n",
    "plt.ylabel('Loss')\n",
    "plt.xlabel('Epoch')\n",
    "plt.legend(['Train', 'Val'], loc='upper right')\n",
    "plt.show()"
   ]
  },
  {
   "cell_type": "markdown",
   "metadata": {},
   "source": [
    "### Previsão Multistep 12 meses em Validação\n",
    "Para ficar adequado à realidade, não podemos usar os dados de 2022 para prever 2022. Portanto, a previsão de 2022 será feita do moto *multistep*, isto é, o mês de janeiro/2022 será previsto usando-se os dados de arrecadação de janeiro a dezembro de 2021; o mês de fevereiro/2022 será previsto usando-se os dados de fevereiro a dezembro de 2021 mais a previsão feita para o mês de janeiro/2022; o mês de março/2022 será previsto usando-se os dados de março a dezembro de 2021 mais os meses de janeiro e fevereiro de 2022 previstos nos passos anteriores. E assim por diante, até que a previsão de dezembro/2022 será feita usando-se os dados de dezembro de 2021 mais as previsões de janeiro a novembro de 2022 feitas nos passos anteriores."
   ]
  },
  {
   "cell_type": "markdown",
   "metadata": {},
   "source": [
    "#### Remove os 12 últimos valores que serão previstos e cria as séries novamente"
   ]
  },
  {
   "cell_type": "code",
   "execution_count": 48,
   "metadata": {},
   "outputs": [
    {
     "name": "stdout",
     "output_type": "stream",
     "text": [
      "(192,)\n",
      "(180,)\n"
     ]
    }
   ],
   "source": [
    "# remove\n",
    "serie_multi12 = l_icms_ts[:-24]\n",
    "print(l_icms_ts.shape)\n",
    "print(serie_multi1.shape)"
   ]
  },
  {
   "cell_type": "code",
   "execution_count": 49,
   "metadata": {},
   "outputs": [
    {
     "name": "stdout",
     "output_type": "stream",
     "text": [
      "0 [[1.0511614e+10]]\n",
      "1 [[1.0535017e+10]]\n",
      "2 [[1.0567923e+10]]\n",
      "3 [[1.0578127e+10]]\n",
      "4 [[1.0576876e+10]]\n",
      "5 [[1.0582949e+10]]\n",
      "6 [[1.0577379e+10]]\n",
      "7 [[1.0585977e+10]]\n",
      "8 [[1.0579619e+10]]\n",
      "9 [[1.0584443e+10]]\n",
      "10 [[1.0584686e+10]]\n",
      "11 [[1.0587492e+10]]\n"
     ]
    }
   ],
   "source": [
    "for i in range(12):\n",
    "    # cria as séries\n",
    "    X_multi12, Y_multi12 = cria_features_target(serie_multi12, verbose=0)\n",
    "\n",
    "    # Faz a normalização usando o modelo fitado na normalização anterior\n",
    "    X_multi_std12 = enc_x.transform(X_multi12)\n",
    "    X_multi_std12 = X_multi_std12.reshape(X_multi_std12.shape[0],10,1)\n",
    "\n",
    "    # Faz o janelamento das séries\n",
    "    x_multi12, y_multi12 = janelamento_1_mes(X_multi_std12, Y_multi12, verbose=0)\n",
    "\n",
    "    # Faz a predição da arrecadação do mês\n",
    "    #y_pred_multi = np.mean(model.predict(x_multi[-1:]), axis=1)#[:,0].ravel()\n",
    "    y_pred_multi12 = model3.predict(x_multi12[-1:])#[:,0].ravel()\n",
    "    print(i, np.exp(y_pred_multi12))\n",
    "\n",
    "    #### Adicionar o valor previsto à série e fazer o novo janelamento\n",
    "    serie_multi12 = pd.Series(np.append(serie_multi12, y_pred_multi12))"
   ]
  },
  {
   "cell_type": "code",
   "execution_count": 50,
   "metadata": {},
   "outputs": [],
   "source": [
    "Y_pred_multi12 = np.exp(pd.Series(serie_multi12[-12:]))\n",
    "Y_pred_multi12.index = icms_val.index"
   ]
  },
  {
   "cell_type": "code",
   "execution_count": 51,
   "metadata": {},
   "outputs": [
    {
     "data": {
      "text/plain": [
       "date\n",
       "2017-01-01    1.051161e+10\n",
       "2017-02-01    1.053502e+10\n",
       "2017-03-01    1.056792e+10\n",
       "2017-04-01    1.057813e+10\n",
       "2017-05-01    1.057688e+10\n",
       "2017-06-01    1.058295e+10\n",
       "2017-07-01    1.057738e+10\n",
       "2017-08-01    1.058598e+10\n",
       "2017-09-01    1.057962e+10\n",
       "2017-10-01    1.058444e+10\n",
       "2017-11-01    1.058469e+10\n",
       "2017-12-01    1.058749e+10\n",
       "dtype: float64"
      ]
     },
     "execution_count": 51,
     "metadata": {},
     "output_type": "execute_result"
    }
   ],
   "source": [
    "Y_pred_multi12"
   ]
  },
  {
   "cell_type": "code",
   "execution_count": 52,
   "metadata": {},
   "outputs": [
    {
     "data": {
      "text/plain": [
       "472844131.96225625"
      ]
     },
     "execution_count": 52,
     "metadata": {},
     "output_type": "execute_result"
    }
   ],
   "source": [
    "RMSE_lstm_multi12 = mean_squared_error(icms_val, Y_pred_multi12, squared=False)\n",
    "RMSE_lstm_multi12"
   ]
  },
  {
   "cell_type": "code",
   "execution_count": 53,
   "metadata": {},
   "outputs": [
    {
     "data": {
      "text/plain": [
       "0.03658279665687554"
      ]
     },
     "execution_count": 53,
     "metadata": {},
     "output_type": "execute_result"
    }
   ],
   "source": [
    "MAPE_lstm_multi12 = mean_absolute_percentage_error(icms_val, Y_pred_multi12)\n",
    "MAPE_lstm_multi12"
   ]
  },
  {
   "cell_type": "code",
   "execution_count": 54,
   "metadata": {},
   "outputs": [],
   "source": [
    "previsoes['nome'].append('RNN-LSTM-1-mês-camadas')\n",
    "previsoes['modelo'].append(model3)\n",
    "previsoes['previsoes'].append(Y_pred_multi12)\n",
    "\n",
    "previsoes['rmse'].append(RMSE_lstm_multi12)\n",
    "\n",
    "previsoes['mape'].append(MAPE_lstm_multi12)\n",
    "\n",
    "previsoes['erro relativo'].append([erro_relativo(prev,real) \n",
    "                                   for prev,real in zip(Y_pred_multi12\n",
    "                                                        , icms_val)])"
   ]
  },
  {
   "cell_type": "markdown",
   "metadata": {},
   "source": [
    "# Modelo 12 meses"
   ]
  },
  {
   "cell_type": "markdown",
   "metadata": {},
   "source": [
    "#### Criando as janelas de 12 meses e reshape para LSTM. A arrecadação de cada mês será prevista pela arrecadação dos 12 meses anteriores."
   ]
  },
  {
   "cell_type": "markdown",
   "metadata": {},
   "source": [
    "##### Unindo novamente os dados."
   ]
  },
  {
   "cell_type": "code",
   "execution_count": 55,
   "metadata": {},
   "outputs": [],
   "source": [
    "def janelamento_12_meses(X, Y, verbose=0):\n",
    "    X_exp = np.concatenate((np.roll(X, 12, axis=0),\n",
    "                            np.roll(X, 11, axis=0),\n",
    "                            np.roll(X, 10, axis=0),\n",
    "                            np.roll(X, 9, axis=0),\n",
    "                            np.roll(X, 8, axis=0),\n",
    "                            np.roll(X, 7, axis=0),\n",
    "                            np.roll(X, 6, axis=0),\n",
    "                            np.roll(X, 5, axis=0),\n",
    "                            np.roll(X, 4, axis=0),\n",
    "                            np.roll(X, 3, axis=0),\n",
    "                            np.roll(X, 2, axis=0),\n",
    "                            np.roll(X, 1, axis=0),\n",
    "                            ), axis=2)\n",
    "    X_exp_cut = X_exp[12:,:,:].transpose(0,2,1)\n",
    "    Y_cut = Y[12:]\n",
    "    if verbose==1:\n",
    "        print('shape das features janeladas:', X_exp.shape)\n",
    "        print('shape das features janeladas pós poda e transposição:', X_exp_cut.shape)\n",
    "        print('shape do array target pós poda:', Y_cut.shape)\n",
    "    return X_exp_cut, Y_cut"
   ]
  },
  {
   "cell_type": "code",
   "execution_count": 56,
   "metadata": {},
   "outputs": [],
   "source": [
    "X_data_exp_cut12, Y_data_cut12 = janelamento_12_meses(X_data_jn, Y_data, verbose=0)"
   ]
  },
  {
   "cell_type": "code",
   "execution_count": 57,
   "metadata": {},
   "outputs": [],
   "source": [
    "#Y_data_cut[0]"
   ]
  },
  {
   "cell_type": "code",
   "execution_count": 58,
   "metadata": {},
   "outputs": [],
   "source": [
    "#X_data_exp_cut[0]"
   ]
  },
  {
   "cell_type": "code",
   "execution_count": 59,
   "metadata": {},
   "outputs": [],
   "source": [
    "#Y_data_cut[Y_data_cut.shape[0]-1]"
   ]
  },
  {
   "cell_type": "code",
   "execution_count": 60,
   "metadata": {},
   "outputs": [],
   "source": [
    "#X_data_exp_cut[Y_data_cut.shape[0]-1]"
   ]
  },
  {
   "cell_type": "markdown",
   "metadata": {},
   "source": [
    "#### Separando novamente em treino, validação e teste"
   ]
  },
  {
   "cell_type": "code",
   "execution_count": 61,
   "metadata": {},
   "outputs": [
    {
     "name": "stdout",
     "output_type": "stream",
     "text": [
      "(144, 12, 10) (12, 12, 10) (12, 12, 10)\n",
      "(144,) (12,) (12,)\n"
     ]
    }
   ],
   "source": [
    "x_train12 = X_data_exp_cut12[:-24]\n",
    "x_val12 = X_data_exp_cut12[-24:-12]\n",
    "x_test12 = X_data_exp_cut12[-12:]\n",
    "print(x_train12.shape, x_val12.shape, x_test12.shape)\n",
    "y_train12 = Y_data_cut12[:-24]\n",
    "y_val12 = Y_data_cut12[-24:-12]\n",
    "y_test12 = np.exp(Y_data_cut12[-12:]) # tirar o log para ficar o valor real\n",
    "print(y_train12.shape, y_val12.shape, y_test12.shape)"
   ]
  },
  {
   "cell_type": "markdown",
   "metadata": {},
   "source": [
    "### Criando o modelo LSTM"
   ]
  },
  {
   "cell_type": "markdown",
   "metadata": {},
   "source": [
    "## Arquitetura da Rede - Arquitetura Larga"
   ]
  },
  {
   "cell_type": "code",
   "execution_count": 62,
   "metadata": {},
   "outputs": [],
   "source": [
    "rlrop2 = ReduceLROnPlateau(monitor='val_loss', factor=0.1, patience=10, verbose=1)\n",
    "early_stop2 = EarlyStopping(monitor='val_loss', patience=100, verbose=1, \n",
    "                           restore_best_weights=True)"
   ]
  },
  {
   "cell_type": "code",
   "execution_count": 63,
   "metadata": {},
   "outputs": [],
   "source": [
    "# Épocas e tamanho do lote\n",
    "EPOCHS2 = 1000\n",
    "BATCH2 = 8\n",
    "NEURONIOS2 = 1000\n",
    "LR2 = 1e-5\n",
    "DROPOUT2 = 0.25\n",
    "\n",
    "# Imstanciação do modelo\n",
    "model2 = Sequential()\n",
    "\n",
    "# Adicionar camada LSTM \n",
    "model2.add(LSTM(activation='tanh', dropout=DROPOUT2,\n",
    "        input_shape = (12, 10), return_sequences = False,\n",
    "        units = NEURONIOS2))\n",
    "\n",
    "# Adicionar a camada de saída com 1 neurônio linear\n",
    "model2.add(Dense(\n",
    "        units = 1,\n",
    "        activation = 'linear'))\n",
    "# a learning rate padrão do Adam é 0.001\n",
    "model2.compile(loss = 'mape', optimizer = Adam(learning_rate=LR2))"
   ]
  },
  {
   "cell_type": "code",
   "execution_count": 64,
   "metadata": {},
   "outputs": [
    {
     "name": "stdout",
     "output_type": "stream",
     "text": [
      "Model: \"sequential_2\"\n",
      "_________________________________________________________________\n",
      "Layer (type)                 Output Shape              Param #   \n",
      "=================================================================\n",
      "lstm_4 (LSTM)                (None, 1000)              4044000   \n",
      "_________________________________________________________________\n",
      "dense_2 (Dense)              (None, 1)                 1001      \n",
      "=================================================================\n",
      "Total params: 4,045,001\n",
      "Trainable params: 4,045,001\n",
      "Non-trainable params: 0\n",
      "_________________________________________________________________\n"
     ]
    }
   ],
   "source": [
    "model2.summary()"
   ]
  },
  {
   "cell_type": "code",
   "execution_count": 65,
   "metadata": {
    "scrolled": true
   },
   "outputs": [
    {
     "name": "stdout",
     "output_type": "stream",
     "text": [
      "Epoch 1/1000\n",
      "18/18 [==============================] - 2s 101ms/step - loss: 99.4236 - val_loss: 98.2648\n",
      "Epoch 2/1000\n",
      "18/18 [==============================] - 2s 86ms/step - loss: 98.3498 - val_loss: 96.4189\n",
      "Epoch 3/1000\n",
      "18/18 [==============================] - 2s 98ms/step - loss: 97.0331 - val_loss: 94.1059\n",
      "Epoch 4/1000\n",
      "18/18 [==============================] - 2s 96ms/step - loss: 95.3817 - val_loss: 90.6421\n",
      "Epoch 5/1000\n",
      "18/18 [==============================] - 2s 100ms/step - loss: 92.5228 - val_loss: 84.6709\n",
      "Epoch 6/1000\n",
      "18/18 [==============================] - 2s 106ms/step - loss: 87.1853 - val_loss: 71.7094\n",
      "Epoch 7/1000\n",
      "18/18 [==============================] - 2s 103ms/step - loss: 75.5117 - val_loss: 43.0184\n",
      "Epoch 8/1000\n",
      "18/18 [==============================] - 2s 103ms/step - loss: 51.4034 - val_loss: 9.0577\n",
      "Epoch 9/1000\n",
      "18/18 [==============================] - 2s 97ms/step - loss: 25.5739 - val_loss: 7.2881\n",
      "Epoch 10/1000\n",
      "18/18 [==============================] - 2s 94ms/step - loss: 16.9840 - val_loss: 2.9775\n",
      "Epoch 11/1000\n",
      "18/18 [==============================] - 2s 91ms/step - loss: 11.1978 - val_loss: 0.5730\n",
      "Epoch 12/1000\n",
      "18/18 [==============================] - 2s 97ms/step - loss: 7.8360 - val_loss: 0.3820\n",
      "Epoch 13/1000\n",
      "18/18 [==============================] - 2s 86ms/step - loss: 5.3608 - val_loss: 0.1777\n",
      "Epoch 14/1000\n",
      "18/18 [==============================] - 2s 86ms/step - loss: 4.0601 - val_loss: 0.3275\n",
      "Epoch 15/1000\n",
      "18/18 [==============================] - 2s 96ms/step - loss: 3.1616 - val_loss: 0.6020\n",
      "Epoch 16/1000\n",
      "18/18 [==============================] - 2s 98ms/step - loss: 2.4549 - val_loss: 0.5910\n",
      "Epoch 17/1000\n",
      "18/18 [==============================] - 2s 90ms/step - loss: 2.0579 - val_loss: 0.4385\n",
      "Epoch 18/1000\n",
      "18/18 [==============================] - 2s 95ms/step - loss: 1.8988 - val_loss: 1.0181\n",
      "Epoch 19/1000\n",
      "18/18 [==============================] - 2s 96ms/step - loss: 1.6020 - val_loss: 0.4762\n",
      "Epoch 20/1000\n",
      "18/18 [==============================] - 2s 92ms/step - loss: 1.5263 - val_loss: 0.8446\n",
      "Epoch 21/1000\n",
      "18/18 [==============================] - 2s 90ms/step - loss: 1.5053 - val_loss: 0.7280\n",
      "Epoch 22/1000\n",
      "18/18 [==============================] - 2s 91ms/step - loss: 1.3711 - val_loss: 0.6721\n",
      "Epoch 23/1000\n",
      "18/18 [==============================] - ETA: 0s - loss: 1.2609\n",
      "Epoch 00023: ReduceLROnPlateau reducing learning rate to 9.999999747378752e-07.\n",
      "18/18 [==============================] - 2s 84ms/step - loss: 1.2609 - val_loss: 0.8466\n",
      "Epoch 24/1000\n",
      "18/18 [==============================] - 2s 85ms/step - loss: 1.2520 - val_loss: 0.8582\n",
      "Epoch 25/1000\n",
      "18/18 [==============================] - 2s 89ms/step - loss: 1.2383 - val_loss: 0.7924\n",
      "Epoch 26/1000\n",
      "18/18 [==============================] - 2s 99ms/step - loss: 1.2246 - val_loss: 0.8127\n",
      "Epoch 27/1000\n",
      "18/18 [==============================] - 2s 98ms/step - loss: 1.1982 - val_loss: 0.7766\n",
      "Epoch 28/1000\n",
      "18/18 [==============================] - 2s 99ms/step - loss: 1.1450 - val_loss: 0.8485\n",
      "Epoch 29/1000\n",
      "18/18 [==============================] - 2s 95ms/step - loss: 1.1794 - val_loss: 0.8207\n",
      "Epoch 30/1000\n",
      "18/18 [==============================] - 2s 99ms/step - loss: 1.2268 - val_loss: 0.9089\n",
      "Epoch 31/1000\n",
      "18/18 [==============================] - 2s 97ms/step - loss: 1.2811 - val_loss: 0.8253\n",
      "Epoch 32/1000\n",
      "18/18 [==============================] - 2s 101ms/step - loss: 1.1969 - val_loss: 0.7708\n",
      "Epoch 33/1000\n",
      "18/18 [==============================] - ETA: 0s - loss: 1.1241\n",
      "Epoch 00033: ReduceLROnPlateau reducing learning rate to 9.999999974752428e-08.\n",
      "18/18 [==============================] - 2s 98ms/step - loss: 1.1241 - val_loss: 0.7506\n",
      "Epoch 34/1000\n",
      "18/18 [==============================] - 2s 92ms/step - loss: 1.1492 - val_loss: 0.7582\n",
      "Epoch 35/1000\n",
      "18/18 [==============================] - 2s 99ms/step - loss: 1.2924 - val_loss: 0.7681\n",
      "Epoch 36/1000\n",
      "18/18 [==============================] - 2s 98ms/step - loss: 1.1847 - val_loss: 0.7734\n",
      "Epoch 37/1000\n",
      "18/18 [==============================] - 2s 98ms/step - loss: 1.1682 - val_loss: 0.7797\n",
      "Epoch 38/1000\n",
      "18/18 [==============================] - 2s 92ms/step - loss: 1.1456 - val_loss: 0.7877\n",
      "Epoch 39/1000\n",
      "18/18 [==============================] - 2s 94ms/step - loss: 1.1907 - val_loss: 0.7959\n",
      "Epoch 40/1000\n",
      "18/18 [==============================] - 2s 91ms/step - loss: 1.1928 - val_loss: 0.7926\n",
      "Epoch 41/1000\n",
      "18/18 [==============================] - 2s 85ms/step - loss: 1.2326 - val_loss: 0.7931\n",
      "Epoch 42/1000\n",
      "18/18 [==============================] - 2s 84ms/step - loss: 1.2872 - val_loss: 0.7947\n",
      "Epoch 43/1000\n",
      "18/18 [==============================] - ETA: 0s - loss: 1.1331\n",
      "Epoch 00043: ReduceLROnPlateau reducing learning rate to 1.0000000116860975e-08.\n",
      "18/18 [==============================] - 2s 87ms/step - loss: 1.1331 - val_loss: 0.7949\n",
      "Epoch 44/1000\n",
      "18/18 [==============================] - 2s 85ms/step - loss: 1.1945 - val_loss: 0.7953\n",
      "Epoch 45/1000\n",
      "18/18 [==============================] - 2s 87ms/step - loss: 1.1222 - val_loss: 0.7956\n",
      "Epoch 46/1000\n",
      "18/18 [==============================] - 2s 85ms/step - loss: 1.2209 - val_loss: 0.7952\n",
      "Epoch 47/1000\n",
      "18/18 [==============================] - 2s 87ms/step - loss: 1.1626 - val_loss: 0.7949\n",
      "Epoch 48/1000\n",
      "18/18 [==============================] - 2s 85ms/step - loss: 1.1775 - val_loss: 0.7948\n",
      "Epoch 49/1000\n",
      "18/18 [==============================] - 1s 83ms/step - loss: 1.1771 - val_loss: 0.7955\n",
      "Epoch 50/1000\n",
      "18/18 [==============================] - 2s 89ms/step - loss: 1.2188 - val_loss: 0.7960\n",
      "Epoch 51/1000\n",
      "18/18 [==============================] - 2s 91ms/step - loss: 1.2148 - val_loss: 0.7959\n",
      "Epoch 52/1000\n",
      "18/18 [==============================] - 2s 86ms/step - loss: 1.2232 - val_loss: 0.7959\n",
      "Epoch 53/1000\n",
      "18/18 [==============================] - ETA: 0s - loss: 1.2252\n",
      "Epoch 00053: ReduceLROnPlateau reducing learning rate to 9.999999939225292e-10.\n",
      "18/18 [==============================] - 2s 89ms/step - loss: 1.2252 - val_loss: 0.7964\n",
      "Epoch 54/1000\n",
      "18/18 [==============================] - 2s 91ms/step - loss: 1.1730 - val_loss: 0.7964\n",
      "Epoch 55/1000\n",
      "18/18 [==============================] - 2s 90ms/step - loss: 1.2185 - val_loss: 0.7964\n",
      "Epoch 56/1000\n",
      "18/18 [==============================] - 2s 90ms/step - loss: 1.2522 - val_loss: 0.7964\n",
      "Epoch 57/1000\n",
      "18/18 [==============================] - 2s 97ms/step - loss: 1.2041 - val_loss: 0.7964\n",
      "Epoch 58/1000\n",
      "18/18 [==============================] - 2s 97ms/step - loss: 1.1779 - val_loss: 0.7964\n",
      "Epoch 59/1000\n",
      "18/18 [==============================] - 2s 94ms/step - loss: 1.1676 - val_loss: 0.7964\n",
      "Epoch 60/1000\n",
      "18/18 [==============================] - 2s 93ms/step - loss: 1.1814 - val_loss: 0.7965\n",
      "Epoch 61/1000\n",
      "18/18 [==============================] - 2s 95ms/step - loss: 1.2245 - val_loss: 0.7965\n",
      "Epoch 62/1000\n",
      "18/18 [==============================] - 2s 92ms/step - loss: 1.1969 - val_loss: 0.7964\n",
      "Epoch 63/1000\n",
      "18/18 [==============================] - ETA: 0s - loss: 1.1525\n",
      "Epoch 00063: ReduceLROnPlateau reducing learning rate to 9.999999717180686e-11.\n",
      "18/18 [==============================] - 2s 91ms/step - loss: 1.1525 - val_loss: 0.7965\n",
      "Epoch 64/1000\n",
      "18/18 [==============================] - 2s 93ms/step - loss: 1.2334 - val_loss: 0.7965\n",
      "Epoch 65/1000\n",
      "18/18 [==============================] - 1s 83ms/step - loss: 1.1715 - val_loss: 0.7965\n",
      "Epoch 66/1000\n",
      "18/18 [==============================] - 2s 85ms/step - loss: 1.2524 - val_loss: 0.7965\n",
      "Epoch 67/1000\n",
      "18/18 [==============================] - 2s 88ms/step - loss: 1.1645 - val_loss: 0.7965\n",
      "Epoch 68/1000\n",
      "18/18 [==============================] - 2s 87ms/step - loss: 1.1191 - val_loss: 0.7965\n",
      "Epoch 69/1000\n",
      "18/18 [==============================] - 1s 83ms/step - loss: 1.1263 - val_loss: 0.7965\n",
      "Epoch 70/1000\n",
      "18/18 [==============================] - 2s 85ms/step - loss: 1.2192 - val_loss: 0.7965\n",
      "Epoch 71/1000\n",
      "18/18 [==============================] - 2s 85ms/step - loss: 1.1163 - val_loss: 0.7965\n",
      "Epoch 72/1000\n",
      "18/18 [==============================] - 2s 85ms/step - loss: 1.2383 - val_loss: 0.7965\n",
      "Epoch 73/1000\n",
      "18/18 [==============================] - ETA: 0s - loss: 1.1730\n",
      "Epoch 00073: ReduceLROnPlateau reducing learning rate to 9.99999943962493e-12.\n",
      "18/18 [==============================] - 1s 82ms/step - loss: 1.1730 - val_loss: 0.7965\n"
     ]
    },
    {
     "name": "stdout",
     "output_type": "stream",
     "text": [
      "Epoch 74/1000\n",
      "18/18 [==============================] - 2s 87ms/step - loss: 1.1786 - val_loss: 0.7965\n",
      "Epoch 75/1000\n",
      "18/18 [==============================] - 2s 91ms/step - loss: 1.1630 - val_loss: 0.7965\n",
      "Epoch 76/1000\n",
      "18/18 [==============================] - 2s 90ms/step - loss: 1.1813 - val_loss: 0.7965\n",
      "Epoch 77/1000\n",
      "18/18 [==============================] - 2s 86ms/step - loss: 1.1794 - val_loss: 0.7965\n",
      "Epoch 78/1000\n",
      "18/18 [==============================] - 2s 88ms/step - loss: 1.1713 - val_loss: 0.7965\n",
      "Epoch 79/1000\n",
      "18/18 [==============================] - 2s 85ms/step - loss: 1.1924 - val_loss: 0.7965\n",
      "Epoch 80/1000\n",
      "18/18 [==============================] - 2s 88ms/step - loss: 1.2152 - val_loss: 0.7965\n",
      "Epoch 81/1000\n",
      "18/18 [==============================] - 2s 91ms/step - loss: 1.1838 - val_loss: 0.7965\n",
      "Epoch 82/1000\n",
      "18/18 [==============================] - 2s 92ms/step - loss: 1.2467 - val_loss: 0.7965\n",
      "Epoch 83/1000\n",
      "18/18 [==============================] - ETA: 0s - loss: 1.1596\n",
      "Epoch 00083: ReduceLROnPlateau reducing learning rate to 9.999999092680235e-13.\n",
      "18/18 [==============================] - 2s 92ms/step - loss: 1.1596 - val_loss: 0.7965\n",
      "Epoch 84/1000\n",
      "18/18 [==============================] - 2s 96ms/step - loss: 1.2052 - val_loss: 0.7965\n",
      "Epoch 85/1000\n",
      "18/18 [==============================] - 2s 94ms/step - loss: 1.1870 - val_loss: 0.7965\n",
      "Epoch 86/1000\n",
      "18/18 [==============================] - 2s 93ms/step - loss: 1.1497 - val_loss: 0.7965\n",
      "Epoch 87/1000\n",
      "18/18 [==============================] - 2s 94ms/step - loss: 1.2190 - val_loss: 0.7965\n",
      "Epoch 88/1000\n",
      "18/18 [==============================] - 2s 89ms/step - loss: 1.1760 - val_loss: 0.7965\n",
      "Epoch 89/1000\n",
      "18/18 [==============================] - 1s 83ms/step - loss: 1.1560 - val_loss: 0.7965\n",
      "Epoch 90/1000\n",
      "18/18 [==============================] - 2s 86ms/step - loss: 1.1985 - val_loss: 0.7965\n",
      "Epoch 91/1000\n",
      "18/18 [==============================] - 2s 84ms/step - loss: 1.1658 - val_loss: 0.7965\n",
      "Epoch 92/1000\n",
      "18/18 [==============================] - 2s 85ms/step - loss: 1.1855 - val_loss: 0.7965\n",
      "Epoch 93/1000\n",
      "18/18 [==============================] - ETA: 0s - loss: 1.1897\n",
      "Epoch 00093: ReduceLROnPlateau reducing learning rate to 9.9999988758398e-14.\n",
      "18/18 [==============================] - 2s 86ms/step - loss: 1.1897 - val_loss: 0.7965\n",
      "Epoch 94/1000\n",
      "18/18 [==============================] - 2s 86ms/step - loss: 1.2001 - val_loss: 0.7965\n",
      "Epoch 95/1000\n",
      "18/18 [==============================] - 2s 86ms/step - loss: 1.2173 - val_loss: 0.7965\n",
      "Epoch 96/1000\n",
      "18/18 [==============================] - 2s 88ms/step - loss: 1.1424 - val_loss: 0.7965\n",
      "Epoch 97/1000\n",
      "18/18 [==============================] - 2s 86ms/step - loss: 1.1801 - val_loss: 0.7965\n",
      "Epoch 98/1000\n",
      "18/18 [==============================] - 1s 83ms/step - loss: 1.1834 - val_loss: 0.7965\n",
      "Epoch 99/1000\n",
      "18/18 [==============================] - 2s 87ms/step - loss: 1.1902 - val_loss: 0.7965\n",
      "Epoch 100/1000\n",
      "18/18 [==============================] - 2s 85ms/step - loss: 1.1942 - val_loss: 0.7965\n",
      "Epoch 101/1000\n",
      "18/18 [==============================] - 2s 85ms/step - loss: 1.2186 - val_loss: 0.7965\n",
      "Epoch 102/1000\n",
      "18/18 [==============================] - 2s 89ms/step - loss: 1.1745 - val_loss: 0.7965\n",
      "Epoch 103/1000\n",
      "18/18 [==============================] - ETA: 0s - loss: 1.1766\n",
      "Epoch 00103: ReduceLROnPlateau reducing learning rate to 9.999999146890344e-15.\n",
      "18/18 [==============================] - 2s 96ms/step - loss: 1.1766 - val_loss: 0.7965\n",
      "Epoch 104/1000\n",
      "18/18 [==============================] - 2s 93ms/step - loss: 1.1674 - val_loss: 0.7965\n",
      "Epoch 105/1000\n",
      "18/18 [==============================] - 2s 87ms/step - loss: 1.1511 - val_loss: 0.7965\n",
      "Epoch 106/1000\n",
      "18/18 [==============================] - 2s 89ms/step - loss: 1.2374 - val_loss: 0.7965\n",
      "Epoch 107/1000\n",
      "18/18 [==============================] - 2s 89ms/step - loss: 1.1840 - val_loss: 0.7965\n",
      "Epoch 108/1000\n",
      "18/18 [==============================] - 2s 90ms/step - loss: 1.1638 - val_loss: 0.7965\n",
      "Epoch 109/1000\n",
      "18/18 [==============================] - 2s 93ms/step - loss: 1.1652 - val_loss: 0.7965\n",
      "Epoch 110/1000\n",
      "18/18 [==============================] - 2s 96ms/step - loss: 1.1906 - val_loss: 0.7965\n",
      "Epoch 111/1000\n",
      "18/18 [==============================] - 2s 95ms/step - loss: 1.1825 - val_loss: 0.7965\n",
      "Epoch 112/1000\n",
      "18/18 [==============================] - 2s 95ms/step - loss: 1.2423 - val_loss: 0.7965\n",
      "Epoch 113/1000\n",
      "18/18 [==============================] - ETA: 0s - loss: 1.1924\n",
      "Epoch 00113: ReduceLROnPlateau reducing learning rate to 9.999998977483753e-16.\n",
      "Restoring model weights from the end of the best epoch.\n",
      "18/18 [==============================] - 2s 91ms/step - loss: 1.1924 - val_loss: 0.7965\n",
      "Epoch 00113: early stopping\n"
     ]
    }
   ],
   "source": [
    "# History object for plotting our model loss by epoch\n",
    "history2 = model2.fit(x_train12, y_train12, batch_size = BATCH2, \n",
    "                    epochs = EPOCHS2, validation_data = (x_val12, y_val12),\n",
    "                    callbacks = [rlrop2, early_stop2])"
   ]
  },
  {
   "cell_type": "code",
   "execution_count": 66,
   "metadata": {},
   "outputs": [
    {
     "data": {
      "image/png": "[encoded data removed]",
      "text/plain": [
       "<Figure size 720x504 with 1 Axes>"
      ]
     },
     "metadata": {
      "needs_background": "light"
     },
     "output_type": "display_data"
    }
   ],
   "source": [
    "# Loss History\n",
    "fig = plt.figure(figsize=(10, 7))\n",
    "plt.plot(history2.history['loss'])\n",
    "plt.plot(history2.history['val_loss'])\n",
    "plt.title('Model Loss')\n",
    "plt.ylabel('Loss')\n",
    "plt.xlabel('Epoch')\n",
    "plt.legend(['Train', 'Val'], loc='upper right')\n",
    "plt.show()"
   ]
  },
  {
   "cell_type": "markdown",
   "metadata": {},
   "source": [
    "### Previsão Multistep 12 meses em Validação\n",
    "Para ficar adequado à realidade, não podemos usar os dados de 2022 para prever 2022. Portanto, a previsão de 2022 será feita do moto *multistep*, isto é, o mês de janeiro/2022 será previsto usando-se os dados de arrecadação de janeiro a dezembro de 2021; o mês de fevereiro/2022 será previsto usando-se os dados de fevereiro a dezembro de 2021 mais a previsão feita para o mês de janeiro/2022; o mês de março/2022 será previsto usando-se os dados de março a dezembro de 2021 mais os meses de janeiro e fevereiro de 2022 previstos nos passos anteriores. E assim por diante, até que a previsão de dezembro/2022 será feita usando-se os dados de dezembro de 2021 mais as previsões de janeiro a novembro de 2022 feitas nos passos anteriores."
   ]
  },
  {
   "cell_type": "markdown",
   "metadata": {},
   "source": [
    "#### Remove os 12 últimos valores que serão previstos e cria as séries novamente"
   ]
  },
  {
   "cell_type": "code",
   "execution_count": 67,
   "metadata": {},
   "outputs": [
    {
     "name": "stdout",
     "output_type": "stream",
     "text": [
      "(192,)\n",
      "(168,)\n"
     ]
    },
    {
     "data": {
      "text/plain": [
       "pandas.core.series.Series"
      ]
     },
     "execution_count": 67,
     "metadata": {},
     "output_type": "execute_result"
    }
   ],
   "source": [
    "# remove\n",
    "serie_multi12 = l_icms_ts[:-24]\n",
    "print(l_icms_ts.shape)\n",
    "print(serie_multi12.shape)\n",
    "type(serie_multi12)"
   ]
  },
  {
   "cell_type": "code",
   "execution_count": 68,
   "metadata": {},
   "outputs": [
    {
     "name": "stdout",
     "output_type": "stream",
     "text": [
      "0 [[1.0487582e+10]]\n",
      "1 [[1.0484062e+10]]\n",
      "2 [[1.0455885e+10]]\n",
      "3 [[1.0449306e+10]]\n",
      "4 [[1.0437015e+10]]\n",
      "5 [[1.0419671e+10]]\n",
      "6 [[1.0417425e+10]]\n",
      "7 [[1.041099e+10]]\n",
      "8 [[1.0407932e+10]]\n",
      "9 [[1.042472e+10]]\n",
      "10 [[1.0433193e+10]]\n",
      "11 [[1.0446915e+10]]\n"
     ]
    }
   ],
   "source": [
    "for i in range(12):\n",
    "    # cria as séries\n",
    "    X_multi12, Y_multi12 = cria_features_target(serie_multi12, verbose=0)\n",
    "\n",
    "    # Faz a normalização usando o modelo fitado na normalização anterior\n",
    "    X_multi_std12 = enc_x.transform(X_multi12)\n",
    "    X_multi_std12 = X_multi_std12.reshape(X_multi_std12.shape[0],10,1)\n",
    "\n",
    "    # Faz o janelamento das séries\n",
    "    x_multi12, y_multi12 = janelamento_12_meses(X_multi_std12, Y_multi12, verbose=0)\n",
    "\n",
    "    # Faz a predição da arrecadação do mês\n",
    "    #y_pred_multi = np.mean(model.predict(x_multi[-1:]), axis=1)#[:,0].ravel()\n",
    "    y_pred_multi12 = model2.predict(x_multi12[-1:])#[:,0].ravel()\n",
    "    print(i, np.exp(y_pred_multi12))\n",
    "\n",
    "    #### Adicionar o valor previsto à série e fazer o novo janelamento\n",
    "    serie_multi12 = pd.Series(np.append(serie_multi12, y_pred_multi12))\n",
    "    type(serie_multi12)"
   ]
  },
  {
   "cell_type": "code",
   "execution_count": 69,
   "metadata": {},
   "outputs": [],
   "source": [
    "Y_pred_multi12 = np.exp(pd.Series(serie_multi12[-12:])) # tira o log das previsões\n",
    "Y_pred_multi12.index = icms_val.index"
   ]
  },
  {
   "cell_type": "code",
   "execution_count": 70,
   "metadata": {},
   "outputs": [
    {
     "data": {
      "text/plain": [
       "date\n",
       "2017-01-01    1.048758e+10\n",
       "2017-02-01    1.048406e+10\n",
       "2017-03-01    1.045588e+10\n",
       "2017-04-01    1.044931e+10\n",
       "2017-05-01    1.043702e+10\n",
       "2017-06-01    1.041967e+10\n",
       "2017-07-01    1.041743e+10\n",
       "2017-08-01    1.041099e+10\n",
       "2017-09-01    1.040793e+10\n",
       "2017-10-01    1.042472e+10\n",
       "2017-11-01    1.043319e+10\n",
       "2017-12-01    1.044691e+10\n",
       "dtype: float64"
      ]
     },
     "execution_count": 70,
     "metadata": {},
     "output_type": "execute_result"
    }
   ],
   "source": [
    "Y_pred_multi12"
   ]
  },
  {
   "cell_type": "code",
   "execution_count": 71,
   "metadata": {},
   "outputs": [
    {
     "data": {
      "text/plain": [
       "523278843.08687854"
      ]
     },
     "execution_count": 71,
     "metadata": {},
     "output_type": "execute_result"
    }
   ],
   "source": [
    "RMSE_lstm_multi12 = mean_squared_error(icms_val, Y_pred_multi12, squared=False)\n",
    "RMSE_lstm_multi12"
   ]
  },
  {
   "cell_type": "code",
   "execution_count": 72,
   "metadata": {},
   "outputs": [
    {
     "data": {
      "text/plain": [
       "0.04129159686891132"
      ]
     },
     "execution_count": 72,
     "metadata": {},
     "output_type": "execute_result"
    }
   ],
   "source": [
    "MAPE_lstm_multi12 = mean_absolute_percentage_error(icms_val, Y_pred_multi12)\n",
    "MAPE_lstm_multi12"
   ]
  },
  {
   "cell_type": "code",
   "execution_count": 73,
   "metadata": {},
   "outputs": [],
   "source": [
    "previsoes['nome'].append('RNN-LSTM-12-meses-larga')\n",
    "previsoes['modelo'].append(model2)\n",
    "previsoes['previsoes'].append(Y_pred_multi12)\n",
    "\n",
    "previsoes['rmse'].append(RMSE_lstm_multi12)\n",
    "\n",
    "previsoes['mape'].append(MAPE_lstm_multi12)"
   ]
  },
  {
   "cell_type": "code",
   "execution_count": 74,
   "metadata": {},
   "outputs": [],
   "source": [
    "previsoes['erro relativo'].append([erro_relativo(prev,real) \n",
    "                                   for prev,real in zip(Y_pred_multi12\n",
    "                                                        , icms_val)])"
   ]
  },
  {
   "cell_type": "markdown",
   "metadata": {},
   "source": [
    "## Arquitetura da Rede - Arquitetura Multicamada"
   ]
  },
  {
   "cell_type": "code",
   "execution_count": 75,
   "metadata": {},
   "outputs": [],
   "source": [
    "rlrop4 = ReduceLROnPlateau(monitor='val_loss', factor=0.1, patience=25, verbose=1)\n",
    "early_stop4 = EarlyStopping(monitor='val_loss', patience=100, verbose=1, \n",
    "                           restore_best_weights=True)"
   ]
  },
  {
   "cell_type": "code",
   "execution_count": 76,
   "metadata": {},
   "outputs": [],
   "source": [
    "# Épocas e tamanho do lote\n",
    "EPOCHS4 = 1000\n",
    "BATCH4 = 8\n",
    "NEURONIOS4 = 600\n",
    "LR4 = 1e-5\n",
    "DROPOUT4 = 0.25\n",
    "\n",
    "# Imstanciação do modelo\n",
    "model4 = Sequential()\n",
    "\n",
    "# Adicionar camada LSTM \n",
    "model4.add(LSTM(activation='tanh', dropout=DROPOUT4,\n",
    "        input_shape = (12, 10), return_sequences = True,\n",
    "        units = NEURONIOS4))\n",
    "\n",
    "# Adicionar camada LSTM \n",
    "model4.add(LSTM(activation='tanh', dropout=DROPOUT4,\n",
    "        input_shape = (12, 10), return_sequences = True,\n",
    "        units = NEURONIOS4))\n",
    "\n",
    "## Adicionar camada LSTM \n",
    "model4.add(LSTM(activation='tanh', dropout=DROPOUT4,\n",
    "        input_shape = (12, 10), return_sequences = False,\n",
    "        units = NEURONIOS4))\n",
    "\n",
    "\n",
    "# Adicionar a camada de saída com 1 neurônio linear\n",
    "model4.add(Dense(\n",
    "        units = 1,\n",
    "        activation = 'linear'))\n",
    "# a learning rate padrão do Adam é 0.001\n",
    "model4.compile(loss = 'mape', optimizer = Adam(learning_rate=LR4))"
   ]
  },
  {
   "cell_type": "code",
   "execution_count": 77,
   "metadata": {},
   "outputs": [
    {
     "name": "stdout",
     "output_type": "stream",
     "text": [
      "Model: \"sequential_3\"\n",
      "_________________________________________________________________\n",
      "Layer (type)                 Output Shape              Param #   \n",
      "=================================================================\n",
      "lstm_5 (LSTM)                (None, 12, 600)           1466400   \n",
      "_________________________________________________________________\n",
      "lstm_6 (LSTM)                (None, 12, 600)           2882400   \n",
      "_________________________________________________________________\n",
      "lstm_7 (LSTM)                (None, 600)               2882400   \n",
      "_________________________________________________________________\n",
      "dense_3 (Dense)              (None, 1)                 601       \n",
      "=================================================================\n",
      "Total params: 7,231,801\n",
      "Trainable params: 7,231,801\n",
      "Non-trainable params: 0\n",
      "_________________________________________________________________\n"
     ]
    }
   ],
   "source": [
    "model4.summary()"
   ]
  },
  {
   "cell_type": "code",
   "execution_count": 78,
   "metadata": {
    "scrolled": true
   },
   "outputs": [
    {
     "name": "stdout",
     "output_type": "stream",
     "text": [
      "Epoch 1/1000\n",
      "18/18 [==============================] - 3s 152ms/step - loss: 99.4669 - val_loss: 98.3523\n",
      "Epoch 2/1000\n",
      "18/18 [==============================] - 2s 103ms/step - loss: 98.3689 - val_loss: 96.2315\n",
      "Epoch 3/1000\n",
      "18/18 [==============================] - 2s 104ms/step - loss: 96.6231 - val_loss: 92.4466\n",
      "Epoch 4/1000\n",
      "18/18 [==============================] - 2s 112ms/step - loss: 93.2907 - val_loss: 83.8804\n",
      "Epoch 5/1000\n",
      "18/18 [==============================] - 2s 115ms/step - loss: 84.9446 - val_loss: 63.3780\n",
      "Epoch 6/1000\n",
      "18/18 [==============================] - 2s 115ms/step - loss: 65.5821 - val_loss: 29.9571\n",
      "Epoch 7/1000\n",
      "18/18 [==============================] - 2s 111ms/step - loss: 38.2057 - val_loss: 6.5996\n",
      "Epoch 8/1000\n",
      "18/18 [==============================] - 2s 111ms/step - loss: 15.3703 - val_loss: 4.4127\n",
      "Epoch 9/1000\n",
      "18/18 [==============================] - 2s 112ms/step - loss: 9.3584 - val_loss: 2.9637\n",
      "Epoch 10/1000\n",
      "18/18 [==============================] - 2s 114ms/step - loss: 5.7466 - val_loss: 0.2038\n",
      "Epoch 11/1000\n",
      "18/18 [==============================] - 2s 109ms/step - loss: 3.9809 - val_loss: 0.4140\n",
      "Epoch 12/1000\n",
      "18/18 [==============================] - 2s 108ms/step - loss: 3.0157 - val_loss: 0.4625\n",
      "Epoch 13/1000\n",
      "18/18 [==============================] - 2s 113ms/step - loss: 2.2363 - val_loss: 0.2412\n",
      "Epoch 14/1000\n",
      "18/18 [==============================] - 2s 111ms/step - loss: 1.8643 - val_loss: 0.1765\n",
      "Epoch 15/1000\n",
      "18/18 [==============================] - 2s 110ms/step - loss: 1.5759 - val_loss: 0.1969\n",
      "Epoch 16/1000\n",
      "18/18 [==============================] - 2s 108ms/step - loss: 1.3745 - val_loss: 0.1616\n",
      "Epoch 17/1000\n",
      "18/18 [==============================] - 2s 110ms/step - loss: 1.2509 - val_loss: 0.1751\n",
      "Epoch 18/1000\n",
      "18/18 [==============================] - 2s 110ms/step - loss: 1.1971 - val_loss: 0.3268\n",
      "Epoch 19/1000\n",
      "18/18 [==============================] - 2s 112ms/step - loss: 1.1847 - val_loss: 0.1557\n",
      "Epoch 20/1000\n",
      "18/18 [==============================] - 2s 107ms/step - loss: 1.1831 - val_loss: 0.3652\n",
      "Epoch 21/1000\n",
      "18/18 [==============================] - 2s 110ms/step - loss: 1.1021 - val_loss: 0.3969\n",
      "Epoch 22/1000\n",
      "18/18 [==============================] - 2s 109ms/step - loss: 1.0328 - val_loss: 0.2492\n",
      "Epoch 23/1000\n",
      "18/18 [==============================] - 2s 114ms/step - loss: 1.0408 - val_loss: 0.5093\n",
      "Epoch 24/1000\n",
      "18/18 [==============================] - 2s 108ms/step - loss: 1.0579 - val_loss: 0.1710\n",
      "Epoch 25/1000\n",
      "18/18 [==============================] - 2s 112ms/step - loss: 0.9614 - val_loss: 0.1508\n",
      "Epoch 26/1000\n",
      "18/18 [==============================] - 2s 107ms/step - loss: 0.9470 - val_loss: 0.5413\n",
      "Epoch 27/1000\n",
      "18/18 [==============================] - 2s 110ms/step - loss: 0.9322 - val_loss: 0.2623\n",
      "Epoch 28/1000\n",
      "18/18 [==============================] - 2s 109ms/step - loss: 0.8339 - val_loss: 0.5284\n",
      "Epoch 29/1000\n",
      "18/18 [==============================] - 2s 111ms/step - loss: 0.8876 - val_loss: 0.6310\n",
      "Epoch 30/1000\n",
      "18/18 [==============================] - 2s 108ms/step - loss: 0.8650 - val_loss: 0.1964\n",
      "Epoch 31/1000\n",
      "18/18 [==============================] - 2s 109ms/step - loss: 0.8842 - val_loss: 0.2608\n",
      "Epoch 32/1000\n",
      "18/18 [==============================] - 2s 108ms/step - loss: 0.8045 - val_loss: 0.4183\n",
      "Epoch 33/1000\n",
      "18/18 [==============================] - 2s 111ms/step - loss: 0.8294 - val_loss: 0.3854\n",
      "Epoch 34/1000\n",
      "18/18 [==============================] - 2s 108ms/step - loss: 0.8126 - val_loss: 0.3437\n",
      "Epoch 35/1000\n",
      "18/18 [==============================] - 2s 110ms/step - loss: 0.7432 - val_loss: 0.3040\n",
      "Epoch 36/1000\n",
      "18/18 [==============================] - 2s 107ms/step - loss: 0.7728 - val_loss: 0.3009\n",
      "Epoch 37/1000\n",
      "18/18 [==============================] - 2s 110ms/step - loss: 0.7273 - val_loss: 0.1929\n",
      "Epoch 38/1000\n",
      "18/18 [==============================] - 2s 110ms/step - loss: 0.7556 - val_loss: 0.3523\n",
      "Epoch 39/1000\n",
      "18/18 [==============================] - 2s 110ms/step - loss: 0.6862 - val_loss: 0.3741\n",
      "Epoch 40/1000\n",
      "18/18 [==============================] - 2s 108ms/step - loss: 0.7041 - val_loss: 0.3094\n",
      "Epoch 41/1000\n",
      "18/18 [==============================] - 2s 111ms/step - loss: 0.6667 - val_loss: 0.3484\n",
      "Epoch 42/1000\n",
      "18/18 [==============================] - 2s 109ms/step - loss: 0.6816 - val_loss: 0.1999\n",
      "Epoch 43/1000\n",
      "18/18 [==============================] - 2s 111ms/step - loss: 0.7120 - val_loss: 0.4505\n",
      "Epoch 44/1000\n",
      "18/18 [==============================] - 2s 107ms/step - loss: 0.7085 - val_loss: 0.1651\n",
      "Epoch 45/1000\n",
      "18/18 [==============================] - 2s 110ms/step - loss: 0.6148 - val_loss: 0.1693\n",
      "Epoch 46/1000\n",
      "18/18 [==============================] - 2s 106ms/step - loss: 0.6880 - val_loss: 0.4153\n",
      "Epoch 47/1000\n",
      "18/18 [==============================] - 2s 111ms/step - loss: 0.6387 - val_loss: 0.3323\n",
      "Epoch 48/1000\n",
      "18/18 [==============================] - 2s 111ms/step - loss: 0.5652 - val_loss: 0.3051\n",
      "Epoch 49/1000\n",
      "18/18 [==============================] - 2s 106ms/step - loss: 0.5803 - val_loss: 0.4789\n",
      "Epoch 50/1000\n",
      "18/18 [==============================] - ETA: 0s - loss: 0.5803\n",
      "Epoch 00050: ReduceLROnPlateau reducing learning rate to 9.999999747378752e-07.\n",
      "18/18 [==============================] - 2s 110ms/step - loss: 0.5803 - val_loss: 0.2332\n",
      "Epoch 51/1000\n",
      "18/18 [==============================] - 2s 109ms/step - loss: 0.5527 - val_loss: 0.1903\n",
      "Epoch 52/1000\n",
      "18/18 [==============================] - 2s 114ms/step - loss: 0.5337 - val_loss: 0.2120\n",
      "Epoch 53/1000\n",
      "18/18 [==============================] - 2s 109ms/step - loss: 0.5742 - val_loss: 0.1652\n",
      "Epoch 54/1000\n",
      "18/18 [==============================] - 2s 109ms/step - loss: 0.5368 - val_loss: 0.1498\n",
      "Epoch 55/1000\n",
      "18/18 [==============================] - 2s 108ms/step - loss: 0.5109 - val_loss: 0.1585\n",
      "Epoch 56/1000\n",
      "18/18 [==============================] - 2s 109ms/step - loss: 0.6156 - val_loss: 0.1515\n",
      "Epoch 57/1000\n",
      "18/18 [==============================] - 2s 108ms/step - loss: 0.5027 - val_loss: 0.1516\n",
      "Epoch 58/1000\n",
      "18/18 [==============================] - 2s 111ms/step - loss: 0.5375 - val_loss: 0.1556\n",
      "Epoch 59/1000\n",
      "18/18 [==============================] - 2s 107ms/step - loss: 0.5763 - val_loss: 0.1515\n",
      "Epoch 60/1000\n",
      "18/18 [==============================] - 2s 110ms/step - loss: 0.5570 - val_loss: 0.1739\n",
      "Epoch 61/1000\n",
      "18/18 [==============================] - 2s 107ms/step - loss: 0.5496 - val_loss: 0.1663\n",
      "Epoch 62/1000\n",
      "18/18 [==============================] - 2s 111ms/step - loss: 0.5352 - val_loss: 0.1712\n",
      "Epoch 63/1000\n",
      "18/18 [==============================] - 2s 109ms/step - loss: 0.5393 - val_loss: 0.1512\n",
      "Epoch 64/1000\n",
      "18/18 [==============================] - 2s 108ms/step - loss: 0.5001 - val_loss: 0.1516\n",
      "Epoch 65/1000\n",
      "18/18 [==============================] - 2s 108ms/step - loss: 0.5535 - val_loss: 0.1577\n",
      "Epoch 66/1000\n",
      "18/18 [==============================] - 2s 111ms/step - loss: 0.5137 - val_loss: 0.1784\n",
      "Epoch 67/1000\n",
      "18/18 [==============================] - 2s 110ms/step - loss: 0.5466 - val_loss: 0.1650\n",
      "Epoch 68/1000\n",
      "18/18 [==============================] - 2s 110ms/step - loss: 0.5037 - val_loss: 0.1650\n",
      "Epoch 69/1000\n",
      "18/18 [==============================] - 2s 107ms/step - loss: 0.5019 - val_loss: 0.1860\n",
      "Epoch 70/1000\n",
      "18/18 [==============================] - 2s 109ms/step - loss: 0.5103 - val_loss: 0.1515\n",
      "Epoch 71/1000\n",
      "18/18 [==============================] - 2s 109ms/step - loss: 0.4898 - val_loss: 0.1569\n",
      "Epoch 72/1000\n",
      "18/18 [==============================] - 2s 110ms/step - loss: 0.5303 - val_loss: 0.1590\n",
      "Epoch 73/1000\n",
      "18/18 [==============================] - 2s 110ms/step - loss: 0.4996 - val_loss: 0.1528\n",
      "Epoch 74/1000\n",
      "18/18 [==============================] - 2s 108ms/step - loss: 0.5503 - val_loss: 0.1481\n",
      "Epoch 75/1000\n",
      "18/18 [==============================] - 2s 109ms/step - loss: 0.5471 - val_loss: 0.1767\n",
      "Epoch 76/1000\n",
      "18/18 [==============================] - 2s 110ms/step - loss: 0.5153 - val_loss: 0.1830\n",
      "Epoch 77/1000\n",
      "18/18 [==============================] - 2s 110ms/step - loss: 0.5068 - val_loss: 0.1465\n",
      "Epoch 78/1000\n",
      "18/18 [==============================] - 2s 110ms/step - loss: 0.5571 - val_loss: 0.1472\n",
      "Epoch 79/1000\n"
     ]
    },
    {
     "name": "stdout",
     "output_type": "stream",
     "text": [
      "18/18 [==============================] - 2s 107ms/step - loss: 0.5221 - val_loss: 0.1808\n",
      "Epoch 80/1000\n",
      "18/18 [==============================] - 2s 110ms/step - loss: 0.5486 - val_loss: 0.1582\n",
      "Epoch 81/1000\n",
      "18/18 [==============================] - 2s 113ms/step - loss: 0.5290 - val_loss: 0.1462\n",
      "Epoch 82/1000\n",
      "18/18 [==============================] - 2s 109ms/step - loss: 0.5491 - val_loss: 0.1643\n",
      "Epoch 83/1000\n",
      "18/18 [==============================] - 2s 109ms/step - loss: 0.4900 - val_loss: 0.1644\n",
      "Epoch 84/1000\n",
      "18/18 [==============================] - 2s 108ms/step - loss: 0.5018 - val_loss: 0.1512\n",
      "Epoch 85/1000\n",
      "18/18 [==============================] - 2s 110ms/step - loss: 0.5557 - val_loss: 0.1466\n",
      "Epoch 86/1000\n",
      "18/18 [==============================] - 2s 110ms/step - loss: 0.5133 - val_loss: 0.1506\n",
      "Epoch 87/1000\n",
      "18/18 [==============================] - 2s 109ms/step - loss: 0.5300 - val_loss: 0.1627\n",
      "Epoch 88/1000\n",
      "18/18 [==============================] - 2s 112ms/step - loss: 0.5041 - val_loss: 0.1585\n",
      "Epoch 89/1000\n",
      "18/18 [==============================] - 2s 108ms/step - loss: 0.4793 - val_loss: 0.1583\n",
      "Epoch 90/1000\n",
      "18/18 [==============================] - 2s 108ms/step - loss: 0.4932 - val_loss: 0.1619\n",
      "Epoch 91/1000\n",
      "18/18 [==============================] - 2s 109ms/step - loss: 0.5289 - val_loss: 0.1519\n",
      "Epoch 92/1000\n",
      "18/18 [==============================] - 2s 111ms/step - loss: 0.5530 - val_loss: 0.1532\n",
      "Epoch 93/1000\n",
      "18/18 [==============================] - 2s 107ms/step - loss: 0.5144 - val_loss: 0.1730\n",
      "Epoch 94/1000\n",
      "18/18 [==============================] - 2s 110ms/step - loss: 0.4849 - val_loss: 0.1564\n",
      "Epoch 95/1000\n",
      "18/18 [==============================] - 2s 109ms/step - loss: 0.5160 - val_loss: 0.1542\n",
      "Epoch 96/1000\n",
      "18/18 [==============================] - 2s 112ms/step - loss: 0.5190 - val_loss: 0.1678\n",
      "Epoch 97/1000\n",
      "18/18 [==============================] - 2s 109ms/step - loss: 0.5359 - val_loss: 0.1490\n",
      "Epoch 98/1000\n",
      "18/18 [==============================] - 2s 109ms/step - loss: 0.5036 - val_loss: 0.1459\n",
      "Epoch 99/1000\n",
      "18/18 [==============================] - 2s 107ms/step - loss: 0.4989 - val_loss: 0.1500\n",
      "Epoch 100/1000\n",
      "18/18 [==============================] - 2s 112ms/step - loss: 0.5271 - val_loss: 0.1455\n",
      "Epoch 101/1000\n",
      "18/18 [==============================] - 2s 109ms/step - loss: 0.4910 - val_loss: 0.1460\n",
      "Epoch 102/1000\n",
      "18/18 [==============================] - 2s 111ms/step - loss: 0.4412 - val_loss: 0.1467\n",
      "Epoch 103/1000\n",
      "18/18 [==============================] - 2s 106ms/step - loss: 0.4820 - val_loss: 0.1469\n",
      "Epoch 104/1000\n",
      "18/18 [==============================] - 2s 110ms/step - loss: 0.4866 - val_loss: 0.1790\n",
      "Epoch 105/1000\n",
      "18/18 [==============================] - 2s 109ms/step - loss: 0.4418 - val_loss: 0.1463\n",
      "Epoch 106/1000\n",
      "18/18 [==============================] - 2s 111ms/step - loss: 0.4324 - val_loss: 0.1594\n",
      "Epoch 107/1000\n",
      "18/18 [==============================] - 2s 110ms/step - loss: 0.5127 - val_loss: 0.1576\n",
      "Epoch 108/1000\n",
      "18/18 [==============================] - 2s 108ms/step - loss: 0.4936 - val_loss: 0.1553\n",
      "Epoch 109/1000\n",
      "18/18 [==============================] - 2s 114ms/step - loss: 0.4961 - val_loss: 0.1595\n",
      "Epoch 110/1000\n",
      "18/18 [==============================] - 2s 113ms/step - loss: 0.5291 - val_loss: 0.1695\n",
      "Epoch 111/1000\n",
      "18/18 [==============================] - 2s 110ms/step - loss: 0.5181 - val_loss: 0.1622\n",
      "Epoch 112/1000\n",
      "18/18 [==============================] - 2s 110ms/step - loss: 0.4406 - val_loss: 0.1587\n",
      "Epoch 113/1000\n",
      "18/18 [==============================] - 2s 107ms/step - loss: 0.5047 - val_loss: 0.1473\n",
      "Epoch 114/1000\n",
      "18/18 [==============================] - 2s 109ms/step - loss: 0.4663 - val_loss: 0.1491\n",
      "Epoch 115/1000\n",
      "18/18 [==============================] - 2s 109ms/step - loss: 0.4624 - val_loss: 0.1598\n",
      "Epoch 116/1000\n",
      "18/18 [==============================] - 2s 112ms/step - loss: 0.4886 - val_loss: 0.1489\n",
      "Epoch 117/1000\n",
      "18/18 [==============================] - 2s 108ms/step - loss: 0.4453 - val_loss: 0.1496\n",
      "Epoch 118/1000\n",
      "18/18 [==============================] - 2s 108ms/step - loss: 0.4435 - val_loss: 0.1454\n",
      "Epoch 119/1000\n",
      "18/18 [==============================] - 2s 108ms/step - loss: 0.5094 - val_loss: 0.1834\n",
      "Epoch 120/1000\n",
      "18/18 [==============================] - 2s 110ms/step - loss: 0.4575 - val_loss: 0.1504\n",
      "Epoch 121/1000\n",
      "18/18 [==============================] - 2s 110ms/step - loss: 0.4274 - val_loss: 0.1471\n",
      "Epoch 122/1000\n",
      "18/18 [==============================] - 2s 110ms/step - loss: 0.4422 - val_loss: 0.1588\n",
      "Epoch 123/1000\n",
      "18/18 [==============================] - 2s 107ms/step - loss: 0.4511 - val_loss: 0.1468\n",
      "Epoch 124/1000\n",
      "18/18 [==============================] - 2s 110ms/step - loss: 0.4727 - val_loss: 0.1579\n",
      "Epoch 125/1000\n",
      "18/18 [==============================] - 2s 110ms/step - loss: 0.4490 - val_loss: 0.1851\n",
      "Epoch 126/1000\n",
      "18/18 [==============================] - 2s 112ms/step - loss: 0.4327 - val_loss: 0.1493\n",
      "Epoch 127/1000\n",
      "18/18 [==============================] - 2s 109ms/step - loss: 0.4616 - val_loss: 0.1526\n",
      "Epoch 128/1000\n",
      "18/18 [==============================] - 2s 107ms/step - loss: 0.4845 - val_loss: 0.1470\n",
      "Epoch 129/1000\n",
      "18/18 [==============================] - 2s 110ms/step - loss: 0.4787 - val_loss: 0.1556\n",
      "Epoch 130/1000\n",
      "18/18 [==============================] - 2s 109ms/step - loss: 0.4163 - val_loss: 0.1462\n",
      "Epoch 131/1000\n",
      "18/18 [==============================] - 2s 111ms/step - loss: 0.4449 - val_loss: 0.1599\n",
      "Epoch 132/1000\n",
      "18/18 [==============================] - 2s 108ms/step - loss: 0.4510 - val_loss: 0.1457\n",
      "Epoch 133/1000\n",
      "18/18 [==============================] - 2s 109ms/step - loss: 0.4390 - val_loss: 0.1657\n",
      "Epoch 134/1000\n",
      "18/18 [==============================] - 2s 107ms/step - loss: 0.4365 - val_loss: 0.1839\n",
      "Epoch 135/1000\n",
      "18/18 [==============================] - 2s 111ms/step - loss: 0.4512 - val_loss: 0.1614\n",
      "Epoch 136/1000\n",
      "18/18 [==============================] - 2s 111ms/step - loss: 0.4737 - val_loss: 0.1475\n",
      "Epoch 137/1000\n",
      "18/18 [==============================] - 2s 108ms/step - loss: 0.4863 - val_loss: 0.1772\n",
      "Epoch 138/1000\n",
      "18/18 [==============================] - 2s 110ms/step - loss: 0.4953 - val_loss: 0.2231\n",
      "Epoch 139/1000\n",
      "18/18 [==============================] - 2s 110ms/step - loss: 0.4690 - val_loss: 0.1496\n",
      "Epoch 140/1000\n",
      "18/18 [==============================] - 2s 110ms/step - loss: 0.4436 - val_loss: 0.1562\n",
      "Epoch 141/1000\n",
      "18/18 [==============================] - 2s 112ms/step - loss: 0.4660 - val_loss: 0.1600\n",
      "Epoch 142/1000\n",
      "18/18 [==============================] - 2s 108ms/step - loss: 0.4461 - val_loss: 0.1793\n",
      "Epoch 143/1000\n",
      "18/18 [==============================] - ETA: 0s - loss: 0.4956\n",
      "Epoch 00143: ReduceLROnPlateau reducing learning rate to 9.999999974752428e-08.\n",
      "18/18 [==============================] - 2s 108ms/step - loss: 0.4956 - val_loss: 0.1635\n",
      "Epoch 144/1000\n",
      "18/18 [==============================] - 2s 108ms/step - loss: 0.5044 - val_loss: 0.1628\n",
      "Epoch 145/1000\n",
      "18/18 [==============================] - 2s 110ms/step - loss: 0.4789 - val_loss: 0.1599\n",
      "Epoch 146/1000\n",
      "18/18 [==============================] - 2s 113ms/step - loss: 0.4349 - val_loss: 0.1554\n",
      "Epoch 147/1000\n",
      "18/18 [==============================] - 2s 106ms/step - loss: 0.4409 - val_loss: 0.1585\n",
      "Epoch 148/1000\n",
      "18/18 [==============================] - 2s 108ms/step - loss: 0.4219 - val_loss: 0.1600\n",
      "Epoch 149/1000\n",
      "18/18 [==============================] - 2s 109ms/step - loss: 0.4127 - val_loss: 0.1605\n",
      "Epoch 150/1000\n",
      "18/18 [==============================] - 2s 109ms/step - loss: 0.4475 - val_loss: 0.1627\n",
      "Epoch 151/1000\n",
      "18/18 [==============================] - 2s 114ms/step - loss: 0.4193 - val_loss: 0.1632\n",
      "Epoch 152/1000\n",
      "18/18 [==============================] - 2s 118ms/step - loss: 0.4356 - val_loss: 0.1591\n",
      "Epoch 153/1000\n",
      "18/18 [==============================] - 2s 136ms/step - loss: 0.4237 - val_loss: 0.1555\n",
      "Epoch 154/1000\n",
      "18/18 [==============================] - 2s 123ms/step - loss: 0.4236 - val_loss: 0.1573\n",
      "Epoch 155/1000\n",
      "18/18 [==============================] - 2s 124ms/step - loss: 0.4531 - val_loss: 0.1603\n",
      "Epoch 156/1000\n",
      "18/18 [==============================] - 2s 124ms/step - loss: 0.4229 - val_loss: 0.1628\n",
      "Epoch 157/1000\n",
      "18/18 [==============================] - 2s 115ms/step - loss: 0.4296 - val_loss: 0.1619\n",
      "Epoch 158/1000\n",
      "18/18 [==============================] - 2s 112ms/step - loss: 0.4465 - val_loss: 0.1601\n",
      "Epoch 159/1000\n",
      "18/18 [==============================] - 2s 113ms/step - loss: 0.4620 - val_loss: 0.1628\n",
      "Epoch 160/1000\n",
      "18/18 [==============================] - 2s 115ms/step - loss: 0.4307 - val_loss: 0.1654\n",
      "Epoch 161/1000\n",
      "18/18 [==============================] - 2s 110ms/step - loss: 0.4143 - val_loss: 0.1669\n",
      "Epoch 162/1000\n",
      "18/18 [==============================] - 2s 114ms/step - loss: 0.4366 - val_loss: 0.1708\n",
      "Epoch 163/1000\n",
      "18/18 [==============================] - 2s 112ms/step - loss: 0.4382 - val_loss: 0.1677\n",
      "Epoch 164/1000\n",
      "18/18 [==============================] - 2s 116ms/step - loss: 0.4778 - val_loss: 0.1627\n",
      "Epoch 165/1000\n",
      "18/18 [==============================] - 2s 115ms/step - loss: 0.4575 - val_loss: 0.1581\n",
      "Epoch 166/1000\n",
      "18/18 [==============================] - 2s 116ms/step - loss: 0.4294 - val_loss: 0.1598\n",
      "Epoch 167/1000\n",
      "18/18 [==============================] - 2s 112ms/step - loss: 0.4764 - val_loss: 0.1592\n",
      "Epoch 168/1000\n",
      "18/18 [==============================] - ETA: 0s - loss: 0.4680\n",
      "Epoch 00168: ReduceLROnPlateau reducing learning rate to 1.0000000116860975e-08.\n",
      "18/18 [==============================] - 2s 116ms/step - loss: 0.4680 - val_loss: 0.1567\n",
      "Epoch 169/1000\n",
      "18/18 [==============================] - 2s 114ms/step - loss: 0.4361 - val_loss: 0.1566\n",
      "Epoch 170/1000\n",
      "18/18 [==============================] - 2s 114ms/step - loss: 0.4786 - val_loss: 0.1566\n",
      "Epoch 171/1000\n",
      "18/18 [==============================] - 2s 110ms/step - loss: 0.4449 - val_loss: 0.1563\n",
      "Epoch 172/1000\n",
      "18/18 [==============================] - 2s 113ms/step - loss: 0.4323 - val_loss: 0.1563\n",
      "Epoch 173/1000\n",
      "18/18 [==============================] - 2s 114ms/step - loss: 0.4814 - val_loss: 0.1565\n",
      "Epoch 174/1000\n",
      "18/18 [==============================] - 2s 117ms/step - loss: 0.4836 - val_loss: 0.1567\n",
      "Epoch 175/1000\n",
      "18/18 [==============================] - 2s 123ms/step - loss: 0.4281 - val_loss: 0.1571\n",
      "Epoch 176/1000\n",
      "18/18 [==============================] - 2s 116ms/step - loss: 0.4161 - val_loss: 0.1568\n",
      "Epoch 177/1000\n",
      "18/18 [==============================] - 2s 116ms/step - loss: 0.4271 - val_loss: 0.1567\n",
      "Epoch 178/1000\n",
      "18/18 [==============================] - 2s 116ms/step - loss: 0.4267 - val_loss: 0.1568\n",
      "Epoch 179/1000\n",
      "18/18 [==============================] - 2s 118ms/step - loss: 0.4090 - val_loss: 0.1566\n",
      "Epoch 180/1000\n",
      "18/18 [==============================] - 2s 112ms/step - loss: 0.4633 - val_loss: 0.1567\n",
      "Epoch 181/1000\n",
      "18/18 [==============================] - 2s 115ms/step - loss: 0.4516 - val_loss: 0.1567\n",
      "Epoch 182/1000\n",
      "18/18 [==============================] - 2s 113ms/step - loss: 0.4013 - val_loss: 0.1565\n",
      "Epoch 183/1000\n",
      "18/18 [==============================] - 2s 114ms/step - loss: 0.4603 - val_loss: 0.1569\n",
      "Epoch 184/1000\n",
      "18/18 [==============================] - 2s 115ms/step - loss: 0.4484 - val_loss: 0.1570\n",
      "Epoch 185/1000\n",
      "18/18 [==============================] - 2s 113ms/step - loss: 0.4402 - val_loss: 0.1570\n",
      "Epoch 186/1000\n",
      "18/18 [==============================] - 2s 114ms/step - loss: 0.3997 - val_loss: 0.1574\n",
      "Epoch 187/1000\n",
      "18/18 [==============================] - 2s 118ms/step - loss: 0.4308 - val_loss: 0.1577\n",
      "Epoch 188/1000\n",
      "18/18 [==============================] - 2s 119ms/step - loss: 0.4757 - val_loss: 0.1576\n",
      "Epoch 189/1000\n",
      "18/18 [==============================] - 2s 114ms/step - loss: 0.4639 - val_loss: 0.1576\n",
      "Epoch 190/1000\n",
      "18/18 [==============================] - 2s 112ms/step - loss: 0.4260 - val_loss: 0.1579\n",
      "Epoch 191/1000\n",
      "18/18 [==============================] - 2s 117ms/step - loss: 0.4248 - val_loss: 0.1581\n",
      "Epoch 192/1000\n",
      "18/18 [==============================] - 2s 116ms/step - loss: 0.4485 - val_loss: 0.1586\n",
      "Epoch 193/1000\n",
      "18/18 [==============================] - ETA: 0s - loss: 0.4326\n",
      "Epoch 00193: ReduceLROnPlateau reducing learning rate to 9.999999939225292e-10.\n",
      "18/18 [==============================] - 2s 119ms/step - loss: 0.4326 - val_loss: 0.1588\n",
      "Epoch 194/1000\n",
      "18/18 [==============================] - 2s 112ms/step - loss: 0.4139 - val_loss: 0.1588\n",
      "Epoch 195/1000\n",
      "18/18 [==============================] - 2s 114ms/step - loss: 0.4458 - val_loss: 0.1588\n",
      "Epoch 196/1000\n",
      "18/18 [==============================] - 2s 119ms/step - loss: 0.4035 - val_loss: 0.1588\n",
      "Epoch 197/1000\n",
      "18/18 [==============================] - 2s 117ms/step - loss: 0.4492 - val_loss: 0.1588\n",
      "Epoch 198/1000\n",
      "18/18 [==============================] - 2s 119ms/step - loss: 0.4104 - val_loss: 0.1588\n",
      "Epoch 199/1000\n",
      "18/18 [==============================] - 2s 113ms/step - loss: 0.4484 - val_loss: 0.1588\n",
      "Epoch 200/1000\n",
      "18/18 [==============================] - 2s 117ms/step - loss: 0.4155 - val_loss: 0.1588\n",
      "Epoch 201/1000\n",
      "18/18 [==============================] - 2s 116ms/step - loss: 0.4405 - val_loss: 0.1588\n",
      "Epoch 202/1000\n",
      "18/18 [==============================] - 2s 118ms/step - loss: 0.4261 - val_loss: 0.1588\n",
      "Epoch 203/1000\n",
      "18/18 [==============================] - 2s 115ms/step - loss: 0.4261 - val_loss: 0.1588\n",
      "Epoch 204/1000\n",
      "18/18 [==============================] - 2s 115ms/step - loss: 0.4551 - val_loss: 0.1588\n",
      "Epoch 205/1000\n",
      "18/18 [==============================] - 2s 116ms/step - loss: 0.4599 - val_loss: 0.1588\n",
      "Epoch 206/1000\n",
      "18/18 [==============================] - 2s 114ms/step - loss: 0.4106 - val_loss: 0.1588\n",
      "Epoch 207/1000\n",
      "18/18 [==============================] - 2s 121ms/step - loss: 0.4329 - val_loss: 0.1588\n",
      "Epoch 208/1000\n",
      "18/18 [==============================] - 2s 114ms/step - loss: 0.4300 - val_loss: 0.1588\n",
      "Epoch 209/1000\n",
      "18/18 [==============================] - 2s 114ms/step - loss: 0.4579 - val_loss: 0.1588\n",
      "Epoch 210/1000\n",
      "18/18 [==============================] - 2s 114ms/step - loss: 0.4364 - val_loss: 0.1588\n",
      "Epoch 211/1000\n",
      "18/18 [==============================] - 2s 116ms/step - loss: 0.4394 - val_loss: 0.1588\n",
      "Epoch 212/1000\n",
      "18/18 [==============================] - 2s 113ms/step - loss: 0.4580 - val_loss: 0.1588\n",
      "Epoch 213/1000\n",
      "18/18 [==============================] - 2s 115ms/step - loss: 0.4454 - val_loss: 0.1588\n",
      "Epoch 214/1000\n",
      "18/18 [==============================] - 2s 115ms/step - loss: 0.4555 - val_loss: 0.1588\n",
      "Epoch 215/1000\n",
      "18/18 [==============================] - 2s 117ms/step - loss: 0.4461 - val_loss: 0.1589\n",
      "Epoch 216/1000\n",
      "18/18 [==============================] - 2s 115ms/step - loss: 0.4465 - val_loss: 0.1589\n",
      "Epoch 217/1000\n",
      "18/18 [==============================] - 2s 114ms/step - loss: 0.4594 - val_loss: 0.1589\n",
      "Epoch 218/1000\n",
      "18/18 [==============================] - ETA: 0s - loss: 0.4506\n",
      "Epoch 00218: ReduceLROnPlateau reducing learning rate to 9.999999717180686e-11.\n",
      "Restoring model weights from the end of the best epoch.\n",
      "18/18 [==============================] - 2s 114ms/step - loss: 0.4506 - val_loss: 0.1589\n",
      "Epoch 00218: early stopping\n"
     ]
    }
   ],
   "source": [
    "# History object for plotting our model loss by epoch\n",
    "history4 = model4.fit(x_train12, y_train12, batch_size = BATCH4, \n",
    "                    epochs = EPOCHS4, validation_data = (x_val12, y_val12),\n",
    "                    callbacks = [rlrop4, early_stop4])"
   ]
  },
  {
   "cell_type": "code",
   "execution_count": 79,
   "metadata": {},
   "outputs": [
    {
     "data": {
      "image/png": "[encoded data removed]",
      "text/plain": [
       "<Figure size 720x504 with 1 Axes>"
      ]
     },
     "metadata": {
      "needs_background": "light"
     },
     "output_type": "display_data"
    }
   ],
   "source": [
    "# Loss History\n",
    "fig = plt.figure(figsize=(10, 7))\n",
    "plt.plot(history4.history['loss'])\n",
    "plt.plot(history4.history['val_loss'])\n",
    "plt.title('Model Loss')\n",
    "plt.ylabel('Loss')\n",
    "plt.xlabel('Epoch')\n",
    "plt.legend(['Train', 'Val'], loc='upper right')\n",
    "plt.show()"
   ]
  },
  {
   "cell_type": "markdown",
   "metadata": {},
   "source": [
    "### Previsão Multistep 12 meses em Validação\n",
    "Para ficar adequado à realidade, não podemos usar os dados de 2022 para prever 2022. Portanto, a previsão de 2022 será feita do moto *multistep*, isto é, o mês de janeiro/2022 será previsto usando-se os dados de arrecadação de janeiro a dezembro de 2021; o mês de fevereiro/2022 será previsto usando-se os dados de fevereiro a dezembro de 2021 mais a previsão feita para o mês de janeiro/2022; o mês de março/2022 será previsto usando-se os dados de março a dezembro de 2021 mais os meses de janeiro e fevereiro de 2022 previstos nos passos anteriores. E assim por diante, até que a previsão de dezembro/2022 será feita usando-se os dados de dezembro de 2021 mais as previsões de janeiro a novembro de 2022 feitas nos passos anteriores."
   ]
  },
  {
   "cell_type": "markdown",
   "metadata": {},
   "source": [
    "#### Remove os 12 últimos valores que serão previstos e cria as séries novamente"
   ]
  },
  {
   "cell_type": "code",
   "execution_count": 80,
   "metadata": {},
   "outputs": [
    {
     "name": "stdout",
     "output_type": "stream",
     "text": [
      "(192,)\n",
      "(168,)\n"
     ]
    },
    {
     "data": {
      "text/plain": [
       "pandas.core.series.Series"
      ]
     },
     "execution_count": 80,
     "metadata": {},
     "output_type": "execute_result"
    }
   ],
   "source": [
    "# remove\n",
    "serie_multi122 = l_icms_ts[:-24]\n",
    "print(l_icms_ts.shape)\n",
    "print(serie_multi122.shape)\n",
    "type(serie_multi122)"
   ]
  },
  {
   "cell_type": "code",
   "execution_count": 81,
   "metadata": {},
   "outputs": [
    {
     "name": "stdout",
     "output_type": "stream",
     "text": [
      "0 [[1.073119e+10]]\n",
      "1 [[1.0716299e+10]]\n",
      "2 [[1.0699756e+10]]\n",
      "3 [[1.0691168e+10]]\n",
      "4 [[1.0684644e+10]]\n",
      "5 [[1.0679979e+10]]\n",
      "6 [[1.0686988e+10]]\n",
      "7 [[1.0690922e+10]]\n",
      "8 [[1.0706349e+10]]\n",
      "9 [[1.0729185e+10]]\n",
      "10 [[1.0749135e+10]]\n",
      "11 [[1.0769636e+10]]\n"
     ]
    }
   ],
   "source": [
    "for i in range(12):\n",
    "    # cria as séries\n",
    "    X_multi122, Y_multi122 = cria_features_target(serie_multi122, verbose=0)\n",
    "\n",
    "    # Faz a normalização usando o modelo fitado na normalização anterior\n",
    "    X_multi_std122 = enc_x.transform(X_multi122)\n",
    "    X_multi_std122 = X_multi_std122.reshape(X_multi_std122.shape[0],10,1)\n",
    "\n",
    "    # Faz o janelamento das séries\n",
    "    x_multi122, y_multi122 = janelamento_12_meses(X_multi_std122, Y_multi122, verbose=0)\n",
    "\n",
    "    # Faz a predição da arrecadação do mês\n",
    "    #y_pred_multi = np.mean(model.predict(x_multi[-1:]), axis=1)#[:,0].ravel()\n",
    "    y_pred_multi122 = model4.predict(x_multi122[-1:])#[:,0].ravel()\n",
    "    print(i, np.exp(y_pred_multi122))\n",
    "\n",
    "    #### Adicionar o valor previsto à série e fazer o novo janelamento\n",
    "    serie_multi122 = pd.Series(np.append(serie_multi122, y_pred_multi122))\n",
    "    type(serie_multi122)"
   ]
  },
  {
   "cell_type": "code",
   "execution_count": 82,
   "metadata": {},
   "outputs": [],
   "source": [
    "Y_pred_multi122 = np.exp(pd.Series(serie_multi122[-12:])) # tira o log das previsões\n",
    "Y_pred_multi122.index = icms_val.index"
   ]
  },
  {
   "cell_type": "code",
   "execution_count": 83,
   "metadata": {},
   "outputs": [
    {
     "data": {
      "text/plain": [
       "date\n",
       "2017-01-01    1.073119e+10\n",
       "2017-02-01    1.071630e+10\n",
       "2017-03-01    1.069976e+10\n",
       "2017-04-01    1.069117e+10\n",
       "2017-05-01    1.068464e+10\n",
       "2017-06-01    1.067998e+10\n",
       "2017-07-01    1.068699e+10\n",
       "2017-08-01    1.069092e+10\n",
       "2017-09-01    1.070635e+10\n",
       "2017-10-01    1.072918e+10\n",
       "2017-11-01    1.074914e+10\n",
       "2017-12-01    1.076964e+10\n",
       "dtype: float64"
      ]
     },
     "execution_count": 83,
     "metadata": {},
     "output_type": "execute_result"
    }
   ],
   "source": [
    "Y_pred_multi122"
   ]
  },
  {
   "cell_type": "code",
   "execution_count": 84,
   "metadata": {},
   "outputs": [
    {
     "data": {
      "text/plain": [
       "468247566.96970415"
      ]
     },
     "execution_count": 84,
     "metadata": {},
     "output_type": "execute_result"
    }
   ],
   "source": [
    "RMSE_lstm_multi122 = mean_squared_error(icms_val, Y_pred_multi122, squared=False)\n",
    "RMSE_lstm_multi122"
   ]
  },
  {
   "cell_type": "code",
   "execution_count": 85,
   "metadata": {
    "scrolled": true
   },
   "outputs": [
    {
     "data": {
      "text/plain": [
       "0.03403825813875338"
      ]
     },
     "execution_count": 85,
     "metadata": {},
     "output_type": "execute_result"
    }
   ],
   "source": [
    "MAPE_lstm_multi122 = mean_absolute_percentage_error(icms_val, Y_pred_multi122)\n",
    "MAPE_lstm_multi122"
   ]
  },
  {
   "cell_type": "code",
   "execution_count": 86,
   "metadata": {},
   "outputs": [],
   "source": [
    "previsoes['nome'].append('RNN-LSTM-12-meses-camadas')\n",
    "previsoes['modelo'].append(model4)\n",
    "previsoes['previsoes'].append(Y_pred_multi122)\n",
    "\n",
    "previsoes['rmse'].append(RMSE_lstm_multi122)\n",
    "\n",
    "previsoes['mape'].append(MAPE_lstm_multi122)"
   ]
  },
  {
   "cell_type": "code",
   "execution_count": 87,
   "metadata": {},
   "outputs": [],
   "source": [
    "previsoes['erro relativo'].append([erro_relativo(prev,real) \n",
    "                                   for prev,real in zip(Y_pred_multi122\n",
    "                                                        , icms_val)])"
   ]
  },
  {
   "cell_type": "markdown",
   "metadata": {},
   "source": [
    "## Resultados"
   ]
  },
  {
   "cell_type": "code",
   "execution_count": 88,
   "metadata": {},
   "outputs": [
    {
     "data": {
      "text/plain": [
       "['RNN-LSTM-1-mês-larga',\n",
       " 'RNN-LSTM-1-mês-camadas',\n",
       " 'RNN-LSTM-12-meses-larga',\n",
       " 'RNN-LSTM-12-meses-camadas']"
      ]
     },
     "execution_count": 88,
     "metadata": {},
     "output_type": "execute_result"
    }
   ],
   "source": [
    "previsoes['nome']"
   ]
  },
  {
   "cell_type": "code",
   "execution_count": 89,
   "metadata": {},
   "outputs": [],
   "source": [
    "df_prev = pd.DataFrame(data=previsoes['previsoes'], \n",
    "                       index=previsoes['nome']).transpose()\n",
    "df_prev[\"real\"] = icms_val\n",
    "df_rmse = pd.DataFrame(data=previsoes['rmse'], \n",
    "                       index=previsoes['nome']).transpose()\n",
    "df_mape = pd.DataFrame(data=previsoes['mape'], \n",
    "                       index=previsoes['nome']).transpose()\n",
    "df_erro = pd.DataFrame(data=previsoes['erro relativo'], \n",
    "                       index=previsoes['nome']).transpose()"
   ]
  },
  {
   "cell_type": "code",
   "execution_count": 90,
   "metadata": {},
   "outputs": [
    {
     "data": {
      "text/html": [
       "<div>\n",
       "<style scoped>\n",
       "    .dataframe tbody tr th:only-of-type {\n",
       "        vertical-align: middle;\n",
       "    }\n",
       "\n",
       "    .dataframe tbody tr th {\n",
       "        vertical-align: top;\n",
       "    }\n",
       "\n",
       "    .dataframe thead th {\n",
       "        text-align: right;\n",
       "    }\n",
       "</style>\n",
       "<table border=\"1\" class=\"dataframe\">\n",
       "  <thead>\n",
       "    <tr style=\"text-align: right;\">\n",
       "      <th></th>\n",
       "      <th>RNN-LSTM-1-mês-larga</th>\n",
       "      <th>RNN-LSTM-1-mês-camadas</th>\n",
       "      <th>RNN-LSTM-12-meses-larga</th>\n",
       "      <th>RNN-LSTM-12-meses-camadas</th>\n",
       "      <th>real</th>\n",
       "    </tr>\n",
       "    <tr>\n",
       "      <th>date</th>\n",
       "      <th></th>\n",
       "      <th></th>\n",
       "      <th></th>\n",
       "      <th></th>\n",
       "      <th></th>\n",
       "    </tr>\n",
       "  </thead>\n",
       "  <tbody>\n",
       "    <tr>\n",
       "      <th>2017-01-01</th>\n",
       "      <td>9.667678e+09</td>\n",
       "      <td>1.051161e+10</td>\n",
       "      <td>1.048758e+10</td>\n",
       "      <td>1.073119e+10</td>\n",
       "      <td>1.072886e+10</td>\n",
       "    </tr>\n",
       "    <tr>\n",
       "      <th>2017-02-01</th>\n",
       "      <td>9.661281e+09</td>\n",
       "      <td>1.053502e+10</td>\n",
       "      <td>1.048406e+10</td>\n",
       "      <td>1.071630e+10</td>\n",
       "      <td>9.732300e+09</td>\n",
       "    </tr>\n",
       "    <tr>\n",
       "      <th>2017-03-01</th>\n",
       "      <td>9.668803e+09</td>\n",
       "      <td>1.056792e+10</td>\n",
       "      <td>1.045588e+10</td>\n",
       "      <td>1.069976e+10</td>\n",
       "      <td>1.004051e+10</td>\n",
       "    </tr>\n",
       "    <tr>\n",
       "      <th>2017-04-01</th>\n",
       "      <td>9.666959e+09</td>\n",
       "      <td>1.057813e+10</td>\n",
       "      <td>1.044931e+10</td>\n",
       "      <td>1.069117e+10</td>\n",
       "      <td>1.067568e+10</td>\n",
       "    </tr>\n",
       "    <tr>\n",
       "      <th>2017-05-01</th>\n",
       "      <td>9.667088e+09</td>\n",
       "      <td>1.057688e+10</td>\n",
       "      <td>1.043702e+10</td>\n",
       "      <td>1.068464e+10</td>\n",
       "      <td>1.014303e+10</td>\n",
       "    </tr>\n",
       "    <tr>\n",
       "      <th>2017-06-01</th>\n",
       "      <td>9.666313e+09</td>\n",
       "      <td>1.058295e+10</td>\n",
       "      <td>1.041967e+10</td>\n",
       "      <td>1.067998e+10</td>\n",
       "      <td>1.058851e+10</td>\n",
       "    </tr>\n",
       "    <tr>\n",
       "      <th>2017-07-01</th>\n",
       "      <td>9.669006e+09</td>\n",
       "      <td>1.057738e+10</td>\n",
       "      <td>1.041743e+10</td>\n",
       "      <td>1.068699e+10</td>\n",
       "      <td>1.036689e+10</td>\n",
       "    </tr>\n",
       "    <tr>\n",
       "      <th>2017-08-01</th>\n",
       "      <td>9.668047e+09</td>\n",
       "      <td>1.058598e+10</td>\n",
       "      <td>1.041099e+10</td>\n",
       "      <td>1.069092e+10</td>\n",
       "      <td>1.068426e+10</td>\n",
       "    </tr>\n",
       "    <tr>\n",
       "      <th>2017-09-01</th>\n",
       "      <td>9.673101e+09</td>\n",
       "      <td>1.057962e+10</td>\n",
       "      <td>1.040793e+10</td>\n",
       "      <td>1.070635e+10</td>\n",
       "      <td>1.089186e+10</td>\n",
       "    </tr>\n",
       "    <tr>\n",
       "      <th>2017-10-01</th>\n",
       "      <td>9.671035e+09</td>\n",
       "      <td>1.058444e+10</td>\n",
       "      <td>1.042472e+10</td>\n",
       "      <td>1.072918e+10</td>\n",
       "      <td>1.101721e+10</td>\n",
       "    </tr>\n",
       "    <tr>\n",
       "      <th>2017-11-01</th>\n",
       "      <td>9.671219e+09</td>\n",
       "      <td>1.058469e+10</td>\n",
       "      <td>1.043319e+10</td>\n",
       "      <td>1.074914e+10</td>\n",
       "      <td>1.124273e+10</td>\n",
       "    </tr>\n",
       "    <tr>\n",
       "      <th>2017-12-01</th>\n",
       "      <td>9.669891e+09</td>\n",
       "      <td>1.058749e+10</td>\n",
       "      <td>1.044691e+10</td>\n",
       "      <td>1.076964e+10</td>\n",
       "      <td>1.144989e+10</td>\n",
       "    </tr>\n",
       "  </tbody>\n",
       "</table>\n",
       "</div>"
      ],
      "text/plain": [
       "            RNN-LSTM-1-mês-larga  RNN-LSTM-1-mês-camadas  \\\n",
       "date                                                       \n",
       "2017-01-01          9.667678e+09            1.051161e+10   \n",
       "2017-02-01          9.661281e+09            1.053502e+10   \n",
       "2017-03-01          9.668803e+09            1.056792e+10   \n",
       "2017-04-01          9.666959e+09            1.057813e+10   \n",
       "2017-05-01          9.667088e+09            1.057688e+10   \n",
       "2017-06-01          9.666313e+09            1.058295e+10   \n",
       "2017-07-01          9.669006e+09            1.057738e+10   \n",
       "2017-08-01          9.668047e+09            1.058598e+10   \n",
       "2017-09-01          9.673101e+09            1.057962e+10   \n",
       "2017-10-01          9.671035e+09            1.058444e+10   \n",
       "2017-11-01          9.671219e+09            1.058469e+10   \n",
       "2017-12-01          9.669891e+09            1.058749e+10   \n",
       "\n",
       "            RNN-LSTM-12-meses-larga  RNN-LSTM-12-meses-camadas          real  \n",
       "date                                                                          \n",
       "2017-01-01             1.048758e+10               1.073119e+10  1.072886e+10  \n",
       "2017-02-01             1.048406e+10               1.071630e+10  9.732300e+09  \n",
       "2017-03-01             1.045588e+10               1.069976e+10  1.004051e+10  \n",
       "2017-04-01             1.044931e+10               1.069117e+10  1.067568e+10  \n",
       "2017-05-01             1.043702e+10               1.068464e+10  1.014303e+10  \n",
       "2017-06-01             1.041967e+10               1.067998e+10  1.058851e+10  \n",
       "2017-07-01             1.041743e+10               1.068699e+10  1.036689e+10  \n",
       "2017-08-01             1.041099e+10               1.069092e+10  1.068426e+10  \n",
       "2017-09-01             1.040793e+10               1.070635e+10  1.089186e+10  \n",
       "2017-10-01             1.042472e+10               1.072918e+10  1.101721e+10  \n",
       "2017-11-01             1.043319e+10               1.074914e+10  1.124273e+10  \n",
       "2017-12-01             1.044691e+10               1.076964e+10  1.144989e+10  "
      ]
     },
     "execution_count": 90,
     "metadata": {},
     "output_type": "execute_result"
    }
   ],
   "source": [
    "df_prev"
   ]
  },
  {
   "cell_type": "code",
   "execution_count": 91,
   "metadata": {},
   "outputs": [
    {
     "data": {
      "text/html": [
       "<div>\n",
       "<style scoped>\n",
       "    .dataframe tbody tr th:only-of-type {\n",
       "        vertical-align: middle;\n",
       "    }\n",
       "\n",
       "    .dataframe tbody tr th {\n",
       "        vertical-align: top;\n",
       "    }\n",
       "\n",
       "    .dataframe thead th {\n",
       "        text-align: right;\n",
       "    }\n",
       "</style>\n",
       "<table border=\"1\" class=\"dataframe\">\n",
       "  <thead>\n",
       "    <tr style=\"text-align: right;\">\n",
       "      <th></th>\n",
       "      <th>RNN-LSTM-1-mês-larga</th>\n",
       "      <th>RNN-LSTM-1-mês-camadas</th>\n",
       "      <th>RNN-LSTM-12-meses-larga</th>\n",
       "      <th>RNN-LSTM-12-meses-camadas</th>\n",
       "    </tr>\n",
       "  </thead>\n",
       "  <tbody>\n",
       "    <tr>\n",
       "      <th>0</th>\n",
       "      <td>9.890943</td>\n",
       "      <td>2.024913</td>\n",
       "      <td>2.248904</td>\n",
       "      <td>0.021682</td>\n",
       "    </tr>\n",
       "    <tr>\n",
       "      <th>1</th>\n",
       "      <td>0.729719</td>\n",
       "      <td>8.247970</td>\n",
       "      <td>7.724402</td>\n",
       "      <td>10.110658</td>\n",
       "    </tr>\n",
       "    <tr>\n",
       "      <th>2</th>\n",
       "      <td>3.702115</td>\n",
       "      <td>5.252796</td>\n",
       "      <td>4.136941</td>\n",
       "      <td>6.565818</td>\n",
       "    </tr>\n",
       "    <tr>\n",
       "      <th>3</th>\n",
       "      <td>9.448751</td>\n",
       "      <td>0.913767</td>\n",
       "      <td>2.120444</td>\n",
       "      <td>0.145103</td>\n",
       "    </tr>\n",
       "    <tr>\n",
       "      <th>4</th>\n",
       "      <td>4.692334</td>\n",
       "      <td>4.277246</td>\n",
       "      <td>2.898369</td>\n",
       "      <td>5.339739</td>\n",
       "    </tr>\n",
       "    <tr>\n",
       "      <th>5</th>\n",
       "      <td>8.709441</td>\n",
       "      <td>0.052552</td>\n",
       "      <td>1.594586</td>\n",
       "      <td>0.863810</td>\n",
       "    </tr>\n",
       "    <tr>\n",
       "      <th>6</th>\n",
       "      <td>6.731902</td>\n",
       "      <td>2.030355</td>\n",
       "      <td>0.487421</td>\n",
       "      <td>3.087649</td>\n",
       "    </tr>\n",
       "    <tr>\n",
       "      <th>7</th>\n",
       "      <td>9.511297</td>\n",
       "      <td>0.919864</td>\n",
       "      <td>2.557676</td>\n",
       "      <td>0.062379</td>\n",
       "    </tr>\n",
       "    <tr>\n",
       "      <th>8</th>\n",
       "      <td>11.189665</td>\n",
       "      <td>2.866767</td>\n",
       "      <td>4.443057</td>\n",
       "      <td>1.703232</td>\n",
       "    </tr>\n",
       "    <tr>\n",
       "      <th>9</th>\n",
       "      <td>12.218870</td>\n",
       "      <td>3.928128</td>\n",
       "      <td>5.377888</td>\n",
       "      <td>2.614356</td>\n",
       "    </tr>\n",
       "    <tr>\n",
       "      <th>10</th>\n",
       "      <td>13.978034</td>\n",
       "      <td>5.853083</td>\n",
       "      <td>7.200545</td>\n",
       "      <td>4.390364</td>\n",
       "    </tr>\n",
       "    <tr>\n",
       "      <th>11</th>\n",
       "      <td>15.545977</td>\n",
       "      <td>7.531914</td>\n",
       "      <td>8.759683</td>\n",
       "      <td>5.941119</td>\n",
       "    </tr>\n",
       "  </tbody>\n",
       "</table>\n",
       "</div>"
      ],
      "text/plain": [
       "    RNN-LSTM-1-mês-larga  RNN-LSTM-1-mês-camadas  RNN-LSTM-12-meses-larga  \\\n",
       "0               9.890943                2.024913                 2.248904   \n",
       "1               0.729719                8.247970                 7.724402   \n",
       "2               3.702115                5.252796                 4.136941   \n",
       "3               9.448751                0.913767                 2.120444   \n",
       "4               4.692334                4.277246                 2.898369   \n",
       "5               8.709441                0.052552                 1.594586   \n",
       "6               6.731902                2.030355                 0.487421   \n",
       "7               9.511297                0.919864                 2.557676   \n",
       "8              11.189665                2.866767                 4.443057   \n",
       "9              12.218870                3.928128                 5.377888   \n",
       "10             13.978034                5.853083                 7.200545   \n",
       "11             15.545977                7.531914                 8.759683   \n",
       "\n",
       "    RNN-LSTM-12-meses-camadas  \n",
       "0                    0.021682  \n",
       "1                   10.110658  \n",
       "2                    6.565818  \n",
       "3                    0.145103  \n",
       "4                    5.339739  \n",
       "5                    0.863810  \n",
       "6                    3.087649  \n",
       "7                    0.062379  \n",
       "8                    1.703232  \n",
       "9                    2.614356  \n",
       "10                   4.390364  \n",
       "11                   5.941119  "
      ]
     },
     "execution_count": 91,
     "metadata": {},
     "output_type": "execute_result"
    }
   ],
   "source": [
    "df_erro"
   ]
  },
  {
   "cell_type": "markdown",
   "metadata": {},
   "source": [
    "#### Previsões"
   ]
  },
  {
   "cell_type": "code",
   "execution_count": 92,
   "metadata": {},
   "outputs": [
    {
     "data": {
      "image/png": "[encoded data removed]",
      "text/plain": [
       "<Figure size 1080x720 with 1 Axes>"
      ]
     },
     "metadata": {
      "needs_background": "light"
     },
     "output_type": "display_data"
    }
   ],
   "source": [
    "fig = plt.figure(figsize=(15, 10))\n",
    "ax = sns.lineplot(data=df_prev)"
   ]
  },
  {
   "cell_type": "markdown",
   "metadata": {},
   "source": [
    "#### RMSE"
   ]
  },
  {
   "cell_type": "code",
   "execution_count": 93,
   "metadata": {
    "scrolled": false
   },
   "outputs": [
    {
     "data": {
      "image/png": "[encoded data removed]",
      "text/plain": [
       "<Figure size 1080x720 with 1 Axes>"
      ]
     },
     "metadata": {
      "needs_background": "light"
     },
     "output_type": "display_data"
    }
   ],
   "source": [
    "fig = plt.figure(figsize=(15, 10))\n",
    "#df_rmse = df_rmse.drop(['mov_avg_12'], axis=1)\n",
    "ax = sns.barplot(data=df_rmse)\n",
    "_ = plt.xticks(rotation=45)"
   ]
  },
  {
   "cell_type": "markdown",
   "metadata": {},
   "source": [
    "#### MAPE"
   ]
  },
  {
   "cell_type": "code",
   "execution_count": 94,
   "metadata": {
    "scrolled": false
   },
   "outputs": [
    {
     "data": {
      "image/png": "[encoded data removed]",
      "text/plain": [
       "<Figure size 1080x720 with 1 Axes>"
      ]
     },
     "metadata": {
      "needs_background": "light"
     },
     "output_type": "display_data"
    }
   ],
   "source": [
    "fig = plt.figure(figsize=(15, 10))\n",
    "#df_mape = df_mape.drop(['mov_avg_12'], axis=1)\n",
    "ax = sns.barplot(data=df_mape)\n",
    "_ = plt.xticks(rotation=45)"
   ]
  },
  {
   "cell_type": "markdown",
   "metadata": {},
   "source": [
    "### Resumo das métricas"
   ]
  },
  {
   "cell_type": "code",
   "execution_count": 95,
   "metadata": {},
   "outputs": [],
   "source": [
    "df_rmse.index = ['RMSE']\n",
    "df_mape.index = ['MAPE']"
   ]
  },
  {
   "cell_type": "code",
   "execution_count": 96,
   "metadata": {},
   "outputs": [
    {
     "data": {
      "text/html": [
       "<div>\n",
       "<style scoped>\n",
       "    .dataframe tbody tr th:only-of-type {\n",
       "        vertical-align: middle;\n",
       "    }\n",
       "\n",
       "    .dataframe tbody tr th {\n",
       "        vertical-align: top;\n",
       "    }\n",
       "\n",
       "    .dataframe thead th {\n",
       "        text-align: right;\n",
       "    }\n",
       "</style>\n",
       "<table border=\"1\" class=\"dataframe\">\n",
       "  <thead>\n",
       "    <tr style=\"text-align: right;\">\n",
       "      <th></th>\n",
       "      <th>RNN-LSTM-1-mês-larga</th>\n",
       "      <th>RNN-LSTM-1-mês-camadas</th>\n",
       "      <th>RNN-LSTM-12-meses-larga</th>\n",
       "      <th>RNN-LSTM-12-meses-camadas</th>\n",
       "    </tr>\n",
       "  </thead>\n",
       "  <tbody>\n",
       "    <tr>\n",
       "      <th>RMSE</th>\n",
       "      <td>1.073125e+09</td>\n",
       "      <td>4.728441e+08</td>\n",
       "      <td>5.232788e+08</td>\n",
       "      <td>4.682476e+08</td>\n",
       "    </tr>\n",
       "    <tr>\n",
       "      <th>MAPE</th>\n",
       "      <td>8.862421e-02</td>\n",
       "      <td>3.658280e-02</td>\n",
       "      <td>4.129160e-02</td>\n",
       "      <td>3.403826e-02</td>\n",
       "    </tr>\n",
       "  </tbody>\n",
       "</table>\n",
       "</div>"
      ],
      "text/plain": [
       "      RNN-LSTM-1-mês-larga  RNN-LSTM-1-mês-camadas  RNN-LSTM-12-meses-larga  \\\n",
       "RMSE          1.073125e+09            4.728441e+08             5.232788e+08   \n",
       "MAPE          8.862421e-02            3.658280e-02             4.129160e-02   \n",
       "\n",
       "      RNN-LSTM-12-meses-camadas  \n",
       "RMSE               4.682476e+08  \n",
       "MAPE               3.403826e-02  "
      ]
     },
     "execution_count": 96,
     "metadata": {},
     "output_type": "execute_result"
    }
   ],
   "source": [
    "df_metricas = df_rmse.copy()\n",
    "df_metricas = df_metricas.append(df_mape.copy())\n",
    "df_metricas"
   ]
  }
 ],
 "metadata": {
  "kernelspec": {
   "display_name": "Python 3",
   "language": "python",
   "name": "python3"
  },
  "language_info": {
   "codemirror_mode": {
    "name": "ipython",
    "version": 3
   },
   "file_extension": ".py",
   "mimetype": "text/x-python",
   "name": "python",
   "nbconvert_exporter": "python",
   "pygments_lexer": "ipython3",
   "version": "3.6.4"
  }
 },
 "nbformat": 4,
 "nbformat_minor": 2
}
