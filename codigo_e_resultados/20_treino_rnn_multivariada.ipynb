{
 "cells": [
  {
   "cell_type": "markdown",
   "metadata": {},
   "source": [
    "# Aplicação de Modelos de Markov e Redes Neurais LSTM na Previsão de Arrecadação do ICMS Paulista\n",
    "## Resultados 2020\n",
    "\n",
    "### Antonio Sergio Ferreira Bonato"
   ]
  },
  {
   "cell_type": "markdown",
   "metadata": {},
   "source": [
    "Atualmente, na Secretaria da Fazenda e Planejamento do Estado de São Paulo, a previsão de arrecadação do ICMS paulista é feita usando-se um modelo ARIMA com variáveis exógenas, o ARIMAX. Mas o ICMS é não linear e há várias quebras estruturais controladas com diversas *dummies*. A consequência é um modelo bastante sobreajustado, inadequado para previsões de mais longo prazo (mais do que alguns meses, muito menos para um ano). \n",
    "A proposta deste trabalho é utilizar modelos não lineares multivariados na previsão do ICMS paulista, utilizando redes neurais recorrentes LSTM (*Long Short Term Memory*) e modelos Markov-Switching, fazendo um contraponto entre estes dois modelos. E utilizar, como baseline de comparação, o modelo ARIMAX atual. \n",
    "\n",
    "**Palavras-chave**: Markov-Switching Models. Redes Neurais Recorrentes. LSTM. ICMS."
   ]
  },
  {
   "cell_type": "markdown",
   "metadata": {},
   "source": [
    "## Treino das RNN-LSTM Multivariadas"
   ]
  },
  {
   "cell_type": "code",
   "execution_count": 1,
   "metadata": {},
   "outputs": [],
   "source": [
    "import pandas as pd\n",
    "import numpy as np\n",
    "import seaborn as sns\n",
    "import matplotlib.pyplot as plt\n",
    "import statsmodels.tsa.stattools\n",
    "import statsmodels.tsa.x13\n",
    "import statsmodels.graphics.tsaplots\n",
    "import statsmodels.api as sm\n",
    "from statsmodels.graphics.api import qqplot\n",
    "from statsmodels.tsa.api import acf, graphics, pacf\n",
    "from statsmodels.tsa.arima.model import ARIMA\n",
    "import pickle\n",
    "from pmdarima.arima import auto_arima\n",
    "from sklearn.metrics import mean_squared_error, mean_absolute_percentage_error\n",
    "import random\n",
    "import tensorflow as tf\n",
    "seed = 42\n",
    "random.seed(seed)\n",
    "np.random.seed(seed)\n",
    "tf.random.set_seed(seed)\n",
    "\n",
    "sns.set()\n",
    "sns.set_context(\"notebook\")\n",
    "sns.set(rc={'figure.figsize':(15,8)})"
   ]
  },
  {
   "cell_type": "code",
   "execution_count": 2,
   "metadata": {},
   "outputs": [],
   "source": [
    "import warnings\n",
    "warnings.filterwarnings('ignore')\n",
    "warnings.simplefilter('ignore')"
   ]
  },
  {
   "cell_type": "code",
   "execution_count": 3,
   "metadata": {},
   "outputs": [
    {
     "data": {
      "text/html": [
       "<div>\n",
       "<style scoped>\n",
       "    .dataframe tbody tr th:only-of-type {\n",
       "        vertical-align: middle;\n",
       "    }\n",
       "\n",
       "    .dataframe tbody tr th {\n",
       "        vertical-align: top;\n",
       "    }\n",
       "\n",
       "    .dataframe thead th {\n",
       "        text-align: right;\n",
       "    }\n",
       "</style>\n",
       "<table border=\"1\" class=\"dataframe\">\n",
       "  <thead>\n",
       "    <tr style=\"text-align: right;\">\n",
       "      <th></th>\n",
       "      <th>date</th>\n",
       "      <th>icms_sp</th>\n",
       "      <th>igp_m</th>\n",
       "      <th>dolar</th>\n",
       "      <th>ibc_br</th>\n",
       "      <th>dias_uteis</th>\n",
       "      <th>igp_m_22</th>\n",
       "      <th>dolar_22</th>\n",
       "      <th>ibc_br_22</th>\n",
       "      <th>igp_m_21</th>\n",
       "      <th>...</th>\n",
       "      <th>ibc_br_16</th>\n",
       "      <th>igp_m_15</th>\n",
       "      <th>dolar_15</th>\n",
       "      <th>ibc_br_15</th>\n",
       "      <th>igp_m_14</th>\n",
       "      <th>dolar_14</th>\n",
       "      <th>ibc_br_14</th>\n",
       "      <th>igp_m_13</th>\n",
       "      <th>dolar_13</th>\n",
       "      <th>ibc_br_13</th>\n",
       "    </tr>\n",
       "  </thead>\n",
       "  <tbody>\n",
       "    <tr>\n",
       "      <th>0</th>\n",
       "      <td>2003-01-01</td>\n",
       "      <td>3.360296e+09</td>\n",
       "      <td>277.173</td>\n",
       "      <td>3.4384</td>\n",
       "      <td>96.15</td>\n",
       "      <td>22</td>\n",
       "      <td>277.173</td>\n",
       "      <td>3.4384</td>\n",
       "      <td>96.15</td>\n",
       "      <td>277.173</td>\n",
       "      <td>...</td>\n",
       "      <td>96.15</td>\n",
       "      <td>277.173</td>\n",
       "      <td>3.4384</td>\n",
       "      <td>96.15</td>\n",
       "      <td>277.173</td>\n",
       "      <td>3.4384</td>\n",
       "      <td>96.15</td>\n",
       "      <td>277.173</td>\n",
       "      <td>3.4384</td>\n",
       "      <td>96.15</td>\n",
       "    </tr>\n",
       "    <tr>\n",
       "      <th>1</th>\n",
       "      <td>2003-02-01</td>\n",
       "      <td>3.196558e+09</td>\n",
       "      <td>283.506</td>\n",
       "      <td>3.5908</td>\n",
       "      <td>98.67</td>\n",
       "      <td>20</td>\n",
       "      <td>283.506</td>\n",
       "      <td>3.5908</td>\n",
       "      <td>98.67</td>\n",
       "      <td>283.506</td>\n",
       "      <td>...</td>\n",
       "      <td>98.67</td>\n",
       "      <td>283.506</td>\n",
       "      <td>3.5908</td>\n",
       "      <td>98.67</td>\n",
       "      <td>283.506</td>\n",
       "      <td>3.5908</td>\n",
       "      <td>98.67</td>\n",
       "      <td>283.506</td>\n",
       "      <td>3.5908</td>\n",
       "      <td>98.67</td>\n",
       "    </tr>\n",
       "    <tr>\n",
       "      <th>2</th>\n",
       "      <td>2003-03-01</td>\n",
       "      <td>3.160011e+09</td>\n",
       "      <td>287.855</td>\n",
       "      <td>3.4469</td>\n",
       "      <td>103.41</td>\n",
       "      <td>19</td>\n",
       "      <td>287.855</td>\n",
       "      <td>3.4469</td>\n",
       "      <td>103.41</td>\n",
       "      <td>287.855</td>\n",
       "      <td>...</td>\n",
       "      <td>103.41</td>\n",
       "      <td>287.855</td>\n",
       "      <td>3.4469</td>\n",
       "      <td>103.41</td>\n",
       "      <td>287.855</td>\n",
       "      <td>3.4469</td>\n",
       "      <td>103.41</td>\n",
       "      <td>287.855</td>\n",
       "      <td>3.4469</td>\n",
       "      <td>103.41</td>\n",
       "    </tr>\n",
       "    <tr>\n",
       "      <th>3</th>\n",
       "      <td>2003-04-01</td>\n",
       "      <td>3.215307e+09</td>\n",
       "      <td>290.512</td>\n",
       "      <td>3.1187</td>\n",
       "      <td>102.19</td>\n",
       "      <td>20</td>\n",
       "      <td>290.512</td>\n",
       "      <td>3.1187</td>\n",
       "      <td>102.19</td>\n",
       "      <td>290.512</td>\n",
       "      <td>...</td>\n",
       "      <td>102.19</td>\n",
       "      <td>290.512</td>\n",
       "      <td>3.1187</td>\n",
       "      <td>102.19</td>\n",
       "      <td>290.512</td>\n",
       "      <td>3.1187</td>\n",
       "      <td>102.19</td>\n",
       "      <td>290.512</td>\n",
       "      <td>3.1187</td>\n",
       "      <td>102.19</td>\n",
       "    </tr>\n",
       "    <tr>\n",
       "      <th>4</th>\n",
       "      <td>2003-05-01</td>\n",
       "      <td>3.098930e+09</td>\n",
       "      <td>289.747</td>\n",
       "      <td>2.9557</td>\n",
       "      <td>100.30</td>\n",
       "      <td>21</td>\n",
       "      <td>289.747</td>\n",
       "      <td>2.9557</td>\n",
       "      <td>100.30</td>\n",
       "      <td>289.747</td>\n",
       "      <td>...</td>\n",
       "      <td>100.30</td>\n",
       "      <td>289.747</td>\n",
       "      <td>2.9557</td>\n",
       "      <td>100.30</td>\n",
       "      <td>289.747</td>\n",
       "      <td>2.9557</td>\n",
       "      <td>100.30</td>\n",
       "      <td>289.747</td>\n",
       "      <td>2.9557</td>\n",
       "      <td>100.30</td>\n",
       "    </tr>\n",
       "  </tbody>\n",
       "</table>\n",
       "<p>5 rows × 36 columns</p>\n",
       "</div>"
      ],
      "text/plain": [
       "        date       icms_sp    igp_m   dolar  ibc_br  dias_uteis  igp_m_22  \\\n",
       "0 2003-01-01  3.360296e+09  277.173  3.4384   96.15          22   277.173   \n",
       "1 2003-02-01  3.196558e+09  283.506  3.5908   98.67          20   283.506   \n",
       "2 2003-03-01  3.160011e+09  287.855  3.4469  103.41          19   287.855   \n",
       "3 2003-04-01  3.215307e+09  290.512  3.1187  102.19          20   290.512   \n",
       "4 2003-05-01  3.098930e+09  289.747  2.9557  100.30          21   289.747   \n",
       "\n",
       "   dolar_22  ibc_br_22  igp_m_21  ...  ibc_br_16  igp_m_15  dolar_15  \\\n",
       "0    3.4384      96.15   277.173  ...      96.15   277.173    3.4384   \n",
       "1    3.5908      98.67   283.506  ...      98.67   283.506    3.5908   \n",
       "2    3.4469     103.41   287.855  ...     103.41   287.855    3.4469   \n",
       "3    3.1187     102.19   290.512  ...     102.19   290.512    3.1187   \n",
       "4    2.9557     100.30   289.747  ...     100.30   289.747    2.9557   \n",
       "\n",
       "   ibc_br_15  igp_m_14  dolar_14  ibc_br_14  igp_m_13  dolar_13  ibc_br_13  \n",
       "0      96.15   277.173    3.4384      96.15   277.173    3.4384      96.15  \n",
       "1      98.67   283.506    3.5908      98.67   283.506    3.5908      98.67  \n",
       "2     103.41   287.855    3.4469     103.41   287.855    3.4469     103.41  \n",
       "3     102.19   290.512    3.1187     102.19   290.512    3.1187     102.19  \n",
       "4     100.30   289.747    2.9557     100.30   289.747    2.9557     100.30  \n",
       "\n",
       "[5 rows x 36 columns]"
      ]
     },
     "execution_count": 3,
     "metadata": {},
     "output_type": "execute_result"
    }
   ],
   "source": [
    "df_main_orig = pd.read_excel(\"variaveis_previsao.xlsx\", parse_dates=['date'])\n",
    "df_main_orig.head()"
   ]
  },
  {
   "cell_type": "code",
   "execution_count": 4,
   "metadata": {},
   "outputs": [
    {
     "data": {
      "text/html": [
       "<div>\n",
       "<style scoped>\n",
       "    .dataframe tbody tr th:only-of-type {\n",
       "        vertical-align: middle;\n",
       "    }\n",
       "\n",
       "    .dataframe tbody tr th {\n",
       "        vertical-align: top;\n",
       "    }\n",
       "\n",
       "    .dataframe thead th {\n",
       "        text-align: right;\n",
       "    }\n",
       "</style>\n",
       "<table border=\"1\" class=\"dataframe\">\n",
       "  <thead>\n",
       "    <tr style=\"text-align: right;\">\n",
       "      <th></th>\n",
       "      <th>date</th>\n",
       "      <th>icms_sp</th>\n",
       "      <th>igp_m</th>\n",
       "      <th>dolar</th>\n",
       "      <th>ibc_br</th>\n",
       "      <th>dias_uteis</th>\n",
       "      <th>igp_m_22</th>\n",
       "      <th>dolar_22</th>\n",
       "      <th>ibc_br_22</th>\n",
       "      <th>igp_m_21</th>\n",
       "      <th>...</th>\n",
       "      <th>ibc_br_16</th>\n",
       "      <th>igp_m_15</th>\n",
       "      <th>dolar_15</th>\n",
       "      <th>ibc_br_15</th>\n",
       "      <th>igp_m_14</th>\n",
       "      <th>dolar_14</th>\n",
       "      <th>ibc_br_14</th>\n",
       "      <th>igp_m_13</th>\n",
       "      <th>dolar_13</th>\n",
       "      <th>ibc_br_13</th>\n",
       "    </tr>\n",
       "  </thead>\n",
       "  <tbody>\n",
       "    <tr>\n",
       "      <th>235</th>\n",
       "      <td>2022-08-01</td>\n",
       "      <td>1.756224e+10</td>\n",
       "      <td>1185.004</td>\n",
       "      <td>5.143287</td>\n",
       "      <td>149.60</td>\n",
       "      <td>23</td>\n",
       "      <td>1137.167829</td>\n",
       "      <td>5.6496</td>\n",
       "      <td>146.408337</td>\n",
       "      <td>NaN</td>\n",
       "      <td>...</td>\n",
       "      <td>NaN</td>\n",
       "      <td>NaN</td>\n",
       "      <td>NaN</td>\n",
       "      <td>NaN</td>\n",
       "      <td>NaN</td>\n",
       "      <td>NaN</td>\n",
       "      <td>NaN</td>\n",
       "      <td>NaN</td>\n",
       "      <td>NaN</td>\n",
       "      <td>NaN</td>\n",
       "    </tr>\n",
       "    <tr>\n",
       "      <th>236</th>\n",
       "      <td>2022-09-01</td>\n",
       "      <td>1.726287e+10</td>\n",
       "      <td>1173.793</td>\n",
       "      <td>5.236957</td>\n",
       "      <td>144.44</td>\n",
       "      <td>21</td>\n",
       "      <td>1143.597376</td>\n",
       "      <td>5.6800</td>\n",
       "      <td>142.808302</td>\n",
       "      <td>NaN</td>\n",
       "      <td>...</td>\n",
       "      <td>NaN</td>\n",
       "      <td>NaN</td>\n",
       "      <td>NaN</td>\n",
       "      <td>NaN</td>\n",
       "      <td>NaN</td>\n",
       "      <td>NaN</td>\n",
       "      <td>NaN</td>\n",
       "      <td>NaN</td>\n",
       "      <td>NaN</td>\n",
       "      <td>NaN</td>\n",
       "    </tr>\n",
       "    <tr>\n",
       "      <th>237</th>\n",
       "      <td>2022-10-01</td>\n",
       "      <td>1.565000e+10</td>\n",
       "      <td>1162.391</td>\n",
       "      <td>5.250300</td>\n",
       "      <td>142.34</td>\n",
       "      <td>20</td>\n",
       "      <td>1150.115881</td>\n",
       "      <td>5.6700</td>\n",
       "      <td>144.063428</td>\n",
       "      <td>NaN</td>\n",
       "      <td>...</td>\n",
       "      <td>NaN</td>\n",
       "      <td>NaN</td>\n",
       "      <td>NaN</td>\n",
       "      <td>NaN</td>\n",
       "      <td>NaN</td>\n",
       "      <td>NaN</td>\n",
       "      <td>NaN</td>\n",
       "      <td>NaN</td>\n",
       "      <td>NaN</td>\n",
       "      <td>NaN</td>\n",
       "    </tr>\n",
       "    <tr>\n",
       "      <th>238</th>\n",
       "      <td>2022-11-01</td>\n",
       "      <td>1.605000e+10</td>\n",
       "      <td>1155.829</td>\n",
       "      <td>5.274650</td>\n",
       "      <td>140.80</td>\n",
       "      <td>20</td>\n",
       "      <td>1155.866460</td>\n",
       "      <td>5.6000</td>\n",
       "      <td>143.165409</td>\n",
       "      <td>NaN</td>\n",
       "      <td>...</td>\n",
       "      <td>NaN</td>\n",
       "      <td>NaN</td>\n",
       "      <td>NaN</td>\n",
       "      <td>NaN</td>\n",
       "      <td>NaN</td>\n",
       "      <td>NaN</td>\n",
       "      <td>NaN</td>\n",
       "      <td>NaN</td>\n",
       "      <td>NaN</td>\n",
       "      <td>NaN</td>\n",
       "    </tr>\n",
       "    <tr>\n",
       "      <th>239</th>\n",
       "      <td>2022-12-01</td>\n",
       "      <td>1.767135e+10</td>\n",
       "      <td>1161.006</td>\n",
       "      <td>5.242432</td>\n",
       "      <td>142.78</td>\n",
       "      <td>22</td>\n",
       "      <td>1161.645792</td>\n",
       "      <td>5.6000</td>\n",
       "      <td>141.405133</td>\n",
       "      <td>NaN</td>\n",
       "      <td>...</td>\n",
       "      <td>NaN</td>\n",
       "      <td>NaN</td>\n",
       "      <td>NaN</td>\n",
       "      <td>NaN</td>\n",
       "      <td>NaN</td>\n",
       "      <td>NaN</td>\n",
       "      <td>NaN</td>\n",
       "      <td>NaN</td>\n",
       "      <td>NaN</td>\n",
       "      <td>NaN</td>\n",
       "    </tr>\n",
       "  </tbody>\n",
       "</table>\n",
       "<p>5 rows × 36 columns</p>\n",
       "</div>"
      ],
      "text/plain": [
       "          date       icms_sp     igp_m     dolar  ibc_br  dias_uteis  \\\n",
       "235 2022-08-01  1.756224e+10  1185.004  5.143287  149.60          23   \n",
       "236 2022-09-01  1.726287e+10  1173.793  5.236957  144.44          21   \n",
       "237 2022-10-01  1.565000e+10  1162.391  5.250300  142.34          20   \n",
       "238 2022-11-01  1.605000e+10  1155.829  5.274650  140.80          20   \n",
       "239 2022-12-01  1.767135e+10  1161.006  5.242432  142.78          22   \n",
       "\n",
       "        igp_m_22  dolar_22   ibc_br_22  igp_m_21  ...  ibc_br_16  igp_m_15  \\\n",
       "235  1137.167829    5.6496  146.408337       NaN  ...        NaN       NaN   \n",
       "236  1143.597376    5.6800  142.808302       NaN  ...        NaN       NaN   \n",
       "237  1150.115881    5.6700  144.063428       NaN  ...        NaN       NaN   \n",
       "238  1155.866460    5.6000  143.165409       NaN  ...        NaN       NaN   \n",
       "239  1161.645792    5.6000  141.405133       NaN  ...        NaN       NaN   \n",
       "\n",
       "     dolar_15  ibc_br_15  igp_m_14  dolar_14  ibc_br_14  igp_m_13  dolar_13  \\\n",
       "235       NaN        NaN       NaN       NaN        NaN       NaN       NaN   \n",
       "236       NaN        NaN       NaN       NaN        NaN       NaN       NaN   \n",
       "237       NaN        NaN       NaN       NaN        NaN       NaN       NaN   \n",
       "238       NaN        NaN       NaN       NaN        NaN       NaN       NaN   \n",
       "239       NaN        NaN       NaN       NaN        NaN       NaN       NaN   \n",
       "\n",
       "     ibc_br_13  \n",
       "235        NaN  \n",
       "236        NaN  \n",
       "237        NaN  \n",
       "238        NaN  \n",
       "239        NaN  \n",
       "\n",
       "[5 rows x 36 columns]"
      ]
     },
     "execution_count": 4,
     "metadata": {},
     "output_type": "execute_result"
    }
   ],
   "source": [
    "df_main_orig.tail()"
   ]
  },
  {
   "cell_type": "code",
   "execution_count": 5,
   "metadata": {},
   "outputs": [
    {
     "name": "stdout",
     "output_type": "stream",
     "text": [
      "<class 'pandas.core.frame.DataFrame'>\n",
      "RangeIndex: 240 entries, 0 to 239\n",
      "Data columns (total 36 columns):\n",
      " #   Column      Non-Null Count  Dtype         \n",
      "---  ------      --------------  -----         \n",
      " 0   date        240 non-null    datetime64[ns]\n",
      " 1   icms_sp     240 non-null    float64       \n",
      " 2   igp_m       240 non-null    float64       \n",
      " 3   dolar       240 non-null    float64       \n",
      " 4   ibc_br      240 non-null    float64       \n",
      " 5   dias_uteis  240 non-null    int64         \n",
      " 6   igp_m_22    240 non-null    float64       \n",
      " 7   dolar_22    240 non-null    float64       \n",
      " 8   ibc_br_22   240 non-null    float64       \n",
      " 9   igp_m_21    228 non-null    float64       \n",
      " 10  dolar_21    228 non-null    float64       \n",
      " 11  ibc_br_21   228 non-null    float64       \n",
      " 12  igp_m_20    216 non-null    float64       \n",
      " 13  dolar_20    216 non-null    float64       \n",
      " 14  ibc_br_20   216 non-null    float64       \n",
      " 15  igp_m_19    204 non-null    float64       \n",
      " 16  dolar_19    204 non-null    float64       \n",
      " 17  ibc_br_19   204 non-null    float64       \n",
      " 18  igp_m_18    192 non-null    float64       \n",
      " 19  dolar_18    192 non-null    float64       \n",
      " 20  ibc_br_18   192 non-null    float64       \n",
      " 21  igp_m_17    180 non-null    float64       \n",
      " 22  dolar_17    180 non-null    float64       \n",
      " 23  ibc_br_17   180 non-null    float64       \n",
      " 24  igp_m_16    168 non-null    float64       \n",
      " 25  dolar_16    168 non-null    float64       \n",
      " 26  ibc_br_16   168 non-null    float64       \n",
      " 27  igp_m_15    156 non-null    float64       \n",
      " 28  dolar_15    156 non-null    float64       \n",
      " 29  ibc_br_15   156 non-null    float64       \n",
      " 30  igp_m_14    144 non-null    float64       \n",
      " 31  dolar_14    144 non-null    float64       \n",
      " 32  ibc_br_14   144 non-null    float64       \n",
      " 33  igp_m_13    132 non-null    float64       \n",
      " 34  dolar_13    132 non-null    float64       \n",
      " 35  ibc_br_13   132 non-null    float64       \n",
      "dtypes: datetime64[ns](1), float64(34), int64(1)\n",
      "memory usage: 67.6 KB\n"
     ]
    }
   ],
   "source": [
    "df_main_orig.info()"
   ]
  },
  {
   "cell_type": "markdown",
   "metadata": {},
   "source": [
    "Removendo as últimas linhas que são todas NaN"
   ]
  },
  {
   "cell_type": "code",
   "execution_count": 6,
   "metadata": {},
   "outputs": [],
   "source": [
    "df_main = df_main_orig.iloc[0:216]\n",
    "datas = df_main['date']"
   ]
  },
  {
   "cell_type": "code",
   "execution_count": 7,
   "metadata": {},
   "outputs": [
    {
     "data": {
      "text/html": [
       "<div>\n",
       "<style scoped>\n",
       "    .dataframe tbody tr th:only-of-type {\n",
       "        vertical-align: middle;\n",
       "    }\n",
       "\n",
       "    .dataframe tbody tr th {\n",
       "        vertical-align: top;\n",
       "    }\n",
       "\n",
       "    .dataframe thead th {\n",
       "        text-align: right;\n",
       "    }\n",
       "</style>\n",
       "<table border=\"1\" class=\"dataframe\">\n",
       "  <thead>\n",
       "    <tr style=\"text-align: right;\">\n",
       "      <th></th>\n",
       "      <th>date</th>\n",
       "      <th>icms_sp</th>\n",
       "      <th>igp_m</th>\n",
       "      <th>dolar</th>\n",
       "      <th>ibc_br</th>\n",
       "      <th>dias_uteis</th>\n",
       "      <th>igp_m_22</th>\n",
       "      <th>dolar_22</th>\n",
       "      <th>ibc_br_22</th>\n",
       "      <th>igp_m_21</th>\n",
       "      <th>...</th>\n",
       "      <th>ibc_br_16</th>\n",
       "      <th>igp_m_15</th>\n",
       "      <th>dolar_15</th>\n",
       "      <th>ibc_br_15</th>\n",
       "      <th>igp_m_14</th>\n",
       "      <th>dolar_14</th>\n",
       "      <th>ibc_br_14</th>\n",
       "      <th>igp_m_13</th>\n",
       "      <th>dolar_13</th>\n",
       "      <th>ibc_br_13</th>\n",
       "    </tr>\n",
       "  </thead>\n",
       "  <tbody>\n",
       "    <tr>\n",
       "      <th>211</th>\n",
       "      <td>2020-08-01</td>\n",
       "      <td>1.227731e+10</td>\n",
       "      <td>832.313</td>\n",
       "      <td>5.461233</td>\n",
       "      <td>135.61</td>\n",
       "      <td>21</td>\n",
       "      <td>832.313</td>\n",
       "      <td>5.461233</td>\n",
       "      <td>135.61</td>\n",
       "      <td>832.313</td>\n",
       "      <td>...</td>\n",
       "      <td>NaN</td>\n",
       "      <td>NaN</td>\n",
       "      <td>NaN</td>\n",
       "      <td>NaN</td>\n",
       "      <td>NaN</td>\n",
       "      <td>NaN</td>\n",
       "      <td>NaN</td>\n",
       "      <td>NaN</td>\n",
       "      <td>NaN</td>\n",
       "      <td>NaN</td>\n",
       "    </tr>\n",
       "    <tr>\n",
       "      <th>212</th>\n",
       "      <td>2020-09-01</td>\n",
       "      <td>1.309835e+10</td>\n",
       "      <td>868.442</td>\n",
       "      <td>5.399486</td>\n",
       "      <td>137.09</td>\n",
       "      <td>21</td>\n",
       "      <td>868.442</td>\n",
       "      <td>5.399486</td>\n",
       "      <td>137.09</td>\n",
       "      <td>868.442</td>\n",
       "      <td>...</td>\n",
       "      <td>NaN</td>\n",
       "      <td>NaN</td>\n",
       "      <td>NaN</td>\n",
       "      <td>NaN</td>\n",
       "      <td>NaN</td>\n",
       "      <td>NaN</td>\n",
       "      <td>NaN</td>\n",
       "      <td>NaN</td>\n",
       "      <td>NaN</td>\n",
       "      <td>NaN</td>\n",
       "    </tr>\n",
       "    <tr>\n",
       "      <th>213</th>\n",
       "      <td>2020-10-01</td>\n",
       "      <td>1.387787e+10</td>\n",
       "      <td>896.505</td>\n",
       "      <td>5.625790</td>\n",
       "      <td>139.80</td>\n",
       "      <td>21</td>\n",
       "      <td>896.505</td>\n",
       "      <td>5.625790</td>\n",
       "      <td>139.80</td>\n",
       "      <td>896.505</td>\n",
       "      <td>...</td>\n",
       "      <td>NaN</td>\n",
       "      <td>NaN</td>\n",
       "      <td>NaN</td>\n",
       "      <td>NaN</td>\n",
       "      <td>NaN</td>\n",
       "      <td>NaN</td>\n",
       "      <td>NaN</td>\n",
       "      <td>NaN</td>\n",
       "      <td>NaN</td>\n",
       "      <td>NaN</td>\n",
       "    </tr>\n",
       "    <tr>\n",
       "      <th>214</th>\n",
       "      <td>2020-11-01</td>\n",
       "      <td>1.474590e+10</td>\n",
       "      <td>925.887</td>\n",
       "      <td>5.417835</td>\n",
       "      <td>138.14</td>\n",
       "      <td>20</td>\n",
       "      <td>925.887</td>\n",
       "      <td>5.417835</td>\n",
       "      <td>138.14</td>\n",
       "      <td>925.887</td>\n",
       "      <td>...</td>\n",
       "      <td>NaN</td>\n",
       "      <td>NaN</td>\n",
       "      <td>NaN</td>\n",
       "      <td>NaN</td>\n",
       "      <td>NaN</td>\n",
       "      <td>NaN</td>\n",
       "      <td>NaN</td>\n",
       "      <td>NaN</td>\n",
       "      <td>NaN</td>\n",
       "      <td>NaN</td>\n",
       "    </tr>\n",
       "    <tr>\n",
       "      <th>215</th>\n",
       "      <td>2020-12-01</td>\n",
       "      <td>1.490640e+10</td>\n",
       "      <td>934.758</td>\n",
       "      <td>5.145586</td>\n",
       "      <td>139.27</td>\n",
       "      <td>22</td>\n",
       "      <td>934.758</td>\n",
       "      <td>5.145586</td>\n",
       "      <td>139.27</td>\n",
       "      <td>934.758</td>\n",
       "      <td>...</td>\n",
       "      <td>NaN</td>\n",
       "      <td>NaN</td>\n",
       "      <td>NaN</td>\n",
       "      <td>NaN</td>\n",
       "      <td>NaN</td>\n",
       "      <td>NaN</td>\n",
       "      <td>NaN</td>\n",
       "      <td>NaN</td>\n",
       "      <td>NaN</td>\n",
       "      <td>NaN</td>\n",
       "    </tr>\n",
       "  </tbody>\n",
       "</table>\n",
       "<p>5 rows × 36 columns</p>\n",
       "</div>"
      ],
      "text/plain": [
       "          date       icms_sp    igp_m     dolar  ibc_br  dias_uteis  igp_m_22  \\\n",
       "211 2020-08-01  1.227731e+10  832.313  5.461233  135.61          21   832.313   \n",
       "212 2020-09-01  1.309835e+10  868.442  5.399486  137.09          21   868.442   \n",
       "213 2020-10-01  1.387787e+10  896.505  5.625790  139.80          21   896.505   \n",
       "214 2020-11-01  1.474590e+10  925.887  5.417835  138.14          20   925.887   \n",
       "215 2020-12-01  1.490640e+10  934.758  5.145586  139.27          22   934.758   \n",
       "\n",
       "     dolar_22  ibc_br_22  igp_m_21  ...  ibc_br_16  igp_m_15  dolar_15  \\\n",
       "211  5.461233     135.61   832.313  ...        NaN       NaN       NaN   \n",
       "212  5.399486     137.09   868.442  ...        NaN       NaN       NaN   \n",
       "213  5.625790     139.80   896.505  ...        NaN       NaN       NaN   \n",
       "214  5.417835     138.14   925.887  ...        NaN       NaN       NaN   \n",
       "215  5.145586     139.27   934.758  ...        NaN       NaN       NaN   \n",
       "\n",
       "     ibc_br_15  igp_m_14  dolar_14  ibc_br_14  igp_m_13  dolar_13  ibc_br_13  \n",
       "211        NaN       NaN       NaN        NaN       NaN       NaN        NaN  \n",
       "212        NaN       NaN       NaN        NaN       NaN       NaN        NaN  \n",
       "213        NaN       NaN       NaN        NaN       NaN       NaN        NaN  \n",
       "214        NaN       NaN       NaN        NaN       NaN       NaN        NaN  \n",
       "215        NaN       NaN       NaN        NaN       NaN       NaN        NaN  \n",
       "\n",
       "[5 rows x 36 columns]"
      ]
     },
     "execution_count": 7,
     "metadata": {},
     "output_type": "execute_result"
    }
   ],
   "source": [
    "df_main.tail()"
   ]
  },
  {
   "cell_type": "markdown",
   "metadata": {},
   "source": [
    "### Criação das Séries\n",
    "Como os valores do ICMS são muito elevados a série será colocada em log."
   ]
  },
  {
   "cell_type": "code",
   "execution_count": 8,
   "metadata": {},
   "outputs": [],
   "source": [
    "icms_ts = pd.Series(np.log(list(df_main['icms_sp'])), index = datas)\n",
    "ibcbr_ts = pd.Series(list(df_main['ibc_br']), index = datas)\n",
    "igpm_ts = pd.Series(list(df_main['igp_m']), index = datas)\n",
    "dolar_ts = pd.Series(list(df_main['dolar']), index = datas)\n",
    "dias_uteis_ts = pd.Series(list(df_main['dias_uteis']), index = datas)"
   ]
  },
  {
   "cell_type": "markdown",
   "metadata": {},
   "source": [
    "#### Testes de Valores Nulos"
   ]
  },
  {
   "cell_type": "code",
   "execution_count": 9,
   "metadata": {},
   "outputs": [
    {
     "name": "stdout",
     "output_type": "stream",
     "text": [
      "ICMS 0\n",
      "IBC-Br 0\n",
      "IGP-DI 0\n",
      "Dólar 0\n",
      "Dias Úteis 0\n"
     ]
    }
   ],
   "source": [
    "print('ICMS', icms_ts.isnull().sum())\n",
    "print('IBC-Br', ibcbr_ts.isnull().sum())\n",
    "print('IGP-DI', igpm_ts.isnull().sum())\n",
    "print('Dólar', dolar_ts.isnull().sum())\n",
    "print('Dias Úteis', dias_uteis_ts.isnull().sum())"
   ]
  },
  {
   "cell_type": "markdown",
   "metadata": {},
   "source": [
    "### Plotando a Série em Nível"
   ]
  },
  {
   "cell_type": "code",
   "execution_count": 10,
   "metadata": {},
   "outputs": [
    {
     "data": {
      "image/png": "[encoded data removed]",
      "text/plain": [
       "<Figure size 1080x2160 with 5 Axes>"
      ]
     },
     "metadata": {
      "needs_background": "light"
     },
     "output_type": "display_data"
    }
   ],
   "source": [
    "fig=plt.figure(figsize=(15, 30))\n",
    "ax1=fig.add_subplot(511)\n",
    "ax2=fig.add_subplot(512)\n",
    "ax3=fig.add_subplot(513)\n",
    "ax4=fig.add_subplot(514)\n",
    "ax5=fig.add_subplot(515)\n",
    "#plots\n",
    "ax1.plot(icms_ts, 'tab:blue', label='Log ICMS SP')\n",
    "ax1.legend(loc='best')\n",
    "ax2.plot(dias_uteis_ts, 'tab:purple', label='Dias Úteis')\n",
    "ax2.legend(loc='best')\n",
    "ax3.plot(ibcbr_ts, 'tab:orange',  label='IBC-BR')\n",
    "ax3.legend(loc='best')\n",
    "ax4.plot(igpm_ts, 'tab:gray', label='IGP-M')\n",
    "ax4.legend(loc='best')\n",
    "ax5.plot(dolar_ts, 'tab:green', label='Dólar')\n",
    "ax5.legend(loc='best')\n",
    "plt.show()"
   ]
  },
  {
   "cell_type": "markdown",
   "metadata": {},
   "source": [
    "## Preparação para Previsões"
   ]
  },
  {
   "cell_type": "markdown",
   "metadata": {},
   "source": [
    "O artigo usa, além de MAPE e MSE, o erro relativo, que é \n",
    "\n",
    "$Erro Relativo = \\frac{|previsão - real|}{real}$"
   ]
  },
  {
   "cell_type": "code",
   "execution_count": 11,
   "metadata": {},
   "outputs": [],
   "source": [
    "def erro_relativo(prev, real):\n",
    "    return 100*np.absolute(prev-real)/real"
   ]
  },
  {
   "cell_type": "markdown",
   "metadata": {},
   "source": [
    "#### Dicionário de Previsões"
   ]
  },
  {
   "cell_type": "code",
   "execution_count": 12,
   "metadata": {},
   "outputs": [],
   "source": [
    "previsoes = {\n",
    "    'nome':[],\n",
    "    'modelo': [],\n",
    "    'previsoes': [],\n",
    "    'rmse': [],\n",
    "    'mape': [],\n",
    "    'erro relativo':[]\n",
    "}"
   ]
  },
  {
   "cell_type": "markdown",
   "metadata": {},
   "source": [
    "### Separando a amostra em treinamento (in-sample) e teste (out-of-sample)\n",
    "Serão usadas as séries com sazonalidade e em nível e as questões de sazonalidade e estacionariedade serão tratadas pelo modelo."
   ]
  },
  {
   "cell_type": "code",
   "execution_count": 13,
   "metadata": {},
   "outputs": [
    {
     "data": {
      "text/html": [
       "<div>\n",
       "<style scoped>\n",
       "    .dataframe tbody tr th:only-of-type {\n",
       "        vertical-align: middle;\n",
       "    }\n",
       "\n",
       "    .dataframe tbody tr th {\n",
       "        vertical-align: top;\n",
       "    }\n",
       "\n",
       "    .dataframe thead th {\n",
       "        text-align: right;\n",
       "    }\n",
       "</style>\n",
       "<table border=\"1\" class=\"dataframe\">\n",
       "  <thead>\n",
       "    <tr style=\"text-align: right;\">\n",
       "      <th></th>\n",
       "      <th>ibcbr</th>\n",
       "      <th>igpdi</th>\n",
       "      <th>dolar</th>\n",
       "      <th>dias_uteis</th>\n",
       "    </tr>\n",
       "    <tr>\n",
       "      <th>date</th>\n",
       "      <th></th>\n",
       "      <th></th>\n",
       "      <th></th>\n",
       "      <th></th>\n",
       "    </tr>\n",
       "  </thead>\n",
       "  <tbody>\n",
       "    <tr>\n",
       "      <th>2003-01-01</th>\n",
       "      <td>96.15</td>\n",
       "      <td>277.173</td>\n",
       "      <td>3.4384</td>\n",
       "      <td>22.0</td>\n",
       "    </tr>\n",
       "    <tr>\n",
       "      <th>2003-02-01</th>\n",
       "      <td>98.67</td>\n",
       "      <td>283.506</td>\n",
       "      <td>3.5908</td>\n",
       "      <td>20.0</td>\n",
       "    </tr>\n",
       "    <tr>\n",
       "      <th>2003-03-01</th>\n",
       "      <td>103.41</td>\n",
       "      <td>287.855</td>\n",
       "      <td>3.4469</td>\n",
       "      <td>19.0</td>\n",
       "    </tr>\n",
       "    <tr>\n",
       "      <th>2003-04-01</th>\n",
       "      <td>102.19</td>\n",
       "      <td>290.512</td>\n",
       "      <td>3.1187</td>\n",
       "      <td>20.0</td>\n",
       "    </tr>\n",
       "    <tr>\n",
       "      <th>2003-05-01</th>\n",
       "      <td>100.30</td>\n",
       "      <td>289.747</td>\n",
       "      <td>2.9557</td>\n",
       "      <td>21.0</td>\n",
       "    </tr>\n",
       "  </tbody>\n",
       "</table>\n",
       "</div>"
      ],
      "text/plain": [
       "             ibcbr    igpdi   dolar  dias_uteis\n",
       "date                                           \n",
       "2003-01-01   96.15  277.173  3.4384        22.0\n",
       "2003-02-01   98.67  283.506  3.5908        20.0\n",
       "2003-03-01  103.41  287.855  3.4469        19.0\n",
       "2003-04-01  102.19  290.512  3.1187        20.0\n",
       "2003-05-01  100.30  289.747  2.9557        21.0"
      ]
     },
     "execution_count": 13,
     "metadata": {},
     "output_type": "execute_result"
    }
   ],
   "source": [
    "exog_df = pd.DataFrame((ibcbr_ts, igpm_ts,\n",
    "                        dolar_ts, dias_uteis_ts\n",
    "                       ), \n",
    "                        index=['ibcbr', 'igpdi', 'dolar', 'dias_uteis'\n",
    "                            ]).transpose()\n",
    "exog_df.head() "
   ]
  },
  {
   "cell_type": "code",
   "execution_count": 14,
   "metadata": {},
   "outputs": [
    {
     "data": {
      "text/html": [
       "<div>\n",
       "<style scoped>\n",
       "    .dataframe tbody tr th:only-of-type {\n",
       "        vertical-align: middle;\n",
       "    }\n",
       "\n",
       "    .dataframe tbody tr th {\n",
       "        vertical-align: top;\n",
       "    }\n",
       "\n",
       "    .dataframe thead th {\n",
       "        text-align: right;\n",
       "    }\n",
       "</style>\n",
       "<table border=\"1\" class=\"dataframe\">\n",
       "  <thead>\n",
       "    <tr style=\"text-align: right;\">\n",
       "      <th></th>\n",
       "      <th>ibcbr</th>\n",
       "      <th>igpdi</th>\n",
       "      <th>dolar</th>\n",
       "      <th>dias_uteis</th>\n",
       "    </tr>\n",
       "    <tr>\n",
       "      <th>date</th>\n",
       "      <th></th>\n",
       "      <th></th>\n",
       "      <th></th>\n",
       "      <th></th>\n",
       "    </tr>\n",
       "  </thead>\n",
       "  <tbody>\n",
       "    <tr>\n",
       "      <th>2020-08-01</th>\n",
       "      <td>135.61</td>\n",
       "      <td>832.313</td>\n",
       "      <td>5.461233</td>\n",
       "      <td>21.0</td>\n",
       "    </tr>\n",
       "    <tr>\n",
       "      <th>2020-09-01</th>\n",
       "      <td>137.09</td>\n",
       "      <td>868.442</td>\n",
       "      <td>5.399486</td>\n",
       "      <td>21.0</td>\n",
       "    </tr>\n",
       "    <tr>\n",
       "      <th>2020-10-01</th>\n",
       "      <td>139.80</td>\n",
       "      <td>896.505</td>\n",
       "      <td>5.625790</td>\n",
       "      <td>21.0</td>\n",
       "    </tr>\n",
       "    <tr>\n",
       "      <th>2020-11-01</th>\n",
       "      <td>138.14</td>\n",
       "      <td>925.887</td>\n",
       "      <td>5.417835</td>\n",
       "      <td>20.0</td>\n",
       "    </tr>\n",
       "    <tr>\n",
       "      <th>2020-12-01</th>\n",
       "      <td>139.27</td>\n",
       "      <td>934.758</td>\n",
       "      <td>5.145586</td>\n",
       "      <td>22.0</td>\n",
       "    </tr>\n",
       "  </tbody>\n",
       "</table>\n",
       "</div>"
      ],
      "text/plain": [
       "             ibcbr    igpdi     dolar  dias_uteis\n",
       "date                                             \n",
       "2020-08-01  135.61  832.313  5.461233        21.0\n",
       "2020-09-01  137.09  868.442  5.399486        21.0\n",
       "2020-10-01  139.80  896.505  5.625790        21.0\n",
       "2020-11-01  138.14  925.887  5.417835        20.0\n",
       "2020-12-01  139.27  934.758  5.145586        22.0"
      ]
     },
     "execution_count": 14,
     "metadata": {},
     "output_type": "execute_result"
    }
   ],
   "source": [
    "exog_df.tail() "
   ]
  },
  {
   "cell_type": "code",
   "execution_count": 15,
   "metadata": {},
   "outputs": [
    {
     "name": "stdout",
     "output_type": "stream",
     "text": [
      "(216, 4) (192, 4) (12, 4) (12, 4)\n"
     ]
    }
   ],
   "source": [
    "exog = exog_df[:].to_numpy()\n",
    "exog_train = exog[:-24]\n",
    "exog_val = exog[-24:-12]\n",
    "exog_test = exog[-12:]\n",
    "print(exog.shape, exog_train.shape, exog_val.shape, exog_test.shape)"
   ]
  },
  {
   "cell_type": "code",
   "execution_count": 18,
   "metadata": {},
   "outputs": [
    {
     "name": "stdout",
     "output_type": "stream",
     "text": [
      "(216,) (192,) (12,) (12,)\n"
     ]
    }
   ],
   "source": [
    "icms_train = icms_ts[:-24]\n",
    "icms_val = np.exp(icms_ts[-24:-12]) # série sem log\n",
    "icms_test = np.exp(icms_ts[-12:]) # série sem log\n",
    "print(icms_ts.shape, icms_train.shape, icms_val.shape, icms_test.shape)"
   ]
  },
  {
   "cell_type": "code",
   "execution_count": 19,
   "metadata": {},
   "outputs": [
    {
     "name": "stdout",
     "output_type": "stream",
     "text": [
      "##############################\n",
      " date\n",
      "2003-01-01    21.935295\n",
      "2003-02-01    21.885340\n",
      "2003-03-01    21.873841\n",
      "2003-04-01    21.891189\n",
      "2003-05-01    21.854323\n",
      "                ...    \n",
      "2018-08-01    23.172040\n",
      "2018-09-01    23.171740\n",
      "2018-10-01    23.188142\n",
      "2018-11-01    23.165731\n",
      "2018-12-01    23.205491\n",
      "Length: 192, dtype: float64\n",
      "##############################\n",
      " date\n",
      "2019-01-01    1.236685e+10\n",
      "2019-02-01    1.126598e+10\n",
      "2019-03-01    1.131000e+10\n",
      "2019-04-01    1.201696e+10\n",
      "2019-05-01    1.173362e+10\n",
      "2019-06-01    1.138744e+10\n",
      "2019-07-01    1.177099e+10\n",
      "2019-08-01    1.178403e+10\n",
      "2019-09-01    1.214739e+10\n",
      "2019-10-01    1.251718e+10\n",
      "2019-11-01    1.257453e+10\n",
      "2019-12-01    1.314626e+10\n",
      "dtype: float64\n",
      "##############################\n",
      " date\n",
      "2020-01-01    1.292981e+10\n",
      "2020-02-01    1.177686e+10\n",
      "2020-03-01    1.208593e+10\n",
      "2020-04-01    1.045560e+10\n",
      "2020-05-01    9.023529e+09\n",
      "2020-06-01    9.983544e+09\n",
      "2020-07-01    1.134873e+10\n",
      "2020-08-01    1.227731e+10\n",
      "2020-09-01    1.309835e+10\n",
      "2020-10-01    1.387787e+10\n",
      "2020-11-01    1.474590e+10\n",
      "2020-12-01    1.490640e+10\n",
      "dtype: float64\n"
     ]
    }
   ],
   "source": [
    "print('#'*30+'\\n',icms_train)\n",
    "print('#'*30+'\\n',icms_val)\n",
    "print('#'*30+'\\n',icms_test)"
   ]
  },
  {
   "cell_type": "markdown",
   "metadata": {},
   "source": [
    "## Modelos RNN LSTM\n",
    "Redes Neurais Recorrentes com neurônios Long Short-Term Memory"
   ]
  },
  {
   "cell_type": "markdown",
   "metadata": {},
   "source": [
    "### Montagem da Série com as Variáveis Exógenas\n",
    "As redes neurais precisam de conjuntos de características e de etiquetas separados. As variáveis exógenas serão o conjunto de características e a variável endógena será o conjunto de etiquetas."
   ]
  },
  {
   "cell_type": "code",
   "execution_count": 20,
   "metadata": {},
   "outputs": [],
   "source": [
    "X_data = np.append(exog, np.roll(exog, 1, axis = 0), axis = 1)\n",
    "X_data = np.append(X_data, np.roll(exog, 2, axis = 0), axis = 1)[2:]\n",
    "Y_data = icms_ts[2:].to_numpy()"
   ]
  },
  {
   "cell_type": "code",
   "execution_count": 21,
   "metadata": {},
   "outputs": [
    {
     "data": {
      "text/plain": [
       "((214, 12), (214,))"
      ]
     },
     "execution_count": 21,
     "metadata": {},
     "output_type": "execute_result"
    }
   ],
   "source": [
    "X_data.shape, Y_data.shape"
   ]
  },
  {
   "cell_type": "markdown",
   "metadata": {},
   "source": [
    "#### Normalização dos Dados\n",
    "Serão normalizados usando-se min-max. Apenas as features, a variável target não será normalizada. Os dados serão dividos em treno, validação e teste para a normalização, de modo que o fit seja feito somente nos dados de treino, aumentando-se assim a probabilidade de generalização do modelo."
   ]
  },
  {
   "cell_type": "code",
   "execution_count": 22,
   "metadata": {},
   "outputs": [
    {
     "name": "stdout",
     "output_type": "stream",
     "text": [
      "(190, 12) (12, 12) (12, 12)\n",
      "(190,) (12,) (12,)\n"
     ]
    }
   ],
   "source": [
    "X_train = X_data[:-24]\n",
    "X_val = X_data[-24:-12]\n",
    "X_test = X_data[-12:]\n",
    "print(X_train.shape, X_val.shape, X_test.shape)\n",
    "Y_train = Y_data[:-24]\n",
    "Y_val = Y_data[-24:-12]\n",
    "Y_test = np.exp(Y_data[-12:]) # tirando o log\n",
    "print(Y_train.shape, Y_val.shape, Y_test.shape)"
   ]
  },
  {
   "cell_type": "code",
   "execution_count": 23,
   "metadata": {},
   "outputs": [
    {
     "name": "stdout",
     "output_type": "stream",
     "text": [
      "numéricas [0, 1, 2, 3, 4, 5, 6, 7, 8, 9, 10, 11]\n",
      "ColumnTransformer(transformers=[('min-max', MinMaxScaler(),\n",
      "                                 [0, 1, 2, 3, 4, 5, 6, 7, 8, 9, 10, 11])],\n",
      "                  verbose=True)\n",
      "[ColumnTransformer] ....... (1 of 1) Processing min-max, total=   0.0s\n",
      "(190, 12)\n",
      "(12, 12)\n",
      "(12, 12)\n"
     ]
    }
   ],
   "source": [
    "from sklearn.preprocessing import MinMaxScaler\n",
    "from sklearn.compose import ColumnTransformer\n",
    "# índice dos atributos numéricos\n",
    "num_atrib = list(range(X_train.shape[1]))\n",
    "print('numéricas', num_atrib)\n",
    "\n",
    "enc_x = ColumnTransformer([('min-max',MinMaxScaler(), num_atrib)], verbose=True)\n",
    "\n",
    "print(enc_x)\n",
    "X_train_std = enc_x.fit_transform(X_train)\n",
    "X_val_std = enc_x.transform(X_val)\n",
    "X_test_std = enc_x.transform(X_test)\n",
    "\n",
    "print(X_train_std.shape)\n",
    "print(X_val_std.shape)\n",
    "print(X_test_std.shape)"
   ]
  },
  {
   "cell_type": "code",
   "execution_count": 24,
   "metadata": {},
   "outputs": [
    {
     "name": "stdout",
     "output_type": "stream",
     "text": [
      "(190, 12, 1) (12, 12, 1) (12, 12, 1)\n",
      "(190, 1) (12, 1) (12, 1)\n"
     ]
    }
   ],
   "source": [
    "x_train = X_train_std.reshape(X_train_std.shape[0], X_train_std.shape[1], 1)\n",
    "x_val = X_val_std.reshape(X_val_std.shape[0], X_val_std.shape[1], 1)\n",
    "x_test = X_test_std.reshape(X_test_std.shape[0], X_test_std.shape[1], 1)\n",
    "print(x_train.shape, x_val.shape, x_test.shape)\n",
    "\n",
    "y_train = Y_train.reshape(Y_train.shape[0], 1)\n",
    "y_val = Y_val.reshape(Y_val.shape[0], 1)\n",
    "y_test = Y_test.reshape(Y_test.shape[0], 1)\n",
    "print(y_train.shape, y_val.shape, y_test.shape)"
   ]
  },
  {
   "cell_type": "markdown",
   "metadata": {},
   "source": [
    "### Criando o modelo LSTM"
   ]
  },
  {
   "cell_type": "code",
   "execution_count": 25,
   "metadata": {},
   "outputs": [],
   "source": [
    "# importando as bibliotecas do Keras\n",
    "from tensorflow.keras.models import Sequential\n",
    "from tensorflow.keras.layers import LSTM, Dense, Dropout, Conv1D, MaxPooling1D\n",
    "from tensorflow.keras.callbacks import ReduceLROnPlateau, EarlyStopping\n",
    "from tensorflow.keras.optimizers import Adam"
   ]
  },
  {
   "cell_type": "markdown",
   "metadata": {},
   "source": [
    "## Arquitetura da Rede - Camadas"
   ]
  },
  {
   "cell_type": "code",
   "execution_count": 26,
   "metadata": {},
   "outputs": [],
   "source": [
    "rlrop = ReduceLROnPlateau(monitor='val_loss', factor=0.1, patience=25)\n",
    "early_stop = EarlyStopping(monitor='val_loss', patience=100, verbose=1, \n",
    "                           restore_best_weights=True)"
   ]
  },
  {
   "cell_type": "code",
   "execution_count": 27,
   "metadata": {},
   "outputs": [],
   "source": [
    "# Épocas\n",
    "EPOCHS = 1000\n",
    "NEURONIOS = 600\n",
    "DROPOUT = 0.15\n",
    "LR = 1e-5\n",
    "BATCH = 8\n",
    "\n",
    "# Imstanciação do modelo\n",
    "model = Sequential()\n",
    "\n",
    "# Adicionar camada LSTM \n",
    "model.add(LSTM(activation='tanh', dropout=DROPOUT,\n",
    "        input_shape = (12, 1), return_sequences = True,\n",
    "        units = NEURONIOS))\n",
    "\n",
    "# Adicionar camada LSTM \n",
    "model.add(LSTM(activation='tanh', dropout=DROPOUT,\n",
    "        input_shape = (12, 1), return_sequences = True,\n",
    "        units = NEURONIOS))\n",
    "\n",
    "# Adicionar camada LSTM \n",
    "model.add(LSTM(activation='tanh', dropout=DROPOUT,\n",
    "        input_shape = (12, 1), return_sequences = False,\n",
    "        units = NEURONIOS))\n",
    "\n",
    "# Adicionar a camada de saída com 1 neurônio linear\n",
    "model.add(Dense(\n",
    "        units = 1,\n",
    "        activation = 'linear'))\n",
    "# a learning rate padrão do Adam é 0.001\n",
    "model.compile(loss = 'mape', optimizer = Adam(learning_rate=LR))"
   ]
  },
  {
   "cell_type": "code",
   "execution_count": 28,
   "metadata": {},
   "outputs": [
    {
     "name": "stdout",
     "output_type": "stream",
     "text": [
      "Model: \"sequential\"\n",
      "_________________________________________________________________\n",
      "Layer (type)                 Output Shape              Param #   \n",
      "=================================================================\n",
      "lstm (LSTM)                  (None, 12, 600)           1444800   \n",
      "_________________________________________________________________\n",
      "lstm_1 (LSTM)                (None, 12, 600)           2882400   \n",
      "_________________________________________________________________\n",
      "lstm_2 (LSTM)                (None, 600)               2882400   \n",
      "_________________________________________________________________\n",
      "dense (Dense)                (None, 1)                 601       \n",
      "=================================================================\n",
      "Total params: 7,210,201\n",
      "Trainable params: 7,210,201\n",
      "Non-trainable params: 0\n",
      "_________________________________________________________________\n"
     ]
    }
   ],
   "source": [
    "model.summary()"
   ]
  },
  {
   "cell_type": "code",
   "execution_count": 29,
   "metadata": {
    "scrolled": true
   },
   "outputs": [
    {
     "name": "stdout",
     "output_type": "stream",
     "text": [
      "Epoch 1/1000\n",
      "24/24 [==============================] - 9s 380ms/step - loss: 99.8316 - val_loss: 99.4262\n",
      "Epoch 2/1000\n",
      "24/24 [==============================] - 5s 229ms/step - loss: 99.3904 - val_loss: 98.4810\n",
      "Epoch 3/1000\n",
      "24/24 [==============================] - 6s 233ms/step - loss: 98.4646 - val_loss: 96.1780\n",
      "Epoch 4/1000\n",
      "24/24 [==============================] - 6s 232ms/step - loss: 95.9788 - val_loss: 88.6879\n",
      "Epoch 5/1000\n",
      "24/24 [==============================] - 5s 218ms/step - loss: 87.0737 - val_loss: 58.3576\n",
      "Epoch 6/1000\n",
      "24/24 [==============================] - 5s 222ms/step - loss: 53.9140 - val_loss: 9.1534\n",
      "Epoch 7/1000\n",
      "24/24 [==============================] - 5s 218ms/step - loss: 11.8055 - val_loss: 6.0600\n",
      "Epoch 8/1000\n",
      "24/24 [==============================] - 5s 228ms/step - loss: 4.0830 - val_loss: 2.5556\n",
      "Epoch 9/1000\n",
      "24/24 [==============================] - 6s 239ms/step - loss: 2.5253 - val_loss: 0.3244\n",
      "Epoch 10/1000\n",
      "24/24 [==============================] - 5s 225ms/step - loss: 1.5300 - val_loss: 0.2645\n",
      "Epoch 11/1000\n",
      "24/24 [==============================] - 5s 217ms/step - loss: 1.2733 - val_loss: 0.2285\n",
      "Epoch 12/1000\n",
      "24/24 [==============================] - 5s 225ms/step - loss: 1.1435 - val_loss: 0.4823\n",
      "Epoch 13/1000\n",
      "24/24 [==============================] - 5s 215ms/step - loss: 1.0316 - val_loss: 0.6629\n",
      "Epoch 14/1000\n",
      "24/24 [==============================] - 5s 222ms/step - loss: 1.1045 - val_loss: 0.3284\n",
      "Epoch 15/1000\n",
      "24/24 [==============================] - 6s 233ms/step - loss: 0.8639 - val_loss: 0.6679\n",
      "Epoch 16/1000\n",
      "24/24 [==============================] - 5s 223ms/step - loss: 0.9027 - val_loss: 0.5672\n",
      "Epoch 17/1000\n",
      "24/24 [==============================] - 6s 230ms/step - loss: 0.9126 - val_loss: 0.4523\n",
      "Epoch 18/1000\n",
      "24/24 [==============================] - 5s 224ms/step - loss: 0.9971 - val_loss: 0.5922\n",
      "Epoch 19/1000\n",
      "24/24 [==============================] - 6s 237ms/step - loss: 0.9610 - val_loss: 0.3590\n",
      "Epoch 20/1000\n",
      "24/24 [==============================] - 6s 232ms/step - loss: 0.7885 - val_loss: 0.4588\n",
      "Epoch 21/1000\n",
      "24/24 [==============================] - 6s 233ms/step - loss: 0.8468 - val_loss: 0.6135\n",
      "Epoch 22/1000\n",
      "24/24 [==============================] - 6s 238ms/step - loss: 0.8377 - val_loss: 0.5568\n",
      "Epoch 23/1000\n",
      "24/24 [==============================] - 6s 241ms/step - loss: 0.8796 - val_loss: 0.5000\n",
      "Epoch 24/1000\n",
      "24/24 [==============================] - 6s 232ms/step - loss: 0.8811 - val_loss: 0.8631\n",
      "Epoch 25/1000\n",
      "24/24 [==============================] - 5s 228ms/step - loss: 0.9292 - val_loss: 0.6020\n",
      "Epoch 26/1000\n",
      "24/24 [==============================] - 6s 232ms/step - loss: 0.8333 - val_loss: 0.5095\n",
      "Epoch 27/1000\n",
      "24/24 [==============================] - 6s 230ms/step - loss: 0.7781 - val_loss: 0.8822\n",
      "Epoch 28/1000\n",
      "24/24 [==============================] - 6s 236ms/step - loss: 0.8814 - val_loss: 0.4705\n",
      "Epoch 29/1000\n",
      "24/24 [==============================] - 6s 232ms/step - loss: 0.8102 - val_loss: 0.3659\n",
      "Epoch 30/1000\n",
      "24/24 [==============================] - 6s 234ms/step - loss: 0.8774 - val_loss: 0.6976\n",
      "Epoch 31/1000\n",
      "24/24 [==============================] - 5s 221ms/step - loss: 0.7988 - val_loss: 0.4281\n",
      "Epoch 32/1000\n",
      "24/24 [==============================] - 6s 230ms/step - loss: 0.9056 - val_loss: 0.1927\n",
      "Epoch 33/1000\n",
      "24/24 [==============================] - 6s 230ms/step - loss: 0.7998 - val_loss: 0.6364\n",
      "Epoch 34/1000\n",
      "24/24 [==============================] - 6s 232ms/step - loss: 0.8944 - val_loss: 0.1548\n",
      "Epoch 35/1000\n",
      "24/24 [==============================] - 6s 241ms/step - loss: 0.8334 - val_loss: 0.1344\n",
      "Epoch 36/1000\n",
      "24/24 [==============================] - 6s 236ms/step - loss: 0.8350 - val_loss: 0.3422\n",
      "Epoch 37/1000\n",
      "24/24 [==============================] - 6s 235ms/step - loss: 0.8235 - val_loss: 0.6666\n",
      "Epoch 38/1000\n",
      "24/24 [==============================] - 6s 230ms/step - loss: 0.8891 - val_loss: 0.2732\n",
      "Epoch 39/1000\n",
      "24/24 [==============================] - 6s 236ms/step - loss: 0.7859 - val_loss: 0.2577\n",
      "Epoch 40/1000\n",
      "24/24 [==============================] - 6s 231ms/step - loss: 0.8341 - val_loss: 0.2614\n",
      "Epoch 41/1000\n",
      "24/24 [==============================] - 5s 224ms/step - loss: 0.7565 - val_loss: 0.1858\n",
      "Epoch 42/1000\n",
      "24/24 [==============================] - 5s 229ms/step - loss: 0.7893 - val_loss: 0.3051\n",
      "Epoch 43/1000\n",
      "24/24 [==============================] - 5s 225ms/step - loss: 0.8798 - val_loss: 0.4897\n",
      "Epoch 44/1000\n",
      "24/24 [==============================] - 6s 244ms/step - loss: 0.8283 - val_loss: 0.5957\n",
      "Epoch 45/1000\n",
      "24/24 [==============================] - 6s 233ms/step - loss: 0.7773 - val_loss: 0.2323\n",
      "Epoch 46/1000\n",
      "24/24 [==============================] - 5s 227ms/step - loss: 0.8206 - val_loss: 0.3015\n",
      "Epoch 47/1000\n",
      "24/24 [==============================] - 5s 227ms/step - loss: 0.7126 - val_loss: 0.4587\n",
      "Epoch 48/1000\n",
      "24/24 [==============================] - 5s 229ms/step - loss: 0.8107 - val_loss: 0.4287\n",
      "Epoch 49/1000\n",
      "24/24 [==============================] - 6s 256ms/step - loss: 0.7141 - val_loss: 0.3881\n",
      "Epoch 50/1000\n",
      "24/24 [==============================] - 6s 250ms/step - loss: 0.7441 - val_loss: 0.2982\n",
      "Epoch 51/1000\n",
      "24/24 [==============================] - 6s 241ms/step - loss: 0.8319 - val_loss: 0.3926\n",
      "Epoch 52/1000\n",
      "24/24 [==============================] - 5s 229ms/step - loss: 0.9179 - val_loss: 0.2618\n",
      "Epoch 53/1000\n",
      "24/24 [==============================] - 5s 226ms/step - loss: 0.7274 - val_loss: 0.1527\n",
      "Epoch 54/1000\n",
      "24/24 [==============================] - 5s 229ms/step - loss: 0.7126 - val_loss: 0.2677\n",
      "Epoch 55/1000\n",
      "24/24 [==============================] - 5s 222ms/step - loss: 0.8610 - val_loss: 0.2281\n",
      "Epoch 56/1000\n",
      "24/24 [==============================] - 5s 224ms/step - loss: 0.6310 - val_loss: 0.2420\n",
      "Epoch 57/1000\n",
      "24/24 [==============================] - 5s 217ms/step - loss: 0.7933 - val_loss: 0.4261\n",
      "Epoch 58/1000\n",
      "24/24 [==============================] - 6s 235ms/step - loss: 0.6786 - val_loss: 0.1462\n",
      "Epoch 59/1000\n",
      "24/24 [==============================] - 5s 226ms/step - loss: 0.7338 - val_loss: 0.1269\n",
      "Epoch 60/1000\n",
      "24/24 [==============================] - 6s 254ms/step - loss: 0.7853 - val_loss: 0.1748\n",
      "Epoch 61/1000\n",
      "24/24 [==============================] - 5s 229ms/step - loss: 0.8321 - val_loss: 0.2974\n",
      "Epoch 62/1000\n",
      "24/24 [==============================] - 5s 223ms/step - loss: 0.8209 - val_loss: 0.3450\n",
      "Epoch 63/1000\n",
      "24/24 [==============================] - 5s 224ms/step - loss: 0.8190 - val_loss: 0.3474\n",
      "Epoch 64/1000\n",
      "24/24 [==============================] - 6s 234ms/step - loss: 0.7064 - val_loss: 0.5999\n",
      "Epoch 65/1000\n",
      "24/24 [==============================] - 5s 220ms/step - loss: 0.7429 - val_loss: 0.4478\n",
      "Epoch 66/1000\n",
      "24/24 [==============================] - 6s 246ms/step - loss: 0.8095 - val_loss: 0.1709\n",
      "Epoch 67/1000\n",
      "24/24 [==============================] - 5s 228ms/step - loss: 0.7830 - val_loss: 0.3110\n",
      "Epoch 68/1000\n",
      "24/24 [==============================] - 6s 242ms/step - loss: 0.8479 - val_loss: 0.1558\n",
      "Epoch 69/1000\n",
      "24/24 [==============================] - 5s 224ms/step - loss: 0.7581 - val_loss: 0.2972\n",
      "Epoch 70/1000\n",
      "24/24 [==============================] - 6s 238ms/step - loss: 0.7731 - val_loss: 0.3365\n",
      "Epoch 71/1000\n",
      "24/24 [==============================] - 6s 250ms/step - loss: 0.7272 - val_loss: 0.2418\n",
      "Epoch 72/1000\n",
      "24/24 [==============================] - 6s 240ms/step - loss: 0.7916 - val_loss: 0.4972\n",
      "Epoch 73/1000\n",
      "24/24 [==============================] - 5s 220ms/step - loss: 0.8185 - val_loss: 0.8223\n",
      "Epoch 74/1000\n",
      "24/24 [==============================] - 6s 233ms/step - loss: 0.7977 - val_loss: 0.4569\n",
      "Epoch 75/1000\n",
      "24/24 [==============================] - 5s 226ms/step - loss: 0.8004 - val_loss: 0.5354\n",
      "Epoch 76/1000\n",
      "24/24 [==============================] - 6s 235ms/step - loss: 0.7626 - val_loss: 0.3819\n",
      "Epoch 77/1000\n",
      "24/24 [==============================] - 6s 232ms/step - loss: 0.7304 - val_loss: 0.2392\n",
      "Epoch 78/1000\n",
      "24/24 [==============================] - 5s 222ms/step - loss: 0.7769 - val_loss: 0.1786\n",
      "Epoch 79/1000\n",
      "24/24 [==============================] - 6s 239ms/step - loss: 0.7602 - val_loss: 0.1437\n",
      "Epoch 80/1000\n",
      "24/24 [==============================] - 6s 249ms/step - loss: 0.7897 - val_loss: 0.1784\n",
      "Epoch 81/1000\n",
      "24/24 [==============================] - 6s 247ms/step - loss: 0.7456 - val_loss: 0.1744\n",
      "Epoch 82/1000\n",
      "24/24 [==============================] - 6s 248ms/step - loss: 0.7968 - val_loss: 0.4651\n",
      "Epoch 83/1000\n",
      "24/24 [==============================] - 7s 282ms/step - loss: 0.8236 - val_loss: 0.4407\n",
      "Epoch 84/1000\n",
      "24/24 [==============================] - 7s 280ms/step - loss: 0.6683 - val_loss: 0.4577\n",
      "Epoch 85/1000\n",
      "24/24 [==============================] - 6s 266ms/step - loss: 0.8459 - val_loss: 0.2714\n",
      "Epoch 86/1000\n",
      "24/24 [==============================] - 6s 257ms/step - loss: 0.7164 - val_loss: 0.2136\n",
      "Epoch 87/1000\n",
      "24/24 [==============================] - 6s 238ms/step - loss: 0.7030 - val_loss: 0.2169\n",
      "Epoch 88/1000\n",
      "24/24 [==============================] - 7s 290ms/step - loss: 0.6820 - val_loss: 0.1807\n",
      "Epoch 89/1000\n",
      "24/24 [==============================] - 7s 305ms/step - loss: 0.7371 - val_loss: 0.1982\n",
      "Epoch 90/1000\n",
      "24/24 [==============================] - 8s 353ms/step - loss: 0.7886 - val_loss: 0.2035\n",
      "Epoch 91/1000\n",
      "24/24 [==============================] - 7s 303ms/step - loss: 0.7745 - val_loss: 0.2067\n",
      "Epoch 92/1000\n",
      "24/24 [==============================] - 7s 300ms/step - loss: 0.6975 - val_loss: 0.1798\n",
      "Epoch 93/1000\n",
      "24/24 [==============================] - 7s 304ms/step - loss: 0.7211 - val_loss: 0.1921\n",
      "Epoch 94/1000\n",
      "24/24 [==============================] - 11s 467ms/step - loss: 0.7133 - val_loss: 0.1928\n",
      "Epoch 95/1000\n",
      "24/24 [==============================] - 8s 334ms/step - loss: 0.7266 - val_loss: 0.1661\n",
      "Epoch 96/1000\n",
      "24/24 [==============================] - 7s 311ms/step - loss: 0.7727 - val_loss: 0.2338\n",
      "Epoch 97/1000\n",
      "24/24 [==============================] - 9s 359ms/step - loss: 0.7036 - val_loss: 0.2402\n",
      "Epoch 98/1000\n",
      "24/24 [==============================] - 8s 336ms/step - loss: 0.7376 - val_loss: 0.2178\n",
      "Epoch 99/1000\n",
      "24/24 [==============================] - 7s 275ms/step - loss: 0.7399 - val_loss: 0.2552\n",
      "Epoch 100/1000\n",
      "24/24 [==============================] - 6s 252ms/step - loss: 0.7591 - val_loss: 0.2243\n",
      "Epoch 101/1000\n",
      "24/24 [==============================] - 7s 282ms/step - loss: 0.6969 - val_loss: 0.1781\n",
      "Epoch 102/1000\n",
      "24/24 [==============================] - 7s 287ms/step - loss: 0.7587 - val_loss: 0.2228\n",
      "Epoch 103/1000\n",
      "24/24 [==============================] - 6s 256ms/step - loss: 0.7820 - val_loss: 0.1866\n",
      "Epoch 104/1000\n",
      "24/24 [==============================] - 7s 307ms/step - loss: 0.7099 - val_loss: 0.2166\n",
      "Epoch 105/1000\n",
      "24/24 [==============================] - 7s 290ms/step - loss: 0.7569 - val_loss: 0.2309\n",
      "Epoch 106/1000\n",
      "24/24 [==============================] - 8s 315ms/step - loss: 0.6798 - val_loss: 0.1521\n",
      "Epoch 107/1000\n",
      "24/24 [==============================] - 6s 250ms/step - loss: 0.6869 - val_loss: 0.2061\n",
      "Epoch 108/1000\n",
      "24/24 [==============================] - 6s 242ms/step - loss: 0.7049 - val_loss: 0.1532\n",
      "Epoch 109/1000\n",
      "24/24 [==============================] - 7s 271ms/step - loss: 0.7557 - val_loss: 0.1743\n",
      "Epoch 110/1000\n",
      "24/24 [==============================] - 7s 289ms/step - loss: 0.7492 - val_loss: 0.1779\n",
      "Epoch 111/1000\n",
      "24/24 [==============================] - 7s 300ms/step - loss: 0.7408 - val_loss: 0.1778\n",
      "Epoch 112/1000\n",
      "24/24 [==============================] - 10s 409ms/step - loss: 0.7666 - val_loss: 0.1813\n",
      "Epoch 113/1000\n",
      "24/24 [==============================] - 10s 417ms/step - loss: 0.7506 - val_loss: 0.1808\n",
      "Epoch 114/1000\n",
      "24/24 [==============================] - 9s 376ms/step - loss: 0.6766 - val_loss: 0.1874\n",
      "Epoch 115/1000\n",
      "24/24 [==============================] - 5s 191ms/step - loss: 0.7110 - val_loss: 0.1875\n",
      "Epoch 116/1000\n",
      "24/24 [==============================] - 4s 180ms/step - loss: 0.6760 - val_loss: 0.1898\n",
      "Epoch 117/1000\n",
      "24/24 [==============================] - 4s 164ms/step - loss: 0.7495 - val_loss: 0.1930\n",
      "Epoch 118/1000\n",
      "24/24 [==============================] - 4s 158ms/step - loss: 0.7937 - val_loss: 0.1931\n",
      "Epoch 119/1000\n",
      "24/24 [==============================] - 4s 164ms/step - loss: 0.6807 - val_loss: 0.1936\n",
      "Epoch 120/1000\n",
      "24/24 [==============================] - 4s 155ms/step - loss: 0.7815 - val_loss: 0.1931\n",
      "Epoch 121/1000\n",
      "24/24 [==============================] - 5s 225ms/step - loss: 0.8011 - val_loss: 0.1933\n",
      "Epoch 122/1000\n",
      "24/24 [==============================] - 5s 223ms/step - loss: 0.7280 - val_loss: 0.1962\n",
      "Epoch 123/1000\n",
      "24/24 [==============================] - 7s 287ms/step - loss: 0.6954 - val_loss: 0.1922\n",
      "Epoch 124/1000\n",
      "24/24 [==============================] - 9s 357ms/step - loss: 0.8357 - val_loss: 0.1904\n",
      "Epoch 125/1000\n",
      "24/24 [==============================] - 9s 365ms/step - loss: 0.8375 - val_loss: 0.1945\n",
      "Epoch 126/1000\n",
      "24/24 [==============================] - 8s 348ms/step - loss: 0.7691 - val_loss: 0.1933\n",
      "Epoch 127/1000\n",
      "24/24 [==============================] - 6s 245ms/step - loss: 0.7537 - val_loss: 0.1958\n",
      "Epoch 128/1000\n",
      "24/24 [==============================] - 6s 229ms/step - loss: 0.7464 - val_loss: 0.1955\n",
      "Epoch 129/1000\n",
      "24/24 [==============================] - 5s 222ms/step - loss: 0.7809 - val_loss: 0.1966\n",
      "Epoch 130/1000\n",
      "24/24 [==============================] - 6s 253ms/step - loss: 0.8284 - val_loss: 0.1934\n",
      "Epoch 131/1000\n",
      "24/24 [==============================] - 7s 310ms/step - loss: 0.6907 - val_loss: 0.1895\n",
      "Epoch 132/1000\n",
      "24/24 [==============================] - 8s 313ms/step - loss: 0.7777 - val_loss: 0.1843\n",
      "Epoch 133/1000\n",
      "24/24 [==============================] - 7s 289ms/step - loss: 0.7306 - val_loss: 0.1813\n",
      "Epoch 134/1000\n",
      "24/24 [==============================] - 8s 353ms/step - loss: 0.7221 - val_loss: 0.1902\n",
      "Epoch 135/1000\n",
      "24/24 [==============================] - 7s 273ms/step - loss: 0.7555 - val_loss: 0.1904\n",
      "Epoch 136/1000\n",
      "24/24 [==============================] - 6s 243ms/step - loss: 0.7468 - val_loss: 0.1902\n",
      "Epoch 137/1000\n",
      "24/24 [==============================] - 6s 263ms/step - loss: 0.7360 - val_loss: 0.1907\n",
      "Epoch 138/1000\n",
      "24/24 [==============================] - 6s 270ms/step - loss: 0.6887 - val_loss: 0.1904\n",
      "Epoch 139/1000\n",
      "24/24 [==============================] - 6s 263ms/step - loss: 0.7552 - val_loss: 0.1904\n",
      "Epoch 140/1000\n",
      "24/24 [==============================] - 6s 254ms/step - loss: 0.7048 - val_loss: 0.1907\n",
      "Epoch 141/1000\n",
      "24/24 [==============================] - 6s 265ms/step - loss: 0.6956 - val_loss: 0.1908\n",
      "Epoch 142/1000\n",
      "24/24 [==============================] - 6s 247ms/step - loss: 0.7164 - val_loss: 0.1910\n",
      "Epoch 143/1000\n",
      "24/24 [==============================] - 7s 299ms/step - loss: 0.7167 - val_loss: 0.1908\n",
      "Epoch 144/1000\n",
      "24/24 [==============================] - 6s 238ms/step - loss: 0.7217 - val_loss: 0.1911\n",
      "Epoch 145/1000\n",
      "24/24 [==============================] - 6s 263ms/step - loss: 0.7799 - val_loss: 0.1912\n",
      "Epoch 146/1000\n",
      "24/24 [==============================] - 6s 246ms/step - loss: 0.6997 - val_loss: 0.1912\n",
      "Epoch 147/1000\n",
      "24/24 [==============================] - 6s 243ms/step - loss: 0.7045 - val_loss: 0.1912\n",
      "Epoch 148/1000\n",
      "24/24 [==============================] - 6s 235ms/step - loss: 0.8129 - val_loss: 0.1909\n",
      "Epoch 149/1000\n",
      "24/24 [==============================] - 6s 256ms/step - loss: 0.7797 - val_loss: 0.1909\n",
      "Epoch 150/1000\n",
      "24/24 [==============================] - 6s 247ms/step - loss: 0.7520 - val_loss: 0.1907\n",
      "Epoch 151/1000\n",
      "24/24 [==============================] - 6s 258ms/step - loss: 0.7280 - val_loss: 0.1910\n",
      "Epoch 152/1000\n",
      "24/24 [==============================] - 6s 243ms/step - loss: 0.7796 - val_loss: 0.1909\n",
      "Epoch 153/1000\n",
      "24/24 [==============================] - 7s 290ms/step - loss: 0.7098 - val_loss: 0.1908\n",
      "Epoch 154/1000\n",
      "24/24 [==============================] - 6s 242ms/step - loss: 0.7197 - val_loss: 0.1913\n",
      "Epoch 155/1000\n",
      "24/24 [==============================] - 6s 257ms/step - loss: 0.7213 - val_loss: 0.1914\n",
      "Epoch 156/1000\n",
      "24/24 [==============================] - 6s 230ms/step - loss: 0.7200 - val_loss: 0.1921\n",
      "Epoch 157/1000\n",
      "24/24 [==============================] - 6s 266ms/step - loss: 0.7074 - val_loss: 0.1920\n",
      "Epoch 158/1000\n",
      "24/24 [==============================] - 7s 312ms/step - loss: 0.7404 - val_loss: 0.1921\n",
      "Epoch 159/1000\n"
     ]
    },
    {
     "name": "stdout",
     "output_type": "stream",
     "text": [
      "24/24 [==============================] - ETA: 0s - loss: 0.7727Restoring model weights from the end of the best epoch.\n",
      "24/24 [==============================] - 6s 266ms/step - loss: 0.7727 - val_loss: 0.1923\n",
      "Epoch 00159: early stopping\n"
     ]
    }
   ],
   "source": [
    "# History object for plotting our model loss by epoch\n",
    "history = model.fit(x_train, y_train, batch_size = BATCH, \n",
    "                    epochs = EPOCHS, validation_data = (x_val, y_val),\n",
    "                    callbacks = [rlrop, early_stop])"
   ]
  },
  {
   "cell_type": "code",
   "execution_count": 30,
   "metadata": {
    "scrolled": false
   },
   "outputs": [
    {
     "data": {
      "image/png": "[encoded data removed]",
      "text/plain": [
       "<Figure size 720x504 with 1 Axes>"
      ]
     },
     "metadata": {
      "needs_background": "light"
     },
     "output_type": "display_data"
    }
   ],
   "source": [
    "# Loss History\n",
    "fig = plt.figure(figsize=(10, 7))\n",
    "plt.plot(history.history['loss'])\n",
    "plt.plot(history.history['val_loss'])\n",
    "plt.title('Model Loss')\n",
    "plt.ylabel('Loss')\n",
    "plt.xlabel('Epoch')\n",
    "plt.legend(['Train', 'Val'], loc='upper right')\n",
    "plt.show()"
   ]
  },
  {
   "cell_type": "markdown",
   "metadata": {},
   "source": [
    "### Previsão 12 meses em Validação"
   ]
  },
  {
   "cell_type": "code",
   "execution_count": 31,
   "metadata": {},
   "outputs": [
    {
     "data": {
      "text/plain": [
       "array([[1.1516971e+10],\n",
       "       [1.1221978e+10],\n",
       "       [1.1368821e+10],\n",
       "       [1.1706708e+10],\n",
       "       [1.2054958e+10],\n",
       "       [1.1421201e+10],\n",
       "       [1.2132231e+10],\n",
       "       [1.2292979e+10],\n",
       "       [1.2086177e+10],\n",
       "       [1.2466504e+10],\n",
       "       [1.2025471e+10],\n",
       "       [1.2001825e+10]], dtype=float32)"
      ]
     },
     "execution_count": 31,
     "metadata": {},
     "output_type": "execute_result"
    }
   ],
   "source": [
    "Y_pred_val = np.exp(model.predict(x_val))\n",
    "Y_pred_val"
   ]
  },
  {
   "cell_type": "code",
   "execution_count": 32,
   "metadata": {},
   "outputs": [
    {
     "data": {
      "text/plain": [
       "date\n",
       "2019-01-01    1.151697e+10\n",
       "2019-02-01    1.122198e+10\n",
       "2019-03-01    1.136882e+10\n",
       "2019-04-01    1.170671e+10\n",
       "2019-05-01    1.205496e+10\n",
       "2019-06-01    1.142120e+10\n",
       "2019-07-01    1.213223e+10\n",
       "2019-08-01    1.229298e+10\n",
       "2019-09-01    1.208618e+10\n",
       "2019-10-01    1.246650e+10\n",
       "2019-11-01    1.202547e+10\n",
       "2019-12-01    1.200182e+10\n",
       "dtype: float32"
      ]
     },
     "execution_count": 32,
     "metadata": {},
     "output_type": "execute_result"
    }
   ],
   "source": [
    "y_pred_val = pd.Series(Y_pred_val.ravel())\n",
    "y_pred_val.index = icms_val.index\n",
    "y_pred_val"
   ]
  },
  {
   "cell_type": "code",
   "execution_count": 33,
   "metadata": {},
   "outputs": [
    {
     "data": {
      "text/plain": [
       "array([1.23668490e+10, 1.12659792e+10, 1.13099983e+10, 1.20169582e+10,\n",
       "       1.17336224e+10, 1.13874433e+10, 1.17709915e+10, 1.17840316e+10,\n",
       "       1.21473854e+10, 1.25171766e+10, 1.25745282e+10, 1.31462565e+10])"
      ]
     },
     "execution_count": 33,
     "metadata": {},
     "output_type": "execute_result"
    }
   ],
   "source": [
    "np.exp(y_val).ravel()"
   ]
  },
  {
   "cell_type": "code",
   "execution_count": 34,
   "metadata": {},
   "outputs": [
    {
     "data": {
      "text/plain": [
       "494584291.70596844"
      ]
     },
     "execution_count": 34,
     "metadata": {},
     "output_type": "execute_result"
    }
   ],
   "source": [
    "RMSE_lstm_val = mean_squared_error(np.exp(y_val).ravel(), y_pred_val, squared=False)\n",
    "RMSE_lstm_val"
   ]
  },
  {
   "cell_type": "code",
   "execution_count": 35,
   "metadata": {},
   "outputs": [
    {
     "data": {
      "text/plain": [
       "0.028973385893925993"
      ]
     },
     "execution_count": 35,
     "metadata": {},
     "output_type": "execute_result"
    }
   ],
   "source": [
    "MAPE_lstm_val = mean_absolute_percentage_error(np.exp(y_val).ravel(), y_pred_val)\n",
    "MAPE_lstm_val"
   ]
  },
  {
   "cell_type": "code",
   "execution_count": 36,
   "metadata": {},
   "outputs": [],
   "source": [
    "previsoes['nome'].append('RNN-LSTM-Camadas')\n",
    "previsoes['modelo'].append(model)\n",
    "previsoes['previsoes'].append(y_pred_val)\n",
    "\n",
    "previsoes['rmse'].append(RMSE_lstm_val)\n",
    "\n",
    "previsoes['mape'].append(MAPE_lstm_val)"
   ]
  },
  {
   "cell_type": "code",
   "execution_count": 37,
   "metadata": {},
   "outputs": [],
   "source": [
    "previsoes['erro relativo'].append([erro_relativo(prev,real) \n",
    "                                   for prev,real in zip(y_pred_val, y_test)])"
   ]
  },
  {
   "cell_type": "markdown",
   "metadata": {},
   "source": [
    "## Arquitetura da Rede - Larga"
   ]
  },
  {
   "cell_type": "code",
   "execution_count": 38,
   "metadata": {},
   "outputs": [],
   "source": [
    "rlrop2 = ReduceLROnPlateau(monitor='val_loss', factor=0.1, patience=25)\n",
    "early_stop2 = EarlyStopping(monitor='val_loss', patience=100, verbose=1, \n",
    "                           restore_best_weights=True)"
   ]
  },
  {
   "cell_type": "code",
   "execution_count": 39,
   "metadata": {},
   "outputs": [],
   "source": [
    "# Épocas\n",
    "EPOCHS2 = 1000\n",
    "NEURONIOS2 = 600\n",
    "DROPOUT2 = 0.15\n",
    "LR2 = 1e-5\n",
    "BATCH2 = 8\n",
    "\n",
    "# Imstanciação do modelo\n",
    "model2 = Sequential()\n",
    "\n",
    "# Adicionar camada LSTM \n",
    "model2.add(LSTM(activation='tanh', dropout=DROPOUT2,\n",
    "        input_shape = (12, 1), return_sequences = False,\n",
    "        units = NEURONIOS2))\n",
    "\n",
    "# Adicionar a camada de saída com 1 neurônio linear\n",
    "model2.add(Dense(\n",
    "        units = 1,\n",
    "        activation = 'linear'))\n",
    "# a learning rate padrão do Adam é 0.001\n",
    "model2.compile(loss = 'mape', optimizer = Adam(learning_rate=LR2))"
   ]
  },
  {
   "cell_type": "code",
   "execution_count": 40,
   "metadata": {},
   "outputs": [
    {
     "name": "stdout",
     "output_type": "stream",
     "text": [
      "Model: \"sequential_1\"\n",
      "_________________________________________________________________\n",
      "Layer (type)                 Output Shape              Param #   \n",
      "=================================================================\n",
      "lstm_3 (LSTM)                (None, 600)               1444800   \n",
      "_________________________________________________________________\n",
      "dense_1 (Dense)              (None, 1)                 601       \n",
      "=================================================================\n",
      "Total params: 1,445,401\n",
      "Trainable params: 1,445,401\n",
      "Non-trainable params: 0\n",
      "_________________________________________________________________\n"
     ]
    }
   ],
   "source": [
    "model2.summary()"
   ]
  },
  {
   "cell_type": "code",
   "execution_count": 41,
   "metadata": {
    "scrolled": true
   },
   "outputs": [
    {
     "name": "stdout",
     "output_type": "stream",
     "text": [
      "Epoch 1/1000\n",
      "24/24 [==============================] - 3s 110ms/step - loss: 99.9124 - val_loss: 99.6344\n",
      "Epoch 2/1000\n",
      "24/24 [==============================] - 1s 58ms/step - loss: 99.6539 - val_loss: 99.1869\n",
      "Epoch 3/1000\n",
      "24/24 [==============================] - 1s 60ms/step - loss: 99.3420 - val_loss: 98.6692\n",
      "Epoch 4/1000\n",
      "24/24 [==============================] - 1s 60ms/step - loss: 98.9986 - val_loss: 98.0113\n",
      "Epoch 5/1000\n",
      "24/24 [==============================] - 1s 58ms/step - loss: 98.5352 - val_loss: 97.1074\n",
      "Epoch 6/1000\n",
      "24/24 [==============================] - 1s 60ms/step - loss: 97.8834 - val_loss: 95.7100\n",
      "Epoch 7/1000\n",
      "24/24 [==============================] - 1s 57ms/step - loss: 96.7936 - val_loss: 93.3311\n",
      "Epoch 8/1000\n",
      "24/24 [==============================] - 2s 70ms/step - loss: 94.8975 - val_loss: 88.4191\n",
      "Epoch 9/1000\n",
      "24/24 [==============================] - 2s 63ms/step - loss: 90.6814 - val_loss: 75.7972\n",
      "Epoch 10/1000\n",
      "24/24 [==============================] - 1s 55ms/step - loss: 79.4205 - val_loss: 44.1814\n",
      "Epoch 11/1000\n",
      "24/24 [==============================] - 1s 56ms/step - loss: 51.6407 - val_loss: 13.4901\n",
      "Epoch 12/1000\n",
      "24/24 [==============================] - 1s 56ms/step - loss: 21.2988 - val_loss: 0.6906\n",
      "Epoch 13/1000\n",
      "24/24 [==============================] - 1s 57ms/step - loss: 5.9583 - val_loss: 3.0754\n",
      "Epoch 14/1000\n",
      "24/24 [==============================] - 1s 60ms/step - loss: 3.6136 - val_loss: 0.2565\n",
      "Epoch 15/1000\n",
      "24/24 [==============================] - 2s 85ms/step - loss: 2.4959 - val_loss: 0.5118\n",
      "Epoch 16/1000\n",
      "24/24 [==============================] - 2s 67ms/step - loss: 1.3458 - val_loss: 0.7363\n",
      "Epoch 17/1000\n",
      "24/24 [==============================] - 1s 58ms/step - loss: 1.6146 - val_loss: 0.5241\n",
      "Epoch 18/1000\n",
      "24/24 [==============================] - 1s 59ms/step - loss: 1.5381 - val_loss: 0.6420\n",
      "Epoch 19/1000\n",
      "24/24 [==============================] - 1s 56ms/step - loss: 1.1141 - val_loss: 0.8246\n",
      "Epoch 20/1000\n",
      "24/24 [==============================] - 1s 61ms/step - loss: 1.3299 - val_loss: 0.8173\n",
      "Epoch 21/1000\n",
      "24/24 [==============================] - 1s 59ms/step - loss: 1.2333 - val_loss: 0.9329\n",
      "Epoch 22/1000\n",
      "24/24 [==============================] - 2s 67ms/step - loss: 1.0767 - val_loss: 1.0262\n",
      "Epoch 23/1000\n",
      "24/24 [==============================] - 1s 59ms/step - loss: 1.0038 - val_loss: 0.9805\n",
      "Epoch 24/1000\n",
      "24/24 [==============================] - 1s 59ms/step - loss: 1.2260 - val_loss: 1.1154\n",
      "Epoch 25/1000\n",
      "24/24 [==============================] - 2s 65ms/step - loss: 0.9409 - val_loss: 1.0646\n",
      "Epoch 26/1000\n",
      "24/24 [==============================] - 1s 57ms/step - loss: 0.9860 - val_loss: 1.0097\n",
      "Epoch 27/1000\n",
      "24/24 [==============================] - 1s 59ms/step - loss: 1.2286 - val_loss: 0.8836\n",
      "Epoch 28/1000\n",
      "24/24 [==============================] - 1s 57ms/step - loss: 1.0805 - val_loss: 1.0992\n",
      "Epoch 29/1000\n",
      "24/24 [==============================] - 1s 54ms/step - loss: 1.1856 - val_loss: 1.1549\n",
      "Epoch 30/1000\n",
      "24/24 [==============================] - 1s 57ms/step - loss: 1.1247 - val_loss: 1.0044\n",
      "Epoch 31/1000\n",
      "24/24 [==============================] - 2s 83ms/step - loss: 1.1127 - val_loss: 1.0190\n",
      "Epoch 32/1000\n",
      "24/24 [==============================] - 1s 62ms/step - loss: 1.0846 - val_loss: 1.0466\n",
      "Epoch 33/1000\n",
      "24/24 [==============================] - 1s 56ms/step - loss: 1.2238 - val_loss: 0.9563\n",
      "Epoch 34/1000\n",
      "24/24 [==============================] - 1s 59ms/step - loss: 0.9975 - val_loss: 1.1125\n",
      "Epoch 35/1000\n",
      "24/24 [==============================] - 1s 57ms/step - loss: 1.0426 - val_loss: 0.9970\n",
      "Epoch 36/1000\n",
      "24/24 [==============================] - 1s 56ms/step - loss: 1.0369 - val_loss: 0.9000\n",
      "Epoch 37/1000\n",
      "24/24 [==============================] - 2s 63ms/step - loss: 1.1568 - val_loss: 1.0334\n",
      "Epoch 38/1000\n",
      "24/24 [==============================] - 1s 56ms/step - loss: 0.9121 - val_loss: 0.7772\n",
      "Epoch 39/1000\n",
      "24/24 [==============================] - 1s 56ms/step - loss: 1.0057 - val_loss: 1.0711\n",
      "Epoch 40/1000\n",
      "24/24 [==============================] - 1s 56ms/step - loss: 0.9356 - val_loss: 1.0241\n",
      "Epoch 41/1000\n",
      "24/24 [==============================] - 1s 59ms/step - loss: 0.8918 - val_loss: 1.0095\n",
      "Epoch 42/1000\n",
      "24/24 [==============================] - 1s 56ms/step - loss: 0.9310 - val_loss: 1.0266\n",
      "Epoch 43/1000\n",
      "24/24 [==============================] - 1s 53ms/step - loss: 0.9839 - val_loss: 1.0322\n",
      "Epoch 44/1000\n",
      "24/24 [==============================] - 1s 57ms/step - loss: 0.9368 - val_loss: 1.0113\n",
      "Epoch 45/1000\n",
      "24/24 [==============================] - 1s 60ms/step - loss: 0.9773 - val_loss: 0.9834\n",
      "Epoch 46/1000\n",
      "24/24 [==============================] - 1s 56ms/step - loss: 0.9106 - val_loss: 0.9697\n",
      "Epoch 47/1000\n",
      "24/24 [==============================] - 2s 71ms/step - loss: 0.8621 - val_loss: 1.0062\n",
      "Epoch 48/1000\n",
      "24/24 [==============================] - 2s 82ms/step - loss: 0.9760 - val_loss: 1.0147\n",
      "Epoch 49/1000\n",
      "24/24 [==============================] - 1s 58ms/step - loss: 0.9233 - val_loss: 1.0226\n",
      "Epoch 50/1000\n",
      "24/24 [==============================] - 1s 57ms/step - loss: 0.9756 - val_loss: 1.0038\n",
      "Epoch 51/1000\n",
      "24/24 [==============================] - 1s 57ms/step - loss: 0.8766 - val_loss: 1.0004\n",
      "Epoch 52/1000\n",
      "24/24 [==============================] - 1s 56ms/step - loss: 1.0623 - val_loss: 0.9272\n",
      "Epoch 53/1000\n",
      "24/24 [==============================] - 1s 53ms/step - loss: 0.9749 - val_loss: 0.9532\n",
      "Epoch 54/1000\n",
      "24/24 [==============================] - 1s 56ms/step - loss: 1.0352 - val_loss: 0.9761\n",
      "Epoch 55/1000\n",
      "24/24 [==============================] - 1s 56ms/step - loss: 1.0720 - val_loss: 0.9519\n",
      "Epoch 56/1000\n",
      "24/24 [==============================] - 1s 53ms/step - loss: 0.9109 - val_loss: 0.9729\n",
      "Epoch 57/1000\n",
      "24/24 [==============================] - 1s 56ms/step - loss: 0.9334 - val_loss: 1.0178\n",
      "Epoch 58/1000\n",
      "24/24 [==============================] - 1s 56ms/step - loss: 0.9213 - val_loss: 1.0244\n",
      "Epoch 59/1000\n",
      "24/24 [==============================] - 2s 76ms/step - loss: 0.8589 - val_loss: 1.0042\n",
      "Epoch 60/1000\n",
      "24/24 [==============================] - 1s 58ms/step - loss: 0.9358 - val_loss: 0.9955\n",
      "Epoch 61/1000\n",
      "24/24 [==============================] - 1s 57ms/step - loss: 0.8683 - val_loss: 0.9764\n",
      "Epoch 62/1000\n",
      "24/24 [==============================] - 2s 68ms/step - loss: 0.9396 - val_loss: 0.9393\n",
      "Epoch 63/1000\n",
      "24/24 [==============================] - 1s 58ms/step - loss: 0.9043 - val_loss: 0.9682\n",
      "Epoch 64/1000\n",
      "24/24 [==============================] - 1s 60ms/step - loss: 0.9748 - val_loss: 0.9727\n",
      "Epoch 65/1000\n",
      "24/24 [==============================] - 1s 53ms/step - loss: 1.1265 - val_loss: 0.9767\n",
      "Epoch 66/1000\n",
      "24/24 [==============================] - 1s 59ms/step - loss: 0.9862 - val_loss: 0.9796\n",
      "Epoch 67/1000\n",
      "24/24 [==============================] - 1s 54ms/step - loss: 1.1000 - val_loss: 0.9771\n",
      "Epoch 68/1000\n",
      "24/24 [==============================] - 1s 58ms/step - loss: 0.9935 - val_loss: 0.9780\n",
      "Epoch 69/1000\n",
      "24/24 [==============================] - 2s 95ms/step - loss: 0.9506 - val_loss: 0.9739\n",
      "Epoch 70/1000\n",
      "24/24 [==============================] - 2s 69ms/step - loss: 0.9337 - val_loss: 0.9706\n",
      "Epoch 71/1000\n",
      "24/24 [==============================] - 1s 59ms/step - loss: 1.0063 - val_loss: 0.9738\n",
      "Epoch 72/1000\n",
      "24/24 [==============================] - 1s 55ms/step - loss: 0.8800 - val_loss: 0.9724\n",
      "Epoch 73/1000\n",
      "24/24 [==============================] - 1s 57ms/step - loss: 1.1119 - val_loss: 0.9737\n",
      "Epoch 74/1000\n",
      "24/24 [==============================] - 1s 55ms/step - loss: 1.0029 - val_loss: 0.9733\n",
      "Epoch 75/1000\n",
      "24/24 [==============================] - 1s 55ms/step - loss: 0.9433 - val_loss: 0.9778\n",
      "Epoch 76/1000\n",
      "24/24 [==============================] - 1s 51ms/step - loss: 0.8663 - val_loss: 0.9815\n",
      "Epoch 77/1000\n",
      "24/24 [==============================] - 1s 53ms/step - loss: 0.9935 - val_loss: 0.9805\n",
      "Epoch 78/1000\n",
      "24/24 [==============================] - 1s 60ms/step - loss: 0.9252 - val_loss: 0.9780\n",
      "Epoch 79/1000\n",
      "24/24 [==============================] - 1s 59ms/step - loss: 1.0147 - val_loss: 0.9814\n",
      "Epoch 80/1000\n",
      "24/24 [==============================] - 1s 59ms/step - loss: 1.0375 - val_loss: 0.9816\n",
      "Epoch 81/1000\n",
      "24/24 [==============================] - 1s 56ms/step - loss: 1.1326 - val_loss: 0.9758\n",
      "Epoch 82/1000\n",
      "24/24 [==============================] - 2s 66ms/step - loss: 1.0077 - val_loss: 0.9720\n",
      "Epoch 83/1000\n",
      "24/24 [==============================] - 1s 62ms/step - loss: 1.0148 - val_loss: 0.9712\n",
      "Epoch 84/1000\n",
      "24/24 [==============================] - 1s 56ms/step - loss: 1.1240 - val_loss: 0.9698\n",
      "Epoch 85/1000\n",
      "24/24 [==============================] - 1s 57ms/step - loss: 1.0830 - val_loss: 0.9635\n",
      "Epoch 86/1000\n",
      "24/24 [==============================] - 2s 64ms/step - loss: 0.9834 - val_loss: 0.9581\n",
      "Epoch 87/1000\n",
      "24/24 [==============================] - 2s 73ms/step - loss: 0.9214 - val_loss: 0.9595\n",
      "Epoch 88/1000\n",
      "24/24 [==============================] - 1s 58ms/step - loss: 0.8488 - val_loss: 0.9607\n",
      "Epoch 89/1000\n",
      "24/24 [==============================] - 1s 53ms/step - loss: 0.9203 - val_loss: 0.9621\n",
      "Epoch 90/1000\n",
      "24/24 [==============================] - 1s 55ms/step - loss: 0.9085 - val_loss: 0.9620\n",
      "Epoch 91/1000\n",
      "24/24 [==============================] - 1s 55ms/step - loss: 0.9447 - val_loss: 0.9628\n",
      "Epoch 92/1000\n",
      "24/24 [==============================] - 2s 67ms/step - loss: 0.9989 - val_loss: 0.9624\n",
      "Epoch 93/1000\n",
      "24/24 [==============================] - 1s 62ms/step - loss: 1.0548 - val_loss: 0.9620\n",
      "Epoch 94/1000\n",
      "24/24 [==============================] - 1s 57ms/step - loss: 0.9441 - val_loss: 0.9621\n",
      "Epoch 95/1000\n",
      "24/24 [==============================] - 1s 62ms/step - loss: 1.0638 - val_loss: 0.9619\n",
      "Epoch 96/1000\n",
      "24/24 [==============================] - 1s 57ms/step - loss: 1.0739 - val_loss: 0.9614\n",
      "Epoch 97/1000\n",
      "24/24 [==============================] - 1s 56ms/step - loss: 1.0267 - val_loss: 0.9615\n",
      "Epoch 98/1000\n",
      "24/24 [==============================] - 1s 62ms/step - loss: 1.0259 - val_loss: 0.9614\n",
      "Epoch 99/1000\n",
      "24/24 [==============================] - 1s 55ms/step - loss: 0.9693 - val_loss: 0.9610\n",
      "Epoch 100/1000\n",
      "24/24 [==============================] - 2s 68ms/step - loss: 0.9913 - val_loss: 0.9613\n",
      "Epoch 101/1000\n",
      "24/24 [==============================] - 2s 68ms/step - loss: 1.0590 - val_loss: 0.9612\n",
      "Epoch 102/1000\n",
      "24/24 [==============================] - 1s 57ms/step - loss: 1.0370 - val_loss: 0.9610\n",
      "Epoch 103/1000\n",
      "24/24 [==============================] - 1s 56ms/step - loss: 0.9734 - val_loss: 0.9612\n",
      "Epoch 104/1000\n",
      "24/24 [==============================] - 1s 57ms/step - loss: 1.0845 - val_loss: 0.9616\n",
      "Epoch 105/1000\n",
      "24/24 [==============================] - 1s 54ms/step - loss: 0.9743 - val_loss: 0.9612\n",
      "Epoch 106/1000\n",
      "24/24 [==============================] - 1s 53ms/step - loss: 1.0348 - val_loss: 0.9608\n",
      "Epoch 107/1000\n",
      "24/24 [==============================] - 1s 54ms/step - loss: 1.2310 - val_loss: 0.9605\n",
      "Epoch 108/1000\n",
      "24/24 [==============================] - 1s 60ms/step - loss: 1.0803 - val_loss: 0.9608\n",
      "Epoch 109/1000\n",
      "24/24 [==============================] - 2s 70ms/step - loss: 0.9661 - val_loss: 0.9608\n",
      "Epoch 110/1000\n",
      "24/24 [==============================] - 1s 61ms/step - loss: 1.0188 - val_loss: 0.9607\n",
      "Epoch 111/1000\n",
      "24/24 [==============================] - 1s 55ms/step - loss: 0.9555 - val_loss: 0.9610\n",
      "Epoch 112/1000\n",
      "24/24 [==============================] - 1s 55ms/step - loss: 1.0372 - val_loss: 0.9613\n",
      "Epoch 113/1000\n",
      "24/24 [==============================] - 1s 53ms/step - loss: 1.0075 - val_loss: 0.9614\n",
      "Epoch 114/1000\n",
      "24/24 [==============================] - ETA: 0s - loss: 0.9379Restoring model weights from the end of the best epoch.\n",
      "24/24 [==============================] - 1s 56ms/step - loss: 0.9379 - val_loss: 0.9618\n",
      "Epoch 00114: early stopping\n"
     ]
    }
   ],
   "source": [
    "# History object for plotting our model loss by epoch\n",
    "history2 = model2.fit(x_train, y_train, batch_size = BATCH2, \n",
    "                    epochs = EPOCHS2, validation_data = (x_val, y_val),\n",
    "                    callbacks = [rlrop2, early_stop2])"
   ]
  },
  {
   "cell_type": "code",
   "execution_count": 42,
   "metadata": {
    "scrolled": false
   },
   "outputs": [
    {
     "data": {
      "image/png": "[encoded data removed]",
      "text/plain": [
       "<Figure size 720x504 with 1 Axes>"
      ]
     },
     "metadata": {
      "needs_background": "light"
     },
     "output_type": "display_data"
    }
   ],
   "source": [
    "# Loss History\n",
    "fig = plt.figure(figsize=(10, 7))\n",
    "plt.plot(history2.history['loss'])\n",
    "plt.plot(history2.history['val_loss'])\n",
    "plt.title('Model Loss')\n",
    "plt.ylabel('Loss')\n",
    "plt.xlabel('Epoch')\n",
    "plt.legend(['Train', 'Val'], loc='upper right')\n",
    "plt.show()"
   ]
  },
  {
   "cell_type": "markdown",
   "metadata": {},
   "source": [
    "### Previsão 12 meses em Validação"
   ]
  },
  {
   "cell_type": "code",
   "execution_count": 43,
   "metadata": {},
   "outputs": [
    {
     "data": {
      "text/plain": [
       "array([[1.1089821e+10],\n",
       "       [1.0782215e+10],\n",
       "       [1.1111628e+10],\n",
       "       [1.1385552e+10],\n",
       "       [1.1493775e+10],\n",
       "       [1.0881756e+10],\n",
       "       [1.1614675e+10],\n",
       "       [1.1601501e+10],\n",
       "       [1.1319942e+10],\n",
       "       [1.1658754e+10],\n",
       "       [1.1297250e+10],\n",
       "       [1.1349885e+10]], dtype=float32)"
      ]
     },
     "execution_count": 43,
     "metadata": {},
     "output_type": "execute_result"
    }
   ],
   "source": [
    "Y_pred_val2 = np.exp(model2.predict(x_val))\n",
    "Y_pred_val2"
   ]
  },
  {
   "cell_type": "code",
   "execution_count": 44,
   "metadata": {},
   "outputs": [
    {
     "data": {
      "text/plain": [
       "date\n",
       "2019-01-01    1.108982e+10\n",
       "2019-02-01    1.078222e+10\n",
       "2019-03-01    1.111163e+10\n",
       "2019-04-01    1.138555e+10\n",
       "2019-05-01    1.149378e+10\n",
       "2019-06-01    1.088176e+10\n",
       "2019-07-01    1.161467e+10\n",
       "2019-08-01    1.160150e+10\n",
       "2019-09-01    1.131994e+10\n",
       "2019-10-01    1.165875e+10\n",
       "2019-11-01    1.129725e+10\n",
       "2019-12-01    1.134988e+10\n",
       "dtype: float32"
      ]
     },
     "execution_count": 44,
     "metadata": {},
     "output_type": "execute_result"
    }
   ],
   "source": [
    "y_pred_val2 = pd.Series(Y_pred_val2.ravel())\n",
    "y_pred_val2.index = icms_val.index\n",
    "y_pred_val2"
   ]
  },
  {
   "cell_type": "code",
   "execution_count": 45,
   "metadata": {},
   "outputs": [
    {
     "data": {
      "text/plain": [
       "array([1.23668490e+10, 1.12659792e+10, 1.13099983e+10, 1.20169582e+10,\n",
       "       1.17336224e+10, 1.13874433e+10, 1.17709915e+10, 1.17840316e+10,\n",
       "       1.21473854e+10, 1.25171766e+10, 1.25745282e+10, 1.31462565e+10])"
      ]
     },
     "execution_count": 45,
     "metadata": {},
     "output_type": "execute_result"
    }
   ],
   "source": [
    "np.exp(y_val).ravel()"
   ]
  },
  {
   "cell_type": "code",
   "execution_count": 46,
   "metadata": {},
   "outputs": [
    {
     "data": {
      "text/plain": [
       "863799416.9965045"
      ]
     },
     "execution_count": 46,
     "metadata": {},
     "output_type": "execute_result"
    }
   ],
   "source": [
    "RMSE_lstm_val2 = mean_squared_error(np.exp(y_val).ravel(), y_pred_val2, squared=False)\n",
    "RMSE_lstm_val2"
   ]
  },
  {
   "cell_type": "code",
   "execution_count": 47,
   "metadata": {},
   "outputs": [
    {
     "data": {
      "text/plain": [
       "0.057068413471144906"
      ]
     },
     "execution_count": 47,
     "metadata": {},
     "output_type": "execute_result"
    }
   ],
   "source": [
    "MAPE_lstm_val2 = mean_absolute_percentage_error(np.exp(y_val).ravel(), y_pred_val2)\n",
    "MAPE_lstm_val2"
   ]
  },
  {
   "cell_type": "code",
   "execution_count": 48,
   "metadata": {},
   "outputs": [],
   "source": [
    "previsoes['nome'].append('RNN-LSTM-Larga')\n",
    "previsoes['modelo'].append(model2)\n",
    "previsoes['previsoes'].append(y_pred_val2)\n",
    "\n",
    "previsoes['rmse'].append(RMSE_lstm_val2)\n",
    "\n",
    "previsoes['mape'].append(MAPE_lstm_val2)"
   ]
  },
  {
   "cell_type": "code",
   "execution_count": 49,
   "metadata": {},
   "outputs": [],
   "source": [
    "previsoes['erro relativo'].append([erro_relativo(prev,real) \n",
    "                                   for prev,real in zip(y_pred_val2, y_test)])"
   ]
  },
  {
   "cell_type": "markdown",
   "metadata": {},
   "source": [
    "## Resultados"
   ]
  },
  {
   "cell_type": "code",
   "execution_count": 50,
   "metadata": {},
   "outputs": [],
   "source": [
    "df_prev = pd.DataFrame(data=previsoes['previsoes'], \n",
    "                       index=previsoes['nome']).transpose()\n",
    "df_prev[\"real\"] = icms_val\n",
    "df_rmse = pd.DataFrame(data=previsoes['rmse'], \n",
    "                       index=previsoes['nome']).transpose()\n",
    "df_mape = pd.DataFrame(data=previsoes['mape'], \n",
    "                       index=previsoes['nome']).transpose()\n",
    "df_erro = pd.DataFrame(data=previsoes['erro relativo'], \n",
    "                       index=previsoes['nome']).transpose()"
   ]
  },
  {
   "cell_type": "code",
   "execution_count": 51,
   "metadata": {},
   "outputs": [
    {
     "data": {
      "text/html": [
       "<div>\n",
       "<style scoped>\n",
       "    .dataframe tbody tr th:only-of-type {\n",
       "        vertical-align: middle;\n",
       "    }\n",
       "\n",
       "    .dataframe tbody tr th {\n",
       "        vertical-align: top;\n",
       "    }\n",
       "\n",
       "    .dataframe thead th {\n",
       "        text-align: right;\n",
       "    }\n",
       "</style>\n",
       "<table border=\"1\" class=\"dataframe\">\n",
       "  <thead>\n",
       "    <tr style=\"text-align: right;\">\n",
       "      <th></th>\n",
       "      <th>RNN-LSTM-Camadas</th>\n",
       "      <th>RNN-LSTM-Larga</th>\n",
       "      <th>real</th>\n",
       "    </tr>\n",
       "    <tr>\n",
       "      <th>date</th>\n",
       "      <th></th>\n",
       "      <th></th>\n",
       "      <th></th>\n",
       "    </tr>\n",
       "  </thead>\n",
       "  <tbody>\n",
       "    <tr>\n",
       "      <th>2019-01-01</th>\n",
       "      <td>1.151697e+10</td>\n",
       "      <td>1.108982e+10</td>\n",
       "      <td>1.236685e+10</td>\n",
       "    </tr>\n",
       "    <tr>\n",
       "      <th>2019-02-01</th>\n",
       "      <td>1.122198e+10</td>\n",
       "      <td>1.078222e+10</td>\n",
       "      <td>1.126598e+10</td>\n",
       "    </tr>\n",
       "    <tr>\n",
       "      <th>2019-03-01</th>\n",
       "      <td>1.136882e+10</td>\n",
       "      <td>1.111163e+10</td>\n",
       "      <td>1.131000e+10</td>\n",
       "    </tr>\n",
       "    <tr>\n",
       "      <th>2019-04-01</th>\n",
       "      <td>1.170671e+10</td>\n",
       "      <td>1.138555e+10</td>\n",
       "      <td>1.201696e+10</td>\n",
       "    </tr>\n",
       "    <tr>\n",
       "      <th>2019-05-01</th>\n",
       "      <td>1.205496e+10</td>\n",
       "      <td>1.149378e+10</td>\n",
       "      <td>1.173362e+10</td>\n",
       "    </tr>\n",
       "    <tr>\n",
       "      <th>2019-06-01</th>\n",
       "      <td>1.142120e+10</td>\n",
       "      <td>1.088176e+10</td>\n",
       "      <td>1.138744e+10</td>\n",
       "    </tr>\n",
       "    <tr>\n",
       "      <th>2019-07-01</th>\n",
       "      <td>1.213223e+10</td>\n",
       "      <td>1.161467e+10</td>\n",
       "      <td>1.177099e+10</td>\n",
       "    </tr>\n",
       "    <tr>\n",
       "      <th>2019-08-01</th>\n",
       "      <td>1.229298e+10</td>\n",
       "      <td>1.160150e+10</td>\n",
       "      <td>1.178403e+10</td>\n",
       "    </tr>\n",
       "    <tr>\n",
       "      <th>2019-09-01</th>\n",
       "      <td>1.208618e+10</td>\n",
       "      <td>1.131994e+10</td>\n",
       "      <td>1.214739e+10</td>\n",
       "    </tr>\n",
       "    <tr>\n",
       "      <th>2019-10-01</th>\n",
       "      <td>1.246650e+10</td>\n",
       "      <td>1.165875e+10</td>\n",
       "      <td>1.251718e+10</td>\n",
       "    </tr>\n",
       "    <tr>\n",
       "      <th>2019-11-01</th>\n",
       "      <td>1.202547e+10</td>\n",
       "      <td>1.129725e+10</td>\n",
       "      <td>1.257453e+10</td>\n",
       "    </tr>\n",
       "    <tr>\n",
       "      <th>2019-12-01</th>\n",
       "      <td>1.200182e+10</td>\n",
       "      <td>1.134988e+10</td>\n",
       "      <td>1.314626e+10</td>\n",
       "    </tr>\n",
       "  </tbody>\n",
       "</table>\n",
       "</div>"
      ],
      "text/plain": [
       "            RNN-LSTM-Camadas  RNN-LSTM-Larga          real\n",
       "date                                                      \n",
       "2019-01-01      1.151697e+10    1.108982e+10  1.236685e+10\n",
       "2019-02-01      1.122198e+10    1.078222e+10  1.126598e+10\n",
       "2019-03-01      1.136882e+10    1.111163e+10  1.131000e+10\n",
       "2019-04-01      1.170671e+10    1.138555e+10  1.201696e+10\n",
       "2019-05-01      1.205496e+10    1.149378e+10  1.173362e+10\n",
       "2019-06-01      1.142120e+10    1.088176e+10  1.138744e+10\n",
       "2019-07-01      1.213223e+10    1.161467e+10  1.177099e+10\n",
       "2019-08-01      1.229298e+10    1.160150e+10  1.178403e+10\n",
       "2019-09-01      1.208618e+10    1.131994e+10  1.214739e+10\n",
       "2019-10-01      1.246650e+10    1.165875e+10  1.251718e+10\n",
       "2019-11-01      1.202547e+10    1.129725e+10  1.257453e+10\n",
       "2019-12-01      1.200182e+10    1.134988e+10  1.314626e+10"
      ]
     },
     "execution_count": 51,
     "metadata": {},
     "output_type": "execute_result"
    }
   ],
   "source": [
    "df_prev"
   ]
  },
  {
   "cell_type": "code",
   "execution_count": 52,
   "metadata": {},
   "outputs": [
    {
     "data": {
      "text/html": [
       "<div>\n",
       "<style scoped>\n",
       "    .dataframe tbody tr th:only-of-type {\n",
       "        vertical-align: middle;\n",
       "    }\n",
       "\n",
       "    .dataframe tbody tr th {\n",
       "        vertical-align: top;\n",
       "    }\n",
       "\n",
       "    .dataframe thead th {\n",
       "        text-align: right;\n",
       "    }\n",
       "</style>\n",
       "<table border=\"1\" class=\"dataframe\">\n",
       "  <thead>\n",
       "    <tr style=\"text-align: right;\">\n",
       "      <th></th>\n",
       "      <th>RNN-LSTM-Camadas</th>\n",
       "      <th>RNN-LSTM-Larga</th>\n",
       "    </tr>\n",
       "  </thead>\n",
       "  <tbody>\n",
       "    <tr>\n",
       "      <th>0</th>\n",
       "      <td>[10.926964884280238]</td>\n",
       "      <td>[14.230574561841346]</td>\n",
       "    </tr>\n",
       "    <tr>\n",
       "      <th>1</th>\n",
       "      <td>[4.7115919111379885]</td>\n",
       "      <td>[8.44572064067292]</td>\n",
       "    </tr>\n",
       "    <tr>\n",
       "      <th>2</th>\n",
       "      <td>[5.933436257790527]</td>\n",
       "      <td>[8.061472096131986]</td>\n",
       "    </tr>\n",
       "    <tr>\n",
       "      <th>3</th>\n",
       "      <td>[11.965965649491979]</td>\n",
       "      <td>[8.894346154826803]</td>\n",
       "    </tr>\n",
       "    <tr>\n",
       "      <th>4</th>\n",
       "      <td>[33.59472091057134]</td>\n",
       "      <td>[27.375616011101187]</td>\n",
       "    </tr>\n",
       "    <tr>\n",
       "      <th>5</th>\n",
       "      <td>[14.400275165496348]</td>\n",
       "      <td>[8.996930753349595]</td>\n",
       "    </tr>\n",
       "    <tr>\n",
       "      <th>6</th>\n",
       "      <td>[6.903895639764195]</td>\n",
       "      <td>[2.343417373891573]</td>\n",
       "    </tr>\n",
       "    <tr>\n",
       "      <th>7</th>\n",
       "      <td>[0.127641231770037]</td>\n",
       "      <td>[5.504517840297479]</td>\n",
       "    </tr>\n",
       "    <tr>\n",
       "      <th>8</th>\n",
       "      <td>[7.727486463611286]</td>\n",
       "      <td>[13.577342548976935]</td>\n",
       "    </tr>\n",
       "    <tr>\n",
       "      <th>9</th>\n",
       "      <td>[10.169879095666994]</td>\n",
       "      <td>[15.990295867323576]</td>\n",
       "    </tr>\n",
       "    <tr>\n",
       "      <th>10</th>\n",
       "      <td>[18.448694511259863]</td>\n",
       "      <td>[23.387157761806204]</td>\n",
       "    </tr>\n",
       "    <tr>\n",
       "      <th>11</th>\n",
       "      <td>[19.485433943919155]</td>\n",
       "      <td>[23.858989992848027]</td>\n",
       "    </tr>\n",
       "  </tbody>\n",
       "</table>\n",
       "</div>"
      ],
      "text/plain": [
       "        RNN-LSTM-Camadas        RNN-LSTM-Larga\n",
       "0   [10.926964884280238]  [14.230574561841346]\n",
       "1   [4.7115919111379885]    [8.44572064067292]\n",
       "2    [5.933436257790527]   [8.061472096131986]\n",
       "3   [11.965965649491979]   [8.894346154826803]\n",
       "4    [33.59472091057134]  [27.375616011101187]\n",
       "5   [14.400275165496348]   [8.996930753349595]\n",
       "6    [6.903895639764195]   [2.343417373891573]\n",
       "7    [0.127641231770037]   [5.504517840297479]\n",
       "8    [7.727486463611286]  [13.577342548976935]\n",
       "9   [10.169879095666994]  [15.990295867323576]\n",
       "10  [18.448694511259863]  [23.387157761806204]\n",
       "11  [19.485433943919155]  [23.858989992848027]"
      ]
     },
     "execution_count": 52,
     "metadata": {},
     "output_type": "execute_result"
    }
   ],
   "source": [
    "df_erro"
   ]
  },
  {
   "cell_type": "markdown",
   "metadata": {},
   "source": [
    "### Resultados"
   ]
  },
  {
   "cell_type": "code",
   "execution_count": 53,
   "metadata": {
    "scrolled": false
   },
   "outputs": [
    {
     "data": {
      "image/png": "[encoded data removed]",
      "text/plain": [
       "<Figure size 1080x720 with 1 Axes>"
      ]
     },
     "metadata": {
      "needs_background": "light"
     },
     "output_type": "display_data"
    }
   ],
   "source": [
    "fig = plt.figure(figsize=(15, 10))\n",
    "ax = sns.lineplot(data=df_prev)"
   ]
  },
  {
   "cell_type": "markdown",
   "metadata": {},
   "source": [
    "#### RMSE"
   ]
  },
  {
   "cell_type": "code",
   "execution_count": 54,
   "metadata": {},
   "outputs": [
    {
     "data": {
      "image/png": "[encoded data removed]",
      "text/plain": [
       "<Figure size 1080x720 with 1 Axes>"
      ]
     },
     "metadata": {
      "needs_background": "light"
     },
     "output_type": "display_data"
    }
   ],
   "source": [
    "fig = plt.figure(figsize=(15, 10))\n",
    "ax = sns.barplot(data=df_rmse)"
   ]
  },
  {
   "cell_type": "markdown",
   "metadata": {},
   "source": [
    "#### MAPE"
   ]
  },
  {
   "cell_type": "code",
   "execution_count": 55,
   "metadata": {
    "scrolled": false
   },
   "outputs": [
    {
     "data": {
      "image/png": "[encoded data removed]",
      "text/plain": [
       "<Figure size 1080x720 with 1 Axes>"
      ]
     },
     "metadata": {
      "needs_background": "light"
     },
     "output_type": "display_data"
    }
   ],
   "source": [
    "fig = plt.figure(figsize=(15, 10))\n",
    "ax = sns.barplot(data=df_mape)"
   ]
  },
  {
   "cell_type": "markdown",
   "metadata": {},
   "source": [
    "### Resumo das métricas"
   ]
  },
  {
   "cell_type": "code",
   "execution_count": 56,
   "metadata": {},
   "outputs": [],
   "source": [
    "df_rmse.index = ['RMSE']\n",
    "df_mape.index = ['MAPE']"
   ]
  },
  {
   "cell_type": "code",
   "execution_count": 57,
   "metadata": {},
   "outputs": [
    {
     "data": {
      "text/html": [
       "<div>\n",
       "<style scoped>\n",
       "    .dataframe tbody tr th:only-of-type {\n",
       "        vertical-align: middle;\n",
       "    }\n",
       "\n",
       "    .dataframe tbody tr th {\n",
       "        vertical-align: top;\n",
       "    }\n",
       "\n",
       "    .dataframe thead th {\n",
       "        text-align: right;\n",
       "    }\n",
       "</style>\n",
       "<table border=\"1\" class=\"dataframe\">\n",
       "  <thead>\n",
       "    <tr style=\"text-align: right;\">\n",
       "      <th></th>\n",
       "      <th>RNN-LSTM-Camadas</th>\n",
       "      <th>RNN-LSTM-Larga</th>\n",
       "    </tr>\n",
       "  </thead>\n",
       "  <tbody>\n",
       "    <tr>\n",
       "      <th>RMSE</th>\n",
       "      <td>4.945843e+08</td>\n",
       "      <td>8.637994e+08</td>\n",
       "    </tr>\n",
       "    <tr>\n",
       "      <th>MAPE</th>\n",
       "      <td>2.897339e-02</td>\n",
       "      <td>5.706841e-02</td>\n",
       "    </tr>\n",
       "  </tbody>\n",
       "</table>\n",
       "</div>"
      ],
      "text/plain": [
       "      RNN-LSTM-Camadas  RNN-LSTM-Larga\n",
       "RMSE      4.945843e+08    8.637994e+08\n",
       "MAPE      2.897339e-02    5.706841e-02"
      ]
     },
     "execution_count": 57,
     "metadata": {},
     "output_type": "execute_result"
    }
   ],
   "source": [
    "df_metricas = df_rmse.copy()\n",
    "df_metricas = df_metricas.append(df_mape)\n",
    "df_metricas"
   ]
  }
 ],
 "metadata": {
  "kernelspec": {
   "display_name": "Python 3",
   "language": "python",
   "name": "python3"
  },
  "language_info": {
   "codemirror_mode": {
    "name": "ipython",
    "version": 3
   },
   "file_extension": ".py",
   "mimetype": "text/x-python",
   "name": "python",
   "nbconvert_exporter": "python",
   "pygments_lexer": "ipython3",
   "version": "3.6.4"
  }
 },
 "nbformat": 4,
 "nbformat_minor": 2
}
