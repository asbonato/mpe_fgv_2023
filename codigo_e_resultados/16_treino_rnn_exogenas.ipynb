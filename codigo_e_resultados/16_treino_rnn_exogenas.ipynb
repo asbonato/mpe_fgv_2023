{
 "cells": [
  {
   "cell_type": "markdown",
   "metadata": {},
   "source": [
    "# Aplicação de Modelos de Markov e Redes Neurais LSTM na Previsão de Arrecadação do ICMS Paulista\n",
    "## Resultados 2016\n",
    "\n",
    "### Antonio Sergio Ferreira Bonato"
   ]
  },
  {
   "cell_type": "markdown",
   "metadata": {},
   "source": [
    "Atualmente, na Secretaria da Fazenda e Planejamento do Estado de São Paulo, a previsão de arrecadação do ICMS paulista é feita usando-se um modelo ARIMA com variáveis exógenas, o ARIMAX. Mas o ICMS é não linear e há várias quebras estruturais controladas com diversas *dummies*. A consequência é um modelo bastante sobreajustado, inadequado para previsões de mais longo prazo (mais do que alguns meses, muito menos para um ano). \n",
    "A proposta deste trabalho é utilizar modelos não lineares multivariados na previsão do ICMS paulista, utilizando redes neurais recorrentes LSTM (*Long Short Term Memory*) e modelos Markov-Switching, fazendo um contraponto entre estes dois modelos. E utilizar, como baseline de comparação, o modelo ARIMAX atual. \n",
    "\n",
    "**Palavras-chave**: Markov-Switching Models. Redes Neurais Recorrentes. LSTM. ICMS."
   ]
  },
  {
   "cell_type": "markdown",
   "metadata": {},
   "source": [
    "## Treino das RNN-LSTM Multivariadas"
   ]
  },
  {
   "cell_type": "code",
   "execution_count": 1,
   "metadata": {},
   "outputs": [],
   "source": [
    "import pandas as pd\n",
    "import numpy as np\n",
    "import seaborn as sns\n",
    "import matplotlib.pyplot as plt\n",
    "import statsmodels.tsa.stattools\n",
    "import statsmodels.tsa.x13\n",
    "import statsmodels.graphics.tsaplots\n",
    "import statsmodels.api as sm\n",
    "from statsmodels.graphics.api import qqplot\n",
    "from statsmodels.tsa.api import acf, graphics, pacf\n",
    "from statsmodels.tsa.arima.model import ARIMA\n",
    "import pickle\n",
    "from pmdarima.arima import auto_arima\n",
    "from sklearn.metrics import mean_squared_error, mean_absolute_percentage_error\n",
    "import random\n",
    "import tensorflow as tf\n",
    "seed = 42\n",
    "random.seed(seed)\n",
    "np.random.seed(seed)\n",
    "tf.random.set_seed(seed)\n",
    "\n",
    "sns.set()\n",
    "sns.set_context(\"notebook\")\n",
    "sns.set(rc={'figure.figsize':(15,8)})"
   ]
  },
  {
   "cell_type": "code",
   "execution_count": 2,
   "metadata": {},
   "outputs": [],
   "source": [
    "import warnings\n",
    "warnings.filterwarnings('ignore')\n",
    "warnings.simplefilter('ignore')"
   ]
  },
  {
   "cell_type": "code",
   "execution_count": 3,
   "metadata": {},
   "outputs": [
    {
     "data": {
      "text/html": [
       "<div>\n",
       "<style scoped>\n",
       "    .dataframe tbody tr th:only-of-type {\n",
       "        vertical-align: middle;\n",
       "    }\n",
       "\n",
       "    .dataframe tbody tr th {\n",
       "        vertical-align: top;\n",
       "    }\n",
       "\n",
       "    .dataframe thead th {\n",
       "        text-align: right;\n",
       "    }\n",
       "</style>\n",
       "<table border=\"1\" class=\"dataframe\">\n",
       "  <thead>\n",
       "    <tr style=\"text-align: right;\">\n",
       "      <th></th>\n",
       "      <th>date</th>\n",
       "      <th>icms_sp</th>\n",
       "      <th>igp_m</th>\n",
       "      <th>dolar</th>\n",
       "      <th>ibc_br</th>\n",
       "      <th>dias_uteis</th>\n",
       "      <th>igp_m_22</th>\n",
       "      <th>dolar_22</th>\n",
       "      <th>ibc_br_22</th>\n",
       "      <th>igp_m_21</th>\n",
       "      <th>...</th>\n",
       "      <th>ibc_br_16</th>\n",
       "      <th>igp_m_15</th>\n",
       "      <th>dolar_15</th>\n",
       "      <th>ibc_br_15</th>\n",
       "      <th>igp_m_14</th>\n",
       "      <th>dolar_14</th>\n",
       "      <th>ibc_br_14</th>\n",
       "      <th>igp_m_13</th>\n",
       "      <th>dolar_13</th>\n",
       "      <th>ibc_br_13</th>\n",
       "    </tr>\n",
       "  </thead>\n",
       "  <tbody>\n",
       "    <tr>\n",
       "      <th>0</th>\n",
       "      <td>2003-01-01</td>\n",
       "      <td>3.360296e+09</td>\n",
       "      <td>277.173</td>\n",
       "      <td>3.4384</td>\n",
       "      <td>96.15</td>\n",
       "      <td>22</td>\n",
       "      <td>277.173</td>\n",
       "      <td>3.4384</td>\n",
       "      <td>96.15</td>\n",
       "      <td>277.173</td>\n",
       "      <td>...</td>\n",
       "      <td>96.15</td>\n",
       "      <td>277.173</td>\n",
       "      <td>3.4384</td>\n",
       "      <td>96.15</td>\n",
       "      <td>277.173</td>\n",
       "      <td>3.4384</td>\n",
       "      <td>96.15</td>\n",
       "      <td>277.173</td>\n",
       "      <td>3.4384</td>\n",
       "      <td>96.15</td>\n",
       "    </tr>\n",
       "    <tr>\n",
       "      <th>1</th>\n",
       "      <td>2003-02-01</td>\n",
       "      <td>3.196558e+09</td>\n",
       "      <td>283.506</td>\n",
       "      <td>3.5908</td>\n",
       "      <td>98.67</td>\n",
       "      <td>20</td>\n",
       "      <td>283.506</td>\n",
       "      <td>3.5908</td>\n",
       "      <td>98.67</td>\n",
       "      <td>283.506</td>\n",
       "      <td>...</td>\n",
       "      <td>98.67</td>\n",
       "      <td>283.506</td>\n",
       "      <td>3.5908</td>\n",
       "      <td>98.67</td>\n",
       "      <td>283.506</td>\n",
       "      <td>3.5908</td>\n",
       "      <td>98.67</td>\n",
       "      <td>283.506</td>\n",
       "      <td>3.5908</td>\n",
       "      <td>98.67</td>\n",
       "    </tr>\n",
       "    <tr>\n",
       "      <th>2</th>\n",
       "      <td>2003-03-01</td>\n",
       "      <td>3.160011e+09</td>\n",
       "      <td>287.855</td>\n",
       "      <td>3.4469</td>\n",
       "      <td>103.41</td>\n",
       "      <td>19</td>\n",
       "      <td>287.855</td>\n",
       "      <td>3.4469</td>\n",
       "      <td>103.41</td>\n",
       "      <td>287.855</td>\n",
       "      <td>...</td>\n",
       "      <td>103.41</td>\n",
       "      <td>287.855</td>\n",
       "      <td>3.4469</td>\n",
       "      <td>103.41</td>\n",
       "      <td>287.855</td>\n",
       "      <td>3.4469</td>\n",
       "      <td>103.41</td>\n",
       "      <td>287.855</td>\n",
       "      <td>3.4469</td>\n",
       "      <td>103.41</td>\n",
       "    </tr>\n",
       "    <tr>\n",
       "      <th>3</th>\n",
       "      <td>2003-04-01</td>\n",
       "      <td>3.215307e+09</td>\n",
       "      <td>290.512</td>\n",
       "      <td>3.1187</td>\n",
       "      <td>102.19</td>\n",
       "      <td>20</td>\n",
       "      <td>290.512</td>\n",
       "      <td>3.1187</td>\n",
       "      <td>102.19</td>\n",
       "      <td>290.512</td>\n",
       "      <td>...</td>\n",
       "      <td>102.19</td>\n",
       "      <td>290.512</td>\n",
       "      <td>3.1187</td>\n",
       "      <td>102.19</td>\n",
       "      <td>290.512</td>\n",
       "      <td>3.1187</td>\n",
       "      <td>102.19</td>\n",
       "      <td>290.512</td>\n",
       "      <td>3.1187</td>\n",
       "      <td>102.19</td>\n",
       "    </tr>\n",
       "    <tr>\n",
       "      <th>4</th>\n",
       "      <td>2003-05-01</td>\n",
       "      <td>3.098930e+09</td>\n",
       "      <td>289.747</td>\n",
       "      <td>2.9557</td>\n",
       "      <td>100.30</td>\n",
       "      <td>21</td>\n",
       "      <td>289.747</td>\n",
       "      <td>2.9557</td>\n",
       "      <td>100.30</td>\n",
       "      <td>289.747</td>\n",
       "      <td>...</td>\n",
       "      <td>100.30</td>\n",
       "      <td>289.747</td>\n",
       "      <td>2.9557</td>\n",
       "      <td>100.30</td>\n",
       "      <td>289.747</td>\n",
       "      <td>2.9557</td>\n",
       "      <td>100.30</td>\n",
       "      <td>289.747</td>\n",
       "      <td>2.9557</td>\n",
       "      <td>100.30</td>\n",
       "    </tr>\n",
       "  </tbody>\n",
       "</table>\n",
       "<p>5 rows × 36 columns</p>\n",
       "</div>"
      ],
      "text/plain": [
       "        date       icms_sp    igp_m   dolar  ibc_br  dias_uteis  igp_m_22  \\\n",
       "0 2003-01-01  3.360296e+09  277.173  3.4384   96.15          22   277.173   \n",
       "1 2003-02-01  3.196558e+09  283.506  3.5908   98.67          20   283.506   \n",
       "2 2003-03-01  3.160011e+09  287.855  3.4469  103.41          19   287.855   \n",
       "3 2003-04-01  3.215307e+09  290.512  3.1187  102.19          20   290.512   \n",
       "4 2003-05-01  3.098930e+09  289.747  2.9557  100.30          21   289.747   \n",
       "\n",
       "   dolar_22  ibc_br_22  igp_m_21  ...  ibc_br_16  igp_m_15  dolar_15  \\\n",
       "0    3.4384      96.15   277.173  ...      96.15   277.173    3.4384   \n",
       "1    3.5908      98.67   283.506  ...      98.67   283.506    3.5908   \n",
       "2    3.4469     103.41   287.855  ...     103.41   287.855    3.4469   \n",
       "3    3.1187     102.19   290.512  ...     102.19   290.512    3.1187   \n",
       "4    2.9557     100.30   289.747  ...     100.30   289.747    2.9557   \n",
       "\n",
       "   ibc_br_15  igp_m_14  dolar_14  ibc_br_14  igp_m_13  dolar_13  ibc_br_13  \n",
       "0      96.15   277.173    3.4384      96.15   277.173    3.4384      96.15  \n",
       "1      98.67   283.506    3.5908      98.67   283.506    3.5908      98.67  \n",
       "2     103.41   287.855    3.4469     103.41   287.855    3.4469     103.41  \n",
       "3     102.19   290.512    3.1187     102.19   290.512    3.1187     102.19  \n",
       "4     100.30   289.747    2.9557     100.30   289.747    2.9557     100.30  \n",
       "\n",
       "[5 rows x 36 columns]"
      ]
     },
     "execution_count": 3,
     "metadata": {},
     "output_type": "execute_result"
    }
   ],
   "source": [
    "df_main_orig = pd.read_excel(\"variaveis_previsao.xlsx\", parse_dates=['date'])\n",
    "df_main_orig.head()"
   ]
  },
  {
   "cell_type": "code",
   "execution_count": 4,
   "metadata": {},
   "outputs": [
    {
     "data": {
      "text/html": [
       "<div>\n",
       "<style scoped>\n",
       "    .dataframe tbody tr th:only-of-type {\n",
       "        vertical-align: middle;\n",
       "    }\n",
       "\n",
       "    .dataframe tbody tr th {\n",
       "        vertical-align: top;\n",
       "    }\n",
       "\n",
       "    .dataframe thead th {\n",
       "        text-align: right;\n",
       "    }\n",
       "</style>\n",
       "<table border=\"1\" class=\"dataframe\">\n",
       "  <thead>\n",
       "    <tr style=\"text-align: right;\">\n",
       "      <th></th>\n",
       "      <th>date</th>\n",
       "      <th>icms_sp</th>\n",
       "      <th>igp_m</th>\n",
       "      <th>dolar</th>\n",
       "      <th>ibc_br</th>\n",
       "      <th>dias_uteis</th>\n",
       "      <th>igp_m_22</th>\n",
       "      <th>dolar_22</th>\n",
       "      <th>ibc_br_22</th>\n",
       "      <th>igp_m_21</th>\n",
       "      <th>...</th>\n",
       "      <th>ibc_br_16</th>\n",
       "      <th>igp_m_15</th>\n",
       "      <th>dolar_15</th>\n",
       "      <th>ibc_br_15</th>\n",
       "      <th>igp_m_14</th>\n",
       "      <th>dolar_14</th>\n",
       "      <th>ibc_br_14</th>\n",
       "      <th>igp_m_13</th>\n",
       "      <th>dolar_13</th>\n",
       "      <th>ibc_br_13</th>\n",
       "    </tr>\n",
       "  </thead>\n",
       "  <tbody>\n",
       "    <tr>\n",
       "      <th>235</th>\n",
       "      <td>2022-08-01</td>\n",
       "      <td>1.756224e+10</td>\n",
       "      <td>1185.004</td>\n",
       "      <td>5.143287</td>\n",
       "      <td>149.60</td>\n",
       "      <td>23</td>\n",
       "      <td>1137.167829</td>\n",
       "      <td>5.6496</td>\n",
       "      <td>146.408337</td>\n",
       "      <td>NaN</td>\n",
       "      <td>...</td>\n",
       "      <td>NaN</td>\n",
       "      <td>NaN</td>\n",
       "      <td>NaN</td>\n",
       "      <td>NaN</td>\n",
       "      <td>NaN</td>\n",
       "      <td>NaN</td>\n",
       "      <td>NaN</td>\n",
       "      <td>NaN</td>\n",
       "      <td>NaN</td>\n",
       "      <td>NaN</td>\n",
       "    </tr>\n",
       "    <tr>\n",
       "      <th>236</th>\n",
       "      <td>2022-09-01</td>\n",
       "      <td>1.726287e+10</td>\n",
       "      <td>1173.793</td>\n",
       "      <td>5.236957</td>\n",
       "      <td>144.44</td>\n",
       "      <td>21</td>\n",
       "      <td>1143.597376</td>\n",
       "      <td>5.6800</td>\n",
       "      <td>142.808302</td>\n",
       "      <td>NaN</td>\n",
       "      <td>...</td>\n",
       "      <td>NaN</td>\n",
       "      <td>NaN</td>\n",
       "      <td>NaN</td>\n",
       "      <td>NaN</td>\n",
       "      <td>NaN</td>\n",
       "      <td>NaN</td>\n",
       "      <td>NaN</td>\n",
       "      <td>NaN</td>\n",
       "      <td>NaN</td>\n",
       "      <td>NaN</td>\n",
       "    </tr>\n",
       "    <tr>\n",
       "      <th>237</th>\n",
       "      <td>2022-10-01</td>\n",
       "      <td>1.565000e+10</td>\n",
       "      <td>1162.391</td>\n",
       "      <td>5.250300</td>\n",
       "      <td>142.34</td>\n",
       "      <td>20</td>\n",
       "      <td>1150.115881</td>\n",
       "      <td>5.6700</td>\n",
       "      <td>144.063428</td>\n",
       "      <td>NaN</td>\n",
       "      <td>...</td>\n",
       "      <td>NaN</td>\n",
       "      <td>NaN</td>\n",
       "      <td>NaN</td>\n",
       "      <td>NaN</td>\n",
       "      <td>NaN</td>\n",
       "      <td>NaN</td>\n",
       "      <td>NaN</td>\n",
       "      <td>NaN</td>\n",
       "      <td>NaN</td>\n",
       "      <td>NaN</td>\n",
       "    </tr>\n",
       "    <tr>\n",
       "      <th>238</th>\n",
       "      <td>2022-11-01</td>\n",
       "      <td>1.605000e+10</td>\n",
       "      <td>1155.829</td>\n",
       "      <td>5.274650</td>\n",
       "      <td>140.80</td>\n",
       "      <td>20</td>\n",
       "      <td>1155.866460</td>\n",
       "      <td>5.6000</td>\n",
       "      <td>143.165409</td>\n",
       "      <td>NaN</td>\n",
       "      <td>...</td>\n",
       "      <td>NaN</td>\n",
       "      <td>NaN</td>\n",
       "      <td>NaN</td>\n",
       "      <td>NaN</td>\n",
       "      <td>NaN</td>\n",
       "      <td>NaN</td>\n",
       "      <td>NaN</td>\n",
       "      <td>NaN</td>\n",
       "      <td>NaN</td>\n",
       "      <td>NaN</td>\n",
       "    </tr>\n",
       "    <tr>\n",
       "      <th>239</th>\n",
       "      <td>2022-12-01</td>\n",
       "      <td>1.767135e+10</td>\n",
       "      <td>1161.006</td>\n",
       "      <td>5.242432</td>\n",
       "      <td>142.78</td>\n",
       "      <td>22</td>\n",
       "      <td>1161.645792</td>\n",
       "      <td>5.6000</td>\n",
       "      <td>141.405133</td>\n",
       "      <td>NaN</td>\n",
       "      <td>...</td>\n",
       "      <td>NaN</td>\n",
       "      <td>NaN</td>\n",
       "      <td>NaN</td>\n",
       "      <td>NaN</td>\n",
       "      <td>NaN</td>\n",
       "      <td>NaN</td>\n",
       "      <td>NaN</td>\n",
       "      <td>NaN</td>\n",
       "      <td>NaN</td>\n",
       "      <td>NaN</td>\n",
       "    </tr>\n",
       "  </tbody>\n",
       "</table>\n",
       "<p>5 rows × 36 columns</p>\n",
       "</div>"
      ],
      "text/plain": [
       "          date       icms_sp     igp_m     dolar  ibc_br  dias_uteis  \\\n",
       "235 2022-08-01  1.756224e+10  1185.004  5.143287  149.60          23   \n",
       "236 2022-09-01  1.726287e+10  1173.793  5.236957  144.44          21   \n",
       "237 2022-10-01  1.565000e+10  1162.391  5.250300  142.34          20   \n",
       "238 2022-11-01  1.605000e+10  1155.829  5.274650  140.80          20   \n",
       "239 2022-12-01  1.767135e+10  1161.006  5.242432  142.78          22   \n",
       "\n",
       "        igp_m_22  dolar_22   ibc_br_22  igp_m_21  ...  ibc_br_16  igp_m_15  \\\n",
       "235  1137.167829    5.6496  146.408337       NaN  ...        NaN       NaN   \n",
       "236  1143.597376    5.6800  142.808302       NaN  ...        NaN       NaN   \n",
       "237  1150.115881    5.6700  144.063428       NaN  ...        NaN       NaN   \n",
       "238  1155.866460    5.6000  143.165409       NaN  ...        NaN       NaN   \n",
       "239  1161.645792    5.6000  141.405133       NaN  ...        NaN       NaN   \n",
       "\n",
       "     dolar_15  ibc_br_15  igp_m_14  dolar_14  ibc_br_14  igp_m_13  dolar_13  \\\n",
       "235       NaN        NaN       NaN       NaN        NaN       NaN       NaN   \n",
       "236       NaN        NaN       NaN       NaN        NaN       NaN       NaN   \n",
       "237       NaN        NaN       NaN       NaN        NaN       NaN       NaN   \n",
       "238       NaN        NaN       NaN       NaN        NaN       NaN       NaN   \n",
       "239       NaN        NaN       NaN       NaN        NaN       NaN       NaN   \n",
       "\n",
       "     ibc_br_13  \n",
       "235        NaN  \n",
       "236        NaN  \n",
       "237        NaN  \n",
       "238        NaN  \n",
       "239        NaN  \n",
       "\n",
       "[5 rows x 36 columns]"
      ]
     },
     "execution_count": 4,
     "metadata": {},
     "output_type": "execute_result"
    }
   ],
   "source": [
    "df_main_orig.tail()"
   ]
  },
  {
   "cell_type": "code",
   "execution_count": 5,
   "metadata": {},
   "outputs": [
    {
     "name": "stdout",
     "output_type": "stream",
     "text": [
      "<class 'pandas.core.frame.DataFrame'>\n",
      "RangeIndex: 240 entries, 0 to 239\n",
      "Data columns (total 36 columns):\n",
      " #   Column      Non-Null Count  Dtype         \n",
      "---  ------      --------------  -----         \n",
      " 0   date        240 non-null    datetime64[ns]\n",
      " 1   icms_sp     240 non-null    float64       \n",
      " 2   igp_m       240 non-null    float64       \n",
      " 3   dolar       240 non-null    float64       \n",
      " 4   ibc_br      240 non-null    float64       \n",
      " 5   dias_uteis  240 non-null    int64         \n",
      " 6   igp_m_22    240 non-null    float64       \n",
      " 7   dolar_22    240 non-null    float64       \n",
      " 8   ibc_br_22   240 non-null    float64       \n",
      " 9   igp_m_21    228 non-null    float64       \n",
      " 10  dolar_21    228 non-null    float64       \n",
      " 11  ibc_br_21   228 non-null    float64       \n",
      " 12  igp_m_20    216 non-null    float64       \n",
      " 13  dolar_20    216 non-null    float64       \n",
      " 14  ibc_br_20   216 non-null    float64       \n",
      " 15  igp_m_19    204 non-null    float64       \n",
      " 16  dolar_19    204 non-null    float64       \n",
      " 17  ibc_br_19   204 non-null    float64       \n",
      " 18  igp_m_18    192 non-null    float64       \n",
      " 19  dolar_18    192 non-null    float64       \n",
      " 20  ibc_br_18   192 non-null    float64       \n",
      " 21  igp_m_17    180 non-null    float64       \n",
      " 22  dolar_17    180 non-null    float64       \n",
      " 23  ibc_br_17   180 non-null    float64       \n",
      " 24  igp_m_16    168 non-null    float64       \n",
      " 25  dolar_16    168 non-null    float64       \n",
      " 26  ibc_br_16   168 non-null    float64       \n",
      " 27  igp_m_15    156 non-null    float64       \n",
      " 28  dolar_15    156 non-null    float64       \n",
      " 29  ibc_br_15   156 non-null    float64       \n",
      " 30  igp_m_14    144 non-null    float64       \n",
      " 31  dolar_14    144 non-null    float64       \n",
      " 32  ibc_br_14   144 non-null    float64       \n",
      " 33  igp_m_13    132 non-null    float64       \n",
      " 34  dolar_13    132 non-null    float64       \n",
      " 35  ibc_br_13   132 non-null    float64       \n",
      "dtypes: datetime64[ns](1), float64(34), int64(1)\n",
      "memory usage: 67.6 KB\n"
     ]
    }
   ],
   "source": [
    "df_main_orig.info()"
   ]
  },
  {
   "cell_type": "markdown",
   "metadata": {},
   "source": [
    "Removendo as últimas linhas que são todas NaN"
   ]
  },
  {
   "cell_type": "code",
   "execution_count": 6,
   "metadata": {},
   "outputs": [],
   "source": [
    "df_main = df_main_orig.iloc[0:168]\n",
    "datas = df_main['date']"
   ]
  },
  {
   "cell_type": "code",
   "execution_count": 7,
   "metadata": {},
   "outputs": [
    {
     "data": {
      "text/html": [
       "<div>\n",
       "<style scoped>\n",
       "    .dataframe tbody tr th:only-of-type {\n",
       "        vertical-align: middle;\n",
       "    }\n",
       "\n",
       "    .dataframe tbody tr th {\n",
       "        vertical-align: top;\n",
       "    }\n",
       "\n",
       "    .dataframe thead th {\n",
       "        text-align: right;\n",
       "    }\n",
       "</style>\n",
       "<table border=\"1\" class=\"dataframe\">\n",
       "  <thead>\n",
       "    <tr style=\"text-align: right;\">\n",
       "      <th></th>\n",
       "      <th>date</th>\n",
       "      <th>icms_sp</th>\n",
       "      <th>igp_m</th>\n",
       "      <th>dolar</th>\n",
       "      <th>ibc_br</th>\n",
       "      <th>dias_uteis</th>\n",
       "      <th>igp_m_22</th>\n",
       "      <th>dolar_22</th>\n",
       "      <th>ibc_br_22</th>\n",
       "      <th>igp_m_21</th>\n",
       "      <th>...</th>\n",
       "      <th>ibc_br_16</th>\n",
       "      <th>igp_m_15</th>\n",
       "      <th>dolar_15</th>\n",
       "      <th>ibc_br_15</th>\n",
       "      <th>igp_m_14</th>\n",
       "      <th>dolar_14</th>\n",
       "      <th>ibc_br_14</th>\n",
       "      <th>igp_m_13</th>\n",
       "      <th>dolar_13</th>\n",
       "      <th>ibc_br_13</th>\n",
       "    </tr>\n",
       "  </thead>\n",
       "  <tbody>\n",
       "    <tr>\n",
       "      <th>163</th>\n",
       "      <td>2016-08-01</td>\n",
       "      <td>1.012199e+10</td>\n",
       "      <td>655.602</td>\n",
       "      <td>3.209661</td>\n",
       "      <td>138.17</td>\n",
       "      <td>23</td>\n",
       "      <td>655.602</td>\n",
       "      <td>3.209661</td>\n",
       "      <td>138.17</td>\n",
       "      <td>655.602</td>\n",
       "      <td>...</td>\n",
       "      <td>138.833735</td>\n",
       "      <td>NaN</td>\n",
       "      <td>NaN</td>\n",
       "      <td>NaN</td>\n",
       "      <td>NaN</td>\n",
       "      <td>NaN</td>\n",
       "      <td>NaN</td>\n",
       "      <td>NaN</td>\n",
       "      <td>NaN</td>\n",
       "      <td>NaN</td>\n",
       "    </tr>\n",
       "    <tr>\n",
       "      <th>164</th>\n",
       "      <td>2016-09-01</td>\n",
       "      <td>1.003972e+10</td>\n",
       "      <td>656.894</td>\n",
       "      <td>3.256371</td>\n",
       "      <td>133.88</td>\n",
       "      <td>21</td>\n",
       "      <td>656.894</td>\n",
       "      <td>3.256371</td>\n",
       "      <td>133.88</td>\n",
       "      <td>656.894</td>\n",
       "      <td>...</td>\n",
       "      <td>135.970326</td>\n",
       "      <td>NaN</td>\n",
       "      <td>NaN</td>\n",
       "      <td>NaN</td>\n",
       "      <td>NaN</td>\n",
       "      <td>NaN</td>\n",
       "      <td>NaN</td>\n",
       "      <td>NaN</td>\n",
       "      <td>NaN</td>\n",
       "      <td>NaN</td>\n",
       "    </tr>\n",
       "    <tr>\n",
       "      <th>165</th>\n",
       "      <td>2016-10-01</td>\n",
       "      <td>1.040347e+10</td>\n",
       "      <td>657.927</td>\n",
       "      <td>3.185800</td>\n",
       "      <td>132.74</td>\n",
       "      <td>20</td>\n",
       "      <td>657.927</td>\n",
       "      <td>3.185800</td>\n",
       "      <td>132.74</td>\n",
       "      <td>657.927</td>\n",
       "      <td>...</td>\n",
       "      <td>138.212684</td>\n",
       "      <td>NaN</td>\n",
       "      <td>NaN</td>\n",
       "      <td>NaN</td>\n",
       "      <td>NaN</td>\n",
       "      <td>NaN</td>\n",
       "      <td>NaN</td>\n",
       "      <td>NaN</td>\n",
       "      <td>NaN</td>\n",
       "      <td>NaN</td>\n",
       "    </tr>\n",
       "    <tr>\n",
       "      <th>166</th>\n",
       "      <td>2016-11-01</td>\n",
       "      <td>1.026535e+10</td>\n",
       "      <td>657.752</td>\n",
       "      <td>3.342000</td>\n",
       "      <td>132.37</td>\n",
       "      <td>20</td>\n",
       "      <td>657.752</td>\n",
       "      <td>3.342000</td>\n",
       "      <td>132.37</td>\n",
       "      <td>657.752</td>\n",
       "      <td>...</td>\n",
       "      <td>135.811314</td>\n",
       "      <td>NaN</td>\n",
       "      <td>NaN</td>\n",
       "      <td>NaN</td>\n",
       "      <td>NaN</td>\n",
       "      <td>NaN</td>\n",
       "      <td>NaN</td>\n",
       "      <td>NaN</td>\n",
       "      <td>NaN</td>\n",
       "      <td>NaN</td>\n",
       "    </tr>\n",
       "    <tr>\n",
       "      <th>167</th>\n",
       "      <td>2016-12-01</td>\n",
       "      <td>1.098004e+10</td>\n",
       "      <td>661.304</td>\n",
       "      <td>3.352268</td>\n",
       "      <td>133.32</td>\n",
       "      <td>22</td>\n",
       "      <td>661.304</td>\n",
       "      <td>3.352268</td>\n",
       "      <td>133.32</td>\n",
       "      <td>661.304</td>\n",
       "      <td>...</td>\n",
       "      <td>133.955092</td>\n",
       "      <td>NaN</td>\n",
       "      <td>NaN</td>\n",
       "      <td>NaN</td>\n",
       "      <td>NaN</td>\n",
       "      <td>NaN</td>\n",
       "      <td>NaN</td>\n",
       "      <td>NaN</td>\n",
       "      <td>NaN</td>\n",
       "      <td>NaN</td>\n",
       "    </tr>\n",
       "  </tbody>\n",
       "</table>\n",
       "<p>5 rows × 36 columns</p>\n",
       "</div>"
      ],
      "text/plain": [
       "          date       icms_sp    igp_m     dolar  ibc_br  dias_uteis  igp_m_22  \\\n",
       "163 2016-08-01  1.012199e+10  655.602  3.209661  138.17          23   655.602   \n",
       "164 2016-09-01  1.003972e+10  656.894  3.256371  133.88          21   656.894   \n",
       "165 2016-10-01  1.040347e+10  657.927  3.185800  132.74          20   657.927   \n",
       "166 2016-11-01  1.026535e+10  657.752  3.342000  132.37          20   657.752   \n",
       "167 2016-12-01  1.098004e+10  661.304  3.352268  133.32          22   661.304   \n",
       "\n",
       "     dolar_22  ibc_br_22  igp_m_21  ...   ibc_br_16  igp_m_15  dolar_15  \\\n",
       "163  3.209661     138.17   655.602  ...  138.833735       NaN       NaN   \n",
       "164  3.256371     133.88   656.894  ...  135.970326       NaN       NaN   \n",
       "165  3.185800     132.74   657.927  ...  138.212684       NaN       NaN   \n",
       "166  3.342000     132.37   657.752  ...  135.811314       NaN       NaN   \n",
       "167  3.352268     133.32   661.304  ...  133.955092       NaN       NaN   \n",
       "\n",
       "     ibc_br_15  igp_m_14  dolar_14  ibc_br_14  igp_m_13  dolar_13  ibc_br_13  \n",
       "163        NaN       NaN       NaN        NaN       NaN       NaN        NaN  \n",
       "164        NaN       NaN       NaN        NaN       NaN       NaN        NaN  \n",
       "165        NaN       NaN       NaN        NaN       NaN       NaN        NaN  \n",
       "166        NaN       NaN       NaN        NaN       NaN       NaN        NaN  \n",
       "167        NaN       NaN       NaN        NaN       NaN       NaN        NaN  \n",
       "\n",
       "[5 rows x 36 columns]"
      ]
     },
     "execution_count": 7,
     "metadata": {},
     "output_type": "execute_result"
    }
   ],
   "source": [
    "df_main.tail()"
   ]
  },
  {
   "cell_type": "markdown",
   "metadata": {},
   "source": [
    "### Criação das Séries\n",
    "Como os valores do ICMS são muito elevados a série será colocada em log."
   ]
  },
  {
   "cell_type": "code",
   "execution_count": 8,
   "metadata": {},
   "outputs": [],
   "source": [
    "icms_ts = pd.Series(np.log(list(df_main['icms_sp'])), index = datas)\n",
    "ibcbr_ts = pd.Series(list(df_main['ibc_br']), index = datas)\n",
    "igpm_ts = pd.Series(list(df_main['igp_m']), index = datas)\n",
    "dolar_ts = pd.Series(list(df_main['dolar']), index = datas)\n",
    "dias_uteis_ts = pd.Series(list(df_main['dias_uteis']), index = datas)"
   ]
  },
  {
   "cell_type": "markdown",
   "metadata": {},
   "source": [
    "#### Testes de Valores Nulos"
   ]
  },
  {
   "cell_type": "code",
   "execution_count": 9,
   "metadata": {},
   "outputs": [
    {
     "name": "stdout",
     "output_type": "stream",
     "text": [
      "ICMS 0\n",
      "IBC-Br 0\n",
      "IGP-DI 0\n",
      "Dólar 0\n",
      "Dias Úteis 0\n"
     ]
    }
   ],
   "source": [
    "print('ICMS', icms_ts.isnull().sum())\n",
    "print('IBC-Br', ibcbr_ts.isnull().sum())\n",
    "print('IGP-DI', igpm_ts.isnull().sum())\n",
    "print('Dólar', dolar_ts.isnull().sum())\n",
    "print('Dias Úteis', dias_uteis_ts.isnull().sum())"
   ]
  },
  {
   "cell_type": "markdown",
   "metadata": {},
   "source": [
    "### Plotando a Série em Nível"
   ]
  },
  {
   "cell_type": "code",
   "execution_count": 10,
   "metadata": {},
   "outputs": [
    {
     "data": {
      "image/png": "[encoded data removed]",
      "text/plain": [
       "<Figure size 1080x2160 with 5 Axes>"
      ]
     },
     "metadata": {
      "needs_background": "light"
     },
     "output_type": "display_data"
    }
   ],
   "source": [
    "fig=plt.figure(figsize=(15, 30))\n",
    "ax1=fig.add_subplot(511)\n",
    "ax2=fig.add_subplot(512)\n",
    "ax3=fig.add_subplot(513)\n",
    "ax4=fig.add_subplot(514)\n",
    "ax5=fig.add_subplot(515)\n",
    "#plots\n",
    "ax1.plot(icms_ts, 'tab:blue', label='Log ICMS SP')\n",
    "ax1.legend(loc='best')\n",
    "ax2.plot(dias_uteis_ts, 'tab:purple', label='Dias Úteis')\n",
    "ax2.legend(loc='best')\n",
    "ax3.plot(ibcbr_ts, 'tab:orange',  label='IBC-BR')\n",
    "ax3.legend(loc='best')\n",
    "ax4.plot(igpm_ts, 'tab:gray', label='IGP-M')\n",
    "ax4.legend(loc='best')\n",
    "ax5.plot(dolar_ts, 'tab:green', label='Dólar')\n",
    "ax5.legend(loc='best')\n",
    "plt.show()"
   ]
  },
  {
   "cell_type": "markdown",
   "metadata": {},
   "source": [
    "## Preparação para Previsões"
   ]
  },
  {
   "cell_type": "markdown",
   "metadata": {},
   "source": [
    "O artigo usa, além de MAPE e MSE, o erro relativo, que é \n",
    "\n",
    "$Erro Relativo = \\frac{|previsão - real|}{real}$"
   ]
  },
  {
   "cell_type": "code",
   "execution_count": 11,
   "metadata": {},
   "outputs": [],
   "source": [
    "def erro_relativo(prev, real):\n",
    "    return 100*np.absolute(prev-real)/real"
   ]
  },
  {
   "cell_type": "markdown",
   "metadata": {},
   "source": [
    "#### Dicionário de Previsões"
   ]
  },
  {
   "cell_type": "code",
   "execution_count": 12,
   "metadata": {},
   "outputs": [],
   "source": [
    "previsoes = {\n",
    "    'nome':[],\n",
    "    'modelo': [],\n",
    "    'previsoes': [],\n",
    "    'rmse': [],\n",
    "    'mape': [],\n",
    "    'erro relativo':[]\n",
    "}"
   ]
  },
  {
   "cell_type": "markdown",
   "metadata": {},
   "source": [
    "### Separando a amostra em treinamento (in-sample) e teste (out-of-sample)\n",
    "Serão usadas as séries com sazonalidade e em nível e as questões de sazonalidade e estacionariedade serão tratadas pelo modelo."
   ]
  },
  {
   "cell_type": "code",
   "execution_count": 13,
   "metadata": {},
   "outputs": [
    {
     "data": {
      "text/html": [
       "<div>\n",
       "<style scoped>\n",
       "    .dataframe tbody tr th:only-of-type {\n",
       "        vertical-align: middle;\n",
       "    }\n",
       "\n",
       "    .dataframe tbody tr th {\n",
       "        vertical-align: top;\n",
       "    }\n",
       "\n",
       "    .dataframe thead th {\n",
       "        text-align: right;\n",
       "    }\n",
       "</style>\n",
       "<table border=\"1\" class=\"dataframe\">\n",
       "  <thead>\n",
       "    <tr style=\"text-align: right;\">\n",
       "      <th></th>\n",
       "      <th>ibcbr</th>\n",
       "      <th>igpdi</th>\n",
       "      <th>dolar</th>\n",
       "      <th>dias_uteis</th>\n",
       "    </tr>\n",
       "    <tr>\n",
       "      <th>date</th>\n",
       "      <th></th>\n",
       "      <th></th>\n",
       "      <th></th>\n",
       "      <th></th>\n",
       "    </tr>\n",
       "  </thead>\n",
       "  <tbody>\n",
       "    <tr>\n",
       "      <th>2003-01-01</th>\n",
       "      <td>96.15</td>\n",
       "      <td>277.173</td>\n",
       "      <td>3.4384</td>\n",
       "      <td>22.0</td>\n",
       "    </tr>\n",
       "    <tr>\n",
       "      <th>2003-02-01</th>\n",
       "      <td>98.67</td>\n",
       "      <td>283.506</td>\n",
       "      <td>3.5908</td>\n",
       "      <td>20.0</td>\n",
       "    </tr>\n",
       "    <tr>\n",
       "      <th>2003-03-01</th>\n",
       "      <td>103.41</td>\n",
       "      <td>287.855</td>\n",
       "      <td>3.4469</td>\n",
       "      <td>19.0</td>\n",
       "    </tr>\n",
       "    <tr>\n",
       "      <th>2003-04-01</th>\n",
       "      <td>102.19</td>\n",
       "      <td>290.512</td>\n",
       "      <td>3.1187</td>\n",
       "      <td>20.0</td>\n",
       "    </tr>\n",
       "    <tr>\n",
       "      <th>2003-05-01</th>\n",
       "      <td>100.30</td>\n",
       "      <td>289.747</td>\n",
       "      <td>2.9557</td>\n",
       "      <td>21.0</td>\n",
       "    </tr>\n",
       "  </tbody>\n",
       "</table>\n",
       "</div>"
      ],
      "text/plain": [
       "             ibcbr    igpdi   dolar  dias_uteis\n",
       "date                                           \n",
       "2003-01-01   96.15  277.173  3.4384        22.0\n",
       "2003-02-01   98.67  283.506  3.5908        20.0\n",
       "2003-03-01  103.41  287.855  3.4469        19.0\n",
       "2003-04-01  102.19  290.512  3.1187        20.0\n",
       "2003-05-01  100.30  289.747  2.9557        21.0"
      ]
     },
     "execution_count": 13,
     "metadata": {},
     "output_type": "execute_result"
    }
   ],
   "source": [
    "exog_df = pd.DataFrame((ibcbr_ts, igpm_ts,\n",
    "                        dolar_ts, dias_uteis_ts\n",
    "                       ), \n",
    "                        index=['ibcbr', 'igpdi', 'dolar', 'dias_uteis'\n",
    "                            ]).transpose()\n",
    "exog_df.head() "
   ]
  },
  {
   "cell_type": "code",
   "execution_count": 14,
   "metadata": {},
   "outputs": [
    {
     "data": {
      "text/html": [
       "<div>\n",
       "<style scoped>\n",
       "    .dataframe tbody tr th:only-of-type {\n",
       "        vertical-align: middle;\n",
       "    }\n",
       "\n",
       "    .dataframe tbody tr th {\n",
       "        vertical-align: top;\n",
       "    }\n",
       "\n",
       "    .dataframe thead th {\n",
       "        text-align: right;\n",
       "    }\n",
       "</style>\n",
       "<table border=\"1\" class=\"dataframe\">\n",
       "  <thead>\n",
       "    <tr style=\"text-align: right;\">\n",
       "      <th></th>\n",
       "      <th>ibcbr</th>\n",
       "      <th>igpdi</th>\n",
       "      <th>dolar</th>\n",
       "      <th>dias_uteis</th>\n",
       "    </tr>\n",
       "    <tr>\n",
       "      <th>date</th>\n",
       "      <th></th>\n",
       "      <th></th>\n",
       "      <th></th>\n",
       "      <th></th>\n",
       "    </tr>\n",
       "  </thead>\n",
       "  <tbody>\n",
       "    <tr>\n",
       "      <th>2016-08-01</th>\n",
       "      <td>138.17</td>\n",
       "      <td>655.602</td>\n",
       "      <td>3.209661</td>\n",
       "      <td>23.0</td>\n",
       "    </tr>\n",
       "    <tr>\n",
       "      <th>2016-09-01</th>\n",
       "      <td>133.88</td>\n",
       "      <td>656.894</td>\n",
       "      <td>3.256371</td>\n",
       "      <td>21.0</td>\n",
       "    </tr>\n",
       "    <tr>\n",
       "      <th>2016-10-01</th>\n",
       "      <td>132.74</td>\n",
       "      <td>657.927</td>\n",
       "      <td>3.185800</td>\n",
       "      <td>20.0</td>\n",
       "    </tr>\n",
       "    <tr>\n",
       "      <th>2016-11-01</th>\n",
       "      <td>132.37</td>\n",
       "      <td>657.752</td>\n",
       "      <td>3.342000</td>\n",
       "      <td>20.0</td>\n",
       "    </tr>\n",
       "    <tr>\n",
       "      <th>2016-12-01</th>\n",
       "      <td>133.32</td>\n",
       "      <td>661.304</td>\n",
       "      <td>3.352268</td>\n",
       "      <td>22.0</td>\n",
       "    </tr>\n",
       "  </tbody>\n",
       "</table>\n",
       "</div>"
      ],
      "text/plain": [
       "             ibcbr    igpdi     dolar  dias_uteis\n",
       "date                                             \n",
       "2016-08-01  138.17  655.602  3.209661        23.0\n",
       "2016-09-01  133.88  656.894  3.256371        21.0\n",
       "2016-10-01  132.74  657.927  3.185800        20.0\n",
       "2016-11-01  132.37  657.752  3.342000        20.0\n",
       "2016-12-01  133.32  661.304  3.352268        22.0"
      ]
     },
     "execution_count": 14,
     "metadata": {},
     "output_type": "execute_result"
    }
   ],
   "source": [
    "exog_df.tail() "
   ]
  },
  {
   "cell_type": "code",
   "execution_count": 15,
   "metadata": {},
   "outputs": [
    {
     "name": "stdout",
     "output_type": "stream",
     "text": [
      "(168, 4) (144, 4) (12, 4) (12, 4)\n"
     ]
    }
   ],
   "source": [
    "exog = exog_df[:].to_numpy()\n",
    "exog_train = exog[:-24]\n",
    "exog_val = exog[-24:-12]\n",
    "exog_test = exog[-12:]\n",
    "print(exog.shape, exog_train.shape, exog_val.shape, exog_test.shape)"
   ]
  },
  {
   "cell_type": "code",
   "execution_count": 16,
   "metadata": {},
   "outputs": [
    {
     "name": "stdout",
     "output_type": "stream",
     "text": [
      "(168,) (144,) (12,) (12,)\n"
     ]
    }
   ],
   "source": [
    "icms_train = icms_ts[:-24]\n",
    "icms_val = np.exp(icms_ts[-24:-12]) # série sem log\n",
    "icms_test = np.exp(icms_ts[-12:]) # série sem log\n",
    "print(icms_ts.shape, icms_train.shape, icms_val.shape, icms_test.shape)"
   ]
  },
  {
   "cell_type": "code",
   "execution_count": 17,
   "metadata": {},
   "outputs": [
    {
     "name": "stdout",
     "output_type": "stream",
     "text": [
      "##############################\n",
      " date\n",
      "2003-01-01    21.935295\n",
      "2003-02-01    21.885340\n",
      "2003-03-01    21.873841\n",
      "2003-04-01    21.891189\n",
      "2003-05-01    21.854323\n",
      "                ...    \n",
      "2014-08-01    22.974564\n",
      "2014-09-01    23.005339\n",
      "2014-10-01    23.087287\n",
      "2014-11-01    23.040980\n",
      "2014-12-01    23.142818\n",
      "Length: 144, dtype: float64\n",
      "##############################\n",
      " date\n",
      "2015-01-01    9.987825e+09\n",
      "2015-02-01    9.919477e+09\n",
      "2015-03-01    9.871727e+09\n",
      "2015-04-01    1.037640e+10\n",
      "2015-05-01    9.740006e+09\n",
      "2015-06-01    1.032307e+10\n",
      "2015-07-01    1.029487e+10\n",
      "2015-08-01    9.864942e+09\n",
      "2015-09-01    1.051019e+10\n",
      "2015-10-01    1.056639e+10\n",
      "2015-11-01    1.029608e+10\n",
      "2015-12-01    1.109438e+10\n",
      "dtype: float64\n",
      "##############################\n",
      " date\n",
      "2016-01-01    1.004910e+10\n",
      "2016-02-01    1.002313e+10\n",
      "2016-03-01    1.003487e+10\n",
      "2016-04-01    9.838065e+09\n",
      "2016-05-01    9.984410e+09\n",
      "2016-06-01    9.883704e+09\n",
      "2016-07-01    9.569317e+09\n",
      "2016-08-01    1.012199e+10\n",
      "2016-09-01    1.003972e+10\n",
      "2016-10-01    1.040347e+10\n",
      "2016-11-01    1.026535e+10\n",
      "2016-12-01    1.098004e+10\n",
      "dtype: float64\n"
     ]
    }
   ],
   "source": [
    "print('#'*30+'\\n',icms_train)\n",
    "print('#'*30+'\\n',icms_val)\n",
    "print('#'*30+'\\n',icms_test)"
   ]
  },
  {
   "cell_type": "markdown",
   "metadata": {},
   "source": [
    "## Modelos RNN LSTM\n",
    "Redes Neurais Recorrentes com neurônios Long Short-Term Memory"
   ]
  },
  {
   "cell_type": "markdown",
   "metadata": {},
   "source": [
    "### Montagem da Série com as Variáveis Exógenas\n",
    "As redes neurais precisam de conjuntos de características e de etiquetas separados. As variáveis exógenas serão o conjunto de características e a variável endógena será o conjunto de etiquetas."
   ]
  },
  {
   "cell_type": "code",
   "execution_count": 18,
   "metadata": {},
   "outputs": [],
   "source": [
    "X_data = np.append(exog, np.roll(exog, 1, axis = 0), axis = 1)\n",
    "X_data = np.append(X_data, np.roll(exog, 2, axis = 0), axis = 1)[2:]\n",
    "Y_data = icms_ts[2:].to_numpy()"
   ]
  },
  {
   "cell_type": "code",
   "execution_count": 19,
   "metadata": {},
   "outputs": [
    {
     "data": {
      "text/plain": [
       "((166, 12), (166,))"
      ]
     },
     "execution_count": 19,
     "metadata": {},
     "output_type": "execute_result"
    }
   ],
   "source": [
    "X_data.shape, Y_data.shape"
   ]
  },
  {
   "cell_type": "markdown",
   "metadata": {},
   "source": [
    "#### Normalização dos Dados\n",
    "Serão normalizados usando-se min-max. Apenas as features, a variável target não será normalizada. Os dados serão dividos em treno, validação e teste para a normalização, de modo que o fit seja feito somente nos dados de treino, aumentando-se assim a probabilidade de generalização do modelo."
   ]
  },
  {
   "cell_type": "code",
   "execution_count": 20,
   "metadata": {},
   "outputs": [
    {
     "name": "stdout",
     "output_type": "stream",
     "text": [
      "(142, 12) (12, 12) (12, 12)\n",
      "(142,) (12,) (12,)\n"
     ]
    }
   ],
   "source": [
    "X_train = X_data[:-24]\n",
    "X_val = X_data[-24:-12]\n",
    "X_test = X_data[-12:]\n",
    "print(X_train.shape, X_val.shape, X_test.shape)\n",
    "Y_train = Y_data[:-24]\n",
    "Y_val = Y_data[-24:-12]\n",
    "Y_test = np.exp(Y_data[-12:]) # tirando o log\n",
    "print(Y_train.shape, Y_val.shape, Y_test.shape)"
   ]
  },
  {
   "cell_type": "code",
   "execution_count": 21,
   "metadata": {},
   "outputs": [
    {
     "name": "stdout",
     "output_type": "stream",
     "text": [
      "numéricas [0, 1, 2, 3, 4, 5, 6, 7, 8, 9, 10, 11]\n",
      "ColumnTransformer(transformers=[('min-max', MinMaxScaler(),\n",
      "                                 [0, 1, 2, 3, 4, 5, 6, 7, 8, 9, 10, 11])],\n",
      "                  verbose=True)\n",
      "[ColumnTransformer] ....... (1 of 1) Processing min-max, total=   0.0s\n",
      "(142, 12)\n",
      "(12, 12)\n",
      "(12, 12)\n"
     ]
    }
   ],
   "source": [
    "from sklearn.preprocessing import MinMaxScaler\n",
    "from sklearn.compose import ColumnTransformer\n",
    "# índice dos atributos numéricos\n",
    "num_atrib = list(range(X_train.shape[1]))\n",
    "print('numéricas', num_atrib)\n",
    "\n",
    "enc_x = ColumnTransformer([('min-max',MinMaxScaler(), num_atrib)], verbose=True)\n",
    "\n",
    "print(enc_x)\n",
    "X_train_std = enc_x.fit_transform(X_train)\n",
    "X_val_std = enc_x.transform(X_val)\n",
    "X_test_std = enc_x.transform(X_test)\n",
    "\n",
    "print(X_train_std.shape)\n",
    "print(X_val_std.shape)\n",
    "print(X_test_std.shape)"
   ]
  },
  {
   "cell_type": "code",
   "execution_count": 22,
   "metadata": {},
   "outputs": [
    {
     "name": "stdout",
     "output_type": "stream",
     "text": [
      "(142, 12, 1) (12, 12, 1) (12, 12, 1)\n",
      "(142, 1) (12, 1) (12, 1)\n"
     ]
    }
   ],
   "source": [
    "x_train = X_train_std.reshape(X_train_std.shape[0], X_train_std.shape[1], 1)\n",
    "x_val = X_val_std.reshape(X_val_std.shape[0], X_val_std.shape[1], 1)\n",
    "x_test = X_test_std.reshape(X_test_std.shape[0], X_test_std.shape[1], 1)\n",
    "print(x_train.shape, x_val.shape, x_test.shape)\n",
    "\n",
    "y_train = Y_train.reshape(Y_train.shape[0], 1)\n",
    "y_val = Y_val.reshape(Y_val.shape[0], 1)\n",
    "y_test = Y_test.reshape(Y_test.shape[0], 1)\n",
    "print(y_train.shape, y_val.shape, y_test.shape)"
   ]
  },
  {
   "cell_type": "markdown",
   "metadata": {},
   "source": [
    "### Criando o modelo LSTM"
   ]
  },
  {
   "cell_type": "code",
   "execution_count": 23,
   "metadata": {},
   "outputs": [],
   "source": [
    "# importando as bibliotecas do Keras\n",
    "from tensorflow.keras.models import Sequential\n",
    "from tensorflow.keras.layers import LSTM, Dense, Dropout, Conv1D, MaxPooling1D\n",
    "from tensorflow.keras.callbacks import ReduceLROnPlateau, EarlyStopping\n",
    "from tensorflow.keras.optimizers import Adam"
   ]
  },
  {
   "cell_type": "markdown",
   "metadata": {},
   "source": [
    "## Arquitetura da Rede - Camadas"
   ]
  },
  {
   "cell_type": "code",
   "execution_count": 24,
   "metadata": {},
   "outputs": [],
   "source": [
    "rlrop = ReduceLROnPlateau(monitor='val_loss', factor=0.1, patience=25)\n",
    "early_stop = EarlyStopping(monitor='val_loss', patience=100, verbose=1, \n",
    "                           restore_best_weights=True)"
   ]
  },
  {
   "cell_type": "code",
   "execution_count": 25,
   "metadata": {},
   "outputs": [],
   "source": [
    "# Épocas\n",
    "EPOCHS = 1000\n",
    "NEURONIOS = 600\n",
    "DROPOUT = 0.15\n",
    "LR = 1e-5\n",
    "BATCH = 8\n",
    "\n",
    "# Imstanciação do modelo\n",
    "model = Sequential()\n",
    "\n",
    "# Adicionar camada LSTM \n",
    "model.add(LSTM(activation='tanh', dropout=DROPOUT,\n",
    "        input_shape = (12, 1), return_sequences = True,\n",
    "        units = NEURONIOS))\n",
    "\n",
    "# Adicionar camada LSTM \n",
    "model.add(LSTM(activation='tanh', dropout=DROPOUT,\n",
    "        input_shape = (12, 1), return_sequences = True,\n",
    "        units = NEURONIOS))\n",
    "\n",
    "# Adicionar camada LSTM \n",
    "model.add(LSTM(activation='tanh', dropout=DROPOUT,\n",
    "        input_shape = (12, 1), return_sequences = False,\n",
    "        units = NEURONIOS))\n",
    "\n",
    "# Adicionar a camada de saída com 1 neurônio linear\n",
    "model.add(Dense(\n",
    "        units = 1,\n",
    "        activation = 'linear'))\n",
    "# a learning rate padrão do Adam é 0.001\n",
    "model.compile(loss = 'mape', optimizer = Adam(learning_rate=LR))"
   ]
  },
  {
   "cell_type": "code",
   "execution_count": 26,
   "metadata": {},
   "outputs": [
    {
     "name": "stdout",
     "output_type": "stream",
     "text": [
      "Model: \"sequential\"\n",
      "_________________________________________________________________\n",
      "Layer (type)                 Output Shape              Param #   \n",
      "=================================================================\n",
      "lstm (LSTM)                  (None, 12, 600)           1444800   \n",
      "_________________________________________________________________\n",
      "lstm_1 (LSTM)                (None, 12, 600)           2882400   \n",
      "_________________________________________________________________\n",
      "lstm_2 (LSTM)                (None, 600)               2882400   \n",
      "_________________________________________________________________\n",
      "dense (Dense)                (None, 1)                 601       \n",
      "=================================================================\n",
      "Total params: 7,210,201\n",
      "Trainable params: 7,210,201\n",
      "Non-trainable params: 0\n",
      "_________________________________________________________________\n"
     ]
    }
   ],
   "source": [
    "model.summary()"
   ]
  },
  {
   "cell_type": "code",
   "execution_count": 27,
   "metadata": {
    "scrolled": true
   },
   "outputs": [
    {
     "name": "stdout",
     "output_type": "stream",
     "text": [
      "Epoch 1/1000\n",
      "18/18 [==============================] - 6s 341ms/step - loss: 99.8829 - val_loss: 99.5841\n",
      "Epoch 2/1000\n",
      "18/18 [==============================] - 4s 221ms/step - loss: 99.6021 - val_loss: 99.0356\n",
      "Epoch 3/1000\n",
      "18/18 [==============================] - 4s 234ms/step - loss: 99.1639 - val_loss: 98.0825\n",
      "Epoch 4/1000\n",
      "18/18 [==============================] - 4s 240ms/step - loss: 98.3923 - val_loss: 96.1315\n",
      "Epoch 5/1000\n",
      "18/18 [==============================] - 4s 221ms/step - loss: 96.6642 - val_loss: 91.4709\n",
      "Epoch 6/1000\n",
      "18/18 [==============================] - 4s 231ms/step - loss: 92.1494 - val_loss: 78.1174\n",
      "Epoch 7/1000\n",
      "18/18 [==============================] - 4s 213ms/step - loss: 78.8419 - val_loss: 42.8988\n",
      "Epoch 8/1000\n",
      "18/18 [==============================] - 4s 210ms/step - loss: 48.0406 - val_loss: 8.1682\n",
      "Epoch 9/1000\n",
      "18/18 [==============================] - 4s 207ms/step - loss: 13.4792 - val_loss: 6.0084\n",
      "Epoch 10/1000\n",
      "18/18 [==============================] - 4s 222ms/step - loss: 4.8743 - val_loss: 5.6103\n",
      "Epoch 11/1000\n",
      "18/18 [==============================] - 4s 221ms/step - loss: 3.3423 - val_loss: 1.7771\n",
      "Epoch 12/1000\n",
      "18/18 [==============================] - 4s 232ms/step - loss: 1.9584 - val_loss: 0.9089\n",
      "Epoch 13/1000\n",
      "18/18 [==============================] - 4s 220ms/step - loss: 1.9491 - val_loss: 0.9716\n",
      "Epoch 14/1000\n",
      "18/18 [==============================] - 4s 216ms/step - loss: 1.7773 - val_loss: 0.3432\n",
      "Epoch 15/1000\n",
      "18/18 [==============================] - 4s 211ms/step - loss: 1.1502 - val_loss: 0.3107\n",
      "Epoch 16/1000\n",
      "18/18 [==============================] - 4s 212ms/step - loss: 1.2633 - val_loss: 0.2449\n",
      "Epoch 17/1000\n",
      "18/18 [==============================] - 4s 214ms/step - loss: 1.1810 - val_loss: 0.3070\n",
      "Epoch 18/1000\n",
      "18/18 [==============================] - 4s 213ms/step - loss: 1.0430 - val_loss: 0.1129\n",
      "Epoch 19/1000\n",
      "18/18 [==============================] - 4s 212ms/step - loss: 1.1133 - val_loss: 0.1783\n",
      "Epoch 20/1000\n",
      "18/18 [==============================] - 4s 217ms/step - loss: 0.8994 - val_loss: 0.4220\n",
      "Epoch 21/1000\n",
      "18/18 [==============================] - 4s 219ms/step - loss: 1.1978 - val_loss: 0.3288\n",
      "Epoch 22/1000\n",
      "18/18 [==============================] - 4s 222ms/step - loss: 0.9207 - val_loss: 0.6094\n",
      "Epoch 23/1000\n",
      "18/18 [==============================] - 5s 260ms/step - loss: 0.8957 - val_loss: 0.1075\n",
      "Epoch 24/1000\n",
      "18/18 [==============================] - 4s 224ms/step - loss: 0.9444 - val_loss: 0.2786\n",
      "Epoch 25/1000\n",
      "18/18 [==============================] - 4s 218ms/step - loss: 1.0449 - val_loss: 0.1895\n",
      "Epoch 26/1000\n",
      "18/18 [==============================] - 4s 216ms/step - loss: 0.8933 - val_loss: 0.5296\n",
      "Epoch 27/1000\n",
      "18/18 [==============================] - 4s 226ms/step - loss: 0.9320 - val_loss: 0.1862\n",
      "Epoch 28/1000\n",
      "18/18 [==============================] - 4s 221ms/step - loss: 0.9849 - val_loss: 0.2875\n",
      "Epoch 29/1000\n",
      "18/18 [==============================] - 4s 215ms/step - loss: 0.9923 - val_loss: 0.1834\n",
      "Epoch 30/1000\n",
      "18/18 [==============================] - 4s 216ms/step - loss: 0.9769 - val_loss: 0.4568\n",
      "Epoch 31/1000\n",
      "18/18 [==============================] - 4s 210ms/step - loss: 0.9076 - val_loss: 0.2668\n",
      "Epoch 32/1000\n",
      "18/18 [==============================] - 4s 214ms/step - loss: 0.8554 - val_loss: 0.4465\n",
      "Epoch 33/1000\n",
      "18/18 [==============================] - 4s 208ms/step - loss: 0.9130 - val_loss: 0.5119\n",
      "Epoch 34/1000\n",
      "18/18 [==============================] - 4s 206ms/step - loss: 0.9873 - val_loss: 0.2299\n",
      "Epoch 35/1000\n",
      "18/18 [==============================] - 4s 214ms/step - loss: 0.9149 - val_loss: 0.4190\n",
      "Epoch 36/1000\n",
      "18/18 [==============================] - 4s 221ms/step - loss: 0.9880 - val_loss: 0.4037\n",
      "Epoch 37/1000\n",
      "18/18 [==============================] - 4s 217ms/step - loss: 1.0390 - val_loss: 0.1443\n",
      "Epoch 38/1000\n",
      "18/18 [==============================] - 4s 211ms/step - loss: 0.9726 - val_loss: 0.3275\n",
      "Epoch 39/1000\n",
      "18/18 [==============================] - 4s 224ms/step - loss: 0.9673 - val_loss: 0.3053\n",
      "Epoch 40/1000\n",
      "18/18 [==============================] - 4s 212ms/step - loss: 0.8890 - val_loss: 0.3183\n",
      "Epoch 41/1000\n",
      "18/18 [==============================] - 4s 217ms/step - loss: 0.9092 - val_loss: 0.3233\n",
      "Epoch 42/1000\n",
      "18/18 [==============================] - 4s 207ms/step - loss: 0.8359 - val_loss: 0.2029\n",
      "Epoch 43/1000\n",
      "18/18 [==============================] - 4s 212ms/step - loss: 0.8680 - val_loss: 0.1218\n",
      "Epoch 44/1000\n",
      "18/18 [==============================] - 4s 218ms/step - loss: 0.8218 - val_loss: 0.3815\n",
      "Epoch 45/1000\n",
      "18/18 [==============================] - 4s 208ms/step - loss: 0.8211 - val_loss: 0.1275\n",
      "Epoch 46/1000\n",
      "18/18 [==============================] - 4s 216ms/step - loss: 0.9570 - val_loss: 0.2784\n",
      "Epoch 47/1000\n",
      "18/18 [==============================] - 4s 214ms/step - loss: 0.7801 - val_loss: 0.1959\n",
      "Epoch 48/1000\n",
      "18/18 [==============================] - 4s 219ms/step - loss: 1.0136 - val_loss: 0.5838\n",
      "Epoch 49/1000\n",
      "18/18 [==============================] - 4s 215ms/step - loss: 1.0650 - val_loss: 0.3775\n",
      "Epoch 50/1000\n",
      "18/18 [==============================] - 4s 209ms/step - loss: 0.9700 - val_loss: 0.2557\n",
      "Epoch 51/1000\n",
      "18/18 [==============================] - 4s 228ms/step - loss: 0.8890 - val_loss: 0.1918\n",
      "Epoch 52/1000\n",
      "18/18 [==============================] - 4s 229ms/step - loss: 0.8675 - val_loss: 0.1889\n",
      "Epoch 53/1000\n",
      "18/18 [==============================] - 4s 214ms/step - loss: 0.8788 - val_loss: 0.2725\n",
      "Epoch 54/1000\n",
      "18/18 [==============================] - 4s 220ms/step - loss: 1.0160 - val_loss: 0.2854\n",
      "Epoch 55/1000\n",
      "18/18 [==============================] - 4s 219ms/step - loss: 0.9019 - val_loss: 0.2308\n",
      "Epoch 56/1000\n",
      "18/18 [==============================] - 4s 217ms/step - loss: 0.9591 - val_loss: 0.2442\n",
      "Epoch 57/1000\n",
      "18/18 [==============================] - 4s 226ms/step - loss: 0.9189 - val_loss: 0.2735\n",
      "Epoch 58/1000\n",
      "18/18 [==============================] - 4s 216ms/step - loss: 0.7901 - val_loss: 0.2677\n",
      "Epoch 59/1000\n",
      "18/18 [==============================] - 4s 213ms/step - loss: 0.9313 - val_loss: 0.1826\n",
      "Epoch 60/1000\n",
      "18/18 [==============================] - 4s 206ms/step - loss: 0.8078 - val_loss: 0.1887\n",
      "Epoch 61/1000\n",
      "18/18 [==============================] - 4s 220ms/step - loss: 0.8985 - val_loss: 0.1808\n",
      "Epoch 62/1000\n",
      "18/18 [==============================] - 4s 220ms/step - loss: 0.9868 - val_loss: 0.2041\n",
      "Epoch 63/1000\n",
      "18/18 [==============================] - 4s 212ms/step - loss: 0.9611 - val_loss: 0.2718\n",
      "Epoch 64/1000\n",
      "18/18 [==============================] - 4s 230ms/step - loss: 1.0223 - val_loss: 0.2448\n",
      "Epoch 65/1000\n",
      "18/18 [==============================] - 4s 234ms/step - loss: 0.7097 - val_loss: 0.2231\n",
      "Epoch 66/1000\n",
      "18/18 [==============================] - 4s 224ms/step - loss: 0.9319 - val_loss: 0.2890\n",
      "Epoch 67/1000\n",
      "18/18 [==============================] - 4s 226ms/step - loss: 0.7635 - val_loss: 0.3132\n",
      "Epoch 68/1000\n",
      "18/18 [==============================] - 4s 229ms/step - loss: 0.8156 - val_loss: 0.3027\n",
      "Epoch 69/1000\n",
      "18/18 [==============================] - 4s 222ms/step - loss: 0.9404 - val_loss: 0.1967\n",
      "Epoch 70/1000\n",
      "18/18 [==============================] - 4s 231ms/step - loss: 0.8559 - val_loss: 0.2027\n",
      "Epoch 71/1000\n",
      "18/18 [==============================] - 4s 220ms/step - loss: 0.8286 - val_loss: 0.2341\n",
      "Epoch 72/1000\n",
      "18/18 [==============================] - 4s 227ms/step - loss: 0.7218 - val_loss: 0.2682\n",
      "Epoch 73/1000\n",
      "18/18 [==============================] - 4s 231ms/step - loss: 0.9577 - val_loss: 0.2491\n",
      "Epoch 74/1000\n",
      "18/18 [==============================] - 4s 232ms/step - loss: 0.8231 - val_loss: 0.2524\n",
      "Epoch 75/1000\n",
      "18/18 [==============================] - 4s 233ms/step - loss: 0.9915 - val_loss: 0.2508\n",
      "Epoch 76/1000\n",
      "18/18 [==============================] - 4s 246ms/step - loss: 0.8409 - val_loss: 0.2549\n",
      "Epoch 77/1000\n",
      "18/18 [==============================] - 4s 241ms/step - loss: 0.8227 - val_loss: 0.2516\n",
      "Epoch 78/1000\n",
      "18/18 [==============================] - 4s 240ms/step - loss: 0.7659 - val_loss: 0.2447\n",
      "Epoch 79/1000\n",
      "18/18 [==============================] - 4s 236ms/step - loss: 0.8587 - val_loss: 0.2451\n",
      "Epoch 80/1000\n",
      "18/18 [==============================] - 5s 293ms/step - loss: 0.7449 - val_loss: 0.2453\n",
      "Epoch 81/1000\n",
      "18/18 [==============================] - 4s 239ms/step - loss: 0.8388 - val_loss: 0.2350\n",
      "Epoch 82/1000\n",
      "18/18 [==============================] - 5s 264ms/step - loss: 0.7796 - val_loss: 0.2257\n",
      "Epoch 83/1000\n",
      "18/18 [==============================] - 5s 255ms/step - loss: 0.8338 - val_loss: 0.2228\n",
      "Epoch 84/1000\n",
      "18/18 [==============================] - 5s 264ms/step - loss: 0.8286 - val_loss: 0.2290\n",
      "Epoch 85/1000\n",
      "18/18 [==============================] - 4s 234ms/step - loss: 0.8226 - val_loss: 0.2317\n",
      "Epoch 86/1000\n",
      "18/18 [==============================] - 4s 214ms/step - loss: 0.7873 - val_loss: 0.2315\n",
      "Epoch 87/1000\n",
      "18/18 [==============================] - 4s 229ms/step - loss: 0.8286 - val_loss: 0.2248\n",
      "Epoch 88/1000\n",
      "18/18 [==============================] - 5s 250ms/step - loss: 0.8217 - val_loss: 0.2262\n",
      "Epoch 89/1000\n",
      "18/18 [==============================] - 4s 239ms/step - loss: 0.8549 - val_loss: 0.2310\n",
      "Epoch 90/1000\n",
      "18/18 [==============================] - 4s 242ms/step - loss: 0.8388 - val_loss: 0.2348\n",
      "Epoch 91/1000\n",
      "18/18 [==============================] - 4s 240ms/step - loss: 0.9427 - val_loss: 0.2385\n",
      "Epoch 92/1000\n",
      "18/18 [==============================] - 4s 226ms/step - loss: 1.0327 - val_loss: 0.2370\n",
      "Epoch 93/1000\n",
      "18/18 [==============================] - 5s 251ms/step - loss: 0.8406 - val_loss: 0.2360\n",
      "Epoch 94/1000\n",
      "18/18 [==============================] - 4s 240ms/step - loss: 0.9599 - val_loss: 0.2363\n",
      "Epoch 95/1000\n",
      "18/18 [==============================] - 4s 214ms/step - loss: 0.9205 - val_loss: 0.2378\n",
      "Epoch 96/1000\n",
      "18/18 [==============================] - 4s 244ms/step - loss: 0.9010 - val_loss: 0.2329\n",
      "Epoch 97/1000\n",
      "18/18 [==============================] - 4s 232ms/step - loss: 0.8198 - val_loss: 0.2308\n",
      "Epoch 98/1000\n",
      "18/18 [==============================] - 4s 226ms/step - loss: 0.8980 - val_loss: 0.2300\n",
      "Epoch 99/1000\n",
      "18/18 [==============================] - 4s 233ms/step - loss: 0.8552 - val_loss: 0.2301\n",
      "Epoch 100/1000\n",
      "18/18 [==============================] - 4s 233ms/step - loss: 0.7230 - val_loss: 0.2300\n",
      "Epoch 101/1000\n",
      "18/18 [==============================] - 4s 230ms/step - loss: 0.8884 - val_loss: 0.2297\n",
      "Epoch 102/1000\n",
      "18/18 [==============================] - 4s 230ms/step - loss: 0.6744 - val_loss: 0.2301\n",
      "Epoch 103/1000\n",
      "18/18 [==============================] - 4s 223ms/step - loss: 0.8529 - val_loss: 0.2302\n",
      "Epoch 104/1000\n",
      "18/18 [==============================] - 4s 208ms/step - loss: 0.8209 - val_loss: 0.2308\n",
      "Epoch 105/1000\n",
      "18/18 [==============================] - 4s 210ms/step - loss: 0.7602 - val_loss: 0.2303\n",
      "Epoch 106/1000\n",
      "18/18 [==============================] - 4s 224ms/step - loss: 0.8772 - val_loss: 0.2300\n",
      "Epoch 107/1000\n",
      "18/18 [==============================] - 4s 238ms/step - loss: 0.8071 - val_loss: 0.2290\n",
      "Epoch 108/1000\n",
      "18/18 [==============================] - 4s 233ms/step - loss: 0.8717 - val_loss: 0.2284\n",
      "Epoch 109/1000\n",
      "18/18 [==============================] - 4s 230ms/step - loss: 0.9093 - val_loss: 0.2285\n",
      "Epoch 110/1000\n",
      "18/18 [==============================] - 4s 232ms/step - loss: 0.9239 - val_loss: 0.2289\n",
      "Epoch 111/1000\n",
      "18/18 [==============================] - 4s 229ms/step - loss: 0.8859 - val_loss: 0.2288\n",
      "Epoch 112/1000\n",
      "18/18 [==============================] - 4s 233ms/step - loss: 0.8181 - val_loss: 0.2294\n",
      "Epoch 113/1000\n",
      "18/18 [==============================] - 4s 228ms/step - loss: 0.8574 - val_loss: 0.2298\n",
      "Epoch 114/1000\n",
      "18/18 [==============================] - 4s 217ms/step - loss: 0.9340 - val_loss: 0.2302\n",
      "Epoch 115/1000\n",
      "18/18 [==============================] - 4s 222ms/step - loss: 0.7915 - val_loss: 0.2313\n",
      "Epoch 116/1000\n",
      "18/18 [==============================] - 4s 225ms/step - loss: 0.7389 - val_loss: 0.2316\n",
      "Epoch 117/1000\n",
      "18/18 [==============================] - 4s 233ms/step - loss: 0.9253 - val_loss: 0.2327\n",
      "Epoch 118/1000\n",
      "18/18 [==============================] - 4s 220ms/step - loss: 1.0439 - val_loss: 0.2331\n",
      "Epoch 119/1000\n",
      "18/18 [==============================] - 4s 218ms/step - loss: 0.8576 - val_loss: 0.2333\n",
      "Epoch 120/1000\n",
      "18/18 [==============================] - 4s 230ms/step - loss: 0.8417 - val_loss: 0.2344\n",
      "Epoch 121/1000\n",
      "18/18 [==============================] - 4s 229ms/step - loss: 0.8225 - val_loss: 0.2350\n",
      "Epoch 122/1000\n",
      "18/18 [==============================] - 4s 225ms/step - loss: 0.7907 - val_loss: 0.2356\n",
      "Epoch 123/1000\n",
      "18/18 [==============================] - ETA: 0s - loss: 0.9403Restoring model weights from the end of the best epoch.\n",
      "18/18 [==============================] - 4s 229ms/step - loss: 0.9403 - val_loss: 0.2353\n",
      "Epoch 00123: early stopping\n"
     ]
    }
   ],
   "source": [
    "# History object for plotting our model loss by epoch\n",
    "history = model.fit(x_train, y_train, batch_size = BATCH, \n",
    "                    epochs = EPOCHS, validation_data = (x_val, y_val),\n",
    "                    callbacks = [rlrop, early_stop])"
   ]
  },
  {
   "cell_type": "code",
   "execution_count": 28,
   "metadata": {
    "scrolled": false
   },
   "outputs": [
    {
     "data": {
      "image/png": "[encoded data removed]",
      "text/plain": [
       "<Figure size 720x504 with 1 Axes>"
      ]
     },
     "metadata": {
      "needs_background": "light"
     },
     "output_type": "display_data"
    }
   ],
   "source": [
    "# Loss History\n",
    "fig = plt.figure(figsize=(10, 7))\n",
    "plt.plot(history.history['loss'])\n",
    "plt.plot(history.history['val_loss'])\n",
    "plt.title('Model Loss')\n",
    "plt.ylabel('Loss')\n",
    "plt.xlabel('Epoch')\n",
    "plt.legend(['Train', 'Val'], loc='upper right')\n",
    "plt.show()"
   ]
  },
  {
   "cell_type": "markdown",
   "metadata": {},
   "source": [
    "### Previsão 12 meses em Validação"
   ]
  },
  {
   "cell_type": "code",
   "execution_count": 29,
   "metadata": {},
   "outputs": [
    {
     "data": {
      "text/plain": [
       "array([[9.9262054e+09],\n",
       "       [9.5283108e+09],\n",
       "       [1.0255370e+10],\n",
       "       [1.0161714e+10],\n",
       "       [1.0072352e+10],\n",
       "       [1.0132798e+10],\n",
       "       [1.0471891e+10],\n",
       "       [1.0460193e+10],\n",
       "       [1.0526521e+10],\n",
       "       [1.0595695e+10],\n",
       "       [1.0464782e+10],\n",
       "       [1.0622405e+10]], dtype=float32)"
      ]
     },
     "execution_count": 29,
     "metadata": {},
     "output_type": "execute_result"
    }
   ],
   "source": [
    "Y_pred_val = np.exp(model.predict(x_val))\n",
    "Y_pred_val"
   ]
  },
  {
   "cell_type": "code",
   "execution_count": 30,
   "metadata": {},
   "outputs": [
    {
     "data": {
      "text/plain": [
       "date\n",
       "2015-01-01    9.926205e+09\n",
       "2015-02-01    9.528311e+09\n",
       "2015-03-01    1.025537e+10\n",
       "2015-04-01    1.016171e+10\n",
       "2015-05-01    1.007235e+10\n",
       "2015-06-01    1.013280e+10\n",
       "2015-07-01    1.047189e+10\n",
       "2015-08-01    1.046019e+10\n",
       "2015-09-01    1.052652e+10\n",
       "2015-10-01    1.059569e+10\n",
       "2015-11-01    1.046478e+10\n",
       "2015-12-01    1.062240e+10\n",
       "dtype: float32"
      ]
     },
     "execution_count": 30,
     "metadata": {},
     "output_type": "execute_result"
    }
   ],
   "source": [
    "y_pred_val = pd.Series(Y_pred_val.ravel())\n",
    "y_pred_val.index = icms_val.index\n",
    "y_pred_val"
   ]
  },
  {
   "cell_type": "code",
   "execution_count": 31,
   "metadata": {},
   "outputs": [
    {
     "data": {
      "text/plain": [
       "array([9.98782532e+09, 9.91947677e+09, 9.87172657e+09, 1.03763996e+10,\n",
       "       9.74000581e+09, 1.03230705e+10, 1.02948720e+10, 9.86494243e+09,\n",
       "       1.05101891e+10, 1.05663871e+10, 1.02960815e+10, 1.10943793e+10])"
      ]
     },
     "execution_count": 31,
     "metadata": {},
     "output_type": "execute_result"
    }
   ],
   "source": [
    "np.exp(y_val).ravel()"
   ]
  },
  {
   "cell_type": "code",
   "execution_count": 32,
   "metadata": {},
   "outputs": [
    {
     "data": {
      "text/plain": [
       "307509064.74126685"
      ]
     },
     "execution_count": 32,
     "metadata": {},
     "output_type": "execute_result"
    }
   ],
   "source": [
    "RMSE_lstm_val = mean_squared_error(np.exp(y_val).ravel(), y_pred_val, squared=False)\n",
    "RMSE_lstm_val"
   ]
  },
  {
   "cell_type": "code",
   "execution_count": 33,
   "metadata": {},
   "outputs": [
    {
     "data": {
      "text/plain": [
       "0.024874912069115282"
      ]
     },
     "execution_count": 33,
     "metadata": {},
     "output_type": "execute_result"
    }
   ],
   "source": [
    "MAPE_lstm_val = mean_absolute_percentage_error(np.exp(y_val).ravel(), y_pred_val)\n",
    "MAPE_lstm_val"
   ]
  },
  {
   "cell_type": "code",
   "execution_count": 34,
   "metadata": {},
   "outputs": [],
   "source": [
    "previsoes['nome'].append('RNN-LSTM-Camadas')\n",
    "previsoes['modelo'].append(model)\n",
    "previsoes['previsoes'].append(y_pred_val)\n",
    "\n",
    "previsoes['rmse'].append(RMSE_lstm_val)\n",
    "\n",
    "previsoes['mape'].append(MAPE_lstm_val)"
   ]
  },
  {
   "cell_type": "code",
   "execution_count": 35,
   "metadata": {},
   "outputs": [],
   "source": [
    "previsoes['erro relativo'].append([erro_relativo(prev,real) \n",
    "                                   for prev,real in zip(y_pred_val, y_test)])"
   ]
  },
  {
   "cell_type": "markdown",
   "metadata": {},
   "source": [
    "## Arquitetura da Rede - Larga"
   ]
  },
  {
   "cell_type": "code",
   "execution_count": 36,
   "metadata": {},
   "outputs": [],
   "source": [
    "rlrop2 = ReduceLROnPlateau(monitor='val_loss', factor=0.1, patience=25)\n",
    "early_stop2 = EarlyStopping(monitor='val_loss', patience=100, verbose=1, \n",
    "                           restore_best_weights=True)"
   ]
  },
  {
   "cell_type": "code",
   "execution_count": 37,
   "metadata": {},
   "outputs": [],
   "source": [
    "# Épocas\n",
    "EPOCHS2 = 1000\n",
    "NEURONIOS2 = 600\n",
    "DROPOUT2 = 0.15\n",
    "LR2 = 1e-5\n",
    "BATCH2 = 8\n",
    "\n",
    "# Imstanciação do modelo\n",
    "model2 = Sequential()\n",
    "\n",
    "# Adicionar camada LSTM \n",
    "model2.add(LSTM(activation='tanh', dropout=DROPOUT2,\n",
    "        input_shape = (12, 1), return_sequences = False,\n",
    "        units = NEURONIOS2))\n",
    "\n",
    "# Adicionar a camada de saída com 1 neurônio linear\n",
    "model2.add(Dense(\n",
    "        units = 1,\n",
    "        activation = 'linear'))\n",
    "# a learning rate padrão do Adam é 0.001\n",
    "model2.compile(loss = 'mape', optimizer = Adam(learning_rate=LR2))"
   ]
  },
  {
   "cell_type": "code",
   "execution_count": 38,
   "metadata": {},
   "outputs": [
    {
     "name": "stdout",
     "output_type": "stream",
     "text": [
      "Model: \"sequential_1\"\n",
      "_________________________________________________________________\n",
      "Layer (type)                 Output Shape              Param #   \n",
      "=================================================================\n",
      "lstm_3 (LSTM)                (None, 600)               1444800   \n",
      "_________________________________________________________________\n",
      "dense_1 (Dense)              (None, 1)                 601       \n",
      "=================================================================\n",
      "Total params: 1,445,401\n",
      "Trainable params: 1,445,401\n",
      "Non-trainable params: 0\n",
      "_________________________________________________________________\n"
     ]
    }
   ],
   "source": [
    "model2.summary()"
   ]
  },
  {
   "cell_type": "code",
   "execution_count": 39,
   "metadata": {
    "scrolled": true
   },
   "outputs": [
    {
     "name": "stdout",
     "output_type": "stream",
     "text": [
      "Epoch 1/1000\n",
      "18/18 [==============================] - 2s 105ms/step - loss: 99.9488 - val_loss: 99.7424\n",
      "Epoch 2/1000\n",
      "18/18 [==============================] - 1s 55ms/step - loss: 99.7536 - val_loss: 99.4182\n",
      "Epoch 3/1000\n",
      "18/18 [==============================] - 1s 57ms/step - loss: 99.5548 - val_loss: 99.0666\n",
      "Epoch 4/1000\n",
      "18/18 [==============================] - 1s 58ms/step - loss: 99.3428 - val_loss: 98.6722\n",
      "Epoch 5/1000\n",
      "18/18 [==============================] - 1s 57ms/step - loss: 99.0635 - val_loss: 98.1961\n",
      "Epoch 6/1000\n",
      "18/18 [==============================] - 1s 58ms/step - loss: 98.7755 - val_loss: 97.6022\n",
      "Epoch 7/1000\n",
      "18/18 [==============================] - 1s 53ms/step - loss: 98.3766 - val_loss: 96.8119\n",
      "Epoch 8/1000\n",
      "18/18 [==============================] - 1s 55ms/step - loss: 97.8159 - val_loss: 95.6943\n",
      "Epoch 9/1000\n",
      "18/18 [==============================] - 1s 62ms/step - loss: 97.0408 - val_loss: 93.9953\n",
      "Epoch 10/1000\n",
      "18/18 [==============================] - 1s 54ms/step - loss: 95.8052 - val_loss: 91.1552\n",
      "Epoch 11/1000\n",
      "18/18 [==============================] - 1s 57ms/step - loss: 93.7728 - val_loss: 85.9367\n",
      "Epoch 12/1000\n",
      "18/18 [==============================] - 1s 55ms/step - loss: 90.1804 - val_loss: 74.9779\n",
      "Epoch 13/1000\n",
      "18/18 [==============================] - 1s 58ms/step - loss: 81.6200 - val_loss: 52.1657\n",
      "Epoch 14/1000\n",
      "18/18 [==============================] - 1s 56ms/step - loss: 65.3150 - val_loss: 24.0844\n",
      "Epoch 15/1000\n",
      "18/18 [==============================] - 1s 55ms/step - loss: 38.1721 - val_loss: 7.4974\n",
      "Epoch 16/1000\n",
      "18/18 [==============================] - 1s 54ms/step - loss: 16.8682 - val_loss: 2.0746\n",
      "Epoch 17/1000\n",
      "18/18 [==============================] - 1s 55ms/step - loss: 5.1208 - val_loss: 3.9558\n",
      "Epoch 18/1000\n",
      "18/18 [==============================] - 1s 55ms/step - loss: 3.6031 - val_loss: 1.4848\n",
      "Epoch 19/1000\n",
      "18/18 [==============================] - 1s 57ms/step - loss: 2.9899 - val_loss: 0.3058\n",
      "Epoch 20/1000\n",
      "18/18 [==============================] - 1s 60ms/step - loss: 2.4692 - val_loss: 0.1622\n",
      "Epoch 21/1000\n",
      "18/18 [==============================] - 1s 55ms/step - loss: 1.6804 - val_loss: 0.7072\n",
      "Epoch 22/1000\n",
      "18/18 [==============================] - 1s 55ms/step - loss: 1.5450 - val_loss: 0.4640\n",
      "Epoch 23/1000\n",
      "18/18 [==============================] - 1s 57ms/step - loss: 1.4949 - val_loss: 0.7278\n",
      "Epoch 24/1000\n",
      "18/18 [==============================] - 1s 55ms/step - loss: 1.7215 - val_loss: 0.5913\n",
      "Epoch 25/1000\n",
      "18/18 [==============================] - 1s 55ms/step - loss: 0.9766 - val_loss: 0.9431\n",
      "Epoch 26/1000\n",
      "18/18 [==============================] - 1s 55ms/step - loss: 1.5707 - val_loss: 0.7737\n",
      "Epoch 27/1000\n",
      "18/18 [==============================] - 1s 53ms/step - loss: 0.9793 - val_loss: 1.1473\n",
      "Epoch 28/1000\n",
      "18/18 [==============================] - 1s 55ms/step - loss: 1.1318 - val_loss: 0.8200\n",
      "Epoch 29/1000\n",
      "18/18 [==============================] - 1s 58ms/step - loss: 1.0435 - val_loss: 0.9302\n",
      "Epoch 30/1000\n",
      "18/18 [==============================] - 1s 58ms/step - loss: 1.1647 - val_loss: 0.9825\n",
      "Epoch 31/1000\n",
      "18/18 [==============================] - 1s 52ms/step - loss: 1.0368 - val_loss: 0.8119\n",
      "Epoch 32/1000\n",
      "18/18 [==============================] - 1s 54ms/step - loss: 1.3372 - val_loss: 0.8919\n",
      "Epoch 33/1000\n",
      "18/18 [==============================] - 1s 57ms/step - loss: 1.0909 - val_loss: 0.9362\n",
      "Epoch 34/1000\n",
      "18/18 [==============================] - 1s 54ms/step - loss: 1.0347 - val_loss: 0.9240\n",
      "Epoch 35/1000\n",
      "18/18 [==============================] - 1s 54ms/step - loss: 1.1108 - val_loss: 0.9006\n",
      "Epoch 36/1000\n",
      "18/18 [==============================] - 1s 55ms/step - loss: 1.0250 - val_loss: 0.9896\n",
      "Epoch 37/1000\n",
      "18/18 [==============================] - 1s 59ms/step - loss: 1.0240 - val_loss: 0.8903\n",
      "Epoch 38/1000\n",
      "18/18 [==============================] - 1s 54ms/step - loss: 1.0002 - val_loss: 1.0849\n",
      "Epoch 39/1000\n",
      "18/18 [==============================] - 1s 55ms/step - loss: 1.0652 - val_loss: 0.9316\n",
      "Epoch 40/1000\n",
      "18/18 [==============================] - 1s 55ms/step - loss: 0.9467 - val_loss: 0.8282\n",
      "Epoch 41/1000\n",
      "18/18 [==============================] - 1s 56ms/step - loss: 1.2452 - val_loss: 0.7713\n",
      "Epoch 42/1000\n",
      "18/18 [==============================] - 1s 56ms/step - loss: 1.0010 - val_loss: 0.9932\n",
      "Epoch 43/1000\n",
      "18/18 [==============================] - 1s 57ms/step - loss: 1.1130 - val_loss: 0.9029\n",
      "Epoch 44/1000\n",
      "18/18 [==============================] - 1s 55ms/step - loss: 0.9993 - val_loss: 0.8911\n",
      "Epoch 45/1000\n",
      "18/18 [==============================] - 1s 54ms/step - loss: 0.9445 - val_loss: 0.9868\n",
      "Epoch 46/1000\n",
      "18/18 [==============================] - 1s 55ms/step - loss: 0.9295 - val_loss: 0.9464\n",
      "Epoch 47/1000\n",
      "18/18 [==============================] - 1s 55ms/step - loss: 1.1396 - val_loss: 0.9304\n",
      "Epoch 48/1000\n",
      "18/18 [==============================] - 1s 53ms/step - loss: 1.2151 - val_loss: 0.8801\n",
      "Epoch 49/1000\n",
      "18/18 [==============================] - 1s 53ms/step - loss: 1.0673 - val_loss: 0.8339\n",
      "Epoch 50/1000\n",
      "18/18 [==============================] - 1s 55ms/step - loss: 1.0936 - val_loss: 0.8534\n",
      "Epoch 51/1000\n",
      "18/18 [==============================] - 1s 58ms/step - loss: 1.1920 - val_loss: 0.9067\n",
      "Epoch 52/1000\n",
      "18/18 [==============================] - 1s 54ms/step - loss: 0.9274 - val_loss: 0.9112\n",
      "Epoch 53/1000\n",
      "18/18 [==============================] - 1s 56ms/step - loss: 0.9991 - val_loss: 0.8946\n",
      "Epoch 54/1000\n",
      "18/18 [==============================] - 1s 55ms/step - loss: 1.0001 - val_loss: 0.8775\n",
      "Epoch 55/1000\n",
      "18/18 [==============================] - 1s 57ms/step - loss: 0.9197 - val_loss: 0.9047\n",
      "Epoch 56/1000\n",
      "18/18 [==============================] - 1s 53ms/step - loss: 1.0032 - val_loss: 0.9119\n",
      "Epoch 57/1000\n",
      "18/18 [==============================] - 1s 54ms/step - loss: 1.0421 - val_loss: 0.8725\n",
      "Epoch 58/1000\n",
      "18/18 [==============================] - 1s 56ms/step - loss: 1.2258 - val_loss: 0.8266\n",
      "Epoch 59/1000\n",
      "18/18 [==============================] - 1s 54ms/step - loss: 1.1569 - val_loss: 0.8425\n",
      "Epoch 60/1000\n",
      "18/18 [==============================] - 1s 58ms/step - loss: 1.1139 - val_loss: 0.8919\n",
      "Epoch 61/1000\n",
      "18/18 [==============================] - 1s 57ms/step - loss: 1.0693 - val_loss: 0.8832\n",
      "Epoch 62/1000\n",
      "18/18 [==============================] - 1s 56ms/step - loss: 1.1607 - val_loss: 0.9029\n",
      "Epoch 63/1000\n",
      "18/18 [==============================] - 1s 55ms/step - loss: 0.9893 - val_loss: 0.9170\n",
      "Epoch 64/1000\n",
      "18/18 [==============================] - 1s 53ms/step - loss: 1.0949 - val_loss: 0.9507\n",
      "Epoch 65/1000\n",
      "18/18 [==============================] - 1s 56ms/step - loss: 1.0138 - val_loss: 0.9124\n",
      "Epoch 66/1000\n",
      "18/18 [==============================] - 1s 54ms/step - loss: 1.0255 - val_loss: 0.9068\n",
      "Epoch 67/1000\n",
      "18/18 [==============================] - 1s 52ms/step - loss: 0.9938 - val_loss: 0.9305\n",
      "Epoch 68/1000\n",
      "18/18 [==============================] - 1s 58ms/step - loss: 1.0592 - val_loss: 0.9190\n",
      "Epoch 69/1000\n",
      "18/18 [==============================] - 1s 55ms/step - loss: 1.0340 - val_loss: 0.8852\n",
      "Epoch 70/1000\n",
      "18/18 [==============================] - 1s 55ms/step - loss: 1.0158 - val_loss: 0.8600\n",
      "Epoch 71/1000\n",
      "18/18 [==============================] - 1s 55ms/step - loss: 1.0978 - val_loss: 0.8592\n",
      "Epoch 72/1000\n",
      "18/18 [==============================] - 1s 57ms/step - loss: 1.0859 - val_loss: 0.8622\n",
      "Epoch 73/1000\n",
      "18/18 [==============================] - 1s 53ms/step - loss: 0.9205 - val_loss: 0.8593\n",
      "Epoch 74/1000\n",
      "18/18 [==============================] - 1s 53ms/step - loss: 1.0630 - val_loss: 0.8601\n",
      "Epoch 75/1000\n",
      "18/18 [==============================] - 1s 55ms/step - loss: 0.9024 - val_loss: 0.8626\n",
      "Epoch 76/1000\n",
      "18/18 [==============================] - 1s 54ms/step - loss: 1.1274 - val_loss: 0.8653\n",
      "Epoch 77/1000\n",
      "18/18 [==============================] - 1s 56ms/step - loss: 0.8912 - val_loss: 0.8662\n",
      "Epoch 78/1000\n",
      "18/18 [==============================] - 1s 56ms/step - loss: 1.1487 - val_loss: 0.8622\n",
      "Epoch 79/1000\n",
      "18/18 [==============================] - 1s 55ms/step - loss: 0.8807 - val_loss: 0.8639\n",
      "Epoch 80/1000\n",
      "18/18 [==============================] - 1s 57ms/step - loss: 1.0633 - val_loss: 0.8698\n",
      "Epoch 81/1000\n"
     ]
    },
    {
     "name": "stdout",
     "output_type": "stream",
     "text": [
      "18/18 [==============================] - 1s 56ms/step - loss: 0.9735 - val_loss: 0.8750\n",
      "Epoch 82/1000\n",
      "18/18 [==============================] - 1s 55ms/step - loss: 0.9468 - val_loss: 0.8758\n",
      "Epoch 83/1000\n",
      "18/18 [==============================] - 1s 56ms/step - loss: 1.0322 - val_loss: 0.8717\n",
      "Epoch 84/1000\n",
      "18/18 [==============================] - 1s 56ms/step - loss: 1.0128 - val_loss: 0.8719\n",
      "Epoch 85/1000\n",
      "18/18 [==============================] - 1s 54ms/step - loss: 0.9578 - val_loss: 0.8723\n",
      "Epoch 86/1000\n",
      "18/18 [==============================] - 1s 55ms/step - loss: 0.9550 - val_loss: 0.8711\n",
      "Epoch 87/1000\n",
      "18/18 [==============================] - 1s 54ms/step - loss: 1.0981 - val_loss: 0.8665\n",
      "Epoch 88/1000\n",
      "18/18 [==============================] - 1s 57ms/step - loss: 1.0050 - val_loss: 0.8633\n",
      "Epoch 89/1000\n",
      "18/18 [==============================] - 1s 55ms/step - loss: 0.8631 - val_loss: 0.8648\n",
      "Epoch 90/1000\n",
      "18/18 [==============================] - 1s 57ms/step - loss: 1.0233 - val_loss: 0.8670\n",
      "Epoch 91/1000\n",
      "18/18 [==============================] - 1s 50ms/step - loss: 0.9284 - val_loss: 0.8690\n",
      "Epoch 92/1000\n",
      "18/18 [==============================] - 1s 40ms/step - loss: 0.9216 - val_loss: 0.8763\n",
      "Epoch 93/1000\n",
      "18/18 [==============================] - 1s 39ms/step - loss: 0.8511 - val_loss: 0.8818\n",
      "Epoch 94/1000\n",
      "18/18 [==============================] - 1s 40ms/step - loss: 0.9637 - val_loss: 0.8847\n",
      "Epoch 95/1000\n",
      "18/18 [==============================] - 1s 42ms/step - loss: 0.9213 - val_loss: 0.8841\n",
      "Epoch 96/1000\n",
      "18/18 [==============================] - 1s 43ms/step - loss: 0.9660 - val_loss: 0.8845\n",
      "Epoch 97/1000\n",
      "18/18 [==============================] - 1s 39ms/step - loss: 1.1129 - val_loss: 0.8848\n",
      "Epoch 98/1000\n",
      "18/18 [==============================] - 1s 40ms/step - loss: 1.1009 - val_loss: 0.8850\n",
      "Epoch 99/1000\n",
      "18/18 [==============================] - 1s 39ms/step - loss: 1.0117 - val_loss: 0.8849\n",
      "Epoch 100/1000\n",
      "18/18 [==============================] - 1s 39ms/step - loss: 1.0986 - val_loss: 0.8851\n",
      "Epoch 101/1000\n",
      "18/18 [==============================] - 1s 38ms/step - loss: 0.9648 - val_loss: 0.8848\n",
      "Epoch 102/1000\n",
      "18/18 [==============================] - 1s 41ms/step - loss: 1.1684 - val_loss: 0.8847\n",
      "Epoch 103/1000\n",
      "18/18 [==============================] - 1s 39ms/step - loss: 1.1996 - val_loss: 0.8845\n",
      "Epoch 104/1000\n",
      "18/18 [==============================] - 1s 45ms/step - loss: 1.0678 - val_loss: 0.8844\n",
      "Epoch 105/1000\n",
      "18/18 [==============================] - 1s 42ms/step - loss: 0.9984 - val_loss: 0.8843\n",
      "Epoch 106/1000\n",
      "18/18 [==============================] - 1s 45ms/step - loss: 0.9809 - val_loss: 0.8838\n",
      "Epoch 107/1000\n",
      "18/18 [==============================] - 1s 39ms/step - loss: 1.0860 - val_loss: 0.8835\n",
      "Epoch 108/1000\n",
      "18/18 [==============================] - 1s 40ms/step - loss: 1.0016 - val_loss: 0.8839\n",
      "Epoch 109/1000\n",
      "18/18 [==============================] - 1s 39ms/step - loss: 1.0855 - val_loss: 0.8836\n",
      "Epoch 110/1000\n",
      "18/18 [==============================] - 1s 44ms/step - loss: 1.1895 - val_loss: 0.8835\n",
      "Epoch 111/1000\n",
      "18/18 [==============================] - 1s 60ms/step - loss: 0.9730 - val_loss: 0.8840\n",
      "Epoch 112/1000\n",
      "18/18 [==============================] - 1s 60ms/step - loss: 1.0369 - val_loss: 0.8840\n",
      "Epoch 113/1000\n",
      "18/18 [==============================] - 1s 57ms/step - loss: 1.1340 - val_loss: 0.8841\n",
      "Epoch 114/1000\n",
      "18/18 [==============================] - 1s 45ms/step - loss: 1.1303 - val_loss: 0.8841\n",
      "Epoch 115/1000\n",
      "18/18 [==============================] - 1s 53ms/step - loss: 0.9111 - val_loss: 0.8842\n",
      "Epoch 116/1000\n",
      "18/18 [==============================] - 1s 52ms/step - loss: 1.0840 - val_loss: 0.8839\n",
      "Epoch 117/1000\n",
      "18/18 [==============================] - 1s 57ms/step - loss: 1.1217 - val_loss: 0.8841\n",
      "Epoch 118/1000\n",
      "18/18 [==============================] - 1s 62ms/step - loss: 1.0659 - val_loss: 0.8838\n",
      "Epoch 119/1000\n",
      "18/18 [==============================] - 1s 62ms/step - loss: 1.0958 - val_loss: 0.8840\n",
      "Epoch 120/1000\n",
      "17/18 [===========================>..] - ETA: 0s - loss: 1.0016Restoring model weights from the end of the best epoch.\n",
      "18/18 [==============================] - 1s 55ms/step - loss: 1.0179 - val_loss: 0.8842\n",
      "Epoch 00120: early stopping\n"
     ]
    }
   ],
   "source": [
    "# History object for plotting our model loss by epoch\n",
    "history2 = model2.fit(x_train, y_train, batch_size = BATCH2, \n",
    "                    epochs = EPOCHS2, validation_data = (x_val, y_val),\n",
    "                    callbacks = [rlrop2, early_stop2])"
   ]
  },
  {
   "cell_type": "code",
   "execution_count": 40,
   "metadata": {
    "scrolled": false
   },
   "outputs": [
    {
     "data": {
      "image/png": "[encoded data removed]",
      "text/plain": [
       "<Figure size 720x504 with 1 Axes>"
      ]
     },
     "metadata": {
      "needs_background": "light"
     },
     "output_type": "display_data"
    }
   ],
   "source": [
    "# Loss History\n",
    "fig = plt.figure(figsize=(10, 7))\n",
    "plt.plot(history2.history['loss'])\n",
    "plt.plot(history2.history['val_loss'])\n",
    "plt.title('Model Loss')\n",
    "plt.ylabel('Loss')\n",
    "plt.xlabel('Epoch')\n",
    "plt.legend(['Train', 'Val'], loc='upper right')\n",
    "plt.show()"
   ]
  },
  {
   "cell_type": "markdown",
   "metadata": {},
   "source": [
    "### Previsão 12 meses em Validação"
   ]
  },
  {
   "cell_type": "code",
   "execution_count": 41,
   "metadata": {},
   "outputs": [
    {
     "data": {
      "text/plain": [
       "array([[1.0356426e+10],\n",
       "       [1.0021494e+10],\n",
       "       [1.0811458e+10],\n",
       "       [1.0580892e+10],\n",
       "       [1.0430130e+10],\n",
       "       [1.0534295e+10],\n",
       "       [1.0728959e+10],\n",
       "       [1.0622627e+10],\n",
       "       [1.0633371e+10],\n",
       "       [1.0688640e+10],\n",
       "       [1.0566089e+10],\n",
       "       [1.0676414e+10]], dtype=float32)"
      ]
     },
     "execution_count": 41,
     "metadata": {},
     "output_type": "execute_result"
    }
   ],
   "source": [
    "Y_pred_val2 = np.exp(model2.predict(x_val))\n",
    "Y_pred_val2"
   ]
  },
  {
   "cell_type": "code",
   "execution_count": 42,
   "metadata": {},
   "outputs": [
    {
     "data": {
      "text/plain": [
       "date\n",
       "2015-01-01    1.035643e+10\n",
       "2015-02-01    1.002149e+10\n",
       "2015-03-01    1.081146e+10\n",
       "2015-04-01    1.058089e+10\n",
       "2015-05-01    1.043013e+10\n",
       "2015-06-01    1.053429e+10\n",
       "2015-07-01    1.072896e+10\n",
       "2015-08-01    1.062263e+10\n",
       "2015-09-01    1.063337e+10\n",
       "2015-10-01    1.068864e+10\n",
       "2015-11-01    1.056609e+10\n",
       "2015-12-01    1.067641e+10\n",
       "dtype: float32"
      ]
     },
     "execution_count": 42,
     "metadata": {},
     "output_type": "execute_result"
    }
   ],
   "source": [
    "y_pred_val2 = pd.Series(Y_pred_val2.ravel())\n",
    "y_pred_val2.index = icms_val.index\n",
    "y_pred_val2"
   ]
  },
  {
   "cell_type": "code",
   "execution_count": 43,
   "metadata": {},
   "outputs": [
    {
     "data": {
      "text/plain": [
       "array([9.98782532e+09, 9.91947677e+09, 9.87172657e+09, 1.03763996e+10,\n",
       "       9.74000581e+09, 1.03230705e+10, 1.02948720e+10, 9.86494243e+09,\n",
       "       1.05101891e+10, 1.05663871e+10, 1.02960815e+10, 1.10943793e+10])"
      ]
     },
     "execution_count": 43,
     "metadata": {},
     "output_type": "execute_result"
    }
   ],
   "source": [
    "np.exp(y_val).ravel()"
   ]
  },
  {
   "cell_type": "code",
   "execution_count": 44,
   "metadata": {},
   "outputs": [
    {
     "data": {
      "text/plain": [
       "468357714.8051248"
      ]
     },
     "execution_count": 44,
     "metadata": {},
     "output_type": "execute_result"
    }
   ],
   "source": [
    "RMSE_lstm_val2 = mean_squared_error(np.exp(y_val).ravel(), y_pred_val2, squared=False)\n",
    "RMSE_lstm_val2"
   ]
  },
  {
   "cell_type": "code",
   "execution_count": 45,
   "metadata": {},
   "outputs": [
    {
     "data": {
      "text/plain": [
       "0.03829718352090341"
      ]
     },
     "execution_count": 45,
     "metadata": {},
     "output_type": "execute_result"
    }
   ],
   "source": [
    "MAPE_lstm_val2 = mean_absolute_percentage_error(np.exp(y_val).ravel(), y_pred_val2)\n",
    "MAPE_lstm_val2"
   ]
  },
  {
   "cell_type": "code",
   "execution_count": 46,
   "metadata": {},
   "outputs": [],
   "source": [
    "previsoes['nome'].append('RNN-LSTM-Larga')\n",
    "previsoes['modelo'].append(model2)\n",
    "previsoes['previsoes'].append(y_pred_val2)\n",
    "\n",
    "previsoes['rmse'].append(RMSE_lstm_val2)\n",
    "\n",
    "previsoes['mape'].append(MAPE_lstm_val2)"
   ]
  },
  {
   "cell_type": "code",
   "execution_count": 47,
   "metadata": {},
   "outputs": [],
   "source": [
    "previsoes['erro relativo'].append([erro_relativo(prev,real) \n",
    "                                   for prev,real in zip(y_pred_val2, y_test)])"
   ]
  },
  {
   "cell_type": "markdown",
   "metadata": {},
   "source": [
    "## Resultados"
   ]
  },
  {
   "cell_type": "code",
   "execution_count": 48,
   "metadata": {},
   "outputs": [],
   "source": [
    "df_prev = pd.DataFrame(data=previsoes['previsoes'], \n",
    "                       index=previsoes['nome']).transpose()\n",
    "df_prev[\"real\"] = icms_val\n",
    "df_rmse = pd.DataFrame(data=previsoes['rmse'], \n",
    "                       index=previsoes['nome']).transpose()\n",
    "df_mape = pd.DataFrame(data=previsoes['mape'], \n",
    "                       index=previsoes['nome']).transpose()\n",
    "df_erro = pd.DataFrame(data=previsoes['erro relativo'], \n",
    "                       index=previsoes['nome']).transpose()"
   ]
  },
  {
   "cell_type": "code",
   "execution_count": 49,
   "metadata": {},
   "outputs": [
    {
     "data": {
      "text/html": [
       "<div>\n",
       "<style scoped>\n",
       "    .dataframe tbody tr th:only-of-type {\n",
       "        vertical-align: middle;\n",
       "    }\n",
       "\n",
       "    .dataframe tbody tr th {\n",
       "        vertical-align: top;\n",
       "    }\n",
       "\n",
       "    .dataframe thead th {\n",
       "        text-align: right;\n",
       "    }\n",
       "</style>\n",
       "<table border=\"1\" class=\"dataframe\">\n",
       "  <thead>\n",
       "    <tr style=\"text-align: right;\">\n",
       "      <th></th>\n",
       "      <th>RNN-LSTM-Camadas</th>\n",
       "      <th>RNN-LSTM-Larga</th>\n",
       "      <th>real</th>\n",
       "    </tr>\n",
       "    <tr>\n",
       "      <th>date</th>\n",
       "      <th></th>\n",
       "      <th></th>\n",
       "      <th></th>\n",
       "    </tr>\n",
       "  </thead>\n",
       "  <tbody>\n",
       "    <tr>\n",
       "      <th>2015-01-01</th>\n",
       "      <td>9.926205e+09</td>\n",
       "      <td>1.035643e+10</td>\n",
       "      <td>9.987825e+09</td>\n",
       "    </tr>\n",
       "    <tr>\n",
       "      <th>2015-02-01</th>\n",
       "      <td>9.528311e+09</td>\n",
       "      <td>1.002149e+10</td>\n",
       "      <td>9.919477e+09</td>\n",
       "    </tr>\n",
       "    <tr>\n",
       "      <th>2015-03-01</th>\n",
       "      <td>1.025537e+10</td>\n",
       "      <td>1.081146e+10</td>\n",
       "      <td>9.871727e+09</td>\n",
       "    </tr>\n",
       "    <tr>\n",
       "      <th>2015-04-01</th>\n",
       "      <td>1.016171e+10</td>\n",
       "      <td>1.058089e+10</td>\n",
       "      <td>1.037640e+10</td>\n",
       "    </tr>\n",
       "    <tr>\n",
       "      <th>2015-05-01</th>\n",
       "      <td>1.007235e+10</td>\n",
       "      <td>1.043013e+10</td>\n",
       "      <td>9.740006e+09</td>\n",
       "    </tr>\n",
       "    <tr>\n",
       "      <th>2015-06-01</th>\n",
       "      <td>1.013280e+10</td>\n",
       "      <td>1.053429e+10</td>\n",
       "      <td>1.032307e+10</td>\n",
       "    </tr>\n",
       "    <tr>\n",
       "      <th>2015-07-01</th>\n",
       "      <td>1.047189e+10</td>\n",
       "      <td>1.072896e+10</td>\n",
       "      <td>1.029487e+10</td>\n",
       "    </tr>\n",
       "    <tr>\n",
       "      <th>2015-08-01</th>\n",
       "      <td>1.046019e+10</td>\n",
       "      <td>1.062263e+10</td>\n",
       "      <td>9.864942e+09</td>\n",
       "    </tr>\n",
       "    <tr>\n",
       "      <th>2015-09-01</th>\n",
       "      <td>1.052652e+10</td>\n",
       "      <td>1.063337e+10</td>\n",
       "      <td>1.051019e+10</td>\n",
       "    </tr>\n",
       "    <tr>\n",
       "      <th>2015-10-01</th>\n",
       "      <td>1.059569e+10</td>\n",
       "      <td>1.068864e+10</td>\n",
       "      <td>1.056639e+10</td>\n",
       "    </tr>\n",
       "    <tr>\n",
       "      <th>2015-11-01</th>\n",
       "      <td>1.046478e+10</td>\n",
       "      <td>1.056609e+10</td>\n",
       "      <td>1.029608e+10</td>\n",
       "    </tr>\n",
       "    <tr>\n",
       "      <th>2015-12-01</th>\n",
       "      <td>1.062240e+10</td>\n",
       "      <td>1.067641e+10</td>\n",
       "      <td>1.109438e+10</td>\n",
       "    </tr>\n",
       "  </tbody>\n",
       "</table>\n",
       "</div>"
      ],
      "text/plain": [
       "            RNN-LSTM-Camadas  RNN-LSTM-Larga          real\n",
       "date                                                      \n",
       "2015-01-01      9.926205e+09    1.035643e+10  9.987825e+09\n",
       "2015-02-01      9.528311e+09    1.002149e+10  9.919477e+09\n",
       "2015-03-01      1.025537e+10    1.081146e+10  9.871727e+09\n",
       "2015-04-01      1.016171e+10    1.058089e+10  1.037640e+10\n",
       "2015-05-01      1.007235e+10    1.043013e+10  9.740006e+09\n",
       "2015-06-01      1.013280e+10    1.053429e+10  1.032307e+10\n",
       "2015-07-01      1.047189e+10    1.072896e+10  1.029487e+10\n",
       "2015-08-01      1.046019e+10    1.062263e+10  9.864942e+09\n",
       "2015-09-01      1.052652e+10    1.063337e+10  1.051019e+10\n",
       "2015-10-01      1.059569e+10    1.068864e+10  1.056639e+10\n",
       "2015-11-01      1.046478e+10    1.056609e+10  1.029608e+10\n",
       "2015-12-01      1.062240e+10    1.067641e+10  1.109438e+10"
      ]
     },
     "execution_count": 49,
     "metadata": {},
     "output_type": "execute_result"
    }
   ],
   "source": [
    "df_prev"
   ]
  },
  {
   "cell_type": "code",
   "execution_count": 50,
   "metadata": {},
   "outputs": [
    {
     "data": {
      "text/html": [
       "<div>\n",
       "<style scoped>\n",
       "    .dataframe tbody tr th:only-of-type {\n",
       "        vertical-align: middle;\n",
       "    }\n",
       "\n",
       "    .dataframe tbody tr th {\n",
       "        vertical-align: top;\n",
       "    }\n",
       "\n",
       "    .dataframe thead th {\n",
       "        text-align: right;\n",
       "    }\n",
       "</style>\n",
       "<table border=\"1\" class=\"dataframe\">\n",
       "  <thead>\n",
       "    <tr style=\"text-align: right;\">\n",
       "      <th></th>\n",
       "      <th>RNN-LSTM-Camadas</th>\n",
       "      <th>RNN-LSTM-Larga</th>\n",
       "    </tr>\n",
       "  </thead>\n",
       "  <tbody>\n",
       "    <tr>\n",
       "      <th>0</th>\n",
       "      <td>[1.222914216225311]</td>\n",
       "      <td>[3.058269217924552]</td>\n",
       "    </tr>\n",
       "    <tr>\n",
       "      <th>1</th>\n",
       "      <td>[4.9367284695890294]</td>\n",
       "      <td>[0.016277381827348558]</td>\n",
       "    </tr>\n",
       "    <tr>\n",
       "      <th>2</th>\n",
       "      <td>[2.197385424803955]</td>\n",
       "      <td>[7.73893744966279]</td>\n",
       "    </tr>\n",
       "    <tr>\n",
       "      <th>3</th>\n",
       "      <td>[3.289766751796573]</td>\n",
       "      <td>[7.550538365777436]</td>\n",
       "    </tr>\n",
       "    <tr>\n",
       "      <th>4</th>\n",
       "      <td>[0.8807894099814889]</td>\n",
       "      <td>[4.464160163045748]</td>\n",
       "    </tr>\n",
       "    <tr>\n",
       "      <th>5</th>\n",
       "      <td>[2.5202522961336]</td>\n",
       "      <td>[6.582454650539828]</td>\n",
       "    </tr>\n",
       "    <tr>\n",
       "      <th>6</th>\n",
       "      <td>[9.431957273035994]</td>\n",
       "      <td>[12.118335315409107]</td>\n",
       "    </tr>\n",
       "    <tr>\n",
       "      <th>7</th>\n",
       "      <td>[3.341239619992244]</td>\n",
       "      <td>[4.9460031505617525]</td>\n",
       "    </tr>\n",
       "    <tr>\n",
       "      <th>8</th>\n",
       "      <td>[4.8487126092593495]</td>\n",
       "      <td>[5.9129777244972415]</td>\n",
       "    </tr>\n",
       "    <tr>\n",
       "      <th>9</th>\n",
       "      <td>[1.847707579575185]</td>\n",
       "      <td>[2.7411154305334007]</td>\n",
       "    </tr>\n",
       "    <tr>\n",
       "      <th>10</th>\n",
       "      <td>[1.9427789429860884]</td>\n",
       "      <td>[2.929655912515902]</td>\n",
       "    </tr>\n",
       "    <tr>\n",
       "      <th>11</th>\n",
       "      <td>[3.257125277321212]</td>\n",
       "      <td>[2.7652339470980354]</td>\n",
       "    </tr>\n",
       "  </tbody>\n",
       "</table>\n",
       "</div>"
      ],
      "text/plain": [
       "        RNN-LSTM-Camadas          RNN-LSTM-Larga\n",
       "0    [1.222914216225311]     [3.058269217924552]\n",
       "1   [4.9367284695890294]  [0.016277381827348558]\n",
       "2    [2.197385424803955]      [7.73893744966279]\n",
       "3    [3.289766751796573]     [7.550538365777436]\n",
       "4   [0.8807894099814889]     [4.464160163045748]\n",
       "5      [2.5202522961336]     [6.582454650539828]\n",
       "6    [9.431957273035994]    [12.118335315409107]\n",
       "7    [3.341239619992244]    [4.9460031505617525]\n",
       "8   [4.8487126092593495]    [5.9129777244972415]\n",
       "9    [1.847707579575185]    [2.7411154305334007]\n",
       "10  [1.9427789429860884]     [2.929655912515902]\n",
       "11   [3.257125277321212]    [2.7652339470980354]"
      ]
     },
     "execution_count": 50,
     "metadata": {},
     "output_type": "execute_result"
    }
   ],
   "source": [
    "df_erro"
   ]
  },
  {
   "cell_type": "markdown",
   "metadata": {},
   "source": [
    "### Resultados"
   ]
  },
  {
   "cell_type": "code",
   "execution_count": 51,
   "metadata": {
    "scrolled": false
   },
   "outputs": [
    {
     "data": {
      "image/png": "[encoded data removed]",
      "text/plain": [
       "<Figure size 1080x720 with 1 Axes>"
      ]
     },
     "metadata": {
      "needs_background": "light"
     },
     "output_type": "display_data"
    }
   ],
   "source": [
    "fig = plt.figure(figsize=(15, 10))\n",
    "ax = sns.lineplot(data=df_prev)"
   ]
  },
  {
   "cell_type": "markdown",
   "metadata": {},
   "source": [
    "#### RMSE"
   ]
  },
  {
   "cell_type": "code",
   "execution_count": 52,
   "metadata": {},
   "outputs": [
    {
     "data": {
      "image/png": "[encoded data removed]",
      "text/plain": [
       "<Figure size 1080x720 with 1 Axes>"
      ]
     },
     "metadata": {
      "needs_background": "light"
     },
     "output_type": "display_data"
    }
   ],
   "source": [
    "fig = plt.figure(figsize=(15, 10))\n",
    "ax = sns.barplot(data=df_rmse)"
   ]
  },
  {
   "cell_type": "markdown",
   "metadata": {},
   "source": [
    "#### MAPE"
   ]
  },
  {
   "cell_type": "code",
   "execution_count": 53,
   "metadata": {
    "scrolled": false
   },
   "outputs": [
    {
     "data": {
      "image/png": "[encoded data removed]",
      "text/plain": [
       "<Figure size 1080x720 with 1 Axes>"
      ]
     },
     "metadata": {
      "needs_background": "light"
     },
     "output_type": "display_data"
    }
   ],
   "source": [
    "fig = plt.figure(figsize=(15, 10))\n",
    "ax = sns.barplot(data=df_mape)"
   ]
  },
  {
   "cell_type": "markdown",
   "metadata": {},
   "source": [
    "### Resumo das métricas"
   ]
  },
  {
   "cell_type": "code",
   "execution_count": 54,
   "metadata": {},
   "outputs": [],
   "source": [
    "df_rmse.index = ['RMSE']\n",
    "df_mape.index = ['MAPE']"
   ]
  },
  {
   "cell_type": "code",
   "execution_count": 55,
   "metadata": {},
   "outputs": [
    {
     "data": {
      "text/html": [
       "<div>\n",
       "<style scoped>\n",
       "    .dataframe tbody tr th:only-of-type {\n",
       "        vertical-align: middle;\n",
       "    }\n",
       "\n",
       "    .dataframe tbody tr th {\n",
       "        vertical-align: top;\n",
       "    }\n",
       "\n",
       "    .dataframe thead th {\n",
       "        text-align: right;\n",
       "    }\n",
       "</style>\n",
       "<table border=\"1\" class=\"dataframe\">\n",
       "  <thead>\n",
       "    <tr style=\"text-align: right;\">\n",
       "      <th></th>\n",
       "      <th>RNN-LSTM-Camadas</th>\n",
       "      <th>RNN-LSTM-Larga</th>\n",
       "    </tr>\n",
       "  </thead>\n",
       "  <tbody>\n",
       "    <tr>\n",
       "      <th>RMSE</th>\n",
       "      <td>3.075091e+08</td>\n",
       "      <td>4.683577e+08</td>\n",
       "    </tr>\n",
       "    <tr>\n",
       "      <th>MAPE</th>\n",
       "      <td>2.487491e-02</td>\n",
       "      <td>3.829718e-02</td>\n",
       "    </tr>\n",
       "  </tbody>\n",
       "</table>\n",
       "</div>"
      ],
      "text/plain": [
       "      RNN-LSTM-Camadas  RNN-LSTM-Larga\n",
       "RMSE      3.075091e+08    4.683577e+08\n",
       "MAPE      2.487491e-02    3.829718e-02"
      ]
     },
     "execution_count": 55,
     "metadata": {},
     "output_type": "execute_result"
    }
   ],
   "source": [
    "df_metricas = df_rmse.copy()\n",
    "df_metricas = df_metricas.append(df_mape)\n",
    "df_metricas"
   ]
  }
 ],
 "metadata": {
  "kernelspec": {
   "display_name": "Python 3",
   "language": "python",
   "name": "python3"
  },
  "language_info": {
   "codemirror_mode": {
    "name": "ipython",
    "version": 3
   },
   "file_extension": ".py",
   "mimetype": "text/x-python",
   "name": "python",
   "nbconvert_exporter": "python",
   "pygments_lexer": "ipython3",
   "version": "3.6.4"
  }
 },
 "nbformat": 4,
 "nbformat_minor": 2
}
