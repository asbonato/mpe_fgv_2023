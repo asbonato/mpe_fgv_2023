{
 "cells": [
  {
   "cell_type": "markdown",
   "metadata": {},
   "source": [
    "# Aplicação de Modelos de Markov e Redes Neurais LSTM na Previsão de Arrecadação do ICMS Paulista\n",
    "## Resultados 2019\n",
    "\n",
    "### Antonio Sergio Ferreira Bonato"
   ]
  },
  {
   "cell_type": "markdown",
   "metadata": {},
   "source": [
    "Atualmente, na Secretaria da Fazenda e Planejamento do Estado de São Paulo, a previsão de arrecadação do ICMS paulista é feita usando-se um modelo ARIMA com variáveis exógenas, o ARIMAX. Mas o ICMS é não linear e há várias quebras estruturais controladas com diversas *dummies*. A consequência é um modelo bastante sobreajustado, inadequado para previsões de mais longo prazo (mais do que alguns meses, muito menos para um ano). \n",
    "A proposta deste trabalho é utilizar modelos não lineares multivariados na previsão do ICMS paulista, utilizando redes neurais recorrentes LSTM (*Long Short Term Memory*) e modelos Markov-Switching, fazendo um contraponto entre estes dois modelos. E utilizar, como baseline de comparação, o modelo ARIMAX atual. \n",
    "\n",
    "**Palavras-chave**: Markov-Switching Models. Redes Neurais Recorrentes. LSTM. ICMS."
   ]
  },
  {
   "cell_type": "markdown",
   "metadata": {},
   "source": [
    "## Treinamento das Redes Neurais - Série Univariada"
   ]
  },
  {
   "cell_type": "code",
   "execution_count": 1,
   "metadata": {},
   "outputs": [],
   "source": [
    "import pandas as pd\n",
    "import numpy as np\n",
    "import seaborn as sns\n",
    "import matplotlib.pyplot as plt\n",
    "import statsmodels.tsa.stattools\n",
    "import statsmodels.tsa.x13\n",
    "import statsmodels.graphics.tsaplots\n",
    "import statsmodels.api as sm\n",
    "from statsmodels.graphics.api import qqplot\n",
    "from statsmodels.tsa.api import acf, graphics, pacf\n",
    "from statsmodels.tsa.arima.model import ARIMA\n",
    "import pickle\n",
    "from pmdarima.arima import auto_arima, nsdiffs, ndiffs\n",
    "from sklearn.metrics import mean_squared_error, mean_absolute_percentage_error\n",
    "import random\n",
    "import tensorflow as tf\n",
    "seed = 42\n",
    "random.seed(seed)\n",
    "np.random.seed(seed)\n",
    "tf.random.set_seed(seed)\n",
    "\n",
    "sns.set()\n",
    "sns.set_context(\"notebook\")\n",
    "sns.set(rc={'figure.figsize':(10,7)})"
   ]
  },
  {
   "cell_type": "code",
   "execution_count": 2,
   "metadata": {},
   "outputs": [],
   "source": [
    "import warnings\n",
    "warnings.filterwarnings('ignore')\n",
    "warnings.simplefilter('ignore')"
   ]
  },
  {
   "cell_type": "code",
   "execution_count": 3,
   "metadata": {},
   "outputs": [],
   "source": [
    "df_main_orig = pd.read_excel(\"variaveis_previsao.xlsx\", parse_dates=['date'])"
   ]
  },
  {
   "cell_type": "markdown",
   "metadata": {},
   "source": [
    "Removendo as últimas linhas que são todas NaN"
   ]
  },
  {
   "cell_type": "code",
   "execution_count": 4,
   "metadata": {},
   "outputs": [],
   "source": [
    "df_main = df_main_orig.iloc[0:204]\n",
    "datas = df_main['date']"
   ]
  },
  {
   "cell_type": "code",
   "execution_count": 5,
   "metadata": {},
   "outputs": [
    {
     "data": {
      "text/html": [
       "<div>\n",
       "<style scoped>\n",
       "    .dataframe tbody tr th:only-of-type {\n",
       "        vertical-align: middle;\n",
       "    }\n",
       "\n",
       "    .dataframe tbody tr th {\n",
       "        vertical-align: top;\n",
       "    }\n",
       "\n",
       "    .dataframe thead th {\n",
       "        text-align: right;\n",
       "    }\n",
       "</style>\n",
       "<table border=\"1\" class=\"dataframe\">\n",
       "  <thead>\n",
       "    <tr style=\"text-align: right;\">\n",
       "      <th></th>\n",
       "      <th>date</th>\n",
       "      <th>icms_sp</th>\n",
       "      <th>igp_m</th>\n",
       "      <th>dolar</th>\n",
       "      <th>ibc_br</th>\n",
       "      <th>dias_uteis</th>\n",
       "      <th>igp_m_22</th>\n",
       "      <th>dolar_22</th>\n",
       "      <th>ibc_br_22</th>\n",
       "      <th>igp_m_21</th>\n",
       "      <th>...</th>\n",
       "      <th>ibc_br_16</th>\n",
       "      <th>igp_m_15</th>\n",
       "      <th>dolar_15</th>\n",
       "      <th>ibc_br_15</th>\n",
       "      <th>igp_m_14</th>\n",
       "      <th>dolar_14</th>\n",
       "      <th>ibc_br_14</th>\n",
       "      <th>igp_m_13</th>\n",
       "      <th>dolar_13</th>\n",
       "      <th>ibc_br_13</th>\n",
       "    </tr>\n",
       "  </thead>\n",
       "  <tbody>\n",
       "    <tr>\n",
       "      <th>199</th>\n",
       "      <td>2019-08-01</td>\n",
       "      <td>1.178403e+10</td>\n",
       "      <td>736.402</td>\n",
       "      <td>4.019982</td>\n",
       "      <td>141.95</td>\n",
       "      <td>22</td>\n",
       "      <td>736.402</td>\n",
       "      <td>4.019982</td>\n",
       "      <td>141.95</td>\n",
       "      <td>736.402</td>\n",
       "      <td>...</td>\n",
       "      <td>NaN</td>\n",
       "      <td>NaN</td>\n",
       "      <td>NaN</td>\n",
       "      <td>NaN</td>\n",
       "      <td>NaN</td>\n",
       "      <td>NaN</td>\n",
       "      <td>NaN</td>\n",
       "      <td>NaN</td>\n",
       "      <td>NaN</td>\n",
       "      <td>NaN</td>\n",
       "    </tr>\n",
       "    <tr>\n",
       "      <th>200</th>\n",
       "      <td>2019-09-01</td>\n",
       "      <td>1.214739e+10</td>\n",
       "      <td>736.362</td>\n",
       "      <td>4.121500</td>\n",
       "      <td>138.33</td>\n",
       "      <td>21</td>\n",
       "      <td>736.362</td>\n",
       "      <td>4.121500</td>\n",
       "      <td>138.33</td>\n",
       "      <td>736.362</td>\n",
       "      <td>...</td>\n",
       "      <td>NaN</td>\n",
       "      <td>NaN</td>\n",
       "      <td>NaN</td>\n",
       "      <td>NaN</td>\n",
       "      <td>NaN</td>\n",
       "      <td>NaN</td>\n",
       "      <td>NaN</td>\n",
       "      <td>NaN</td>\n",
       "      <td>NaN</td>\n",
       "      <td>NaN</td>\n",
       "    </tr>\n",
       "    <tr>\n",
       "      <th>201</th>\n",
       "      <td>2019-10-01</td>\n",
       "      <td>1.251718e+10</td>\n",
       "      <td>741.333</td>\n",
       "      <td>4.086987</td>\n",
       "      <td>142.94</td>\n",
       "      <td>23</td>\n",
       "      <td>741.333</td>\n",
       "      <td>4.086987</td>\n",
       "      <td>142.94</td>\n",
       "      <td>741.333</td>\n",
       "      <td>...</td>\n",
       "      <td>NaN</td>\n",
       "      <td>NaN</td>\n",
       "      <td>NaN</td>\n",
       "      <td>NaN</td>\n",
       "      <td>NaN</td>\n",
       "      <td>NaN</td>\n",
       "      <td>NaN</td>\n",
       "      <td>NaN</td>\n",
       "      <td>NaN</td>\n",
       "      <td>NaN</td>\n",
       "    </tr>\n",
       "    <tr>\n",
       "      <th>202</th>\n",
       "      <td>2019-11-01</td>\n",
       "      <td>1.257453e+10</td>\n",
       "      <td>743.558</td>\n",
       "      <td>4.155345</td>\n",
       "      <td>138.88</td>\n",
       "      <td>20</td>\n",
       "      <td>743.558</td>\n",
       "      <td>4.155345</td>\n",
       "      <td>138.88</td>\n",
       "      <td>743.558</td>\n",
       "      <td>...</td>\n",
       "      <td>NaN</td>\n",
       "      <td>NaN</td>\n",
       "      <td>NaN</td>\n",
       "      <td>NaN</td>\n",
       "      <td>NaN</td>\n",
       "      <td>NaN</td>\n",
       "      <td>NaN</td>\n",
       "      <td>NaN</td>\n",
       "      <td>NaN</td>\n",
       "      <td>NaN</td>\n",
       "    </tr>\n",
       "    <tr>\n",
       "      <th>203</th>\n",
       "      <td>2019-12-01</td>\n",
       "      <td>1.314626e+10</td>\n",
       "      <td>759.112</td>\n",
       "      <td>4.109590</td>\n",
       "      <td>137.43</td>\n",
       "      <td>21</td>\n",
       "      <td>759.112</td>\n",
       "      <td>4.109590</td>\n",
       "      <td>137.43</td>\n",
       "      <td>759.112</td>\n",
       "      <td>...</td>\n",
       "      <td>NaN</td>\n",
       "      <td>NaN</td>\n",
       "      <td>NaN</td>\n",
       "      <td>NaN</td>\n",
       "      <td>NaN</td>\n",
       "      <td>NaN</td>\n",
       "      <td>NaN</td>\n",
       "      <td>NaN</td>\n",
       "      <td>NaN</td>\n",
       "      <td>NaN</td>\n",
       "    </tr>\n",
       "  </tbody>\n",
       "</table>\n",
       "<p>5 rows × 36 columns</p>\n",
       "</div>"
      ],
      "text/plain": [
       "          date       icms_sp    igp_m     dolar  ibc_br  dias_uteis  igp_m_22  \\\n",
       "199 2019-08-01  1.178403e+10  736.402  4.019982  141.95          22   736.402   \n",
       "200 2019-09-01  1.214739e+10  736.362  4.121500  138.33          21   736.362   \n",
       "201 2019-10-01  1.251718e+10  741.333  4.086987  142.94          23   741.333   \n",
       "202 2019-11-01  1.257453e+10  743.558  4.155345  138.88          20   743.558   \n",
       "203 2019-12-01  1.314626e+10  759.112  4.109590  137.43          21   759.112   \n",
       "\n",
       "     dolar_22  ibc_br_22  igp_m_21  ...  ibc_br_16  igp_m_15  dolar_15  \\\n",
       "199  4.019982     141.95   736.402  ...        NaN       NaN       NaN   \n",
       "200  4.121500     138.33   736.362  ...        NaN       NaN       NaN   \n",
       "201  4.086987     142.94   741.333  ...        NaN       NaN       NaN   \n",
       "202  4.155345     138.88   743.558  ...        NaN       NaN       NaN   \n",
       "203  4.109590     137.43   759.112  ...        NaN       NaN       NaN   \n",
       "\n",
       "     ibc_br_15  igp_m_14  dolar_14  ibc_br_14  igp_m_13  dolar_13  ibc_br_13  \n",
       "199        NaN       NaN       NaN        NaN       NaN       NaN        NaN  \n",
       "200        NaN       NaN       NaN        NaN       NaN       NaN        NaN  \n",
       "201        NaN       NaN       NaN        NaN       NaN       NaN        NaN  \n",
       "202        NaN       NaN       NaN        NaN       NaN       NaN        NaN  \n",
       "203        NaN       NaN       NaN        NaN       NaN       NaN        NaN  \n",
       "\n",
       "[5 rows x 36 columns]"
      ]
     },
     "execution_count": 5,
     "metadata": {},
     "output_type": "execute_result"
    }
   ],
   "source": [
    "df_main.tail()"
   ]
  },
  {
   "cell_type": "markdown",
   "metadata": {},
   "source": [
    "### Criação das Séries"
   ]
  },
  {
   "cell_type": "code",
   "execution_count": 6,
   "metadata": {},
   "outputs": [],
   "source": [
    "icms_ts = pd.Series(list(df_main['icms_sp']), index = datas)"
   ]
  },
  {
   "cell_type": "markdown",
   "metadata": {},
   "source": [
    "#### Testes de Valores Nulos"
   ]
  },
  {
   "cell_type": "code",
   "execution_count": 7,
   "metadata": {},
   "outputs": [
    {
     "name": "stdout",
     "output_type": "stream",
     "text": [
      "ICMS 0\n"
     ]
    }
   ],
   "source": [
    "print('ICMS', icms_ts.isnull().sum())"
   ]
  },
  {
   "cell_type": "code",
   "execution_count": 8,
   "metadata": {},
   "outputs": [
    {
     "data": {
      "text/plain": [
       "Series([], dtype: float64)"
      ]
     },
     "execution_count": 8,
     "metadata": {},
     "output_type": "execute_result"
    }
   ],
   "source": [
    "# listando os nulos do icms\n",
    "icms_ts[icms_ts.isnull()]"
   ]
  },
  {
   "cell_type": "code",
   "execution_count": 9,
   "metadata": {},
   "outputs": [],
   "source": [
    "# eliminando os nulos do icms\n",
    "icms_ts = icms_ts[~icms_ts.isnull()]"
   ]
  },
  {
   "cell_type": "code",
   "execution_count": 10,
   "metadata": {},
   "outputs": [
    {
     "data": {
      "text/plain": [
       "(204,)"
      ]
     },
     "execution_count": 10,
     "metadata": {},
     "output_type": "execute_result"
    }
   ],
   "source": [
    "icms_ts.shape"
   ]
  },
  {
   "cell_type": "markdown",
   "metadata": {},
   "source": [
    "### Série em Log\n",
    "Como os valores do ICMS são muito elevados a série será colocada em log."
   ]
  },
  {
   "cell_type": "code",
   "execution_count": 11,
   "metadata": {},
   "outputs": [],
   "source": [
    "l_icms_ts = pd.Series(np.log(list(df_main['icms_sp'])), index = datas)"
   ]
  },
  {
   "cell_type": "markdown",
   "metadata": {},
   "source": [
    "## Divisão em treino e teste"
   ]
  },
  {
   "cell_type": "code",
   "execution_count": 12,
   "metadata": {},
   "outputs": [],
   "source": [
    "icms_train = icms_ts[:-24]\n",
    "icms_val = icms_ts[-24:-12]\n",
    "icms_test = icms_ts[-12:]"
   ]
  },
  {
   "cell_type": "code",
   "execution_count": 13,
   "metadata": {},
   "outputs": [
    {
     "name": "stdout",
     "output_type": "stream",
     "text": [
      "##############################\n",
      " date\n",
      "2003-01-01    3.360296e+09\n",
      "2003-02-01    3.196558e+09\n",
      "2003-03-01    3.160011e+09\n",
      "2003-04-01    3.215307e+09\n",
      "2003-05-01    3.098930e+09\n",
      "                  ...     \n",
      "2017-08-01    1.068426e+10\n",
      "2017-09-01    1.089186e+10\n",
      "2017-10-01    1.101721e+10\n",
      "2017-11-01    1.124273e+10\n",
      "2017-12-01    1.144989e+10\n",
      "Length: 180, dtype: float64\n",
      "##############################\n",
      " date\n",
      "2018-01-01    1.171836e+10\n",
      "2018-02-01    1.055555e+10\n",
      "2018-03-01    1.051107e+10\n",
      "2018-04-01    1.147597e+10\n",
      "2018-05-01    1.108135e+10\n",
      "2018-06-01    1.076198e+10\n",
      "2018-07-01    1.146222e+10\n",
      "2018-08-01    1.157415e+10\n",
      "2018-09-01    1.157068e+10\n",
      "2018-10-01    1.176202e+10\n",
      "2018-11-01    1.150136e+10\n",
      "2018-12-01    1.196787e+10\n",
      "dtype: float64\n",
      "##############################\n",
      " date\n",
      "2019-01-01    1.236685e+10\n",
      "2019-02-01    1.126598e+10\n",
      "2019-03-01    1.131000e+10\n",
      "2019-04-01    1.201696e+10\n",
      "2019-05-01    1.173362e+10\n",
      "2019-06-01    1.138744e+10\n",
      "2019-07-01    1.177099e+10\n",
      "2019-08-01    1.178403e+10\n",
      "2019-09-01    1.214739e+10\n",
      "2019-10-01    1.251718e+10\n",
      "2019-11-01    1.257453e+10\n",
      "2019-12-01    1.314626e+10\n",
      "dtype: float64\n"
     ]
    }
   ],
   "source": [
    "print('#'*30+'\\n',icms_train)\n",
    "print('#'*30+'\\n',icms_val)\n",
    "print('#'*30+'\\n',icms_test)"
   ]
  },
  {
   "cell_type": "markdown",
   "metadata": {},
   "source": [
    "## Utilidades para Previsões"
   ]
  },
  {
   "cell_type": "markdown",
   "metadata": {},
   "source": [
    "Além de MAPE e MSE, será usado o erro relativo, que é \n",
    "\n",
    "$Erro Relativo = \\frac{|previsão - real|}{real}$"
   ]
  },
  {
   "cell_type": "code",
   "execution_count": 14,
   "metadata": {},
   "outputs": [],
   "source": [
    "def erro_relativo(prev, real):\n",
    "    return 100*np.absolute(prev-real)/real"
   ]
  },
  {
   "cell_type": "markdown",
   "metadata": {},
   "source": [
    "#### Dicionário de Previsões\n",
    "Será usado para armazenar todas as previsões."
   ]
  },
  {
   "cell_type": "code",
   "execution_count": 15,
   "metadata": {},
   "outputs": [],
   "source": [
    "previsoes = {\n",
    "    'nome':[],\n",
    "    'modelo': [],\n",
    "    'previsoes': [],\n",
    "    'rmse': [],\n",
    "    'mape': [],\n",
    "    'erro relativo':[]\n",
    "}"
   ]
  },
  {
   "cell_type": "markdown",
   "metadata": {},
   "source": [
    "## Modelos RNN LSTM\n",
    "Redes Neurais Recorrentes com neurônios Long Short-Term Memory"
   ]
  },
  {
   "cell_type": "markdown",
   "metadata": {},
   "source": [
    "### Montagem da Série\n",
    "As redes neurais precisam de conjuntos de características e de etiquetas separados. Neste caso, o conjunto de etiquetas é a própria série de ICMS. Para os conjunto de caraterísticas será utilizada a série do ICMS com lags 1, 2, 3, 4, 6 e 12 defasagens, e médias móveis de 2, 3, 6 e 12 meses, conforme trabalho de [Silva & Figueiredo, 2020]."
   ]
  },
  {
   "cell_type": "code",
   "execution_count": 16,
   "metadata": {},
   "outputs": [],
   "source": [
    "def cria_features_target(serie, verbose=0):\n",
    "    serie_d1 = serie.shift(1)\n",
    "    serie_d2 = serie.shift(2)\n",
    "    serie_d3 = serie.shift(3)\n",
    "    serie_d4 = serie.shift(4)\n",
    "    serie_d6 = serie.shift(6)\n",
    "    serie_d12 = serie.shift(12)\n",
    "    serie_ma2 = serie.rolling(2).mean()\n",
    "    serie_ma3 = serie.rolling(3).mean()\n",
    "    serie_ma6 = serie.rolling(6).mean()\n",
    "    serie_ma12 = serie.rolling(12).mean()\n",
    "\n",
    "    if verbose==1:\n",
    "        print(\"shape de cada uma das séries:\")\n",
    "        print(serie_d1.shape, serie_d2.shape, serie_d3.shape, serie_d4.shape, \n",
    "              serie_d6.shape, serie_d12.shape, serie_ma2.shape, serie_ma3.shape, \n",
    "              serie_ma6.shape, serie_ma12.shape)\n",
    "    X = np.array([serie_d1, serie_d2, serie_d3, serie_d4, \n",
    "     serie_d6, serie_d12, serie_ma2, serie_ma3, \n",
    "     serie_ma6, serie_ma12])\n",
    "    if verbose==1:\n",
    "        print(\"shape do array de features:\", X.shape)\n",
    "    X = X[:,12:]\n",
    "    X = X.T\n",
    "    if verbose==1:\n",
    "        print(\"shape do array de features depois da poda e da transposição:\", X.shape)\n",
    "    Y = np.array(serie[12:])\n",
    "    if verbose==1:\n",
    "        print(\"shape do array target:\", Y.shape)\n",
    "    return X, Y"
   ]
  },
  {
   "cell_type": "code",
   "execution_count": 17,
   "metadata": {},
   "outputs": [
    {
     "name": "stdout",
     "output_type": "stream",
     "text": [
      "shape de cada uma das séries:\n",
      "(204,) (204,) (204,) (204,) (204,) (204,) (204,) (204,) (204,) (204,)\n",
      "shape do array de features: (10, 204)\n",
      "shape do array de features depois da poda e da transposição: (192, 10)\n",
      "shape do array target: (192,)\n"
     ]
    }
   ],
   "source": [
    "#série completa, com sazonalidade e em nível\n",
    "#seas_icms_ts = seas_icms.seasadj\n",
    "X_data, Y_data = cria_features_target(l_icms_ts, verbose=1)"
   ]
  },
  {
   "cell_type": "code",
   "execution_count": 18,
   "metadata": {},
   "outputs": [],
   "source": [
    "#print(X_data[0])\n",
    "#print(Y_data[0])\n",
    "#print(X_data[X_data.shape[0]-1])\n",
    "#print(Y_data[X_data.shape[0]-1])"
   ]
  },
  {
   "cell_type": "markdown",
   "metadata": {},
   "source": [
    "#### Normalização dos Dados\n",
    "Serão normalizados usando-se min-max. Apenas as features, a variável target não será normalizada. Os dados serão dividos em treno, validação e teste para a normalização, de modo que o fit seja feito somente nos dados de treino, aumentando-se assim a probabilidade de generalização do modelo."
   ]
  },
  {
   "cell_type": "code",
   "execution_count": 19,
   "metadata": {},
   "outputs": [
    {
     "name": "stdout",
     "output_type": "stream",
     "text": [
      "(168, 10) (12, 10) (12, 10)\n"
     ]
    }
   ],
   "source": [
    "X_train = X_data[:-24]\n",
    "X_val = X_data[-24:-12]\n",
    "X_test = X_data[-12:]\n",
    "print(X_train.shape, X_val.shape, X_test.shape)\n",
    "#Y_train = Y_data[:-24]\n",
    "#Y_val = Y_data[-24:-12]\n",
    "#Y_test = Y_data[-12:]\n",
    "#print(Y_train.shape, Y_val.shape, Y_test.shape)"
   ]
  },
  {
   "cell_type": "code",
   "execution_count": 20,
   "metadata": {},
   "outputs": [
    {
     "name": "stdout",
     "output_type": "stream",
     "text": [
      "numéricas [0, 1, 2, 3, 4, 5, 6, 7, 8, 9]\n",
      "ColumnTransformer(transformers=[('min-max', MinMaxScaler(),\n",
      "                                 [0, 1, 2, 3, 4, 5, 6, 7, 8, 9])],\n",
      "                  verbose=True)\n",
      "[ColumnTransformer] ....... (1 of 1) Processing min-max, total=   0.0s\n",
      "(168, 10)\n",
      "(12, 10)\n",
      "(12, 10)\n"
     ]
    }
   ],
   "source": [
    "from sklearn.preprocessing import MinMaxScaler\n",
    "from sklearn.compose import ColumnTransformer\n",
    "# índice dos atributos numéricos\n",
    "num_atrib = list(range(10))\n",
    "print('numéricas', num_atrib)\n",
    "\n",
    "enc_x = ColumnTransformer([('min-max',MinMaxScaler(), num_atrib)], verbose=True)\n",
    "\n",
    "print(enc_x)\n",
    "X_train_std = enc_x.fit_transform(X_train)\n",
    "X_val_std = enc_x.transform(X_val)\n",
    "X_test_std = enc_x.transform(X_test)\n",
    "\n",
    "print(X_train_std.shape)\n",
    "print(X_val_std.shape)\n",
    "print(X_test_std.shape)\n",
    "\n",
    "#enc_y = MinMaxScaler()\n",
    "\n",
    "#print(enc_y)\n",
    "#Y_train_std = enc_y.fit_transform(Y_train.reshape(Y_train.shape[0], 1))\n",
    "#Y_val_std = enc_y.transform(Y_val.reshape(12,1))\n",
    "#Y_test_std = enc_y.transform(Y_test.reshape(12,1))\n",
    "\n",
    "#print(Y_train_std.shape)\n",
    "#print(Y_val_std.shape)\n",
    "#print(Y_test_std.shape)"
   ]
  },
  {
   "cell_type": "markdown",
   "metadata": {},
   "source": [
    "# Modelo 1 mês\n",
    "Neste modelo cada mês será previsto pelos dados do mês anterior"
   ]
  },
  {
   "cell_type": "markdown",
   "metadata": {},
   "source": [
    "#### Criando as janelas de 12 meses e reshape para LSTM. A arrecadação de cada mês será prevista pela arrecadação dos 12 meses anteriores."
   ]
  },
  {
   "cell_type": "code",
   "execution_count": 21,
   "metadata": {},
   "outputs": [
    {
     "name": "stdout",
     "output_type": "stream",
     "text": [
      "(192, 10, 1)\n"
     ]
    }
   ],
   "source": [
    "X_data_jn = np.concatenate((X_train_std, X_val_std, X_test_std), axis = 0)\n",
    "X_data_jn = X_data_jn.reshape(X_data_jn.shape[0],10,1)\n",
    "print(X_data_jn.shape)"
   ]
  },
  {
   "cell_type": "code",
   "execution_count": 22,
   "metadata": {},
   "outputs": [],
   "source": [
    "def janelamento_1_mes(X, Y, verbose=0):\n",
    "    X_exp = np.roll(X, 1, axis=0)\n",
    "    X_exp_cut = X_exp[1:,:,:]#.transpose(0,2,1)\n",
    "    Y_cut = Y[1:]\n",
    "    if verbose==1:\n",
    "        print('shape das features janeladas:', X_exp.shape)\n",
    "        print('shape das features janeladas pós poda e transposição:', X_exp_cut.shape)\n",
    "        print('shape do array target pós poda:', Y_cut.shape)\n",
    "    return X_exp_cut, Y_cut"
   ]
  },
  {
   "cell_type": "code",
   "execution_count": 23,
   "metadata": {},
   "outputs": [],
   "source": [
    "X_data_exp_cut1, Y_data_cut1 = janelamento_1_mes(X_data_jn, Y_data, verbose=0)"
   ]
  },
  {
   "cell_type": "code",
   "execution_count": 24,
   "metadata": {},
   "outputs": [
    {
     "data": {
      "text/plain": [
       "((191, 10, 1), (191,))"
      ]
     },
     "execution_count": 24,
     "metadata": {},
     "output_type": "execute_result"
    }
   ],
   "source": [
    "X_data_exp_cut1.shape, Y_data_cut1.shape"
   ]
  },
  {
   "cell_type": "code",
   "execution_count": 25,
   "metadata": {},
   "outputs": [
    {
     "data": {
      "text/plain": [
       "array([[0.16249063],\n",
       "       [0.05315468],\n",
       "       [0.03876786],\n",
       "       [0.01908615],\n",
       "       [0.00920992],\n",
       "       [0.0628423 ],\n",
       "       [0.09503483],\n",
       "       [0.0577591 ],\n",
       "       [0.        ],\n",
       "       [0.        ]])"
      ]
     },
     "execution_count": 25,
     "metadata": {},
     "output_type": "execute_result"
    }
   ],
   "source": [
    "X_data_exp_cut1[0]"
   ]
  },
  {
   "cell_type": "code",
   "execution_count": 26,
   "metadata": {},
   "outputs": [
    {
     "data": {
      "text/plain": [
       "21.905893928886627"
      ]
     },
     "execution_count": 26,
     "metadata": {},
     "output_type": "execute_result"
    }
   ],
   "source": [
    "Y_data_cut1[0]"
   ]
  },
  {
   "cell_type": "code",
   "execution_count": 27,
   "metadata": {},
   "outputs": [
    {
     "data": {
      "text/plain": [
       "23.299402878682482"
      ]
     },
     "execution_count": 27,
     "metadata": {},
     "output_type": "execute_result"
    }
   ],
   "source": [
    "Y_data_cut1[Y_data_cut1.shape[0]-1]"
   ]
  },
  {
   "cell_type": "code",
   "execution_count": 28,
   "metadata": {},
   "outputs": [
    {
     "data": {
      "text/plain": [
       "array([[1.08680018],\n",
       "       [1.06270535],\n",
       "       [1.03815365],\n",
       "       [1.03725852],\n",
       "       [1.0338093 ],\n",
       "       [1.0177826 ],\n",
       "       [1.08270855],\n",
       "       [1.08399329],\n",
       "       [1.08283966],\n",
       "       [1.09766157]])"
      ]
     },
     "execution_count": 28,
     "metadata": {},
     "output_type": "execute_result"
    }
   ],
   "source": [
    "X_data_exp_cut1[Y_data_cut1.shape[0]-1]"
   ]
  },
  {
   "cell_type": "markdown",
   "metadata": {},
   "source": [
    "#### Separando novamente em treino, validação e teste"
   ]
  },
  {
   "cell_type": "code",
   "execution_count": 29,
   "metadata": {},
   "outputs": [
    {
     "name": "stdout",
     "output_type": "stream",
     "text": [
      "(167, 10, 1) (12, 10, 1) (12, 10, 1)\n",
      "(167,) (12,) (12,)\n"
     ]
    }
   ],
   "source": [
    "x_train1 = X_data_exp_cut1[:-24]\n",
    "x_val1 = X_data_exp_cut1[-24:-12]\n",
    "x_test1 = X_data_exp_cut1[-12:]\n",
    "print(x_train1.shape, x_val1.shape, x_test1.shape)\n",
    "y_train1 = Y_data_cut1[:-24]\n",
    "y_val1 = Y_data_cut1[-24:-12]\n",
    "y_test1 = Y_data_cut1[-12:]\n",
    "print(y_train1.shape, y_val1.shape, y_test1.shape)"
   ]
  },
  {
   "cell_type": "markdown",
   "metadata": {},
   "source": [
    "### Criando o modelo LSTM "
   ]
  },
  {
   "cell_type": "code",
   "execution_count": 30,
   "metadata": {},
   "outputs": [],
   "source": [
    "# importando as bibliotecas do Keras\n",
    "from tensorflow.keras.models import Sequential\n",
    "from tensorflow.keras.layers import LSTM, Dense, Dropout\n",
    "from tensorflow.keras.callbacks import ReduceLROnPlateau, EarlyStopping\n",
    "from tensorflow.keras.optimizers import Adam"
   ]
  },
  {
   "cell_type": "markdown",
   "metadata": {},
   "source": [
    "## Arquitetura da Rede - Arquitetura Larga"
   ]
  },
  {
   "cell_type": "code",
   "execution_count": 31,
   "metadata": {},
   "outputs": [],
   "source": [
    "rlrop1 = ReduceLROnPlateau(monitor='val_loss', factor=0.1, patience=10, verbose=1)\n",
    "early_stop1 = EarlyStopping(monitor='val_loss', patience=100, verbose=1, \n",
    "                           restore_best_weights=True)"
   ]
  },
  {
   "cell_type": "code",
   "execution_count": 32,
   "metadata": {},
   "outputs": [],
   "source": [
    "# Épocas e tamanho do lote\n",
    "EPOCHS = 1000\n",
    "BATCH = 4\n",
    "NEURONIOS = 1200\n",
    "LR = 1e-5\n",
    "DROPOUT = 0.2\n",
    "\n",
    "# Imstanciação do modelo\n",
    "model = Sequential()\n",
    "\n",
    "# Adicionar camada LSTM \n",
    "model.add(LSTM(activation='tanh', dropout=DROPOUT,\n",
    "        input_shape = (10, 1), return_sequences = False,\n",
    "        units = NEURONIOS))\n",
    "\n",
    "# Adicionar a camada de saída com 1 neurônio linear\n",
    "model.add(Dense(\n",
    "        units = 1,\n",
    "        activation = 'linear'))\n",
    "# a learning rate padrão do Adam é 0.001\n",
    "model.compile(loss = 'mape', optimizer = Adam(learning_rate=LR))"
   ]
  },
  {
   "cell_type": "code",
   "execution_count": 33,
   "metadata": {},
   "outputs": [
    {
     "name": "stdout",
     "output_type": "stream",
     "text": [
      "Model: \"sequential\"\n",
      "_________________________________________________________________\n",
      "Layer (type)                 Output Shape              Param #   \n",
      "=================================================================\n",
      "lstm (LSTM)                  (None, 1200)              5769600   \n",
      "_________________________________________________________________\n",
      "dense (Dense)                (None, 1)                 1201      \n",
      "=================================================================\n",
      "Total params: 5,770,801\n",
      "Trainable params: 5,770,801\n",
      "Non-trainable params: 0\n",
      "_________________________________________________________________\n"
     ]
    }
   ],
   "source": [
    "model.summary()"
   ]
  },
  {
   "cell_type": "code",
   "execution_count": 34,
   "metadata": {
    "scrolled": true
   },
   "outputs": [
    {
     "name": "stdout",
     "output_type": "stream",
     "text": [
      "Epoch 1/1000\n",
      "42/42 [==============================] - 10s 245ms/step - loss: 99.7316 - val_loss: 98.8512\n",
      "Epoch 2/1000\n",
      "42/42 [==============================] - 9s 214ms/step - loss: 98.6831 - val_loss: 96.5872\n",
      "Epoch 3/1000\n",
      "42/42 [==============================] - 10s 229ms/step - loss: 96.1400 - val_loss: 89.0979\n",
      "Epoch 4/1000\n",
      "42/42 [==============================] - 10s 234ms/step - loss: 82.0444 - val_loss: 31.3909\n",
      "Epoch 5/1000\n",
      "42/42 [==============================] - 9s 214ms/step - loss: 32.5357 - val_loss: 12.5763\n",
      "Epoch 6/1000\n",
      "42/42 [==============================] - 9s 224ms/step - loss: 12.1576 - val_loss: 1.1598\n",
      "Epoch 7/1000\n",
      "42/42 [==============================] - 9s 222ms/step - loss: 4.3036 - val_loss: 0.1661\n",
      "Epoch 8/1000\n",
      "42/42 [==============================] - 10s 236ms/step - loss: 2.0055 - val_loss: 1.2964\n",
      "Epoch 9/1000\n",
      "42/42 [==============================] - 10s 233ms/step - loss: 1.3843 - val_loss: 1.0962\n",
      "Epoch 10/1000\n",
      "42/42 [==============================] - 9s 220ms/step - loss: 1.2231 - val_loss: 1.4781\n",
      "Epoch 11/1000\n",
      "42/42 [==============================] - 9s 219ms/step - loss: 1.1200 - val_loss: 0.7906\n",
      "Epoch 12/1000\n",
      "42/42 [==============================] - 9s 219ms/step - loss: 1.0550 - val_loss: 0.7823\n",
      "Epoch 13/1000\n",
      "42/42 [==============================] - 9s 225ms/step - loss: 1.0856 - val_loss: 0.9472\n",
      "Epoch 14/1000\n",
      "42/42 [==============================] - 9s 222ms/step - loss: 1.1651 - val_loss: 1.8053\n",
      "Epoch 15/1000\n",
      "42/42 [==============================] - 9s 223ms/step - loss: 1.0889 - val_loss: 0.8492\n",
      "Epoch 16/1000\n",
      "42/42 [==============================] - 9s 214ms/step - loss: 0.9446 - val_loss: 0.8694\n",
      "Epoch 17/1000\n",
      "42/42 [==============================] - ETA: 0s - loss: 0.9272\n",
      "Epoch 00017: ReduceLROnPlateau reducing learning rate to 9.999999747378752e-07.\n",
      "42/42 [==============================] - 9s 213ms/step - loss: 0.9272 - val_loss: 1.0489\n",
      "Epoch 18/1000\n",
      "42/42 [==============================] - 9s 207ms/step - loss: 0.9380 - val_loss: 0.9699\n",
      "Epoch 19/1000\n",
      "42/42 [==============================] - 9s 217ms/step - loss: 0.9499 - val_loss: 0.9166\n",
      "Epoch 20/1000\n",
      "42/42 [==============================] - 9s 209ms/step - loss: 0.8988 - val_loss: 0.8025\n",
      "Epoch 21/1000\n",
      "42/42 [==============================] - 9s 207ms/step - loss: 0.8939 - val_loss: 0.9465\n",
      "Epoch 22/1000\n",
      "42/42 [==============================] - 9s 207ms/step - loss: 0.9212 - val_loss: 0.7896\n",
      "Epoch 23/1000\n",
      "42/42 [==============================] - 9s 213ms/step - loss: 0.8586 - val_loss: 0.8509\n",
      "Epoch 24/1000\n",
      "42/42 [==============================] - 9s 218ms/step - loss: 1.0094 - val_loss: 0.9867\n",
      "Epoch 25/1000\n",
      "42/42 [==============================] - 9s 216ms/step - loss: 1.0290 - val_loss: 0.9439\n",
      "Epoch 26/1000\n",
      "42/42 [==============================] - 9s 215ms/step - loss: 0.9211 - val_loss: 0.9645\n",
      "Epoch 27/1000\n",
      "42/42 [==============================] - ETA: 0s - loss: 0.9832\n",
      "Epoch 00027: ReduceLROnPlateau reducing learning rate to 9.999999974752428e-08.\n",
      "42/42 [==============================] - 9s 218ms/step - loss: 0.9832 - val_loss: 0.8468\n",
      "Epoch 28/1000\n",
      "42/42 [==============================] - 9s 214ms/step - loss: 0.9058 - val_loss: 0.8432\n",
      "Epoch 29/1000\n",
      "42/42 [==============================] - 9s 216ms/step - loss: 0.8682 - val_loss: 0.8512\n",
      "Epoch 30/1000\n",
      "42/42 [==============================] - 9s 221ms/step - loss: 0.8633 - val_loss: 0.8647\n",
      "Epoch 31/1000\n",
      "42/42 [==============================] - 9s 215ms/step - loss: 0.8676 - val_loss: 0.8630\n",
      "Epoch 32/1000\n",
      "42/42 [==============================] - 9s 219ms/step - loss: 0.9204 - val_loss: 0.8640\n",
      "Epoch 33/1000\n",
      "42/42 [==============================] - 9s 217ms/step - loss: 0.9064 - val_loss: 0.8731\n",
      "Epoch 34/1000\n",
      "42/42 [==============================] - 9s 216ms/step - loss: 0.8430 - val_loss: 0.8778\n",
      "Epoch 35/1000\n",
      "42/42 [==============================] - 9s 214ms/step - loss: 0.8410 - val_loss: 0.8836\n",
      "Epoch 36/1000\n",
      "42/42 [==============================] - 9s 220ms/step - loss: 0.9335 - val_loss: 0.8929\n",
      "Epoch 37/1000\n",
      "42/42 [==============================] - ETA: 0s - loss: 0.9337\n",
      "Epoch 00037: ReduceLROnPlateau reducing learning rate to 1.0000000116860975e-08.\n",
      "42/42 [==============================] - 9s 218ms/step - loss: 0.9337 - val_loss: 0.8929\n",
      "Epoch 38/1000\n",
      "42/42 [==============================] - 9s 226ms/step - loss: 0.9117 - val_loss: 0.8942\n",
      "Epoch 39/1000\n",
      "42/42 [==============================] - 9s 214ms/step - loss: 0.9828 - val_loss: 0.8962\n",
      "Epoch 40/1000\n",
      "42/42 [==============================] - 9s 218ms/step - loss: 0.8311 - val_loss: 0.8964\n",
      "Epoch 41/1000\n",
      "42/42 [==============================] - 9s 215ms/step - loss: 0.9571 - val_loss: 0.8948\n",
      "Epoch 42/1000\n",
      "42/42 [==============================] - 9s 219ms/step - loss: 0.9850 - val_loss: 0.8939\n",
      "Epoch 43/1000\n",
      "42/42 [==============================] - 9s 214ms/step - loss: 0.8755 - val_loss: 0.8923\n",
      "Epoch 44/1000\n",
      "42/42 [==============================] - 9s 214ms/step - loss: 0.8643 - val_loss: 0.8916\n",
      "Epoch 45/1000\n",
      "42/42 [==============================] - 9s 214ms/step - loss: 0.9254 - val_loss: 0.8915\n",
      "Epoch 46/1000\n",
      "42/42 [==============================] - 9s 215ms/step - loss: 0.8141 - val_loss: 0.8939\n",
      "Epoch 47/1000\n",
      "42/42 [==============================] - ETA: 0s - loss: 0.8900\n",
      "Epoch 00047: ReduceLROnPlateau reducing learning rate to 9.999999939225292e-10.\n",
      "42/42 [==============================] - 9s 216ms/step - loss: 0.8900 - val_loss: 0.8940\n",
      "Epoch 48/1000\n",
      "42/42 [==============================] - 9s 210ms/step - loss: 0.9863 - val_loss: 0.8940\n",
      "Epoch 49/1000\n",
      "42/42 [==============================] - 9s 215ms/step - loss: 0.8971 - val_loss: 0.8940\n",
      "Epoch 50/1000\n",
      "42/42 [==============================] - 9s 215ms/step - loss: 0.8736 - val_loss: 0.8940\n",
      "Epoch 51/1000\n",
      "42/42 [==============================] - 9s 218ms/step - loss: 0.8954 - val_loss: 0.8941\n",
      "Epoch 52/1000\n",
      "42/42 [==============================] - 9s 216ms/step - loss: 0.8169 - val_loss: 0.8941\n",
      "Epoch 53/1000\n",
      "42/42 [==============================] - 9s 211ms/step - loss: 0.8636 - val_loss: 0.8941\n",
      "Epoch 54/1000\n",
      "42/42 [==============================] - 9s 210ms/step - loss: 0.8849 - val_loss: 0.8941\n",
      "Epoch 55/1000\n",
      "42/42 [==============================] - 9s 216ms/step - loss: 0.9429 - val_loss: 0.8941\n",
      "Epoch 56/1000\n",
      "42/42 [==============================] - 9s 210ms/step - loss: 0.9466 - val_loss: 0.8941\n",
      "Epoch 57/1000\n",
      "42/42 [==============================] - ETA: 0s - loss: 0.9131\n",
      "Epoch 00057: ReduceLROnPlateau reducing learning rate to 9.999999717180686e-11.\n",
      "42/42 [==============================] - 9s 219ms/step - loss: 0.9131 - val_loss: 0.8941\n",
      "Epoch 58/1000\n",
      "42/42 [==============================] - 9s 213ms/step - loss: 0.8786 - val_loss: 0.8941\n",
      "Epoch 59/1000\n",
      "42/42 [==============================] - 9s 218ms/step - loss: 0.8964 - val_loss: 0.8941\n",
      "Epoch 60/1000\n",
      "42/42 [==============================] - 9s 210ms/step - loss: 0.8590 - val_loss: 0.8941\n",
      "Epoch 61/1000\n",
      "42/42 [==============================] - 6s 137ms/step - loss: 0.8179 - val_loss: 0.8941\n",
      "Epoch 62/1000\n",
      "42/42 [==============================] - 6s 147ms/step - loss: 0.9697 - val_loss: 0.8941\n",
      "Epoch 63/1000\n",
      "42/42 [==============================] - 8s 199ms/step - loss: 0.8939 - val_loss: 0.8941\n",
      "Epoch 64/1000\n",
      "42/42 [==============================] - 8s 189ms/step - loss: 0.9515 - val_loss: 0.8941\n",
      "Epoch 65/1000\n",
      "42/42 [==============================] - 8s 199ms/step - loss: 0.9577 - val_loss: 0.8941\n",
      "Epoch 66/1000\n",
      "42/42 [==============================] - 8s 201ms/step - loss: 1.0297 - val_loss: 0.8941\n",
      "Epoch 67/1000\n",
      "42/42 [==============================] - ETA: 0s - loss: 0.9615\n",
      "Epoch 00067: ReduceLROnPlateau reducing learning rate to 9.99999943962493e-12.\n",
      "42/42 [==============================] - 8s 200ms/step - loss: 0.9615 - val_loss: 0.8941\n",
      "Epoch 68/1000\n",
      "42/42 [==============================] - 8s 194ms/step - loss: 0.8271 - val_loss: 0.8941\n",
      "Epoch 69/1000\n",
      "42/42 [==============================] - 8s 196ms/step - loss: 0.9675 - val_loss: 0.8941\n",
      "Epoch 70/1000\n",
      "42/42 [==============================] - 8s 200ms/step - loss: 0.9413 - val_loss: 0.8941\n",
      "Epoch 71/1000\n",
      "42/42 [==============================] - 8s 195ms/step - loss: 0.9456 - val_loss: 0.8941\n",
      "Epoch 72/1000\n"
     ]
    },
    {
     "name": "stdout",
     "output_type": "stream",
     "text": [
      "42/42 [==============================] - 8s 193ms/step - loss: 0.8327 - val_loss: 0.8941\n",
      "Epoch 73/1000\n",
      "42/42 [==============================] - 8s 194ms/step - loss: 0.9414 - val_loss: 0.8941\n",
      "Epoch 74/1000\n",
      "42/42 [==============================] - 8s 196ms/step - loss: 0.9026 - val_loss: 0.8941\n",
      "Epoch 75/1000\n",
      "42/42 [==============================] - 8s 196ms/step - loss: 0.8919 - val_loss: 0.8941\n",
      "Epoch 76/1000\n",
      "42/42 [==============================] - 8s 197ms/step - loss: 0.9291 - val_loss: 0.8941\n",
      "Epoch 77/1000\n",
      "42/42 [==============================] - ETA: 0s - loss: 0.9853\n",
      "Epoch 00077: ReduceLROnPlateau reducing learning rate to 9.999999092680235e-13.\n",
      "42/42 [==============================] - 8s 202ms/step - loss: 0.9853 - val_loss: 0.8941\n",
      "Epoch 78/1000\n",
      "42/42 [==============================] - 8s 199ms/step - loss: 0.8668 - val_loss: 0.8941\n",
      "Epoch 79/1000\n",
      "42/42 [==============================] - 8s 196ms/step - loss: 0.9356 - val_loss: 0.8941\n",
      "Epoch 80/1000\n",
      "42/42 [==============================] - 8s 193ms/step - loss: 0.9232 - val_loss: 0.8941\n",
      "Epoch 81/1000\n",
      "42/42 [==============================] - 6s 136ms/step - loss: 0.9919 - val_loss: 0.8941\n",
      "Epoch 82/1000\n",
      "42/42 [==============================] - 5s 130ms/step - loss: 0.9383 - val_loss: 0.8941\n",
      "Epoch 83/1000\n",
      "42/42 [==============================] - 5s 128ms/step - loss: 0.8730 - val_loss: 0.8941\n",
      "Epoch 84/1000\n",
      "42/42 [==============================] - 5s 127ms/step - loss: 0.8647 - val_loss: 0.8941\n",
      "Epoch 85/1000\n",
      "42/42 [==============================] - 5s 129ms/step - loss: 0.9874 - val_loss: 0.8941\n",
      "Epoch 86/1000\n",
      "42/42 [==============================] - 6s 131ms/step - loss: 0.9714 - val_loss: 0.8941\n",
      "Epoch 87/1000\n",
      "42/42 [==============================] - ETA: 0s - loss: 0.9402\n",
      "Epoch 00087: ReduceLROnPlateau reducing learning rate to 9.9999988758398e-14.\n",
      "42/42 [==============================] - 5s 128ms/step - loss: 0.9402 - val_loss: 0.8941\n",
      "Epoch 88/1000\n",
      "42/42 [==============================] - 5s 124ms/step - loss: 0.8826 - val_loss: 0.8941\n",
      "Epoch 89/1000\n",
      "42/42 [==============================] - 5s 125ms/step - loss: 0.9600 - val_loss: 0.8941\n",
      "Epoch 90/1000\n",
      "42/42 [==============================] - 5s 123ms/step - loss: 0.9419 - val_loss: 0.8941\n",
      "Epoch 91/1000\n",
      "42/42 [==============================] - 5s 125ms/step - loss: 0.9076 - val_loss: 0.8941\n",
      "Epoch 92/1000\n",
      "42/42 [==============================] - 5s 124ms/step - loss: 0.8298 - val_loss: 0.8941\n",
      "Epoch 93/1000\n",
      "42/42 [==============================] - 5s 127ms/step - loss: 0.8822 - val_loss: 0.8941\n",
      "Epoch 94/1000\n",
      "42/42 [==============================] - 5s 125ms/step - loss: 0.8319 - val_loss: 0.8941\n",
      "Epoch 95/1000\n",
      "42/42 [==============================] - 5s 125ms/step - loss: 0.8651 - val_loss: 0.8941\n",
      "Epoch 96/1000\n",
      "42/42 [==============================] - 6s 135ms/step - loss: 0.8913 - val_loss: 0.8941\n",
      "Epoch 97/1000\n",
      "42/42 [==============================] - ETA: 0s - loss: 0.8358\n",
      "Epoch 00097: ReduceLROnPlateau reducing learning rate to 9.999999146890344e-15.\n",
      "42/42 [==============================] - 6s 137ms/step - loss: 0.8358 - val_loss: 0.8941\n",
      "Epoch 98/1000\n",
      "42/42 [==============================] - 6s 134ms/step - loss: 0.8857 - val_loss: 0.8941\n",
      "Epoch 99/1000\n",
      "42/42 [==============================] - 6s 133ms/step - loss: 0.8568 - val_loss: 0.8941\n",
      "Epoch 100/1000\n",
      "42/42 [==============================] - 6s 131ms/step - loss: 0.8004 - val_loss: 0.8941\n",
      "Epoch 101/1000\n",
      "42/42 [==============================] - 6s 141ms/step - loss: 0.9435 - val_loss: 0.8941\n",
      "Epoch 102/1000\n",
      "42/42 [==============================] - 6s 143ms/step - loss: 0.9365 - val_loss: 0.8941\n",
      "Epoch 103/1000\n",
      "42/42 [==============================] - 6s 146ms/step - loss: 0.8401 - val_loss: 0.8941\n",
      "Epoch 104/1000\n",
      "42/42 [==============================] - 6s 153ms/step - loss: 0.8645 - val_loss: 0.8941\n",
      "Epoch 105/1000\n",
      "42/42 [==============================] - 6s 134ms/step - loss: 0.9308 - val_loss: 0.8941\n",
      "Epoch 106/1000\n",
      "42/42 [==============================] - 5s 129ms/step - loss: 0.8421 - val_loss: 0.8941\n",
      "Epoch 107/1000\n",
      "42/42 [==============================] - ETA: 0s - loss: 0.9072\n",
      "Epoch 00107: ReduceLROnPlateau reducing learning rate to 9.999998977483753e-16.\n",
      "Restoring model weights from the end of the best epoch.\n",
      "42/42 [==============================] - 6s 131ms/step - loss: 0.9072 - val_loss: 0.8941\n",
      "Epoch 00107: early stopping\n"
     ]
    }
   ],
   "source": [
    "# History object for plotting our model loss by epoch\n",
    "history1 = model.fit(x_train1, y_train1, batch_size = BATCH, \n",
    "                    epochs = EPOCHS, validation_data = (x_val1, y_val1),\n",
    "                    callbacks = [rlrop1, early_stop1])"
   ]
  },
  {
   "cell_type": "code",
   "execution_count": 35,
   "metadata": {},
   "outputs": [
    {
     "data": {
      "image/png": "[encoded data removed]",
      "text/plain": [
       "<Figure size 720x504 with 1 Axes>"
      ]
     },
     "metadata": {
      "needs_background": "light"
     },
     "output_type": "display_data"
    }
   ],
   "source": [
    "# Loss History\n",
    "fig = plt.figure(figsize=(10, 7))\n",
    "plt.plot(history1.history['loss'])\n",
    "plt.plot(history1.history['val_loss'])\n",
    "plt.title('Model Loss')\n",
    "plt.ylabel('Loss')\n",
    "plt.xlabel('Epoch')\n",
    "plt.legend(['Train', 'Val'], loc='upper right')\n",
    "plt.show()"
   ]
  },
  {
   "cell_type": "markdown",
   "metadata": {},
   "source": [
    "### Previsão Multistep 12 meses em Validação\n",
    "Para ficar adequado à realidade, não podemos usar os dados de 2022 para prever 2022. Portanto, a previsão de 2022 será feita do moto *multistep*, isto é, o mês de janeiro/2022 será previsto usando-se os dados de arrecadação de janeiro a dezembro de 2021; o mês de fevereiro/2022 será previsto usando-se os dados de fevereiro a dezembro de 2021 mais a previsão feita para o mês de janeiro/2022; o mês de março/2022 será previsto usando-se os dados de março a dezembro de 2021 mais os meses de janeiro e fevereiro de 2022 previstos nos passos anteriores. E assim por diante, até que a previsão de dezembro/2022 será feita usando-se os dados de dezembro de 2021 mais as previsões de janeiro a novembro de 2022 feitas nos passos anteriores."
   ]
  },
  {
   "cell_type": "markdown",
   "metadata": {},
   "source": [
    "#### Remove os 12 últimos valores que serão previstos e cria as séries novamente"
   ]
  },
  {
   "cell_type": "code",
   "execution_count": 36,
   "metadata": {},
   "outputs": [
    {
     "name": "stdout",
     "output_type": "stream",
     "text": [
      "(204,)\n",
      "(180,)\n"
     ]
    }
   ],
   "source": [
    "# remove\n",
    "serie_multi1 = l_icms_ts[:-24]\n",
    "print(l_icms_ts.shape)\n",
    "print(serie_multi1.shape)"
   ]
  },
  {
   "cell_type": "code",
   "execution_count": 37,
   "metadata": {},
   "outputs": [
    {
     "name": "stdout",
     "output_type": "stream",
     "text": [
      "0 [[1.1231549e+10]]\n",
      "1 [[1.1232022e+10]]\n",
      "2 [[1.1244988e+10]]\n",
      "3 [[1.1248443e+10]]\n",
      "4 [[1.1241794e+10]]\n",
      "5 [[1.1234356e+10]]\n",
      "6 [[1.1237314e+10]]\n",
      "7 [[1.1232878e+10]]\n",
      "8 [[1.1234914e+10]]\n",
      "9 [[1.1232171e+10]]\n",
      "10 [[1.1230221e+10]]\n",
      "11 [[1.1229236e+10]]\n"
     ]
    }
   ],
   "source": [
    "for i in range(12):\n",
    "    # cria as séries\n",
    "    X_multi1, Y_multi1 = cria_features_target(serie_multi1, verbose=0)\n",
    "\n",
    "    # Faz a normalização usando o modelo fitado na normalização anterior\n",
    "    X_multi_std1 = enc_x.transform(X_multi1)\n",
    "    X_multi_std1 = X_multi_std1.reshape(X_multi_std1.shape[0],10,1)\n",
    "\n",
    "    # Faz o janelamento das séries\n",
    "    x_multi1, y_multi1 = janelamento_1_mes(X_multi_std1, Y_multi1, verbose=0)\n",
    "\n",
    "    # Faz a predição da arrecadação do mês\n",
    "    #y_pred_multi = np.mean(model.predict(x_multi[-1:]), axis=1)#[:,0].ravel()\n",
    "    y_pred_multi1 = model.predict(x_multi1[-1:])#[:,0].ravel()\n",
    "    print(i, np.exp(y_pred_multi1))\n",
    "\n",
    "    #### Adicionar o valor previsto à série e fazer o novo janelamento\n",
    "    serie_multi1 = pd.Series(np.append(serie_multi1, y_pred_multi1))"
   ]
  },
  {
   "cell_type": "code",
   "execution_count": 38,
   "metadata": {},
   "outputs": [],
   "source": [
    "Y_pred_multi1 = np.exp(pd.Series(serie_multi1[-12:]))\n",
    "Y_pred_multi1.index = icms_val.index"
   ]
  },
  {
   "cell_type": "code",
   "execution_count": 39,
   "metadata": {},
   "outputs": [
    {
     "data": {
      "text/plain": [
       "date\n",
       "2018-01-01    1.123155e+10\n",
       "2018-02-01    1.123202e+10\n",
       "2018-03-01    1.124499e+10\n",
       "2018-04-01    1.124844e+10\n",
       "2018-05-01    1.124179e+10\n",
       "2018-06-01    1.123436e+10\n",
       "2018-07-01    1.123731e+10\n",
       "2018-08-01    1.123288e+10\n",
       "2018-09-01    1.123491e+10\n",
       "2018-10-01    1.123217e+10\n",
       "2018-11-01    1.123022e+10\n",
       "2018-12-01    1.122924e+10\n",
       "dtype: float64"
      ]
     },
     "execution_count": 39,
     "metadata": {},
     "output_type": "execute_result"
    }
   ],
   "source": [
    "Y_pred_multi1"
   ]
  },
  {
   "cell_type": "code",
   "execution_count": 40,
   "metadata": {},
   "outputs": [
    {
     "data": {
      "text/plain": [
       "475525335.8545504"
      ]
     },
     "execution_count": 40,
     "metadata": {},
     "output_type": "execute_result"
    }
   ],
   "source": [
    "RMSE_lstm_multi1 = mean_squared_error(icms_val, Y_pred_multi1, squared=False)\n",
    "RMSE_lstm_multi1"
   ]
  },
  {
   "cell_type": "code",
   "execution_count": 41,
   "metadata": {},
   "outputs": [
    {
     "data": {
      "text/plain": [
       "0.03850959272325948"
      ]
     },
     "execution_count": 41,
     "metadata": {},
     "output_type": "execute_result"
    }
   ],
   "source": [
    "MAPE_lstm_multi1 = mean_absolute_percentage_error(icms_val, Y_pred_multi1)\n",
    "MAPE_lstm_multi1"
   ]
  },
  {
   "cell_type": "code",
   "execution_count": 42,
   "metadata": {},
   "outputs": [],
   "source": [
    "previsoes['nome'].append('RNN-LSTM-1-mês-larga')\n",
    "previsoes['modelo'].append(model)\n",
    "previsoes['previsoes'].append(Y_pred_multi1)\n",
    "\n",
    "previsoes['rmse'].append(RMSE_lstm_multi1)\n",
    "\n",
    "previsoes['mape'].append(MAPE_lstm_multi1)\n",
    "\n",
    "previsoes['erro relativo'].append([erro_relativo(prev,real) \n",
    "                                   for prev,real in zip(Y_pred_multi1\n",
    "                                                        , icms_val)])"
   ]
  },
  {
   "cell_type": "markdown",
   "metadata": {},
   "source": [
    "## Arquitetura da Rede - Arquitetura Multicamada"
   ]
  },
  {
   "cell_type": "code",
   "execution_count": 43,
   "metadata": {},
   "outputs": [],
   "source": [
    "rlrop3 = ReduceLROnPlateau(monitor='val_loss', factor=0.1, patience=25, verbose=1)\n",
    "early_stop3 = EarlyStopping(monitor='val_loss', patience=100, verbose=1, \n",
    "                           restore_best_weights=True)"
   ]
  },
  {
   "cell_type": "code",
   "execution_count": 44,
   "metadata": {},
   "outputs": [],
   "source": [
    "# Épocas e tamanho do lote\n",
    "EPOCHS3 = 1000\n",
    "BATCH3 = 8\n",
    "NEURONIOS3 = 600\n",
    "LR3 = 1e-5\n",
    "DROPOUT3 = 0.25\n",
    "\n",
    "# Imstanciação do modelo\n",
    "model3 = Sequential()\n",
    "\n",
    "# Adicionar camada LSTM \n",
    "model3.add(LSTM(activation='tanh', dropout=DROPOUT3,\n",
    "        input_shape = (10, 1), return_sequences = True,\n",
    "        units = NEURONIOS3))\n",
    "\n",
    "# Adicionar camada LSTM \n",
    "model3.add(LSTM(activation='tanh', dropout=DROPOUT3,\n",
    "        input_shape = (10, 1), return_sequences = True,\n",
    "        units = NEURONIOS3))\n",
    "\n",
    "# Adicionar camada LSTM \n",
    "model3.add(LSTM(activation='tanh', dropout=DROPOUT3,\n",
    "        input_shape = (10, 1), return_sequences = False,\n",
    "        units = NEURONIOS3))\n",
    "\n",
    "\n",
    "# Adicionar a camada de saída com 1 neurônio linear\n",
    "model3.add(Dense(\n",
    "        units = 1,\n",
    "        activation = 'linear'))\n",
    "# a learning rate padrão do Adam é 0.001\n",
    "model3.compile(loss = 'mape', optimizer = Adam(learning_rate=LR3))"
   ]
  },
  {
   "cell_type": "code",
   "execution_count": 45,
   "metadata": {},
   "outputs": [
    {
     "name": "stdout",
     "output_type": "stream",
     "text": [
      "Model: \"sequential_1\"\n",
      "_________________________________________________________________\n",
      "Layer (type)                 Output Shape              Param #   \n",
      "=================================================================\n",
      "lstm_1 (LSTM)                (None, 10, 600)           1444800   \n",
      "_________________________________________________________________\n",
      "lstm_2 (LSTM)                (None, 10, 600)           2882400   \n",
      "_________________________________________________________________\n",
      "lstm_3 (LSTM)                (None, 600)               2882400   \n",
      "_________________________________________________________________\n",
      "dense_1 (Dense)              (None, 1)                 601       \n",
      "=================================================================\n",
      "Total params: 7,210,201\n",
      "Trainable params: 7,210,201\n",
      "Non-trainable params: 0\n",
      "_________________________________________________________________\n"
     ]
    }
   ],
   "source": [
    "model3.summary()"
   ]
  },
  {
   "cell_type": "code",
   "execution_count": 46,
   "metadata": {
    "scrolled": true
   },
   "outputs": [
    {
     "name": "stdout",
     "output_type": "stream",
     "text": [
      "Epoch 1/1000\n",
      "21/21 [==============================] - 3s 150ms/step - loss: 99.8565 - val_loss: 99.5014\n",
      "Epoch 2/1000\n",
      "21/21 [==============================] - 2s 103ms/step - loss: 99.4994 - val_loss: 98.8296\n",
      "Epoch 3/1000\n",
      "21/21 [==============================] - 2s 104ms/step - loss: 98.8733 - val_loss: 97.5979\n",
      "Epoch 4/1000\n",
      "21/21 [==============================] - 3s 119ms/step - loss: 97.7561 - val_loss: 94.9375\n",
      "Epoch 5/1000\n",
      "21/21 [==============================] - 2s 112ms/step - loss: 94.8841 - val_loss: 87.9218\n",
      "Epoch 6/1000\n",
      "21/21 [==============================] - 2s 107ms/step - loss: 86.9471 - val_loss: 65.9863\n",
      "Epoch 7/1000\n",
      "21/21 [==============================] - 2s 111ms/step - loss: 63.7356 - val_loss: 18.2465\n",
      "Epoch 8/1000\n",
      "21/21 [==============================] - 2s 113ms/step - loss: 27.5643 - val_loss: 9.6543\n",
      "Epoch 9/1000\n",
      "21/21 [==============================] - 2s 110ms/step - loss: 17.1305 - val_loss: 9.5569\n",
      "Epoch 10/1000\n",
      "21/21 [==============================] - 2s 109ms/step - loss: 11.6149 - val_loss: 5.1117\n",
      "Epoch 11/1000\n",
      "21/21 [==============================] - 2s 118ms/step - loss: 6.7295 - val_loss: 1.3127\n",
      "Epoch 12/1000\n",
      "21/21 [==============================] - 2s 104ms/step - loss: 4.8013 - val_loss: 1.1058\n",
      "Epoch 13/1000\n",
      "21/21 [==============================] - 2s 103ms/step - loss: 3.1561 - val_loss: 0.2567\n",
      "Epoch 14/1000\n",
      "21/21 [==============================] - 2s 101ms/step - loss: 2.3755 - val_loss: 0.2547\n",
      "Epoch 15/1000\n",
      "21/21 [==============================] - 2s 117ms/step - loss: 2.0439 - val_loss: 0.2130\n",
      "Epoch 16/1000\n",
      "21/21 [==============================] - 2s 107ms/step - loss: 1.2065 - val_loss: 0.2461\n",
      "Epoch 17/1000\n",
      "21/21 [==============================] - 2s 116ms/step - loss: 1.2482 - val_loss: 0.6013\n",
      "Epoch 18/1000\n",
      "21/21 [==============================] - 2s 114ms/step - loss: 1.0348 - val_loss: 0.6726\n",
      "Epoch 19/1000\n",
      "21/21 [==============================] - 2s 105ms/step - loss: 1.0662 - val_loss: 0.4447\n",
      "Epoch 20/1000\n",
      "21/21 [==============================] - 2s 107ms/step - loss: 1.0942 - val_loss: 0.4086\n",
      "Epoch 21/1000\n",
      "21/21 [==============================] - 2s 111ms/step - loss: 0.9873 - val_loss: 0.5426\n",
      "Epoch 22/1000\n",
      "21/21 [==============================] - 2s 109ms/step - loss: 0.9715 - val_loss: 0.6750\n",
      "Epoch 23/1000\n",
      "21/21 [==============================] - 2s 101ms/step - loss: 0.9736 - val_loss: 0.3587\n",
      "Epoch 24/1000\n",
      "21/21 [==============================] - 2s 105ms/step - loss: 0.8278 - val_loss: 0.9287\n",
      "Epoch 25/1000\n",
      "21/21 [==============================] - 2s 110ms/step - loss: 0.9404 - val_loss: 0.5784\n",
      "Epoch 26/1000\n",
      "21/21 [==============================] - 2s 111ms/step - loss: 0.8722 - val_loss: 0.6400\n",
      "Epoch 27/1000\n",
      "21/21 [==============================] - 2s 114ms/step - loss: 0.9237 - val_loss: 0.4956\n",
      "Epoch 28/1000\n",
      "21/21 [==============================] - 2s 110ms/step - loss: 0.9828 - val_loss: 0.9860\n",
      "Epoch 29/1000\n",
      "21/21 [==============================] - 2s 116ms/step - loss: 0.9394 - val_loss: 0.8008\n",
      "Epoch 30/1000\n",
      "21/21 [==============================] - 2s 115ms/step - loss: 0.8532 - val_loss: 0.5942\n",
      "Epoch 31/1000\n",
      "21/21 [==============================] - 2s 101ms/step - loss: 0.8524 - val_loss: 0.3477\n",
      "Epoch 32/1000\n",
      "21/21 [==============================] - 2s 105ms/step - loss: 0.9045 - val_loss: 0.7961\n",
      "Epoch 33/1000\n",
      "21/21 [==============================] - 2s 102ms/step - loss: 0.9224 - val_loss: 0.3299\n",
      "Epoch 34/1000\n",
      "21/21 [==============================] - 2s 110ms/step - loss: 0.7944 - val_loss: 0.7772\n",
      "Epoch 35/1000\n",
      "21/21 [==============================] - 2s 117ms/step - loss: 0.8521 - val_loss: 0.5953\n",
      "Epoch 36/1000\n",
      "21/21 [==============================] - 2s 100ms/step - loss: 0.8764 - val_loss: 0.7398\n",
      "Epoch 37/1000\n",
      "21/21 [==============================] - 2s 108ms/step - loss: 0.8832 - val_loss: 0.7778\n",
      "Epoch 38/1000\n",
      "21/21 [==============================] - 2s 106ms/step - loss: 0.9128 - val_loss: 0.2798\n",
      "Epoch 39/1000\n",
      "21/21 [==============================] - 2s 107ms/step - loss: 0.8443 - val_loss: 0.4034\n",
      "Epoch 40/1000\n",
      "21/21 [==============================] - ETA: 0s - loss: 0.8501\n",
      "Epoch 00040: ReduceLROnPlateau reducing learning rate to 9.999999747378752e-07.\n",
      "21/21 [==============================] - 2s 114ms/step - loss: 0.8501 - val_loss: 0.9484\n",
      "Epoch 41/1000\n",
      "21/21 [==============================] - 2s 113ms/step - loss: 0.8496 - val_loss: 0.7293\n",
      "Epoch 42/1000\n",
      "21/21 [==============================] - 2s 116ms/step - loss: 0.8207 - val_loss: 0.5030\n",
      "Epoch 43/1000\n",
      "21/21 [==============================] - 3s 120ms/step - loss: 0.7801 - val_loss: 0.5142\n",
      "Epoch 44/1000\n",
      "21/21 [==============================] - 2s 116ms/step - loss: 0.6910 - val_loss: 0.4955\n",
      "Epoch 45/1000\n",
      "21/21 [==============================] - 3s 120ms/step - loss: 0.8353 - val_loss: 0.5204\n",
      "Epoch 46/1000\n",
      "21/21 [==============================] - 2s 114ms/step - loss: 0.8055 - val_loss: 0.6022\n",
      "Epoch 47/1000\n",
      "21/21 [==============================] - 2s 117ms/step - loss: 0.7950 - val_loss: 0.5255\n",
      "Epoch 48/1000\n",
      "21/21 [==============================] - 2s 117ms/step - loss: 0.7738 - val_loss: 0.5366\n",
      "Epoch 49/1000\n",
      "21/21 [==============================] - 2s 118ms/step - loss: 0.7666 - val_loss: 0.5108\n",
      "Epoch 50/1000\n",
      "21/21 [==============================] - 3s 122ms/step - loss: 0.8147 - val_loss: 0.5576\n",
      "Epoch 51/1000\n",
      "21/21 [==============================] - 3s 120ms/step - loss: 0.7099 - val_loss: 0.6241\n",
      "Epoch 52/1000\n",
      "21/21 [==============================] - 2s 116ms/step - loss: 0.7770 - val_loss: 0.5615\n",
      "Epoch 53/1000\n",
      "21/21 [==============================] - 2s 116ms/step - loss: 0.8109 - val_loss: 0.5621\n",
      "Epoch 54/1000\n",
      "21/21 [==============================] - 2s 118ms/step - loss: 0.7863 - val_loss: 0.5576\n",
      "Epoch 55/1000\n",
      "21/21 [==============================] - 3s 119ms/step - loss: 0.7824 - val_loss: 0.4913\n",
      "Epoch 56/1000\n",
      "21/21 [==============================] - 2s 114ms/step - loss: 0.8345 - val_loss: 0.4510\n",
      "Epoch 57/1000\n",
      "21/21 [==============================] - 2s 112ms/step - loss: 0.8102 - val_loss: 0.5177\n",
      "Epoch 58/1000\n",
      "21/21 [==============================] - 2s 117ms/step - loss: 0.7567 - val_loss: 0.6196\n",
      "Epoch 59/1000\n",
      "21/21 [==============================] - 3s 125ms/step - loss: 0.7484 - val_loss: 0.5643\n",
      "Epoch 60/1000\n",
      "21/21 [==============================] - 2s 112ms/step - loss: 0.8153 - val_loss: 0.4998\n",
      "Epoch 61/1000\n",
      "21/21 [==============================] - 2s 112ms/step - loss: 0.7493 - val_loss: 0.5862\n",
      "Epoch 62/1000\n",
      "21/21 [==============================] - 2s 115ms/step - loss: 0.8210 - val_loss: 0.7025\n",
      "Epoch 63/1000\n",
      "21/21 [==============================] - 3s 123ms/step - loss: 0.8261 - val_loss: 0.6496\n",
      "Epoch 64/1000\n",
      "21/21 [==============================] - 2s 112ms/step - loss: 0.7386 - val_loss: 0.5401\n",
      "Epoch 65/1000\n",
      "21/21 [==============================] - ETA: 0s - loss: 0.7910\n",
      "Epoch 00065: ReduceLROnPlateau reducing learning rate to 9.999999974752428e-08.\n",
      "21/21 [==============================] - 2s 116ms/step - loss: 0.7910 - val_loss: 0.4879\n",
      "Epoch 66/1000\n",
      "21/21 [==============================] - 2s 114ms/step - loss: 0.8599 - val_loss: 0.4867\n",
      "Epoch 67/1000\n",
      "21/21 [==============================] - 2s 117ms/step - loss: 0.7635 - val_loss: 0.4809\n",
      "Epoch 68/1000\n",
      "21/21 [==============================] - 2s 116ms/step - loss: 0.8081 - val_loss: 0.4897\n",
      "Epoch 69/1000\n",
      "21/21 [==============================] - 2s 115ms/step - loss: 0.7906 - val_loss: 0.4936\n",
      "Epoch 70/1000\n",
      "21/21 [==============================] - 2s 118ms/step - loss: 0.8041 - val_loss: 0.4959\n",
      "Epoch 71/1000\n",
      "21/21 [==============================] - 2s 115ms/step - loss: 0.8377 - val_loss: 0.5068\n",
      "Epoch 72/1000\n",
      "21/21 [==============================] - 3s 120ms/step - loss: 0.8486 - val_loss: 0.5041\n",
      "Epoch 73/1000\n",
      "21/21 [==============================] - 2s 114ms/step - loss: 0.7796 - val_loss: 0.5250\n",
      "Epoch 74/1000\n",
      "21/21 [==============================] - 2s 115ms/step - loss: 0.8580 - val_loss: 0.5225\n",
      "Epoch 75/1000\n",
      "21/21 [==============================] - 2s 115ms/step - loss: 0.7490 - val_loss: 0.5181\n",
      "Epoch 76/1000\n",
      "21/21 [==============================] - 2s 114ms/step - loss: 0.7808 - val_loss: 0.5292\n",
      "Epoch 77/1000\n",
      "21/21 [==============================] - 2s 116ms/step - loss: 0.7145 - val_loss: 0.5441\n",
      "Epoch 78/1000\n",
      "21/21 [==============================] - 2s 113ms/step - loss: 0.7093 - val_loss: 0.5455\n",
      "Epoch 79/1000\n",
      "21/21 [==============================] - 2s 117ms/step - loss: 0.8359 - val_loss: 0.5507\n",
      "Epoch 80/1000\n",
      "21/21 [==============================] - 2s 112ms/step - loss: 0.8384 - val_loss: 0.5618\n",
      "Epoch 81/1000\n",
      "21/21 [==============================] - 3s 129ms/step - loss: 0.8109 - val_loss: 0.5581\n",
      "Epoch 82/1000\n",
      "21/21 [==============================] - 3s 120ms/step - loss: 0.8487 - val_loss: 0.5525\n",
      "Epoch 83/1000\n",
      "21/21 [==============================] - 2s 118ms/step - loss: 0.7012 - val_loss: 0.5566\n",
      "Epoch 84/1000\n",
      "21/21 [==============================] - 2s 118ms/step - loss: 0.7847 - val_loss: 0.5614\n",
      "Epoch 85/1000\n",
      "21/21 [==============================] - 2s 119ms/step - loss: 0.8206 - val_loss: 0.5610\n",
      "Epoch 86/1000\n",
      "21/21 [==============================] - 2s 115ms/step - loss: 0.7538 - val_loss: 0.5661\n",
      "Epoch 87/1000\n",
      "21/21 [==============================] - 2s 115ms/step - loss: 0.6988 - val_loss: 0.5660\n",
      "Epoch 88/1000\n",
      "21/21 [==============================] - 2s 118ms/step - loss: 0.8375 - val_loss: 0.5562\n",
      "Epoch 89/1000\n",
      "21/21 [==============================] - 2s 112ms/step - loss: 0.7990 - val_loss: 0.5570\n",
      "Epoch 90/1000\n",
      "21/21 [==============================] - ETA: 0s - loss: 0.8268\n",
      "Epoch 00090: ReduceLROnPlateau reducing learning rate to 1.0000000116860975e-08.\n",
      "21/21 [==============================] - 2s 117ms/step - loss: 0.8268 - val_loss: 0.5569\n",
      "Epoch 91/1000\n",
      "21/21 [==============================] - 2s 115ms/step - loss: 0.8053 - val_loss: 0.5578\n",
      "Epoch 92/1000\n",
      "21/21 [==============================] - 2s 119ms/step - loss: 0.8582 - val_loss: 0.5581\n",
      "Epoch 93/1000\n",
      "21/21 [==============================] - 3s 119ms/step - loss: 0.7866 - val_loss: 0.5574\n",
      "Epoch 94/1000\n",
      "21/21 [==============================] - 2s 113ms/step - loss: 0.7609 - val_loss: 0.5573\n",
      "Epoch 95/1000\n",
      "21/21 [==============================] - 2s 117ms/step - loss: 0.8389 - val_loss: 0.5571\n",
      "Epoch 96/1000\n",
      "21/21 [==============================] - 2s 114ms/step - loss: 0.8027 - val_loss: 0.5567\n",
      "Epoch 97/1000\n",
      "21/21 [==============================] - 2s 114ms/step - loss: 0.7752 - val_loss: 0.5563\n",
      "Epoch 98/1000\n",
      "21/21 [==============================] - 3s 119ms/step - loss: 0.7539 - val_loss: 0.5564\n",
      "Epoch 99/1000\n",
      "21/21 [==============================] - 2s 114ms/step - loss: 0.7453 - val_loss: 0.5570\n",
      "Epoch 100/1000\n",
      "21/21 [==============================] - 2s 115ms/step - loss: 0.8335 - val_loss: 0.5563\n",
      "Epoch 101/1000\n",
      "21/21 [==============================] - 2s 112ms/step - loss: 0.7991 - val_loss: 0.5563\n",
      "Epoch 102/1000\n",
      "21/21 [==============================] - 2s 102ms/step - loss: 0.9308 - val_loss: 0.5571\n",
      "Epoch 103/1000\n",
      "21/21 [==============================] - 2s 103ms/step - loss: 0.7878 - val_loss: 0.5585\n",
      "Epoch 104/1000\n",
      "21/21 [==============================] - 2s 110ms/step - loss: 0.7737 - val_loss: 0.5586\n",
      "Epoch 105/1000\n",
      "21/21 [==============================] - 2s 112ms/step - loss: 0.8842 - val_loss: 0.5580\n",
      "Epoch 106/1000\n",
      "21/21 [==============================] - 2s 110ms/step - loss: 0.7754 - val_loss: 0.5577\n",
      "Epoch 107/1000\n",
      "21/21 [==============================] - 2s 104ms/step - loss: 0.8078 - val_loss: 0.5580\n",
      "Epoch 108/1000\n",
      "21/21 [==============================] - 2s 102ms/step - loss: 0.7045 - val_loss: 0.5583\n",
      "Epoch 109/1000\n",
      "21/21 [==============================] - 2s 102ms/step - loss: 0.7736 - val_loss: 0.5587\n",
      "Epoch 110/1000\n",
      "21/21 [==============================] - 2s 105ms/step - loss: 0.7450 - val_loss: 0.5587\n",
      "Epoch 111/1000\n",
      "21/21 [==============================] - 2s 108ms/step - loss: 0.8038 - val_loss: 0.5573\n",
      "Epoch 112/1000\n",
      "21/21 [==============================] - 2s 106ms/step - loss: 0.7071 - val_loss: 0.5565\n",
      "Epoch 113/1000\n",
      "21/21 [==============================] - 2s 106ms/step - loss: 0.7481 - val_loss: 0.5554\n",
      "Epoch 114/1000\n",
      "21/21 [==============================] - 2s 103ms/step - loss: 0.8262 - val_loss: 0.5557\n",
      "Epoch 115/1000\n",
      "21/21 [==============================] - ETA: 0s - loss: 0.8024\n",
      "Epoch 00115: ReduceLROnPlateau reducing learning rate to 9.999999939225292e-10.\n",
      "Restoring model weights from the end of the best epoch.\n",
      "21/21 [==============================] - 2s 105ms/step - loss: 0.8024 - val_loss: 0.5567\n",
      "Epoch 00115: early stopping\n"
     ]
    }
   ],
   "source": [
    "# History object for plotting our model loss by epoch\n",
    "history3 = model3.fit(x_train1, y_train1, batch_size = BATCH3, \n",
    "                    epochs = EPOCHS, validation_data = (x_val1, y_val1),\n",
    "                    callbacks = [rlrop3, early_stop3])"
   ]
  },
  {
   "cell_type": "code",
   "execution_count": 47,
   "metadata": {},
   "outputs": [
    {
     "data": {
      "image/png": "[encoded data removed]",
      "text/plain": [
       "<Figure size 720x504 with 1 Axes>"
      ]
     },
     "metadata": {
      "needs_background": "light"
     },
     "output_type": "display_data"
    }
   ],
   "source": [
    "# Loss History\n",
    "fig = plt.figure(figsize=(10, 7))\n",
    "plt.plot(history3.history['loss'])\n",
    "plt.plot(history3.history['val_loss'])\n",
    "plt.title('Model Loss')\n",
    "plt.ylabel('Loss')\n",
    "plt.xlabel('Epoch')\n",
    "plt.legend(['Train', 'Val'], loc='upper right')\n",
    "plt.show()"
   ]
  },
  {
   "cell_type": "markdown",
   "metadata": {},
   "source": [
    "### Previsão Multistep 12 meses em Validação\n",
    "Para ficar adequado à realidade, não podemos usar os dados de 2022 para prever 2022. Portanto, a previsão de 2022 será feita do moto *multistep*, isto é, o mês de janeiro/2022 será previsto usando-se os dados de arrecadação de janeiro a dezembro de 2021; o mês de fevereiro/2022 será previsto usando-se os dados de fevereiro a dezembro de 2021 mais a previsão feita para o mês de janeiro/2022; o mês de março/2022 será previsto usando-se os dados de março a dezembro de 2021 mais os meses de janeiro e fevereiro de 2022 previstos nos passos anteriores. E assim por diante, até que a previsão de dezembro/2022 será feita usando-se os dados de dezembro de 2021 mais as previsões de janeiro a novembro de 2022 feitas nos passos anteriores."
   ]
  },
  {
   "cell_type": "markdown",
   "metadata": {},
   "source": [
    "#### Remove os 12 últimos valores que serão previstos e cria as séries novamente"
   ]
  },
  {
   "cell_type": "code",
   "execution_count": 48,
   "metadata": {},
   "outputs": [
    {
     "name": "stdout",
     "output_type": "stream",
     "text": [
      "(204,)\n",
      "(192,)\n"
     ]
    }
   ],
   "source": [
    "# remove\n",
    "serie_multi12 = l_icms_ts[:-24]\n",
    "print(l_icms_ts.shape)\n",
    "print(serie_multi1.shape)"
   ]
  },
  {
   "cell_type": "code",
   "execution_count": 49,
   "metadata": {},
   "outputs": [
    {
     "name": "stdout",
     "output_type": "stream",
     "text": [
      "0 [[1.087186e+10]]\n",
      "1 [[1.0919764e+10]]\n",
      "2 [[1.0943636e+10]]\n",
      "3 [[1.0919263e+10]]\n",
      "4 [[1.0912995e+10]]\n",
      "5 [[1.091104e+10]]\n",
      "6 [[1.0898582e+10]]\n",
      "7 [[1.0905048e+10]]\n",
      "8 [[1.0895048e+10]]\n",
      "9 [[1.0896918e+10]]\n",
      "10 [[1.0898622e+10]]\n",
      "11 [[1.089856e+10]]\n"
     ]
    }
   ],
   "source": [
    "for i in range(12):\n",
    "    # cria as séries\n",
    "    X_multi12, Y_multi12 = cria_features_target(serie_multi12, verbose=0)\n",
    "\n",
    "    # Faz a normalização usando o modelo fitado na normalização anterior\n",
    "    X_multi_std12 = enc_x.transform(X_multi12)\n",
    "    X_multi_std12 = X_multi_std12.reshape(X_multi_std12.shape[0],10,1)\n",
    "\n",
    "    # Faz o janelamento das séries\n",
    "    x_multi12, y_multi12 = janelamento_1_mes(X_multi_std12, Y_multi12, verbose=0)\n",
    "\n",
    "    # Faz a predição da arrecadação do mês\n",
    "    #y_pred_multi = np.mean(model.predict(x_multi[-1:]), axis=1)#[:,0].ravel()\n",
    "    y_pred_multi12 = model3.predict(x_multi12[-1:])#[:,0].ravel()\n",
    "    print(i, np.exp(y_pred_multi12))\n",
    "\n",
    "    #### Adicionar o valor previsto à série e fazer o novo janelamento\n",
    "    serie_multi12 = pd.Series(np.append(serie_multi12, y_pred_multi12))"
   ]
  },
  {
   "cell_type": "code",
   "execution_count": 50,
   "metadata": {},
   "outputs": [],
   "source": [
    "Y_pred_multi12 = np.exp(pd.Series(serie_multi12[-12:]))\n",
    "Y_pred_multi12.index = icms_val.index"
   ]
  },
  {
   "cell_type": "code",
   "execution_count": 51,
   "metadata": {},
   "outputs": [
    {
     "data": {
      "text/plain": [
       "date\n",
       "2018-01-01    1.087186e+10\n",
       "2018-02-01    1.091976e+10\n",
       "2018-03-01    1.094364e+10\n",
       "2018-04-01    1.091926e+10\n",
       "2018-05-01    1.091300e+10\n",
       "2018-06-01    1.091104e+10\n",
       "2018-07-01    1.089858e+10\n",
       "2018-08-01    1.090505e+10\n",
       "2018-09-01    1.089505e+10\n",
       "2018-10-01    1.089692e+10\n",
       "2018-11-01    1.089862e+10\n",
       "2018-12-01    1.089856e+10\n",
       "dtype: float64"
      ]
     },
     "execution_count": 51,
     "metadata": {},
     "output_type": "execute_result"
    }
   ],
   "source": [
    "Y_pred_multi12"
   ]
  },
  {
   "cell_type": "code",
   "execution_count": 52,
   "metadata": {},
   "outputs": [
    {
     "data": {
      "text/plain": [
       "637296466.1984999"
      ]
     },
     "execution_count": 52,
     "metadata": {},
     "output_type": "execute_result"
    }
   ],
   "source": [
    "RMSE_lstm_multi12 = mean_squared_error(icms_val, Y_pred_multi12, squared=False)\n",
    "RMSE_lstm_multi12"
   ]
  },
  {
   "cell_type": "code",
   "execution_count": 53,
   "metadata": {},
   "outputs": [
    {
     "data": {
      "text/plain": [
       "0.050510517603359804"
      ]
     },
     "execution_count": 53,
     "metadata": {},
     "output_type": "execute_result"
    }
   ],
   "source": [
    "MAPE_lstm_multi12 = mean_absolute_percentage_error(icms_val, Y_pred_multi12)\n",
    "MAPE_lstm_multi12"
   ]
  },
  {
   "cell_type": "code",
   "execution_count": 54,
   "metadata": {},
   "outputs": [],
   "source": [
    "previsoes['nome'].append('RNN-LSTM-1-mês-camadas')\n",
    "previsoes['modelo'].append(model3)\n",
    "previsoes['previsoes'].append(Y_pred_multi12)\n",
    "\n",
    "previsoes['rmse'].append(RMSE_lstm_multi12)\n",
    "\n",
    "previsoes['mape'].append(MAPE_lstm_multi12)\n",
    "\n",
    "previsoes['erro relativo'].append([erro_relativo(prev,real) \n",
    "                                   for prev,real in zip(Y_pred_multi12\n",
    "                                                        , icms_val)])"
   ]
  },
  {
   "cell_type": "markdown",
   "metadata": {},
   "source": [
    "# Modelo 12 meses"
   ]
  },
  {
   "cell_type": "markdown",
   "metadata": {},
   "source": [
    "#### Criando as janelas de 12 meses e reshape para LSTM. A arrecadação de cada mês será prevista pela arrecadação dos 12 meses anteriores."
   ]
  },
  {
   "cell_type": "markdown",
   "metadata": {},
   "source": [
    "##### Unindo novamente os dados."
   ]
  },
  {
   "cell_type": "code",
   "execution_count": 55,
   "metadata": {},
   "outputs": [],
   "source": [
    "def janelamento_12_meses(X, Y, verbose=0):\n",
    "    X_exp = np.concatenate((np.roll(X, 12, axis=0),\n",
    "                            np.roll(X, 11, axis=0),\n",
    "                            np.roll(X, 10, axis=0),\n",
    "                            np.roll(X, 9, axis=0),\n",
    "                            np.roll(X, 8, axis=0),\n",
    "                            np.roll(X, 7, axis=0),\n",
    "                            np.roll(X, 6, axis=0),\n",
    "                            np.roll(X, 5, axis=0),\n",
    "                            np.roll(X, 4, axis=0),\n",
    "                            np.roll(X, 3, axis=0),\n",
    "                            np.roll(X, 2, axis=0),\n",
    "                            np.roll(X, 1, axis=0),\n",
    "                            ), axis=2)\n",
    "    X_exp_cut = X_exp[12:,:,:].transpose(0,2,1)\n",
    "    Y_cut = Y[12:]\n",
    "    if verbose==1:\n",
    "        print('shape das features janeladas:', X_exp.shape)\n",
    "        print('shape das features janeladas pós poda e transposição:', X_exp_cut.shape)\n",
    "        print('shape do array target pós poda:', Y_cut.shape)\n",
    "    return X_exp_cut, Y_cut"
   ]
  },
  {
   "cell_type": "code",
   "execution_count": 56,
   "metadata": {},
   "outputs": [],
   "source": [
    "X_data_exp_cut12, Y_data_cut12 = janelamento_12_meses(X_data_jn, Y_data, verbose=0)"
   ]
  },
  {
   "cell_type": "code",
   "execution_count": 57,
   "metadata": {},
   "outputs": [],
   "source": [
    "#Y_data_cut[0]"
   ]
  },
  {
   "cell_type": "code",
   "execution_count": 58,
   "metadata": {},
   "outputs": [],
   "source": [
    "#X_data_exp_cut[0]"
   ]
  },
  {
   "cell_type": "code",
   "execution_count": 59,
   "metadata": {},
   "outputs": [],
   "source": [
    "#Y_data_cut[Y_data_cut.shape[0]-1]"
   ]
  },
  {
   "cell_type": "code",
   "execution_count": 60,
   "metadata": {},
   "outputs": [],
   "source": [
    "#X_data_exp_cut[Y_data_cut.shape[0]-1]"
   ]
  },
  {
   "cell_type": "markdown",
   "metadata": {},
   "source": [
    "#### Separando novamente em treino, validação e teste"
   ]
  },
  {
   "cell_type": "code",
   "execution_count": 61,
   "metadata": {},
   "outputs": [
    {
     "name": "stdout",
     "output_type": "stream",
     "text": [
      "(156, 12, 10) (12, 12, 10) (12, 12, 10)\n",
      "(156,) (12,) (12,)\n"
     ]
    }
   ],
   "source": [
    "x_train12 = X_data_exp_cut12[:-24]\n",
    "x_val12 = X_data_exp_cut12[-24:-12]\n",
    "x_test12 = X_data_exp_cut12[-12:]\n",
    "print(x_train12.shape, x_val12.shape, x_test12.shape)\n",
    "y_train12 = Y_data_cut12[:-24]\n",
    "y_val12 = Y_data_cut12[-24:-12]\n",
    "y_test12 = np.exp(Y_data_cut12[-12:]) # tirar o log para ficar o valor real\n",
    "print(y_train12.shape, y_val12.shape, y_test12.shape)"
   ]
  },
  {
   "cell_type": "markdown",
   "metadata": {},
   "source": [
    "### Criando o modelo LSTM"
   ]
  },
  {
   "cell_type": "markdown",
   "metadata": {},
   "source": [
    "## Arquitetura da Rede - Arquitetura Larga"
   ]
  },
  {
   "cell_type": "code",
   "execution_count": 62,
   "metadata": {},
   "outputs": [],
   "source": [
    "rlrop2 = ReduceLROnPlateau(monitor='val_loss', factor=0.1, patience=10, verbose=1)\n",
    "early_stop2 = EarlyStopping(monitor='val_loss', patience=100, verbose=1, \n",
    "                           restore_best_weights=True)"
   ]
  },
  {
   "cell_type": "code",
   "execution_count": 63,
   "metadata": {},
   "outputs": [],
   "source": [
    "# Épocas e tamanho do lote\n",
    "EPOCHS2 = 1000\n",
    "BATCH2 = 8\n",
    "NEURONIOS2 = 1000\n",
    "LR2 = 1e-5\n",
    "DROPOUT2 = 0.25\n",
    "\n",
    "# Imstanciação do modelo\n",
    "model2 = Sequential()\n",
    "\n",
    "# Adicionar camada LSTM \n",
    "model2.add(LSTM(activation='tanh', dropout=DROPOUT2,\n",
    "        input_shape = (12, 10), return_sequences = False,\n",
    "        units = NEURONIOS2))\n",
    "\n",
    "# Adicionar a camada de saída com 1 neurônio linear\n",
    "model2.add(Dense(\n",
    "        units = 1,\n",
    "        activation = 'linear'))\n",
    "# a learning rate padrão do Adam é 0.001\n",
    "model2.compile(loss = 'mape', optimizer = Adam(learning_rate=LR2))"
   ]
  },
  {
   "cell_type": "code",
   "execution_count": 64,
   "metadata": {},
   "outputs": [
    {
     "name": "stdout",
     "output_type": "stream",
     "text": [
      "Model: \"sequential_2\"\n",
      "_________________________________________________________________\n",
      "Layer (type)                 Output Shape              Param #   \n",
      "=================================================================\n",
      "lstm_4 (LSTM)                (None, 1000)              4044000   \n",
      "_________________________________________________________________\n",
      "dense_2 (Dense)              (None, 1)                 1001      \n",
      "=================================================================\n",
      "Total params: 4,045,001\n",
      "Trainable params: 4,045,001\n",
      "Non-trainable params: 0\n",
      "_________________________________________________________________\n"
     ]
    }
   ],
   "source": [
    "model2.summary()"
   ]
  },
  {
   "cell_type": "code",
   "execution_count": 65,
   "metadata": {
    "scrolled": true
   },
   "outputs": [
    {
     "name": "stdout",
     "output_type": "stream",
     "text": [
      "Epoch 1/1000\n",
      "20/20 [==============================] - 2s 108ms/step - loss: 99.3966 - val_loss: 98.0412\n",
      "Epoch 2/1000\n",
      "20/20 [==============================] - 2s 93ms/step - loss: 98.1416 - val_loss: 95.9291\n",
      "Epoch 3/1000\n",
      "20/20 [==============================] - 2s 97ms/step - loss: 96.6216 - val_loss: 93.0463\n",
      "Epoch 4/1000\n",
      "20/20 [==============================] - 2s 97ms/step - loss: 94.3796 - val_loss: 88.2541\n",
      "Epoch 5/1000\n",
      "20/20 [==============================] - 2s 96ms/step - loss: 90.3042 - val_loss: 78.4012\n",
      "Epoch 6/1000\n",
      "20/20 [==============================] - 2s 97ms/step - loss: 80.6897 - val_loss: 54.6000\n",
      "Epoch 7/1000\n",
      "20/20 [==============================] - 2s 94ms/step - loss: 59.3426 - val_loss: 16.0548\n",
      "Epoch 8/1000\n",
      "20/20 [==============================] - 2s 97ms/step - loss: 28.2326 - val_loss: 6.3959\n",
      "Epoch 9/1000\n",
      "20/20 [==============================] - 2s 102ms/step - loss: 17.3743 - val_loss: 2.6184\n",
      "Epoch 10/1000\n",
      "20/20 [==============================] - 2s 103ms/step - loss: 10.8449 - val_loss: 0.6105\n",
      "Epoch 11/1000\n",
      "20/20 [==============================] - 2s 102ms/step - loss: 7.1296 - val_loss: 0.1398\n",
      "Epoch 12/1000\n",
      "20/20 [==============================] - 2s 99ms/step - loss: 5.0571 - val_loss: 0.1720\n",
      "Epoch 13/1000\n",
      "20/20 [==============================] - 2s 103ms/step - loss: 3.6595 - val_loss: 0.5641\n",
      "Epoch 14/1000\n",
      "20/20 [==============================] - 2s 99ms/step - loss: 2.8851 - val_loss: 0.6635\n",
      "Epoch 15/1000\n",
      "20/20 [==============================] - 2s 101ms/step - loss: 2.2889 - val_loss: 0.8239\n",
      "Epoch 16/1000\n",
      "20/20 [==============================] - 2s 106ms/step - loss: 2.0054 - val_loss: 0.6778\n",
      "Epoch 17/1000\n",
      "20/20 [==============================] - 2s 108ms/step - loss: 1.7264 - val_loss: 1.0374\n",
      "Epoch 18/1000\n",
      "20/20 [==============================] - 2s 104ms/step - loss: 1.5989 - val_loss: 0.9281\n",
      "Epoch 19/1000\n",
      "20/20 [==============================] - 2s 103ms/step - loss: 1.4296 - val_loss: 0.7378\n",
      "Epoch 20/1000\n",
      "20/20 [==============================] - 2s 96ms/step - loss: 1.3705 - val_loss: 1.0512\n",
      "Epoch 21/1000\n",
      "20/20 [==============================] - ETA: 0s - loss: 1.3701\n",
      "Epoch 00021: ReduceLROnPlateau reducing learning rate to 9.999999747378752e-07.\n",
      "20/20 [==============================] - 2s 98ms/step - loss: 1.3701 - val_loss: 0.8421\n",
      "Epoch 22/1000\n",
      "20/20 [==============================] - 2s 96ms/step - loss: 1.2462 - val_loss: 0.8643\n",
      "Epoch 23/1000\n",
      "20/20 [==============================] - 2s 96ms/step - loss: 1.2032 - val_loss: 0.8851\n",
      "Epoch 24/1000\n",
      "20/20 [==============================] - 2s 102ms/step - loss: 1.2095 - val_loss: 0.8607\n",
      "Epoch 25/1000\n",
      "20/20 [==============================] - 2s 99ms/step - loss: 1.2045 - val_loss: 0.8673\n",
      "Epoch 26/1000\n",
      "20/20 [==============================] - 2s 101ms/step - loss: 1.1850 - val_loss: 0.8894\n",
      "Epoch 27/1000\n",
      "20/20 [==============================] - 2s 99ms/step - loss: 1.2395 - val_loss: 0.9230\n",
      "Epoch 28/1000\n",
      "20/20 [==============================] - 2s 103ms/step - loss: 1.1345 - val_loss: 0.9398\n",
      "Epoch 29/1000\n",
      "20/20 [==============================] - 2s 103ms/step - loss: 1.2627 - val_loss: 0.9699\n",
      "Epoch 30/1000\n",
      "20/20 [==============================] - 2s 101ms/step - loss: 1.1671 - val_loss: 0.9823\n",
      "Epoch 31/1000\n",
      "20/20 [==============================] - ETA: 0s - loss: 1.2234\n",
      "Epoch 00031: ReduceLROnPlateau reducing learning rate to 9.999999974752428e-08.\n",
      "20/20 [==============================] - 2s 99ms/step - loss: 1.2234 - val_loss: 0.8953\n",
      "Epoch 32/1000\n",
      "20/20 [==============================] - 2s 95ms/step - loss: 1.1425 - val_loss: 0.8981\n",
      "Epoch 33/1000\n",
      "20/20 [==============================] - 2s 94ms/step - loss: 1.2602 - val_loss: 0.9093\n",
      "Epoch 34/1000\n",
      "20/20 [==============================] - 2s 99ms/step - loss: 1.1962 - val_loss: 0.9134\n",
      "Epoch 35/1000\n",
      "20/20 [==============================] - 2s 104ms/step - loss: 1.1307 - val_loss: 0.9129\n",
      "Epoch 36/1000\n",
      "20/20 [==============================] - 2s 98ms/step - loss: 1.2253 - val_loss: 0.9241\n",
      "Epoch 37/1000\n",
      "20/20 [==============================] - 2s 105ms/step - loss: 1.1596 - val_loss: 0.9302\n",
      "Epoch 38/1000\n",
      "20/20 [==============================] - 2s 104ms/step - loss: 1.1596 - val_loss: 0.9305\n",
      "Epoch 39/1000\n",
      "20/20 [==============================] - 2s 102ms/step - loss: 1.1926 - val_loss: 0.9424\n",
      "Epoch 40/1000\n",
      "20/20 [==============================] - 2s 98ms/step - loss: 1.1156 - val_loss: 0.9460\n",
      "Epoch 41/1000\n",
      "20/20 [==============================] - ETA: 0s - loss: 1.1700\n",
      "Epoch 00041: ReduceLROnPlateau reducing learning rate to 1.0000000116860975e-08.\n",
      "20/20 [==============================] - 2s 99ms/step - loss: 1.1700 - val_loss: 0.9515\n",
      "Epoch 42/1000\n",
      "20/20 [==============================] - 2s 94ms/step - loss: 1.1848 - val_loss: 0.9524\n",
      "Epoch 43/1000\n",
      "20/20 [==============================] - 2s 98ms/step - loss: 1.1501 - val_loss: 0.9520\n",
      "Epoch 44/1000\n",
      "20/20 [==============================] - 2s 96ms/step - loss: 1.1472 - val_loss: 0.9520\n",
      "Epoch 45/1000\n",
      "20/20 [==============================] - 2s 96ms/step - loss: 1.1741 - val_loss: 0.9523\n",
      "Epoch 46/1000\n",
      "20/20 [==============================] - 2s 99ms/step - loss: 1.2053 - val_loss: 0.9520\n",
      "Epoch 47/1000\n",
      "20/20 [==============================] - 2s 104ms/step - loss: 1.1512 - val_loss: 0.9527\n",
      "Epoch 48/1000\n",
      "20/20 [==============================] - 2s 103ms/step - loss: 1.1135 - val_loss: 0.9527\n",
      "Epoch 49/1000\n",
      "20/20 [==============================] - 2s 94ms/step - loss: 1.1577 - val_loss: 0.9523\n",
      "Epoch 50/1000\n",
      "20/20 [==============================] - 2s 94ms/step - loss: 1.1737 - val_loss: 0.9526\n",
      "Epoch 51/1000\n",
      "20/20 [==============================] - ETA: 0s - loss: 1.1528\n",
      "Epoch 00051: ReduceLROnPlateau reducing learning rate to 9.999999939225292e-10.\n",
      "20/20 [==============================] - 2s 93ms/step - loss: 1.1528 - val_loss: 0.9527\n",
      "Epoch 52/1000\n",
      "20/20 [==============================] - 2s 98ms/step - loss: 1.1764 - val_loss: 0.9528\n",
      "Epoch 53/1000\n",
      "20/20 [==============================] - 2s 99ms/step - loss: 1.1985 - val_loss: 0.9527\n",
      "Epoch 54/1000\n",
      "20/20 [==============================] - 2s 93ms/step - loss: 1.1637 - val_loss: 0.9527\n",
      "Epoch 55/1000\n",
      "20/20 [==============================] - 2s 96ms/step - loss: 1.2128 - val_loss: 0.9527\n",
      "Epoch 56/1000\n",
      "20/20 [==============================] - 2s 94ms/step - loss: 1.1290 - val_loss: 0.9527\n",
      "Epoch 57/1000\n",
      "20/20 [==============================] - 2s 94ms/step - loss: 1.1949 - val_loss: 0.9527\n",
      "Epoch 58/1000\n",
      "20/20 [==============================] - 2s 95ms/step - loss: 1.1644 - val_loss: 0.9527\n",
      "Epoch 59/1000\n",
      "20/20 [==============================] - 2s 95ms/step - loss: 1.1748 - val_loss: 0.9527\n",
      "Epoch 60/1000\n",
      "20/20 [==============================] - 2s 99ms/step - loss: 1.1964 - val_loss: 0.9527\n",
      "Epoch 61/1000\n",
      "20/20 [==============================] - ETA: 0s - loss: 1.1493\n",
      "Epoch 00061: ReduceLROnPlateau reducing learning rate to 9.999999717180686e-11.\n",
      "20/20 [==============================] - 2s 105ms/step - loss: 1.1493 - val_loss: 0.9527\n",
      "Epoch 62/1000\n",
      "20/20 [==============================] - 2s 97ms/step - loss: 1.1337 - val_loss: 0.9527\n",
      "Epoch 63/1000\n",
      "20/20 [==============================] - 2s 96ms/step - loss: 1.1212 - val_loss: 0.9527\n",
      "Epoch 64/1000\n",
      "20/20 [==============================] - 2s 101ms/step - loss: 1.1736 - val_loss: 0.9527\n",
      "Epoch 65/1000\n",
      "20/20 [==============================] - 2s 104ms/step - loss: 1.0988 - val_loss: 0.9527\n",
      "Epoch 66/1000\n",
      "20/20 [==============================] - 2s 100ms/step - loss: 1.1475 - val_loss: 0.9527\n",
      "Epoch 67/1000\n",
      "20/20 [==============================] - 2s 93ms/step - loss: 1.2217 - val_loss: 0.9527\n",
      "Epoch 68/1000\n",
      "20/20 [==============================] - 2s 95ms/step - loss: 1.1015 - val_loss: 0.9527\n",
      "Epoch 69/1000\n",
      "20/20 [==============================] - 2s 91ms/step - loss: 1.1436 - val_loss: 0.9527\n",
      "Epoch 70/1000\n",
      "20/20 [==============================] - 2s 95ms/step - loss: 1.1487 - val_loss: 0.9527\n",
      "Epoch 71/1000\n",
      "20/20 [==============================] - ETA: 0s - loss: 1.1843\n",
      "Epoch 00071: ReduceLROnPlateau reducing learning rate to 9.99999943962493e-12.\n",
      "20/20 [==============================] - 2s 98ms/step - loss: 1.1843 - val_loss: 0.9527\n",
      "Epoch 72/1000\n",
      "20/20 [==============================] - 2s 96ms/step - loss: 1.1023 - val_loss: 0.9527\n",
      "Epoch 73/1000\n",
      "20/20 [==============================] - 2s 95ms/step - loss: 1.1605 - val_loss: 0.9527\n",
      "Epoch 74/1000\n",
      "20/20 [==============================] - 2s 95ms/step - loss: 1.1184 - val_loss: 0.9527\n",
      "Epoch 75/1000\n",
      "20/20 [==============================] - 2s 95ms/step - loss: 1.1059 - val_loss: 0.9527\n",
      "Epoch 76/1000\n",
      "20/20 [==============================] - 2s 96ms/step - loss: 1.2010 - val_loss: 0.9527\n",
      "Epoch 77/1000\n",
      "20/20 [==============================] - 2s 94ms/step - loss: 1.1338 - val_loss: 0.9527\n",
      "Epoch 78/1000\n",
      "20/20 [==============================] - 2s 93ms/step - loss: 1.1745 - val_loss: 0.9527\n",
      "Epoch 79/1000\n",
      "20/20 [==============================] - 2s 92ms/step - loss: 1.1793 - val_loss: 0.9527\n",
      "Epoch 80/1000\n",
      "20/20 [==============================] - 2s 105ms/step - loss: 1.1651 - val_loss: 0.9527\n",
      "Epoch 81/1000\n",
      "20/20 [==============================] - ETA: 0s - loss: 1.1607\n",
      "Epoch 00081: ReduceLROnPlateau reducing learning rate to 9.999999092680235e-13.\n",
      "20/20 [==============================] - 2s 99ms/step - loss: 1.1607 - val_loss: 0.9527\n",
      "Epoch 82/1000\n",
      "20/20 [==============================] - 2s 92ms/step - loss: 1.1447 - val_loss: 0.9527\n",
      "Epoch 83/1000\n",
      "20/20 [==============================] - 2s 94ms/step - loss: 1.1581 - val_loss: 0.9527\n",
      "Epoch 84/1000\n",
      "20/20 [==============================] - 2s 91ms/step - loss: 1.1427 - val_loss: 0.9527\n",
      "Epoch 85/1000\n",
      "20/20 [==============================] - 2s 93ms/step - loss: 1.1284 - val_loss: 0.9527\n",
      "Epoch 86/1000\n",
      "20/20 [==============================] - 2s 100ms/step - loss: 1.1547 - val_loss: 0.9527\n",
      "Epoch 87/1000\n",
      "20/20 [==============================] - 2s 101ms/step - loss: 1.2217 - val_loss: 0.9527\n",
      "Epoch 88/1000\n",
      "20/20 [==============================] - 2s 98ms/step - loss: 1.1591 - val_loss: 0.9527\n",
      "Epoch 89/1000\n",
      "20/20 [==============================] - 2s 94ms/step - loss: 1.1890 - val_loss: 0.9527\n",
      "Epoch 90/1000\n",
      "20/20 [==============================] - 2s 93ms/step - loss: 1.2314 - val_loss: 0.9527\n",
      "Epoch 91/1000\n",
      "20/20 [==============================] - ETA: 0s - loss: 1.1639\n",
      "Epoch 00091: ReduceLROnPlateau reducing learning rate to 9.9999988758398e-14.\n",
      "20/20 [==============================] - 2s 103ms/step - loss: 1.1639 - val_loss: 0.9527\n",
      "Epoch 92/1000\n",
      "20/20 [==============================] - 2s 98ms/step - loss: 1.1810 - val_loss: 0.9527\n",
      "Epoch 93/1000\n",
      "20/20 [==============================] - 2s 97ms/step - loss: 1.1863 - val_loss: 0.9527\n",
      "Epoch 94/1000\n",
      "20/20 [==============================] - 2s 94ms/step - loss: 1.1631 - val_loss: 0.9527\n",
      "Epoch 95/1000\n",
      "20/20 [==============================] - 2s 98ms/step - loss: 1.1424 - val_loss: 0.9527\n",
      "Epoch 96/1000\n",
      "20/20 [==============================] - 2s 100ms/step - loss: 1.1469 - val_loss: 0.9527\n",
      "Epoch 97/1000\n",
      "20/20 [==============================] - 2s 102ms/step - loss: 1.1176 - val_loss: 0.9527\n",
      "Epoch 98/1000\n",
      "20/20 [==============================] - 2s 96ms/step - loss: 1.1980 - val_loss: 0.9527\n",
      "Epoch 99/1000\n",
      "20/20 [==============================] - 2s 99ms/step - loss: 1.1609 - val_loss: 0.9527\n",
      "Epoch 100/1000\n",
      "20/20 [==============================] - 2s 108ms/step - loss: 1.1236 - val_loss: 0.9527\n",
      "Epoch 101/1000\n",
      "20/20 [==============================] - ETA: 0s - loss: 1.1457\n",
      "Epoch 00101: ReduceLROnPlateau reducing learning rate to 9.999999146890344e-15.\n",
      "20/20 [==============================] - 2s 108ms/step - loss: 1.1457 - val_loss: 0.9527\n",
      "Epoch 102/1000\n",
      "20/20 [==============================] - 2s 102ms/step - loss: 1.1593 - val_loss: 0.9527\n",
      "Epoch 103/1000\n",
      "20/20 [==============================] - 2s 107ms/step - loss: 1.1269 - val_loss: 0.9527\n",
      "Epoch 104/1000\n",
      "20/20 [==============================] - 2s 106ms/step - loss: 1.2457 - val_loss: 0.9527\n",
      "Epoch 105/1000\n",
      "20/20 [==============================] - 2s 112ms/step - loss: 1.2253 - val_loss: 0.9527\n",
      "Epoch 106/1000\n",
      "20/20 [==============================] - 2s 112ms/step - loss: 1.1999 - val_loss: 0.9527\n",
      "Epoch 107/1000\n",
      "20/20 [==============================] - 2s 106ms/step - loss: 1.2086 - val_loss: 0.9527\n",
      "Epoch 108/1000\n",
      "20/20 [==============================] - 2s 110ms/step - loss: 1.1599 - val_loss: 0.9527\n",
      "Epoch 109/1000\n",
      "20/20 [==============================] - 2s 105ms/step - loss: 1.1758 - val_loss: 0.9527\n",
      "Epoch 110/1000\n",
      "20/20 [==============================] - 2s 100ms/step - loss: 1.0844 - val_loss: 0.9527\n",
      "Epoch 111/1000\n",
      "20/20 [==============================] - ETA: 0s - loss: 1.1279\n",
      "Epoch 00111: ReduceLROnPlateau reducing learning rate to 9.999998977483753e-16.\n",
      "Restoring model weights from the end of the best epoch.\n",
      "20/20 [==============================] - 2s 109ms/step - loss: 1.1279 - val_loss: 0.9527\n",
      "Epoch 00111: early stopping\n"
     ]
    }
   ],
   "source": [
    "# History object for plotting our model loss by epoch\n",
    "history2 = model2.fit(x_train12, y_train12, batch_size = BATCH2, \n",
    "                    epochs = EPOCHS2, validation_data = (x_val12, y_val12),\n",
    "                    callbacks = [rlrop2, early_stop2])"
   ]
  },
  {
   "cell_type": "code",
   "execution_count": 66,
   "metadata": {},
   "outputs": [
    {
     "data": {
      "image/png": "[encoded data removed]",
      "text/plain": [
       "<Figure size 720x504 with 1 Axes>"
      ]
     },
     "metadata": {
      "needs_background": "light"
     },
     "output_type": "display_data"
    }
   ],
   "source": [
    "# Loss History\n",
    "fig = plt.figure(figsize=(10, 7))\n",
    "plt.plot(history2.history['loss'])\n",
    "plt.plot(history2.history['val_loss'])\n",
    "plt.title('Model Loss')\n",
    "plt.ylabel('Loss')\n",
    "plt.xlabel('Epoch')\n",
    "plt.legend(['Train', 'Val'], loc='upper right')\n",
    "plt.show()"
   ]
  },
  {
   "cell_type": "markdown",
   "metadata": {},
   "source": [
    "### Previsão Multistep 12 meses em Validação\n",
    "Para ficar adequado à realidade, não podemos usar os dados de 2022 para prever 2022. Portanto, a previsão de 2022 será feita do moto *multistep*, isto é, o mês de janeiro/2022 será previsto usando-se os dados de arrecadação de janeiro a dezembro de 2021; o mês de fevereiro/2022 será previsto usando-se os dados de fevereiro a dezembro de 2021 mais a previsão feita para o mês de janeiro/2022; o mês de março/2022 será previsto usando-se os dados de março a dezembro de 2021 mais os meses de janeiro e fevereiro de 2022 previstos nos passos anteriores. E assim por diante, até que a previsão de dezembro/2022 será feita usando-se os dados de dezembro de 2021 mais as previsões de janeiro a novembro de 2022 feitas nos passos anteriores."
   ]
  },
  {
   "cell_type": "markdown",
   "metadata": {},
   "source": [
    "#### Remove os 12 últimos valores que serão previstos e cria as séries novamente"
   ]
  },
  {
   "cell_type": "code",
   "execution_count": 67,
   "metadata": {},
   "outputs": [
    {
     "name": "stdout",
     "output_type": "stream",
     "text": [
      "(204,)\n",
      "(180,)\n"
     ]
    },
    {
     "data": {
      "text/plain": [
       "pandas.core.series.Series"
      ]
     },
     "execution_count": 67,
     "metadata": {},
     "output_type": "execute_result"
    }
   ],
   "source": [
    "# remove\n",
    "serie_multi12 = l_icms_ts[:-24]\n",
    "print(l_icms_ts.shape)\n",
    "print(serie_multi12.shape)\n",
    "type(serie_multi12)"
   ]
  },
  {
   "cell_type": "code",
   "execution_count": 68,
   "metadata": {},
   "outputs": [
    {
     "name": "stdout",
     "output_type": "stream",
     "text": [
      "0 [[1.1367976e+10]]\n",
      "1 [[1.136622e+10]]\n",
      "2 [[1.1348326e+10]]\n",
      "3 [[1.1323742e+10]]\n",
      "4 [[1.132653e+10]]\n",
      "5 [[1.133137e+10]]\n",
      "6 [[1.1329749e+10]]\n",
      "7 [[1.134255e+10]]\n",
      "8 [[1.1354843e+10]]\n",
      "9 [[1.1378714e+10]]\n",
      "10 [[1.1404701e+10]]\n",
      "11 [[1.1420853e+10]]\n"
     ]
    }
   ],
   "source": [
    "for i in range(12):\n",
    "    # cria as séries\n",
    "    X_multi12, Y_multi12 = cria_features_target(serie_multi12, verbose=0)\n",
    "\n",
    "    # Faz a normalização usando o modelo fitado na normalização anterior\n",
    "    X_multi_std12 = enc_x.transform(X_multi12)\n",
    "    X_multi_std12 = X_multi_std12.reshape(X_multi_std12.shape[0],10,1)\n",
    "\n",
    "    # Faz o janelamento das séries\n",
    "    x_multi12, y_multi12 = janelamento_12_meses(X_multi_std12, Y_multi12, verbose=0)\n",
    "\n",
    "    # Faz a predição da arrecadação do mês\n",
    "    #y_pred_multi = np.mean(model.predict(x_multi[-1:]), axis=1)#[:,0].ravel()\n",
    "    y_pred_multi12 = model2.predict(x_multi12[-1:])#[:,0].ravel()\n",
    "    print(i, np.exp(y_pred_multi12))\n",
    "\n",
    "    #### Adicionar o valor previsto à série e fazer o novo janelamento\n",
    "    serie_multi12 = pd.Series(np.append(serie_multi12, y_pred_multi12))\n",
    "    type(serie_multi12)"
   ]
  },
  {
   "cell_type": "code",
   "execution_count": 69,
   "metadata": {},
   "outputs": [],
   "source": [
    "Y_pred_multi12 = np.exp(pd.Series(serie_multi12[-12:])) # tira o log das previsões\n",
    "Y_pred_multi12.index = icms_val.index"
   ]
  },
  {
   "cell_type": "code",
   "execution_count": 70,
   "metadata": {},
   "outputs": [
    {
     "data": {
      "text/plain": [
       "date\n",
       "2018-01-01    1.136798e+10\n",
       "2018-02-01    1.136622e+10\n",
       "2018-03-01    1.134833e+10\n",
       "2018-04-01    1.132374e+10\n",
       "2018-05-01    1.132653e+10\n",
       "2018-06-01    1.133137e+10\n",
       "2018-07-01    1.132975e+10\n",
       "2018-08-01    1.134255e+10\n",
       "2018-09-01    1.135484e+10\n",
       "2018-10-01    1.137871e+10\n",
       "2018-11-01    1.140470e+10\n",
       "2018-12-01    1.142085e+10\n",
       "dtype: float64"
      ]
     },
     "execution_count": 70,
     "metadata": {},
     "output_type": "execute_result"
    }
   ],
   "source": [
    "Y_pred_multi12"
   ]
  },
  {
   "cell_type": "code",
   "execution_count": 71,
   "metadata": {},
   "outputs": [
    {
     "data": {
      "text/plain": [
       "452925515.18485165"
      ]
     },
     "execution_count": 71,
     "metadata": {},
     "output_type": "execute_result"
    }
   ],
   "source": [
    "RMSE_lstm_multi12 = mean_squared_error(icms_val, Y_pred_multi12, squared=False)\n",
    "RMSE_lstm_multi12"
   ]
  },
  {
   "cell_type": "code",
   "execution_count": 72,
   "metadata": {},
   "outputs": [
    {
     "data": {
      "text/plain": [
       "0.03429770080807971"
      ]
     },
     "execution_count": 72,
     "metadata": {},
     "output_type": "execute_result"
    }
   ],
   "source": [
    "MAPE_lstm_multi12 = mean_absolute_percentage_error(icms_val, Y_pred_multi12)\n",
    "MAPE_lstm_multi12"
   ]
  },
  {
   "cell_type": "code",
   "execution_count": 73,
   "metadata": {},
   "outputs": [],
   "source": [
    "previsoes['nome'].append('RNN-LSTM-12-meses-larga')\n",
    "previsoes['modelo'].append(model2)\n",
    "previsoes['previsoes'].append(Y_pred_multi12)\n",
    "\n",
    "previsoes['rmse'].append(RMSE_lstm_multi12)\n",
    "\n",
    "previsoes['mape'].append(MAPE_lstm_multi12)"
   ]
  },
  {
   "cell_type": "code",
   "execution_count": 74,
   "metadata": {},
   "outputs": [],
   "source": [
    "previsoes['erro relativo'].append([erro_relativo(prev,real) \n",
    "                                   for prev,real in zip(Y_pred_multi12\n",
    "                                                        , icms_val)])"
   ]
  },
  {
   "cell_type": "markdown",
   "metadata": {},
   "source": [
    "## Arquitetura da Rede - Arquitetura Multicamada"
   ]
  },
  {
   "cell_type": "code",
   "execution_count": 75,
   "metadata": {},
   "outputs": [],
   "source": [
    "rlrop4 = ReduceLROnPlateau(monitor='val_loss', factor=0.1, patience=25, verbose=1)\n",
    "early_stop4 = EarlyStopping(monitor='val_loss', patience=100, verbose=1, \n",
    "                           restore_best_weights=True)"
   ]
  },
  {
   "cell_type": "code",
   "execution_count": 76,
   "metadata": {},
   "outputs": [],
   "source": [
    "# Épocas e tamanho do lote\n",
    "EPOCHS4 = 1000\n",
    "BATCH4 = 8\n",
    "NEURONIOS4 = 600\n",
    "LR4 = 1e-5\n",
    "DROPOUT4 = 0.25\n",
    "\n",
    "# Imstanciação do modelo\n",
    "model4 = Sequential()\n",
    "\n",
    "# Adicionar camada LSTM \n",
    "model4.add(LSTM(activation='tanh', dropout=DROPOUT4,\n",
    "        input_shape = (12, 10), return_sequences = True,\n",
    "        units = NEURONIOS4))\n",
    "\n",
    "# Adicionar camada LSTM \n",
    "model4.add(LSTM(activation='tanh', dropout=DROPOUT4,\n",
    "        input_shape = (12, 10), return_sequences = True,\n",
    "        units = NEURONIOS4))\n",
    "\n",
    "## Adicionar camada LSTM \n",
    "model4.add(LSTM(activation='tanh', dropout=DROPOUT4,\n",
    "        input_shape = (12, 10), return_sequences = False,\n",
    "        units = NEURONIOS4))\n",
    "\n",
    "\n",
    "# Adicionar a camada de saída com 1 neurônio linear\n",
    "model4.add(Dense(\n",
    "        units = 1,\n",
    "        activation = 'linear'))\n",
    "# a learning rate padrão do Adam é 0.001\n",
    "model4.compile(loss = 'mape', optimizer = Adam(learning_rate=LR4))"
   ]
  },
  {
   "cell_type": "code",
   "execution_count": 77,
   "metadata": {},
   "outputs": [
    {
     "name": "stdout",
     "output_type": "stream",
     "text": [
      "Model: \"sequential_3\"\n",
      "_________________________________________________________________\n",
      "Layer (type)                 Output Shape              Param #   \n",
      "=================================================================\n",
      "lstm_5 (LSTM)                (None, 12, 600)           1466400   \n",
      "_________________________________________________________________\n",
      "lstm_6 (LSTM)                (None, 12, 600)           2882400   \n",
      "_________________________________________________________________\n",
      "lstm_7 (LSTM)                (None, 600)               2882400   \n",
      "_________________________________________________________________\n",
      "dense_3 (Dense)              (None, 1)                 601       \n",
      "=================================================================\n",
      "Total params: 7,231,801\n",
      "Trainable params: 7,231,801\n",
      "Non-trainable params: 0\n",
      "_________________________________________________________________\n"
     ]
    }
   ],
   "source": [
    "model4.summary()"
   ]
  },
  {
   "cell_type": "code",
   "execution_count": 78,
   "metadata": {
    "scrolled": true
   },
   "outputs": [
    {
     "name": "stdout",
     "output_type": "stream",
     "text": [
      "Epoch 1/1000\n",
      "20/20 [==============================] - 3s 155ms/step - loss: 99.4457 - val_loss: 98.1546\n",
      "Epoch 2/1000\n",
      "20/20 [==============================] - 2s 111ms/step - loss: 98.1467 - val_loss: 95.6340\n",
      "Epoch 3/1000\n",
      "20/20 [==============================] - 2s 115ms/step - loss: 95.9592 - val_loss: 90.4172\n",
      "Epoch 4/1000\n",
      "20/20 [==============================] - 3s 128ms/step - loss: 90.8521 - val_loss: 76.7918\n",
      "Epoch 5/1000\n",
      "20/20 [==============================] - 3s 127ms/step - loss: 77.2374 - val_loss: 45.0812\n",
      "Epoch 6/1000\n",
      "20/20 [==============================] - 2s 123ms/step - loss: 49.2834 - val_loss: 13.5288\n",
      "Epoch 7/1000\n",
      "20/20 [==============================] - 3s 132ms/step - loss: 21.0429 - val_loss: 2.6600\n",
      "Epoch 8/1000\n",
      "20/20 [==============================] - 2s 125ms/step - loss: 9.6688 - val_loss: 1.7255\n",
      "Epoch 9/1000\n",
      "20/20 [==============================] - 2s 122ms/step - loss: 6.0575 - val_loss: 0.4546\n",
      "Epoch 10/1000\n",
      "20/20 [==============================] - 2s 122ms/step - loss: 4.1179 - val_loss: 0.1335\n",
      "Epoch 11/1000\n",
      "20/20 [==============================] - 2s 120ms/step - loss: 3.0054 - val_loss: 0.1561\n",
      "Epoch 12/1000\n",
      "20/20 [==============================] - 2s 118ms/step - loss: 2.2100 - val_loss: 0.1553\n",
      "Epoch 13/1000\n",
      "20/20 [==============================] - 3s 134ms/step - loss: 1.8329 - val_loss: 0.2332\n",
      "Epoch 14/1000\n",
      "20/20 [==============================] - 3s 126ms/step - loss: 1.5097 - val_loss: 0.2222\n",
      "Epoch 15/1000\n",
      "20/20 [==============================] - 3s 127ms/step - loss: 1.4161 - val_loss: 0.3395\n",
      "Epoch 16/1000\n",
      "20/20 [==============================] - 2s 122ms/step - loss: 1.3124 - val_loss: 0.3794\n",
      "Epoch 17/1000\n",
      "20/20 [==============================] - 2s 117ms/step - loss: 1.2167 - val_loss: 0.6808\n",
      "Epoch 18/1000\n",
      "20/20 [==============================] - 2s 118ms/step - loss: 1.1229 - val_loss: 0.8976\n",
      "Epoch 19/1000\n",
      "20/20 [==============================] - 2s 121ms/step - loss: 1.0819 - val_loss: 0.5114\n",
      "Epoch 20/1000\n",
      "20/20 [==============================] - 3s 139ms/step - loss: 1.0080 - val_loss: 0.2860\n",
      "Epoch 21/1000\n",
      "20/20 [==============================] - 3s 130ms/step - loss: 1.0502 - val_loss: 0.3989\n",
      "Epoch 22/1000\n",
      "20/20 [==============================] - 3s 126ms/step - loss: 0.9174 - val_loss: 0.5956\n",
      "Epoch 23/1000\n",
      "20/20 [==============================] - 2s 119ms/step - loss: 0.9855 - val_loss: 0.2637\n",
      "Epoch 24/1000\n",
      "20/20 [==============================] - 3s 126ms/step - loss: 0.9586 - val_loss: 0.9080\n",
      "Epoch 25/1000\n",
      "20/20 [==============================] - 2s 119ms/step - loss: 0.9632 - val_loss: 0.2618\n",
      "Epoch 26/1000\n",
      "20/20 [==============================] - 2s 119ms/step - loss: 0.9262 - val_loss: 0.5086\n",
      "Epoch 27/1000\n",
      "20/20 [==============================] - 2s 117ms/step - loss: 0.9148 - val_loss: 0.7325\n",
      "Epoch 28/1000\n",
      "20/20 [==============================] - 2s 121ms/step - loss: 0.8739 - val_loss: 0.6065\n",
      "Epoch 29/1000\n",
      "20/20 [==============================] - 2s 120ms/step - loss: 0.8191 - val_loss: 0.5634\n",
      "Epoch 30/1000\n",
      "20/20 [==============================] - 2s 116ms/step - loss: 0.7886 - val_loss: 0.1926\n",
      "Epoch 31/1000\n",
      "20/20 [==============================] - 3s 133ms/step - loss: 0.8196 - val_loss: 0.4923\n",
      "Epoch 32/1000\n",
      "20/20 [==============================] - 2s 120ms/step - loss: 0.7788 - val_loss: 0.5325\n",
      "Epoch 33/1000\n",
      "20/20 [==============================] - 2s 118ms/step - loss: 0.7746 - val_loss: 0.3148\n",
      "Epoch 34/1000\n",
      "20/20 [==============================] - 2s 119ms/step - loss: 0.7358 - val_loss: 0.4471\n",
      "Epoch 35/1000\n",
      "20/20 [==============================] - ETA: 0s - loss: 0.7187\n",
      "Epoch 00035: ReduceLROnPlateau reducing learning rate to 9.999999747378752e-07.\n",
      "20/20 [==============================] - 2s 122ms/step - loss: 0.7187 - val_loss: 0.5161\n",
      "Epoch 36/1000\n",
      "20/20 [==============================] - 2s 122ms/step - loss: 0.6918 - val_loss: 0.4544\n",
      "Epoch 37/1000\n",
      "20/20 [==============================] - 2s 120ms/step - loss: 0.7064 - val_loss: 0.3354\n",
      "Epoch 38/1000\n",
      "20/20 [==============================] - 2s 116ms/step - loss: 0.7423 - val_loss: 0.3600\n",
      "Epoch 39/1000\n",
      "20/20 [==============================] - 2s 124ms/step - loss: 0.7098 - val_loss: 0.3712\n",
      "Epoch 40/1000\n",
      "20/20 [==============================] - 2s 121ms/step - loss: 0.7168 - val_loss: 0.3888\n",
      "Epoch 41/1000\n",
      "20/20 [==============================] - 2s 120ms/step - loss: 0.7572 - val_loss: 0.4179\n",
      "Epoch 42/1000\n",
      "20/20 [==============================] - 2s 116ms/step - loss: 0.6399 - val_loss: 0.3571\n",
      "Epoch 43/1000\n",
      "20/20 [==============================] - 2s 120ms/step - loss: 0.6992 - val_loss: 0.3137\n",
      "Epoch 44/1000\n",
      "20/20 [==============================] - 2s 118ms/step - loss: 0.7052 - val_loss: 0.4589\n",
      "Epoch 45/1000\n",
      "20/20 [==============================] - 2s 120ms/step - loss: 0.6684 - val_loss: 0.4741\n",
      "Epoch 46/1000\n",
      "20/20 [==============================] - 2s 119ms/step - loss: 0.6979 - val_loss: 0.3671\n",
      "Epoch 47/1000\n",
      "20/20 [==============================] - 2s 118ms/step - loss: 0.6680 - val_loss: 0.3545\n",
      "Epoch 48/1000\n",
      "20/20 [==============================] - 2s 123ms/step - loss: 0.6866 - val_loss: 0.3830\n",
      "Epoch 49/1000\n",
      "20/20 [==============================] - 2s 123ms/step - loss: 0.7202 - val_loss: 0.4272\n",
      "Epoch 50/1000\n",
      "20/20 [==============================] - 3s 129ms/step - loss: 0.7048 - val_loss: 0.4277\n",
      "Epoch 51/1000\n",
      "20/20 [==============================] - 2s 124ms/step - loss: 0.6859 - val_loss: 0.3163\n",
      "Epoch 52/1000\n",
      "20/20 [==============================] - 2s 121ms/step - loss: 0.6738 - val_loss: 0.3461\n",
      "Epoch 53/1000\n",
      "20/20 [==============================] - 3s 127ms/step - loss: 0.7058 - val_loss: 0.4330\n",
      "Epoch 54/1000\n",
      "20/20 [==============================] - 3s 127ms/step - loss: 0.6785 - val_loss: 0.3599\n",
      "Epoch 55/1000\n",
      "20/20 [==============================] - 2s 121ms/step - loss: 0.6951 - val_loss: 0.3703\n",
      "Epoch 56/1000\n",
      "20/20 [==============================] - 2s 121ms/step - loss: 0.6986 - val_loss: 0.4631\n",
      "Epoch 57/1000\n",
      "20/20 [==============================] - 2s 119ms/step - loss: 0.6710 - val_loss: 0.4134\n",
      "Epoch 58/1000\n",
      "20/20 [==============================] - 2s 122ms/step - loss: 0.6975 - val_loss: 0.3876\n",
      "Epoch 59/1000\n",
      "20/20 [==============================] - 2s 123ms/step - loss: 0.6872 - val_loss: 0.3912\n",
      "Epoch 60/1000\n",
      "20/20 [==============================] - ETA: 0s - loss: 0.6654\n",
      "Epoch 00060: ReduceLROnPlateau reducing learning rate to 9.999999974752428e-08.\n",
      "20/20 [==============================] - 3s 132ms/step - loss: 0.6654 - val_loss: 0.3862\n",
      "Epoch 61/1000\n",
      "20/20 [==============================] - 2s 122ms/step - loss: 0.6773 - val_loss: 0.3857\n",
      "Epoch 62/1000\n",
      "20/20 [==============================] - 2s 119ms/step - loss: 0.6515 - val_loss: 0.3769\n",
      "Epoch 63/1000\n",
      "20/20 [==============================] - 2s 120ms/step - loss: 0.6868 - val_loss: 0.3754\n",
      "Epoch 64/1000\n",
      "20/20 [==============================] - 2s 119ms/step - loss: 0.7028 - val_loss: 0.3757\n",
      "Epoch 65/1000\n",
      "20/20 [==============================] - 3s 127ms/step - loss: 0.6879 - val_loss: 0.3783\n",
      "Epoch 66/1000\n",
      "20/20 [==============================] - 2s 125ms/step - loss: 0.6651 - val_loss: 0.3672\n",
      "Epoch 67/1000\n",
      "20/20 [==============================] - 3s 128ms/step - loss: 0.6659 - val_loss: 0.3688\n",
      "Epoch 68/1000\n",
      "20/20 [==============================] - 3s 128ms/step - loss: 0.6307 - val_loss: 0.3665\n",
      "Epoch 69/1000\n",
      "20/20 [==============================] - 2s 121ms/step - loss: 0.6755 - val_loss: 0.3597\n",
      "Epoch 70/1000\n",
      "20/20 [==============================] - 2s 124ms/step - loss: 0.7373 - val_loss: 0.3655\n",
      "Epoch 71/1000\n",
      "20/20 [==============================] - 2s 123ms/step - loss: 0.7011 - val_loss: 0.3685\n",
      "Epoch 72/1000\n",
      "20/20 [==============================] - 2s 121ms/step - loss: 0.6548 - val_loss: 0.3659\n",
      "Epoch 73/1000\n",
      "20/20 [==============================] - 2s 121ms/step - loss: 0.7012 - val_loss: 0.3668\n",
      "Epoch 74/1000\n",
      "20/20 [==============================] - 2s 125ms/step - loss: 0.7083 - val_loss: 0.3645\n",
      "Epoch 75/1000\n",
      "20/20 [==============================] - 2s 119ms/step - loss: 0.6317 - val_loss: 0.3636\n",
      "Epoch 76/1000\n",
      "20/20 [==============================] - 2s 123ms/step - loss: 0.6538 - val_loss: 0.3572\n",
      "Epoch 77/1000\n",
      "20/20 [==============================] - 3s 133ms/step - loss: 0.6640 - val_loss: 0.3634\n",
      "Epoch 78/1000\n",
      "20/20 [==============================] - 2s 119ms/step - loss: 0.6718 - val_loss: 0.3630\n",
      "Epoch 79/1000\n",
      "20/20 [==============================] - 2s 119ms/step - loss: 0.6901 - val_loss: 0.3628\n",
      "Epoch 80/1000\n",
      "20/20 [==============================] - 2s 120ms/step - loss: 0.6620 - val_loss: 0.3588\n",
      "Epoch 81/1000\n",
      "20/20 [==============================] - 3s 132ms/step - loss: 0.6518 - val_loss: 0.3571\n",
      "Epoch 82/1000\n",
      "20/20 [==============================] - 3s 132ms/step - loss: 0.7001 - val_loss: 0.3714\n",
      "Epoch 83/1000\n",
      "20/20 [==============================] - 2s 121ms/step - loss: 0.6703 - val_loss: 0.3699\n",
      "Epoch 84/1000\n",
      "20/20 [==============================] - 2s 122ms/step - loss: 0.7137 - val_loss: 0.3650\n",
      "Epoch 85/1000\n",
      "20/20 [==============================] - ETA: 0s - loss: 0.6771\n",
      "Epoch 00085: ReduceLROnPlateau reducing learning rate to 1.0000000116860975e-08.\n",
      "20/20 [==============================] - 2s 119ms/step - loss: 0.6771 - val_loss: 0.3568\n",
      "Epoch 86/1000\n",
      "20/20 [==============================] - 2s 121ms/step - loss: 0.6558 - val_loss: 0.3564\n",
      "Epoch 87/1000\n",
      "20/20 [==============================] - 2s 119ms/step - loss: 0.7061 - val_loss: 0.3575\n",
      "Epoch 88/1000\n",
      "20/20 [==============================] - 2s 125ms/step - loss: 0.7030 - val_loss: 0.3589\n",
      "Epoch 89/1000\n",
      "20/20 [==============================] - 2s 122ms/step - loss: 0.6749 - val_loss: 0.3590\n",
      "Epoch 90/1000\n",
      "20/20 [==============================] - 2s 122ms/step - loss: 0.6895 - val_loss: 0.3590\n",
      "Epoch 91/1000\n",
      "20/20 [==============================] - 2s 119ms/step - loss: 0.6821 - val_loss: 0.3593\n",
      "Epoch 92/1000\n",
      "20/20 [==============================] - 2s 122ms/step - loss: 0.6603 - val_loss: 0.3592\n",
      "Epoch 93/1000\n",
      "20/20 [==============================] - 2s 120ms/step - loss: 0.6481 - val_loss: 0.3596\n",
      "Epoch 94/1000\n",
      "20/20 [==============================] - 3s 129ms/step - loss: 0.6840 - val_loss: 0.3592\n",
      "Epoch 95/1000\n",
      "20/20 [==============================] - 3s 125ms/step - loss: 0.6233 - val_loss: 0.3593\n",
      "Epoch 96/1000\n",
      "20/20 [==============================] - 2s 123ms/step - loss: 0.6523 - val_loss: 0.3586\n",
      "Epoch 97/1000\n",
      "20/20 [==============================] - 2s 124ms/step - loss: 0.6975 - val_loss: 0.3583\n",
      "Epoch 98/1000\n",
      "20/20 [==============================] - 2s 122ms/step - loss: 0.6769 - val_loss: 0.3586\n",
      "Epoch 99/1000\n",
      "20/20 [==============================] - 2s 124ms/step - loss: 0.6489 - val_loss: 0.3592\n",
      "Epoch 100/1000\n",
      "20/20 [==============================] - 2s 124ms/step - loss: 0.7006 - val_loss: 0.3586\n",
      "Epoch 101/1000\n",
      "20/20 [==============================] - 2s 121ms/step - loss: 0.6796 - val_loss: 0.3586\n",
      "Epoch 102/1000\n",
      "20/20 [==============================] - 2s 124ms/step - loss: 0.6416 - val_loss: 0.3586\n",
      "Epoch 103/1000\n",
      "20/20 [==============================] - 3s 136ms/step - loss: 0.6529 - val_loss: 0.3588\n",
      "Epoch 104/1000\n",
      "20/20 [==============================] - 2s 122ms/step - loss: 0.6615 - val_loss: 0.3592\n",
      "Epoch 105/1000\n",
      "20/20 [==============================] - 2s 118ms/step - loss: 0.6742 - val_loss: 0.3593\n",
      "Epoch 106/1000\n",
      "20/20 [==============================] - 2s 123ms/step - loss: 0.6562 - val_loss: 0.3599\n",
      "Epoch 107/1000\n",
      "20/20 [==============================] - 2s 122ms/step - loss: 0.6486 - val_loss: 0.3611\n",
      "Epoch 108/1000\n",
      "20/20 [==============================] - 2s 120ms/step - loss: 0.6963 - val_loss: 0.3609\n",
      "Epoch 109/1000\n",
      "20/20 [==============================] - 2s 117ms/step - loss: 0.6906 - val_loss: 0.3607\n",
      "Epoch 110/1000\n",
      "20/20 [==============================] - ETA: 0s - loss: 0.6280\n",
      "Epoch 00110: ReduceLROnPlateau reducing learning rate to 9.999999939225292e-10.\n",
      "Restoring model weights from the end of the best epoch.\n",
      "20/20 [==============================] - 2s 125ms/step - loss: 0.6280 - val_loss: 0.3608\n",
      "Epoch 00110: early stopping\n"
     ]
    }
   ],
   "source": [
    "# History object for plotting our model loss by epoch\n",
    "history4 = model4.fit(x_train12, y_train12, batch_size = BATCH4, \n",
    "                    epochs = EPOCHS4, validation_data = (x_val12, y_val12),\n",
    "                    callbacks = [rlrop4, early_stop4])"
   ]
  },
  {
   "cell_type": "code",
   "execution_count": 79,
   "metadata": {},
   "outputs": [
    {
     "data": {
      "image/png": "[encoded data removed]",
      "text/plain": [
       "<Figure size 720x504 with 1 Axes>"
      ]
     },
     "metadata": {
      "needs_background": "light"
     },
     "output_type": "display_data"
    }
   ],
   "source": [
    "# Loss History\n",
    "fig = plt.figure(figsize=(10, 7))\n",
    "plt.plot(history4.history['loss'])\n",
    "plt.plot(history4.history['val_loss'])\n",
    "plt.title('Model Loss')\n",
    "plt.ylabel('Loss')\n",
    "plt.xlabel('Epoch')\n",
    "plt.legend(['Train', 'Val'], loc='upper right')\n",
    "plt.show()"
   ]
  },
  {
   "cell_type": "markdown",
   "metadata": {},
   "source": [
    "### Previsão Multistep 12 meses em Validação\n",
    "Para ficar adequado à realidade, não podemos usar os dados de 2022 para prever 2022. Portanto, a previsão de 2022 será feita do moto *multistep*, isto é, o mês de janeiro/2022 será previsto usando-se os dados de arrecadação de janeiro a dezembro de 2021; o mês de fevereiro/2022 será previsto usando-se os dados de fevereiro a dezembro de 2021 mais a previsão feita para o mês de janeiro/2022; o mês de março/2022 será previsto usando-se os dados de março a dezembro de 2021 mais os meses de janeiro e fevereiro de 2022 previstos nos passos anteriores. E assim por diante, até que a previsão de dezembro/2022 será feita usando-se os dados de dezembro de 2021 mais as previsões de janeiro a novembro de 2022 feitas nos passos anteriores."
   ]
  },
  {
   "cell_type": "markdown",
   "metadata": {},
   "source": [
    "#### Remove os 12 últimos valores que serão previstos e cria as séries novamente"
   ]
  },
  {
   "cell_type": "code",
   "execution_count": 80,
   "metadata": {},
   "outputs": [
    {
     "name": "stdout",
     "output_type": "stream",
     "text": [
      "(204,)\n",
      "(180,)\n"
     ]
    },
    {
     "data": {
      "text/plain": [
       "pandas.core.series.Series"
      ]
     },
     "execution_count": 80,
     "metadata": {},
     "output_type": "execute_result"
    }
   ],
   "source": [
    "# remove\n",
    "serie_multi122 = l_icms_ts[:-24]\n",
    "print(l_icms_ts.shape)\n",
    "print(serie_multi122.shape)\n",
    "type(serie_multi122)"
   ]
  },
  {
   "cell_type": "code",
   "execution_count": 81,
   "metadata": {},
   "outputs": [
    {
     "name": "stdout",
     "output_type": "stream",
     "text": [
      "0 [[1.1502219e+10]]\n",
      "1 [[1.1505225e+10]]\n",
      "2 [[1.1506783e+10]]\n",
      "3 [[1.1507573e+10]]\n",
      "4 [[1.1519497e+10]]\n",
      "5 [[1.1532337e+10]]\n",
      "6 [[1.1547876e+10]]\n",
      "7 [[1.1565555e+10]]\n",
      "8 [[1.1586e+10]]\n",
      "9 [[1.1611109e+10]]\n",
      "10 [[1.163616e+10]]\n",
      "11 [[1.1655042e+10]]\n"
     ]
    }
   ],
   "source": [
    "for i in range(12):\n",
    "    # cria as séries\n",
    "    X_multi122, Y_multi122 = cria_features_target(serie_multi122, verbose=0)\n",
    "\n",
    "    # Faz a normalização usando o modelo fitado na normalização anterior\n",
    "    X_multi_std122 = enc_x.transform(X_multi122)\n",
    "    X_multi_std122 = X_multi_std122.reshape(X_multi_std122.shape[0],10,1)\n",
    "\n",
    "    # Faz o janelamento das séries\n",
    "    x_multi122, y_multi122 = janelamento_12_meses(X_multi_std122, Y_multi122, verbose=0)\n",
    "\n",
    "    # Faz a predição da arrecadação do mês\n",
    "    #y_pred_multi = np.mean(model.predict(x_multi[-1:]), axis=1)#[:,0].ravel()\n",
    "    y_pred_multi122 = model4.predict(x_multi122[-1:])#[:,0].ravel()\n",
    "    print(i, np.exp(y_pred_multi122))\n",
    "\n",
    "    #### Adicionar o valor previsto à série e fazer o novo janelamento\n",
    "    serie_multi122 = pd.Series(np.append(serie_multi122, y_pred_multi122))\n",
    "    type(serie_multi122)"
   ]
  },
  {
   "cell_type": "code",
   "execution_count": 82,
   "metadata": {},
   "outputs": [],
   "source": [
    "Y_pred_multi122 = np.exp(pd.Series(serie_multi122[-12:])) # tira o log das previsões\n",
    "Y_pred_multi122.index = icms_val.index"
   ]
  },
  {
   "cell_type": "code",
   "execution_count": 83,
   "metadata": {},
   "outputs": [
    {
     "data": {
      "text/plain": [
       "date\n",
       "2018-01-01    1.150222e+10\n",
       "2018-02-01    1.150523e+10\n",
       "2018-03-01    1.150678e+10\n",
       "2018-04-01    1.150757e+10\n",
       "2018-05-01    1.151950e+10\n",
       "2018-06-01    1.153234e+10\n",
       "2018-07-01    1.154788e+10\n",
       "2018-08-01    1.156555e+10\n",
       "2018-09-01    1.158600e+10\n",
       "2018-10-01    1.161111e+10\n",
       "2018-11-01    1.163616e+10\n",
       "2018-12-01    1.165504e+10\n",
       "dtype: float64"
      ]
     },
     "execution_count": 83,
     "metadata": {},
     "output_type": "execute_result"
    }
   ],
   "source": [
    "Y_pred_multi122"
   ]
  },
  {
   "cell_type": "code",
   "execution_count": 84,
   "metadata": {},
   "outputs": [
    {
     "data": {
      "text/plain": [
       "489294977.3066004"
      ]
     },
     "execution_count": 84,
     "metadata": {},
     "output_type": "execute_result"
    }
   ],
   "source": [
    "RMSE_lstm_multi122 = mean_squared_error(icms_val, Y_pred_multi122, squared=False)\n",
    "RMSE_lstm_multi122"
   ]
  },
  {
   "cell_type": "code",
   "execution_count": 85,
   "metadata": {
    "scrolled": true
   },
   "outputs": [
    {
     "data": {
      "text/plain": [
       "0.031437365337406556"
      ]
     },
     "execution_count": 85,
     "metadata": {},
     "output_type": "execute_result"
    }
   ],
   "source": [
    "MAPE_lstm_multi122 = mean_absolute_percentage_error(icms_val, Y_pred_multi122)\n",
    "MAPE_lstm_multi122"
   ]
  },
  {
   "cell_type": "code",
   "execution_count": 86,
   "metadata": {},
   "outputs": [],
   "source": [
    "previsoes['nome'].append('RNN-LSTM-12-meses-camadas')\n",
    "previsoes['modelo'].append(model4)\n",
    "previsoes['previsoes'].append(Y_pred_multi122)\n",
    "\n",
    "previsoes['rmse'].append(RMSE_lstm_multi122)\n",
    "\n",
    "previsoes['mape'].append(MAPE_lstm_multi122)"
   ]
  },
  {
   "cell_type": "code",
   "execution_count": 87,
   "metadata": {},
   "outputs": [],
   "source": [
    "previsoes['erro relativo'].append([erro_relativo(prev,real) \n",
    "                                   for prev,real in zip(Y_pred_multi122\n",
    "                                                        , icms_val)])"
   ]
  },
  {
   "cell_type": "markdown",
   "metadata": {},
   "source": [
    "## Resultados"
   ]
  },
  {
   "cell_type": "code",
   "execution_count": 88,
   "metadata": {},
   "outputs": [
    {
     "data": {
      "text/plain": [
       "['RNN-LSTM-1-mês-larga',\n",
       " 'RNN-LSTM-1-mês-camadas',\n",
       " 'RNN-LSTM-12-meses-larga',\n",
       " 'RNN-LSTM-12-meses-camadas']"
      ]
     },
     "execution_count": 88,
     "metadata": {},
     "output_type": "execute_result"
    }
   ],
   "source": [
    "previsoes['nome']"
   ]
  },
  {
   "cell_type": "code",
   "execution_count": 89,
   "metadata": {},
   "outputs": [],
   "source": [
    "df_prev = pd.DataFrame(data=previsoes['previsoes'], \n",
    "                       index=previsoes['nome']).transpose()\n",
    "df_prev[\"real\"] = icms_val\n",
    "df_rmse = pd.DataFrame(data=previsoes['rmse'], \n",
    "                       index=previsoes['nome']).transpose()\n",
    "df_mape = pd.DataFrame(data=previsoes['mape'], \n",
    "                       index=previsoes['nome']).transpose()\n",
    "df_erro = pd.DataFrame(data=previsoes['erro relativo'], \n",
    "                       index=previsoes['nome']).transpose()"
   ]
  },
  {
   "cell_type": "code",
   "execution_count": 90,
   "metadata": {},
   "outputs": [
    {
     "data": {
      "text/html": [
       "<div>\n",
       "<style scoped>\n",
       "    .dataframe tbody tr th:only-of-type {\n",
       "        vertical-align: middle;\n",
       "    }\n",
       "\n",
       "    .dataframe tbody tr th {\n",
       "        vertical-align: top;\n",
       "    }\n",
       "\n",
       "    .dataframe thead th {\n",
       "        text-align: right;\n",
       "    }\n",
       "</style>\n",
       "<table border=\"1\" class=\"dataframe\">\n",
       "  <thead>\n",
       "    <tr style=\"text-align: right;\">\n",
       "      <th></th>\n",
       "      <th>RNN-LSTM-1-mês-larga</th>\n",
       "      <th>RNN-LSTM-1-mês-camadas</th>\n",
       "      <th>RNN-LSTM-12-meses-larga</th>\n",
       "      <th>RNN-LSTM-12-meses-camadas</th>\n",
       "      <th>real</th>\n",
       "    </tr>\n",
       "    <tr>\n",
       "      <th>date</th>\n",
       "      <th></th>\n",
       "      <th></th>\n",
       "      <th></th>\n",
       "      <th></th>\n",
       "      <th></th>\n",
       "    </tr>\n",
       "  </thead>\n",
       "  <tbody>\n",
       "    <tr>\n",
       "      <th>2018-01-01</th>\n",
       "      <td>1.123155e+10</td>\n",
       "      <td>1.087186e+10</td>\n",
       "      <td>1.136798e+10</td>\n",
       "      <td>1.150222e+10</td>\n",
       "      <td>1.171836e+10</td>\n",
       "    </tr>\n",
       "    <tr>\n",
       "      <th>2018-02-01</th>\n",
       "      <td>1.123202e+10</td>\n",
       "      <td>1.091976e+10</td>\n",
       "      <td>1.136622e+10</td>\n",
       "      <td>1.150523e+10</td>\n",
       "      <td>1.055555e+10</td>\n",
       "    </tr>\n",
       "    <tr>\n",
       "      <th>2018-03-01</th>\n",
       "      <td>1.124499e+10</td>\n",
       "      <td>1.094364e+10</td>\n",
       "      <td>1.134833e+10</td>\n",
       "      <td>1.150678e+10</td>\n",
       "      <td>1.051107e+10</td>\n",
       "    </tr>\n",
       "    <tr>\n",
       "      <th>2018-04-01</th>\n",
       "      <td>1.124844e+10</td>\n",
       "      <td>1.091926e+10</td>\n",
       "      <td>1.132374e+10</td>\n",
       "      <td>1.150757e+10</td>\n",
       "      <td>1.147597e+10</td>\n",
       "    </tr>\n",
       "    <tr>\n",
       "      <th>2018-05-01</th>\n",
       "      <td>1.124179e+10</td>\n",
       "      <td>1.091300e+10</td>\n",
       "      <td>1.132653e+10</td>\n",
       "      <td>1.151950e+10</td>\n",
       "      <td>1.108135e+10</td>\n",
       "    </tr>\n",
       "    <tr>\n",
       "      <th>2018-06-01</th>\n",
       "      <td>1.123436e+10</td>\n",
       "      <td>1.091104e+10</td>\n",
       "      <td>1.133137e+10</td>\n",
       "      <td>1.153234e+10</td>\n",
       "      <td>1.076198e+10</td>\n",
       "    </tr>\n",
       "    <tr>\n",
       "      <th>2018-07-01</th>\n",
       "      <td>1.123731e+10</td>\n",
       "      <td>1.089858e+10</td>\n",
       "      <td>1.132975e+10</td>\n",
       "      <td>1.154788e+10</td>\n",
       "      <td>1.146222e+10</td>\n",
       "    </tr>\n",
       "    <tr>\n",
       "      <th>2018-08-01</th>\n",
       "      <td>1.123288e+10</td>\n",
       "      <td>1.090505e+10</td>\n",
       "      <td>1.134255e+10</td>\n",
       "      <td>1.156555e+10</td>\n",
       "      <td>1.157415e+10</td>\n",
       "    </tr>\n",
       "    <tr>\n",
       "      <th>2018-09-01</th>\n",
       "      <td>1.123491e+10</td>\n",
       "      <td>1.089505e+10</td>\n",
       "      <td>1.135484e+10</td>\n",
       "      <td>1.158600e+10</td>\n",
       "      <td>1.157068e+10</td>\n",
       "    </tr>\n",
       "    <tr>\n",
       "      <th>2018-10-01</th>\n",
       "      <td>1.123217e+10</td>\n",
       "      <td>1.089692e+10</td>\n",
       "      <td>1.137871e+10</td>\n",
       "      <td>1.161111e+10</td>\n",
       "      <td>1.176202e+10</td>\n",
       "    </tr>\n",
       "    <tr>\n",
       "      <th>2018-11-01</th>\n",
       "      <td>1.123022e+10</td>\n",
       "      <td>1.089862e+10</td>\n",
       "      <td>1.140470e+10</td>\n",
       "      <td>1.163616e+10</td>\n",
       "      <td>1.150136e+10</td>\n",
       "    </tr>\n",
       "    <tr>\n",
       "      <th>2018-12-01</th>\n",
       "      <td>1.122924e+10</td>\n",
       "      <td>1.089856e+10</td>\n",
       "      <td>1.142085e+10</td>\n",
       "      <td>1.165504e+10</td>\n",
       "      <td>1.196787e+10</td>\n",
       "    </tr>\n",
       "  </tbody>\n",
       "</table>\n",
       "</div>"
      ],
      "text/plain": [
       "            RNN-LSTM-1-mês-larga  RNN-LSTM-1-mês-camadas  \\\n",
       "date                                                       \n",
       "2018-01-01          1.123155e+10            1.087186e+10   \n",
       "2018-02-01          1.123202e+10            1.091976e+10   \n",
       "2018-03-01          1.124499e+10            1.094364e+10   \n",
       "2018-04-01          1.124844e+10            1.091926e+10   \n",
       "2018-05-01          1.124179e+10            1.091300e+10   \n",
       "2018-06-01          1.123436e+10            1.091104e+10   \n",
       "2018-07-01          1.123731e+10            1.089858e+10   \n",
       "2018-08-01          1.123288e+10            1.090505e+10   \n",
       "2018-09-01          1.123491e+10            1.089505e+10   \n",
       "2018-10-01          1.123217e+10            1.089692e+10   \n",
       "2018-11-01          1.123022e+10            1.089862e+10   \n",
       "2018-12-01          1.122924e+10            1.089856e+10   \n",
       "\n",
       "            RNN-LSTM-12-meses-larga  RNN-LSTM-12-meses-camadas          real  \n",
       "date                                                                          \n",
       "2018-01-01             1.136798e+10               1.150222e+10  1.171836e+10  \n",
       "2018-02-01             1.136622e+10               1.150523e+10  1.055555e+10  \n",
       "2018-03-01             1.134833e+10               1.150678e+10  1.051107e+10  \n",
       "2018-04-01             1.132374e+10               1.150757e+10  1.147597e+10  \n",
       "2018-05-01             1.132653e+10               1.151950e+10  1.108135e+10  \n",
       "2018-06-01             1.133137e+10               1.153234e+10  1.076198e+10  \n",
       "2018-07-01             1.132975e+10               1.154788e+10  1.146222e+10  \n",
       "2018-08-01             1.134255e+10               1.156555e+10  1.157415e+10  \n",
       "2018-09-01             1.135484e+10               1.158600e+10  1.157068e+10  \n",
       "2018-10-01             1.137871e+10               1.161111e+10  1.176202e+10  \n",
       "2018-11-01             1.140470e+10               1.163616e+10  1.150136e+10  \n",
       "2018-12-01             1.142085e+10               1.165504e+10  1.196787e+10  "
      ]
     },
     "execution_count": 90,
     "metadata": {},
     "output_type": "execute_result"
    }
   ],
   "source": [
    "df_prev"
   ]
  },
  {
   "cell_type": "code",
   "execution_count": 91,
   "metadata": {},
   "outputs": [
    {
     "data": {
      "text/html": [
       "<div>\n",
       "<style scoped>\n",
       "    .dataframe tbody tr th:only-of-type {\n",
       "        vertical-align: middle;\n",
       "    }\n",
       "\n",
       "    .dataframe tbody tr th {\n",
       "        vertical-align: top;\n",
       "    }\n",
       "\n",
       "    .dataframe thead th {\n",
       "        text-align: right;\n",
       "    }\n",
       "</style>\n",
       "<table border=\"1\" class=\"dataframe\">\n",
       "  <thead>\n",
       "    <tr style=\"text-align: right;\">\n",
       "      <th></th>\n",
       "      <th>RNN-LSTM-1-mês-larga</th>\n",
       "      <th>RNN-LSTM-1-mês-camadas</th>\n",
       "      <th>RNN-LSTM-12-meses-larga</th>\n",
       "      <th>RNN-LSTM-12-meses-camadas</th>\n",
       "    </tr>\n",
       "  </thead>\n",
       "  <tbody>\n",
       "    <tr>\n",
       "      <th>0</th>\n",
       "      <td>4.154219</td>\n",
       "      <td>7.223670</td>\n",
       "      <td>2.990010</td>\n",
       "      <td>1.844427</td>\n",
       "    </tr>\n",
       "    <tr>\n",
       "      <th>1</th>\n",
       "      <td>6.408665</td>\n",
       "      <td>3.450432</td>\n",
       "      <td>7.680022</td>\n",
       "      <td>8.996917</td>\n",
       "    </tr>\n",
       "    <tr>\n",
       "      <th>2</th>\n",
       "      <td>6.982330</td>\n",
       "      <td>4.115330</td>\n",
       "      <td>7.965456</td>\n",
       "      <td>9.472979</td>\n",
       "    </tr>\n",
       "    <tr>\n",
       "      <th>3</th>\n",
       "      <td>1.982599</td>\n",
       "      <td>4.851028</td>\n",
       "      <td>1.326450</td>\n",
       "      <td>0.275427</td>\n",
       "    </tr>\n",
       "    <tr>\n",
       "      <th>4</th>\n",
       "      <td>1.447912</td>\n",
       "      <td>1.519218</td>\n",
       "      <td>2.212576</td>\n",
       "      <td>3.953960</td>\n",
       "    </tr>\n",
       "    <tr>\n",
       "      <th>5</th>\n",
       "      <td>4.389292</td>\n",
       "      <td>1.385045</td>\n",
       "      <td>5.290736</td>\n",
       "      <td>7.158116</td>\n",
       "    </tr>\n",
       "    <tr>\n",
       "      <th>6</th>\n",
       "      <td>1.962121</td>\n",
       "      <td>4.917333</td>\n",
       "      <td>1.155690</td>\n",
       "      <td>0.747326</td>\n",
       "    </tr>\n",
       "    <tr>\n",
       "      <th>7</th>\n",
       "      <td>2.948535</td>\n",
       "      <td>5.780969</td>\n",
       "      <td>2.000983</td>\n",
       "      <td>0.074225</td>\n",
       "    </tr>\n",
       "    <tr>\n",
       "      <th>8</th>\n",
       "      <td>2.901849</td>\n",
       "      <td>5.839151</td>\n",
       "      <td>1.865347</td>\n",
       "      <td>0.132428</td>\n",
       "    </tr>\n",
       "    <tr>\n",
       "      <th>9</th>\n",
       "      <td>4.504785</td>\n",
       "      <td>7.355083</td>\n",
       "      <td>3.258886</td>\n",
       "      <td>1.283078</td>\n",
       "    </tr>\n",
       "    <tr>\n",
       "      <th>10</th>\n",
       "      <td>2.357419</td>\n",
       "      <td>5.240547</td>\n",
       "      <td>0.840390</td>\n",
       "      <td>1.172076</td>\n",
       "    </tr>\n",
       "    <tr>\n",
       "      <th>11</th>\n",
       "      <td>6.171785</td>\n",
       "      <td>8.934816</td>\n",
       "      <td>4.570696</td>\n",
       "      <td>2.613879</td>\n",
       "    </tr>\n",
       "  </tbody>\n",
       "</table>\n",
       "</div>"
      ],
      "text/plain": [
       "    RNN-LSTM-1-mês-larga  RNN-LSTM-1-mês-camadas  RNN-LSTM-12-meses-larga  \\\n",
       "0               4.154219                7.223670                 2.990010   \n",
       "1               6.408665                3.450432                 7.680022   \n",
       "2               6.982330                4.115330                 7.965456   \n",
       "3               1.982599                4.851028                 1.326450   \n",
       "4               1.447912                1.519218                 2.212576   \n",
       "5               4.389292                1.385045                 5.290736   \n",
       "6               1.962121                4.917333                 1.155690   \n",
       "7               2.948535                5.780969                 2.000983   \n",
       "8               2.901849                5.839151                 1.865347   \n",
       "9               4.504785                7.355083                 3.258886   \n",
       "10              2.357419                5.240547                 0.840390   \n",
       "11              6.171785                8.934816                 4.570696   \n",
       "\n",
       "    RNN-LSTM-12-meses-camadas  \n",
       "0                    1.844427  \n",
       "1                    8.996917  \n",
       "2                    9.472979  \n",
       "3                    0.275427  \n",
       "4                    3.953960  \n",
       "5                    7.158116  \n",
       "6                    0.747326  \n",
       "7                    0.074225  \n",
       "8                    0.132428  \n",
       "9                    1.283078  \n",
       "10                   1.172076  \n",
       "11                   2.613879  "
      ]
     },
     "execution_count": 91,
     "metadata": {},
     "output_type": "execute_result"
    }
   ],
   "source": [
    "df_erro"
   ]
  },
  {
   "cell_type": "markdown",
   "metadata": {},
   "source": [
    "#### Previsões"
   ]
  },
  {
   "cell_type": "code",
   "execution_count": 92,
   "metadata": {},
   "outputs": [
    {
     "data": {
      "image/png": "[encoded data removed]",
      "text/plain": [
       "<Figure size 1080x720 with 1 Axes>"
      ]
     },
     "metadata": {
      "needs_background": "light"
     },
     "output_type": "display_data"
    }
   ],
   "source": [
    "fig = plt.figure(figsize=(15, 10))\n",
    "ax = sns.lineplot(data=df_prev)"
   ]
  },
  {
   "cell_type": "markdown",
   "metadata": {},
   "source": [
    "#### RMSE"
   ]
  },
  {
   "cell_type": "code",
   "execution_count": 93,
   "metadata": {
    "scrolled": false
   },
   "outputs": [
    {
     "data": {
      "image/png": "[encoded data removed]",
      "text/plain": [
       "<Figure size 1080x720 with 1 Axes>"
      ]
     },
     "metadata": {
      "needs_background": "light"
     },
     "output_type": "display_data"
    }
   ],
   "source": [
    "fig = plt.figure(figsize=(15, 10))\n",
    "#df_rmse = df_rmse.drop(['mov_avg_12'], axis=1)\n",
    "ax = sns.barplot(data=df_rmse)\n",
    "_ = plt.xticks(rotation=45)"
   ]
  },
  {
   "cell_type": "markdown",
   "metadata": {},
   "source": [
    "#### MAPE"
   ]
  },
  {
   "cell_type": "code",
   "execution_count": 94,
   "metadata": {
    "scrolled": false
   },
   "outputs": [
    {
     "data": {
      "image/png": "[encoded data removed]",
      "text/plain": [
       "<Figure size 1080x720 with 1 Axes>"
      ]
     },
     "metadata": {
      "needs_background": "light"
     },
     "output_type": "display_data"
    }
   ],
   "source": [
    "fig = plt.figure(figsize=(15, 10))\n",
    "#df_mape = df_mape.drop(['mov_avg_12'], axis=1)\n",
    "ax = sns.barplot(data=df_mape)\n",
    "_ = plt.xticks(rotation=45)"
   ]
  },
  {
   "cell_type": "markdown",
   "metadata": {},
   "source": [
    "### Resumo das métricas"
   ]
  },
  {
   "cell_type": "code",
   "execution_count": 95,
   "metadata": {},
   "outputs": [],
   "source": [
    "df_rmse.index = ['RMSE']\n",
    "df_mape.index = ['MAPE']"
   ]
  },
  {
   "cell_type": "code",
   "execution_count": 96,
   "metadata": {},
   "outputs": [
    {
     "data": {
      "text/html": [
       "<div>\n",
       "<style scoped>\n",
       "    .dataframe tbody tr th:only-of-type {\n",
       "        vertical-align: middle;\n",
       "    }\n",
       "\n",
       "    .dataframe tbody tr th {\n",
       "        vertical-align: top;\n",
       "    }\n",
       "\n",
       "    .dataframe thead th {\n",
       "        text-align: right;\n",
       "    }\n",
       "</style>\n",
       "<table border=\"1\" class=\"dataframe\">\n",
       "  <thead>\n",
       "    <tr style=\"text-align: right;\">\n",
       "      <th></th>\n",
       "      <th>RNN-LSTM-1-mês-larga</th>\n",
       "      <th>RNN-LSTM-1-mês-camadas</th>\n",
       "      <th>RNN-LSTM-12-meses-larga</th>\n",
       "      <th>RNN-LSTM-12-meses-camadas</th>\n",
       "    </tr>\n",
       "  </thead>\n",
       "  <tbody>\n",
       "    <tr>\n",
       "      <th>RMSE</th>\n",
       "      <td>4.755253e+08</td>\n",
       "      <td>6.372965e+08</td>\n",
       "      <td>4.529255e+08</td>\n",
       "      <td>4.892950e+08</td>\n",
       "    </tr>\n",
       "    <tr>\n",
       "      <th>MAPE</th>\n",
       "      <td>3.850959e-02</td>\n",
       "      <td>5.051052e-02</td>\n",
       "      <td>3.429770e-02</td>\n",
       "      <td>3.143737e-02</td>\n",
       "    </tr>\n",
       "  </tbody>\n",
       "</table>\n",
       "</div>"
      ],
      "text/plain": [
       "      RNN-LSTM-1-mês-larga  RNN-LSTM-1-mês-camadas  RNN-LSTM-12-meses-larga  \\\n",
       "RMSE          4.755253e+08            6.372965e+08             4.529255e+08   \n",
       "MAPE          3.850959e-02            5.051052e-02             3.429770e-02   \n",
       "\n",
       "      RNN-LSTM-12-meses-camadas  \n",
       "RMSE               4.892950e+08  \n",
       "MAPE               3.143737e-02  "
      ]
     },
     "execution_count": 96,
     "metadata": {},
     "output_type": "execute_result"
    }
   ],
   "source": [
    "df_metricas = df_rmse.copy()\n",
    "df_metricas = df_metricas.append(df_mape.copy())\n",
    "df_metricas"
   ]
  }
 ],
 "metadata": {
  "kernelspec": {
   "display_name": "Python 3",
   "language": "python",
   "name": "python3"
  },
  "language_info": {
   "codemirror_mode": {
    "name": "ipython",
    "version": 3
   },
   "file_extension": ".py",
   "mimetype": "text/x-python",
   "name": "python",
   "nbconvert_exporter": "python",
   "pygments_lexer": "ipython3",
   "version": "3.6.4"
  }
 },
 "nbformat": 4,
 "nbformat_minor": 2
}
