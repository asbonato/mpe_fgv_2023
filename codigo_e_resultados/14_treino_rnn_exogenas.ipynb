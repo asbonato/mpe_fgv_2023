{
 "cells": [
  {
   "cell_type": "markdown",
   "metadata": {},
   "source": [
    "# Aplicação de Modelos de Markov e Redes Neurais LSTM na Previsão de Arrecadação do ICMS Paulista\n",
    "## Resultados 2014\n",
    "\n",
    "### Antonio Sergio Ferreira Bonato"
   ]
  },
  {
   "cell_type": "markdown",
   "metadata": {},
   "source": [
    "Atualmente, na Secretaria da Fazenda e Planejamento do Estado de São Paulo, a previsão de arrecadação do ICMS paulista é feita usando-se um modelo ARIMA com variáveis exógenas, o ARIMAX. Mas o ICMS é não linear e há várias quebras estruturais controladas com diversas *dummies*. A consequência é um modelo bastante sobreajustado, inadequado para previsões de mais longo prazo (mais do que alguns meses, muito menos para um ano). \n",
    "A proposta deste trabalho é utilizar modelos não lineares multivariados na previsão do ICMS paulista, utilizando redes neurais recorrentes LSTM (*Long Short Term Memory*) e modelos Markov-Switching, fazendo um contraponto entre estes dois modelos. E utilizar, como baseline de comparação, o modelo ARIMAX atual. \n",
    "\n",
    "**Palavras-chave**: Markov-Switching Models. Redes Neurais Recorrentes. LSTM. ICMS."
   ]
  },
  {
   "cell_type": "markdown",
   "metadata": {},
   "source": [
    "## Treino das RNN-LSTM Multivariadas"
   ]
  },
  {
   "cell_type": "code",
   "execution_count": 1,
   "metadata": {},
   "outputs": [],
   "source": [
    "import pandas as pd\n",
    "import numpy as np\n",
    "import seaborn as sns\n",
    "import matplotlib.pyplot as plt\n",
    "import statsmodels.tsa.stattools\n",
    "import statsmodels.tsa.x13\n",
    "import statsmodels.graphics.tsaplots\n",
    "import statsmodels.api as sm\n",
    "from statsmodels.graphics.api import qqplot\n",
    "from statsmodels.tsa.api import acf, graphics, pacf\n",
    "from statsmodels.tsa.arima.model import ARIMA\n",
    "import pickle\n",
    "from pmdarima.arima import auto_arima\n",
    "from sklearn.metrics import mean_squared_error, mean_absolute_percentage_error\n",
    "import random\n",
    "import tensorflow as tf\n",
    "seed = 42\n",
    "random.seed(seed)\n",
    "np.random.seed(seed)\n",
    "tf.random.set_seed(seed)\n",
    "\n",
    "sns.set()\n",
    "sns.set_context(\"notebook\")\n",
    "sns.set(rc={'figure.figsize':(15,8)})"
   ]
  },
  {
   "cell_type": "code",
   "execution_count": 2,
   "metadata": {},
   "outputs": [],
   "source": [
    "import warnings\n",
    "warnings.filterwarnings('ignore')\n",
    "warnings.simplefilter('ignore')"
   ]
  },
  {
   "cell_type": "code",
   "execution_count": 3,
   "metadata": {},
   "outputs": [
    {
     "data": {
      "text/html": [
       "<div>\n",
       "<style scoped>\n",
       "    .dataframe tbody tr th:only-of-type {\n",
       "        vertical-align: middle;\n",
       "    }\n",
       "\n",
       "    .dataframe tbody tr th {\n",
       "        vertical-align: top;\n",
       "    }\n",
       "\n",
       "    .dataframe thead th {\n",
       "        text-align: right;\n",
       "    }\n",
       "</style>\n",
       "<table border=\"1\" class=\"dataframe\">\n",
       "  <thead>\n",
       "    <tr style=\"text-align: right;\">\n",
       "      <th></th>\n",
       "      <th>date</th>\n",
       "      <th>icms_sp</th>\n",
       "      <th>igp_m</th>\n",
       "      <th>dolar</th>\n",
       "      <th>ibc_br</th>\n",
       "      <th>dias_uteis</th>\n",
       "      <th>igp_m_22</th>\n",
       "      <th>dolar_22</th>\n",
       "      <th>ibc_br_22</th>\n",
       "      <th>igp_m_21</th>\n",
       "      <th>...</th>\n",
       "      <th>ibc_br_16</th>\n",
       "      <th>igp_m_15</th>\n",
       "      <th>dolar_15</th>\n",
       "      <th>ibc_br_15</th>\n",
       "      <th>igp_m_14</th>\n",
       "      <th>dolar_14</th>\n",
       "      <th>ibc_br_14</th>\n",
       "      <th>igp_m_13</th>\n",
       "      <th>dolar_13</th>\n",
       "      <th>ibc_br_13</th>\n",
       "    </tr>\n",
       "  </thead>\n",
       "  <tbody>\n",
       "    <tr>\n",
       "      <th>0</th>\n",
       "      <td>2003-01-01</td>\n",
       "      <td>3.360296e+09</td>\n",
       "      <td>277.173</td>\n",
       "      <td>3.4384</td>\n",
       "      <td>96.15</td>\n",
       "      <td>22</td>\n",
       "      <td>277.173</td>\n",
       "      <td>3.4384</td>\n",
       "      <td>96.15</td>\n",
       "      <td>277.173</td>\n",
       "      <td>...</td>\n",
       "      <td>96.15</td>\n",
       "      <td>277.173</td>\n",
       "      <td>3.4384</td>\n",
       "      <td>96.15</td>\n",
       "      <td>277.173</td>\n",
       "      <td>3.4384</td>\n",
       "      <td>96.15</td>\n",
       "      <td>277.173</td>\n",
       "      <td>3.4384</td>\n",
       "      <td>96.15</td>\n",
       "    </tr>\n",
       "    <tr>\n",
       "      <th>1</th>\n",
       "      <td>2003-02-01</td>\n",
       "      <td>3.196558e+09</td>\n",
       "      <td>283.506</td>\n",
       "      <td>3.5908</td>\n",
       "      <td>98.67</td>\n",
       "      <td>20</td>\n",
       "      <td>283.506</td>\n",
       "      <td>3.5908</td>\n",
       "      <td>98.67</td>\n",
       "      <td>283.506</td>\n",
       "      <td>...</td>\n",
       "      <td>98.67</td>\n",
       "      <td>283.506</td>\n",
       "      <td>3.5908</td>\n",
       "      <td>98.67</td>\n",
       "      <td>283.506</td>\n",
       "      <td>3.5908</td>\n",
       "      <td>98.67</td>\n",
       "      <td>283.506</td>\n",
       "      <td>3.5908</td>\n",
       "      <td>98.67</td>\n",
       "    </tr>\n",
       "    <tr>\n",
       "      <th>2</th>\n",
       "      <td>2003-03-01</td>\n",
       "      <td>3.160011e+09</td>\n",
       "      <td>287.855</td>\n",
       "      <td>3.4469</td>\n",
       "      <td>103.41</td>\n",
       "      <td>19</td>\n",
       "      <td>287.855</td>\n",
       "      <td>3.4469</td>\n",
       "      <td>103.41</td>\n",
       "      <td>287.855</td>\n",
       "      <td>...</td>\n",
       "      <td>103.41</td>\n",
       "      <td>287.855</td>\n",
       "      <td>3.4469</td>\n",
       "      <td>103.41</td>\n",
       "      <td>287.855</td>\n",
       "      <td>3.4469</td>\n",
       "      <td>103.41</td>\n",
       "      <td>287.855</td>\n",
       "      <td>3.4469</td>\n",
       "      <td>103.41</td>\n",
       "    </tr>\n",
       "    <tr>\n",
       "      <th>3</th>\n",
       "      <td>2003-04-01</td>\n",
       "      <td>3.215307e+09</td>\n",
       "      <td>290.512</td>\n",
       "      <td>3.1187</td>\n",
       "      <td>102.19</td>\n",
       "      <td>20</td>\n",
       "      <td>290.512</td>\n",
       "      <td>3.1187</td>\n",
       "      <td>102.19</td>\n",
       "      <td>290.512</td>\n",
       "      <td>...</td>\n",
       "      <td>102.19</td>\n",
       "      <td>290.512</td>\n",
       "      <td>3.1187</td>\n",
       "      <td>102.19</td>\n",
       "      <td>290.512</td>\n",
       "      <td>3.1187</td>\n",
       "      <td>102.19</td>\n",
       "      <td>290.512</td>\n",
       "      <td>3.1187</td>\n",
       "      <td>102.19</td>\n",
       "    </tr>\n",
       "    <tr>\n",
       "      <th>4</th>\n",
       "      <td>2003-05-01</td>\n",
       "      <td>3.098930e+09</td>\n",
       "      <td>289.747</td>\n",
       "      <td>2.9557</td>\n",
       "      <td>100.30</td>\n",
       "      <td>21</td>\n",
       "      <td>289.747</td>\n",
       "      <td>2.9557</td>\n",
       "      <td>100.30</td>\n",
       "      <td>289.747</td>\n",
       "      <td>...</td>\n",
       "      <td>100.30</td>\n",
       "      <td>289.747</td>\n",
       "      <td>2.9557</td>\n",
       "      <td>100.30</td>\n",
       "      <td>289.747</td>\n",
       "      <td>2.9557</td>\n",
       "      <td>100.30</td>\n",
       "      <td>289.747</td>\n",
       "      <td>2.9557</td>\n",
       "      <td>100.30</td>\n",
       "    </tr>\n",
       "  </tbody>\n",
       "</table>\n",
       "<p>5 rows × 36 columns</p>\n",
       "</div>"
      ],
      "text/plain": [
       "        date       icms_sp    igp_m   dolar  ibc_br  dias_uteis  igp_m_22  \\\n",
       "0 2003-01-01  3.360296e+09  277.173  3.4384   96.15          22   277.173   \n",
       "1 2003-02-01  3.196558e+09  283.506  3.5908   98.67          20   283.506   \n",
       "2 2003-03-01  3.160011e+09  287.855  3.4469  103.41          19   287.855   \n",
       "3 2003-04-01  3.215307e+09  290.512  3.1187  102.19          20   290.512   \n",
       "4 2003-05-01  3.098930e+09  289.747  2.9557  100.30          21   289.747   \n",
       "\n",
       "   dolar_22  ibc_br_22  igp_m_21  ...  ibc_br_16  igp_m_15  dolar_15  \\\n",
       "0    3.4384      96.15   277.173  ...      96.15   277.173    3.4384   \n",
       "1    3.5908      98.67   283.506  ...      98.67   283.506    3.5908   \n",
       "2    3.4469     103.41   287.855  ...     103.41   287.855    3.4469   \n",
       "3    3.1187     102.19   290.512  ...     102.19   290.512    3.1187   \n",
       "4    2.9557     100.30   289.747  ...     100.30   289.747    2.9557   \n",
       "\n",
       "   ibc_br_15  igp_m_14  dolar_14  ibc_br_14  igp_m_13  dolar_13  ibc_br_13  \n",
       "0      96.15   277.173    3.4384      96.15   277.173    3.4384      96.15  \n",
       "1      98.67   283.506    3.5908      98.67   283.506    3.5908      98.67  \n",
       "2     103.41   287.855    3.4469     103.41   287.855    3.4469     103.41  \n",
       "3     102.19   290.512    3.1187     102.19   290.512    3.1187     102.19  \n",
       "4     100.30   289.747    2.9557     100.30   289.747    2.9557     100.30  \n",
       "\n",
       "[5 rows x 36 columns]"
      ]
     },
     "execution_count": 3,
     "metadata": {},
     "output_type": "execute_result"
    }
   ],
   "source": [
    "df_main_orig = pd.read_excel(\"variaveis_previsao.xlsx\", parse_dates=['date'])\n",
    "df_main_orig.head()"
   ]
  },
  {
   "cell_type": "code",
   "execution_count": 4,
   "metadata": {},
   "outputs": [
    {
     "data": {
      "text/html": [
       "<div>\n",
       "<style scoped>\n",
       "    .dataframe tbody tr th:only-of-type {\n",
       "        vertical-align: middle;\n",
       "    }\n",
       "\n",
       "    .dataframe tbody tr th {\n",
       "        vertical-align: top;\n",
       "    }\n",
       "\n",
       "    .dataframe thead th {\n",
       "        text-align: right;\n",
       "    }\n",
       "</style>\n",
       "<table border=\"1\" class=\"dataframe\">\n",
       "  <thead>\n",
       "    <tr style=\"text-align: right;\">\n",
       "      <th></th>\n",
       "      <th>date</th>\n",
       "      <th>icms_sp</th>\n",
       "      <th>igp_m</th>\n",
       "      <th>dolar</th>\n",
       "      <th>ibc_br</th>\n",
       "      <th>dias_uteis</th>\n",
       "      <th>igp_m_22</th>\n",
       "      <th>dolar_22</th>\n",
       "      <th>ibc_br_22</th>\n",
       "      <th>igp_m_21</th>\n",
       "      <th>...</th>\n",
       "      <th>ibc_br_16</th>\n",
       "      <th>igp_m_15</th>\n",
       "      <th>dolar_15</th>\n",
       "      <th>ibc_br_15</th>\n",
       "      <th>igp_m_14</th>\n",
       "      <th>dolar_14</th>\n",
       "      <th>ibc_br_14</th>\n",
       "      <th>igp_m_13</th>\n",
       "      <th>dolar_13</th>\n",
       "      <th>ibc_br_13</th>\n",
       "    </tr>\n",
       "  </thead>\n",
       "  <tbody>\n",
       "    <tr>\n",
       "      <th>235</th>\n",
       "      <td>2022-08-01</td>\n",
       "      <td>1.756224e+10</td>\n",
       "      <td>1185.004</td>\n",
       "      <td>5.143287</td>\n",
       "      <td>149.60</td>\n",
       "      <td>23</td>\n",
       "      <td>1137.167829</td>\n",
       "      <td>5.6496</td>\n",
       "      <td>146.408337</td>\n",
       "      <td>NaN</td>\n",
       "      <td>...</td>\n",
       "      <td>NaN</td>\n",
       "      <td>NaN</td>\n",
       "      <td>NaN</td>\n",
       "      <td>NaN</td>\n",
       "      <td>NaN</td>\n",
       "      <td>NaN</td>\n",
       "      <td>NaN</td>\n",
       "      <td>NaN</td>\n",
       "      <td>NaN</td>\n",
       "      <td>NaN</td>\n",
       "    </tr>\n",
       "    <tr>\n",
       "      <th>236</th>\n",
       "      <td>2022-09-01</td>\n",
       "      <td>1.726287e+10</td>\n",
       "      <td>1173.793</td>\n",
       "      <td>5.236957</td>\n",
       "      <td>144.44</td>\n",
       "      <td>21</td>\n",
       "      <td>1143.597376</td>\n",
       "      <td>5.6800</td>\n",
       "      <td>142.808302</td>\n",
       "      <td>NaN</td>\n",
       "      <td>...</td>\n",
       "      <td>NaN</td>\n",
       "      <td>NaN</td>\n",
       "      <td>NaN</td>\n",
       "      <td>NaN</td>\n",
       "      <td>NaN</td>\n",
       "      <td>NaN</td>\n",
       "      <td>NaN</td>\n",
       "      <td>NaN</td>\n",
       "      <td>NaN</td>\n",
       "      <td>NaN</td>\n",
       "    </tr>\n",
       "    <tr>\n",
       "      <th>237</th>\n",
       "      <td>2022-10-01</td>\n",
       "      <td>1.565000e+10</td>\n",
       "      <td>1162.391</td>\n",
       "      <td>5.250300</td>\n",
       "      <td>142.34</td>\n",
       "      <td>20</td>\n",
       "      <td>1150.115881</td>\n",
       "      <td>5.6700</td>\n",
       "      <td>144.063428</td>\n",
       "      <td>NaN</td>\n",
       "      <td>...</td>\n",
       "      <td>NaN</td>\n",
       "      <td>NaN</td>\n",
       "      <td>NaN</td>\n",
       "      <td>NaN</td>\n",
       "      <td>NaN</td>\n",
       "      <td>NaN</td>\n",
       "      <td>NaN</td>\n",
       "      <td>NaN</td>\n",
       "      <td>NaN</td>\n",
       "      <td>NaN</td>\n",
       "    </tr>\n",
       "    <tr>\n",
       "      <th>238</th>\n",
       "      <td>2022-11-01</td>\n",
       "      <td>1.605000e+10</td>\n",
       "      <td>1155.829</td>\n",
       "      <td>5.274650</td>\n",
       "      <td>140.80</td>\n",
       "      <td>20</td>\n",
       "      <td>1155.866460</td>\n",
       "      <td>5.6000</td>\n",
       "      <td>143.165409</td>\n",
       "      <td>NaN</td>\n",
       "      <td>...</td>\n",
       "      <td>NaN</td>\n",
       "      <td>NaN</td>\n",
       "      <td>NaN</td>\n",
       "      <td>NaN</td>\n",
       "      <td>NaN</td>\n",
       "      <td>NaN</td>\n",
       "      <td>NaN</td>\n",
       "      <td>NaN</td>\n",
       "      <td>NaN</td>\n",
       "      <td>NaN</td>\n",
       "    </tr>\n",
       "    <tr>\n",
       "      <th>239</th>\n",
       "      <td>2022-12-01</td>\n",
       "      <td>1.767135e+10</td>\n",
       "      <td>1161.006</td>\n",
       "      <td>5.242432</td>\n",
       "      <td>142.78</td>\n",
       "      <td>22</td>\n",
       "      <td>1161.645792</td>\n",
       "      <td>5.6000</td>\n",
       "      <td>141.405133</td>\n",
       "      <td>NaN</td>\n",
       "      <td>...</td>\n",
       "      <td>NaN</td>\n",
       "      <td>NaN</td>\n",
       "      <td>NaN</td>\n",
       "      <td>NaN</td>\n",
       "      <td>NaN</td>\n",
       "      <td>NaN</td>\n",
       "      <td>NaN</td>\n",
       "      <td>NaN</td>\n",
       "      <td>NaN</td>\n",
       "      <td>NaN</td>\n",
       "    </tr>\n",
       "  </tbody>\n",
       "</table>\n",
       "<p>5 rows × 36 columns</p>\n",
       "</div>"
      ],
      "text/plain": [
       "          date       icms_sp     igp_m     dolar  ibc_br  dias_uteis  \\\n",
       "235 2022-08-01  1.756224e+10  1185.004  5.143287  149.60          23   \n",
       "236 2022-09-01  1.726287e+10  1173.793  5.236957  144.44          21   \n",
       "237 2022-10-01  1.565000e+10  1162.391  5.250300  142.34          20   \n",
       "238 2022-11-01  1.605000e+10  1155.829  5.274650  140.80          20   \n",
       "239 2022-12-01  1.767135e+10  1161.006  5.242432  142.78          22   \n",
       "\n",
       "        igp_m_22  dolar_22   ibc_br_22  igp_m_21  ...  ibc_br_16  igp_m_15  \\\n",
       "235  1137.167829    5.6496  146.408337       NaN  ...        NaN       NaN   \n",
       "236  1143.597376    5.6800  142.808302       NaN  ...        NaN       NaN   \n",
       "237  1150.115881    5.6700  144.063428       NaN  ...        NaN       NaN   \n",
       "238  1155.866460    5.6000  143.165409       NaN  ...        NaN       NaN   \n",
       "239  1161.645792    5.6000  141.405133       NaN  ...        NaN       NaN   \n",
       "\n",
       "     dolar_15  ibc_br_15  igp_m_14  dolar_14  ibc_br_14  igp_m_13  dolar_13  \\\n",
       "235       NaN        NaN       NaN       NaN        NaN       NaN       NaN   \n",
       "236       NaN        NaN       NaN       NaN        NaN       NaN       NaN   \n",
       "237       NaN        NaN       NaN       NaN        NaN       NaN       NaN   \n",
       "238       NaN        NaN       NaN       NaN        NaN       NaN       NaN   \n",
       "239       NaN        NaN       NaN       NaN        NaN       NaN       NaN   \n",
       "\n",
       "     ibc_br_13  \n",
       "235        NaN  \n",
       "236        NaN  \n",
       "237        NaN  \n",
       "238        NaN  \n",
       "239        NaN  \n",
       "\n",
       "[5 rows x 36 columns]"
      ]
     },
     "execution_count": 4,
     "metadata": {},
     "output_type": "execute_result"
    }
   ],
   "source": [
    "df_main_orig.tail()"
   ]
  },
  {
   "cell_type": "code",
   "execution_count": 5,
   "metadata": {},
   "outputs": [
    {
     "name": "stdout",
     "output_type": "stream",
     "text": [
      "<class 'pandas.core.frame.DataFrame'>\n",
      "RangeIndex: 240 entries, 0 to 239\n",
      "Data columns (total 36 columns):\n",
      " #   Column      Non-Null Count  Dtype         \n",
      "---  ------      --------------  -----         \n",
      " 0   date        240 non-null    datetime64[ns]\n",
      " 1   icms_sp     240 non-null    float64       \n",
      " 2   igp_m       240 non-null    float64       \n",
      " 3   dolar       240 non-null    float64       \n",
      " 4   ibc_br      240 non-null    float64       \n",
      " 5   dias_uteis  240 non-null    int64         \n",
      " 6   igp_m_22    240 non-null    float64       \n",
      " 7   dolar_22    240 non-null    float64       \n",
      " 8   ibc_br_22   240 non-null    float64       \n",
      " 9   igp_m_21    228 non-null    float64       \n",
      " 10  dolar_21    228 non-null    float64       \n",
      " 11  ibc_br_21   228 non-null    float64       \n",
      " 12  igp_m_20    216 non-null    float64       \n",
      " 13  dolar_20    216 non-null    float64       \n",
      " 14  ibc_br_20   216 non-null    float64       \n",
      " 15  igp_m_19    204 non-null    float64       \n",
      " 16  dolar_19    204 non-null    float64       \n",
      " 17  ibc_br_19   204 non-null    float64       \n",
      " 18  igp_m_18    192 non-null    float64       \n",
      " 19  dolar_18    192 non-null    float64       \n",
      " 20  ibc_br_18   192 non-null    float64       \n",
      " 21  igp_m_17    180 non-null    float64       \n",
      " 22  dolar_17    180 non-null    float64       \n",
      " 23  ibc_br_17   180 non-null    float64       \n",
      " 24  igp_m_16    168 non-null    float64       \n",
      " 25  dolar_16    168 non-null    float64       \n",
      " 26  ibc_br_16   168 non-null    float64       \n",
      " 27  igp_m_15    156 non-null    float64       \n",
      " 28  dolar_15    156 non-null    float64       \n",
      " 29  ibc_br_15   156 non-null    float64       \n",
      " 30  igp_m_14    144 non-null    float64       \n",
      " 31  dolar_14    144 non-null    float64       \n",
      " 32  ibc_br_14   144 non-null    float64       \n",
      " 33  igp_m_13    132 non-null    float64       \n",
      " 34  dolar_13    132 non-null    float64       \n",
      " 35  ibc_br_13   132 non-null    float64       \n",
      "dtypes: datetime64[ns](1), float64(34), int64(1)\n",
      "memory usage: 67.6 KB\n"
     ]
    }
   ],
   "source": [
    "df_main_orig.info()"
   ]
  },
  {
   "cell_type": "markdown",
   "metadata": {},
   "source": [
    "Removendo as últimas linhas que são todas NaN"
   ]
  },
  {
   "cell_type": "code",
   "execution_count": 6,
   "metadata": {},
   "outputs": [],
   "source": [
    "df_main = df_main_orig.iloc[0:144]\n",
    "datas = df_main['date']"
   ]
  },
  {
   "cell_type": "code",
   "execution_count": 7,
   "metadata": {},
   "outputs": [
    {
     "data": {
      "text/html": [
       "<div>\n",
       "<style scoped>\n",
       "    .dataframe tbody tr th:only-of-type {\n",
       "        vertical-align: middle;\n",
       "    }\n",
       "\n",
       "    .dataframe tbody tr th {\n",
       "        vertical-align: top;\n",
       "    }\n",
       "\n",
       "    .dataframe thead th {\n",
       "        text-align: right;\n",
       "    }\n",
       "</style>\n",
       "<table border=\"1\" class=\"dataframe\">\n",
       "  <thead>\n",
       "    <tr style=\"text-align: right;\">\n",
       "      <th></th>\n",
       "      <th>date</th>\n",
       "      <th>icms_sp</th>\n",
       "      <th>igp_m</th>\n",
       "      <th>dolar</th>\n",
       "      <th>ibc_br</th>\n",
       "      <th>dias_uteis</th>\n",
       "      <th>igp_m_22</th>\n",
       "      <th>dolar_22</th>\n",
       "      <th>ibc_br_22</th>\n",
       "      <th>igp_m_21</th>\n",
       "      <th>...</th>\n",
       "      <th>ibc_br_16</th>\n",
       "      <th>igp_m_15</th>\n",
       "      <th>dolar_15</th>\n",
       "      <th>ibc_br_15</th>\n",
       "      <th>igp_m_14</th>\n",
       "      <th>dolar_14</th>\n",
       "      <th>ibc_br_14</th>\n",
       "      <th>igp_m_13</th>\n",
       "      <th>dolar_13</th>\n",
       "      <th>ibc_br_13</th>\n",
       "    </tr>\n",
       "  </thead>\n",
       "  <tbody>\n",
       "    <tr>\n",
       "      <th>139</th>\n",
       "      <td>2014-08-01</td>\n",
       "      <td>9.500060e+09</td>\n",
       "      <td>546.745</td>\n",
       "      <td>2.265648</td>\n",
       "      <td>148.27</td>\n",
       "      <td>21</td>\n",
       "      <td>546.745</td>\n",
       "      <td>2.265648</td>\n",
       "      <td>148.27</td>\n",
       "      <td>546.745</td>\n",
       "      <td>...</td>\n",
       "      <td>148.27</td>\n",
       "      <td>546.745</td>\n",
       "      <td>2.265648</td>\n",
       "      <td>148.27</td>\n",
       "      <td>558.614234</td>\n",
       "      <td>2.42</td>\n",
       "      <td>153.402207</td>\n",
       "      <td>NaN</td>\n",
       "      <td>NaN</td>\n",
       "      <td>NaN</td>\n",
       "    </tr>\n",
       "    <tr>\n",
       "      <th>140</th>\n",
       "      <td>2014-09-01</td>\n",
       "      <td>9.796970e+09</td>\n",
       "      <td>547.839</td>\n",
       "      <td>2.332868</td>\n",
       "      <td>148.12</td>\n",
       "      <td>22</td>\n",
       "      <td>547.839</td>\n",
       "      <td>2.332868</td>\n",
       "      <td>148.12</td>\n",
       "      <td>547.839</td>\n",
       "      <td>...</td>\n",
       "      <td>148.12</td>\n",
       "      <td>547.839</td>\n",
       "      <td>2.332868</td>\n",
       "      <td>148.12</td>\n",
       "      <td>561.574889</td>\n",
       "      <td>2.44</td>\n",
       "      <td>152.235746</td>\n",
       "      <td>NaN</td>\n",
       "      <td>NaN</td>\n",
       "      <td>NaN</td>\n",
       "    </tr>\n",
       "    <tr>\n",
       "      <th>141</th>\n",
       "      <td>2014-10-01</td>\n",
       "      <td>1.063363e+10</td>\n",
       "      <td>549.396</td>\n",
       "      <td>2.448261</td>\n",
       "      <td>149.70</td>\n",
       "      <td>23</td>\n",
       "      <td>549.396</td>\n",
       "      <td>2.448261</td>\n",
       "      <td>149.70</td>\n",
       "      <td>549.396</td>\n",
       "      <td>...</td>\n",
       "      <td>149.70</td>\n",
       "      <td>549.396</td>\n",
       "      <td>2.448261</td>\n",
       "      <td>149.70</td>\n",
       "      <td>564.663551</td>\n",
       "      <td>2.44</td>\n",
       "      <td>154.160274</td>\n",
       "      <td>NaN</td>\n",
       "      <td>NaN</td>\n",
       "      <td>NaN</td>\n",
       "    </tr>\n",
       "    <tr>\n",
       "      <th>142</th>\n",
       "      <td>2014-11-01</td>\n",
       "      <td>1.015244e+10</td>\n",
       "      <td>554.769</td>\n",
       "      <td>2.548365</td>\n",
       "      <td>144.92</td>\n",
       "      <td>20</td>\n",
       "      <td>554.769</td>\n",
       "      <td>2.548365</td>\n",
       "      <td>144.92</td>\n",
       "      <td>554.769</td>\n",
       "      <td>...</td>\n",
       "      <td>144.92</td>\n",
       "      <td>554.769</td>\n",
       "      <td>2.548365</td>\n",
       "      <td>144.92</td>\n",
       "      <td>568.051533</td>\n",
       "      <td>2.45</td>\n",
       "      <td>150.594831</td>\n",
       "      <td>NaN</td>\n",
       "      <td>NaN</td>\n",
       "      <td>NaN</td>\n",
       "    </tr>\n",
       "    <tr>\n",
       "      <th>143</th>\n",
       "      <td>2014-12-01</td>\n",
       "      <td>1.124082e+10</td>\n",
       "      <td>558.213</td>\n",
       "      <td>2.639364</td>\n",
       "      <td>145.48</td>\n",
       "      <td>22</td>\n",
       "      <td>558.213</td>\n",
       "      <td>2.639364</td>\n",
       "      <td>145.48</td>\n",
       "      <td>558.213</td>\n",
       "      <td>...</td>\n",
       "      <td>145.48</td>\n",
       "      <td>558.213</td>\n",
       "      <td>2.639364</td>\n",
       "      <td>145.48</td>\n",
       "      <td>570.891790</td>\n",
       "      <td>2.45</td>\n",
       "      <td>150.549561</td>\n",
       "      <td>NaN</td>\n",
       "      <td>NaN</td>\n",
       "      <td>NaN</td>\n",
       "    </tr>\n",
       "  </tbody>\n",
       "</table>\n",
       "<p>5 rows × 36 columns</p>\n",
       "</div>"
      ],
      "text/plain": [
       "          date       icms_sp    igp_m     dolar  ibc_br  dias_uteis  igp_m_22  \\\n",
       "139 2014-08-01  9.500060e+09  546.745  2.265648  148.27          21   546.745   \n",
       "140 2014-09-01  9.796970e+09  547.839  2.332868  148.12          22   547.839   \n",
       "141 2014-10-01  1.063363e+10  549.396  2.448261  149.70          23   549.396   \n",
       "142 2014-11-01  1.015244e+10  554.769  2.548365  144.92          20   554.769   \n",
       "143 2014-12-01  1.124082e+10  558.213  2.639364  145.48          22   558.213   \n",
       "\n",
       "     dolar_22  ibc_br_22  igp_m_21  ...  ibc_br_16  igp_m_15  dolar_15  \\\n",
       "139  2.265648     148.27   546.745  ...     148.27   546.745  2.265648   \n",
       "140  2.332868     148.12   547.839  ...     148.12   547.839  2.332868   \n",
       "141  2.448261     149.70   549.396  ...     149.70   549.396  2.448261   \n",
       "142  2.548365     144.92   554.769  ...     144.92   554.769  2.548365   \n",
       "143  2.639364     145.48   558.213  ...     145.48   558.213  2.639364   \n",
       "\n",
       "     ibc_br_15    igp_m_14  dolar_14   ibc_br_14  igp_m_13  dolar_13  \\\n",
       "139     148.27  558.614234      2.42  153.402207       NaN       NaN   \n",
       "140     148.12  561.574889      2.44  152.235746       NaN       NaN   \n",
       "141     149.70  564.663551      2.44  154.160274       NaN       NaN   \n",
       "142     144.92  568.051533      2.45  150.594831       NaN       NaN   \n",
       "143     145.48  570.891790      2.45  150.549561       NaN       NaN   \n",
       "\n",
       "     ibc_br_13  \n",
       "139        NaN  \n",
       "140        NaN  \n",
       "141        NaN  \n",
       "142        NaN  \n",
       "143        NaN  \n",
       "\n",
       "[5 rows x 36 columns]"
      ]
     },
     "execution_count": 7,
     "metadata": {},
     "output_type": "execute_result"
    }
   ],
   "source": [
    "df_main.tail()"
   ]
  },
  {
   "cell_type": "markdown",
   "metadata": {},
   "source": [
    "### Criação das Séries\n",
    "Como os valores do ICMS são muito elevados a série será colocada em log."
   ]
  },
  {
   "cell_type": "code",
   "execution_count": 8,
   "metadata": {},
   "outputs": [],
   "source": [
    "icms_ts = pd.Series(np.log(list(df_main['icms_sp'])), index = datas)\n",
    "ibcbr_ts = pd.Series(list(df_main['ibc_br']), index = datas)\n",
    "igpm_ts = pd.Series(list(df_main['igp_m']), index = datas)\n",
    "dolar_ts = pd.Series(list(df_main['dolar']), index = datas)\n",
    "dias_uteis_ts = pd.Series(list(df_main['dias_uteis']), index = datas)"
   ]
  },
  {
   "cell_type": "markdown",
   "metadata": {},
   "source": [
    "#### Testes de Valores Nulos"
   ]
  },
  {
   "cell_type": "code",
   "execution_count": 9,
   "metadata": {},
   "outputs": [
    {
     "name": "stdout",
     "output_type": "stream",
     "text": [
      "ICMS 0\n",
      "IBC-Br 0\n",
      "IGP-DI 0\n",
      "Dólar 0\n",
      "Dias Úteis 0\n"
     ]
    }
   ],
   "source": [
    "print('ICMS', icms_ts.isnull().sum())\n",
    "print('IBC-Br', ibcbr_ts.isnull().sum())\n",
    "print('IGP-DI', igpm_ts.isnull().sum())\n",
    "print('Dólar', dolar_ts.isnull().sum())\n",
    "print('Dias Úteis', dias_uteis_ts.isnull().sum())"
   ]
  },
  {
   "cell_type": "markdown",
   "metadata": {},
   "source": [
    "### Plotando a Série em Nível"
   ]
  },
  {
   "cell_type": "code",
   "execution_count": 10,
   "metadata": {},
   "outputs": [
    {
     "data": {
      "image/png": "[encoded data removed]",
      "text/plain": [
       "<Figure size 1080x2160 with 5 Axes>"
      ]
     },
     "metadata": {
      "needs_background": "light"
     },
     "output_type": "display_data"
    }
   ],
   "source": [
    "fig=plt.figure(figsize=(15, 30))\n",
    "ax1=fig.add_subplot(511)\n",
    "ax2=fig.add_subplot(512)\n",
    "ax3=fig.add_subplot(513)\n",
    "ax4=fig.add_subplot(514)\n",
    "ax5=fig.add_subplot(515)\n",
    "#plots\n",
    "ax1.plot(icms_ts, 'tab:blue', label='Log ICMS SP')\n",
    "ax1.legend(loc='best')\n",
    "ax2.plot(dias_uteis_ts, 'tab:purple', label='Dias Úteis')\n",
    "ax2.legend(loc='best')\n",
    "ax3.plot(ibcbr_ts, 'tab:orange',  label='IBC-BR')\n",
    "ax3.legend(loc='best')\n",
    "ax4.plot(igpm_ts, 'tab:gray', label='IGP-M')\n",
    "ax4.legend(loc='best')\n",
    "ax5.plot(dolar_ts, 'tab:green', label='Dólar')\n",
    "ax5.legend(loc='best')\n",
    "plt.show()"
   ]
  },
  {
   "cell_type": "markdown",
   "metadata": {},
   "source": [
    "## Preparação para Previsões"
   ]
  },
  {
   "cell_type": "markdown",
   "metadata": {},
   "source": [
    "O artigo usa, além de MAPE e MSE, o erro relativo, que é \n",
    "\n",
    "$Erro Relativo = \\frac{|previsão - real|}{real}$"
   ]
  },
  {
   "cell_type": "code",
   "execution_count": 11,
   "metadata": {},
   "outputs": [],
   "source": [
    "def erro_relativo(prev, real):\n",
    "    return 100*np.absolute(prev-real)/real"
   ]
  },
  {
   "cell_type": "markdown",
   "metadata": {},
   "source": [
    "#### Dicionário de Previsões"
   ]
  },
  {
   "cell_type": "code",
   "execution_count": 12,
   "metadata": {},
   "outputs": [],
   "source": [
    "previsoes = {\n",
    "    'nome':[],\n",
    "    'modelo': [],\n",
    "    'previsoes': [],\n",
    "    'rmse': [],\n",
    "    'mape': [],\n",
    "    'erro relativo':[]\n",
    "}"
   ]
  },
  {
   "cell_type": "markdown",
   "metadata": {},
   "source": [
    "### Separando a amostra em treinamento (in-sample) e teste (out-of-sample)\n",
    "Serão usadas as séries com sazonalidade e em nível e as questões de sazonalidade e estacionariedade serão tratadas pelo modelo."
   ]
  },
  {
   "cell_type": "code",
   "execution_count": 13,
   "metadata": {},
   "outputs": [
    {
     "data": {
      "text/html": [
       "<div>\n",
       "<style scoped>\n",
       "    .dataframe tbody tr th:only-of-type {\n",
       "        vertical-align: middle;\n",
       "    }\n",
       "\n",
       "    .dataframe tbody tr th {\n",
       "        vertical-align: top;\n",
       "    }\n",
       "\n",
       "    .dataframe thead th {\n",
       "        text-align: right;\n",
       "    }\n",
       "</style>\n",
       "<table border=\"1\" class=\"dataframe\">\n",
       "  <thead>\n",
       "    <tr style=\"text-align: right;\">\n",
       "      <th></th>\n",
       "      <th>ibcbr</th>\n",
       "      <th>igpdi</th>\n",
       "      <th>dolar</th>\n",
       "      <th>dias_uteis</th>\n",
       "    </tr>\n",
       "    <tr>\n",
       "      <th>date</th>\n",
       "      <th></th>\n",
       "      <th></th>\n",
       "      <th></th>\n",
       "      <th></th>\n",
       "    </tr>\n",
       "  </thead>\n",
       "  <tbody>\n",
       "    <tr>\n",
       "      <th>2003-01-01</th>\n",
       "      <td>96.15</td>\n",
       "      <td>277.173</td>\n",
       "      <td>3.4384</td>\n",
       "      <td>22.0</td>\n",
       "    </tr>\n",
       "    <tr>\n",
       "      <th>2003-02-01</th>\n",
       "      <td>98.67</td>\n",
       "      <td>283.506</td>\n",
       "      <td>3.5908</td>\n",
       "      <td>20.0</td>\n",
       "    </tr>\n",
       "    <tr>\n",
       "      <th>2003-03-01</th>\n",
       "      <td>103.41</td>\n",
       "      <td>287.855</td>\n",
       "      <td>3.4469</td>\n",
       "      <td>19.0</td>\n",
       "    </tr>\n",
       "    <tr>\n",
       "      <th>2003-04-01</th>\n",
       "      <td>102.19</td>\n",
       "      <td>290.512</td>\n",
       "      <td>3.1187</td>\n",
       "      <td>20.0</td>\n",
       "    </tr>\n",
       "    <tr>\n",
       "      <th>2003-05-01</th>\n",
       "      <td>100.30</td>\n",
       "      <td>289.747</td>\n",
       "      <td>2.9557</td>\n",
       "      <td>21.0</td>\n",
       "    </tr>\n",
       "  </tbody>\n",
       "</table>\n",
       "</div>"
      ],
      "text/plain": [
       "             ibcbr    igpdi   dolar  dias_uteis\n",
       "date                                           \n",
       "2003-01-01   96.15  277.173  3.4384        22.0\n",
       "2003-02-01   98.67  283.506  3.5908        20.0\n",
       "2003-03-01  103.41  287.855  3.4469        19.0\n",
       "2003-04-01  102.19  290.512  3.1187        20.0\n",
       "2003-05-01  100.30  289.747  2.9557        21.0"
      ]
     },
     "execution_count": 13,
     "metadata": {},
     "output_type": "execute_result"
    }
   ],
   "source": [
    "exog_df = pd.DataFrame((ibcbr_ts, igpm_ts,\n",
    "                        dolar_ts, dias_uteis_ts\n",
    "                       ), \n",
    "                        index=['ibcbr', 'igpdi', 'dolar', 'dias_uteis'\n",
    "                            ]).transpose()\n",
    "exog_df.head() "
   ]
  },
  {
   "cell_type": "code",
   "execution_count": 14,
   "metadata": {},
   "outputs": [
    {
     "data": {
      "text/html": [
       "<div>\n",
       "<style scoped>\n",
       "    .dataframe tbody tr th:only-of-type {\n",
       "        vertical-align: middle;\n",
       "    }\n",
       "\n",
       "    .dataframe tbody tr th {\n",
       "        vertical-align: top;\n",
       "    }\n",
       "\n",
       "    .dataframe thead th {\n",
       "        text-align: right;\n",
       "    }\n",
       "</style>\n",
       "<table border=\"1\" class=\"dataframe\">\n",
       "  <thead>\n",
       "    <tr style=\"text-align: right;\">\n",
       "      <th></th>\n",
       "      <th>ibcbr</th>\n",
       "      <th>igpdi</th>\n",
       "      <th>dolar</th>\n",
       "      <th>dias_uteis</th>\n",
       "    </tr>\n",
       "    <tr>\n",
       "      <th>date</th>\n",
       "      <th></th>\n",
       "      <th></th>\n",
       "      <th></th>\n",
       "      <th></th>\n",
       "    </tr>\n",
       "  </thead>\n",
       "  <tbody>\n",
       "    <tr>\n",
       "      <th>2014-08-01</th>\n",
       "      <td>148.27</td>\n",
       "      <td>546.745</td>\n",
       "      <td>2.265648</td>\n",
       "      <td>21.0</td>\n",
       "    </tr>\n",
       "    <tr>\n",
       "      <th>2014-09-01</th>\n",
       "      <td>148.12</td>\n",
       "      <td>547.839</td>\n",
       "      <td>2.332868</td>\n",
       "      <td>22.0</td>\n",
       "    </tr>\n",
       "    <tr>\n",
       "      <th>2014-10-01</th>\n",
       "      <td>149.70</td>\n",
       "      <td>549.396</td>\n",
       "      <td>2.448261</td>\n",
       "      <td>23.0</td>\n",
       "    </tr>\n",
       "    <tr>\n",
       "      <th>2014-11-01</th>\n",
       "      <td>144.92</td>\n",
       "      <td>554.769</td>\n",
       "      <td>2.548365</td>\n",
       "      <td>20.0</td>\n",
       "    </tr>\n",
       "    <tr>\n",
       "      <th>2014-12-01</th>\n",
       "      <td>145.48</td>\n",
       "      <td>558.213</td>\n",
       "      <td>2.639364</td>\n",
       "      <td>22.0</td>\n",
       "    </tr>\n",
       "  </tbody>\n",
       "</table>\n",
       "</div>"
      ],
      "text/plain": [
       "             ibcbr    igpdi     dolar  dias_uteis\n",
       "date                                             \n",
       "2014-08-01  148.27  546.745  2.265648        21.0\n",
       "2014-09-01  148.12  547.839  2.332868        22.0\n",
       "2014-10-01  149.70  549.396  2.448261        23.0\n",
       "2014-11-01  144.92  554.769  2.548365        20.0\n",
       "2014-12-01  145.48  558.213  2.639364        22.0"
      ]
     },
     "execution_count": 14,
     "metadata": {},
     "output_type": "execute_result"
    }
   ],
   "source": [
    "exog_df.tail() "
   ]
  },
  {
   "cell_type": "code",
   "execution_count": 15,
   "metadata": {},
   "outputs": [
    {
     "name": "stdout",
     "output_type": "stream",
     "text": [
      "(144, 4) (120, 4) (12, 4) (12, 4)\n"
     ]
    }
   ],
   "source": [
    "exog = exog_df[:].to_numpy()\n",
    "exog_train = exog[:-24]\n",
    "exog_val = exog[-24:-12]\n",
    "exog_test = exog[-12:]\n",
    "print(exog.shape, exog_train.shape, exog_val.shape, exog_test.shape)"
   ]
  },
  {
   "cell_type": "code",
   "execution_count": 16,
   "metadata": {},
   "outputs": [
    {
     "name": "stdout",
     "output_type": "stream",
     "text": [
      "(144,) (120,) (12,) (12,)\n"
     ]
    }
   ],
   "source": [
    "icms_train = icms_ts[:-24]\n",
    "icms_val = np.exp(icms_ts[-24:-12]) # série sem log\n",
    "icms_test = np.exp(icms_ts[-12:]) # série sem log\n",
    "print(icms_ts.shape, icms_train.shape, icms_val.shape, icms_test.shape)"
   ]
  },
  {
   "cell_type": "code",
   "execution_count": 17,
   "metadata": {},
   "outputs": [
    {
     "name": "stdout",
     "output_type": "stream",
     "text": [
      "##############################\n",
      " date\n",
      "2003-01-01    21.935295\n",
      "2003-02-01    21.885340\n",
      "2003-03-01    21.873841\n",
      "2003-04-01    21.891189\n",
      "2003-05-01    21.854323\n",
      "                ...    \n",
      "2012-08-01    22.922759\n",
      "2012-09-01    22.929613\n",
      "2012-10-01    22.979224\n",
      "2012-11-01    22.937501\n",
      "2012-12-01    23.050639\n",
      "Length: 120, dtype: float64\n",
      "##############################\n",
      " date\n",
      "2013-01-01    8.799359e+09\n",
      "2013-02-01    8.690433e+09\n",
      "2013-03-01    8.698445e+09\n",
      "2013-04-01    9.446984e+09\n",
      "2013-05-01    9.497989e+09\n",
      "2013-06-01    9.133477e+09\n",
      "2013-07-01    9.657129e+09\n",
      "2013-08-01    9.604407e+09\n",
      "2013-09-01    1.011536e+10\n",
      "2013-10-01    1.020979e+10\n",
      "2013-11-01    9.712795e+09\n",
      "2013-12-01    1.076762e+10\n",
      "dtype: float64\n",
      "##############################\n",
      " date\n",
      "2014-01-01    9.803278e+09\n",
      "2014-02-01    9.687760e+09\n",
      "2014-03-01    9.465054e+09\n",
      "2014-04-01    9.635430e+09\n",
      "2014-05-01    9.819079e+09\n",
      "2014-06-01    9.677264e+09\n",
      "2014-07-01    9.594590e+09\n",
      "2014-08-01    9.500060e+09\n",
      "2014-09-01    9.796970e+09\n",
      "2014-10-01    1.063363e+10\n",
      "2014-11-01    1.015244e+10\n",
      "2014-12-01    1.124082e+10\n",
      "dtype: float64\n"
     ]
    }
   ],
   "source": [
    "print('#'*30+'\\n',icms_train)\n",
    "print('#'*30+'\\n',icms_val)\n",
    "print('#'*30+'\\n',icms_test)"
   ]
  },
  {
   "cell_type": "markdown",
   "metadata": {},
   "source": [
    "## Modelos RNN LSTM\n",
    "Redes Neurais Recorrentes com neurônios Long Short-Term Memory"
   ]
  },
  {
   "cell_type": "markdown",
   "metadata": {},
   "source": [
    "### Montagem da Série com as Variáveis Exógenas\n",
    "As redes neurais precisam de conjuntos de características e de etiquetas separados. As variáveis exógenas serão o conjunto de características e a variável endógena será o conjunto de etiquetas."
   ]
  },
  {
   "cell_type": "code",
   "execution_count": 18,
   "metadata": {},
   "outputs": [],
   "source": [
    "X_data = np.append(exog, np.roll(exog, 1, axis = 0), axis = 1)\n",
    "X_data = np.append(X_data, np.roll(exog, 2, axis = 0), axis = 1)[2:]\n",
    "Y_data = icms_ts[2:].to_numpy()"
   ]
  },
  {
   "cell_type": "code",
   "execution_count": 19,
   "metadata": {},
   "outputs": [
    {
     "data": {
      "text/plain": [
       "((142, 12), (142,))"
      ]
     },
     "execution_count": 19,
     "metadata": {},
     "output_type": "execute_result"
    }
   ],
   "source": [
    "X_data.shape, Y_data.shape"
   ]
  },
  {
   "cell_type": "markdown",
   "metadata": {},
   "source": [
    "#### Normalização dos Dados\n",
    "Serão normalizados usando-se min-max. Apenas as features, a variável target não será normalizada. Os dados serão dividos em treno, validação e teste para a normalização, de modo que o fit seja feito somente nos dados de treino, aumentando-se assim a probabilidade de generalização do modelo."
   ]
  },
  {
   "cell_type": "code",
   "execution_count": 20,
   "metadata": {},
   "outputs": [
    {
     "name": "stdout",
     "output_type": "stream",
     "text": [
      "(118, 12) (12, 12) (12, 12)\n",
      "(118,) (12,) (12,)\n"
     ]
    }
   ],
   "source": [
    "X_train = X_data[:-24]\n",
    "X_val = X_data[-24:-12]\n",
    "X_test = X_data[-12:]\n",
    "print(X_train.shape, X_val.shape, X_test.shape)\n",
    "Y_train = Y_data[:-24]\n",
    "Y_val = Y_data[-24:-12]\n",
    "Y_test = np.exp(Y_data[-12:]) # tirando o log\n",
    "print(Y_train.shape, Y_val.shape, Y_test.shape)"
   ]
  },
  {
   "cell_type": "code",
   "execution_count": 21,
   "metadata": {},
   "outputs": [
    {
     "name": "stdout",
     "output_type": "stream",
     "text": [
      "numéricas [0, 1, 2, 3, 4, 5, 6, 7, 8, 9, 10, 11]\n",
      "ColumnTransformer(transformers=[('min-max', MinMaxScaler(),\n",
      "                                 [0, 1, 2, 3, 4, 5, 6, 7, 8, 9, 10, 11])],\n",
      "                  verbose=True)\n",
      "[ColumnTransformer] ....... (1 of 1) Processing min-max, total=   0.0s\n",
      "(118, 12)\n",
      "(12, 12)\n",
      "(12, 12)\n"
     ]
    }
   ],
   "source": [
    "from sklearn.preprocessing import MinMaxScaler\n",
    "from sklearn.compose import ColumnTransformer\n",
    "# índice dos atributos numéricos\n",
    "num_atrib = list(range(X_train.shape[1]))\n",
    "print('numéricas', num_atrib)\n",
    "\n",
    "enc_x = ColumnTransformer([('min-max',MinMaxScaler(), num_atrib)], verbose=True)\n",
    "\n",
    "print(enc_x)\n",
    "X_train_std = enc_x.fit_transform(X_train)\n",
    "X_val_std = enc_x.transform(X_val)\n",
    "X_test_std = enc_x.transform(X_test)\n",
    "\n",
    "print(X_train_std.shape)\n",
    "print(X_val_std.shape)\n",
    "print(X_test_std.shape)"
   ]
  },
  {
   "cell_type": "code",
   "execution_count": 22,
   "metadata": {},
   "outputs": [
    {
     "name": "stdout",
     "output_type": "stream",
     "text": [
      "(118, 12, 1) (12, 12, 1) (12, 12, 1)\n",
      "(118, 1) (12, 1) (12, 1)\n"
     ]
    }
   ],
   "source": [
    "x_train = X_train_std.reshape(X_train_std.shape[0], X_train_std.shape[1], 1)\n",
    "x_val = X_val_std.reshape(X_val_std.shape[0], X_val_std.shape[1], 1)\n",
    "x_test = X_test_std.reshape(X_test_std.shape[0], X_test_std.shape[1], 1)\n",
    "print(x_train.shape, x_val.shape, x_test.shape)\n",
    "\n",
    "y_train = Y_train.reshape(Y_train.shape[0], 1)\n",
    "y_val = Y_val.reshape(Y_val.shape[0], 1)\n",
    "y_test = Y_test.reshape(Y_test.shape[0], 1)\n",
    "print(y_train.shape, y_val.shape, y_test.shape)"
   ]
  },
  {
   "cell_type": "markdown",
   "metadata": {},
   "source": [
    "### Criando o modelo LSTM"
   ]
  },
  {
   "cell_type": "code",
   "execution_count": 23,
   "metadata": {},
   "outputs": [],
   "source": [
    "# importando as bibliotecas do Keras\n",
    "from tensorflow.keras.models import Sequential\n",
    "from tensorflow.keras.layers import LSTM, Dense, Dropout, Conv1D, MaxPooling1D\n",
    "from tensorflow.keras.callbacks import ReduceLROnPlateau, EarlyStopping\n",
    "from tensorflow.keras.optimizers import Adam"
   ]
  },
  {
   "cell_type": "markdown",
   "metadata": {},
   "source": [
    "## Arquitetura da Rede - Camadas"
   ]
  },
  {
   "cell_type": "code",
   "execution_count": 24,
   "metadata": {},
   "outputs": [],
   "source": [
    "rlrop = ReduceLROnPlateau(monitor='val_loss', factor=0.1, patience=25)\n",
    "early_stop = EarlyStopping(monitor='val_loss', patience=100, verbose=1, \n",
    "                           restore_best_weights=True)"
   ]
  },
  {
   "cell_type": "code",
   "execution_count": 25,
   "metadata": {},
   "outputs": [],
   "source": [
    "# Épocas\n",
    "EPOCHS = 1000\n",
    "NEURONIOS = 600\n",
    "DROPOUT = 0.15\n",
    "LR = 1e-5\n",
    "BATCH = 8\n",
    "\n",
    "# Imstanciação do modelo\n",
    "model = Sequential()\n",
    "\n",
    "# Adicionar camada LSTM \n",
    "model.add(LSTM(activation='tanh', dropout=DROPOUT,\n",
    "        input_shape = (12, 1), return_sequences = True,\n",
    "        units = NEURONIOS))\n",
    "\n",
    "# Adicionar camada LSTM \n",
    "model.add(LSTM(activation='tanh', dropout=DROPOUT,\n",
    "        input_shape = (12, 1), return_sequences = True,\n",
    "        units = NEURONIOS))\n",
    "\n",
    "# Adicionar camada LSTM \n",
    "model.add(LSTM(activation='tanh', dropout=DROPOUT,\n",
    "        input_shape = (12, 1), return_sequences = False,\n",
    "        units = NEURONIOS))\n",
    "\n",
    "# Adicionar a camada de saída com 1 neurônio linear\n",
    "model.add(Dense(\n",
    "        units = 1,\n",
    "        activation = 'linear'))\n",
    "# a learning rate padrão do Adam é 0.001\n",
    "model.compile(loss = 'mape', optimizer = Adam(learning_rate=LR))"
   ]
  },
  {
   "cell_type": "code",
   "execution_count": 26,
   "metadata": {},
   "outputs": [
    {
     "name": "stdout",
     "output_type": "stream",
     "text": [
      "Model: \"sequential\"\n",
      "_________________________________________________________________\n",
      "Layer (type)                 Output Shape              Param #   \n",
      "=================================================================\n",
      "lstm (LSTM)                  (None, 12, 600)           1444800   \n",
      "_________________________________________________________________\n",
      "lstm_1 (LSTM)                (None, 12, 600)           2882400   \n",
      "_________________________________________________________________\n",
      "lstm_2 (LSTM)                (None, 600)               2882400   \n",
      "_________________________________________________________________\n",
      "dense (Dense)                (None, 1)                 601       \n",
      "=================================================================\n",
      "Total params: 7,210,201\n",
      "Trainable params: 7,210,201\n",
      "Non-trainable params: 0\n",
      "_________________________________________________________________\n"
     ]
    }
   ],
   "source": [
    "model.summary()"
   ]
  },
  {
   "cell_type": "code",
   "execution_count": 27,
   "metadata": {
    "scrolled": true
   },
   "outputs": [
    {
     "name": "stdout",
     "output_type": "stream",
     "text": [
      "Epoch 1/1000\n",
      "15/15 [==============================] - 5s 345ms/step - loss: 99.9058 - val_loss: 99.6924\n",
      "Epoch 2/1000\n",
      "15/15 [==============================] - 3s 205ms/step - loss: 99.6895 - val_loss: 99.3220\n",
      "Epoch 3/1000\n",
      "15/15 [==============================] - 3s 216ms/step - loss: 99.3924 - val_loss: 98.7675\n",
      "Epoch 4/1000\n",
      "15/15 [==============================] - 3s 218ms/step - loss: 98.9364 - val_loss: 97.8308\n",
      "Epoch 5/1000\n",
      "15/15 [==============================] - 3s 216ms/step - loss: 98.1486 - val_loss: 96.0466\n",
      "Epoch 6/1000\n",
      "15/15 [==============================] - 3s 220ms/step - loss: 96.4832 - val_loss: 92.2814\n",
      "Epoch 7/1000\n",
      "15/15 [==============================] - 3s 231ms/step - loss: 92.9828 - val_loss: 83.2334\n",
      "Epoch 8/1000\n",
      "15/15 [==============================] - 3s 226ms/step - loss: 84.3024 - val_loss: 60.4581\n",
      "Epoch 9/1000\n",
      "15/15 [==============================] - 3s 226ms/step - loss: 64.8745 - val_loss: 24.8922\n",
      "Epoch 10/1000\n",
      "15/15 [==============================] - 3s 223ms/step - loss: 30.8273 - val_loss: 1.9199\n",
      "Epoch 11/1000\n",
      "15/15 [==============================] - 3s 223ms/step - loss: 7.3444 - val_loss: 6.4238\n",
      "Epoch 12/1000\n",
      "15/15 [==============================] - 4s 237ms/step - loss: 4.9307 - val_loss: 4.8632\n",
      "Epoch 13/1000\n",
      "15/15 [==============================] - 4s 236ms/step - loss: 3.1717 - val_loss: 2.0744\n",
      "Epoch 14/1000\n",
      "15/15 [==============================] - 3s 230ms/step - loss: 2.7929 - val_loss: 1.5281\n",
      "Epoch 15/1000\n",
      "15/15 [==============================] - 3s 220ms/step - loss: 2.5856 - val_loss: 1.7453\n",
      "Epoch 16/1000\n",
      "15/15 [==============================] - 3s 221ms/step - loss: 1.7059 - val_loss: 0.7992\n",
      "Epoch 17/1000\n",
      "15/15 [==============================] - 3s 217ms/step - loss: 1.9944 - val_loss: 0.1386\n",
      "Epoch 18/1000\n",
      "15/15 [==============================] - 3s 218ms/step - loss: 1.5491 - val_loss: 0.1759\n",
      "Epoch 19/1000\n",
      "15/15 [==============================] - 3s 216ms/step - loss: 1.1057 - val_loss: 0.1596\n",
      "Epoch 20/1000\n",
      "15/15 [==============================] - 3s 220ms/step - loss: 1.0053 - val_loss: 0.1450\n",
      "Epoch 21/1000\n",
      "15/15 [==============================] - 3s 211ms/step - loss: 1.1802 - val_loss: 0.6041\n",
      "Epoch 22/1000\n",
      "15/15 [==============================] - 3s 221ms/step - loss: 1.4189 - val_loss: 0.1642\n",
      "Epoch 23/1000\n",
      "15/15 [==============================] - 3s 207ms/step - loss: 0.9914 - val_loss: 0.5007\n",
      "Epoch 24/1000\n",
      "15/15 [==============================] - 3s 211ms/step - loss: 0.9610 - val_loss: 0.6599\n",
      "Epoch 25/1000\n",
      "15/15 [==============================] - 3s 222ms/step - loss: 1.0340 - val_loss: 0.3579\n",
      "Epoch 26/1000\n",
      "15/15 [==============================] - 4s 258ms/step - loss: 1.0430 - val_loss: 0.7256\n",
      "Epoch 27/1000\n",
      "15/15 [==============================] - 5s 301ms/step - loss: 0.8568 - val_loss: 0.7738\n",
      "Epoch 28/1000\n",
      "15/15 [==============================] - 4s 300ms/step - loss: 0.9141 - val_loss: 0.5450\n",
      "Epoch 29/1000\n",
      "15/15 [==============================] - 6s 395ms/step - loss: 1.0141 - val_loss: 0.6726\n",
      "Epoch 30/1000\n",
      "15/15 [==============================] - 4s 292ms/step - loss: 0.9578 - val_loss: 0.5221\n",
      "Epoch 31/1000\n",
      "15/15 [==============================] - 4s 267ms/step - loss: 0.9759 - val_loss: 0.7756\n",
      "Epoch 32/1000\n",
      "15/15 [==============================] - 4s 248ms/step - loss: 0.8237 - val_loss: 0.6988\n",
      "Epoch 33/1000\n",
      "15/15 [==============================] - 4s 278ms/step - loss: 0.9834 - val_loss: 0.3294\n",
      "Epoch 34/1000\n",
      "15/15 [==============================] - 4s 254ms/step - loss: 0.8154 - val_loss: 0.9428\n",
      "Epoch 35/1000\n",
      "15/15 [==============================] - 4s 248ms/step - loss: 1.0669 - val_loss: 0.4204\n",
      "Epoch 36/1000\n",
      "15/15 [==============================] - 4s 284ms/step - loss: 0.9783 - val_loss: 0.7588\n",
      "Epoch 37/1000\n",
      "15/15 [==============================] - 4s 270ms/step - loss: 0.8742 - val_loss: 0.6352\n",
      "Epoch 38/1000\n",
      "15/15 [==============================] - 5s 320ms/step - loss: 0.8861 - val_loss: 0.5319\n",
      "Epoch 39/1000\n",
      "15/15 [==============================] - 5s 330ms/step - loss: 0.9996 - val_loss: 0.7838\n",
      "Epoch 40/1000\n",
      "15/15 [==============================] - 4s 279ms/step - loss: 0.8356 - val_loss: 0.7928\n",
      "Epoch 41/1000\n",
      "15/15 [==============================] - 6s 373ms/step - loss: 0.9919 - val_loss: 0.7768\n",
      "Epoch 42/1000\n",
      "15/15 [==============================] - 4s 284ms/step - loss: 1.0409 - val_loss: 0.8665\n",
      "Epoch 43/1000\n",
      "15/15 [==============================] - 4s 277ms/step - loss: 0.9410 - val_loss: 0.7035\n",
      "Epoch 44/1000\n",
      "15/15 [==============================] - 4s 247ms/step - loss: 0.9142 - val_loss: 0.7045\n",
      "Epoch 45/1000\n",
      "15/15 [==============================] - 4s 279ms/step - loss: 0.9191 - val_loss: 0.7472\n",
      "Epoch 46/1000\n",
      "15/15 [==============================] - 4s 234ms/step - loss: 1.0963 - val_loss: 0.7378\n",
      "Epoch 47/1000\n",
      "15/15 [==============================] - 4s 267ms/step - loss: 0.9080 - val_loss: 0.6675\n",
      "Epoch 48/1000\n",
      "15/15 [==============================] - 4s 281ms/step - loss: 0.8955 - val_loss: 0.6493\n",
      "Epoch 49/1000\n",
      "15/15 [==============================] - 4s 265ms/step - loss: 0.8156 - val_loss: 0.6957\n",
      "Epoch 50/1000\n",
      "15/15 [==============================] - 4s 285ms/step - loss: 0.7986 - val_loss: 0.7112\n",
      "Epoch 51/1000\n",
      "15/15 [==============================] - 4s 276ms/step - loss: 0.8630 - val_loss: 0.7356\n",
      "Epoch 52/1000\n",
      "15/15 [==============================] - 4s 299ms/step - loss: 0.8759 - val_loss: 0.7633\n",
      "Epoch 53/1000\n",
      "15/15 [==============================] - 4s 262ms/step - loss: 0.8198 - val_loss: 0.8234\n",
      "Epoch 54/1000\n",
      "15/15 [==============================] - 4s 277ms/step - loss: 0.9352 - val_loss: 0.8420\n",
      "Epoch 55/1000\n",
      "15/15 [==============================] - 5s 303ms/step - loss: 1.0306 - val_loss: 0.7509\n",
      "Epoch 56/1000\n",
      "15/15 [==============================] - 4s 278ms/step - loss: 0.9110 - val_loss: 0.6536\n",
      "Epoch 57/1000\n",
      "15/15 [==============================] - 4s 260ms/step - loss: 0.8689 - val_loss: 0.6854\n",
      "Epoch 58/1000\n",
      "15/15 [==============================] - 4s 256ms/step - loss: 0.8414 - val_loss: 0.7312\n",
      "Epoch 59/1000\n",
      "15/15 [==============================] - 4s 274ms/step - loss: 0.9247 - val_loss: 0.7233\n",
      "Epoch 60/1000\n",
      "15/15 [==============================] - 4s 242ms/step - loss: 0.8887 - val_loss: 0.6756\n",
      "Epoch 61/1000\n",
      "15/15 [==============================] - 4s 248ms/step - loss: 0.8949 - val_loss: 0.6490\n",
      "Epoch 62/1000\n",
      "15/15 [==============================] - 4s 244ms/step - loss: 0.7560 - val_loss: 0.6830\n",
      "Epoch 63/1000\n",
      "15/15 [==============================] - 4s 256ms/step - loss: 0.9311 - val_loss: 0.7173\n",
      "Epoch 64/1000\n",
      "15/15 [==============================] - 4s 241ms/step - loss: 0.7926 - val_loss: 0.6694\n",
      "Epoch 65/1000\n",
      "15/15 [==============================] - 4s 235ms/step - loss: 1.0071 - val_loss: 0.6396\n",
      "Epoch 66/1000\n",
      "15/15 [==============================] - 4s 253ms/step - loss: 0.9211 - val_loss: 0.6705\n",
      "Epoch 67/1000\n",
      "15/15 [==============================] - 3s 229ms/step - loss: 0.9547 - val_loss: 0.6377\n",
      "Epoch 68/1000\n",
      "15/15 [==============================] - 4s 246ms/step - loss: 0.8297 - val_loss: 0.6367\n",
      "Epoch 69/1000\n",
      "15/15 [==============================] - 4s 247ms/step - loss: 0.9398 - val_loss: 0.6437\n",
      "Epoch 70/1000\n",
      "15/15 [==============================] - 4s 242ms/step - loss: 0.7694 - val_loss: 0.6451\n",
      "Epoch 71/1000\n",
      "15/15 [==============================] - 4s 241ms/step - loss: 0.9240 - val_loss: 0.6460\n",
      "Epoch 72/1000\n",
      "15/15 [==============================] - 4s 244ms/step - loss: 0.8614 - val_loss: 0.6466\n",
      "Epoch 73/1000\n",
      "15/15 [==============================] - 4s 241ms/step - loss: 0.8787 - val_loss: 0.6498\n",
      "Epoch 74/1000\n",
      "15/15 [==============================] - 3s 233ms/step - loss: 0.9485 - val_loss: 0.6552\n",
      "Epoch 75/1000\n",
      "15/15 [==============================] - 4s 288ms/step - loss: 0.8609 - val_loss: 0.6632\n",
      "Epoch 76/1000\n",
      "15/15 [==============================] - 5s 303ms/step - loss: 0.8566 - val_loss: 0.6649\n",
      "Epoch 77/1000\n",
      "15/15 [==============================] - 4s 265ms/step - loss: 0.9006 - val_loss: 0.6681\n",
      "Epoch 78/1000\n",
      "15/15 [==============================] - 4s 275ms/step - loss: 0.8435 - val_loss: 0.6677\n",
      "Epoch 79/1000\n",
      "15/15 [==============================] - 4s 270ms/step - loss: 0.8893 - val_loss: 0.6717\n",
      "Epoch 80/1000\n"
     ]
    },
    {
     "name": "stdout",
     "output_type": "stream",
     "text": [
      "15/15 [==============================] - 4s 262ms/step - loss: 0.9256 - val_loss: 0.6740\n",
      "Epoch 81/1000\n",
      "15/15 [==============================] - 4s 248ms/step - loss: 0.8356 - val_loss: 0.6778\n",
      "Epoch 82/1000\n",
      "15/15 [==============================] - 4s 265ms/step - loss: 0.8915 - val_loss: 0.6790\n",
      "Epoch 83/1000\n",
      "15/15 [==============================] - 4s 275ms/step - loss: 0.9217 - val_loss: 0.6751\n",
      "Epoch 84/1000\n",
      "15/15 [==============================] - 5s 310ms/step - loss: 0.8709 - val_loss: 0.6709\n",
      "Epoch 85/1000\n",
      "15/15 [==============================] - 4s 286ms/step - loss: 0.8854 - val_loss: 0.6745\n",
      "Epoch 86/1000\n",
      "15/15 [==============================] - 5s 311ms/step - loss: 0.9184 - val_loss: 0.6735\n",
      "Epoch 87/1000\n",
      "15/15 [==============================] - 5s 320ms/step - loss: 0.9101 - val_loss: 0.6790\n",
      "Epoch 88/1000\n",
      "15/15 [==============================] - 4s 264ms/step - loss: 0.9171 - val_loss: 0.6865\n",
      "Epoch 89/1000\n",
      "15/15 [==============================] - 5s 305ms/step - loss: 0.8268 - val_loss: 0.6966\n",
      "Epoch 90/1000\n",
      "15/15 [==============================] - 4s 262ms/step - loss: 0.8019 - val_loss: 0.6987\n",
      "Epoch 91/1000\n",
      "15/15 [==============================] - 4s 270ms/step - loss: 0.9785 - val_loss: 0.7019\n",
      "Epoch 92/1000\n",
      "15/15 [==============================] - 4s 271ms/step - loss: 0.9391 - val_loss: 0.6972\n",
      "Epoch 93/1000\n",
      "15/15 [==============================] - 4s 257ms/step - loss: 0.8440 - val_loss: 0.6969\n",
      "Epoch 94/1000\n",
      "15/15 [==============================] - 5s 319ms/step - loss: 0.9029 - val_loss: 0.6971\n",
      "Epoch 95/1000\n",
      "15/15 [==============================] - 4s 243ms/step - loss: 1.0022 - val_loss: 0.6966\n",
      "Epoch 96/1000\n",
      "15/15 [==============================] - 4s 259ms/step - loss: 0.8601 - val_loss: 0.6962\n",
      "Epoch 97/1000\n",
      "15/15 [==============================] - 4s 258ms/step - loss: 0.8967 - val_loss: 0.6965\n",
      "Epoch 98/1000\n",
      "15/15 [==============================] - 5s 315ms/step - loss: 0.9079 - val_loss: 0.6964\n",
      "Epoch 99/1000\n",
      "15/15 [==============================] - 5s 302ms/step - loss: 1.0024 - val_loss: 0.6962\n",
      "Epoch 100/1000\n",
      "15/15 [==============================] - 4s 251ms/step - loss: 0.7738 - val_loss: 0.6964\n",
      "Epoch 101/1000\n",
      "15/15 [==============================] - 4s 257ms/step - loss: 0.8516 - val_loss: 0.6962\n",
      "Epoch 102/1000\n",
      "15/15 [==============================] - 4s 243ms/step - loss: 1.0187 - val_loss: 0.6961\n",
      "Epoch 103/1000\n",
      "15/15 [==============================] - 4s 234ms/step - loss: 0.9053 - val_loss: 0.6964\n",
      "Epoch 104/1000\n",
      "15/15 [==============================] - 4s 240ms/step - loss: 0.7722 - val_loss: 0.6968\n",
      "Epoch 105/1000\n",
      "15/15 [==============================] - 4s 246ms/step - loss: 0.7448 - val_loss: 0.6973\n",
      "Epoch 106/1000\n",
      "15/15 [==============================] - 4s 267ms/step - loss: 0.9095 - val_loss: 0.6978\n",
      "Epoch 107/1000\n",
      "15/15 [==============================] - 4s 235ms/step - loss: 0.9277 - val_loss: 0.6974\n",
      "Epoch 108/1000\n",
      "15/15 [==============================] - 3s 231ms/step - loss: 0.9285 - val_loss: 0.6972\n",
      "Epoch 109/1000\n",
      "15/15 [==============================] - 4s 261ms/step - loss: 0.9463 - val_loss: 0.6968\n",
      "Epoch 110/1000\n",
      "15/15 [==============================] - 4s 240ms/step - loss: 1.0240 - val_loss: 0.6964\n",
      "Epoch 111/1000\n",
      "15/15 [==============================] - 4s 250ms/step - loss: 0.8820 - val_loss: 0.6964\n",
      "Epoch 112/1000\n",
      "15/15 [==============================] - 4s 261ms/step - loss: 0.8993 - val_loss: 0.6958\n",
      "Epoch 113/1000\n",
      "15/15 [==============================] - 4s 257ms/step - loss: 0.8704 - val_loss: 0.6955\n",
      "Epoch 114/1000\n",
      "15/15 [==============================] - 4s 252ms/step - loss: 0.9020 - val_loss: 0.6953\n",
      "Epoch 115/1000\n",
      "15/15 [==============================] - 4s 239ms/step - loss: 0.9121 - val_loss: 0.6950\n",
      "Epoch 116/1000\n",
      "15/15 [==============================] - 5s 317ms/step - loss: 0.8602 - val_loss: 0.6952\n",
      "Epoch 117/1000\n",
      "15/15 [==============================] - ETA: 0s - loss: 0.8366Restoring model weights from the end of the best epoch.\n",
      "15/15 [==============================] - 4s 283ms/step - loss: 0.8366 - val_loss: 0.6947\n",
      "Epoch 00117: early stopping\n"
     ]
    }
   ],
   "source": [
    "# History object for plotting our model loss by epoch\n",
    "history = model.fit(x_train, y_train, batch_size = BATCH, \n",
    "                    epochs = EPOCHS, validation_data = (x_val, y_val),\n",
    "                    callbacks = [rlrop, early_stop])"
   ]
  },
  {
   "cell_type": "code",
   "execution_count": 28,
   "metadata": {
    "scrolled": false
   },
   "outputs": [
    {
     "data": {
      "image/png": "[encoded data removed]",
      "text/plain": [
       "<Figure size 720x504 with 1 Axes>"
      ]
     },
     "metadata": {
      "needs_background": "light"
     },
     "output_type": "display_data"
    }
   ],
   "source": [
    "# Loss History\n",
    "fig = plt.figure(figsize=(10, 7))\n",
    "plt.plot(history.history['loss'])\n",
    "plt.plot(history.history['val_loss'])\n",
    "plt.title('Model Loss')\n",
    "plt.ylabel('Loss')\n",
    "plt.xlabel('Epoch')\n",
    "plt.legend(['Train', 'Val'], loc='upper right')\n",
    "plt.show()"
   ]
  },
  {
   "cell_type": "markdown",
   "metadata": {},
   "source": [
    "### Previsão 12 meses em Validação"
   ]
  },
  {
   "cell_type": "code",
   "execution_count": 29,
   "metadata": {},
   "outputs": [
    {
     "data": {
      "text/plain": [
       "array([[9.1780332e+09],\n",
       "       [8.2886257e+09],\n",
       "       [8.9788754e+09],\n",
       "       [9.5886746e+09],\n",
       "       [9.5361116e+09],\n",
       "       [9.3513810e+09],\n",
       "       [1.0007837e+10],\n",
       "       [1.0111754e+10],\n",
       "       [9.8767442e+09],\n",
       "       [1.0163730e+10],\n",
       "       [9.8121708e+09],\n",
       "       [9.8112727e+09]], dtype=float32)"
      ]
     },
     "execution_count": 29,
     "metadata": {},
     "output_type": "execute_result"
    }
   ],
   "source": [
    "Y_pred_val = np.exp(model.predict(x_val))\n",
    "Y_pred_val"
   ]
  },
  {
   "cell_type": "code",
   "execution_count": 30,
   "metadata": {},
   "outputs": [
    {
     "data": {
      "text/plain": [
       "date\n",
       "2013-01-01    9.178033e+09\n",
       "2013-02-01    8.288626e+09\n",
       "2013-03-01    8.978875e+09\n",
       "2013-04-01    9.588675e+09\n",
       "2013-05-01    9.536112e+09\n",
       "2013-06-01    9.351381e+09\n",
       "2013-07-01    1.000784e+10\n",
       "2013-08-01    1.011175e+10\n",
       "2013-09-01    9.876744e+09\n",
       "2013-10-01    1.016373e+10\n",
       "2013-11-01    9.812171e+09\n",
       "2013-12-01    9.811273e+09\n",
       "dtype: float32"
      ]
     },
     "execution_count": 30,
     "metadata": {},
     "output_type": "execute_result"
    }
   ],
   "source": [
    "y_pred_val = pd.Series(Y_pred_val.ravel())\n",
    "y_pred_val.index = icms_val.index\n",
    "y_pred_val"
   ]
  },
  {
   "cell_type": "code",
   "execution_count": 31,
   "metadata": {},
   "outputs": [
    {
     "data": {
      "text/plain": [
       "array([8.79935939e+09, 8.69043338e+09, 8.69844496e+09, 9.44698371e+09,\n",
       "       9.49798877e+09, 9.13347676e+09, 9.65712884e+09, 9.60440688e+09,\n",
       "       1.01153595e+10, 1.02097875e+10, 9.71279493e+09, 1.07676197e+10])"
      ]
     },
     "execution_count": 31,
     "metadata": {},
     "output_type": "execute_result"
    }
   ],
   "source": [
    "np.exp(y_val).ravel()"
   ]
  },
  {
   "cell_type": "code",
   "execution_count": 32,
   "metadata": {},
   "outputs": [
    {
     "data": {
      "text/plain": [
       "389061619.6654539"
      ]
     },
     "execution_count": 32,
     "metadata": {},
     "output_type": "execute_result"
    }
   ],
   "source": [
    "RMSE_lstm_val = mean_squared_error(np.exp(y_val).ravel(), y_pred_val, squared=False)\n",
    "RMSE_lstm_val"
   ]
  },
  {
   "cell_type": "code",
   "execution_count": 33,
   "metadata": {},
   "outputs": [
    {
     "data": {
      "text/plain": [
       "0.031722359831045766"
      ]
     },
     "execution_count": 33,
     "metadata": {},
     "output_type": "execute_result"
    }
   ],
   "source": [
    "MAPE_lstm_val = mean_absolute_percentage_error(np.exp(y_val).ravel(), y_pred_val)\n",
    "MAPE_lstm_val"
   ]
  },
  {
   "cell_type": "code",
   "execution_count": 34,
   "metadata": {},
   "outputs": [],
   "source": [
    "previsoes['nome'].append('RNN-LSTM-Camadas')\n",
    "previsoes['modelo'].append(model)\n",
    "previsoes['previsoes'].append(y_pred_val)\n",
    "\n",
    "previsoes['rmse'].append(RMSE_lstm_val)\n",
    "\n",
    "previsoes['mape'].append(MAPE_lstm_val)"
   ]
  },
  {
   "cell_type": "code",
   "execution_count": 35,
   "metadata": {},
   "outputs": [],
   "source": [
    "previsoes['erro relativo'].append([erro_relativo(prev,real) \n",
    "                                   for prev,real in zip(y_pred_val, y_test)])"
   ]
  },
  {
   "cell_type": "markdown",
   "metadata": {},
   "source": [
    "## Arquitetura da Rede - Larga"
   ]
  },
  {
   "cell_type": "code",
   "execution_count": 36,
   "metadata": {},
   "outputs": [],
   "source": [
    "rlrop2 = ReduceLROnPlateau(monitor='val_loss', factor=0.1, patience=25)\n",
    "early_stop2 = EarlyStopping(monitor='val_loss', patience=100, verbose=1, \n",
    "                           restore_best_weights=True)"
   ]
  },
  {
   "cell_type": "code",
   "execution_count": 37,
   "metadata": {},
   "outputs": [],
   "source": [
    "# Épocas\n",
    "EPOCHS2 = 1000\n",
    "NEURONIOS2 = 600\n",
    "DROPOUT2 = 0.15\n",
    "LR2 = 1e-5\n",
    "BATCH2 = 8\n",
    "\n",
    "# Imstanciação do modelo\n",
    "model2 = Sequential()\n",
    "\n",
    "# Adicionar camada LSTM \n",
    "model2.add(LSTM(activation='tanh', dropout=DROPOUT2,\n",
    "        input_shape = (12, 1), return_sequences = False,\n",
    "        units = NEURONIOS2))\n",
    "\n",
    "# Adicionar a camada de saída com 1 neurônio linear\n",
    "model2.add(Dense(\n",
    "        units = 1,\n",
    "        activation = 'linear'))\n",
    "# a learning rate padrão do Adam é 0.001\n",
    "model2.compile(loss = 'mape', optimizer = Adam(learning_rate=LR2))"
   ]
  },
  {
   "cell_type": "code",
   "execution_count": 38,
   "metadata": {},
   "outputs": [
    {
     "name": "stdout",
     "output_type": "stream",
     "text": [
      "Model: \"sequential_1\"\n",
      "_________________________________________________________________\n",
      "Layer (type)                 Output Shape              Param #   \n",
      "=================================================================\n",
      "lstm_3 (LSTM)                (None, 600)               1444800   \n",
      "_________________________________________________________________\n",
      "dense_1 (Dense)              (None, 1)                 601       \n",
      "=================================================================\n",
      "Total params: 1,445,401\n",
      "Trainable params: 1,445,401\n",
      "Non-trainable params: 0\n",
      "_________________________________________________________________\n"
     ]
    }
   ],
   "source": [
    "model2.summary()"
   ]
  },
  {
   "cell_type": "code",
   "execution_count": 39,
   "metadata": {
    "scrolled": true
   },
   "outputs": [
    {
     "name": "stdout",
     "output_type": "stream",
     "text": [
      "Epoch 1/1000\n",
      "15/15 [==============================] - 3s 172ms/step - loss: 99.9650 - val_loss: 99.8193\n",
      "Epoch 2/1000\n",
      "15/15 [==============================] - 1s 58ms/step - loss: 99.8107 - val_loss: 99.5848\n",
      "Epoch 3/1000\n",
      "15/15 [==============================] - 1s 68ms/step - loss: 99.6527 - val_loss: 99.3374\n",
      "Epoch 4/1000\n",
      "15/15 [==============================] - 1s 70ms/step - loss: 99.4781 - val_loss: 99.0679\n",
      "Epoch 5/1000\n",
      "15/15 [==============================] - 1s 75ms/step - loss: 99.2929 - val_loss: 98.7609\n",
      "Epoch 6/1000\n",
      "15/15 [==============================] - 1s 67ms/step - loss: 99.0679 - val_loss: 98.4039\n",
      "Epoch 7/1000\n",
      "15/15 [==============================] - 1s 72ms/step - loss: 98.8324 - val_loss: 97.9738\n",
      "Epoch 8/1000\n",
      "15/15 [==============================] - 1s 68ms/step - loss: 98.5285 - val_loss: 97.4341\n",
      "Epoch 9/1000\n",
      "15/15 [==============================] - 1s 69ms/step - loss: 98.1676 - val_loss: 96.7419\n",
      "Epoch 10/1000\n",
      "15/15 [==============================] - 1s 83ms/step - loss: 97.6757 - val_loss: 95.7935\n",
      "Epoch 11/1000\n",
      "15/15 [==============================] - 1s 70ms/step - loss: 96.9412 - val_loss: 94.4288\n",
      "Epoch 12/1000\n",
      "15/15 [==============================] - 1s 70ms/step - loss: 95.9767 - val_loss: 92.3091\n",
      "Epoch 13/1000\n",
      "15/15 [==============================] - 1s 69ms/step - loss: 94.4433 - val_loss: 88.8036\n",
      "Epoch 14/1000\n",
      "15/15 [==============================] - 1s 71ms/step - loss: 91.8445 - val_loss: 82.3826\n",
      "Epoch 15/1000\n",
      "15/15 [==============================] - 1s 73ms/step - loss: 86.9127 - val_loss: 69.6334\n",
      "Epoch 16/1000\n",
      "15/15 [==============================] - 1s 70ms/step - loss: 77.0857 - val_loss: 46.7728\n",
      "Epoch 17/1000\n",
      "15/15 [==============================] - 1s 67ms/step - loss: 58.8047 - val_loss: 22.5442\n",
      "Epoch 18/1000\n",
      "15/15 [==============================] - 1s 66ms/step - loss: 38.3781 - val_loss: 7.9397\n",
      "Epoch 19/1000\n",
      "15/15 [==============================] - 1s 79ms/step - loss: 16.5589 - val_loss: 0.9426\n",
      "Epoch 20/1000\n",
      "15/15 [==============================] - 1s 73ms/step - loss: 6.1923 - val_loss: 4.4819\n",
      "Epoch 21/1000\n",
      "15/15 [==============================] - 1s 69ms/step - loss: 4.3788 - val_loss: 3.3739\n",
      "Epoch 22/1000\n",
      "15/15 [==============================] - 1s 71ms/step - loss: 2.6893 - val_loss: 1.3221\n",
      "Epoch 23/1000\n",
      "15/15 [==============================] - 1s 72ms/step - loss: 2.5463 - val_loss: 0.2104\n",
      "Epoch 24/1000\n",
      "15/15 [==============================] - 1s 64ms/step - loss: 2.6573 - val_loss: 0.3337\n",
      "Epoch 25/1000\n",
      "15/15 [==============================] - 1s 65ms/step - loss: 1.6161 - val_loss: 0.4773\n",
      "Epoch 26/1000\n",
      "15/15 [==============================] - 1s 65ms/step - loss: 1.3172 - val_loss: 0.8221\n",
      "Epoch 27/1000\n",
      "15/15 [==============================] - 1s 66ms/step - loss: 1.6241 - val_loss: 0.6541\n",
      "Epoch 28/1000\n",
      "15/15 [==============================] - 1s 61ms/step - loss: 1.3566 - val_loss: 0.7914\n",
      "Epoch 29/1000\n",
      "15/15 [==============================] - 1s 64ms/step - loss: 1.0495 - val_loss: 0.8543\n",
      "Epoch 30/1000\n",
      "15/15 [==============================] - 1s 64ms/step - loss: 1.1312 - val_loss: 0.8921\n",
      "Epoch 31/1000\n",
      "15/15 [==============================] - 1s 63ms/step - loss: 1.2383 - val_loss: 0.7307\n",
      "Epoch 32/1000\n",
      "15/15 [==============================] - 1s 68ms/step - loss: 1.4765 - val_loss: 1.0249\n",
      "Epoch 33/1000\n",
      "15/15 [==============================] - 1s 75ms/step - loss: 1.0741 - val_loss: 1.2386\n",
      "Epoch 34/1000\n",
      "15/15 [==============================] - 1s 71ms/step - loss: 1.1560 - val_loss: 1.2456\n",
      "Epoch 35/1000\n",
      "15/15 [==============================] - 1s 70ms/step - loss: 1.1681 - val_loss: 0.9877\n",
      "Epoch 36/1000\n",
      "15/15 [==============================] - 1s 71ms/step - loss: 0.9707 - val_loss: 0.9626\n",
      "Epoch 37/1000\n",
      "15/15 [==============================] - 1s 67ms/step - loss: 1.0603 - val_loss: 1.0464\n",
      "Epoch 38/1000\n",
      "15/15 [==============================] - 1s 69ms/step - loss: 1.2572 - val_loss: 1.0100\n",
      "Epoch 39/1000\n",
      "15/15 [==============================] - 1s 68ms/step - loss: 1.1013 - val_loss: 1.1609\n",
      "Epoch 40/1000\n",
      "15/15 [==============================] - 1s 68ms/step - loss: 1.0868 - val_loss: 1.2317\n",
      "Epoch 41/1000\n",
      "15/15 [==============================] - 1s 65ms/step - loss: 1.2306 - val_loss: 1.0819\n",
      "Epoch 42/1000\n",
      "15/15 [==============================] - 1s 69ms/step - loss: 0.9050 - val_loss: 1.3574\n",
      "Epoch 43/1000\n",
      "15/15 [==============================] - 1s 62ms/step - loss: 1.2644 - val_loss: 1.1762\n",
      "Epoch 44/1000\n",
      "15/15 [==============================] - 1s 65ms/step - loss: 1.0577 - val_loss: 1.4018\n",
      "Epoch 45/1000\n",
      "15/15 [==============================] - 1s 67ms/step - loss: 0.9810 - val_loss: 1.2376\n",
      "Epoch 46/1000\n",
      "15/15 [==============================] - 1s 68ms/step - loss: 1.0017 - val_loss: 1.3870\n",
      "Epoch 47/1000\n",
      "15/15 [==============================] - 1s 64ms/step - loss: 1.0188 - val_loss: 1.2138\n",
      "Epoch 48/1000\n",
      "15/15 [==============================] - 1s 69ms/step - loss: 1.2404 - val_loss: 1.3364\n",
      "Epoch 49/1000\n",
      "15/15 [==============================] - 1s 68ms/step - loss: 1.2712 - val_loss: 1.3079\n",
      "Epoch 50/1000\n",
      "15/15 [==============================] - 1s 66ms/step - loss: 0.9734 - val_loss: 1.2998\n",
      "Epoch 51/1000\n",
      "15/15 [==============================] - 1s 62ms/step - loss: 1.0941 - val_loss: 1.2710\n",
      "Epoch 52/1000\n",
      "15/15 [==============================] - 1s 69ms/step - loss: 1.1202 - val_loss: 1.2685\n",
      "Epoch 53/1000\n",
      "15/15 [==============================] - 1s 65ms/step - loss: 1.0096 - val_loss: 1.2545\n",
      "Epoch 54/1000\n",
      "15/15 [==============================] - 1s 70ms/step - loss: 1.0457 - val_loss: 1.2101\n",
      "Epoch 55/1000\n",
      "15/15 [==============================] - 1s 68ms/step - loss: 1.0850 - val_loss: 1.2258\n",
      "Epoch 56/1000\n",
      "15/15 [==============================] - 1s 65ms/step - loss: 1.0000 - val_loss: 1.2506\n",
      "Epoch 57/1000\n",
      "15/15 [==============================] - 1s 64ms/step - loss: 1.0378 - val_loss: 1.2368\n",
      "Epoch 58/1000\n",
      "15/15 [==============================] - 1s 62ms/step - loss: 1.1238 - val_loss: 1.2144\n",
      "Epoch 59/1000\n",
      "15/15 [==============================] - 1s 61ms/step - loss: 1.0587 - val_loss: 1.2373\n",
      "Epoch 60/1000\n",
      "15/15 [==============================] - 1s 65ms/step - loss: 1.0984 - val_loss: 1.2766\n",
      "Epoch 61/1000\n",
      "15/15 [==============================] - 1s 68ms/step - loss: 1.3037 - val_loss: 1.2415\n",
      "Epoch 62/1000\n",
      "15/15 [==============================] - 1s 75ms/step - loss: 1.0794 - val_loss: 1.2413\n",
      "Epoch 63/1000\n",
      "15/15 [==============================] - 1s 71ms/step - loss: 0.9533 - val_loss: 1.2396\n",
      "Epoch 64/1000\n",
      "15/15 [==============================] - 1s 70ms/step - loss: 0.9740 - val_loss: 1.2165\n",
      "Epoch 65/1000\n",
      "15/15 [==============================] - 1s 69ms/step - loss: 1.0348 - val_loss: 1.2176\n",
      "Epoch 66/1000\n",
      "15/15 [==============================] - 1s 64ms/step - loss: 1.0581 - val_loss: 1.2229\n",
      "Epoch 67/1000\n",
      "15/15 [==============================] - 1s 63ms/step - loss: 1.0613 - val_loss: 1.2484\n",
      "Epoch 68/1000\n",
      "15/15 [==============================] - 1s 69ms/step - loss: 1.0553 - val_loss: 1.2939\n",
      "Epoch 69/1000\n",
      "15/15 [==============================] - 1s 69ms/step - loss: 1.1456 - val_loss: 1.3131\n",
      "Epoch 70/1000\n",
      "15/15 [==============================] - 1s 66ms/step - loss: 0.9807 - val_loss: 1.3110\n",
      "Epoch 71/1000\n",
      "15/15 [==============================] - 1s 71ms/step - loss: 1.0980 - val_loss: 1.2934\n",
      "Epoch 72/1000\n",
      "15/15 [==============================] - 1s 66ms/step - loss: 1.1708 - val_loss: 1.3388\n",
      "Epoch 73/1000\n",
      "15/15 [==============================] - 1s 64ms/step - loss: 1.1137 - val_loss: 1.3225\n",
      "Epoch 74/1000\n",
      "15/15 [==============================] - 1s 63ms/step - loss: 1.1527 - val_loss: 1.3213\n",
      "Epoch 75/1000\n",
      "15/15 [==============================] - 1s 69ms/step - loss: 0.8512 - val_loss: 1.3198\n",
      "Epoch 76/1000\n",
      "15/15 [==============================] - 1s 71ms/step - loss: 1.1536 - val_loss: 1.3209\n",
      "Epoch 77/1000\n",
      "15/15 [==============================] - 1s 65ms/step - loss: 1.0071 - val_loss: 1.3225\n",
      "Epoch 78/1000\n",
      "15/15 [==============================] - 1s 62ms/step - loss: 1.0146 - val_loss: 1.3247\n",
      "Epoch 79/1000\n",
      "15/15 [==============================] - 1s 68ms/step - loss: 0.9598 - val_loss: 1.3279\n",
      "Epoch 80/1000\n",
      "15/15 [==============================] - 1s 70ms/step - loss: 1.1013 - val_loss: 1.3255\n",
      "Epoch 81/1000\n"
     ]
    },
    {
     "name": "stdout",
     "output_type": "stream",
     "text": [
      "15/15 [==============================] - 1s 63ms/step - loss: 0.8878 - val_loss: 1.3275\n",
      "Epoch 82/1000\n",
      "15/15 [==============================] - 1s 70ms/step - loss: 0.8418 - val_loss: 1.3305\n",
      "Epoch 83/1000\n",
      "15/15 [==============================] - 1s 62ms/step - loss: 1.0856 - val_loss: 1.3320\n",
      "Epoch 84/1000\n",
      "15/15 [==============================] - 1s 61ms/step - loss: 1.1534 - val_loss: 1.3301\n",
      "Epoch 85/1000\n",
      "15/15 [==============================] - 1s 58ms/step - loss: 1.2024 - val_loss: 1.3296\n",
      "Epoch 86/1000\n",
      "15/15 [==============================] - 1s 66ms/step - loss: 1.0244 - val_loss: 1.3272\n",
      "Epoch 87/1000\n",
      "15/15 [==============================] - 1s 62ms/step - loss: 1.3051 - val_loss: 1.3272\n",
      "Epoch 88/1000\n",
      "15/15 [==============================] - 1s 59ms/step - loss: 1.0705 - val_loss: 1.3276\n",
      "Epoch 89/1000\n",
      "15/15 [==============================] - 1s 68ms/step - loss: 1.0066 - val_loss: 1.3299\n",
      "Epoch 90/1000\n",
      "15/15 [==============================] - 1s 65ms/step - loss: 1.1296 - val_loss: 1.3254\n",
      "Epoch 91/1000\n",
      "15/15 [==============================] - 1s 65ms/step - loss: 1.0559 - val_loss: 1.3253\n",
      "Epoch 92/1000\n",
      "15/15 [==============================] - 1s 70ms/step - loss: 1.4202 - val_loss: 1.3230\n",
      "Epoch 93/1000\n",
      "15/15 [==============================] - 1s 64ms/step - loss: 1.1318 - val_loss: 1.3203\n",
      "Epoch 94/1000\n",
      "15/15 [==============================] - 1s 65ms/step - loss: 1.2828 - val_loss: 1.3160\n",
      "Epoch 95/1000\n",
      "15/15 [==============================] - 1s 66ms/step - loss: 0.8791 - val_loss: 1.3145\n",
      "Epoch 96/1000\n",
      "15/15 [==============================] - 1s 64ms/step - loss: 0.9288 - val_loss: 1.3127\n",
      "Epoch 97/1000\n",
      "15/15 [==============================] - 1s 66ms/step - loss: 1.0113 - val_loss: 1.3154\n",
      "Epoch 98/1000\n",
      "15/15 [==============================] - 1s 59ms/step - loss: 1.1095 - val_loss: 1.3129\n",
      "Epoch 99/1000\n",
      "15/15 [==============================] - 1s 65ms/step - loss: 1.0646 - val_loss: 1.3130\n",
      "Epoch 100/1000\n",
      "15/15 [==============================] - 1s 66ms/step - loss: 1.0197 - val_loss: 1.3131\n",
      "Epoch 101/1000\n",
      "15/15 [==============================] - 1s 75ms/step - loss: 0.9927 - val_loss: 1.3131\n",
      "Epoch 102/1000\n",
      "15/15 [==============================] - 1s 74ms/step - loss: 1.0034 - val_loss: 1.3125\n",
      "Epoch 103/1000\n",
      "15/15 [==============================] - 1s 77ms/step - loss: 0.9730 - val_loss: 1.3124\n",
      "Epoch 104/1000\n",
      "15/15 [==============================] - 1s 64ms/step - loss: 0.9635 - val_loss: 1.3125\n",
      "Epoch 105/1000\n",
      "15/15 [==============================] - 1s 63ms/step - loss: 1.1167 - val_loss: 1.3125\n",
      "Epoch 106/1000\n",
      "15/15 [==============================] - 1s 66ms/step - loss: 1.0469 - val_loss: 1.3126\n",
      "Epoch 107/1000\n",
      "15/15 [==============================] - 1s 65ms/step - loss: 1.2224 - val_loss: 1.3123\n",
      "Epoch 108/1000\n",
      "15/15 [==============================] - 1s 68ms/step - loss: 0.8115 - val_loss: 1.3120\n",
      "Epoch 109/1000\n",
      "15/15 [==============================] - 1s 61ms/step - loss: 1.0274 - val_loss: 1.3120\n",
      "Epoch 110/1000\n",
      "15/15 [==============================] - 1s 70ms/step - loss: 1.0151 - val_loss: 1.3119\n",
      "Epoch 111/1000\n",
      "15/15 [==============================] - 1s 65ms/step - loss: 1.0695 - val_loss: 1.3118\n",
      "Epoch 112/1000\n",
      "15/15 [==============================] - 1s 73ms/step - loss: 0.9260 - val_loss: 1.3113\n",
      "Epoch 113/1000\n",
      "15/15 [==============================] - 1s 78ms/step - loss: 1.0768 - val_loss: 1.3109\n",
      "Epoch 114/1000\n",
      "15/15 [==============================] - 1s 64ms/step - loss: 0.9893 - val_loss: 1.3108\n",
      "Epoch 115/1000\n",
      "15/15 [==============================] - 1s 89ms/step - loss: 0.9735 - val_loss: 1.3102\n",
      "Epoch 116/1000\n",
      "15/15 [==============================] - 1s 79ms/step - loss: 0.9628 - val_loss: 1.3103\n",
      "Epoch 117/1000\n",
      "15/15 [==============================] - 1s 98ms/step - loss: 1.1814 - val_loss: 1.3099\n",
      "Epoch 118/1000\n",
      "15/15 [==============================] - 1s 62ms/step - loss: 1.0119 - val_loss: 1.3103\n",
      "Epoch 119/1000\n",
      "15/15 [==============================] - 1s 68ms/step - loss: 1.0128 - val_loss: 1.3107\n",
      "Epoch 120/1000\n",
      "15/15 [==============================] - 1s 66ms/step - loss: 0.9336 - val_loss: 1.3110\n",
      "Epoch 121/1000\n",
      "15/15 [==============================] - 1s 72ms/step - loss: 1.0552 - val_loss: 1.3109\n",
      "Epoch 122/1000\n",
      "15/15 [==============================] - 1s 68ms/step - loss: 0.9321 - val_loss: 1.3112\n",
      "Epoch 123/1000\n",
      "15/15 [==============================] - ETA: 0s - loss: 1.0112Restoring model weights from the end of the best epoch.\n",
      "15/15 [==============================] - 1s 70ms/step - loss: 1.0112 - val_loss: 1.3113\n",
      "Epoch 00123: early stopping\n"
     ]
    }
   ],
   "source": [
    "# History object for plotting our model loss by epoch\n",
    "history2 = model2.fit(x_train, y_train, batch_size = BATCH2, \n",
    "                    epochs = EPOCHS2, validation_data = (x_val, y_val),\n",
    "                    callbacks = [rlrop2, early_stop2])"
   ]
  },
  {
   "cell_type": "code",
   "execution_count": 40,
   "metadata": {
    "scrolled": false
   },
   "outputs": [
    {
     "data": {
      "image/png": "[encoded data removed]",
      "text/plain": [
       "<Figure size 720x504 with 1 Axes>"
      ]
     },
     "metadata": {
      "needs_background": "light"
     },
     "output_type": "display_data"
    }
   ],
   "source": [
    "# Loss History\n",
    "fig = plt.figure(figsize=(10, 7))\n",
    "plt.plot(history2.history['loss'])\n",
    "plt.plot(history2.history['val_loss'])\n",
    "plt.title('Model Loss')\n",
    "plt.ylabel('Loss')\n",
    "plt.xlabel('Epoch')\n",
    "plt.legend(['Train', 'Val'], loc='upper right')\n",
    "plt.show()"
   ]
  },
  {
   "cell_type": "markdown",
   "metadata": {},
   "source": [
    "### Previsão 12 meses em Validação"
   ]
  },
  {
   "cell_type": "code",
   "execution_count": 41,
   "metadata": {},
   "outputs": [
    {
     "data": {
      "text/plain": [
       "array([[8.941772e+09],\n",
       "       [8.197797e+09],\n",
       "       [9.015513e+09],\n",
       "       [9.365035e+09],\n",
       "       [9.145373e+09],\n",
       "       [9.019951e+09],\n",
       "       [9.480381e+09],\n",
       "       [9.427907e+09],\n",
       "       [9.215202e+09],\n",
       "       [9.443726e+09],\n",
       "       [9.221164e+09],\n",
       "       [9.252294e+09]], dtype=float32)"
      ]
     },
     "execution_count": 41,
     "metadata": {},
     "output_type": "execute_result"
    }
   ],
   "source": [
    "Y_pred_val2 = np.exp(model2.predict(x_val))\n",
    "Y_pred_val2"
   ]
  },
  {
   "cell_type": "code",
   "execution_count": 42,
   "metadata": {},
   "outputs": [
    {
     "data": {
      "text/plain": [
       "date\n",
       "2013-01-01    8.941772e+09\n",
       "2013-02-01    8.197797e+09\n",
       "2013-03-01    9.015513e+09\n",
       "2013-04-01    9.365035e+09\n",
       "2013-05-01    9.145373e+09\n",
       "2013-06-01    9.019951e+09\n",
       "2013-07-01    9.480381e+09\n",
       "2013-08-01    9.427907e+09\n",
       "2013-09-01    9.215202e+09\n",
       "2013-10-01    9.443726e+09\n",
       "2013-11-01    9.221164e+09\n",
       "2013-12-01    9.252294e+09\n",
       "dtype: float32"
      ]
     },
     "execution_count": 42,
     "metadata": {},
     "output_type": "execute_result"
    }
   ],
   "source": [
    "y_pred_val2 = pd.Series(Y_pred_val2.ravel())\n",
    "y_pred_val2.index = icms_val.index\n",
    "y_pred_val2"
   ]
  },
  {
   "cell_type": "code",
   "execution_count": 43,
   "metadata": {},
   "outputs": [
    {
     "data": {
      "text/plain": [
       "array([8.79935939e+09, 8.69043338e+09, 8.69844496e+09, 9.44698371e+09,\n",
       "       9.49798877e+09, 9.13347676e+09, 9.65712884e+09, 9.60440688e+09,\n",
       "       1.01153595e+10, 1.02097875e+10, 9.71279493e+09, 1.07676197e+10])"
      ]
     },
     "execution_count": 43,
     "metadata": {},
     "output_type": "execute_result"
    }
   ],
   "source": [
    "np.exp(y_val).ravel()"
   ]
  },
  {
   "cell_type": "code",
   "execution_count": 44,
   "metadata": {},
   "outputs": [
    {
     "data": {
      "text/plain": [
       "612704706.5357282"
      ]
     },
     "execution_count": 44,
     "metadata": {},
     "output_type": "execute_result"
    }
   ],
   "source": [
    "RMSE_lstm_val2 = mean_squared_error(np.exp(y_val).ravel(), y_pred_val2, squared=False)\n",
    "RMSE_lstm_val2"
   ]
  },
  {
   "cell_type": "code",
   "execution_count": 45,
   "metadata": {},
   "outputs": [
    {
     "data": {
      "text/plain": [
       "0.04663329242619476"
      ]
     },
     "execution_count": 45,
     "metadata": {},
     "output_type": "execute_result"
    }
   ],
   "source": [
    "MAPE_lstm_val2 = mean_absolute_percentage_error(np.exp(y_val).ravel(), y_pred_val2)\n",
    "MAPE_lstm_val2"
   ]
  },
  {
   "cell_type": "code",
   "execution_count": 46,
   "metadata": {},
   "outputs": [],
   "source": [
    "previsoes['nome'].append('RNN-LSTM-Larga')\n",
    "previsoes['modelo'].append(model2)\n",
    "previsoes['previsoes'].append(y_pred_val2)\n",
    "\n",
    "previsoes['rmse'].append(RMSE_lstm_val2)\n",
    "\n",
    "previsoes['mape'].append(MAPE_lstm_val2)"
   ]
  },
  {
   "cell_type": "code",
   "execution_count": 47,
   "metadata": {},
   "outputs": [],
   "source": [
    "previsoes['erro relativo'].append([erro_relativo(prev,real) \n",
    "                                   for prev,real in zip(y_pred_val2, y_test)])"
   ]
  },
  {
   "cell_type": "markdown",
   "metadata": {},
   "source": [
    "## Resultados"
   ]
  },
  {
   "cell_type": "code",
   "execution_count": 48,
   "metadata": {},
   "outputs": [],
   "source": [
    "df_prev = pd.DataFrame(data=previsoes['previsoes'], \n",
    "                       index=previsoes['nome']).transpose()\n",
    "df_prev[\"real\"] = icms_val\n",
    "df_rmse = pd.DataFrame(data=previsoes['rmse'], \n",
    "                       index=previsoes['nome']).transpose()\n",
    "df_mape = pd.DataFrame(data=previsoes['mape'], \n",
    "                       index=previsoes['nome']).transpose()\n",
    "df_erro = pd.DataFrame(data=previsoes['erro relativo'], \n",
    "                       index=previsoes['nome']).transpose()"
   ]
  },
  {
   "cell_type": "code",
   "execution_count": 49,
   "metadata": {},
   "outputs": [
    {
     "data": {
      "text/html": [
       "<div>\n",
       "<style scoped>\n",
       "    .dataframe tbody tr th:only-of-type {\n",
       "        vertical-align: middle;\n",
       "    }\n",
       "\n",
       "    .dataframe tbody tr th {\n",
       "        vertical-align: top;\n",
       "    }\n",
       "\n",
       "    .dataframe thead th {\n",
       "        text-align: right;\n",
       "    }\n",
       "</style>\n",
       "<table border=\"1\" class=\"dataframe\">\n",
       "  <thead>\n",
       "    <tr style=\"text-align: right;\">\n",
       "      <th></th>\n",
       "      <th>RNN-LSTM-Camadas</th>\n",
       "      <th>RNN-LSTM-Larga</th>\n",
       "      <th>real</th>\n",
       "    </tr>\n",
       "    <tr>\n",
       "      <th>date</th>\n",
       "      <th></th>\n",
       "      <th></th>\n",
       "      <th></th>\n",
       "    </tr>\n",
       "  </thead>\n",
       "  <tbody>\n",
       "    <tr>\n",
       "      <th>2013-01-01</th>\n",
       "      <td>9.178033e+09</td>\n",
       "      <td>8.941772e+09</td>\n",
       "      <td>8.799359e+09</td>\n",
       "    </tr>\n",
       "    <tr>\n",
       "      <th>2013-02-01</th>\n",
       "      <td>8.288626e+09</td>\n",
       "      <td>8.197797e+09</td>\n",
       "      <td>8.690433e+09</td>\n",
       "    </tr>\n",
       "    <tr>\n",
       "      <th>2013-03-01</th>\n",
       "      <td>8.978875e+09</td>\n",
       "      <td>9.015513e+09</td>\n",
       "      <td>8.698445e+09</td>\n",
       "    </tr>\n",
       "    <tr>\n",
       "      <th>2013-04-01</th>\n",
       "      <td>9.588675e+09</td>\n",
       "      <td>9.365035e+09</td>\n",
       "      <td>9.446984e+09</td>\n",
       "    </tr>\n",
       "    <tr>\n",
       "      <th>2013-05-01</th>\n",
       "      <td>9.536112e+09</td>\n",
       "      <td>9.145373e+09</td>\n",
       "      <td>9.497989e+09</td>\n",
       "    </tr>\n",
       "    <tr>\n",
       "      <th>2013-06-01</th>\n",
       "      <td>9.351381e+09</td>\n",
       "      <td>9.019951e+09</td>\n",
       "      <td>9.133477e+09</td>\n",
       "    </tr>\n",
       "    <tr>\n",
       "      <th>2013-07-01</th>\n",
       "      <td>1.000784e+10</td>\n",
       "      <td>9.480381e+09</td>\n",
       "      <td>9.657129e+09</td>\n",
       "    </tr>\n",
       "    <tr>\n",
       "      <th>2013-08-01</th>\n",
       "      <td>1.011175e+10</td>\n",
       "      <td>9.427907e+09</td>\n",
       "      <td>9.604407e+09</td>\n",
       "    </tr>\n",
       "    <tr>\n",
       "      <th>2013-09-01</th>\n",
       "      <td>9.876744e+09</td>\n",
       "      <td>9.215202e+09</td>\n",
       "      <td>1.011536e+10</td>\n",
       "    </tr>\n",
       "    <tr>\n",
       "      <th>2013-10-01</th>\n",
       "      <td>1.016373e+10</td>\n",
       "      <td>9.443726e+09</td>\n",
       "      <td>1.020979e+10</td>\n",
       "    </tr>\n",
       "    <tr>\n",
       "      <th>2013-11-01</th>\n",
       "      <td>9.812171e+09</td>\n",
       "      <td>9.221164e+09</td>\n",
       "      <td>9.712795e+09</td>\n",
       "    </tr>\n",
       "    <tr>\n",
       "      <th>2013-12-01</th>\n",
       "      <td>9.811273e+09</td>\n",
       "      <td>9.252294e+09</td>\n",
       "      <td>1.076762e+10</td>\n",
       "    </tr>\n",
       "  </tbody>\n",
       "</table>\n",
       "</div>"
      ],
      "text/plain": [
       "            RNN-LSTM-Camadas  RNN-LSTM-Larga          real\n",
       "date                                                      \n",
       "2013-01-01      9.178033e+09    8.941772e+09  8.799359e+09\n",
       "2013-02-01      8.288626e+09    8.197797e+09  8.690433e+09\n",
       "2013-03-01      8.978875e+09    9.015513e+09  8.698445e+09\n",
       "2013-04-01      9.588675e+09    9.365035e+09  9.446984e+09\n",
       "2013-05-01      9.536112e+09    9.145373e+09  9.497989e+09\n",
       "2013-06-01      9.351381e+09    9.019951e+09  9.133477e+09\n",
       "2013-07-01      1.000784e+10    9.480381e+09  9.657129e+09\n",
       "2013-08-01      1.011175e+10    9.427907e+09  9.604407e+09\n",
       "2013-09-01      9.876744e+09    9.215202e+09  1.011536e+10\n",
       "2013-10-01      1.016373e+10    9.443726e+09  1.020979e+10\n",
       "2013-11-01      9.812171e+09    9.221164e+09  9.712795e+09\n",
       "2013-12-01      9.811273e+09    9.252294e+09  1.076762e+10"
      ]
     },
     "execution_count": 49,
     "metadata": {},
     "output_type": "execute_result"
    }
   ],
   "source": [
    "df_prev"
   ]
  },
  {
   "cell_type": "code",
   "execution_count": 50,
   "metadata": {},
   "outputs": [
    {
     "data": {
      "text/html": [
       "<div>\n",
       "<style scoped>\n",
       "    .dataframe tbody tr th:only-of-type {\n",
       "        vertical-align: middle;\n",
       "    }\n",
       "\n",
       "    .dataframe tbody tr th {\n",
       "        vertical-align: top;\n",
       "    }\n",
       "\n",
       "    .dataframe thead th {\n",
       "        text-align: right;\n",
       "    }\n",
       "</style>\n",
       "<table border=\"1\" class=\"dataframe\">\n",
       "  <thead>\n",
       "    <tr style=\"text-align: right;\">\n",
       "      <th></th>\n",
       "      <th>RNN-LSTM-Camadas</th>\n",
       "      <th>RNN-LSTM-Larga</th>\n",
       "    </tr>\n",
       "  </thead>\n",
       "  <tbody>\n",
       "    <tr>\n",
       "      <th>0</th>\n",
       "      <td>[6.377918859629057]</td>\n",
       "      <td>[8.787943027975807]</td>\n",
       "    </tr>\n",
       "    <tr>\n",
       "      <th>1</th>\n",
       "      <td>[14.442290900245808]</td>\n",
       "      <td>[15.379853333790372]</td>\n",
       "    </tr>\n",
       "    <tr>\n",
       "      <th>2</th>\n",
       "      <td>[5.136565977362029]</td>\n",
       "      <td>[4.749482127158011]</td>\n",
       "    </tr>\n",
       "    <tr>\n",
       "      <th>3</th>\n",
       "      <td>[0.4852407470855238]</td>\n",
       "      <td>[2.8062535249672718]</td>\n",
       "    </tr>\n",
       "    <tr>\n",
       "      <th>4</th>\n",
       "      <td>[2.8818148601652043]</td>\n",
       "      <td>[6.861199606571212]</td>\n",
       "    </tr>\n",
       "    <tr>\n",
       "      <th>5</th>\n",
       "      <td>[3.367516752452968]</td>\n",
       "      <td>[6.792347066531181]</td>\n",
       "    </tr>\n",
       "    <tr>\n",
       "      <th>6</th>\n",
       "      <td>[4.307080907987558]</td>\n",
       "      <td>[1.190342497561536]</td>\n",
       "    </tr>\n",
       "    <tr>\n",
       "      <th>7</th>\n",
       "      <td>[6.438849440390801]</td>\n",
       "      <td>[0.759501955823566]</td>\n",
       "    </tr>\n",
       "    <tr>\n",
       "      <th>8</th>\n",
       "      <td>[0.8142735877809701]</td>\n",
       "      <td>[5.938241572086112]</td>\n",
       "    </tr>\n",
       "    <tr>\n",
       "      <th>9</th>\n",
       "      <td>[4.418978743455075]</td>\n",
       "      <td>[11.189989374345389]</td>\n",
       "    </tr>\n",
       "    <tr>\n",
       "      <th>10</th>\n",
       "      <td>[3.351623859190155]</td>\n",
       "      <td>[9.172949355861077]</td>\n",
       "    </tr>\n",
       "    <tr>\n",
       "      <th>11</th>\n",
       "      <td>[12.717498995402211]</td>\n",
       "      <td>[17.69025766650694]</td>\n",
       "    </tr>\n",
       "  </tbody>\n",
       "</table>\n",
       "</div>"
      ],
      "text/plain": [
       "        RNN-LSTM-Camadas        RNN-LSTM-Larga\n",
       "0    [6.377918859629057]   [8.787943027975807]\n",
       "1   [14.442290900245808]  [15.379853333790372]\n",
       "2    [5.136565977362029]   [4.749482127158011]\n",
       "3   [0.4852407470855238]  [2.8062535249672718]\n",
       "4   [2.8818148601652043]   [6.861199606571212]\n",
       "5    [3.367516752452968]   [6.792347066531181]\n",
       "6    [4.307080907987558]   [1.190342497561536]\n",
       "7    [6.438849440390801]   [0.759501955823566]\n",
       "8   [0.8142735877809701]   [5.938241572086112]\n",
       "9    [4.418978743455075]  [11.189989374345389]\n",
       "10   [3.351623859190155]   [9.172949355861077]\n",
       "11  [12.717498995402211]   [17.69025766650694]"
      ]
     },
     "execution_count": 50,
     "metadata": {},
     "output_type": "execute_result"
    }
   ],
   "source": [
    "df_erro"
   ]
  },
  {
   "cell_type": "markdown",
   "metadata": {},
   "source": [
    "### Resultados"
   ]
  },
  {
   "cell_type": "code",
   "execution_count": 51,
   "metadata": {
    "scrolled": false
   },
   "outputs": [
    {
     "data": {
      "image/png": "[encoded data removed]",
      "text/plain": [
       "<Figure size 1080x720 with 1 Axes>"
      ]
     },
     "metadata": {
      "needs_background": "light"
     },
     "output_type": "display_data"
    }
   ],
   "source": [
    "fig = plt.figure(figsize=(15, 10))\n",
    "ax = sns.lineplot(data=df_prev)"
   ]
  },
  {
   "cell_type": "markdown",
   "metadata": {},
   "source": [
    "#### RMSE"
   ]
  },
  {
   "cell_type": "code",
   "execution_count": 52,
   "metadata": {},
   "outputs": [
    {
     "data": {
      "image/png": "[encoded data removed]",
      "text/plain": [
       "<Figure size 1080x720 with 1 Axes>"
      ]
     },
     "metadata": {
      "needs_background": "light"
     },
     "output_type": "display_data"
    }
   ],
   "source": [
    "fig = plt.figure(figsize=(15, 10))\n",
    "ax = sns.barplot(data=df_rmse)"
   ]
  },
  {
   "cell_type": "markdown",
   "metadata": {},
   "source": [
    "#### MAPE"
   ]
  },
  {
   "cell_type": "code",
   "execution_count": 53,
   "metadata": {
    "scrolled": false
   },
   "outputs": [
    {
     "data": {
      "image/png": "[encoded data removed]",
      "text/plain": [
       "<Figure size 1080x720 with 1 Axes>"
      ]
     },
     "metadata": {
      "needs_background": "light"
     },
     "output_type": "display_data"
    }
   ],
   "source": [
    "fig = plt.figure(figsize=(15, 10))\n",
    "ax = sns.barplot(data=df_mape)"
   ]
  },
  {
   "cell_type": "markdown",
   "metadata": {},
   "source": [
    "### Resumo das métricas"
   ]
  },
  {
   "cell_type": "code",
   "execution_count": 54,
   "metadata": {},
   "outputs": [],
   "source": [
    "df_rmse.index = ['RMSE']\n",
    "df_mape.index = ['MAPE']"
   ]
  },
  {
   "cell_type": "code",
   "execution_count": 55,
   "metadata": {},
   "outputs": [
    {
     "data": {
      "text/html": [
       "<div>\n",
       "<style scoped>\n",
       "    .dataframe tbody tr th:only-of-type {\n",
       "        vertical-align: middle;\n",
       "    }\n",
       "\n",
       "    .dataframe tbody tr th {\n",
       "        vertical-align: top;\n",
       "    }\n",
       "\n",
       "    .dataframe thead th {\n",
       "        text-align: right;\n",
       "    }\n",
       "</style>\n",
       "<table border=\"1\" class=\"dataframe\">\n",
       "  <thead>\n",
       "    <tr style=\"text-align: right;\">\n",
       "      <th></th>\n",
       "      <th>RNN-LSTM-Camadas</th>\n",
       "      <th>RNN-LSTM-Larga</th>\n",
       "    </tr>\n",
       "  </thead>\n",
       "  <tbody>\n",
       "    <tr>\n",
       "      <th>RMSE</th>\n",
       "      <td>3.890616e+08</td>\n",
       "      <td>6.127047e+08</td>\n",
       "    </tr>\n",
       "    <tr>\n",
       "      <th>MAPE</th>\n",
       "      <td>3.172236e-02</td>\n",
       "      <td>4.663329e-02</td>\n",
       "    </tr>\n",
       "  </tbody>\n",
       "</table>\n",
       "</div>"
      ],
      "text/plain": [
       "      RNN-LSTM-Camadas  RNN-LSTM-Larga\n",
       "RMSE      3.890616e+08    6.127047e+08\n",
       "MAPE      3.172236e-02    4.663329e-02"
      ]
     },
     "execution_count": 55,
     "metadata": {},
     "output_type": "execute_result"
    }
   ],
   "source": [
    "df_metricas = df_rmse.copy()\n",
    "df_metricas = df_metricas.append(df_mape)\n",
    "df_metricas"
   ]
  },
  {
   "cell_type": "code",
   "execution_count": 58,
   "metadata": {},
   "outputs": [],
   "source": [
    "df_metricas.transpose().to_excel('./metricas_val_rnn_multi_2014.xlsx', index_label='modelo')"
   ]
  }
 ],
 "metadata": {
  "kernelspec": {
   "display_name": "Python 3",
   "language": "python",
   "name": "python3"
  },
  "language_info": {
   "codemirror_mode": {
    "name": "ipython",
    "version": 3
   },
   "file_extension": ".py",
   "mimetype": "text/x-python",
   "name": "python",
   "nbconvert_exporter": "python",
   "pygments_lexer": "ipython3",
   "version": "3.6.4"
  }
 },
 "nbformat": 4,
 "nbformat_minor": 2
}
