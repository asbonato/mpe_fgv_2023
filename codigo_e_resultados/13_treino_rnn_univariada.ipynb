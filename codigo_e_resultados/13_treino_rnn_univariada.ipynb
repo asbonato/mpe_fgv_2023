{
 "cells": [
  {
   "cell_type": "markdown",
   "metadata": {},
   "source": [
    "# Aplicação de Modelos de Markov e Redes Neurais LSTM na Previsão de Arrecadação do ICMS Paulista\n",
    "## Resultados 2013\n",
    "\n",
    "### Antonio Sergio Ferreira Bonato"
   ]
  },
  {
   "cell_type": "markdown",
   "metadata": {},
   "source": [
    "Atualmente, na Secretaria da Fazenda e Planejamento do Estado de São Paulo, a previsão de arrecadação do ICMS paulista é feita usando-se um modelo ARIMA com variáveis exógenas, o ARIMAX. Mas o ICMS é não linear e há várias quebras estruturais controladas com diversas *dummies*. A consequência é um modelo bastante sobreajustado, inadequado para previsões de mais longo prazo (mais do que alguns meses, muito menos para um ano). \n",
    "A proposta deste trabalho é utilizar modelos não lineares multivariados na previsão do ICMS paulista, utilizando redes neurais recorrentes LSTM (*Long Short Term Memory*) e modelos Markov-Switching, fazendo um contraponto entre estes dois modelos. E utilizar, como baseline de comparação, o modelo ARIMAX atual. \n",
    "\n",
    "**Palavras-chave**: Markov-Switching Models. Redes Neurais Recorrentes. LSTM. ICMS."
   ]
  },
  {
   "cell_type": "markdown",
   "metadata": {},
   "source": [
    "## Treinamento das Redes Neurais - Série Univariada"
   ]
  },
  {
   "cell_type": "code",
   "execution_count": 1,
   "metadata": {},
   "outputs": [],
   "source": [
    "import pandas as pd\n",
    "import numpy as np\n",
    "import seaborn as sns\n",
    "import matplotlib.pyplot as plt\n",
    "import statsmodels.tsa.stattools\n",
    "import statsmodels.tsa.x13\n",
    "import statsmodels.graphics.tsaplots\n",
    "import statsmodels.api as sm\n",
    "from statsmodels.graphics.api import qqplot\n",
    "from statsmodels.tsa.api import acf, graphics, pacf\n",
    "from statsmodels.tsa.arima.model import ARIMA\n",
    "import pickle\n",
    "from pmdarima.arima import auto_arima, nsdiffs, ndiffs\n",
    "from sklearn.metrics import mean_squared_error, mean_absolute_percentage_error\n",
    "import random\n",
    "import tensorflow as tf\n",
    "seed = 42\n",
    "random.seed(seed)\n",
    "np.random.seed(seed)\n",
    "tf.random.set_seed(seed)\n",
    "\n",
    "sns.set()\n",
    "sns.set_context(\"notebook\")\n",
    "sns.set(rc={'figure.figsize':(10,7)})"
   ]
  },
  {
   "cell_type": "code",
   "execution_count": 2,
   "metadata": {},
   "outputs": [],
   "source": [
    "import warnings\n",
    "warnings.filterwarnings('ignore')\n",
    "warnings.simplefilter('ignore')"
   ]
  },
  {
   "cell_type": "code",
   "execution_count": 3,
   "metadata": {},
   "outputs": [],
   "source": [
    "df_main_orig = pd.read_excel(\"variaveis_previsao.xlsx\", parse_dates=['date'])"
   ]
  },
  {
   "cell_type": "markdown",
   "metadata": {},
   "source": [
    "Removendo as últimas linhas que são todas NaN"
   ]
  },
  {
   "cell_type": "code",
   "execution_count": 4,
   "metadata": {},
   "outputs": [],
   "source": [
    "df_main = df_main_orig.iloc[0:132]\n",
    "datas = df_main['date']"
   ]
  },
  {
   "cell_type": "code",
   "execution_count": 5,
   "metadata": {},
   "outputs": [
    {
     "data": {
      "text/html": [
       "<div>\n",
       "<style scoped>\n",
       "    .dataframe tbody tr th:only-of-type {\n",
       "        vertical-align: middle;\n",
       "    }\n",
       "\n",
       "    .dataframe tbody tr th {\n",
       "        vertical-align: top;\n",
       "    }\n",
       "\n",
       "    .dataframe thead th {\n",
       "        text-align: right;\n",
       "    }\n",
       "</style>\n",
       "<table border=\"1\" class=\"dataframe\">\n",
       "  <thead>\n",
       "    <tr style=\"text-align: right;\">\n",
       "      <th></th>\n",
       "      <th>date</th>\n",
       "      <th>icms_sp</th>\n",
       "      <th>igp_m</th>\n",
       "      <th>dolar</th>\n",
       "      <th>ibc_br</th>\n",
       "      <th>dias_uteis</th>\n",
       "      <th>igp_m_22</th>\n",
       "      <th>dolar_22</th>\n",
       "      <th>ibc_br_22</th>\n",
       "      <th>igp_m_21</th>\n",
       "      <th>...</th>\n",
       "      <th>ibc_br_16</th>\n",
       "      <th>igp_m_15</th>\n",
       "      <th>dolar_15</th>\n",
       "      <th>ibc_br_15</th>\n",
       "      <th>igp_m_14</th>\n",
       "      <th>dolar_14</th>\n",
       "      <th>ibc_br_14</th>\n",
       "      <th>igp_m_13</th>\n",
       "      <th>dolar_13</th>\n",
       "      <th>ibc_br_13</th>\n",
       "    </tr>\n",
       "  </thead>\n",
       "  <tbody>\n",
       "    <tr>\n",
       "      <th>127</th>\n",
       "      <td>2013-08-01</td>\n",
       "      <td>9.604407e+09</td>\n",
       "      <td>521.270</td>\n",
       "      <td>2.342191</td>\n",
       "      <td>151.81</td>\n",
       "      <td>22</td>\n",
       "      <td>521.270</td>\n",
       "      <td>2.342191</td>\n",
       "      <td>151.81</td>\n",
       "      <td>521.270</td>\n",
       "      <td>...</td>\n",
       "      <td>151.81</td>\n",
       "      <td>521.270</td>\n",
       "      <td>2.342191</td>\n",
       "      <td>151.81</td>\n",
       "      <td>521.270</td>\n",
       "      <td>2.342191</td>\n",
       "      <td>151.81</td>\n",
       "      <td>527.544908</td>\n",
       "      <td>2.07</td>\n",
       "      <td>152.985410</td>\n",
       "    </tr>\n",
       "    <tr>\n",
       "      <th>128</th>\n",
       "      <td>2013-09-01</td>\n",
       "      <td>1.011536e+10</td>\n",
       "      <td>529.085</td>\n",
       "      <td>2.270510</td>\n",
       "      <td>147.27</td>\n",
       "      <td>21</td>\n",
       "      <td>529.085</td>\n",
       "      <td>2.270510</td>\n",
       "      <td>147.27</td>\n",
       "      <td>529.085</td>\n",
       "      <td>...</td>\n",
       "      <td>147.27</td>\n",
       "      <td>529.085</td>\n",
       "      <td>2.270510</td>\n",
       "      <td>147.27</td>\n",
       "      <td>529.085</td>\n",
       "      <td>2.270510</td>\n",
       "      <td>147.27</td>\n",
       "      <td>530.024369</td>\n",
       "      <td>2.07</td>\n",
       "      <td>148.834167</td>\n",
       "    </tr>\n",
       "    <tr>\n",
       "      <th>129</th>\n",
       "      <td>2013-10-01</td>\n",
       "      <td>1.020979e+10</td>\n",
       "      <td>533.621</td>\n",
       "      <td>2.188648</td>\n",
       "      <td>151.90</td>\n",
       "      <td>23</td>\n",
       "      <td>533.621</td>\n",
       "      <td>2.188648</td>\n",
       "      <td>151.90</td>\n",
       "      <td>533.621</td>\n",
       "      <td>...</td>\n",
       "      <td>151.90</td>\n",
       "      <td>533.621</td>\n",
       "      <td>2.188648</td>\n",
       "      <td>151.90</td>\n",
       "      <td>533.621</td>\n",
       "      <td>2.188648</td>\n",
       "      <td>151.90</td>\n",
       "      <td>532.833498</td>\n",
       "      <td>2.07</td>\n",
       "      <td>151.727873</td>\n",
       "    </tr>\n",
       "    <tr>\n",
       "      <th>130</th>\n",
       "      <td>2013-11-01</td>\n",
       "      <td>9.712795e+09</td>\n",
       "      <td>535.168</td>\n",
       "      <td>2.295350</td>\n",
       "      <td>147.79</td>\n",
       "      <td>20</td>\n",
       "      <td>535.168</td>\n",
       "      <td>2.295350</td>\n",
       "      <td>147.79</td>\n",
       "      <td>535.168</td>\n",
       "      <td>...</td>\n",
       "      <td>147.79</td>\n",
       "      <td>535.168</td>\n",
       "      <td>2.295350</td>\n",
       "      <td>147.79</td>\n",
       "      <td>535.168</td>\n",
       "      <td>2.295350</td>\n",
       "      <td>147.79</td>\n",
       "      <td>535.497666</td>\n",
       "      <td>2.08</td>\n",
       "      <td>149.174166</td>\n",
       "    </tr>\n",
       "    <tr>\n",
       "      <th>131</th>\n",
       "      <td>2013-12-01</td>\n",
       "      <td>1.076762e+10</td>\n",
       "      <td>538.370</td>\n",
       "      <td>2.345486</td>\n",
       "      <td>145.77</td>\n",
       "      <td>21</td>\n",
       "      <td>538.370</td>\n",
       "      <td>2.345486</td>\n",
       "      <td>145.77</td>\n",
       "      <td>538.370</td>\n",
       "      <td>...</td>\n",
       "      <td>145.77</td>\n",
       "      <td>538.370</td>\n",
       "      <td>2.345486</td>\n",
       "      <td>145.77</td>\n",
       "      <td>538.370</td>\n",
       "      <td>2.345486</td>\n",
       "      <td>145.77</td>\n",
       "      <td>537.907405</td>\n",
       "      <td>2.09</td>\n",
       "      <td>145.576261</td>\n",
       "    </tr>\n",
       "  </tbody>\n",
       "</table>\n",
       "<p>5 rows × 36 columns</p>\n",
       "</div>"
      ],
      "text/plain": [
       "          date       icms_sp    igp_m     dolar  ibc_br  dias_uteis  igp_m_22  \\\n",
       "127 2013-08-01  9.604407e+09  521.270  2.342191  151.81          22   521.270   \n",
       "128 2013-09-01  1.011536e+10  529.085  2.270510  147.27          21   529.085   \n",
       "129 2013-10-01  1.020979e+10  533.621  2.188648  151.90          23   533.621   \n",
       "130 2013-11-01  9.712795e+09  535.168  2.295350  147.79          20   535.168   \n",
       "131 2013-12-01  1.076762e+10  538.370  2.345486  145.77          21   538.370   \n",
       "\n",
       "     dolar_22  ibc_br_22  igp_m_21  ...  ibc_br_16  igp_m_15  dolar_15  \\\n",
       "127  2.342191     151.81   521.270  ...     151.81   521.270  2.342191   \n",
       "128  2.270510     147.27   529.085  ...     147.27   529.085  2.270510   \n",
       "129  2.188648     151.90   533.621  ...     151.90   533.621  2.188648   \n",
       "130  2.295350     147.79   535.168  ...     147.79   535.168  2.295350   \n",
       "131  2.345486     145.77   538.370  ...     145.77   538.370  2.345486   \n",
       "\n",
       "     ibc_br_15  igp_m_14  dolar_14  ibc_br_14    igp_m_13  dolar_13  \\\n",
       "127     151.81   521.270  2.342191     151.81  527.544908      2.07   \n",
       "128     147.27   529.085  2.270510     147.27  530.024369      2.07   \n",
       "129     151.90   533.621  2.188648     151.90  532.833498      2.07   \n",
       "130     147.79   535.168  2.295350     147.79  535.497666      2.08   \n",
       "131     145.77   538.370  2.345486     145.77  537.907405      2.09   \n",
       "\n",
       "      ibc_br_13  \n",
       "127  152.985410  \n",
       "128  148.834167  \n",
       "129  151.727873  \n",
       "130  149.174166  \n",
       "131  145.576261  \n",
       "\n",
       "[5 rows x 36 columns]"
      ]
     },
     "execution_count": 5,
     "metadata": {},
     "output_type": "execute_result"
    }
   ],
   "source": [
    "df_main.tail()"
   ]
  },
  {
   "cell_type": "markdown",
   "metadata": {},
   "source": [
    "### Criação das Séries"
   ]
  },
  {
   "cell_type": "code",
   "execution_count": 6,
   "metadata": {},
   "outputs": [],
   "source": [
    "icms_ts = pd.Series(list(df_main['icms_sp']), index = datas)"
   ]
  },
  {
   "cell_type": "markdown",
   "metadata": {},
   "source": [
    "#### Testes de Valores Nulos"
   ]
  },
  {
   "cell_type": "code",
   "execution_count": 7,
   "metadata": {},
   "outputs": [
    {
     "name": "stdout",
     "output_type": "stream",
     "text": [
      "ICMS 0\n"
     ]
    }
   ],
   "source": [
    "print('ICMS', icms_ts.isnull().sum())"
   ]
  },
  {
   "cell_type": "code",
   "execution_count": 8,
   "metadata": {},
   "outputs": [
    {
     "data": {
      "text/plain": [
       "Series([], dtype: float64)"
      ]
     },
     "execution_count": 8,
     "metadata": {},
     "output_type": "execute_result"
    }
   ],
   "source": [
    "# listando os nulos do icms\n",
    "icms_ts[icms_ts.isnull()]"
   ]
  },
  {
   "cell_type": "code",
   "execution_count": 9,
   "metadata": {},
   "outputs": [],
   "source": [
    "# eliminando os nulos do icms\n",
    "icms_ts = icms_ts[~icms_ts.isnull()]"
   ]
  },
  {
   "cell_type": "code",
   "execution_count": 10,
   "metadata": {},
   "outputs": [
    {
     "data": {
      "text/plain": [
       "(132,)"
      ]
     },
     "execution_count": 10,
     "metadata": {},
     "output_type": "execute_result"
    }
   ],
   "source": [
    "icms_ts.shape"
   ]
  },
  {
   "cell_type": "markdown",
   "metadata": {},
   "source": [
    "### Série em Log\n",
    "Como os valores do ICMS são muito elevados a série será colocada em log."
   ]
  },
  {
   "cell_type": "code",
   "execution_count": 11,
   "metadata": {},
   "outputs": [],
   "source": [
    "l_icms_ts = pd.Series(np.log(list(df_main['icms_sp'])), index = datas)"
   ]
  },
  {
   "cell_type": "markdown",
   "metadata": {},
   "source": [
    "## Divisão em treino e teste"
   ]
  },
  {
   "cell_type": "code",
   "execution_count": 12,
   "metadata": {},
   "outputs": [],
   "source": [
    "icms_train = icms_ts[:-24]\n",
    "icms_val = icms_ts[-24:-12]\n",
    "icms_test = icms_ts[-12:]"
   ]
  },
  {
   "cell_type": "code",
   "execution_count": 13,
   "metadata": {},
   "outputs": [
    {
     "name": "stdout",
     "output_type": "stream",
     "text": [
      "##############################\n",
      " date\n",
      "2003-01-01    3.360296e+09\n",
      "2003-02-01    3.196558e+09\n",
      "2003-03-01    3.160011e+09\n",
      "2003-04-01    3.215307e+09\n",
      "2003-05-01    3.098930e+09\n",
      "                  ...     \n",
      "2011-08-01    8.415752e+09\n",
      "2011-09-01    8.771883e+09\n",
      "2011-10-01    8.622926e+09\n",
      "2011-11-01    8.513016e+09\n",
      "2011-12-01    9.499312e+09\n",
      "Length: 108, dtype: float64\n",
      "##############################\n",
      " date\n",
      "2012-01-01    8.415596e+09\n",
      "2012-02-01    7.817540e+09\n",
      "2012-03-01    8.641821e+09\n",
      "2012-04-01    8.978637e+09\n",
      "2012-05-01    8.658720e+09\n",
      "2012-06-01    8.728690e+09\n",
      "2012-07-01    8.646155e+09\n",
      "2012-08-01    9.020437e+09\n",
      "2012-09-01    9.082476e+09\n",
      "2012-10-01    9.544433e+09\n",
      "2012-11-01    9.154402e+09\n",
      "2012-12-01    1.025097e+10\n",
      "dtype: float64\n",
      "##############################\n",
      " date\n",
      "2013-01-01    8.799359e+09\n",
      "2013-02-01    8.690433e+09\n",
      "2013-03-01    8.698445e+09\n",
      "2013-04-01    9.446984e+09\n",
      "2013-05-01    9.497989e+09\n",
      "2013-06-01    9.133477e+09\n",
      "2013-07-01    9.657129e+09\n",
      "2013-08-01    9.604407e+09\n",
      "2013-09-01    1.011536e+10\n",
      "2013-10-01    1.020979e+10\n",
      "2013-11-01    9.712795e+09\n",
      "2013-12-01    1.076762e+10\n",
      "dtype: float64\n"
     ]
    }
   ],
   "source": [
    "print('#'*30+'\\n',icms_train)\n",
    "print('#'*30+'\\n',icms_val)\n",
    "print('#'*30+'\\n',icms_test)"
   ]
  },
  {
   "cell_type": "markdown",
   "metadata": {},
   "source": [
    "## Utilidades para Previsões"
   ]
  },
  {
   "cell_type": "markdown",
   "metadata": {},
   "source": [
    "Além de MAPE e MSE, será usado o erro relativo, que é \n",
    "\n",
    "$Erro Relativo = \\frac{|previsão - real|}{real}$"
   ]
  },
  {
   "cell_type": "code",
   "execution_count": 14,
   "metadata": {},
   "outputs": [],
   "source": [
    "def erro_relativo(prev, real):\n",
    "    return 100*np.absolute(prev-real)/real"
   ]
  },
  {
   "cell_type": "markdown",
   "metadata": {},
   "source": [
    "#### Dicionário de Previsões\n",
    "Será usado para armazenar todas as previsões."
   ]
  },
  {
   "cell_type": "code",
   "execution_count": 15,
   "metadata": {},
   "outputs": [],
   "source": [
    "previsoes = {\n",
    "    'nome':[],\n",
    "    'modelo': [],\n",
    "    'previsoes': [],\n",
    "    'rmse': [],\n",
    "    'mape': [],\n",
    "    'erro relativo':[]\n",
    "}"
   ]
  },
  {
   "cell_type": "markdown",
   "metadata": {},
   "source": [
    "## Modelos RNN LSTM\n",
    "Redes Neurais Recorrentes com neurônios Long Short-Term Memory"
   ]
  },
  {
   "cell_type": "markdown",
   "metadata": {},
   "source": [
    "### Montagem da Série\n",
    "As redes neurais precisam de conjuntos de características e de etiquetas separados. Neste caso, o conjunto de etiquetas é a própria série de ICMS. Para os conjunto de caraterísticas será utilizada a série do ICMS com lags 1, 2, 3, 4, 6 e 12 defasagens, e médias móveis de 2, 3, 6 e 12 meses, conforme trabalho de [Silva & Figueiredo, 2020]."
   ]
  },
  {
   "cell_type": "code",
   "execution_count": 16,
   "metadata": {},
   "outputs": [],
   "source": [
    "def cria_features_target(serie, verbose=0):\n",
    "    serie_d1 = serie.shift(1)\n",
    "    serie_d2 = serie.shift(2)\n",
    "    serie_d3 = serie.shift(3)\n",
    "    serie_d4 = serie.shift(4)\n",
    "    serie_d6 = serie.shift(6)\n",
    "    serie_d12 = serie.shift(12)\n",
    "    serie_ma2 = serie.rolling(2).mean()\n",
    "    serie_ma3 = serie.rolling(3).mean()\n",
    "    serie_ma6 = serie.rolling(6).mean()\n",
    "    serie_ma12 = serie.rolling(12).mean()\n",
    "\n",
    "    if verbose==1:\n",
    "        print(\"shape de cada uma das séries:\")\n",
    "        print(serie_d1.shape, serie_d2.shape, serie_d3.shape, serie_d4.shape, \n",
    "              serie_d6.shape, serie_d12.shape, serie_ma2.shape, serie_ma3.shape, \n",
    "              serie_ma6.shape, serie_ma12.shape)\n",
    "    X = np.array([serie_d1, serie_d2, serie_d3, serie_d4, \n",
    "     serie_d6, serie_d12, serie_ma2, serie_ma3, \n",
    "     serie_ma6, serie_ma12])\n",
    "    if verbose==1:\n",
    "        print(\"shape do array de features:\", X.shape)\n",
    "    X = X[:,12:]\n",
    "    X = X.T\n",
    "    if verbose==1:\n",
    "        print(\"shape do array de features depois da poda e da transposição:\", X.shape)\n",
    "    Y = np.array(serie[12:])\n",
    "    if verbose==1:\n",
    "        print(\"shape do array target:\", Y.shape)\n",
    "    return X, Y"
   ]
  },
  {
   "cell_type": "code",
   "execution_count": 17,
   "metadata": {},
   "outputs": [
    {
     "name": "stdout",
     "output_type": "stream",
     "text": [
      "shape de cada uma das séries:\n",
      "(132,) (132,) (132,) (132,) (132,) (132,) (132,) (132,) (132,) (132,)\n",
      "shape do array de features: (10, 132)\n",
      "shape do array de features depois da poda e da transposição: (120, 10)\n",
      "shape do array target: (120,)\n"
     ]
    }
   ],
   "source": [
    "#série completa, com sazonalidade e em nível\n",
    "#seas_icms_ts = seas_icms.seasadj\n",
    "X_data, Y_data = cria_features_target(l_icms_ts, verbose=1)"
   ]
  },
  {
   "cell_type": "code",
   "execution_count": 18,
   "metadata": {},
   "outputs": [],
   "source": [
    "#print(X_data[0])\n",
    "#print(Y_data[0])\n",
    "#print(X_data[X_data.shape[0]-1])\n",
    "#print(Y_data[X_data.shape[0]-1])"
   ]
  },
  {
   "cell_type": "markdown",
   "metadata": {},
   "source": [
    "#### Normalização dos Dados\n",
    "Serão normalizados usando-se min-max. Apenas as features, a variável target não será normalizada. Os dados serão dividos em treno, validação e teste para a normalização, de modo que o fit seja feito somente nos dados de treino, aumentando-se assim a probabilidade de generalização do modelo."
   ]
  },
  {
   "cell_type": "code",
   "execution_count": 19,
   "metadata": {},
   "outputs": [
    {
     "name": "stdout",
     "output_type": "stream",
     "text": [
      "(96, 10) (12, 10) (12, 10)\n"
     ]
    }
   ],
   "source": [
    "X_train = X_data[:-24]\n",
    "X_val = X_data[-24:-12]\n",
    "X_test = X_data[-12:]\n",
    "print(X_train.shape, X_val.shape, X_test.shape)\n",
    "#Y_train = Y_data[:-24]\n",
    "#Y_val = Y_data[-24:-12]\n",
    "#Y_test = Y_data[-12:]\n",
    "#print(Y_train.shape, Y_val.shape, Y_test.shape)"
   ]
  },
  {
   "cell_type": "code",
   "execution_count": 20,
   "metadata": {},
   "outputs": [
    {
     "name": "stdout",
     "output_type": "stream",
     "text": [
      "numéricas [0, 1, 2, 3, 4, 5, 6, 7, 8, 9]\n",
      "ColumnTransformer(transformers=[('min-max', MinMaxScaler(),\n",
      "                                 [0, 1, 2, 3, 4, 5, 6, 7, 8, 9])],\n",
      "                  verbose=True)\n",
      "[ColumnTransformer] ....... (1 of 1) Processing min-max, total=   0.0s\n",
      "(96, 10)\n",
      "(12, 10)\n",
      "(12, 10)\n"
     ]
    }
   ],
   "source": [
    "from sklearn.preprocessing import MinMaxScaler\n",
    "from sklearn.compose import ColumnTransformer\n",
    "# índice dos atributos numéricos\n",
    "num_atrib = list(range(10))\n",
    "print('numéricas', num_atrib)\n",
    "\n",
    "enc_x = ColumnTransformer([('min-max',MinMaxScaler(), num_atrib)], verbose=True)\n",
    "\n",
    "print(enc_x)\n",
    "X_train_std = enc_x.fit_transform(X_train)\n",
    "X_val_std = enc_x.transform(X_val)\n",
    "X_test_std = enc_x.transform(X_test)\n",
    "\n",
    "print(X_train_std.shape)\n",
    "print(X_val_std.shape)\n",
    "print(X_test_std.shape)\n",
    "\n",
    "#enc_y = MinMaxScaler()\n",
    "\n",
    "#print(enc_y)\n",
    "#Y_train_std = enc_y.fit_transform(Y_train.reshape(Y_train.shape[0], 1))\n",
    "#Y_val_std = enc_y.transform(Y_val.reshape(12,1))\n",
    "#Y_test_std = enc_y.transform(Y_test.reshape(12,1))\n",
    "\n",
    "#print(Y_train_std.shape)\n",
    "#print(Y_val_std.shape)\n",
    "#print(Y_test_std.shape)"
   ]
  },
  {
   "cell_type": "markdown",
   "metadata": {},
   "source": [
    "# Modelo 1 mês\n",
    "Neste modelo cada mês será previsto pelos dados do mês anterior"
   ]
  },
  {
   "cell_type": "markdown",
   "metadata": {},
   "source": [
    "#### Criando as janelas de 12 meses e reshape para LSTM. A arrecadação de cada mês será prevista pela arrecadação dos 12 meses anteriores."
   ]
  },
  {
   "cell_type": "code",
   "execution_count": 21,
   "metadata": {},
   "outputs": [
    {
     "name": "stdout",
     "output_type": "stream",
     "text": [
      "(120, 10, 1)\n"
     ]
    }
   ],
   "source": [
    "X_data_jn = np.concatenate((X_train_std, X_val_std, X_test_std), axis = 0)\n",
    "X_data_jn = X_data_jn.reshape(X_data_jn.shape[0],10,1)\n",
    "print(X_data_jn.shape)"
   ]
  },
  {
   "cell_type": "code",
   "execution_count": 22,
   "metadata": {},
   "outputs": [],
   "source": [
    "def janelamento_1_mes(X, Y, verbose=0):\n",
    "    X_exp = np.roll(X, 1, axis=0)\n",
    "    X_exp_cut = X_exp[1:,:,:]#.transpose(0,2,1)\n",
    "    Y_cut = Y[1:]\n",
    "    if verbose==1:\n",
    "        print('shape das features janeladas:', X_exp.shape)\n",
    "        print('shape das features janeladas pós poda e transposição:', X_exp_cut.shape)\n",
    "        print('shape do array target pós poda:', Y_cut.shape)\n",
    "    return X_exp_cut, Y_cut"
   ]
  },
  {
   "cell_type": "code",
   "execution_count": 23,
   "metadata": {},
   "outputs": [],
   "source": [
    "X_data_exp_cut1, Y_data_cut1 = janelamento_1_mes(X_data_jn, Y_data, verbose=0)"
   ]
  },
  {
   "cell_type": "code",
   "execution_count": 24,
   "metadata": {},
   "outputs": [
    {
     "data": {
      "text/plain": [
       "((119, 10, 1), (119,))"
      ]
     },
     "execution_count": 24,
     "metadata": {},
     "output_type": "execute_result"
    }
   ],
   "source": [
    "X_data_exp_cut1.shape, Y_data_cut1.shape"
   ]
  },
  {
   "cell_type": "code",
   "execution_count": 25,
   "metadata": {},
   "outputs": [
    {
     "data": {
      "text/plain": [
       "array([[0.20326766],\n",
       "       [0.06648473],\n",
       "       [0.04849   ],\n",
       "       [0.02421466],\n",
       "       [0.01160568],\n",
       "       [0.07887991],\n",
       "       [0.11750453],\n",
       "       [0.07216352],\n",
       "       [0.        ],\n",
       "       [0.        ]])"
      ]
     },
     "execution_count": 25,
     "metadata": {},
     "output_type": "execute_result"
    }
   ],
   "source": [
    "X_data_exp_cut1[0]"
   ]
  },
  {
   "cell_type": "code",
   "execution_count": 26,
   "metadata": {},
   "outputs": [
    {
     "data": {
      "text/plain": [
       "21.905893928886627"
      ]
     },
     "execution_count": 26,
     "metadata": {},
     "output_type": "execute_result"
    }
   ],
   "source": [
    "Y_data_cut1[0]"
   ]
  },
  {
   "cell_type": "code",
   "execution_count": 27,
   "metadata": {},
   "outputs": [
    {
     "data": {
      "text/plain": [
       "23.099809289365254"
      ]
     },
     "execution_count": 27,
     "metadata": {},
     "output_type": "execute_result"
    }
   ],
   "source": [
    "Y_data_cut1[Y_data_cut1.shape[0]-1]"
   ]
  },
  {
   "cell_type": "code",
   "execution_count": 28,
   "metadata": {},
   "outputs": [
    {
     "data": {
      "text/plain": [
       "array([[1.1534955 ],\n",
       "       [1.14409962],\n",
       "       [1.09168609],\n",
       "       [1.11294607],\n",
       "       [1.09284204],\n",
       "       [1.05519162],\n",
       "       [1.10373979],\n",
       "       [1.12773101],\n",
       "       [1.1298947 ],\n",
       "       [1.14231227]])"
      ]
     },
     "execution_count": 28,
     "metadata": {},
     "output_type": "execute_result"
    }
   ],
   "source": [
    "X_data_exp_cut1[Y_data_cut1.shape[0]-1]"
   ]
  },
  {
   "cell_type": "markdown",
   "metadata": {},
   "source": [
    "#### Separando novamente em treino, validação e teste"
   ]
  },
  {
   "cell_type": "code",
   "execution_count": 29,
   "metadata": {},
   "outputs": [
    {
     "name": "stdout",
     "output_type": "stream",
     "text": [
      "(95, 10, 1) (12, 10, 1) (12, 10, 1)\n",
      "(95,) (12,) (12,)\n"
     ]
    }
   ],
   "source": [
    "x_train1 = X_data_exp_cut1[:-24]\n",
    "x_val1 = X_data_exp_cut1[-24:-12]\n",
    "x_test1 = X_data_exp_cut1[-12:]\n",
    "print(x_train1.shape, x_val1.shape, x_test1.shape)\n",
    "y_train1 = Y_data_cut1[:-24]\n",
    "y_val1 = Y_data_cut1[-24:-12]\n",
    "y_test1 = Y_data_cut1[-12:]\n",
    "print(y_train1.shape, y_val1.shape, y_test1.shape)"
   ]
  },
  {
   "cell_type": "markdown",
   "metadata": {},
   "source": [
    "### Criando o modelo LSTM "
   ]
  },
  {
   "cell_type": "code",
   "execution_count": 30,
   "metadata": {},
   "outputs": [],
   "source": [
    "# importando as bibliotecas do Keras\n",
    "from tensorflow.keras.models import Sequential\n",
    "from tensorflow.keras.layers import LSTM, Dense, Dropout\n",
    "from tensorflow.keras.callbacks import ReduceLROnPlateau, EarlyStopping\n",
    "from tensorflow.keras.optimizers import Adam"
   ]
  },
  {
   "cell_type": "markdown",
   "metadata": {},
   "source": [
    "## Arquitetura da Rede - Arquitetura Larga"
   ]
  },
  {
   "cell_type": "code",
   "execution_count": 31,
   "metadata": {},
   "outputs": [],
   "source": [
    "rlrop1 = ReduceLROnPlateau(monitor='val_loss', factor=0.1, patience=10, verbose=1)\n",
    "early_stop1 = EarlyStopping(monitor='val_loss', patience=100, verbose=1, \n",
    "                           restore_best_weights=True)"
   ]
  },
  {
   "cell_type": "code",
   "execution_count": 32,
   "metadata": {},
   "outputs": [],
   "source": [
    "# Épocas e tamanho do lote\n",
    "EPOCHS = 1000\n",
    "BATCH = 4\n",
    "NEURONIOS = 1200\n",
    "LR = 1e-5\n",
    "DROPOUT = 0.2\n",
    "\n",
    "# Imstanciação do modelo\n",
    "model = Sequential()\n",
    "\n",
    "# Adicionar camada LSTM \n",
    "model.add(LSTM(activation='tanh', dropout=DROPOUT,\n",
    "        input_shape = (10, 1), return_sequences = False,\n",
    "        units = NEURONIOS))\n",
    "\n",
    "# Adicionar a camada de saída com 1 neurônio linear\n",
    "model.add(Dense(\n",
    "        units = 1,\n",
    "        activation = 'linear'))\n",
    "# a learning rate padrão do Adam é 0.001\n",
    "model.compile(loss = 'mape', optimizer = Adam(learning_rate=LR))"
   ]
  },
  {
   "cell_type": "code",
   "execution_count": 33,
   "metadata": {},
   "outputs": [
    {
     "name": "stdout",
     "output_type": "stream",
     "text": [
      "Model: \"sequential\"\n",
      "_________________________________________________________________\n",
      "Layer (type)                 Output Shape              Param #   \n",
      "=================================================================\n",
      "lstm (LSTM)                  (None, 1200)              5769600   \n",
      "_________________________________________________________________\n",
      "dense (Dense)                (None, 1)                 1201      \n",
      "=================================================================\n",
      "Total params: 5,770,801\n",
      "Trainable params: 5,770,801\n",
      "Non-trainable params: 0\n",
      "_________________________________________________________________\n"
     ]
    }
   ],
   "source": [
    "model.summary()"
   ]
  },
  {
   "cell_type": "code",
   "execution_count": 34,
   "metadata": {
    "scrolled": true
   },
   "outputs": [
    {
     "name": "stdout",
     "output_type": "stream",
     "text": [
      "Epoch 1/1000\n",
      "24/24 [==============================] - 3s 126ms/step - loss: 99.9244 - val_loss: 99.4695\n",
      "Epoch 2/1000\n",
      "24/24 [==============================] - 3s 115ms/step - loss: 99.5121 - val_loss: 98.6234\n",
      "Epoch 3/1000\n",
      "24/24 [==============================] - 3s 107ms/step - loss: 98.9743 - val_loss: 97.4540\n",
      "Epoch 4/1000\n",
      "24/24 [==============================] - 3s 110ms/step - loss: 98.2021 - val_loss: 95.4440\n",
      "Epoch 5/1000\n",
      "24/24 [==============================] - 3s 109ms/step - loss: 96.7374 - val_loss: 91.1354\n",
      "Epoch 6/1000\n",
      "24/24 [==============================] - 3s 106ms/step - loss: 93.0323 - val_loss: 78.7711\n",
      "Epoch 7/1000\n",
      "24/24 [==============================] - 3s 110ms/step - loss: 80.9820 - val_loss: 34.8673\n",
      "Epoch 8/1000\n",
      "24/24 [==============================] - 3s 118ms/step - loss: 44.8263 - val_loss: 19.0747\n",
      "Epoch 9/1000\n",
      "24/24 [==============================] - 3s 113ms/step - loss: 22.4910 - val_loss: 20.5338\n",
      "Epoch 10/1000\n",
      "24/24 [==============================] - 3s 121ms/step - loss: 14.1291 - val_loss: 8.2300\n",
      "Epoch 11/1000\n",
      "24/24 [==============================] - 3s 124ms/step - loss: 7.1772 - val_loss: 2.5014\n",
      "Epoch 12/1000\n",
      "24/24 [==============================] - 3s 140ms/step - loss: 4.1624 - val_loss: 0.2772\n",
      "Epoch 13/1000\n",
      "24/24 [==============================] - 3s 135ms/step - loss: 2.1808 - val_loss: 0.4779\n",
      "Epoch 14/1000\n",
      "24/24 [==============================] - 3s 118ms/step - loss: 1.8745 - val_loss: 0.5735\n",
      "Epoch 15/1000\n",
      "24/24 [==============================] - 3s 119ms/step - loss: 1.2921 - val_loss: 0.9646\n",
      "Epoch 16/1000\n",
      "24/24 [==============================] - 3s 113ms/step - loss: 1.3227 - val_loss: 0.9683\n",
      "Epoch 17/1000\n",
      "24/24 [==============================] - 3s 114ms/step - loss: 1.4096 - val_loss: 1.0822\n",
      "Epoch 18/1000\n",
      "24/24 [==============================] - 3s 112ms/step - loss: 1.0737 - val_loss: 1.2326\n",
      "Epoch 19/1000\n",
      "24/24 [==============================] - 3s 109ms/step - loss: 1.1821 - val_loss: 1.2372\n",
      "Epoch 20/1000\n",
      "24/24 [==============================] - 3s 112ms/step - loss: 1.1836 - val_loss: 1.0762\n",
      "Epoch 21/1000\n",
      "24/24 [==============================] - 3s 111ms/step - loss: 1.0836 - val_loss: 1.6860\n",
      "Epoch 22/1000\n",
      "24/24 [==============================] - ETA: 0s - loss: 0.9199\n",
      "Epoch 00022: ReduceLROnPlateau reducing learning rate to 9.999999747378752e-07.\n",
      "24/24 [==============================] - 3s 113ms/step - loss: 0.9199 - val_loss: 1.7437\n",
      "Epoch 23/1000\n",
      "24/24 [==============================] - 3s 109ms/step - loss: 1.0419 - val_loss: 1.4995\n",
      "Epoch 24/1000\n",
      "24/24 [==============================] - 3s 111ms/step - loss: 0.8900 - val_loss: 1.3690\n",
      "Epoch 25/1000\n",
      "24/24 [==============================] - 3s 110ms/step - loss: 0.9582 - val_loss: 1.2954\n",
      "Epoch 26/1000\n",
      "24/24 [==============================] - 3s 113ms/step - loss: 0.8427 - val_loss: 1.3846\n",
      "Epoch 27/1000\n",
      "24/24 [==============================] - 3s 109ms/step - loss: 0.9666 - val_loss: 1.4076\n",
      "Epoch 28/1000\n",
      "24/24 [==============================] - 3s 110ms/step - loss: 0.8029 - val_loss: 1.3474\n",
      "Epoch 29/1000\n",
      "24/24 [==============================] - 3s 112ms/step - loss: 0.9270 - val_loss: 1.4167\n",
      "Epoch 30/1000\n",
      "24/24 [==============================] - 3s 111ms/step - loss: 1.1105 - val_loss: 1.4507\n",
      "Epoch 31/1000\n",
      "24/24 [==============================] - 3s 105ms/step - loss: 0.8307 - val_loss: 1.4836\n",
      "Epoch 32/1000\n",
      "24/24 [==============================] - ETA: 0s - loss: 0.8979\n",
      "Epoch 00032: ReduceLROnPlateau reducing learning rate to 9.999999974752428e-08.\n",
      "24/24 [==============================] - 3s 108ms/step - loss: 0.8979 - val_loss: 1.4318\n",
      "Epoch 33/1000\n",
      "24/24 [==============================] - 3s 107ms/step - loss: 0.8948 - val_loss: 1.4116\n",
      "Epoch 34/1000\n",
      "24/24 [==============================] - 3s 104ms/step - loss: 0.8877 - val_loss: 1.4140\n",
      "Epoch 35/1000\n",
      "24/24 [==============================] - 3s 107ms/step - loss: 0.9068 - val_loss: 1.4091\n",
      "Epoch 36/1000\n",
      "24/24 [==============================] - 3s 108ms/step - loss: 0.8674 - val_loss: 1.4114\n",
      "Epoch 37/1000\n",
      "24/24 [==============================] - 3s 107ms/step - loss: 0.9109 - val_loss: 1.4059\n",
      "Epoch 38/1000\n",
      "24/24 [==============================] - 3s 110ms/step - loss: 0.9237 - val_loss: 1.3931\n",
      "Epoch 39/1000\n",
      "24/24 [==============================] - 3s 108ms/step - loss: 0.8765 - val_loss: 1.3875\n",
      "Epoch 40/1000\n",
      "24/24 [==============================] - 3s 107ms/step - loss: 0.8938 - val_loss: 1.3842\n",
      "Epoch 41/1000\n",
      "24/24 [==============================] - 3s 110ms/step - loss: 0.9194 - val_loss: 1.3798\n",
      "Epoch 42/1000\n",
      "24/24 [==============================] - ETA: 0s - loss: 0.8229\n",
      "Epoch 00042: ReduceLROnPlateau reducing learning rate to 1.0000000116860975e-08.\n",
      "24/24 [==============================] - 3s 110ms/step - loss: 0.8229 - val_loss: 1.3770\n",
      "Epoch 43/1000\n",
      "24/24 [==============================] - 3s 110ms/step - loss: 0.9735 - val_loss: 1.3779\n",
      "Epoch 44/1000\n",
      "24/24 [==============================] - 3s 114ms/step - loss: 0.9552 - val_loss: 1.3786\n",
      "Epoch 45/1000\n",
      "24/24 [==============================] - 3s 110ms/step - loss: 0.8318 - val_loss: 1.3783\n",
      "Epoch 46/1000\n",
      "24/24 [==============================] - 3s 110ms/step - loss: 0.8668 - val_loss: 1.3795\n",
      "Epoch 47/1000\n",
      "24/24 [==============================] - 3s 114ms/step - loss: 1.0589 - val_loss: 1.3794\n",
      "Epoch 48/1000\n",
      "24/24 [==============================] - 3s 110ms/step - loss: 0.8953 - val_loss: 1.3787\n",
      "Epoch 49/1000\n",
      "24/24 [==============================] - 3s 109ms/step - loss: 0.9412 - val_loss: 1.3789\n",
      "Epoch 50/1000\n",
      "24/24 [==============================] - 3s 113ms/step - loss: 0.9017 - val_loss: 1.3781\n",
      "Epoch 51/1000\n",
      "24/24 [==============================] - 3s 114ms/step - loss: 0.9122 - val_loss: 1.3769\n",
      "Epoch 52/1000\n",
      "24/24 [==============================] - ETA: 0s - loss: 0.9906\n",
      "Epoch 00052: ReduceLROnPlateau reducing learning rate to 9.999999939225292e-10.\n",
      "24/24 [==============================] - 3s 112ms/step - loss: 0.9906 - val_loss: 1.3784\n",
      "Epoch 53/1000\n",
      "24/24 [==============================] - 3s 111ms/step - loss: 0.9245 - val_loss: 1.3783\n",
      "Epoch 54/1000\n",
      "24/24 [==============================] - 3s 113ms/step - loss: 0.8861 - val_loss: 1.3784\n",
      "Epoch 55/1000\n",
      "24/24 [==============================] - 3s 114ms/step - loss: 0.9342 - val_loss: 1.3784\n",
      "Epoch 56/1000\n",
      "24/24 [==============================] - 3s 113ms/step - loss: 0.9749 - val_loss: 1.3784\n",
      "Epoch 57/1000\n",
      "24/24 [==============================] - 3s 114ms/step - loss: 0.9135 - val_loss: 1.3784\n",
      "Epoch 58/1000\n",
      "24/24 [==============================] - 3s 114ms/step - loss: 0.9172 - val_loss: 1.3784\n",
      "Epoch 59/1000\n",
      "24/24 [==============================] - 3s 115ms/step - loss: 0.9378 - val_loss: 1.3784\n",
      "Epoch 60/1000\n",
      "24/24 [==============================] - 3s 115ms/step - loss: 0.9384 - val_loss: 1.3784\n",
      "Epoch 61/1000\n",
      "24/24 [==============================] - 3s 118ms/step - loss: 0.9416 - val_loss: 1.3784\n",
      "Epoch 62/1000\n",
      "24/24 [==============================] - ETA: 0s - loss: 0.9319\n",
      "Epoch 00062: ReduceLROnPlateau reducing learning rate to 9.999999717180686e-11.\n",
      "24/24 [==============================] - 3s 118ms/step - loss: 0.9319 - val_loss: 1.3784\n",
      "Epoch 63/1000\n",
      "24/24 [==============================] - 3s 116ms/step - loss: 0.9610 - val_loss: 1.3784\n",
      "Epoch 64/1000\n",
      "24/24 [==============================] - 3s 115ms/step - loss: 0.9652 - val_loss: 1.3784\n",
      "Epoch 65/1000\n",
      "24/24 [==============================] - 3s 117ms/step - loss: 0.9848 - val_loss: 1.3784\n",
      "Epoch 66/1000\n",
      "24/24 [==============================] - 3s 117ms/step - loss: 0.8959 - val_loss: 1.3784\n",
      "Epoch 67/1000\n",
      "24/24 [==============================] - 3s 114ms/step - loss: 0.8700 - val_loss: 1.3784\n",
      "Epoch 68/1000\n",
      "24/24 [==============================] - 3s 114ms/step - loss: 0.9156 - val_loss: 1.3784\n",
      "Epoch 69/1000\n",
      "24/24 [==============================] - 3s 118ms/step - loss: 0.8984 - val_loss: 1.3784\n",
      "Epoch 70/1000\n",
      "24/24 [==============================] - 3s 110ms/step - loss: 0.9580 - val_loss: 1.3784\n",
      "Epoch 71/1000\n",
      "24/24 [==============================] - 3s 119ms/step - loss: 0.9085 - val_loss: 1.3784\n",
      "Epoch 72/1000\n",
      "24/24 [==============================] - ETA: 0s - loss: 0.9514\n",
      "Epoch 00072: ReduceLROnPlateau reducing learning rate to 9.99999943962493e-12.\n",
      "24/24 [==============================] - 3s 116ms/step - loss: 0.9514 - val_loss: 1.3784\n"
     ]
    },
    {
     "name": "stdout",
     "output_type": "stream",
     "text": [
      "Epoch 73/1000\n",
      "24/24 [==============================] - 3s 113ms/step - loss: 0.8876 - val_loss: 1.3784\n",
      "Epoch 74/1000\n",
      "24/24 [==============================] - 3s 115ms/step - loss: 0.8835 - val_loss: 1.3784\n",
      "Epoch 75/1000\n",
      "24/24 [==============================] - 3s 113ms/step - loss: 0.8696 - val_loss: 1.3784\n",
      "Epoch 76/1000\n",
      "24/24 [==============================] - 3s 116ms/step - loss: 0.9601 - val_loss: 1.3784\n",
      "Epoch 77/1000\n",
      "24/24 [==============================] - 3s 118ms/step - loss: 0.9190 - val_loss: 1.3784\n",
      "Epoch 78/1000\n",
      "24/24 [==============================] - 3s 110ms/step - loss: 0.9718 - val_loss: 1.3784\n",
      "Epoch 79/1000\n",
      "24/24 [==============================] - 3s 114ms/step - loss: 0.9431 - val_loss: 1.3784\n",
      "Epoch 80/1000\n",
      "24/24 [==============================] - 3s 112ms/step - loss: 0.9591 - val_loss: 1.3784\n",
      "Epoch 81/1000\n",
      "24/24 [==============================] - 3s 112ms/step - loss: 0.8700 - val_loss: 1.3784\n",
      "Epoch 82/1000\n",
      "24/24 [==============================] - ETA: 0s - loss: 0.9134\n",
      "Epoch 00082: ReduceLROnPlateau reducing learning rate to 9.999999092680235e-13.\n",
      "24/24 [==============================] - 3s 126ms/step - loss: 0.9134 - val_loss: 1.3784\n",
      "Epoch 83/1000\n",
      "24/24 [==============================] - 3s 121ms/step - loss: 0.8497 - val_loss: 1.3784\n",
      "Epoch 84/1000\n",
      "24/24 [==============================] - 3s 122ms/step - loss: 0.9764 - val_loss: 1.3784\n",
      "Epoch 85/1000\n",
      "24/24 [==============================] - 3s 118ms/step - loss: 0.8821 - val_loss: 1.3784\n",
      "Epoch 86/1000\n",
      "24/24 [==============================] - 3s 124ms/step - loss: 0.9367 - val_loss: 1.3784\n",
      "Epoch 87/1000\n",
      "24/24 [==============================] - 3s 128ms/step - loss: 0.8632 - val_loss: 1.3784\n",
      "Epoch 88/1000\n",
      "24/24 [==============================] - 3s 136ms/step - loss: 1.0558 - val_loss: 1.3784\n",
      "Epoch 89/1000\n",
      "24/24 [==============================] - 3s 136ms/step - loss: 0.8569 - val_loss: 1.3784\n",
      "Epoch 90/1000\n",
      "24/24 [==============================] - 3s 132ms/step - loss: 0.9216 - val_loss: 1.3784\n",
      "Epoch 91/1000\n",
      "24/24 [==============================] - 3s 141ms/step - loss: 0.9572 - val_loss: 1.3784\n",
      "Epoch 92/1000\n",
      "24/24 [==============================] - ETA: 0s - loss: 0.8641\n",
      "Epoch 00092: ReduceLROnPlateau reducing learning rate to 9.9999988758398e-14.\n",
      "24/24 [==============================] - 3s 132ms/step - loss: 0.8641 - val_loss: 1.3784\n",
      "Epoch 93/1000\n",
      "24/24 [==============================] - 3s 133ms/step - loss: 0.9035 - val_loss: 1.3784\n",
      "Epoch 94/1000\n",
      "24/24 [==============================] - 3s 129ms/step - loss: 0.8072 - val_loss: 1.3784\n",
      "Epoch 95/1000\n",
      "24/24 [==============================] - 4s 177ms/step - loss: 0.9656 - val_loss: 1.3784\n",
      "Epoch 96/1000\n",
      "24/24 [==============================] - 4s 154ms/step - loss: 0.8788 - val_loss: 1.3784\n",
      "Epoch 97/1000\n",
      "24/24 [==============================] - 5s 209ms/step - loss: 0.9043 - val_loss: 1.3784\n",
      "Epoch 98/1000\n",
      "24/24 [==============================] - 5s 211ms/step - loss: 1.0280 - val_loss: 1.3784\n",
      "Epoch 99/1000\n",
      "24/24 [==============================] - 5s 209ms/step - loss: 0.9240 - val_loss: 1.3784\n",
      "Epoch 100/1000\n",
      "24/24 [==============================] - 5s 216ms/step - loss: 0.9858 - val_loss: 1.3784\n",
      "Epoch 101/1000\n",
      "24/24 [==============================] - 5s 213ms/step - loss: 0.8254 - val_loss: 1.3784\n",
      "Epoch 102/1000\n",
      "24/24 [==============================] - ETA: 0s - loss: 0.8152\n",
      "Epoch 00102: ReduceLROnPlateau reducing learning rate to 9.999999146890344e-15.\n",
      "24/24 [==============================] - 5s 212ms/step - loss: 0.8152 - val_loss: 1.3784\n",
      "Epoch 103/1000\n",
      "24/24 [==============================] - 5s 219ms/step - loss: 0.8420 - val_loss: 1.3784\n",
      "Epoch 104/1000\n",
      "24/24 [==============================] - 5s 218ms/step - loss: 0.8864 - val_loss: 1.3784\n",
      "Epoch 105/1000\n",
      "24/24 [==============================] - 5s 210ms/step - loss: 0.8992 - val_loss: 1.3784\n",
      "Epoch 106/1000\n",
      "24/24 [==============================] - 5s 216ms/step - loss: 0.8676 - val_loss: 1.3784\n",
      "Epoch 107/1000\n",
      "24/24 [==============================] - 5s 209ms/step - loss: 0.8543 - val_loss: 1.3784\n",
      "Epoch 108/1000\n",
      "24/24 [==============================] - 5s 218ms/step - loss: 0.8760 - val_loss: 1.3784\n",
      "Epoch 109/1000\n",
      "24/24 [==============================] - 5s 212ms/step - loss: 0.9110 - val_loss: 1.3784\n",
      "Epoch 110/1000\n",
      "24/24 [==============================] - 5s 216ms/step - loss: 0.8248 - val_loss: 1.3784\n",
      "Epoch 111/1000\n",
      "24/24 [==============================] - 5s 210ms/step - loss: 0.7960 - val_loss: 1.3784\n",
      "Epoch 112/1000\n",
      "24/24 [==============================] - ETA: 0s - loss: 0.9944\n",
      "Epoch 00112: ReduceLROnPlateau reducing learning rate to 9.999998977483753e-16.\n",
      "Restoring model weights from the end of the best epoch.\n",
      "24/24 [==============================] - 5s 212ms/step - loss: 0.9944 - val_loss: 1.3784\n",
      "Epoch 00112: early stopping\n"
     ]
    }
   ],
   "source": [
    "# History object for plotting our model loss by epoch\n",
    "history1 = model.fit(x_train1, y_train1, batch_size = BATCH, \n",
    "                    epochs = EPOCHS, validation_data = (x_val1, y_val1),\n",
    "                    callbacks = [rlrop1, early_stop1])"
   ]
  },
  {
   "cell_type": "code",
   "execution_count": 35,
   "metadata": {},
   "outputs": [
    {
     "data": {
      "image/png": "[encoded data removed]",
      "text/plain": [
       "<Figure size 720x504 with 1 Axes>"
      ]
     },
     "metadata": {
      "needs_background": "light"
     },
     "output_type": "display_data"
    }
   ],
   "source": [
    "# Loss History\n",
    "fig = plt.figure(figsize=(10, 7))\n",
    "plt.plot(history1.history['loss'])\n",
    "plt.plot(history1.history['val_loss'])\n",
    "plt.title('Model Loss')\n",
    "plt.ylabel('Loss')\n",
    "plt.xlabel('Epoch')\n",
    "plt.legend(['Train', 'Val'], loc='upper right')\n",
    "plt.show()"
   ]
  },
  {
   "cell_type": "markdown",
   "metadata": {},
   "source": [
    "### Previsão Multistep 12 meses em Validação\n",
    "Para ficar adequado à realidade, não podemos usar os dados de 2022 para prever 2022. Portanto, a previsão de 2022 será feita do moto *multistep*, isto é, o mês de janeiro/2022 será previsto usando-se os dados de arrecadação de janeiro a dezembro de 2021; o mês de fevereiro/2022 será previsto usando-se os dados de fevereiro a dezembro de 2021 mais a previsão feita para o mês de janeiro/2022; o mês de março/2022 será previsto usando-se os dados de março a dezembro de 2021 mais os meses de janeiro e fevereiro de 2022 previstos nos passos anteriores. E assim por diante, até que a previsão de dezembro/2022 será feita usando-se os dados de dezembro de 2021 mais as previsões de janeiro a novembro de 2022 feitas nos passos anteriores."
   ]
  },
  {
   "cell_type": "markdown",
   "metadata": {},
   "source": [
    "#### Remove os 12 últimos valores que serão previstos e cria as séries novamente"
   ]
  },
  {
   "cell_type": "code",
   "execution_count": 36,
   "metadata": {},
   "outputs": [
    {
     "name": "stdout",
     "output_type": "stream",
     "text": [
      "(132,)\n",
      "(108,)\n"
     ]
    }
   ],
   "source": [
    "# remove\n",
    "serie_multi1 = l_icms_ts[:-24]\n",
    "print(l_icms_ts.shape)\n",
    "print(serie_multi1.shape)"
   ]
  },
  {
   "cell_type": "code",
   "execution_count": 37,
   "metadata": {},
   "outputs": [
    {
     "name": "stdout",
     "output_type": "stream",
     "text": [
      "0 [[9.284113e+09]]\n",
      "1 [[9.26386e+09]]\n",
      "2 [[9.332226e+09]]\n",
      "3 [[9.346156e+09]]\n",
      "4 [[9.348669e+09]]\n",
      "5 [[9.348474e+09]]\n",
      "6 [[9.348135e+09]]\n",
      "7 [[9.346441e+09]]\n",
      "8 [[9.347689e+09]]\n",
      "9 [[9.345229e+09]]\n",
      "10 [[9.342128e+09]]\n",
      "11 [[9.342983e+09]]\n"
     ]
    }
   ],
   "source": [
    "for i in range(12):\n",
    "    # cria as séries\n",
    "    X_multi1, Y_multi1 = cria_features_target(serie_multi1, verbose=0)\n",
    "\n",
    "    # Faz a normalização usando o modelo fitado na normalização anterior\n",
    "    X_multi_std1 = enc_x.transform(X_multi1)\n",
    "    X_multi_std1 = X_multi_std1.reshape(X_multi_std1.shape[0],10,1)\n",
    "\n",
    "    # Faz o janelamento das séries\n",
    "    x_multi1, y_multi1 = janelamento_1_mes(X_multi_std1, Y_multi1, verbose=0)\n",
    "\n",
    "    # Faz a predição da arrecadação do mês\n",
    "    #y_pred_multi = np.mean(model.predict(x_multi[-1:]), axis=1)#[:,0].ravel()\n",
    "    y_pred_multi1 = model.predict(x_multi1[-1:])#[:,0].ravel()\n",
    "    print(i, np.exp(y_pred_multi1))\n",
    "\n",
    "    #### Adicionar o valor previsto à série e fazer o novo janelamento\n",
    "    serie_multi1 = pd.Series(np.append(serie_multi1, y_pred_multi1))"
   ]
  },
  {
   "cell_type": "code",
   "execution_count": 38,
   "metadata": {},
   "outputs": [],
   "source": [
    "Y_pred_multi1 = np.exp(pd.Series(serie_multi1[-12:]))\n",
    "Y_pred_multi1.index = icms_val.index"
   ]
  },
  {
   "cell_type": "code",
   "execution_count": 39,
   "metadata": {},
   "outputs": [
    {
     "data": {
      "text/plain": [
       "date\n",
       "2012-01-01    9.284113e+09\n",
       "2012-02-01    9.263860e+09\n",
       "2012-03-01    9.332226e+09\n",
       "2012-04-01    9.346156e+09\n",
       "2012-05-01    9.348670e+09\n",
       "2012-06-01    9.348474e+09\n",
       "2012-07-01    9.348135e+09\n",
       "2012-08-01    9.346441e+09\n",
       "2012-09-01    9.347689e+09\n",
       "2012-10-01    9.345229e+09\n",
       "2012-11-01    9.342128e+09\n",
       "2012-12-01    9.342983e+09\n",
       "dtype: float64"
      ]
     },
     "execution_count": 39,
     "metadata": {},
     "output_type": "execute_result"
    }
   ],
   "source": [
    "Y_pred_multi1"
   ]
  },
  {
   "cell_type": "code",
   "execution_count": 40,
   "metadata": {},
   "outputs": [
    {
     "data": {
      "text/plain": [
       "700405705.3264725"
      ]
     },
     "execution_count": 40,
     "metadata": {},
     "output_type": "execute_result"
    }
   ],
   "source": [
    "RMSE_lstm_multi1 = mean_squared_error(icms_val, Y_pred_multi1, squared=False)\n",
    "RMSE_lstm_multi1"
   ]
  },
  {
   "cell_type": "code",
   "execution_count": 41,
   "metadata": {},
   "outputs": [
    {
     "data": {
      "text/plain": [
       "0.0696841271075505"
      ]
     },
     "execution_count": 41,
     "metadata": {},
     "output_type": "execute_result"
    }
   ],
   "source": [
    "MAPE_lstm_multi1 = mean_absolute_percentage_error(icms_val, Y_pred_multi1)\n",
    "MAPE_lstm_multi1"
   ]
  },
  {
   "cell_type": "code",
   "execution_count": 42,
   "metadata": {},
   "outputs": [],
   "source": [
    "previsoes['nome'].append('RNN-LSTM-1-mês-larga')\n",
    "previsoes['modelo'].append(model)\n",
    "previsoes['previsoes'].append(Y_pred_multi1)\n",
    "\n",
    "previsoes['rmse'].append(RMSE_lstm_multi1)\n",
    "\n",
    "previsoes['mape'].append(MAPE_lstm_multi1)\n",
    "\n",
    "previsoes['erro relativo'].append([erro_relativo(prev,real) \n",
    "                                   for prev,real in zip(Y_pred_multi1\n",
    "                                                        , icms_val)])"
   ]
  },
  {
   "cell_type": "markdown",
   "metadata": {},
   "source": [
    "## Arquitetura da Rede - Arquitetura Multicamada"
   ]
  },
  {
   "cell_type": "code",
   "execution_count": 43,
   "metadata": {},
   "outputs": [],
   "source": [
    "rlrop3 = ReduceLROnPlateau(monitor='val_loss', factor=0.1, patience=25, verbose=1)\n",
    "early_stop3 = EarlyStopping(monitor='val_loss', patience=100, verbose=1, \n",
    "                           restore_best_weights=True)"
   ]
  },
  {
   "cell_type": "code",
   "execution_count": 44,
   "metadata": {},
   "outputs": [],
   "source": [
    "# Épocas e tamanho do lote\n",
    "EPOCHS3 = 1000\n",
    "BATCH3 = 8\n",
    "NEURONIOS3 = 600\n",
    "LR3 = 1e-5\n",
    "DROPOUT3 = 0.25\n",
    "\n",
    "# Imstanciação do modelo\n",
    "model3 = Sequential()\n",
    "\n",
    "# Adicionar camada LSTM \n",
    "model3.add(LSTM(activation='tanh', dropout=DROPOUT3,\n",
    "        input_shape = (10, 1), return_sequences = True,\n",
    "        units = NEURONIOS3))\n",
    "\n",
    "# Adicionar camada LSTM \n",
    "model3.add(LSTM(activation='tanh', dropout=DROPOUT3,\n",
    "        input_shape = (10, 1), return_sequences = True,\n",
    "        units = NEURONIOS3))\n",
    "\n",
    "# Adicionar camada LSTM \n",
    "model3.add(LSTM(activation='tanh', dropout=DROPOUT3,\n",
    "        input_shape = (10, 1), return_sequences = False,\n",
    "        units = NEURONIOS3))\n",
    "\n",
    "\n",
    "# Adicionar a camada de saída com 1 neurônio linear\n",
    "model3.add(Dense(\n",
    "        units = 1,\n",
    "        activation = 'linear'))\n",
    "# a learning rate padrão do Adam é 0.001\n",
    "model3.compile(loss = 'mape', optimizer = Adam(learning_rate=LR3))"
   ]
  },
  {
   "cell_type": "code",
   "execution_count": 45,
   "metadata": {},
   "outputs": [
    {
     "name": "stdout",
     "output_type": "stream",
     "text": [
      "Model: \"sequential_1\"\n",
      "_________________________________________________________________\n",
      "Layer (type)                 Output Shape              Param #   \n",
      "=================================================================\n",
      "lstm_1 (LSTM)                (None, 10, 600)           1444800   \n",
      "_________________________________________________________________\n",
      "lstm_2 (LSTM)                (None, 10, 600)           2882400   \n",
      "_________________________________________________________________\n",
      "lstm_3 (LSTM)                (None, 600)               2882400   \n",
      "_________________________________________________________________\n",
      "dense_1 (Dense)              (None, 1)                 601       \n",
      "=================================================================\n",
      "Total params: 7,210,201\n",
      "Trainable params: 7,210,201\n",
      "Non-trainable params: 0\n",
      "_________________________________________________________________\n"
     ]
    }
   ],
   "source": [
    "model3.summary()"
   ]
  },
  {
   "cell_type": "code",
   "execution_count": 46,
   "metadata": {
    "scrolled": true
   },
   "outputs": [
    {
     "name": "stdout",
     "output_type": "stream",
     "text": [
      "Epoch 1/1000\n",
      "12/12 [==============================] - 5s 396ms/step - loss: 99.9356 - val_loss: 99.7246\n",
      "Epoch 2/1000\n",
      "12/12 [==============================] - 2s 194ms/step - loss: 99.7768 - val_loss: 99.4156\n",
      "Epoch 3/1000\n",
      "12/12 [==============================] - 2s 194ms/step - loss: 99.5730 - val_loss: 99.0391\n",
      "Epoch 4/1000\n",
      "12/12 [==============================] - 2s 198ms/step - loss: 99.3553 - val_loss: 98.5360\n",
      "Epoch 5/1000\n",
      "12/12 [==============================] - 2s 196ms/step - loss: 99.0384 - val_loss: 97.8032\n",
      "Epoch 6/1000\n",
      "12/12 [==============================] - 2s 202ms/step - loss: 98.4791 - val_loss: 96.6701\n",
      "Epoch 7/1000\n",
      "12/12 [==============================] - 2s 205ms/step - loss: 97.7473 - val_loss: 94.8530\n",
      "Epoch 8/1000\n",
      "12/12 [==============================] - 2s 199ms/step - loss: 96.3991 - val_loss: 91.6776\n",
      "Epoch 9/1000\n",
      "12/12 [==============================] - 2s 201ms/step - loss: 94.1118 - val_loss: 85.8501\n",
      "Epoch 10/1000\n",
      "12/12 [==============================] - 2s 199ms/step - loss: 90.4163 - val_loss: 74.4965\n",
      "Epoch 11/1000\n",
      "12/12 [==============================] - 2s 197ms/step - loss: 82.8447 - val_loss: 54.0231\n",
      "Epoch 12/1000\n",
      "12/12 [==============================] - 2s 199ms/step - loss: 67.7097 - val_loss: 24.7807\n",
      "Epoch 13/1000\n",
      "12/12 [==============================] - 2s 197ms/step - loss: 46.4941 - val_loss: 0.5245\n",
      "Epoch 14/1000\n",
      "12/12 [==============================] - 2s 193ms/step - loss: 26.2743 - val_loss: 14.0747\n",
      "Epoch 15/1000\n",
      "12/12 [==============================] - 2s 196ms/step - loss: 17.7263 - val_loss: 16.7765\n",
      "Epoch 16/1000\n",
      "12/12 [==============================] - 2s 193ms/step - loss: 14.8033 - val_loss: 15.5552\n",
      "Epoch 17/1000\n",
      "12/12 [==============================] - 2s 188ms/step - loss: 13.0998 - val_loss: 11.9054\n",
      "Epoch 18/1000\n",
      "12/12 [==============================] - 2s 195ms/step - loss: 9.4284 - val_loss: 8.2268\n",
      "Epoch 19/1000\n",
      "12/12 [==============================] - 2s 190ms/step - loss: 8.1059 - val_loss: 4.8359\n",
      "Epoch 20/1000\n",
      "12/12 [==============================] - 2s 196ms/step - loss: 6.3913 - val_loss: 2.6049\n",
      "Epoch 21/1000\n",
      "12/12 [==============================] - 2s 200ms/step - loss: 4.5542 - val_loss: 0.9643\n",
      "Epoch 22/1000\n",
      "12/12 [==============================] - 2s 194ms/step - loss: 4.3352 - val_loss: 0.7430\n",
      "Epoch 23/1000\n",
      "12/12 [==============================] - 2s 197ms/step - loss: 3.0151 - val_loss: 1.3610\n",
      "Epoch 24/1000\n",
      "12/12 [==============================] - 2s 197ms/step - loss: 2.4169 - val_loss: 0.2500\n",
      "Epoch 25/1000\n",
      "12/12 [==============================] - 2s 193ms/step - loss: 2.5526 - val_loss: 0.3945\n",
      "Epoch 26/1000\n",
      "12/12 [==============================] - 2s 193ms/step - loss: 2.0741 - val_loss: 0.2040\n",
      "Epoch 27/1000\n",
      "12/12 [==============================] - 2s 196ms/step - loss: 1.6646 - val_loss: 0.3998\n",
      "Epoch 28/1000\n",
      "12/12 [==============================] - 2s 192ms/step - loss: 1.5996 - val_loss: 0.4013\n",
      "Epoch 29/1000\n",
      "12/12 [==============================] - 2s 194ms/step - loss: 1.2513 - val_loss: 0.6936\n",
      "Epoch 30/1000\n",
      "12/12 [==============================] - 2s 203ms/step - loss: 1.2434 - val_loss: 0.3516\n",
      "Epoch 31/1000\n",
      "12/12 [==============================] - 2s 186ms/step - loss: 1.2590 - val_loss: 0.3430\n",
      "Epoch 32/1000\n",
      "12/12 [==============================] - 2s 193ms/step - loss: 0.9562 - val_loss: 0.2632\n",
      "Epoch 33/1000\n",
      "12/12 [==============================] - 2s 195ms/step - loss: 1.1424 - val_loss: 0.5882\n",
      "Epoch 34/1000\n",
      "12/12 [==============================] - 2s 191ms/step - loss: 0.8900 - val_loss: 0.7759\n",
      "Epoch 35/1000\n",
      "12/12 [==============================] - 2s 204ms/step - loss: 1.0209 - val_loss: 0.5414\n",
      "Epoch 36/1000\n",
      "12/12 [==============================] - 2s 197ms/step - loss: 0.9726 - val_loss: 0.7756\n",
      "Epoch 37/1000\n",
      "12/12 [==============================] - 2s 192ms/step - loss: 1.0841 - val_loss: 0.5229\n",
      "Epoch 38/1000\n",
      "12/12 [==============================] - 2s 193ms/step - loss: 0.8960 - val_loss: 0.9872\n",
      "Epoch 39/1000\n",
      "12/12 [==============================] - 2s 198ms/step - loss: 0.9405 - val_loss: 0.7777\n",
      "Epoch 40/1000\n",
      "12/12 [==============================] - 2s 195ms/step - loss: 0.8493 - val_loss: 0.7356\n",
      "Epoch 41/1000\n",
      "12/12 [==============================] - 2s 191ms/step - loss: 0.8415 - val_loss: 1.1100\n",
      "Epoch 42/1000\n",
      "12/12 [==============================] - 2s 194ms/step - loss: 0.9833 - val_loss: 0.4155\n",
      "Epoch 43/1000\n",
      "12/12 [==============================] - 2s 198ms/step - loss: 0.8606 - val_loss: 1.4728\n",
      "Epoch 44/1000\n",
      "12/12 [==============================] - 2s 192ms/step - loss: 1.0180 - val_loss: 0.5697\n",
      "Epoch 45/1000\n",
      "12/12 [==============================] - 2s 192ms/step - loss: 0.9389 - val_loss: 0.8649\n",
      "Epoch 46/1000\n",
      "12/12 [==============================] - 2s 192ms/step - loss: 0.7123 - val_loss: 0.6281\n",
      "Epoch 47/1000\n",
      "12/12 [==============================] - 2s 193ms/step - loss: 0.7816 - val_loss: 0.7526\n",
      "Epoch 48/1000\n",
      "12/12 [==============================] - 2s 191ms/step - loss: 0.7452 - val_loss: 0.7884\n",
      "Epoch 49/1000\n",
      "12/12 [==============================] - 2s 191ms/step - loss: 0.7466 - val_loss: 0.8016\n",
      "Epoch 50/1000\n",
      "12/12 [==============================] - 2s 193ms/step - loss: 0.8393 - val_loss: 0.8804\n",
      "Epoch 51/1000\n",
      "12/12 [==============================] - ETA: 0s - loss: 0.8176\n",
      "Epoch 00051: ReduceLROnPlateau reducing learning rate to 9.999999747378752e-07.\n",
      "12/12 [==============================] - 2s 194ms/step - loss: 0.8176 - val_loss: 0.6779\n",
      "Epoch 52/1000\n",
      "12/12 [==============================] - 2s 188ms/step - loss: 0.7574 - val_loss: 0.7393\n",
      "Epoch 53/1000\n",
      "12/12 [==============================] - 2s 194ms/step - loss: 0.8903 - val_loss: 0.7995\n",
      "Epoch 54/1000\n",
      "12/12 [==============================] - 2s 191ms/step - loss: 0.7700 - val_loss: 0.7829\n",
      "Epoch 55/1000\n",
      "12/12 [==============================] - 2s 199ms/step - loss: 0.7183 - val_loss: 0.7457\n",
      "Epoch 56/1000\n",
      "12/12 [==============================] - 2s 197ms/step - loss: 0.7434 - val_loss: 0.7781\n",
      "Epoch 57/1000\n",
      "12/12 [==============================] - 2s 195ms/step - loss: 0.8182 - val_loss: 0.7335\n",
      "Epoch 58/1000\n",
      "12/12 [==============================] - 2s 191ms/step - loss: 0.9272 - val_loss: 0.7626\n",
      "Epoch 59/1000\n",
      "12/12 [==============================] - 2s 189ms/step - loss: 0.8101 - val_loss: 0.8191\n",
      "Epoch 60/1000\n",
      "12/12 [==============================] - 2s 202ms/step - loss: 0.8255 - val_loss: 0.8053\n",
      "Epoch 61/1000\n",
      "12/12 [==============================] - 2s 186ms/step - loss: 0.7814 - val_loss: 0.7766\n",
      "Epoch 62/1000\n",
      "12/12 [==============================] - 2s 191ms/step - loss: 0.8515 - val_loss: 0.7360\n",
      "Epoch 63/1000\n",
      "12/12 [==============================] - 2s 190ms/step - loss: 0.7675 - val_loss: 0.7707\n",
      "Epoch 64/1000\n",
      "12/12 [==============================] - 2s 198ms/step - loss: 0.8042 - val_loss: 0.8046\n",
      "Epoch 65/1000\n",
      "12/12 [==============================] - 2s 183ms/step - loss: 0.8514 - val_loss: 0.7989\n",
      "Epoch 66/1000\n",
      "12/12 [==============================] - 2s 180ms/step - loss: 0.8408 - val_loss: 0.8067\n",
      "Epoch 67/1000\n",
      "12/12 [==============================] - 2s 186ms/step - loss: 0.7459 - val_loss: 0.8170\n",
      "Epoch 68/1000\n",
      "12/12 [==============================] - 2s 189ms/step - loss: 0.7377 - val_loss: 0.7987\n",
      "Epoch 69/1000\n",
      "12/12 [==============================] - 2s 189ms/step - loss: 0.8034 - val_loss: 0.8238\n",
      "Epoch 70/1000\n",
      "12/12 [==============================] - 2s 187ms/step - loss: 0.7630 - val_loss: 0.8058\n",
      "Epoch 71/1000\n",
      "12/12 [==============================] - 2s 186ms/step - loss: 0.6259 - val_loss: 0.7395\n",
      "Epoch 72/1000\n",
      "12/12 [==============================] - 2s 193ms/step - loss: 0.7622 - val_loss: 0.7460\n",
      "Epoch 73/1000\n",
      "12/12 [==============================] - 2s 194ms/step - loss: 0.7468 - val_loss: 0.7660\n",
      "Epoch 74/1000\n",
      "12/12 [==============================] - 2s 189ms/step - loss: 0.7729 - val_loss: 0.7031\n",
      "Epoch 75/1000\n",
      "12/12 [==============================] - 2s 188ms/step - loss: 0.7923 - val_loss: 0.7162\n",
      "Epoch 76/1000\n",
      "12/12 [==============================] - ETA: 0s - loss: 0.6928\n",
      "Epoch 00076: ReduceLROnPlateau reducing learning rate to 9.999999974752428e-08.\n",
      "12/12 [==============================] - 2s 187ms/step - loss: 0.6928 - val_loss: 0.7215\n",
      "Epoch 77/1000\n"
     ]
    },
    {
     "name": "stdout",
     "output_type": "stream",
     "text": [
      "12/12 [==============================] - 2s 199ms/step - loss: 0.7338 - val_loss: 0.7297\n",
      "Epoch 78/1000\n",
      "12/12 [==============================] - 2s 184ms/step - loss: 0.6581 - val_loss: 0.7340\n",
      "Epoch 79/1000\n",
      "12/12 [==============================] - 2s 188ms/step - loss: 0.7986 - val_loss: 0.7365\n",
      "Epoch 80/1000\n",
      "12/12 [==============================] - 2s 186ms/step - loss: 0.8004 - val_loss: 0.7353\n",
      "Epoch 81/1000\n",
      "12/12 [==============================] - 2s 189ms/step - loss: 0.8444 - val_loss: 0.7395\n",
      "Epoch 82/1000\n",
      "12/12 [==============================] - 2s 187ms/step - loss: 0.8141 - val_loss: 0.7448\n",
      "Epoch 83/1000\n",
      "12/12 [==============================] - 2s 190ms/step - loss: 0.6393 - val_loss: 0.7496\n",
      "Epoch 84/1000\n",
      "12/12 [==============================] - 2s 190ms/step - loss: 0.7202 - val_loss: 0.7570\n",
      "Epoch 85/1000\n",
      "12/12 [==============================] - 2s 183ms/step - loss: 0.8386 - val_loss: 0.7571\n",
      "Epoch 86/1000\n",
      "12/12 [==============================] - 2s 189ms/step - loss: 0.8664 - val_loss: 0.7618\n",
      "Epoch 87/1000\n",
      "12/12 [==============================] - 2s 183ms/step - loss: 0.8015 - val_loss: 0.7617\n",
      "Epoch 88/1000\n",
      "12/12 [==============================] - 2s 186ms/step - loss: 0.8011 - val_loss: 0.7634\n",
      "Epoch 89/1000\n",
      "12/12 [==============================] - 2s 192ms/step - loss: 0.7868 - val_loss: 0.7629\n",
      "Epoch 90/1000\n",
      "12/12 [==============================] - 2s 181ms/step - loss: 0.7135 - val_loss: 0.7697\n",
      "Epoch 91/1000\n",
      "12/12 [==============================] - 2s 193ms/step - loss: 0.7540 - val_loss: 0.7798\n",
      "Epoch 92/1000\n",
      "12/12 [==============================] - 2s 186ms/step - loss: 0.9000 - val_loss: 0.7836\n",
      "Epoch 93/1000\n",
      "12/12 [==============================] - 2s 187ms/step - loss: 0.7315 - val_loss: 0.7818\n",
      "Epoch 94/1000\n",
      "12/12 [==============================] - 2s 186ms/step - loss: 0.7778 - val_loss: 0.7809\n",
      "Epoch 95/1000\n",
      "12/12 [==============================] - 2s 186ms/step - loss: 0.7415 - val_loss: 0.7838\n",
      "Epoch 96/1000\n",
      "12/12 [==============================] - 2s 186ms/step - loss: 0.7859 - val_loss: 0.7882\n",
      "Epoch 97/1000\n",
      "12/12 [==============================] - 2s 188ms/step - loss: 0.6999 - val_loss: 0.7892\n",
      "Epoch 98/1000\n",
      "12/12 [==============================] - 2s 190ms/step - loss: 0.7200 - val_loss: 0.7925\n",
      "Epoch 99/1000\n",
      "12/12 [==============================] - 2s 191ms/step - loss: 0.8263 - val_loss: 0.7965\n",
      "Epoch 100/1000\n",
      "12/12 [==============================] - 2s 185ms/step - loss: 0.6279 - val_loss: 0.8062\n",
      "Epoch 101/1000\n",
      "12/12 [==============================] - ETA: 0s - loss: 0.6467\n",
      "Epoch 00101: ReduceLROnPlateau reducing learning rate to 1.0000000116860975e-08.\n",
      "12/12 [==============================] - 2s 185ms/step - loss: 0.6467 - val_loss: 0.8084\n",
      "Epoch 102/1000\n",
      "12/12 [==============================] - 2s 180ms/step - loss: 0.7233 - val_loss: 0.8085\n",
      "Epoch 103/1000\n",
      "12/12 [==============================] - 2s 187ms/step - loss: 0.8052 - val_loss: 0.8080\n",
      "Epoch 104/1000\n",
      "12/12 [==============================] - 2s 195ms/step - loss: 0.6972 - val_loss: 0.8076\n",
      "Epoch 105/1000\n",
      "12/12 [==============================] - 2s 184ms/step - loss: 0.8671 - val_loss: 0.8074\n",
      "Epoch 106/1000\n",
      "12/12 [==============================] - 2s 188ms/step - loss: 0.7263 - val_loss: 0.8069\n",
      "Epoch 107/1000\n",
      "12/12 [==============================] - 2s 192ms/step - loss: 0.8013 - val_loss: 0.8063\n",
      "Epoch 108/1000\n",
      "12/12 [==============================] - 2s 193ms/step - loss: 0.8163 - val_loss: 0.8061\n",
      "Epoch 109/1000\n",
      "12/12 [==============================] - 2s 192ms/step - loss: 0.7578 - val_loss: 0.8062\n",
      "Epoch 110/1000\n",
      "12/12 [==============================] - 2s 180ms/step - loss: 0.7387 - val_loss: 0.8064\n",
      "Epoch 111/1000\n",
      "12/12 [==============================] - 2s 182ms/step - loss: 0.7628 - val_loss: 0.8064\n",
      "Epoch 112/1000\n",
      "12/12 [==============================] - 2s 192ms/step - loss: 0.7339 - val_loss: 0.8061\n",
      "Epoch 113/1000\n",
      "12/12 [==============================] - 2s 139ms/step - loss: 0.7222 - val_loss: 0.8064\n",
      "Epoch 114/1000\n",
      "12/12 [==============================] - 1s 111ms/step - loss: 0.7723 - val_loss: 0.8063\n",
      "Epoch 115/1000\n",
      "12/12 [==============================] - 1s 114ms/step - loss: 0.8307 - val_loss: 0.8056\n",
      "Epoch 116/1000\n",
      "12/12 [==============================] - 1s 110ms/step - loss: 0.7969 - val_loss: 0.8046\n",
      "Epoch 117/1000\n",
      "12/12 [==============================] - 1s 110ms/step - loss: 0.6800 - val_loss: 0.8045\n",
      "Epoch 118/1000\n",
      "12/12 [==============================] - 1s 123ms/step - loss: 0.8037 - val_loss: 0.8047\n",
      "Epoch 119/1000\n",
      "12/12 [==============================] - 2s 138ms/step - loss: 0.7207 - val_loss: 0.8041\n",
      "Epoch 120/1000\n",
      "12/12 [==============================] - 2s 167ms/step - loss: 0.6591 - val_loss: 0.8039\n",
      "Epoch 121/1000\n",
      "12/12 [==============================] - 2s 171ms/step - loss: 0.7933 - val_loss: 0.8038\n",
      "Epoch 122/1000\n",
      "12/12 [==============================] - 2s 169ms/step - loss: 0.7683 - val_loss: 0.8036\n",
      "Epoch 123/1000\n",
      "12/12 [==============================] - 2s 167ms/step - loss: 0.7587 - val_loss: 0.8028\n",
      "Epoch 124/1000\n",
      "12/12 [==============================] - 2s 179ms/step - loss: 0.6779 - val_loss: 0.8014\n",
      "Epoch 125/1000\n",
      "12/12 [==============================] - 2s 173ms/step - loss: 0.7253 - val_loss: 0.8010\n",
      "Epoch 126/1000\n",
      "12/12 [==============================] - ETA: 0s - loss: 0.7240\n",
      "Epoch 00126: ReduceLROnPlateau reducing learning rate to 9.999999939225292e-10.\n",
      "Restoring model weights from the end of the best epoch.\n",
      "12/12 [==============================] - 2s 170ms/step - loss: 0.7240 - val_loss: 0.8005\n",
      "Epoch 00126: early stopping\n"
     ]
    }
   ],
   "source": [
    "# History object for plotting our model loss by epoch\n",
    "history3 = model3.fit(x_train1, y_train1, batch_size = BATCH3, \n",
    "                    epochs = EPOCHS, validation_data = (x_val1, y_val1),\n",
    "                    callbacks = [rlrop3, early_stop3])"
   ]
  },
  {
   "cell_type": "code",
   "execution_count": 47,
   "metadata": {},
   "outputs": [
    {
     "data": {
      "image/png": "[encoded data removed]",
      "text/plain": [
       "<Figure size 720x504 with 1 Axes>"
      ]
     },
     "metadata": {
      "needs_background": "light"
     },
     "output_type": "display_data"
    }
   ],
   "source": [
    "# Loss History\n",
    "fig = plt.figure(figsize=(10, 7))\n",
    "plt.plot(history3.history['loss'])\n",
    "plt.plot(history3.history['val_loss'])\n",
    "plt.title('Model Loss')\n",
    "plt.ylabel('Loss')\n",
    "plt.xlabel('Epoch')\n",
    "plt.legend(['Train', 'Val'], loc='upper right')\n",
    "plt.show()"
   ]
  },
  {
   "cell_type": "markdown",
   "metadata": {},
   "source": [
    "### Previsão Multistep 12 meses em Validação\n",
    "Para ficar adequado à realidade, não podemos usar os dados de 2022 para prever 2022. Portanto, a previsão de 2022 será feita do moto *multistep*, isto é, o mês de janeiro/2022 será previsto usando-se os dados de arrecadação de janeiro a dezembro de 2021; o mês de fevereiro/2022 será previsto usando-se os dados de fevereiro a dezembro de 2021 mais a previsão feita para o mês de janeiro/2022; o mês de março/2022 será previsto usando-se os dados de março a dezembro de 2021 mais os meses de janeiro e fevereiro de 2022 previstos nos passos anteriores. E assim por diante, até que a previsão de dezembro/2022 será feita usando-se os dados de dezembro de 2021 mais as previsões de janeiro a novembro de 2022 feitas nos passos anteriores."
   ]
  },
  {
   "cell_type": "markdown",
   "metadata": {},
   "source": [
    "#### Remove os 12 últimos valores que serão previstos e cria as séries novamente"
   ]
  },
  {
   "cell_type": "code",
   "execution_count": 48,
   "metadata": {},
   "outputs": [
    {
     "name": "stdout",
     "output_type": "stream",
     "text": [
      "(132,)\n",
      "(120,)\n"
     ]
    }
   ],
   "source": [
    "# remove\n",
    "serie_multi12 = l_icms_ts[:-24]\n",
    "print(l_icms_ts.shape)\n",
    "print(serie_multi1.shape)"
   ]
  },
  {
   "cell_type": "code",
   "execution_count": 49,
   "metadata": {},
   "outputs": [
    {
     "name": "stdout",
     "output_type": "stream",
     "text": [
      "0 [[9.015564e+09]]\n",
      "1 [[9.032191e+09]]\n",
      "2 [[9.09883e+09]]\n",
      "3 [[9.112376e+09]]\n",
      "4 [[9.129409e+09]]\n",
      "5 [[9.144378e+09]]\n",
      "6 [[9.138085e+09]]\n",
      "7 [[9.157278e+09]]\n",
      "8 [[9.15361e+09]]\n",
      "9 [[9.158517e+09]]\n",
      "10 [[9.165507e+09]]\n",
      "11 [[9.16514e+09]]\n"
     ]
    }
   ],
   "source": [
    "for i in range(12):\n",
    "    # cria as séries\n",
    "    X_multi12, Y_multi12 = cria_features_target(serie_multi12, verbose=0)\n",
    "\n",
    "    # Faz a normalização usando o modelo fitado na normalização anterior\n",
    "    X_multi_std12 = enc_x.transform(X_multi12)\n",
    "    X_multi_std12 = X_multi_std12.reshape(X_multi_std12.shape[0],10,1)\n",
    "\n",
    "    # Faz o janelamento das séries\n",
    "    x_multi12, y_multi12 = janelamento_1_mes(X_multi_std12, Y_multi12, verbose=0)\n",
    "\n",
    "    # Faz a predição da arrecadação do mês\n",
    "    #y_pred_multi = np.mean(model.predict(x_multi[-1:]), axis=1)#[:,0].ravel()\n",
    "    y_pred_multi12 = model3.predict(x_multi12[-1:])#[:,0].ravel()\n",
    "    print(i, np.exp(y_pred_multi12))\n",
    "\n",
    "    #### Adicionar o valor previsto à série e fazer o novo janelamento\n",
    "    serie_multi12 = pd.Series(np.append(serie_multi12, y_pred_multi12))"
   ]
  },
  {
   "cell_type": "code",
   "execution_count": 50,
   "metadata": {},
   "outputs": [],
   "source": [
    "Y_pred_multi12 = np.exp(pd.Series(serie_multi12[-12:]))\n",
    "Y_pred_multi12.index = icms_val.index"
   ]
  },
  {
   "cell_type": "code",
   "execution_count": 51,
   "metadata": {},
   "outputs": [
    {
     "data": {
      "text/plain": [
       "date\n",
       "2012-01-01    9.015565e+09\n",
       "2012-02-01    9.032191e+09\n",
       "2012-03-01    9.098831e+09\n",
       "2012-04-01    9.112377e+09\n",
       "2012-05-01    9.129409e+09\n",
       "2012-06-01    9.144379e+09\n",
       "2012-07-01    9.138085e+09\n",
       "2012-08-01    9.157277e+09\n",
       "2012-09-01    9.153610e+09\n",
       "2012-10-01    9.158517e+09\n",
       "2012-11-01    9.165507e+09\n",
       "2012-12-01    9.165140e+09\n",
       "dtype: float64"
      ]
     },
     "execution_count": 51,
     "metadata": {},
     "output_type": "execute_result"
    }
   ],
   "source": [
    "Y_pred_multi12"
   ]
  },
  {
   "cell_type": "code",
   "execution_count": 52,
   "metadata": {},
   "outputs": [
    {
     "data": {
      "text/plain": [
       "580968934.2543092"
      ]
     },
     "execution_count": 52,
     "metadata": {},
     "output_type": "execute_result"
    }
   ],
   "source": [
    "RMSE_lstm_multi12 = mean_squared_error(icms_val, Y_pred_multi12, squared=False)\n",
    "RMSE_lstm_multi12"
   ]
  },
  {
   "cell_type": "code",
   "execution_count": 53,
   "metadata": {},
   "outputs": [
    {
     "data": {
      "text/plain": [
       "0.05199160281882672"
      ]
     },
     "execution_count": 53,
     "metadata": {},
     "output_type": "execute_result"
    }
   ],
   "source": [
    "MAPE_lstm_multi12 = mean_absolute_percentage_error(icms_val, Y_pred_multi12)\n",
    "MAPE_lstm_multi12"
   ]
  },
  {
   "cell_type": "code",
   "execution_count": 54,
   "metadata": {},
   "outputs": [],
   "source": [
    "previsoes['nome'].append('RNN-LSTM-1-mês-camadas')\n",
    "previsoes['modelo'].append(model3)\n",
    "previsoes['previsoes'].append(Y_pred_multi12)\n",
    "\n",
    "previsoes['rmse'].append(RMSE_lstm_multi12)\n",
    "\n",
    "previsoes['mape'].append(MAPE_lstm_multi12)\n",
    "\n",
    "previsoes['erro relativo'].append([erro_relativo(prev,real) \n",
    "                                   for prev,real in zip(Y_pred_multi12\n",
    "                                                        , icms_val)])"
   ]
  },
  {
   "cell_type": "markdown",
   "metadata": {},
   "source": [
    "# Modelo 12 meses"
   ]
  },
  {
   "cell_type": "markdown",
   "metadata": {},
   "source": [
    "#### Criando as janelas de 12 meses e reshape para LSTM. A arrecadação de cada mês será prevista pela arrecadação dos 12 meses anteriores."
   ]
  },
  {
   "cell_type": "markdown",
   "metadata": {},
   "source": [
    "##### Unindo novamente os dados."
   ]
  },
  {
   "cell_type": "code",
   "execution_count": 55,
   "metadata": {},
   "outputs": [],
   "source": [
    "def janelamento_12_meses(X, Y, verbose=0):\n",
    "    X_exp = np.concatenate((np.roll(X, 12, axis=0),\n",
    "                            np.roll(X, 11, axis=0),\n",
    "                            np.roll(X, 10, axis=0),\n",
    "                            np.roll(X, 9, axis=0),\n",
    "                            np.roll(X, 8, axis=0),\n",
    "                            np.roll(X, 7, axis=0),\n",
    "                            np.roll(X, 6, axis=0),\n",
    "                            np.roll(X, 5, axis=0),\n",
    "                            np.roll(X, 4, axis=0),\n",
    "                            np.roll(X, 3, axis=0),\n",
    "                            np.roll(X, 2, axis=0),\n",
    "                            np.roll(X, 1, axis=0),\n",
    "                            ), axis=2)\n",
    "    X_exp_cut = X_exp[12:,:,:].transpose(0,2,1)\n",
    "    Y_cut = Y[12:]\n",
    "    if verbose==1:\n",
    "        print('shape das features janeladas:', X_exp.shape)\n",
    "        print('shape das features janeladas pós poda e transposição:', X_exp_cut.shape)\n",
    "        print('shape do array target pós poda:', Y_cut.shape)\n",
    "    return X_exp_cut, Y_cut"
   ]
  },
  {
   "cell_type": "code",
   "execution_count": 56,
   "metadata": {},
   "outputs": [],
   "source": [
    "X_data_exp_cut12, Y_data_cut12 = janelamento_12_meses(X_data_jn, Y_data, verbose=0)"
   ]
  },
  {
   "cell_type": "code",
   "execution_count": 57,
   "metadata": {},
   "outputs": [],
   "source": [
    "#Y_data_cut[0]"
   ]
  },
  {
   "cell_type": "code",
   "execution_count": 58,
   "metadata": {},
   "outputs": [],
   "source": [
    "#X_data_exp_cut[0]"
   ]
  },
  {
   "cell_type": "code",
   "execution_count": 59,
   "metadata": {},
   "outputs": [],
   "source": [
    "#Y_data_cut[Y_data_cut.shape[0]-1]"
   ]
  },
  {
   "cell_type": "code",
   "execution_count": 60,
   "metadata": {},
   "outputs": [],
   "source": [
    "#X_data_exp_cut[Y_data_cut.shape[0]-1]"
   ]
  },
  {
   "cell_type": "markdown",
   "metadata": {},
   "source": [
    "#### Separando novamente em treino, validação e teste"
   ]
  },
  {
   "cell_type": "code",
   "execution_count": 61,
   "metadata": {},
   "outputs": [
    {
     "name": "stdout",
     "output_type": "stream",
     "text": [
      "(84, 12, 10) (12, 12, 10) (12, 12, 10)\n",
      "(84,) (12,) (12,)\n"
     ]
    }
   ],
   "source": [
    "x_train12 = X_data_exp_cut12[:-24]\n",
    "x_val12 = X_data_exp_cut12[-24:-12]\n",
    "x_test12 = X_data_exp_cut12[-12:]\n",
    "print(x_train12.shape, x_val12.shape, x_test12.shape)\n",
    "y_train12 = Y_data_cut12[:-24]\n",
    "y_val12 = Y_data_cut12[-24:-12]\n",
    "y_test12 = np.exp(Y_data_cut12[-12:]) # tirar o log para ficar o valor real\n",
    "print(y_train12.shape, y_val12.shape, y_test12.shape)"
   ]
  },
  {
   "cell_type": "markdown",
   "metadata": {},
   "source": [
    "### Criando o modelo LSTM"
   ]
  },
  {
   "cell_type": "markdown",
   "metadata": {},
   "source": [
    "## Arquitetura da Rede - Arquitetura Larga"
   ]
  },
  {
   "cell_type": "code",
   "execution_count": 62,
   "metadata": {},
   "outputs": [],
   "source": [
    "rlrop2 = ReduceLROnPlateau(monitor='val_loss', factor=0.1, patience=10, verbose=1)\n",
    "early_stop2 = EarlyStopping(monitor='val_loss', patience=100, verbose=1, \n",
    "                           restore_best_weights=True)"
   ]
  },
  {
   "cell_type": "code",
   "execution_count": 63,
   "metadata": {},
   "outputs": [],
   "source": [
    "# Épocas e tamanho do lote\n",
    "EPOCHS2 = 1000\n",
    "BATCH2 = 8\n",
    "NEURONIOS2 = 1000\n",
    "LR2 = 1e-5\n",
    "DROPOUT2 = 0.25\n",
    "\n",
    "# Imstanciação do modelo\n",
    "model2 = Sequential()\n",
    "\n",
    "# Adicionar camada LSTM \n",
    "model2.add(LSTM(activation='tanh', dropout=DROPOUT2,\n",
    "        input_shape = (12, 10), return_sequences = False,\n",
    "        units = NEURONIOS2))\n",
    "\n",
    "# Adicionar a camada de saída com 1 neurônio linear\n",
    "model2.add(Dense(\n",
    "        units = 1,\n",
    "        activation = 'linear'))\n",
    "# a learning rate padrão do Adam é 0.001\n",
    "model2.compile(loss = 'mape', optimizer = Adam(learning_rate=LR2))"
   ]
  },
  {
   "cell_type": "code",
   "execution_count": 64,
   "metadata": {},
   "outputs": [
    {
     "name": "stdout",
     "output_type": "stream",
     "text": [
      "Model: \"sequential_2\"\n",
      "_________________________________________________________________\n",
      "Layer (type)                 Output Shape              Param #   \n",
      "=================================================================\n",
      "lstm_4 (LSTM)                (None, 1000)              4044000   \n",
      "_________________________________________________________________\n",
      "dense_2 (Dense)              (None, 1)                 1001      \n",
      "=================================================================\n",
      "Total params: 4,045,001\n",
      "Trainable params: 4,045,001\n",
      "Non-trainable params: 0\n",
      "_________________________________________________________________\n"
     ]
    }
   ],
   "source": [
    "model2.summary()"
   ]
  },
  {
   "cell_type": "code",
   "execution_count": 65,
   "metadata": {
    "scrolled": true
   },
   "outputs": [
    {
     "name": "stdout",
     "output_type": "stream",
     "text": [
      "Epoch 1/1000\n",
      "11/11 [==============================] - 2s 203ms/step - loss: 99.6912 - val_loss: 98.8879\n",
      "Epoch 2/1000\n",
      "11/11 [==============================] - 2s 141ms/step - loss: 99.1623 - val_loss: 97.8150\n",
      "Epoch 3/1000\n",
      "11/11 [==============================] - 2s 145ms/step - loss: 98.6080 - val_loss: 96.6855\n",
      "Epoch 4/1000\n",
      "11/11 [==============================] - 1s 133ms/step - loss: 97.9834 - val_loss: 95.4063\n",
      "Epoch 5/1000\n",
      "11/11 [==============================] - 2s 144ms/step - loss: 97.2709 - val_loss: 93.8613\n",
      "Epoch 6/1000\n",
      "11/11 [==============================] - 2s 143ms/step - loss: 96.3845 - val_loss: 91.9367\n",
      "Epoch 7/1000\n",
      "11/11 [==============================] - 2s 142ms/step - loss: 95.3234 - val_loss: 89.3484\n",
      "Epoch 8/1000\n",
      "11/11 [==============================] - 2s 141ms/step - loss: 93.7392 - val_loss: 85.6168\n",
      "Epoch 9/1000\n",
      "11/11 [==============================] - 2s 142ms/step - loss: 91.6889 - val_loss: 79.7957\n",
      "Epoch 10/1000\n",
      "11/11 [==============================] - 2s 149ms/step - loss: 88.3061 - val_loss: 70.2031\n",
      "Epoch 11/1000\n",
      "11/11 [==============================] - 2s 143ms/step - loss: 82.9398 - val_loss: 54.6957\n",
      "Epoch 12/1000\n",
      "11/11 [==============================] - 2s 144ms/step - loss: 73.2963 - val_loss: 33.0206\n",
      "Epoch 13/1000\n",
      "11/11 [==============================] - 2s 146ms/step - loss: 58.7716 - val_loss: 11.9699\n",
      "Epoch 14/1000\n",
      "11/11 [==============================] - 2s 143ms/step - loss: 39.4705 - val_loss: 2.5816\n",
      "Epoch 15/1000\n",
      "11/11 [==============================] - 2s 138ms/step - loss: 24.7917 - val_loss: 8.4924\n",
      "Epoch 16/1000\n",
      "11/11 [==============================] - 2s 145ms/step - loss: 17.8289 - val_loss: 7.0750\n",
      "Epoch 17/1000\n",
      "11/11 [==============================] - 2s 141ms/step - loss: 12.6345 - val_loss: 3.4301\n",
      "Epoch 18/1000\n",
      "11/11 [==============================] - 2s 146ms/step - loss: 8.9735 - val_loss: 0.4792\n",
      "Epoch 19/1000\n",
      "11/11 [==============================] - 2s 140ms/step - loss: 6.7970 - val_loss: 0.3084\n",
      "Epoch 20/1000\n",
      "11/11 [==============================] - 2s 138ms/step - loss: 5.0008 - val_loss: 0.5864\n",
      "Epoch 21/1000\n",
      "11/11 [==============================] - 1s 135ms/step - loss: 4.1349 - val_loss: 0.4750\n",
      "Epoch 22/1000\n",
      "11/11 [==============================] - 2s 150ms/step - loss: 3.5195 - val_loss: 0.8771\n",
      "Epoch 23/1000\n",
      "11/11 [==============================] - 2s 139ms/step - loss: 3.0619 - val_loss: 0.5029\n",
      "Epoch 24/1000\n",
      "11/11 [==============================] - 2s 140ms/step - loss: 2.5976 - val_loss: 0.9116\n",
      "Epoch 25/1000\n",
      "11/11 [==============================] - 2s 140ms/step - loss: 2.4905 - val_loss: 1.0133\n",
      "Epoch 26/1000\n",
      "11/11 [==============================] - 2s 143ms/step - loss: 2.3186 - val_loss: 0.9327\n",
      "Epoch 27/1000\n",
      "11/11 [==============================] - 2s 137ms/step - loss: 1.9693 - val_loss: 1.1408\n",
      "Epoch 28/1000\n",
      "11/11 [==============================] - 2s 142ms/step - loss: 1.8849 - val_loss: 0.9954\n",
      "Epoch 29/1000\n",
      "11/11 [==============================] - ETA: 0s - loss: 1.6185\n",
      "Epoch 00029: ReduceLROnPlateau reducing learning rate to 9.999999747378752e-07.\n",
      "11/11 [==============================] - 2s 140ms/step - loss: 1.6185 - val_loss: 1.3093\n",
      "Epoch 30/1000\n",
      "11/11 [==============================] - 2s 143ms/step - loss: 1.8227 - val_loss: 1.3379\n",
      "Epoch 31/1000\n",
      "11/11 [==============================] - 1s 136ms/step - loss: 1.6204 - val_loss: 1.3271\n",
      "Epoch 32/1000\n",
      "11/11 [==============================] - 1s 136ms/step - loss: 1.5751 - val_loss: 1.2671\n",
      "Epoch 33/1000\n",
      "11/11 [==============================] - 2s 144ms/step - loss: 1.5360 - val_loss: 1.1736\n",
      "Epoch 34/1000\n",
      "11/11 [==============================] - 2s 143ms/step - loss: 1.5439 - val_loss: 1.1869\n",
      "Epoch 35/1000\n",
      "11/11 [==============================] - 2s 144ms/step - loss: 1.6574 - val_loss: 1.2662\n",
      "Epoch 36/1000\n",
      "11/11 [==============================] - 2s 146ms/step - loss: 1.5545 - val_loss: 1.2331\n",
      "Epoch 37/1000\n",
      "11/11 [==============================] - 1s 120ms/step - loss: 1.5796 - val_loss: 1.2130\n",
      "Epoch 38/1000\n",
      "11/11 [==============================] - 1s 103ms/step - loss: 1.5078 - val_loss: 1.2230\n",
      "Epoch 39/1000\n",
      "11/11 [==============================] - ETA: 0s - loss: 1.5093\n",
      "Epoch 00039: ReduceLROnPlateau reducing learning rate to 9.999999974752428e-08.\n",
      "11/11 [==============================] - 1s 100ms/step - loss: 1.5093 - val_loss: 1.2508\n",
      "Epoch 40/1000\n",
      "11/11 [==============================] - 1s 95ms/step - loss: 1.4042 - val_loss: 1.2448\n",
      "Epoch 41/1000\n",
      "11/11 [==============================] - 1s 86ms/step - loss: 1.6027 - val_loss: 1.2412\n",
      "Epoch 42/1000\n",
      "11/11 [==============================] - 1s 89ms/step - loss: 1.4819 - val_loss: 1.2407\n",
      "Epoch 43/1000\n",
      "11/11 [==============================] - 1s 91ms/step - loss: 1.4728 - val_loss: 1.2382\n",
      "Epoch 44/1000\n",
      "11/11 [==============================] - 1s 90ms/step - loss: 1.5588 - val_loss: 1.2368\n",
      "Epoch 45/1000\n",
      "11/11 [==============================] - 1s 89ms/step - loss: 1.5393 - val_loss: 1.2411\n",
      "Epoch 46/1000\n",
      "11/11 [==============================] - 1s 87ms/step - loss: 1.5343 - val_loss: 1.2424\n",
      "Epoch 47/1000\n",
      "11/11 [==============================] - 1s 87ms/step - loss: 1.6520 - val_loss: 1.2371\n",
      "Epoch 48/1000\n",
      "11/11 [==============================] - 1s 89ms/step - loss: 1.4764 - val_loss: 1.2388\n",
      "Epoch 49/1000\n",
      "11/11 [==============================] - ETA: 0s - loss: 1.6425\n",
      "Epoch 00049: ReduceLROnPlateau reducing learning rate to 1.0000000116860975e-08.\n",
      "11/11 [==============================] - 1s 88ms/step - loss: 1.6425 - val_loss: 1.2387\n",
      "Epoch 50/1000\n",
      "11/11 [==============================] - 1s 88ms/step - loss: 1.3509 - val_loss: 1.2380\n",
      "Epoch 51/1000\n",
      "11/11 [==============================] - 1s 86ms/step - loss: 1.5911 - val_loss: 1.2377\n",
      "Epoch 52/1000\n",
      "11/11 [==============================] - 1s 89ms/step - loss: 1.5880 - val_loss: 1.2377\n",
      "Epoch 53/1000\n",
      "11/11 [==============================] - 1s 89ms/step - loss: 1.4665 - val_loss: 1.2372\n",
      "Epoch 54/1000\n",
      "11/11 [==============================] - 1s 90ms/step - loss: 1.5910 - val_loss: 1.2370\n",
      "Epoch 55/1000\n",
      "11/11 [==============================] - 1s 89ms/step - loss: 1.5240 - val_loss: 1.2376\n",
      "Epoch 56/1000\n",
      "11/11 [==============================] - 1s 88ms/step - loss: 1.6063 - val_loss: 1.2383\n",
      "Epoch 57/1000\n",
      "11/11 [==============================] - 1s 87ms/step - loss: 1.5109 - val_loss: 1.2390\n",
      "Epoch 58/1000\n",
      "11/11 [==============================] - 1s 90ms/step - loss: 1.5097 - val_loss: 1.2389\n",
      "Epoch 59/1000\n",
      "11/11 [==============================] - ETA: 0s - loss: 1.4764\n",
      "Epoch 00059: ReduceLROnPlateau reducing learning rate to 9.999999939225292e-10.\n",
      "11/11 [==============================] - 1s 90ms/step - loss: 1.4764 - val_loss: 1.2392\n",
      "Epoch 60/1000\n",
      "11/11 [==============================] - 1s 87ms/step - loss: 1.4629 - val_loss: 1.2392\n",
      "Epoch 61/1000\n",
      "11/11 [==============================] - 1s 89ms/step - loss: 1.4549 - val_loss: 1.2392\n",
      "Epoch 62/1000\n",
      "11/11 [==============================] - 1s 88ms/step - loss: 1.4411 - val_loss: 1.2392\n",
      "Epoch 63/1000\n",
      "11/11 [==============================] - 1s 89ms/step - loss: 1.5005 - val_loss: 1.2392\n",
      "Epoch 64/1000\n",
      "11/11 [==============================] - 1s 90ms/step - loss: 1.4977 - val_loss: 1.2392\n",
      "Epoch 65/1000\n",
      "11/11 [==============================] - 1s 87ms/step - loss: 1.5209 - val_loss: 1.2392\n",
      "Epoch 66/1000\n",
      "11/11 [==============================] - 1s 88ms/step - loss: 1.4458 - val_loss: 1.2392\n",
      "Epoch 67/1000\n",
      "11/11 [==============================] - 1s 88ms/step - loss: 1.5658 - val_loss: 1.2392\n",
      "Epoch 68/1000\n",
      "11/11 [==============================] - 1s 85ms/step - loss: 1.5685 - val_loss: 1.2392\n",
      "Epoch 69/1000\n",
      "11/11 [==============================] - ETA: 0s - loss: 1.5680\n",
      "Epoch 00069: ReduceLROnPlateau reducing learning rate to 9.999999717180686e-11.\n",
      "11/11 [==============================] - 1s 90ms/step - loss: 1.5680 - val_loss: 1.2392\n",
      "Epoch 70/1000\n",
      "11/11 [==============================] - 1s 95ms/step - loss: 1.5227 - val_loss: 1.2392\n",
      "Epoch 71/1000\n",
      "11/11 [==============================] - 1s 88ms/step - loss: 1.5885 - val_loss: 1.2392\n",
      "Epoch 72/1000\n",
      "11/11 [==============================] - 1s 88ms/step - loss: 1.5748 - val_loss: 1.2392\n",
      "Epoch 73/1000\n"
     ]
    },
    {
     "name": "stdout",
     "output_type": "stream",
     "text": [
      "11/11 [==============================] - 1s 88ms/step - loss: 1.5398 - val_loss: 1.2392\n",
      "Epoch 74/1000\n",
      "11/11 [==============================] - 1s 90ms/step - loss: 1.4712 - val_loss: 1.2392\n",
      "Epoch 75/1000\n",
      "11/11 [==============================] - 1s 88ms/step - loss: 1.4938 - val_loss: 1.2392\n",
      "Epoch 76/1000\n",
      "11/11 [==============================] - 1s 86ms/step - loss: 1.5459 - val_loss: 1.2392\n",
      "Epoch 77/1000\n",
      "11/11 [==============================] - 1s 87ms/step - loss: 1.4053 - val_loss: 1.2392\n",
      "Epoch 78/1000\n",
      "11/11 [==============================] - 1s 87ms/step - loss: 1.4331 - val_loss: 1.2392\n",
      "Epoch 79/1000\n",
      "11/11 [==============================] - ETA: 0s - loss: 1.5142\n",
      "Epoch 00079: ReduceLROnPlateau reducing learning rate to 9.99999943962493e-12.\n",
      "11/11 [==============================] - 1s 88ms/step - loss: 1.5142 - val_loss: 1.2392\n",
      "Epoch 80/1000\n",
      "11/11 [==============================] - 1s 89ms/step - loss: 1.5690 - val_loss: 1.2392\n",
      "Epoch 81/1000\n",
      "11/11 [==============================] - 1s 92ms/step - loss: 1.5010 - val_loss: 1.2392\n",
      "Epoch 82/1000\n",
      "11/11 [==============================] - 1s 89ms/step - loss: 1.4749 - val_loss: 1.2392\n",
      "Epoch 83/1000\n",
      "11/11 [==============================] - 1s 85ms/step - loss: 1.5532 - val_loss: 1.2392\n",
      "Epoch 84/1000\n",
      "11/11 [==============================] - 1s 88ms/step - loss: 1.4321 - val_loss: 1.2392\n",
      "Epoch 85/1000\n",
      "11/11 [==============================] - 1s 86ms/step - loss: 1.6633 - val_loss: 1.2392\n",
      "Epoch 86/1000\n",
      "11/11 [==============================] - 1s 88ms/step - loss: 1.5497 - val_loss: 1.2392\n",
      "Epoch 87/1000\n",
      "11/11 [==============================] - 1s 90ms/step - loss: 1.6457 - val_loss: 1.2392\n",
      "Epoch 88/1000\n",
      "11/11 [==============================] - 1s 91ms/step - loss: 1.6757 - val_loss: 1.2392\n",
      "Epoch 89/1000\n",
      "11/11 [==============================] - ETA: 0s - loss: 1.4526\n",
      "Epoch 00089: ReduceLROnPlateau reducing learning rate to 9.999999092680235e-13.\n",
      "11/11 [==============================] - 1s 88ms/step - loss: 1.4526 - val_loss: 1.2392\n",
      "Epoch 90/1000\n",
      "11/11 [==============================] - 1s 87ms/step - loss: 1.5275 - val_loss: 1.2392\n",
      "Epoch 91/1000\n",
      "11/11 [==============================] - 1s 89ms/step - loss: 1.6609 - val_loss: 1.2392\n",
      "Epoch 92/1000\n",
      "11/11 [==============================] - 1s 91ms/step - loss: 1.6669 - val_loss: 1.2392\n",
      "Epoch 93/1000\n",
      "11/11 [==============================] - 1s 87ms/step - loss: 1.5767 - val_loss: 1.2392\n",
      "Epoch 94/1000\n",
      "11/11 [==============================] - 1s 85ms/step - loss: 1.5160 - val_loss: 1.2392\n",
      "Epoch 95/1000\n",
      "11/11 [==============================] - 1s 85ms/step - loss: 1.5030 - val_loss: 1.2392\n",
      "Epoch 96/1000\n",
      "11/11 [==============================] - 1s 84ms/step - loss: 1.5352 - val_loss: 1.2392\n",
      "Epoch 97/1000\n",
      "11/11 [==============================] - 1s 87ms/step - loss: 1.5198 - val_loss: 1.2392\n",
      "Epoch 98/1000\n",
      "11/11 [==============================] - 1s 91ms/step - loss: 1.5499 - val_loss: 1.2392\n",
      "Epoch 99/1000\n",
      "11/11 [==============================] - ETA: 0s - loss: 1.4984\n",
      "Epoch 00099: ReduceLROnPlateau reducing learning rate to 9.9999988758398e-14.\n",
      "11/11 [==============================] - 1s 89ms/step - loss: 1.4984 - val_loss: 1.2392\n",
      "Epoch 100/1000\n",
      "11/11 [==============================] - 1s 87ms/step - loss: 1.6199 - val_loss: 1.2392\n",
      "Epoch 101/1000\n",
      "11/11 [==============================] - 1s 86ms/step - loss: 1.5651 - val_loss: 1.2392\n",
      "Epoch 102/1000\n",
      "11/11 [==============================] - 1s 85ms/step - loss: 1.5197 - val_loss: 1.2392\n",
      "Epoch 103/1000\n",
      "11/11 [==============================] - 1s 87ms/step - loss: 1.4708 - val_loss: 1.2392\n",
      "Epoch 104/1000\n",
      "11/11 [==============================] - 1s 86ms/step - loss: 1.4871 - val_loss: 1.2392\n",
      "Epoch 105/1000\n",
      "11/11 [==============================] - 1s 87ms/step - loss: 1.5865 - val_loss: 1.2392\n",
      "Epoch 106/1000\n",
      "11/11 [==============================] - 1s 88ms/step - loss: 1.4386 - val_loss: 1.2392\n",
      "Epoch 107/1000\n",
      "11/11 [==============================] - 1s 87ms/step - loss: 1.4478 - val_loss: 1.2392\n",
      "Epoch 108/1000\n",
      "11/11 [==============================] - 1s 87ms/step - loss: 1.5966 - val_loss: 1.2392\n",
      "Epoch 109/1000\n",
      "11/11 [==============================] - ETA: 0s - loss: 1.5804\n",
      "Epoch 00109: ReduceLROnPlateau reducing learning rate to 9.999999146890344e-15.\n",
      "11/11 [==============================] - 1s 89ms/step - loss: 1.5804 - val_loss: 1.2392\n",
      "Epoch 110/1000\n",
      "11/11 [==============================] - 1s 87ms/step - loss: 1.5149 - val_loss: 1.2392\n",
      "Epoch 111/1000\n",
      "11/11 [==============================] - 1s 89ms/step - loss: 1.4696 - val_loss: 1.2392\n",
      "Epoch 112/1000\n",
      "11/11 [==============================] - 1s 89ms/step - loss: 1.4546 - val_loss: 1.2392\n",
      "Epoch 113/1000\n",
      "11/11 [==============================] - 1s 86ms/step - loss: 1.6179 - val_loss: 1.2392\n",
      "Epoch 114/1000\n",
      "11/11 [==============================] - 1s 88ms/step - loss: 1.6149 - val_loss: 1.2392\n",
      "Epoch 115/1000\n",
      "11/11 [==============================] - 1s 87ms/step - loss: 1.4106 - val_loss: 1.2392\n",
      "Epoch 116/1000\n",
      "11/11 [==============================] - 1s 87ms/step - loss: 1.4955 - val_loss: 1.2392\n",
      "Epoch 117/1000\n",
      "11/11 [==============================] - 1s 87ms/step - loss: 1.5557 - val_loss: 1.2392\n",
      "Epoch 118/1000\n",
      "11/11 [==============================] - 1s 90ms/step - loss: 1.4310 - val_loss: 1.2392\n",
      "Epoch 119/1000\n",
      "11/11 [==============================] - ETA: 0s - loss: 1.5494\n",
      "Epoch 00119: ReduceLROnPlateau reducing learning rate to 9.999998977483753e-16.\n",
      "Restoring model weights from the end of the best epoch.\n",
      "11/11 [==============================] - 1s 92ms/step - loss: 1.5494 - val_loss: 1.2392\n",
      "Epoch 00119: early stopping\n"
     ]
    }
   ],
   "source": [
    "# History object for plotting our model loss by epoch\n",
    "history2 = model2.fit(x_train12, y_train12, batch_size = BATCH2, \n",
    "                    epochs = EPOCHS2, validation_data = (x_val12, y_val12),\n",
    "                    callbacks = [rlrop2, early_stop2])"
   ]
  },
  {
   "cell_type": "code",
   "execution_count": 66,
   "metadata": {},
   "outputs": [
    {
     "data": {
      "image/png": "[encoded data removed]",
      "text/plain": [
       "<Figure size 720x504 with 1 Axes>"
      ]
     },
     "metadata": {
      "needs_background": "light"
     },
     "output_type": "display_data"
    }
   ],
   "source": [
    "# Loss History\n",
    "fig = plt.figure(figsize=(10, 7))\n",
    "plt.plot(history2.history['loss'])\n",
    "plt.plot(history2.history['val_loss'])\n",
    "plt.title('Model Loss')\n",
    "plt.ylabel('Loss')\n",
    "plt.xlabel('Epoch')\n",
    "plt.legend(['Train', 'Val'], loc='upper right')\n",
    "plt.show()"
   ]
  },
  {
   "cell_type": "markdown",
   "metadata": {},
   "source": [
    "### Previsão Multistep 12 meses em Validação\n",
    "Para ficar adequado à realidade, não podemos usar os dados de 2022 para prever 2022. Portanto, a previsão de 2022 será feita do moto *multistep*, isto é, o mês de janeiro/2022 será previsto usando-se os dados de arrecadação de janeiro a dezembro de 2021; o mês de fevereiro/2022 será previsto usando-se os dados de fevereiro a dezembro de 2021 mais a previsão feita para o mês de janeiro/2022; o mês de março/2022 será previsto usando-se os dados de março a dezembro de 2021 mais os meses de janeiro e fevereiro de 2022 previstos nos passos anteriores. E assim por diante, até que a previsão de dezembro/2022 será feita usando-se os dados de dezembro de 2021 mais as previsões de janeiro a novembro de 2022 feitas nos passos anteriores."
   ]
  },
  {
   "cell_type": "markdown",
   "metadata": {},
   "source": [
    "#### Remove os 12 últimos valores que serão previstos e cria as séries novamente"
   ]
  },
  {
   "cell_type": "code",
   "execution_count": 67,
   "metadata": {},
   "outputs": [
    {
     "name": "stdout",
     "output_type": "stream",
     "text": [
      "(132,)\n",
      "(108,)\n"
     ]
    },
    {
     "data": {
      "text/plain": [
       "pandas.core.series.Series"
      ]
     },
     "execution_count": 67,
     "metadata": {},
     "output_type": "execute_result"
    }
   ],
   "source": [
    "# remove\n",
    "serie_multi12 = l_icms_ts[:-24]\n",
    "print(l_icms_ts.shape)\n",
    "print(serie_multi12.shape)\n",
    "type(serie_multi12)"
   ]
  },
  {
   "cell_type": "code",
   "execution_count": 68,
   "metadata": {},
   "outputs": [
    {
     "name": "stdout",
     "output_type": "stream",
     "text": [
      "0 [[9.383541e+09]]\n",
      "1 [[9.378978e+09]]\n",
      "2 [[9.351417e+09]]\n",
      "3 [[9.35081e+09]]\n",
      "4 [[9.355377e+09]]\n",
      "5 [[9.350899e+09]]\n",
      "6 [[9.351684e+09]]\n",
      "7 [[9.349383e+09]]\n",
      "8 [[9.352165e+09]]\n",
      "9 [[9.364178e+09]]\n",
      "10 [[9.377493e+09]]\n",
      "11 [[9.383792e+09]]\n"
     ]
    }
   ],
   "source": [
    "for i in range(12):\n",
    "    # cria as séries\n",
    "    X_multi12, Y_multi12 = cria_features_target(serie_multi12, verbose=0)\n",
    "\n",
    "    # Faz a normalização usando o modelo fitado na normalização anterior\n",
    "    X_multi_std12 = enc_x.transform(X_multi12)\n",
    "    X_multi_std12 = X_multi_std12.reshape(X_multi_std12.shape[0],10,1)\n",
    "\n",
    "    # Faz o janelamento das séries\n",
    "    x_multi12, y_multi12 = janelamento_12_meses(X_multi_std12, Y_multi12, verbose=0)\n",
    "\n",
    "    # Faz a predição da arrecadação do mês\n",
    "    #y_pred_multi = np.mean(model.predict(x_multi[-1:]), axis=1)#[:,0].ravel()\n",
    "    y_pred_multi12 = model2.predict(x_multi12[-1:])#[:,0].ravel()\n",
    "    print(i, np.exp(y_pred_multi12))\n",
    "\n",
    "    #### Adicionar o valor previsto à série e fazer o novo janelamento\n",
    "    serie_multi12 = pd.Series(np.append(serie_multi12, y_pred_multi12))\n",
    "    type(serie_multi12)"
   ]
  },
  {
   "cell_type": "code",
   "execution_count": 69,
   "metadata": {},
   "outputs": [],
   "source": [
    "Y_pred_multi12 = np.exp(pd.Series(serie_multi12[-12:])) # tira o log das previsões\n",
    "Y_pred_multi12.index = icms_val.index"
   ]
  },
  {
   "cell_type": "code",
   "execution_count": 70,
   "metadata": {},
   "outputs": [
    {
     "data": {
      "text/plain": [
       "date\n",
       "2012-01-01    9.383541e+09\n",
       "2012-02-01    9.378978e+09\n",
       "2012-03-01    9.351416e+09\n",
       "2012-04-01    9.350810e+09\n",
       "2012-05-01    9.355377e+09\n",
       "2012-06-01    9.350899e+09\n",
       "2012-07-01    9.351684e+09\n",
       "2012-08-01    9.349383e+09\n",
       "2012-09-01    9.352165e+09\n",
       "2012-10-01    9.364178e+09\n",
       "2012-11-01    9.377494e+09\n",
       "2012-12-01    9.383792e+09\n",
       "dtype: float64"
      ]
     },
     "execution_count": 70,
     "metadata": {},
     "output_type": "execute_result"
    }
   ],
   "source": [
    "Y_pred_multi12"
   ]
  },
  {
   "cell_type": "code",
   "execution_count": 71,
   "metadata": {},
   "outputs": [
    {
     "data": {
      "text/plain": [
       "730439175.9499651"
      ]
     },
     "execution_count": 71,
     "metadata": {},
     "output_type": "execute_result"
    }
   ],
   "source": [
    "RMSE_lstm_multi12 = mean_squared_error(icms_val, Y_pred_multi12, squared=False)\n",
    "RMSE_lstm_multi12"
   ]
  },
  {
   "cell_type": "code",
   "execution_count": 72,
   "metadata": {},
   "outputs": [
    {
     "data": {
      "text/plain": [
       "0.07213897983165729"
      ]
     },
     "execution_count": 72,
     "metadata": {},
     "output_type": "execute_result"
    }
   ],
   "source": [
    "MAPE_lstm_multi12 = mean_absolute_percentage_error(icms_val, Y_pred_multi12)\n",
    "MAPE_lstm_multi12"
   ]
  },
  {
   "cell_type": "code",
   "execution_count": 73,
   "metadata": {},
   "outputs": [],
   "source": [
    "previsoes['nome'].append('RNN-LSTM-12-meses-larga')\n",
    "previsoes['modelo'].append(model2)\n",
    "previsoes['previsoes'].append(Y_pred_multi12)\n",
    "\n",
    "previsoes['rmse'].append(RMSE_lstm_multi12)\n",
    "\n",
    "previsoes['mape'].append(MAPE_lstm_multi12)"
   ]
  },
  {
   "cell_type": "code",
   "execution_count": 74,
   "metadata": {},
   "outputs": [],
   "source": [
    "previsoes['erro relativo'].append([erro_relativo(prev,real) \n",
    "                                   for prev,real in zip(Y_pred_multi12\n",
    "                                                        , icms_val)])"
   ]
  },
  {
   "cell_type": "markdown",
   "metadata": {},
   "source": [
    "## Arquitetura da Rede - Arquitetura Multicamada"
   ]
  },
  {
   "cell_type": "code",
   "execution_count": 75,
   "metadata": {},
   "outputs": [],
   "source": [
    "rlrop4 = ReduceLROnPlateau(monitor='val_loss', factor=0.1, patience=25, verbose=1)\n",
    "early_stop4 = EarlyStopping(monitor='val_loss', patience=100, verbose=1, \n",
    "                           restore_best_weights=True)"
   ]
  },
  {
   "cell_type": "code",
   "execution_count": 76,
   "metadata": {},
   "outputs": [],
   "source": [
    "# Épocas e tamanho do lote\n",
    "EPOCHS4 = 1000\n",
    "BATCH4 = 8\n",
    "NEURONIOS4 = 600\n",
    "LR4 = 1e-5\n",
    "DROPOUT4 = 0.25\n",
    "\n",
    "# Imstanciação do modelo\n",
    "model4 = Sequential()\n",
    "\n",
    "# Adicionar camada LSTM \n",
    "model4.add(LSTM(activation='tanh', dropout=DROPOUT4,\n",
    "        input_shape = (12, 10), return_sequences = True,\n",
    "        units = NEURONIOS4))\n",
    "\n",
    "# Adicionar camada LSTM \n",
    "model4.add(LSTM(activation='tanh', dropout=DROPOUT4,\n",
    "        input_shape = (12, 10), return_sequences = True,\n",
    "        units = NEURONIOS4))\n",
    "\n",
    "## Adicionar camada LSTM \n",
    "model4.add(LSTM(activation='tanh', dropout=DROPOUT4,\n",
    "        input_shape = (12, 10), return_sequences = False,\n",
    "        units = NEURONIOS4))\n",
    "\n",
    "\n",
    "# Adicionar a camada de saída com 1 neurônio linear\n",
    "model4.add(Dense(\n",
    "        units = 1,\n",
    "        activation = 'linear'))\n",
    "# a learning rate padrão do Adam é 0.001\n",
    "model4.compile(loss = 'mape', optimizer = Adam(learning_rate=LR4))"
   ]
  },
  {
   "cell_type": "code",
   "execution_count": 77,
   "metadata": {},
   "outputs": [
    {
     "name": "stdout",
     "output_type": "stream",
     "text": [
      "Model: \"sequential_3\"\n",
      "_________________________________________________________________\n",
      "Layer (type)                 Output Shape              Param #   \n",
      "=================================================================\n",
      "lstm_5 (LSTM)                (None, 12, 600)           1466400   \n",
      "_________________________________________________________________\n",
      "lstm_6 (LSTM)                (None, 12, 600)           2882400   \n",
      "_________________________________________________________________\n",
      "lstm_7 (LSTM)                (None, 600)               2882400   \n",
      "_________________________________________________________________\n",
      "dense_3 (Dense)              (None, 1)                 601       \n",
      "=================================================================\n",
      "Total params: 7,231,801\n",
      "Trainable params: 7,231,801\n",
      "Non-trainable params: 0\n",
      "_________________________________________________________________\n"
     ]
    }
   ],
   "source": [
    "model4.summary()"
   ]
  },
  {
   "cell_type": "code",
   "execution_count": 78,
   "metadata": {
    "scrolled": true
   },
   "outputs": [
    {
     "name": "stdout",
     "output_type": "stream",
     "text": [
      "Epoch 1/1000\n",
      "11/11 [==============================] - 2s 181ms/step - loss: 99.7284 - val_loss: 98.9703\n",
      "Epoch 2/1000\n",
      "11/11 [==============================] - 1s 101ms/step - loss: 99.2421 - val_loss: 97.9345\n",
      "Epoch 3/1000\n",
      "11/11 [==============================] - 1s 107ms/step - loss: 98.6405 - val_loss: 96.6532\n",
      "Epoch 4/1000\n",
      "11/11 [==============================] - 1s 113ms/step - loss: 97.9084 - val_loss: 94.8753\n",
      "Epoch 5/1000\n",
      "11/11 [==============================] - 1s 119ms/step - loss: 96.8705 - val_loss: 92.1820\n",
      "Epoch 6/1000\n",
      "11/11 [==============================] - 1s 119ms/step - loss: 95.2377 - val_loss: 87.8675\n",
      "Epoch 7/1000\n",
      "11/11 [==============================] - 1s 122ms/step - loss: 92.5081 - val_loss: 80.3925\n",
      "Epoch 8/1000\n",
      "11/11 [==============================] - 1s 121ms/step - loss: 87.7000 - val_loss: 67.5173\n",
      "Epoch 9/1000\n",
      "11/11 [==============================] - 1s 119ms/step - loss: 79.3075 - val_loss: 47.9083\n",
      "Epoch 10/1000\n",
      "11/11 [==============================] - 1s 121ms/step - loss: 65.6738 - val_loss: 27.0155\n",
      "Epoch 11/1000\n",
      "11/11 [==============================] - 1s 120ms/step - loss: 47.6808 - val_loss: 11.4347\n",
      "Epoch 12/1000\n",
      "11/11 [==============================] - 1s 121ms/step - loss: 28.4582 - val_loss: 0.8386\n",
      "Epoch 13/1000\n",
      "11/11 [==============================] - 1s 116ms/step - loss: 14.1463 - val_loss: 5.8062\n",
      "Epoch 14/1000\n",
      "11/11 [==============================] - 1s 118ms/step - loss: 10.3084 - val_loss: 6.5802\n",
      "Epoch 15/1000\n",
      "11/11 [==============================] - 1s 118ms/step - loss: 7.8349 - val_loss: 4.4968\n",
      "Epoch 16/1000\n",
      "11/11 [==============================] - 1s 116ms/step - loss: 6.1834 - val_loss: 1.9099\n",
      "Epoch 17/1000\n",
      "11/11 [==============================] - 1s 119ms/step - loss: 4.5126 - val_loss: 0.2386\n",
      "Epoch 18/1000\n",
      "11/11 [==============================] - 1s 118ms/step - loss: 3.4609 - val_loss: 0.4405\n",
      "Epoch 19/1000\n",
      "11/11 [==============================] - 1s 118ms/step - loss: 3.0353 - val_loss: 0.4758\n",
      "Epoch 20/1000\n",
      "11/11 [==============================] - 1s 124ms/step - loss: 2.4556 - val_loss: 0.1957\n",
      "Epoch 21/1000\n",
      "11/11 [==============================] - 1s 119ms/step - loss: 2.2627 - val_loss: 0.2879\n",
      "Epoch 22/1000\n",
      "11/11 [==============================] - 1s 119ms/step - loss: 1.7782 - val_loss: 0.2454\n",
      "Epoch 23/1000\n",
      "11/11 [==============================] - 1s 118ms/step - loss: 1.6790 - val_loss: 0.2367\n",
      "Epoch 24/1000\n",
      "11/11 [==============================] - 1s 117ms/step - loss: 1.6115 - val_loss: 0.2025\n",
      "Epoch 25/1000\n",
      "11/11 [==============================] - 1s 116ms/step - loss: 1.4990 - val_loss: 0.4431\n",
      "Epoch 26/1000\n",
      "11/11 [==============================] - 1s 116ms/step - loss: 1.3095 - val_loss: 0.4313\n",
      "Epoch 27/1000\n",
      "11/11 [==============================] - 1s 120ms/step - loss: 1.1391 - val_loss: 0.4182\n",
      "Epoch 28/1000\n",
      "11/11 [==============================] - 1s 120ms/step - loss: 1.2280 - val_loss: 0.3154\n",
      "Epoch 29/1000\n",
      "11/11 [==============================] - 1s 124ms/step - loss: 1.1017 - val_loss: 0.4315\n",
      "Epoch 30/1000\n",
      "11/11 [==============================] - 1s 119ms/step - loss: 1.1403 - val_loss: 0.5975\n",
      "Epoch 31/1000\n",
      "11/11 [==============================] - 1s 116ms/step - loss: 1.0181 - val_loss: 0.6296\n",
      "Epoch 32/1000\n",
      "11/11 [==============================] - 1s 117ms/step - loss: 0.9853 - val_loss: 0.2776\n",
      "Epoch 33/1000\n",
      "11/11 [==============================] - 1s 116ms/step - loss: 1.0096 - val_loss: 0.8619\n",
      "Epoch 34/1000\n",
      "11/11 [==============================] - 1s 118ms/step - loss: 1.0551 - val_loss: 0.5236\n",
      "Epoch 35/1000\n",
      "11/11 [==============================] - 1s 116ms/step - loss: 0.8914 - val_loss: 0.6033\n",
      "Epoch 36/1000\n",
      "11/11 [==============================] - 1s 121ms/step - loss: 0.9821 - val_loss: 0.5136\n",
      "Epoch 37/1000\n",
      "11/11 [==============================] - 1s 117ms/step - loss: 0.9865 - val_loss: 0.7344\n",
      "Epoch 38/1000\n",
      "11/11 [==============================] - 1s 115ms/step - loss: 0.9347 - val_loss: 0.5031\n",
      "Epoch 39/1000\n",
      "11/11 [==============================] - 1s 116ms/step - loss: 0.8600 - val_loss: 0.5876\n",
      "Epoch 40/1000\n",
      "11/11 [==============================] - 1s 117ms/step - loss: 0.8238 - val_loss: 0.6129\n",
      "Epoch 41/1000\n",
      "11/11 [==============================] - 1s 118ms/step - loss: 0.8904 - val_loss: 0.5764\n",
      "Epoch 42/1000\n",
      "11/11 [==============================] - 1s 120ms/step - loss: 0.8744 - val_loss: 0.5420\n",
      "Epoch 43/1000\n",
      "11/11 [==============================] - 1s 123ms/step - loss: 0.7841 - val_loss: 0.5520\n",
      "Epoch 44/1000\n",
      "11/11 [==============================] - 1s 116ms/step - loss: 0.7939 - val_loss: 0.6410\n",
      "Epoch 45/1000\n",
      "11/11 [==============================] - ETA: 0s - loss: 0.7948\n",
      "Epoch 00045: ReduceLROnPlateau reducing learning rate to 9.999999747378752e-07.\n",
      "11/11 [==============================] - 1s 117ms/step - loss: 0.7948 - val_loss: 0.4716\n",
      "Epoch 46/1000\n",
      "11/11 [==============================] - 1s 116ms/step - loss: 0.7442 - val_loss: 0.5139\n",
      "Epoch 47/1000\n",
      "11/11 [==============================] - 1s 115ms/step - loss: 0.7784 - val_loss: 0.5169\n",
      "Epoch 48/1000\n",
      "11/11 [==============================] - 1s 114ms/step - loss: 0.8382 - val_loss: 0.5807\n",
      "Epoch 49/1000\n",
      "11/11 [==============================] - 1s 118ms/step - loss: 0.7098 - val_loss: 0.5899\n",
      "Epoch 50/1000\n",
      "11/11 [==============================] - 1s 118ms/step - loss: 0.7151 - val_loss: 0.5408\n",
      "Epoch 51/1000\n",
      "11/11 [==============================] - 1s 118ms/step - loss: 0.7559 - val_loss: 0.5551\n",
      "Epoch 52/1000\n",
      "11/11 [==============================] - 1s 115ms/step - loss: 0.8163 - val_loss: 0.6182\n",
      "Epoch 53/1000\n",
      "11/11 [==============================] - 1s 119ms/step - loss: 0.7407 - val_loss: 0.6476\n",
      "Epoch 54/1000\n",
      "11/11 [==============================] - 1s 121ms/step - loss: 0.7754 - val_loss: 0.6621\n",
      "Epoch 55/1000\n",
      "11/11 [==============================] - 1s 118ms/step - loss: 0.7435 - val_loss: 0.6943\n",
      "Epoch 56/1000\n",
      "11/11 [==============================] - 1s 117ms/step - loss: 0.8074 - val_loss: 0.6282\n",
      "Epoch 57/1000\n",
      "11/11 [==============================] - 1s 116ms/step - loss: 0.7840 - val_loss: 0.5620\n",
      "Epoch 58/1000\n",
      "11/11 [==============================] - 1s 117ms/step - loss: 0.7385 - val_loss: 0.4820\n",
      "Epoch 59/1000\n",
      "11/11 [==============================] - 1s 115ms/step - loss: 0.7386 - val_loss: 0.5010\n",
      "Epoch 60/1000\n",
      "11/11 [==============================] - 1s 118ms/step - loss: 0.7899 - val_loss: 0.5619\n",
      "Epoch 61/1000\n",
      "11/11 [==============================] - 1s 117ms/step - loss: 0.7721 - val_loss: 0.6248\n",
      "Epoch 62/1000\n",
      "11/11 [==============================] - 1s 118ms/step - loss: 0.7743 - val_loss: 0.6310\n",
      "Epoch 63/1000\n",
      "11/11 [==============================] - 1s 120ms/step - loss: 0.7248 - val_loss: 0.5802\n",
      "Epoch 64/1000\n",
      "11/11 [==============================] - 1s 117ms/step - loss: 0.7401 - val_loss: 0.6049\n",
      "Epoch 65/1000\n",
      "11/11 [==============================] - 1s 116ms/step - loss: 0.7363 - val_loss: 0.6293\n",
      "Epoch 66/1000\n",
      "11/11 [==============================] - 1s 115ms/step - loss: 0.7819 - val_loss: 0.6450\n",
      "Epoch 67/1000\n",
      "11/11 [==============================] - 1s 116ms/step - loss: 0.8320 - val_loss: 0.6056\n",
      "Epoch 68/1000\n",
      "11/11 [==============================] - 1s 118ms/step - loss: 0.7087 - val_loss: 0.5914\n",
      "Epoch 69/1000\n",
      "11/11 [==============================] - 1s 119ms/step - loss: 0.7472 - val_loss: 0.6028\n",
      "Epoch 70/1000\n",
      "11/11 [==============================] - ETA: 0s - loss: 0.7499\n",
      "Epoch 00070: ReduceLROnPlateau reducing learning rate to 9.999999974752428e-08.\n",
      "11/11 [==============================] - 1s 115ms/step - loss: 0.7499 - val_loss: 0.6072\n",
      "Epoch 71/1000\n",
      "11/11 [==============================] - 1s 119ms/step - loss: 0.7652 - val_loss: 0.6103\n",
      "Epoch 72/1000\n",
      "11/11 [==============================] - 1s 116ms/step - loss: 0.7732 - val_loss: 0.6102\n",
      "Epoch 73/1000\n",
      "11/11 [==============================] - 1s 116ms/step - loss: 0.7534 - val_loss: 0.6079\n",
      "Epoch 74/1000\n",
      "11/11 [==============================] - 1s 120ms/step - loss: 0.7874 - val_loss: 0.6061\n",
      "Epoch 75/1000\n",
      "11/11 [==============================] - 1s 116ms/step - loss: 0.7575 - val_loss: 0.6059\n",
      "Epoch 76/1000\n",
      "11/11 [==============================] - 1s 115ms/step - loss: 0.8049 - val_loss: 0.6065\n",
      "Epoch 77/1000\n"
     ]
    },
    {
     "name": "stdout",
     "output_type": "stream",
     "text": [
      "11/11 [==============================] - 1s 118ms/step - loss: 0.6702 - val_loss: 0.6050\n",
      "Epoch 78/1000\n",
      "11/11 [==============================] - 1s 121ms/step - loss: 0.7603 - val_loss: 0.6010\n",
      "Epoch 79/1000\n",
      "11/11 [==============================] - 1s 123ms/step - loss: 0.7856 - val_loss: 0.5906\n",
      "Epoch 80/1000\n",
      "11/11 [==============================] - 1s 115ms/step - loss: 0.7300 - val_loss: 0.5901\n",
      "Epoch 81/1000\n",
      "11/11 [==============================] - 1s 117ms/step - loss: 0.6945 - val_loss: 0.5950\n",
      "Epoch 82/1000\n",
      "11/11 [==============================] - 1s 118ms/step - loss: 0.7455 - val_loss: 0.5995\n",
      "Epoch 83/1000\n",
      "11/11 [==============================] - 1s 117ms/step - loss: 0.8105 - val_loss: 0.5954\n",
      "Epoch 84/1000\n",
      "11/11 [==============================] - 1s 119ms/step - loss: 0.7081 - val_loss: 0.5969\n",
      "Epoch 85/1000\n",
      "11/11 [==============================] - 1s 116ms/step - loss: 0.7297 - val_loss: 0.5936\n",
      "Epoch 86/1000\n",
      "11/11 [==============================] - 1s 118ms/step - loss: 0.6894 - val_loss: 0.5944\n",
      "Epoch 87/1000\n",
      "11/11 [==============================] - 1s 117ms/step - loss: 0.7537 - val_loss: 0.5955\n",
      "Epoch 88/1000\n",
      "11/11 [==============================] - 1s 121ms/step - loss: 0.7798 - val_loss: 0.5988\n",
      "Epoch 89/1000\n",
      "11/11 [==============================] - 1s 117ms/step - loss: 0.7745 - val_loss: 0.6018\n",
      "Epoch 90/1000\n",
      "11/11 [==============================] - 1s 114ms/step - loss: 0.8306 - val_loss: 0.5973\n",
      "Epoch 91/1000\n",
      "11/11 [==============================] - 1s 117ms/step - loss: 0.7166 - val_loss: 0.5928\n",
      "Epoch 92/1000\n",
      "11/11 [==============================] - 1s 123ms/step - loss: 0.8287 - val_loss: 0.5885\n",
      "Epoch 93/1000\n",
      "11/11 [==============================] - 1s 125ms/step - loss: 0.7057 - val_loss: 0.5880\n",
      "Epoch 94/1000\n",
      "11/11 [==============================] - 1s 118ms/step - loss: 0.7900 - val_loss: 0.5847\n",
      "Epoch 95/1000\n",
      "11/11 [==============================] - ETA: 0s - loss: 0.7573\n",
      "Epoch 00095: ReduceLROnPlateau reducing learning rate to 1.0000000116860975e-08.\n",
      "11/11 [==============================] - 1s 116ms/step - loss: 0.7573 - val_loss: 0.5841\n",
      "Epoch 96/1000\n",
      "11/11 [==============================] - 1s 120ms/step - loss: 0.7514 - val_loss: 0.5833\n",
      "Epoch 97/1000\n",
      "11/11 [==============================] - 1s 116ms/step - loss: 0.7751 - val_loss: 0.5836\n",
      "Epoch 98/1000\n",
      "11/11 [==============================] - 1s 115ms/step - loss: 0.7579 - val_loss: 0.5838\n",
      "Epoch 99/1000\n",
      "11/11 [==============================] - 1s 116ms/step - loss: 0.7324 - val_loss: 0.5842\n",
      "Epoch 100/1000\n",
      "11/11 [==============================] - 1s 119ms/step - loss: 0.7299 - val_loss: 0.5847\n",
      "Epoch 101/1000\n",
      "11/11 [==============================] - 1s 119ms/step - loss: 0.7336 - val_loss: 0.5849\n",
      "Epoch 102/1000\n",
      "11/11 [==============================] - 1s 117ms/step - loss: 0.8069 - val_loss: 0.5856\n",
      "Epoch 103/1000\n",
      "11/11 [==============================] - 1s 116ms/step - loss: 0.7806 - val_loss: 0.5858\n",
      "Epoch 104/1000\n",
      "11/11 [==============================] - 1s 119ms/step - loss: 0.7416 - val_loss: 0.5860\n",
      "Epoch 105/1000\n",
      "11/11 [==============================] - 1s 123ms/step - loss: 0.7314 - val_loss: 0.5868\n",
      "Epoch 106/1000\n",
      "11/11 [==============================] - 1s 121ms/step - loss: 0.7389 - val_loss: 0.5871\n",
      "Epoch 107/1000\n",
      "11/11 [==============================] - 1s 118ms/step - loss: 0.7596 - val_loss: 0.5871\n",
      "Epoch 108/1000\n",
      "11/11 [==============================] - 1s 118ms/step - loss: 0.7231 - val_loss: 0.5872\n",
      "Epoch 109/1000\n",
      "11/11 [==============================] - 1s 117ms/step - loss: 0.7778 - val_loss: 0.5873\n",
      "Epoch 110/1000\n",
      "11/11 [==============================] - 1s 121ms/step - loss: 0.7389 - val_loss: 0.5876\n",
      "Epoch 111/1000\n",
      "11/11 [==============================] - 1s 117ms/step - loss: 0.7340 - val_loss: 0.5879\n",
      "Epoch 112/1000\n",
      "11/11 [==============================] - 1s 116ms/step - loss: 0.7318 - val_loss: 0.5883\n",
      "Epoch 113/1000\n",
      "11/11 [==============================] - 1s 118ms/step - loss: 0.7469 - val_loss: 0.5886\n",
      "Epoch 114/1000\n",
      "11/11 [==============================] - 1s 118ms/step - loss: 0.7032 - val_loss: 0.5886\n",
      "Epoch 115/1000\n",
      "11/11 [==============================] - 1s 123ms/step - loss: 0.7464 - val_loss: 0.5888\n",
      "Epoch 116/1000\n",
      "11/11 [==============================] - 1s 116ms/step - loss: 0.7027 - val_loss: 0.5889\n",
      "Epoch 117/1000\n",
      "11/11 [==============================] - 1s 117ms/step - loss: 0.7808 - val_loss: 0.5892\n",
      "Epoch 118/1000\n",
      "11/11 [==============================] - 1s 117ms/step - loss: 0.7860 - val_loss: 0.5896\n",
      "Epoch 119/1000\n",
      "11/11 [==============================] - 1s 117ms/step - loss: 0.7593 - val_loss: 0.5900\n",
      "Epoch 120/1000\n",
      "11/11 [==============================] - ETA: 0s - loss: 0.7591\n",
      "Epoch 00120: ReduceLROnPlateau reducing learning rate to 9.999999939225292e-10.\n",
      "Restoring model weights from the end of the best epoch.\n",
      "11/11 [==============================] - 1s 119ms/step - loss: 0.7591 - val_loss: 0.5905\n",
      "Epoch 00120: early stopping\n"
     ]
    }
   ],
   "source": [
    "# History object for plotting our model loss by epoch\n",
    "history4 = model4.fit(x_train12, y_train12, batch_size = BATCH4, \n",
    "                    epochs = EPOCHS4, validation_data = (x_val12, y_val12),\n",
    "                    callbacks = [rlrop4, early_stop4])"
   ]
  },
  {
   "cell_type": "code",
   "execution_count": 79,
   "metadata": {},
   "outputs": [
    {
     "data": {
      "image/png": "[encoded data removed]",
      "text/plain": [
       "<Figure size 720x504 with 1 Axes>"
      ]
     },
     "metadata": {
      "needs_background": "light"
     },
     "output_type": "display_data"
    }
   ],
   "source": [
    "# Loss History\n",
    "fig = plt.figure(figsize=(10, 7))\n",
    "plt.plot(history4.history['loss'])\n",
    "plt.plot(history4.history['val_loss'])\n",
    "plt.title('Model Loss')\n",
    "plt.ylabel('Loss')\n",
    "plt.xlabel('Epoch')\n",
    "plt.legend(['Train', 'Val'], loc='upper right')\n",
    "plt.show()"
   ]
  },
  {
   "cell_type": "markdown",
   "metadata": {},
   "source": [
    "### Previsão Multistep 12 meses em Validação\n",
    "Para ficar adequado à realidade, não podemos usar os dados de 2022 para prever 2022. Portanto, a previsão de 2022 será feita do moto *multistep*, isto é, o mês de janeiro/2022 será previsto usando-se os dados de arrecadação de janeiro a dezembro de 2021; o mês de fevereiro/2022 será previsto usando-se os dados de fevereiro a dezembro de 2021 mais a previsão feita para o mês de janeiro/2022; o mês de março/2022 será previsto usando-se os dados de março a dezembro de 2021 mais os meses de janeiro e fevereiro de 2022 previstos nos passos anteriores. E assim por diante, até que a previsão de dezembro/2022 será feita usando-se os dados de dezembro de 2021 mais as previsões de janeiro a novembro de 2022 feitas nos passos anteriores."
   ]
  },
  {
   "cell_type": "markdown",
   "metadata": {},
   "source": [
    "#### Remove os 12 últimos valores que serão previstos e cria as séries novamente"
   ]
  },
  {
   "cell_type": "code",
   "execution_count": 80,
   "metadata": {},
   "outputs": [
    {
     "name": "stdout",
     "output_type": "stream",
     "text": [
      "(132,)\n",
      "(108,)\n"
     ]
    },
    {
     "data": {
      "text/plain": [
       "pandas.core.series.Series"
      ]
     },
     "execution_count": 80,
     "metadata": {},
     "output_type": "execute_result"
    }
   ],
   "source": [
    "# remove\n",
    "serie_multi122 = l_icms_ts[:-24]\n",
    "print(l_icms_ts.shape)\n",
    "print(serie_multi122.shape)\n",
    "type(serie_multi122)"
   ]
  },
  {
   "cell_type": "code",
   "execution_count": 81,
   "metadata": {},
   "outputs": [
    {
     "name": "stdout",
     "output_type": "stream",
     "text": [
      "0 [[8.714001e+09]]\n",
      "1 [[8.717908e+09]]\n",
      "2 [[8.724929e+09]]\n",
      "3 [[8.734619e+09]]\n",
      "4 [[8.746489e+09]]\n",
      "5 [[8.75749e+09]]\n",
      "6 [[8.77036e+09]]\n",
      "7 [[8.778445e+09]]\n",
      "8 [[8.791379e+09]]\n",
      "9 [[8.804687e+09]]\n",
      "10 [[8.815811e+09]]\n",
      "11 [[8.824004e+09]]\n"
     ]
    }
   ],
   "source": [
    "for i in range(12):\n",
    "    # cria as séries\n",
    "    X_multi122, Y_multi122 = cria_features_target(serie_multi122, verbose=0)\n",
    "\n",
    "    # Faz a normalização usando o modelo fitado na normalização anterior\n",
    "    X_multi_std122 = enc_x.transform(X_multi122)\n",
    "    X_multi_std122 = X_multi_std122.reshape(X_multi_std122.shape[0],10,1)\n",
    "\n",
    "    # Faz o janelamento das séries\n",
    "    x_multi122, y_multi122 = janelamento_12_meses(X_multi_std122, Y_multi122, verbose=0)\n",
    "\n",
    "    # Faz a predição da arrecadação do mês\n",
    "    #y_pred_multi = np.mean(model.predict(x_multi[-1:]), axis=1)#[:,0].ravel()\n",
    "    y_pred_multi122 = model4.predict(x_multi122[-1:])#[:,0].ravel()\n",
    "    print(i, np.exp(y_pred_multi122))\n",
    "\n",
    "    #### Adicionar o valor previsto à série e fazer o novo janelamento\n",
    "    serie_multi122 = pd.Series(np.append(serie_multi122, y_pred_multi122))\n",
    "    type(serie_multi122)"
   ]
  },
  {
   "cell_type": "code",
   "execution_count": 82,
   "metadata": {},
   "outputs": [],
   "source": [
    "Y_pred_multi122 = np.exp(pd.Series(serie_multi122[-12:])) # tira o log das previsões\n",
    "Y_pred_multi122.index = icms_val.index"
   ]
  },
  {
   "cell_type": "code",
   "execution_count": 83,
   "metadata": {},
   "outputs": [
    {
     "data": {
      "text/plain": [
       "date\n",
       "2012-01-01    8.714002e+09\n",
       "2012-02-01    8.717908e+09\n",
       "2012-03-01    8.724928e+09\n",
       "2012-04-01    8.734619e+09\n",
       "2012-05-01    8.746489e+09\n",
       "2012-06-01    8.757490e+09\n",
       "2012-07-01    8.770361e+09\n",
       "2012-08-01    8.778444e+09\n",
       "2012-09-01    8.791380e+09\n",
       "2012-10-01    8.804687e+09\n",
       "2012-11-01    8.815811e+09\n",
       "2012-12-01    8.824004e+09\n",
       "dtype: float64"
      ]
     },
     "execution_count": 83,
     "metadata": {},
     "output_type": "execute_result"
    }
   ],
   "source": [
    "Y_pred_multi122"
   ]
  },
  {
   "cell_type": "code",
   "execution_count": 84,
   "metadata": {},
   "outputs": [
    {
     "data": {
      "text/plain": [
       "565061188.7042085"
      ]
     },
     "execution_count": 84,
     "metadata": {},
     "output_type": "execute_result"
    }
   ],
   "source": [
    "RMSE_lstm_multi122 = mean_squared_error(icms_val, Y_pred_multi122, squared=False)\n",
    "RMSE_lstm_multi122"
   ]
  },
  {
   "cell_type": "code",
   "execution_count": 85,
   "metadata": {
    "scrolled": true
   },
   "outputs": [
    {
     "data": {
      "text/plain": [
       "0.04398335650471643"
      ]
     },
     "execution_count": 85,
     "metadata": {},
     "output_type": "execute_result"
    }
   ],
   "source": [
    "MAPE_lstm_multi122 = mean_absolute_percentage_error(icms_val, Y_pred_multi122)\n",
    "MAPE_lstm_multi122"
   ]
  },
  {
   "cell_type": "code",
   "execution_count": 86,
   "metadata": {},
   "outputs": [],
   "source": [
    "previsoes['nome'].append('RNN-LSTM-12-meses-camadas')\n",
    "previsoes['modelo'].append(model4)\n",
    "previsoes['previsoes'].append(Y_pred_multi122)\n",
    "\n",
    "previsoes['rmse'].append(RMSE_lstm_multi122)\n",
    "\n",
    "previsoes['mape'].append(MAPE_lstm_multi122)"
   ]
  },
  {
   "cell_type": "code",
   "execution_count": 87,
   "metadata": {},
   "outputs": [],
   "source": [
    "previsoes['erro relativo'].append([erro_relativo(prev,real) \n",
    "                                   for prev,real in zip(Y_pred_multi122\n",
    "                                                        , icms_val)])"
   ]
  },
  {
   "cell_type": "markdown",
   "metadata": {},
   "source": [
    "## Resultados"
   ]
  },
  {
   "cell_type": "code",
   "execution_count": 88,
   "metadata": {},
   "outputs": [
    {
     "data": {
      "text/plain": [
       "['RNN-LSTM-1-mês-larga',\n",
       " 'RNN-LSTM-1-mês-camadas',\n",
       " 'RNN-LSTM-12-meses-larga',\n",
       " 'RNN-LSTM-12-meses-camadas']"
      ]
     },
     "execution_count": 88,
     "metadata": {},
     "output_type": "execute_result"
    }
   ],
   "source": [
    "previsoes['nome']"
   ]
  },
  {
   "cell_type": "code",
   "execution_count": 89,
   "metadata": {},
   "outputs": [],
   "source": [
    "df_prev = pd.DataFrame(data=previsoes['previsoes'], \n",
    "                       index=previsoes['nome']).transpose()\n",
    "df_prev[\"real\"] = icms_val\n",
    "df_rmse = pd.DataFrame(data=previsoes['rmse'], \n",
    "                       index=previsoes['nome']).transpose()\n",
    "df_mape = pd.DataFrame(data=previsoes['mape'], \n",
    "                       index=previsoes['nome']).transpose()\n",
    "df_erro = pd.DataFrame(data=previsoes['erro relativo'], \n",
    "                       index=previsoes['nome']).transpose()"
   ]
  },
  {
   "cell_type": "code",
   "execution_count": 90,
   "metadata": {},
   "outputs": [
    {
     "data": {
      "text/html": [
       "<div>\n",
       "<style scoped>\n",
       "    .dataframe tbody tr th:only-of-type {\n",
       "        vertical-align: middle;\n",
       "    }\n",
       "\n",
       "    .dataframe tbody tr th {\n",
       "        vertical-align: top;\n",
       "    }\n",
       "\n",
       "    .dataframe thead th {\n",
       "        text-align: right;\n",
       "    }\n",
       "</style>\n",
       "<table border=\"1\" class=\"dataframe\">\n",
       "  <thead>\n",
       "    <tr style=\"text-align: right;\">\n",
       "      <th></th>\n",
       "      <th>RNN-LSTM-1-mês-larga</th>\n",
       "      <th>RNN-LSTM-1-mês-camadas</th>\n",
       "      <th>RNN-LSTM-12-meses-larga</th>\n",
       "      <th>RNN-LSTM-12-meses-camadas</th>\n",
       "      <th>real</th>\n",
       "    </tr>\n",
       "    <tr>\n",
       "      <th>date</th>\n",
       "      <th></th>\n",
       "      <th></th>\n",
       "      <th></th>\n",
       "      <th></th>\n",
       "      <th></th>\n",
       "    </tr>\n",
       "  </thead>\n",
       "  <tbody>\n",
       "    <tr>\n",
       "      <th>2012-01-01</th>\n",
       "      <td>9.284113e+09</td>\n",
       "      <td>9.015565e+09</td>\n",
       "      <td>9.383541e+09</td>\n",
       "      <td>8.714002e+09</td>\n",
       "      <td>8.415596e+09</td>\n",
       "    </tr>\n",
       "    <tr>\n",
       "      <th>2012-02-01</th>\n",
       "      <td>9.263860e+09</td>\n",
       "      <td>9.032191e+09</td>\n",
       "      <td>9.378978e+09</td>\n",
       "      <td>8.717908e+09</td>\n",
       "      <td>7.817540e+09</td>\n",
       "    </tr>\n",
       "    <tr>\n",
       "      <th>2012-03-01</th>\n",
       "      <td>9.332226e+09</td>\n",
       "      <td>9.098831e+09</td>\n",
       "      <td>9.351416e+09</td>\n",
       "      <td>8.724928e+09</td>\n",
       "      <td>8.641821e+09</td>\n",
       "    </tr>\n",
       "    <tr>\n",
       "      <th>2012-04-01</th>\n",
       "      <td>9.346156e+09</td>\n",
       "      <td>9.112377e+09</td>\n",
       "      <td>9.350810e+09</td>\n",
       "      <td>8.734619e+09</td>\n",
       "      <td>8.978637e+09</td>\n",
       "    </tr>\n",
       "    <tr>\n",
       "      <th>2012-05-01</th>\n",
       "      <td>9.348670e+09</td>\n",
       "      <td>9.129409e+09</td>\n",
       "      <td>9.355377e+09</td>\n",
       "      <td>8.746489e+09</td>\n",
       "      <td>8.658720e+09</td>\n",
       "    </tr>\n",
       "    <tr>\n",
       "      <th>2012-06-01</th>\n",
       "      <td>9.348474e+09</td>\n",
       "      <td>9.144379e+09</td>\n",
       "      <td>9.350899e+09</td>\n",
       "      <td>8.757490e+09</td>\n",
       "      <td>8.728690e+09</td>\n",
       "    </tr>\n",
       "    <tr>\n",
       "      <th>2012-07-01</th>\n",
       "      <td>9.348135e+09</td>\n",
       "      <td>9.138085e+09</td>\n",
       "      <td>9.351684e+09</td>\n",
       "      <td>8.770361e+09</td>\n",
       "      <td>8.646155e+09</td>\n",
       "    </tr>\n",
       "    <tr>\n",
       "      <th>2012-08-01</th>\n",
       "      <td>9.346441e+09</td>\n",
       "      <td>9.157277e+09</td>\n",
       "      <td>9.349383e+09</td>\n",
       "      <td>8.778444e+09</td>\n",
       "      <td>9.020437e+09</td>\n",
       "    </tr>\n",
       "    <tr>\n",
       "      <th>2012-09-01</th>\n",
       "      <td>9.347689e+09</td>\n",
       "      <td>9.153610e+09</td>\n",
       "      <td>9.352165e+09</td>\n",
       "      <td>8.791380e+09</td>\n",
       "      <td>9.082476e+09</td>\n",
       "    </tr>\n",
       "    <tr>\n",
       "      <th>2012-10-01</th>\n",
       "      <td>9.345229e+09</td>\n",
       "      <td>9.158517e+09</td>\n",
       "      <td>9.364178e+09</td>\n",
       "      <td>8.804687e+09</td>\n",
       "      <td>9.544433e+09</td>\n",
       "    </tr>\n",
       "    <tr>\n",
       "      <th>2012-11-01</th>\n",
       "      <td>9.342128e+09</td>\n",
       "      <td>9.165507e+09</td>\n",
       "      <td>9.377494e+09</td>\n",
       "      <td>8.815811e+09</td>\n",
       "      <td>9.154402e+09</td>\n",
       "    </tr>\n",
       "    <tr>\n",
       "      <th>2012-12-01</th>\n",
       "      <td>9.342983e+09</td>\n",
       "      <td>9.165140e+09</td>\n",
       "      <td>9.383792e+09</td>\n",
       "      <td>8.824004e+09</td>\n",
       "      <td>1.025097e+10</td>\n",
       "    </tr>\n",
       "  </tbody>\n",
       "</table>\n",
       "</div>"
      ],
      "text/plain": [
       "            RNN-LSTM-1-mês-larga  RNN-LSTM-1-mês-camadas  \\\n",
       "date                                                       \n",
       "2012-01-01          9.284113e+09            9.015565e+09   \n",
       "2012-02-01          9.263860e+09            9.032191e+09   \n",
       "2012-03-01          9.332226e+09            9.098831e+09   \n",
       "2012-04-01          9.346156e+09            9.112377e+09   \n",
       "2012-05-01          9.348670e+09            9.129409e+09   \n",
       "2012-06-01          9.348474e+09            9.144379e+09   \n",
       "2012-07-01          9.348135e+09            9.138085e+09   \n",
       "2012-08-01          9.346441e+09            9.157277e+09   \n",
       "2012-09-01          9.347689e+09            9.153610e+09   \n",
       "2012-10-01          9.345229e+09            9.158517e+09   \n",
       "2012-11-01          9.342128e+09            9.165507e+09   \n",
       "2012-12-01          9.342983e+09            9.165140e+09   \n",
       "\n",
       "            RNN-LSTM-12-meses-larga  RNN-LSTM-12-meses-camadas          real  \n",
       "date                                                                          \n",
       "2012-01-01             9.383541e+09               8.714002e+09  8.415596e+09  \n",
       "2012-02-01             9.378978e+09               8.717908e+09  7.817540e+09  \n",
       "2012-03-01             9.351416e+09               8.724928e+09  8.641821e+09  \n",
       "2012-04-01             9.350810e+09               8.734619e+09  8.978637e+09  \n",
       "2012-05-01             9.355377e+09               8.746489e+09  8.658720e+09  \n",
       "2012-06-01             9.350899e+09               8.757490e+09  8.728690e+09  \n",
       "2012-07-01             9.351684e+09               8.770361e+09  8.646155e+09  \n",
       "2012-08-01             9.349383e+09               8.778444e+09  9.020437e+09  \n",
       "2012-09-01             9.352165e+09               8.791380e+09  9.082476e+09  \n",
       "2012-10-01             9.364178e+09               8.804687e+09  9.544433e+09  \n",
       "2012-11-01             9.377494e+09               8.815811e+09  9.154402e+09  \n",
       "2012-12-01             9.383792e+09               8.824004e+09  1.025097e+10  "
      ]
     },
     "execution_count": 90,
     "metadata": {},
     "output_type": "execute_result"
    }
   ],
   "source": [
    "df_prev"
   ]
  },
  {
   "cell_type": "code",
   "execution_count": 91,
   "metadata": {},
   "outputs": [
    {
     "data": {
      "text/html": [
       "<div>\n",
       "<style scoped>\n",
       "    .dataframe tbody tr th:only-of-type {\n",
       "        vertical-align: middle;\n",
       "    }\n",
       "\n",
       "    .dataframe tbody tr th {\n",
       "        vertical-align: top;\n",
       "    }\n",
       "\n",
       "    .dataframe thead th {\n",
       "        text-align: right;\n",
       "    }\n",
       "</style>\n",
       "<table border=\"1\" class=\"dataframe\">\n",
       "  <thead>\n",
       "    <tr style=\"text-align: right;\">\n",
       "      <th></th>\n",
       "      <th>RNN-LSTM-1-mês-larga</th>\n",
       "      <th>RNN-LSTM-1-mês-camadas</th>\n",
       "      <th>RNN-LSTM-12-meses-larga</th>\n",
       "      <th>RNN-LSTM-12-meses-camadas</th>\n",
       "    </tr>\n",
       "  </thead>\n",
       "  <tbody>\n",
       "    <tr>\n",
       "      <th>0</th>\n",
       "      <td>10.320326</td>\n",
       "      <td>7.129245</td>\n",
       "      <td>11.501800</td>\n",
       "      <td>3.545862</td>\n",
       "    </tr>\n",
       "    <tr>\n",
       "      <th>1</th>\n",
       "      <td>18.500953</td>\n",
       "      <td>15.537508</td>\n",
       "      <td>19.973524</td>\n",
       "      <td>11.517282</td>\n",
       "    </tr>\n",
       "    <tr>\n",
       "      <th>2</th>\n",
       "      <td>7.989119</td>\n",
       "      <td>5.288351</td>\n",
       "      <td>8.211180</td>\n",
       "      <td>0.961688</td>\n",
       "    </tr>\n",
       "    <tr>\n",
       "      <th>3</th>\n",
       "      <td>4.093266</td>\n",
       "      <td>1.489545</td>\n",
       "      <td>4.145098</td>\n",
       "      <td>2.717758</td>\n",
       "    </tr>\n",
       "    <tr>\n",
       "      <th>4</th>\n",
       "      <td>7.968261</td>\n",
       "      <td>5.436004</td>\n",
       "      <td>8.045720</td>\n",
       "      <td>1.013642</td>\n",
       "    </tr>\n",
       "    <tr>\n",
       "      <th>5</th>\n",
       "      <td>7.100540</td>\n",
       "      <td>4.762332</td>\n",
       "      <td>7.128326</td>\n",
       "      <td>0.329947</td>\n",
       "    </tr>\n",
       "    <tr>\n",
       "      <th>6</th>\n",
       "      <td>8.118985</td>\n",
       "      <td>5.689576</td>\n",
       "      <td>8.160030</td>\n",
       "      <td>1.436545</td>\n",
       "    </tr>\n",
       "    <tr>\n",
       "      <th>7</th>\n",
       "      <td>3.614066</td>\n",
       "      <td>1.517004</td>\n",
       "      <td>3.646680</td>\n",
       "      <td>2.682714</td>\n",
       "    </tr>\n",
       "    <tr>\n",
       "      <th>8</th>\n",
       "      <td>2.920049</td>\n",
       "      <td>0.783195</td>\n",
       "      <td>2.969333</td>\n",
       "      <td>3.205036</td>\n",
       "    </tr>\n",
       "    <tr>\n",
       "      <th>9</th>\n",
       "      <td>2.087119</td>\n",
       "      <td>4.043357</td>\n",
       "      <td>1.888585</td>\n",
       "      <td>7.750547</td>\n",
       "    </tr>\n",
       "    <tr>\n",
       "      <th>10</th>\n",
       "      <td>2.050661</td>\n",
       "      <td>0.121308</td>\n",
       "      <td>2.436984</td>\n",
       "      <td>3.698668</td>\n",
       "    </tr>\n",
       "    <tr>\n",
       "      <th>11</th>\n",
       "      <td>8.857607</td>\n",
       "      <td>10.592498</td>\n",
       "      <td>8.459515</td>\n",
       "      <td>13.920340</td>\n",
       "    </tr>\n",
       "  </tbody>\n",
       "</table>\n",
       "</div>"
      ],
      "text/plain": [
       "    RNN-LSTM-1-mês-larga  RNN-LSTM-1-mês-camadas  RNN-LSTM-12-meses-larga  \\\n",
       "0              10.320326                7.129245                11.501800   \n",
       "1              18.500953               15.537508                19.973524   \n",
       "2               7.989119                5.288351                 8.211180   \n",
       "3               4.093266                1.489545                 4.145098   \n",
       "4               7.968261                5.436004                 8.045720   \n",
       "5               7.100540                4.762332                 7.128326   \n",
       "6               8.118985                5.689576                 8.160030   \n",
       "7               3.614066                1.517004                 3.646680   \n",
       "8               2.920049                0.783195                 2.969333   \n",
       "9               2.087119                4.043357                 1.888585   \n",
       "10              2.050661                0.121308                 2.436984   \n",
       "11              8.857607               10.592498                 8.459515   \n",
       "\n",
       "    RNN-LSTM-12-meses-camadas  \n",
       "0                    3.545862  \n",
       "1                   11.517282  \n",
       "2                    0.961688  \n",
       "3                    2.717758  \n",
       "4                    1.013642  \n",
       "5                    0.329947  \n",
       "6                    1.436545  \n",
       "7                    2.682714  \n",
       "8                    3.205036  \n",
       "9                    7.750547  \n",
       "10                   3.698668  \n",
       "11                  13.920340  "
      ]
     },
     "execution_count": 91,
     "metadata": {},
     "output_type": "execute_result"
    }
   ],
   "source": [
    "df_erro"
   ]
  },
  {
   "cell_type": "markdown",
   "metadata": {},
   "source": [
    "#### Previsões"
   ]
  },
  {
   "cell_type": "code",
   "execution_count": 92,
   "metadata": {},
   "outputs": [
    {
     "data": {
      "image/png": "[encoded data removed]",
      "text/plain": [
       "<Figure size 1080x720 with 1 Axes>"
      ]
     },
     "metadata": {
      "needs_background": "light"
     },
     "output_type": "display_data"
    }
   ],
   "source": [
    "fig = plt.figure(figsize=(15, 10))\n",
    "ax = sns.lineplot(data=df_prev)"
   ]
  },
  {
   "cell_type": "markdown",
   "metadata": {},
   "source": [
    "#### RMSE"
   ]
  },
  {
   "cell_type": "code",
   "execution_count": 93,
   "metadata": {
    "scrolled": false
   },
   "outputs": [
    {
     "data": {
      "image/png": "[encoded data removed]",
      "text/plain": [
       "<Figure size 1080x720 with 1 Axes>"
      ]
     },
     "metadata": {
      "needs_background": "light"
     },
     "output_type": "display_data"
    }
   ],
   "source": [
    "fig = plt.figure(figsize=(15, 10))\n",
    "#df_rmse = df_rmse.drop(['mov_avg_12'], axis=1)\n",
    "ax = sns.barplot(data=df_rmse)\n",
    "_ = plt.xticks(rotation=45)"
   ]
  },
  {
   "cell_type": "markdown",
   "metadata": {},
   "source": [
    "#### MAPE"
   ]
  },
  {
   "cell_type": "code",
   "execution_count": 94,
   "metadata": {
    "scrolled": false
   },
   "outputs": [
    {
     "data": {
      "image/png": "[encoded data removed]",
      "text/plain": [
       "<Figure size 1080x720 with 1 Axes>"
      ]
     },
     "metadata": {
      "needs_background": "light"
     },
     "output_type": "display_data"
    }
   ],
   "source": [
    "fig = plt.figure(figsize=(15, 10))\n",
    "#df_mape = df_mape.drop(['mov_avg_12'], axis=1)\n",
    "ax = sns.barplot(data=df_mape)\n",
    "_ = plt.xticks(rotation=45)"
   ]
  },
  {
   "cell_type": "markdown",
   "metadata": {},
   "source": [
    "### Resumo das métricas"
   ]
  },
  {
   "cell_type": "code",
   "execution_count": 95,
   "metadata": {},
   "outputs": [],
   "source": [
    "df_rmse.index = ['RMSE']\n",
    "df_mape.index = ['MAPE']"
   ]
  },
  {
   "cell_type": "code",
   "execution_count": 97,
   "metadata": {},
   "outputs": [
    {
     "data": {
      "text/html": [
       "<div>\n",
       "<style scoped>\n",
       "    .dataframe tbody tr th:only-of-type {\n",
       "        vertical-align: middle;\n",
       "    }\n",
       "\n",
       "    .dataframe tbody tr th {\n",
       "        vertical-align: top;\n",
       "    }\n",
       "\n",
       "    .dataframe thead th {\n",
       "        text-align: right;\n",
       "    }\n",
       "</style>\n",
       "<table border=\"1\" class=\"dataframe\">\n",
       "  <thead>\n",
       "    <tr style=\"text-align: right;\">\n",
       "      <th></th>\n",
       "      <th>RMSE</th>\n",
       "      <th>MAPE</th>\n",
       "    </tr>\n",
       "  </thead>\n",
       "  <tbody>\n",
       "    <tr>\n",
       "      <th>RNN-LSTM-1-mês-larga</th>\n",
       "      <td>7.004057e+08</td>\n",
       "      <td>0.069684</td>\n",
       "    </tr>\n",
       "    <tr>\n",
       "      <th>RNN-LSTM-1-mês-camadas</th>\n",
       "      <td>5.809689e+08</td>\n",
       "      <td>0.051992</td>\n",
       "    </tr>\n",
       "    <tr>\n",
       "      <th>RNN-LSTM-12-meses-larga</th>\n",
       "      <td>7.304392e+08</td>\n",
       "      <td>0.072139</td>\n",
       "    </tr>\n",
       "    <tr>\n",
       "      <th>RNN-LSTM-12-meses-camadas</th>\n",
       "      <td>5.650612e+08</td>\n",
       "      <td>0.043983</td>\n",
       "    </tr>\n",
       "  </tbody>\n",
       "</table>\n",
       "</div>"
      ],
      "text/plain": [
       "                                   RMSE      MAPE\n",
       "RNN-LSTM-1-mês-larga       7.004057e+08  0.069684\n",
       "RNN-LSTM-1-mês-camadas     5.809689e+08  0.051992\n",
       "RNN-LSTM-12-meses-larga    7.304392e+08  0.072139\n",
       "RNN-LSTM-12-meses-camadas  5.650612e+08  0.043983"
      ]
     },
     "execution_count": 97,
     "metadata": {},
     "output_type": "execute_result"
    }
   ],
   "source": [
    "df_metricas = df_rmse.copy()\n",
    "df_metricas = df_metricas.append(df_mape.copy())\n",
    "df_metricas.transpose()"
   ]
  },
  {
   "cell_type": "code",
   "execution_count": 99,
   "metadata": {},
   "outputs": [],
   "source": [
    "df_metricas.transpose().to_excel('./metricas_val_rnn_uni_2013.xlsx', index_label='modelo')"
   ]
  },
  {
   "cell_type": "code",
   "execution_count": null,
   "metadata": {},
   "outputs": [],
   "source": []
  }
 ],
 "metadata": {
  "kernelspec": {
   "display_name": "Python 3",
   "language": "python",
   "name": "python3"
  },
  "language_info": {
   "codemirror_mode": {
    "name": "ipython",
    "version": 3
   },
   "file_extension": ".py",
   "mimetype": "text/x-python",
   "name": "python",
   "nbconvert_exporter": "python",
   "pygments_lexer": "ipython3",
   "version": "3.6.4"
  }
 },
 "nbformat": 4,
 "nbformat_minor": 2
}
