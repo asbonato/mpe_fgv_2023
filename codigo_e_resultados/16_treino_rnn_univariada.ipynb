{
 "cells": [
  {
   "cell_type": "markdown",
   "metadata": {},
   "source": [
    "# Aplicação de Modelos de Markov e Redes Neurais LSTM na Previsão de Arrecadação do ICMS Paulista\n",
    "## Resultados 2016\n",
    "\n",
    "### Antonio Sergio Ferreira Bonato"
   ]
  },
  {
   "cell_type": "markdown",
   "metadata": {},
   "source": [
    "Atualmente, na Secretaria da Fazenda e Planejamento do Estado de São Paulo, a previsão de arrecadação do ICMS paulista é feita usando-se um modelo ARIMA com variáveis exógenas, o ARIMAX. Mas o ICMS é não linear e há várias quebras estruturais controladas com diversas *dummies*. A consequência é um modelo bastante sobreajustado, inadequado para previsões de mais longo prazo (mais do que alguns meses, muito menos para um ano). \n",
    "A proposta deste trabalho é utilizar modelos não lineares multivariados na previsão do ICMS paulista, utilizando redes neurais recorrentes LSTM (*Long Short Term Memory*) e modelos Markov-Switching, fazendo um contraponto entre estes dois modelos. E utilizar, como baseline de comparação, o modelo ARIMAX atual. \n",
    "\n",
    "**Palavras-chave**: Markov-Switching Models. Redes Neurais Recorrentes. LSTM. ICMS."
   ]
  },
  {
   "cell_type": "markdown",
   "metadata": {},
   "source": [
    "## Treinamento das Redes Neurais - Série Univariada"
   ]
  },
  {
   "cell_type": "code",
   "execution_count": 1,
   "metadata": {},
   "outputs": [],
   "source": [
    "import pandas as pd\n",
    "import numpy as np\n",
    "import seaborn as sns\n",
    "import matplotlib.pyplot as plt\n",
    "import statsmodels.tsa.stattools\n",
    "import statsmodels.tsa.x13\n",
    "import statsmodels.graphics.tsaplots\n",
    "import statsmodels.api as sm\n",
    "from statsmodels.graphics.api import qqplot\n",
    "from statsmodels.tsa.api import acf, graphics, pacf\n",
    "from statsmodels.tsa.arima.model import ARIMA\n",
    "import pickle\n",
    "from pmdarima.arima import auto_arima, nsdiffs, ndiffs\n",
    "from sklearn.metrics import mean_squared_error, mean_absolute_percentage_error\n",
    "import random\n",
    "import tensorflow as tf\n",
    "seed = 42\n",
    "random.seed(seed)\n",
    "np.random.seed(seed)\n",
    "tf.random.set_seed(seed)\n",
    "\n",
    "sns.set()\n",
    "sns.set_context(\"notebook\")\n",
    "sns.set(rc={'figure.figsize':(10,7)})"
   ]
  },
  {
   "cell_type": "code",
   "execution_count": 2,
   "metadata": {},
   "outputs": [],
   "source": [
    "import warnings\n",
    "warnings.filterwarnings('ignore')\n",
    "warnings.simplefilter('ignore')"
   ]
  },
  {
   "cell_type": "code",
   "execution_count": 3,
   "metadata": {},
   "outputs": [],
   "source": [
    "df_main_orig = pd.read_excel(\"variaveis_previsao.xlsx\", parse_dates=['date'])"
   ]
  },
  {
   "cell_type": "markdown",
   "metadata": {},
   "source": [
    "Removendo as últimas linhas que são todas NaN"
   ]
  },
  {
   "cell_type": "code",
   "execution_count": 4,
   "metadata": {},
   "outputs": [],
   "source": [
    "df_main = df_main_orig.iloc[0:168]\n",
    "datas = df_main['date']"
   ]
  },
  {
   "cell_type": "code",
   "execution_count": 5,
   "metadata": {},
   "outputs": [
    {
     "data": {
      "text/html": [
       "<div>\n",
       "<style scoped>\n",
       "    .dataframe tbody tr th:only-of-type {\n",
       "        vertical-align: middle;\n",
       "    }\n",
       "\n",
       "    .dataframe tbody tr th {\n",
       "        vertical-align: top;\n",
       "    }\n",
       "\n",
       "    .dataframe thead th {\n",
       "        text-align: right;\n",
       "    }\n",
       "</style>\n",
       "<table border=\"1\" class=\"dataframe\">\n",
       "  <thead>\n",
       "    <tr style=\"text-align: right;\">\n",
       "      <th></th>\n",
       "      <th>date</th>\n",
       "      <th>icms_sp</th>\n",
       "      <th>igp_m</th>\n",
       "      <th>dolar</th>\n",
       "      <th>ibc_br</th>\n",
       "      <th>dias_uteis</th>\n",
       "      <th>igp_m_22</th>\n",
       "      <th>dolar_22</th>\n",
       "      <th>ibc_br_22</th>\n",
       "      <th>igp_m_21</th>\n",
       "      <th>...</th>\n",
       "      <th>ibc_br_16</th>\n",
       "      <th>igp_m_15</th>\n",
       "      <th>dolar_15</th>\n",
       "      <th>ibc_br_15</th>\n",
       "      <th>igp_m_14</th>\n",
       "      <th>dolar_14</th>\n",
       "      <th>ibc_br_14</th>\n",
       "      <th>igp_m_13</th>\n",
       "      <th>dolar_13</th>\n",
       "      <th>ibc_br_13</th>\n",
       "    </tr>\n",
       "  </thead>\n",
       "  <tbody>\n",
       "    <tr>\n",
       "      <th>163</th>\n",
       "      <td>2016-08-01</td>\n",
       "      <td>1.012199e+10</td>\n",
       "      <td>655.602</td>\n",
       "      <td>3.209661</td>\n",
       "      <td>138.17</td>\n",
       "      <td>23</td>\n",
       "      <td>655.602</td>\n",
       "      <td>3.209661</td>\n",
       "      <td>138.17</td>\n",
       "      <td>655.602</td>\n",
       "      <td>...</td>\n",
       "      <td>138.833735</td>\n",
       "      <td>NaN</td>\n",
       "      <td>NaN</td>\n",
       "      <td>NaN</td>\n",
       "      <td>NaN</td>\n",
       "      <td>NaN</td>\n",
       "      <td>NaN</td>\n",
       "      <td>NaN</td>\n",
       "      <td>NaN</td>\n",
       "      <td>NaN</td>\n",
       "    </tr>\n",
       "    <tr>\n",
       "      <th>164</th>\n",
       "      <td>2016-09-01</td>\n",
       "      <td>1.003972e+10</td>\n",
       "      <td>656.894</td>\n",
       "      <td>3.256371</td>\n",
       "      <td>133.88</td>\n",
       "      <td>21</td>\n",
       "      <td>656.894</td>\n",
       "      <td>3.256371</td>\n",
       "      <td>133.88</td>\n",
       "      <td>656.894</td>\n",
       "      <td>...</td>\n",
       "      <td>135.970326</td>\n",
       "      <td>NaN</td>\n",
       "      <td>NaN</td>\n",
       "      <td>NaN</td>\n",
       "      <td>NaN</td>\n",
       "      <td>NaN</td>\n",
       "      <td>NaN</td>\n",
       "      <td>NaN</td>\n",
       "      <td>NaN</td>\n",
       "      <td>NaN</td>\n",
       "    </tr>\n",
       "    <tr>\n",
       "      <th>165</th>\n",
       "      <td>2016-10-01</td>\n",
       "      <td>1.040347e+10</td>\n",
       "      <td>657.927</td>\n",
       "      <td>3.185800</td>\n",
       "      <td>132.74</td>\n",
       "      <td>20</td>\n",
       "      <td>657.927</td>\n",
       "      <td>3.185800</td>\n",
       "      <td>132.74</td>\n",
       "      <td>657.927</td>\n",
       "      <td>...</td>\n",
       "      <td>138.212684</td>\n",
       "      <td>NaN</td>\n",
       "      <td>NaN</td>\n",
       "      <td>NaN</td>\n",
       "      <td>NaN</td>\n",
       "      <td>NaN</td>\n",
       "      <td>NaN</td>\n",
       "      <td>NaN</td>\n",
       "      <td>NaN</td>\n",
       "      <td>NaN</td>\n",
       "    </tr>\n",
       "    <tr>\n",
       "      <th>166</th>\n",
       "      <td>2016-11-01</td>\n",
       "      <td>1.026535e+10</td>\n",
       "      <td>657.752</td>\n",
       "      <td>3.342000</td>\n",
       "      <td>132.37</td>\n",
       "      <td>20</td>\n",
       "      <td>657.752</td>\n",
       "      <td>3.342000</td>\n",
       "      <td>132.37</td>\n",
       "      <td>657.752</td>\n",
       "      <td>...</td>\n",
       "      <td>135.811314</td>\n",
       "      <td>NaN</td>\n",
       "      <td>NaN</td>\n",
       "      <td>NaN</td>\n",
       "      <td>NaN</td>\n",
       "      <td>NaN</td>\n",
       "      <td>NaN</td>\n",
       "      <td>NaN</td>\n",
       "      <td>NaN</td>\n",
       "      <td>NaN</td>\n",
       "    </tr>\n",
       "    <tr>\n",
       "      <th>167</th>\n",
       "      <td>2016-12-01</td>\n",
       "      <td>1.098004e+10</td>\n",
       "      <td>661.304</td>\n",
       "      <td>3.352268</td>\n",
       "      <td>133.32</td>\n",
       "      <td>22</td>\n",
       "      <td>661.304</td>\n",
       "      <td>3.352268</td>\n",
       "      <td>133.32</td>\n",
       "      <td>661.304</td>\n",
       "      <td>...</td>\n",
       "      <td>133.955092</td>\n",
       "      <td>NaN</td>\n",
       "      <td>NaN</td>\n",
       "      <td>NaN</td>\n",
       "      <td>NaN</td>\n",
       "      <td>NaN</td>\n",
       "      <td>NaN</td>\n",
       "      <td>NaN</td>\n",
       "      <td>NaN</td>\n",
       "      <td>NaN</td>\n",
       "    </tr>\n",
       "  </tbody>\n",
       "</table>\n",
       "<p>5 rows × 36 columns</p>\n",
       "</div>"
      ],
      "text/plain": [
       "          date       icms_sp    igp_m     dolar  ibc_br  dias_uteis  igp_m_22  \\\n",
       "163 2016-08-01  1.012199e+10  655.602  3.209661  138.17          23   655.602   \n",
       "164 2016-09-01  1.003972e+10  656.894  3.256371  133.88          21   656.894   \n",
       "165 2016-10-01  1.040347e+10  657.927  3.185800  132.74          20   657.927   \n",
       "166 2016-11-01  1.026535e+10  657.752  3.342000  132.37          20   657.752   \n",
       "167 2016-12-01  1.098004e+10  661.304  3.352268  133.32          22   661.304   \n",
       "\n",
       "     dolar_22  ibc_br_22  igp_m_21  ...   ibc_br_16  igp_m_15  dolar_15  \\\n",
       "163  3.209661     138.17   655.602  ...  138.833735       NaN       NaN   \n",
       "164  3.256371     133.88   656.894  ...  135.970326       NaN       NaN   \n",
       "165  3.185800     132.74   657.927  ...  138.212684       NaN       NaN   \n",
       "166  3.342000     132.37   657.752  ...  135.811314       NaN       NaN   \n",
       "167  3.352268     133.32   661.304  ...  133.955092       NaN       NaN   \n",
       "\n",
       "     ibc_br_15  igp_m_14  dolar_14  ibc_br_14  igp_m_13  dolar_13  ibc_br_13  \n",
       "163        NaN       NaN       NaN        NaN       NaN       NaN        NaN  \n",
       "164        NaN       NaN       NaN        NaN       NaN       NaN        NaN  \n",
       "165        NaN       NaN       NaN        NaN       NaN       NaN        NaN  \n",
       "166        NaN       NaN       NaN        NaN       NaN       NaN        NaN  \n",
       "167        NaN       NaN       NaN        NaN       NaN       NaN        NaN  \n",
       "\n",
       "[5 rows x 36 columns]"
      ]
     },
     "execution_count": 5,
     "metadata": {},
     "output_type": "execute_result"
    }
   ],
   "source": [
    "df_main.tail()"
   ]
  },
  {
   "cell_type": "markdown",
   "metadata": {},
   "source": [
    "### Criação das Séries"
   ]
  },
  {
   "cell_type": "code",
   "execution_count": 6,
   "metadata": {},
   "outputs": [],
   "source": [
    "icms_ts = pd.Series(list(df_main['icms_sp']), index = datas)"
   ]
  },
  {
   "cell_type": "markdown",
   "metadata": {},
   "source": [
    "#### Testes de Valores Nulos"
   ]
  },
  {
   "cell_type": "code",
   "execution_count": 7,
   "metadata": {},
   "outputs": [
    {
     "name": "stdout",
     "output_type": "stream",
     "text": [
      "ICMS 0\n"
     ]
    }
   ],
   "source": [
    "print('ICMS', icms_ts.isnull().sum())"
   ]
  },
  {
   "cell_type": "code",
   "execution_count": 8,
   "metadata": {},
   "outputs": [
    {
     "data": {
      "text/plain": [
       "Series([], dtype: float64)"
      ]
     },
     "execution_count": 8,
     "metadata": {},
     "output_type": "execute_result"
    }
   ],
   "source": [
    "# listando os nulos do icms\n",
    "icms_ts[icms_ts.isnull()]"
   ]
  },
  {
   "cell_type": "code",
   "execution_count": 9,
   "metadata": {},
   "outputs": [],
   "source": [
    "# eliminando os nulos do icms\n",
    "icms_ts = icms_ts[~icms_ts.isnull()]"
   ]
  },
  {
   "cell_type": "code",
   "execution_count": 10,
   "metadata": {},
   "outputs": [
    {
     "data": {
      "text/plain": [
       "(168,)"
      ]
     },
     "execution_count": 10,
     "metadata": {},
     "output_type": "execute_result"
    }
   ],
   "source": [
    "icms_ts.shape"
   ]
  },
  {
   "cell_type": "markdown",
   "metadata": {},
   "source": [
    "### Série em Log\n",
    "Como os valores do ICMS são muito elevados a série será colocada em log."
   ]
  },
  {
   "cell_type": "code",
   "execution_count": 11,
   "metadata": {},
   "outputs": [],
   "source": [
    "l_icms_ts = pd.Series(np.log(list(df_main['icms_sp'])), index = datas)"
   ]
  },
  {
   "cell_type": "markdown",
   "metadata": {},
   "source": [
    "## Divisão em treino e teste"
   ]
  },
  {
   "cell_type": "code",
   "execution_count": 12,
   "metadata": {},
   "outputs": [],
   "source": [
    "icms_train = icms_ts[:-24]\n",
    "icms_val = icms_ts[-24:-12]\n",
    "icms_test = icms_ts[-12:]"
   ]
  },
  {
   "cell_type": "code",
   "execution_count": 13,
   "metadata": {},
   "outputs": [
    {
     "name": "stdout",
     "output_type": "stream",
     "text": [
      "##############################\n",
      " date\n",
      "2003-01-01    3.360296e+09\n",
      "2003-02-01    3.196558e+09\n",
      "2003-03-01    3.160011e+09\n",
      "2003-04-01    3.215307e+09\n",
      "2003-05-01    3.098930e+09\n",
      "                  ...     \n",
      "2014-08-01    9.500060e+09\n",
      "2014-09-01    9.796970e+09\n",
      "2014-10-01    1.063363e+10\n",
      "2014-11-01    1.015244e+10\n",
      "2014-12-01    1.124082e+10\n",
      "Length: 144, dtype: float64\n",
      "##############################\n",
      " date\n",
      "2015-01-01    9.987825e+09\n",
      "2015-02-01    9.919477e+09\n",
      "2015-03-01    9.871727e+09\n",
      "2015-04-01    1.037640e+10\n",
      "2015-05-01    9.740006e+09\n",
      "2015-06-01    1.032307e+10\n",
      "2015-07-01    1.029487e+10\n",
      "2015-08-01    9.864942e+09\n",
      "2015-09-01    1.051019e+10\n",
      "2015-10-01    1.056639e+10\n",
      "2015-11-01    1.029608e+10\n",
      "2015-12-01    1.109438e+10\n",
      "dtype: float64\n",
      "##############################\n",
      " date\n",
      "2016-01-01    1.004910e+10\n",
      "2016-02-01    1.002313e+10\n",
      "2016-03-01    1.003487e+10\n",
      "2016-04-01    9.838065e+09\n",
      "2016-05-01    9.984410e+09\n",
      "2016-06-01    9.883704e+09\n",
      "2016-07-01    9.569317e+09\n",
      "2016-08-01    1.012199e+10\n",
      "2016-09-01    1.003972e+10\n",
      "2016-10-01    1.040347e+10\n",
      "2016-11-01    1.026535e+10\n",
      "2016-12-01    1.098004e+10\n",
      "dtype: float64\n"
     ]
    }
   ],
   "source": [
    "print('#'*30+'\\n',icms_train)\n",
    "print('#'*30+'\\n',icms_val)\n",
    "print('#'*30+'\\n',icms_test)"
   ]
  },
  {
   "cell_type": "markdown",
   "metadata": {},
   "source": [
    "## Utilidades para Previsões"
   ]
  },
  {
   "cell_type": "markdown",
   "metadata": {},
   "source": [
    "Além de MAPE e MSE, será usado o erro relativo, que é \n",
    "\n",
    "$Erro Relativo = \\frac{|previsão - real|}{real}$"
   ]
  },
  {
   "cell_type": "code",
   "execution_count": 14,
   "metadata": {},
   "outputs": [],
   "source": [
    "def erro_relativo(prev, real):\n",
    "    return 100*np.absolute(prev-real)/real"
   ]
  },
  {
   "cell_type": "markdown",
   "metadata": {},
   "source": [
    "#### Dicionário de Previsões\n",
    "Será usado para armazenar todas as previsões."
   ]
  },
  {
   "cell_type": "code",
   "execution_count": 15,
   "metadata": {},
   "outputs": [],
   "source": [
    "previsoes = {\n",
    "    'nome':[],\n",
    "    'modelo': [],\n",
    "    'previsoes': [],\n",
    "    'rmse': [],\n",
    "    'mape': [],\n",
    "    'erro relativo':[]\n",
    "}"
   ]
  },
  {
   "cell_type": "markdown",
   "metadata": {},
   "source": [
    "## Modelos RNN LSTM\n",
    "Redes Neurais Recorrentes com neurônios Long Short-Term Memory"
   ]
  },
  {
   "cell_type": "markdown",
   "metadata": {},
   "source": [
    "### Montagem da Série\n",
    "As redes neurais precisam de conjuntos de características e de etiquetas separados. Neste caso, o conjunto de etiquetas é a própria série de ICMS. Para os conjunto de caraterísticas será utilizada a série do ICMS com lags 1, 2, 3, 4, 6 e 12 defasagens, e médias móveis de 2, 3, 6 e 12 meses, conforme trabalho de [Silva & Figueiredo, 2020]."
   ]
  },
  {
   "cell_type": "code",
   "execution_count": 16,
   "metadata": {},
   "outputs": [],
   "source": [
    "def cria_features_target(serie, verbose=0):\n",
    "    serie_d1 = serie.shift(1)\n",
    "    serie_d2 = serie.shift(2)\n",
    "    serie_d3 = serie.shift(3)\n",
    "    serie_d4 = serie.shift(4)\n",
    "    serie_d6 = serie.shift(6)\n",
    "    serie_d12 = serie.shift(12)\n",
    "    serie_ma2 = serie.rolling(2).mean()\n",
    "    serie_ma3 = serie.rolling(3).mean()\n",
    "    serie_ma6 = serie.rolling(6).mean()\n",
    "    serie_ma12 = serie.rolling(12).mean()\n",
    "\n",
    "    if verbose==1:\n",
    "        print(\"shape de cada uma das séries:\")\n",
    "        print(serie_d1.shape, serie_d2.shape, serie_d3.shape, serie_d4.shape, \n",
    "              serie_d6.shape, serie_d12.shape, serie_ma2.shape, serie_ma3.shape, \n",
    "              serie_ma6.shape, serie_ma12.shape)\n",
    "    X = np.array([serie_d1, serie_d2, serie_d3, serie_d4, \n",
    "     serie_d6, serie_d12, serie_ma2, serie_ma3, \n",
    "     serie_ma6, serie_ma12])\n",
    "    if verbose==1:\n",
    "        print(\"shape do array de features:\", X.shape)\n",
    "    X = X[:,12:]\n",
    "    X = X.T\n",
    "    if verbose==1:\n",
    "        print(\"shape do array de features depois da poda e da transposição:\", X.shape)\n",
    "    Y = np.array(serie[12:])\n",
    "    if verbose==1:\n",
    "        print(\"shape do array target:\", Y.shape)\n",
    "    return X, Y"
   ]
  },
  {
   "cell_type": "code",
   "execution_count": 17,
   "metadata": {},
   "outputs": [
    {
     "name": "stdout",
     "output_type": "stream",
     "text": [
      "shape de cada uma das séries:\n",
      "(168,) (168,) (168,) (168,) (168,) (168,) (168,) (168,) (168,) (168,)\n",
      "shape do array de features: (10, 168)\n",
      "shape do array de features depois da poda e da transposição: (156, 10)\n",
      "shape do array target: (156,)\n"
     ]
    }
   ],
   "source": [
    "#série completa, com sazonalidade e em nível\n",
    "#seas_icms_ts = seas_icms.seasadj\n",
    "X_data, Y_data = cria_features_target(l_icms_ts, verbose=1)"
   ]
  },
  {
   "cell_type": "code",
   "execution_count": 18,
   "metadata": {},
   "outputs": [],
   "source": [
    "#print(X_data[0])\n",
    "#print(Y_data[0])\n",
    "#print(X_data[X_data.shape[0]-1])\n",
    "#print(Y_data[X_data.shape[0]-1])"
   ]
  },
  {
   "cell_type": "markdown",
   "metadata": {},
   "source": [
    "#### Normalização dos Dados\n",
    "Serão normalizados usando-se min-max. Apenas as features, a variável target não será normalizada. Os dados serão dividos em treno, validação e teste para a normalização, de modo que o fit seja feito somente nos dados de treino, aumentando-se assim a probabilidade de generalização do modelo."
   ]
  },
  {
   "cell_type": "code",
   "execution_count": 19,
   "metadata": {},
   "outputs": [
    {
     "name": "stdout",
     "output_type": "stream",
     "text": [
      "(132, 10) (12, 10) (12, 10)\n"
     ]
    }
   ],
   "source": [
    "X_train = X_data[:-24]\n",
    "X_val = X_data[-24:-12]\n",
    "X_test = X_data[-12:]\n",
    "print(X_train.shape, X_val.shape, X_test.shape)\n",
    "#Y_train = Y_data[:-24]\n",
    "#Y_val = Y_data[-24:-12]\n",
    "#Y_test = Y_data[-12:]\n",
    "#print(Y_train.shape, Y_val.shape, Y_test.shape)"
   ]
  },
  {
   "cell_type": "code",
   "execution_count": 20,
   "metadata": {},
   "outputs": [
    {
     "name": "stdout",
     "output_type": "stream",
     "text": [
      "numéricas [0, 1, 2, 3, 4, 5, 6, 7, 8, 9]\n",
      "ColumnTransformer(transformers=[('min-max', MinMaxScaler(),\n",
      "                                 [0, 1, 2, 3, 4, 5, 6, 7, 8, 9])],\n",
      "                  verbose=True)\n",
      "[ColumnTransformer] ....... (1 of 1) Processing min-max, total=   0.0s\n",
      "(132, 10)\n",
      "(12, 10)\n",
      "(12, 10)\n"
     ]
    }
   ],
   "source": [
    "from sklearn.preprocessing import MinMaxScaler\n",
    "from sklearn.compose import ColumnTransformer\n",
    "# índice dos atributos numéricos\n",
    "num_atrib = list(range(10))\n",
    "print('numéricas', num_atrib)\n",
    "\n",
    "enc_x = ColumnTransformer([('min-max',MinMaxScaler(), num_atrib)], verbose=True)\n",
    "\n",
    "print(enc_x)\n",
    "X_train_std = enc_x.fit_transform(X_train)\n",
    "X_val_std = enc_x.transform(X_val)\n",
    "X_test_std = enc_x.transform(X_test)\n",
    "\n",
    "print(X_train_std.shape)\n",
    "print(X_val_std.shape)\n",
    "print(X_test_std.shape)\n",
    "\n",
    "#enc_y = MinMaxScaler()\n",
    "\n",
    "#print(enc_y)\n",
    "#Y_train_std = enc_y.fit_transform(Y_train.reshape(Y_train.shape[0], 1))\n",
    "#Y_val_std = enc_y.transform(Y_val.reshape(12,1))\n",
    "#Y_test_std = enc_y.transform(Y_test.reshape(12,1))\n",
    "\n",
    "#print(Y_train_std.shape)\n",
    "#print(Y_val_std.shape)\n",
    "#print(Y_test_std.shape)"
   ]
  },
  {
   "cell_type": "markdown",
   "metadata": {},
   "source": [
    "# Modelo 1 mês\n",
    "Neste modelo cada mês será previsto pelos dados do mês anterior"
   ]
  },
  {
   "cell_type": "markdown",
   "metadata": {},
   "source": [
    "#### Criando as janelas de 12 meses e reshape para LSTM. A arrecadação de cada mês será prevista pela arrecadação dos 12 meses anteriores."
   ]
  },
  {
   "cell_type": "code",
   "execution_count": 21,
   "metadata": {},
   "outputs": [
    {
     "name": "stdout",
     "output_type": "stream",
     "text": [
      "(156, 10, 1)\n"
     ]
    }
   ],
   "source": [
    "X_data_jn = np.concatenate((X_train_std, X_val_std, X_test_std), axis = 0)\n",
    "X_data_jn = X_data_jn.reshape(X_data_jn.shape[0],10,1)\n",
    "print(X_data_jn.shape)"
   ]
  },
  {
   "cell_type": "code",
   "execution_count": 22,
   "metadata": {},
   "outputs": [],
   "source": [
    "def janelamento_1_mes(X, Y, verbose=0):\n",
    "    X_exp = np.roll(X, 1, axis=0)\n",
    "    X_exp_cut = X_exp[1:,:,:]#.transpose(0,2,1)\n",
    "    Y_cut = Y[1:]\n",
    "    if verbose==1:\n",
    "        print('shape das features janeladas:', X_exp.shape)\n",
    "        print('shape das features janeladas pós poda e transposição:', X_exp_cut.shape)\n",
    "        print('shape do array target pós poda:', Y_cut.shape)\n",
    "    return X_exp_cut, Y_cut"
   ]
  },
  {
   "cell_type": "code",
   "execution_count": 23,
   "metadata": {},
   "outputs": [],
   "source": [
    "X_data_exp_cut1, Y_data_cut1 = janelamento_1_mes(X_data_jn, Y_data, verbose=0)"
   ]
  },
  {
   "cell_type": "code",
   "execution_count": 24,
   "metadata": {},
   "outputs": [
    {
     "data": {
      "text/plain": [
       "((155, 10, 1), (155,))"
      ]
     },
     "execution_count": 24,
     "metadata": {},
     "output_type": "execute_result"
    }
   ],
   "source": [
    "X_data_exp_cut1.shape, Y_data_cut1.shape"
   ]
  },
  {
   "cell_type": "code",
   "execution_count": 25,
   "metadata": {},
   "outputs": [
    {
     "data": {
      "text/plain": [
       "array([[0.16836717],\n",
       "       [0.05506949],\n",
       "       [0.0401644 ],\n",
       "       [0.01977369],\n",
       "       [0.009533  ],\n",
       "       [0.06501235],\n",
       "       [0.09998817],\n",
       "       [0.06040652],\n",
       "       [0.        ],\n",
       "       [0.        ]])"
      ]
     },
     "execution_count": 25,
     "metadata": {},
     "output_type": "execute_result"
    }
   ],
   "source": [
    "X_data_exp_cut1[0]"
   ]
  },
  {
   "cell_type": "code",
   "execution_count": 26,
   "metadata": {},
   "outputs": [
    {
     "data": {
      "text/plain": [
       "21.905893928886627"
      ]
     },
     "execution_count": 26,
     "metadata": {},
     "output_type": "execute_result"
    }
   ],
   "source": [
    "Y_data_cut1[0]"
   ]
  },
  {
   "cell_type": "code",
   "execution_count": 27,
   "metadata": {},
   "outputs": [
    {
     "data": {
      "text/plain": [
       "23.11934475279679"
      ]
     },
     "execution_count": 27,
     "metadata": {},
     "output_type": "execute_result"
    }
   ],
   "source": [
    "Y_data_cut1[Y_data_cut1.shape[0]-1]"
   ]
  },
  {
   "cell_type": "code",
   "execution_count": 28,
   "metadata": {},
   "outputs": [
    {
     "data": {
      "text/plain": [
       "array([[0.97118376],\n",
       "       [0.94137455],\n",
       "       [0.94820998],\n",
       "       [0.90118092],\n",
       "       [0.93840536],\n",
       "       [0.96404612],\n",
       "       [0.97128404],\n",
       "       [0.96358839],\n",
       "       [0.99152902],\n",
       "       [1.01808899]])"
      ]
     },
     "execution_count": 28,
     "metadata": {},
     "output_type": "execute_result"
    }
   ],
   "source": [
    "X_data_exp_cut1[Y_data_cut1.shape[0]-1]"
   ]
  },
  {
   "cell_type": "markdown",
   "metadata": {},
   "source": [
    "#### Separando novamente em treino, validação e teste"
   ]
  },
  {
   "cell_type": "code",
   "execution_count": 29,
   "metadata": {},
   "outputs": [
    {
     "name": "stdout",
     "output_type": "stream",
     "text": [
      "(131, 10, 1) (12, 10, 1) (12, 10, 1)\n",
      "(131,) (12,) (12,)\n"
     ]
    }
   ],
   "source": [
    "x_train1 = X_data_exp_cut1[:-24]\n",
    "x_val1 = X_data_exp_cut1[-24:-12]\n",
    "x_test1 = X_data_exp_cut1[-12:]\n",
    "print(x_train1.shape, x_val1.shape, x_test1.shape)\n",
    "y_train1 = Y_data_cut1[:-24]\n",
    "y_val1 = Y_data_cut1[-24:-12]\n",
    "y_test1 = Y_data_cut1[-12:]\n",
    "print(y_train1.shape, y_val1.shape, y_test1.shape)"
   ]
  },
  {
   "cell_type": "markdown",
   "metadata": {},
   "source": [
    "### Criando o modelo LSTM "
   ]
  },
  {
   "cell_type": "code",
   "execution_count": 30,
   "metadata": {},
   "outputs": [],
   "source": [
    "# importando as bibliotecas do Keras\n",
    "from tensorflow.keras.models import Sequential\n",
    "from tensorflow.keras.layers import LSTM, Dense, Dropout\n",
    "from tensorflow.keras.callbacks import ReduceLROnPlateau, EarlyStopping\n",
    "from tensorflow.keras.optimizers import Adam"
   ]
  },
  {
   "cell_type": "markdown",
   "metadata": {},
   "source": [
    "## Arquitetura da Rede - Arquitetura Larga"
   ]
  },
  {
   "cell_type": "code",
   "execution_count": 31,
   "metadata": {},
   "outputs": [],
   "source": [
    "rlrop1 = ReduceLROnPlateau(monitor='val_loss', factor=0.1, patience=10, verbose=1)\n",
    "early_stop1 = EarlyStopping(monitor='val_loss', patience=100, verbose=1, \n",
    "                           restore_best_weights=True)"
   ]
  },
  {
   "cell_type": "code",
   "execution_count": 32,
   "metadata": {},
   "outputs": [],
   "source": [
    "# Épocas e tamanho do lote\n",
    "EPOCHS = 1000\n",
    "BATCH = 4\n",
    "NEURONIOS = 1200\n",
    "LR = 1e-5\n",
    "DROPOUT = 0.2\n",
    "\n",
    "# Imstanciação do modelo\n",
    "model = Sequential()\n",
    "\n",
    "# Adicionar camada LSTM \n",
    "model.add(LSTM(activation='tanh', dropout=DROPOUT,\n",
    "        input_shape = (10, 1), return_sequences = False,\n",
    "        units = NEURONIOS))\n",
    "\n",
    "# Adicionar a camada de saída com 1 neurônio linear\n",
    "model.add(Dense(\n",
    "        units = 1,\n",
    "        activation = 'linear'))\n",
    "# a learning rate padrão do Adam é 0.001\n",
    "model.compile(loss = 'mape', optimizer = Adam(learning_rate=LR))"
   ]
  },
  {
   "cell_type": "code",
   "execution_count": 33,
   "metadata": {},
   "outputs": [
    {
     "name": "stdout",
     "output_type": "stream",
     "text": [
      "Model: \"sequential\"\n",
      "_________________________________________________________________\n",
      "Layer (type)                 Output Shape              Param #   \n",
      "=================================================================\n",
      "lstm (LSTM)                  (None, 1200)              5769600   \n",
      "_________________________________________________________________\n",
      "dense (Dense)                (None, 1)                 1201      \n",
      "=================================================================\n",
      "Total params: 5,770,801\n",
      "Trainable params: 5,770,801\n",
      "Non-trainable params: 0\n",
      "_________________________________________________________________\n"
     ]
    }
   ],
   "source": [
    "model.summary()"
   ]
  },
  {
   "cell_type": "code",
   "execution_count": 34,
   "metadata": {
    "scrolled": true
   },
   "outputs": [
    {
     "name": "stdout",
     "output_type": "stream",
     "text": [
      "Epoch 1/1000\n",
      "33/33 [==============================] - 4s 133ms/step - loss: 99.8569 - val_loss: 99.2406\n",
      "Epoch 2/1000\n",
      "33/33 [==============================] - 4s 129ms/step - loss: 99.2133 - val_loss: 97.9169\n",
      "Epoch 3/1000\n",
      "33/33 [==============================] - 4s 122ms/step - loss: 98.0901 - val_loss: 95.3360\n",
      "Epoch 4/1000\n",
      "33/33 [==============================] - 4s 125ms/step - loss: 95.6567 - val_loss: 87.8683\n",
      "Epoch 5/1000\n",
      "33/33 [==============================] - 4s 116ms/step - loss: 85.8990 - val_loss: 48.1296\n",
      "Epoch 6/1000\n",
      "33/33 [==============================] - 4s 125ms/step - loss: 42.1686 - val_loss: 20.4950\n",
      "Epoch 7/1000\n",
      "33/33 [==============================] - 4s 129ms/step - loss: 19.7458 - val_loss: 8.9392\n",
      "Epoch 8/1000\n",
      "33/33 [==============================] - 4s 118ms/step - loss: 9.1469 - val_loss: 0.6675\n",
      "Epoch 9/1000\n",
      "33/33 [==============================] - 4s 114ms/step - loss: 4.2317 - val_loss: 0.5292\n",
      "Epoch 10/1000\n",
      "33/33 [==============================] - 4s 120ms/step - loss: 2.2220 - val_loss: 0.9398\n",
      "Epoch 11/1000\n",
      "33/33 [==============================] - 4s 118ms/step - loss: 1.5476 - val_loss: 1.3742\n",
      "Epoch 12/1000\n",
      "33/33 [==============================] - 4s 122ms/step - loss: 1.3717 - val_loss: 0.6972\n",
      "Epoch 13/1000\n",
      "33/33 [==============================] - 4s 128ms/step - loss: 1.2356 - val_loss: 0.8302\n",
      "Epoch 14/1000\n",
      "33/33 [==============================] - 4s 129ms/step - loss: 1.2410 - val_loss: 1.0874\n",
      "Epoch 15/1000\n",
      "33/33 [==============================] - 4s 131ms/step - loss: 1.3206 - val_loss: 1.3501\n",
      "Epoch 16/1000\n",
      "33/33 [==============================] - 4s 136ms/step - loss: 1.0736 - val_loss: 1.0984\n",
      "Epoch 17/1000\n",
      "33/33 [==============================] - 5s 137ms/step - loss: 0.9986 - val_loss: 0.7913\n",
      "Epoch 18/1000\n",
      "33/33 [==============================] - 5s 144ms/step - loss: 0.9496 - val_loss: 1.5850\n",
      "Epoch 19/1000\n",
      "33/33 [==============================] - ETA: 0s - loss: 1.2545\n",
      "Epoch 00019: ReduceLROnPlateau reducing learning rate to 9.999999747378752e-07.\n",
      "33/33 [==============================] - 4s 136ms/step - loss: 1.2545 - val_loss: 0.8986\n",
      "Epoch 20/1000\n",
      "33/33 [==============================] - 6s 175ms/step - loss: 0.9943 - val_loss: 0.9683\n",
      "Epoch 21/1000\n",
      "33/33 [==============================] - 7s 218ms/step - loss: 1.0057 - val_loss: 0.9327\n",
      "Epoch 22/1000\n",
      "33/33 [==============================] - 7s 215ms/step - loss: 0.9723 - val_loss: 0.9736\n",
      "Epoch 23/1000\n",
      "33/33 [==============================] - 7s 210ms/step - loss: 0.9089 - val_loss: 1.0466\n",
      "Epoch 24/1000\n",
      "33/33 [==============================] - 7s 208ms/step - loss: 1.1562 - val_loss: 1.0677\n",
      "Epoch 25/1000\n",
      "33/33 [==============================] - 7s 207ms/step - loss: 1.0064 - val_loss: 0.9237\n",
      "Epoch 26/1000\n",
      "33/33 [==============================] - 7s 212ms/step - loss: 1.0987 - val_loss: 0.9466\n",
      "Epoch 27/1000\n",
      "33/33 [==============================] - 7s 211ms/step - loss: 0.8724 - val_loss: 0.9298\n",
      "Epoch 28/1000\n",
      "33/33 [==============================] - 7s 204ms/step - loss: 1.0331 - val_loss: 0.9131\n",
      "Epoch 29/1000\n",
      "33/33 [==============================] - ETA: 0s - loss: 0.9853\n",
      "Epoch 00029: ReduceLROnPlateau reducing learning rate to 9.999999974752428e-08.\n",
      "33/33 [==============================] - 7s 197ms/step - loss: 0.9853 - val_loss: 0.8968\n",
      "Epoch 30/1000\n",
      "33/33 [==============================] - 7s 209ms/step - loss: 0.8747 - val_loss: 0.9093\n",
      "Epoch 31/1000\n",
      "33/33 [==============================] - 7s 203ms/step - loss: 0.9847 - val_loss: 0.9239\n",
      "Epoch 32/1000\n",
      "33/33 [==============================] - 7s 207ms/step - loss: 0.9939 - val_loss: 0.9213\n",
      "Epoch 33/1000\n",
      "33/33 [==============================] - 8s 239ms/step - loss: 0.9950 - val_loss: 0.9342\n",
      "Epoch 34/1000\n",
      "33/33 [==============================] - 7s 211ms/step - loss: 0.9296 - val_loss: 0.9252\n",
      "Epoch 35/1000\n",
      "33/33 [==============================] - 7s 209ms/step - loss: 1.0046 - val_loss: 0.9336\n",
      "Epoch 36/1000\n",
      "33/33 [==============================] - 7s 206ms/step - loss: 0.9729 - val_loss: 0.9461\n",
      "Epoch 37/1000\n",
      "33/33 [==============================] - 7s 206ms/step - loss: 0.8900 - val_loss: 0.9556\n",
      "Epoch 38/1000\n",
      "33/33 [==============================] - 7s 200ms/step - loss: 0.9099 - val_loss: 0.9681\n",
      "Epoch 39/1000\n",
      "33/33 [==============================] - ETA: 0s - loss: 0.9931\n",
      "Epoch 00039: ReduceLROnPlateau reducing learning rate to 1.0000000116860975e-08.\n",
      "33/33 [==============================] - 7s 206ms/step - loss: 0.9931 - val_loss: 0.9626\n",
      "Epoch 40/1000\n",
      "33/33 [==============================] - 7s 209ms/step - loss: 0.9346 - val_loss: 0.9623\n",
      "Epoch 41/1000\n",
      "33/33 [==============================] - 7s 205ms/step - loss: 0.9981 - val_loss: 0.9634\n",
      "Epoch 42/1000\n",
      "33/33 [==============================] - 7s 202ms/step - loss: 0.8815 - val_loss: 0.9639\n",
      "Epoch 43/1000\n",
      "33/33 [==============================] - 7s 202ms/step - loss: 0.9340 - val_loss: 0.9650\n",
      "Epoch 44/1000\n",
      "33/33 [==============================] - 7s 204ms/step - loss: 0.9265 - val_loss: 0.9647\n",
      "Epoch 45/1000\n",
      "33/33 [==============================] - 7s 205ms/step - loss: 0.9583 - val_loss: 0.9650\n",
      "Epoch 46/1000\n",
      "33/33 [==============================] - 7s 204ms/step - loss: 0.9078 - val_loss: 0.9645\n",
      "Epoch 47/1000\n",
      "33/33 [==============================] - 7s 207ms/step - loss: 0.9347 - val_loss: 0.9652\n",
      "Epoch 48/1000\n",
      "33/33 [==============================] - 7s 214ms/step - loss: 0.8861 - val_loss: 0.9658\n",
      "Epoch 49/1000\n",
      "33/33 [==============================] - ETA: 0s - loss: 1.0015\n",
      "Epoch 00049: ReduceLROnPlateau reducing learning rate to 9.999999939225292e-10.\n",
      "33/33 [==============================] - 7s 209ms/step - loss: 1.0015 - val_loss: 0.9657\n",
      "Epoch 50/1000\n",
      "33/33 [==============================] - 7s 214ms/step - loss: 0.9477 - val_loss: 0.9658\n",
      "Epoch 51/1000\n",
      "33/33 [==============================] - 7s 212ms/step - loss: 0.9780 - val_loss: 0.9659\n",
      "Epoch 52/1000\n",
      "33/33 [==============================] - 7s 209ms/step - loss: 0.9622 - val_loss: 0.9659\n",
      "Epoch 53/1000\n",
      "33/33 [==============================] - 7s 206ms/step - loss: 0.9583 - val_loss: 0.9659\n",
      "Epoch 54/1000\n",
      "33/33 [==============================] - 7s 205ms/step - loss: 0.9817 - val_loss: 0.9659\n",
      "Epoch 55/1000\n",
      "33/33 [==============================] - 7s 203ms/step - loss: 1.0672 - val_loss: 0.9659\n",
      "Epoch 56/1000\n",
      "33/33 [==============================] - 7s 204ms/step - loss: 0.8650 - val_loss: 0.9658\n",
      "Epoch 57/1000\n",
      "33/33 [==============================] - 7s 221ms/step - loss: 1.0052 - val_loss: 0.9658\n",
      "Epoch 58/1000\n",
      "33/33 [==============================] - 7s 221ms/step - loss: 0.8861 - val_loss: 0.9659\n",
      "Epoch 59/1000\n",
      "33/33 [==============================] - ETA: 0s - loss: 0.9930\n",
      "Epoch 00059: ReduceLROnPlateau reducing learning rate to 9.999999717180686e-11.\n",
      "33/33 [==============================] - 7s 214ms/step - loss: 0.9930 - val_loss: 0.9660\n",
      "Epoch 60/1000\n",
      "33/33 [==============================] - 7s 213ms/step - loss: 0.8887 - val_loss: 0.9660\n",
      "Epoch 61/1000\n",
      "33/33 [==============================] - 7s 214ms/step - loss: 0.9504 - val_loss: 0.9660\n",
      "Epoch 62/1000\n",
      "33/33 [==============================] - 7s 219ms/step - loss: 0.9696 - val_loss: 0.9660\n",
      "Epoch 63/1000\n",
      "33/33 [==============================] - 8s 230ms/step - loss: 0.9676 - val_loss: 0.9660\n",
      "Epoch 64/1000\n",
      "33/33 [==============================] - 8s 231ms/step - loss: 1.0883 - val_loss: 0.9660\n",
      "Epoch 65/1000\n",
      "33/33 [==============================] - 8s 231ms/step - loss: 0.9892 - val_loss: 0.9660\n",
      "Epoch 66/1000\n",
      "33/33 [==============================] - 8s 255ms/step - loss: 0.9558 - val_loss: 0.9660\n",
      "Epoch 67/1000\n",
      "33/33 [==============================] - 8s 236ms/step - loss: 0.9092 - val_loss: 0.9660\n",
      "Epoch 68/1000\n",
      "33/33 [==============================] - 8s 243ms/step - loss: 0.9351 - val_loss: 0.9660\n",
      "Epoch 69/1000\n",
      "33/33 [==============================] - ETA: 0s - loss: 0.8065\n",
      "Epoch 00069: ReduceLROnPlateau reducing learning rate to 9.99999943962493e-12.\n",
      "33/33 [==============================] - 8s 241ms/step - loss: 0.8065 - val_loss: 0.9660\n",
      "Epoch 70/1000\n",
      "33/33 [==============================] - 7s 209ms/step - loss: 0.9971 - val_loss: 0.9660\n",
      "Epoch 71/1000\n",
      "33/33 [==============================] - 8s 238ms/step - loss: 0.9039 - val_loss: 0.9660\n",
      "Epoch 72/1000\n"
     ]
    },
    {
     "name": "stdout",
     "output_type": "stream",
     "text": [
      "33/33 [==============================] - 8s 229ms/step - loss: 1.0739 - val_loss: 0.9660\n",
      "Epoch 73/1000\n",
      "33/33 [==============================] - 7s 218ms/step - loss: 0.9537 - val_loss: 0.9660\n",
      "Epoch 74/1000\n",
      "33/33 [==============================] - 7s 225ms/step - loss: 0.9746 - val_loss: 0.9660\n",
      "Epoch 75/1000\n",
      "33/33 [==============================] - 7s 217ms/step - loss: 0.9551 - val_loss: 0.9660\n",
      "Epoch 76/1000\n",
      "33/33 [==============================] - 7s 222ms/step - loss: 0.9183 - val_loss: 0.9660\n",
      "Epoch 77/1000\n",
      "33/33 [==============================] - 7s 222ms/step - loss: 0.9557 - val_loss: 0.9660\n",
      "Epoch 78/1000\n",
      "33/33 [==============================] - 7s 216ms/step - loss: 0.8716 - val_loss: 0.9660\n",
      "Epoch 79/1000\n",
      "33/33 [==============================] - ETA: 0s - loss: 0.8966\n",
      "Epoch 00079: ReduceLROnPlateau reducing learning rate to 9.999999092680235e-13.\n",
      "33/33 [==============================] - 7s 220ms/step - loss: 0.8966 - val_loss: 0.9660\n",
      "Epoch 80/1000\n",
      "33/33 [==============================] - 7s 212ms/step - loss: 0.8991 - val_loss: 0.9660\n",
      "Epoch 81/1000\n",
      "33/33 [==============================] - 7s 209ms/step - loss: 0.9454 - val_loss: 0.9660\n",
      "Epoch 82/1000\n",
      "33/33 [==============================] - 7s 220ms/step - loss: 0.9291 - val_loss: 0.9660\n",
      "Epoch 83/1000\n",
      "33/33 [==============================] - 7s 225ms/step - loss: 0.9834 - val_loss: 0.9660\n",
      "Epoch 84/1000\n",
      "33/33 [==============================] - 7s 215ms/step - loss: 0.8699 - val_loss: 0.9660\n",
      "Epoch 85/1000\n",
      "33/33 [==============================] - 7s 215ms/step - loss: 1.0228 - val_loss: 0.9660\n",
      "Epoch 86/1000\n",
      "33/33 [==============================] - 7s 210ms/step - loss: 0.9709 - val_loss: 0.9660\n",
      "Epoch 87/1000\n",
      "33/33 [==============================] - 7s 207ms/step - loss: 0.9904 - val_loss: 0.9660\n",
      "Epoch 88/1000\n",
      "33/33 [==============================] - 7s 217ms/step - loss: 0.9606 - val_loss: 0.9660\n",
      "Epoch 89/1000\n",
      "33/33 [==============================] - ETA: 0s - loss: 0.8576\n",
      "Epoch 00089: ReduceLROnPlateau reducing learning rate to 9.9999988758398e-14.\n",
      "33/33 [==============================] - 7s 214ms/step - loss: 0.8576 - val_loss: 0.9660\n",
      "Epoch 90/1000\n",
      "33/33 [==============================] - 7s 210ms/step - loss: 0.9820 - val_loss: 0.9660\n",
      "Epoch 91/1000\n",
      "33/33 [==============================] - 7s 204ms/step - loss: 0.8780 - val_loss: 0.9660\n",
      "Epoch 92/1000\n",
      "33/33 [==============================] - 6s 176ms/step - loss: 0.8965 - val_loss: 0.9660\n",
      "Epoch 93/1000\n",
      "33/33 [==============================] - 4s 134ms/step - loss: 0.9416 - val_loss: 0.9660\n",
      "Epoch 94/1000\n",
      "33/33 [==============================] - 5s 152ms/step - loss: 0.9197 - val_loss: 0.9660\n",
      "Epoch 95/1000\n",
      "33/33 [==============================] - 6s 185ms/step - loss: 0.8807 - val_loss: 0.9660\n",
      "Epoch 96/1000\n",
      "33/33 [==============================] - 6s 185ms/step - loss: 0.9939 - val_loss: 0.9660\n",
      "Epoch 97/1000\n",
      "33/33 [==============================] - 6s 186ms/step - loss: 0.8146 - val_loss: 0.9660\n",
      "Epoch 98/1000\n",
      "33/33 [==============================] - 6s 182ms/step - loss: 0.9658 - val_loss: 0.9660\n",
      "Epoch 99/1000\n",
      "33/33 [==============================] - ETA: 0s - loss: 1.0251\n",
      "Epoch 00099: ReduceLROnPlateau reducing learning rate to 9.999999146890344e-15.\n",
      "33/33 [==============================] - 6s 182ms/step - loss: 1.0251 - val_loss: 0.9660\n",
      "Epoch 100/1000\n",
      "33/33 [==============================] - 6s 183ms/step - loss: 0.9744 - val_loss: 0.9660\n",
      "Epoch 101/1000\n",
      "33/33 [==============================] - 6s 182ms/step - loss: 0.9386 - val_loss: 0.9660\n",
      "Epoch 102/1000\n",
      "33/33 [==============================] - 6s 180ms/step - loss: 0.8987 - val_loss: 0.9660\n",
      "Epoch 103/1000\n",
      "33/33 [==============================] - 6s 182ms/step - loss: 0.9149 - val_loss: 0.9660\n",
      "Epoch 104/1000\n",
      "33/33 [==============================] - 6s 185ms/step - loss: 0.9297 - val_loss: 0.9660\n",
      "Epoch 105/1000\n",
      "33/33 [==============================] - 6s 181ms/step - loss: 0.9843 - val_loss: 0.9660\n",
      "Epoch 106/1000\n",
      "33/33 [==============================] - 6s 179ms/step - loss: 0.9070 - val_loss: 0.9660\n",
      "Epoch 107/1000\n",
      "33/33 [==============================] - 6s 183ms/step - loss: 0.9689 - val_loss: 0.9660\n",
      "Epoch 108/1000\n",
      "33/33 [==============================] - 6s 183ms/step - loss: 1.0493 - val_loss: 0.9660\n",
      "Epoch 109/1000\n",
      "33/33 [==============================] - ETA: 0s - loss: 0.9517\n",
      "Epoch 00109: ReduceLROnPlateau reducing learning rate to 9.999998977483753e-16.\n",
      "Restoring model weights from the end of the best epoch.\n",
      "33/33 [==============================] - 6s 192ms/step - loss: 0.9517 - val_loss: 0.9660\n",
      "Epoch 00109: early stopping\n"
     ]
    }
   ],
   "source": [
    "# History object for plotting our model loss by epoch\n",
    "history1 = model.fit(x_train1, y_train1, batch_size = BATCH, \n",
    "                    epochs = EPOCHS, validation_data = (x_val1, y_val1),\n",
    "                    callbacks = [rlrop1, early_stop1])"
   ]
  },
  {
   "cell_type": "code",
   "execution_count": 35,
   "metadata": {},
   "outputs": [
    {
     "data": {
      "image/png": "[encoded data removed]",
      "text/plain": [
       "<Figure size 720x504 with 1 Axes>"
      ]
     },
     "metadata": {
      "needs_background": "light"
     },
     "output_type": "display_data"
    }
   ],
   "source": [
    "# Loss History\n",
    "fig = plt.figure(figsize=(10, 7))\n",
    "plt.plot(history1.history['loss'])\n",
    "plt.plot(history1.history['val_loss'])\n",
    "plt.title('Model Loss')\n",
    "plt.ylabel('Loss')\n",
    "plt.xlabel('Epoch')\n",
    "plt.legend(['Train', 'Val'], loc='upper right')\n",
    "plt.show()"
   ]
  },
  {
   "cell_type": "markdown",
   "metadata": {},
   "source": [
    "### Previsão Multistep 12 meses em Validação\n",
    "Para ficar adequado à realidade, não podemos usar os dados de 2022 para prever 2022. Portanto, a previsão de 2022 será feita do moto *multistep*, isto é, o mês de janeiro/2022 será previsto usando-se os dados de arrecadação de janeiro a dezembro de 2021; o mês de fevereiro/2022 será previsto usando-se os dados de fevereiro a dezembro de 2021 mais a previsão feita para o mês de janeiro/2022; o mês de março/2022 será previsto usando-se os dados de março a dezembro de 2021 mais os meses de janeiro e fevereiro de 2022 previstos nos passos anteriores. E assim por diante, até que a previsão de dezembro/2022 será feita usando-se os dados de dezembro de 2021 mais as previsões de janeiro a novembro de 2022 feitas nos passos anteriores."
   ]
  },
  {
   "cell_type": "markdown",
   "metadata": {},
   "source": [
    "#### Remove os 12 últimos valores que serão previstos e cria as séries novamente"
   ]
  },
  {
   "cell_type": "code",
   "execution_count": 36,
   "metadata": {},
   "outputs": [
    {
     "name": "stdout",
     "output_type": "stream",
     "text": [
      "(168,)\n",
      "(144,)\n"
     ]
    }
   ],
   "source": [
    "# remove\n",
    "serie_multi1 = l_icms_ts[:-24]\n",
    "print(l_icms_ts.shape)\n",
    "print(serie_multi1.shape)"
   ]
  },
  {
   "cell_type": "code",
   "execution_count": 37,
   "metadata": {},
   "outputs": [
    {
     "name": "stdout",
     "output_type": "stream",
     "text": [
      "0 [[9.062164e+09]]\n",
      "1 [[9.04726e+09]]\n",
      "2 [[9.090191e+09]]\n",
      "3 [[9.052214e+09]]\n",
      "4 [[9.020398e+09]]\n",
      "5 [[8.997561e+09]]\n",
      "6 [[8.991815e+09]]\n",
      "7 [[8.991368e+09]]\n",
      "8 [[8.995692e+09]]\n",
      "9 [[8.994901e+09]]\n",
      "10 [[8.992397e+09]]\n",
      "11 [[8.987802e+09]]\n"
     ]
    }
   ],
   "source": [
    "for i in range(12):\n",
    "    # cria as séries\n",
    "    X_multi1, Y_multi1 = cria_features_target(serie_multi1, verbose=0)\n",
    "\n",
    "    # Faz a normalização usando o modelo fitado na normalização anterior\n",
    "    X_multi_std1 = enc_x.transform(X_multi1)\n",
    "    X_multi_std1 = X_multi_std1.reshape(X_multi_std1.shape[0],10,1)\n",
    "\n",
    "    # Faz o janelamento das séries\n",
    "    x_multi1, y_multi1 = janelamento_1_mes(X_multi_std1, Y_multi1, verbose=0)\n",
    "\n",
    "    # Faz a predição da arrecadação do mês\n",
    "    #y_pred_multi = np.mean(model.predict(x_multi[-1:]), axis=1)#[:,0].ravel()\n",
    "    y_pred_multi1 = model.predict(x_multi1[-1:])#[:,0].ravel()\n",
    "    print(i, np.exp(y_pred_multi1))\n",
    "\n",
    "    #### Adicionar o valor previsto à série e fazer o novo janelamento\n",
    "    serie_multi1 = pd.Series(np.append(serie_multi1, y_pred_multi1))"
   ]
  },
  {
   "cell_type": "code",
   "execution_count": 38,
   "metadata": {},
   "outputs": [],
   "source": [
    "Y_pred_multi1 = np.exp(pd.Series(serie_multi1[-12:]))\n",
    "Y_pred_multi1.index = icms_val.index"
   ]
  },
  {
   "cell_type": "code",
   "execution_count": 39,
   "metadata": {},
   "outputs": [
    {
     "data": {
      "text/plain": [
       "date\n",
       "2015-01-01    9.062165e+09\n",
       "2015-02-01    9.047261e+09\n",
       "2015-03-01    9.090192e+09\n",
       "2015-04-01    9.052214e+09\n",
       "2015-05-01    9.020398e+09\n",
       "2015-06-01    8.997561e+09\n",
       "2015-07-01    8.991814e+09\n",
       "2015-08-01    8.991368e+09\n",
       "2015-09-01    8.995691e+09\n",
       "2015-10-01    8.994902e+09\n",
       "2015-11-01    8.992397e+09\n",
       "2015-12-01    8.987802e+09\n",
       "dtype: float64"
      ]
     },
     "execution_count": 39,
     "metadata": {},
     "output_type": "execute_result"
    }
   ],
   "source": [
    "Y_pred_multi1"
   ]
  },
  {
   "cell_type": "code",
   "execution_count": 40,
   "metadata": {},
   "outputs": [
    {
     "data": {
      "text/plain": [
       "1278615928.2931333"
      ]
     },
     "execution_count": 40,
     "metadata": {},
     "output_type": "execute_result"
    }
   ],
   "source": [
    "RMSE_lstm_multi1 = mean_squared_error(icms_val, Y_pred_multi1, squared=False)\n",
    "RMSE_lstm_multi1"
   ]
  },
  {
   "cell_type": "code",
   "execution_count": 41,
   "metadata": {},
   "outputs": [
    {
     "data": {
      "text/plain": [
       "0.11784367819066037"
      ]
     },
     "execution_count": 41,
     "metadata": {},
     "output_type": "execute_result"
    }
   ],
   "source": [
    "MAPE_lstm_multi1 = mean_absolute_percentage_error(icms_val, Y_pred_multi1)\n",
    "MAPE_lstm_multi1"
   ]
  },
  {
   "cell_type": "code",
   "execution_count": 42,
   "metadata": {},
   "outputs": [],
   "source": [
    "previsoes['nome'].append('RNN-LSTM-1-mês-larga')\n",
    "previsoes['modelo'].append(model)\n",
    "previsoes['previsoes'].append(Y_pred_multi1)\n",
    "\n",
    "previsoes['rmse'].append(RMSE_lstm_multi1)\n",
    "\n",
    "previsoes['mape'].append(MAPE_lstm_multi1)\n",
    "\n",
    "previsoes['erro relativo'].append([erro_relativo(prev,real) \n",
    "                                   for prev,real in zip(Y_pred_multi1\n",
    "                                                        , icms_val)])"
   ]
  },
  {
   "cell_type": "markdown",
   "metadata": {},
   "source": [
    "## Arquitetura da Rede - Arquitetura Multicamada"
   ]
  },
  {
   "cell_type": "code",
   "execution_count": 43,
   "metadata": {},
   "outputs": [],
   "source": [
    "rlrop3 = ReduceLROnPlateau(monitor='val_loss', factor=0.1, patience=25, verbose=1)\n",
    "early_stop3 = EarlyStopping(monitor='val_loss', patience=100, verbose=1, \n",
    "                           restore_best_weights=True)"
   ]
  },
  {
   "cell_type": "code",
   "execution_count": 44,
   "metadata": {},
   "outputs": [],
   "source": [
    "# Épocas e tamanho do lote\n",
    "EPOCHS3 = 1000\n",
    "BATCH3 = 8\n",
    "NEURONIOS3 = 600\n",
    "LR3 = 1e-5\n",
    "DROPOUT3 = 0.25\n",
    "\n",
    "# Imstanciação do modelo\n",
    "model3 = Sequential()\n",
    "\n",
    "# Adicionar camada LSTM \n",
    "model3.add(LSTM(activation='tanh', dropout=DROPOUT3,\n",
    "        input_shape = (10, 1), return_sequences = True,\n",
    "        units = NEURONIOS3))\n",
    "\n",
    "# Adicionar camada LSTM \n",
    "model3.add(LSTM(activation='tanh', dropout=DROPOUT3,\n",
    "        input_shape = (10, 1), return_sequences = True,\n",
    "        units = NEURONIOS3))\n",
    "\n",
    "# Adicionar camada LSTM \n",
    "model3.add(LSTM(activation='tanh', dropout=DROPOUT3,\n",
    "        input_shape = (10, 1), return_sequences = False,\n",
    "        units = NEURONIOS3))\n",
    "\n",
    "\n",
    "# Adicionar a camada de saída com 1 neurônio linear\n",
    "model3.add(Dense(\n",
    "        units = 1,\n",
    "        activation = 'linear'))\n",
    "# a learning rate padrão do Adam é 0.001\n",
    "model3.compile(loss = 'mape', optimizer = Adam(learning_rate=LR3))"
   ]
  },
  {
   "cell_type": "code",
   "execution_count": 45,
   "metadata": {},
   "outputs": [
    {
     "name": "stdout",
     "output_type": "stream",
     "text": [
      "Model: \"sequential_1\"\n",
      "_________________________________________________________________\n",
      "Layer (type)                 Output Shape              Param #   \n",
      "=================================================================\n",
      "lstm_1 (LSTM)                (None, 10, 600)           1444800   \n",
      "_________________________________________________________________\n",
      "lstm_2 (LSTM)                (None, 10, 600)           2882400   \n",
      "_________________________________________________________________\n",
      "lstm_3 (LSTM)                (None, 600)               2882400   \n",
      "_________________________________________________________________\n",
      "dense_1 (Dense)              (None, 1)                 601       \n",
      "=================================================================\n",
      "Total params: 7,210,201\n",
      "Trainable params: 7,210,201\n",
      "Non-trainable params: 0\n",
      "_________________________________________________________________\n"
     ]
    }
   ],
   "source": [
    "model3.summary()"
   ]
  },
  {
   "cell_type": "code",
   "execution_count": 46,
   "metadata": {
    "scrolled": true
   },
   "outputs": [
    {
     "name": "stdout",
     "output_type": "stream",
     "text": [
      "Epoch 1/1000\n",
      "17/17 [==============================] - 7s 403ms/step - loss: 99.9011 - val_loss: 99.6184\n",
      "Epoch 2/1000\n",
      "17/17 [==============================] - 3s 198ms/step - loss: 99.6366 - val_loss: 99.1406\n",
      "Epoch 3/1000\n",
      "17/17 [==============================] - 2s 143ms/step - loss: 99.3063 - val_loss: 98.4502\n",
      "Epoch 4/1000\n",
      "17/17 [==============================] - 2s 133ms/step - loss: 98.7546 - val_loss: 97.2615\n",
      "Epoch 5/1000\n",
      "17/17 [==============================] - 2s 128ms/step - loss: 97.8006 - val_loss: 94.9522\n",
      "Epoch 6/1000\n",
      "17/17 [==============================] - 2s 136ms/step - loss: 95.8231 - val_loss: 89.8940\n",
      "Epoch 7/1000\n",
      "17/17 [==============================] - 2s 128ms/step - loss: 91.3928 - val_loss: 77.8867\n",
      "Epoch 8/1000\n",
      "17/17 [==============================] - 2s 119ms/step - loss: 79.8802 - val_loss: 48.4333\n",
      "Epoch 9/1000\n",
      "17/17 [==============================] - 2s 126ms/step - loss: 56.4960 - val_loss: 8.1994\n",
      "Epoch 10/1000\n",
      "17/17 [==============================] - 2s 124ms/step - loss: 28.2072 - val_loss: 12.2341\n",
      "Epoch 11/1000\n",
      "17/17 [==============================] - 2s 129ms/step - loss: 16.2225 - val_loss: 12.4439\n",
      "Epoch 12/1000\n",
      "17/17 [==============================] - 2s 139ms/step - loss: 12.9202 - val_loss: 9.4853\n",
      "Epoch 13/1000\n",
      "17/17 [==============================] - 2s 138ms/step - loss: 9.2750 - val_loss: 5.0866\n",
      "Epoch 14/1000\n",
      "17/17 [==============================] - 2s 118ms/step - loss: 5.8422 - val_loss: 0.8016\n",
      "Epoch 15/1000\n",
      "17/17 [==============================] - 2s 118ms/step - loss: 4.7068 - val_loss: 0.5732\n",
      "Epoch 16/1000\n",
      "17/17 [==============================] - 2s 116ms/step - loss: 3.2493 - val_loss: 0.4697\n",
      "Epoch 17/1000\n",
      "17/17 [==============================] - 2s 106ms/step - loss: 2.4185 - val_loss: 0.2843\n",
      "Epoch 18/1000\n",
      "17/17 [==============================] - 2s 126ms/step - loss: 1.9802 - val_loss: 0.1280\n",
      "Epoch 19/1000\n",
      "17/17 [==============================] - 2s 113ms/step - loss: 1.5441 - val_loss: 0.1446\n",
      "Epoch 20/1000\n",
      "17/17 [==============================] - 2s 129ms/step - loss: 1.3334 - val_loss: 0.4675\n",
      "Epoch 21/1000\n",
      "17/17 [==============================] - 2s 129ms/step - loss: 1.2338 - val_loss: 0.1598\n",
      "Epoch 22/1000\n",
      "17/17 [==============================] - 2s 123ms/step - loss: 1.2866 - val_loss: 0.1625\n",
      "Epoch 23/1000\n",
      "17/17 [==============================] - 2s 128ms/step - loss: 1.0960 - val_loss: 0.6310\n",
      "Epoch 24/1000\n",
      "17/17 [==============================] - 2s 120ms/step - loss: 1.1042 - val_loss: 0.3959\n",
      "Epoch 25/1000\n",
      "17/17 [==============================] - 2s 110ms/step - loss: 1.0880 - val_loss: 0.4484\n",
      "Epoch 26/1000\n",
      "17/17 [==============================] - 2s 106ms/step - loss: 1.0607 - val_loss: 0.5983\n",
      "Epoch 27/1000\n",
      "17/17 [==============================] - 2s 104ms/step - loss: 1.0144 - val_loss: 0.5522\n",
      "Epoch 28/1000\n",
      "17/17 [==============================] - 2s 107ms/step - loss: 1.1316 - val_loss: 0.1574\n",
      "Epoch 29/1000\n",
      "17/17 [==============================] - 2s 115ms/step - loss: 0.9123 - val_loss: 0.7347\n",
      "Epoch 30/1000\n",
      "17/17 [==============================] - 2s 106ms/step - loss: 0.9085 - val_loss: 0.6453\n",
      "Epoch 31/1000\n",
      "17/17 [==============================] - 2s 104ms/step - loss: 0.9070 - val_loss: 0.6440\n",
      "Epoch 32/1000\n",
      "17/17 [==============================] - 2s 104ms/step - loss: 0.9615 - val_loss: 0.6363\n",
      "Epoch 33/1000\n",
      "17/17 [==============================] - 2s 106ms/step - loss: 0.9304 - val_loss: 0.7827\n",
      "Epoch 34/1000\n",
      "17/17 [==============================] - 2s 104ms/step - loss: 1.0037 - val_loss: 0.5297\n",
      "Epoch 35/1000\n",
      "17/17 [==============================] - 2s 104ms/step - loss: 0.9052 - val_loss: 0.8065\n",
      "Epoch 36/1000\n",
      "17/17 [==============================] - 2s 107ms/step - loss: 0.8692 - val_loss: 0.6238\n",
      "Epoch 37/1000\n",
      "17/17 [==============================] - 2s 106ms/step - loss: 0.8356 - val_loss: 0.8282\n",
      "Epoch 38/1000\n",
      "17/17 [==============================] - 2s 110ms/step - loss: 0.8505 - val_loss: 0.3495\n",
      "Epoch 39/1000\n",
      "17/17 [==============================] - 2s 111ms/step - loss: 0.8774 - val_loss: 0.8161\n",
      "Epoch 40/1000\n",
      "17/17 [==============================] - 2s 107ms/step - loss: 0.9368 - val_loss: 0.3426\n",
      "Epoch 41/1000\n",
      "17/17 [==============================] - 2s 106ms/step - loss: 0.8096 - val_loss: 0.8461\n",
      "Epoch 42/1000\n",
      "17/17 [==============================] - 2s 107ms/step - loss: 0.8039 - val_loss: 0.5917\n",
      "Epoch 43/1000\n",
      "17/17 [==============================] - ETA: 0s - loss: 0.8370\n",
      "Epoch 00043: ReduceLROnPlateau reducing learning rate to 9.999999747378752e-07.\n",
      "17/17 [==============================] - 2s 109ms/step - loss: 0.8370 - val_loss: 0.2832\n",
      "Epoch 44/1000\n",
      "17/17 [==============================] - 2s 117ms/step - loss: 0.7609 - val_loss: 0.3997\n",
      "Epoch 45/1000\n",
      "17/17 [==============================] - 2s 111ms/step - loss: 0.8169 - val_loss: 0.5783\n",
      "Epoch 46/1000\n",
      "17/17 [==============================] - 2s 107ms/step - loss: 0.8107 - val_loss: 0.5132\n",
      "Epoch 47/1000\n",
      "17/17 [==============================] - 2s 105ms/step - loss: 0.8188 - val_loss: 0.5637\n",
      "Epoch 48/1000\n",
      "17/17 [==============================] - 2s 118ms/step - loss: 0.8378 - val_loss: 0.6503\n",
      "Epoch 49/1000\n",
      "17/17 [==============================] - 2s 124ms/step - loss: 0.8604 - val_loss: 0.6393\n",
      "Epoch 50/1000\n",
      "17/17 [==============================] - 2s 124ms/step - loss: 0.7660 - val_loss: 0.6253\n",
      "Epoch 51/1000\n",
      "17/17 [==============================] - 2s 115ms/step - loss: 0.7647 - val_loss: 0.5922\n",
      "Epoch 52/1000\n",
      "17/17 [==============================] - 2s 114ms/step - loss: 0.7686 - val_loss: 0.6090\n",
      "Epoch 53/1000\n",
      "17/17 [==============================] - 2s 108ms/step - loss: 0.7939 - val_loss: 0.6457\n",
      "Epoch 54/1000\n",
      "17/17 [==============================] - 2s 117ms/step - loss: 0.8376 - val_loss: 0.6845\n",
      "Epoch 55/1000\n",
      "17/17 [==============================] - 2s 111ms/step - loss: 0.8973 - val_loss: 0.6190\n",
      "Epoch 56/1000\n",
      "17/17 [==============================] - 2s 109ms/step - loss: 0.7665 - val_loss: 0.5753\n",
      "Epoch 57/1000\n",
      "17/17 [==============================] - 2s 113ms/step - loss: 0.8056 - val_loss: 0.5474\n",
      "Epoch 58/1000\n",
      "17/17 [==============================] - 2s 108ms/step - loss: 0.7723 - val_loss: 0.6128\n",
      "Epoch 59/1000\n",
      "17/17 [==============================] - 2s 118ms/step - loss: 0.7869 - val_loss: 0.5998\n",
      "Epoch 60/1000\n",
      "17/17 [==============================] - 2s 110ms/step - loss: 0.7946 - val_loss: 0.5544\n",
      "Epoch 61/1000\n",
      "17/17 [==============================] - 2s 117ms/step - loss: 0.7529 - val_loss: 0.5898\n",
      "Epoch 62/1000\n",
      "17/17 [==============================] - 2s 104ms/step - loss: 0.8110 - val_loss: 0.6393\n",
      "Epoch 63/1000\n",
      "17/17 [==============================] - 2s 105ms/step - loss: 0.8039 - val_loss: 0.6430\n",
      "Epoch 64/1000\n",
      "17/17 [==============================] - 2s 109ms/step - loss: 0.7869 - val_loss: 0.5721\n",
      "Epoch 65/1000\n",
      "17/17 [==============================] - 2s 106ms/step - loss: 0.7633 - val_loss: 0.5521\n",
      "Epoch 66/1000\n",
      "17/17 [==============================] - 2s 113ms/step - loss: 0.7451 - val_loss: 0.4833\n",
      "Epoch 67/1000\n",
      "17/17 [==============================] - 2s 118ms/step - loss: 0.7894 - val_loss: 0.5218\n",
      "Epoch 68/1000\n",
      "17/17 [==============================] - ETA: 0s - loss: 0.8278\n",
      "Epoch 00068: ReduceLROnPlateau reducing learning rate to 9.999999974752428e-08.\n",
      "17/17 [==============================] - 2s 110ms/step - loss: 0.8278 - val_loss: 0.5861\n",
      "Epoch 69/1000\n",
      "17/17 [==============================] - 2s 108ms/step - loss: 0.7197 - val_loss: 0.5888\n",
      "Epoch 70/1000\n",
      "17/17 [==============================] - 2s 106ms/step - loss: 0.7319 - val_loss: 0.5874\n",
      "Epoch 71/1000\n",
      "17/17 [==============================] - 2s 115ms/step - loss: 0.7420 - val_loss: 0.5845\n",
      "Epoch 72/1000\n",
      "17/17 [==============================] - 2s 106ms/step - loss: 0.7557 - val_loss: 0.5863\n",
      "Epoch 73/1000\n",
      "17/17 [==============================] - 2s 102ms/step - loss: 0.8228 - val_loss: 0.5824\n",
      "Epoch 74/1000\n",
      "17/17 [==============================] - 2s 110ms/step - loss: 0.8140 - val_loss: 0.5784\n",
      "Epoch 75/1000\n",
      "17/17 [==============================] - 2s 108ms/step - loss: 0.7679 - val_loss: 0.5718\n",
      "Epoch 76/1000\n",
      "17/17 [==============================] - 2s 105ms/step - loss: 0.7300 - val_loss: 0.5800\n",
      "Epoch 77/1000\n",
      "17/17 [==============================] - 2s 104ms/step - loss: 0.7093 - val_loss: 0.5830\n",
      "Epoch 78/1000\n",
      "17/17 [==============================] - 2s 103ms/step - loss: 0.8149 - val_loss: 0.5834\n",
      "Epoch 79/1000\n",
      "17/17 [==============================] - 2s 109ms/step - loss: 0.7337 - val_loss: 0.5798\n",
      "Epoch 80/1000\n",
      "17/17 [==============================] - 2s 106ms/step - loss: 0.7900 - val_loss: 0.5799\n",
      "Epoch 81/1000\n",
      "17/17 [==============================] - 2s 109ms/step - loss: 0.7212 - val_loss: 0.5879\n",
      "Epoch 82/1000\n",
      "17/17 [==============================] - 2s 108ms/step - loss: 0.8044 - val_loss: 0.5935\n",
      "Epoch 83/1000\n",
      "17/17 [==============================] - 2s 106ms/step - loss: 0.8713 - val_loss: 0.5945\n",
      "Epoch 84/1000\n",
      "17/17 [==============================] - 2s 107ms/step - loss: 0.8030 - val_loss: 0.5948\n",
      "Epoch 85/1000\n",
      "17/17 [==============================] - 2s 108ms/step - loss: 0.8014 - val_loss: 0.5929\n",
      "Epoch 86/1000\n",
      "17/17 [==============================] - 2s 109ms/step - loss: 0.7723 - val_loss: 0.5875\n",
      "Epoch 87/1000\n",
      "17/17 [==============================] - 2s 107ms/step - loss: 0.8591 - val_loss: 0.5937\n",
      "Epoch 88/1000\n",
      "17/17 [==============================] - 2s 104ms/step - loss: 0.8506 - val_loss: 0.6093\n",
      "Epoch 89/1000\n",
      "17/17 [==============================] - 2s 108ms/step - loss: 0.8918 - val_loss: 0.6179\n",
      "Epoch 90/1000\n",
      "17/17 [==============================] - 2s 110ms/step - loss: 0.7887 - val_loss: 0.6140\n",
      "Epoch 91/1000\n",
      "17/17 [==============================] - 2s 110ms/step - loss: 0.7663 - val_loss: 0.6108\n",
      "Epoch 92/1000\n",
      "17/17 [==============================] - 2s 137ms/step - loss: 0.7915 - val_loss: 0.5991\n",
      "Epoch 93/1000\n",
      "17/17 [==============================] - ETA: 0s - loss: 0.7913\n",
      "Epoch 00093: ReduceLROnPlateau reducing learning rate to 1.0000000116860975e-08.\n",
      "17/17 [==============================] - 2s 123ms/step - loss: 0.7913 - val_loss: 0.6029\n",
      "Epoch 94/1000\n",
      "17/17 [==============================] - 2s 110ms/step - loss: 0.8498 - val_loss: 0.6030\n",
      "Epoch 95/1000\n",
      "17/17 [==============================] - 2s 115ms/step - loss: 0.8170 - val_loss: 0.6038\n",
      "Epoch 96/1000\n",
      "17/17 [==============================] - 2s 105ms/step - loss: 0.8374 - val_loss: 0.6050\n",
      "Epoch 97/1000\n",
      "17/17 [==============================] - 2s 127ms/step - loss: 0.8069 - val_loss: 0.6054\n",
      "Epoch 98/1000\n",
      "17/17 [==============================] - 2s 106ms/step - loss: 0.8754 - val_loss: 0.6058\n",
      "Epoch 99/1000\n",
      "17/17 [==============================] - 2s 110ms/step - loss: 0.8196 - val_loss: 0.6051\n",
      "Epoch 100/1000\n",
      "17/17 [==============================] - 2s 111ms/step - loss: 0.8476 - val_loss: 0.6041\n",
      "Epoch 101/1000\n",
      "17/17 [==============================] - 2s 111ms/step - loss: 0.6981 - val_loss: 0.6039\n",
      "Epoch 102/1000\n",
      "17/17 [==============================] - 2s 111ms/step - loss: 0.7868 - val_loss: 0.6034\n",
      "Epoch 103/1000\n",
      "17/17 [==============================] - 2s 107ms/step - loss: 0.7360 - val_loss: 0.6031\n",
      "Epoch 104/1000\n",
      "17/17 [==============================] - 2s 105ms/step - loss: 0.8291 - val_loss: 0.6018\n",
      "Epoch 105/1000\n",
      "17/17 [==============================] - 2s 109ms/step - loss: 0.8146 - val_loss: 0.6019\n",
      "Epoch 106/1000\n",
      "17/17 [==============================] - 2s 105ms/step - loss: 0.8073 - val_loss: 0.6017\n",
      "Epoch 107/1000\n",
      "17/17 [==============================] - 2s 104ms/step - loss: 0.7677 - val_loss: 0.6017\n",
      "Epoch 108/1000\n",
      "17/17 [==============================] - 2s 102ms/step - loss: 0.7800 - val_loss: 0.6011\n",
      "Epoch 109/1000\n",
      "17/17 [==============================] - 2s 105ms/step - loss: 0.7394 - val_loss: 0.6011\n",
      "Epoch 110/1000\n",
      "17/17 [==============================] - 2s 105ms/step - loss: 0.7802 - val_loss: 0.6008\n",
      "Epoch 111/1000\n",
      "17/17 [==============================] - 2s 104ms/step - loss: 0.8092 - val_loss: 0.6012\n",
      "Epoch 112/1000\n",
      "17/17 [==============================] - 2s 106ms/step - loss: 0.9537 - val_loss: 0.6019\n",
      "Epoch 113/1000\n",
      "17/17 [==============================] - 2s 104ms/step - loss: 0.7795 - val_loss: 0.6016\n",
      "Epoch 114/1000\n",
      "17/17 [==============================] - 2s 103ms/step - loss: 0.7853 - val_loss: 0.6008\n",
      "Epoch 115/1000\n",
      "17/17 [==============================] - 2s 105ms/step - loss: 0.7958 - val_loss: 0.6001\n",
      "Epoch 116/1000\n",
      "17/17 [==============================] - 2s 105ms/step - loss: 0.7966 - val_loss: 0.6001\n",
      "Epoch 117/1000\n",
      "17/17 [==============================] - 2s 101ms/step - loss: 0.8221 - val_loss: 0.5990\n",
      "Epoch 118/1000\n",
      "17/17 [==============================] - ETA: 0s - loss: 0.8115\n",
      "Epoch 00118: ReduceLROnPlateau reducing learning rate to 9.999999939225292e-10.\n",
      "Restoring model weights from the end of the best epoch.\n",
      "17/17 [==============================] - 2s 106ms/step - loss: 0.8115 - val_loss: 0.5988\n",
      "Epoch 00118: early stopping\n"
     ]
    }
   ],
   "source": [
    "# History object for plotting our model loss by epoch\n",
    "history3 = model3.fit(x_train1, y_train1, batch_size = BATCH3, \n",
    "                    epochs = EPOCHS, validation_data = (x_val1, y_val1),\n",
    "                    callbacks = [rlrop3, early_stop3])"
   ]
  },
  {
   "cell_type": "code",
   "execution_count": 47,
   "metadata": {},
   "outputs": [
    {
     "data": {
      "image/png": "[encoded data removed]",
      "text/plain": [
       "<Figure size 720x504 with 1 Axes>"
      ]
     },
     "metadata": {
      "needs_background": "light"
     },
     "output_type": "display_data"
    }
   ],
   "source": [
    "# Loss History\n",
    "fig = plt.figure(figsize=(10, 7))\n",
    "plt.plot(history3.history['loss'])\n",
    "plt.plot(history3.history['val_loss'])\n",
    "plt.title('Model Loss')\n",
    "plt.ylabel('Loss')\n",
    "plt.xlabel('Epoch')\n",
    "plt.legend(['Train', 'Val'], loc='upper right')\n",
    "plt.show()"
   ]
  },
  {
   "cell_type": "markdown",
   "metadata": {},
   "source": [
    "### Previsão Multistep 12 meses em Validação\n",
    "Para ficar adequado à realidade, não podemos usar os dados de 2022 para prever 2022. Portanto, a previsão de 2022 será feita do moto *multistep*, isto é, o mês de janeiro/2022 será previsto usando-se os dados de arrecadação de janeiro a dezembro de 2021; o mês de fevereiro/2022 será previsto usando-se os dados de fevereiro a dezembro de 2021 mais a previsão feita para o mês de janeiro/2022; o mês de março/2022 será previsto usando-se os dados de março a dezembro de 2021 mais os meses de janeiro e fevereiro de 2022 previstos nos passos anteriores. E assim por diante, até que a previsão de dezembro/2022 será feita usando-se os dados de dezembro de 2021 mais as previsões de janeiro a novembro de 2022 feitas nos passos anteriores."
   ]
  },
  {
   "cell_type": "markdown",
   "metadata": {},
   "source": [
    "#### Remove os 12 últimos valores que serão previstos e cria as séries novamente"
   ]
  },
  {
   "cell_type": "code",
   "execution_count": 48,
   "metadata": {},
   "outputs": [
    {
     "name": "stdout",
     "output_type": "stream",
     "text": [
      "(168,)\n",
      "(156,)\n"
     ]
    }
   ],
   "source": [
    "# remove\n",
    "serie_multi12 = l_icms_ts[:-24]\n",
    "print(l_icms_ts.shape)\n",
    "print(serie_multi1.shape)"
   ]
  },
  {
   "cell_type": "code",
   "execution_count": 49,
   "metadata": {},
   "outputs": [
    {
     "name": "stdout",
     "output_type": "stream",
     "text": [
      "0 [[1.0254979e+10]]\n",
      "1 [[1.0284831e+10]]\n",
      "2 [[1.0361563e+10]]\n",
      "3 [[1.0344088e+10]]\n",
      "4 [[1.0325913e+10]]\n",
      "5 [[1.0338683e+10]]\n",
      "6 [[1.0316305e+10]]\n",
      "7 [[1.0330562e+10]]\n",
      "8 [[1.0317427e+10]]\n",
      "9 [[1.0315066e+10]]\n",
      "10 [[1.031908e+10]]\n",
      "11 [[1.0325913e+10]]\n"
     ]
    }
   ],
   "source": [
    "for i in range(12):\n",
    "    # cria as séries\n",
    "    X_multi12, Y_multi12 = cria_features_target(serie_multi12, verbose=0)\n",
    "\n",
    "    # Faz a normalização usando o modelo fitado na normalização anterior\n",
    "    X_multi_std12 = enc_x.transform(X_multi12)\n",
    "    X_multi_std12 = X_multi_std12.reshape(X_multi_std12.shape[0],10,1)\n",
    "\n",
    "    # Faz o janelamento das séries\n",
    "    x_multi12, y_multi12 = janelamento_1_mes(X_multi_std12, Y_multi12, verbose=0)\n",
    "\n",
    "    # Faz a predição da arrecadação do mês\n",
    "    #y_pred_multi = np.mean(model.predict(x_multi[-1:]), axis=1)#[:,0].ravel()\n",
    "    y_pred_multi12 = model3.predict(x_multi12[-1:])#[:,0].ravel()\n",
    "    print(i, np.exp(y_pred_multi12))\n",
    "\n",
    "    #### Adicionar o valor previsto à série e fazer o novo janelamento\n",
    "    serie_multi12 = pd.Series(np.append(serie_multi12, y_pred_multi12))"
   ]
  },
  {
   "cell_type": "code",
   "execution_count": 50,
   "metadata": {},
   "outputs": [],
   "source": [
    "Y_pred_multi12 = np.exp(pd.Series(serie_multi12[-12:]))\n",
    "Y_pred_multi12.index = icms_val.index"
   ]
  },
  {
   "cell_type": "code",
   "execution_count": 51,
   "metadata": {},
   "outputs": [
    {
     "data": {
      "text/plain": [
       "date\n",
       "2015-01-01    1.025498e+10\n",
       "2015-02-01    1.028483e+10\n",
       "2015-03-01    1.036156e+10\n",
       "2015-04-01    1.034409e+10\n",
       "2015-05-01    1.032591e+10\n",
       "2015-06-01    1.033868e+10\n",
       "2015-07-01    1.031631e+10\n",
       "2015-08-01    1.033056e+10\n",
       "2015-09-01    1.031743e+10\n",
       "2015-10-01    1.031507e+10\n",
       "2015-11-01    1.031908e+10\n",
       "2015-12-01    1.032591e+10\n",
       "dtype: float64"
      ]
     },
     "execution_count": 51,
     "metadata": {},
     "output_type": "execute_result"
    }
   ],
   "source": [
    "Y_pred_multi12"
   ]
  },
  {
   "cell_type": "code",
   "execution_count": 52,
   "metadata": {},
   "outputs": [
    {
     "data": {
      "text/plain": [
       "376167061.4784599"
      ]
     },
     "execution_count": 52,
     "metadata": {},
     "output_type": "execute_result"
    }
   ],
   "source": [
    "RMSE_lstm_multi12 = mean_squared_error(icms_val, Y_pred_multi12, squared=False)\n",
    "RMSE_lstm_multi12"
   ]
  },
  {
   "cell_type": "code",
   "execution_count": 53,
   "metadata": {},
   "outputs": [
    {
     "data": {
      "text/plain": [
       "0.028407342383326217"
      ]
     },
     "execution_count": 53,
     "metadata": {},
     "output_type": "execute_result"
    }
   ],
   "source": [
    "MAPE_lstm_multi12 = mean_absolute_percentage_error(icms_val, Y_pred_multi12)\n",
    "MAPE_lstm_multi12"
   ]
  },
  {
   "cell_type": "code",
   "execution_count": 54,
   "metadata": {},
   "outputs": [],
   "source": [
    "previsoes['nome'].append('RNN-LSTM-1-mês-camadas')\n",
    "previsoes['modelo'].append(model3)\n",
    "previsoes['previsoes'].append(Y_pred_multi12)\n",
    "\n",
    "previsoes['rmse'].append(RMSE_lstm_multi12)\n",
    "\n",
    "previsoes['mape'].append(MAPE_lstm_multi12)\n",
    "\n",
    "previsoes['erro relativo'].append([erro_relativo(prev,real) \n",
    "                                   for prev,real in zip(Y_pred_multi12\n",
    "                                                        , icms_val)])"
   ]
  },
  {
   "cell_type": "markdown",
   "metadata": {},
   "source": [
    "# Modelo 12 meses"
   ]
  },
  {
   "cell_type": "markdown",
   "metadata": {},
   "source": [
    "#### Criando as janelas de 12 meses e reshape para LSTM. A arrecadação de cada mês será prevista pela arrecadação dos 12 meses anteriores."
   ]
  },
  {
   "cell_type": "markdown",
   "metadata": {},
   "source": [
    "##### Unindo novamente os dados."
   ]
  },
  {
   "cell_type": "code",
   "execution_count": 55,
   "metadata": {},
   "outputs": [],
   "source": [
    "def janelamento_12_meses(X, Y, verbose=0):\n",
    "    X_exp = np.concatenate((np.roll(X, 12, axis=0),\n",
    "                            np.roll(X, 11, axis=0),\n",
    "                            np.roll(X, 10, axis=0),\n",
    "                            np.roll(X, 9, axis=0),\n",
    "                            np.roll(X, 8, axis=0),\n",
    "                            np.roll(X, 7, axis=0),\n",
    "                            np.roll(X, 6, axis=0),\n",
    "                            np.roll(X, 5, axis=0),\n",
    "                            np.roll(X, 4, axis=0),\n",
    "                            np.roll(X, 3, axis=0),\n",
    "                            np.roll(X, 2, axis=0),\n",
    "                            np.roll(X, 1, axis=0),\n",
    "                            ), axis=2)\n",
    "    X_exp_cut = X_exp[12:,:,:].transpose(0,2,1)\n",
    "    Y_cut = Y[12:]\n",
    "    if verbose==1:\n",
    "        print('shape das features janeladas:', X_exp.shape)\n",
    "        print('shape das features janeladas pós poda e transposição:', X_exp_cut.shape)\n",
    "        print('shape do array target pós poda:', Y_cut.shape)\n",
    "    return X_exp_cut, Y_cut"
   ]
  },
  {
   "cell_type": "code",
   "execution_count": 56,
   "metadata": {},
   "outputs": [],
   "source": [
    "X_data_exp_cut12, Y_data_cut12 = janelamento_12_meses(X_data_jn, Y_data, verbose=0)"
   ]
  },
  {
   "cell_type": "code",
   "execution_count": 57,
   "metadata": {},
   "outputs": [],
   "source": [
    "#Y_data_cut[0]"
   ]
  },
  {
   "cell_type": "code",
   "execution_count": 58,
   "metadata": {},
   "outputs": [],
   "source": [
    "#X_data_exp_cut[0]"
   ]
  },
  {
   "cell_type": "code",
   "execution_count": 59,
   "metadata": {},
   "outputs": [],
   "source": [
    "#Y_data_cut[Y_data_cut.shape[0]-1]"
   ]
  },
  {
   "cell_type": "code",
   "execution_count": 60,
   "metadata": {},
   "outputs": [],
   "source": [
    "#X_data_exp_cut[Y_data_cut.shape[0]-1]"
   ]
  },
  {
   "cell_type": "markdown",
   "metadata": {},
   "source": [
    "#### Separando novamente em treino, validação e teste"
   ]
  },
  {
   "cell_type": "code",
   "execution_count": 61,
   "metadata": {},
   "outputs": [
    {
     "name": "stdout",
     "output_type": "stream",
     "text": [
      "(120, 12, 10) (12, 12, 10) (12, 12, 10)\n",
      "(120,) (12,) (12,)\n"
     ]
    }
   ],
   "source": [
    "x_train12 = X_data_exp_cut12[:-24]\n",
    "x_val12 = X_data_exp_cut12[-24:-12]\n",
    "x_test12 = X_data_exp_cut12[-12:]\n",
    "print(x_train12.shape, x_val12.shape, x_test12.shape)\n",
    "y_train12 = Y_data_cut12[:-24]\n",
    "y_val12 = Y_data_cut12[-24:-12]\n",
    "y_test12 = np.exp(Y_data_cut12[-12:]) # tirar o log para ficar o valor real\n",
    "print(y_train12.shape, y_val12.shape, y_test12.shape)"
   ]
  },
  {
   "cell_type": "markdown",
   "metadata": {},
   "source": [
    "### Criando o modelo LSTM"
   ]
  },
  {
   "cell_type": "markdown",
   "metadata": {},
   "source": [
    "## Arquitetura da Rede - Arquitetura Larga"
   ]
  },
  {
   "cell_type": "code",
   "execution_count": 62,
   "metadata": {},
   "outputs": [],
   "source": [
    "rlrop2 = ReduceLROnPlateau(monitor='val_loss', factor=0.1, patience=10, verbose=1)\n",
    "early_stop2 = EarlyStopping(monitor='val_loss', patience=100, verbose=1, \n",
    "                           restore_best_weights=True)"
   ]
  },
  {
   "cell_type": "code",
   "execution_count": 63,
   "metadata": {},
   "outputs": [],
   "source": [
    "# Épocas e tamanho do lote\n",
    "EPOCHS2 = 1000\n",
    "BATCH2 = 8\n",
    "NEURONIOS2 = 1000\n",
    "LR2 = 1e-5\n",
    "DROPOUT2 = 0.25\n",
    "\n",
    "# Imstanciação do modelo\n",
    "model2 = Sequential()\n",
    "\n",
    "# Adicionar camada LSTM \n",
    "model2.add(LSTM(activation='tanh', dropout=DROPOUT2,\n",
    "        input_shape = (12, 10), return_sequences = False,\n",
    "        units = NEURONIOS2))\n",
    "\n",
    "# Adicionar a camada de saída com 1 neurônio linear\n",
    "model2.add(Dense(\n",
    "        units = 1,\n",
    "        activation = 'linear'))\n",
    "# a learning rate padrão do Adam é 0.001\n",
    "model2.compile(loss = 'mape', optimizer = Adam(learning_rate=LR2))"
   ]
  },
  {
   "cell_type": "code",
   "execution_count": 64,
   "metadata": {},
   "outputs": [
    {
     "name": "stdout",
     "output_type": "stream",
     "text": [
      "Model: \"sequential_2\"\n",
      "_________________________________________________________________\n",
      "Layer (type)                 Output Shape              Param #   \n",
      "=================================================================\n",
      "lstm_4 (LSTM)                (None, 1000)              4044000   \n",
      "_________________________________________________________________\n",
      "dense_2 (Dense)              (None, 1)                 1001      \n",
      "=================================================================\n",
      "Total params: 4,045,001\n",
      "Trainable params: 4,045,001\n",
      "Non-trainable params: 0\n",
      "_________________________________________________________________\n"
     ]
    }
   ],
   "source": [
    "model2.summary()"
   ]
  },
  {
   "cell_type": "code",
   "execution_count": 65,
   "metadata": {
    "scrolled": true
   },
   "outputs": [
    {
     "name": "stdout",
     "output_type": "stream",
     "text": [
      "Epoch 1/1000\n",
      "15/15 [==============================] - 2s 115ms/step - loss: 99.5584 - val_loss: 98.5379\n",
      "Epoch 2/1000\n",
      "15/15 [==============================] - 1s 89ms/step - loss: 98.7559 - val_loss: 97.0499\n",
      "Epoch 3/1000\n",
      "15/15 [==============================] - 1s 92ms/step - loss: 97.7967 - val_loss: 95.3432\n",
      "Epoch 4/1000\n",
      "15/15 [==============================] - 1s 91ms/step - loss: 96.6947 - val_loss: 93.1038\n",
      "Epoch 5/1000\n",
      "15/15 [==============================] - 1s 92ms/step - loss: 95.1830 - val_loss: 89.8387\n",
      "Epoch 6/1000\n",
      "15/15 [==============================] - 1s 95ms/step - loss: 92.9876 - val_loss: 84.5270\n",
      "Epoch 7/1000\n",
      "15/15 [==============================] - 1s 99ms/step - loss: 89.1904 - val_loss: 74.6975\n",
      "Epoch 8/1000\n",
      "15/15 [==============================] - 2s 101ms/step - loss: 81.8417 - val_loss: 55.1970\n",
      "Epoch 9/1000\n",
      "15/15 [==============================] - 1s 98ms/step - loss: 66.4532 - val_loss: 24.8728\n",
      "Epoch 10/1000\n",
      "15/15 [==============================] - 2s 100ms/step - loss: 44.0658 - val_loss: 1.2440\n",
      "Epoch 11/1000\n",
      "15/15 [==============================] - 1s 99ms/step - loss: 23.8661 - val_loss: 7.3664\n",
      "Epoch 12/1000\n",
      "15/15 [==============================] - 1s 93ms/step - loss: 16.9906 - val_loss: 2.6152\n",
      "Epoch 13/1000\n",
      "15/15 [==============================] - 1s 98ms/step - loss: 11.4918 - val_loss: 0.2877\n",
      "Epoch 14/1000\n",
      "15/15 [==============================] - 1s 95ms/step - loss: 8.2868 - val_loss: 0.3930\n",
      "Epoch 15/1000\n",
      "15/15 [==============================] - 1s 90ms/step - loss: 5.6379 - val_loss: 0.1378\n",
      "Epoch 16/1000\n",
      "15/15 [==============================] - 1s 87ms/step - loss: 4.1504 - val_loss: 0.3145\n",
      "Epoch 17/1000\n",
      "15/15 [==============================] - 1s 86ms/step - loss: 3.4549 - val_loss: 0.5527\n",
      "Epoch 18/1000\n",
      "15/15 [==============================] - 1s 87ms/step - loss: 2.8747 - val_loss: 0.7162\n",
      "Epoch 19/1000\n",
      "15/15 [==============================] - 1s 87ms/step - loss: 2.3762 - val_loss: 0.8740\n",
      "Epoch 20/1000\n",
      "15/15 [==============================] - 1s 88ms/step - loss: 2.0362 - val_loss: 1.0180\n",
      "Epoch 21/1000\n",
      "15/15 [==============================] - 1s 87ms/step - loss: 1.8387 - val_loss: 0.7349\n",
      "Epoch 22/1000\n",
      "15/15 [==============================] - 1s 82ms/step - loss: 1.7845 - val_loss: 0.6760\n",
      "Epoch 23/1000\n",
      "15/15 [==============================] - 1s 85ms/step - loss: 1.6547 - val_loss: 1.0713\n",
      "Epoch 24/1000\n",
      "15/15 [==============================] - 1s 85ms/step - loss: 1.4582 - val_loss: 0.7619\n",
      "Epoch 25/1000\n",
      "15/15 [==============================] - ETA: 0s - loss: 1.4463\n",
      "Epoch 00025: ReduceLROnPlateau reducing learning rate to 9.999999747378752e-07.\n",
      "15/15 [==============================] - 1s 85ms/step - loss: 1.4463 - val_loss: 1.3275\n",
      "Epoch 26/1000\n",
      "15/15 [==============================] - 1s 87ms/step - loss: 1.3358 - val_loss: 1.2201\n",
      "Epoch 27/1000\n",
      "15/15 [==============================] - 1s 86ms/step - loss: 1.3083 - val_loss: 1.0316\n",
      "Epoch 28/1000\n",
      "15/15 [==============================] - 1s 87ms/step - loss: 1.3385 - val_loss: 0.9998\n",
      "Epoch 29/1000\n",
      "15/15 [==============================] - 1s 87ms/step - loss: 1.3491 - val_loss: 0.9824\n",
      "Epoch 30/1000\n",
      "15/15 [==============================] - 1s 85ms/step - loss: 1.3887 - val_loss: 0.9591\n",
      "Epoch 31/1000\n",
      "15/15 [==============================] - 1s 86ms/step - loss: 1.3277 - val_loss: 0.9986\n",
      "Epoch 32/1000\n",
      "15/15 [==============================] - 1s 88ms/step - loss: 1.3419 - val_loss: 0.9630\n",
      "Epoch 33/1000\n",
      "15/15 [==============================] - 1s 91ms/step - loss: 1.3538 - val_loss: 1.0550\n",
      "Epoch 34/1000\n",
      "15/15 [==============================] - 1s 88ms/step - loss: 1.3095 - val_loss: 1.0566\n",
      "Epoch 35/1000\n",
      "15/15 [==============================] - ETA: 0s - loss: 1.3286\n",
      "Epoch 00035: ReduceLROnPlateau reducing learning rate to 9.999999974752428e-08.\n",
      "15/15 [==============================] - 1s 91ms/step - loss: 1.3286 - val_loss: 1.0330\n",
      "Epoch 36/1000\n",
      "15/15 [==============================] - 1s 93ms/step - loss: 1.2794 - val_loss: 1.0345\n",
      "Epoch 37/1000\n",
      "15/15 [==============================] - 1s 91ms/step - loss: 1.2218 - val_loss: 1.0299\n",
      "Epoch 38/1000\n",
      "15/15 [==============================] - 1s 91ms/step - loss: 1.3855 - val_loss: 1.0318\n",
      "Epoch 39/1000\n",
      "15/15 [==============================] - 1s 93ms/step - loss: 1.2840 - val_loss: 1.0301\n",
      "Epoch 40/1000\n",
      "15/15 [==============================] - 1s 93ms/step - loss: 1.3653 - val_loss: 1.0233\n",
      "Epoch 41/1000\n",
      "15/15 [==============================] - 1s 90ms/step - loss: 1.2993 - val_loss: 1.0147\n",
      "Epoch 42/1000\n",
      "15/15 [==============================] - 1s 92ms/step - loss: 1.3547 - val_loss: 1.0153\n",
      "Epoch 43/1000\n",
      "15/15 [==============================] - 1s 94ms/step - loss: 1.2489 - val_loss: 1.0082\n",
      "Epoch 44/1000\n",
      "15/15 [==============================] - 1s 94ms/step - loss: 1.2659 - val_loss: 1.0098\n",
      "Epoch 45/1000\n",
      "15/15 [==============================] - ETA: 0s - loss: 1.2380\n",
      "Epoch 00045: ReduceLROnPlateau reducing learning rate to 1.0000000116860975e-08.\n",
      "15/15 [==============================] - 1s 94ms/step - loss: 1.2380 - val_loss: 1.0048\n",
      "Epoch 46/1000\n",
      "15/15 [==============================] - 1s 96ms/step - loss: 1.2308 - val_loss: 1.0050\n",
      "Epoch 47/1000\n",
      "15/15 [==============================] - 2s 101ms/step - loss: 1.2578 - val_loss: 1.0049\n",
      "Epoch 48/1000\n",
      "15/15 [==============================] - 1s 97ms/step - loss: 1.2880 - val_loss: 1.0046\n",
      "Epoch 49/1000\n",
      "15/15 [==============================] - 1s 95ms/step - loss: 1.3159 - val_loss: 1.0051\n",
      "Epoch 50/1000\n",
      "15/15 [==============================] - 1s 95ms/step - loss: 1.2944 - val_loss: 1.0048\n",
      "Epoch 51/1000\n",
      "15/15 [==============================] - 1s 93ms/step - loss: 1.2961 - val_loss: 1.0050\n",
      "Epoch 52/1000\n",
      "15/15 [==============================] - 1s 92ms/step - loss: 1.2506 - val_loss: 1.0048\n",
      "Epoch 53/1000\n",
      "15/15 [==============================] - 1s 91ms/step - loss: 1.2694 - val_loss: 1.0061\n",
      "Epoch 54/1000\n",
      "15/15 [==============================] - 1s 97ms/step - loss: 1.2881 - val_loss: 1.0064\n",
      "Epoch 55/1000\n",
      "15/15 [==============================] - ETA: 0s - loss: 1.3017\n",
      "Epoch 00055: ReduceLROnPlateau reducing learning rate to 9.999999939225292e-10.\n",
      "15/15 [==============================] - 1s 91ms/step - loss: 1.3017 - val_loss: 1.0056\n",
      "Epoch 56/1000\n",
      "15/15 [==============================] - 1s 93ms/step - loss: 1.2268 - val_loss: 1.0056\n",
      "Epoch 57/1000\n",
      "15/15 [==============================] - 1s 90ms/step - loss: 1.2390 - val_loss: 1.0056\n",
      "Epoch 58/1000\n",
      "15/15 [==============================] - 1s 88ms/step - loss: 1.3352 - val_loss: 1.0056\n",
      "Epoch 59/1000\n",
      "15/15 [==============================] - 1s 83ms/step - loss: 1.3358 - val_loss: 1.0056\n",
      "Epoch 60/1000\n",
      "15/15 [==============================] - 1s 84ms/step - loss: 1.2637 - val_loss: 1.0056\n",
      "Epoch 61/1000\n",
      "15/15 [==============================] - 1s 87ms/step - loss: 1.3005 - val_loss: 1.0056\n",
      "Epoch 62/1000\n",
      "15/15 [==============================] - 1s 87ms/step - loss: 1.3279 - val_loss: 1.0056\n",
      "Epoch 63/1000\n",
      "15/15 [==============================] - 1s 90ms/step - loss: 1.3184 - val_loss: 1.0056\n",
      "Epoch 64/1000\n",
      "15/15 [==============================] - 1s 85ms/step - loss: 1.2889 - val_loss: 1.0055\n",
      "Epoch 65/1000\n",
      "15/15 [==============================] - ETA: 0s - loss: 1.3068\n",
      "Epoch 00065: ReduceLROnPlateau reducing learning rate to 9.999999717180686e-11.\n",
      "15/15 [==============================] - 1s 85ms/step - loss: 1.3068 - val_loss: 1.0055\n",
      "Epoch 66/1000\n",
      "15/15 [==============================] - 1s 88ms/step - loss: 1.3417 - val_loss: 1.0055\n",
      "Epoch 67/1000\n",
      "15/15 [==============================] - 1s 86ms/step - loss: 1.3803 - val_loss: 1.0055\n",
      "Epoch 68/1000\n",
      "15/15 [==============================] - 1s 86ms/step - loss: 1.3650 - val_loss: 1.0055\n",
      "Epoch 69/1000\n",
      "15/15 [==============================] - 1s 89ms/step - loss: 1.3055 - val_loss: 1.0055\n",
      "Epoch 70/1000\n",
      "15/15 [==============================] - 1s 88ms/step - loss: 1.2436 - val_loss: 1.0055\n",
      "Epoch 71/1000\n",
      "15/15 [==============================] - 1s 90ms/step - loss: 1.2734 - val_loss: 1.0055\n",
      "Epoch 72/1000\n",
      "15/15 [==============================] - 1s 95ms/step - loss: 1.2482 - val_loss: 1.0055\n",
      "Epoch 73/1000\n",
      "15/15 [==============================] - 1s 93ms/step - loss: 1.3168 - val_loss: 1.0055\n",
      "Epoch 74/1000\n"
     ]
    },
    {
     "name": "stdout",
     "output_type": "stream",
     "text": [
      "15/15 [==============================] - 1s 92ms/step - loss: 1.2924 - val_loss: 1.0055\n",
      "Epoch 75/1000\n",
      "15/15 [==============================] - ETA: 0s - loss: 1.2423\n",
      "Epoch 00075: ReduceLROnPlateau reducing learning rate to 9.99999943962493e-12.\n",
      "15/15 [==============================] - 1s 93ms/step - loss: 1.2423 - val_loss: 1.0055\n",
      "Epoch 76/1000\n",
      "15/15 [==============================] - 1s 94ms/step - loss: 1.1881 - val_loss: 1.0055\n",
      "Epoch 77/1000\n",
      "15/15 [==============================] - 1s 92ms/step - loss: 1.3489 - val_loss: 1.0055\n",
      "Epoch 78/1000\n",
      "15/15 [==============================] - 1s 91ms/step - loss: 1.2185 - val_loss: 1.0055\n",
      "Epoch 79/1000\n",
      "15/15 [==============================] - 1s 91ms/step - loss: 1.2932 - val_loss: 1.0055\n",
      "Epoch 80/1000\n",
      "15/15 [==============================] - 1s 95ms/step - loss: 1.2430 - val_loss: 1.0055\n",
      "Epoch 81/1000\n",
      "15/15 [==============================] - 1s 93ms/step - loss: 1.2957 - val_loss: 1.0055\n",
      "Epoch 82/1000\n",
      "15/15 [==============================] - 1s 95ms/step - loss: 1.3149 - val_loss: 1.0055\n",
      "Epoch 83/1000\n",
      "15/15 [==============================] - 1s 96ms/step - loss: 1.2843 - val_loss: 1.0055\n",
      "Epoch 84/1000\n",
      "15/15 [==============================] - 1s 97ms/step - loss: 1.3241 - val_loss: 1.0055\n",
      "Epoch 85/1000\n",
      "15/15 [==============================] - ETA: 0s - loss: 1.3237\n",
      "Epoch 00085: ReduceLROnPlateau reducing learning rate to 9.999999092680235e-13.\n",
      "15/15 [==============================] - 1s 95ms/step - loss: 1.3237 - val_loss: 1.0055\n",
      "Epoch 86/1000\n",
      "15/15 [==============================] - 1s 95ms/step - loss: 1.3667 - val_loss: 1.0055\n",
      "Epoch 87/1000\n",
      "15/15 [==============================] - 1s 96ms/step - loss: 1.3454 - val_loss: 1.0055\n",
      "Epoch 88/1000\n",
      "15/15 [==============================] - 1s 98ms/step - loss: 1.2177 - val_loss: 1.0055\n",
      "Epoch 89/1000\n",
      "15/15 [==============================] - 1s 95ms/step - loss: 1.2297 - val_loss: 1.0055\n",
      "Epoch 90/1000\n",
      "15/15 [==============================] - 1s 99ms/step - loss: 1.3581 - val_loss: 1.0055\n",
      "Epoch 91/1000\n",
      "15/15 [==============================] - 1s 95ms/step - loss: 1.3503 - val_loss: 1.0055\n",
      "Epoch 92/1000\n",
      "15/15 [==============================] - 1s 98ms/step - loss: 1.2602 - val_loss: 1.0055\n",
      "Epoch 93/1000\n",
      "15/15 [==============================] - 1s 93ms/step - loss: 1.3322 - val_loss: 1.0055\n",
      "Epoch 94/1000\n",
      "15/15 [==============================] - 1s 90ms/step - loss: 1.3504 - val_loss: 1.0055\n",
      "Epoch 95/1000\n",
      "15/15 [==============================] - ETA: 0s - loss: 1.3712\n",
      "Epoch 00095: ReduceLROnPlateau reducing learning rate to 9.9999988758398e-14.\n",
      "15/15 [==============================] - 1s 87ms/step - loss: 1.3712 - val_loss: 1.0055\n",
      "Epoch 96/1000\n",
      "15/15 [==============================] - 2s 106ms/step - loss: 1.3257 - val_loss: 1.0055\n",
      "Epoch 97/1000\n",
      "15/15 [==============================] - 1s 90ms/step - loss: 1.3767 - val_loss: 1.0055\n",
      "Epoch 98/1000\n",
      "15/15 [==============================] - 1s 89ms/step - loss: 1.2587 - val_loss: 1.0055\n",
      "Epoch 99/1000\n",
      "15/15 [==============================] - 2s 104ms/step - loss: 1.2368 - val_loss: 1.0055\n",
      "Epoch 100/1000\n",
      "15/15 [==============================] - 2s 104ms/step - loss: 1.2505 - val_loss: 1.0055\n",
      "Epoch 101/1000\n",
      "15/15 [==============================] - 1s 87ms/step - loss: 1.2462 - val_loss: 1.0055\n",
      "Epoch 102/1000\n",
      "15/15 [==============================] - 1s 98ms/step - loss: 1.2607 - val_loss: 1.0055\n",
      "Epoch 103/1000\n",
      "15/15 [==============================] - 1s 93ms/step - loss: 1.3157 - val_loss: 1.0055\n",
      "Epoch 104/1000\n",
      "15/15 [==============================] - 1s 92ms/step - loss: 1.2673 - val_loss: 1.0055\n",
      "Epoch 105/1000\n",
      "15/15 [==============================] - ETA: 0s - loss: 1.2932\n",
      "Epoch 00105: ReduceLROnPlateau reducing learning rate to 9.999999146890344e-15.\n",
      "15/15 [==============================] - 2s 107ms/step - loss: 1.2932 - val_loss: 1.0055\n",
      "Epoch 106/1000\n",
      "15/15 [==============================] - 1s 93ms/step - loss: 1.2959 - val_loss: 1.0055\n",
      "Epoch 107/1000\n",
      "15/15 [==============================] - 1s 90ms/step - loss: 1.2107 - val_loss: 1.0055\n",
      "Epoch 108/1000\n",
      "15/15 [==============================] - 1s 100ms/step - loss: 1.2401 - val_loss: 1.0055\n",
      "Epoch 109/1000\n",
      "15/15 [==============================] - 1s 94ms/step - loss: 1.2904 - val_loss: 1.0055\n",
      "Epoch 110/1000\n",
      "15/15 [==============================] - 2s 100ms/step - loss: 1.1905 - val_loss: 1.0055\n",
      "Epoch 111/1000\n",
      "15/15 [==============================] - 2s 112ms/step - loss: 1.3789 - val_loss: 1.0055\n",
      "Epoch 112/1000\n",
      "15/15 [==============================] - 1s 95ms/step - loss: 1.3236 - val_loss: 1.0055\n",
      "Epoch 113/1000\n",
      "15/15 [==============================] - 1s 91ms/step - loss: 1.2593 - val_loss: 1.0055\n",
      "Epoch 114/1000\n",
      "15/15 [==============================] - 1s 91ms/step - loss: 1.2545 - val_loss: 1.0055\n",
      "Epoch 115/1000\n",
      "15/15 [==============================] - ETA: 0s - loss: 1.3279\n",
      "Epoch 00115: ReduceLROnPlateau reducing learning rate to 9.999998977483753e-16.\n",
      "Restoring model weights from the end of the best epoch.\n",
      "15/15 [==============================] - 1s 98ms/step - loss: 1.3279 - val_loss: 1.0055\n",
      "Epoch 00115: early stopping\n"
     ]
    }
   ],
   "source": [
    "# History object for plotting our model loss by epoch\n",
    "history2 = model2.fit(x_train12, y_train12, batch_size = BATCH2, \n",
    "                    epochs = EPOCHS2, validation_data = (x_val12, y_val12),\n",
    "                    callbacks = [rlrop2, early_stop2])"
   ]
  },
  {
   "cell_type": "code",
   "execution_count": 66,
   "metadata": {},
   "outputs": [
    {
     "data": {
      "image/png": "[encoded data removed]",
      "text/plain": [
       "<Figure size 720x504 with 1 Axes>"
      ]
     },
     "metadata": {
      "needs_background": "light"
     },
     "output_type": "display_data"
    }
   ],
   "source": [
    "# Loss History\n",
    "fig = plt.figure(figsize=(10, 7))\n",
    "plt.plot(history2.history['loss'])\n",
    "plt.plot(history2.history['val_loss'])\n",
    "plt.title('Model Loss')\n",
    "plt.ylabel('Loss')\n",
    "plt.xlabel('Epoch')\n",
    "plt.legend(['Train', 'Val'], loc='upper right')\n",
    "plt.show()"
   ]
  },
  {
   "cell_type": "markdown",
   "metadata": {},
   "source": [
    "### Previsão Multistep 12 meses em Validação\n",
    "Para ficar adequado à realidade, não podemos usar os dados de 2022 para prever 2022. Portanto, a previsão de 2022 será feita do moto *multistep*, isto é, o mês de janeiro/2022 será previsto usando-se os dados de arrecadação de janeiro a dezembro de 2021; o mês de fevereiro/2022 será previsto usando-se os dados de fevereiro a dezembro de 2021 mais a previsão feita para o mês de janeiro/2022; o mês de março/2022 será previsto usando-se os dados de março a dezembro de 2021 mais os meses de janeiro e fevereiro de 2022 previstos nos passos anteriores. E assim por diante, até que a previsão de dezembro/2022 será feita usando-se os dados de dezembro de 2021 mais as previsões de janeiro a novembro de 2022 feitas nos passos anteriores."
   ]
  },
  {
   "cell_type": "markdown",
   "metadata": {},
   "source": [
    "#### Remove os 12 últimos valores que serão previstos e cria as séries novamente"
   ]
  },
  {
   "cell_type": "code",
   "execution_count": 67,
   "metadata": {},
   "outputs": [
    {
     "name": "stdout",
     "output_type": "stream",
     "text": [
      "(168,)\n",
      "(144,)\n"
     ]
    },
    {
     "data": {
      "text/plain": [
       "pandas.core.series.Series"
      ]
     },
     "execution_count": 67,
     "metadata": {},
     "output_type": "execute_result"
    }
   ],
   "source": [
    "# remove\n",
    "serie_multi12 = l_icms_ts[:-24]\n",
    "print(l_icms_ts.shape)\n",
    "print(serie_multi12.shape)\n",
    "type(serie_multi12)"
   ]
  },
  {
   "cell_type": "code",
   "execution_count": 68,
   "metadata": {},
   "outputs": [
    {
     "name": "stdout",
     "output_type": "stream",
     "text": [
      "0 [[1.0100209e+10]]\n",
      "1 [[1.0107512e+10]]\n",
      "2 [[1.0082597e+10]]\n",
      "3 [[1.0073273e+10]]\n",
      "4 [[1.0064785e+10]]\n",
      "5 [[1.0058146e+10]]\n",
      "6 [[1.0057915e+10]]\n",
      "7 [[1.0059622e+10]]\n",
      "8 [[1.0057225e+10]]\n",
      "9 [[1.0066379e+10]]\n",
      "10 [[1.0083866e+10]]\n",
      "11 [[1.0104756e+10]]\n"
     ]
    }
   ],
   "source": [
    "for i in range(12):\n",
    "    # cria as séries\n",
    "    X_multi12, Y_multi12 = cria_features_target(serie_multi12, verbose=0)\n",
    "\n",
    "    # Faz a normalização usando o modelo fitado na normalização anterior\n",
    "    X_multi_std12 = enc_x.transform(X_multi12)\n",
    "    X_multi_std12 = X_multi_std12.reshape(X_multi_std12.shape[0],10,1)\n",
    "\n",
    "    # Faz o janelamento das séries\n",
    "    x_multi12, y_multi12 = janelamento_12_meses(X_multi_std12, Y_multi12, verbose=0)\n",
    "\n",
    "    # Faz a predição da arrecadação do mês\n",
    "    #y_pred_multi = np.mean(model.predict(x_multi[-1:]), axis=1)#[:,0].ravel()\n",
    "    y_pred_multi12 = model2.predict(x_multi12[-1:])#[:,0].ravel()\n",
    "    print(i, np.exp(y_pred_multi12))\n",
    "\n",
    "    #### Adicionar o valor previsto à série e fazer o novo janelamento\n",
    "    serie_multi12 = pd.Series(np.append(serie_multi12, y_pred_multi12))\n",
    "    type(serie_multi12)"
   ]
  },
  {
   "cell_type": "code",
   "execution_count": 69,
   "metadata": {},
   "outputs": [],
   "source": [
    "Y_pred_multi12 = np.exp(pd.Series(serie_multi12[-12:])) # tira o log das previsões\n",
    "Y_pred_multi12.index = icms_val.index"
   ]
  },
  {
   "cell_type": "code",
   "execution_count": 70,
   "metadata": {},
   "outputs": [
    {
     "data": {
      "text/plain": [
       "date\n",
       "2015-01-01    1.010021e+10\n",
       "2015-02-01    1.010751e+10\n",
       "2015-03-01    1.008260e+10\n",
       "2015-04-01    1.007327e+10\n",
       "2015-05-01    1.006479e+10\n",
       "2015-06-01    1.005815e+10\n",
       "2015-07-01    1.005792e+10\n",
       "2015-08-01    1.005962e+10\n",
       "2015-09-01    1.005722e+10\n",
       "2015-10-01    1.006638e+10\n",
       "2015-11-01    1.008387e+10\n",
       "2015-12-01    1.010476e+10\n",
       "dtype: float64"
      ]
     },
     "execution_count": 70,
     "metadata": {},
     "output_type": "execute_result"
    }
   ],
   "source": [
    "Y_pred_multi12"
   ]
  },
  {
   "cell_type": "code",
   "execution_count": 71,
   "metadata": {},
   "outputs": [
    {
     "data": {
      "text/plain": [
       "401417206.8749162"
      ]
     },
     "execution_count": 71,
     "metadata": {},
     "output_type": "execute_result"
    }
   ],
   "source": [
    "RMSE_lstm_multi12 = mean_squared_error(icms_val, Y_pred_multi12, squared=False)\n",
    "RMSE_lstm_multi12"
   ]
  },
  {
   "cell_type": "code",
   "execution_count": 72,
   "metadata": {},
   "outputs": [
    {
     "data": {
      "text/plain": [
       "0.03189767192910241"
      ]
     },
     "execution_count": 72,
     "metadata": {},
     "output_type": "execute_result"
    }
   ],
   "source": [
    "MAPE_lstm_multi12 = mean_absolute_percentage_error(icms_val, Y_pred_multi12)\n",
    "MAPE_lstm_multi12"
   ]
  },
  {
   "cell_type": "code",
   "execution_count": 73,
   "metadata": {},
   "outputs": [],
   "source": [
    "previsoes['nome'].append('RNN-LSTM-12-meses-larga')\n",
    "previsoes['modelo'].append(model2)\n",
    "previsoes['previsoes'].append(Y_pred_multi12)\n",
    "\n",
    "previsoes['rmse'].append(RMSE_lstm_multi12)\n",
    "\n",
    "previsoes['mape'].append(MAPE_lstm_multi12)"
   ]
  },
  {
   "cell_type": "code",
   "execution_count": 74,
   "metadata": {},
   "outputs": [],
   "source": [
    "previsoes['erro relativo'].append([erro_relativo(prev,real) \n",
    "                                   for prev,real in zip(Y_pred_multi12\n",
    "                                                        , icms_val)])"
   ]
  },
  {
   "cell_type": "markdown",
   "metadata": {},
   "source": [
    "## Arquitetura da Rede - Arquitetura Multicamada"
   ]
  },
  {
   "cell_type": "code",
   "execution_count": 75,
   "metadata": {},
   "outputs": [],
   "source": [
    "rlrop4 = ReduceLROnPlateau(monitor='val_loss', factor=0.1, patience=25, verbose=1)\n",
    "early_stop4 = EarlyStopping(monitor='val_loss', patience=100, verbose=1, \n",
    "                           restore_best_weights=True)"
   ]
  },
  {
   "cell_type": "code",
   "execution_count": 76,
   "metadata": {},
   "outputs": [],
   "source": [
    "# Épocas e tamanho do lote\n",
    "EPOCHS4 = 1000\n",
    "BATCH4 = 8\n",
    "NEURONIOS4 = 600\n",
    "LR4 = 1e-5\n",
    "DROPOUT4 = 0.25\n",
    "\n",
    "# Imstanciação do modelo\n",
    "model4 = Sequential()\n",
    "\n",
    "# Adicionar camada LSTM \n",
    "model4.add(LSTM(activation='tanh', dropout=DROPOUT4,\n",
    "        input_shape = (12, 10), return_sequences = True,\n",
    "        units = NEURONIOS4))\n",
    "\n",
    "# Adicionar camada LSTM \n",
    "model4.add(LSTM(activation='tanh', dropout=DROPOUT4,\n",
    "        input_shape = (12, 10), return_sequences = True,\n",
    "        units = NEURONIOS4))\n",
    "\n",
    "## Adicionar camada LSTM \n",
    "model4.add(LSTM(activation='tanh', dropout=DROPOUT4,\n",
    "        input_shape = (12, 10), return_sequences = False,\n",
    "        units = NEURONIOS4))\n",
    "\n",
    "\n",
    "# Adicionar a camada de saída com 1 neurônio linear\n",
    "model4.add(Dense(\n",
    "        units = 1,\n",
    "        activation = 'linear'))\n",
    "# a learning rate padrão do Adam é 0.001\n",
    "model4.compile(loss = 'mape', optimizer = Adam(learning_rate=LR4))"
   ]
  },
  {
   "cell_type": "code",
   "execution_count": 77,
   "metadata": {},
   "outputs": [
    {
     "name": "stdout",
     "output_type": "stream",
     "text": [
      "Model: \"sequential_3\"\n",
      "_________________________________________________________________\n",
      "Layer (type)                 Output Shape              Param #   \n",
      "=================================================================\n",
      "lstm_5 (LSTM)                (None, 12, 600)           1466400   \n",
      "_________________________________________________________________\n",
      "lstm_6 (LSTM)                (None, 12, 600)           2882400   \n",
      "_________________________________________________________________\n",
      "lstm_7 (LSTM)                (None, 600)               2882400   \n",
      "_________________________________________________________________\n",
      "dense_3 (Dense)              (None, 1)                 601       \n",
      "=================================================================\n",
      "Total params: 7,231,801\n",
      "Trainable params: 7,231,801\n",
      "Non-trainable params: 0\n",
      "_________________________________________________________________\n"
     ]
    }
   ],
   "source": [
    "model4.summary()"
   ]
  },
  {
   "cell_type": "code",
   "execution_count": 78,
   "metadata": {
    "scrolled": true
   },
   "outputs": [
    {
     "name": "stdout",
     "output_type": "stream",
     "text": [
      "Epoch 1/1000\n",
      "15/15 [==============================] - 3s 211ms/step - loss: 99.5895 - val_loss: 98.6212\n",
      "Epoch 2/1000\n",
      "15/15 [==============================] - 2s 125ms/step - loss: 98.7997 - val_loss: 97.0464\n",
      "Epoch 3/1000\n",
      "15/15 [==============================] - 2s 137ms/step - loss: 97.7059 - val_loss: 94.6939\n",
      "Epoch 4/1000\n",
      "15/15 [==============================] - 2s 135ms/step - loss: 95.9304 - val_loss: 90.4204\n",
      "Epoch 5/1000\n",
      "15/15 [==============================] - 2s 128ms/step - loss: 92.6253 - val_loss: 81.6397\n",
      "Epoch 6/1000\n",
      "15/15 [==============================] - 2s 127ms/step - loss: 85.6474 - val_loss: 63.4768\n",
      "Epoch 7/1000\n",
      "15/15 [==============================] - 2s 127ms/step - loss: 70.9516 - val_loss: 35.6352\n",
      "Epoch 8/1000\n",
      "15/15 [==============================] - 2s 125ms/step - loss: 48.3902 - val_loss: 12.9167\n",
      "Epoch 9/1000\n",
      "15/15 [==============================] - 2s 133ms/step - loss: 25.7705 - val_loss: 0.8392\n",
      "Epoch 10/1000\n",
      "15/15 [==============================] - 2s 124ms/step - loss: 11.8813 - val_loss: 4.9898\n",
      "Epoch 11/1000\n",
      "15/15 [==============================] - 2s 123ms/step - loss: 8.2378 - val_loss: 2.4546\n",
      "Epoch 12/1000\n",
      "15/15 [==============================] - 2s 125ms/step - loss: 5.5781 - val_loss: 0.1190\n",
      "Epoch 13/1000\n",
      "15/15 [==============================] - 2s 119ms/step - loss: 4.0709 - val_loss: 0.4264\n",
      "Epoch 14/1000\n",
      "15/15 [==============================] - 2s 122ms/step - loss: 3.1433 - val_loss: 0.1532\n",
      "Epoch 15/1000\n",
      "15/15 [==============================] - 2s 116ms/step - loss: 2.4285 - val_loss: 0.2953\n",
      "Epoch 16/1000\n",
      "15/15 [==============================] - 2s 130ms/step - loss: 2.0239 - val_loss: 0.2629\n",
      "Epoch 17/1000\n",
      "15/15 [==============================] - 2s 126ms/step - loss: 1.7340 - val_loss: 0.1232\n",
      "Epoch 18/1000\n",
      "15/15 [==============================] - 2s 131ms/step - loss: 1.5616 - val_loss: 0.1582\n",
      "Epoch 19/1000\n",
      "15/15 [==============================] - 2s 128ms/step - loss: 1.2840 - val_loss: 0.2263\n",
      "Epoch 20/1000\n",
      "15/15 [==============================] - 2s 128ms/step - loss: 1.2239 - val_loss: 0.3966\n",
      "Epoch 21/1000\n",
      "15/15 [==============================] - 2s 126ms/step - loss: 1.3079 - val_loss: 0.1682\n",
      "Epoch 22/1000\n",
      "15/15 [==============================] - 2s 127ms/step - loss: 1.2653 - val_loss: 0.2901\n",
      "Epoch 23/1000\n",
      "15/15 [==============================] - 2s 124ms/step - loss: 1.1326 - val_loss: 0.3854\n",
      "Epoch 24/1000\n",
      "15/15 [==============================] - 2s 129ms/step - loss: 1.1886 - val_loss: 0.1863\n",
      "Epoch 25/1000\n",
      "15/15 [==============================] - 2s 124ms/step - loss: 0.9290 - val_loss: 0.7845\n",
      "Epoch 26/1000\n",
      "15/15 [==============================] - 2s 137ms/step - loss: 0.9715 - val_loss: 0.1864\n",
      "Epoch 27/1000\n",
      "15/15 [==============================] - 2s 157ms/step - loss: 0.9531 - val_loss: 0.3500\n",
      "Epoch 28/1000\n",
      "15/15 [==============================] - 2s 147ms/step - loss: 0.9925 - val_loss: 0.5167\n",
      "Epoch 29/1000\n",
      "15/15 [==============================] - 2s 129ms/step - loss: 0.9717 - val_loss: 0.5604\n",
      "Epoch 30/1000\n",
      "15/15 [==============================] - 2s 128ms/step - loss: 0.9043 - val_loss: 0.4218\n",
      "Epoch 31/1000\n",
      "15/15 [==============================] - 2s 126ms/step - loss: 0.9260 - val_loss: 0.4953\n",
      "Epoch 32/1000\n",
      "15/15 [==============================] - 2s 132ms/step - loss: 0.9369 - val_loss: 0.5354\n",
      "Epoch 33/1000\n",
      "15/15 [==============================] - 2s 132ms/step - loss: 0.9211 - val_loss: 0.3301\n",
      "Epoch 34/1000\n",
      "15/15 [==============================] - 2s 136ms/step - loss: 0.8799 - val_loss: 0.4124\n",
      "Epoch 35/1000\n",
      "15/15 [==============================] - 2s 129ms/step - loss: 0.8715 - val_loss: 0.3968\n",
      "Epoch 36/1000\n",
      "15/15 [==============================] - 2s 138ms/step - loss: 0.7974 - val_loss: 0.2635\n",
      "Epoch 37/1000\n",
      "15/15 [==============================] - ETA: 0s - loss: 0.8728\n",
      "Epoch 00037: ReduceLROnPlateau reducing learning rate to 9.999999747378752e-07.\n",
      "15/15 [==============================] - 2s 133ms/step - loss: 0.8728 - val_loss: 0.8063\n",
      "Epoch 38/1000\n",
      "15/15 [==============================] - 2s 134ms/step - loss: 0.8665 - val_loss: 0.6689\n",
      "Epoch 39/1000\n",
      "15/15 [==============================] - 2s 139ms/step - loss: 0.7985 - val_loss: 0.5380\n",
      "Epoch 40/1000\n",
      "15/15 [==============================] - 2s 138ms/step - loss: 0.7644 - val_loss: 0.4809\n",
      "Epoch 41/1000\n",
      "15/15 [==============================] - 2s 129ms/step - loss: 0.8311 - val_loss: 0.4295\n",
      "Epoch 42/1000\n",
      "15/15 [==============================] - 2s 133ms/step - loss: 0.7295 - val_loss: 0.4744\n",
      "Epoch 43/1000\n",
      "15/15 [==============================] - 2s 132ms/step - loss: 0.7869 - val_loss: 0.4677\n",
      "Epoch 44/1000\n",
      "15/15 [==============================] - 2s 132ms/step - loss: 0.8684 - val_loss: 0.4349\n",
      "Epoch 45/1000\n",
      "15/15 [==============================] - 2s 133ms/step - loss: 0.7667 - val_loss: 0.3967\n",
      "Epoch 46/1000\n",
      "15/15 [==============================] - 2s 127ms/step - loss: 0.7898 - val_loss: 0.4712\n",
      "Epoch 47/1000\n",
      "15/15 [==============================] - 2s 131ms/step - loss: 0.7654 - val_loss: 0.4934\n",
      "Epoch 48/1000\n",
      "15/15 [==============================] - 2s 130ms/step - loss: 0.7631 - val_loss: 0.4876\n",
      "Epoch 49/1000\n",
      "15/15 [==============================] - 2s 126ms/step - loss: 0.8064 - val_loss: 0.5204\n",
      "Epoch 50/1000\n",
      "15/15 [==============================] - 2s 131ms/step - loss: 0.7655 - val_loss: 0.4988\n",
      "Epoch 51/1000\n",
      "15/15 [==============================] - 2s 133ms/step - loss: 0.7576 - val_loss: 0.4990\n",
      "Epoch 52/1000\n",
      "15/15 [==============================] - 2s 131ms/step - loss: 0.8479 - val_loss: 0.4931\n",
      "Epoch 53/1000\n",
      "15/15 [==============================] - 2s 138ms/step - loss: 0.7924 - val_loss: 0.4920\n",
      "Epoch 54/1000\n",
      "15/15 [==============================] - 2s 145ms/step - loss: 0.7748 - val_loss: 0.5000\n",
      "Epoch 55/1000\n",
      "15/15 [==============================] - 2s 132ms/step - loss: 0.8376 - val_loss: 0.4367\n",
      "Epoch 56/1000\n",
      "15/15 [==============================] - 2s 137ms/step - loss: 0.7219 - val_loss: 0.4504\n",
      "Epoch 57/1000\n",
      "15/15 [==============================] - 2s 130ms/step - loss: 0.7981 - val_loss: 0.4442\n",
      "Epoch 58/1000\n",
      "15/15 [==============================] - 2s 141ms/step - loss: 0.7773 - val_loss: 0.4332\n",
      "Epoch 59/1000\n",
      "15/15 [==============================] - 2s 126ms/step - loss: 0.7714 - val_loss: 0.3895\n",
      "Epoch 60/1000\n",
      "15/15 [==============================] - 2s 133ms/step - loss: 0.7691 - val_loss: 0.4377\n",
      "Epoch 61/1000\n",
      "15/15 [==============================] - 2s 124ms/step - loss: 0.7855 - val_loss: 0.5415\n",
      "Epoch 62/1000\n",
      "15/15 [==============================] - ETA: 0s - loss: 0.7734\n",
      "Epoch 00062: ReduceLROnPlateau reducing learning rate to 9.999999974752428e-08.\n",
      "15/15 [==============================] - 2s 133ms/step - loss: 0.7734 - val_loss: 0.5303\n",
      "Epoch 63/1000\n",
      "15/15 [==============================] - 2s 129ms/step - loss: 0.7804 - val_loss: 0.5280\n",
      "Epoch 64/1000\n",
      "15/15 [==============================] - 2s 126ms/step - loss: 0.8312 - val_loss: 0.5180\n",
      "Epoch 65/1000\n",
      "15/15 [==============================] - 2s 130ms/step - loss: 0.7681 - val_loss: 0.5122\n",
      "Epoch 66/1000\n",
      "15/15 [==============================] - 2s 125ms/step - loss: 0.7653 - val_loss: 0.5051\n",
      "Epoch 67/1000\n",
      "15/15 [==============================] - 2s 128ms/step - loss: 0.8541 - val_loss: 0.4933\n",
      "Epoch 68/1000\n",
      "15/15 [==============================] - 2s 130ms/step - loss: 0.7815 - val_loss: 0.4878\n",
      "Epoch 69/1000\n",
      "15/15 [==============================] - 2s 125ms/step - loss: 0.7708 - val_loss: 0.4820\n",
      "Epoch 70/1000\n",
      "15/15 [==============================] - 2s 133ms/step - loss: 0.7619 - val_loss: 0.4825\n",
      "Epoch 71/1000\n",
      "15/15 [==============================] - 2s 127ms/step - loss: 0.7022 - val_loss: 0.4815\n",
      "Epoch 72/1000\n",
      "15/15 [==============================] - 2s 126ms/step - loss: 0.7627 - val_loss: 0.4782\n",
      "Epoch 73/1000\n",
      "15/15 [==============================] - 2s 129ms/step - loss: 0.7748 - val_loss: 0.4750\n",
      "Epoch 74/1000\n",
      "15/15 [==============================] - 2s 122ms/step - loss: 0.7339 - val_loss: 0.4751\n",
      "Epoch 75/1000\n",
      "15/15 [==============================] - 2s 128ms/step - loss: 0.7779 - val_loss: 0.4720\n",
      "Epoch 76/1000\n",
      "15/15 [==============================] - 2s 129ms/step - loss: 0.7937 - val_loss: 0.4720\n",
      "Epoch 77/1000\n",
      "15/15 [==============================] - 2s 133ms/step - loss: 0.7296 - val_loss: 0.4669\n",
      "Epoch 78/1000\n",
      "15/15 [==============================] - 2s 127ms/step - loss: 0.7577 - val_loss: 0.4632\n",
      "Epoch 79/1000\n",
      "15/15 [==============================] - 2s 124ms/step - loss: 0.7480 - val_loss: 0.4620\n",
      "Epoch 80/1000\n",
      "15/15 [==============================] - 2s 126ms/step - loss: 0.7126 - val_loss: 0.4539\n",
      "Epoch 81/1000\n",
      "15/15 [==============================] - 2s 128ms/step - loss: 0.7800 - val_loss: 0.4478\n",
      "Epoch 82/1000\n",
      "15/15 [==============================] - 2s 128ms/step - loss: 0.7344 - val_loss: 0.4501\n",
      "Epoch 83/1000\n",
      "15/15 [==============================] - 2s 126ms/step - loss: 0.7584 - val_loss: 0.4526\n",
      "Epoch 84/1000\n",
      "15/15 [==============================] - 2s 126ms/step - loss: 0.7013 - val_loss: 0.4517\n",
      "Epoch 85/1000\n",
      "15/15 [==============================] - 2s 127ms/step - loss: 0.7852 - val_loss: 0.4447\n",
      "Epoch 86/1000\n",
      "15/15 [==============================] - 2s 130ms/step - loss: 0.7697 - val_loss: 0.4431\n",
      "Epoch 87/1000\n",
      "15/15 [==============================] - ETA: 0s - loss: 0.7386\n",
      "Epoch 00087: ReduceLROnPlateau reducing learning rate to 1.0000000116860975e-08.\n",
      "15/15 [==============================] - 2s 132ms/step - loss: 0.7386 - val_loss: 0.4407\n",
      "Epoch 88/1000\n",
      "15/15 [==============================] - 2s 134ms/step - loss: 0.7771 - val_loss: 0.4411\n",
      "Epoch 89/1000\n",
      "15/15 [==============================] - 2s 136ms/step - loss: 0.7014 - val_loss: 0.4407\n",
      "Epoch 90/1000\n",
      "15/15 [==============================] - 2s 132ms/step - loss: 0.7364 - val_loss: 0.4407\n",
      "Epoch 91/1000\n",
      "15/15 [==============================] - 2s 145ms/step - loss: 0.7685 - val_loss: 0.4408\n",
      "Epoch 92/1000\n",
      "15/15 [==============================] - 2s 132ms/step - loss: 0.6823 - val_loss: 0.4407\n",
      "Epoch 93/1000\n",
      "15/15 [==============================] - 2s 131ms/step - loss: 0.7730 - val_loss: 0.4405\n",
      "Epoch 94/1000\n",
      "15/15 [==============================] - 2s 128ms/step - loss: 0.7322 - val_loss: 0.4407\n",
      "Epoch 95/1000\n",
      "15/15 [==============================] - 2s 124ms/step - loss: 0.7166 - val_loss: 0.4407\n",
      "Epoch 96/1000\n",
      "15/15 [==============================] - 2s 129ms/step - loss: 0.7480 - val_loss: 0.4412\n",
      "Epoch 97/1000\n",
      "15/15 [==============================] - 2s 115ms/step - loss: 0.7314 - val_loss: 0.4414\n",
      "Epoch 98/1000\n",
      "15/15 [==============================] - 2s 123ms/step - loss: 0.7710 - val_loss: 0.4405\n",
      "Epoch 99/1000\n",
      "15/15 [==============================] - 2s 122ms/step - loss: 0.6948 - val_loss: 0.4406\n",
      "Epoch 100/1000\n",
      "15/15 [==============================] - 2s 120ms/step - loss: 0.7328 - val_loss: 0.4411\n",
      "Epoch 101/1000\n",
      "15/15 [==============================] - 2s 124ms/step - loss: 0.7809 - val_loss: 0.4410\n",
      "Epoch 102/1000\n",
      "15/15 [==============================] - 2s 128ms/step - loss: 0.7769 - val_loss: 0.4403\n",
      "Epoch 103/1000\n",
      "15/15 [==============================] - 2s 129ms/step - loss: 0.8542 - val_loss: 0.4397\n",
      "Epoch 104/1000\n",
      "15/15 [==============================] - 2s 118ms/step - loss: 0.8275 - val_loss: 0.4395\n",
      "Epoch 105/1000\n",
      "15/15 [==============================] - 2s 115ms/step - loss: 0.7571 - val_loss: 0.4395\n",
      "Epoch 106/1000\n",
      "15/15 [==============================] - 2s 120ms/step - loss: 0.7592 - val_loss: 0.4401\n",
      "Epoch 107/1000\n",
      "15/15 [==============================] - 2s 121ms/step - loss: 0.7676 - val_loss: 0.4397\n",
      "Epoch 108/1000\n",
      "15/15 [==============================] - 2s 124ms/step - loss: 0.8129 - val_loss: 0.4397\n",
      "Epoch 109/1000\n",
      "15/15 [==============================] - 2s 132ms/step - loss: 0.6728 - val_loss: 0.4392\n",
      "Epoch 110/1000\n",
      "15/15 [==============================] - 2s 124ms/step - loss: 0.8309 - val_loss: 0.4390\n",
      "Epoch 111/1000\n",
      "15/15 [==============================] - 2s 117ms/step - loss: 0.7687 - val_loss: 0.4390\n",
      "Epoch 112/1000\n",
      "15/15 [==============================] - ETA: 0s - loss: 0.7596\n",
      "Epoch 00112: ReduceLROnPlateau reducing learning rate to 9.999999939225292e-10.\n",
      "Restoring model weights from the end of the best epoch.\n",
      "15/15 [==============================] - 2s 115ms/step - loss: 0.7596 - val_loss: 0.4388\n",
      "Epoch 00112: early stopping\n"
     ]
    }
   ],
   "source": [
    "# History object for plotting our model loss by epoch\n",
    "history4 = model4.fit(x_train12, y_train12, batch_size = BATCH4, \n",
    "                    epochs = EPOCHS4, validation_data = (x_val12, y_val12),\n",
    "                    callbacks = [rlrop4, early_stop4])"
   ]
  },
  {
   "cell_type": "code",
   "execution_count": 79,
   "metadata": {},
   "outputs": [
    {
     "data": {
      "image/png": "[encoded data removed]",
      "text/plain": [
       "<Figure size 720x504 with 1 Axes>"
      ]
     },
     "metadata": {
      "needs_background": "light"
     },
     "output_type": "display_data"
    }
   ],
   "source": [
    "# Loss History\n",
    "fig = plt.figure(figsize=(10, 7))\n",
    "plt.plot(history4.history['loss'])\n",
    "plt.plot(history4.history['val_loss'])\n",
    "plt.title('Model Loss')\n",
    "plt.ylabel('Loss')\n",
    "plt.xlabel('Epoch')\n",
    "plt.legend(['Train', 'Val'], loc='upper right')\n",
    "plt.show()"
   ]
  },
  {
   "cell_type": "markdown",
   "metadata": {},
   "source": [
    "### Previsão Multistep 12 meses em Validação\n",
    "Para ficar adequado à realidade, não podemos usar os dados de 2022 para prever 2022. Portanto, a previsão de 2022 será feita do moto *multistep*, isto é, o mês de janeiro/2022 será previsto usando-se os dados de arrecadação de janeiro a dezembro de 2021; o mês de fevereiro/2022 será previsto usando-se os dados de fevereiro a dezembro de 2021 mais a previsão feita para o mês de janeiro/2022; o mês de março/2022 será previsto usando-se os dados de março a dezembro de 2021 mais os meses de janeiro e fevereiro de 2022 previstos nos passos anteriores. E assim por diante, até que a previsão de dezembro/2022 será feita usando-se os dados de dezembro de 2021 mais as previsões de janeiro a novembro de 2022 feitas nos passos anteriores."
   ]
  },
  {
   "cell_type": "markdown",
   "metadata": {},
   "source": [
    "#### Remove os 12 últimos valores que serão previstos e cria as séries novamente"
   ]
  },
  {
   "cell_type": "code",
   "execution_count": 80,
   "metadata": {},
   "outputs": [
    {
     "name": "stdout",
     "output_type": "stream",
     "text": [
      "(168,)\n",
      "(144,)\n"
     ]
    },
    {
     "data": {
      "text/plain": [
       "pandas.core.series.Series"
      ]
     },
     "execution_count": 80,
     "metadata": {},
     "output_type": "execute_result"
    }
   ],
   "source": [
    "# remove\n",
    "serie_multi122 = l_icms_ts[:-24]\n",
    "print(l_icms_ts.shape)\n",
    "print(serie_multi122.shape)\n",
    "type(serie_multi122)"
   ]
  },
  {
   "cell_type": "code",
   "execution_count": 81,
   "metadata": {},
   "outputs": [
    {
     "name": "stdout",
     "output_type": "stream",
     "text": [
      "0 [[1.0253121e+10]]\n",
      "1 [[1.0249405e+10]]\n",
      "2 [[1.0242703e+10]]\n",
      "3 [[1.0240867e+10]]\n",
      "4 [[1.024282e+10]]\n",
      "5 [[1.0244872e+10]]\n",
      "6 [[1.0253943e+10]]\n",
      "7 [[1.0261025e+10]]\n",
      "8 [[1.0274106e+10]]\n",
      "9 [[1.0293349e+10]]\n",
      "10 [[1.0316366e+10]]\n",
      "11 [[1.0335508e+10]]\n"
     ]
    }
   ],
   "source": [
    "for i in range(12):\n",
    "    # cria as séries\n",
    "    X_multi122, Y_multi122 = cria_features_target(serie_multi122, verbose=0)\n",
    "\n",
    "    # Faz a normalização usando o modelo fitado na normalização anterior\n",
    "    X_multi_std122 = enc_x.transform(X_multi122)\n",
    "    X_multi_std122 = X_multi_std122.reshape(X_multi_std122.shape[0],10,1)\n",
    "\n",
    "    # Faz o janelamento das séries\n",
    "    x_multi122, y_multi122 = janelamento_12_meses(X_multi_std122, Y_multi122, verbose=0)\n",
    "\n",
    "    # Faz a predição da arrecadação do mês\n",
    "    #y_pred_multi = np.mean(model.predict(x_multi[-1:]), axis=1)#[:,0].ravel()\n",
    "    y_pred_multi122 = model4.predict(x_multi122[-1:])#[:,0].ravel()\n",
    "    print(i, np.exp(y_pred_multi122))\n",
    "\n",
    "    #### Adicionar o valor previsto à série e fazer o novo janelamento\n",
    "    serie_multi122 = pd.Series(np.append(serie_multi122, y_pred_multi122))\n",
    "    type(serie_multi122)"
   ]
  },
  {
   "cell_type": "code",
   "execution_count": 82,
   "metadata": {},
   "outputs": [],
   "source": [
    "Y_pred_multi122 = np.exp(pd.Series(serie_multi122[-12:])) # tira o log das previsões\n",
    "Y_pred_multi122.index = icms_val.index"
   ]
  },
  {
   "cell_type": "code",
   "execution_count": 83,
   "metadata": {},
   "outputs": [
    {
     "data": {
      "text/plain": [
       "date\n",
       "2015-01-01    1.025312e+10\n",
       "2015-02-01    1.024941e+10\n",
       "2015-03-01    1.024270e+10\n",
       "2015-04-01    1.024087e+10\n",
       "2015-05-01    1.024282e+10\n",
       "2015-06-01    1.024487e+10\n",
       "2015-07-01    1.025394e+10\n",
       "2015-08-01    1.026103e+10\n",
       "2015-09-01    1.027411e+10\n",
       "2015-10-01    1.029335e+10\n",
       "2015-11-01    1.031636e+10\n",
       "2015-12-01    1.033551e+10\n",
       "dtype: float64"
      ]
     },
     "execution_count": 83,
     "metadata": {},
     "output_type": "execute_result"
    }
   ],
   "source": [
    "Y_pred_multi122"
   ]
  },
  {
   "cell_type": "code",
   "execution_count": 84,
   "metadata": {},
   "outputs": [
    {
     "data": {
      "text/plain": [
       "348724201.5580649"
      ]
     },
     "execution_count": 84,
     "metadata": {},
     "output_type": "execute_result"
    }
   ],
   "source": [
    "RMSE_lstm_multi122 = mean_squared_error(icms_val, Y_pred_multi122, squared=False)\n",
    "RMSE_lstm_multi122"
   ]
  },
  {
   "cell_type": "code",
   "execution_count": 85,
   "metadata": {
    "scrolled": true
   },
   "outputs": [
    {
     "data": {
      "text/plain": [
       "0.02770524004590166"
      ]
     },
     "execution_count": 85,
     "metadata": {},
     "output_type": "execute_result"
    }
   ],
   "source": [
    "MAPE_lstm_multi122 = mean_absolute_percentage_error(icms_val, Y_pred_multi122)\n",
    "MAPE_lstm_multi122"
   ]
  },
  {
   "cell_type": "code",
   "execution_count": 86,
   "metadata": {},
   "outputs": [],
   "source": [
    "previsoes['nome'].append('RNN-LSTM-12-meses-camadas')\n",
    "previsoes['modelo'].append(model4)\n",
    "previsoes['previsoes'].append(Y_pred_multi122)\n",
    "\n",
    "previsoes['rmse'].append(RMSE_lstm_multi122)\n",
    "\n",
    "previsoes['mape'].append(MAPE_lstm_multi122)"
   ]
  },
  {
   "cell_type": "code",
   "execution_count": 87,
   "metadata": {},
   "outputs": [],
   "source": [
    "previsoes['erro relativo'].append([erro_relativo(prev,real) \n",
    "                                   for prev,real in zip(Y_pred_multi122\n",
    "                                                        , icms_val)])"
   ]
  },
  {
   "cell_type": "markdown",
   "metadata": {},
   "source": [
    "## Resultados"
   ]
  },
  {
   "cell_type": "code",
   "execution_count": 88,
   "metadata": {},
   "outputs": [
    {
     "data": {
      "text/plain": [
       "['RNN-LSTM-1-mês-larga',\n",
       " 'RNN-LSTM-1-mês-camadas',\n",
       " 'RNN-LSTM-12-meses-larga',\n",
       " 'RNN-LSTM-12-meses-camadas']"
      ]
     },
     "execution_count": 88,
     "metadata": {},
     "output_type": "execute_result"
    }
   ],
   "source": [
    "previsoes['nome']"
   ]
  },
  {
   "cell_type": "code",
   "execution_count": 89,
   "metadata": {},
   "outputs": [],
   "source": [
    "df_prev = pd.DataFrame(data=previsoes['previsoes'], \n",
    "                       index=previsoes['nome']).transpose()\n",
    "df_prev[\"real\"] = icms_val\n",
    "df_rmse = pd.DataFrame(data=previsoes['rmse'], \n",
    "                       index=previsoes['nome']).transpose()\n",
    "df_mape = pd.DataFrame(data=previsoes['mape'], \n",
    "                       index=previsoes['nome']).transpose()\n",
    "df_erro = pd.DataFrame(data=previsoes['erro relativo'], \n",
    "                       index=previsoes['nome']).transpose()"
   ]
  },
  {
   "cell_type": "code",
   "execution_count": 90,
   "metadata": {},
   "outputs": [
    {
     "data": {
      "text/html": [
       "<div>\n",
       "<style scoped>\n",
       "    .dataframe tbody tr th:only-of-type {\n",
       "        vertical-align: middle;\n",
       "    }\n",
       "\n",
       "    .dataframe tbody tr th {\n",
       "        vertical-align: top;\n",
       "    }\n",
       "\n",
       "    .dataframe thead th {\n",
       "        text-align: right;\n",
       "    }\n",
       "</style>\n",
       "<table border=\"1\" class=\"dataframe\">\n",
       "  <thead>\n",
       "    <tr style=\"text-align: right;\">\n",
       "      <th></th>\n",
       "      <th>RNN-LSTM-1-mês-larga</th>\n",
       "      <th>RNN-LSTM-1-mês-camadas</th>\n",
       "      <th>RNN-LSTM-12-meses-larga</th>\n",
       "      <th>RNN-LSTM-12-meses-camadas</th>\n",
       "      <th>real</th>\n",
       "    </tr>\n",
       "    <tr>\n",
       "      <th>date</th>\n",
       "      <th></th>\n",
       "      <th></th>\n",
       "      <th></th>\n",
       "      <th></th>\n",
       "      <th></th>\n",
       "    </tr>\n",
       "  </thead>\n",
       "  <tbody>\n",
       "    <tr>\n",
       "      <th>2015-01-01</th>\n",
       "      <td>9.062165e+09</td>\n",
       "      <td>1.025498e+10</td>\n",
       "      <td>1.010021e+10</td>\n",
       "      <td>1.025312e+10</td>\n",
       "      <td>9.987825e+09</td>\n",
       "    </tr>\n",
       "    <tr>\n",
       "      <th>2015-02-01</th>\n",
       "      <td>9.047261e+09</td>\n",
       "      <td>1.028483e+10</td>\n",
       "      <td>1.010751e+10</td>\n",
       "      <td>1.024941e+10</td>\n",
       "      <td>9.919477e+09</td>\n",
       "    </tr>\n",
       "    <tr>\n",
       "      <th>2015-03-01</th>\n",
       "      <td>9.090192e+09</td>\n",
       "      <td>1.036156e+10</td>\n",
       "      <td>1.008260e+10</td>\n",
       "      <td>1.024270e+10</td>\n",
       "      <td>9.871727e+09</td>\n",
       "    </tr>\n",
       "    <tr>\n",
       "      <th>2015-04-01</th>\n",
       "      <td>9.052214e+09</td>\n",
       "      <td>1.034409e+10</td>\n",
       "      <td>1.007327e+10</td>\n",
       "      <td>1.024087e+10</td>\n",
       "      <td>1.037640e+10</td>\n",
       "    </tr>\n",
       "    <tr>\n",
       "      <th>2015-05-01</th>\n",
       "      <td>9.020398e+09</td>\n",
       "      <td>1.032591e+10</td>\n",
       "      <td>1.006479e+10</td>\n",
       "      <td>1.024282e+10</td>\n",
       "      <td>9.740006e+09</td>\n",
       "    </tr>\n",
       "    <tr>\n",
       "      <th>2015-06-01</th>\n",
       "      <td>8.997561e+09</td>\n",
       "      <td>1.033868e+10</td>\n",
       "      <td>1.005815e+10</td>\n",
       "      <td>1.024487e+10</td>\n",
       "      <td>1.032307e+10</td>\n",
       "    </tr>\n",
       "    <tr>\n",
       "      <th>2015-07-01</th>\n",
       "      <td>8.991814e+09</td>\n",
       "      <td>1.031631e+10</td>\n",
       "      <td>1.005792e+10</td>\n",
       "      <td>1.025394e+10</td>\n",
       "      <td>1.029487e+10</td>\n",
       "    </tr>\n",
       "    <tr>\n",
       "      <th>2015-08-01</th>\n",
       "      <td>8.991368e+09</td>\n",
       "      <td>1.033056e+10</td>\n",
       "      <td>1.005962e+10</td>\n",
       "      <td>1.026103e+10</td>\n",
       "      <td>9.864942e+09</td>\n",
       "    </tr>\n",
       "    <tr>\n",
       "      <th>2015-09-01</th>\n",
       "      <td>8.995691e+09</td>\n",
       "      <td>1.031743e+10</td>\n",
       "      <td>1.005722e+10</td>\n",
       "      <td>1.027411e+10</td>\n",
       "      <td>1.051019e+10</td>\n",
       "    </tr>\n",
       "    <tr>\n",
       "      <th>2015-10-01</th>\n",
       "      <td>8.994902e+09</td>\n",
       "      <td>1.031507e+10</td>\n",
       "      <td>1.006638e+10</td>\n",
       "      <td>1.029335e+10</td>\n",
       "      <td>1.056639e+10</td>\n",
       "    </tr>\n",
       "    <tr>\n",
       "      <th>2015-11-01</th>\n",
       "      <td>8.992397e+09</td>\n",
       "      <td>1.031908e+10</td>\n",
       "      <td>1.008387e+10</td>\n",
       "      <td>1.031636e+10</td>\n",
       "      <td>1.029608e+10</td>\n",
       "    </tr>\n",
       "    <tr>\n",
       "      <th>2015-12-01</th>\n",
       "      <td>8.987802e+09</td>\n",
       "      <td>1.032591e+10</td>\n",
       "      <td>1.010476e+10</td>\n",
       "      <td>1.033551e+10</td>\n",
       "      <td>1.109438e+10</td>\n",
       "    </tr>\n",
       "  </tbody>\n",
       "</table>\n",
       "</div>"
      ],
      "text/plain": [
       "            RNN-LSTM-1-mês-larga  RNN-LSTM-1-mês-camadas  \\\n",
       "date                                                       \n",
       "2015-01-01          9.062165e+09            1.025498e+10   \n",
       "2015-02-01          9.047261e+09            1.028483e+10   \n",
       "2015-03-01          9.090192e+09            1.036156e+10   \n",
       "2015-04-01          9.052214e+09            1.034409e+10   \n",
       "2015-05-01          9.020398e+09            1.032591e+10   \n",
       "2015-06-01          8.997561e+09            1.033868e+10   \n",
       "2015-07-01          8.991814e+09            1.031631e+10   \n",
       "2015-08-01          8.991368e+09            1.033056e+10   \n",
       "2015-09-01          8.995691e+09            1.031743e+10   \n",
       "2015-10-01          8.994902e+09            1.031507e+10   \n",
       "2015-11-01          8.992397e+09            1.031908e+10   \n",
       "2015-12-01          8.987802e+09            1.032591e+10   \n",
       "\n",
       "            RNN-LSTM-12-meses-larga  RNN-LSTM-12-meses-camadas          real  \n",
       "date                                                                          \n",
       "2015-01-01             1.010021e+10               1.025312e+10  9.987825e+09  \n",
       "2015-02-01             1.010751e+10               1.024941e+10  9.919477e+09  \n",
       "2015-03-01             1.008260e+10               1.024270e+10  9.871727e+09  \n",
       "2015-04-01             1.007327e+10               1.024087e+10  1.037640e+10  \n",
       "2015-05-01             1.006479e+10               1.024282e+10  9.740006e+09  \n",
       "2015-06-01             1.005815e+10               1.024487e+10  1.032307e+10  \n",
       "2015-07-01             1.005792e+10               1.025394e+10  1.029487e+10  \n",
       "2015-08-01             1.005962e+10               1.026103e+10  9.864942e+09  \n",
       "2015-09-01             1.005722e+10               1.027411e+10  1.051019e+10  \n",
       "2015-10-01             1.006638e+10               1.029335e+10  1.056639e+10  \n",
       "2015-11-01             1.008387e+10               1.031636e+10  1.029608e+10  \n",
       "2015-12-01             1.010476e+10               1.033551e+10  1.109438e+10  "
      ]
     },
     "execution_count": 90,
     "metadata": {},
     "output_type": "execute_result"
    }
   ],
   "source": [
    "df_prev"
   ]
  },
  {
   "cell_type": "code",
   "execution_count": 91,
   "metadata": {},
   "outputs": [
    {
     "data": {
      "text/html": [
       "<div>\n",
       "<style scoped>\n",
       "    .dataframe tbody tr th:only-of-type {\n",
       "        vertical-align: middle;\n",
       "    }\n",
       "\n",
       "    .dataframe tbody tr th {\n",
       "        vertical-align: top;\n",
       "    }\n",
       "\n",
       "    .dataframe thead th {\n",
       "        text-align: right;\n",
       "    }\n",
       "</style>\n",
       "<table border=\"1\" class=\"dataframe\">\n",
       "  <thead>\n",
       "    <tr style=\"text-align: right;\">\n",
       "      <th></th>\n",
       "      <th>RNN-LSTM-1-mês-larga</th>\n",
       "      <th>RNN-LSTM-1-mês-camadas</th>\n",
       "      <th>RNN-LSTM-12-meses-larga</th>\n",
       "      <th>RNN-LSTM-12-meses-camadas</th>\n",
       "    </tr>\n",
       "  </thead>\n",
       "  <tbody>\n",
       "    <tr>\n",
       "      <th>0</th>\n",
       "      <td>9.267887</td>\n",
       "      <td>2.674796</td>\n",
       "      <td>1.125203</td>\n",
       "      <td>2.656193</td>\n",
       "    </tr>\n",
       "    <tr>\n",
       "      <th>1</th>\n",
       "      <td>8.792966</td>\n",
       "      <td>3.683209</td>\n",
       "      <td>1.895622</td>\n",
       "      <td>3.326077</td>\n",
       "    </tr>\n",
       "    <tr>\n",
       "      <th>2</th>\n",
       "      <td>7.916897</td>\n",
       "      <td>4.962015</td>\n",
       "      <td>2.136103</td>\n",
       "      <td>3.757969</td>\n",
       "    </tr>\n",
       "    <tr>\n",
       "      <th>3</th>\n",
       "      <td>12.761509</td>\n",
       "      <td>0.311400</td>\n",
       "      <td>2.921298</td>\n",
       "      <td>1.306165</td>\n",
       "    </tr>\n",
       "    <tr>\n",
       "      <th>4</th>\n",
       "      <td>7.388167</td>\n",
       "      <td>6.015467</td>\n",
       "      <td>3.334491</td>\n",
       "      <td>5.162363</td>\n",
       "    </tr>\n",
       "    <tr>\n",
       "      <th>5</th>\n",
       "      <td>12.840260</td>\n",
       "      <td>0.151239</td>\n",
       "      <td>2.566340</td>\n",
       "      <td>0.757514</td>\n",
       "    </tr>\n",
       "    <tr>\n",
       "      <th>6</th>\n",
       "      <td>12.657349</td>\n",
       "      <td>0.208200</td>\n",
       "      <td>2.301697</td>\n",
       "      <td>0.397570</td>\n",
       "    </tr>\n",
       "    <tr>\n",
       "      <th>7</th>\n",
       "      <td>8.855340</td>\n",
       "      <td>4.719939</td>\n",
       "      <td>1.973456</td>\n",
       "      <td>4.015052</td>\n",
       "    </tr>\n",
       "    <tr>\n",
       "      <th>8</th>\n",
       "      <td>14.409809</td>\n",
       "      <td>1.834045</td>\n",
       "      <td>4.309765</td>\n",
       "      <td>2.246221</td>\n",
       "    </tr>\n",
       "    <tr>\n",
       "      <th>9</th>\n",
       "      <td>14.872494</td>\n",
       "      <td>2.378492</td>\n",
       "      <td>4.732063</td>\n",
       "      <td>2.584025</td>\n",
       "    </tr>\n",
       "    <tr>\n",
       "      <th>10</th>\n",
       "      <td>12.661945</td>\n",
       "      <td>0.223379</td>\n",
       "      <td>2.061127</td>\n",
       "      <td>0.197002</td>\n",
       "    </tr>\n",
       "    <tr>\n",
       "      <th>11</th>\n",
       "      <td>18.987791</td>\n",
       "      <td>6.926631</td>\n",
       "      <td>8.920042</td>\n",
       "      <td>6.840137</td>\n",
       "    </tr>\n",
       "  </tbody>\n",
       "</table>\n",
       "</div>"
      ],
      "text/plain": [
       "    RNN-LSTM-1-mês-larga  RNN-LSTM-1-mês-camadas  RNN-LSTM-12-meses-larga  \\\n",
       "0               9.267887                2.674796                 1.125203   \n",
       "1               8.792966                3.683209                 1.895622   \n",
       "2               7.916897                4.962015                 2.136103   \n",
       "3              12.761509                0.311400                 2.921298   \n",
       "4               7.388167                6.015467                 3.334491   \n",
       "5              12.840260                0.151239                 2.566340   \n",
       "6              12.657349                0.208200                 2.301697   \n",
       "7               8.855340                4.719939                 1.973456   \n",
       "8              14.409809                1.834045                 4.309765   \n",
       "9              14.872494                2.378492                 4.732063   \n",
       "10             12.661945                0.223379                 2.061127   \n",
       "11             18.987791                6.926631                 8.920042   \n",
       "\n",
       "    RNN-LSTM-12-meses-camadas  \n",
       "0                    2.656193  \n",
       "1                    3.326077  \n",
       "2                    3.757969  \n",
       "3                    1.306165  \n",
       "4                    5.162363  \n",
       "5                    0.757514  \n",
       "6                    0.397570  \n",
       "7                    4.015052  \n",
       "8                    2.246221  \n",
       "9                    2.584025  \n",
       "10                   0.197002  \n",
       "11                   6.840137  "
      ]
     },
     "execution_count": 91,
     "metadata": {},
     "output_type": "execute_result"
    }
   ],
   "source": [
    "df_erro"
   ]
  },
  {
   "cell_type": "markdown",
   "metadata": {},
   "source": [
    "#### Previsões"
   ]
  },
  {
   "cell_type": "code",
   "execution_count": 92,
   "metadata": {},
   "outputs": [
    {
     "data": {
      "image/png": "[encoded data removed]",
      "text/plain": [
       "<Figure size 1080x720 with 1 Axes>"
      ]
     },
     "metadata": {
      "needs_background": "light"
     },
     "output_type": "display_data"
    }
   ],
   "source": [
    "fig = plt.figure(figsize=(15, 10))\n",
    "ax = sns.lineplot(data=df_prev)"
   ]
  },
  {
   "cell_type": "markdown",
   "metadata": {},
   "source": [
    "#### RMSE"
   ]
  },
  {
   "cell_type": "code",
   "execution_count": 93,
   "metadata": {
    "scrolled": false
   },
   "outputs": [
    {
     "data": {
      "image/png": "[encoded data removed]",
      "text/plain": [
       "<Figure size 1080x720 with 1 Axes>"
      ]
     },
     "metadata": {
      "needs_background": "light"
     },
     "output_type": "display_data"
    }
   ],
   "source": [
    "fig = plt.figure(figsize=(15, 10))\n",
    "#df_rmse = df_rmse.drop(['mov_avg_12'], axis=1)\n",
    "ax = sns.barplot(data=df_rmse)\n",
    "_ = plt.xticks(rotation=45)"
   ]
  },
  {
   "cell_type": "markdown",
   "metadata": {},
   "source": [
    "#### MAPE"
   ]
  },
  {
   "cell_type": "code",
   "execution_count": 94,
   "metadata": {
    "scrolled": false
   },
   "outputs": [
    {
     "data": {
      "image/png": "[encoded data removed]",
      "text/plain": [
       "<Figure size 1080x720 with 1 Axes>"
      ]
     },
     "metadata": {
      "needs_background": "light"
     },
     "output_type": "display_data"
    }
   ],
   "source": [
    "fig = plt.figure(figsize=(15, 10))\n",
    "#df_mape = df_mape.drop(['mov_avg_12'], axis=1)\n",
    "ax = sns.barplot(data=df_mape)\n",
    "_ = plt.xticks(rotation=45)"
   ]
  },
  {
   "cell_type": "markdown",
   "metadata": {},
   "source": [
    "### Resumo das métricas"
   ]
  },
  {
   "cell_type": "code",
   "execution_count": 95,
   "metadata": {},
   "outputs": [],
   "source": [
    "df_rmse.index = ['RMSE']\n",
    "df_mape.index = ['MAPE']"
   ]
  },
  {
   "cell_type": "code",
   "execution_count": 96,
   "metadata": {},
   "outputs": [
    {
     "data": {
      "text/html": [
       "<div>\n",
       "<style scoped>\n",
       "    .dataframe tbody tr th:only-of-type {\n",
       "        vertical-align: middle;\n",
       "    }\n",
       "\n",
       "    .dataframe tbody tr th {\n",
       "        vertical-align: top;\n",
       "    }\n",
       "\n",
       "    .dataframe thead th {\n",
       "        text-align: right;\n",
       "    }\n",
       "</style>\n",
       "<table border=\"1\" class=\"dataframe\">\n",
       "  <thead>\n",
       "    <tr style=\"text-align: right;\">\n",
       "      <th></th>\n",
       "      <th>RNN-LSTM-1-mês-larga</th>\n",
       "      <th>RNN-LSTM-1-mês-camadas</th>\n",
       "      <th>RNN-LSTM-12-meses-larga</th>\n",
       "      <th>RNN-LSTM-12-meses-camadas</th>\n",
       "    </tr>\n",
       "  </thead>\n",
       "  <tbody>\n",
       "    <tr>\n",
       "      <th>RMSE</th>\n",
       "      <td>1.278616e+09</td>\n",
       "      <td>3.761671e+08</td>\n",
       "      <td>4.014172e+08</td>\n",
       "      <td>3.487242e+08</td>\n",
       "    </tr>\n",
       "    <tr>\n",
       "      <th>MAPE</th>\n",
       "      <td>1.178437e-01</td>\n",
       "      <td>2.840734e-02</td>\n",
       "      <td>3.189767e-02</td>\n",
       "      <td>2.770524e-02</td>\n",
       "    </tr>\n",
       "  </tbody>\n",
       "</table>\n",
       "</div>"
      ],
      "text/plain": [
       "      RNN-LSTM-1-mês-larga  RNN-LSTM-1-mês-camadas  RNN-LSTM-12-meses-larga  \\\n",
       "RMSE          1.278616e+09            3.761671e+08             4.014172e+08   \n",
       "MAPE          1.178437e-01            2.840734e-02             3.189767e-02   \n",
       "\n",
       "      RNN-LSTM-12-meses-camadas  \n",
       "RMSE               3.487242e+08  \n",
       "MAPE               2.770524e-02  "
      ]
     },
     "execution_count": 96,
     "metadata": {},
     "output_type": "execute_result"
    }
   ],
   "source": [
    "df_metricas = df_rmse.copy()\n",
    "df_metricas = df_metricas.append(df_mape.copy())\n",
    "df_metricas"
   ]
  }
 ],
 "metadata": {
  "kernelspec": {
   "display_name": "Python 3",
   "language": "python",
   "name": "python3"
  },
  "language_info": {
   "codemirror_mode": {
    "name": "ipython",
    "version": 3
   },
   "file_extension": ".py",
   "mimetype": "text/x-python",
   "name": "python",
   "nbconvert_exporter": "python",
   "pygments_lexer": "ipython3",
   "version": "3.6.4"
  }
 },
 "nbformat": 4,
 "nbformat_minor": 2
}
