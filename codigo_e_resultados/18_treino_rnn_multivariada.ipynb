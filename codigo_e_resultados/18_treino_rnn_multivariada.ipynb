{
 "cells": [
  {
   "cell_type": "markdown",
   "metadata": {},
   "source": [
    "# Aplicação de Modelos de Markov e Redes Neurais LSTM na Previsão de Arrecadação do ICMS Paulista\n",
    "## Resultados 2018\n",
    "\n",
    "### Antonio Sergio Ferreira Bonato"
   ]
  },
  {
   "cell_type": "markdown",
   "metadata": {},
   "source": [
    "Atualmente, na Secretaria da Fazenda e Planejamento do Estado de São Paulo, a previsão de arrecadação do ICMS paulista é feita usando-se um modelo ARIMA com variáveis exógenas, o ARIMAX. Mas o ICMS é não linear e há várias quebras estruturais controladas com diversas *dummies*. A consequência é um modelo bastante sobreajustado, inadequado para previsões de mais longo prazo (mais do que alguns meses, muito menos para um ano). \n",
    "A proposta deste trabalho é utilizar modelos não lineares multivariados na previsão do ICMS paulista, utilizando redes neurais recorrentes LSTM (*Long Short Term Memory*) e modelos Markov-Switching, fazendo um contraponto entre estes dois modelos. E utilizar, como baseline de comparação, o modelo ARIMAX atual. \n",
    "\n",
    "**Palavras-chave**: Markov-Switching Models. Redes Neurais Recorrentes. LSTM. ICMS."
   ]
  },
  {
   "cell_type": "markdown",
   "metadata": {},
   "source": [
    "## Treino das RNN-LSTM Multivariadas"
   ]
  },
  {
   "cell_type": "code",
   "execution_count": 1,
   "metadata": {},
   "outputs": [],
   "source": [
    "import pandas as pd\n",
    "import numpy as np\n",
    "import seaborn as sns\n",
    "import matplotlib.pyplot as plt\n",
    "import statsmodels.tsa.stattools\n",
    "import statsmodels.tsa.x13\n",
    "import statsmodels.graphics.tsaplots\n",
    "import statsmodels.api as sm\n",
    "from statsmodels.graphics.api import qqplot\n",
    "from statsmodels.tsa.api import acf, graphics, pacf\n",
    "from statsmodels.tsa.arima.model import ARIMA\n",
    "import pickle\n",
    "from pmdarima.arima import auto_arima\n",
    "from sklearn.metrics import mean_squared_error, mean_absolute_percentage_error\n",
    "import random\n",
    "import tensorflow as tf\n",
    "seed = 42\n",
    "random.seed(seed)\n",
    "np.random.seed(seed)\n",
    "tf.random.set_seed(seed)\n",
    "\n",
    "sns.set()\n",
    "sns.set_context(\"notebook\")\n",
    "sns.set(rc={'figure.figsize':(15,8)})"
   ]
  },
  {
   "cell_type": "code",
   "execution_count": 2,
   "metadata": {},
   "outputs": [],
   "source": [
    "import warnings\n",
    "warnings.filterwarnings('ignore')\n",
    "warnings.simplefilter('ignore')"
   ]
  },
  {
   "cell_type": "code",
   "execution_count": 3,
   "metadata": {},
   "outputs": [
    {
     "data": {
      "text/html": [
       "<div>\n",
       "<style scoped>\n",
       "    .dataframe tbody tr th:only-of-type {\n",
       "        vertical-align: middle;\n",
       "    }\n",
       "\n",
       "    .dataframe tbody tr th {\n",
       "        vertical-align: top;\n",
       "    }\n",
       "\n",
       "    .dataframe thead th {\n",
       "        text-align: right;\n",
       "    }\n",
       "</style>\n",
       "<table border=\"1\" class=\"dataframe\">\n",
       "  <thead>\n",
       "    <tr style=\"text-align: right;\">\n",
       "      <th></th>\n",
       "      <th>date</th>\n",
       "      <th>icms_sp</th>\n",
       "      <th>igp_m</th>\n",
       "      <th>dolar</th>\n",
       "      <th>ibc_br</th>\n",
       "      <th>dias_uteis</th>\n",
       "      <th>igp_m_22</th>\n",
       "      <th>dolar_22</th>\n",
       "      <th>ibc_br_22</th>\n",
       "      <th>igp_m_21</th>\n",
       "      <th>...</th>\n",
       "      <th>ibc_br_16</th>\n",
       "      <th>igp_m_15</th>\n",
       "      <th>dolar_15</th>\n",
       "      <th>ibc_br_15</th>\n",
       "      <th>igp_m_14</th>\n",
       "      <th>dolar_14</th>\n",
       "      <th>ibc_br_14</th>\n",
       "      <th>igp_m_13</th>\n",
       "      <th>dolar_13</th>\n",
       "      <th>ibc_br_13</th>\n",
       "    </tr>\n",
       "  </thead>\n",
       "  <tbody>\n",
       "    <tr>\n",
       "      <th>0</th>\n",
       "      <td>2003-01-01</td>\n",
       "      <td>3.360296e+09</td>\n",
       "      <td>277.173</td>\n",
       "      <td>3.4384</td>\n",
       "      <td>96.15</td>\n",
       "      <td>22</td>\n",
       "      <td>277.173</td>\n",
       "      <td>3.4384</td>\n",
       "      <td>96.15</td>\n",
       "      <td>277.173</td>\n",
       "      <td>...</td>\n",
       "      <td>96.15</td>\n",
       "      <td>277.173</td>\n",
       "      <td>3.4384</td>\n",
       "      <td>96.15</td>\n",
       "      <td>277.173</td>\n",
       "      <td>3.4384</td>\n",
       "      <td>96.15</td>\n",
       "      <td>277.173</td>\n",
       "      <td>3.4384</td>\n",
       "      <td>96.15</td>\n",
       "    </tr>\n",
       "    <tr>\n",
       "      <th>1</th>\n",
       "      <td>2003-02-01</td>\n",
       "      <td>3.196558e+09</td>\n",
       "      <td>283.506</td>\n",
       "      <td>3.5908</td>\n",
       "      <td>98.67</td>\n",
       "      <td>20</td>\n",
       "      <td>283.506</td>\n",
       "      <td>3.5908</td>\n",
       "      <td>98.67</td>\n",
       "      <td>283.506</td>\n",
       "      <td>...</td>\n",
       "      <td>98.67</td>\n",
       "      <td>283.506</td>\n",
       "      <td>3.5908</td>\n",
       "      <td>98.67</td>\n",
       "      <td>283.506</td>\n",
       "      <td>3.5908</td>\n",
       "      <td>98.67</td>\n",
       "      <td>283.506</td>\n",
       "      <td>3.5908</td>\n",
       "      <td>98.67</td>\n",
       "    </tr>\n",
       "    <tr>\n",
       "      <th>2</th>\n",
       "      <td>2003-03-01</td>\n",
       "      <td>3.160011e+09</td>\n",
       "      <td>287.855</td>\n",
       "      <td>3.4469</td>\n",
       "      <td>103.41</td>\n",
       "      <td>19</td>\n",
       "      <td>287.855</td>\n",
       "      <td>3.4469</td>\n",
       "      <td>103.41</td>\n",
       "      <td>287.855</td>\n",
       "      <td>...</td>\n",
       "      <td>103.41</td>\n",
       "      <td>287.855</td>\n",
       "      <td>3.4469</td>\n",
       "      <td>103.41</td>\n",
       "      <td>287.855</td>\n",
       "      <td>3.4469</td>\n",
       "      <td>103.41</td>\n",
       "      <td>287.855</td>\n",
       "      <td>3.4469</td>\n",
       "      <td>103.41</td>\n",
       "    </tr>\n",
       "    <tr>\n",
       "      <th>3</th>\n",
       "      <td>2003-04-01</td>\n",
       "      <td>3.215307e+09</td>\n",
       "      <td>290.512</td>\n",
       "      <td>3.1187</td>\n",
       "      <td>102.19</td>\n",
       "      <td>20</td>\n",
       "      <td>290.512</td>\n",
       "      <td>3.1187</td>\n",
       "      <td>102.19</td>\n",
       "      <td>290.512</td>\n",
       "      <td>...</td>\n",
       "      <td>102.19</td>\n",
       "      <td>290.512</td>\n",
       "      <td>3.1187</td>\n",
       "      <td>102.19</td>\n",
       "      <td>290.512</td>\n",
       "      <td>3.1187</td>\n",
       "      <td>102.19</td>\n",
       "      <td>290.512</td>\n",
       "      <td>3.1187</td>\n",
       "      <td>102.19</td>\n",
       "    </tr>\n",
       "    <tr>\n",
       "      <th>4</th>\n",
       "      <td>2003-05-01</td>\n",
       "      <td>3.098930e+09</td>\n",
       "      <td>289.747</td>\n",
       "      <td>2.9557</td>\n",
       "      <td>100.30</td>\n",
       "      <td>21</td>\n",
       "      <td>289.747</td>\n",
       "      <td>2.9557</td>\n",
       "      <td>100.30</td>\n",
       "      <td>289.747</td>\n",
       "      <td>...</td>\n",
       "      <td>100.30</td>\n",
       "      <td>289.747</td>\n",
       "      <td>2.9557</td>\n",
       "      <td>100.30</td>\n",
       "      <td>289.747</td>\n",
       "      <td>2.9557</td>\n",
       "      <td>100.30</td>\n",
       "      <td>289.747</td>\n",
       "      <td>2.9557</td>\n",
       "      <td>100.30</td>\n",
       "    </tr>\n",
       "  </tbody>\n",
       "</table>\n",
       "<p>5 rows × 36 columns</p>\n",
       "</div>"
      ],
      "text/plain": [
       "        date       icms_sp    igp_m   dolar  ibc_br  dias_uteis  igp_m_22  \\\n",
       "0 2003-01-01  3.360296e+09  277.173  3.4384   96.15          22   277.173   \n",
       "1 2003-02-01  3.196558e+09  283.506  3.5908   98.67          20   283.506   \n",
       "2 2003-03-01  3.160011e+09  287.855  3.4469  103.41          19   287.855   \n",
       "3 2003-04-01  3.215307e+09  290.512  3.1187  102.19          20   290.512   \n",
       "4 2003-05-01  3.098930e+09  289.747  2.9557  100.30          21   289.747   \n",
       "\n",
       "   dolar_22  ibc_br_22  igp_m_21  ...  ibc_br_16  igp_m_15  dolar_15  \\\n",
       "0    3.4384      96.15   277.173  ...      96.15   277.173    3.4384   \n",
       "1    3.5908      98.67   283.506  ...      98.67   283.506    3.5908   \n",
       "2    3.4469     103.41   287.855  ...     103.41   287.855    3.4469   \n",
       "3    3.1187     102.19   290.512  ...     102.19   290.512    3.1187   \n",
       "4    2.9557     100.30   289.747  ...     100.30   289.747    2.9557   \n",
       "\n",
       "   ibc_br_15  igp_m_14  dolar_14  ibc_br_14  igp_m_13  dolar_13  ibc_br_13  \n",
       "0      96.15   277.173    3.4384      96.15   277.173    3.4384      96.15  \n",
       "1      98.67   283.506    3.5908      98.67   283.506    3.5908      98.67  \n",
       "2     103.41   287.855    3.4469     103.41   287.855    3.4469     103.41  \n",
       "3     102.19   290.512    3.1187     102.19   290.512    3.1187     102.19  \n",
       "4     100.30   289.747    2.9557     100.30   289.747    2.9557     100.30  \n",
       "\n",
       "[5 rows x 36 columns]"
      ]
     },
     "execution_count": 3,
     "metadata": {},
     "output_type": "execute_result"
    }
   ],
   "source": [
    "df_main_orig = pd.read_excel(\"variaveis_previsao.xlsx\", parse_dates=['date'])\n",
    "df_main_orig.head()"
   ]
  },
  {
   "cell_type": "code",
   "execution_count": 4,
   "metadata": {},
   "outputs": [
    {
     "data": {
      "text/html": [
       "<div>\n",
       "<style scoped>\n",
       "    .dataframe tbody tr th:only-of-type {\n",
       "        vertical-align: middle;\n",
       "    }\n",
       "\n",
       "    .dataframe tbody tr th {\n",
       "        vertical-align: top;\n",
       "    }\n",
       "\n",
       "    .dataframe thead th {\n",
       "        text-align: right;\n",
       "    }\n",
       "</style>\n",
       "<table border=\"1\" class=\"dataframe\">\n",
       "  <thead>\n",
       "    <tr style=\"text-align: right;\">\n",
       "      <th></th>\n",
       "      <th>date</th>\n",
       "      <th>icms_sp</th>\n",
       "      <th>igp_m</th>\n",
       "      <th>dolar</th>\n",
       "      <th>ibc_br</th>\n",
       "      <th>dias_uteis</th>\n",
       "      <th>igp_m_22</th>\n",
       "      <th>dolar_22</th>\n",
       "      <th>ibc_br_22</th>\n",
       "      <th>igp_m_21</th>\n",
       "      <th>...</th>\n",
       "      <th>ibc_br_16</th>\n",
       "      <th>igp_m_15</th>\n",
       "      <th>dolar_15</th>\n",
       "      <th>ibc_br_15</th>\n",
       "      <th>igp_m_14</th>\n",
       "      <th>dolar_14</th>\n",
       "      <th>ibc_br_14</th>\n",
       "      <th>igp_m_13</th>\n",
       "      <th>dolar_13</th>\n",
       "      <th>ibc_br_13</th>\n",
       "    </tr>\n",
       "  </thead>\n",
       "  <tbody>\n",
       "    <tr>\n",
       "      <th>235</th>\n",
       "      <td>2022-08-01</td>\n",
       "      <td>1.756224e+10</td>\n",
       "      <td>1185.004</td>\n",
       "      <td>5.143287</td>\n",
       "      <td>149.60</td>\n",
       "      <td>23</td>\n",
       "      <td>1137.167829</td>\n",
       "      <td>5.6496</td>\n",
       "      <td>146.408337</td>\n",
       "      <td>NaN</td>\n",
       "      <td>...</td>\n",
       "      <td>NaN</td>\n",
       "      <td>NaN</td>\n",
       "      <td>NaN</td>\n",
       "      <td>NaN</td>\n",
       "      <td>NaN</td>\n",
       "      <td>NaN</td>\n",
       "      <td>NaN</td>\n",
       "      <td>NaN</td>\n",
       "      <td>NaN</td>\n",
       "      <td>NaN</td>\n",
       "    </tr>\n",
       "    <tr>\n",
       "      <th>236</th>\n",
       "      <td>2022-09-01</td>\n",
       "      <td>1.726287e+10</td>\n",
       "      <td>1173.793</td>\n",
       "      <td>5.236957</td>\n",
       "      <td>144.44</td>\n",
       "      <td>21</td>\n",
       "      <td>1143.597376</td>\n",
       "      <td>5.6800</td>\n",
       "      <td>142.808302</td>\n",
       "      <td>NaN</td>\n",
       "      <td>...</td>\n",
       "      <td>NaN</td>\n",
       "      <td>NaN</td>\n",
       "      <td>NaN</td>\n",
       "      <td>NaN</td>\n",
       "      <td>NaN</td>\n",
       "      <td>NaN</td>\n",
       "      <td>NaN</td>\n",
       "      <td>NaN</td>\n",
       "      <td>NaN</td>\n",
       "      <td>NaN</td>\n",
       "    </tr>\n",
       "    <tr>\n",
       "      <th>237</th>\n",
       "      <td>2022-10-01</td>\n",
       "      <td>1.565000e+10</td>\n",
       "      <td>1162.391</td>\n",
       "      <td>5.250300</td>\n",
       "      <td>142.34</td>\n",
       "      <td>20</td>\n",
       "      <td>1150.115881</td>\n",
       "      <td>5.6700</td>\n",
       "      <td>144.063428</td>\n",
       "      <td>NaN</td>\n",
       "      <td>...</td>\n",
       "      <td>NaN</td>\n",
       "      <td>NaN</td>\n",
       "      <td>NaN</td>\n",
       "      <td>NaN</td>\n",
       "      <td>NaN</td>\n",
       "      <td>NaN</td>\n",
       "      <td>NaN</td>\n",
       "      <td>NaN</td>\n",
       "      <td>NaN</td>\n",
       "      <td>NaN</td>\n",
       "    </tr>\n",
       "    <tr>\n",
       "      <th>238</th>\n",
       "      <td>2022-11-01</td>\n",
       "      <td>1.605000e+10</td>\n",
       "      <td>1155.829</td>\n",
       "      <td>5.274650</td>\n",
       "      <td>140.80</td>\n",
       "      <td>20</td>\n",
       "      <td>1155.866460</td>\n",
       "      <td>5.6000</td>\n",
       "      <td>143.165409</td>\n",
       "      <td>NaN</td>\n",
       "      <td>...</td>\n",
       "      <td>NaN</td>\n",
       "      <td>NaN</td>\n",
       "      <td>NaN</td>\n",
       "      <td>NaN</td>\n",
       "      <td>NaN</td>\n",
       "      <td>NaN</td>\n",
       "      <td>NaN</td>\n",
       "      <td>NaN</td>\n",
       "      <td>NaN</td>\n",
       "      <td>NaN</td>\n",
       "    </tr>\n",
       "    <tr>\n",
       "      <th>239</th>\n",
       "      <td>2022-12-01</td>\n",
       "      <td>1.767135e+10</td>\n",
       "      <td>1161.006</td>\n",
       "      <td>5.242432</td>\n",
       "      <td>142.78</td>\n",
       "      <td>22</td>\n",
       "      <td>1161.645792</td>\n",
       "      <td>5.6000</td>\n",
       "      <td>141.405133</td>\n",
       "      <td>NaN</td>\n",
       "      <td>...</td>\n",
       "      <td>NaN</td>\n",
       "      <td>NaN</td>\n",
       "      <td>NaN</td>\n",
       "      <td>NaN</td>\n",
       "      <td>NaN</td>\n",
       "      <td>NaN</td>\n",
       "      <td>NaN</td>\n",
       "      <td>NaN</td>\n",
       "      <td>NaN</td>\n",
       "      <td>NaN</td>\n",
       "    </tr>\n",
       "  </tbody>\n",
       "</table>\n",
       "<p>5 rows × 36 columns</p>\n",
       "</div>"
      ],
      "text/plain": [
       "          date       icms_sp     igp_m     dolar  ibc_br  dias_uteis  \\\n",
       "235 2022-08-01  1.756224e+10  1185.004  5.143287  149.60          23   \n",
       "236 2022-09-01  1.726287e+10  1173.793  5.236957  144.44          21   \n",
       "237 2022-10-01  1.565000e+10  1162.391  5.250300  142.34          20   \n",
       "238 2022-11-01  1.605000e+10  1155.829  5.274650  140.80          20   \n",
       "239 2022-12-01  1.767135e+10  1161.006  5.242432  142.78          22   \n",
       "\n",
       "        igp_m_22  dolar_22   ibc_br_22  igp_m_21  ...  ibc_br_16  igp_m_15  \\\n",
       "235  1137.167829    5.6496  146.408337       NaN  ...        NaN       NaN   \n",
       "236  1143.597376    5.6800  142.808302       NaN  ...        NaN       NaN   \n",
       "237  1150.115881    5.6700  144.063428       NaN  ...        NaN       NaN   \n",
       "238  1155.866460    5.6000  143.165409       NaN  ...        NaN       NaN   \n",
       "239  1161.645792    5.6000  141.405133       NaN  ...        NaN       NaN   \n",
       "\n",
       "     dolar_15  ibc_br_15  igp_m_14  dolar_14  ibc_br_14  igp_m_13  dolar_13  \\\n",
       "235       NaN        NaN       NaN       NaN        NaN       NaN       NaN   \n",
       "236       NaN        NaN       NaN       NaN        NaN       NaN       NaN   \n",
       "237       NaN        NaN       NaN       NaN        NaN       NaN       NaN   \n",
       "238       NaN        NaN       NaN       NaN        NaN       NaN       NaN   \n",
       "239       NaN        NaN       NaN       NaN        NaN       NaN       NaN   \n",
       "\n",
       "     ibc_br_13  \n",
       "235        NaN  \n",
       "236        NaN  \n",
       "237        NaN  \n",
       "238        NaN  \n",
       "239        NaN  \n",
       "\n",
       "[5 rows x 36 columns]"
      ]
     },
     "execution_count": 4,
     "metadata": {},
     "output_type": "execute_result"
    }
   ],
   "source": [
    "df_main_orig.tail()"
   ]
  },
  {
   "cell_type": "code",
   "execution_count": 5,
   "metadata": {},
   "outputs": [
    {
     "name": "stdout",
     "output_type": "stream",
     "text": [
      "<class 'pandas.core.frame.DataFrame'>\n",
      "RangeIndex: 240 entries, 0 to 239\n",
      "Data columns (total 36 columns):\n",
      " #   Column      Non-Null Count  Dtype         \n",
      "---  ------      --------------  -----         \n",
      " 0   date        240 non-null    datetime64[ns]\n",
      " 1   icms_sp     240 non-null    float64       \n",
      " 2   igp_m       240 non-null    float64       \n",
      " 3   dolar       240 non-null    float64       \n",
      " 4   ibc_br      240 non-null    float64       \n",
      " 5   dias_uteis  240 non-null    int64         \n",
      " 6   igp_m_22    240 non-null    float64       \n",
      " 7   dolar_22    240 non-null    float64       \n",
      " 8   ibc_br_22   240 non-null    float64       \n",
      " 9   igp_m_21    228 non-null    float64       \n",
      " 10  dolar_21    228 non-null    float64       \n",
      " 11  ibc_br_21   228 non-null    float64       \n",
      " 12  igp_m_20    216 non-null    float64       \n",
      " 13  dolar_20    216 non-null    float64       \n",
      " 14  ibc_br_20   216 non-null    float64       \n",
      " 15  igp_m_19    204 non-null    float64       \n",
      " 16  dolar_19    204 non-null    float64       \n",
      " 17  ibc_br_19   204 non-null    float64       \n",
      " 18  igp_m_18    192 non-null    float64       \n",
      " 19  dolar_18    192 non-null    float64       \n",
      " 20  ibc_br_18   192 non-null    float64       \n",
      " 21  igp_m_17    180 non-null    float64       \n",
      " 22  dolar_17    180 non-null    float64       \n",
      " 23  ibc_br_17   180 non-null    float64       \n",
      " 24  igp_m_16    168 non-null    float64       \n",
      " 25  dolar_16    168 non-null    float64       \n",
      " 26  ibc_br_16   168 non-null    float64       \n",
      " 27  igp_m_15    156 non-null    float64       \n",
      " 28  dolar_15    156 non-null    float64       \n",
      " 29  ibc_br_15   156 non-null    float64       \n",
      " 30  igp_m_14    144 non-null    float64       \n",
      " 31  dolar_14    144 non-null    float64       \n",
      " 32  ibc_br_14   144 non-null    float64       \n",
      " 33  igp_m_13    132 non-null    float64       \n",
      " 34  dolar_13    132 non-null    float64       \n",
      " 35  ibc_br_13   132 non-null    float64       \n",
      "dtypes: datetime64[ns](1), float64(34), int64(1)\n",
      "memory usage: 67.6 KB\n"
     ]
    }
   ],
   "source": [
    "df_main_orig.info()"
   ]
  },
  {
   "cell_type": "markdown",
   "metadata": {},
   "source": [
    "Removendo as últimas linhas que são todas NaN"
   ]
  },
  {
   "cell_type": "code",
   "execution_count": 6,
   "metadata": {},
   "outputs": [],
   "source": [
    "df_main = df_main_orig.iloc[0:192]\n",
    "datas = df_main['date']"
   ]
  },
  {
   "cell_type": "code",
   "execution_count": 7,
   "metadata": {},
   "outputs": [
    {
     "data": {
      "text/html": [
       "<div>\n",
       "<style scoped>\n",
       "    .dataframe tbody tr th:only-of-type {\n",
       "        vertical-align: middle;\n",
       "    }\n",
       "\n",
       "    .dataframe tbody tr th {\n",
       "        vertical-align: top;\n",
       "    }\n",
       "\n",
       "    .dataframe thead th {\n",
       "        text-align: right;\n",
       "    }\n",
       "</style>\n",
       "<table border=\"1\" class=\"dataframe\">\n",
       "  <thead>\n",
       "    <tr style=\"text-align: right;\">\n",
       "      <th></th>\n",
       "      <th>date</th>\n",
       "      <th>icms_sp</th>\n",
       "      <th>igp_m</th>\n",
       "      <th>dolar</th>\n",
       "      <th>ibc_br</th>\n",
       "      <th>dias_uteis</th>\n",
       "      <th>igp_m_22</th>\n",
       "      <th>dolar_22</th>\n",
       "      <th>ibc_br_22</th>\n",
       "      <th>igp_m_21</th>\n",
       "      <th>...</th>\n",
       "      <th>ibc_br_16</th>\n",
       "      <th>igp_m_15</th>\n",
       "      <th>dolar_15</th>\n",
       "      <th>ibc_br_15</th>\n",
       "      <th>igp_m_14</th>\n",
       "      <th>dolar_14</th>\n",
       "      <th>ibc_br_14</th>\n",
       "      <th>igp_m_13</th>\n",
       "      <th>dolar_13</th>\n",
       "      <th>ibc_br_13</th>\n",
       "    </tr>\n",
       "  </thead>\n",
       "  <tbody>\n",
       "    <tr>\n",
       "      <th>187</th>\n",
       "      <td>2018-08-01</td>\n",
       "      <td>1.157415e+10</td>\n",
       "      <td>701.677</td>\n",
       "      <td>3.929757</td>\n",
       "      <td>143.43</td>\n",
       "      <td>23</td>\n",
       "      <td>701.677</td>\n",
       "      <td>3.929757</td>\n",
       "      <td>143.43</td>\n",
       "      <td>701.677</td>\n",
       "      <td>...</td>\n",
       "      <td>NaN</td>\n",
       "      <td>NaN</td>\n",
       "      <td>NaN</td>\n",
       "      <td>NaN</td>\n",
       "      <td>NaN</td>\n",
       "      <td>NaN</td>\n",
       "      <td>NaN</td>\n",
       "      <td>NaN</td>\n",
       "      <td>NaN</td>\n",
       "      <td>NaN</td>\n",
       "    </tr>\n",
       "    <tr>\n",
       "      <th>188</th>\n",
       "      <td>2018-09-01</td>\n",
       "      <td>1.157068e+10</td>\n",
       "      <td>712.373</td>\n",
       "      <td>4.116547</td>\n",
       "      <td>135.78</td>\n",
       "      <td>20</td>\n",
       "      <td>712.373</td>\n",
       "      <td>4.116547</td>\n",
       "      <td>135.78</td>\n",
       "      <td>712.373</td>\n",
       "      <td>...</td>\n",
       "      <td>NaN</td>\n",
       "      <td>NaN</td>\n",
       "      <td>NaN</td>\n",
       "      <td>NaN</td>\n",
       "      <td>NaN</td>\n",
       "      <td>NaN</td>\n",
       "      <td>NaN</td>\n",
       "      <td>NaN</td>\n",
       "      <td>NaN</td>\n",
       "      <td>NaN</td>\n",
       "    </tr>\n",
       "    <tr>\n",
       "      <th>189</th>\n",
       "      <td>2018-10-01</td>\n",
       "      <td>1.176202e+10</td>\n",
       "      <td>718.684</td>\n",
       "      <td>3.758409</td>\n",
       "      <td>139.86</td>\n",
       "      <td>22</td>\n",
       "      <td>718.684</td>\n",
       "      <td>3.758409</td>\n",
       "      <td>139.86</td>\n",
       "      <td>718.684</td>\n",
       "      <td>...</td>\n",
       "      <td>NaN</td>\n",
       "      <td>NaN</td>\n",
       "      <td>NaN</td>\n",
       "      <td>NaN</td>\n",
       "      <td>NaN</td>\n",
       "      <td>NaN</td>\n",
       "      <td>NaN</td>\n",
       "      <td>NaN</td>\n",
       "      <td>NaN</td>\n",
       "      <td>NaN</td>\n",
       "    </tr>\n",
       "    <tr>\n",
       "      <th>190</th>\n",
       "      <td>2018-11-01</td>\n",
       "      <td>1.150136e+10</td>\n",
       "      <td>715.166</td>\n",
       "      <td>3.786665</td>\n",
       "      <td>137.67</td>\n",
       "      <td>20</td>\n",
       "      <td>715.166</td>\n",
       "      <td>3.786665</td>\n",
       "      <td>137.67</td>\n",
       "      <td>715.166</td>\n",
       "      <td>...</td>\n",
       "      <td>NaN</td>\n",
       "      <td>NaN</td>\n",
       "      <td>NaN</td>\n",
       "      <td>NaN</td>\n",
       "      <td>NaN</td>\n",
       "      <td>NaN</td>\n",
       "      <td>NaN</td>\n",
       "      <td>NaN</td>\n",
       "      <td>NaN</td>\n",
       "      <td>NaN</td>\n",
       "    </tr>\n",
       "    <tr>\n",
       "      <th>191</th>\n",
       "      <td>2018-12-01</td>\n",
       "      <td>1.196787e+10</td>\n",
       "      <td>707.441</td>\n",
       "      <td>3.882782</td>\n",
       "      <td>136.34</td>\n",
       "      <td>20</td>\n",
       "      <td>707.441</td>\n",
       "      <td>3.882782</td>\n",
       "      <td>136.34</td>\n",
       "      <td>707.441</td>\n",
       "      <td>...</td>\n",
       "      <td>NaN</td>\n",
       "      <td>NaN</td>\n",
       "      <td>NaN</td>\n",
       "      <td>NaN</td>\n",
       "      <td>NaN</td>\n",
       "      <td>NaN</td>\n",
       "      <td>NaN</td>\n",
       "      <td>NaN</td>\n",
       "      <td>NaN</td>\n",
       "      <td>NaN</td>\n",
       "    </tr>\n",
       "  </tbody>\n",
       "</table>\n",
       "<p>5 rows × 36 columns</p>\n",
       "</div>"
      ],
      "text/plain": [
       "          date       icms_sp    igp_m     dolar  ibc_br  dias_uteis  igp_m_22  \\\n",
       "187 2018-08-01  1.157415e+10  701.677  3.929757  143.43          23   701.677   \n",
       "188 2018-09-01  1.157068e+10  712.373  4.116547  135.78          20   712.373   \n",
       "189 2018-10-01  1.176202e+10  718.684  3.758409  139.86          22   718.684   \n",
       "190 2018-11-01  1.150136e+10  715.166  3.786665  137.67          20   715.166   \n",
       "191 2018-12-01  1.196787e+10  707.441  3.882782  136.34          20   707.441   \n",
       "\n",
       "     dolar_22  ibc_br_22  igp_m_21  ...  ibc_br_16  igp_m_15  dolar_15  \\\n",
       "187  3.929757     143.43   701.677  ...        NaN       NaN       NaN   \n",
       "188  4.116547     135.78   712.373  ...        NaN       NaN       NaN   \n",
       "189  3.758409     139.86   718.684  ...        NaN       NaN       NaN   \n",
       "190  3.786665     137.67   715.166  ...        NaN       NaN       NaN   \n",
       "191  3.882782     136.34   707.441  ...        NaN       NaN       NaN   \n",
       "\n",
       "     ibc_br_15  igp_m_14  dolar_14  ibc_br_14  igp_m_13  dolar_13  ibc_br_13  \n",
       "187        NaN       NaN       NaN        NaN       NaN       NaN        NaN  \n",
       "188        NaN       NaN       NaN        NaN       NaN       NaN        NaN  \n",
       "189        NaN       NaN       NaN        NaN       NaN       NaN        NaN  \n",
       "190        NaN       NaN       NaN        NaN       NaN       NaN        NaN  \n",
       "191        NaN       NaN       NaN        NaN       NaN       NaN        NaN  \n",
       "\n",
       "[5 rows x 36 columns]"
      ]
     },
     "execution_count": 7,
     "metadata": {},
     "output_type": "execute_result"
    }
   ],
   "source": [
    "df_main.tail()"
   ]
  },
  {
   "cell_type": "markdown",
   "metadata": {},
   "source": [
    "### Criação das Séries\n",
    "Como os valores do ICMS são muito elevados a série será colocada em log."
   ]
  },
  {
   "cell_type": "code",
   "execution_count": 8,
   "metadata": {},
   "outputs": [],
   "source": [
    "icms_ts = pd.Series(np.log(list(df_main['icms_sp'])), index = datas)\n",
    "ibcbr_ts = pd.Series(list(df_main['ibc_br']), index = datas)\n",
    "igpm_ts = pd.Series(list(df_main['igp_m']), index = datas)\n",
    "dolar_ts = pd.Series(list(df_main['dolar']), index = datas)\n",
    "dias_uteis_ts = pd.Series(list(df_main['dias_uteis']), index = datas)"
   ]
  },
  {
   "cell_type": "markdown",
   "metadata": {},
   "source": [
    "#### Testes de Valores Nulos"
   ]
  },
  {
   "cell_type": "code",
   "execution_count": 9,
   "metadata": {},
   "outputs": [
    {
     "name": "stdout",
     "output_type": "stream",
     "text": [
      "ICMS 0\n",
      "IBC-Br 0\n",
      "IGP-DI 0\n",
      "Dólar 0\n",
      "Dias Úteis 0\n"
     ]
    }
   ],
   "source": [
    "print('ICMS', icms_ts.isnull().sum())\n",
    "print('IBC-Br', ibcbr_ts.isnull().sum())\n",
    "print('IGP-DI', igpm_ts.isnull().sum())\n",
    "print('Dólar', dolar_ts.isnull().sum())\n",
    "print('Dias Úteis', dias_uteis_ts.isnull().sum())"
   ]
  },
  {
   "cell_type": "markdown",
   "metadata": {},
   "source": [
    "### Plotando a Série em Nível"
   ]
  },
  {
   "cell_type": "code",
   "execution_count": 10,
   "metadata": {},
   "outputs": [
    {
     "data": {
      "image/png": "[encoded data removed]",
      "text/plain": [
       "<Figure size 1080x2160 with 5 Axes>"
      ]
     },
     "metadata": {
      "needs_background": "light"
     },
     "output_type": "display_data"
    }
   ],
   "source": [
    "fig=plt.figure(figsize=(15, 30))\n",
    "ax1=fig.add_subplot(511)\n",
    "ax2=fig.add_subplot(512)\n",
    "ax3=fig.add_subplot(513)\n",
    "ax4=fig.add_subplot(514)\n",
    "ax5=fig.add_subplot(515)\n",
    "#plots\n",
    "ax1.plot(icms_ts, 'tab:blue', label='Log ICMS SP')\n",
    "ax1.legend(loc='best')\n",
    "ax2.plot(dias_uteis_ts, 'tab:purple', label='Dias Úteis')\n",
    "ax2.legend(loc='best')\n",
    "ax3.plot(ibcbr_ts, 'tab:orange',  label='IBC-BR')\n",
    "ax3.legend(loc='best')\n",
    "ax4.plot(igpm_ts, 'tab:gray', label='IGP-M')\n",
    "ax4.legend(loc='best')\n",
    "ax5.plot(dolar_ts, 'tab:green', label='Dólar')\n",
    "ax5.legend(loc='best')\n",
    "plt.show()"
   ]
  },
  {
   "cell_type": "markdown",
   "metadata": {},
   "source": [
    "## Preparação para Previsões"
   ]
  },
  {
   "cell_type": "markdown",
   "metadata": {},
   "source": [
    "O artigo usa, além de MAPE e MSE, o erro relativo, que é \n",
    "\n",
    "$Erro Relativo = \\frac{|previsão - real|}{real}$"
   ]
  },
  {
   "cell_type": "code",
   "execution_count": 11,
   "metadata": {},
   "outputs": [],
   "source": [
    "def erro_relativo(prev, real):\n",
    "    return 100*np.absolute(prev-real)/real"
   ]
  },
  {
   "cell_type": "markdown",
   "metadata": {},
   "source": [
    "#### Dicionário de Previsões"
   ]
  },
  {
   "cell_type": "code",
   "execution_count": 12,
   "metadata": {},
   "outputs": [],
   "source": [
    "previsoes = {\n",
    "    'nome':[],\n",
    "    'modelo': [],\n",
    "    'previsoes': [],\n",
    "    'rmse': [],\n",
    "    'mape': [],\n",
    "    'erro relativo':[]\n",
    "}"
   ]
  },
  {
   "cell_type": "markdown",
   "metadata": {},
   "source": [
    "### Separando a amostra em treinamento (in-sample) e teste (out-of-sample)\n",
    "Serão usadas as séries com sazonalidade e em nível e as questões de sazonalidade e estacionariedade serão tratadas pelo modelo."
   ]
  },
  {
   "cell_type": "code",
   "execution_count": 13,
   "metadata": {},
   "outputs": [
    {
     "data": {
      "text/html": [
       "<div>\n",
       "<style scoped>\n",
       "    .dataframe tbody tr th:only-of-type {\n",
       "        vertical-align: middle;\n",
       "    }\n",
       "\n",
       "    .dataframe tbody tr th {\n",
       "        vertical-align: top;\n",
       "    }\n",
       "\n",
       "    .dataframe thead th {\n",
       "        text-align: right;\n",
       "    }\n",
       "</style>\n",
       "<table border=\"1\" class=\"dataframe\">\n",
       "  <thead>\n",
       "    <tr style=\"text-align: right;\">\n",
       "      <th></th>\n",
       "      <th>ibcbr</th>\n",
       "      <th>igpdi</th>\n",
       "      <th>dolar</th>\n",
       "      <th>dias_uteis</th>\n",
       "    </tr>\n",
       "    <tr>\n",
       "      <th>date</th>\n",
       "      <th></th>\n",
       "      <th></th>\n",
       "      <th></th>\n",
       "      <th></th>\n",
       "    </tr>\n",
       "  </thead>\n",
       "  <tbody>\n",
       "    <tr>\n",
       "      <th>2003-01-01</th>\n",
       "      <td>96.15</td>\n",
       "      <td>277.173</td>\n",
       "      <td>3.4384</td>\n",
       "      <td>22.0</td>\n",
       "    </tr>\n",
       "    <tr>\n",
       "      <th>2003-02-01</th>\n",
       "      <td>98.67</td>\n",
       "      <td>283.506</td>\n",
       "      <td>3.5908</td>\n",
       "      <td>20.0</td>\n",
       "    </tr>\n",
       "    <tr>\n",
       "      <th>2003-03-01</th>\n",
       "      <td>103.41</td>\n",
       "      <td>287.855</td>\n",
       "      <td>3.4469</td>\n",
       "      <td>19.0</td>\n",
       "    </tr>\n",
       "    <tr>\n",
       "      <th>2003-04-01</th>\n",
       "      <td>102.19</td>\n",
       "      <td>290.512</td>\n",
       "      <td>3.1187</td>\n",
       "      <td>20.0</td>\n",
       "    </tr>\n",
       "    <tr>\n",
       "      <th>2003-05-01</th>\n",
       "      <td>100.30</td>\n",
       "      <td>289.747</td>\n",
       "      <td>2.9557</td>\n",
       "      <td>21.0</td>\n",
       "    </tr>\n",
       "  </tbody>\n",
       "</table>\n",
       "</div>"
      ],
      "text/plain": [
       "             ibcbr    igpdi   dolar  dias_uteis\n",
       "date                                           \n",
       "2003-01-01   96.15  277.173  3.4384        22.0\n",
       "2003-02-01   98.67  283.506  3.5908        20.0\n",
       "2003-03-01  103.41  287.855  3.4469        19.0\n",
       "2003-04-01  102.19  290.512  3.1187        20.0\n",
       "2003-05-01  100.30  289.747  2.9557        21.0"
      ]
     },
     "execution_count": 13,
     "metadata": {},
     "output_type": "execute_result"
    }
   ],
   "source": [
    "exog_df = pd.DataFrame((ibcbr_ts, igpm_ts,\n",
    "                        dolar_ts, dias_uteis_ts\n",
    "                       ), \n",
    "                        index=['ibcbr', 'igpdi', 'dolar', 'dias_uteis'\n",
    "                            ]).transpose()\n",
    "exog_df.head() "
   ]
  },
  {
   "cell_type": "code",
   "execution_count": 14,
   "metadata": {},
   "outputs": [
    {
     "data": {
      "text/html": [
       "<div>\n",
       "<style scoped>\n",
       "    .dataframe tbody tr th:only-of-type {\n",
       "        vertical-align: middle;\n",
       "    }\n",
       "\n",
       "    .dataframe tbody tr th {\n",
       "        vertical-align: top;\n",
       "    }\n",
       "\n",
       "    .dataframe thead th {\n",
       "        text-align: right;\n",
       "    }\n",
       "</style>\n",
       "<table border=\"1\" class=\"dataframe\">\n",
       "  <thead>\n",
       "    <tr style=\"text-align: right;\">\n",
       "      <th></th>\n",
       "      <th>ibcbr</th>\n",
       "      <th>igpdi</th>\n",
       "      <th>dolar</th>\n",
       "      <th>dias_uteis</th>\n",
       "    </tr>\n",
       "    <tr>\n",
       "      <th>date</th>\n",
       "      <th></th>\n",
       "      <th></th>\n",
       "      <th></th>\n",
       "      <th></th>\n",
       "    </tr>\n",
       "  </thead>\n",
       "  <tbody>\n",
       "    <tr>\n",
       "      <th>2018-08-01</th>\n",
       "      <td>143.43</td>\n",
       "      <td>701.677</td>\n",
       "      <td>3.929757</td>\n",
       "      <td>23.0</td>\n",
       "    </tr>\n",
       "    <tr>\n",
       "      <th>2018-09-01</th>\n",
       "      <td>135.78</td>\n",
       "      <td>712.373</td>\n",
       "      <td>4.116547</td>\n",
       "      <td>20.0</td>\n",
       "    </tr>\n",
       "    <tr>\n",
       "      <th>2018-10-01</th>\n",
       "      <td>139.86</td>\n",
       "      <td>718.684</td>\n",
       "      <td>3.758409</td>\n",
       "      <td>22.0</td>\n",
       "    </tr>\n",
       "    <tr>\n",
       "      <th>2018-11-01</th>\n",
       "      <td>137.67</td>\n",
       "      <td>715.166</td>\n",
       "      <td>3.786665</td>\n",
       "      <td>20.0</td>\n",
       "    </tr>\n",
       "    <tr>\n",
       "      <th>2018-12-01</th>\n",
       "      <td>136.34</td>\n",
       "      <td>707.441</td>\n",
       "      <td>3.882782</td>\n",
       "      <td>20.0</td>\n",
       "    </tr>\n",
       "  </tbody>\n",
       "</table>\n",
       "</div>"
      ],
      "text/plain": [
       "             ibcbr    igpdi     dolar  dias_uteis\n",
       "date                                             \n",
       "2018-08-01  143.43  701.677  3.929757        23.0\n",
       "2018-09-01  135.78  712.373  4.116547        20.0\n",
       "2018-10-01  139.86  718.684  3.758409        22.0\n",
       "2018-11-01  137.67  715.166  3.786665        20.0\n",
       "2018-12-01  136.34  707.441  3.882782        20.0"
      ]
     },
     "execution_count": 14,
     "metadata": {},
     "output_type": "execute_result"
    }
   ],
   "source": [
    "exog_df.tail() "
   ]
  },
  {
   "cell_type": "code",
   "execution_count": 15,
   "metadata": {},
   "outputs": [
    {
     "name": "stdout",
     "output_type": "stream",
     "text": [
      "(192, 4) (168, 4) (12, 4) (12, 4)\n"
     ]
    }
   ],
   "source": [
    "exog = exog_df[:].to_numpy()\n",
    "exog_train = exog[:-24]\n",
    "exog_val = exog[-24:-12]\n",
    "exog_test = exog[-12:]\n",
    "print(exog.shape, exog_train.shape, exog_val.shape, exog_test.shape)"
   ]
  },
  {
   "cell_type": "code",
   "execution_count": 16,
   "metadata": {},
   "outputs": [
    {
     "name": "stdout",
     "output_type": "stream",
     "text": [
      "(192,) (168,) (12,) (12,)\n"
     ]
    }
   ],
   "source": [
    "icms_train = icms_ts[:-24]\n",
    "icms_val = np.exp(icms_ts[-24:-12]) # série sem log\n",
    "icms_test = np.exp(icms_ts[-12:]) # série sem log\n",
    "print(icms_ts.shape, icms_train.shape, icms_val.shape, icms_test.shape)"
   ]
  },
  {
   "cell_type": "code",
   "execution_count": 17,
   "metadata": {},
   "outputs": [
    {
     "name": "stdout",
     "output_type": "stream",
     "text": [
      "##############################\n",
      " date\n",
      "2003-01-01    21.935295\n",
      "2003-02-01    21.885340\n",
      "2003-03-01    21.873841\n",
      "2003-04-01    21.891189\n",
      "2003-05-01    21.854323\n",
      "                ...    \n",
      "2016-08-01    23.037976\n",
      "2016-09-01    23.029815\n",
      "2016-10-01    23.065405\n",
      "2016-11-01    23.052040\n",
      "2016-12-01    23.119345\n",
      "Length: 168, dtype: float64\n",
      "##############################\n",
      " date\n",
      "2017-01-01    1.072886e+10\n",
      "2017-02-01    9.732300e+09\n",
      "2017-03-01    1.004051e+10\n",
      "2017-04-01    1.067568e+10\n",
      "2017-05-01    1.014303e+10\n",
      "2017-06-01    1.058851e+10\n",
      "2017-07-01    1.036689e+10\n",
      "2017-08-01    1.068426e+10\n",
      "2017-09-01    1.089186e+10\n",
      "2017-10-01    1.101721e+10\n",
      "2017-11-01    1.124273e+10\n",
      "2017-12-01    1.144989e+10\n",
      "dtype: float64\n",
      "##############################\n",
      " date\n",
      "2018-01-01    1.171836e+10\n",
      "2018-02-01    1.055555e+10\n",
      "2018-03-01    1.051107e+10\n",
      "2018-04-01    1.147597e+10\n",
      "2018-05-01    1.108135e+10\n",
      "2018-06-01    1.076198e+10\n",
      "2018-07-01    1.146222e+10\n",
      "2018-08-01    1.157415e+10\n",
      "2018-09-01    1.157068e+10\n",
      "2018-10-01    1.176202e+10\n",
      "2018-11-01    1.150136e+10\n",
      "2018-12-01    1.196787e+10\n",
      "dtype: float64\n"
     ]
    }
   ],
   "source": [
    "print('#'*30+'\\n',icms_train)\n",
    "print('#'*30+'\\n',icms_val)\n",
    "print('#'*30+'\\n',icms_test)"
   ]
  },
  {
   "cell_type": "markdown",
   "metadata": {},
   "source": [
    "## Modelos RNN LSTM\n",
    "Redes Neurais Recorrentes com neurônios Long Short-Term Memory"
   ]
  },
  {
   "cell_type": "markdown",
   "metadata": {},
   "source": [
    "### Montagem da Série com as Variáveis Exógenas\n",
    "As redes neurais precisam de conjuntos de características e de etiquetas separados. As variáveis exógenas serão o conjunto de características e a variável endógena será o conjunto de etiquetas."
   ]
  },
  {
   "cell_type": "code",
   "execution_count": 18,
   "metadata": {},
   "outputs": [],
   "source": [
    "X_data = np.append(exog, np.roll(exog, 1, axis = 0), axis = 1)\n",
    "X_data = np.append(X_data, np.roll(exog, 2, axis = 0), axis = 1)[2:]\n",
    "Y_data = icms_ts[2:].to_numpy()"
   ]
  },
  {
   "cell_type": "code",
   "execution_count": 19,
   "metadata": {},
   "outputs": [
    {
     "data": {
      "text/plain": [
       "((190, 12), (190,))"
      ]
     },
     "execution_count": 19,
     "metadata": {},
     "output_type": "execute_result"
    }
   ],
   "source": [
    "X_data.shape, Y_data.shape"
   ]
  },
  {
   "cell_type": "markdown",
   "metadata": {},
   "source": [
    "#### Normalização dos Dados\n",
    "Serão normalizados usando-se min-max. Apenas as features, a variável target não será normalizada. Os dados serão dividos em treno, validação e teste para a normalização, de modo que o fit seja feito somente nos dados de treino, aumentando-se assim a probabilidade de generalização do modelo."
   ]
  },
  {
   "cell_type": "code",
   "execution_count": 20,
   "metadata": {},
   "outputs": [
    {
     "name": "stdout",
     "output_type": "stream",
     "text": [
      "(166, 12) (12, 12) (12, 12)\n",
      "(166,) (12,) (12,)\n"
     ]
    }
   ],
   "source": [
    "X_train = X_data[:-24]\n",
    "X_val = X_data[-24:-12]\n",
    "X_test = X_data[-12:]\n",
    "print(X_train.shape, X_val.shape, X_test.shape)\n",
    "Y_train = Y_data[:-24]\n",
    "Y_val = Y_data[-24:-12]\n",
    "Y_test = np.exp(Y_data[-12:]) # tirando o log\n",
    "print(Y_train.shape, Y_val.shape, Y_test.shape)"
   ]
  },
  {
   "cell_type": "code",
   "execution_count": 21,
   "metadata": {},
   "outputs": [
    {
     "name": "stdout",
     "output_type": "stream",
     "text": [
      "numéricas [0, 1, 2, 3, 4, 5, 6, 7, 8, 9, 10, 11]\n",
      "ColumnTransformer(transformers=[('min-max', MinMaxScaler(),\n",
      "                                 [0, 1, 2, 3, 4, 5, 6, 7, 8, 9, 10, 11])],\n",
      "                  verbose=True)\n",
      "[ColumnTransformer] ....... (1 of 1) Processing min-max, total=   0.0s\n",
      "(166, 12)\n",
      "(12, 12)\n",
      "(12, 12)\n"
     ]
    }
   ],
   "source": [
    "from sklearn.preprocessing import MinMaxScaler\n",
    "from sklearn.compose import ColumnTransformer\n",
    "# índice dos atributos numéricos\n",
    "num_atrib = list(range(X_train.shape[1]))\n",
    "print('numéricas', num_atrib)\n",
    "\n",
    "enc_x = ColumnTransformer([('min-max',MinMaxScaler(), num_atrib)], verbose=True)\n",
    "\n",
    "print(enc_x)\n",
    "X_train_std = enc_x.fit_transform(X_train)\n",
    "X_val_std = enc_x.transform(X_val)\n",
    "X_test_std = enc_x.transform(X_test)\n",
    "\n",
    "print(X_train_std.shape)\n",
    "print(X_val_std.shape)\n",
    "print(X_test_std.shape)"
   ]
  },
  {
   "cell_type": "code",
   "execution_count": 22,
   "metadata": {},
   "outputs": [
    {
     "name": "stdout",
     "output_type": "stream",
     "text": [
      "(166, 12, 1) (12, 12, 1) (12, 12, 1)\n",
      "(166, 1) (12, 1) (12, 1)\n"
     ]
    }
   ],
   "source": [
    "x_train = X_train_std.reshape(X_train_std.shape[0], X_train_std.shape[1], 1)\n",
    "x_val = X_val_std.reshape(X_val_std.shape[0], X_val_std.shape[1], 1)\n",
    "x_test = X_test_std.reshape(X_test_std.shape[0], X_test_std.shape[1], 1)\n",
    "print(x_train.shape, x_val.shape, x_test.shape)\n",
    "\n",
    "y_train = Y_train.reshape(Y_train.shape[0], 1)\n",
    "y_val = Y_val.reshape(Y_val.shape[0], 1)\n",
    "y_test = Y_test.reshape(Y_test.shape[0], 1)\n",
    "print(y_train.shape, y_val.shape, y_test.shape)"
   ]
  },
  {
   "cell_type": "markdown",
   "metadata": {},
   "source": [
    "### Criando o modelo LSTM"
   ]
  },
  {
   "cell_type": "code",
   "execution_count": 23,
   "metadata": {},
   "outputs": [],
   "source": [
    "# importando as bibliotecas do Keras\n",
    "from tensorflow.keras.models import Sequential\n",
    "from tensorflow.keras.layers import LSTM, Dense, Dropout, Conv1D, MaxPooling1D\n",
    "from tensorflow.keras.callbacks import ReduceLROnPlateau, EarlyStopping\n",
    "from tensorflow.keras.optimizers import Adam"
   ]
  },
  {
   "cell_type": "markdown",
   "metadata": {},
   "source": [
    "## Arquitetura da Rede - Camadas"
   ]
  },
  {
   "cell_type": "code",
   "execution_count": 24,
   "metadata": {},
   "outputs": [],
   "source": [
    "rlrop = ReduceLROnPlateau(monitor='val_loss', factor=0.1, patience=25)\n",
    "early_stop = EarlyStopping(monitor='val_loss', patience=100, verbose=1, \n",
    "                           restore_best_weights=True)"
   ]
  },
  {
   "cell_type": "code",
   "execution_count": 25,
   "metadata": {},
   "outputs": [],
   "source": [
    "# Épocas\n",
    "EPOCHS = 1000\n",
    "NEURONIOS = 600\n",
    "DROPOUT = 0.15\n",
    "LR = 1e-5\n",
    "BATCH = 8\n",
    "\n",
    "# Imstanciação do modelo\n",
    "model = Sequential()\n",
    "\n",
    "# Adicionar camada LSTM \n",
    "model.add(LSTM(activation='tanh', dropout=DROPOUT,\n",
    "        input_shape = (12, 1), return_sequences = True,\n",
    "        units = NEURONIOS))\n",
    "\n",
    "# Adicionar camada LSTM \n",
    "model.add(LSTM(activation='tanh', dropout=DROPOUT,\n",
    "        input_shape = (12, 1), return_sequences = True,\n",
    "        units = NEURONIOS))\n",
    "\n",
    "# Adicionar camada LSTM \n",
    "model.add(LSTM(activation='tanh', dropout=DROPOUT,\n",
    "        input_shape = (12, 1), return_sequences = False,\n",
    "        units = NEURONIOS))\n",
    "\n",
    "# Adicionar a camada de saída com 1 neurônio linear\n",
    "model.add(Dense(\n",
    "        units = 1,\n",
    "        activation = 'linear'))\n",
    "# a learning rate padrão do Adam é 0.001\n",
    "model.compile(loss = 'mape', optimizer = Adam(learning_rate=LR))"
   ]
  },
  {
   "cell_type": "code",
   "execution_count": 26,
   "metadata": {},
   "outputs": [
    {
     "name": "stdout",
     "output_type": "stream",
     "text": [
      "Model: \"sequential\"\n",
      "_________________________________________________________________\n",
      "Layer (type)                 Output Shape              Param #   \n",
      "=================================================================\n",
      "lstm (LSTM)                  (None, 12, 600)           1444800   \n",
      "_________________________________________________________________\n",
      "lstm_1 (LSTM)                (None, 12, 600)           2882400   \n",
      "_________________________________________________________________\n",
      "lstm_2 (LSTM)                (None, 600)               2882400   \n",
      "_________________________________________________________________\n",
      "dense (Dense)                (None, 1)                 601       \n",
      "=================================================================\n",
      "Total params: 7,210,201\n",
      "Trainable params: 7,210,201\n",
      "Non-trainable params: 0\n",
      "_________________________________________________________________\n"
     ]
    }
   ],
   "source": [
    "model.summary()"
   ]
  },
  {
   "cell_type": "code",
   "execution_count": 27,
   "metadata": {
    "scrolled": true
   },
   "outputs": [
    {
     "name": "stdout",
     "output_type": "stream",
     "text": [
      "Epoch 1/1000\n",
      "21/21 [==============================] - 3s 153ms/step - loss: 99.8548 - val_loss: 99.5588\n",
      "Epoch 2/1000\n",
      "21/21 [==============================] - 2s 105ms/step - loss: 99.5058 - val_loss: 98.9129\n",
      "Epoch 3/1000\n",
      "21/21 [==============================] - 2s 108ms/step - loss: 98.8951 - val_loss: 97.6131\n",
      "Epoch 4/1000\n",
      "21/21 [==============================] - 2s 114ms/step - loss: 97.5514 - val_loss: 94.3466\n",
      "Epoch 5/1000\n",
      "21/21 [==============================] - 2s 116ms/step - loss: 93.7370 - val_loss: 84.1365\n",
      "Epoch 6/1000\n",
      "21/21 [==============================] - 2s 115ms/step - loss: 81.1481 - val_loss: 49.3413\n",
      "Epoch 7/1000\n",
      "21/21 [==============================] - 2s 111ms/step - loss: 44.7869 - val_loss: 6.9438\n",
      "Epoch 8/1000\n",
      "21/21 [==============================] - 2s 113ms/step - loss: 10.3001 - val_loss: 6.4890\n",
      "Epoch 9/1000\n",
      "21/21 [==============================] - 3s 124ms/step - loss: 4.5450 - val_loss: 3.2080\n",
      "Epoch 10/1000\n",
      "21/21 [==============================] - 3s 128ms/step - loss: 3.1041 - val_loss: 0.8241\n",
      "Epoch 11/1000\n",
      "21/21 [==============================] - 3s 130ms/step - loss: 2.5096 - val_loss: 1.1870\n",
      "Epoch 12/1000\n",
      "21/21 [==============================] - 3s 150ms/step - loss: 1.3720 - val_loss: 0.2531\n",
      "Epoch 13/1000\n",
      "21/21 [==============================] - 5s 219ms/step - loss: 1.3437 - val_loss: 0.2422\n",
      "Epoch 14/1000\n",
      "21/21 [==============================] - 4s 194ms/step - loss: 1.0812 - val_loss: 0.4430\n",
      "Epoch 15/1000\n",
      "21/21 [==============================] - 5s 243ms/step - loss: 1.2069 - val_loss: 0.2257\n",
      "Epoch 16/1000\n",
      "21/21 [==============================] - 5s 244ms/step - loss: 0.9666 - val_loss: 0.2019\n",
      "Epoch 17/1000\n",
      "21/21 [==============================] - 5s 244ms/step - loss: 0.9655 - val_loss: 0.4914\n",
      "Epoch 18/1000\n",
      "21/21 [==============================] - 5s 245ms/step - loss: 0.8460 - val_loss: 0.3691\n",
      "Epoch 19/1000\n",
      "21/21 [==============================] - 5s 237ms/step - loss: 0.9567 - val_loss: 0.6274\n",
      "Epoch 20/1000\n",
      "21/21 [==============================] - 5s 254ms/step - loss: 1.0370 - val_loss: 0.6770\n",
      "Epoch 21/1000\n",
      "21/21 [==============================] - 5s 241ms/step - loss: 0.9356 - val_loss: 0.7821\n",
      "Epoch 22/1000\n",
      "21/21 [==============================] - 5s 222ms/step - loss: 0.9097 - val_loss: 0.2365\n",
      "Epoch 23/1000\n",
      "21/21 [==============================] - 5s 238ms/step - loss: 0.8452 - val_loss: 0.6668\n",
      "Epoch 24/1000\n",
      "21/21 [==============================] - 5s 223ms/step - loss: 0.9186 - val_loss: 0.2670\n",
      "Epoch 25/1000\n",
      "21/21 [==============================] - 5s 227ms/step - loss: 0.8053 - val_loss: 0.3200\n",
      "Epoch 26/1000\n",
      "21/21 [==============================] - 5s 224ms/step - loss: 0.9313 - val_loss: 0.3851\n",
      "Epoch 27/1000\n",
      "21/21 [==============================] - 5s 223ms/step - loss: 0.8473 - val_loss: 0.4534\n",
      "Epoch 28/1000\n",
      "21/21 [==============================] - 4s 210ms/step - loss: 0.9334 - val_loss: 0.4510\n",
      "Epoch 29/1000\n",
      "21/21 [==============================] - 5s 232ms/step - loss: 1.0849 - val_loss: 0.6937\n",
      "Epoch 30/1000\n",
      "21/21 [==============================] - 5s 223ms/step - loss: 0.8958 - val_loss: 0.4148\n",
      "Epoch 31/1000\n",
      "21/21 [==============================] - 5s 219ms/step - loss: 0.7565 - val_loss: 0.7315\n",
      "Epoch 32/1000\n",
      "21/21 [==============================] - 5s 217ms/step - loss: 0.8304 - val_loss: 0.3122\n",
      "Epoch 33/1000\n",
      "21/21 [==============================] - 5s 219ms/step - loss: 0.8286 - val_loss: 0.4683\n",
      "Epoch 34/1000\n",
      "21/21 [==============================] - 5s 225ms/step - loss: 0.8509 - val_loss: 0.4530\n",
      "Epoch 35/1000\n",
      "21/21 [==============================] - 5s 241ms/step - loss: 0.7848 - val_loss: 0.4627\n",
      "Epoch 36/1000\n",
      "21/21 [==============================] - 6s 267ms/step - loss: 0.8993 - val_loss: 0.2265\n",
      "Epoch 37/1000\n",
      "21/21 [==============================] - 5s 248ms/step - loss: 0.8434 - val_loss: 0.6154\n",
      "Epoch 38/1000\n",
      "21/21 [==============================] - 5s 261ms/step - loss: 0.8948 - val_loss: 0.4898\n",
      "Epoch 39/1000\n",
      "21/21 [==============================] - 6s 267ms/step - loss: 0.8286 - val_loss: 0.1857\n",
      "Epoch 40/1000\n",
      "21/21 [==============================] - 5s 257ms/step - loss: 0.9288 - val_loss: 0.2049\n",
      "Epoch 41/1000\n",
      "21/21 [==============================] - 5s 259ms/step - loss: 0.9545 - val_loss: 0.2002\n",
      "Epoch 42/1000\n",
      "21/21 [==============================] - 5s 253ms/step - loss: 0.8663 - val_loss: 0.3200\n",
      "Epoch 43/1000\n",
      "21/21 [==============================] - 6s 269ms/step - loss: 0.7906 - val_loss: 0.3887\n",
      "Epoch 44/1000\n",
      "21/21 [==============================] - 6s 266ms/step - loss: 0.8478 - val_loss: 0.1977\n",
      "Epoch 45/1000\n",
      "21/21 [==============================] - 5s 248ms/step - loss: 0.8845 - val_loss: 0.4215\n",
      "Epoch 46/1000\n",
      "21/21 [==============================] - 5s 226ms/step - loss: 0.8027 - val_loss: 0.2531\n",
      "Epoch 47/1000\n",
      "21/21 [==============================] - 4s 202ms/step - loss: 0.8540 - val_loss: 0.3309\n",
      "Epoch 48/1000\n",
      "21/21 [==============================] - 5s 220ms/step - loss: 0.8303 - val_loss: 0.2093\n",
      "Epoch 49/1000\n",
      "21/21 [==============================] - 5s 217ms/step - loss: 0.8870 - val_loss: 0.4912\n",
      "Epoch 50/1000\n",
      "21/21 [==============================] - 4s 210ms/step - loss: 0.7891 - val_loss: 0.2832\n",
      "Epoch 51/1000\n",
      "21/21 [==============================] - 4s 209ms/step - loss: 0.8051 - val_loss: 0.3706\n",
      "Epoch 52/1000\n",
      "21/21 [==============================] - 4s 211ms/step - loss: 0.7841 - val_loss: 0.4655\n",
      "Epoch 53/1000\n",
      "21/21 [==============================] - 4s 211ms/step - loss: 0.7515 - val_loss: 0.3203\n",
      "Epoch 54/1000\n",
      "21/21 [==============================] - 4s 209ms/step - loss: 0.8412 - val_loss: 0.4002\n",
      "Epoch 55/1000\n",
      "21/21 [==============================] - 4s 212ms/step - loss: 0.8102 - val_loss: 0.2230\n",
      "Epoch 56/1000\n",
      "21/21 [==============================] - 4s 207ms/step - loss: 0.9406 - val_loss: 0.1901\n",
      "Epoch 57/1000\n",
      "21/21 [==============================] - 4s 211ms/step - loss: 0.7984 - val_loss: 0.2939\n",
      "Epoch 58/1000\n",
      "21/21 [==============================] - 4s 208ms/step - loss: 0.7515 - val_loss: 0.4704\n",
      "Epoch 59/1000\n",
      "21/21 [==============================] - 4s 205ms/step - loss: 0.7283 - val_loss: 0.1974\n",
      "Epoch 60/1000\n",
      "21/21 [==============================] - 4s 212ms/step - loss: 0.8242 - val_loss: 0.2056\n",
      "Epoch 61/1000\n",
      "21/21 [==============================] - 4s 207ms/step - loss: 0.7764 - val_loss: 0.5431\n",
      "Epoch 62/1000\n",
      "21/21 [==============================] - 5s 217ms/step - loss: 0.7842 - val_loss: 0.4360\n",
      "Epoch 63/1000\n",
      "21/21 [==============================] - 4s 207ms/step - loss: 0.8521 - val_loss: 0.1927\n",
      "Epoch 64/1000\n",
      "21/21 [==============================] - 4s 205ms/step - loss: 0.7152 - val_loss: 0.3672\n",
      "Epoch 65/1000\n",
      "21/21 [==============================] - 4s 208ms/step - loss: 0.7175 - val_loss: 0.2383\n",
      "Epoch 66/1000\n",
      "21/21 [==============================] - 4s 211ms/step - loss: 0.7182 - val_loss: 0.3173\n",
      "Epoch 67/1000\n",
      "21/21 [==============================] - 4s 210ms/step - loss: 0.6927 - val_loss: 0.3268\n",
      "Epoch 68/1000\n",
      "21/21 [==============================] - 4s 212ms/step - loss: 0.7698 - val_loss: 0.3066\n",
      "Epoch 69/1000\n",
      "21/21 [==============================] - 4s 209ms/step - loss: 0.7591 - val_loss: 0.2896\n",
      "Epoch 70/1000\n",
      "21/21 [==============================] - 4s 214ms/step - loss: 0.7289 - val_loss: 0.2095\n",
      "Epoch 71/1000\n",
      "21/21 [==============================] - 5s 215ms/step - loss: 0.7853 - val_loss: 0.2363\n",
      "Epoch 72/1000\n",
      "21/21 [==============================] - 4s 212ms/step - loss: 0.8355 - val_loss: 0.3454\n",
      "Epoch 73/1000\n",
      "21/21 [==============================] - 5s 216ms/step - loss: 0.6749 - val_loss: 0.3412\n",
      "Epoch 74/1000\n",
      "21/21 [==============================] - 5s 216ms/step - loss: 0.7800 - val_loss: 0.3443\n",
      "Epoch 75/1000\n",
      "21/21 [==============================] - 5s 215ms/step - loss: 0.8690 - val_loss: 0.2779\n",
      "Epoch 76/1000\n",
      "21/21 [==============================] - 5s 216ms/step - loss: 0.7453 - val_loss: 0.2905\n",
      "Epoch 77/1000\n",
      "21/21 [==============================] - 4s 209ms/step - loss: 0.6986 - val_loss: 0.3431\n",
      "Epoch 78/1000\n",
      "21/21 [==============================] - 4s 214ms/step - loss: 0.8825 - val_loss: 0.2761\n",
      "Epoch 79/1000\n",
      "21/21 [==============================] - 4s 211ms/step - loss: 0.7308 - val_loss: 0.2426\n",
      "Epoch 80/1000\n",
      "21/21 [==============================] - 5s 215ms/step - loss: 0.8372 - val_loss: 0.2414\n",
      "Epoch 81/1000\n",
      "21/21 [==============================] - 4s 211ms/step - loss: 0.8301 - val_loss: 0.3302\n",
      "Epoch 82/1000\n",
      "21/21 [==============================] - 4s 212ms/step - loss: 0.6810 - val_loss: 0.3025\n",
      "Epoch 83/1000\n",
      "21/21 [==============================] - 4s 214ms/step - loss: 0.6889 - val_loss: 0.3026\n",
      "Epoch 84/1000\n",
      "21/21 [==============================] - 4s 214ms/step - loss: 0.8099 - val_loss: 0.3087\n",
      "Epoch 85/1000\n",
      "21/21 [==============================] - 5s 220ms/step - loss: 0.7271 - val_loss: 0.2245\n",
      "Epoch 86/1000\n",
      "21/21 [==============================] - 5s 222ms/step - loss: 0.7071 - val_loss: 0.2837\n",
      "Epoch 87/1000\n",
      "21/21 [==============================] - 5s 217ms/step - loss: 0.7638 - val_loss: 0.3209\n",
      "Epoch 88/1000\n",
      "21/21 [==============================] - 5s 215ms/step - loss: 0.7533 - val_loss: 0.2564\n",
      "Epoch 89/1000\n",
      "21/21 [==============================] - 5s 219ms/step - loss: 0.8122 - val_loss: 0.3090\n",
      "Epoch 90/1000\n",
      "21/21 [==============================] - 4s 209ms/step - loss: 0.7768 - val_loss: 0.2956\n",
      "Epoch 91/1000\n",
      "21/21 [==============================] - 4s 211ms/step - loss: 0.8077 - val_loss: 0.2896\n",
      "Epoch 92/1000\n",
      "21/21 [==============================] - 4s 213ms/step - loss: 0.8099 - val_loss: 0.2875\n",
      "Epoch 93/1000\n",
      "21/21 [==============================] - 5s 218ms/step - loss: 0.7692 - val_loss: 0.2953\n",
      "Epoch 94/1000\n",
      "21/21 [==============================] - 4s 210ms/step - loss: 0.7466 - val_loss: 0.3017\n",
      "Epoch 95/1000\n",
      "21/21 [==============================] - 4s 206ms/step - loss: 0.8365 - val_loss: 0.2950\n",
      "Epoch 96/1000\n",
      "21/21 [==============================] - 4s 210ms/step - loss: 0.6898 - val_loss: 0.2987\n",
      "Epoch 97/1000\n",
      "21/21 [==============================] - 5s 219ms/step - loss: 0.7357 - val_loss: 0.3009\n",
      "Epoch 98/1000\n",
      "21/21 [==============================] - 4s 213ms/step - loss: 0.7553 - val_loss: 0.2957\n",
      "Epoch 99/1000\n",
      "21/21 [==============================] - 5s 232ms/step - loss: 0.8244 - val_loss: 0.2891\n",
      "Epoch 100/1000\n",
      "21/21 [==============================] - 5s 240ms/step - loss: 0.8058 - val_loss: 0.2939\n",
      "Epoch 101/1000\n",
      "21/21 [==============================] - 5s 219ms/step - loss: 0.8378 - val_loss: 0.2952\n",
      "Epoch 102/1000\n",
      "21/21 [==============================] - 4s 211ms/step - loss: 0.8033 - val_loss: 0.2929\n",
      "Epoch 103/1000\n",
      "21/21 [==============================] - 4s 210ms/step - loss: 0.7819 - val_loss: 0.2847\n",
      "Epoch 104/1000\n",
      "21/21 [==============================] - 4s 206ms/step - loss: 0.7477 - val_loss: 0.2892\n",
      "Epoch 105/1000\n",
      "21/21 [==============================] - 4s 211ms/step - loss: 0.7952 - val_loss: 0.2880\n",
      "Epoch 106/1000\n",
      "21/21 [==============================] - 4s 214ms/step - loss: 0.7789 - val_loss: 0.2903\n",
      "Epoch 107/1000\n",
      "21/21 [==============================] - 5s 217ms/step - loss: 0.6555 - val_loss: 0.2906\n",
      "Epoch 108/1000\n",
      "21/21 [==============================] - 5s 218ms/step - loss: 0.8063 - val_loss: 0.2944\n",
      "Epoch 109/1000\n",
      "21/21 [==============================] - 5s 216ms/step - loss: 0.8032 - val_loss: 0.2960\n",
      "Epoch 110/1000\n",
      "21/21 [==============================] - 4s 213ms/step - loss: 0.8131 - val_loss: 0.2909\n",
      "Epoch 111/1000\n",
      "21/21 [==============================] - 5s 216ms/step - loss: 0.8842 - val_loss: 0.2854\n",
      "Epoch 112/1000\n",
      "21/21 [==============================] - 4s 211ms/step - loss: 0.7638 - val_loss: 0.2864\n",
      "Epoch 113/1000\n",
      "21/21 [==============================] - 4s 212ms/step - loss: 0.8409 - val_loss: 0.2891\n",
      "Epoch 114/1000\n",
      "21/21 [==============================] - 4s 212ms/step - loss: 0.7426 - val_loss: 0.2961\n",
      "Epoch 115/1000\n",
      "21/21 [==============================] - 4s 211ms/step - loss: 0.7150 - val_loss: 0.2954\n",
      "Epoch 116/1000\n",
      "21/21 [==============================] - 4s 208ms/step - loss: 0.7608 - val_loss: 0.2954\n",
      "Epoch 117/1000\n",
      "21/21 [==============================] - 5s 219ms/step - loss: 0.7989 - val_loss: 0.2954\n",
      "Epoch 118/1000\n",
      "21/21 [==============================] - 5s 218ms/step - loss: 0.6959 - val_loss: 0.2962\n",
      "Epoch 119/1000\n",
      "21/21 [==============================] - 5s 215ms/step - loss: 0.8094 - val_loss: 0.2960\n",
      "Epoch 120/1000\n",
      "21/21 [==============================] - 5s 218ms/step - loss: 0.6868 - val_loss: 0.2970\n",
      "Epoch 121/1000\n",
      "21/21 [==============================] - 4s 212ms/step - loss: 0.8026 - val_loss: 0.2975\n",
      "Epoch 122/1000\n",
      "21/21 [==============================] - 4s 212ms/step - loss: 0.7295 - val_loss: 0.2969\n",
      "Epoch 123/1000\n",
      "21/21 [==============================] - 5s 216ms/step - loss: 0.7642 - val_loss: 0.2960\n",
      "Epoch 124/1000\n",
      "21/21 [==============================] - 4s 208ms/step - loss: 0.7550 - val_loss: 0.2968\n",
      "Epoch 125/1000\n",
      "21/21 [==============================] - 5s 215ms/step - loss: 0.6851 - val_loss: 0.2967\n",
      "Epoch 126/1000\n",
      "21/21 [==============================] - 5s 219ms/step - loss: 0.7261 - val_loss: 0.2963\n",
      "Epoch 127/1000\n",
      "21/21 [==============================] - 5s 248ms/step - loss: 0.7382 - val_loss: 0.2954\n",
      "Epoch 128/1000\n",
      "21/21 [==============================] - 5s 221ms/step - loss: 0.8927 - val_loss: 0.2941\n",
      "Epoch 129/1000\n",
      "21/21 [==============================] - 5s 226ms/step - loss: 0.7066 - val_loss: 0.2936\n",
      "Epoch 130/1000\n",
      "21/21 [==============================] - 5s 252ms/step - loss: 0.7147 - val_loss: 0.2943\n",
      "Epoch 131/1000\n",
      "21/21 [==============================] - 5s 225ms/step - loss: 0.8372 - val_loss: 0.2939\n",
      "Epoch 132/1000\n",
      "21/21 [==============================] - 5s 230ms/step - loss: 0.7604 - val_loss: 0.2942\n",
      "Epoch 133/1000\n",
      "21/21 [==============================] - 5s 228ms/step - loss: 0.8014 - val_loss: 0.2939\n",
      "Epoch 134/1000\n",
      "21/21 [==============================] - 6s 266ms/step - loss: 0.7083 - val_loss: 0.2942\n",
      "Epoch 135/1000\n",
      "21/21 [==============================] - 5s 253ms/step - loss: 0.8263 - val_loss: 0.2943\n",
      "Epoch 136/1000\n",
      "21/21 [==============================] - 5s 250ms/step - loss: 0.7648 - val_loss: 0.2948\n",
      "Epoch 137/1000\n",
      "21/21 [==============================] - 5s 242ms/step - loss: 0.7471 - val_loss: 0.2943\n",
      "Epoch 138/1000\n",
      "21/21 [==============================] - 5s 243ms/step - loss: 0.7323 - val_loss: 0.2936\n",
      "Epoch 139/1000\n",
      "21/21 [==============================] - ETA: 0s - loss: 0.8339Restoring model weights from the end of the best epoch.\n",
      "21/21 [==============================] - 5s 246ms/step - loss: 0.8339 - val_loss: 0.2924\n",
      "Epoch 00139: early stopping\n"
     ]
    }
   ],
   "source": [
    "# History object for plotting our model loss by epoch\n",
    "history = model.fit(x_train, y_train, batch_size = BATCH, \n",
    "                    epochs = EPOCHS, validation_data = (x_val, y_val),\n",
    "                    callbacks = [rlrop, early_stop])"
   ]
  },
  {
   "cell_type": "code",
   "execution_count": 28,
   "metadata": {
    "scrolled": false
   },
   "outputs": [
    {
     "data": {
      "image/png": "[encoded data removed]",
      "text/plain": [
       "<Figure size 720x504 with 1 Axes>"
      ]
     },
     "metadata": {
      "needs_background": "light"
     },
     "output_type": "display_data"
    }
   ],
   "source": [
    "# Loss History\n",
    "fig = plt.figure(figsize=(10, 7))\n",
    "plt.plot(history.history['loss'])\n",
    "plt.plot(history.history['val_loss'])\n",
    "plt.title('Model Loss')\n",
    "plt.ylabel('Loss')\n",
    "plt.xlabel('Epoch')\n",
    "plt.legend(['Train', 'Val'], loc='upper right')\n",
    "plt.show()"
   ]
  },
  {
   "cell_type": "markdown",
   "metadata": {},
   "source": [
    "### Previsão 12 meses em Validação"
   ]
  },
  {
   "cell_type": "code",
   "execution_count": 29,
   "metadata": {},
   "outputs": [
    {
     "data": {
      "text/plain": [
       "array([[1.0568830e+10],\n",
       "       [1.0058069e+10],\n",
       "       [1.0693411e+10],\n",
       "       [1.0115729e+10],\n",
       "       [1.0562783e+10],\n",
       "       [1.0560205e+10],\n",
       "       [1.0601537e+10],\n",
       "       [1.0905111e+10],\n",
       "       [1.0468176e+10],\n",
       "       [1.0495266e+10],\n",
       "       [1.0382969e+10],\n",
       "       [1.0402474e+10]], dtype=float32)"
      ]
     },
     "execution_count": 29,
     "metadata": {},
     "output_type": "execute_result"
    }
   ],
   "source": [
    "Y_pred_val = np.exp(model.predict(x_val))\n",
    "Y_pred_val"
   ]
  },
  {
   "cell_type": "code",
   "execution_count": 30,
   "metadata": {},
   "outputs": [
    {
     "data": {
      "text/plain": [
       "date\n",
       "2017-01-01    1.056883e+10\n",
       "2017-02-01    1.005807e+10\n",
       "2017-03-01    1.069341e+10\n",
       "2017-04-01    1.011573e+10\n",
       "2017-05-01    1.056278e+10\n",
       "2017-06-01    1.056020e+10\n",
       "2017-07-01    1.060154e+10\n",
       "2017-08-01    1.090511e+10\n",
       "2017-09-01    1.046818e+10\n",
       "2017-10-01    1.049527e+10\n",
       "2017-11-01    1.038297e+10\n",
       "2017-12-01    1.040247e+10\n",
       "dtype: float32"
      ]
     },
     "execution_count": 30,
     "metadata": {},
     "output_type": "execute_result"
    }
   ],
   "source": [
    "y_pred_val = pd.Series(Y_pred_val.ravel())\n",
    "y_pred_val.index = icms_val.index\n",
    "y_pred_val"
   ]
  },
  {
   "cell_type": "code",
   "execution_count": 31,
   "metadata": {},
   "outputs": [
    {
     "data": {
      "text/plain": [
       "array([1.07288637e+10, 9.73229992e+09, 1.00405142e+10, 1.06756770e+10,\n",
       "       1.01430329e+10, 1.05885139e+10, 1.03668949e+10, 1.06842583e+10,\n",
       "       1.08918637e+10, 1.10172135e+10, 1.12427319e+10, 1.14498878e+10])"
      ]
     },
     "execution_count": 31,
     "metadata": {},
     "output_type": "execute_result"
    }
   ],
   "source": [
    "np.exp(y_val).ravel()"
   ]
  },
  {
   "cell_type": "code",
   "execution_count": 32,
   "metadata": {},
   "outputs": [
    {
     "data": {
      "text/plain": [
       "535458113.96751666"
      ]
     },
     "execution_count": 32,
     "metadata": {},
     "output_type": "execute_result"
    }
   ],
   "source": [
    "RMSE_lstm_val = mean_squared_error(np.exp(y_val).ravel(), y_pred_val, squared=False)\n",
    "RMSE_lstm_val"
   ]
  },
  {
   "cell_type": "code",
   "execution_count": 33,
   "metadata": {},
   "outputs": [
    {
     "data": {
      "text/plain": [
       "0.04228778318224216"
      ]
     },
     "execution_count": 33,
     "metadata": {},
     "output_type": "execute_result"
    }
   ],
   "source": [
    "MAPE_lstm_val = mean_absolute_percentage_error(np.exp(y_val).ravel(), y_pred_val)\n",
    "MAPE_lstm_val"
   ]
  },
  {
   "cell_type": "code",
   "execution_count": 34,
   "metadata": {},
   "outputs": [],
   "source": [
    "previsoes['nome'].append('RNN-LSTM-Camadas')\n",
    "previsoes['modelo'].append(model)\n",
    "previsoes['previsoes'].append(y_pred_val)\n",
    "\n",
    "previsoes['rmse'].append(RMSE_lstm_val)\n",
    "\n",
    "previsoes['mape'].append(MAPE_lstm_val)"
   ]
  },
  {
   "cell_type": "code",
   "execution_count": 35,
   "metadata": {},
   "outputs": [],
   "source": [
    "previsoes['erro relativo'].append([erro_relativo(prev,real) \n",
    "                                   for prev,real in zip(y_pred_val, y_test)])"
   ]
  },
  {
   "cell_type": "markdown",
   "metadata": {},
   "source": [
    "## Arquitetura da Rede - Larga"
   ]
  },
  {
   "cell_type": "code",
   "execution_count": 36,
   "metadata": {},
   "outputs": [],
   "source": [
    "rlrop2 = ReduceLROnPlateau(monitor='val_loss', factor=0.1, patience=25)\n",
    "early_stop2 = EarlyStopping(monitor='val_loss', patience=100, verbose=1, \n",
    "                           restore_best_weights=True)"
   ]
  },
  {
   "cell_type": "code",
   "execution_count": 37,
   "metadata": {},
   "outputs": [],
   "source": [
    "# Épocas\n",
    "EPOCHS2 = 1000\n",
    "NEURONIOS2 = 600\n",
    "DROPOUT2 = 0.15\n",
    "LR2 = 1e-5\n",
    "BATCH2 = 8\n",
    "\n",
    "# Imstanciação do modelo\n",
    "model2 = Sequential()\n",
    "\n",
    "# Adicionar camada LSTM \n",
    "model2.add(LSTM(activation='tanh', dropout=DROPOUT2,\n",
    "        input_shape = (12, 1), return_sequences = False,\n",
    "        units = NEURONIOS2))\n",
    "\n",
    "# Adicionar a camada de saída com 1 neurônio linear\n",
    "model2.add(Dense(\n",
    "        units = 1,\n",
    "        activation = 'linear'))\n",
    "# a learning rate padrão do Adam é 0.001\n",
    "model2.compile(loss = 'mape', optimizer = Adam(learning_rate=LR2))"
   ]
  },
  {
   "cell_type": "code",
   "execution_count": 38,
   "metadata": {},
   "outputs": [
    {
     "name": "stdout",
     "output_type": "stream",
     "text": [
      "Model: \"sequential_1\"\n",
      "_________________________________________________________________\n",
      "Layer (type)                 Output Shape              Param #   \n",
      "=================================================================\n",
      "lstm_3 (LSTM)                (None, 600)               1444800   \n",
      "_________________________________________________________________\n",
      "dense_1 (Dense)              (None, 1)                 601       \n",
      "=================================================================\n",
      "Total params: 1,445,401\n",
      "Trainable params: 1,445,401\n",
      "Non-trainable params: 0\n",
      "_________________________________________________________________\n"
     ]
    }
   ],
   "source": [
    "model2.summary()"
   ]
  },
  {
   "cell_type": "code",
   "execution_count": 39,
   "metadata": {
    "scrolled": true
   },
   "outputs": [
    {
     "name": "stdout",
     "output_type": "stream",
     "text": [
      "Epoch 1/1000\n",
      "21/21 [==============================] - 2s 94ms/step - loss: 99.9284 - val_loss: 99.7199\n",
      "Epoch 2/1000\n",
      "21/21 [==============================] - 1s 50ms/step - loss: 99.6999 - val_loss: 99.3747\n",
      "Epoch 3/1000\n",
      "21/21 [==============================] - 1s 54ms/step - loss: 99.4562 - val_loss: 98.9898\n",
      "Epoch 4/1000\n",
      "21/21 [==============================] - 1s 53ms/step - loss: 99.1950 - val_loss: 98.5384\n",
      "Epoch 5/1000\n",
      "21/21 [==============================] - 1s 52ms/step - loss: 98.8458 - val_loss: 97.9660\n",
      "Epoch 6/1000\n",
      "21/21 [==============================] - 1s 50ms/step - loss: 98.4160 - val_loss: 97.1925\n",
      "Epoch 7/1000\n",
      "21/21 [==============================] - 1s 50ms/step - loss: 97.7883 - val_loss: 96.0251\n",
      "Epoch 8/1000\n",
      "21/21 [==============================] - 1s 54ms/step - loss: 96.8522 - val_loss: 94.1395\n",
      "Epoch 9/1000\n",
      "21/21 [==============================] - 1s 54ms/step - loss: 95.1521 - val_loss: 90.6286\n",
      "Epoch 10/1000\n",
      "21/21 [==============================] - 1s 51ms/step - loss: 92.0853 - val_loss: 82.9221\n",
      "Epoch 11/1000\n",
      "21/21 [==============================] - 1s 52ms/step - loss: 84.5406 - val_loss: 63.5444\n",
      "Epoch 12/1000\n",
      "21/21 [==============================] - 1s 58ms/step - loss: 66.1304 - val_loss: 29.6739\n",
      "Epoch 13/1000\n",
      "21/21 [==============================] - 1s 55ms/step - loss: 38.0657 - val_loss: 7.7116\n",
      "Epoch 14/1000\n",
      "21/21 [==============================] - 1s 53ms/step - loss: 13.9388 - val_loss: 3.0910\n",
      "Epoch 15/1000\n",
      "21/21 [==============================] - 1s 53ms/step - loss: 5.2210 - val_loss: 4.1514\n",
      "Epoch 16/1000\n",
      "21/21 [==============================] - 1s 53ms/step - loss: 3.3134 - val_loss: 0.3152\n",
      "Epoch 17/1000\n",
      "21/21 [==============================] - 1s 50ms/step - loss: 2.4921 - val_loss: 0.1860\n",
      "Epoch 18/1000\n",
      "21/21 [==============================] - 1s 52ms/step - loss: 2.2730 - val_loss: 0.4808\n",
      "Epoch 19/1000\n",
      "21/21 [==============================] - 1s 52ms/step - loss: 1.1936 - val_loss: 0.5081\n",
      "Epoch 20/1000\n",
      "21/21 [==============================] - 1s 52ms/step - loss: 1.4980 - val_loss: 0.6694\n",
      "Epoch 21/1000\n",
      "21/21 [==============================] - 1s 55ms/step - loss: 1.2098 - val_loss: 0.5335\n",
      "Epoch 22/1000\n",
      "21/21 [==============================] - 1s 51ms/step - loss: 1.3776 - val_loss: 0.4541\n",
      "Epoch 23/1000\n",
      "21/21 [==============================] - 1s 57ms/step - loss: 1.1880 - val_loss: 1.1200\n",
      "Epoch 24/1000\n",
      "21/21 [==============================] - 1s 60ms/step - loss: 0.9622 - val_loss: 0.6745\n",
      "Epoch 25/1000\n",
      "21/21 [==============================] - 1s 56ms/step - loss: 1.1244 - val_loss: 0.7036\n",
      "Epoch 26/1000\n",
      "21/21 [==============================] - 1s 66ms/step - loss: 1.1303 - val_loss: 0.7908\n",
      "Epoch 27/1000\n",
      "21/21 [==============================] - 1s 65ms/step - loss: 1.1167 - val_loss: 0.7543\n",
      "Epoch 28/1000\n",
      "21/21 [==============================] - 1s 68ms/step - loss: 1.1322 - val_loss: 0.7058\n",
      "Epoch 29/1000\n",
      "21/21 [==============================] - 1s 62ms/step - loss: 1.0054 - val_loss: 0.8475\n",
      "Epoch 30/1000\n",
      "21/21 [==============================] - 1s 55ms/step - loss: 0.9949 - val_loss: 0.8032\n",
      "Epoch 31/1000\n",
      "21/21 [==============================] - 1s 62ms/step - loss: 1.1723 - val_loss: 0.7480\n",
      "Epoch 32/1000\n",
      "21/21 [==============================] - 1s 61ms/step - loss: 1.2311 - val_loss: 0.8635\n",
      "Epoch 33/1000\n",
      "21/21 [==============================] - 1s 66ms/step - loss: 1.2780 - val_loss: 0.7771\n",
      "Epoch 34/1000\n",
      "21/21 [==============================] - 1s 68ms/step - loss: 1.1112 - val_loss: 0.9583\n",
      "Epoch 35/1000\n",
      "21/21 [==============================] - 1s 63ms/step - loss: 0.9964 - val_loss: 0.9646\n",
      "Epoch 36/1000\n",
      "21/21 [==============================] - 1s 69ms/step - loss: 1.0849 - val_loss: 0.8259\n",
      "Epoch 37/1000\n",
      "21/21 [==============================] - 1s 66ms/step - loss: 1.1224 - val_loss: 0.8393\n",
      "Epoch 38/1000\n",
      "21/21 [==============================] - 1s 70ms/step - loss: 1.0483 - val_loss: 0.7823\n",
      "Epoch 39/1000\n",
      "21/21 [==============================] - 1s 58ms/step - loss: 1.0917 - val_loss: 0.9260\n",
      "Epoch 40/1000\n",
      "21/21 [==============================] - 2s 73ms/step - loss: 0.9314 - val_loss: 0.8137\n",
      "Epoch 41/1000\n",
      "21/21 [==============================] - 1s 57ms/step - loss: 1.0467 - val_loss: 0.8223\n",
      "Epoch 42/1000\n",
      "21/21 [==============================] - 1s 58ms/step - loss: 1.0321 - val_loss: 0.7411\n",
      "Epoch 43/1000\n",
      "21/21 [==============================] - 1s 52ms/step - loss: 0.9907 - val_loss: 0.8033\n",
      "Epoch 44/1000\n",
      "21/21 [==============================] - 1s 68ms/step - loss: 0.9040 - val_loss: 0.8194\n",
      "Epoch 45/1000\n",
      "21/21 [==============================] - 1s 57ms/step - loss: 0.9214 - val_loss: 0.8204\n",
      "Epoch 46/1000\n",
      "21/21 [==============================] - 1s 55ms/step - loss: 0.8985 - val_loss: 0.8259\n",
      "Epoch 47/1000\n",
      "21/21 [==============================] - 1s 55ms/step - loss: 1.0369 - val_loss: 0.8094\n",
      "Epoch 48/1000\n",
      "21/21 [==============================] - 1s 53ms/step - loss: 0.9738 - val_loss: 0.8298\n",
      "Epoch 49/1000\n",
      "21/21 [==============================] - 1s 52ms/step - loss: 0.9917 - val_loss: 0.8132\n",
      "Epoch 50/1000\n",
      "21/21 [==============================] - 1s 58ms/step - loss: 1.0058 - val_loss: 0.7994\n",
      "Epoch 51/1000\n",
      "21/21 [==============================] - 1s 49ms/step - loss: 0.9749 - val_loss: 0.8353\n",
      "Epoch 52/1000\n",
      "21/21 [==============================] - 1s 53ms/step - loss: 1.2031 - val_loss: 0.8347\n",
      "Epoch 53/1000\n",
      "21/21 [==============================] - 1s 57ms/step - loss: 0.9288 - val_loss: 0.8394\n",
      "Epoch 54/1000\n",
      "21/21 [==============================] - 1s 51ms/step - loss: 1.0044 - val_loss: 0.8164\n",
      "Epoch 55/1000\n",
      "21/21 [==============================] - 1s 61ms/step - loss: 1.0343 - val_loss: 0.8089\n",
      "Epoch 56/1000\n",
      "21/21 [==============================] - 1s 58ms/step - loss: 1.0206 - val_loss: 0.8120\n",
      "Epoch 57/1000\n",
      "21/21 [==============================] - 1s 58ms/step - loss: 0.9080 - val_loss: 0.8304\n",
      "Epoch 58/1000\n",
      "21/21 [==============================] - 1s 58ms/step - loss: 0.9118 - val_loss: 0.8326\n",
      "Epoch 59/1000\n",
      "21/21 [==============================] - 2s 80ms/step - loss: 1.0116 - val_loss: 0.8512\n",
      "Epoch 60/1000\n",
      "21/21 [==============================] - 1s 63ms/step - loss: 1.0559 - val_loss: 0.8678\n",
      "Epoch 61/1000\n",
      "21/21 [==============================] - 1s 53ms/step - loss: 0.9604 - val_loss: 0.8770\n",
      "Epoch 62/1000\n",
      "21/21 [==============================] - 1s 51ms/step - loss: 1.0106 - val_loss: 0.9008\n",
      "Epoch 63/1000\n",
      "21/21 [==============================] - 1s 66ms/step - loss: 0.9241 - val_loss: 0.8899\n",
      "Epoch 64/1000\n",
      "21/21 [==============================] - 2s 73ms/step - loss: 0.9396 - val_loss: 0.8634\n",
      "Epoch 65/1000\n",
      "21/21 [==============================] - 1s 59ms/step - loss: 0.9609 - val_loss: 0.8490\n",
      "Epoch 66/1000\n",
      "21/21 [==============================] - 1s 54ms/step - loss: 0.9443 - val_loss: 0.8555\n",
      "Epoch 67/1000\n",
      "21/21 [==============================] - 1s 56ms/step - loss: 0.9152 - val_loss: 0.8539\n",
      "Epoch 68/1000\n",
      "21/21 [==============================] - 1s 54ms/step - loss: 1.0493 - val_loss: 0.8546\n",
      "Epoch 69/1000\n",
      "21/21 [==============================] - 1s 52ms/step - loss: 1.0577 - val_loss: 0.8562\n",
      "Epoch 70/1000\n",
      "21/21 [==============================] - 1s 52ms/step - loss: 1.0042 - val_loss: 0.8539\n",
      "Epoch 71/1000\n",
      "21/21 [==============================] - 1s 65ms/step - loss: 0.9995 - val_loss: 0.8492\n",
      "Epoch 72/1000\n",
      "21/21 [==============================] - 1s 57ms/step - loss: 1.0104 - val_loss: 0.8517\n",
      "Epoch 73/1000\n",
      "21/21 [==============================] - 1s 54ms/step - loss: 0.9772 - val_loss: 0.8509\n",
      "Epoch 74/1000\n",
      "21/21 [==============================] - 1s 53ms/step - loss: 0.9967 - val_loss: 0.8469\n",
      "Epoch 75/1000\n",
      "21/21 [==============================] - 1s 51ms/step - loss: 0.9422 - val_loss: 0.8453\n",
      "Epoch 76/1000\n",
      "21/21 [==============================] - 1s 54ms/step - loss: 1.0521 - val_loss: 0.8469\n",
      "Epoch 77/1000\n",
      "21/21 [==============================] - 1s 56ms/step - loss: 0.8956 - val_loss: 0.8485\n",
      "Epoch 78/1000\n",
      "21/21 [==============================] - 1s 53ms/step - loss: 0.9082 - val_loss: 0.8458\n",
      "Epoch 79/1000\n",
      "21/21 [==============================] - 1s 54ms/step - loss: 0.9255 - val_loss: 0.8450\n",
      "Epoch 80/1000\n",
      "21/21 [==============================] - 1s 55ms/step - loss: 1.0084 - val_loss: 0.8392\n",
      "Epoch 81/1000\n",
      "21/21 [==============================] - 1s 54ms/step - loss: 0.9814 - val_loss: 0.8376\n",
      "Epoch 82/1000\n",
      "21/21 [==============================] - 1s 55ms/step - loss: 0.9521 - val_loss: 0.8369\n",
      "Epoch 83/1000\n",
      "21/21 [==============================] - 1s 69ms/step - loss: 1.0283 - val_loss: 0.8367\n",
      "Epoch 84/1000\n",
      "21/21 [==============================] - 1s 55ms/step - loss: 1.1422 - val_loss: 0.8365\n",
      "Epoch 85/1000\n",
      "21/21 [==============================] - 1s 55ms/step - loss: 0.9261 - val_loss: 0.8366\n",
      "Epoch 86/1000\n",
      "21/21 [==============================] - 1s 52ms/step - loss: 0.9197 - val_loss: 0.8381\n",
      "Epoch 87/1000\n",
      "21/21 [==============================] - 1s 52ms/step - loss: 0.9530 - val_loss: 0.8394\n",
      "Epoch 88/1000\n",
      "21/21 [==============================] - 1s 52ms/step - loss: 0.7951 - val_loss: 0.8384\n",
      "Epoch 89/1000\n",
      "21/21 [==============================] - 1s 52ms/step - loss: 1.0452 - val_loss: 0.8350\n",
      "Epoch 90/1000\n",
      "21/21 [==============================] - 1s 54ms/step - loss: 0.9741 - val_loss: 0.8307\n",
      "Epoch 91/1000\n",
      "21/21 [==============================] - 1s 53ms/step - loss: 0.9292 - val_loss: 0.8277\n",
      "Epoch 92/1000\n",
      "21/21 [==============================] - 1s 52ms/step - loss: 0.9662 - val_loss: 0.8275\n",
      "Epoch 93/1000\n",
      "21/21 [==============================] - 1s 55ms/step - loss: 1.0760 - val_loss: 0.8276\n",
      "Epoch 94/1000\n",
      "21/21 [==============================] - 1s 55ms/step - loss: 1.0313 - val_loss: 0.8277\n",
      "Epoch 95/1000\n",
      "21/21 [==============================] - 1s 54ms/step - loss: 0.9314 - val_loss: 0.8281\n",
      "Epoch 96/1000\n",
      "21/21 [==============================] - 1s 52ms/step - loss: 1.0153 - val_loss: 0.8276\n",
      "Epoch 97/1000\n",
      "21/21 [==============================] - 1s 51ms/step - loss: 1.0417 - val_loss: 0.8273\n",
      "Epoch 98/1000\n",
      "21/21 [==============================] - 1s 52ms/step - loss: 1.0615 - val_loss: 0.8267\n",
      "Epoch 99/1000\n",
      "21/21 [==============================] - 1s 53ms/step - loss: 1.0095 - val_loss: 0.8267\n",
      "Epoch 100/1000\n",
      "21/21 [==============================] - 1s 71ms/step - loss: 0.9520 - val_loss: 0.8268\n",
      "Epoch 101/1000\n",
      "21/21 [==============================] - 1s 71ms/step - loss: 0.9506 - val_loss: 0.8272\n",
      "Epoch 102/1000\n",
      "21/21 [==============================] - 1s 59ms/step - loss: 0.8929 - val_loss: 0.8269\n",
      "Epoch 103/1000\n",
      "21/21 [==============================] - 1s 55ms/step - loss: 0.8866 - val_loss: 0.8267\n",
      "Epoch 104/1000\n",
      "21/21 [==============================] - 1s 53ms/step - loss: 0.9037 - val_loss: 0.8265\n",
      "Epoch 105/1000\n",
      "21/21 [==============================] - 1s 54ms/step - loss: 1.0269 - val_loss: 0.8264\n",
      "Epoch 106/1000\n",
      "21/21 [==============================] - 1s 62ms/step - loss: 0.8282 - val_loss: 0.8265\n",
      "Epoch 107/1000\n",
      "21/21 [==============================] - 1s 56ms/step - loss: 1.0007 - val_loss: 0.8267\n",
      "Epoch 108/1000\n",
      "21/21 [==============================] - 1s 54ms/step - loss: 1.0224 - val_loss: 0.8269\n",
      "Epoch 109/1000\n",
      "21/21 [==============================] - 1s 52ms/step - loss: 1.1134 - val_loss: 0.8267\n",
      "Epoch 110/1000\n",
      "21/21 [==============================] - 1s 59ms/step - loss: 0.9171 - val_loss: 0.8267\n",
      "Epoch 111/1000\n",
      "21/21 [==============================] - 1s 62ms/step - loss: 1.0918 - val_loss: 0.8267\n",
      "Epoch 112/1000\n",
      "21/21 [==============================] - 1s 56ms/step - loss: 0.9785 - val_loss: 0.8268\n",
      "Epoch 113/1000\n",
      "21/21 [==============================] - 1s 54ms/step - loss: 0.9862 - val_loss: 0.8266\n",
      "Epoch 114/1000\n",
      "21/21 [==============================] - 1s 53ms/step - loss: 0.9155 - val_loss: 0.8266\n",
      "Epoch 115/1000\n",
      "21/21 [==============================] - 1s 53ms/step - loss: 0.9748 - val_loss: 0.8266\n",
      "Epoch 116/1000\n",
      "21/21 [==============================] - 1s 60ms/step - loss: 0.9696 - val_loss: 0.8263\n",
      "Epoch 117/1000\n",
      "21/21 [==============================] - ETA: 0s - loss: 1.1043Restoring model weights from the end of the best epoch.\n",
      "21/21 [==============================] - 1s 53ms/step - loss: 1.1043 - val_loss: 0.8263\n",
      "Epoch 00117: early stopping\n"
     ]
    }
   ],
   "source": [
    "# History object for plotting our model loss by epoch\n",
    "history2 = model2.fit(x_train, y_train, batch_size = BATCH2, \n",
    "                    epochs = EPOCHS2, validation_data = (x_val, y_val),\n",
    "                    callbacks = [rlrop2, early_stop2])"
   ]
  },
  {
   "cell_type": "code",
   "execution_count": 40,
   "metadata": {
    "scrolled": false
   },
   "outputs": [
    {
     "data": {
      "image/png": "[encoded data removed]",
      "text/plain": [
       "<Figure size 720x504 with 1 Axes>"
      ]
     },
     "metadata": {
      "needs_background": "light"
     },
     "output_type": "display_data"
    }
   ],
   "source": [
    "# Loss History\n",
    "fig = plt.figure(figsize=(10, 7))\n",
    "plt.plot(history2.history['loss'])\n",
    "plt.plot(history2.history['val_loss'])\n",
    "plt.title('Model Loss')\n",
    "plt.ylabel('Loss')\n",
    "plt.xlabel('Epoch')\n",
    "plt.legend(['Train', 'Val'], loc='upper right')\n",
    "plt.show()"
   ]
  },
  {
   "cell_type": "markdown",
   "metadata": {},
   "source": [
    "### Previsão 12 meses em Validação"
   ]
  },
  {
   "cell_type": "code",
   "execution_count": 41,
   "metadata": {},
   "outputs": [
    {
     "data": {
      "text/plain": [
       "array([[1.0475966e+10],\n",
       "       [9.9994409e+09],\n",
       "       [1.0895859e+10],\n",
       "       [1.0230734e+10],\n",
       "       [1.0709209e+10],\n",
       "       [1.0636272e+10],\n",
       "       [1.0634406e+10],\n",
       "       [1.0878042e+10],\n",
       "       [1.0402911e+10],\n",
       "       [1.0554024e+10],\n",
       "       [1.0509509e+10],\n",
       "       [1.0551990e+10]], dtype=float32)"
      ]
     },
     "execution_count": 41,
     "metadata": {},
     "output_type": "execute_result"
    }
   ],
   "source": [
    "Y_pred_val2 = np.exp(model2.predict(x_val))\n",
    "Y_pred_val2"
   ]
  },
  {
   "cell_type": "code",
   "execution_count": 42,
   "metadata": {},
   "outputs": [
    {
     "data": {
      "text/plain": [
       "date\n",
       "2017-01-01    1.047597e+10\n",
       "2017-02-01    9.999441e+09\n",
       "2017-03-01    1.089586e+10\n",
       "2017-04-01    1.023073e+10\n",
       "2017-05-01    1.070921e+10\n",
       "2017-06-01    1.063627e+10\n",
       "2017-07-01    1.063441e+10\n",
       "2017-08-01    1.087804e+10\n",
       "2017-09-01    1.040291e+10\n",
       "2017-10-01    1.055402e+10\n",
       "2017-11-01    1.050951e+10\n",
       "2017-12-01    1.055199e+10\n",
       "dtype: float32"
      ]
     },
     "execution_count": 42,
     "metadata": {},
     "output_type": "execute_result"
    }
   ],
   "source": [
    "y_pred_val2 = pd.Series(Y_pred_val2.ravel())\n",
    "y_pred_val2.index = icms_val.index\n",
    "y_pred_val2"
   ]
  },
  {
   "cell_type": "code",
   "execution_count": 43,
   "metadata": {},
   "outputs": [
    {
     "data": {
      "text/plain": [
       "array([1.07288637e+10, 9.73229992e+09, 1.00405142e+10, 1.06756770e+10,\n",
       "       1.01430329e+10, 1.05885139e+10, 1.03668949e+10, 1.06842583e+10,\n",
       "       1.08918637e+10, 1.10172135e+10, 1.12427319e+10, 1.14498878e+10])"
      ]
     },
     "execution_count": 43,
     "metadata": {},
     "output_type": "execute_result"
    }
   ],
   "source": [
    "np.exp(y_val).ravel()"
   ]
  },
  {
   "cell_type": "code",
   "execution_count": 44,
   "metadata": {},
   "outputs": [
    {
     "data": {
      "text/plain": [
       "523952601.85569966"
      ]
     },
     "execution_count": 44,
     "metadata": {},
     "output_type": "execute_result"
    }
   ],
   "source": [
    "RMSE_lstm_val2 = mean_squared_error(np.exp(y_val).ravel(), y_pred_val2, squared=False)\n",
    "RMSE_lstm_val2"
   ]
  },
  {
   "cell_type": "code",
   "execution_count": 45,
   "metadata": {},
   "outputs": [
    {
     "data": {
      "text/plain": [
       "0.04272754279066624"
      ]
     },
     "execution_count": 45,
     "metadata": {},
     "output_type": "execute_result"
    }
   ],
   "source": [
    "MAPE_lstm_val2 = mean_absolute_percentage_error(np.exp(y_val).ravel(), y_pred_val2)\n",
    "MAPE_lstm_val2"
   ]
  },
  {
   "cell_type": "code",
   "execution_count": 46,
   "metadata": {},
   "outputs": [],
   "source": [
    "previsoes['nome'].append('RNN-LSTM-Larga')\n",
    "previsoes['modelo'].append(model2)\n",
    "previsoes['previsoes'].append(y_pred_val2)\n",
    "\n",
    "previsoes['rmse'].append(RMSE_lstm_val2)\n",
    "\n",
    "previsoes['mape'].append(MAPE_lstm_val2)"
   ]
  },
  {
   "cell_type": "code",
   "execution_count": 47,
   "metadata": {},
   "outputs": [],
   "source": [
    "previsoes['erro relativo'].append([erro_relativo(prev,real) \n",
    "                                   for prev,real in zip(y_pred_val2, y_test)])"
   ]
  },
  {
   "cell_type": "markdown",
   "metadata": {},
   "source": [
    "## Resultados"
   ]
  },
  {
   "cell_type": "code",
   "execution_count": 48,
   "metadata": {},
   "outputs": [],
   "source": [
    "df_prev = pd.DataFrame(data=previsoes['previsoes'], \n",
    "                       index=previsoes['nome']).transpose()\n",
    "df_prev[\"real\"] = icms_val\n",
    "df_rmse = pd.DataFrame(data=previsoes['rmse'], \n",
    "                       index=previsoes['nome']).transpose()\n",
    "df_mape = pd.DataFrame(data=previsoes['mape'], \n",
    "                       index=previsoes['nome']).transpose()\n",
    "df_erro = pd.DataFrame(data=previsoes['erro relativo'], \n",
    "                       index=previsoes['nome']).transpose()"
   ]
  },
  {
   "cell_type": "code",
   "execution_count": 49,
   "metadata": {},
   "outputs": [
    {
     "data": {
      "text/html": [
       "<div>\n",
       "<style scoped>\n",
       "    .dataframe tbody tr th:only-of-type {\n",
       "        vertical-align: middle;\n",
       "    }\n",
       "\n",
       "    .dataframe tbody tr th {\n",
       "        vertical-align: top;\n",
       "    }\n",
       "\n",
       "    .dataframe thead th {\n",
       "        text-align: right;\n",
       "    }\n",
       "</style>\n",
       "<table border=\"1\" class=\"dataframe\">\n",
       "  <thead>\n",
       "    <tr style=\"text-align: right;\">\n",
       "      <th></th>\n",
       "      <th>RNN-LSTM-Camadas</th>\n",
       "      <th>RNN-LSTM-Larga</th>\n",
       "      <th>real</th>\n",
       "    </tr>\n",
       "    <tr>\n",
       "      <th>date</th>\n",
       "      <th></th>\n",
       "      <th></th>\n",
       "      <th></th>\n",
       "    </tr>\n",
       "  </thead>\n",
       "  <tbody>\n",
       "    <tr>\n",
       "      <th>2017-01-01</th>\n",
       "      <td>1.056883e+10</td>\n",
       "      <td>1.047597e+10</td>\n",
       "      <td>1.072886e+10</td>\n",
       "    </tr>\n",
       "    <tr>\n",
       "      <th>2017-02-01</th>\n",
       "      <td>1.005807e+10</td>\n",
       "      <td>9.999441e+09</td>\n",
       "      <td>9.732300e+09</td>\n",
       "    </tr>\n",
       "    <tr>\n",
       "      <th>2017-03-01</th>\n",
       "      <td>1.069341e+10</td>\n",
       "      <td>1.089586e+10</td>\n",
       "      <td>1.004051e+10</td>\n",
       "    </tr>\n",
       "    <tr>\n",
       "      <th>2017-04-01</th>\n",
       "      <td>1.011573e+10</td>\n",
       "      <td>1.023073e+10</td>\n",
       "      <td>1.067568e+10</td>\n",
       "    </tr>\n",
       "    <tr>\n",
       "      <th>2017-05-01</th>\n",
       "      <td>1.056278e+10</td>\n",
       "      <td>1.070921e+10</td>\n",
       "      <td>1.014303e+10</td>\n",
       "    </tr>\n",
       "    <tr>\n",
       "      <th>2017-06-01</th>\n",
       "      <td>1.056020e+10</td>\n",
       "      <td>1.063627e+10</td>\n",
       "      <td>1.058851e+10</td>\n",
       "    </tr>\n",
       "    <tr>\n",
       "      <th>2017-07-01</th>\n",
       "      <td>1.060154e+10</td>\n",
       "      <td>1.063441e+10</td>\n",
       "      <td>1.036689e+10</td>\n",
       "    </tr>\n",
       "    <tr>\n",
       "      <th>2017-08-01</th>\n",
       "      <td>1.090511e+10</td>\n",
       "      <td>1.087804e+10</td>\n",
       "      <td>1.068426e+10</td>\n",
       "    </tr>\n",
       "    <tr>\n",
       "      <th>2017-09-01</th>\n",
       "      <td>1.046818e+10</td>\n",
       "      <td>1.040291e+10</td>\n",
       "      <td>1.089186e+10</td>\n",
       "    </tr>\n",
       "    <tr>\n",
       "      <th>2017-10-01</th>\n",
       "      <td>1.049527e+10</td>\n",
       "      <td>1.055402e+10</td>\n",
       "      <td>1.101721e+10</td>\n",
       "    </tr>\n",
       "    <tr>\n",
       "      <th>2017-11-01</th>\n",
       "      <td>1.038297e+10</td>\n",
       "      <td>1.050951e+10</td>\n",
       "      <td>1.124273e+10</td>\n",
       "    </tr>\n",
       "    <tr>\n",
       "      <th>2017-12-01</th>\n",
       "      <td>1.040247e+10</td>\n",
       "      <td>1.055199e+10</td>\n",
       "      <td>1.144989e+10</td>\n",
       "    </tr>\n",
       "  </tbody>\n",
       "</table>\n",
       "</div>"
      ],
      "text/plain": [
       "            RNN-LSTM-Camadas  RNN-LSTM-Larga          real\n",
       "date                                                      \n",
       "2017-01-01      1.056883e+10    1.047597e+10  1.072886e+10\n",
       "2017-02-01      1.005807e+10    9.999441e+09  9.732300e+09\n",
       "2017-03-01      1.069341e+10    1.089586e+10  1.004051e+10\n",
       "2017-04-01      1.011573e+10    1.023073e+10  1.067568e+10\n",
       "2017-05-01      1.056278e+10    1.070921e+10  1.014303e+10\n",
       "2017-06-01      1.056020e+10    1.063627e+10  1.058851e+10\n",
       "2017-07-01      1.060154e+10    1.063441e+10  1.036689e+10\n",
       "2017-08-01      1.090511e+10    1.087804e+10  1.068426e+10\n",
       "2017-09-01      1.046818e+10    1.040291e+10  1.089186e+10\n",
       "2017-10-01      1.049527e+10    1.055402e+10  1.101721e+10\n",
       "2017-11-01      1.038297e+10    1.050951e+10  1.124273e+10\n",
       "2017-12-01      1.040247e+10    1.055199e+10  1.144989e+10"
      ]
     },
     "execution_count": 49,
     "metadata": {},
     "output_type": "execute_result"
    }
   ],
   "source": [
    "df_prev"
   ]
  },
  {
   "cell_type": "code",
   "execution_count": 50,
   "metadata": {},
   "outputs": [
    {
     "data": {
      "text/html": [
       "<div>\n",
       "<style scoped>\n",
       "    .dataframe tbody tr th:only-of-type {\n",
       "        vertical-align: middle;\n",
       "    }\n",
       "\n",
       "    .dataframe tbody tr th {\n",
       "        vertical-align: top;\n",
       "    }\n",
       "\n",
       "    .dataframe thead th {\n",
       "        text-align: right;\n",
       "    }\n",
       "</style>\n",
       "<table border=\"1\" class=\"dataframe\">\n",
       "  <thead>\n",
       "    <tr style=\"text-align: right;\">\n",
       "      <th></th>\n",
       "      <th>RNN-LSTM-Camadas</th>\n",
       "      <th>RNN-LSTM-Larga</th>\n",
       "    </tr>\n",
       "  </thead>\n",
       "  <tbody>\n",
       "    <tr>\n",
       "      <th>0</th>\n",
       "      <td>[9.809615659322382]</td>\n",
       "      <td>[10.602077427746519]</td>\n",
       "    </tr>\n",
       "    <tr>\n",
       "      <th>1</th>\n",
       "      <td>[4.712988341262499]</td>\n",
       "      <td>[5.268412654967742]</td>\n",
       "    </tr>\n",
       "    <tr>\n",
       "      <th>2</th>\n",
       "      <td>[1.7347344986711843]</td>\n",
       "      <td>[3.66077857030867]</td>\n",
       "    </tr>\n",
       "    <tr>\n",
       "      <th>3</th>\n",
       "      <td>[11.852911500217225]</td>\n",
       "      <td>[10.850778680511631]</td>\n",
       "    </tr>\n",
       "    <tr>\n",
       "      <th>4</th>\n",
       "      <td>[4.679599932320552]</td>\n",
       "      <td>[3.358227442928883]</td>\n",
       "    </tr>\n",
       "    <tr>\n",
       "      <th>5</th>\n",
       "      <td>[1.8749011264795248]</td>\n",
       "      <td>[1.1680906069530579]</td>\n",
       "    </tr>\n",
       "    <tr>\n",
       "      <th>6</th>\n",
       "      <td>[7.508841464380964]</td>\n",
       "      <td>[7.222078629282324]</td>\n",
       "    </tr>\n",
       "    <tr>\n",
       "      <th>7</th>\n",
       "      <td>[5.780425488616809]</td>\n",
       "      <td>[6.01429516207576]</td>\n",
       "    </tr>\n",
       "    <tr>\n",
       "      <th>8</th>\n",
       "      <td>[9.528405086953489]</td>\n",
       "      <td>[10.092457138086798]</td>\n",
       "    </tr>\n",
       "    <tr>\n",
       "      <th>9</th>\n",
       "      <td>[10.769904730737355]</td>\n",
       "      <td>[10.270346654660662]</td>\n",
       "    </tr>\n",
       "    <tr>\n",
       "      <th>10</th>\n",
       "      <td>[9.723962933836587]</td>\n",
       "      <td>[8.62374683058555]</td>\n",
       "    </tr>\n",
       "    <tr>\n",
       "      <th>11</th>\n",
       "      <td>[13.079966848041488]</td>\n",
       "      <td>[11.830652432095166]</td>\n",
       "    </tr>\n",
       "  </tbody>\n",
       "</table>\n",
       "</div>"
      ],
      "text/plain": [
       "        RNN-LSTM-Camadas        RNN-LSTM-Larga\n",
       "0    [9.809615659322382]  [10.602077427746519]\n",
       "1    [4.712988341262499]   [5.268412654967742]\n",
       "2   [1.7347344986711843]    [3.66077857030867]\n",
       "3   [11.852911500217225]  [10.850778680511631]\n",
       "4    [4.679599932320552]   [3.358227442928883]\n",
       "5   [1.8749011264795248]  [1.1680906069530579]\n",
       "6    [7.508841464380964]   [7.222078629282324]\n",
       "7    [5.780425488616809]    [6.01429516207576]\n",
       "8    [9.528405086953489]  [10.092457138086798]\n",
       "9   [10.769904730737355]  [10.270346654660662]\n",
       "10   [9.723962933836587]    [8.62374683058555]\n",
       "11  [13.079966848041488]  [11.830652432095166]"
      ]
     },
     "execution_count": 50,
     "metadata": {},
     "output_type": "execute_result"
    }
   ],
   "source": [
    "df_erro"
   ]
  },
  {
   "cell_type": "markdown",
   "metadata": {},
   "source": [
    "### Resultados"
   ]
  },
  {
   "cell_type": "code",
   "execution_count": 51,
   "metadata": {
    "scrolled": false
   },
   "outputs": [
    {
     "data": {
      "image/png": "[encoded data removed]",
      "text/plain": [
       "<Figure size 1080x720 with 1 Axes>"
      ]
     },
     "metadata": {
      "needs_background": "light"
     },
     "output_type": "display_data"
    }
   ],
   "source": [
    "fig = plt.figure(figsize=(15, 10))\n",
    "ax = sns.lineplot(data=df_prev)"
   ]
  },
  {
   "cell_type": "markdown",
   "metadata": {},
   "source": [
    "#### RMSE"
   ]
  },
  {
   "cell_type": "code",
   "execution_count": 52,
   "metadata": {},
   "outputs": [
    {
     "data": {
      "image/png": "[encoded data removed]",
      "text/plain": [
       "<Figure size 1080x720 with 1 Axes>"
      ]
     },
     "metadata": {
      "needs_background": "light"
     },
     "output_type": "display_data"
    }
   ],
   "source": [
    "fig = plt.figure(figsize=(15, 10))\n",
    "ax = sns.barplot(data=df_rmse)"
   ]
  },
  {
   "cell_type": "markdown",
   "metadata": {},
   "source": [
    "#### MAPE"
   ]
  },
  {
   "cell_type": "code",
   "execution_count": 53,
   "metadata": {
    "scrolled": false
   },
   "outputs": [
    {
     "data": {
      "image/png": "[encoded data removed]",
      "text/plain": [
       "<Figure size 1080x720 with 1 Axes>"
      ]
     },
     "metadata": {
      "needs_background": "light"
     },
     "output_type": "display_data"
    }
   ],
   "source": [
    "fig = plt.figure(figsize=(15, 10))\n",
    "ax = sns.barplot(data=df_mape)"
   ]
  },
  {
   "cell_type": "markdown",
   "metadata": {},
   "source": [
    "### Resumo das métricas"
   ]
  },
  {
   "cell_type": "code",
   "execution_count": 54,
   "metadata": {},
   "outputs": [],
   "source": [
    "df_rmse.index = ['RMSE']\n",
    "df_mape.index = ['MAPE']"
   ]
  },
  {
   "cell_type": "code",
   "execution_count": 55,
   "metadata": {},
   "outputs": [
    {
     "data": {
      "text/html": [
       "<div>\n",
       "<style scoped>\n",
       "    .dataframe tbody tr th:only-of-type {\n",
       "        vertical-align: middle;\n",
       "    }\n",
       "\n",
       "    .dataframe tbody tr th {\n",
       "        vertical-align: top;\n",
       "    }\n",
       "\n",
       "    .dataframe thead th {\n",
       "        text-align: right;\n",
       "    }\n",
       "</style>\n",
       "<table border=\"1\" class=\"dataframe\">\n",
       "  <thead>\n",
       "    <tr style=\"text-align: right;\">\n",
       "      <th></th>\n",
       "      <th>RNN-LSTM-Camadas</th>\n",
       "      <th>RNN-LSTM-Larga</th>\n",
       "    </tr>\n",
       "  </thead>\n",
       "  <tbody>\n",
       "    <tr>\n",
       "      <th>RMSE</th>\n",
       "      <td>5.354581e+08</td>\n",
       "      <td>5.239526e+08</td>\n",
       "    </tr>\n",
       "    <tr>\n",
       "      <th>MAPE</th>\n",
       "      <td>4.228778e-02</td>\n",
       "      <td>4.272754e-02</td>\n",
       "    </tr>\n",
       "  </tbody>\n",
       "</table>\n",
       "</div>"
      ],
      "text/plain": [
       "      RNN-LSTM-Camadas  RNN-LSTM-Larga\n",
       "RMSE      5.354581e+08    5.239526e+08\n",
       "MAPE      4.228778e-02    4.272754e-02"
      ]
     },
     "execution_count": 55,
     "metadata": {},
     "output_type": "execute_result"
    }
   ],
   "source": [
    "df_metricas = df_rmse.copy()\n",
    "df_metricas = df_metricas.append(df_mape)\n",
    "df_metricas"
   ]
  },
  {
   "cell_type": "code",
   "execution_count": 56,
   "metadata": {},
   "outputs": [
    {
     "name": "stdout",
     "output_type": "stream",
     "text": [
      "(2, 2) (2, 2)\n"
     ]
    }
   ],
   "source": [
    "m1 = np.array([[2,3],[1,-1]])\n",
    "m2 = np.array([[1,2],[3,1]])\n",
    "print(m1.shape, m2.shape)"
   ]
  },
  {
   "cell_type": "code",
   "execution_count": 57,
   "metadata": {},
   "outputs": [
    {
     "data": {
      "text/plain": [
       "array([[11,  7],\n",
       "       [-2,  1]])"
      ]
     },
     "execution_count": 57,
     "metadata": {},
     "output_type": "execute_result"
    }
   ],
   "source": [
    "m1@m2"
   ]
  },
  {
   "cell_type": "code",
   "execution_count": null,
   "metadata": {},
   "outputs": [],
   "source": []
  }
 ],
 "metadata": {
  "kernelspec": {
   "display_name": "Python 3",
   "language": "python",
   "name": "python3"
  },
  "language_info": {
   "codemirror_mode": {
    "name": "ipython",
    "version": 3
   },
   "file_extension": ".py",
   "mimetype": "text/x-python",
   "name": "python",
   "nbconvert_exporter": "python",
   "pygments_lexer": "ipython3",
   "version": "3.6.4"
  }
 },
 "nbformat": 4,
 "nbformat_minor": 2
}
