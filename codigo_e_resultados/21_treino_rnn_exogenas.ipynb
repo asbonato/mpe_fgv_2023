{
 "cells": [
  {
   "cell_type": "markdown",
   "metadata": {},
   "source": [
    "# Aplicação de Modelos de Markov e Redes Neurais LSTM na Previsão de Arrecadação do ICMS Paulista\n",
    "## Resultados 2021\n",
    "\n",
    "### Antonio Sergio Ferreira Bonato"
   ]
  },
  {
   "cell_type": "markdown",
   "metadata": {},
   "source": [
    "Atualmente, na Secretaria da Fazenda e Planejamento do Estado de São Paulo, a previsão de arrecadação do ICMS paulista é feita usando-se um modelo ARIMA com variáveis exógenas, o ARIMAX. Mas o ICMS é não linear e há várias quebras estruturais controladas com diversas *dummies*. A consequência é um modelo bastante sobreajustado, inadequado para previsões de mais longo prazo (mais do que alguns meses, muito menos para um ano). \n",
    "A proposta deste trabalho é utilizar modelos não lineares multivariados na previsão do ICMS paulista, utilizando redes neurais recorrentes LSTM (*Long Short Term Memory*) e modelos Markov-Switching, fazendo um contraponto entre estes dois modelos. E utilizar, como baseline de comparação, o modelo ARIMAX atual. \n",
    "\n",
    "**Palavras-chave**: Markov-Switching Models. Redes Neurais Recorrentes. LSTM. ICMS."
   ]
  },
  {
   "cell_type": "markdown",
   "metadata": {},
   "source": [
    "## Treino das RNN-LSTM Multivariadas"
   ]
  },
  {
   "cell_type": "code",
   "execution_count": 1,
   "metadata": {},
   "outputs": [],
   "source": [
    "import pandas as pd\n",
    "import numpy as np\n",
    "import seaborn as sns\n",
    "import matplotlib.pyplot as plt\n",
    "import statsmodels.tsa.stattools\n",
    "import statsmodels.tsa.x13\n",
    "import statsmodels.graphics.tsaplots\n",
    "import statsmodels.api as sm\n",
    "from statsmodels.graphics.api import qqplot\n",
    "from statsmodels.tsa.api import acf, graphics, pacf\n",
    "from statsmodels.tsa.arima.model import ARIMA\n",
    "import pickle\n",
    "from pmdarima.arima import auto_arima\n",
    "from sklearn.metrics import mean_squared_error, mean_absolute_percentage_error\n",
    "import random\n",
    "import tensorflow as tf\n",
    "seed = 42\n",
    "random.seed(seed)\n",
    "np.random.seed(seed)\n",
    "tf.random.set_seed(seed)\n",
    "\n",
    "sns.set()\n",
    "sns.set_context(\"notebook\")\n",
    "sns.set(rc={'figure.figsize':(15,8)})"
   ]
  },
  {
   "cell_type": "code",
   "execution_count": 2,
   "metadata": {},
   "outputs": [],
   "source": [
    "import warnings\n",
    "warnings.filterwarnings('ignore')\n",
    "warnings.simplefilter('ignore')"
   ]
  },
  {
   "cell_type": "code",
   "execution_count": 3,
   "metadata": {},
   "outputs": [
    {
     "data": {
      "text/html": [
       "<div>\n",
       "<style scoped>\n",
       "    .dataframe tbody tr th:only-of-type {\n",
       "        vertical-align: middle;\n",
       "    }\n",
       "\n",
       "    .dataframe tbody tr th {\n",
       "        vertical-align: top;\n",
       "    }\n",
       "\n",
       "    .dataframe thead th {\n",
       "        text-align: right;\n",
       "    }\n",
       "</style>\n",
       "<table border=\"1\" class=\"dataframe\">\n",
       "  <thead>\n",
       "    <tr style=\"text-align: right;\">\n",
       "      <th></th>\n",
       "      <th>date</th>\n",
       "      <th>icms_sp</th>\n",
       "      <th>igp_m</th>\n",
       "      <th>dolar</th>\n",
       "      <th>ibc_br</th>\n",
       "      <th>dias_uteis</th>\n",
       "      <th>igp_m_22</th>\n",
       "      <th>dolar_22</th>\n",
       "      <th>ibc_br_22</th>\n",
       "      <th>igp_m_21</th>\n",
       "      <th>dolar_21</th>\n",
       "      <th>ibc_br_21</th>\n",
       "    </tr>\n",
       "  </thead>\n",
       "  <tbody>\n",
       "    <tr>\n",
       "      <th>0</th>\n",
       "      <td>2003-01-01</td>\n",
       "      <td>3.360296e+09</td>\n",
       "      <td>277.173</td>\n",
       "      <td>3.4384</td>\n",
       "      <td>96.15</td>\n",
       "      <td>22</td>\n",
       "      <td>277.173</td>\n",
       "      <td>3.4384</td>\n",
       "      <td>96.15</td>\n",
       "      <td>277.173</td>\n",
       "      <td>3.4384</td>\n",
       "      <td>96.15</td>\n",
       "    </tr>\n",
       "    <tr>\n",
       "      <th>1</th>\n",
       "      <td>2003-02-01</td>\n",
       "      <td>3.196558e+09</td>\n",
       "      <td>283.506</td>\n",
       "      <td>3.5908</td>\n",
       "      <td>98.67</td>\n",
       "      <td>20</td>\n",
       "      <td>283.506</td>\n",
       "      <td>3.5908</td>\n",
       "      <td>98.67</td>\n",
       "      <td>283.506</td>\n",
       "      <td>3.5908</td>\n",
       "      <td>98.67</td>\n",
       "    </tr>\n",
       "    <tr>\n",
       "      <th>2</th>\n",
       "      <td>2003-03-01</td>\n",
       "      <td>3.160011e+09</td>\n",
       "      <td>287.855</td>\n",
       "      <td>3.4469</td>\n",
       "      <td>103.41</td>\n",
       "      <td>19</td>\n",
       "      <td>287.855</td>\n",
       "      <td>3.4469</td>\n",
       "      <td>103.41</td>\n",
       "      <td>287.855</td>\n",
       "      <td>3.4469</td>\n",
       "      <td>103.41</td>\n",
       "    </tr>\n",
       "    <tr>\n",
       "      <th>3</th>\n",
       "      <td>2003-04-01</td>\n",
       "      <td>3.215307e+09</td>\n",
       "      <td>290.512</td>\n",
       "      <td>3.1187</td>\n",
       "      <td>102.19</td>\n",
       "      <td>20</td>\n",
       "      <td>290.512</td>\n",
       "      <td>3.1187</td>\n",
       "      <td>102.19</td>\n",
       "      <td>290.512</td>\n",
       "      <td>3.1187</td>\n",
       "      <td>102.19</td>\n",
       "    </tr>\n",
       "    <tr>\n",
       "      <th>4</th>\n",
       "      <td>2003-05-01</td>\n",
       "      <td>3.098930e+09</td>\n",
       "      <td>289.747</td>\n",
       "      <td>2.9557</td>\n",
       "      <td>100.30</td>\n",
       "      <td>21</td>\n",
       "      <td>289.747</td>\n",
       "      <td>2.9557</td>\n",
       "      <td>100.30</td>\n",
       "      <td>289.747</td>\n",
       "      <td>2.9557</td>\n",
       "      <td>100.30</td>\n",
       "    </tr>\n",
       "  </tbody>\n",
       "</table>\n",
       "</div>"
      ],
      "text/plain": [
       "        date       icms_sp    igp_m   dolar  ibc_br  dias_uteis  igp_m_22  \\\n",
       "0 2003-01-01  3.360296e+09  277.173  3.4384   96.15          22   277.173   \n",
       "1 2003-02-01  3.196558e+09  283.506  3.5908   98.67          20   283.506   \n",
       "2 2003-03-01  3.160011e+09  287.855  3.4469  103.41          19   287.855   \n",
       "3 2003-04-01  3.215307e+09  290.512  3.1187  102.19          20   290.512   \n",
       "4 2003-05-01  3.098930e+09  289.747  2.9557  100.30          21   289.747   \n",
       "\n",
       "   dolar_22  ibc_br_22  igp_m_21  dolar_21  ibc_br_21  \n",
       "0    3.4384      96.15   277.173    3.4384      96.15  \n",
       "1    3.5908      98.67   283.506    3.5908      98.67  \n",
       "2    3.4469     103.41   287.855    3.4469     103.41  \n",
       "3    3.1187     102.19   290.512    3.1187     102.19  \n",
       "4    2.9557     100.30   289.747    2.9557     100.30  "
      ]
     },
     "execution_count": 3,
     "metadata": {},
     "output_type": "execute_result"
    }
   ],
   "source": [
    "df_main_orig = pd.read_excel(\"variaveis_previsao.xlsx\", parse_dates=['date'])\n",
    "df_main_orig.head()"
   ]
  },
  {
   "cell_type": "code",
   "execution_count": 4,
   "metadata": {},
   "outputs": [
    {
     "data": {
      "text/html": [
       "<div>\n",
       "<style scoped>\n",
       "    .dataframe tbody tr th:only-of-type {\n",
       "        vertical-align: middle;\n",
       "    }\n",
       "\n",
       "    .dataframe tbody tr th {\n",
       "        vertical-align: top;\n",
       "    }\n",
       "\n",
       "    .dataframe thead th {\n",
       "        text-align: right;\n",
       "    }\n",
       "</style>\n",
       "<table border=\"1\" class=\"dataframe\">\n",
       "  <thead>\n",
       "    <tr style=\"text-align: right;\">\n",
       "      <th></th>\n",
       "      <th>date</th>\n",
       "      <th>icms_sp</th>\n",
       "      <th>igp_m</th>\n",
       "      <th>dolar</th>\n",
       "      <th>ibc_br</th>\n",
       "      <th>dias_uteis</th>\n",
       "      <th>igp_m_22</th>\n",
       "      <th>dolar_22</th>\n",
       "      <th>ibc_br_22</th>\n",
       "      <th>igp_m_21</th>\n",
       "      <th>dolar_21</th>\n",
       "      <th>ibc_br_21</th>\n",
       "    </tr>\n",
       "  </thead>\n",
       "  <tbody>\n",
       "    <tr>\n",
       "      <th>235</th>\n",
       "      <td>2022-08-01</td>\n",
       "      <td>1.756224e+10</td>\n",
       "      <td>1185.004</td>\n",
       "      <td>5.143287</td>\n",
       "      <td>149.60</td>\n",
       "      <td>23</td>\n",
       "      <td>1137.167829</td>\n",
       "      <td>5.6496</td>\n",
       "      <td>146.408337</td>\n",
       "      <td>NaN</td>\n",
       "      <td>NaN</td>\n",
       "      <td>NaN</td>\n",
       "    </tr>\n",
       "    <tr>\n",
       "      <th>236</th>\n",
       "      <td>2022-09-01</td>\n",
       "      <td>1.726287e+10</td>\n",
       "      <td>1173.793</td>\n",
       "      <td>5.236957</td>\n",
       "      <td>144.44</td>\n",
       "      <td>21</td>\n",
       "      <td>1143.597376</td>\n",
       "      <td>5.6800</td>\n",
       "      <td>142.808302</td>\n",
       "      <td>NaN</td>\n",
       "      <td>NaN</td>\n",
       "      <td>NaN</td>\n",
       "    </tr>\n",
       "    <tr>\n",
       "      <th>237</th>\n",
       "      <td>2022-10-01</td>\n",
       "      <td>1.565000e+10</td>\n",
       "      <td>1162.391</td>\n",
       "      <td>5.250300</td>\n",
       "      <td>142.34</td>\n",
       "      <td>20</td>\n",
       "      <td>1150.115881</td>\n",
       "      <td>5.6700</td>\n",
       "      <td>144.063428</td>\n",
       "      <td>NaN</td>\n",
       "      <td>NaN</td>\n",
       "      <td>NaN</td>\n",
       "    </tr>\n",
       "    <tr>\n",
       "      <th>238</th>\n",
       "      <td>2022-11-01</td>\n",
       "      <td>1.605000e+10</td>\n",
       "      <td>1155.829</td>\n",
       "      <td>5.274650</td>\n",
       "      <td>140.80</td>\n",
       "      <td>20</td>\n",
       "      <td>1155.866460</td>\n",
       "      <td>5.6000</td>\n",
       "      <td>143.165409</td>\n",
       "      <td>NaN</td>\n",
       "      <td>NaN</td>\n",
       "      <td>NaN</td>\n",
       "    </tr>\n",
       "    <tr>\n",
       "      <th>239</th>\n",
       "      <td>2022-12-01</td>\n",
       "      <td>1.767135e+10</td>\n",
       "      <td>1161.006</td>\n",
       "      <td>5.242432</td>\n",
       "      <td>142.78</td>\n",
       "      <td>22</td>\n",
       "      <td>1161.645792</td>\n",
       "      <td>5.6000</td>\n",
       "      <td>141.405133</td>\n",
       "      <td>NaN</td>\n",
       "      <td>NaN</td>\n",
       "      <td>NaN</td>\n",
       "    </tr>\n",
       "  </tbody>\n",
       "</table>\n",
       "</div>"
      ],
      "text/plain": [
       "          date       icms_sp     igp_m     dolar  ibc_br  dias_uteis  \\\n",
       "235 2022-08-01  1.756224e+10  1185.004  5.143287  149.60          23   \n",
       "236 2022-09-01  1.726287e+10  1173.793  5.236957  144.44          21   \n",
       "237 2022-10-01  1.565000e+10  1162.391  5.250300  142.34          20   \n",
       "238 2022-11-01  1.605000e+10  1155.829  5.274650  140.80          20   \n",
       "239 2022-12-01  1.767135e+10  1161.006  5.242432  142.78          22   \n",
       "\n",
       "        igp_m_22  dolar_22   ibc_br_22  igp_m_21  dolar_21  ibc_br_21  \n",
       "235  1137.167829    5.6496  146.408337       NaN       NaN        NaN  \n",
       "236  1143.597376    5.6800  142.808302       NaN       NaN        NaN  \n",
       "237  1150.115881    5.6700  144.063428       NaN       NaN        NaN  \n",
       "238  1155.866460    5.6000  143.165409       NaN       NaN        NaN  \n",
       "239  1161.645792    5.6000  141.405133       NaN       NaN        NaN  "
      ]
     },
     "execution_count": 4,
     "metadata": {},
     "output_type": "execute_result"
    }
   ],
   "source": [
    "df_main_orig.tail()"
   ]
  },
  {
   "cell_type": "code",
   "execution_count": 5,
   "metadata": {},
   "outputs": [
    {
     "name": "stdout",
     "output_type": "stream",
     "text": [
      "<class 'pandas.core.frame.DataFrame'>\n",
      "RangeIndex: 240 entries, 0 to 239\n",
      "Data columns (total 12 columns):\n",
      " #   Column      Non-Null Count  Dtype         \n",
      "---  ------      --------------  -----         \n",
      " 0   date        240 non-null    datetime64[ns]\n",
      " 1   icms_sp     240 non-null    float64       \n",
      " 2   igp_m       240 non-null    float64       \n",
      " 3   dolar       240 non-null    float64       \n",
      " 4   ibc_br      240 non-null    float64       \n",
      " 5   dias_uteis  240 non-null    int64         \n",
      " 6   igp_m_22    240 non-null    float64       \n",
      " 7   dolar_22    240 non-null    float64       \n",
      " 8   ibc_br_22   240 non-null    float64       \n",
      " 9   igp_m_21    228 non-null    float64       \n",
      " 10  dolar_21    228 non-null    float64       \n",
      " 11  ibc_br_21   228 non-null    float64       \n",
      "dtypes: datetime64[ns](1), float64(10), int64(1)\n",
      "memory usage: 22.6 KB\n"
     ]
    }
   ],
   "source": [
    "df_main_orig.info()"
   ]
  },
  {
   "cell_type": "markdown",
   "metadata": {},
   "source": [
    "Removendo as últimas linhas que são todas NaN"
   ]
  },
  {
   "cell_type": "code",
   "execution_count": 6,
   "metadata": {},
   "outputs": [],
   "source": [
    "df_main = df_main_orig.iloc[0:228]\n",
    "datas = df_main['date']"
   ]
  },
  {
   "cell_type": "code",
   "execution_count": 7,
   "metadata": {},
   "outputs": [
    {
     "data": {
      "text/html": [
       "<div>\n",
       "<style scoped>\n",
       "    .dataframe tbody tr th:only-of-type {\n",
       "        vertical-align: middle;\n",
       "    }\n",
       "\n",
       "    .dataframe tbody tr th {\n",
       "        vertical-align: top;\n",
       "    }\n",
       "\n",
       "    .dataframe thead th {\n",
       "        text-align: right;\n",
       "    }\n",
       "</style>\n",
       "<table border=\"1\" class=\"dataframe\">\n",
       "  <thead>\n",
       "    <tr style=\"text-align: right;\">\n",
       "      <th></th>\n",
       "      <th>date</th>\n",
       "      <th>icms_sp</th>\n",
       "      <th>igp_m</th>\n",
       "      <th>dolar</th>\n",
       "      <th>ibc_br</th>\n",
       "      <th>dias_uteis</th>\n",
       "      <th>igp_m_22</th>\n",
       "      <th>dolar_22</th>\n",
       "      <th>ibc_br_22</th>\n",
       "      <th>igp_m_21</th>\n",
       "      <th>dolar_21</th>\n",
       "      <th>ibc_br_21</th>\n",
       "    </tr>\n",
       "  </thead>\n",
       "  <tbody>\n",
       "    <tr>\n",
       "      <th>223</th>\n",
       "      <td>2021-08-01</td>\n",
       "      <td>1.597532e+10</td>\n",
       "      <td>1091.290</td>\n",
       "      <td>5.251718</td>\n",
       "      <td>141.97</td>\n",
       "      <td>22</td>\n",
       "      <td>1091.290</td>\n",
       "      <td>5.251718</td>\n",
       "      <td>141.97</td>\n",
       "      <td>961.725459</td>\n",
       "      <td>5.09</td>\n",
       "      <td>141.407051</td>\n",
       "    </tr>\n",
       "    <tr>\n",
       "      <th>224</th>\n",
       "      <td>2021-09-01</td>\n",
       "      <td>1.622460e+10</td>\n",
       "      <td>1084.312</td>\n",
       "      <td>5.279690</td>\n",
       "      <td>138.79</td>\n",
       "      <td>21</td>\n",
       "      <td>1084.312</td>\n",
       "      <td>5.279690</td>\n",
       "      <td>138.79</td>\n",
       "      <td>965.668534</td>\n",
       "      <td>5.05</td>\n",
       "      <td>138.268439</td>\n",
       "    </tr>\n",
       "    <tr>\n",
       "      <th>225</th>\n",
       "      <td>2021-10-01</td>\n",
       "      <td>1.664068e+10</td>\n",
       "      <td>1091.283</td>\n",
       "      <td>5.539980</td>\n",
       "      <td>138.02</td>\n",
       "      <td>20</td>\n",
       "      <td>1091.283</td>\n",
       "      <td>5.539980</td>\n",
       "      <td>138.02</td>\n",
       "      <td>970.014042</td>\n",
       "      <td>5.02</td>\n",
       "      <td>143.670010</td>\n",
       "    </tr>\n",
       "    <tr>\n",
       "      <th>226</th>\n",
       "      <td>2021-11-01</td>\n",
       "      <td>1.737603e+10</td>\n",
       "      <td>1091.483</td>\n",
       "      <td>5.556860</td>\n",
       "      <td>139.75</td>\n",
       "      <td>20</td>\n",
       "      <td>1091.483</td>\n",
       "      <td>5.556860</td>\n",
       "      <td>139.75</td>\n",
       "      <td>973.894098</td>\n",
       "      <td>5.01</td>\n",
       "      <td>141.263632</td>\n",
       "    </tr>\n",
       "    <tr>\n",
       "      <th>227</th>\n",
       "      <td>2021-12-01</td>\n",
       "      <td>1.853772e+10</td>\n",
       "      <td>1100.988</td>\n",
       "      <td>5.651391</td>\n",
       "      <td>141.61</td>\n",
       "      <td>23</td>\n",
       "      <td>1100.988</td>\n",
       "      <td>5.651391</td>\n",
       "      <td>141.61</td>\n",
       "      <td>977.984454</td>\n",
       "      <td>5.00</td>\n",
       "      <td>140.620558</td>\n",
       "    </tr>\n",
       "  </tbody>\n",
       "</table>\n",
       "</div>"
      ],
      "text/plain": [
       "          date       icms_sp     igp_m     dolar  ibc_br  dias_uteis  \\\n",
       "223 2021-08-01  1.597532e+10  1091.290  5.251718  141.97          22   \n",
       "224 2021-09-01  1.622460e+10  1084.312  5.279690  138.79          21   \n",
       "225 2021-10-01  1.664068e+10  1091.283  5.539980  138.02          20   \n",
       "226 2021-11-01  1.737603e+10  1091.483  5.556860  139.75          20   \n",
       "227 2021-12-01  1.853772e+10  1100.988  5.651391  141.61          23   \n",
       "\n",
       "     igp_m_22  dolar_22  ibc_br_22    igp_m_21  dolar_21   ibc_br_21  \n",
       "223  1091.290  5.251718     141.97  961.725459      5.09  141.407051  \n",
       "224  1084.312  5.279690     138.79  965.668534      5.05  138.268439  \n",
       "225  1091.283  5.539980     138.02  970.014042      5.02  143.670010  \n",
       "226  1091.483  5.556860     139.75  973.894098      5.01  141.263632  \n",
       "227  1100.988  5.651391     141.61  977.984454      5.00  140.620558  "
      ]
     },
     "execution_count": 7,
     "metadata": {},
     "output_type": "execute_result"
    }
   ],
   "source": [
    "df_main.tail()"
   ]
  },
  {
   "cell_type": "markdown",
   "metadata": {},
   "source": [
    "### Criação das Séries\n",
    "Como os valores do ICMS são muito elevados a série será colocada em log."
   ]
  },
  {
   "cell_type": "code",
   "execution_count": 8,
   "metadata": {},
   "outputs": [],
   "source": [
    "icms_ts = pd.Series(np.log(list(df_main['icms_sp'])), index = datas)\n",
    "ibcbr_ts = pd.Series(list(df_main['ibc_br']), index = datas)\n",
    "igpm_ts = pd.Series(list(df_main['igp_m']), index = datas)\n",
    "dolar_ts = pd.Series(list(df_main['dolar']), index = datas)\n",
    "dias_uteis_ts = pd.Series(list(df_main['dias_uteis']), index = datas)"
   ]
  },
  {
   "cell_type": "markdown",
   "metadata": {},
   "source": [
    "#### Testes de Valores Nulos"
   ]
  },
  {
   "cell_type": "code",
   "execution_count": 9,
   "metadata": {},
   "outputs": [
    {
     "name": "stdout",
     "output_type": "stream",
     "text": [
      "ICMS 0\n",
      "IBC-Br 0\n",
      "IGP-DI 0\n",
      "Dólar 0\n",
      "Dias Úteis 0\n"
     ]
    }
   ],
   "source": [
    "print('ICMS', icms_ts.isnull().sum())\n",
    "print('IBC-Br', ibcbr_ts.isnull().sum())\n",
    "print('IGP-DI', igpm_ts.isnull().sum())\n",
    "print('Dólar', dolar_ts.isnull().sum())\n",
    "print('Dias Úteis', dias_uteis_ts.isnull().sum())"
   ]
  },
  {
   "cell_type": "markdown",
   "metadata": {},
   "source": [
    "### Plotando a Série em Nível"
   ]
  },
  {
   "cell_type": "code",
   "execution_count": 10,
   "metadata": {},
   "outputs": [
    {
     "data": {
      "image/png": "[encoded data removed]",
      "text/plain": [
       "<Figure size 1080x2160 with 5 Axes>"
      ]
     },
     "metadata": {
      "needs_background": "light"
     },
     "output_type": "display_data"
    }
   ],
   "source": [
    "fig=plt.figure(figsize=(15, 30))\n",
    "ax1=fig.add_subplot(511)\n",
    "ax2=fig.add_subplot(512)\n",
    "ax3=fig.add_subplot(513)\n",
    "ax4=fig.add_subplot(514)\n",
    "ax5=fig.add_subplot(515)\n",
    "#plots\n",
    "ax1.plot(icms_ts, 'tab:blue', label='Log ICMS SP')\n",
    "ax1.legend(loc='best')\n",
    "ax2.plot(dias_uteis_ts, 'tab:purple', label='Dias Úteis')\n",
    "ax2.legend(loc='best')\n",
    "ax3.plot(ibcbr_ts, 'tab:orange',  label='IBC-BR')\n",
    "ax3.legend(loc='best')\n",
    "ax4.plot(igpm_ts, 'tab:gray', label='IGP-M')\n",
    "ax4.legend(loc='best')\n",
    "ax5.plot(dolar_ts, 'tab:green', label='Dólar')\n",
    "ax5.legend(loc='best')\n",
    "plt.show()"
   ]
  },
  {
   "cell_type": "markdown",
   "metadata": {},
   "source": [
    "## Preparação para Previsões"
   ]
  },
  {
   "cell_type": "markdown",
   "metadata": {},
   "source": [
    "O artigo usa, além de MAPE e MSE, o erro relativo, que é \n",
    "\n",
    "$Erro Relativo = \\frac{|previsão - real|}{real}$"
   ]
  },
  {
   "cell_type": "code",
   "execution_count": 11,
   "metadata": {},
   "outputs": [],
   "source": [
    "def erro_relativo(prev, real):\n",
    "    return 100*np.absolute(prev-real)/real"
   ]
  },
  {
   "cell_type": "markdown",
   "metadata": {},
   "source": [
    "#### Dicionário de Previsões"
   ]
  },
  {
   "cell_type": "code",
   "execution_count": 12,
   "metadata": {},
   "outputs": [],
   "source": [
    "previsoes = {\n",
    "    'nome':[],\n",
    "    'modelo': [],\n",
    "    'previsoes': [],\n",
    "    'rmse': [],\n",
    "    'mape': [],\n",
    "    'erro relativo':[]\n",
    "}"
   ]
  },
  {
   "cell_type": "markdown",
   "metadata": {},
   "source": [
    "### Separando a amostra em treinamento (in-sample) e teste (out-of-sample)\n",
    "Serão usadas as séries com sazonalidade e em nível e as questões de sazonalidade e estacionariedade serão tratadas pelo modelo."
   ]
  },
  {
   "cell_type": "code",
   "execution_count": 13,
   "metadata": {},
   "outputs": [
    {
     "data": {
      "text/html": [
       "<div>\n",
       "<style scoped>\n",
       "    .dataframe tbody tr th:only-of-type {\n",
       "        vertical-align: middle;\n",
       "    }\n",
       "\n",
       "    .dataframe tbody tr th {\n",
       "        vertical-align: top;\n",
       "    }\n",
       "\n",
       "    .dataframe thead th {\n",
       "        text-align: right;\n",
       "    }\n",
       "</style>\n",
       "<table border=\"1\" class=\"dataframe\">\n",
       "  <thead>\n",
       "    <tr style=\"text-align: right;\">\n",
       "      <th></th>\n",
       "      <th>ibcbr</th>\n",
       "      <th>igpdi</th>\n",
       "      <th>dolar</th>\n",
       "      <th>dias_uteis</th>\n",
       "    </tr>\n",
       "    <tr>\n",
       "      <th>date</th>\n",
       "      <th></th>\n",
       "      <th></th>\n",
       "      <th></th>\n",
       "      <th></th>\n",
       "    </tr>\n",
       "  </thead>\n",
       "  <tbody>\n",
       "    <tr>\n",
       "      <th>2003-01-01</th>\n",
       "      <td>96.15</td>\n",
       "      <td>277.173</td>\n",
       "      <td>3.4384</td>\n",
       "      <td>22.0</td>\n",
       "    </tr>\n",
       "    <tr>\n",
       "      <th>2003-02-01</th>\n",
       "      <td>98.67</td>\n",
       "      <td>283.506</td>\n",
       "      <td>3.5908</td>\n",
       "      <td>20.0</td>\n",
       "    </tr>\n",
       "    <tr>\n",
       "      <th>2003-03-01</th>\n",
       "      <td>103.41</td>\n",
       "      <td>287.855</td>\n",
       "      <td>3.4469</td>\n",
       "      <td>19.0</td>\n",
       "    </tr>\n",
       "    <tr>\n",
       "      <th>2003-04-01</th>\n",
       "      <td>102.19</td>\n",
       "      <td>290.512</td>\n",
       "      <td>3.1187</td>\n",
       "      <td>20.0</td>\n",
       "    </tr>\n",
       "    <tr>\n",
       "      <th>2003-05-01</th>\n",
       "      <td>100.30</td>\n",
       "      <td>289.747</td>\n",
       "      <td>2.9557</td>\n",
       "      <td>21.0</td>\n",
       "    </tr>\n",
       "  </tbody>\n",
       "</table>\n",
       "</div>"
      ],
      "text/plain": [
       "             ibcbr    igpdi   dolar  dias_uteis\n",
       "date                                           \n",
       "2003-01-01   96.15  277.173  3.4384        22.0\n",
       "2003-02-01   98.67  283.506  3.5908        20.0\n",
       "2003-03-01  103.41  287.855  3.4469        19.0\n",
       "2003-04-01  102.19  290.512  3.1187        20.0\n",
       "2003-05-01  100.30  289.747  2.9557        21.0"
      ]
     },
     "execution_count": 13,
     "metadata": {},
     "output_type": "execute_result"
    }
   ],
   "source": [
    "exog_df = pd.DataFrame((ibcbr_ts, igpm_ts,\n",
    "                        dolar_ts, dias_uteis_ts\n",
    "                       ), \n",
    "                        index=['ibcbr', 'igpdi', 'dolar', 'dias_uteis'\n",
    "                            ]).transpose()\n",
    "exog_df.head() "
   ]
  },
  {
   "cell_type": "code",
   "execution_count": 14,
   "metadata": {},
   "outputs": [
    {
     "data": {
      "text/html": [
       "<div>\n",
       "<style scoped>\n",
       "    .dataframe tbody tr th:only-of-type {\n",
       "        vertical-align: middle;\n",
       "    }\n",
       "\n",
       "    .dataframe tbody tr th {\n",
       "        vertical-align: top;\n",
       "    }\n",
       "\n",
       "    .dataframe thead th {\n",
       "        text-align: right;\n",
       "    }\n",
       "</style>\n",
       "<table border=\"1\" class=\"dataframe\">\n",
       "  <thead>\n",
       "    <tr style=\"text-align: right;\">\n",
       "      <th></th>\n",
       "      <th>ibcbr</th>\n",
       "      <th>igpdi</th>\n",
       "      <th>dolar</th>\n",
       "      <th>dias_uteis</th>\n",
       "    </tr>\n",
       "    <tr>\n",
       "      <th>date</th>\n",
       "      <th></th>\n",
       "      <th></th>\n",
       "      <th></th>\n",
       "      <th></th>\n",
       "    </tr>\n",
       "  </thead>\n",
       "  <tbody>\n",
       "    <tr>\n",
       "      <th>2021-08-01</th>\n",
       "      <td>141.97</td>\n",
       "      <td>1091.290</td>\n",
       "      <td>5.251718</td>\n",
       "      <td>22.0</td>\n",
       "    </tr>\n",
       "    <tr>\n",
       "      <th>2021-09-01</th>\n",
       "      <td>138.79</td>\n",
       "      <td>1084.312</td>\n",
       "      <td>5.279690</td>\n",
       "      <td>21.0</td>\n",
       "    </tr>\n",
       "    <tr>\n",
       "      <th>2021-10-01</th>\n",
       "      <td>138.02</td>\n",
       "      <td>1091.283</td>\n",
       "      <td>5.539980</td>\n",
       "      <td>20.0</td>\n",
       "    </tr>\n",
       "    <tr>\n",
       "      <th>2021-11-01</th>\n",
       "      <td>139.75</td>\n",
       "      <td>1091.483</td>\n",
       "      <td>5.556860</td>\n",
       "      <td>20.0</td>\n",
       "    </tr>\n",
       "    <tr>\n",
       "      <th>2021-12-01</th>\n",
       "      <td>141.61</td>\n",
       "      <td>1100.988</td>\n",
       "      <td>5.651391</td>\n",
       "      <td>23.0</td>\n",
       "    </tr>\n",
       "  </tbody>\n",
       "</table>\n",
       "</div>"
      ],
      "text/plain": [
       "             ibcbr     igpdi     dolar  dias_uteis\n",
       "date                                              \n",
       "2021-08-01  141.97  1091.290  5.251718        22.0\n",
       "2021-09-01  138.79  1084.312  5.279690        21.0\n",
       "2021-10-01  138.02  1091.283  5.539980        20.0\n",
       "2021-11-01  139.75  1091.483  5.556860        20.0\n",
       "2021-12-01  141.61  1100.988  5.651391        23.0"
      ]
     },
     "execution_count": 14,
     "metadata": {},
     "output_type": "execute_result"
    }
   ],
   "source": [
    "exog_df.tail() "
   ]
  },
  {
   "cell_type": "code",
   "execution_count": 15,
   "metadata": {},
   "outputs": [
    {
     "name": "stdout",
     "output_type": "stream",
     "text": [
      "(228, 4) (204, 4) (12, 4) (12, 4)\n"
     ]
    }
   ],
   "source": [
    "exog = exog_df[:].to_numpy()\n",
    "exog_train = exog[:-24]\n",
    "exog_val = exog[-24:-12]\n",
    "exog_test = exog[-12:]\n",
    "print(exog.shape, exog_train.shape, exog_val.shape, exog_test.shape)"
   ]
  },
  {
   "cell_type": "code",
   "execution_count": 16,
   "metadata": {},
   "outputs": [
    {
     "name": "stdout",
     "output_type": "stream",
     "text": [
      "(228,) (216,) (12,) (12,)\n"
     ]
    }
   ],
   "source": [
    "icms_train = icms_ts[:-12]\n",
    "icms_val = np.exp(icms_ts[-24:-12]) # série sem log\n",
    "icms_test = np.exp(icms_ts[-12:]) # série sem log\n",
    "print(icms_ts.shape, icms_train.shape, icms_val.shape, icms_test.shape)"
   ]
  },
  {
   "cell_type": "markdown",
   "metadata": {},
   "source": [
    "## Modelos RNN LSTM\n",
    "Redes Neurais Recorrentes com neurônios Long Short-Term Memory"
   ]
  },
  {
   "cell_type": "markdown",
   "metadata": {},
   "source": [
    "### Montagem da Série com as Variáveis Exógenas\n",
    "As redes neurais precisam de conjuntos de características e de etiquetas separados. As variáveis exógenas serão o conjunto de características e a variável endógena será o conjunto de etiquetas."
   ]
  },
  {
   "cell_type": "code",
   "execution_count": 17,
   "metadata": {},
   "outputs": [],
   "source": [
    "X_data = np.append(exog, np.roll(exog, 1, axis = 0), axis = 1)\n",
    "X_data = np.append(X_data, np.roll(exog, 2, axis = 0), axis = 1)[2:]\n",
    "Y_data = icms_ts[2:].to_numpy()"
   ]
  },
  {
   "cell_type": "code",
   "execution_count": 18,
   "metadata": {},
   "outputs": [
    {
     "data": {
      "text/plain": [
       "((226, 12), (226,))"
      ]
     },
     "execution_count": 18,
     "metadata": {},
     "output_type": "execute_result"
    }
   ],
   "source": [
    "X_data.shape, Y_data.shape"
   ]
  },
  {
   "cell_type": "markdown",
   "metadata": {},
   "source": [
    "#### Normalização dos Dados\n",
    "Serão normalizados usando-se min-max. Apenas as features, a variável target não será normalizada. Os dados serão dividos em treno, validação e teste para a normalização, de modo que o fit seja feito somente nos dados de treino, aumentando-se assim a probabilidade de generalização do modelo."
   ]
  },
  {
   "cell_type": "code",
   "execution_count": 19,
   "metadata": {},
   "outputs": [
    {
     "name": "stdout",
     "output_type": "stream",
     "text": [
      "(202, 12) (12, 12) (12, 12)\n",
      "(202,) (12,) (12,)\n"
     ]
    }
   ],
   "source": [
    "X_train = X_data[:-24]\n",
    "X_val = X_data[-24:-12]\n",
    "X_test = X_data[-12:]\n",
    "print(X_train.shape, X_val.shape, X_test.shape)\n",
    "Y_train = Y_data[:-24]\n",
    "Y_val = Y_data[-24:-12]\n",
    "Y_test = np.exp(Y_data[-12:]) # tirando o log\n",
    "print(Y_train.shape, Y_val.shape, Y_test.shape)"
   ]
  },
  {
   "cell_type": "code",
   "execution_count": 20,
   "metadata": {},
   "outputs": [
    {
     "name": "stdout",
     "output_type": "stream",
     "text": [
      "numéricas [0, 1, 2, 3, 4, 5, 6, 7, 8, 9, 10, 11]\n",
      "ColumnTransformer(transformers=[('min-max', MinMaxScaler(),\n",
      "                                 [0, 1, 2, 3, 4, 5, 6, 7, 8, 9, 10, 11])],\n",
      "                  verbose=True)\n",
      "[ColumnTransformer] ....... (1 of 1) Processing min-max, total=   0.0s\n",
      "(202, 12)\n",
      "(12, 12)\n",
      "(12, 12)\n"
     ]
    }
   ],
   "source": [
    "from sklearn.preprocessing import MinMaxScaler\n",
    "from sklearn.compose import ColumnTransformer\n",
    "# índice dos atributos numéricos\n",
    "num_atrib = list(range(X_train.shape[1]))\n",
    "print('numéricas', num_atrib)\n",
    "\n",
    "enc_x = ColumnTransformer([('min-max',MinMaxScaler(), num_atrib)], verbose=True)\n",
    "\n",
    "print(enc_x)\n",
    "X_train_std = enc_x.fit_transform(X_train)\n",
    "X_val_std = enc_x.transform(X_val)\n",
    "X_test_std = enc_x.transform(X_test)\n",
    "\n",
    "print(X_train_std.shape)\n",
    "print(X_val_std.shape)\n",
    "print(X_test_std.shape)"
   ]
  },
  {
   "cell_type": "code",
   "execution_count": 21,
   "metadata": {},
   "outputs": [
    {
     "name": "stdout",
     "output_type": "stream",
     "text": [
      "(202, 12, 1) (12, 12, 1) (12, 12, 1)\n",
      "(202, 1) (12, 1) (12, 1)\n"
     ]
    }
   ],
   "source": [
    "x_train = X_train_std.reshape(X_train_std.shape[0], X_train_std.shape[1], 1)\n",
    "x_val = X_val_std.reshape(X_val_std.shape[0], X_val_std.shape[1], 1)\n",
    "x_test = X_test_std.reshape(X_test_std.shape[0], X_test_std.shape[1], 1)\n",
    "print(x_train.shape, x_val.shape, x_test.shape)\n",
    "\n",
    "y_train = Y_train.reshape(Y_train.shape[0], 1)\n",
    "y_val = Y_val.reshape(Y_val.shape[0], 1)\n",
    "y_test = Y_test.reshape(Y_test.shape[0], 1)\n",
    "print(y_train.shape, y_val.shape, y_test.shape)"
   ]
  },
  {
   "cell_type": "markdown",
   "metadata": {},
   "source": [
    "### Criando o modelo LSTM"
   ]
  },
  {
   "cell_type": "code",
   "execution_count": 22,
   "metadata": {},
   "outputs": [],
   "source": [
    "# importando as bibliotecas do Keras\n",
    "from tensorflow.keras.models import Sequential\n",
    "from tensorflow.keras.layers import LSTM, Dense, Dropout, Conv1D, MaxPooling1D\n",
    "from tensorflow.keras.callbacks import ReduceLROnPlateau, EarlyStopping\n",
    "from tensorflow.keras.optimizers import Adam"
   ]
  },
  {
   "cell_type": "markdown",
   "metadata": {},
   "source": [
    "## Arquitetura da Rede - Camadas"
   ]
  },
  {
   "cell_type": "code",
   "execution_count": 23,
   "metadata": {},
   "outputs": [],
   "source": [
    "rlrop = ReduceLROnPlateau(monitor='val_loss', factor=0.1, patience=25)\n",
    "early_stop = EarlyStopping(monitor='val_loss', patience=100, verbose=1, \n",
    "                           restore_best_weights=True)"
   ]
  },
  {
   "cell_type": "code",
   "execution_count": 24,
   "metadata": {},
   "outputs": [],
   "source": [
    "# Épocas\n",
    "EPOCHS = 1000\n",
    "NEURONIOS = 600\n",
    "DROPOUT = 0.15\n",
    "LR = 1e-5\n",
    "BATCH = 8\n",
    "\n",
    "# Imstanciação do modelo\n",
    "model = Sequential()\n",
    "\n",
    "# Adicionar camada LSTM \n",
    "model.add(LSTM(activation='tanh', dropout=DROPOUT,\n",
    "        input_shape = (12, 1), return_sequences = True,\n",
    "        units = NEURONIOS))\n",
    "\n",
    "# Adicionar camada LSTM \n",
    "model.add(LSTM(activation='tanh', dropout=DROPOUT,\n",
    "        input_shape = (12, 1), return_sequences = True,\n",
    "        units = NEURONIOS))\n",
    "\n",
    "# Adicionar camada LSTM \n",
    "model.add(LSTM(activation='tanh', dropout=DROPOUT,\n",
    "        input_shape = (12, 1), return_sequences = False,\n",
    "        units = NEURONIOS))\n",
    "\n",
    "# Adicionar a camada de saída com 1 neurônio linear\n",
    "model.add(Dense(\n",
    "        units = 1,\n",
    "        activation = 'linear'))\n",
    "# a learning rate padrão do Adam é 0.001\n",
    "model.compile(loss = 'mape', optimizer = Adam(learning_rate=LR))"
   ]
  },
  {
   "cell_type": "code",
   "execution_count": 25,
   "metadata": {},
   "outputs": [
    {
     "name": "stdout",
     "output_type": "stream",
     "text": [
      "Model: \"sequential\"\n",
      "_________________________________________________________________\n",
      "Layer (type)                 Output Shape              Param #   \n",
      "=================================================================\n",
      "lstm (LSTM)                  (None, 12, 600)           1444800   \n",
      "_________________________________________________________________\n",
      "lstm_1 (LSTM)                (None, 12, 600)           2882400   \n",
      "_________________________________________________________________\n",
      "lstm_2 (LSTM)                (None, 600)               2882400   \n",
      "_________________________________________________________________\n",
      "dense (Dense)                (None, 1)                 601       \n",
      "=================================================================\n",
      "Total params: 7,210,201\n",
      "Trainable params: 7,210,201\n",
      "Non-trainable params: 0\n",
      "_________________________________________________________________\n"
     ]
    }
   ],
   "source": [
    "model.summary()"
   ]
  },
  {
   "cell_type": "code",
   "execution_count": 26,
   "metadata": {
    "scrolled": true
   },
   "outputs": [
    {
     "name": "stdout",
     "output_type": "stream",
     "text": [
      "Epoch 1/1000\n",
      "26/26 [==============================] - 5s 209ms/step - loss: 99.8193 - val_loss: 99.3076\n",
      "Epoch 2/1000\n",
      "26/26 [==============================] - 4s 159ms/step - loss: 99.3330 - val_loss: 98.0835\n",
      "Epoch 3/1000\n",
      "26/26 [==============================] - 4s 150ms/step - loss: 98.1909 - val_loss: 94.6941\n",
      "Epoch 4/1000\n",
      "26/26 [==============================] - 4s 147ms/step - loss: 94.4294 - val_loss: 81.5437\n",
      "Epoch 5/1000\n",
      "26/26 [==============================] - 4s 152ms/step - loss: 79.7998 - val_loss: 33.1106\n",
      "Epoch 6/1000\n",
      "26/26 [==============================] - 4s 152ms/step - loss: 32.1226 - val_loss: 2.4105\n",
      "Epoch 7/1000\n",
      "26/26 [==============================] - 4s 153ms/step - loss: 5.3127 - val_loss: 4.8846\n",
      "Epoch 8/1000\n",
      "26/26 [==============================] - 4s 152ms/step - loss: 3.0686 - val_loss: 0.8265\n",
      "Epoch 9/1000\n",
      "26/26 [==============================] - 4s 148ms/step - loss: 2.0104 - val_loss: 0.6113\n",
      "Epoch 10/1000\n",
      "26/26 [==============================] - 4s 151ms/step - loss: 1.5833 - val_loss: 0.5129\n",
      "Epoch 11/1000\n",
      "26/26 [==============================] - 4s 150ms/step - loss: 1.0648 - val_loss: 0.4807\n",
      "Epoch 12/1000\n",
      "26/26 [==============================] - 4s 148ms/step - loss: 0.8677 - val_loss: 0.4599\n",
      "Epoch 13/1000\n",
      "26/26 [==============================] - 4s 149ms/step - loss: 0.9359 - val_loss: 0.4788\n",
      "Epoch 14/1000\n",
      "26/26 [==============================] - 4s 144ms/step - loss: 0.9239 - val_loss: 0.5497\n",
      "Epoch 15/1000\n",
      "26/26 [==============================] - 4s 147ms/step - loss: 0.9194 - val_loss: 0.4516\n",
      "Epoch 16/1000\n",
      "26/26 [==============================] - 4s 145ms/step - loss: 1.0737 - val_loss: 0.5059\n",
      "Epoch 17/1000\n",
      "26/26 [==============================] - 4s 144ms/step - loss: 0.9304 - val_loss: 0.5967\n",
      "Epoch 18/1000\n",
      "26/26 [==============================] - 4s 144ms/step - loss: 0.8657 - val_loss: 0.5314\n",
      "Epoch 19/1000\n",
      "26/26 [==============================] - 4s 144ms/step - loss: 0.8950 - val_loss: 0.5274\n",
      "Epoch 20/1000\n",
      "26/26 [==============================] - 4s 145ms/step - loss: 0.8192 - val_loss: 0.5714\n",
      "Epoch 21/1000\n",
      "26/26 [==============================] - 4s 143ms/step - loss: 0.8411 - val_loss: 0.5389\n",
      "Epoch 22/1000\n",
      "26/26 [==============================] - 4s 147ms/step - loss: 0.7921 - val_loss: 0.6456\n",
      "Epoch 23/1000\n",
      "26/26 [==============================] - 4s 146ms/step - loss: 0.8286 - val_loss: 0.4979\n",
      "Epoch 24/1000\n",
      "26/26 [==============================] - 4s 146ms/step - loss: 0.9503 - val_loss: 0.5035\n",
      "Epoch 25/1000\n",
      "26/26 [==============================] - 4s 146ms/step - loss: 0.9140 - val_loss: 0.5763\n",
      "Epoch 26/1000\n",
      "26/26 [==============================] - 4s 148ms/step - loss: 0.9002 - val_loss: 0.4821\n",
      "Epoch 27/1000\n",
      "26/26 [==============================] - 4s 146ms/step - loss: 0.8171 - val_loss: 0.4525\n",
      "Epoch 28/1000\n",
      "26/26 [==============================] - 4s 148ms/step - loss: 0.8339 - val_loss: 0.5525\n",
      "Epoch 29/1000\n",
      "26/26 [==============================] - 4s 148ms/step - loss: 0.8730 - val_loss: 0.4930\n",
      "Epoch 30/1000\n",
      "26/26 [==============================] - 4s 151ms/step - loss: 0.8521 - val_loss: 0.5104\n",
      "Epoch 31/1000\n",
      "26/26 [==============================] - 4s 150ms/step - loss: 1.0112 - val_loss: 0.5492\n",
      "Epoch 32/1000\n",
      "26/26 [==============================] - 4s 145ms/step - loss: 0.8753 - val_loss: 0.5344\n",
      "Epoch 33/1000\n",
      "26/26 [==============================] - 4s 144ms/step - loss: 0.8919 - val_loss: 0.5867\n",
      "Epoch 34/1000\n",
      "26/26 [==============================] - 4s 147ms/step - loss: 0.8837 - val_loss: 0.5078\n",
      "Epoch 35/1000\n",
      "26/26 [==============================] - 4s 153ms/step - loss: 0.8188 - val_loss: 0.5156\n",
      "Epoch 36/1000\n",
      "26/26 [==============================] - 4s 150ms/step - loss: 0.8007 - val_loss: 0.4857\n",
      "Epoch 37/1000\n",
      "26/26 [==============================] - 4s 148ms/step - loss: 0.8771 - val_loss: 0.4350\n",
      "Epoch 38/1000\n",
      "26/26 [==============================] - 4s 149ms/step - loss: 0.8527 - val_loss: 0.5312\n",
      "Epoch 39/1000\n",
      "26/26 [==============================] - 4s 152ms/step - loss: 0.8814 - val_loss: 0.4272\n",
      "Epoch 40/1000\n",
      "26/26 [==============================] - 4s 148ms/step - loss: 0.9029 - val_loss: 0.4235\n",
      "Epoch 41/1000\n",
      "26/26 [==============================] - 4s 151ms/step - loss: 0.8213 - val_loss: 0.5362\n",
      "Epoch 42/1000\n",
      "26/26 [==============================] - 4s 150ms/step - loss: 0.8214 - val_loss: 0.4400\n",
      "Epoch 43/1000\n",
      "26/26 [==============================] - 4s 151ms/step - loss: 0.9141 - val_loss: 0.4245\n",
      "Epoch 44/1000\n",
      "26/26 [==============================] - 4s 155ms/step - loss: 0.8056 - val_loss: 0.4524\n",
      "Epoch 45/1000\n",
      "26/26 [==============================] - 4s 155ms/step - loss: 0.8636 - val_loss: 0.4751\n",
      "Epoch 46/1000\n",
      "26/26 [==============================] - 4s 153ms/step - loss: 0.8327 - val_loss: 0.6177\n",
      "Epoch 47/1000\n",
      "26/26 [==============================] - 4s 149ms/step - loss: 0.7790 - val_loss: 0.4534\n",
      "Epoch 48/1000\n",
      "26/26 [==============================] - 4s 153ms/step - loss: 0.7406 - val_loss: 0.4130\n",
      "Epoch 49/1000\n",
      "26/26 [==============================] - 4s 153ms/step - loss: 0.8406 - val_loss: 0.4214\n",
      "Epoch 50/1000\n",
      "26/26 [==============================] - 4s 151ms/step - loss: 0.8109 - val_loss: 0.4109\n",
      "Epoch 51/1000\n",
      "26/26 [==============================] - 4s 153ms/step - loss: 0.7932 - val_loss: 0.4201\n",
      "Epoch 52/1000\n",
      "26/26 [==============================] - 4s 153ms/step - loss: 0.8678 - val_loss: 0.4961\n",
      "Epoch 53/1000\n",
      "26/26 [==============================] - 4s 149ms/step - loss: 0.7070 - val_loss: 0.4229\n",
      "Epoch 54/1000\n",
      "26/26 [==============================] - 4s 157ms/step - loss: 0.7914 - val_loss: 0.4112\n",
      "Epoch 55/1000\n",
      "26/26 [==============================] - 4s 152ms/step - loss: 0.7067 - val_loss: 0.4155\n",
      "Epoch 56/1000\n",
      "26/26 [==============================] - 4s 162ms/step - loss: 0.7857 - val_loss: 0.4229\n",
      "Epoch 57/1000\n",
      "26/26 [==============================] - 5s 190ms/step - loss: 0.7319 - val_loss: 0.4935\n",
      "Epoch 58/1000\n",
      "26/26 [==============================] - 4s 169ms/step - loss: 0.7767 - val_loss: 0.4198\n",
      "Epoch 59/1000\n",
      "26/26 [==============================] - 5s 178ms/step - loss: 0.7798 - val_loss: 0.4147\n",
      "Epoch 60/1000\n",
      "26/26 [==============================] - 7s 251ms/step - loss: 0.7583 - val_loss: 0.4479\n",
      "Epoch 61/1000\n",
      "26/26 [==============================] - 5s 173ms/step - loss: 0.7602 - val_loss: 0.4295\n",
      "Epoch 62/1000\n",
      "26/26 [==============================] - 6s 215ms/step - loss: 0.7331 - val_loss: 0.3989\n",
      "Epoch 63/1000\n",
      "26/26 [==============================] - 7s 258ms/step - loss: 0.7472 - val_loss: 0.4060\n",
      "Epoch 64/1000\n",
      "26/26 [==============================] - 5s 210ms/step - loss: 0.7900 - val_loss: 0.4021\n",
      "Epoch 65/1000\n",
      "26/26 [==============================] - 7s 260ms/step - loss: 0.7331 - val_loss: 0.4238\n",
      "Epoch 66/1000\n",
      "26/26 [==============================] - 6s 244ms/step - loss: 0.7650 - val_loss: 0.4161\n",
      "Epoch 67/1000\n",
      "26/26 [==============================] - 4s 161ms/step - loss: 0.6594 - val_loss: 0.4062\n",
      "Epoch 68/1000\n",
      "26/26 [==============================] - 6s 232ms/step - loss: 0.7983 - val_loss: 0.4123\n",
      "Epoch 69/1000\n",
      "26/26 [==============================] - 4s 164ms/step - loss: 0.7511 - val_loss: 0.4275\n",
      "Epoch 70/1000\n",
      "26/26 [==============================] - 4s 155ms/step - loss: 0.7483 - val_loss: 0.3971\n",
      "Epoch 71/1000\n",
      "26/26 [==============================] - 7s 253ms/step - loss: 0.7273 - val_loss: 0.3931\n",
      "Epoch 72/1000\n",
      "26/26 [==============================] - 6s 228ms/step - loss: 0.6838 - val_loss: 0.3973\n",
      "Epoch 73/1000\n",
      "26/26 [==============================] - 4s 157ms/step - loss: 0.7490 - val_loss: 0.3952\n",
      "Epoch 74/1000\n",
      "26/26 [==============================] - 4s 153ms/step - loss: 0.7061 - val_loss: 0.4142\n",
      "Epoch 75/1000\n",
      "26/26 [==============================] - 4s 151ms/step - loss: 0.6465 - val_loss: 0.4444\n",
      "Epoch 76/1000\n",
      "26/26 [==============================] - 4s 162ms/step - loss: 0.7728 - val_loss: 0.4231\n",
      "Epoch 77/1000\n",
      "26/26 [==============================] - 5s 183ms/step - loss: 0.7791 - val_loss: 0.4413\n",
      "Epoch 78/1000\n",
      "26/26 [==============================] - 5s 196ms/step - loss: 0.7798 - val_loss: 0.4352\n",
      "Epoch 79/1000\n",
      "26/26 [==============================] - 4s 154ms/step - loss: 0.7590 - val_loss: 0.3955\n",
      "Epoch 80/1000\n",
      "26/26 [==============================] - 4s 172ms/step - loss: 0.7498 - val_loss: 0.4071\n",
      "Epoch 81/1000\n",
      "26/26 [==============================] - 5s 192ms/step - loss: 0.6993 - val_loss: 0.3979\n",
      "Epoch 82/1000\n",
      "26/26 [==============================] - 5s 173ms/step - loss: 0.7125 - val_loss: 0.4144\n",
      "Epoch 83/1000\n",
      "26/26 [==============================] - 5s 176ms/step - loss: 0.7292 - val_loss: 0.4048\n",
      "Epoch 84/1000\n",
      "26/26 [==============================] - 4s 164ms/step - loss: 0.7759 - val_loss: 0.4002\n",
      "Epoch 85/1000\n",
      "26/26 [==============================] - 4s 173ms/step - loss: 0.7859 - val_loss: 0.4665\n",
      "Epoch 86/1000\n",
      "26/26 [==============================] - 5s 182ms/step - loss: 0.6871 - val_loss: 0.3945\n",
      "Epoch 87/1000\n",
      "26/26 [==============================] - 5s 175ms/step - loss: 0.7113 - val_loss: 0.3982\n",
      "Epoch 88/1000\n",
      "26/26 [==============================] - 4s 166ms/step - loss: 0.7373 - val_loss: 0.4519\n",
      "Epoch 89/1000\n",
      "26/26 [==============================] - 5s 177ms/step - loss: 0.7490 - val_loss: 0.4155\n",
      "Epoch 90/1000\n",
      "26/26 [==============================] - 4s 173ms/step - loss: 0.7216 - val_loss: 0.3966\n",
      "Epoch 91/1000\n",
      "26/26 [==============================] - 5s 183ms/step - loss: 0.8348 - val_loss: 0.4130\n",
      "Epoch 92/1000\n",
      "26/26 [==============================] - 5s 196ms/step - loss: 0.7311 - val_loss: 0.4142\n",
      "Epoch 93/1000\n",
      "26/26 [==============================] - 6s 227ms/step - loss: 0.7338 - val_loss: 0.4117\n",
      "Epoch 94/1000\n",
      "26/26 [==============================] - 6s 221ms/step - loss: 0.7603 - val_loss: 0.3996\n",
      "Epoch 95/1000\n",
      "26/26 [==============================] - 5s 175ms/step - loss: 0.7436 - val_loss: 0.3953\n",
      "Epoch 96/1000\n",
      "26/26 [==============================] - 4s 171ms/step - loss: 0.7863 - val_loss: 0.4088\n",
      "Epoch 97/1000\n",
      "26/26 [==============================] - 5s 177ms/step - loss: 0.7479 - val_loss: 0.3981\n",
      "Epoch 98/1000\n",
      "26/26 [==============================] - 4s 155ms/step - loss: 0.6662 - val_loss: 0.4072\n",
      "Epoch 99/1000\n",
      "26/26 [==============================] - 4s 153ms/step - loss: 0.7231 - val_loss: 0.4066\n",
      "Epoch 100/1000\n",
      "26/26 [==============================] - 4s 155ms/step - loss: 0.6908 - val_loss: 0.4124\n",
      "Epoch 101/1000\n",
      "26/26 [==============================] - 4s 163ms/step - loss: 0.6466 - val_loss: 0.3946\n",
      "Epoch 102/1000\n",
      "26/26 [==============================] - 4s 173ms/step - loss: 0.7072 - val_loss: 0.4115\n",
      "Epoch 103/1000\n",
      "26/26 [==============================] - 4s 172ms/step - loss: 0.7145 - val_loss: 0.4010\n",
      "Epoch 104/1000\n",
      "26/26 [==============================] - 5s 208ms/step - loss: 0.6427 - val_loss: 0.4082\n",
      "Epoch 105/1000\n",
      "26/26 [==============================] - 4s 156ms/step - loss: 0.6722 - val_loss: 0.3963\n",
      "Epoch 106/1000\n",
      "26/26 [==============================] - 4s 173ms/step - loss: 0.7431 - val_loss: 0.3943\n",
      "Epoch 107/1000\n",
      "26/26 [==============================] - 5s 180ms/step - loss: 0.6559 - val_loss: 0.4081\n",
      "Epoch 108/1000\n",
      "26/26 [==============================] - 4s 163ms/step - loss: 0.6506 - val_loss: 0.3940\n",
      "Epoch 109/1000\n",
      "26/26 [==============================] - 5s 177ms/step - loss: 0.6460 - val_loss: 0.4007\n",
      "Epoch 110/1000\n",
      "26/26 [==============================] - 5s 184ms/step - loss: 0.7860 - val_loss: 0.4105\n",
      "Epoch 111/1000\n",
      "26/26 [==============================] - 4s 167ms/step - loss: 0.6986 - val_loss: 0.4139\n",
      "Epoch 112/1000\n",
      "26/26 [==============================] - 4s 166ms/step - loss: 0.7469 - val_loss: 0.3985\n",
      "Epoch 113/1000\n",
      "26/26 [==============================] - 4s 153ms/step - loss: 0.7334 - val_loss: 0.4186\n",
      "Epoch 114/1000\n",
      "26/26 [==============================] - 5s 175ms/step - loss: 0.7416 - val_loss: 0.4068\n",
      "Epoch 115/1000\n",
      "26/26 [==============================] - 4s 171ms/step - loss: 0.6949 - val_loss: 0.3921\n",
      "Epoch 116/1000\n",
      "26/26 [==============================] - 4s 170ms/step - loss: 0.7333 - val_loss: 0.3930\n",
      "Epoch 117/1000\n",
      "26/26 [==============================] - 5s 175ms/step - loss: 0.7129 - val_loss: 0.4044\n",
      "Epoch 118/1000\n",
      "26/26 [==============================] - 4s 166ms/step - loss: 0.6467 - val_loss: 0.4013\n",
      "Epoch 119/1000\n",
      "26/26 [==============================] - 5s 175ms/step - loss: 0.7147 - val_loss: 0.3991\n",
      "Epoch 120/1000\n",
      "26/26 [==============================] - 5s 182ms/step - loss: 0.6927 - val_loss: 0.4079\n",
      "Epoch 121/1000\n",
      "26/26 [==============================] - 5s 181ms/step - loss: 0.7797 - val_loss: 0.3980\n",
      "Epoch 122/1000\n",
      "26/26 [==============================] - 5s 175ms/step - loss: 0.6737 - val_loss: 0.4078\n",
      "Epoch 123/1000\n",
      "26/26 [==============================] - 5s 181ms/step - loss: 0.7098 - val_loss: 0.4151\n",
      "Epoch 124/1000\n",
      "26/26 [==============================] - 4s 173ms/step - loss: 0.7490 - val_loss: 0.4116\n",
      "Epoch 125/1000\n",
      "26/26 [==============================] - 4s 159ms/step - loss: 0.7698 - val_loss: 0.4201\n",
      "Epoch 126/1000\n",
      "26/26 [==============================] - 5s 182ms/step - loss: 0.7263 - val_loss: 0.4145\n",
      "Epoch 127/1000\n",
      "26/26 [==============================] - 4s 169ms/step - loss: 0.6920 - val_loss: 0.3993\n",
      "Epoch 128/1000\n",
      "26/26 [==============================] - 4s 169ms/step - loss: 0.6224 - val_loss: 0.3934\n",
      "Epoch 129/1000\n",
      "26/26 [==============================] - 4s 159ms/step - loss: 0.7430 - val_loss: 0.4055\n",
      "Epoch 130/1000\n",
      "26/26 [==============================] - 4s 161ms/step - loss: 0.6870 - val_loss: 0.4011\n",
      "Epoch 131/1000\n",
      "26/26 [==============================] - 4s 151ms/step - loss: 0.6487 - val_loss: 0.4039\n",
      "Epoch 132/1000\n",
      "26/26 [==============================] - 4s 170ms/step - loss: 0.7409 - val_loss: 0.4118\n",
      "Epoch 133/1000\n",
      "26/26 [==============================] - 5s 175ms/step - loss: 0.6854 - val_loss: 0.3923\n",
      "Epoch 134/1000\n",
      "26/26 [==============================] - 4s 160ms/step - loss: 0.6998 - val_loss: 0.3922\n",
      "Epoch 135/1000\n",
      "26/26 [==============================] - 4s 169ms/step - loss: 0.6707 - val_loss: 0.3939\n",
      "Epoch 136/1000\n",
      "26/26 [==============================] - 4s 153ms/step - loss: 0.8040 - val_loss: 0.3940\n",
      "Epoch 137/1000\n",
      "26/26 [==============================] - 4s 167ms/step - loss: 0.7958 - val_loss: 0.4123\n",
      "Epoch 138/1000\n",
      "26/26 [==============================] - 5s 174ms/step - loss: 0.7603 - val_loss: 0.4102\n",
      "Epoch 139/1000\n",
      "26/26 [==============================] - 5s 178ms/step - loss: 0.6855 - val_loss: 0.4044\n",
      "Epoch 140/1000\n",
      "26/26 [==============================] - 4s 170ms/step - loss: 0.7334 - val_loss: 0.3927\n",
      "Epoch 141/1000\n",
      "26/26 [==============================] - 4s 161ms/step - loss: 0.7131 - val_loss: 0.3926\n",
      "Epoch 142/1000\n",
      "26/26 [==============================] - 4s 161ms/step - loss: 0.7416 - val_loss: 0.3952\n",
      "Epoch 143/1000\n",
      "26/26 [==============================] - 4s 168ms/step - loss: 0.7388 - val_loss: 0.3962\n",
      "Epoch 144/1000\n",
      "26/26 [==============================] - 4s 168ms/step - loss: 0.6823 - val_loss: 0.3965\n",
      "Epoch 145/1000\n",
      "26/26 [==============================] - 4s 167ms/step - loss: 0.7399 - val_loss: 0.3946\n",
      "Epoch 146/1000\n",
      "26/26 [==============================] - 5s 176ms/step - loss: 0.7111 - val_loss: 0.3933\n",
      "Epoch 147/1000\n",
      "26/26 [==============================] - 5s 175ms/step - loss: 0.6506 - val_loss: 0.3951\n",
      "Epoch 148/1000\n",
      "26/26 [==============================] - 4s 169ms/step - loss: 0.6716 - val_loss: 0.3965\n",
      "Epoch 149/1000\n",
      "26/26 [==============================] - 4s 165ms/step - loss: 0.7410 - val_loss: 0.3972\n",
      "Epoch 150/1000\n",
      "26/26 [==============================] - 4s 160ms/step - loss: 0.8121 - val_loss: 0.3980\n",
      "Epoch 151/1000\n",
      "26/26 [==============================] - 4s 163ms/step - loss: 0.6611 - val_loss: 0.3987\n",
      "Epoch 152/1000\n",
      "26/26 [==============================] - 5s 173ms/step - loss: 0.6986 - val_loss: 0.3992\n",
      "Epoch 153/1000\n",
      "26/26 [==============================] - 4s 163ms/step - loss: 0.6390 - val_loss: 0.3998\n",
      "Epoch 154/1000\n",
      "26/26 [==============================] - 5s 178ms/step - loss: 0.7297 - val_loss: 0.4002\n",
      "Epoch 155/1000\n",
      "26/26 [==============================] - 4s 157ms/step - loss: 0.6721 - val_loss: 0.4001\n",
      "Epoch 156/1000\n",
      "26/26 [==============================] - 4s 150ms/step - loss: 0.7233 - val_loss: 0.3990\n",
      "Epoch 157/1000\n",
      "26/26 [==============================] - 4s 152ms/step - loss: 0.7639 - val_loss: 0.3997\n",
      "Epoch 158/1000\n",
      "26/26 [==============================] - 4s 153ms/step - loss: 0.7184 - val_loss: 0.4022\n",
      "Epoch 159/1000\n"
     ]
    },
    {
     "name": "stdout",
     "output_type": "stream",
     "text": [
      "26/26 [==============================] - 4s 154ms/step - loss: 0.6586 - val_loss: 0.4042\n",
      "Epoch 160/1000\n",
      "26/26 [==============================] - 6s 214ms/step - loss: 0.6874 - val_loss: 0.4038\n",
      "Epoch 161/1000\n",
      "26/26 [==============================] - 7s 287ms/step - loss: 0.7181 - val_loss: 0.4035\n",
      "Epoch 162/1000\n",
      "26/26 [==============================] - 7s 255ms/step - loss: 0.6892 - val_loss: 0.4025\n",
      "Epoch 163/1000\n",
      "26/26 [==============================] - 6s 235ms/step - loss: 0.7406 - val_loss: 0.4037\n",
      "Epoch 164/1000\n",
      "26/26 [==============================] - 6s 223ms/step - loss: 0.7456 - val_loss: 0.4049\n",
      "Epoch 165/1000\n",
      "26/26 [==============================] - 4s 166ms/step - loss: 0.7383 - val_loss: 0.4039\n",
      "Epoch 166/1000\n",
      "26/26 [==============================] - 4s 166ms/step - loss: 0.7720 - val_loss: 0.4038\n",
      "Epoch 167/1000\n",
      "26/26 [==============================] - 4s 158ms/step - loss: 0.6836 - val_loss: 0.4039\n",
      "Epoch 168/1000\n",
      "26/26 [==============================] - 4s 158ms/step - loss: 0.7169 - val_loss: 0.4042\n",
      "Epoch 169/1000\n",
      "26/26 [==============================] - 4s 157ms/step - loss: 0.7042 - val_loss: 0.4042\n",
      "Epoch 170/1000\n",
      "26/26 [==============================] - 4s 158ms/step - loss: 0.6908 - val_loss: 0.4043\n",
      "Epoch 171/1000\n",
      "26/26 [==============================] - 5s 173ms/step - loss: 0.7165 - val_loss: 0.4044\n",
      "Epoch 172/1000\n",
      "26/26 [==============================] - 5s 178ms/step - loss: 0.6313 - val_loss: 0.4043\n",
      "Epoch 173/1000\n",
      "26/26 [==============================] - 4s 157ms/step - loss: 0.7550 - val_loss: 0.4042\n",
      "Epoch 174/1000\n",
      "26/26 [==============================] - 4s 172ms/step - loss: 0.6731 - val_loss: 0.4041\n",
      "Epoch 175/1000\n",
      "26/26 [==============================] - 4s 158ms/step - loss: 0.7612 - val_loss: 0.4043\n",
      "Epoch 176/1000\n",
      "26/26 [==============================] - 4s 164ms/step - loss: 0.7438 - val_loss: 0.4043\n",
      "Epoch 177/1000\n",
      "26/26 [==============================] - 4s 163ms/step - loss: 0.7205 - val_loss: 0.4045\n",
      "Epoch 178/1000\n",
      "26/26 [==============================] - 4s 161ms/step - loss: 0.7084 - val_loss: 0.4045\n",
      "Epoch 179/1000\n",
      "26/26 [==============================] - 4s 163ms/step - loss: 0.6784 - val_loss: 0.4045\n",
      "Epoch 180/1000\n",
      "26/26 [==============================] - 4s 164ms/step - loss: 0.7011 - val_loss: 0.4047\n",
      "Epoch 181/1000\n",
      "26/26 [==============================] - 4s 156ms/step - loss: 0.6607 - val_loss: 0.4047\n",
      "Epoch 182/1000\n",
      "26/26 [==============================] - 5s 179ms/step - loss: 0.6911 - val_loss: 0.4045\n",
      "Epoch 183/1000\n",
      "26/26 [==============================] - 4s 170ms/step - loss: 0.7808 - val_loss: 0.4047\n",
      "Epoch 184/1000\n",
      "26/26 [==============================] - 5s 183ms/step - loss: 0.7252 - val_loss: 0.4046\n",
      "Epoch 185/1000\n",
      "26/26 [==============================] - 4s 172ms/step - loss: 0.6515 - val_loss: 0.4044\n",
      "Epoch 186/1000\n",
      "26/26 [==============================] - 4s 159ms/step - loss: 0.7832 - val_loss: 0.4045\n",
      "Epoch 187/1000\n",
      "26/26 [==============================] - 5s 187ms/step - loss: 0.7087 - val_loss: 0.4044\n",
      "Epoch 188/1000\n",
      "26/26 [==============================] - 5s 180ms/step - loss: 0.6718 - val_loss: 0.4044\n",
      "Epoch 189/1000\n",
      "26/26 [==============================] - 5s 189ms/step - loss: 0.7084 - val_loss: 0.4042\n",
      "Epoch 190/1000\n",
      "26/26 [==============================] - 4s 164ms/step - loss: 0.6777 - val_loss: 0.4040\n",
      "Epoch 191/1000\n",
      "26/26 [==============================] - 4s 153ms/step - loss: 0.6279 - val_loss: 0.4040\n",
      "Epoch 192/1000\n",
      "26/26 [==============================] - 4s 156ms/step - loss: 0.6935 - val_loss: 0.4040\n",
      "Epoch 193/1000\n",
      "26/26 [==============================] - 4s 153ms/step - loss: 0.7134 - val_loss: 0.4040\n",
      "Epoch 194/1000\n",
      "26/26 [==============================] - 4s 153ms/step - loss: 0.6937 - val_loss: 0.4040\n",
      "Epoch 195/1000\n",
      "26/26 [==============================] - 4s 155ms/step - loss: 0.7097 - val_loss: 0.4040\n",
      "Epoch 196/1000\n",
      "26/26 [==============================] - 4s 160ms/step - loss: 0.7690 - val_loss: 0.4040\n",
      "Epoch 197/1000\n",
      "26/26 [==============================] - 4s 159ms/step - loss: 0.6938 - val_loss: 0.4040\n",
      "Epoch 198/1000\n",
      "26/26 [==============================] - 4s 156ms/step - loss: 0.7316 - val_loss: 0.4040\n",
      "Epoch 199/1000\n",
      "26/26 [==============================] - 4s 159ms/step - loss: 0.7581 - val_loss: 0.4040\n",
      "Epoch 200/1000\n",
      "26/26 [==============================] - 4s 158ms/step - loss: 0.6667 - val_loss: 0.4040\n",
      "Epoch 201/1000\n",
      "26/26 [==============================] - 4s 157ms/step - loss: 0.7235 - val_loss: 0.4040\n",
      "Epoch 202/1000\n",
      "26/26 [==============================] - 4s 155ms/step - loss: 0.7351 - val_loss: 0.4040\n",
      "Epoch 203/1000\n",
      "26/26 [==============================] - 4s 158ms/step - loss: 0.8006 - val_loss: 0.4040\n",
      "Epoch 204/1000\n",
      "26/26 [==============================] - 4s 157ms/step - loss: 0.6206 - val_loss: 0.4040\n",
      "Epoch 205/1000\n",
      "26/26 [==============================] - 4s 161ms/step - loss: 0.7608 - val_loss: 0.4040\n",
      "Epoch 206/1000\n",
      "26/26 [==============================] - 4s 157ms/step - loss: 0.6620 - val_loss: 0.4040\n",
      "Epoch 207/1000\n",
      "26/26 [==============================] - 4s 158ms/step - loss: 0.6876 - val_loss: 0.4040\n",
      "Epoch 208/1000\n",
      "26/26 [==============================] - 4s 159ms/step - loss: 0.7170 - val_loss: 0.4040\n",
      "Epoch 209/1000\n",
      "26/26 [==============================] - 4s 156ms/step - loss: 0.7625 - val_loss: 0.4040\n",
      "Epoch 210/1000\n",
      "26/26 [==============================] - 4s 158ms/step - loss: 0.6869 - val_loss: 0.4039\n",
      "Epoch 211/1000\n",
      "26/26 [==============================] - 4s 163ms/step - loss: 0.8058 - val_loss: 0.4039\n",
      "Epoch 212/1000\n",
      "26/26 [==============================] - 4s 157ms/step - loss: 0.7217 - val_loss: 0.4039\n",
      "Epoch 213/1000\n",
      "26/26 [==============================] - 4s 163ms/step - loss: 0.7586 - val_loss: 0.4040\n",
      "Epoch 214/1000\n",
      "26/26 [==============================] - 4s 163ms/step - loss: 0.6865 - val_loss: 0.4040\n",
      "Epoch 215/1000\n",
      "26/26 [==============================] - ETA: 0s - loss: 0.6918Restoring model weights from the end of the best epoch.\n",
      "26/26 [==============================] - 4s 162ms/step - loss: 0.6918 - val_loss: 0.4040\n",
      "Epoch 00215: early stopping\n"
     ]
    }
   ],
   "source": [
    "# History object for plotting our model loss by epoch\n",
    "history = model.fit(x_train, y_train, batch_size = BATCH, \n",
    "                    epochs = EPOCHS, validation_data = (x_val, y_val),\n",
    "                    callbacks = [rlrop, early_stop])"
   ]
  },
  {
   "cell_type": "code",
   "execution_count": 27,
   "metadata": {
    "scrolled": false
   },
   "outputs": [
    {
     "data": {
      "image/png": "[encoded data removed]",
      "text/plain": [
       "<Figure size 720x504 with 1 Axes>"
      ]
     },
     "metadata": {
      "needs_background": "light"
     },
     "output_type": "display_data"
    }
   ],
   "source": [
    "# Loss History\n",
    "fig = plt.figure(figsize=(10, 7))\n",
    "plt.plot(history.history['loss'])\n",
    "plt.plot(history.history['val_loss'])\n",
    "plt.title('Model Loss')\n",
    "plt.ylabel('Loss')\n",
    "plt.xlabel('Epoch')\n",
    "plt.legend(['Train', 'Val'], loc='upper right')\n",
    "plt.show()"
   ]
  },
  {
   "cell_type": "markdown",
   "metadata": {},
   "source": [
    "### Previsão 12 meses em Validação"
   ]
  },
  {
   "cell_type": "code",
   "execution_count": 28,
   "metadata": {},
   "outputs": [
    {
     "data": {
      "text/plain": [
       "array([[1.1748828e+10],\n",
       "       [1.1224075e+10],\n",
       "       [1.2096810e+10],\n",
       "       [1.1608407e+10],\n",
       "       [1.1550012e+10],\n",
       "       [1.1815618e+10],\n",
       "       [1.2812797e+10],\n",
       "       [1.2913509e+10],\n",
       "       [1.3038768e+10],\n",
       "       [1.3346167e+10],\n",
       "       [1.3233670e+10],\n",
       "       [1.3477294e+10]], dtype=float32)"
      ]
     },
     "execution_count": 28,
     "metadata": {},
     "output_type": "execute_result"
    }
   ],
   "source": [
    "Y_pred_val = np.exp(model.predict(x_val))\n",
    "Y_pred_val"
   ]
  },
  {
   "cell_type": "code",
   "execution_count": 29,
   "metadata": {},
   "outputs": [
    {
     "data": {
      "text/plain": [
       "date\n",
       "2020-01-01    1.174883e+10\n",
       "2020-02-01    1.122408e+10\n",
       "2020-03-01    1.209681e+10\n",
       "2020-04-01    1.160841e+10\n",
       "2020-05-01    1.155001e+10\n",
       "2020-06-01    1.181562e+10\n",
       "2020-07-01    1.281280e+10\n",
       "2020-08-01    1.291351e+10\n",
       "2020-09-01    1.303877e+10\n",
       "2020-10-01    1.334617e+10\n",
       "2020-11-01    1.323367e+10\n",
       "2020-12-01    1.347729e+10\n",
       "dtype: float32"
      ]
     },
     "execution_count": 29,
     "metadata": {},
     "output_type": "execute_result"
    }
   ],
   "source": [
    "y_pred_val = pd.Series(Y_pred_val.ravel())\n",
    "y_pred_val.index = icms_val.index\n",
    "y_pred_val"
   ]
  },
  {
   "cell_type": "code",
   "execution_count": 30,
   "metadata": {},
   "outputs": [
    {
     "data": {
      "text/plain": [
       "array([1.29298064e+10, 1.17768555e+10, 1.20859318e+10, 1.04555951e+10,\n",
       "       9.02352877e+09, 9.98354365e+09, 1.13487269e+10, 1.22773078e+10,\n",
       "       1.30983500e+10, 1.38778659e+10, 1.47458963e+10, 1.49064019e+10])"
      ]
     },
     "execution_count": 30,
     "metadata": {},
     "output_type": "execute_result"
    }
   ],
   "source": [
    "np.exp(y_val).ravel()"
   ]
  },
  {
   "cell_type": "code",
   "execution_count": 31,
   "metadata": {},
   "outputs": [
    {
     "data": {
      "text/plain": [
       "1288819493.9563358"
      ]
     },
     "execution_count": 31,
     "metadata": {},
     "output_type": "execute_result"
    }
   ],
   "source": [
    "RMSE_lstm_val = mean_squared_error(np.exp(y_val).ravel(), y_pred_val, squared=False)\n",
    "RMSE_lstm_val"
   ]
  },
  {
   "cell_type": "code",
   "execution_count": 32,
   "metadata": {},
   "outputs": [
    {
     "data": {
      "text/plain": [
       "0.09458699893351907"
      ]
     },
     "execution_count": 32,
     "metadata": {},
     "output_type": "execute_result"
    }
   ],
   "source": [
    "MAPE_lstm_val = mean_absolute_percentage_error(np.exp(y_val).ravel(), y_pred_val)\n",
    "MAPE_lstm_val"
   ]
  },
  {
   "cell_type": "code",
   "execution_count": 33,
   "metadata": {},
   "outputs": [],
   "source": [
    "previsoes['nome'].append('RNN-LSTM-Camadas')\n",
    "previsoes['modelo'].append(model)\n",
    "previsoes['previsoes'].append(y_pred_val)\n",
    "\n",
    "previsoes['rmse'].append(RMSE_lstm_val)\n",
    "\n",
    "previsoes['mape'].append(MAPE_lstm_val)"
   ]
  },
  {
   "cell_type": "code",
   "execution_count": 34,
   "metadata": {},
   "outputs": [],
   "source": [
    "previsoes['erro relativo'].append([erro_relativo(prev,real) \n",
    "                                   for prev,real in zip(y_pred_val, y_test)])"
   ]
  },
  {
   "cell_type": "markdown",
   "metadata": {},
   "source": [
    "## Arquitetura da Rede - Larga"
   ]
  },
  {
   "cell_type": "code",
   "execution_count": 35,
   "metadata": {},
   "outputs": [],
   "source": [
    "rlrop2 = ReduceLROnPlateau(monitor='val_loss', factor=0.1, patience=25)\n",
    "early_stop2 = EarlyStopping(monitor='val_loss', patience=100, verbose=1, \n",
    "                           restore_best_weights=True)"
   ]
  },
  {
   "cell_type": "code",
   "execution_count": 36,
   "metadata": {},
   "outputs": [],
   "source": [
    "# Épocas\n",
    "EPOCHS2 = 1000\n",
    "NEURONIOS2 = 600\n",
    "DROPOUT2 = 0.15\n",
    "LR2 = 1e-5\n",
    "BATCH2 = 8\n",
    "\n",
    "# Imstanciação do modelo\n",
    "model2 = Sequential()\n",
    "\n",
    "# Adicionar camada LSTM \n",
    "model2.add(LSTM(activation='tanh', dropout=DROPOUT2,\n",
    "        input_shape = (12, 1), return_sequences = False,\n",
    "        units = NEURONIOS2))\n",
    "\n",
    "# Adicionar a camada de saída com 1 neurônio linear\n",
    "model2.add(Dense(\n",
    "        units = 1,\n",
    "        activation = 'linear'))\n",
    "# a learning rate padrão do Adam é 0.001\n",
    "model2.compile(loss = 'mape', optimizer = Adam(learning_rate=LR2))"
   ]
  },
  {
   "cell_type": "code",
   "execution_count": 37,
   "metadata": {},
   "outputs": [
    {
     "name": "stdout",
     "output_type": "stream",
     "text": [
      "Model: \"sequential_1\"\n",
      "_________________________________________________________________\n",
      "Layer (type)                 Output Shape              Param #   \n",
      "=================================================================\n",
      "lstm_3 (LSTM)                (None, 600)               1444800   \n",
      "_________________________________________________________________\n",
      "dense_1 (Dense)              (None, 1)                 601       \n",
      "=================================================================\n",
      "Total params: 1,445,401\n",
      "Trainable params: 1,445,401\n",
      "Non-trainable params: 0\n",
      "_________________________________________________________________\n"
     ]
    }
   ],
   "source": [
    "model2.summary()"
   ]
  },
  {
   "cell_type": "code",
   "execution_count": 38,
   "metadata": {
    "scrolled": true
   },
   "outputs": [
    {
     "name": "stdout",
     "output_type": "stream",
     "text": [
      "Epoch 1/1000\n",
      "26/26 [==============================] - 1s 49ms/step - loss: 99.9043 - val_loss: 99.5530\n",
      "Epoch 2/1000\n",
      "26/26 [==============================] - 1s 32ms/step - loss: 99.5970 - val_loss: 99.0006\n",
      "Epoch 3/1000\n",
      "26/26 [==============================] - 1s 34ms/step - loss: 99.2753 - val_loss: 98.3480\n",
      "Epoch 4/1000\n",
      "26/26 [==============================] - 1s 38ms/step - loss: 98.8695 - val_loss: 97.4965\n",
      "Epoch 5/1000\n",
      "26/26 [==============================] - 1s 39ms/step - loss: 98.3079 - val_loss: 96.2275\n",
      "Epoch 6/1000\n",
      "26/26 [==============================] - 1s 41ms/step - loss: 97.4308 - val_loss: 94.1270\n",
      "Epoch 7/1000\n",
      "26/26 [==============================] - 1s 41ms/step - loss: 95.8579 - val_loss: 89.9605\n",
      "Epoch 8/1000\n",
      "26/26 [==============================] - 1s 41ms/step - loss: 92.6408 - val_loss: 79.5613\n",
      "Epoch 9/1000\n",
      "26/26 [==============================] - 1s 40ms/step - loss: 83.5330 - val_loss: 50.6407\n",
      "Epoch 10/1000\n",
      "26/26 [==============================] - 1s 40ms/step - loss: 59.1370 - val_loss: 16.4615\n",
      "Epoch 11/1000\n",
      "26/26 [==============================] - 1s 41ms/step - loss: 25.5872 - val_loss: 0.3739\n",
      "Epoch 12/1000\n",
      "26/26 [==============================] - 1s 40ms/step - loss: 7.0568 - val_loss: 3.6145\n",
      "Epoch 13/1000\n",
      "26/26 [==============================] - 1s 38ms/step - loss: 4.1978 - val_loss: 0.4500\n",
      "Epoch 14/1000\n",
      "26/26 [==============================] - 1s 39ms/step - loss: 2.3551 - val_loss: 0.4850\n",
      "Epoch 15/1000\n",
      "26/26 [==============================] - 1s 38ms/step - loss: 1.4596 - val_loss: 0.9326\n",
      "Epoch 16/1000\n",
      "26/26 [==============================] - 1s 37ms/step - loss: 1.3894 - val_loss: 0.7547\n",
      "Epoch 17/1000\n",
      "26/26 [==============================] - 1s 36ms/step - loss: 1.2681 - val_loss: 0.8154\n",
      "Epoch 18/1000\n",
      "26/26 [==============================] - 1s 37ms/step - loss: 1.2841 - val_loss: 0.9679\n",
      "Epoch 19/1000\n",
      "26/26 [==============================] - 1s 38ms/step - loss: 1.0564 - val_loss: 0.9100\n",
      "Epoch 20/1000\n",
      "26/26 [==============================] - 1s 36ms/step - loss: 1.2261 - val_loss: 1.0914\n",
      "Epoch 21/1000\n",
      "26/26 [==============================] - 1s 34ms/step - loss: 1.3009 - val_loss: 0.9235\n",
      "Epoch 22/1000\n",
      "26/26 [==============================] - 1s 38ms/step - loss: 1.1534 - val_loss: 1.0771\n",
      "Epoch 23/1000\n",
      "26/26 [==============================] - 1s 52ms/step - loss: 1.0773 - val_loss: 0.9111\n",
      "Epoch 24/1000\n",
      "26/26 [==============================] - 1s 38ms/step - loss: 1.0137 - val_loss: 1.1571\n",
      "Epoch 25/1000\n",
      "26/26 [==============================] - 1s 37ms/step - loss: 1.0337 - val_loss: 0.8445\n",
      "Epoch 26/1000\n",
      "26/26 [==============================] - 1s 40ms/step - loss: 1.1079 - val_loss: 0.8753\n",
      "Epoch 27/1000\n",
      "26/26 [==============================] - 1s 37ms/step - loss: 0.9977 - val_loss: 0.9591\n",
      "Epoch 28/1000\n",
      "26/26 [==============================] - 1s 37ms/step - loss: 1.0501 - val_loss: 1.0866\n",
      "Epoch 29/1000\n",
      "26/26 [==============================] - 1s 38ms/step - loss: 1.0035 - val_loss: 1.0425\n",
      "Epoch 30/1000\n",
      "26/26 [==============================] - 1s 36ms/step - loss: 1.1061 - val_loss: 0.9355\n",
      "Epoch 31/1000\n",
      "26/26 [==============================] - 1s 37ms/step - loss: 1.0859 - val_loss: 0.8006\n",
      "Epoch 32/1000\n",
      "26/26 [==============================] - 1s 35ms/step - loss: 1.0215 - val_loss: 1.1814\n",
      "Epoch 33/1000\n",
      "26/26 [==============================] - 1s 33ms/step - loss: 1.0457 - val_loss: 0.9390\n",
      "Epoch 34/1000\n",
      "26/26 [==============================] - 1s 35ms/step - loss: 1.0056 - val_loss: 1.2473\n",
      "Epoch 35/1000\n",
      "26/26 [==============================] - 1s 39ms/step - loss: 1.0491 - val_loss: 0.9430\n",
      "Epoch 36/1000\n",
      "26/26 [==============================] - 1s 42ms/step - loss: 0.9985 - val_loss: 0.9239\n",
      "Epoch 37/1000\n",
      "26/26 [==============================] - 1s 39ms/step - loss: 0.8811 - val_loss: 0.8990\n",
      "Epoch 38/1000\n",
      "26/26 [==============================] - 1s 38ms/step - loss: 0.9971 - val_loss: 0.9285\n",
      "Epoch 39/1000\n",
      "26/26 [==============================] - 1s 44ms/step - loss: 0.9804 - val_loss: 0.9617\n",
      "Epoch 40/1000\n",
      "26/26 [==============================] - 1s 44ms/step - loss: 1.0507 - val_loss: 0.9340\n",
      "Epoch 41/1000\n",
      "26/26 [==============================] - 1s 42ms/step - loss: 0.9863 - val_loss: 0.9415\n",
      "Epoch 42/1000\n",
      "26/26 [==============================] - 1s 42ms/step - loss: 1.0585 - val_loss: 0.9550\n",
      "Epoch 43/1000\n",
      "26/26 [==============================] - 1s 42ms/step - loss: 1.0933 - val_loss: 0.9449\n",
      "Epoch 44/1000\n",
      "26/26 [==============================] - 1s 45ms/step - loss: 1.0291 - val_loss: 0.9266\n",
      "Epoch 45/1000\n",
      "26/26 [==============================] - 1s 40ms/step - loss: 1.1402 - val_loss: 0.9408\n",
      "Epoch 46/1000\n",
      "26/26 [==============================] - 1s 41ms/step - loss: 1.0353 - val_loss: 0.9196\n",
      "Epoch 47/1000\n",
      "26/26 [==============================] - 1s 38ms/step - loss: 0.9651 - val_loss: 0.9111\n",
      "Epoch 48/1000\n",
      "26/26 [==============================] - 1s 38ms/step - loss: 0.9257 - val_loss: 0.9149\n",
      "Epoch 49/1000\n",
      "26/26 [==============================] - 1s 36ms/step - loss: 1.0333 - val_loss: 0.9242\n",
      "Epoch 50/1000\n",
      "26/26 [==============================] - 1s 36ms/step - loss: 0.9468 - val_loss: 0.9213\n",
      "Epoch 51/1000\n",
      "26/26 [==============================] - 1s 36ms/step - loss: 1.1118 - val_loss: 0.8920\n",
      "Epoch 52/1000\n",
      "26/26 [==============================] - 1s 38ms/step - loss: 1.0565 - val_loss: 0.9263\n",
      "Epoch 53/1000\n",
      "26/26 [==============================] - 1s 36ms/step - loss: 1.0576 - val_loss: 0.9433\n",
      "Epoch 54/1000\n",
      "26/26 [==============================] - 1s 38ms/step - loss: 1.0634 - val_loss: 0.9275\n",
      "Epoch 55/1000\n",
      "26/26 [==============================] - 1s 37ms/step - loss: 1.0456 - val_loss: 0.9177\n",
      "Epoch 56/1000\n",
      "26/26 [==============================] - 1s 38ms/step - loss: 1.1282 - val_loss: 0.9040\n",
      "Epoch 57/1000\n",
      "26/26 [==============================] - 1s 37ms/step - loss: 0.9837 - val_loss: 0.9117\n",
      "Epoch 58/1000\n",
      "26/26 [==============================] - 1s 37ms/step - loss: 1.0087 - val_loss: 0.9364\n",
      "Epoch 59/1000\n",
      "26/26 [==============================] - 1s 37ms/step - loss: 1.0181 - val_loss: 0.8992\n",
      "Epoch 60/1000\n",
      "26/26 [==============================] - 1s 38ms/step - loss: 0.9459 - val_loss: 0.9042\n",
      "Epoch 61/1000\n",
      "26/26 [==============================] - 1s 37ms/step - loss: 0.9189 - val_loss: 0.9284\n",
      "Epoch 62/1000\n",
      "26/26 [==============================] - 1s 37ms/step - loss: 1.0704 - val_loss: 0.9281\n",
      "Epoch 63/1000\n",
      "26/26 [==============================] - 1s 37ms/step - loss: 1.0649 - val_loss: 0.9259\n",
      "Epoch 64/1000\n",
      "26/26 [==============================] - 1s 36ms/step - loss: 0.9529 - val_loss: 0.9249\n",
      "Epoch 65/1000\n",
      "26/26 [==============================] - 1s 42ms/step - loss: 1.0589 - val_loss: 0.9248\n",
      "Epoch 66/1000\n",
      "26/26 [==============================] - 1s 35ms/step - loss: 1.1261 - val_loss: 0.9289\n",
      "Epoch 67/1000\n",
      "26/26 [==============================] - 1s 37ms/step - loss: 1.0296 - val_loss: 0.9265\n",
      "Epoch 68/1000\n",
      "26/26 [==============================] - 1s 37ms/step - loss: 1.0443 - val_loss: 0.9238\n",
      "Epoch 69/1000\n",
      "26/26 [==============================] - 1s 39ms/step - loss: 0.9839 - val_loss: 0.9263\n",
      "Epoch 70/1000\n",
      "26/26 [==============================] - 1s 33ms/step - loss: 1.0303 - val_loss: 0.9275\n",
      "Epoch 71/1000\n",
      "26/26 [==============================] - 1s 38ms/step - loss: 1.0821 - val_loss: 0.9251\n",
      "Epoch 72/1000\n",
      "26/26 [==============================] - 1s 37ms/step - loss: 0.9396 - val_loss: 0.9219\n",
      "Epoch 73/1000\n",
      "26/26 [==============================] - 1s 36ms/step - loss: 1.1148 - val_loss: 0.9192\n",
      "Epoch 74/1000\n",
      "26/26 [==============================] - 1s 35ms/step - loss: 0.8919 - val_loss: 0.9225\n",
      "Epoch 75/1000\n",
      "26/26 [==============================] - 1s 39ms/step - loss: 1.1497 - val_loss: 0.9212\n",
      "Epoch 76/1000\n",
      "26/26 [==============================] - 1s 38ms/step - loss: 0.9118 - val_loss: 0.9230\n",
      "Epoch 77/1000\n",
      "26/26 [==============================] - 1s 38ms/step - loss: 0.9297 - val_loss: 0.9257\n",
      "Epoch 78/1000\n",
      "26/26 [==============================] - 1s 36ms/step - loss: 0.9901 - val_loss: 0.9270\n",
      "Epoch 79/1000\n",
      "26/26 [==============================] - 1s 40ms/step - loss: 0.9314 - val_loss: 0.9219\n",
      "Epoch 80/1000\n",
      "26/26 [==============================] - 1s 37ms/step - loss: 0.9996 - val_loss: 0.9222\n",
      "Epoch 81/1000\n",
      "26/26 [==============================] - 1s 36ms/step - loss: 1.0657 - val_loss: 0.9254\n",
      "Epoch 82/1000\n",
      "26/26 [==============================] - 1s 33ms/step - loss: 0.9879 - val_loss: 0.9227\n",
      "Epoch 83/1000\n",
      "26/26 [==============================] - 1s 34ms/step - loss: 0.9924 - val_loss: 0.9210\n",
      "Epoch 84/1000\n",
      "26/26 [==============================] - 1s 36ms/step - loss: 0.9294 - val_loss: 0.9200\n",
      "Epoch 85/1000\n",
      "26/26 [==============================] - 1s 36ms/step - loss: 1.0094 - val_loss: 0.9180\n",
      "Epoch 86/1000\n",
      "26/26 [==============================] - 1s 37ms/step - loss: 1.1039 - val_loss: 0.9155\n",
      "Epoch 87/1000\n",
      "26/26 [==============================] - 1s 37ms/step - loss: 0.8869 - val_loss: 0.9154\n",
      "Epoch 88/1000\n",
      "26/26 [==============================] - 1s 38ms/step - loss: 0.9600 - val_loss: 0.9154\n",
      "Epoch 89/1000\n",
      "26/26 [==============================] - 1s 36ms/step - loss: 0.9690 - val_loss: 0.9153\n",
      "Epoch 90/1000\n",
      "26/26 [==============================] - 1s 34ms/step - loss: 1.1165 - val_loss: 0.9153\n",
      "Epoch 91/1000\n",
      "26/26 [==============================] - 1s 34ms/step - loss: 1.1245 - val_loss: 0.9150\n",
      "Epoch 92/1000\n",
      "26/26 [==============================] - 1s 36ms/step - loss: 1.0207 - val_loss: 0.9150\n",
      "Epoch 93/1000\n",
      "26/26 [==============================] - 1s 36ms/step - loss: 1.0199 - val_loss: 0.9149\n",
      "Epoch 94/1000\n",
      "26/26 [==============================] - 1s 36ms/step - loss: 1.1185 - val_loss: 0.9149\n",
      "Epoch 95/1000\n",
      "26/26 [==============================] - 1s 47ms/step - loss: 0.9387 - val_loss: 0.9154\n",
      "Epoch 96/1000\n",
      "26/26 [==============================] - 1s 49ms/step - loss: 1.0545 - val_loss: 0.9155\n",
      "Epoch 97/1000\n",
      "26/26 [==============================] - 1s 53ms/step - loss: 0.9175 - val_loss: 0.9159\n",
      "Epoch 98/1000\n",
      "26/26 [==============================] - 2s 70ms/step - loss: 0.9520 - val_loss: 0.9159\n",
      "Epoch 99/1000\n",
      "26/26 [==============================] - 2s 63ms/step - loss: 0.9511 - val_loss: 0.9159\n",
      "Epoch 100/1000\n",
      "26/26 [==============================] - 1s 57ms/step - loss: 1.1196 - val_loss: 0.9160\n",
      "Epoch 101/1000\n",
      "26/26 [==============================] - 1s 39ms/step - loss: 1.0522 - val_loss: 0.9155\n",
      "Epoch 102/1000\n",
      "26/26 [==============================] - 1s 43ms/step - loss: 0.9968 - val_loss: 0.9154\n",
      "Epoch 103/1000\n",
      "26/26 [==============================] - 1s 48ms/step - loss: 0.9661 - val_loss: 0.9157\n",
      "Epoch 104/1000\n",
      "26/26 [==============================] - 1s 37ms/step - loss: 1.0461 - val_loss: 0.9158\n",
      "Epoch 105/1000\n",
      "26/26 [==============================] - 1s 39ms/step - loss: 0.9640 - val_loss: 0.9161\n",
      "Epoch 106/1000\n",
      "26/26 [==============================] - 1s 40ms/step - loss: 1.1609 - val_loss: 0.9158\n",
      "Epoch 107/1000\n",
      "26/26 [==============================] - 1s 37ms/step - loss: 0.9819 - val_loss: 0.9157\n",
      "Epoch 108/1000\n",
      "26/26 [==============================] - 1s 38ms/step - loss: 0.9553 - val_loss: 0.9158\n",
      "Epoch 109/1000\n",
      "26/26 [==============================] - 1s 36ms/step - loss: 1.0076 - val_loss: 0.9158\n",
      "Epoch 110/1000\n",
      "26/26 [==============================] - 1s 36ms/step - loss: 1.1001 - val_loss: 0.9159\n",
      "Epoch 111/1000\n",
      "25/26 [===========================>..] - ETA: 0s - loss: 1.1296Restoring model weights from the end of the best epoch.\n",
      "26/26 [==============================] - 1s 37ms/step - loss: 1.1245 - val_loss: 0.9160\n",
      "Epoch 00111: early stopping\n"
     ]
    }
   ],
   "source": [
    "# History object for plotting our model loss by epoch\n",
    "history2 = model2.fit(x_train, y_train, batch_size = BATCH2, \n",
    "                    epochs = EPOCHS2, validation_data = (x_val, y_val),\n",
    "                    callbacks = [rlrop2, early_stop2])"
   ]
  },
  {
   "cell_type": "code",
   "execution_count": 39,
   "metadata": {
    "scrolled": false
   },
   "outputs": [
    {
     "data": {
      "image/png": "[encoded data removed]",
      "text/plain": [
       "<Figure size 720x504 with 1 Axes>"
      ]
     },
     "metadata": {
      "needs_background": "light"
     },
     "output_type": "display_data"
    }
   ],
   "source": [
    "# Loss History\n",
    "fig = plt.figure(figsize=(10, 7))\n",
    "plt.plot(history2.history['loss'])\n",
    "plt.plot(history2.history['val_loss'])\n",
    "plt.title('Model Loss')\n",
    "plt.ylabel('Loss')\n",
    "plt.xlabel('Epoch')\n",
    "plt.legend(['Train', 'Val'], loc='upper right')\n",
    "plt.show()"
   ]
  },
  {
   "cell_type": "markdown",
   "metadata": {},
   "source": [
    "### Previsão 12 meses em Validação"
   ]
  },
  {
   "cell_type": "code",
   "execution_count": 40,
   "metadata": {},
   "outputs": [
    {
     "data": {
      "text/plain": [
       "array([[1.0546256e+10],\n",
       "       [9.3368197e+09],\n",
       "       [1.1627930e+10],\n",
       "       [9.5404769e+09],\n",
       "       [9.5306568e+09],\n",
       "       [1.0443965e+10],\n",
       "       [1.2648460e+10],\n",
       "       [1.2519713e+10],\n",
       "       [1.2797849e+10],\n",
       "       [1.3527925e+10],\n",
       "       [1.3193522e+10],\n",
       "       [1.3649222e+10]], dtype=float32)"
      ]
     },
     "execution_count": 40,
     "metadata": {},
     "output_type": "execute_result"
    }
   ],
   "source": [
    "Y_pred_val2 = np.exp(model2.predict(x_val))\n",
    "Y_pred_val2"
   ]
  },
  {
   "cell_type": "code",
   "execution_count": 41,
   "metadata": {},
   "outputs": [
    {
     "data": {
      "text/plain": [
       "date\n",
       "2020-01-01    1.054626e+10\n",
       "2020-02-01    9.336820e+09\n",
       "2020-03-01    1.162793e+10\n",
       "2020-04-01    9.540477e+09\n",
       "2020-05-01    9.530657e+09\n",
       "2020-06-01    1.044397e+10\n",
       "2020-07-01    1.264846e+10\n",
       "2020-08-01    1.251971e+10\n",
       "2020-09-01    1.279785e+10\n",
       "2020-10-01    1.352792e+10\n",
       "2020-11-01    1.319352e+10\n",
       "2020-12-01    1.364922e+10\n",
       "dtype: float32"
      ]
     },
     "execution_count": 41,
     "metadata": {},
     "output_type": "execute_result"
    }
   ],
   "source": [
    "y_pred_val2 = pd.Series(Y_pred_val2.ravel())\n",
    "y_pred_val2.index = icms_val.index\n",
    "y_pred_val2"
   ]
  },
  {
   "cell_type": "code",
   "execution_count": 42,
   "metadata": {},
   "outputs": [
    {
     "data": {
      "text/plain": [
       "array([1.29298064e+10, 1.17768555e+10, 1.20859318e+10, 1.04555951e+10,\n",
       "       9.02352877e+09, 9.98354365e+09, 1.13487269e+10, 1.22773078e+10,\n",
       "       1.30983500e+10, 1.38778659e+10, 1.47458963e+10, 1.49064019e+10])"
      ]
     },
     "execution_count": 42,
     "metadata": {},
     "output_type": "execute_result"
    }
   ],
   "source": [
    "np.exp(y_val).ravel()"
   ]
  },
  {
   "cell_type": "code",
   "execution_count": 43,
   "metadata": {},
   "outputs": [
    {
     "data": {
      "text/plain": [
       "1261700459.0879986"
      ]
     },
     "execution_count": 43,
     "metadata": {},
     "output_type": "execute_result"
    }
   ],
   "source": [
    "RMSE_lstm_val2 = mean_squared_error(np.exp(y_val).ravel(), y_pred_val2, squared=False)\n",
    "RMSE_lstm_val2"
   ]
  },
  {
   "cell_type": "code",
   "execution_count": 44,
   "metadata": {},
   "outputs": [
    {
     "data": {
      "text/plain": [
       "0.08260957038073766"
      ]
     },
     "execution_count": 44,
     "metadata": {},
     "output_type": "execute_result"
    }
   ],
   "source": [
    "MAPE_lstm_val2 = mean_absolute_percentage_error(np.exp(y_val).ravel(), y_pred_val2)\n",
    "MAPE_lstm_val2"
   ]
  },
  {
   "cell_type": "code",
   "execution_count": 45,
   "metadata": {},
   "outputs": [],
   "source": [
    "previsoes['nome'].append('RNN-LSTM-Larga')\n",
    "previsoes['modelo'].append(model2)\n",
    "previsoes['previsoes'].append(y_pred_val2)\n",
    "\n",
    "previsoes['rmse'].append(RMSE_lstm_val2)\n",
    "\n",
    "previsoes['mape'].append(MAPE_lstm_val2)"
   ]
  },
  {
   "cell_type": "code",
   "execution_count": 46,
   "metadata": {},
   "outputs": [],
   "source": [
    "previsoes['erro relativo'].append([erro_relativo(prev,real) \n",
    "                                   for prev,real in zip(y_pred_val2, y_test)])"
   ]
  },
  {
   "cell_type": "markdown",
   "metadata": {},
   "source": [
    "## Resultados"
   ]
  },
  {
   "cell_type": "code",
   "execution_count": 47,
   "metadata": {},
   "outputs": [],
   "source": [
    "df_prev = pd.DataFrame(data=previsoes['previsoes'], \n",
    "                       index=previsoes['nome']).transpose()\n",
    "df_prev[\"real\"] = icms_val\n",
    "df_rmse = pd.DataFrame(data=previsoes['rmse'], \n",
    "                       index=previsoes['nome']).transpose()\n",
    "df_mape = pd.DataFrame(data=previsoes['mape'], \n",
    "                       index=previsoes['nome']).transpose()\n",
    "df_erro = pd.DataFrame(data=previsoes['erro relativo'], \n",
    "                       index=previsoes['nome']).transpose()"
   ]
  },
  {
   "cell_type": "code",
   "execution_count": 48,
   "metadata": {},
   "outputs": [
    {
     "data": {
      "text/html": [
       "<div>\n",
       "<style scoped>\n",
       "    .dataframe tbody tr th:only-of-type {\n",
       "        vertical-align: middle;\n",
       "    }\n",
       "\n",
       "    .dataframe tbody tr th {\n",
       "        vertical-align: top;\n",
       "    }\n",
       "\n",
       "    .dataframe thead th {\n",
       "        text-align: right;\n",
       "    }\n",
       "</style>\n",
       "<table border=\"1\" class=\"dataframe\">\n",
       "  <thead>\n",
       "    <tr style=\"text-align: right;\">\n",
       "      <th></th>\n",
       "      <th>RNN-LSTM-Camadas</th>\n",
       "      <th>RNN-LSTM-Larga</th>\n",
       "      <th>real</th>\n",
       "    </tr>\n",
       "    <tr>\n",
       "      <th>date</th>\n",
       "      <th></th>\n",
       "      <th></th>\n",
       "      <th></th>\n",
       "    </tr>\n",
       "  </thead>\n",
       "  <tbody>\n",
       "    <tr>\n",
       "      <th>2020-01-01</th>\n",
       "      <td>1.174883e+10</td>\n",
       "      <td>1.054626e+10</td>\n",
       "      <td>1.292981e+10</td>\n",
       "    </tr>\n",
       "    <tr>\n",
       "      <th>2020-02-01</th>\n",
       "      <td>1.122408e+10</td>\n",
       "      <td>9.336820e+09</td>\n",
       "      <td>1.177686e+10</td>\n",
       "    </tr>\n",
       "    <tr>\n",
       "      <th>2020-03-01</th>\n",
       "      <td>1.209681e+10</td>\n",
       "      <td>1.162793e+10</td>\n",
       "      <td>1.208593e+10</td>\n",
       "    </tr>\n",
       "    <tr>\n",
       "      <th>2020-04-01</th>\n",
       "      <td>1.160841e+10</td>\n",
       "      <td>9.540477e+09</td>\n",
       "      <td>1.045560e+10</td>\n",
       "    </tr>\n",
       "    <tr>\n",
       "      <th>2020-05-01</th>\n",
       "      <td>1.155001e+10</td>\n",
       "      <td>9.530657e+09</td>\n",
       "      <td>9.023529e+09</td>\n",
       "    </tr>\n",
       "    <tr>\n",
       "      <th>2020-06-01</th>\n",
       "      <td>1.181562e+10</td>\n",
       "      <td>1.044397e+10</td>\n",
       "      <td>9.983544e+09</td>\n",
       "    </tr>\n",
       "    <tr>\n",
       "      <th>2020-07-01</th>\n",
       "      <td>1.281280e+10</td>\n",
       "      <td>1.264846e+10</td>\n",
       "      <td>1.134873e+10</td>\n",
       "    </tr>\n",
       "    <tr>\n",
       "      <th>2020-08-01</th>\n",
       "      <td>1.291351e+10</td>\n",
       "      <td>1.251971e+10</td>\n",
       "      <td>1.227731e+10</td>\n",
       "    </tr>\n",
       "    <tr>\n",
       "      <th>2020-09-01</th>\n",
       "      <td>1.303877e+10</td>\n",
       "      <td>1.279785e+10</td>\n",
       "      <td>1.309835e+10</td>\n",
       "    </tr>\n",
       "    <tr>\n",
       "      <th>2020-10-01</th>\n",
       "      <td>1.334617e+10</td>\n",
       "      <td>1.352792e+10</td>\n",
       "      <td>1.387787e+10</td>\n",
       "    </tr>\n",
       "    <tr>\n",
       "      <th>2020-11-01</th>\n",
       "      <td>1.323367e+10</td>\n",
       "      <td>1.319352e+10</td>\n",
       "      <td>1.474590e+10</td>\n",
       "    </tr>\n",
       "    <tr>\n",
       "      <th>2020-12-01</th>\n",
       "      <td>1.347729e+10</td>\n",
       "      <td>1.364922e+10</td>\n",
       "      <td>1.490640e+10</td>\n",
       "    </tr>\n",
       "  </tbody>\n",
       "</table>\n",
       "</div>"
      ],
      "text/plain": [
       "            RNN-LSTM-Camadas  RNN-LSTM-Larga          real\n",
       "date                                                      \n",
       "2020-01-01      1.174883e+10    1.054626e+10  1.292981e+10\n",
       "2020-02-01      1.122408e+10    9.336820e+09  1.177686e+10\n",
       "2020-03-01      1.209681e+10    1.162793e+10  1.208593e+10\n",
       "2020-04-01      1.160841e+10    9.540477e+09  1.045560e+10\n",
       "2020-05-01      1.155001e+10    9.530657e+09  9.023529e+09\n",
       "2020-06-01      1.181562e+10    1.044397e+10  9.983544e+09\n",
       "2020-07-01      1.281280e+10    1.264846e+10  1.134873e+10\n",
       "2020-08-01      1.291351e+10    1.251971e+10  1.227731e+10\n",
       "2020-09-01      1.303877e+10    1.279785e+10  1.309835e+10\n",
       "2020-10-01      1.334617e+10    1.352792e+10  1.387787e+10\n",
       "2020-11-01      1.323367e+10    1.319352e+10  1.474590e+10\n",
       "2020-12-01      1.347729e+10    1.364922e+10  1.490640e+10"
      ]
     },
     "execution_count": 48,
     "metadata": {},
     "output_type": "execute_result"
    }
   ],
   "source": [
    "df_prev"
   ]
  },
  {
   "cell_type": "code",
   "execution_count": 49,
   "metadata": {},
   "outputs": [
    {
     "data": {
      "text/html": [
       "<div>\n",
       "<style scoped>\n",
       "    .dataframe tbody tr th:only-of-type {\n",
       "        vertical-align: middle;\n",
       "    }\n",
       "\n",
       "    .dataframe tbody tr th {\n",
       "        vertical-align: top;\n",
       "    }\n",
       "\n",
       "    .dataframe thead th {\n",
       "        text-align: right;\n",
       "    }\n",
       "</style>\n",
       "<table border=\"1\" class=\"dataframe\">\n",
       "  <thead>\n",
       "    <tr style=\"text-align: right;\">\n",
       "      <th></th>\n",
       "      <th>RNN-LSTM-Camadas</th>\n",
       "      <th>RNN-LSTM-Larga</th>\n",
       "    </tr>\n",
       "  </thead>\n",
       "  <tbody>\n",
       "    <tr>\n",
       "      <th>0</th>\n",
       "      <td>[16.872326063271544]</td>\n",
       "      <td>[25.381007582893798]</td>\n",
       "    </tr>\n",
       "    <tr>\n",
       "      <th>1</th>\n",
       "      <td>[18.081593043128446]</td>\n",
       "      <td>[31.855642548678095]</td>\n",
       "    </tr>\n",
       "    <tr>\n",
       "      <th>2</th>\n",
       "      <td>[18.502046325440446]</td>\n",
       "      <td>[21.660961102533278]</td>\n",
       "    </tr>\n",
       "    <tr>\n",
       "      <th>3</th>\n",
       "      <td>[15.067499576868412]</td>\n",
       "      <td>[30.197437259726108]</td>\n",
       "    </tr>\n",
       "    <tr>\n",
       "      <th>4</th>\n",
       "      <td>[18.35269354262238]</td>\n",
       "      <td>[32.627565594733284]</td>\n",
       "    </tr>\n",
       "    <tr>\n",
       "      <th>5</th>\n",
       "      <td>[19.361924066511495]</td>\n",
       "      <td>[28.723041717330542]</td>\n",
       "    </tr>\n",
       "    <tr>\n",
       "      <th>6</th>\n",
       "      <td>[18.43336023121654]</td>\n",
       "      <td>[19.479532085107348]</td>\n",
       "    </tr>\n",
       "    <tr>\n",
       "      <th>7</th>\n",
       "      <td>[19.165892280035486]</td>\n",
       "      <td>[21.630923009016826]</td>\n",
       "    </tr>\n",
       "    <tr>\n",
       "      <th>8</th>\n",
       "      <td>[19.635828826879493]</td>\n",
       "      <td>[21.120731382535975]</td>\n",
       "    </tr>\n",
       "    <tr>\n",
       "      <th>9</th>\n",
       "      <td>[19.79794503166853]</td>\n",
       "      <td>[18.70569423837623]</td>\n",
       "    </tr>\n",
       "    <tr>\n",
       "      <th>10</th>\n",
       "      <td>[23.83951650144875]</td>\n",
       "      <td>[24.07057021678944]</td>\n",
       "    </tr>\n",
       "    <tr>\n",
       "      <th>11</th>\n",
       "      <td>[27.297995924487797]</td>\n",
       "      <td>[26.370548804019766]</td>\n",
       "    </tr>\n",
       "  </tbody>\n",
       "</table>\n",
       "</div>"
      ],
      "text/plain": [
       "        RNN-LSTM-Camadas        RNN-LSTM-Larga\n",
       "0   [16.872326063271544]  [25.381007582893798]\n",
       "1   [18.081593043128446]  [31.855642548678095]\n",
       "2   [18.502046325440446]  [21.660961102533278]\n",
       "3   [15.067499576868412]  [30.197437259726108]\n",
       "4    [18.35269354262238]  [32.627565594733284]\n",
       "5   [19.361924066511495]  [28.723041717330542]\n",
       "6    [18.43336023121654]  [19.479532085107348]\n",
       "7   [19.165892280035486]  [21.630923009016826]\n",
       "8   [19.635828826879493]  [21.120731382535975]\n",
       "9    [19.79794503166853]   [18.70569423837623]\n",
       "10   [23.83951650144875]   [24.07057021678944]\n",
       "11  [27.297995924487797]  [26.370548804019766]"
      ]
     },
     "execution_count": 49,
     "metadata": {},
     "output_type": "execute_result"
    }
   ],
   "source": [
    "df_erro"
   ]
  },
  {
   "cell_type": "markdown",
   "metadata": {},
   "source": [
    "### Resultados"
   ]
  },
  {
   "cell_type": "code",
   "execution_count": 50,
   "metadata": {
    "scrolled": false
   },
   "outputs": [
    {
     "data": {
      "image/png": "[encoded data removed]",
      "text/plain": [
       "<Figure size 1080x720 with 1 Axes>"
      ]
     },
     "metadata": {
      "needs_background": "light"
     },
     "output_type": "display_data"
    }
   ],
   "source": [
    "fig = plt.figure(figsize=(15, 10))\n",
    "ax = sns.lineplot(data=df_prev)"
   ]
  },
  {
   "cell_type": "markdown",
   "metadata": {},
   "source": [
    "#### RMSE"
   ]
  },
  {
   "cell_type": "code",
   "execution_count": 51,
   "metadata": {},
   "outputs": [
    {
     "data": {
      "image/png": "[encoded data removed]",
      "text/plain": [
       "<Figure size 1080x720 with 1 Axes>"
      ]
     },
     "metadata": {
      "needs_background": "light"
     },
     "output_type": "display_data"
    }
   ],
   "source": [
    "fig = plt.figure(figsize=(15, 10))\n",
    "ax = sns.barplot(data=df_rmse)"
   ]
  },
  {
   "cell_type": "markdown",
   "metadata": {},
   "source": [
    "#### MAPE"
   ]
  },
  {
   "cell_type": "code",
   "execution_count": 52,
   "metadata": {
    "scrolled": false
   },
   "outputs": [
    {
     "data": {
      "image/png": "[encoded data removed]",
      "text/plain": [
       "<Figure size 1080x720 with 1 Axes>"
      ]
     },
     "metadata": {
      "needs_background": "light"
     },
     "output_type": "display_data"
    }
   ],
   "source": [
    "fig = plt.figure(figsize=(15, 10))\n",
    "ax = sns.barplot(data=df_mape)"
   ]
  },
  {
   "cell_type": "markdown",
   "metadata": {},
   "source": [
    "### Resumo das métricas"
   ]
  },
  {
   "cell_type": "code",
   "execution_count": 53,
   "metadata": {},
   "outputs": [],
   "source": [
    "df_rmse.index = ['RMSE']\n",
    "df_mape.index = ['MAPE']"
   ]
  },
  {
   "cell_type": "code",
   "execution_count": 54,
   "metadata": {},
   "outputs": [
    {
     "data": {
      "text/html": [
       "<div>\n",
       "<style scoped>\n",
       "    .dataframe tbody tr th:only-of-type {\n",
       "        vertical-align: middle;\n",
       "    }\n",
       "\n",
       "    .dataframe tbody tr th {\n",
       "        vertical-align: top;\n",
       "    }\n",
       "\n",
       "    .dataframe thead th {\n",
       "        text-align: right;\n",
       "    }\n",
       "</style>\n",
       "<table border=\"1\" class=\"dataframe\">\n",
       "  <thead>\n",
       "    <tr style=\"text-align: right;\">\n",
       "      <th></th>\n",
       "      <th>RNN-LSTM-Camadas</th>\n",
       "      <th>RNN-LSTM-Larga</th>\n",
       "    </tr>\n",
       "  </thead>\n",
       "  <tbody>\n",
       "    <tr>\n",
       "      <th>RMSE</th>\n",
       "      <td>1.288819e+09</td>\n",
       "      <td>1.261700e+09</td>\n",
       "    </tr>\n",
       "    <tr>\n",
       "      <th>MAPE</th>\n",
       "      <td>9.458700e-02</td>\n",
       "      <td>8.260957e-02</td>\n",
       "    </tr>\n",
       "  </tbody>\n",
       "</table>\n",
       "</div>"
      ],
      "text/plain": [
       "      RNN-LSTM-Camadas  RNN-LSTM-Larga\n",
       "RMSE      1.288819e+09    1.261700e+09\n",
       "MAPE      9.458700e-02    8.260957e-02"
      ]
     },
     "execution_count": 54,
     "metadata": {},
     "output_type": "execute_result"
    }
   ],
   "source": [
    "df_metricas = df_rmse.copy()\n",
    "df_metricas = df_metricas.append(df_mape)\n",
    "df_metricas"
   ]
  },
  {
   "cell_type": "code",
   "execution_count": null,
   "metadata": {},
   "outputs": [],
   "source": []
  },
  {
   "cell_type": "code",
   "execution_count": null,
   "metadata": {},
   "outputs": [],
   "source": []
  }
 ],
 "metadata": {
  "kernelspec": {
   "display_name": "Python 3",
   "language": "python",
   "name": "python3"
  },
  "language_info": {
   "codemirror_mode": {
    "name": "ipython",
    "version": 3
   },
   "file_extension": ".py",
   "mimetype": "text/x-python",
   "name": "python",
   "nbconvert_exporter": "python",
   "pygments_lexer": "ipython3",
   "version": "3.6.4"
  }
 },
 "nbformat": 4,
 "nbformat_minor": 2
}
