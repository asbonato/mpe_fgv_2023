{
 "cells": [
  {
   "cell_type": "markdown",
   "metadata": {},
   "source": [
    "# Aplicação de Modelos de Markov e Redes Neurais LSTM na Previsão de Arrecadação do ICMS Paulista\n",
    "## Resultados 2014\n",
    "\n",
    "### Antonio Sergio Ferreira Bonato"
   ]
  },
  {
   "cell_type": "markdown",
   "metadata": {},
   "source": [
    "Atualmente, na Secretaria da Fazenda e Planejamento do Estado de São Paulo, a previsão de arrecadação do ICMS paulista é feita usando-se um modelo ARIMA com variáveis exógenas, o ARIMAX. Mas o ICMS é não linear e há várias quebras estruturais controladas com diversas *dummies*. A consequência é um modelo bastante sobreajustado, inadequado para previsões de mais longo prazo (mais do que alguns meses, muito menos para um ano). \n",
    "A proposta deste trabalho é utilizar modelos não lineares multivariados na previsão do ICMS paulista, utilizando redes neurais recorrentes LSTM (*Long Short Term Memory*) e modelos Markov-Switching, fazendo um contraponto entre estes dois modelos. E utilizar, como baseline de comparação, o modelo ARIMAX atual. \n",
    "\n",
    "**Palavras-chave**: Markov-Switching Models. Redes Neurais Recorrentes. LSTM. ICMS."
   ]
  },
  {
   "cell_type": "markdown",
   "metadata": {},
   "source": [
    "## Treinamento das Redes Neurais - Série Univariada"
   ]
  },
  {
   "cell_type": "code",
   "execution_count": 1,
   "metadata": {},
   "outputs": [],
   "source": [
    "import pandas as pd\n",
    "import numpy as np\n",
    "import seaborn as sns\n",
    "import matplotlib.pyplot as plt\n",
    "import statsmodels.tsa.stattools\n",
    "import statsmodels.tsa.x13\n",
    "import statsmodels.graphics.tsaplots\n",
    "import statsmodels.api as sm\n",
    "from statsmodels.graphics.api import qqplot\n",
    "from statsmodels.tsa.api import acf, graphics, pacf\n",
    "from statsmodels.tsa.arima.model import ARIMA\n",
    "import pickle\n",
    "from pmdarima.arima import auto_arima, nsdiffs, ndiffs\n",
    "from sklearn.metrics import mean_squared_error, mean_absolute_percentage_error\n",
    "import random\n",
    "import tensorflow as tf\n",
    "seed = 42\n",
    "random.seed(seed)\n",
    "np.random.seed(seed)\n",
    "tf.random.set_seed(seed)\n",
    "\n",
    "sns.set()\n",
    "sns.set_context(\"notebook\")\n",
    "sns.set(rc={'figure.figsize':(10,7)})"
   ]
  },
  {
   "cell_type": "code",
   "execution_count": 2,
   "metadata": {},
   "outputs": [],
   "source": [
    "import warnings\n",
    "warnings.filterwarnings('ignore')\n",
    "warnings.simplefilter('ignore')"
   ]
  },
  {
   "cell_type": "code",
   "execution_count": 3,
   "metadata": {},
   "outputs": [],
   "source": [
    "df_main_orig = pd.read_excel(\"variaveis_previsao.xlsx\", parse_dates=['date'])"
   ]
  },
  {
   "cell_type": "markdown",
   "metadata": {},
   "source": [
    "Removendo as últimas linhas que são todas NaN"
   ]
  },
  {
   "cell_type": "code",
   "execution_count": 4,
   "metadata": {},
   "outputs": [],
   "source": [
    "df_main = df_main_orig.iloc[0:144]\n",
    "datas = df_main['date']"
   ]
  },
  {
   "cell_type": "code",
   "execution_count": 5,
   "metadata": {},
   "outputs": [
    {
     "data": {
      "text/html": [
       "<div>\n",
       "<style scoped>\n",
       "    .dataframe tbody tr th:only-of-type {\n",
       "        vertical-align: middle;\n",
       "    }\n",
       "\n",
       "    .dataframe tbody tr th {\n",
       "        vertical-align: top;\n",
       "    }\n",
       "\n",
       "    .dataframe thead th {\n",
       "        text-align: right;\n",
       "    }\n",
       "</style>\n",
       "<table border=\"1\" class=\"dataframe\">\n",
       "  <thead>\n",
       "    <tr style=\"text-align: right;\">\n",
       "      <th></th>\n",
       "      <th>date</th>\n",
       "      <th>icms_sp</th>\n",
       "      <th>igp_m</th>\n",
       "      <th>dolar</th>\n",
       "      <th>ibc_br</th>\n",
       "      <th>dias_uteis</th>\n",
       "      <th>igp_m_22</th>\n",
       "      <th>dolar_22</th>\n",
       "      <th>ibc_br_22</th>\n",
       "      <th>igp_m_21</th>\n",
       "      <th>...</th>\n",
       "      <th>ibc_br_16</th>\n",
       "      <th>igp_m_15</th>\n",
       "      <th>dolar_15</th>\n",
       "      <th>ibc_br_15</th>\n",
       "      <th>igp_m_14</th>\n",
       "      <th>dolar_14</th>\n",
       "      <th>ibc_br_14</th>\n",
       "      <th>igp_m_13</th>\n",
       "      <th>dolar_13</th>\n",
       "      <th>ibc_br_13</th>\n",
       "    </tr>\n",
       "  </thead>\n",
       "  <tbody>\n",
       "    <tr>\n",
       "      <th>139</th>\n",
       "      <td>2014-08-01</td>\n",
       "      <td>9.500060e+09</td>\n",
       "      <td>546.745</td>\n",
       "      <td>2.265648</td>\n",
       "      <td>148.27</td>\n",
       "      <td>21</td>\n",
       "      <td>546.745</td>\n",
       "      <td>2.265648</td>\n",
       "      <td>148.27</td>\n",
       "      <td>546.745</td>\n",
       "      <td>...</td>\n",
       "      <td>148.27</td>\n",
       "      <td>546.745</td>\n",
       "      <td>2.265648</td>\n",
       "      <td>148.27</td>\n",
       "      <td>558.614234</td>\n",
       "      <td>2.42</td>\n",
       "      <td>153.402207</td>\n",
       "      <td>NaN</td>\n",
       "      <td>NaN</td>\n",
       "      <td>NaN</td>\n",
       "    </tr>\n",
       "    <tr>\n",
       "      <th>140</th>\n",
       "      <td>2014-09-01</td>\n",
       "      <td>9.796970e+09</td>\n",
       "      <td>547.839</td>\n",
       "      <td>2.332868</td>\n",
       "      <td>148.12</td>\n",
       "      <td>22</td>\n",
       "      <td>547.839</td>\n",
       "      <td>2.332868</td>\n",
       "      <td>148.12</td>\n",
       "      <td>547.839</td>\n",
       "      <td>...</td>\n",
       "      <td>148.12</td>\n",
       "      <td>547.839</td>\n",
       "      <td>2.332868</td>\n",
       "      <td>148.12</td>\n",
       "      <td>561.574889</td>\n",
       "      <td>2.44</td>\n",
       "      <td>152.235746</td>\n",
       "      <td>NaN</td>\n",
       "      <td>NaN</td>\n",
       "      <td>NaN</td>\n",
       "    </tr>\n",
       "    <tr>\n",
       "      <th>141</th>\n",
       "      <td>2014-10-01</td>\n",
       "      <td>1.063363e+10</td>\n",
       "      <td>549.396</td>\n",
       "      <td>2.448261</td>\n",
       "      <td>149.70</td>\n",
       "      <td>23</td>\n",
       "      <td>549.396</td>\n",
       "      <td>2.448261</td>\n",
       "      <td>149.70</td>\n",
       "      <td>549.396</td>\n",
       "      <td>...</td>\n",
       "      <td>149.70</td>\n",
       "      <td>549.396</td>\n",
       "      <td>2.448261</td>\n",
       "      <td>149.70</td>\n",
       "      <td>564.663551</td>\n",
       "      <td>2.44</td>\n",
       "      <td>154.160274</td>\n",
       "      <td>NaN</td>\n",
       "      <td>NaN</td>\n",
       "      <td>NaN</td>\n",
       "    </tr>\n",
       "    <tr>\n",
       "      <th>142</th>\n",
       "      <td>2014-11-01</td>\n",
       "      <td>1.015244e+10</td>\n",
       "      <td>554.769</td>\n",
       "      <td>2.548365</td>\n",
       "      <td>144.92</td>\n",
       "      <td>20</td>\n",
       "      <td>554.769</td>\n",
       "      <td>2.548365</td>\n",
       "      <td>144.92</td>\n",
       "      <td>554.769</td>\n",
       "      <td>...</td>\n",
       "      <td>144.92</td>\n",
       "      <td>554.769</td>\n",
       "      <td>2.548365</td>\n",
       "      <td>144.92</td>\n",
       "      <td>568.051533</td>\n",
       "      <td>2.45</td>\n",
       "      <td>150.594831</td>\n",
       "      <td>NaN</td>\n",
       "      <td>NaN</td>\n",
       "      <td>NaN</td>\n",
       "    </tr>\n",
       "    <tr>\n",
       "      <th>143</th>\n",
       "      <td>2014-12-01</td>\n",
       "      <td>1.124082e+10</td>\n",
       "      <td>558.213</td>\n",
       "      <td>2.639364</td>\n",
       "      <td>145.48</td>\n",
       "      <td>22</td>\n",
       "      <td>558.213</td>\n",
       "      <td>2.639364</td>\n",
       "      <td>145.48</td>\n",
       "      <td>558.213</td>\n",
       "      <td>...</td>\n",
       "      <td>145.48</td>\n",
       "      <td>558.213</td>\n",
       "      <td>2.639364</td>\n",
       "      <td>145.48</td>\n",
       "      <td>570.891790</td>\n",
       "      <td>2.45</td>\n",
       "      <td>150.549561</td>\n",
       "      <td>NaN</td>\n",
       "      <td>NaN</td>\n",
       "      <td>NaN</td>\n",
       "    </tr>\n",
       "  </tbody>\n",
       "</table>\n",
       "<p>5 rows × 36 columns</p>\n",
       "</div>"
      ],
      "text/plain": [
       "          date       icms_sp    igp_m     dolar  ibc_br  dias_uteis  igp_m_22  \\\n",
       "139 2014-08-01  9.500060e+09  546.745  2.265648  148.27          21   546.745   \n",
       "140 2014-09-01  9.796970e+09  547.839  2.332868  148.12          22   547.839   \n",
       "141 2014-10-01  1.063363e+10  549.396  2.448261  149.70          23   549.396   \n",
       "142 2014-11-01  1.015244e+10  554.769  2.548365  144.92          20   554.769   \n",
       "143 2014-12-01  1.124082e+10  558.213  2.639364  145.48          22   558.213   \n",
       "\n",
       "     dolar_22  ibc_br_22  igp_m_21  ...  ibc_br_16  igp_m_15  dolar_15  \\\n",
       "139  2.265648     148.27   546.745  ...     148.27   546.745  2.265648   \n",
       "140  2.332868     148.12   547.839  ...     148.12   547.839  2.332868   \n",
       "141  2.448261     149.70   549.396  ...     149.70   549.396  2.448261   \n",
       "142  2.548365     144.92   554.769  ...     144.92   554.769  2.548365   \n",
       "143  2.639364     145.48   558.213  ...     145.48   558.213  2.639364   \n",
       "\n",
       "     ibc_br_15    igp_m_14  dolar_14   ibc_br_14  igp_m_13  dolar_13  \\\n",
       "139     148.27  558.614234      2.42  153.402207       NaN       NaN   \n",
       "140     148.12  561.574889      2.44  152.235746       NaN       NaN   \n",
       "141     149.70  564.663551      2.44  154.160274       NaN       NaN   \n",
       "142     144.92  568.051533      2.45  150.594831       NaN       NaN   \n",
       "143     145.48  570.891790      2.45  150.549561       NaN       NaN   \n",
       "\n",
       "     ibc_br_13  \n",
       "139        NaN  \n",
       "140        NaN  \n",
       "141        NaN  \n",
       "142        NaN  \n",
       "143        NaN  \n",
       "\n",
       "[5 rows x 36 columns]"
      ]
     },
     "execution_count": 5,
     "metadata": {},
     "output_type": "execute_result"
    }
   ],
   "source": [
    "df_main.tail()"
   ]
  },
  {
   "cell_type": "markdown",
   "metadata": {},
   "source": [
    "### Criação das Séries"
   ]
  },
  {
   "cell_type": "code",
   "execution_count": 6,
   "metadata": {},
   "outputs": [],
   "source": [
    "icms_ts = pd.Series(list(df_main['icms_sp']), index = datas)"
   ]
  },
  {
   "cell_type": "markdown",
   "metadata": {},
   "source": [
    "#### Testes de Valores Nulos"
   ]
  },
  {
   "cell_type": "code",
   "execution_count": 7,
   "metadata": {},
   "outputs": [
    {
     "name": "stdout",
     "output_type": "stream",
     "text": [
      "ICMS 0\n"
     ]
    }
   ],
   "source": [
    "print('ICMS', icms_ts.isnull().sum())"
   ]
  },
  {
   "cell_type": "code",
   "execution_count": 8,
   "metadata": {},
   "outputs": [
    {
     "data": {
      "text/plain": [
       "Series([], dtype: float64)"
      ]
     },
     "execution_count": 8,
     "metadata": {},
     "output_type": "execute_result"
    }
   ],
   "source": [
    "# listando os nulos do icms\n",
    "icms_ts[icms_ts.isnull()]"
   ]
  },
  {
   "cell_type": "code",
   "execution_count": 9,
   "metadata": {},
   "outputs": [],
   "source": [
    "# eliminando os nulos do icms\n",
    "icms_ts = icms_ts[~icms_ts.isnull()]"
   ]
  },
  {
   "cell_type": "code",
   "execution_count": 10,
   "metadata": {},
   "outputs": [
    {
     "data": {
      "text/plain": [
       "(144,)"
      ]
     },
     "execution_count": 10,
     "metadata": {},
     "output_type": "execute_result"
    }
   ],
   "source": [
    "icms_ts.shape"
   ]
  },
  {
   "cell_type": "markdown",
   "metadata": {},
   "source": [
    "### Série em Log\n",
    "Como os valores do ICMS são muito elevados a série será colocada em log."
   ]
  },
  {
   "cell_type": "code",
   "execution_count": 11,
   "metadata": {},
   "outputs": [],
   "source": [
    "l_icms_ts = pd.Series(np.log(list(df_main['icms_sp'])), index = datas)"
   ]
  },
  {
   "cell_type": "markdown",
   "metadata": {},
   "source": [
    "## Divisão em treino e teste"
   ]
  },
  {
   "cell_type": "code",
   "execution_count": 12,
   "metadata": {},
   "outputs": [],
   "source": [
    "icms_train = icms_ts[:-24]\n",
    "icms_val = icms_ts[-24:-12]\n",
    "icms_test = icms_ts[-12:]"
   ]
  },
  {
   "cell_type": "code",
   "execution_count": 13,
   "metadata": {},
   "outputs": [
    {
     "name": "stdout",
     "output_type": "stream",
     "text": [
      "##############################\n",
      " date\n",
      "2003-01-01    3.360296e+09\n",
      "2003-02-01    3.196558e+09\n",
      "2003-03-01    3.160011e+09\n",
      "2003-04-01    3.215307e+09\n",
      "2003-05-01    3.098930e+09\n",
      "                  ...     \n",
      "2012-08-01    9.020437e+09\n",
      "2012-09-01    9.082476e+09\n",
      "2012-10-01    9.544433e+09\n",
      "2012-11-01    9.154402e+09\n",
      "2012-12-01    1.025097e+10\n",
      "Length: 120, dtype: float64\n",
      "##############################\n",
      " date\n",
      "2013-01-01    8.799359e+09\n",
      "2013-02-01    8.690433e+09\n",
      "2013-03-01    8.698445e+09\n",
      "2013-04-01    9.446984e+09\n",
      "2013-05-01    9.497989e+09\n",
      "2013-06-01    9.133477e+09\n",
      "2013-07-01    9.657129e+09\n",
      "2013-08-01    9.604407e+09\n",
      "2013-09-01    1.011536e+10\n",
      "2013-10-01    1.020979e+10\n",
      "2013-11-01    9.712795e+09\n",
      "2013-12-01    1.076762e+10\n",
      "dtype: float64\n",
      "##############################\n",
      " date\n",
      "2014-01-01    9.803278e+09\n",
      "2014-02-01    9.687760e+09\n",
      "2014-03-01    9.465054e+09\n",
      "2014-04-01    9.635430e+09\n",
      "2014-05-01    9.819079e+09\n",
      "2014-06-01    9.677264e+09\n",
      "2014-07-01    9.594590e+09\n",
      "2014-08-01    9.500060e+09\n",
      "2014-09-01    9.796970e+09\n",
      "2014-10-01    1.063363e+10\n",
      "2014-11-01    1.015244e+10\n",
      "2014-12-01    1.124082e+10\n",
      "dtype: float64\n"
     ]
    }
   ],
   "source": [
    "print('#'*30+'\\n',icms_train)\n",
    "print('#'*30+'\\n',icms_val)\n",
    "print('#'*30+'\\n',icms_test)"
   ]
  },
  {
   "cell_type": "markdown",
   "metadata": {},
   "source": [
    "## Utilidades para Previsões"
   ]
  },
  {
   "cell_type": "markdown",
   "metadata": {},
   "source": [
    "Além de MAPE e MSE, será usado o erro relativo, que é \n",
    "\n",
    "$Erro Relativo = \\frac{|previsão - real|}{real}$"
   ]
  },
  {
   "cell_type": "code",
   "execution_count": 14,
   "metadata": {},
   "outputs": [],
   "source": [
    "def erro_relativo(prev, real):\n",
    "    return 100*np.absolute(prev-real)/real"
   ]
  },
  {
   "cell_type": "markdown",
   "metadata": {},
   "source": [
    "#### Dicionário de Previsões\n",
    "Será usado para armazenar todas as previsões."
   ]
  },
  {
   "cell_type": "code",
   "execution_count": 15,
   "metadata": {},
   "outputs": [],
   "source": [
    "previsoes = {\n",
    "    'nome':[],\n",
    "    'modelo': [],\n",
    "    'previsoes': [],\n",
    "    'rmse': [],\n",
    "    'mape': [],\n",
    "    'erro relativo':[]\n",
    "}"
   ]
  },
  {
   "cell_type": "markdown",
   "metadata": {},
   "source": [
    "## Modelos RNN LSTM\n",
    "Redes Neurais Recorrentes com neurônios Long Short-Term Memory"
   ]
  },
  {
   "cell_type": "markdown",
   "metadata": {},
   "source": [
    "### Montagem da Série\n",
    "As redes neurais precisam de conjuntos de características e de etiquetas separados. Neste caso, o conjunto de etiquetas é a própria série de ICMS. Para os conjunto de caraterísticas será utilizada a série do ICMS com lags 1, 2, 3, 4, 6 e 12 defasagens, e médias móveis de 2, 3, 6 e 12 meses, conforme trabalho de [Silva & Figueiredo, 2020]."
   ]
  },
  {
   "cell_type": "code",
   "execution_count": 16,
   "metadata": {},
   "outputs": [],
   "source": [
    "def cria_features_target(serie, verbose=0):\n",
    "    serie_d1 = serie.shift(1)\n",
    "    serie_d2 = serie.shift(2)\n",
    "    serie_d3 = serie.shift(3)\n",
    "    serie_d4 = serie.shift(4)\n",
    "    serie_d6 = serie.shift(6)\n",
    "    serie_d12 = serie.shift(12)\n",
    "    serie_ma2 = serie.rolling(2).mean()\n",
    "    serie_ma3 = serie.rolling(3).mean()\n",
    "    serie_ma6 = serie.rolling(6).mean()\n",
    "    serie_ma12 = serie.rolling(12).mean()\n",
    "\n",
    "    if verbose==1:\n",
    "        print(\"shape de cada uma das séries:\")\n",
    "        print(serie_d1.shape, serie_d2.shape, serie_d3.shape, serie_d4.shape, \n",
    "              serie_d6.shape, serie_d12.shape, serie_ma2.shape, serie_ma3.shape, \n",
    "              serie_ma6.shape, serie_ma12.shape)\n",
    "    X = np.array([serie_d1, serie_d2, serie_d3, serie_d4, \n",
    "     serie_d6, serie_d12, serie_ma2, serie_ma3, \n",
    "     serie_ma6, serie_ma12])\n",
    "    if verbose==1:\n",
    "        print(\"shape do array de features:\", X.shape)\n",
    "    X = X[:,12:]\n",
    "    X = X.T\n",
    "    if verbose==1:\n",
    "        print(\"shape do array de features depois da poda e da transposição:\", X.shape)\n",
    "    Y = np.array(serie[12:])\n",
    "    if verbose==1:\n",
    "        print(\"shape do array target:\", Y.shape)\n",
    "    return X, Y"
   ]
  },
  {
   "cell_type": "code",
   "execution_count": 17,
   "metadata": {},
   "outputs": [
    {
     "name": "stdout",
     "output_type": "stream",
     "text": [
      "shape de cada uma das séries:\n",
      "(144,) (144,) (144,) (144,) (144,) (144,) (144,) (144,) (144,) (144,)\n",
      "shape do array de features: (10, 144)\n",
      "shape do array de features depois da poda e da transposição: (132, 10)\n",
      "shape do array target: (132,)\n"
     ]
    }
   ],
   "source": [
    "#série completa, com sazonalidade e em nível\n",
    "#seas_icms_ts = seas_icms.seasadj\n",
    "X_data, Y_data = cria_features_target(l_icms_ts, verbose=1)"
   ]
  },
  {
   "cell_type": "code",
   "execution_count": 18,
   "metadata": {},
   "outputs": [],
   "source": [
    "#print(X_data[0])\n",
    "#print(Y_data[0])\n",
    "#print(X_data[X_data.shape[0]-1])\n",
    "#print(Y_data[X_data.shape[0]-1])"
   ]
  },
  {
   "cell_type": "markdown",
   "metadata": {},
   "source": [
    "#### Normalização dos Dados\n",
    "Serão normalizados usando-se min-max. Apenas as features, a variável target não será normalizada. Os dados serão dividos em treno, validação e teste para a normalização, de modo que o fit seja feito somente nos dados de treino, aumentando-se assim a probabilidade de generalização do modelo."
   ]
  },
  {
   "cell_type": "code",
   "execution_count": 19,
   "metadata": {},
   "outputs": [
    {
     "name": "stdout",
     "output_type": "stream",
     "text": [
      "(108, 10) (12, 10) (12, 10)\n"
     ]
    }
   ],
   "source": [
    "X_train = X_data[:-24]\n",
    "X_val = X_data[-24:-12]\n",
    "X_test = X_data[-12:]\n",
    "print(X_train.shape, X_val.shape, X_test.shape)\n",
    "#Y_train = Y_data[:-24]\n",
    "#Y_val = Y_data[-24:-12]\n",
    "#Y_test = Y_data[-12:]\n",
    "#print(Y_train.shape, Y_val.shape, Y_test.shape)"
   ]
  },
  {
   "cell_type": "code",
   "execution_count": 20,
   "metadata": {},
   "outputs": [
    {
     "name": "stdout",
     "output_type": "stream",
     "text": [
      "numéricas [0, 1, 2, 3, 4, 5, 6, 7, 8, 9]\n",
      "ColumnTransformer(transformers=[('min-max', MinMaxScaler(),\n",
      "                                 [0, 1, 2, 3, 4, 5, 6, 7, 8, 9])],\n",
      "                  verbose=True)\n",
      "[ColumnTransformer] ....... (1 of 1) Processing min-max, total=   0.0s\n",
      "(108, 10)\n",
      "(12, 10)\n",
      "(12, 10)\n"
     ]
    }
   ],
   "source": [
    "from sklearn.preprocessing import MinMaxScaler\n",
    "from sklearn.compose import ColumnTransformer\n",
    "# índice dos atributos numéricos\n",
    "num_atrib = list(range(10))\n",
    "print('numéricas', num_atrib)\n",
    "\n",
    "enc_x = ColumnTransformer([('min-max',MinMaxScaler(), num_atrib)], verbose=True)\n",
    "\n",
    "print(enc_x)\n",
    "X_train_std = enc_x.fit_transform(X_train)\n",
    "X_val_std = enc_x.transform(X_val)\n",
    "X_test_std = enc_x.transform(X_test)\n",
    "\n",
    "print(X_train_std.shape)\n",
    "print(X_val_std.shape)\n",
    "print(X_test_std.shape)\n",
    "\n",
    "#enc_y = MinMaxScaler()\n",
    "\n",
    "#print(enc_y)\n",
    "#Y_train_std = enc_y.fit_transform(Y_train.reshape(Y_train.shape[0], 1))\n",
    "#Y_val_std = enc_y.transform(Y_val.reshape(12,1))\n",
    "#Y_test_std = enc_y.transform(Y_test.reshape(12,1))\n",
    "\n",
    "#print(Y_train_std.shape)\n",
    "#print(Y_val_std.shape)\n",
    "#print(Y_test_std.shape)"
   ]
  },
  {
   "cell_type": "markdown",
   "metadata": {},
   "source": [
    "# Modelo 1 mês\n",
    "Neste modelo cada mês será previsto pelos dados do mês anterior"
   ]
  },
  {
   "cell_type": "markdown",
   "metadata": {},
   "source": [
    "#### Criando as janelas de 12 meses e reshape para LSTM. A arrecadação de cada mês será prevista pela arrecadação dos 12 meses anteriores."
   ]
  },
  {
   "cell_type": "code",
   "execution_count": 21,
   "metadata": {},
   "outputs": [
    {
     "name": "stdout",
     "output_type": "stream",
     "text": [
      "(132, 10, 1)\n"
     ]
    }
   ],
   "source": [
    "X_data_jn = np.concatenate((X_train_std, X_val_std, X_test_std), axis = 0)\n",
    "X_data_jn = X_data_jn.reshape(X_data_jn.shape[0],10,1)\n",
    "print(X_data_jn.shape)"
   ]
  },
  {
   "cell_type": "code",
   "execution_count": 22,
   "metadata": {},
   "outputs": [],
   "source": [
    "def janelamento_1_mes(X, Y, verbose=0):\n",
    "    X_exp = np.roll(X, 1, axis=0)\n",
    "    X_exp_cut = X_exp[1:,:,:]#.transpose(0,2,1)\n",
    "    Y_cut = Y[1:]\n",
    "    if verbose==1:\n",
    "        print('shape das features janeladas:', X_exp.shape)\n",
    "        print('shape das features janeladas pós poda e transposição:', X_exp_cut.shape)\n",
    "        print('shape do array target pós poda:', Y_cut.shape)\n",
    "    return X_exp_cut, Y_cut"
   ]
  },
  {
   "cell_type": "code",
   "execution_count": 23,
   "metadata": {},
   "outputs": [],
   "source": [
    "X_data_exp_cut1, Y_data_cut1 = janelamento_1_mes(X_data_jn, Y_data, verbose=0)"
   ]
  },
  {
   "cell_type": "code",
   "execution_count": 24,
   "metadata": {},
   "outputs": [
    {
     "data": {
      "text/plain": [
       "((131, 10, 1), (131,))"
      ]
     },
     "execution_count": 24,
     "metadata": {},
     "output_type": "execute_result"
    }
   ],
   "source": [
    "X_data_exp_cut1.shape, Y_data_cut1.shape"
   ]
  },
  {
   "cell_type": "code",
   "execution_count": 25,
   "metadata": {},
   "outputs": [
    {
     "data": {
      "text/plain": [
       "array([[0.18728272],\n",
       "       [0.06125638],\n",
       "       [0.04487487],\n",
       "       [0.02209274],\n",
       "       [0.01061837],\n",
       "       [0.07228595],\n",
       "       [0.10923804],\n",
       "       [0.06633062],\n",
       "       [0.        ],\n",
       "       [0.        ]])"
      ]
     },
     "execution_count": 25,
     "metadata": {},
     "output_type": "execute_result"
    }
   ],
   "source": [
    "X_data_exp_cut1[0]"
   ]
  },
  {
   "cell_type": "code",
   "execution_count": 26,
   "metadata": {},
   "outputs": [
    {
     "data": {
      "text/plain": [
       "21.905893928886627"
      ]
     },
     "execution_count": 26,
     "metadata": {},
     "output_type": "execute_result"
    }
   ],
   "source": [
    "Y_data_cut1[0]"
   ]
  },
  {
   "cell_type": "code",
   "execution_count": 27,
   "metadata": {},
   "outputs": [
    {
     "data": {
      "text/plain": [
       "23.14281802739823"
      ]
     },
     "execution_count": 27,
     "metadata": {},
     "output_type": "execute_result"
    }
   ],
   "source": [
    "Y_data_cut1[Y_data_cut1.shape[0]-1]"
   ]
  },
  {
   "cell_type": "code",
   "execution_count": 28,
   "metadata": {},
   "outputs": [
    {
     "data": {
      "text/plain": [
       "array([[1.10068053],\n",
       "       [1.02433095],\n",
       "       [1.00007364],\n",
       "       [1.0093394 ],\n",
       "       [1.0300781 ],\n",
       "       [1.0198406 ],\n",
       "       [1.06625406],\n",
       "       [1.05367918],\n",
       "       [1.06571539],\n",
       "       [1.10575567]])"
      ]
     },
     "execution_count": 28,
     "metadata": {},
     "output_type": "execute_result"
    }
   ],
   "source": [
    "X_data_exp_cut1[Y_data_cut1.shape[0]-1]"
   ]
  },
  {
   "cell_type": "markdown",
   "metadata": {},
   "source": [
    "#### Separando novamente em treino, validação e teste"
   ]
  },
  {
   "cell_type": "code",
   "execution_count": 29,
   "metadata": {},
   "outputs": [
    {
     "name": "stdout",
     "output_type": "stream",
     "text": [
      "(107, 10, 1) (12, 10, 1) (12, 10, 1)\n",
      "(107,) (12,) (12,)\n"
     ]
    }
   ],
   "source": [
    "x_train1 = X_data_exp_cut1[:-24]\n",
    "x_val1 = X_data_exp_cut1[-24:-12]\n",
    "x_test1 = X_data_exp_cut1[-12:]\n",
    "print(x_train1.shape, x_val1.shape, x_test1.shape)\n",
    "y_train1 = Y_data_cut1[:-24]\n",
    "y_val1 = Y_data_cut1[-24:-12]\n",
    "y_test1 = Y_data_cut1[-12:]\n",
    "print(y_train1.shape, y_val1.shape, y_test1.shape)"
   ]
  },
  {
   "cell_type": "markdown",
   "metadata": {},
   "source": [
    "### Criando o modelo LSTM "
   ]
  },
  {
   "cell_type": "code",
   "execution_count": 30,
   "metadata": {},
   "outputs": [],
   "source": [
    "# importando as bibliotecas do Keras\n",
    "from tensorflow.keras.models import Sequential\n",
    "from tensorflow.keras.layers import LSTM, Dense, Dropout\n",
    "from tensorflow.keras.callbacks import ReduceLROnPlateau, EarlyStopping\n",
    "from tensorflow.keras.optimizers import Adam"
   ]
  },
  {
   "cell_type": "markdown",
   "metadata": {},
   "source": [
    "## Arquitetura da Rede - Arquitetura Larga"
   ]
  },
  {
   "cell_type": "code",
   "execution_count": 31,
   "metadata": {},
   "outputs": [],
   "source": [
    "rlrop1 = ReduceLROnPlateau(monitor='val_loss', factor=0.1, patience=10, verbose=1)\n",
    "early_stop1 = EarlyStopping(monitor='val_loss', patience=100, verbose=1, \n",
    "                           restore_best_weights=True)"
   ]
  },
  {
   "cell_type": "code",
   "execution_count": 32,
   "metadata": {},
   "outputs": [],
   "source": [
    "# Épocas e tamanho do lote\n",
    "EPOCHS = 1000\n",
    "BATCH = 4\n",
    "NEURONIOS = 1200\n",
    "LR = 1e-5\n",
    "DROPOUT = 0.2\n",
    "\n",
    "# Imstanciação do modelo\n",
    "model = Sequential()\n",
    "\n",
    "# Adicionar camada LSTM \n",
    "model.add(LSTM(activation='tanh', dropout=DROPOUT,\n",
    "        input_shape = (10, 1), return_sequences = False,\n",
    "        units = NEURONIOS))\n",
    "\n",
    "# Adicionar a camada de saída com 1 neurônio linear\n",
    "model.add(Dense(\n",
    "        units = 1,\n",
    "        activation = 'linear'))\n",
    "# a learning rate padrão do Adam é 0.001\n",
    "model.compile(loss = 'mape', optimizer = Adam(learning_rate=LR))"
   ]
  },
  {
   "cell_type": "code",
   "execution_count": 33,
   "metadata": {},
   "outputs": [
    {
     "name": "stdout",
     "output_type": "stream",
     "text": [
      "Model: \"sequential\"\n",
      "_________________________________________________________________\n",
      "Layer (type)                 Output Shape              Param #   \n",
      "=================================================================\n",
      "lstm (LSTM)                  (None, 1200)              5769600   \n",
      "_________________________________________________________________\n",
      "dense (Dense)                (None, 1)                 1201      \n",
      "=================================================================\n",
      "Total params: 5,770,801\n",
      "Trainable params: 5,770,801\n",
      "Non-trainable params: 0\n",
      "_________________________________________________________________\n"
     ]
    }
   ],
   "source": [
    "model.summary()"
   ]
  },
  {
   "cell_type": "code",
   "execution_count": 34,
   "metadata": {
    "scrolled": true
   },
   "outputs": [
    {
     "name": "stdout",
     "output_type": "stream",
     "text": [
      "Epoch 1/1000\n",
      "27/27 [==============================] - 4s 139ms/step - loss: 99.9025 - val_loss: 99.3853\n",
      "Epoch 2/1000\n",
      "27/27 [==============================] - 3s 122ms/step - loss: 99.4037 - val_loss: 98.3772\n",
      "Epoch 3/1000\n",
      "27/27 [==============================] - 3s 117ms/step - loss: 98.6460 - val_loss: 96.8213\n",
      "Epoch 4/1000\n",
      "27/27 [==============================] - 3s 125ms/step - loss: 97.5243 - val_loss: 93.7174\n",
      "Epoch 5/1000\n",
      "27/27 [==============================] - 5s 169ms/step - loss: 94.8867 - val_loss: 85.2768\n",
      "Epoch 6/1000\n",
      "27/27 [==============================] - 5s 197ms/step - loss: 84.9987 - val_loss: 50.5097\n",
      "Epoch 7/1000\n",
      "27/27 [==============================] - 6s 210ms/step - loss: 54.3797 - val_loss: 13.8422\n",
      "Epoch 8/1000\n",
      "27/27 [==============================] - 6s 218ms/step - loss: 25.8209 - val_loss: 13.7547\n",
      "Epoch 9/1000\n",
      "27/27 [==============================] - 6s 213ms/step - loss: 14.4042 - val_loss: 4.3024\n",
      "Epoch 10/1000\n",
      "27/27 [==============================] - 6s 214ms/step - loss: 5.7087 - val_loss: 0.2209\n",
      "Epoch 11/1000\n",
      "27/27 [==============================] - 6s 215ms/step - loss: 2.4237 - val_loss: 0.2396\n",
      "Epoch 12/1000\n",
      "27/27 [==============================] - 6s 231ms/step - loss: 1.8815 - val_loss: 1.2408\n",
      "Epoch 13/1000\n",
      "27/27 [==============================] - 6s 224ms/step - loss: 1.6311 - val_loss: 1.3350\n",
      "Epoch 14/1000\n",
      "27/27 [==============================] - 6s 210ms/step - loss: 1.4645 - val_loss: 0.9712\n",
      "Epoch 15/1000\n",
      "27/27 [==============================] - 6s 206ms/step - loss: 1.1608 - val_loss: 1.0398\n",
      "Epoch 16/1000\n",
      "27/27 [==============================] - 6s 208ms/step - loss: 1.3110 - val_loss: 1.1425\n",
      "Epoch 17/1000\n",
      "27/27 [==============================] - 6s 212ms/step - loss: 0.9977 - val_loss: 1.9233\n",
      "Epoch 18/1000\n",
      "27/27 [==============================] - 6s 214ms/step - loss: 1.1066 - val_loss: 1.7610\n",
      "Epoch 19/1000\n",
      "27/27 [==============================] - 6s 206ms/step - loss: 0.9197 - val_loss: 1.1964\n",
      "Epoch 20/1000\n",
      "27/27 [==============================] - ETA: 0s - loss: 1.0419\n",
      "Epoch 00020: ReduceLROnPlateau reducing learning rate to 9.999999747378752e-07.\n",
      "27/27 [==============================] - 6s 231ms/step - loss: 1.0419 - val_loss: 1.5254\n",
      "Epoch 21/1000\n",
      "27/27 [==============================] - 8s 286ms/step - loss: 0.9525 - val_loss: 1.4877\n",
      "Epoch 22/1000\n",
      "27/27 [==============================] - 10s 359ms/step - loss: 0.9350 - val_loss: 1.2880\n",
      "Epoch 23/1000\n",
      "27/27 [==============================] - 7s 264ms/step - loss: 1.1127 - val_loss: 1.1858\n",
      "Epoch 24/1000\n",
      "27/27 [==============================] - 7s 250ms/step - loss: 0.9985 - val_loss: 1.1983\n",
      "Epoch 25/1000\n",
      "27/27 [==============================] - 7s 250ms/step - loss: 0.9550 - val_loss: 1.1742\n",
      "Epoch 26/1000\n",
      "27/27 [==============================] - 7s 258ms/step - loss: 0.9110 - val_loss: 1.2283\n",
      "Epoch 27/1000\n",
      "27/27 [==============================] - 7s 277ms/step - loss: 0.9153 - val_loss: 1.2816\n",
      "Epoch 28/1000\n",
      "27/27 [==============================] - 8s 291ms/step - loss: 0.9278 - val_loss: 1.2112\n",
      "Epoch 29/1000\n",
      "27/27 [==============================] - 9s 316ms/step - loss: 0.9471 - val_loss: 1.2514\n",
      "Epoch 30/1000\n",
      "27/27 [==============================] - ETA: 0s - loss: 0.8532\n",
      "Epoch 00030: ReduceLROnPlateau reducing learning rate to 9.999999974752428e-08.\n",
      "27/27 [==============================] - 8s 278ms/step - loss: 0.8532 - val_loss: 1.1749\n",
      "Epoch 31/1000\n",
      "27/27 [==============================] - 7s 243ms/step - loss: 1.0042 - val_loss: 1.1785\n",
      "Epoch 32/1000\n",
      "27/27 [==============================] - 6s 230ms/step - loss: 0.9020 - val_loss: 1.1809\n",
      "Epoch 33/1000\n",
      "27/27 [==============================] - 7s 266ms/step - loss: 0.8140 - val_loss: 1.1805\n",
      "Epoch 34/1000\n",
      "27/27 [==============================] - 7s 251ms/step - loss: 1.0572 - val_loss: 1.1838\n",
      "Epoch 35/1000\n",
      "27/27 [==============================] - 7s 273ms/step - loss: 0.8442 - val_loss: 1.1876\n",
      "Epoch 36/1000\n",
      "27/27 [==============================] - 7s 273ms/step - loss: 0.8962 - val_loss: 1.1912\n",
      "Epoch 37/1000\n",
      "27/27 [==============================] - 7s 264ms/step - loss: 0.9184 - val_loss: 1.1905\n",
      "Epoch 38/1000\n",
      "27/27 [==============================] - 8s 279ms/step - loss: 0.8465 - val_loss: 1.1926\n",
      "Epoch 39/1000\n",
      "27/27 [==============================] - 7s 251ms/step - loss: 0.9029 - val_loss: 1.1991\n",
      "Epoch 40/1000\n",
      "27/27 [==============================] - ETA: 0s - loss: 0.8721\n",
      "Epoch 00040: ReduceLROnPlateau reducing learning rate to 1.0000000116860975e-08.\n",
      "27/27 [==============================] - 7s 249ms/step - loss: 0.8721 - val_loss: 1.2025\n",
      "Epoch 41/1000\n",
      "27/27 [==============================] - 7s 242ms/step - loss: 0.9262 - val_loss: 1.2025\n",
      "Epoch 42/1000\n",
      "27/27 [==============================] - 6s 239ms/step - loss: 0.9302 - val_loss: 1.2024\n",
      "Epoch 43/1000\n",
      "27/27 [==============================] - 6s 233ms/step - loss: 0.8985 - val_loss: 1.2027\n",
      "Epoch 44/1000\n",
      "27/27 [==============================] - 6s 231ms/step - loss: 0.9149 - val_loss: 1.2028\n",
      "Epoch 45/1000\n",
      "27/27 [==============================] - 6s 227ms/step - loss: 0.8375 - val_loss: 1.2018\n",
      "Epoch 46/1000\n",
      "27/27 [==============================] - 6s 234ms/step - loss: 0.9640 - val_loss: 1.2013\n",
      "Epoch 47/1000\n",
      "27/27 [==============================] - 6s 236ms/step - loss: 0.8858 - val_loss: 1.2010\n",
      "Epoch 48/1000\n",
      "27/27 [==============================] - 6s 227ms/step - loss: 0.9815 - val_loss: 1.2002\n",
      "Epoch 49/1000\n",
      "27/27 [==============================] - 6s 234ms/step - loss: 0.9026 - val_loss: 1.1995\n",
      "Epoch 50/1000\n",
      "27/27 [==============================] - ETA: 0s - loss: 0.9291\n",
      "Epoch 00050: ReduceLROnPlateau reducing learning rate to 9.999999939225292e-10.\n",
      "27/27 [==============================] - 7s 275ms/step - loss: 0.9291 - val_loss: 1.1995\n",
      "Epoch 51/1000\n",
      "27/27 [==============================] - 7s 258ms/step - loss: 0.8555 - val_loss: 1.1996\n",
      "Epoch 52/1000\n",
      "27/27 [==============================] - 7s 244ms/step - loss: 0.9063 - val_loss: 1.1996\n",
      "Epoch 53/1000\n",
      "27/27 [==============================] - 7s 245ms/step - loss: 1.0090 - val_loss: 1.1996\n",
      "Epoch 54/1000\n",
      "27/27 [==============================] - 7s 257ms/step - loss: 0.9177 - val_loss: 1.1996\n",
      "Epoch 55/1000\n",
      "27/27 [==============================] - 8s 293ms/step - loss: 0.9286 - val_loss: 1.1996\n",
      "Epoch 56/1000\n",
      "27/27 [==============================] - 7s 277ms/step - loss: 1.0102 - val_loss: 1.1997\n",
      "Epoch 57/1000\n",
      "27/27 [==============================] - 7s 277ms/step - loss: 0.9438 - val_loss: 1.1997\n",
      "Epoch 58/1000\n",
      "27/27 [==============================] - 7s 268ms/step - loss: 0.9194 - val_loss: 1.1997\n",
      "Epoch 59/1000\n",
      "27/27 [==============================] - 7s 252ms/step - loss: 0.8524 - val_loss: 1.1997\n",
      "Epoch 60/1000\n",
      "27/27 [==============================] - ETA: 0s - loss: 0.9740\n",
      "Epoch 00060: ReduceLROnPlateau reducing learning rate to 9.999999717180686e-11.\n",
      "27/27 [==============================] - 7s 257ms/step - loss: 0.9740 - val_loss: 1.1997\n",
      "Epoch 61/1000\n",
      "27/27 [==============================] - 8s 279ms/step - loss: 0.9388 - val_loss: 1.1997\n",
      "Epoch 62/1000\n",
      "27/27 [==============================] - 7s 241ms/step - loss: 1.0011 - val_loss: 1.1997\n",
      "Epoch 63/1000\n",
      "27/27 [==============================] - 7s 271ms/step - loss: 0.9853 - val_loss: 1.1997\n",
      "Epoch 64/1000\n",
      "27/27 [==============================] - 8s 287ms/step - loss: 0.9489 - val_loss: 1.1997\n",
      "Epoch 65/1000\n",
      "27/27 [==============================] - 6s 237ms/step - loss: 0.9119 - val_loss: 1.1997\n",
      "Epoch 66/1000\n",
      "27/27 [==============================] - 6s 238ms/step - loss: 0.9290 - val_loss: 1.1997\n",
      "Epoch 67/1000\n",
      "27/27 [==============================] - 7s 241ms/step - loss: 0.9401 - val_loss: 1.1997\n",
      "Epoch 68/1000\n",
      "27/27 [==============================] - 7s 241ms/step - loss: 0.8447 - val_loss: 1.1997\n",
      "Epoch 69/1000\n",
      "27/27 [==============================] - 6s 228ms/step - loss: 0.9399 - val_loss: 1.1997\n",
      "Epoch 70/1000\n",
      "27/27 [==============================] - ETA: 0s - loss: 0.8831\n",
      "Epoch 00070: ReduceLROnPlateau reducing learning rate to 9.99999943962493e-12.\n",
      "27/27 [==============================] - 7s 242ms/step - loss: 0.8831 - val_loss: 1.1997\n",
      "Epoch 71/1000\n",
      "27/27 [==============================] - 7s 241ms/step - loss: 0.9927 - val_loss: 1.1997\n",
      "Epoch 72/1000\n"
     ]
    },
    {
     "name": "stdout",
     "output_type": "stream",
     "text": [
      "27/27 [==============================] - 7s 247ms/step - loss: 0.9575 - val_loss: 1.1997\n",
      "Epoch 73/1000\n",
      "27/27 [==============================] - 6s 236ms/step - loss: 0.9209 - val_loss: 1.1997\n",
      "Epoch 74/1000\n",
      "27/27 [==============================] - 8s 278ms/step - loss: 0.8972 - val_loss: 1.1997\n",
      "Epoch 75/1000\n",
      "27/27 [==============================] - 6s 208ms/step - loss: 1.0631 - val_loss: 1.1997\n",
      "Epoch 76/1000\n",
      "27/27 [==============================] - 4s 163ms/step - loss: 0.8852 - val_loss: 1.1997\n",
      "Epoch 77/1000\n",
      "27/27 [==============================] - 4s 161ms/step - loss: 0.9834 - val_loss: 1.1997\n",
      "Epoch 78/1000\n",
      "27/27 [==============================] - 5s 199ms/step - loss: 0.9412 - val_loss: 1.1997\n",
      "Epoch 79/1000\n",
      "27/27 [==============================] - 7s 242ms/step - loss: 0.9153 - val_loss: 1.1997\n",
      "Epoch 80/1000\n",
      "27/27 [==============================] - ETA: 0s - loss: 0.8766\n",
      "Epoch 00080: ReduceLROnPlateau reducing learning rate to 9.999999092680235e-13.\n",
      "27/27 [==============================] - 7s 267ms/step - loss: 0.8766 - val_loss: 1.1997\n",
      "Epoch 81/1000\n",
      "27/27 [==============================] - 7s 245ms/step - loss: 0.9709 - val_loss: 1.1997\n",
      "Epoch 82/1000\n",
      "27/27 [==============================] - 6s 232ms/step - loss: 0.9129 - val_loss: 1.1997\n",
      "Epoch 83/1000\n",
      "27/27 [==============================] - 7s 245ms/step - loss: 0.9433 - val_loss: 1.1997\n",
      "Epoch 84/1000\n",
      "27/27 [==============================] - 7s 244ms/step - loss: 0.8986 - val_loss: 1.1997\n",
      "Epoch 85/1000\n",
      "27/27 [==============================] - 6s 237ms/step - loss: 0.9408 - val_loss: 1.1997\n",
      "Epoch 86/1000\n",
      "27/27 [==============================] - 6s 240ms/step - loss: 0.8631 - val_loss: 1.1997\n",
      "Epoch 87/1000\n",
      "27/27 [==============================] - 7s 242ms/step - loss: 0.8734 - val_loss: 1.1997\n",
      "Epoch 88/1000\n",
      "27/27 [==============================] - 7s 244ms/step - loss: 1.0060 - val_loss: 1.1997\n",
      "Epoch 89/1000\n",
      "27/27 [==============================] - 6s 239ms/step - loss: 0.9881 - val_loss: 1.1997\n",
      "Epoch 90/1000\n",
      "27/27 [==============================] - ETA: 0s - loss: 0.9444\n",
      "Epoch 00090: ReduceLROnPlateau reducing learning rate to 9.9999988758398e-14.\n",
      "27/27 [==============================] - 7s 245ms/step - loss: 0.9444 - val_loss: 1.1997\n",
      "Epoch 91/1000\n",
      "27/27 [==============================] - 6s 237ms/step - loss: 0.9174 - val_loss: 1.1997\n",
      "Epoch 92/1000\n",
      "27/27 [==============================] - 6s 232ms/step - loss: 0.8484 - val_loss: 1.1997\n",
      "Epoch 93/1000\n",
      "27/27 [==============================] - 6s 231ms/step - loss: 0.8836 - val_loss: 1.1997\n",
      "Epoch 94/1000\n",
      "27/27 [==============================] - 7s 253ms/step - loss: 0.9499 - val_loss: 1.1997\n",
      "Epoch 95/1000\n",
      "27/27 [==============================] - 6s 231ms/step - loss: 0.9007 - val_loss: 1.1997\n",
      "Epoch 96/1000\n",
      "27/27 [==============================] - 7s 276ms/step - loss: 0.8892 - val_loss: 1.1997\n",
      "Epoch 97/1000\n",
      "27/27 [==============================] - 7s 258ms/step - loss: 0.9012 - val_loss: 1.1997\n",
      "Epoch 98/1000\n",
      "27/27 [==============================] - 5s 168ms/step - loss: 0.8639 - val_loss: 1.1997\n",
      "Epoch 99/1000\n",
      "27/27 [==============================] - 4s 145ms/step - loss: 0.8987 - val_loss: 1.1997\n",
      "Epoch 100/1000\n",
      "27/27 [==============================] - ETA: 0s - loss: 0.9604\n",
      "Epoch 00100: ReduceLROnPlateau reducing learning rate to 9.999999146890344e-15.\n",
      "27/27 [==============================] - 4s 155ms/step - loss: 0.9604 - val_loss: 1.1997\n",
      "Epoch 101/1000\n",
      "27/27 [==============================] - 4s 147ms/step - loss: 1.1372 - val_loss: 1.1997\n",
      "Epoch 102/1000\n",
      "27/27 [==============================] - 4s 140ms/step - loss: 0.9445 - val_loss: 1.1997\n",
      "Epoch 103/1000\n",
      "27/27 [==============================] - 4s 130ms/step - loss: 1.0576 - val_loss: 1.1997\n",
      "Epoch 104/1000\n",
      "27/27 [==============================] - 4s 139ms/step - loss: 0.8447 - val_loss: 1.1997\n",
      "Epoch 105/1000\n",
      "27/27 [==============================] - 3s 127ms/step - loss: 1.0244 - val_loss: 1.1997\n",
      "Epoch 106/1000\n",
      "27/27 [==============================] - 4s 130ms/step - loss: 0.9698 - val_loss: 1.1997\n",
      "Epoch 107/1000\n",
      "27/27 [==============================] - 4s 136ms/step - loss: 0.9791 - val_loss: 1.1997\n",
      "Epoch 108/1000\n",
      "27/27 [==============================] - 4s 132ms/step - loss: 0.9094 - val_loss: 1.1997\n",
      "Epoch 109/1000\n",
      "27/27 [==============================] - 3s 127ms/step - loss: 0.9633 - val_loss: 1.1997\n",
      "Epoch 110/1000\n",
      "27/27 [==============================] - ETA: 0s - loss: 0.9289\n",
      "Epoch 00110: ReduceLROnPlateau reducing learning rate to 9.999998977483753e-16.\n",
      "Restoring model weights from the end of the best epoch.\n",
      "27/27 [==============================] - 4s 145ms/step - loss: 0.9289 - val_loss: 1.1997\n",
      "Epoch 00110: early stopping\n"
     ]
    }
   ],
   "source": [
    "# History object for plotting our model loss by epoch\n",
    "history1 = model.fit(x_train1, y_train1, batch_size = BATCH, \n",
    "                    epochs = EPOCHS, validation_data = (x_val1, y_val1),\n",
    "                    callbacks = [rlrop1, early_stop1])"
   ]
  },
  {
   "cell_type": "code",
   "execution_count": 35,
   "metadata": {},
   "outputs": [
    {
     "data": {
      "image/png": "[encoded data removed]",
      "text/plain": [
       "<Figure size 720x504 with 1 Axes>"
      ]
     },
     "metadata": {
      "needs_background": "light"
     },
     "output_type": "display_data"
    }
   ],
   "source": [
    "# Loss History\n",
    "fig = plt.figure(figsize=(10, 7))\n",
    "plt.plot(history1.history['loss'])\n",
    "plt.plot(history1.history['val_loss'])\n",
    "plt.title('Model Loss')\n",
    "plt.ylabel('Loss')\n",
    "plt.xlabel('Epoch')\n",
    "plt.legend(['Train', 'Val'], loc='upper right')\n",
    "plt.show()"
   ]
  },
  {
   "cell_type": "markdown",
   "metadata": {},
   "source": [
    "### Previsão Multistep 12 meses em Validação\n",
    "Para ficar adequado à realidade, não podemos usar os dados de 2022 para prever 2022. Portanto, a previsão de 2022 será feita do moto *multistep*, isto é, o mês de janeiro/2022 será previsto usando-se os dados de arrecadação de janeiro a dezembro de 2021; o mês de fevereiro/2022 será previsto usando-se os dados de fevereiro a dezembro de 2021 mais a previsão feita para o mês de janeiro/2022; o mês de março/2022 será previsto usando-se os dados de março a dezembro de 2021 mais os meses de janeiro e fevereiro de 2022 previstos nos passos anteriores. E assim por diante, até que a previsão de dezembro/2022 será feita usando-se os dados de dezembro de 2021 mais as previsões de janeiro a novembro de 2022 feitas nos passos anteriores."
   ]
  },
  {
   "cell_type": "markdown",
   "metadata": {},
   "source": [
    "#### Remove os 12 últimos valores que serão previstos e cria as séries novamente"
   ]
  },
  {
   "cell_type": "code",
   "execution_count": 36,
   "metadata": {},
   "outputs": [
    {
     "name": "stdout",
     "output_type": "stream",
     "text": [
      "(144,)\n",
      "(120,)\n"
     ]
    }
   ],
   "source": [
    "# remove\n",
    "serie_multi1 = l_icms_ts[:-24]\n",
    "print(l_icms_ts.shape)\n",
    "print(serie_multi1.shape)"
   ]
  },
  {
   "cell_type": "code",
   "execution_count": 37,
   "metadata": {},
   "outputs": [
    {
     "name": "stdout",
     "output_type": "stream",
     "text": [
      "0 [[9.459771e+09]]\n",
      "1 [[9.436794e+09]]\n",
      "2 [[9.5443e+09]]\n",
      "3 [[9.527203e+09]]\n",
      "4 [[9.503754e+09]]\n",
      "5 [[9.500872e+09]]\n",
      "6 [[9.496687e+09]]\n",
      "7 [[9.497376e+09]]\n",
      "8 [[9.496289e+09]]\n",
      "9 [[9.492305e+09]]\n",
      "10 [[9.491436e+09]]\n",
      "11 [[9.488702e+09]]\n"
     ]
    }
   ],
   "source": [
    "for i in range(12):\n",
    "    # cria as séries\n",
    "    X_multi1, Y_multi1 = cria_features_target(serie_multi1, verbose=0)\n",
    "\n",
    "    # Faz a normalização usando o modelo fitado na normalização anterior\n",
    "    X_multi_std1 = enc_x.transform(X_multi1)\n",
    "    X_multi_std1 = X_multi_std1.reshape(X_multi_std1.shape[0],10,1)\n",
    "\n",
    "    # Faz o janelamento das séries\n",
    "    x_multi1, y_multi1 = janelamento_1_mes(X_multi_std1, Y_multi1, verbose=0)\n",
    "\n",
    "    # Faz a predição da arrecadação do mês\n",
    "    #y_pred_multi = np.mean(model.predict(x_multi[-1:]), axis=1)#[:,0].ravel()\n",
    "    y_pred_multi1 = model.predict(x_multi1[-1:])#[:,0].ravel()\n",
    "    print(i, np.exp(y_pred_multi1))\n",
    "\n",
    "    #### Adicionar o valor previsto à série e fazer o novo janelamento\n",
    "    serie_multi1 = pd.Series(np.append(serie_multi1, y_pred_multi1))"
   ]
  },
  {
   "cell_type": "code",
   "execution_count": 38,
   "metadata": {},
   "outputs": [],
   "source": [
    "Y_pred_multi1 = np.exp(pd.Series(serie_multi1[-12:]))\n",
    "Y_pred_multi1.index = icms_val.index"
   ]
  },
  {
   "cell_type": "code",
   "execution_count": 39,
   "metadata": {},
   "outputs": [
    {
     "data": {
      "text/plain": [
       "date\n",
       "2013-01-01    9.459771e+09\n",
       "2013-02-01    9.436794e+09\n",
       "2013-03-01    9.544299e+09\n",
       "2013-04-01    9.527203e+09\n",
       "2013-05-01    9.503754e+09\n",
       "2013-06-01    9.500872e+09\n",
       "2013-07-01    9.496687e+09\n",
       "2013-08-01    9.497375e+09\n",
       "2013-09-01    9.496288e+09\n",
       "2013-10-01    9.492304e+09\n",
       "2013-11-01    9.491435e+09\n",
       "2013-12-01    9.488702e+09\n",
       "dtype: float64"
      ]
     },
     "execution_count": 39,
     "metadata": {},
     "output_type": "execute_result"
    }
   ],
   "source": [
    "Y_pred_multi1"
   ]
  },
  {
   "cell_type": "code",
   "execution_count": 40,
   "metadata": {},
   "outputs": [
    {
     "data": {
      "text/plain": [
       "610325977.6953611"
      ]
     },
     "execution_count": 40,
     "metadata": {},
     "output_type": "execute_result"
    }
   ],
   "source": [
    "RMSE_lstm_multi1 = mean_squared_error(icms_val, Y_pred_multi1, squared=False)\n",
    "RMSE_lstm_multi1"
   ]
  },
  {
   "cell_type": "code",
   "execution_count": 41,
   "metadata": {},
   "outputs": [
    {
     "data": {
      "text/plain": [
       "0.05069156582519102"
      ]
     },
     "execution_count": 41,
     "metadata": {},
     "output_type": "execute_result"
    }
   ],
   "source": [
    "MAPE_lstm_multi1 = mean_absolute_percentage_error(icms_val, Y_pred_multi1)\n",
    "MAPE_lstm_multi1"
   ]
  },
  {
   "cell_type": "code",
   "execution_count": 42,
   "metadata": {},
   "outputs": [],
   "source": [
    "previsoes['nome'].append('RNN-LSTM-1-mês-larga')\n",
    "previsoes['modelo'].append(model)\n",
    "previsoes['previsoes'].append(Y_pred_multi1)\n",
    "\n",
    "previsoes['rmse'].append(RMSE_lstm_multi1)\n",
    "\n",
    "previsoes['mape'].append(MAPE_lstm_multi1)\n",
    "\n",
    "previsoes['erro relativo'].append([erro_relativo(prev,real) \n",
    "                                   for prev,real in zip(Y_pred_multi1\n",
    "                                                        , icms_val)])"
   ]
  },
  {
   "cell_type": "markdown",
   "metadata": {},
   "source": [
    "## Arquitetura da Rede - Arquitetura Multicamada"
   ]
  },
  {
   "cell_type": "code",
   "execution_count": 43,
   "metadata": {},
   "outputs": [],
   "source": [
    "rlrop3 = ReduceLROnPlateau(monitor='val_loss', factor=0.1, patience=25, verbose=1)\n",
    "early_stop3 = EarlyStopping(monitor='val_loss', patience=100, verbose=1, \n",
    "                           restore_best_weights=True)"
   ]
  },
  {
   "cell_type": "code",
   "execution_count": 44,
   "metadata": {},
   "outputs": [],
   "source": [
    "# Épocas e tamanho do lote\n",
    "EPOCHS3 = 1000\n",
    "BATCH3 = 8\n",
    "NEURONIOS3 = 600\n",
    "LR3 = 1e-5\n",
    "DROPOUT3 = 0.25\n",
    "\n",
    "# Imstanciação do modelo\n",
    "model3 = Sequential()\n",
    "\n",
    "# Adicionar camada LSTM \n",
    "model3.add(LSTM(activation='tanh', dropout=DROPOUT3,\n",
    "        input_shape = (10, 1), return_sequences = True,\n",
    "        units = NEURONIOS3))\n",
    "\n",
    "# Adicionar camada LSTM \n",
    "model3.add(LSTM(activation='tanh', dropout=DROPOUT3,\n",
    "        input_shape = (10, 1), return_sequences = True,\n",
    "        units = NEURONIOS3))\n",
    "\n",
    "# Adicionar camada LSTM \n",
    "model3.add(LSTM(activation='tanh', dropout=DROPOUT3,\n",
    "        input_shape = (10, 1), return_sequences = False,\n",
    "        units = NEURONIOS3))\n",
    "\n",
    "\n",
    "# Adicionar a camada de saída com 1 neurônio linear\n",
    "model3.add(Dense(\n",
    "        units = 1,\n",
    "        activation = 'linear'))\n",
    "# a learning rate padrão do Adam é 0.001\n",
    "model3.compile(loss = 'mape', optimizer = Adam(learning_rate=LR3))"
   ]
  },
  {
   "cell_type": "code",
   "execution_count": 45,
   "metadata": {},
   "outputs": [
    {
     "name": "stdout",
     "output_type": "stream",
     "text": [
      "Model: \"sequential_1\"\n",
      "_________________________________________________________________\n",
      "Layer (type)                 Output Shape              Param #   \n",
      "=================================================================\n",
      "lstm_1 (LSTM)                (None, 10, 600)           1444800   \n",
      "_________________________________________________________________\n",
      "lstm_2 (LSTM)                (None, 10, 600)           2882400   \n",
      "_________________________________________________________________\n",
      "lstm_3 (LSTM)                (None, 600)               2882400   \n",
      "_________________________________________________________________\n",
      "dense_1 (Dense)              (None, 1)                 601       \n",
      "=================================================================\n",
      "Total params: 7,210,201\n",
      "Trainable params: 7,210,201\n",
      "Non-trainable params: 0\n",
      "_________________________________________________________________\n"
     ]
    }
   ],
   "source": [
    "model3.summary()"
   ]
  },
  {
   "cell_type": "code",
   "execution_count": 46,
   "metadata": {
    "scrolled": true
   },
   "outputs": [
    {
     "name": "stdout",
     "output_type": "stream",
     "text": [
      "Epoch 1/1000\n",
      "14/14 [==============================] - 2s 153ms/step - loss: 99.9254 - val_loss: 99.6809\n",
      "Epoch 2/1000\n",
      "14/14 [==============================] - 1s 91ms/step - loss: 99.7181 - val_loss: 99.3070\n",
      "Epoch 3/1000\n",
      "14/14 [==============================] - 1s 93ms/step - loss: 99.4847 - val_loss: 98.8251\n",
      "Epoch 4/1000\n",
      "14/14 [==============================] - 1s 103ms/step - loss: 99.1428 - val_loss: 98.1133\n",
      "Epoch 5/1000\n",
      "14/14 [==============================] - 1s 107ms/step - loss: 98.6497 - val_loss: 96.9523\n",
      "Epoch 6/1000\n",
      "14/14 [==============================] - 2s 108ms/step - loss: 97.7738 - val_loss: 94.9514\n",
      "Epoch 7/1000\n",
      "14/14 [==============================] - 2s 111ms/step - loss: 96.2960 - val_loss: 91.1604\n",
      "Epoch 8/1000\n",
      "14/14 [==============================] - 1s 105ms/step - loss: 93.3124 - val_loss: 83.3015\n",
      "Epoch 9/1000\n",
      "14/14 [==============================] - 1s 106ms/step - loss: 87.6676 - val_loss: 66.7229\n",
      "Epoch 10/1000\n",
      "14/14 [==============================] - 1s 105ms/step - loss: 74.3254 - val_loss: 35.6251\n",
      "Epoch 11/1000\n",
      "14/14 [==============================] - 1s 105ms/step - loss: 54.3924 - val_loss: 3.9185\n",
      "Epoch 12/1000\n",
      "14/14 [==============================] - 1s 105ms/step - loss: 28.2872 - val_loss: 12.3318\n",
      "Epoch 13/1000\n",
      "14/14 [==============================] - 1s 104ms/step - loss: 16.5341 - val_loss: 15.1176\n",
      "Epoch 14/1000\n",
      "14/14 [==============================] - 1s 105ms/step - loss: 14.4198 - val_loss: 13.6922\n",
      "Epoch 15/1000\n",
      "14/14 [==============================] - 1s 105ms/step - loss: 11.8036 - val_loss: 10.4687\n",
      "Epoch 16/1000\n",
      "14/14 [==============================] - 1s 102ms/step - loss: 8.7121 - val_loss: 5.8345\n",
      "Epoch 17/1000\n",
      "14/14 [==============================] - 1s 103ms/step - loss: 5.6361 - val_loss: 1.5841\n",
      "Epoch 18/1000\n",
      "14/14 [==============================] - 1s 104ms/step - loss: 5.1110 - val_loss: 0.5633\n",
      "Epoch 19/1000\n",
      "14/14 [==============================] - 2s 107ms/step - loss: 3.3822 - val_loss: 0.5391\n",
      "Epoch 20/1000\n",
      "14/14 [==============================] - 1s 106ms/step - loss: 2.4504 - val_loss: 0.3433\n",
      "Epoch 21/1000\n",
      "14/14 [==============================] - 1s 105ms/step - loss: 2.7978 - val_loss: 0.5076\n",
      "Epoch 22/1000\n",
      "14/14 [==============================] - 2s 112ms/step - loss: 1.7992 - val_loss: 0.2414\n",
      "Epoch 23/1000\n",
      "14/14 [==============================] - 2s 108ms/step - loss: 1.6155 - val_loss: 0.2061\n",
      "Epoch 24/1000\n",
      "14/14 [==============================] - 1s 106ms/step - loss: 1.6574 - val_loss: 0.4190\n",
      "Epoch 25/1000\n",
      "14/14 [==============================] - 1s 105ms/step - loss: 1.1205 - val_loss: 0.5401\n",
      "Epoch 26/1000\n",
      "14/14 [==============================] - 2s 114ms/step - loss: 1.0696 - val_loss: 0.2602\n",
      "Epoch 27/1000\n",
      "14/14 [==============================] - 2s 127ms/step - loss: 1.1170 - val_loss: 0.5160\n",
      "Epoch 28/1000\n",
      "14/14 [==============================] - 2s 142ms/step - loss: 0.9190 - val_loss: 0.3674\n",
      "Epoch 29/1000\n",
      "14/14 [==============================] - 2s 134ms/step - loss: 0.9710 - val_loss: 1.1432\n",
      "Epoch 30/1000\n",
      "14/14 [==============================] - 2s 141ms/step - loss: 0.9044 - val_loss: 0.8528\n",
      "Epoch 31/1000\n",
      "14/14 [==============================] - 2s 152ms/step - loss: 0.9768 - val_loss: 0.8773\n",
      "Epoch 32/1000\n",
      "14/14 [==============================] - 2s 144ms/step - loss: 1.0695 - val_loss: 0.5869\n",
      "Epoch 33/1000\n",
      "14/14 [==============================] - 2s 148ms/step - loss: 0.8939 - val_loss: 0.8135\n",
      "Epoch 34/1000\n",
      "14/14 [==============================] - 2s 146ms/step - loss: 0.9084 - val_loss: 0.7625\n",
      "Epoch 35/1000\n",
      "14/14 [==============================] - 2s 138ms/step - loss: 0.9323 - val_loss: 0.9098\n",
      "Epoch 36/1000\n",
      "14/14 [==============================] - 2s 148ms/step - loss: 0.9154 - val_loss: 0.6588\n",
      "Epoch 37/1000\n",
      "14/14 [==============================] - 2s 142ms/step - loss: 0.7691 - val_loss: 0.9410\n",
      "Epoch 38/1000\n",
      "14/14 [==============================] - 2s 151ms/step - loss: 0.8870 - val_loss: 0.8970\n",
      "Epoch 39/1000\n",
      "14/14 [==============================] - 2s 166ms/step - loss: 0.8951 - val_loss: 0.9334\n",
      "Epoch 40/1000\n",
      "14/14 [==============================] - 2s 153ms/step - loss: 0.9215 - val_loss: 0.5579\n",
      "Epoch 41/1000\n",
      "14/14 [==============================] - 2s 152ms/step - loss: 0.8782 - val_loss: 0.6499\n",
      "Epoch 42/1000\n",
      "14/14 [==============================] - 2s 148ms/step - loss: 0.8418 - val_loss: 0.8746\n",
      "Epoch 43/1000\n",
      "14/14 [==============================] - 2s 142ms/step - loss: 0.7759 - val_loss: 0.4758\n",
      "Epoch 44/1000\n",
      "14/14 [==============================] - 2s 120ms/step - loss: 0.8336 - val_loss: 0.9642\n",
      "Epoch 45/1000\n",
      "14/14 [==============================] - 2s 112ms/step - loss: 0.7995 - val_loss: 0.5959\n",
      "Epoch 46/1000\n",
      "14/14 [==============================] - 2s 109ms/step - loss: 0.8519 - val_loss: 0.8627\n",
      "Epoch 47/1000\n",
      "14/14 [==============================] - 2s 141ms/step - loss: 0.7178 - val_loss: 0.6995\n",
      "Epoch 48/1000\n",
      "14/14 [==============================] - ETA: 0s - loss: 0.9232\n",
      "Epoch 00048: ReduceLROnPlateau reducing learning rate to 9.999999747378752e-07.\n",
      "14/14 [==============================] - 2s 132ms/step - loss: 0.9232 - val_loss: 0.9161\n",
      "Epoch 49/1000\n",
      "14/14 [==============================] - 2s 123ms/step - loss: 0.7523 - val_loss: 0.8648\n",
      "Epoch 50/1000\n",
      "14/14 [==============================] - 2s 136ms/step - loss: 0.8709 - val_loss: 0.7751\n",
      "Epoch 51/1000\n",
      "14/14 [==============================] - 2s 134ms/step - loss: 0.7228 - val_loss: 0.6952\n",
      "Epoch 52/1000\n",
      "14/14 [==============================] - 2s 126ms/step - loss: 0.7732 - val_loss: 0.7126\n",
      "Epoch 53/1000\n",
      "14/14 [==============================] - 2s 131ms/step - loss: 0.7713 - val_loss: 0.6459\n",
      "Epoch 54/1000\n",
      "14/14 [==============================] - 2s 139ms/step - loss: 0.7716 - val_loss: 0.6595\n",
      "Epoch 55/1000\n",
      "14/14 [==============================] - 2s 135ms/step - loss: 0.7732 - val_loss: 0.7858\n",
      "Epoch 56/1000\n",
      "14/14 [==============================] - 2s 141ms/step - loss: 0.7175 - val_loss: 0.8183\n",
      "Epoch 57/1000\n",
      "14/14 [==============================] - 3s 179ms/step - loss: 0.7847 - val_loss: 0.7528\n",
      "Epoch 58/1000\n",
      "14/14 [==============================] - 3s 190ms/step - loss: 0.7320 - val_loss: 0.7588\n",
      "Epoch 59/1000\n",
      "14/14 [==============================] - 2s 171ms/step - loss: 0.7722 - val_loss: 0.7400\n",
      "Epoch 60/1000\n",
      "14/14 [==============================] - 2s 158ms/step - loss: 0.7728 - val_loss: 0.7466\n",
      "Epoch 61/1000\n",
      "14/14 [==============================] - 2s 140ms/step - loss: 0.7007 - val_loss: 0.7602\n",
      "Epoch 62/1000\n",
      "14/14 [==============================] - 2s 150ms/step - loss: 0.7965 - val_loss: 0.6947\n",
      "Epoch 63/1000\n",
      "14/14 [==============================] - 2s 143ms/step - loss: 0.7899 - val_loss: 0.6865\n",
      "Epoch 64/1000\n",
      "14/14 [==============================] - 2s 149ms/step - loss: 0.7962 - val_loss: 0.7188\n",
      "Epoch 65/1000\n",
      "14/14 [==============================] - 2s 133ms/step - loss: 0.7096 - val_loss: 0.7636\n",
      "Epoch 66/1000\n",
      "14/14 [==============================] - 2s 137ms/step - loss: 0.8238 - val_loss: 0.7565\n",
      "Epoch 67/1000\n",
      "14/14 [==============================] - 2s 148ms/step - loss: 0.7935 - val_loss: 0.7453\n",
      "Epoch 68/1000\n",
      "14/14 [==============================] - 2s 152ms/step - loss: 0.7047 - val_loss: 0.7676\n",
      "Epoch 69/1000\n",
      "14/14 [==============================] - 2s 144ms/step - loss: 0.8642 - val_loss: 0.7947\n",
      "Epoch 70/1000\n",
      "14/14 [==============================] - 2s 142ms/step - loss: 0.8531 - val_loss: 0.7400\n",
      "Epoch 71/1000\n",
      "14/14 [==============================] - 2s 150ms/step - loss: 0.7771 - val_loss: 0.7780\n",
      "Epoch 72/1000\n",
      "14/14 [==============================] - 2s 151ms/step - loss: 0.7658 - val_loss: 0.8078\n",
      "Epoch 73/1000\n",
      "14/14 [==============================] - ETA: 0s - loss: 0.7792\n",
      "Epoch 00073: ReduceLROnPlateau reducing learning rate to 9.999999974752428e-08.\n",
      "14/14 [==============================] - 2s 149ms/step - loss: 0.7792 - val_loss: 0.7749\n",
      "Epoch 74/1000\n",
      "14/14 [==============================] - 2s 139ms/step - loss: 0.8518 - val_loss: 0.7726\n",
      "Epoch 75/1000\n",
      "14/14 [==============================] - 2s 149ms/step - loss: 0.7782 - val_loss: 0.7707\n",
      "Epoch 76/1000\n",
      "14/14 [==============================] - 2s 147ms/step - loss: 0.6682 - val_loss: 0.7696\n",
      "Epoch 77/1000\n"
     ]
    },
    {
     "name": "stdout",
     "output_type": "stream",
     "text": [
      "14/14 [==============================] - 2s 142ms/step - loss: 0.8106 - val_loss: 0.7680\n",
      "Epoch 78/1000\n",
      "14/14 [==============================] - 2s 150ms/step - loss: 0.7304 - val_loss: 0.7621\n",
      "Epoch 79/1000\n",
      "14/14 [==============================] - 2s 143ms/step - loss: 0.8771 - val_loss: 0.7538\n",
      "Epoch 80/1000\n",
      "14/14 [==============================] - 2s 133ms/step - loss: 0.8411 - val_loss: 0.7460\n",
      "Epoch 81/1000\n",
      "14/14 [==============================] - 2s 133ms/step - loss: 0.8666 - val_loss: 0.7419\n",
      "Epoch 82/1000\n",
      "14/14 [==============================] - 2s 122ms/step - loss: 0.7730 - val_loss: 0.7336\n",
      "Epoch 83/1000\n",
      "14/14 [==============================] - 2s 123ms/step - loss: 0.8357 - val_loss: 0.7353\n",
      "Epoch 84/1000\n",
      "14/14 [==============================] - 2s 110ms/step - loss: 0.8850 - val_loss: 0.7375\n",
      "Epoch 85/1000\n",
      "14/14 [==============================] - 2s 115ms/step - loss: 0.6815 - val_loss: 0.7307\n",
      "Epoch 86/1000\n",
      "14/14 [==============================] - 2s 116ms/step - loss: 0.7094 - val_loss: 0.7260\n",
      "Epoch 87/1000\n",
      "14/14 [==============================] - 2s 111ms/step - loss: 0.7842 - val_loss: 0.7299\n",
      "Epoch 88/1000\n",
      "14/14 [==============================] - 2s 137ms/step - loss: 0.7639 - val_loss: 0.7346\n",
      "Epoch 89/1000\n",
      "14/14 [==============================] - 2s 127ms/step - loss: 0.8105 - val_loss: 0.7401\n",
      "Epoch 90/1000\n",
      "14/14 [==============================] - 2s 116ms/step - loss: 0.7544 - val_loss: 0.7424\n",
      "Epoch 91/1000\n",
      "14/14 [==============================] - 2s 117ms/step - loss: 0.7758 - val_loss: 0.7418\n",
      "Epoch 92/1000\n",
      "14/14 [==============================] - 2s 120ms/step - loss: 0.7339 - val_loss: 0.7419\n",
      "Epoch 93/1000\n",
      "14/14 [==============================] - 2s 121ms/step - loss: 0.7807 - val_loss: 0.7480\n",
      "Epoch 94/1000\n",
      "14/14 [==============================] - 2s 110ms/step - loss: 0.7434 - val_loss: 0.7466\n",
      "Epoch 95/1000\n",
      "14/14 [==============================] - 1s 104ms/step - loss: 0.7581 - val_loss: 0.7393\n",
      "Epoch 96/1000\n",
      "14/14 [==============================] - 2s 114ms/step - loss: 0.7374 - val_loss: 0.7314\n",
      "Epoch 97/1000\n",
      "14/14 [==============================] - 2s 117ms/step - loss: 0.7924 - val_loss: 0.7270\n",
      "Epoch 98/1000\n",
      "14/14 [==============================] - ETA: 0s - loss: 0.7223\n",
      "Epoch 00098: ReduceLROnPlateau reducing learning rate to 1.0000000116860975e-08.\n",
      "14/14 [==============================] - 2s 129ms/step - loss: 0.7223 - val_loss: 0.7223\n",
      "Epoch 99/1000\n",
      "14/14 [==============================] - 2s 152ms/step - loss: 0.7936 - val_loss: 0.7222\n",
      "Epoch 100/1000\n",
      "14/14 [==============================] - 2s 142ms/step - loss: 0.8030 - val_loss: 0.7211\n",
      "Epoch 101/1000\n",
      "14/14 [==============================] - 2s 139ms/step - loss: 0.8037 - val_loss: 0.7212\n",
      "Epoch 102/1000\n",
      "14/14 [==============================] - 2s 126ms/step - loss: 0.8247 - val_loss: 0.7208\n",
      "Epoch 103/1000\n",
      "14/14 [==============================] - 2s 148ms/step - loss: 0.7788 - val_loss: 0.7203\n",
      "Epoch 104/1000\n",
      "14/14 [==============================] - 2s 154ms/step - loss: 0.8030 - val_loss: 0.7206\n",
      "Epoch 105/1000\n",
      "14/14 [==============================] - 2s 139ms/step - loss: 0.7783 - val_loss: 0.7211\n",
      "Epoch 106/1000\n",
      "14/14 [==============================] - 2s 144ms/step - loss: 0.9038 - val_loss: 0.7221\n",
      "Epoch 107/1000\n",
      "14/14 [==============================] - 2s 152ms/step - loss: 0.8093 - val_loss: 0.7219\n",
      "Epoch 108/1000\n",
      "14/14 [==============================] - 2s 150ms/step - loss: 0.6941 - val_loss: 0.7219\n",
      "Epoch 109/1000\n",
      "14/14 [==============================] - 2s 146ms/step - loss: 0.7730 - val_loss: 0.7222\n",
      "Epoch 110/1000\n",
      "14/14 [==============================] - 2s 148ms/step - loss: 0.7529 - val_loss: 0.7214\n",
      "Epoch 111/1000\n",
      "14/14 [==============================] - 2s 141ms/step - loss: 0.7692 - val_loss: 0.7213\n",
      "Epoch 112/1000\n",
      "14/14 [==============================] - 2s 148ms/step - loss: 0.7592 - val_loss: 0.7209\n",
      "Epoch 113/1000\n",
      "14/14 [==============================] - 2s 143ms/step - loss: 0.6826 - val_loss: 0.7209\n",
      "Epoch 114/1000\n",
      "14/14 [==============================] - 2s 143ms/step - loss: 0.7621 - val_loss: 0.7212\n",
      "Epoch 115/1000\n",
      "14/14 [==============================] - 2s 129ms/step - loss: 0.8120 - val_loss: 0.7209\n",
      "Epoch 116/1000\n",
      "14/14 [==============================] - 2s 137ms/step - loss: 0.7748 - val_loss: 0.7203\n",
      "Epoch 117/1000\n",
      "14/14 [==============================] - 2s 134ms/step - loss: 0.7292 - val_loss: 0.7201\n",
      "Epoch 118/1000\n",
      "14/14 [==============================] - 2s 129ms/step - loss: 0.7489 - val_loss: 0.7202\n",
      "Epoch 119/1000\n",
      "14/14 [==============================] - 2s 135ms/step - loss: 0.7691 - val_loss: 0.7199\n",
      "Epoch 120/1000\n",
      "14/14 [==============================] - 2s 140ms/step - loss: 0.8555 - val_loss: 0.7204\n",
      "Epoch 121/1000\n",
      "14/14 [==============================] - 2s 138ms/step - loss: 0.7071 - val_loss: 0.7200\n",
      "Epoch 122/1000\n",
      "14/14 [==============================] - 2s 134ms/step - loss: 0.7121 - val_loss: 0.7203\n",
      "Epoch 123/1000\n",
      "14/14 [==============================] - ETA: 0s - loss: 0.8173\n",
      "Epoch 00123: ReduceLROnPlateau reducing learning rate to 9.999999939225292e-10.\n",
      "Restoring model weights from the end of the best epoch.\n",
      "14/14 [==============================] - 2s 133ms/step - loss: 0.8173 - val_loss: 0.7199\n",
      "Epoch 00123: early stopping\n"
     ]
    }
   ],
   "source": [
    "# History object for plotting our model loss by epoch\n",
    "history3 = model3.fit(x_train1, y_train1, batch_size = BATCH3, \n",
    "                    epochs = EPOCHS, validation_data = (x_val1, y_val1),\n",
    "                    callbacks = [rlrop3, early_stop3])"
   ]
  },
  {
   "cell_type": "code",
   "execution_count": 47,
   "metadata": {},
   "outputs": [
    {
     "data": {
      "image/png": "[encoded data removed]",
      "text/plain": [
       "<Figure size 720x504 with 1 Axes>"
      ]
     },
     "metadata": {
      "needs_background": "light"
     },
     "output_type": "display_data"
    }
   ],
   "source": [
    "# Loss History\n",
    "fig = plt.figure(figsize=(10, 7))\n",
    "plt.plot(history3.history['loss'])\n",
    "plt.plot(history3.history['val_loss'])\n",
    "plt.title('Model Loss')\n",
    "plt.ylabel('Loss')\n",
    "plt.xlabel('Epoch')\n",
    "plt.legend(['Train', 'Val'], loc='upper right')\n",
    "plt.show()"
   ]
  },
  {
   "cell_type": "markdown",
   "metadata": {},
   "source": [
    "### Previsão Multistep 12 meses em Validação\n",
    "Para ficar adequado à realidade, não podemos usar os dados de 2022 para prever 2022. Portanto, a previsão de 2022 será feita do moto *multistep*, isto é, o mês de janeiro/2022 será previsto usando-se os dados de arrecadação de janeiro a dezembro de 2021; o mês de fevereiro/2022 será previsto usando-se os dados de fevereiro a dezembro de 2021 mais a previsão feita para o mês de janeiro/2022; o mês de março/2022 será previsto usando-se os dados de março a dezembro de 2021 mais os meses de janeiro e fevereiro de 2022 previstos nos passos anteriores. E assim por diante, até que a previsão de dezembro/2022 será feita usando-se os dados de dezembro de 2021 mais as previsões de janeiro a novembro de 2022 feitas nos passos anteriores."
   ]
  },
  {
   "cell_type": "markdown",
   "metadata": {},
   "source": [
    "#### Remove os 12 últimos valores que serão previstos e cria as séries novamente"
   ]
  },
  {
   "cell_type": "code",
   "execution_count": 48,
   "metadata": {},
   "outputs": [
    {
     "name": "stdout",
     "output_type": "stream",
     "text": [
      "(144,)\n",
      "(132,)\n"
     ]
    }
   ],
   "source": [
    "# remove\n",
    "serie_multi12 = l_icms_ts[:-24]\n",
    "print(l_icms_ts.shape)\n",
    "print(serie_multi1.shape)"
   ]
  },
  {
   "cell_type": "code",
   "execution_count": 49,
   "metadata": {},
   "outputs": [
    {
     "name": "stdout",
     "output_type": "stream",
     "text": [
      "0 [[9.551037e+09]]\n",
      "1 [[9.571553e+09]]\n",
      "2 [[9.627397e+09]]\n",
      "3 [[9.627875e+09]]\n",
      "4 [[9.632798e+09]]\n",
      "5 [[9.64771e+09]]\n",
      "6 [[9.630465e+09]]\n",
      "7 [[9.646717e+09]]\n",
      "8 [[9.639947e+09]]\n",
      "9 [[9.643441e+09]]\n",
      "10 [[9.645576e+09]]\n",
      "11 [[9.649587e+09]]\n"
     ]
    }
   ],
   "source": [
    "for i in range(12):\n",
    "    # cria as séries\n",
    "    X_multi12, Y_multi12 = cria_features_target(serie_multi12, verbose=0)\n",
    "\n",
    "    # Faz a normalização usando o modelo fitado na normalização anterior\n",
    "    X_multi_std12 = enc_x.transform(X_multi12)\n",
    "    X_multi_std12 = X_multi_std12.reshape(X_multi_std12.shape[0],10,1)\n",
    "\n",
    "    # Faz o janelamento das séries\n",
    "    x_multi12, y_multi12 = janelamento_1_mes(X_multi_std12, Y_multi12, verbose=0)\n",
    "\n",
    "    # Faz a predição da arrecadação do mês\n",
    "    #y_pred_multi = np.mean(model.predict(x_multi[-1:]), axis=1)#[:,0].ravel()\n",
    "    y_pred_multi12 = model3.predict(x_multi12[-1:])#[:,0].ravel()\n",
    "    print(i, np.exp(y_pred_multi12))\n",
    "\n",
    "    #### Adicionar o valor previsto à série e fazer o novo janelamento\n",
    "    serie_multi12 = pd.Series(np.append(serie_multi12, y_pred_multi12))"
   ]
  },
  {
   "cell_type": "code",
   "execution_count": 50,
   "metadata": {},
   "outputs": [],
   "source": [
    "Y_pred_multi12 = np.exp(pd.Series(serie_multi12[-12:]))\n",
    "Y_pred_multi12.index = icms_val.index"
   ]
  },
  {
   "cell_type": "code",
   "execution_count": 51,
   "metadata": {},
   "outputs": [
    {
     "data": {
      "text/plain": [
       "date\n",
       "2013-01-01    9.551037e+09\n",
       "2013-02-01    9.571554e+09\n",
       "2013-03-01    9.627398e+09\n",
       "2013-04-01    9.627875e+09\n",
       "2013-05-01    9.632798e+09\n",
       "2013-06-01    9.647710e+09\n",
       "2013-07-01    9.630465e+09\n",
       "2013-08-01    9.646716e+09\n",
       "2013-09-01    9.639948e+09\n",
       "2013-10-01    9.643442e+09\n",
       "2013-11-01    9.645576e+09\n",
       "2013-12-01    9.649587e+09\n",
       "dtype: float64"
      ]
     },
     "execution_count": 51,
     "metadata": {},
     "output_type": "execute_result"
    }
   ],
   "source": [
    "Y_pred_multi12"
   ]
  },
  {
   "cell_type": "code",
   "execution_count": 52,
   "metadata": {},
   "outputs": [
    {
     "data": {
      "text/plain": [
       "600240048.1826266"
      ]
     },
     "execution_count": 52,
     "metadata": {},
     "output_type": "execute_result"
    }
   ],
   "source": [
    "RMSE_lstm_multi12 = mean_squared_error(icms_val, Y_pred_multi12, squared=False)\n",
    "RMSE_lstm_multi12"
   ]
  },
  {
   "cell_type": "code",
   "execution_count": 53,
   "metadata": {},
   "outputs": [
    {
     "data": {
      "text/plain": [
       "0.05030352983574187"
      ]
     },
     "execution_count": 53,
     "metadata": {},
     "output_type": "execute_result"
    }
   ],
   "source": [
    "MAPE_lstm_multi12 = mean_absolute_percentage_error(icms_val, Y_pred_multi12)\n",
    "MAPE_lstm_multi12"
   ]
  },
  {
   "cell_type": "code",
   "execution_count": 54,
   "metadata": {},
   "outputs": [],
   "source": [
    "previsoes['nome'].append('RNN-LSTM-1-mês-camadas')\n",
    "previsoes['modelo'].append(model3)\n",
    "previsoes['previsoes'].append(Y_pred_multi12)\n",
    "\n",
    "previsoes['rmse'].append(RMSE_lstm_multi12)\n",
    "\n",
    "previsoes['mape'].append(MAPE_lstm_multi12)\n",
    "\n",
    "previsoes['erro relativo'].append([erro_relativo(prev,real) \n",
    "                                   for prev,real in zip(Y_pred_multi12\n",
    "                                                        , icms_val)])"
   ]
  },
  {
   "cell_type": "markdown",
   "metadata": {},
   "source": [
    "# Modelo 12 meses"
   ]
  },
  {
   "cell_type": "markdown",
   "metadata": {},
   "source": [
    "#### Criando as janelas de 12 meses e reshape para LSTM. A arrecadação de cada mês será prevista pela arrecadação dos 12 meses anteriores."
   ]
  },
  {
   "cell_type": "markdown",
   "metadata": {},
   "source": [
    "##### Unindo novamente os dados."
   ]
  },
  {
   "cell_type": "code",
   "execution_count": 55,
   "metadata": {},
   "outputs": [],
   "source": [
    "def janelamento_12_meses(X, Y, verbose=0):\n",
    "    X_exp = np.concatenate((np.roll(X, 12, axis=0),\n",
    "                            np.roll(X, 11, axis=0),\n",
    "                            np.roll(X, 10, axis=0),\n",
    "                            np.roll(X, 9, axis=0),\n",
    "                            np.roll(X, 8, axis=0),\n",
    "                            np.roll(X, 7, axis=0),\n",
    "                            np.roll(X, 6, axis=0),\n",
    "                            np.roll(X, 5, axis=0),\n",
    "                            np.roll(X, 4, axis=0),\n",
    "                            np.roll(X, 3, axis=0),\n",
    "                            np.roll(X, 2, axis=0),\n",
    "                            np.roll(X, 1, axis=0),\n",
    "                            ), axis=2)\n",
    "    X_exp_cut = X_exp[12:,:,:].transpose(0,2,1)\n",
    "    Y_cut = Y[12:]\n",
    "    if verbose==1:\n",
    "        print('shape das features janeladas:', X_exp.shape)\n",
    "        print('shape das features janeladas pós poda e transposição:', X_exp_cut.shape)\n",
    "        print('shape do array target pós poda:', Y_cut.shape)\n",
    "    return X_exp_cut, Y_cut"
   ]
  },
  {
   "cell_type": "code",
   "execution_count": 56,
   "metadata": {},
   "outputs": [],
   "source": [
    "X_data_exp_cut12, Y_data_cut12 = janelamento_12_meses(X_data_jn, Y_data, verbose=0)"
   ]
  },
  {
   "cell_type": "code",
   "execution_count": 57,
   "metadata": {},
   "outputs": [],
   "source": [
    "#Y_data_cut[0]"
   ]
  },
  {
   "cell_type": "code",
   "execution_count": 58,
   "metadata": {},
   "outputs": [],
   "source": [
    "#X_data_exp_cut[0]"
   ]
  },
  {
   "cell_type": "code",
   "execution_count": 59,
   "metadata": {},
   "outputs": [],
   "source": [
    "#Y_data_cut[Y_data_cut.shape[0]-1]"
   ]
  },
  {
   "cell_type": "code",
   "execution_count": 60,
   "metadata": {},
   "outputs": [],
   "source": [
    "#X_data_exp_cut[Y_data_cut.shape[0]-1]"
   ]
  },
  {
   "cell_type": "markdown",
   "metadata": {},
   "source": [
    "#### Separando novamente em treino, validação e teste"
   ]
  },
  {
   "cell_type": "code",
   "execution_count": 61,
   "metadata": {},
   "outputs": [
    {
     "name": "stdout",
     "output_type": "stream",
     "text": [
      "(96, 12, 10) (12, 12, 10) (12, 12, 10)\n",
      "(96,) (12,) (12,)\n"
     ]
    }
   ],
   "source": [
    "x_train12 = X_data_exp_cut12[:-24]\n",
    "x_val12 = X_data_exp_cut12[-24:-12]\n",
    "x_test12 = X_data_exp_cut12[-12:]\n",
    "print(x_train12.shape, x_val12.shape, x_test12.shape)\n",
    "y_train12 = Y_data_cut12[:-24]\n",
    "y_val12 = Y_data_cut12[-24:-12]\n",
    "y_test12 = np.exp(Y_data_cut12[-12:]) # tirar o log para ficar o valor real\n",
    "print(y_train12.shape, y_val12.shape, y_test12.shape)"
   ]
  },
  {
   "cell_type": "markdown",
   "metadata": {},
   "source": [
    "### Criando o modelo LSTM"
   ]
  },
  {
   "cell_type": "markdown",
   "metadata": {},
   "source": [
    "## Arquitetura da Rede - Arquitetura Larga"
   ]
  },
  {
   "cell_type": "code",
   "execution_count": 62,
   "metadata": {},
   "outputs": [],
   "source": [
    "rlrop2 = ReduceLROnPlateau(monitor='val_loss', factor=0.1, patience=10, verbose=1)\n",
    "early_stop2 = EarlyStopping(monitor='val_loss', patience=100, verbose=1, \n",
    "                           restore_best_weights=True)"
   ]
  },
  {
   "cell_type": "code",
   "execution_count": 63,
   "metadata": {},
   "outputs": [],
   "source": [
    "# Épocas e tamanho do lote\n",
    "EPOCHS2 = 1000\n",
    "BATCH2 = 8\n",
    "NEURONIOS2 = 1000\n",
    "LR2 = 1e-5\n",
    "DROPOUT2 = 0.25\n",
    "\n",
    "# Imstanciação do modelo\n",
    "model2 = Sequential()\n",
    "\n",
    "# Adicionar camada LSTM \n",
    "model2.add(LSTM(activation='tanh', dropout=DROPOUT2,\n",
    "        input_shape = (12, 10), return_sequences = False,\n",
    "        units = NEURONIOS2))\n",
    "\n",
    "# Adicionar a camada de saída com 1 neurônio linear\n",
    "model2.add(Dense(\n",
    "        units = 1,\n",
    "        activation = 'linear'))\n",
    "# a learning rate padrão do Adam é 0.001\n",
    "model2.compile(loss = 'mape', optimizer = Adam(learning_rate=LR2))"
   ]
  },
  {
   "cell_type": "code",
   "execution_count": 64,
   "metadata": {},
   "outputs": [
    {
     "name": "stdout",
     "output_type": "stream",
     "text": [
      "Model: \"sequential_2\"\n",
      "_________________________________________________________________\n",
      "Layer (type)                 Output Shape              Param #   \n",
      "=================================================================\n",
      "lstm_4 (LSTM)                (None, 1000)              4044000   \n",
      "_________________________________________________________________\n",
      "dense_2 (Dense)              (None, 1)                 1001      \n",
      "=================================================================\n",
      "Total params: 4,045,001\n",
      "Trainable params: 4,045,001\n",
      "Non-trainable params: 0\n",
      "_________________________________________________________________\n"
     ]
    }
   ],
   "source": [
    "model2.summary()"
   ]
  },
  {
   "cell_type": "code",
   "execution_count": 65,
   "metadata": {
    "scrolled": true
   },
   "outputs": [
    {
     "name": "stdout",
     "output_type": "stream",
     "text": [
      "Epoch 1/1000\n",
      "12/12 [==============================] - 2s 143ms/step - loss: 99.6751 - val_loss: 98.8319\n",
      "Epoch 2/1000\n",
      "12/12 [==============================] - 1s 106ms/step - loss: 99.0595 - val_loss: 97.6772\n",
      "Epoch 3/1000\n",
      "12/12 [==============================] - 1s 121ms/step - loss: 98.4224 - val_loss: 96.4100\n",
      "Epoch 4/1000\n",
      "12/12 [==============================] - 1s 121ms/step - loss: 97.6930 - val_loss: 94.9488\n",
      "Epoch 5/1000\n",
      "12/12 [==============================] - 2s 130ms/step - loss: 96.8042 - val_loss: 93.1410\n",
      "Epoch 6/1000\n",
      "12/12 [==============================] - 2s 136ms/step - loss: 95.7651 - val_loss: 90.6576\n",
      "Epoch 7/1000\n",
      "12/12 [==============================] - 1s 125ms/step - loss: 94.2445 - val_loss: 87.1712\n",
      "Epoch 8/1000\n",
      "12/12 [==============================] - 2s 130ms/step - loss: 92.1004 - val_loss: 81.6614\n",
      "Epoch 9/1000\n",
      "12/12 [==============================] - 1s 122ms/step - loss: 88.5836 - val_loss: 72.1798\n",
      "Epoch 10/1000\n",
      "12/12 [==============================] - 1s 123ms/step - loss: 82.8022 - val_loss: 55.4846\n",
      "Epoch 11/1000\n",
      "12/12 [==============================] - 1s 119ms/step - loss: 71.6990 - val_loss: 31.6397\n",
      "Epoch 12/1000\n",
      "12/12 [==============================] - 2s 126ms/step - loss: 54.6420 - val_loss: 9.9873\n",
      "Epoch 13/1000\n",
      "12/12 [==============================] - 1s 123ms/step - loss: 34.8121 - val_loss: 4.3623\n",
      "Epoch 14/1000\n",
      "12/12 [==============================] - 2s 127ms/step - loss: 22.3299 - val_loss: 7.3116\n",
      "Epoch 15/1000\n",
      "12/12 [==============================] - 2s 126ms/step - loss: 16.2794 - val_loss: 4.0127\n",
      "Epoch 16/1000\n",
      "12/12 [==============================] - 1s 115ms/step - loss: 11.2321 - val_loss: 0.2832\n",
      "Epoch 17/1000\n",
      "12/12 [==============================] - 1s 121ms/step - loss: 8.3103 - val_loss: 0.2595\n",
      "Epoch 18/1000\n",
      "12/12 [==============================] - 2s 127ms/step - loss: 6.0644 - val_loss: 0.2534\n",
      "Epoch 19/1000\n",
      "12/12 [==============================] - 1s 122ms/step - loss: 4.5180 - val_loss: 0.8301\n",
      "Epoch 20/1000\n",
      "12/12 [==============================] - 1s 119ms/step - loss: 3.7944 - val_loss: 0.6240\n",
      "Epoch 21/1000\n",
      "12/12 [==============================] - 2s 126ms/step - loss: 3.0622 - val_loss: 1.0921\n",
      "Epoch 22/1000\n",
      "12/12 [==============================] - 1s 120ms/step - loss: 2.5664 - val_loss: 1.0156\n",
      "Epoch 23/1000\n",
      "12/12 [==============================] - 2s 126ms/step - loss: 2.2412 - val_loss: 0.8668\n",
      "Epoch 24/1000\n",
      "12/12 [==============================] - 1s 114ms/step - loss: 2.0261 - val_loss: 1.1640\n",
      "Epoch 25/1000\n",
      "12/12 [==============================] - 1s 118ms/step - loss: 1.8472 - val_loss: 1.1309\n",
      "Epoch 26/1000\n",
      "12/12 [==============================] - 2s 133ms/step - loss: 1.7665 - val_loss: 0.8725\n",
      "Epoch 27/1000\n",
      "12/12 [==============================] - 2s 125ms/step - loss: 1.6323 - val_loss: 1.1637\n",
      "Epoch 28/1000\n",
      "12/12 [==============================] - ETA: 0s - loss: 1.6109\n",
      "Epoch 00028: ReduceLROnPlateau reducing learning rate to 9.999999747378752e-07.\n",
      "12/12 [==============================] - 2s 129ms/step - loss: 1.6109 - val_loss: 1.0457\n",
      "Epoch 29/1000\n",
      "12/12 [==============================] - 2s 129ms/step - loss: 1.5468 - val_loss: 1.0620\n",
      "Epoch 30/1000\n",
      "12/12 [==============================] - 2s 145ms/step - loss: 1.4138 - val_loss: 1.1077\n",
      "Epoch 31/1000\n",
      "12/12 [==============================] - 1s 124ms/step - loss: 1.4305 - val_loss: 1.1619\n",
      "Epoch 32/1000\n",
      "12/12 [==============================] - 1s 111ms/step - loss: 1.3827 - val_loss: 1.1500\n",
      "Epoch 33/1000\n",
      "12/12 [==============================] - 1s 106ms/step - loss: 1.5171 - val_loss: 1.1452\n",
      "Epoch 34/1000\n",
      "12/12 [==============================] - 1s 107ms/step - loss: 1.4539 - val_loss: 1.1828\n",
      "Epoch 35/1000\n",
      "12/12 [==============================] - 1s 118ms/step - loss: 1.3884 - val_loss: 1.1483\n",
      "Epoch 36/1000\n",
      "12/12 [==============================] - 1s 108ms/step - loss: 1.4186 - val_loss: 1.2133\n",
      "Epoch 37/1000\n",
      "12/12 [==============================] - 1s 109ms/step - loss: 1.3910 - val_loss: 1.1857\n",
      "Epoch 38/1000\n",
      "12/12 [==============================] - ETA: 0s - loss: 1.5197\n",
      "Epoch 00038: ReduceLROnPlateau reducing learning rate to 9.999999974752428e-08.\n",
      "12/12 [==============================] - 1s 116ms/step - loss: 1.5197 - val_loss: 1.2155\n",
      "Epoch 39/1000\n",
      "12/12 [==============================] - 1s 118ms/step - loss: 1.4540 - val_loss: 1.2144\n",
      "Epoch 40/1000\n",
      "12/12 [==============================] - 1s 119ms/step - loss: 1.4130 - val_loss: 1.2085\n",
      "Epoch 41/1000\n",
      "12/12 [==============================] - 1s 111ms/step - loss: 1.4082 - val_loss: 1.2069\n",
      "Epoch 42/1000\n",
      "12/12 [==============================] - 1s 101ms/step - loss: 1.4398 - val_loss: 1.2041\n",
      "Epoch 43/1000\n",
      "12/12 [==============================] - 1s 107ms/step - loss: 1.3686 - val_loss: 1.2003\n",
      "Epoch 44/1000\n",
      "12/12 [==============================] - 1s 102ms/step - loss: 1.3993 - val_loss: 1.2004\n",
      "Epoch 45/1000\n",
      "12/12 [==============================] - 1s 99ms/step - loss: 1.4054 - val_loss: 1.1996\n",
      "Epoch 46/1000\n",
      "12/12 [==============================] - 1s 113ms/step - loss: 1.3618 - val_loss: 1.1929\n",
      "Epoch 47/1000\n",
      "12/12 [==============================] - 1s 116ms/step - loss: 1.5108 - val_loss: 1.1940\n",
      "Epoch 48/1000\n",
      "12/12 [==============================] - ETA: 0s - loss: 1.4804\n",
      "Epoch 00048: ReduceLROnPlateau reducing learning rate to 1.0000000116860975e-08.\n",
      "12/12 [==============================] - 1s 115ms/step - loss: 1.4804 - val_loss: 1.1913\n",
      "Epoch 49/1000\n",
      "12/12 [==============================] - 1s 109ms/step - loss: 1.2818 - val_loss: 1.1906\n",
      "Epoch 50/1000\n",
      "12/12 [==============================] - 1s 114ms/step - loss: 1.4875 - val_loss: 1.1908\n",
      "Epoch 51/1000\n",
      "12/12 [==============================] - 1s 112ms/step - loss: 1.4389 - val_loss: 1.1904\n",
      "Epoch 52/1000\n",
      "12/12 [==============================] - 1s 123ms/step - loss: 1.3955 - val_loss: 1.1903\n",
      "Epoch 53/1000\n",
      "12/12 [==============================] - 1s 123ms/step - loss: 1.3831 - val_loss: 1.1900\n",
      "Epoch 54/1000\n",
      "12/12 [==============================] - 1s 124ms/step - loss: 1.4215 - val_loss: 1.1897\n",
      "Epoch 55/1000\n",
      "12/12 [==============================] - 1s 123ms/step - loss: 1.3177 - val_loss: 1.1901\n",
      "Epoch 56/1000\n",
      "12/12 [==============================] - 1s 124ms/step - loss: 1.3982 - val_loss: 1.1904\n",
      "Epoch 57/1000\n",
      "12/12 [==============================] - 1s 125ms/step - loss: 1.4890 - val_loss: 1.1898\n",
      "Epoch 58/1000\n",
      "12/12 [==============================] - ETA: 0s - loss: 1.4020\n",
      "Epoch 00058: ReduceLROnPlateau reducing learning rate to 9.999999939225292e-10.\n",
      "12/12 [==============================] - 2s 126ms/step - loss: 1.4020 - val_loss: 1.1893\n",
      "Epoch 59/1000\n",
      "12/12 [==============================] - 1s 121ms/step - loss: 1.4165 - val_loss: 1.1893\n",
      "Epoch 60/1000\n",
      "12/12 [==============================] - 1s 106ms/step - loss: 1.3404 - val_loss: 1.1893\n",
      "Epoch 61/1000\n",
      "12/12 [==============================] - 1s 118ms/step - loss: 1.3523 - val_loss: 1.1893\n",
      "Epoch 62/1000\n",
      "12/12 [==============================] - 1s 112ms/step - loss: 1.2959 - val_loss: 1.1893\n",
      "Epoch 63/1000\n",
      "12/12 [==============================] - 1s 117ms/step - loss: 1.3936 - val_loss: 1.1893\n",
      "Epoch 64/1000\n",
      "12/12 [==============================] - 1s 119ms/step - loss: 1.3662 - val_loss: 1.1893\n",
      "Epoch 65/1000\n",
      "12/12 [==============================] - 2s 130ms/step - loss: 1.2987 - val_loss: 1.1893\n",
      "Epoch 66/1000\n",
      "12/12 [==============================] - 1s 121ms/step - loss: 1.3734 - val_loss: 1.1893\n",
      "Epoch 67/1000\n",
      "12/12 [==============================] - 1s 122ms/step - loss: 1.4548 - val_loss: 1.1893\n",
      "Epoch 68/1000\n",
      "12/12 [==============================] - ETA: 0s - loss: 1.4078\n",
      "Epoch 00068: ReduceLROnPlateau reducing learning rate to 9.999999717180686e-11.\n",
      "12/12 [==============================] - 1s 114ms/step - loss: 1.4078 - val_loss: 1.1893\n",
      "Epoch 69/1000\n",
      "12/12 [==============================] - 1s 110ms/step - loss: 1.4673 - val_loss: 1.1893\n",
      "Epoch 70/1000\n",
      "12/12 [==============================] - 1s 111ms/step - loss: 1.3608 - val_loss: 1.1893\n",
      "Epoch 71/1000\n",
      "12/12 [==============================] - 2s 130ms/step - loss: 1.4656 - val_loss: 1.1893\n",
      "Epoch 72/1000\n",
      "12/12 [==============================] - 1s 123ms/step - loss: 1.3674 - val_loss: 1.1893\n",
      "Epoch 73/1000\n"
     ]
    },
    {
     "name": "stdout",
     "output_type": "stream",
     "text": [
      "12/12 [==============================] - 1s 118ms/step - loss: 1.3820 - val_loss: 1.1893\n",
      "Epoch 74/1000\n",
      "12/12 [==============================] - 1s 120ms/step - loss: 1.4043 - val_loss: 1.1893\n",
      "Epoch 75/1000\n",
      "12/12 [==============================] - 2s 125ms/step - loss: 1.3534 - val_loss: 1.1893\n",
      "Epoch 76/1000\n",
      "12/12 [==============================] - 1s 118ms/step - loss: 1.3248 - val_loss: 1.1893\n",
      "Epoch 77/1000\n",
      "12/12 [==============================] - 1s 121ms/step - loss: 1.5045 - val_loss: 1.1893\n",
      "Epoch 78/1000\n",
      "12/12 [==============================] - ETA: 0s - loss: 1.3716\n",
      "Epoch 00078: ReduceLROnPlateau reducing learning rate to 9.99999943962493e-12.\n",
      "12/12 [==============================] - 1s 114ms/step - loss: 1.3716 - val_loss: 1.1893\n",
      "Epoch 79/1000\n",
      "12/12 [==============================] - 1s 115ms/step - loss: 1.3629 - val_loss: 1.1893\n",
      "Epoch 80/1000\n",
      "12/12 [==============================] - 1s 125ms/step - loss: 1.4102 - val_loss: 1.1893\n",
      "Epoch 81/1000\n",
      "12/12 [==============================] - 1s 120ms/step - loss: 1.4557 - val_loss: 1.1893\n",
      "Epoch 82/1000\n",
      "12/12 [==============================] - 1s 115ms/step - loss: 1.4745 - val_loss: 1.1893\n",
      "Epoch 83/1000\n",
      "12/12 [==============================] - 1s 124ms/step - loss: 1.3985 - val_loss: 1.1893\n",
      "Epoch 84/1000\n",
      "12/12 [==============================] - 2s 125ms/step - loss: 1.4880 - val_loss: 1.1893\n",
      "Epoch 85/1000\n",
      "12/12 [==============================] - 1s 116ms/step - loss: 1.3026 - val_loss: 1.1893\n",
      "Epoch 86/1000\n",
      "12/12 [==============================] - 1s 120ms/step - loss: 1.4176 - val_loss: 1.1893\n",
      "Epoch 87/1000\n",
      "12/12 [==============================] - 1s 102ms/step - loss: 1.4197 - val_loss: 1.1893\n",
      "Epoch 88/1000\n",
      "12/12 [==============================] - ETA: 0s - loss: 1.3441\n",
      "Epoch 00088: ReduceLROnPlateau reducing learning rate to 9.999999092680235e-13.\n",
      "12/12 [==============================] - 1s 109ms/step - loss: 1.3441 - val_loss: 1.1893\n",
      "Epoch 89/1000\n",
      "12/12 [==============================] - 1s 99ms/step - loss: 1.4589 - val_loss: 1.1893\n",
      "Epoch 90/1000\n",
      "12/12 [==============================] - 1s 98ms/step - loss: 1.4316 - val_loss: 1.1893\n",
      "Epoch 91/1000\n",
      "12/12 [==============================] - 1s 108ms/step - loss: 1.3588 - val_loss: 1.1893\n",
      "Epoch 92/1000\n",
      "12/12 [==============================] - 1s 95ms/step - loss: 1.4431 - val_loss: 1.1893\n",
      "Epoch 93/1000\n",
      "12/12 [==============================] - 1s 103ms/step - loss: 1.4134 - val_loss: 1.1893\n",
      "Epoch 94/1000\n",
      "12/12 [==============================] - 1s 99ms/step - loss: 1.4802 - val_loss: 1.1893\n",
      "Epoch 95/1000\n",
      "12/12 [==============================] - 1s 97ms/step - loss: 1.3495 - val_loss: 1.1893\n",
      "Epoch 96/1000\n",
      "12/12 [==============================] - 1s 104ms/step - loss: 1.4766 - val_loss: 1.1893\n",
      "Epoch 97/1000\n",
      "12/12 [==============================] - 1s 122ms/step - loss: 1.3847 - val_loss: 1.1893\n",
      "Epoch 98/1000\n",
      "12/12 [==============================] - ETA: 0s - loss: 1.5396\n",
      "Epoch 00098: ReduceLROnPlateau reducing learning rate to 9.9999988758398e-14.\n",
      "12/12 [==============================] - 1s 113ms/step - loss: 1.5396 - val_loss: 1.1893\n",
      "Epoch 99/1000\n",
      "12/12 [==============================] - 1s 115ms/step - loss: 1.4827 - val_loss: 1.1893\n",
      "Epoch 100/1000\n",
      "12/12 [==============================] - 1s 105ms/step - loss: 1.3949 - val_loss: 1.1893\n",
      "Epoch 101/1000\n",
      "12/12 [==============================] - 1s 105ms/step - loss: 1.3978 - val_loss: 1.1893\n",
      "Epoch 102/1000\n",
      "12/12 [==============================] - 1s 100ms/step - loss: 1.3207 - val_loss: 1.1893\n",
      "Epoch 103/1000\n",
      "12/12 [==============================] - 1s 111ms/step - loss: 1.3930 - val_loss: 1.1893\n",
      "Epoch 104/1000\n",
      "12/12 [==============================] - 1s 102ms/step - loss: 1.2974 - val_loss: 1.1893\n",
      "Epoch 105/1000\n",
      "12/12 [==============================] - 1s 112ms/step - loss: 1.4153 - val_loss: 1.1893\n",
      "Epoch 106/1000\n",
      "12/12 [==============================] - 1s 123ms/step - loss: 1.3986 - val_loss: 1.1893\n",
      "Epoch 107/1000\n",
      "12/12 [==============================] - 1s 122ms/step - loss: 1.2848 - val_loss: 1.1893\n",
      "Epoch 108/1000\n",
      "12/12 [==============================] - ETA: 0s - loss: 1.4054\n",
      "Epoch 00108: ReduceLROnPlateau reducing learning rate to 9.999999146890344e-15.\n",
      "12/12 [==============================] - 1s 121ms/step - loss: 1.4054 - val_loss: 1.1893\n",
      "Epoch 109/1000\n",
      "12/12 [==============================] - 1s 124ms/step - loss: 1.4000 - val_loss: 1.1893\n",
      "Epoch 110/1000\n",
      "12/12 [==============================] - 1s 115ms/step - loss: 1.4189 - val_loss: 1.1893\n",
      "Epoch 111/1000\n",
      "12/12 [==============================] - 1s 107ms/step - loss: 1.3560 - val_loss: 1.1893\n",
      "Epoch 112/1000\n",
      "12/12 [==============================] - 1s 122ms/step - loss: 1.3083 - val_loss: 1.1893\n",
      "Epoch 113/1000\n",
      "12/12 [==============================] - 1s 114ms/step - loss: 1.4619 - val_loss: 1.1893\n",
      "Epoch 114/1000\n",
      "12/12 [==============================] - 1s 119ms/step - loss: 1.3875 - val_loss: 1.1893\n",
      "Epoch 115/1000\n",
      "12/12 [==============================] - 1s 107ms/step - loss: 1.5095 - val_loss: 1.1893\n",
      "Epoch 116/1000\n",
      "12/12 [==============================] - 1s 112ms/step - loss: 1.5101 - val_loss: 1.1893\n",
      "Epoch 117/1000\n",
      "12/12 [==============================] - 1s 106ms/step - loss: 1.3831 - val_loss: 1.1893\n",
      "Epoch 118/1000\n",
      "12/12 [==============================] - ETA: 0s - loss: 1.5464\n",
      "Epoch 00118: ReduceLROnPlateau reducing learning rate to 9.999998977483753e-16.\n",
      "Restoring model weights from the end of the best epoch.\n",
      "12/12 [==============================] - 1s 106ms/step - loss: 1.5464 - val_loss: 1.1893\n",
      "Epoch 00118: early stopping\n"
     ]
    }
   ],
   "source": [
    "# History object for plotting our model loss by epoch\n",
    "history2 = model2.fit(x_train12, y_train12, batch_size = BATCH2, \n",
    "                    epochs = EPOCHS2, validation_data = (x_val12, y_val12),\n",
    "                    callbacks = [rlrop2, early_stop2])"
   ]
  },
  {
   "cell_type": "code",
   "execution_count": 66,
   "metadata": {},
   "outputs": [
    {
     "data": {
      "image/png": "[encoded data removed]",
      "text/plain": [
       "<Figure size 720x504 with 1 Axes>"
      ]
     },
     "metadata": {
      "needs_background": "light"
     },
     "output_type": "display_data"
    }
   ],
   "source": [
    "# Loss History\n",
    "fig = plt.figure(figsize=(10, 7))\n",
    "plt.plot(history2.history['loss'])\n",
    "plt.plot(history2.history['val_loss'])\n",
    "plt.title('Model Loss')\n",
    "plt.ylabel('Loss')\n",
    "plt.xlabel('Epoch')\n",
    "plt.legend(['Train', 'Val'], loc='upper right')\n",
    "plt.show()"
   ]
  },
  {
   "cell_type": "markdown",
   "metadata": {},
   "source": [
    "### Previsão Multistep 12 meses em Validação\n",
    "Para ficar adequado à realidade, não podemos usar os dados de 2022 para prever 2022. Portanto, a previsão de 2022 será feita do moto *multistep*, isto é, o mês de janeiro/2022 será previsto usando-se os dados de arrecadação de janeiro a dezembro de 2021; o mês de fevereiro/2022 será previsto usando-se os dados de fevereiro a dezembro de 2021 mais a previsão feita para o mês de janeiro/2022; o mês de março/2022 será previsto usando-se os dados de março a dezembro de 2021 mais os meses de janeiro e fevereiro de 2022 previstos nos passos anteriores. E assim por diante, até que a previsão de dezembro/2022 será feita usando-se os dados de dezembro de 2021 mais as previsões de janeiro a novembro de 2022 feitas nos passos anteriores."
   ]
  },
  {
   "cell_type": "markdown",
   "metadata": {},
   "source": [
    "#### Remove os 12 últimos valores que serão previstos e cria as séries novamente"
   ]
  },
  {
   "cell_type": "code",
   "execution_count": 67,
   "metadata": {},
   "outputs": [
    {
     "name": "stdout",
     "output_type": "stream",
     "text": [
      "(144,)\n",
      "(120,)\n"
     ]
    },
    {
     "data": {
      "text/plain": [
       "pandas.core.series.Series"
      ]
     },
     "execution_count": 67,
     "metadata": {},
     "output_type": "execute_result"
    }
   ],
   "source": [
    "# remove\n",
    "serie_multi12 = l_icms_ts[:-24]\n",
    "print(l_icms_ts.shape)\n",
    "print(serie_multi12.shape)\n",
    "type(serie_multi12)"
   ]
  },
  {
   "cell_type": "code",
   "execution_count": 68,
   "metadata": {},
   "outputs": [
    {
     "name": "stdout",
     "output_type": "stream",
     "text": [
      "0 [[9.239032e+09]]\n",
      "1 [[9.239525e+09]]\n",
      "2 [[9.209316e+09]]\n",
      "3 [[9.201099e+09]]\n",
      "4 [[9.21283e+09]]\n",
      "5 [[9.212724e+09]]\n",
      "6 [[9.209931e+09]]\n",
      "7 [[9.217734e+09]]\n",
      "8 [[9.220548e+09]]\n",
      "9 [[9.238821e+09]]\n",
      "10 [[9.250882e+09]]\n",
      "11 [[9.264513e+09]]\n"
     ]
    }
   ],
   "source": [
    "for i in range(12):\n",
    "    # cria as séries\n",
    "    X_multi12, Y_multi12 = cria_features_target(serie_multi12, verbose=0)\n",
    "\n",
    "    # Faz a normalização usando o modelo fitado na normalização anterior\n",
    "    X_multi_std12 = enc_x.transform(X_multi12)\n",
    "    X_multi_std12 = X_multi_std12.reshape(X_multi_std12.shape[0],10,1)\n",
    "\n",
    "    # Faz o janelamento das séries\n",
    "    x_multi12, y_multi12 = janelamento_12_meses(X_multi_std12, Y_multi12, verbose=0)\n",
    "\n",
    "    # Faz a predição da arrecadação do mês\n",
    "    #y_pred_multi = np.mean(model.predict(x_multi[-1:]), axis=1)#[:,0].ravel()\n",
    "    y_pred_multi12 = model2.predict(x_multi12[-1:])#[:,0].ravel()\n",
    "    print(i, np.exp(y_pred_multi12))\n",
    "\n",
    "    #### Adicionar o valor previsto à série e fazer o novo janelamento\n",
    "    serie_multi12 = pd.Series(np.append(serie_multi12, y_pred_multi12))\n",
    "    type(serie_multi12)"
   ]
  },
  {
   "cell_type": "code",
   "execution_count": 69,
   "metadata": {},
   "outputs": [],
   "source": [
    "Y_pred_multi12 = np.exp(pd.Series(serie_multi12[-12:])) # tira o log das previsões\n",
    "Y_pred_multi12.index = icms_val.index"
   ]
  },
  {
   "cell_type": "code",
   "execution_count": 70,
   "metadata": {},
   "outputs": [
    {
     "data": {
      "text/plain": [
       "date\n",
       "2013-01-01    9.239032e+09\n",
       "2013-02-01    9.239525e+09\n",
       "2013-03-01    9.209316e+09\n",
       "2013-04-01    9.201099e+09\n",
       "2013-05-01    9.212830e+09\n",
       "2013-06-01    9.212725e+09\n",
       "2013-07-01    9.209931e+09\n",
       "2013-08-01    9.217734e+09\n",
       "2013-09-01    9.220547e+09\n",
       "2013-10-01    9.238821e+09\n",
       "2013-11-01    9.250882e+09\n",
       "2013-12-01    9.264513e+09\n",
       "dtype: float64"
      ]
     },
     "execution_count": 70,
     "metadata": {},
     "output_type": "execute_result"
    }
   ],
   "source": [
    "Y_pred_multi12"
   ]
  },
  {
   "cell_type": "code",
   "execution_count": 71,
   "metadata": {},
   "outputs": [
    {
     "data": {
      "text/plain": [
       "675124583.1651182"
      ]
     },
     "execution_count": 71,
     "metadata": {},
     "output_type": "execute_result"
    }
   ],
   "source": [
    "RMSE_lstm_multi12 = mean_squared_error(icms_val, Y_pred_multi12, squared=False)\n",
    "RMSE_lstm_multi12"
   ]
  },
  {
   "cell_type": "code",
   "execution_count": 72,
   "metadata": {},
   "outputs": [
    {
     "data": {
      "text/plain": [
       "0.05782423649165044"
      ]
     },
     "execution_count": 72,
     "metadata": {},
     "output_type": "execute_result"
    }
   ],
   "source": [
    "MAPE_lstm_multi12 = mean_absolute_percentage_error(icms_val, Y_pred_multi12)\n",
    "MAPE_lstm_multi12"
   ]
  },
  {
   "cell_type": "code",
   "execution_count": 73,
   "metadata": {},
   "outputs": [],
   "source": [
    "previsoes['nome'].append('RNN-LSTM-12-meses-larga')\n",
    "previsoes['modelo'].append(model2)\n",
    "previsoes['previsoes'].append(Y_pred_multi12)\n",
    "\n",
    "previsoes['rmse'].append(RMSE_lstm_multi12)\n",
    "\n",
    "previsoes['mape'].append(MAPE_lstm_multi12)"
   ]
  },
  {
   "cell_type": "code",
   "execution_count": 74,
   "metadata": {},
   "outputs": [],
   "source": [
    "previsoes['erro relativo'].append([erro_relativo(prev,real) \n",
    "                                   for prev,real in zip(Y_pred_multi12\n",
    "                                                        , icms_val)])"
   ]
  },
  {
   "cell_type": "markdown",
   "metadata": {},
   "source": [
    "## Arquitetura da Rede - Arquitetura Multicamada"
   ]
  },
  {
   "cell_type": "code",
   "execution_count": 75,
   "metadata": {},
   "outputs": [],
   "source": [
    "rlrop4 = ReduceLROnPlateau(monitor='val_loss', factor=0.1, patience=25, verbose=1)\n",
    "early_stop4 = EarlyStopping(monitor='val_loss', patience=100, verbose=1, \n",
    "                           restore_best_weights=True)"
   ]
  },
  {
   "cell_type": "code",
   "execution_count": 76,
   "metadata": {},
   "outputs": [],
   "source": [
    "# Épocas e tamanho do lote\n",
    "EPOCHS4 = 1000\n",
    "BATCH4 = 8\n",
    "NEURONIOS4 = 600\n",
    "LR4 = 1e-5\n",
    "DROPOUT4 = 0.25\n",
    "\n",
    "# Imstanciação do modelo\n",
    "model4 = Sequential()\n",
    "\n",
    "# Adicionar camada LSTM \n",
    "model4.add(LSTM(activation='tanh', dropout=DROPOUT4,\n",
    "        input_shape = (12, 10), return_sequences = True,\n",
    "        units = NEURONIOS4))\n",
    "\n",
    "# Adicionar camada LSTM \n",
    "model4.add(LSTM(activation='tanh', dropout=DROPOUT4,\n",
    "        input_shape = (12, 10), return_sequences = True,\n",
    "        units = NEURONIOS4))\n",
    "\n",
    "## Adicionar camada LSTM \n",
    "model4.add(LSTM(activation='tanh', dropout=DROPOUT4,\n",
    "        input_shape = (12, 10), return_sequences = False,\n",
    "        units = NEURONIOS4))\n",
    "\n",
    "\n",
    "# Adicionar a camada de saída com 1 neurônio linear\n",
    "model4.add(Dense(\n",
    "        units = 1,\n",
    "        activation = 'linear'))\n",
    "# a learning rate padrão do Adam é 0.001\n",
    "model4.compile(loss = 'mape', optimizer = Adam(learning_rate=LR4))"
   ]
  },
  {
   "cell_type": "code",
   "execution_count": 77,
   "metadata": {},
   "outputs": [
    {
     "name": "stdout",
     "output_type": "stream",
     "text": [
      "Model: \"sequential_3\"\n",
      "_________________________________________________________________\n",
      "Layer (type)                 Output Shape              Param #   \n",
      "=================================================================\n",
      "lstm_5 (LSTM)                (None, 12, 600)           1466400   \n",
      "_________________________________________________________________\n",
      "lstm_6 (LSTM)                (None, 12, 600)           2882400   \n",
      "_________________________________________________________________\n",
      "lstm_7 (LSTM)                (None, 600)               2882400   \n",
      "_________________________________________________________________\n",
      "dense_3 (Dense)              (None, 1)                 601       \n",
      "=================================================================\n",
      "Total params: 7,231,801\n",
      "Trainable params: 7,231,801\n",
      "Non-trainable params: 0\n",
      "_________________________________________________________________\n"
     ]
    }
   ],
   "source": [
    "model4.summary()"
   ]
  },
  {
   "cell_type": "code",
   "execution_count": 78,
   "metadata": {
    "scrolled": true
   },
   "outputs": [
    {
     "name": "stdout",
     "output_type": "stream",
     "text": [
      "Epoch 1/1000\n",
      "12/12 [==============================] - 3s 229ms/step - loss: 99.6965 - val_loss: 98.9089\n",
      "Epoch 2/1000\n",
      "12/12 [==============================] - 2s 146ms/step - loss: 99.1311 - val_loss: 97.7709\n",
      "Epoch 3/1000\n",
      "12/12 [==============================] - 2s 155ms/step - loss: 98.4428 - val_loss: 96.2737\n",
      "Epoch 4/1000\n",
      "12/12 [==============================] - 2s 160ms/step - loss: 97.5049 - val_loss: 94.0947\n",
      "Epoch 5/1000\n",
      "12/12 [==============================] - 2s 152ms/step - loss: 96.0256 - val_loss: 90.5688\n",
      "Epoch 6/1000\n",
      "12/12 [==============================] - 2s 131ms/step - loss: 93.8307 - val_loss: 84.2290\n",
      "Epoch 7/1000\n",
      "12/12 [==============================] - 2s 146ms/step - loss: 89.5088 - val_loss: 72.7948\n",
      "Epoch 8/1000\n",
      "12/12 [==============================] - 2s 156ms/step - loss: 81.3893 - val_loss: 53.4067\n",
      "Epoch 9/1000\n",
      "12/12 [==============================] - 2s 160ms/step - loss: 67.4328 - val_loss: 30.2494\n",
      "Epoch 10/1000\n",
      "12/12 [==============================] - 2s 159ms/step - loss: 48.1203 - val_loss: 12.4326\n",
      "Epoch 11/1000\n",
      "12/12 [==============================] - 2s 169ms/step - loss: 28.8177 - val_loss: 0.8177\n",
      "Epoch 12/1000\n",
      "12/12 [==============================] - 2s 158ms/step - loss: 13.8774 - val_loss: 5.3327\n",
      "Epoch 13/1000\n",
      "12/12 [==============================] - 2s 147ms/step - loss: 10.0344 - val_loss: 5.2408\n",
      "Epoch 14/1000\n",
      "12/12 [==============================] - 2s 164ms/step - loss: 7.3478 - val_loss: 2.5416\n",
      "Epoch 15/1000\n",
      "12/12 [==============================] - 2s 157ms/step - loss: 5.1300 - val_loss: 0.2312\n",
      "Epoch 16/1000\n",
      "12/12 [==============================] - 2s 135ms/step - loss: 4.2099 - val_loss: 0.8734\n",
      "Epoch 17/1000\n",
      "12/12 [==============================] - 2s 163ms/step - loss: 3.2436 - val_loss: 0.2116\n",
      "Epoch 18/1000\n",
      "12/12 [==============================] - 2s 149ms/step - loss: 2.7159 - val_loss: 0.2896\n",
      "Epoch 19/1000\n",
      "12/12 [==============================] - 2s 166ms/step - loss: 2.3426 - val_loss: 0.2303\n",
      "Epoch 20/1000\n",
      "12/12 [==============================] - 2s 151ms/step - loss: 1.9922 - val_loss: 0.3414\n",
      "Epoch 21/1000\n",
      "12/12 [==============================] - 2s 136ms/step - loss: 1.7253 - val_loss: 0.2144\n",
      "Epoch 22/1000\n",
      "12/12 [==============================] - 2s 140ms/step - loss: 1.4880 - val_loss: 0.4577\n",
      "Epoch 23/1000\n",
      "12/12 [==============================] - 2s 138ms/step - loss: 1.3614 - val_loss: 0.3960\n",
      "Epoch 24/1000\n",
      "12/12 [==============================] - 2s 155ms/step - loss: 1.2473 - val_loss: 0.3471\n",
      "Epoch 25/1000\n",
      "12/12 [==============================] - 2s 155ms/step - loss: 1.1484 - val_loss: 0.5345\n",
      "Epoch 26/1000\n",
      "12/12 [==============================] - 2s 175ms/step - loss: 1.2974 - val_loss: 0.3618\n",
      "Epoch 27/1000\n",
      "12/12 [==============================] - 2s 185ms/step - loss: 1.1498 - val_loss: 0.4432\n",
      "Epoch 28/1000\n",
      "12/12 [==============================] - 1s 122ms/step - loss: 1.0477 - val_loss: 0.3767\n",
      "Epoch 29/1000\n",
      "12/12 [==============================] - 2s 131ms/step - loss: 1.0649 - val_loss: 0.8398\n",
      "Epoch 30/1000\n",
      "12/12 [==============================] - 1s 117ms/step - loss: 1.1625 - val_loss: 0.5439\n",
      "Epoch 31/1000\n",
      "12/12 [==============================] - 1s 121ms/step - loss: 0.9450 - val_loss: 0.4918\n",
      "Epoch 32/1000\n",
      "12/12 [==============================] - 1s 121ms/step - loss: 0.9151 - val_loss: 0.6063\n",
      "Epoch 33/1000\n",
      "12/12 [==============================] - 2s 129ms/step - loss: 0.8426 - val_loss: 0.7234\n",
      "Epoch 34/1000\n",
      "12/12 [==============================] - 1s 122ms/step - loss: 1.0345 - val_loss: 0.4394\n",
      "Epoch 35/1000\n",
      "12/12 [==============================] - 2s 159ms/step - loss: 0.9721 - val_loss: 0.7211\n",
      "Epoch 36/1000\n",
      "12/12 [==============================] - 2s 132ms/step - loss: 0.8795 - val_loss: 0.6479\n",
      "Epoch 37/1000\n",
      "12/12 [==============================] - 2s 131ms/step - loss: 0.8639 - val_loss: 0.6370\n",
      "Epoch 38/1000\n",
      "12/12 [==============================] - 2s 125ms/step - loss: 0.8433 - val_loss: 0.6197\n",
      "Epoch 39/1000\n",
      "12/12 [==============================] - 1s 125ms/step - loss: 0.8803 - val_loss: 0.7304\n",
      "Epoch 40/1000\n",
      "12/12 [==============================] - 2s 158ms/step - loss: 0.8491 - val_loss: 0.6098\n",
      "Epoch 41/1000\n",
      "12/12 [==============================] - 2s 132ms/step - loss: 0.7890 - val_loss: 0.4749\n",
      "Epoch 42/1000\n",
      "12/12 [==============================] - ETA: 0s - loss: 0.8236\n",
      "Epoch 00042: ReduceLROnPlateau reducing learning rate to 9.999999747378752e-07.\n",
      "12/12 [==============================] - 1s 117ms/step - loss: 0.8236 - val_loss: 0.7825\n",
      "Epoch 43/1000\n",
      "12/12 [==============================] - 1s 119ms/step - loss: 0.8336 - val_loss: 0.7172\n",
      "Epoch 44/1000\n",
      "12/12 [==============================] - 2s 132ms/step - loss: 0.8273 - val_loss: 0.6619\n",
      "Epoch 45/1000\n",
      "12/12 [==============================] - 2s 135ms/step - loss: 0.7420 - val_loss: 0.6005\n",
      "Epoch 46/1000\n",
      "12/12 [==============================] - 2s 127ms/step - loss: 0.7606 - val_loss: 0.5760\n",
      "Epoch 47/1000\n",
      "12/12 [==============================] - 1s 118ms/step - loss: 0.8156 - val_loss: 0.5879\n",
      "Epoch 48/1000\n",
      "12/12 [==============================] - 1s 121ms/step - loss: 0.8263 - val_loss: 0.5989\n",
      "Epoch 49/1000\n",
      "12/12 [==============================] - 2s 129ms/step - loss: 0.7691 - val_loss: 0.6180\n",
      "Epoch 50/1000\n",
      "12/12 [==============================] - 2s 132ms/step - loss: 0.8879 - val_loss: 0.6610\n",
      "Epoch 51/1000\n",
      "12/12 [==============================] - 1s 122ms/step - loss: 0.8585 - val_loss: 0.7018\n",
      "Epoch 52/1000\n",
      "12/12 [==============================] - 1s 122ms/step - loss: 0.8096 - val_loss: 0.7046\n",
      "Epoch 53/1000\n",
      "12/12 [==============================] - 1s 125ms/step - loss: 0.7864 - val_loss: 0.6616\n",
      "Epoch 54/1000\n",
      "12/12 [==============================] - 1s 118ms/step - loss: 0.7832 - val_loss: 0.6052\n",
      "Epoch 55/1000\n",
      "12/12 [==============================] - 1s 114ms/step - loss: 0.7418 - val_loss: 0.5785\n",
      "Epoch 56/1000\n",
      "12/12 [==============================] - 1s 116ms/step - loss: 0.8425 - val_loss: 0.5738\n",
      "Epoch 57/1000\n",
      "12/12 [==============================] - 1s 116ms/step - loss: 0.8326 - val_loss: 0.6154\n",
      "Epoch 58/1000\n",
      "12/12 [==============================] - 1s 123ms/step - loss: 0.8299 - val_loss: 0.6483\n",
      "Epoch 59/1000\n",
      "12/12 [==============================] - 2s 144ms/step - loss: 0.8179 - val_loss: 0.6849\n",
      "Epoch 60/1000\n",
      "12/12 [==============================] - 1s 123ms/step - loss: 0.7542 - val_loss: 0.6758\n",
      "Epoch 61/1000\n",
      "12/12 [==============================] - 1s 120ms/step - loss: 0.8298 - val_loss: 0.6616\n",
      "Epoch 62/1000\n",
      "12/12 [==============================] - 1s 120ms/step - loss: 0.8344 - val_loss: 0.6146\n",
      "Epoch 63/1000\n",
      "12/12 [==============================] - 1s 119ms/step - loss: 0.7902 - val_loss: 0.5685\n",
      "Epoch 64/1000\n",
      "12/12 [==============================] - 1s 124ms/step - loss: 0.7911 - val_loss: 0.5056\n",
      "Epoch 65/1000\n",
      "12/12 [==============================] - 1s 125ms/step - loss: 0.8449 - val_loss: 0.5250\n",
      "Epoch 66/1000\n",
      "12/12 [==============================] - 1s 121ms/step - loss: 0.7990 - val_loss: 0.5896\n",
      "Epoch 67/1000\n",
      "12/12 [==============================] - ETA: 0s - loss: 0.7734\n",
      "Epoch 00067: ReduceLROnPlateau reducing learning rate to 9.999999974752428e-08.\n",
      "12/12 [==============================] - 2s 147ms/step - loss: 0.7734 - val_loss: 0.6455\n",
      "Epoch 68/1000\n",
      "12/12 [==============================] - 2s 145ms/step - loss: 0.7332 - val_loss: 0.6485\n",
      "Epoch 69/1000\n",
      "12/12 [==============================] - 2s 149ms/step - loss: 0.8373 - val_loss: 0.6463\n",
      "Epoch 70/1000\n",
      "12/12 [==============================] - 2s 144ms/step - loss: 0.7272 - val_loss: 0.6415\n",
      "Epoch 71/1000\n",
      "12/12 [==============================] - 2s 135ms/step - loss: 0.7741 - val_loss: 0.6381\n",
      "Epoch 72/1000\n",
      "12/12 [==============================] - 2s 132ms/step - loss: 0.7508 - val_loss: 0.6367\n",
      "Epoch 73/1000\n",
      "12/12 [==============================] - 2s 147ms/step - loss: 0.7696 - val_loss: 0.6404\n",
      "Epoch 74/1000\n",
      "12/12 [==============================] - 2s 151ms/step - loss: 0.7581 - val_loss: 0.6378\n",
      "Epoch 75/1000\n",
      "12/12 [==============================] - 2s 160ms/step - loss: 0.7496 - val_loss: 0.6378\n",
      "Epoch 76/1000\n",
      "12/12 [==============================] - 2s 141ms/step - loss: 0.7820 - val_loss: 0.6411\n",
      "Epoch 77/1000\n"
     ]
    },
    {
     "name": "stdout",
     "output_type": "stream",
     "text": [
      "12/12 [==============================] - 2s 132ms/step - loss: 0.7585 - val_loss: 0.6406\n",
      "Epoch 78/1000\n",
      "12/12 [==============================] - 2s 136ms/step - loss: 0.7747 - val_loss: 0.6417\n",
      "Epoch 79/1000\n",
      "12/12 [==============================] - 2s 141ms/step - loss: 0.8488 - val_loss: 0.6375\n",
      "Epoch 80/1000\n",
      "12/12 [==============================] - 1s 122ms/step - loss: 0.8182 - val_loss: 0.6296\n",
      "Epoch 81/1000\n",
      "12/12 [==============================] - 2s 130ms/step - loss: 0.7716 - val_loss: 0.6245\n",
      "Epoch 82/1000\n",
      "12/12 [==============================] - 2s 148ms/step - loss: 0.7180 - val_loss: 0.6175\n",
      "Epoch 83/1000\n",
      "12/12 [==============================] - 2s 135ms/step - loss: 0.7517 - val_loss: 0.6124\n",
      "Epoch 84/1000\n",
      "12/12 [==============================] - 2s 138ms/step - loss: 0.8250 - val_loss: 0.6070\n",
      "Epoch 85/1000\n",
      "12/12 [==============================] - 2s 154ms/step - loss: 0.7738 - val_loss: 0.6080\n",
      "Epoch 86/1000\n",
      "12/12 [==============================] - 2s 153ms/step - loss: 0.7232 - val_loss: 0.6108\n",
      "Epoch 87/1000\n",
      "12/12 [==============================] - 2s 154ms/step - loss: 0.7312 - val_loss: 0.6138\n",
      "Epoch 88/1000\n",
      "12/12 [==============================] - 2s 136ms/step - loss: 0.8006 - val_loss: 0.6112\n",
      "Epoch 89/1000\n",
      "12/12 [==============================] - 2s 159ms/step - loss: 0.7143 - val_loss: 0.6141\n",
      "Epoch 90/1000\n",
      "12/12 [==============================] - 2s 157ms/step - loss: 0.7048 - val_loss: 0.6155\n",
      "Epoch 91/1000\n",
      "12/12 [==============================] - 2s 150ms/step - loss: 0.8090 - val_loss: 0.6168\n",
      "Epoch 92/1000\n",
      "12/12 [==============================] - ETA: 0s - loss: 0.8239\n",
      "Epoch 00092: ReduceLROnPlateau reducing learning rate to 1.0000000116860975e-08.\n",
      "12/12 [==============================] - 2s 161ms/step - loss: 0.8239 - val_loss: 0.6191\n",
      "Epoch 93/1000\n",
      "12/12 [==============================] - 1s 125ms/step - loss: 0.7928 - val_loss: 0.6191\n",
      "Epoch 94/1000\n",
      "12/12 [==============================] - 2s 148ms/step - loss: 0.7273 - val_loss: 0.6187\n",
      "Epoch 95/1000\n",
      "12/12 [==============================] - 2s 151ms/step - loss: 0.8285 - val_loss: 0.6188\n",
      "Epoch 96/1000\n",
      "12/12 [==============================] - 2s 136ms/step - loss: 0.7996 - val_loss: 0.6188\n",
      "Epoch 97/1000\n",
      "12/12 [==============================] - 2s 134ms/step - loss: 0.7172 - val_loss: 0.6194\n",
      "Epoch 98/1000\n",
      "12/12 [==============================] - 2s 135ms/step - loss: 0.7589 - val_loss: 0.6189\n",
      "Epoch 99/1000\n",
      "12/12 [==============================] - 1s 119ms/step - loss: 0.8149 - val_loss: 0.6184\n",
      "Epoch 100/1000\n",
      "12/12 [==============================] - 1s 121ms/step - loss: 0.8046 - val_loss: 0.6181\n",
      "Epoch 101/1000\n",
      "12/12 [==============================] - 2s 131ms/step - loss: 0.7438 - val_loss: 0.6177\n",
      "Epoch 102/1000\n",
      "12/12 [==============================] - 2s 128ms/step - loss: 0.7124 - val_loss: 0.6177\n",
      "Epoch 103/1000\n",
      "12/12 [==============================] - 2s 150ms/step - loss: 0.7071 - val_loss: 0.6181\n",
      "Epoch 104/1000\n",
      "12/12 [==============================] - 1s 125ms/step - loss: 0.6772 - val_loss: 0.6180\n",
      "Epoch 105/1000\n",
      "12/12 [==============================] - 1s 123ms/step - loss: 0.6930 - val_loss: 0.6175\n",
      "Epoch 106/1000\n",
      "12/12 [==============================] - 1s 123ms/step - loss: 0.7678 - val_loss: 0.6175\n",
      "Epoch 107/1000\n",
      "12/12 [==============================] - 2s 165ms/step - loss: 0.7131 - val_loss: 0.6171\n",
      "Epoch 108/1000\n",
      "12/12 [==============================] - 2s 149ms/step - loss: 0.7557 - val_loss: 0.6170\n",
      "Epoch 109/1000\n",
      "12/12 [==============================] - 2s 139ms/step - loss: 0.7589 - val_loss: 0.6166\n",
      "Epoch 110/1000\n",
      "12/12 [==============================] - 2s 138ms/step - loss: 0.7643 - val_loss: 0.6167\n",
      "Epoch 111/1000\n",
      "12/12 [==============================] - 2s 135ms/step - loss: 0.7509 - val_loss: 0.6166\n",
      "Epoch 112/1000\n",
      "12/12 [==============================] - 2s 153ms/step - loss: 0.8382 - val_loss: 0.6164\n",
      "Epoch 113/1000\n",
      "12/12 [==============================] - 2s 126ms/step - loss: 0.7470 - val_loss: 0.6163\n",
      "Epoch 114/1000\n",
      "12/12 [==============================] - 2s 154ms/step - loss: 0.7575 - val_loss: 0.6159\n",
      "Epoch 115/1000\n",
      "12/12 [==============================] - 2s 155ms/step - loss: 0.7359 - val_loss: 0.6159\n",
      "Epoch 116/1000\n",
      "12/12 [==============================] - 2s 133ms/step - loss: 0.8331 - val_loss: 0.6160\n",
      "Epoch 117/1000\n",
      "12/12 [==============================] - ETA: 0s - loss: 0.7393\n",
      "Epoch 00117: ReduceLROnPlateau reducing learning rate to 9.999999939225292e-10.\n",
      "Restoring model weights from the end of the best epoch.\n",
      "12/12 [==============================] - 2s 134ms/step - loss: 0.7393 - val_loss: 0.6153\n",
      "Epoch 00117: early stopping\n"
     ]
    }
   ],
   "source": [
    "# History object for plotting our model loss by epoch\n",
    "history4 = model4.fit(x_train12, y_train12, batch_size = BATCH4, \n",
    "                    epochs = EPOCHS4, validation_data = (x_val12, y_val12),\n",
    "                    callbacks = [rlrop4, early_stop4])"
   ]
  },
  {
   "cell_type": "code",
   "execution_count": 79,
   "metadata": {},
   "outputs": [
    {
     "data": {
      "image/png": "[encoded data removed]",
      "text/plain": [
       "<Figure size 720x504 with 1 Axes>"
      ]
     },
     "metadata": {
      "needs_background": "light"
     },
     "output_type": "display_data"
    }
   ],
   "source": [
    "# Loss History\n",
    "fig = plt.figure(figsize=(10, 7))\n",
    "plt.plot(history4.history['loss'])\n",
    "plt.plot(history4.history['val_loss'])\n",
    "plt.title('Model Loss')\n",
    "plt.ylabel('Loss')\n",
    "plt.xlabel('Epoch')\n",
    "plt.legend(['Train', 'Val'], loc='upper right')\n",
    "plt.show()"
   ]
  },
  {
   "cell_type": "markdown",
   "metadata": {},
   "source": [
    "### Previsão Multistep 12 meses em Validação\n",
    "Para ficar adequado à realidade, não podemos usar os dados de 2022 para prever 2022. Portanto, a previsão de 2022 será feita do moto *multistep*, isto é, o mês de janeiro/2022 será previsto usando-se os dados de arrecadação de janeiro a dezembro de 2021; o mês de fevereiro/2022 será previsto usando-se os dados de fevereiro a dezembro de 2021 mais a previsão feita para o mês de janeiro/2022; o mês de março/2022 será previsto usando-se os dados de março a dezembro de 2021 mais os meses de janeiro e fevereiro de 2022 previstos nos passos anteriores. E assim por diante, até que a previsão de dezembro/2022 será feita usando-se os dados de dezembro de 2021 mais as previsões de janeiro a novembro de 2022 feitas nos passos anteriores."
   ]
  },
  {
   "cell_type": "markdown",
   "metadata": {},
   "source": [
    "#### Remove os 12 últimos valores que serão previstos e cria as séries novamente"
   ]
  },
  {
   "cell_type": "code",
   "execution_count": 80,
   "metadata": {},
   "outputs": [
    {
     "name": "stdout",
     "output_type": "stream",
     "text": [
      "(144,)\n",
      "(120,)\n"
     ]
    },
    {
     "data": {
      "text/plain": [
       "pandas.core.series.Series"
      ]
     },
     "execution_count": 80,
     "metadata": {},
     "output_type": "execute_result"
    }
   ],
   "source": [
    "# remove\n",
    "serie_multi122 = l_icms_ts[:-24]\n",
    "print(l_icms_ts.shape)\n",
    "print(serie_multi122.shape)\n",
    "type(serie_multi122)"
   ]
  },
  {
   "cell_type": "code",
   "execution_count": 81,
   "metadata": {},
   "outputs": [
    {
     "name": "stdout",
     "output_type": "stream",
     "text": [
      "0 [[9.409421e+09]]\n",
      "1 [[9.410301e+09]]\n",
      "2 [[9.410677e+09]]\n",
      "3 [[9.418579e+09]]\n",
      "4 [[9.432205e+09]]\n",
      "5 [[9.443348e+09]]\n",
      "6 [[9.455784e+09]]\n",
      "7 [[9.466053e+09]]\n",
      "8 [[9.481176e+09]]\n",
      "9 [[9.499785e+09]]\n",
      "10 [[9.514183e+09]]\n",
      "11 [[9.526167e+09]]\n"
     ]
    }
   ],
   "source": [
    "for i in range(12):\n",
    "    # cria as séries\n",
    "    X_multi122, Y_multi122 = cria_features_target(serie_multi122, verbose=0)\n",
    "\n",
    "    # Faz a normalização usando o modelo fitado na normalização anterior\n",
    "    X_multi_std122 = enc_x.transform(X_multi122)\n",
    "    X_multi_std122 = X_multi_std122.reshape(X_multi_std122.shape[0],10,1)\n",
    "\n",
    "    # Faz o janelamento das séries\n",
    "    x_multi122, y_multi122 = janelamento_12_meses(X_multi_std122, Y_multi122, verbose=0)\n",
    "\n",
    "    # Faz a predição da arrecadação do mês\n",
    "    #y_pred_multi = np.mean(model.predict(x_multi[-1:]), axis=1)#[:,0].ravel()\n",
    "    y_pred_multi122 = model4.predict(x_multi122[-1:])#[:,0].ravel()\n",
    "    print(i, np.exp(y_pred_multi122))\n",
    "\n",
    "    #### Adicionar o valor previsto à série e fazer o novo janelamento\n",
    "    serie_multi122 = pd.Series(np.append(serie_multi122, y_pred_multi122))\n",
    "    type(serie_multi122)"
   ]
  },
  {
   "cell_type": "code",
   "execution_count": 82,
   "metadata": {},
   "outputs": [],
   "source": [
    "Y_pred_multi122 = np.exp(pd.Series(serie_multi122[-12:])) # tira o log das previsões\n",
    "Y_pred_multi122.index = icms_val.index"
   ]
  },
  {
   "cell_type": "code",
   "execution_count": 83,
   "metadata": {},
   "outputs": [
    {
     "data": {
      "text/plain": [
       "date\n",
       "2013-01-01    9.409421e+09\n",
       "2013-02-01    9.410301e+09\n",
       "2013-03-01    9.410677e+09\n",
       "2013-04-01    9.418579e+09\n",
       "2013-05-01    9.432205e+09\n",
       "2013-06-01    9.443348e+09\n",
       "2013-07-01    9.455784e+09\n",
       "2013-08-01    9.466052e+09\n",
       "2013-09-01    9.481176e+09\n",
       "2013-10-01    9.499785e+09\n",
       "2013-11-01    9.514183e+09\n",
       "2013-12-01    9.526167e+09\n",
       "dtype: float64"
      ]
     },
     "execution_count": 83,
     "metadata": {},
     "output_type": "execute_result"
    }
   ],
   "source": [
    "Y_pred_multi122"
   ]
  },
  {
   "cell_type": "code",
   "execution_count": 84,
   "metadata": {},
   "outputs": [
    {
     "data": {
      "text/plain": [
       "580620268.7079048"
      ]
     },
     "execution_count": 84,
     "metadata": {},
     "output_type": "execute_result"
    }
   ],
   "source": [
    "RMSE_lstm_multi122 = mean_squared_error(icms_val, Y_pred_multi122, squared=False)\n",
    "RMSE_lstm_multi122"
   ]
  },
  {
   "cell_type": "code",
   "execution_count": 85,
   "metadata": {
    "scrolled": true
   },
   "outputs": [
    {
     "data": {
      "text/plain": [
       "0.04842829380283123"
      ]
     },
     "execution_count": 85,
     "metadata": {},
     "output_type": "execute_result"
    }
   ],
   "source": [
    "MAPE_lstm_multi122 = mean_absolute_percentage_error(icms_val, Y_pred_multi122)\n",
    "MAPE_lstm_multi122"
   ]
  },
  {
   "cell_type": "code",
   "execution_count": 86,
   "metadata": {},
   "outputs": [],
   "source": [
    "previsoes['nome'].append('RNN-LSTM-12-meses-camadas')\n",
    "previsoes['modelo'].append(model4)\n",
    "previsoes['previsoes'].append(Y_pred_multi122)\n",
    "\n",
    "previsoes['rmse'].append(RMSE_lstm_multi122)\n",
    "\n",
    "previsoes['mape'].append(MAPE_lstm_multi122)"
   ]
  },
  {
   "cell_type": "code",
   "execution_count": 87,
   "metadata": {},
   "outputs": [],
   "source": [
    "previsoes['erro relativo'].append([erro_relativo(prev,real) \n",
    "                                   for prev,real in zip(Y_pred_multi122\n",
    "                                                        , icms_val)])"
   ]
  },
  {
   "cell_type": "markdown",
   "metadata": {},
   "source": [
    "## Resultados"
   ]
  },
  {
   "cell_type": "code",
   "execution_count": 88,
   "metadata": {},
   "outputs": [
    {
     "data": {
      "text/plain": [
       "['RNN-LSTM-1-mês-larga',\n",
       " 'RNN-LSTM-1-mês-camadas',\n",
       " 'RNN-LSTM-12-meses-larga',\n",
       " 'RNN-LSTM-12-meses-camadas']"
      ]
     },
     "execution_count": 88,
     "metadata": {},
     "output_type": "execute_result"
    }
   ],
   "source": [
    "previsoes['nome']"
   ]
  },
  {
   "cell_type": "code",
   "execution_count": 89,
   "metadata": {},
   "outputs": [],
   "source": [
    "df_prev = pd.DataFrame(data=previsoes['previsoes'], \n",
    "                       index=previsoes['nome']).transpose()\n",
    "df_prev[\"real\"] = icms_val\n",
    "df_rmse = pd.DataFrame(data=previsoes['rmse'], \n",
    "                       index=previsoes['nome']).transpose()\n",
    "df_mape = pd.DataFrame(data=previsoes['mape'], \n",
    "                       index=previsoes['nome']).transpose()\n",
    "df_erro = pd.DataFrame(data=previsoes['erro relativo'], \n",
    "                       index=previsoes['nome']).transpose()"
   ]
  },
  {
   "cell_type": "code",
   "execution_count": 90,
   "metadata": {},
   "outputs": [
    {
     "data": {
      "text/html": [
       "<div>\n",
       "<style scoped>\n",
       "    .dataframe tbody tr th:only-of-type {\n",
       "        vertical-align: middle;\n",
       "    }\n",
       "\n",
       "    .dataframe tbody tr th {\n",
       "        vertical-align: top;\n",
       "    }\n",
       "\n",
       "    .dataframe thead th {\n",
       "        text-align: right;\n",
       "    }\n",
       "</style>\n",
       "<table border=\"1\" class=\"dataframe\">\n",
       "  <thead>\n",
       "    <tr style=\"text-align: right;\">\n",
       "      <th></th>\n",
       "      <th>RNN-LSTM-1-mês-larga</th>\n",
       "      <th>RNN-LSTM-1-mês-camadas</th>\n",
       "      <th>RNN-LSTM-12-meses-larga</th>\n",
       "      <th>RNN-LSTM-12-meses-camadas</th>\n",
       "      <th>real</th>\n",
       "    </tr>\n",
       "    <tr>\n",
       "      <th>date</th>\n",
       "      <th></th>\n",
       "      <th></th>\n",
       "      <th></th>\n",
       "      <th></th>\n",
       "      <th></th>\n",
       "    </tr>\n",
       "  </thead>\n",
       "  <tbody>\n",
       "    <tr>\n",
       "      <th>2013-01-01</th>\n",
       "      <td>9.459771e+09</td>\n",
       "      <td>9.551037e+09</td>\n",
       "      <td>9.239032e+09</td>\n",
       "      <td>9.409421e+09</td>\n",
       "      <td>8.799359e+09</td>\n",
       "    </tr>\n",
       "    <tr>\n",
       "      <th>2013-02-01</th>\n",
       "      <td>9.436794e+09</td>\n",
       "      <td>9.571554e+09</td>\n",
       "      <td>9.239525e+09</td>\n",
       "      <td>9.410301e+09</td>\n",
       "      <td>8.690433e+09</td>\n",
       "    </tr>\n",
       "    <tr>\n",
       "      <th>2013-03-01</th>\n",
       "      <td>9.544299e+09</td>\n",
       "      <td>9.627398e+09</td>\n",
       "      <td>9.209316e+09</td>\n",
       "      <td>9.410677e+09</td>\n",
       "      <td>8.698445e+09</td>\n",
       "    </tr>\n",
       "    <tr>\n",
       "      <th>2013-04-01</th>\n",
       "      <td>9.527203e+09</td>\n",
       "      <td>9.627875e+09</td>\n",
       "      <td>9.201099e+09</td>\n",
       "      <td>9.418579e+09</td>\n",
       "      <td>9.446984e+09</td>\n",
       "    </tr>\n",
       "    <tr>\n",
       "      <th>2013-05-01</th>\n",
       "      <td>9.503754e+09</td>\n",
       "      <td>9.632798e+09</td>\n",
       "      <td>9.212830e+09</td>\n",
       "      <td>9.432205e+09</td>\n",
       "      <td>9.497989e+09</td>\n",
       "    </tr>\n",
       "    <tr>\n",
       "      <th>2013-06-01</th>\n",
       "      <td>9.500872e+09</td>\n",
       "      <td>9.647710e+09</td>\n",
       "      <td>9.212725e+09</td>\n",
       "      <td>9.443348e+09</td>\n",
       "      <td>9.133477e+09</td>\n",
       "    </tr>\n",
       "    <tr>\n",
       "      <th>2013-07-01</th>\n",
       "      <td>9.496687e+09</td>\n",
       "      <td>9.630465e+09</td>\n",
       "      <td>9.209931e+09</td>\n",
       "      <td>9.455784e+09</td>\n",
       "      <td>9.657129e+09</td>\n",
       "    </tr>\n",
       "    <tr>\n",
       "      <th>2013-08-01</th>\n",
       "      <td>9.497375e+09</td>\n",
       "      <td>9.646716e+09</td>\n",
       "      <td>9.217734e+09</td>\n",
       "      <td>9.466052e+09</td>\n",
       "      <td>9.604407e+09</td>\n",
       "    </tr>\n",
       "    <tr>\n",
       "      <th>2013-09-01</th>\n",
       "      <td>9.496288e+09</td>\n",
       "      <td>9.639948e+09</td>\n",
       "      <td>9.220547e+09</td>\n",
       "      <td>9.481176e+09</td>\n",
       "      <td>1.011536e+10</td>\n",
       "    </tr>\n",
       "    <tr>\n",
       "      <th>2013-10-01</th>\n",
       "      <td>9.492304e+09</td>\n",
       "      <td>9.643442e+09</td>\n",
       "      <td>9.238821e+09</td>\n",
       "      <td>9.499785e+09</td>\n",
       "      <td>1.020979e+10</td>\n",
       "    </tr>\n",
       "    <tr>\n",
       "      <th>2013-11-01</th>\n",
       "      <td>9.491435e+09</td>\n",
       "      <td>9.645576e+09</td>\n",
       "      <td>9.250882e+09</td>\n",
       "      <td>9.514183e+09</td>\n",
       "      <td>9.712795e+09</td>\n",
       "    </tr>\n",
       "    <tr>\n",
       "      <th>2013-12-01</th>\n",
       "      <td>9.488702e+09</td>\n",
       "      <td>9.649587e+09</td>\n",
       "      <td>9.264513e+09</td>\n",
       "      <td>9.526167e+09</td>\n",
       "      <td>1.076762e+10</td>\n",
       "    </tr>\n",
       "  </tbody>\n",
       "</table>\n",
       "</div>"
      ],
      "text/plain": [
       "            RNN-LSTM-1-mês-larga  RNN-LSTM-1-mês-camadas  \\\n",
       "date                                                       \n",
       "2013-01-01          9.459771e+09            9.551037e+09   \n",
       "2013-02-01          9.436794e+09            9.571554e+09   \n",
       "2013-03-01          9.544299e+09            9.627398e+09   \n",
       "2013-04-01          9.527203e+09            9.627875e+09   \n",
       "2013-05-01          9.503754e+09            9.632798e+09   \n",
       "2013-06-01          9.500872e+09            9.647710e+09   \n",
       "2013-07-01          9.496687e+09            9.630465e+09   \n",
       "2013-08-01          9.497375e+09            9.646716e+09   \n",
       "2013-09-01          9.496288e+09            9.639948e+09   \n",
       "2013-10-01          9.492304e+09            9.643442e+09   \n",
       "2013-11-01          9.491435e+09            9.645576e+09   \n",
       "2013-12-01          9.488702e+09            9.649587e+09   \n",
       "\n",
       "            RNN-LSTM-12-meses-larga  RNN-LSTM-12-meses-camadas          real  \n",
       "date                                                                          \n",
       "2013-01-01             9.239032e+09               9.409421e+09  8.799359e+09  \n",
       "2013-02-01             9.239525e+09               9.410301e+09  8.690433e+09  \n",
       "2013-03-01             9.209316e+09               9.410677e+09  8.698445e+09  \n",
       "2013-04-01             9.201099e+09               9.418579e+09  9.446984e+09  \n",
       "2013-05-01             9.212830e+09               9.432205e+09  9.497989e+09  \n",
       "2013-06-01             9.212725e+09               9.443348e+09  9.133477e+09  \n",
       "2013-07-01             9.209931e+09               9.455784e+09  9.657129e+09  \n",
       "2013-08-01             9.217734e+09               9.466052e+09  9.604407e+09  \n",
       "2013-09-01             9.220547e+09               9.481176e+09  1.011536e+10  \n",
       "2013-10-01             9.238821e+09               9.499785e+09  1.020979e+10  \n",
       "2013-11-01             9.250882e+09               9.514183e+09  9.712795e+09  \n",
       "2013-12-01             9.264513e+09               9.526167e+09  1.076762e+10  "
      ]
     },
     "execution_count": 90,
     "metadata": {},
     "output_type": "execute_result"
    }
   ],
   "source": [
    "df_prev"
   ]
  },
  {
   "cell_type": "code",
   "execution_count": 91,
   "metadata": {},
   "outputs": [
    {
     "data": {
      "text/html": [
       "<div>\n",
       "<style scoped>\n",
       "    .dataframe tbody tr th:only-of-type {\n",
       "        vertical-align: middle;\n",
       "    }\n",
       "\n",
       "    .dataframe tbody tr th {\n",
       "        vertical-align: top;\n",
       "    }\n",
       "\n",
       "    .dataframe thead th {\n",
       "        text-align: right;\n",
       "    }\n",
       "</style>\n",
       "<table border=\"1\" class=\"dataframe\">\n",
       "  <thead>\n",
       "    <tr style=\"text-align: right;\">\n",
       "      <th></th>\n",
       "      <th>RNN-LSTM-1-mês-larga</th>\n",
       "      <th>RNN-LSTM-1-mês-camadas</th>\n",
       "      <th>RNN-LSTM-12-meses-larga</th>\n",
       "      <th>RNN-LSTM-12-meses-camadas</th>\n",
       "    </tr>\n",
       "  </thead>\n",
       "  <tbody>\n",
       "    <tr>\n",
       "      <th>0</th>\n",
       "      <td>7.505225</td>\n",
       "      <td>8.542418</td>\n",
       "      <td>4.996644</td>\n",
       "      <td>6.933024</td>\n",
       "    </tr>\n",
       "    <tr>\n",
       "      <th>1</th>\n",
       "      <td>8.588303</td>\n",
       "      <td>10.138969</td>\n",
       "      <td>6.318351</td>\n",
       "      <td>8.283443</td>\n",
       "    </tr>\n",
       "    <tr>\n",
       "      <th>2</th>\n",
       "      <td>9.724204</td>\n",
       "      <td>10.679527</td>\n",
       "      <td>5.873134</td>\n",
       "      <td>8.188044</td>\n",
       "    </tr>\n",
       "    <tr>\n",
       "      <th>3</th>\n",
       "      <td>0.849150</td>\n",
       "      <td>1.914806</td>\n",
       "      <td>2.602782</td>\n",
       "      <td>0.300680</td>\n",
       "    </tr>\n",
       "    <tr>\n",
       "      <th>4</th>\n",
       "      <td>0.060698</td>\n",
       "      <td>1.419344</td>\n",
       "      <td>3.002307</td>\n",
       "      <td>0.692603</td>\n",
       "    </tr>\n",
       "    <tr>\n",
       "      <th>5</th>\n",
       "      <td>4.022513</td>\n",
       "      <td>5.630203</td>\n",
       "      <td>0.867663</td>\n",
       "      <td>3.392699</td>\n",
       "    </tr>\n",
       "    <tr>\n",
       "      <th>6</th>\n",
       "      <td>1.661383</td>\n",
       "      <td>0.276107</td>\n",
       "      <td>4.630753</td>\n",
       "      <td>2.084930</td>\n",
       "    </tr>\n",
       "    <tr>\n",
       "      <th>7</th>\n",
       "      <td>1.114401</td>\n",
       "      <td>0.440522</td>\n",
       "      <td>4.025995</td>\n",
       "      <td>1.440533</td>\n",
       "    </tr>\n",
       "    <tr>\n",
       "      <th>8</th>\n",
       "      <td>6.120109</td>\n",
       "      <td>4.699901</td>\n",
       "      <td>8.846074</td>\n",
       "      <td>6.269507</td>\n",
       "    </tr>\n",
       "    <tr>\n",
       "      <th>9</th>\n",
       "      <td>7.027404</td>\n",
       "      <td>5.547086</td>\n",
       "      <td>9.510158</td>\n",
       "      <td>6.954137</td>\n",
       "    </tr>\n",
       "    <tr>\n",
       "      <th>10</th>\n",
       "      <td>2.279050</td>\n",
       "      <td>0.692069</td>\n",
       "      <td>4.755720</td>\n",
       "      <td>2.044853</td>\n",
       "    </tr>\n",
       "    <tr>\n",
       "      <th>11</th>\n",
       "      <td>11.877439</td>\n",
       "      <td>10.383284</td>\n",
       "      <td>13.959504</td>\n",
       "      <td>11.529499</td>\n",
       "    </tr>\n",
       "  </tbody>\n",
       "</table>\n",
       "</div>"
      ],
      "text/plain": [
       "    RNN-LSTM-1-mês-larga  RNN-LSTM-1-mês-camadas  RNN-LSTM-12-meses-larga  \\\n",
       "0               7.505225                8.542418                 4.996644   \n",
       "1               8.588303               10.138969                 6.318351   \n",
       "2               9.724204               10.679527                 5.873134   \n",
       "3               0.849150                1.914806                 2.602782   \n",
       "4               0.060698                1.419344                 3.002307   \n",
       "5               4.022513                5.630203                 0.867663   \n",
       "6               1.661383                0.276107                 4.630753   \n",
       "7               1.114401                0.440522                 4.025995   \n",
       "8               6.120109                4.699901                 8.846074   \n",
       "9               7.027404                5.547086                 9.510158   \n",
       "10              2.279050                0.692069                 4.755720   \n",
       "11             11.877439               10.383284                13.959504   \n",
       "\n",
       "    RNN-LSTM-12-meses-camadas  \n",
       "0                    6.933024  \n",
       "1                    8.283443  \n",
       "2                    8.188044  \n",
       "3                    0.300680  \n",
       "4                    0.692603  \n",
       "5                    3.392699  \n",
       "6                    2.084930  \n",
       "7                    1.440533  \n",
       "8                    6.269507  \n",
       "9                    6.954137  \n",
       "10                   2.044853  \n",
       "11                  11.529499  "
      ]
     },
     "execution_count": 91,
     "metadata": {},
     "output_type": "execute_result"
    }
   ],
   "source": [
    "df_erro"
   ]
  },
  {
   "cell_type": "markdown",
   "metadata": {},
   "source": [
    "#### Previsões"
   ]
  },
  {
   "cell_type": "code",
   "execution_count": 92,
   "metadata": {},
   "outputs": [
    {
     "data": {
      "image/png": "[encoded data removed]",
      "text/plain": [
       "<Figure size 1080x720 with 1 Axes>"
      ]
     },
     "metadata": {
      "needs_background": "light"
     },
     "output_type": "display_data"
    }
   ],
   "source": [
    "fig = plt.figure(figsize=(15, 10))\n",
    "ax = sns.lineplot(data=df_prev)"
   ]
  },
  {
   "cell_type": "markdown",
   "metadata": {},
   "source": [
    "#### RMSE"
   ]
  },
  {
   "cell_type": "code",
   "execution_count": 93,
   "metadata": {
    "scrolled": false
   },
   "outputs": [
    {
     "data": {
      "image/png": "[encoded data removed]",
      "text/plain": [
       "<Figure size 1080x720 with 1 Axes>"
      ]
     },
     "metadata": {
      "needs_background": "light"
     },
     "output_type": "display_data"
    }
   ],
   "source": [
    "fig = plt.figure(figsize=(15, 10))\n",
    "#df_rmse = df_rmse.drop(['mov_avg_12'], axis=1)\n",
    "ax = sns.barplot(data=df_rmse)\n",
    "_ = plt.xticks(rotation=45)"
   ]
  },
  {
   "cell_type": "markdown",
   "metadata": {},
   "source": [
    "#### MAPE"
   ]
  },
  {
   "cell_type": "code",
   "execution_count": 94,
   "metadata": {
    "scrolled": false
   },
   "outputs": [
    {
     "data": {
      "image/png": "[encoded data removed]",
      "text/plain": [
       "<Figure size 1080x720 with 1 Axes>"
      ]
     },
     "metadata": {
      "needs_background": "light"
     },
     "output_type": "display_data"
    }
   ],
   "source": [
    "fig = plt.figure(figsize=(15, 10))\n",
    "#df_mape = df_mape.drop(['mov_avg_12'], axis=1)\n",
    "ax = sns.barplot(data=df_mape)\n",
    "_ = plt.xticks(rotation=45)"
   ]
  },
  {
   "cell_type": "markdown",
   "metadata": {},
   "source": [
    "### Resumo das métricas"
   ]
  },
  {
   "cell_type": "code",
   "execution_count": 95,
   "metadata": {},
   "outputs": [],
   "source": [
    "df_rmse.index = ['RMSE']\n",
    "df_mape.index = ['MAPE']"
   ]
  },
  {
   "cell_type": "code",
   "execution_count": 96,
   "metadata": {},
   "outputs": [
    {
     "data": {
      "text/html": [
       "<div>\n",
       "<style scoped>\n",
       "    .dataframe tbody tr th:only-of-type {\n",
       "        vertical-align: middle;\n",
       "    }\n",
       "\n",
       "    .dataframe tbody tr th {\n",
       "        vertical-align: top;\n",
       "    }\n",
       "\n",
       "    .dataframe thead th {\n",
       "        text-align: right;\n",
       "    }\n",
       "</style>\n",
       "<table border=\"1\" class=\"dataframe\">\n",
       "  <thead>\n",
       "    <tr style=\"text-align: right;\">\n",
       "      <th></th>\n",
       "      <th>RNN-LSTM-1-mês-larga</th>\n",
       "      <th>RNN-LSTM-1-mês-camadas</th>\n",
       "      <th>RNN-LSTM-12-meses-larga</th>\n",
       "      <th>RNN-LSTM-12-meses-camadas</th>\n",
       "    </tr>\n",
       "  </thead>\n",
       "  <tbody>\n",
       "    <tr>\n",
       "      <th>RMSE</th>\n",
       "      <td>6.103260e+08</td>\n",
       "      <td>6.002400e+08</td>\n",
       "      <td>6.751246e+08</td>\n",
       "      <td>5.806203e+08</td>\n",
       "    </tr>\n",
       "    <tr>\n",
       "      <th>MAPE</th>\n",
       "      <td>5.069157e-02</td>\n",
       "      <td>5.030353e-02</td>\n",
       "      <td>5.782424e-02</td>\n",
       "      <td>4.842829e-02</td>\n",
       "    </tr>\n",
       "  </tbody>\n",
       "</table>\n",
       "</div>"
      ],
      "text/plain": [
       "      RNN-LSTM-1-mês-larga  RNN-LSTM-1-mês-camadas  RNN-LSTM-12-meses-larga  \\\n",
       "RMSE          6.103260e+08            6.002400e+08             6.751246e+08   \n",
       "MAPE          5.069157e-02            5.030353e-02             5.782424e-02   \n",
       "\n",
       "      RNN-LSTM-12-meses-camadas  \n",
       "RMSE               5.806203e+08  \n",
       "MAPE               4.842829e-02  "
      ]
     },
     "execution_count": 96,
     "metadata": {},
     "output_type": "execute_result"
    }
   ],
   "source": [
    "df_metricas = df_rmse.copy()\n",
    "df_metricas = df_metricas.append(df_mape.copy())\n",
    "df_metricas"
   ]
  },
  {
   "cell_type": "code",
   "execution_count": 98,
   "metadata": {},
   "outputs": [],
   "source": [
    "df_metricas.transpose().to_excel('./metricas_val_rnn_uni_2014.xlsx', index_label='modelo')"
   ]
  },
  {
   "cell_type": "code",
   "execution_count": null,
   "metadata": {},
   "outputs": [],
   "source": []
  }
 ],
 "metadata": {
  "kernelspec": {
   "display_name": "Python 3",
   "language": "python",
   "name": "python3"
  },
  "language_info": {
   "codemirror_mode": {
    "name": "ipython",
    "version": 3
   },
   "file_extension": ".py",
   "mimetype": "text/x-python",
   "name": "python",
   "nbconvert_exporter": "python",
   "pygments_lexer": "ipython3",
   "version": "3.6.4"
  }
 },
 "nbformat": 4,
 "nbformat_minor": 2
}
