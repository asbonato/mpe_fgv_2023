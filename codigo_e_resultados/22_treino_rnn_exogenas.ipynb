{
 "cells": [
  {
   "cell_type": "markdown",
   "metadata": {},
   "source": [
    "# Aplicação de Modelos de Markov e Redes Neurais LSTM na Previsão de Arrecadação do ICMS Paulista\n",
    "## Resultados 2022\n",
    "\n",
    "### Antonio Sergio Ferreira Bonato"
   ]
  },
  {
   "cell_type": "markdown",
   "metadata": {},
   "source": [
    "Atualmente, na Secretaria da Fazenda e Planejamento do Estado de São Paulo, a previsão de arrecadação do ICMS paulista é feita usando-se um modelo ARIMA com variáveis exógenas, o ARIMAX. Mas o ICMS é não linear e há várias quebras estruturais controladas com diversas *dummies*. A consequência é um modelo bastante sobreajustado, inadequado para previsões de mais longo prazo (mais do que alguns meses, muito menos para um ano). \n",
    "A proposta deste trabalho é utilizar modelos não lineares multivariados na previsão do ICMS paulista, utilizando redes neurais recorrentes LSTM (*Long Short Term Memory*) e modelos Markov-Switching, fazendo um contraponto entre estes dois modelos. E utilizar, como baseline de comparação, o modelo ARIMAX atual. \n",
    "\n",
    "**Palavras-chave**: Markov-Switching Models. Redes Neurais Recorrentes. LSTM. ICMS."
   ]
  },
  {
   "cell_type": "markdown",
   "metadata": {},
   "source": [
    "## Treino das RNN-LSTM Multivariadas"
   ]
  },
  {
   "cell_type": "code",
   "execution_count": 1,
   "metadata": {},
   "outputs": [],
   "source": [
    "import pandas as pd\n",
    "import numpy as np\n",
    "import seaborn as sns\n",
    "import matplotlib.pyplot as plt\n",
    "import statsmodels.tsa.stattools\n",
    "import statsmodels.tsa.x13\n",
    "import statsmodels.graphics.tsaplots\n",
    "import statsmodels.api as sm\n",
    "from statsmodels.graphics.api import qqplot\n",
    "from statsmodels.tsa.api import acf, graphics, pacf\n",
    "from statsmodels.tsa.arima.model import ARIMA\n",
    "import pickle\n",
    "from pmdarima.arima import auto_arima\n",
    "from sklearn.metrics import mean_squared_error, mean_absolute_percentage_error\n",
    "import random\n",
    "import tensorflow as tf\n",
    "seed = 42\n",
    "random.seed(seed)\n",
    "np.random.seed(seed)\n",
    "tf.random.set_seed(seed)\n",
    "\n",
    "sns.set()\n",
    "sns.set_context(\"notebook\")\n",
    "sns.set(rc={'figure.figsize':(15,8)})"
   ]
  },
  {
   "cell_type": "code",
   "execution_count": 2,
   "metadata": {},
   "outputs": [],
   "source": [
    "import warnings\n",
    "warnings.filterwarnings('ignore')\n",
    "warnings.simplefilter('ignore')"
   ]
  },
  {
   "cell_type": "code",
   "execution_count": 3,
   "metadata": {},
   "outputs": [
    {
     "data": {
      "text/html": [
       "<div>\n",
       "<style scoped>\n",
       "    .dataframe tbody tr th:only-of-type {\n",
       "        vertical-align: middle;\n",
       "    }\n",
       "\n",
       "    .dataframe tbody tr th {\n",
       "        vertical-align: top;\n",
       "    }\n",
       "\n",
       "    .dataframe thead th {\n",
       "        text-align: right;\n",
       "    }\n",
       "</style>\n",
       "<table border=\"1\" class=\"dataframe\">\n",
       "  <thead>\n",
       "    <tr style=\"text-align: right;\">\n",
       "      <th></th>\n",
       "      <th>date</th>\n",
       "      <th>icms_sp</th>\n",
       "      <th>igp_m</th>\n",
       "      <th>dolar</th>\n",
       "      <th>ibc_br</th>\n",
       "      <th>dias_uteis</th>\n",
       "      <th>igp_m_22</th>\n",
       "      <th>dolar_22</th>\n",
       "      <th>ibc_br_22</th>\n",
       "      <th>igp_m_21</th>\n",
       "      <th>dolar_21</th>\n",
       "      <th>ibc_br_21</th>\n",
       "    </tr>\n",
       "  </thead>\n",
       "  <tbody>\n",
       "    <tr>\n",
       "      <th>0</th>\n",
       "      <td>2003-01-01</td>\n",
       "      <td>3.360296e+09</td>\n",
       "      <td>277.173</td>\n",
       "      <td>3.4384</td>\n",
       "      <td>96.15</td>\n",
       "      <td>22</td>\n",
       "      <td>277.173</td>\n",
       "      <td>3.4384</td>\n",
       "      <td>96.15</td>\n",
       "      <td>277.173</td>\n",
       "      <td>3.4384</td>\n",
       "      <td>96.15</td>\n",
       "    </tr>\n",
       "    <tr>\n",
       "      <th>1</th>\n",
       "      <td>2003-02-01</td>\n",
       "      <td>3.196558e+09</td>\n",
       "      <td>283.506</td>\n",
       "      <td>3.5908</td>\n",
       "      <td>98.67</td>\n",
       "      <td>20</td>\n",
       "      <td>283.506</td>\n",
       "      <td>3.5908</td>\n",
       "      <td>98.67</td>\n",
       "      <td>283.506</td>\n",
       "      <td>3.5908</td>\n",
       "      <td>98.67</td>\n",
       "    </tr>\n",
       "    <tr>\n",
       "      <th>2</th>\n",
       "      <td>2003-03-01</td>\n",
       "      <td>3.160011e+09</td>\n",
       "      <td>287.855</td>\n",
       "      <td>3.4469</td>\n",
       "      <td>103.41</td>\n",
       "      <td>19</td>\n",
       "      <td>287.855</td>\n",
       "      <td>3.4469</td>\n",
       "      <td>103.41</td>\n",
       "      <td>287.855</td>\n",
       "      <td>3.4469</td>\n",
       "      <td>103.41</td>\n",
       "    </tr>\n",
       "    <tr>\n",
       "      <th>3</th>\n",
       "      <td>2003-04-01</td>\n",
       "      <td>3.215307e+09</td>\n",
       "      <td>290.512</td>\n",
       "      <td>3.1187</td>\n",
       "      <td>102.19</td>\n",
       "      <td>20</td>\n",
       "      <td>290.512</td>\n",
       "      <td>3.1187</td>\n",
       "      <td>102.19</td>\n",
       "      <td>290.512</td>\n",
       "      <td>3.1187</td>\n",
       "      <td>102.19</td>\n",
       "    </tr>\n",
       "    <tr>\n",
       "      <th>4</th>\n",
       "      <td>2003-05-01</td>\n",
       "      <td>3.098930e+09</td>\n",
       "      <td>289.747</td>\n",
       "      <td>2.9557</td>\n",
       "      <td>100.30</td>\n",
       "      <td>21</td>\n",
       "      <td>289.747</td>\n",
       "      <td>2.9557</td>\n",
       "      <td>100.30</td>\n",
       "      <td>289.747</td>\n",
       "      <td>2.9557</td>\n",
       "      <td>100.30</td>\n",
       "    </tr>\n",
       "  </tbody>\n",
       "</table>\n",
       "</div>"
      ],
      "text/plain": [
       "        date       icms_sp    igp_m   dolar  ibc_br  dias_uteis  igp_m_22  \\\n",
       "0 2003-01-01  3.360296e+09  277.173  3.4384   96.15          22   277.173   \n",
       "1 2003-02-01  3.196558e+09  283.506  3.5908   98.67          20   283.506   \n",
       "2 2003-03-01  3.160011e+09  287.855  3.4469  103.41          19   287.855   \n",
       "3 2003-04-01  3.215307e+09  290.512  3.1187  102.19          20   290.512   \n",
       "4 2003-05-01  3.098930e+09  289.747  2.9557  100.30          21   289.747   \n",
       "\n",
       "   dolar_22  ibc_br_22  igp_m_21  dolar_21  ibc_br_21  \n",
       "0    3.4384      96.15   277.173    3.4384      96.15  \n",
       "1    3.5908      98.67   283.506    3.5908      98.67  \n",
       "2    3.4469     103.41   287.855    3.4469     103.41  \n",
       "3    3.1187     102.19   290.512    3.1187     102.19  \n",
       "4    2.9557     100.30   289.747    2.9557     100.30  "
      ]
     },
     "execution_count": 3,
     "metadata": {},
     "output_type": "execute_result"
    }
   ],
   "source": [
    "df_main_orig = pd.read_excel(\"variaveis_previsao.xlsx\", parse_dates=['date'])\n",
    "df_main_orig.head()"
   ]
  },
  {
   "cell_type": "code",
   "execution_count": 4,
   "metadata": {},
   "outputs": [
    {
     "data": {
      "text/html": [
       "<div>\n",
       "<style scoped>\n",
       "    .dataframe tbody tr th:only-of-type {\n",
       "        vertical-align: middle;\n",
       "    }\n",
       "\n",
       "    .dataframe tbody tr th {\n",
       "        vertical-align: top;\n",
       "    }\n",
       "\n",
       "    .dataframe thead th {\n",
       "        text-align: right;\n",
       "    }\n",
       "</style>\n",
       "<table border=\"1\" class=\"dataframe\">\n",
       "  <thead>\n",
       "    <tr style=\"text-align: right;\">\n",
       "      <th></th>\n",
       "      <th>date</th>\n",
       "      <th>icms_sp</th>\n",
       "      <th>igp_m</th>\n",
       "      <th>dolar</th>\n",
       "      <th>ibc_br</th>\n",
       "      <th>dias_uteis</th>\n",
       "      <th>igp_m_22</th>\n",
       "      <th>dolar_22</th>\n",
       "      <th>ibc_br_22</th>\n",
       "      <th>igp_m_21</th>\n",
       "      <th>dolar_21</th>\n",
       "      <th>ibc_br_21</th>\n",
       "    </tr>\n",
       "  </thead>\n",
       "  <tbody>\n",
       "    <tr>\n",
       "      <th>235</th>\n",
       "      <td>2022-08-01</td>\n",
       "      <td>1.756224e+10</td>\n",
       "      <td>1185.004</td>\n",
       "      <td>5.143287</td>\n",
       "      <td>149.60</td>\n",
       "      <td>23</td>\n",
       "      <td>1137.167829</td>\n",
       "      <td>5.6496</td>\n",
       "      <td>146.408337</td>\n",
       "      <td>NaN</td>\n",
       "      <td>NaN</td>\n",
       "      <td>NaN</td>\n",
       "    </tr>\n",
       "    <tr>\n",
       "      <th>236</th>\n",
       "      <td>2022-09-01</td>\n",
       "      <td>1.726287e+10</td>\n",
       "      <td>1173.793</td>\n",
       "      <td>5.236957</td>\n",
       "      <td>144.44</td>\n",
       "      <td>21</td>\n",
       "      <td>1143.597376</td>\n",
       "      <td>5.6800</td>\n",
       "      <td>142.808302</td>\n",
       "      <td>NaN</td>\n",
       "      <td>NaN</td>\n",
       "      <td>NaN</td>\n",
       "    </tr>\n",
       "    <tr>\n",
       "      <th>237</th>\n",
       "      <td>2022-10-01</td>\n",
       "      <td>1.565000e+10</td>\n",
       "      <td>1162.391</td>\n",
       "      <td>5.250300</td>\n",
       "      <td>142.34</td>\n",
       "      <td>20</td>\n",
       "      <td>1150.115881</td>\n",
       "      <td>5.6700</td>\n",
       "      <td>144.063428</td>\n",
       "      <td>NaN</td>\n",
       "      <td>NaN</td>\n",
       "      <td>NaN</td>\n",
       "    </tr>\n",
       "    <tr>\n",
       "      <th>238</th>\n",
       "      <td>2022-11-01</td>\n",
       "      <td>1.605000e+10</td>\n",
       "      <td>1155.829</td>\n",
       "      <td>5.274650</td>\n",
       "      <td>140.80</td>\n",
       "      <td>20</td>\n",
       "      <td>1155.866460</td>\n",
       "      <td>5.6000</td>\n",
       "      <td>143.165409</td>\n",
       "      <td>NaN</td>\n",
       "      <td>NaN</td>\n",
       "      <td>NaN</td>\n",
       "    </tr>\n",
       "    <tr>\n",
       "      <th>239</th>\n",
       "      <td>2022-12-01</td>\n",
       "      <td>1.767135e+10</td>\n",
       "      <td>1161.006</td>\n",
       "      <td>5.242432</td>\n",
       "      <td>142.78</td>\n",
       "      <td>22</td>\n",
       "      <td>1161.645792</td>\n",
       "      <td>5.6000</td>\n",
       "      <td>141.405133</td>\n",
       "      <td>NaN</td>\n",
       "      <td>NaN</td>\n",
       "      <td>NaN</td>\n",
       "    </tr>\n",
       "  </tbody>\n",
       "</table>\n",
       "</div>"
      ],
      "text/plain": [
       "          date       icms_sp     igp_m     dolar  ibc_br  dias_uteis  \\\n",
       "235 2022-08-01  1.756224e+10  1185.004  5.143287  149.60          23   \n",
       "236 2022-09-01  1.726287e+10  1173.793  5.236957  144.44          21   \n",
       "237 2022-10-01  1.565000e+10  1162.391  5.250300  142.34          20   \n",
       "238 2022-11-01  1.605000e+10  1155.829  5.274650  140.80          20   \n",
       "239 2022-12-01  1.767135e+10  1161.006  5.242432  142.78          22   \n",
       "\n",
       "        igp_m_22  dolar_22   ibc_br_22  igp_m_21  dolar_21  ibc_br_21  \n",
       "235  1137.167829    5.6496  146.408337       NaN       NaN        NaN  \n",
       "236  1143.597376    5.6800  142.808302       NaN       NaN        NaN  \n",
       "237  1150.115881    5.6700  144.063428       NaN       NaN        NaN  \n",
       "238  1155.866460    5.6000  143.165409       NaN       NaN        NaN  \n",
       "239  1161.645792    5.6000  141.405133       NaN       NaN        NaN  "
      ]
     },
     "execution_count": 4,
     "metadata": {},
     "output_type": "execute_result"
    }
   ],
   "source": [
    "df_main_orig.tail()"
   ]
  },
  {
   "cell_type": "code",
   "execution_count": 5,
   "metadata": {},
   "outputs": [
    {
     "name": "stdout",
     "output_type": "stream",
     "text": [
      "<class 'pandas.core.frame.DataFrame'>\n",
      "RangeIndex: 240 entries, 0 to 239\n",
      "Data columns (total 12 columns):\n",
      " #   Column      Non-Null Count  Dtype         \n",
      "---  ------      --------------  -----         \n",
      " 0   date        240 non-null    datetime64[ns]\n",
      " 1   icms_sp     240 non-null    float64       \n",
      " 2   igp_m       240 non-null    float64       \n",
      " 3   dolar       240 non-null    float64       \n",
      " 4   ibc_br      240 non-null    float64       \n",
      " 5   dias_uteis  240 non-null    int64         \n",
      " 6   igp_m_22    240 non-null    float64       \n",
      " 7   dolar_22    240 non-null    float64       \n",
      " 8   ibc_br_22   240 non-null    float64       \n",
      " 9   igp_m_21    228 non-null    float64       \n",
      " 10  dolar_21    228 non-null    float64       \n",
      " 11  ibc_br_21   228 non-null    float64       \n",
      "dtypes: datetime64[ns](1), float64(10), int64(1)\n",
      "memory usage: 22.6 KB\n"
     ]
    }
   ],
   "source": [
    "df_main_orig.info()"
   ]
  },
  {
   "cell_type": "markdown",
   "metadata": {},
   "source": [
    "Removendo as últimas linhas que são todas NaN"
   ]
  },
  {
   "cell_type": "code",
   "execution_count": 6,
   "metadata": {},
   "outputs": [],
   "source": [
    "df_main = df_main_orig.iloc[0:240]\n",
    "datas = df_main['date']"
   ]
  },
  {
   "cell_type": "code",
   "execution_count": 7,
   "metadata": {},
   "outputs": [
    {
     "data": {
      "text/html": [
       "<div>\n",
       "<style scoped>\n",
       "    .dataframe tbody tr th:only-of-type {\n",
       "        vertical-align: middle;\n",
       "    }\n",
       "\n",
       "    .dataframe tbody tr th {\n",
       "        vertical-align: top;\n",
       "    }\n",
       "\n",
       "    .dataframe thead th {\n",
       "        text-align: right;\n",
       "    }\n",
       "</style>\n",
       "<table border=\"1\" class=\"dataframe\">\n",
       "  <thead>\n",
       "    <tr style=\"text-align: right;\">\n",
       "      <th></th>\n",
       "      <th>date</th>\n",
       "      <th>icms_sp</th>\n",
       "      <th>igp_m</th>\n",
       "      <th>dolar</th>\n",
       "      <th>ibc_br</th>\n",
       "      <th>dias_uteis</th>\n",
       "      <th>igp_m_22</th>\n",
       "      <th>dolar_22</th>\n",
       "      <th>ibc_br_22</th>\n",
       "      <th>igp_m_21</th>\n",
       "      <th>dolar_21</th>\n",
       "      <th>ibc_br_21</th>\n",
       "    </tr>\n",
       "  </thead>\n",
       "  <tbody>\n",
       "    <tr>\n",
       "      <th>235</th>\n",
       "      <td>2022-08-01</td>\n",
       "      <td>1.756224e+10</td>\n",
       "      <td>1185.004</td>\n",
       "      <td>5.143287</td>\n",
       "      <td>149.60</td>\n",
       "      <td>23</td>\n",
       "      <td>1137.167829</td>\n",
       "      <td>5.6496</td>\n",
       "      <td>146.408337</td>\n",
       "      <td>NaN</td>\n",
       "      <td>NaN</td>\n",
       "      <td>NaN</td>\n",
       "    </tr>\n",
       "    <tr>\n",
       "      <th>236</th>\n",
       "      <td>2022-09-01</td>\n",
       "      <td>1.726287e+10</td>\n",
       "      <td>1173.793</td>\n",
       "      <td>5.236957</td>\n",
       "      <td>144.44</td>\n",
       "      <td>21</td>\n",
       "      <td>1143.597376</td>\n",
       "      <td>5.6800</td>\n",
       "      <td>142.808302</td>\n",
       "      <td>NaN</td>\n",
       "      <td>NaN</td>\n",
       "      <td>NaN</td>\n",
       "    </tr>\n",
       "    <tr>\n",
       "      <th>237</th>\n",
       "      <td>2022-10-01</td>\n",
       "      <td>1.565000e+10</td>\n",
       "      <td>1162.391</td>\n",
       "      <td>5.250300</td>\n",
       "      <td>142.34</td>\n",
       "      <td>20</td>\n",
       "      <td>1150.115881</td>\n",
       "      <td>5.6700</td>\n",
       "      <td>144.063428</td>\n",
       "      <td>NaN</td>\n",
       "      <td>NaN</td>\n",
       "      <td>NaN</td>\n",
       "    </tr>\n",
       "    <tr>\n",
       "      <th>238</th>\n",
       "      <td>2022-11-01</td>\n",
       "      <td>1.605000e+10</td>\n",
       "      <td>1155.829</td>\n",
       "      <td>5.274650</td>\n",
       "      <td>140.80</td>\n",
       "      <td>20</td>\n",
       "      <td>1155.866460</td>\n",
       "      <td>5.6000</td>\n",
       "      <td>143.165409</td>\n",
       "      <td>NaN</td>\n",
       "      <td>NaN</td>\n",
       "      <td>NaN</td>\n",
       "    </tr>\n",
       "    <tr>\n",
       "      <th>239</th>\n",
       "      <td>2022-12-01</td>\n",
       "      <td>1.767135e+10</td>\n",
       "      <td>1161.006</td>\n",
       "      <td>5.242432</td>\n",
       "      <td>142.78</td>\n",
       "      <td>22</td>\n",
       "      <td>1161.645792</td>\n",
       "      <td>5.6000</td>\n",
       "      <td>141.405133</td>\n",
       "      <td>NaN</td>\n",
       "      <td>NaN</td>\n",
       "      <td>NaN</td>\n",
       "    </tr>\n",
       "  </tbody>\n",
       "</table>\n",
       "</div>"
      ],
      "text/plain": [
       "          date       icms_sp     igp_m     dolar  ibc_br  dias_uteis  \\\n",
       "235 2022-08-01  1.756224e+10  1185.004  5.143287  149.60          23   \n",
       "236 2022-09-01  1.726287e+10  1173.793  5.236957  144.44          21   \n",
       "237 2022-10-01  1.565000e+10  1162.391  5.250300  142.34          20   \n",
       "238 2022-11-01  1.605000e+10  1155.829  5.274650  140.80          20   \n",
       "239 2022-12-01  1.767135e+10  1161.006  5.242432  142.78          22   \n",
       "\n",
       "        igp_m_22  dolar_22   ibc_br_22  igp_m_21  dolar_21  ibc_br_21  \n",
       "235  1137.167829    5.6496  146.408337       NaN       NaN        NaN  \n",
       "236  1143.597376    5.6800  142.808302       NaN       NaN        NaN  \n",
       "237  1150.115881    5.6700  144.063428       NaN       NaN        NaN  \n",
       "238  1155.866460    5.6000  143.165409       NaN       NaN        NaN  \n",
       "239  1161.645792    5.6000  141.405133       NaN       NaN        NaN  "
      ]
     },
     "execution_count": 7,
     "metadata": {},
     "output_type": "execute_result"
    }
   ],
   "source": [
    "df_main.tail()"
   ]
  },
  {
   "cell_type": "markdown",
   "metadata": {},
   "source": [
    "### Criação das Séries\n",
    "Como os valores do ICMS são muito elevados a série será colocada em log."
   ]
  },
  {
   "cell_type": "code",
   "execution_count": 8,
   "metadata": {},
   "outputs": [],
   "source": [
    "icms_ts = pd.Series(np.log(list(df_main['icms_sp'])), index = datas)\n",
    "ibcbr_ts = pd.Series(list(df_main['ibc_br_22']), index = datas)\n",
    "igpm_ts = pd.Series(list(df_main['igp_m_22']), index = datas)\n",
    "dolar_ts = pd.Series(list(df_main['dolar_22']), index = datas)\n",
    "dias_uteis_ts = pd.Series(list(df_main['dias_uteis']), index = datas)"
   ]
  },
  {
   "cell_type": "markdown",
   "metadata": {},
   "source": [
    "#### Testes de Valores Nulos"
   ]
  },
  {
   "cell_type": "code",
   "execution_count": 9,
   "metadata": {},
   "outputs": [
    {
     "name": "stdout",
     "output_type": "stream",
     "text": [
      "ICMS 0\n",
      "IBC-Br 0\n",
      "IGP-DI 0\n",
      "Dólar 0\n",
      "Dias Úteis 0\n"
     ]
    }
   ],
   "source": [
    "print('ICMS', icms_ts.isnull().sum())\n",
    "print('IBC-Br', ibcbr_ts.isnull().sum())\n",
    "print('IGP-DI', igpm_ts.isnull().sum())\n",
    "print('Dólar', dolar_ts.isnull().sum())\n",
    "print('Dias Úteis', dias_uteis_ts.isnull().sum())"
   ]
  },
  {
   "cell_type": "markdown",
   "metadata": {},
   "source": [
    "### Plotando a Série em Nível"
   ]
  },
  {
   "cell_type": "code",
   "execution_count": 10,
   "metadata": {},
   "outputs": [
    {
     "data": {
      "image/png": "[encoded data removed]",
      "text/plain": [
       "<Figure size 1080x2160 with 5 Axes>"
      ]
     },
     "metadata": {
      "needs_background": "light"
     },
     "output_type": "display_data"
    }
   ],
   "source": [
    "fig=plt.figure(figsize=(15, 30))\n",
    "ax1=fig.add_subplot(511)\n",
    "ax2=fig.add_subplot(512)\n",
    "ax3=fig.add_subplot(513)\n",
    "ax4=fig.add_subplot(514)\n",
    "ax5=fig.add_subplot(515)\n",
    "#plots\n",
    "ax1.plot(icms_ts, 'tab:blue', label='Log ICMS SP')\n",
    "ax1.legend(loc='best')\n",
    "ax2.plot(dias_uteis_ts, 'tab:purple', label='Dias Úteis')\n",
    "ax2.legend(loc='best')\n",
    "ax3.plot(ibcbr_ts, 'tab:orange',  label='IBC-BR')\n",
    "ax3.legend(loc='best')\n",
    "ax4.plot(igpm_ts, 'tab:gray', label='IGP-M')\n",
    "ax4.legend(loc='best')\n",
    "ax5.plot(dolar_ts, 'tab:green', label='Dólar')\n",
    "ax5.legend(loc='best')\n",
    "plt.show()"
   ]
  },
  {
   "cell_type": "markdown",
   "metadata": {},
   "source": [
    "## Preparação para Previsões"
   ]
  },
  {
   "cell_type": "markdown",
   "metadata": {},
   "source": [
    "O artigo usa, além de MAPE e MSE, o erro relativo, que é \n",
    "\n",
    "$Erro Relativo = \\frac{|previsão - real|}{real}$"
   ]
  },
  {
   "cell_type": "code",
   "execution_count": 11,
   "metadata": {},
   "outputs": [],
   "source": [
    "def erro_relativo(prev, real):\n",
    "    return 100*np.absolute(prev-real)/real"
   ]
  },
  {
   "cell_type": "markdown",
   "metadata": {},
   "source": [
    "#### Dicionário de Previsões"
   ]
  },
  {
   "cell_type": "code",
   "execution_count": 12,
   "metadata": {},
   "outputs": [],
   "source": [
    "previsoes = {\n",
    "    'nome':[],\n",
    "    'modelo': [],\n",
    "    'previsoes': [],\n",
    "    'rmse': [],\n",
    "    'mape': [],\n",
    "    'erro relativo':[]\n",
    "}"
   ]
  },
  {
   "cell_type": "markdown",
   "metadata": {},
   "source": [
    "### Separando a amostra em treinamento (in-sample) e teste (out-of-sample)\n",
    "Serão usadas as séries com sazonalidade e em nível e as questões de sazonalidade e estacionariedade serão tratadas pelo modelo."
   ]
  },
  {
   "cell_type": "code",
   "execution_count": 13,
   "metadata": {},
   "outputs": [
    {
     "data": {
      "text/html": [
       "<div>\n",
       "<style scoped>\n",
       "    .dataframe tbody tr th:only-of-type {\n",
       "        vertical-align: middle;\n",
       "    }\n",
       "\n",
       "    .dataframe tbody tr th {\n",
       "        vertical-align: top;\n",
       "    }\n",
       "\n",
       "    .dataframe thead th {\n",
       "        text-align: right;\n",
       "    }\n",
       "</style>\n",
       "<table border=\"1\" class=\"dataframe\">\n",
       "  <thead>\n",
       "    <tr style=\"text-align: right;\">\n",
       "      <th></th>\n",
       "      <th>ibcbr</th>\n",
       "      <th>igpdi</th>\n",
       "      <th>dolar</th>\n",
       "      <th>dias_uteis</th>\n",
       "    </tr>\n",
       "    <tr>\n",
       "      <th>date</th>\n",
       "      <th></th>\n",
       "      <th></th>\n",
       "      <th></th>\n",
       "      <th></th>\n",
       "    </tr>\n",
       "  </thead>\n",
       "  <tbody>\n",
       "    <tr>\n",
       "      <th>2003-01-01</th>\n",
       "      <td>96.15</td>\n",
       "      <td>277.173</td>\n",
       "      <td>3.4384</td>\n",
       "      <td>22.0</td>\n",
       "    </tr>\n",
       "    <tr>\n",
       "      <th>2003-02-01</th>\n",
       "      <td>98.67</td>\n",
       "      <td>283.506</td>\n",
       "      <td>3.5908</td>\n",
       "      <td>20.0</td>\n",
       "    </tr>\n",
       "    <tr>\n",
       "      <th>2003-03-01</th>\n",
       "      <td>103.41</td>\n",
       "      <td>287.855</td>\n",
       "      <td>3.4469</td>\n",
       "      <td>19.0</td>\n",
       "    </tr>\n",
       "    <tr>\n",
       "      <th>2003-04-01</th>\n",
       "      <td>102.19</td>\n",
       "      <td>290.512</td>\n",
       "      <td>3.1187</td>\n",
       "      <td>20.0</td>\n",
       "    </tr>\n",
       "    <tr>\n",
       "      <th>2003-05-01</th>\n",
       "      <td>100.30</td>\n",
       "      <td>289.747</td>\n",
       "      <td>2.9557</td>\n",
       "      <td>21.0</td>\n",
       "    </tr>\n",
       "  </tbody>\n",
       "</table>\n",
       "</div>"
      ],
      "text/plain": [
       "             ibcbr    igpdi   dolar  dias_uteis\n",
       "date                                           \n",
       "2003-01-01   96.15  277.173  3.4384        22.0\n",
       "2003-02-01   98.67  283.506  3.5908        20.0\n",
       "2003-03-01  103.41  287.855  3.4469        19.0\n",
       "2003-04-01  102.19  290.512  3.1187        20.0\n",
       "2003-05-01  100.30  289.747  2.9557        21.0"
      ]
     },
     "execution_count": 13,
     "metadata": {},
     "output_type": "execute_result"
    }
   ],
   "source": [
    "exog_df = pd.DataFrame((ibcbr_ts, igpm_ts,\n",
    "                        dolar_ts, dias_uteis_ts\n",
    "                       ), \n",
    "                        index=['ibcbr', 'igpdi', 'dolar', 'dias_uteis'\n",
    "                            ]).transpose()\n",
    "exog_df.head() "
   ]
  },
  {
   "cell_type": "code",
   "execution_count": 14,
   "metadata": {},
   "outputs": [
    {
     "data": {
      "text/html": [
       "<div>\n",
       "<style scoped>\n",
       "    .dataframe tbody tr th:only-of-type {\n",
       "        vertical-align: middle;\n",
       "    }\n",
       "\n",
       "    .dataframe tbody tr th {\n",
       "        vertical-align: top;\n",
       "    }\n",
       "\n",
       "    .dataframe thead th {\n",
       "        text-align: right;\n",
       "    }\n",
       "</style>\n",
       "<table border=\"1\" class=\"dataframe\">\n",
       "  <thead>\n",
       "    <tr style=\"text-align: right;\">\n",
       "      <th></th>\n",
       "      <th>ibcbr</th>\n",
       "      <th>igpdi</th>\n",
       "      <th>dolar</th>\n",
       "      <th>dias_uteis</th>\n",
       "    </tr>\n",
       "    <tr>\n",
       "      <th>date</th>\n",
       "      <th></th>\n",
       "      <th></th>\n",
       "      <th></th>\n",
       "      <th></th>\n",
       "    </tr>\n",
       "  </thead>\n",
       "  <tbody>\n",
       "    <tr>\n",
       "      <th>2022-08-01</th>\n",
       "      <td>146.408337</td>\n",
       "      <td>1137.167829</td>\n",
       "      <td>5.6496</td>\n",
       "      <td>23.0</td>\n",
       "    </tr>\n",
       "    <tr>\n",
       "      <th>2022-09-01</th>\n",
       "      <td>142.808302</td>\n",
       "      <td>1143.597376</td>\n",
       "      <td>5.6800</td>\n",
       "      <td>21.0</td>\n",
       "    </tr>\n",
       "    <tr>\n",
       "      <th>2022-10-01</th>\n",
       "      <td>144.063428</td>\n",
       "      <td>1150.115881</td>\n",
       "      <td>5.6700</td>\n",
       "      <td>20.0</td>\n",
       "    </tr>\n",
       "    <tr>\n",
       "      <th>2022-11-01</th>\n",
       "      <td>143.165409</td>\n",
       "      <td>1155.866460</td>\n",
       "      <td>5.6000</td>\n",
       "      <td>20.0</td>\n",
       "    </tr>\n",
       "    <tr>\n",
       "      <th>2022-12-01</th>\n",
       "      <td>141.405133</td>\n",
       "      <td>1161.645792</td>\n",
       "      <td>5.6000</td>\n",
       "      <td>22.0</td>\n",
       "    </tr>\n",
       "  </tbody>\n",
       "</table>\n",
       "</div>"
      ],
      "text/plain": [
       "                 ibcbr        igpdi   dolar  dias_uteis\n",
       "date                                                   \n",
       "2022-08-01  146.408337  1137.167829  5.6496        23.0\n",
       "2022-09-01  142.808302  1143.597376  5.6800        21.0\n",
       "2022-10-01  144.063428  1150.115881  5.6700        20.0\n",
       "2022-11-01  143.165409  1155.866460  5.6000        20.0\n",
       "2022-12-01  141.405133  1161.645792  5.6000        22.0"
      ]
     },
     "execution_count": 14,
     "metadata": {},
     "output_type": "execute_result"
    }
   ],
   "source": [
    "exog_df.tail() "
   ]
  },
  {
   "cell_type": "code",
   "execution_count": 15,
   "metadata": {},
   "outputs": [
    {
     "name": "stdout",
     "output_type": "stream",
     "text": [
      "(240, 4) (216, 4) (12, 4) (12, 4)\n"
     ]
    }
   ],
   "source": [
    "exog = exog_df[:].to_numpy()\n",
    "exog_train = exog[:-24]\n",
    "exog_val = exog[-24:-12]\n",
    "exog_test = exog[-12:]\n",
    "print(exog.shape, exog_train.shape, exog_val.shape, exog_test.shape)"
   ]
  },
  {
   "cell_type": "code",
   "execution_count": 16,
   "metadata": {},
   "outputs": [
    {
     "name": "stdout",
     "output_type": "stream",
     "text": [
      "(240,) (228,) (12,) (12,)\n"
     ]
    }
   ],
   "source": [
    "icms_train = icms_ts[:-12]\n",
    "icms_val = np.exp(icms_ts[-24:-12]) # série sem log\n",
    "icms_test = np.exp(icms_ts[-12:]) # série sem log\n",
    "print(icms_ts.shape, icms_train.shape, icms_val.shape, icms_test.shape)"
   ]
  },
  {
   "cell_type": "markdown",
   "metadata": {},
   "source": [
    "## Modelos RNN LSTM\n",
    "Redes Neurais Recorrentes com neurônios Long Short-Term Memory"
   ]
  },
  {
   "cell_type": "markdown",
   "metadata": {},
   "source": [
    "### Montagem da Série com as Variáveis Exógenas\n",
    "As redes neurais precisam de conjuntos de características e de etiquetas separados. As variáveis exógenas serão o conjunto de características e a variável endógena será o conjunto de etiquetas."
   ]
  },
  {
   "cell_type": "code",
   "execution_count": 17,
   "metadata": {},
   "outputs": [],
   "source": [
    "X_data = np.append(exog, np.roll(exog, 1, axis = 0), axis = 1)\n",
    "X_data = np.append(X_data, np.roll(exog, 2, axis = 0), axis = 1)[2:]\n",
    "Y_data = icms_ts[2:].to_numpy()"
   ]
  },
  {
   "cell_type": "code",
   "execution_count": 18,
   "metadata": {},
   "outputs": [
    {
     "data": {
      "text/plain": [
       "((238, 12), (238,))"
      ]
     },
     "execution_count": 18,
     "metadata": {},
     "output_type": "execute_result"
    }
   ],
   "source": [
    "X_data.shape, Y_data.shape"
   ]
  },
  {
   "cell_type": "markdown",
   "metadata": {},
   "source": [
    "#### Normalização dos Dados\n",
    "Serão normalizados usando-se min-max. Apenas as features, a variável target não será normalizada. Os dados serão dividos em treno, validação e teste para a normalização, de modo que o fit seja feito somente nos dados de treino, aumentando-se assim a probabilidade de generalização do modelo."
   ]
  },
  {
   "cell_type": "code",
   "execution_count": 19,
   "metadata": {},
   "outputs": [
    {
     "name": "stdout",
     "output_type": "stream",
     "text": [
      "(214, 12) (12, 12) (12, 12)\n",
      "(214,) (12,) (12,)\n"
     ]
    }
   ],
   "source": [
    "X_train = X_data[:-24]\n",
    "X_val = X_data[-24:-12]\n",
    "X_test = X_data[-12:]\n",
    "print(X_train.shape, X_val.shape, X_test.shape)\n",
    "Y_train = Y_data[:-24]\n",
    "Y_val = Y_data[-24:-12]\n",
    "Y_test = np.exp(Y_data[-12:]) # tirando o log\n",
    "print(Y_train.shape, Y_val.shape, Y_test.shape)"
   ]
  },
  {
   "cell_type": "code",
   "execution_count": 20,
   "metadata": {},
   "outputs": [
    {
     "name": "stdout",
     "output_type": "stream",
     "text": [
      "numéricas [0, 1, 2, 3, 4, 5, 6, 7, 8, 9, 10, 11]\n",
      "ColumnTransformer(transformers=[('min-max', MinMaxScaler(),\n",
      "                                 [0, 1, 2, 3, 4, 5, 6, 7, 8, 9, 10, 11])],\n",
      "                  verbose=True)\n",
      "[ColumnTransformer] ....... (1 of 1) Processing min-max, total=   0.0s\n",
      "(214, 12)\n",
      "(12, 12)\n",
      "(12, 12)\n"
     ]
    }
   ],
   "source": [
    "from sklearn.preprocessing import MinMaxScaler\n",
    "from sklearn.compose import ColumnTransformer\n",
    "# índice dos atributos numéricos\n",
    "num_atrib = list(range(X_train.shape[1]))\n",
    "print('numéricas', num_atrib)\n",
    "\n",
    "enc_x = ColumnTransformer([('min-max',MinMaxScaler(), num_atrib)], verbose=True)\n",
    "\n",
    "print(enc_x)\n",
    "X_train_std = enc_x.fit_transform(X_train)\n",
    "X_val_std = enc_x.transform(X_val)\n",
    "X_test_std = enc_x.transform(X_test)\n",
    "\n",
    "print(X_train_std.shape)\n",
    "print(X_val_std.shape)\n",
    "print(X_test_std.shape)"
   ]
  },
  {
   "cell_type": "code",
   "execution_count": 21,
   "metadata": {},
   "outputs": [
    {
     "name": "stdout",
     "output_type": "stream",
     "text": [
      "(214, 12, 1) (12, 12, 1) (12, 12, 1)\n",
      "(214, 1) (12, 1) (12, 1)\n"
     ]
    }
   ],
   "source": [
    "x_train = X_train_std.reshape(X_train_std.shape[0], X_train_std.shape[1], 1)\n",
    "x_val = X_val_std.reshape(X_val_std.shape[0], X_val_std.shape[1], 1)\n",
    "x_test = X_test_std.reshape(X_test_std.shape[0], X_test_std.shape[1], 1)\n",
    "print(x_train.shape, x_val.shape, x_test.shape)\n",
    "\n",
    "y_train = Y_train.reshape(Y_train.shape[0], 1)\n",
    "y_val = Y_val.reshape(Y_val.shape[0], 1)\n",
    "y_test = Y_test.reshape(Y_test.shape[0], 1)\n",
    "print(y_train.shape, y_val.shape, y_test.shape)"
   ]
  },
  {
   "cell_type": "markdown",
   "metadata": {},
   "source": [
    "### Criando o modelo LSTM"
   ]
  },
  {
   "cell_type": "code",
   "execution_count": 22,
   "metadata": {},
   "outputs": [],
   "source": [
    "# importando as bibliotecas do Keras\n",
    "from tensorflow.keras.models import Sequential\n",
    "from tensorflow.keras.layers import LSTM, Dense, Dropout, Conv1D, MaxPooling1D\n",
    "from tensorflow.keras.callbacks import ReduceLROnPlateau, EarlyStopping\n",
    "from tensorflow.keras.optimizers import Adam"
   ]
  },
  {
   "cell_type": "markdown",
   "metadata": {},
   "source": [
    "## Arquitetura da Rede - Camadas"
   ]
  },
  {
   "cell_type": "code",
   "execution_count": 23,
   "metadata": {},
   "outputs": [],
   "source": [
    "rlrop = ReduceLROnPlateau(monitor='val_loss', factor=0.1, patience=25)\n",
    "early_stop = EarlyStopping(monitor='val_loss', patience=100, verbose=1, \n",
    "                           restore_best_weights=True)"
   ]
  },
  {
   "cell_type": "code",
   "execution_count": 24,
   "metadata": {},
   "outputs": [],
   "source": [
    "# Épocas\n",
    "EPOCHS = 1000\n",
    "neuronios = 600\n",
    "\n",
    "# Imstanciação do modelo\n",
    "model = Sequential()\n",
    "\n",
    "# Adicionar camada LSTM \n",
    "model.add(LSTM(activation='tanh', dropout=0.15,\n",
    "        input_shape = (12, 1), return_sequences = True,\n",
    "        units = neuronios))\n",
    "\n",
    "# Adicionar camada LSTM \n",
    "model.add(LSTM(activation='tanh', dropout=0.15,\n",
    "        input_shape = (12, 1), return_sequences = True,\n",
    "        units = neuronios))\n",
    "\n",
    "# Adicionar camada LSTM \n",
    "model.add(LSTM(activation='tanh', dropout=0.15,\n",
    "        input_shape = (12, 1), return_sequences = False,\n",
    "        units = neuronios))\n",
    "\n",
    "# Adicionar a camada de saída com 1 neurônio linear\n",
    "model.add(Dense(\n",
    "        units = 1,\n",
    "        activation = 'linear'))\n",
    "# a learning rate padrão do Adam é 0.001\n",
    "model.compile(loss = 'mape', optimizer = Adam(learning_rate=1e-5))"
   ]
  },
  {
   "cell_type": "code",
   "execution_count": 25,
   "metadata": {},
   "outputs": [
    {
     "name": "stdout",
     "output_type": "stream",
     "text": [
      "Model: \"sequential\"\n",
      "_________________________________________________________________\n",
      "Layer (type)                 Output Shape              Param #   \n",
      "=================================================================\n",
      "lstm (LSTM)                  (None, 12, 600)           1444800   \n",
      "_________________________________________________________________\n",
      "lstm_1 (LSTM)                (None, 12, 600)           2882400   \n",
      "_________________________________________________________________\n",
      "lstm_2 (LSTM)                (None, 600)               2882400   \n",
      "_________________________________________________________________\n",
      "dense (Dense)                (None, 1)                 601       \n",
      "=================================================================\n",
      "Total params: 7,210,201\n",
      "Trainable params: 7,210,201\n",
      "Non-trainable params: 0\n",
      "_________________________________________________________________\n"
     ]
    }
   ],
   "source": [
    "model.summary()"
   ]
  },
  {
   "cell_type": "code",
   "execution_count": 26,
   "metadata": {
    "scrolled": false
   },
   "outputs": [
    {
     "name": "stdout",
     "output_type": "stream",
     "text": [
      "Epoch 1/1000\n",
      "14/14 [==============================] - 3s 214ms/step - loss: 99.9153 - val_loss: 99.6687\n",
      "Epoch 2/1000\n",
      "14/14 [==============================] - 2s 150ms/step - loss: 99.7185 - val_loss: 99.2818\n",
      "Epoch 3/1000\n",
      "14/14 [==============================] - 2s 148ms/step - loss: 99.4587 - val_loss: 98.7308\n",
      "Epoch 4/1000\n",
      "14/14 [==============================] - 2s 149ms/step - loss: 99.0687 - val_loss: 97.8436\n",
      "Epoch 5/1000\n",
      "14/14 [==============================] - 2s 151ms/step - loss: 98.4573 - val_loss: 96.2823\n",
      "Epoch 6/1000\n",
      "14/14 [==============================] - 2s 163ms/step - loss: 97.2534 - val_loss: 93.2288\n",
      "Epoch 7/1000\n",
      "14/14 [==============================] - 2s 159ms/step - loss: 94.8997 - val_loss: 86.5704\n",
      "Epoch 8/1000\n",
      "14/14 [==============================] - 2s 160ms/step - loss: 89.7305 - val_loss: 71.0175\n",
      "Epoch 9/1000\n",
      "14/14 [==============================] - 2s 164ms/step - loss: 77.1237 - val_loss: 40.8540\n",
      "Epoch 10/1000\n",
      "14/14 [==============================] - 2s 170ms/step - loss: 52.5140 - val_loss: 13.2131\n",
      "Epoch 11/1000\n",
      "14/14 [==============================] - 2s 177ms/step - loss: 23.4932 - val_loss: 1.0899\n",
      "Epoch 12/1000\n",
      "14/14 [==============================] - 2s 173ms/step - loss: 6.8299 - val_loss: 5.7924\n",
      "Epoch 13/1000\n",
      "14/14 [==============================] - 3s 181ms/step - loss: 5.4255 - val_loss: 4.2214\n",
      "Epoch 14/1000\n",
      "14/14 [==============================] - 2s 172ms/step - loss: 3.5652 - val_loss: 1.2194\n",
      "Epoch 15/1000\n",
      "14/14 [==============================] - 3s 199ms/step - loss: 2.7357 - val_loss: 0.2766\n",
      "Epoch 16/1000\n",
      "14/14 [==============================] - 3s 197ms/step - loss: 2.3250 - val_loss: 0.4582\n",
      "Epoch 17/1000\n",
      "14/14 [==============================] - 3s 181ms/step - loss: 1.9204 - val_loss: 0.5206\n",
      "Epoch 18/1000\n",
      "14/14 [==============================] - 3s 182ms/step - loss: 1.6940 - val_loss: 0.5725\n",
      "Epoch 19/1000\n",
      "14/14 [==============================] - 2s 176ms/step - loss: 1.3410 - val_loss: 0.7921\n",
      "Epoch 20/1000\n",
      "14/14 [==============================] - 3s 183ms/step - loss: 1.1131 - val_loss: 1.0224\n",
      "Epoch 21/1000\n",
      "14/14 [==============================] - 2s 172ms/step - loss: 0.9858 - val_loss: 1.0262\n",
      "Epoch 22/1000\n",
      "14/14 [==============================] - 2s 177ms/step - loss: 1.0415 - val_loss: 1.1793\n",
      "Epoch 23/1000\n",
      "14/14 [==============================] - 2s 171ms/step - loss: 0.8649 - val_loss: 1.0738\n",
      "Epoch 24/1000\n",
      "14/14 [==============================] - 2s 168ms/step - loss: 1.0016 - val_loss: 1.0802\n",
      "Epoch 25/1000\n",
      "14/14 [==============================] - 2s 171ms/step - loss: 0.9745 - val_loss: 1.0783\n",
      "Epoch 26/1000\n",
      "14/14 [==============================] - 2s 177ms/step - loss: 1.1161 - val_loss: 1.1775\n",
      "Epoch 27/1000\n",
      "14/14 [==============================] - 2s 167ms/step - loss: 0.8524 - val_loss: 1.2328\n",
      "Epoch 28/1000\n",
      "14/14 [==============================] - 2s 170ms/step - loss: 1.0700 - val_loss: 0.9722\n",
      "Epoch 29/1000\n",
      "14/14 [==============================] - 2s 169ms/step - loss: 1.0354 - val_loss: 1.2550\n",
      "Epoch 30/1000\n",
      "14/14 [==============================] - 2s 171ms/step - loss: 0.9559 - val_loss: 1.2984\n",
      "Epoch 31/1000\n",
      "14/14 [==============================] - 2s 163ms/step - loss: 0.9183 - val_loss: 0.9597\n",
      "Epoch 32/1000\n",
      "14/14 [==============================] - 2s 163ms/step - loss: 1.0554 - val_loss: 1.3986\n",
      "Epoch 33/1000\n",
      "14/14 [==============================] - 2s 167ms/step - loss: 0.9618 - val_loss: 1.1320\n",
      "Epoch 34/1000\n",
      "14/14 [==============================] - 2s 167ms/step - loss: 0.9712 - val_loss: 1.3977\n",
      "Epoch 35/1000\n",
      "14/14 [==============================] - 2s 165ms/step - loss: 0.9552 - val_loss: 1.0067\n",
      "Epoch 36/1000\n",
      "14/14 [==============================] - 2s 162ms/step - loss: 0.8994 - val_loss: 1.1896\n",
      "Epoch 37/1000\n",
      "14/14 [==============================] - 2s 166ms/step - loss: 0.9470 - val_loss: 1.2745\n",
      "Epoch 38/1000\n",
      "14/14 [==============================] - 2s 170ms/step - loss: 0.9835 - val_loss: 1.3808\n",
      "Epoch 39/1000\n",
      "14/14 [==============================] - 2s 161ms/step - loss: 0.8977 - val_loss: 1.3544\n",
      "Epoch 40/1000\n",
      "14/14 [==============================] - 2s 160ms/step - loss: 0.8395 - val_loss: 1.0524\n",
      "Epoch 41/1000\n",
      "14/14 [==============================] - 2s 165ms/step - loss: 0.9388 - val_loss: 1.1053\n",
      "Epoch 42/1000\n",
      "14/14 [==============================] - 2s 168ms/step - loss: 0.8727 - val_loss: 1.1726\n",
      "Epoch 43/1000\n",
      "14/14 [==============================] - 2s 175ms/step - loss: 0.9455 - val_loss: 1.2083\n",
      "Epoch 44/1000\n",
      "14/14 [==============================] - 2s 172ms/step - loss: 0.8821 - val_loss: 1.2173\n",
      "Epoch 45/1000\n",
      "14/14 [==============================] - 2s 164ms/step - loss: 0.9533 - val_loss: 1.2477\n",
      "Epoch 46/1000\n",
      "14/14 [==============================] - 3s 180ms/step - loss: 0.9304 - val_loss: 1.2254\n",
      "Epoch 47/1000\n",
      "14/14 [==============================] - 2s 166ms/step - loss: 0.9113 - val_loss: 1.2081\n",
      "Epoch 48/1000\n",
      "14/14 [==============================] - 2s 170ms/step - loss: 0.9428 - val_loss: 1.2397\n",
      "Epoch 49/1000\n",
      "14/14 [==============================] - 3s 183ms/step - loss: 0.8524 - val_loss: 1.2339\n",
      "Epoch 50/1000\n",
      "14/14 [==============================] - 3s 192ms/step - loss: 0.8940 - val_loss: 1.2143\n",
      "Epoch 51/1000\n",
      "14/14 [==============================] - 3s 190ms/step - loss: 0.8922 - val_loss: 1.2255\n",
      "Epoch 52/1000\n",
      "14/14 [==============================] - 2s 176ms/step - loss: 0.8796 - val_loss: 1.2277\n",
      "Epoch 53/1000\n",
      "14/14 [==============================] - 3s 184ms/step - loss: 0.8947 - val_loss: 1.2187\n",
      "Epoch 54/1000\n",
      "14/14 [==============================] - 3s 180ms/step - loss: 0.8859 - val_loss: 1.2290\n",
      "Epoch 55/1000\n",
      "14/14 [==============================] - 2s 175ms/step - loss: 0.9438 - val_loss: 1.2246\n",
      "Epoch 56/1000\n",
      "14/14 [==============================] - 2s 171ms/step - loss: 0.9306 - val_loss: 1.2184\n",
      "Epoch 57/1000\n",
      "14/14 [==============================] - 3s 181ms/step - loss: 0.9588 - val_loss: 1.2298\n",
      "Epoch 58/1000\n",
      "14/14 [==============================] - 3s 192ms/step - loss: 1.0244 - val_loss: 1.2004\n",
      "Epoch 59/1000\n",
      "14/14 [==============================] - 2s 171ms/step - loss: 0.9709 - val_loss: 1.1576\n",
      "Epoch 60/1000\n",
      "14/14 [==============================] - 3s 208ms/step - loss: 0.9156 - val_loss: 1.1353\n",
      "Epoch 61/1000\n",
      "14/14 [==============================] - 2s 174ms/step - loss: 0.9009 - val_loss: 1.1544\n",
      "Epoch 62/1000\n",
      "14/14 [==============================] - 2s 176ms/step - loss: 0.9004 - val_loss: 1.2092\n",
      "Epoch 63/1000\n",
      "14/14 [==============================] - 3s 184ms/step - loss: 0.9115 - val_loss: 1.2425\n",
      "Epoch 64/1000\n",
      "14/14 [==============================] - 2s 175ms/step - loss: 0.9327 - val_loss: 1.2212\n",
      "Epoch 65/1000\n",
      "14/14 [==============================] - 2s 177ms/step - loss: 0.8696 - val_loss: 1.2242\n",
      "Epoch 66/1000\n",
      "14/14 [==============================] - 3s 180ms/step - loss: 0.9028 - val_loss: 1.2288\n",
      "Epoch 67/1000\n",
      "14/14 [==============================] - 2s 171ms/step - loss: 0.8573 - val_loss: 1.2258\n",
      "Epoch 68/1000\n",
      "14/14 [==============================] - 3s 187ms/step - loss: 0.8694 - val_loss: 1.2252\n",
      "Epoch 69/1000\n",
      "14/14 [==============================] - 3s 186ms/step - loss: 0.9119 - val_loss: 1.2255\n",
      "Epoch 70/1000\n",
      "14/14 [==============================] - 2s 172ms/step - loss: 0.9098 - val_loss: 1.2190\n",
      "Epoch 71/1000\n",
      "14/14 [==============================] - 2s 174ms/step - loss: 0.8529 - val_loss: 1.2233\n",
      "Epoch 72/1000\n",
      "14/14 [==============================] - 3s 186ms/step - loss: 0.8987 - val_loss: 1.2270\n",
      "Epoch 73/1000\n",
      "14/14 [==============================] - 3s 180ms/step - loss: 0.9556 - val_loss: 1.2282\n",
      "Epoch 74/1000\n",
      "14/14 [==============================] - 2s 178ms/step - loss: 0.9817 - val_loss: 1.2235\n",
      "Epoch 75/1000\n",
      "14/14 [==============================] - 2s 168ms/step - loss: 0.8659 - val_loss: 1.2191\n",
      "Epoch 76/1000\n",
      "14/14 [==============================] - 2s 174ms/step - loss: 0.9027 - val_loss: 1.2105\n",
      "Epoch 77/1000\n",
      "14/14 [==============================] - 2s 173ms/step - loss: 0.8579 - val_loss: 1.2082\n",
      "Epoch 78/1000\n",
      "14/14 [==============================] - 2s 175ms/step - loss: 0.9214 - val_loss: 1.2118\n",
      "Epoch 79/1000\n",
      "14/14 [==============================] - 2s 175ms/step - loss: 0.8629 - val_loss: 1.2124\n",
      "Epoch 80/1000\n",
      "14/14 [==============================] - 2s 174ms/step - loss: 0.8497 - val_loss: 1.2073\n",
      "Epoch 81/1000\n",
      "14/14 [==============================] - 3s 182ms/step - loss: 0.8726 - val_loss: 1.2059\n",
      "Epoch 82/1000\n",
      "14/14 [==============================] - 2s 178ms/step - loss: 0.9065 - val_loss: 1.2104\n",
      "Epoch 83/1000\n",
      "14/14 [==============================] - 3s 210ms/step - loss: 0.9149 - val_loss: 1.2103\n",
      "Epoch 84/1000\n",
      "14/14 [==============================] - 3s 188ms/step - loss: 0.9140 - val_loss: 1.2142\n",
      "Epoch 85/1000\n",
      "14/14 [==============================] - 2s 175ms/step - loss: 0.9282 - val_loss: 1.2138\n",
      "Epoch 86/1000\n",
      "14/14 [==============================] - 3s 184ms/step - loss: 0.8421 - val_loss: 1.2091\n",
      "Epoch 87/1000\n",
      "14/14 [==============================] - 2s 173ms/step - loss: 0.9121 - val_loss: 1.2061\n",
      "Epoch 88/1000\n",
      "14/14 [==============================] - 3s 195ms/step - loss: 1.0463 - val_loss: 1.2030\n",
      "Epoch 89/1000\n",
      "14/14 [==============================] - 3s 193ms/step - loss: 0.8675 - val_loss: 1.2003\n",
      "Epoch 90/1000\n",
      "14/14 [==============================] - 3s 188ms/step - loss: 0.9357 - val_loss: 1.2076\n",
      "Epoch 91/1000\n",
      "14/14 [==============================] - 3s 182ms/step - loss: 0.8760 - val_loss: 1.2076\n",
      "Epoch 92/1000\n",
      "14/14 [==============================] - 2s 167ms/step - loss: 0.8540 - val_loss: 1.2078\n",
      "Epoch 93/1000\n",
      "14/14 [==============================] - 2s 162ms/step - loss: 0.8582 - val_loss: 1.2079\n",
      "Epoch 94/1000\n",
      "14/14 [==============================] - 2s 172ms/step - loss: 0.8154 - val_loss: 1.2086\n",
      "Epoch 95/1000\n",
      "14/14 [==============================] - 3s 193ms/step - loss: 0.8895 - val_loss: 1.2086\n",
      "Epoch 96/1000\n",
      "14/14 [==============================] - 3s 189ms/step - loss: 0.8821 - val_loss: 1.2078\n",
      "Epoch 97/1000\n",
      "14/14 [==============================] - 3s 187ms/step - loss: 0.8564 - val_loss: 1.2080\n",
      "Epoch 98/1000\n",
      "14/14 [==============================] - 3s 186ms/step - loss: 0.8067 - val_loss: 1.2079\n",
      "Epoch 99/1000\n",
      "14/14 [==============================] - 2s 172ms/step - loss: 0.8618 - val_loss: 1.2080\n",
      "Epoch 100/1000\n",
      "14/14 [==============================] - 3s 191ms/step - loss: 0.8653 - val_loss: 1.2076\n",
      "Epoch 101/1000\n",
      "14/14 [==============================] - 3s 182ms/step - loss: 0.8816 - val_loss: 1.2076\n",
      "Epoch 102/1000\n",
      "14/14 [==============================] - 3s 188ms/step - loss: 0.8370 - val_loss: 1.2075\n",
      "Epoch 103/1000\n",
      "14/14 [==============================] - 3s 186ms/step - loss: 0.9306 - val_loss: 1.2078\n",
      "Epoch 104/1000\n",
      "14/14 [==============================] - 3s 187ms/step - loss: 0.8857 - val_loss: 1.2080\n",
      "Epoch 105/1000\n",
      "14/14 [==============================] - 3s 195ms/step - loss: 0.9411 - val_loss: 1.2075\n",
      "Epoch 106/1000\n",
      "14/14 [==============================] - 3s 198ms/step - loss: 0.8626 - val_loss: 1.2073\n",
      "Epoch 107/1000\n",
      "14/14 [==============================] - 3s 193ms/step - loss: 0.9396 - val_loss: 1.2070\n",
      "Epoch 108/1000\n",
      "14/14 [==============================] - 3s 191ms/step - loss: 0.9147 - val_loss: 1.2069\n",
      "Epoch 109/1000\n",
      "14/14 [==============================] - 3s 217ms/step - loss: 0.8280 - val_loss: 1.2079\n",
      "Epoch 110/1000\n",
      "14/14 [==============================] - 3s 200ms/step - loss: 0.8827 - val_loss: 1.2080\n",
      "Epoch 111/1000\n",
      "14/14 [==============================] - 3s 191ms/step - loss: 0.8842 - val_loss: 1.2089\n",
      "Epoch 112/1000\n",
      "14/14 [==============================] - 3s 193ms/step - loss: 0.9415 - val_loss: 1.2089\n",
      "Epoch 113/1000\n",
      "14/14 [==============================] - 3s 185ms/step - loss: 0.8413 - val_loss: 1.2096\n",
      "Epoch 114/1000\n",
      "14/14 [==============================] - 2s 168ms/step - loss: 0.8917 - val_loss: 1.2096\n",
      "Epoch 115/1000\n",
      "14/14 [==============================] - ETA: 0s - loss: 0.8568Restoring model weights from the end of the best epoch.\n",
      "14/14 [==============================] - 2s 164ms/step - loss: 0.8568 - val_loss: 1.2103\n",
      "Epoch 00115: early stopping\n"
     ]
    }
   ],
   "source": [
    "# History object for plotting our model loss by epoch\n",
    "history = model.fit(x_train, y_train, batch_size = 16, \n",
    "                    epochs = EPOCHS, validation_data = (x_val, y_val),\n",
    "                    callbacks = [rlrop, early_stop])"
   ]
  },
  {
   "cell_type": "code",
   "execution_count": 27,
   "metadata": {
    "scrolled": false
   },
   "outputs": [
    {
     "data": {
      "image/png": "[encoded data removed]",
      "text/plain": [
       "<Figure size 720x504 with 1 Axes>"
      ]
     },
     "metadata": {
      "needs_background": "light"
     },
     "output_type": "display_data"
    }
   ],
   "source": [
    "# Loss History\n",
    "fig = plt.figure(figsize=(10, 7))\n",
    "plt.plot(history.history['loss'])\n",
    "plt.plot(history.history['val_loss'])\n",
    "plt.title('Model Loss')\n",
    "plt.ylabel('Loss')\n",
    "plt.xlabel('Epoch')\n",
    "plt.legend(['Train', 'Val'], loc='upper right')\n",
    "plt.show()"
   ]
  },
  {
   "cell_type": "markdown",
   "metadata": {},
   "source": [
    "### Previsão 12 meses em Validação"
   ]
  },
  {
   "cell_type": "code",
   "execution_count": 28,
   "metadata": {},
   "outputs": [
    {
     "data": {
      "text/plain": [
       "array([[1.4503440e+10],\n",
       "       [1.4247435e+10],\n",
       "       [1.6043192e+10],\n",
       "       [1.5629522e+10],\n",
       "       [1.5634560e+10],\n",
       "       [1.5555645e+10],\n",
       "       [1.6100332e+10],\n",
       "       [1.6277074e+10],\n",
       "       [1.5939943e+10],\n",
       "       [1.5648582e+10],\n",
       "       [1.5661630e+10],\n",
       "       [1.6510962e+10]], dtype=float32)"
      ]
     },
     "execution_count": 28,
     "metadata": {},
     "output_type": "execute_result"
    }
   ],
   "source": [
    "Y_pred_val = np.exp(model.predict(x_val))\n",
    "Y_pred_val"
   ]
  },
  {
   "cell_type": "code",
   "execution_count": 29,
   "metadata": {},
   "outputs": [
    {
     "data": {
      "text/plain": [
       "date\n",
       "2021-01-01    1.450344e+10\n",
       "2021-02-01    1.424744e+10\n",
       "2021-03-01    1.604319e+10\n",
       "2021-04-01    1.562952e+10\n",
       "2021-05-01    1.563456e+10\n",
       "2021-06-01    1.555565e+10\n",
       "2021-07-01    1.610033e+10\n",
       "2021-08-01    1.627707e+10\n",
       "2021-09-01    1.593994e+10\n",
       "2021-10-01    1.564858e+10\n",
       "2021-11-01    1.566163e+10\n",
       "2021-12-01    1.651096e+10\n",
       "dtype: float32"
      ]
     },
     "execution_count": 29,
     "metadata": {},
     "output_type": "execute_result"
    }
   ],
   "source": [
    "y_pred_val = pd.Series(Y_pred_val.ravel())\n",
    "y_pred_val.index = icms_val.index\n",
    "y_pred_val"
   ]
  },
  {
   "cell_type": "code",
   "execution_count": 30,
   "metadata": {},
   "outputs": [
    {
     "data": {
      "text/plain": [
       "array([1.41334740e+10, 1.37015302e+10, 1.48430843e+10, 1.36678032e+10,\n",
       "       1.41462259e+10, 1.46526531e+10, 1.57083790e+10, 1.59753225e+10,\n",
       "       1.62246035e+10, 1.66406793e+10, 1.73760322e+10, 1.85377202e+10])"
      ]
     },
     "execution_count": 30,
     "metadata": {},
     "output_type": "execute_result"
    }
   ],
   "source": [
    "np.exp(y_val).ravel()"
   ]
  },
  {
   "cell_type": "code",
   "execution_count": 31,
   "metadata": {},
   "outputs": [
    {
     "data": {
      "text/plain": [
       "1194114517.3541598"
      ]
     },
     "execution_count": 31,
     "metadata": {},
     "output_type": "execute_result"
    }
   ],
   "source": [
    "RMSE_lstm_val = mean_squared_error(np.exp(y_val).ravel(), y_pred_val, squared=False)\n",
    "RMSE_lstm_val"
   ]
  },
  {
   "cell_type": "code",
   "execution_count": 32,
   "metadata": {},
   "outputs": [
    {
     "data": {
      "text/plain": [
       "0.06551987189811771"
      ]
     },
     "execution_count": 32,
     "metadata": {},
     "output_type": "execute_result"
    }
   ],
   "source": [
    "MAPE_lstm_val = mean_absolute_percentage_error(np.exp(y_val).ravel(), y_pred_val)\n",
    "MAPE_lstm_val"
   ]
  },
  {
   "cell_type": "code",
   "execution_count": 33,
   "metadata": {},
   "outputs": [],
   "source": [
    "previsoes['nome'].append('RNN-LSTM-Camadas')\n",
    "previsoes['modelo'].append(model)\n",
    "previsoes['previsoes'].append(y_pred_val)\n",
    "\n",
    "previsoes['rmse'].append(RMSE_lstm_val)\n",
    "\n",
    "previsoes['mape'].append(MAPE_lstm_val)"
   ]
  },
  {
   "cell_type": "code",
   "execution_count": 34,
   "metadata": {},
   "outputs": [],
   "source": [
    "previsoes['erro relativo'].append([erro_relativo(prev,real) \n",
    "                                   for prev,real in zip(y_pred_val, y_test)])"
   ]
  },
  {
   "cell_type": "markdown",
   "metadata": {},
   "source": [
    "## Arquitetura da Rede - Larga"
   ]
  },
  {
   "cell_type": "code",
   "execution_count": 35,
   "metadata": {},
   "outputs": [],
   "source": [
    "rlrop2 = ReduceLROnPlateau(monitor='val_loss', factor=0.1, patience=25)\n",
    "early_stop2 = EarlyStopping(monitor='val_loss', patience=100, verbose=1, \n",
    "                           restore_best_weights=True)"
   ]
  },
  {
   "cell_type": "code",
   "execution_count": 36,
   "metadata": {},
   "outputs": [],
   "source": [
    "# Épocas\n",
    "EPOCHS2 = 1000\n",
    "neuronios2 = 1200\n",
    "\n",
    "# Imstanciação do modelo\n",
    "model2 = Sequential()\n",
    "\n",
    "# Adicionar camada LSTM \n",
    "model2.add(LSTM(activation='tanh', dropout=0.15,\n",
    "        input_shape = (12, 1), return_sequences = False,\n",
    "        units = neuronios2))\n",
    "\n",
    "# Adicionar a camada de saída com 1 neurônio linear\n",
    "model2.add(Dense(\n",
    "        units = 1,\n",
    "        activation = 'linear'))\n",
    "# a learning rate padrão do Adam é 0.001\n",
    "model2.compile(loss = 'mape', optimizer = Adam(learning_rate=1e-5))"
   ]
  },
  {
   "cell_type": "code",
   "execution_count": 37,
   "metadata": {},
   "outputs": [
    {
     "name": "stdout",
     "output_type": "stream",
     "text": [
      "Model: \"sequential_1\"\n",
      "_________________________________________________________________\n",
      "Layer (type)                 Output Shape              Param #   \n",
      "=================================================================\n",
      "lstm_3 (LSTM)                (None, 1200)              5769600   \n",
      "_________________________________________________________________\n",
      "dense_1 (Dense)              (None, 1)                 1201      \n",
      "=================================================================\n",
      "Total params: 5,770,801\n",
      "Trainable params: 5,770,801\n",
      "Non-trainable params: 0\n",
      "_________________________________________________________________\n"
     ]
    }
   ],
   "source": [
    "model2.summary()"
   ]
  },
  {
   "cell_type": "code",
   "execution_count": 38,
   "metadata": {
    "scrolled": true
   },
   "outputs": [
    {
     "name": "stdout",
     "output_type": "stream",
     "text": [
      "Epoch 1/1000\n",
      "14/14 [==============================] - 2s 171ms/step - loss: 99.9368 - val_loss: 99.6285\n",
      "Epoch 2/1000\n",
      "14/14 [==============================] - 2s 149ms/step - loss: 99.6886 - val_loss: 99.1500\n",
      "Epoch 3/1000\n",
      "14/14 [==============================] - 2s 152ms/step - loss: 99.4137 - val_loss: 98.5994\n",
      "Epoch 4/1000\n",
      "14/14 [==============================] - 2s 149ms/step - loss: 99.0872 - val_loss: 97.9015\n",
      "Epoch 5/1000\n",
      "14/14 [==============================] - 2s 144ms/step - loss: 98.6524 - val_loss: 96.9278\n",
      "Epoch 6/1000\n",
      "14/14 [==============================] - 2s 149ms/step - loss: 98.0150 - val_loss: 95.4419\n",
      "Epoch 7/1000\n",
      "14/14 [==============================] - 2s 150ms/step - loss: 96.9694 - val_loss: 92.8311\n",
      "Epoch 8/1000\n",
      "14/14 [==============================] - 2s 158ms/step - loss: 95.0791 - val_loss: 87.6774\n",
      "Epoch 9/1000\n",
      "14/14 [==============================] - 2s 152ms/step - loss: 91.3294 - val_loss: 75.2307\n",
      "Epoch 10/1000\n",
      "14/14 [==============================] - 2s 149ms/step - loss: 81.4730 - val_loss: 41.5959\n",
      "Epoch 11/1000\n",
      "14/14 [==============================] - 2s 159ms/step - loss: 56.2164 - val_loss: 8.2122\n",
      "Epoch 12/1000\n",
      "14/14 [==============================] - 2s 155ms/step - loss: 22.6588 - val_loss: 22.4466\n",
      "Epoch 13/1000\n",
      "14/14 [==============================] - 2s 153ms/step - loss: 16.6011 - val_loss: 12.9426\n",
      "Epoch 14/1000\n",
      "14/14 [==============================] - 2s 152ms/step - loss: 9.9709 - val_loss: 2.8159\n",
      "Epoch 15/1000\n",
      "14/14 [==============================] - 2s 151ms/step - loss: 5.7992 - val_loss: 0.2938\n",
      "Epoch 16/1000\n",
      "14/14 [==============================] - 2s 152ms/step - loss: 4.0056 - val_loss: 0.8274\n",
      "Epoch 17/1000\n",
      "14/14 [==============================] - 2s 152ms/step - loss: 2.3871 - val_loss: 1.2363\n",
      "Epoch 18/1000\n",
      "14/14 [==============================] - 2s 155ms/step - loss: 1.9135 - val_loss: 1.8628\n",
      "Epoch 19/1000\n",
      "14/14 [==============================] - 2s 153ms/step - loss: 1.4071 - val_loss: 1.8483\n",
      "Epoch 20/1000\n",
      "14/14 [==============================] - 2s 154ms/step - loss: 1.2715 - val_loss: 1.8527\n",
      "Epoch 21/1000\n",
      "14/14 [==============================] - 2s 152ms/step - loss: 1.4688 - val_loss: 1.7302\n",
      "Epoch 22/1000\n",
      "14/14 [==============================] - 2s 148ms/step - loss: 1.2579 - val_loss: 2.0039\n",
      "Epoch 23/1000\n",
      "14/14 [==============================] - 2s 152ms/step - loss: 1.1622 - val_loss: 2.2518\n",
      "Epoch 24/1000\n",
      "14/14 [==============================] - 2s 147ms/step - loss: 1.3079 - val_loss: 1.8897\n",
      "Epoch 25/1000\n",
      "14/14 [==============================] - 2s 151ms/step - loss: 1.1728 - val_loss: 1.7680\n",
      "Epoch 26/1000\n",
      "14/14 [==============================] - 2s 152ms/step - loss: 1.0954 - val_loss: 1.9011\n",
      "Epoch 27/1000\n",
      "14/14 [==============================] - 2s 147ms/step - loss: 1.3306 - val_loss: 1.8618\n",
      "Epoch 28/1000\n",
      "14/14 [==============================] - 2s 151ms/step - loss: 1.1563 - val_loss: 1.4836\n",
      "Epoch 29/1000\n",
      "14/14 [==============================] - 2s 147ms/step - loss: 1.3268 - val_loss: 1.8368\n",
      "Epoch 30/1000\n",
      "14/14 [==============================] - 2s 154ms/step - loss: 1.1535 - val_loss: 2.0983\n",
      "Epoch 31/1000\n",
      "14/14 [==============================] - 2s 154ms/step - loss: 1.1106 - val_loss: 1.7364\n",
      "Epoch 32/1000\n",
      "14/14 [==============================] - 2s 175ms/step - loss: 1.0084 - val_loss: 2.0944\n",
      "Epoch 33/1000\n",
      "14/14 [==============================] - 2s 155ms/step - loss: 1.2879 - val_loss: 1.4873\n",
      "Epoch 34/1000\n",
      "14/14 [==============================] - 2s 149ms/step - loss: 1.1739 - val_loss: 2.4084\n",
      "Epoch 35/1000\n",
      "14/14 [==============================] - 2s 152ms/step - loss: 1.0488 - val_loss: 1.6657\n",
      "Epoch 36/1000\n",
      "14/14 [==============================] - 2s 149ms/step - loss: 1.1569 - val_loss: 2.0986\n",
      "Epoch 37/1000\n",
      "14/14 [==============================] - 2s 145ms/step - loss: 1.0927 - val_loss: 1.6857\n",
      "Epoch 38/1000\n",
      "14/14 [==============================] - 2s 155ms/step - loss: 1.1333 - val_loss: 1.8806\n",
      "Epoch 39/1000\n",
      "14/14 [==============================] - 2s 151ms/step - loss: 1.0766 - val_loss: 1.9073\n",
      "Epoch 40/1000\n",
      "14/14 [==============================] - 2s 147ms/step - loss: 1.0142 - val_loss: 1.8396\n",
      "Epoch 41/1000\n",
      "14/14 [==============================] - 2s 147ms/step - loss: 1.0639 - val_loss: 1.8316\n",
      "Epoch 42/1000\n",
      "14/14 [==============================] - 2s 155ms/step - loss: 1.1111 - val_loss: 1.8079\n",
      "Epoch 43/1000\n",
      "14/14 [==============================] - 2s 152ms/step - loss: 0.9766 - val_loss: 1.7890\n",
      "Epoch 44/1000\n",
      "14/14 [==============================] - 2s 154ms/step - loss: 1.0205 - val_loss: 1.7923\n",
      "Epoch 45/1000\n",
      "14/14 [==============================] - 2s 150ms/step - loss: 1.0204 - val_loss: 1.8271\n",
      "Epoch 46/1000\n",
      "14/14 [==============================] - 2s 150ms/step - loss: 1.0824 - val_loss: 1.7548\n",
      "Epoch 47/1000\n",
      "14/14 [==============================] - 2s 150ms/step - loss: 0.9717 - val_loss: 1.7158\n",
      "Epoch 48/1000\n",
      "14/14 [==============================] - 2s 155ms/step - loss: 0.9771 - val_loss: 1.7943\n",
      "Epoch 49/1000\n",
      "14/14 [==============================] - 2s 150ms/step - loss: 0.9612 - val_loss: 1.8473\n",
      "Epoch 50/1000\n",
      "14/14 [==============================] - 2s 151ms/step - loss: 1.0210 - val_loss: 1.7205\n",
      "Epoch 51/1000\n",
      "14/14 [==============================] - 2s 145ms/step - loss: 0.9993 - val_loss: 1.6915\n",
      "Epoch 52/1000\n",
      "14/14 [==============================] - 2s 153ms/step - loss: 0.9508 - val_loss: 1.7643\n",
      "Epoch 53/1000\n",
      "14/14 [==============================] - 2s 151ms/step - loss: 0.9656 - val_loss: 1.8779\n",
      "Epoch 54/1000\n",
      "14/14 [==============================] - 2s 150ms/step - loss: 1.0652 - val_loss: 1.7843\n",
      "Epoch 55/1000\n",
      "14/14 [==============================] - 2s 145ms/step - loss: 1.0198 - val_loss: 1.7933\n",
      "Epoch 56/1000\n",
      "14/14 [==============================] - 2s 147ms/step - loss: 1.1904 - val_loss: 1.7515\n",
      "Epoch 57/1000\n",
      "14/14 [==============================] - 2s 151ms/step - loss: 1.0741 - val_loss: 1.7136\n",
      "Epoch 58/1000\n",
      "14/14 [==============================] - 2s 151ms/step - loss: 1.1076 - val_loss: 1.7047\n",
      "Epoch 59/1000\n",
      "14/14 [==============================] - 2s 148ms/step - loss: 0.9806 - val_loss: 1.7971\n",
      "Epoch 60/1000\n",
      "14/14 [==============================] - 2s 150ms/step - loss: 1.0392 - val_loss: 1.7307\n",
      "Epoch 61/1000\n",
      "14/14 [==============================] - 2s 156ms/step - loss: 1.0991 - val_loss: 1.6847\n",
      "Epoch 62/1000\n",
      "14/14 [==============================] - 2s 153ms/step - loss: 1.0433 - val_loss: 1.6967\n",
      "Epoch 63/1000\n",
      "14/14 [==============================] - 2s 152ms/step - loss: 1.0199 - val_loss: 1.7959\n",
      "Epoch 64/1000\n",
      "14/14 [==============================] - 2s 143ms/step - loss: 1.0218 - val_loss: 1.8080\n",
      "Epoch 65/1000\n",
      "14/14 [==============================] - 2s 148ms/step - loss: 1.0113 - val_loss: 1.8036\n",
      "Epoch 66/1000\n",
      "14/14 [==============================] - 2s 154ms/step - loss: 1.0065 - val_loss: 1.7969\n",
      "Epoch 67/1000\n",
      "14/14 [==============================] - 2s 152ms/step - loss: 1.0398 - val_loss: 1.7896\n",
      "Epoch 68/1000\n",
      "14/14 [==============================] - 2s 150ms/step - loss: 0.9479 - val_loss: 1.7844\n",
      "Epoch 69/1000\n",
      "14/14 [==============================] - 2s 150ms/step - loss: 1.0916 - val_loss: 1.7781\n",
      "Epoch 70/1000\n",
      "14/14 [==============================] - 2s 157ms/step - loss: 0.9698 - val_loss: 1.7731\n",
      "Epoch 71/1000\n",
      "14/14 [==============================] - 2s 151ms/step - loss: 0.9294 - val_loss: 1.7767\n",
      "Epoch 72/1000\n",
      "14/14 [==============================] - 2s 152ms/step - loss: 1.0129 - val_loss: 1.7807\n",
      "Epoch 73/1000\n",
      "14/14 [==============================] - 2s 156ms/step - loss: 0.8941 - val_loss: 1.7850\n",
      "Epoch 74/1000\n",
      "14/14 [==============================] - 2s 162ms/step - loss: 1.0219 - val_loss: 1.7760\n",
      "Epoch 75/1000\n",
      "14/14 [==============================] - 3s 187ms/step - loss: 0.9805 - val_loss: 1.7813\n",
      "Epoch 76/1000\n",
      "14/14 [==============================] - 3s 236ms/step - loss: 0.9746 - val_loss: 1.7782\n",
      "Epoch 77/1000\n",
      "14/14 [==============================] - 2s 143ms/step - loss: 1.0028 - val_loss: 1.7689\n",
      "Epoch 78/1000\n",
      "14/14 [==============================] - 2s 146ms/step - loss: 1.0548 - val_loss: 1.7641\n",
      "Epoch 79/1000\n",
      "14/14 [==============================] - 2s 155ms/step - loss: 1.0453 - val_loss: 1.7572\n",
      "Epoch 80/1000\n",
      "14/14 [==============================] - 3s 228ms/step - loss: 1.0377 - val_loss: 1.7610\n",
      "Epoch 81/1000\n",
      "14/14 [==============================] - 2s 163ms/step - loss: 1.0627 - val_loss: 1.7585\n",
      "Epoch 82/1000\n",
      "14/14 [==============================] - 2s 153ms/step - loss: 1.0023 - val_loss: 1.7479\n",
      "Epoch 83/1000\n",
      "14/14 [==============================] - 2s 151ms/step - loss: 1.0778 - val_loss: 1.7476\n",
      "Epoch 84/1000\n",
      "14/14 [==============================] - 2s 154ms/step - loss: 0.9296 - val_loss: 1.7587\n",
      "Epoch 85/1000\n",
      "14/14 [==============================] - 2s 154ms/step - loss: 0.9669 - val_loss: 1.7562\n",
      "Epoch 86/1000\n",
      "14/14 [==============================] - 2s 158ms/step - loss: 0.8975 - val_loss: 1.7537\n",
      "Epoch 87/1000\n",
      "14/14 [==============================] - 2s 161ms/step - loss: 0.9798 - val_loss: 1.7559\n",
      "Epoch 88/1000\n",
      "14/14 [==============================] - 2s 159ms/step - loss: 1.0192 - val_loss: 1.7515\n",
      "Epoch 89/1000\n",
      "14/14 [==============================] - 2s 169ms/step - loss: 1.1556 - val_loss: 1.7528\n",
      "Epoch 90/1000\n",
      "14/14 [==============================] - 2s 158ms/step - loss: 1.1834 - val_loss: 1.7567\n",
      "Epoch 91/1000\n",
      "14/14 [==============================] - 2s 165ms/step - loss: 1.0986 - val_loss: 1.7566\n",
      "Epoch 92/1000\n",
      "14/14 [==============================] - 2s 178ms/step - loss: 1.0092 - val_loss: 1.7579\n",
      "Epoch 93/1000\n",
      "14/14 [==============================] - 2s 165ms/step - loss: 1.0127 - val_loss: 1.7587\n",
      "Epoch 94/1000\n",
      "14/14 [==============================] - 2s 165ms/step - loss: 0.9854 - val_loss: 1.7593\n",
      "Epoch 95/1000\n",
      "14/14 [==============================] - 2s 164ms/step - loss: 1.1259 - val_loss: 1.7586\n",
      "Epoch 96/1000\n",
      "14/14 [==============================] - 2s 154ms/step - loss: 1.0101 - val_loss: 1.7584\n",
      "Epoch 97/1000\n",
      "14/14 [==============================] - 3s 182ms/step - loss: 1.0654 - val_loss: 1.7587\n",
      "Epoch 98/1000\n",
      "14/14 [==============================] - 3s 189ms/step - loss: 0.9759 - val_loss: 1.7593\n",
      "Epoch 99/1000\n",
      "14/14 [==============================] - 2s 170ms/step - loss: 1.0190 - val_loss: 1.7600\n",
      "Epoch 100/1000\n",
      "14/14 [==============================] - 2s 161ms/step - loss: 1.0040 - val_loss: 1.7600\n",
      "Epoch 101/1000\n",
      "14/14 [==============================] - 2s 146ms/step - loss: 1.0134 - val_loss: 1.7606\n",
      "Epoch 102/1000\n",
      "14/14 [==============================] - 2s 152ms/step - loss: 0.9972 - val_loss: 1.7607\n",
      "Epoch 103/1000\n",
      "14/14 [==============================] - 2s 173ms/step - loss: 1.0639 - val_loss: 1.7602\n",
      "Epoch 104/1000\n",
      "14/14 [==============================] - 3s 186ms/step - loss: 1.1361 - val_loss: 1.7594\n",
      "Epoch 105/1000\n",
      "14/14 [==============================] - 3s 192ms/step - loss: 1.0796 - val_loss: 1.7584\n",
      "Epoch 106/1000\n",
      "14/14 [==============================] - 2s 149ms/step - loss: 0.9377 - val_loss: 1.7576\n",
      "Epoch 107/1000\n",
      "14/14 [==============================] - 2s 153ms/step - loss: 1.0060 - val_loss: 1.7589\n",
      "Epoch 108/1000\n",
      "14/14 [==============================] - 2s 177ms/step - loss: 1.0480 - val_loss: 1.7590\n",
      "Epoch 109/1000\n",
      "14/14 [==============================] - 3s 195ms/step - loss: 1.0989 - val_loss: 1.7588\n",
      "Epoch 110/1000\n",
      "14/14 [==============================] - 2s 162ms/step - loss: 1.0026 - val_loss: 1.7585\n",
      "Epoch 111/1000\n",
      "14/14 [==============================] - 2s 151ms/step - loss: 1.0195 - val_loss: 1.7589\n",
      "Epoch 112/1000\n",
      "14/14 [==============================] - 2s 154ms/step - loss: 1.0720 - val_loss: 1.7589\n",
      "Epoch 113/1000\n",
      "14/14 [==============================] - 2s 162ms/step - loss: 1.0724 - val_loss: 1.7592\n",
      "Epoch 114/1000\n",
      "14/14 [==============================] - 2s 153ms/step - loss: 0.9752 - val_loss: 1.7591\n",
      "Epoch 115/1000\n",
      "14/14 [==============================] - ETA: 0s - loss: 1.0227Restoring model weights from the end of the best epoch.\n",
      "14/14 [==============================] - 2s 171ms/step - loss: 1.0227 - val_loss: 1.7592\n",
      "Epoch 00115: early stopping\n"
     ]
    }
   ],
   "source": [
    "# History object for plotting our model loss by epoch\n",
    "history2 = model2.fit(x_train, y_train, batch_size = 16, \n",
    "                    epochs = EPOCHS2, validation_data = (x_val, y_val),\n",
    "                    callbacks = [rlrop2, early_stop2])"
   ]
  },
  {
   "cell_type": "code",
   "execution_count": 39,
   "metadata": {
    "scrolled": false
   },
   "outputs": [
    {
     "data": {
      "image/png": "[encoded data removed]",
      "text/plain": [
       "<Figure size 720x504 with 1 Axes>"
      ]
     },
     "metadata": {
      "needs_background": "light"
     },
     "output_type": "display_data"
    }
   ],
   "source": [
    "# Loss History\n",
    "fig = plt.figure(figsize=(10, 7))\n",
    "plt.plot(history2.history['loss'])\n",
    "plt.plot(history2.history['val_loss'])\n",
    "plt.title('Model Loss')\n",
    "plt.ylabel('Loss')\n",
    "plt.xlabel('Epoch')\n",
    "plt.legend(['Train', 'Val'], loc='upper right')\n",
    "plt.show()"
   ]
  },
  {
   "cell_type": "markdown",
   "metadata": {},
   "source": [
    "### Previsão 12 meses em Validação"
   ]
  },
  {
   "cell_type": "code",
   "execution_count": 40,
   "metadata": {},
   "outputs": [
    {
     "data": {
      "text/plain": [
       "array([[1.4504186e+10],\n",
       "       [1.4587835e+10],\n",
       "       [1.6357495e+10],\n",
       "       [1.5623589e+10],\n",
       "       [1.5696412e+10],\n",
       "       [1.5642017e+10],\n",
       "       [1.6175528e+10],\n",
       "       [1.6195595e+10],\n",
       "       [1.5832470e+10],\n",
       "       [1.5707973e+10],\n",
       "       [1.5843433e+10],\n",
       "       [1.6430851e+10]], dtype=float32)"
      ]
     },
     "execution_count": 40,
     "metadata": {},
     "output_type": "execute_result"
    }
   ],
   "source": [
    "Y_pred_val2 = np.exp(model2.predict(x_val))\n",
    "Y_pred_val2"
   ]
  },
  {
   "cell_type": "code",
   "execution_count": 41,
   "metadata": {},
   "outputs": [
    {
     "data": {
      "text/plain": [
       "date\n",
       "2021-01-01    1.450419e+10\n",
       "2021-02-01    1.458784e+10\n",
       "2021-03-01    1.635749e+10\n",
       "2021-04-01    1.562359e+10\n",
       "2021-05-01    1.569641e+10\n",
       "2021-06-01    1.564202e+10\n",
       "2021-07-01    1.617553e+10\n",
       "2021-08-01    1.619560e+10\n",
       "2021-09-01    1.583247e+10\n",
       "2021-10-01    1.570797e+10\n",
       "2021-11-01    1.584343e+10\n",
       "2021-12-01    1.643085e+10\n",
       "dtype: float32"
      ]
     },
     "execution_count": 41,
     "metadata": {},
     "output_type": "execute_result"
    }
   ],
   "source": [
    "y_pred_val2 = pd.Series(Y_pred_val2.ravel())\n",
    "y_pred_val2.index = icms_val.index\n",
    "y_pred_val2"
   ]
  },
  {
   "cell_type": "code",
   "execution_count": 42,
   "metadata": {},
   "outputs": [
    {
     "data": {
      "text/plain": [
       "array([1.41334740e+10, 1.37015302e+10, 1.48430843e+10, 1.36678032e+10,\n",
       "       1.41462259e+10, 1.46526531e+10, 1.57083790e+10, 1.59753225e+10,\n",
       "       1.62246035e+10, 1.66406793e+10, 1.73760322e+10, 1.85377202e+10])"
      ]
     },
     "execution_count": 42,
     "metadata": {},
     "output_type": "execute_result"
    }
   ],
   "source": [
    "np.exp(y_val).ravel()"
   ]
  },
  {
   "cell_type": "code",
   "execution_count": 43,
   "metadata": {},
   "outputs": [
    {
     "data": {
      "text/plain": [
       "1241693481.4479296"
      ]
     },
     "execution_count": 43,
     "metadata": {},
     "output_type": "execute_result"
    }
   ],
   "source": [
    "RMSE_lstm_val2 = mean_squared_error(np.exp(y_val).ravel(), y_pred_val2, squared=False)\n",
    "RMSE_lstm_val2"
   ]
  },
  {
   "cell_type": "code",
   "execution_count": 44,
   "metadata": {},
   "outputs": [
    {
     "data": {
      "text/plain": [
       "0.06989528784205702"
      ]
     },
     "execution_count": 44,
     "metadata": {},
     "output_type": "execute_result"
    }
   ],
   "source": [
    "MAPE_lstm_val2 = mean_absolute_percentage_error(np.exp(y_val).ravel(), y_pred_val2)\n",
    "MAPE_lstm_val2"
   ]
  },
  {
   "cell_type": "code",
   "execution_count": 45,
   "metadata": {},
   "outputs": [],
   "source": [
    "previsoes['nome'].append('RNN-LSTM-Larga')\n",
    "previsoes['modelo'].append(model2)\n",
    "previsoes['previsoes'].append(y_pred_val2)\n",
    "\n",
    "previsoes['rmse'].append(RMSE_lstm_val2)\n",
    "\n",
    "previsoes['mape'].append(MAPE_lstm_val2)"
   ]
  },
  {
   "cell_type": "code",
   "execution_count": 46,
   "metadata": {},
   "outputs": [],
   "source": [
    "previsoes['erro relativo'].append([erro_relativo(prev,real) \n",
    "                                   for prev,real in zip(y_pred_val2, y_test)])"
   ]
  },
  {
   "cell_type": "markdown",
   "metadata": {},
   "source": [
    "## Resultados"
   ]
  },
  {
   "cell_type": "code",
   "execution_count": 47,
   "metadata": {},
   "outputs": [],
   "source": [
    "df_prev = pd.DataFrame(data=previsoes['previsoes'], \n",
    "                       index=previsoes['nome']).transpose()\n",
    "df_prev[\"real\"] = icms_val\n",
    "df_rmse = pd.DataFrame(data=previsoes['rmse'], \n",
    "                       index=previsoes['nome']).transpose()\n",
    "df_mape = pd.DataFrame(data=previsoes['mape'], \n",
    "                       index=previsoes['nome']).transpose()\n",
    "df_erro = pd.DataFrame(data=previsoes['erro relativo'], \n",
    "                       index=previsoes['nome']).transpose()"
   ]
  },
  {
   "cell_type": "code",
   "execution_count": 48,
   "metadata": {},
   "outputs": [
    {
     "data": {
      "image/png": "[encoded data removed]",
      "text/plain": [
       "<Figure size 1080x720 with 1 Axes>"
      ]
     },
     "metadata": {
      "needs_background": "light"
     },
     "output_type": "display_data"
    }
   ],
   "source": [
    "fig = plt.figure(figsize=(15, 10))\n",
    "ax = sns.lineplot(data=df_prev)"
   ]
  },
  {
   "cell_type": "code",
   "execution_count": 49,
   "metadata": {},
   "outputs": [
    {
     "data": {
      "text/html": [
       "<div>\n",
       "<style scoped>\n",
       "    .dataframe tbody tr th:only-of-type {\n",
       "        vertical-align: middle;\n",
       "    }\n",
       "\n",
       "    .dataframe tbody tr th {\n",
       "        vertical-align: top;\n",
       "    }\n",
       "\n",
       "    .dataframe thead th {\n",
       "        text-align: right;\n",
       "    }\n",
       "</style>\n",
       "<table border=\"1\" class=\"dataframe\">\n",
       "  <thead>\n",
       "    <tr style=\"text-align: right;\">\n",
       "      <th></th>\n",
       "      <th>RNN-LSTM-Camadas</th>\n",
       "      <th>RNN-LSTM-Larga</th>\n",
       "      <th>real</th>\n",
       "    </tr>\n",
       "    <tr>\n",
       "      <th>date</th>\n",
       "      <th></th>\n",
       "      <th></th>\n",
       "      <th></th>\n",
       "    </tr>\n",
       "  </thead>\n",
       "  <tbody>\n",
       "    <tr>\n",
       "      <th>2021-01-01</th>\n",
       "      <td>1.450344e+10</td>\n",
       "      <td>1.450419e+10</td>\n",
       "      <td>1.413347e+10</td>\n",
       "    </tr>\n",
       "    <tr>\n",
       "      <th>2021-02-01</th>\n",
       "      <td>1.424744e+10</td>\n",
       "      <td>1.458784e+10</td>\n",
       "      <td>1.370153e+10</td>\n",
       "    </tr>\n",
       "    <tr>\n",
       "      <th>2021-03-01</th>\n",
       "      <td>1.604319e+10</td>\n",
       "      <td>1.635749e+10</td>\n",
       "      <td>1.484308e+10</td>\n",
       "    </tr>\n",
       "    <tr>\n",
       "      <th>2021-04-01</th>\n",
       "      <td>1.562952e+10</td>\n",
       "      <td>1.562359e+10</td>\n",
       "      <td>1.366780e+10</td>\n",
       "    </tr>\n",
       "    <tr>\n",
       "      <th>2021-05-01</th>\n",
       "      <td>1.563456e+10</td>\n",
       "      <td>1.569641e+10</td>\n",
       "      <td>1.414623e+10</td>\n",
       "    </tr>\n",
       "    <tr>\n",
       "      <th>2021-06-01</th>\n",
       "      <td>1.555565e+10</td>\n",
       "      <td>1.564202e+10</td>\n",
       "      <td>1.465265e+10</td>\n",
       "    </tr>\n",
       "    <tr>\n",
       "      <th>2021-07-01</th>\n",
       "      <td>1.610033e+10</td>\n",
       "      <td>1.617553e+10</td>\n",
       "      <td>1.570838e+10</td>\n",
       "    </tr>\n",
       "    <tr>\n",
       "      <th>2021-08-01</th>\n",
       "      <td>1.627707e+10</td>\n",
       "      <td>1.619560e+10</td>\n",
       "      <td>1.597532e+10</td>\n",
       "    </tr>\n",
       "    <tr>\n",
       "      <th>2021-09-01</th>\n",
       "      <td>1.593994e+10</td>\n",
       "      <td>1.583247e+10</td>\n",
       "      <td>1.622460e+10</td>\n",
       "    </tr>\n",
       "    <tr>\n",
       "      <th>2021-10-01</th>\n",
       "      <td>1.564858e+10</td>\n",
       "      <td>1.570797e+10</td>\n",
       "      <td>1.664068e+10</td>\n",
       "    </tr>\n",
       "    <tr>\n",
       "      <th>2021-11-01</th>\n",
       "      <td>1.566163e+10</td>\n",
       "      <td>1.584343e+10</td>\n",
       "      <td>1.737603e+10</td>\n",
       "    </tr>\n",
       "    <tr>\n",
       "      <th>2021-12-01</th>\n",
       "      <td>1.651096e+10</td>\n",
       "      <td>1.643085e+10</td>\n",
       "      <td>1.853772e+10</td>\n",
       "    </tr>\n",
       "  </tbody>\n",
       "</table>\n",
       "</div>"
      ],
      "text/plain": [
       "            RNN-LSTM-Camadas  RNN-LSTM-Larga          real\n",
       "date                                                      \n",
       "2021-01-01      1.450344e+10    1.450419e+10  1.413347e+10\n",
       "2021-02-01      1.424744e+10    1.458784e+10  1.370153e+10\n",
       "2021-03-01      1.604319e+10    1.635749e+10  1.484308e+10\n",
       "2021-04-01      1.562952e+10    1.562359e+10  1.366780e+10\n",
       "2021-05-01      1.563456e+10    1.569641e+10  1.414623e+10\n",
       "2021-06-01      1.555565e+10    1.564202e+10  1.465265e+10\n",
       "2021-07-01      1.610033e+10    1.617553e+10  1.570838e+10\n",
       "2021-08-01      1.627707e+10    1.619560e+10  1.597532e+10\n",
       "2021-09-01      1.593994e+10    1.583247e+10  1.622460e+10\n",
       "2021-10-01      1.564858e+10    1.570797e+10  1.664068e+10\n",
       "2021-11-01      1.566163e+10    1.584343e+10  1.737603e+10\n",
       "2021-12-01      1.651096e+10    1.643085e+10  1.853772e+10"
      ]
     },
     "execution_count": 49,
     "metadata": {},
     "output_type": "execute_result"
    }
   ],
   "source": [
    "df_prev"
   ]
  },
  {
   "cell_type": "code",
   "execution_count": 50,
   "metadata": {},
   "outputs": [
    {
     "data": {
      "text/html": [
       "<div>\n",
       "<style scoped>\n",
       "    .dataframe tbody tr th:only-of-type {\n",
       "        vertical-align: middle;\n",
       "    }\n",
       "\n",
       "    .dataframe tbody tr th {\n",
       "        vertical-align: top;\n",
       "    }\n",
       "\n",
       "    .dataframe thead th {\n",
       "        text-align: right;\n",
       "    }\n",
       "</style>\n",
       "<table border=\"1\" class=\"dataframe\">\n",
       "  <thead>\n",
       "    <tr style=\"text-align: right;\">\n",
       "      <th></th>\n",
       "      <th>RNN-LSTM-Camadas</th>\n",
       "      <th>RNN-LSTM-Larga</th>\n",
       "    </tr>\n",
       "  </thead>\n",
       "  <tbody>\n",
       "    <tr>\n",
       "      <th>0</th>\n",
       "      <td>[13.425225186407353]</td>\n",
       "      <td>[13.420775271847699]</td>\n",
       "    </tr>\n",
       "    <tr>\n",
       "      <th>1</th>\n",
       "      <td>[9.99608923465736]</td>\n",
       "      <td>[7.845713242254238]</td>\n",
       "    </tr>\n",
       "    <tr>\n",
       "      <th>2</th>\n",
       "      <td>[1.4759137049593285]</td>\n",
       "      <td>[0.4542734091897782]</td>\n",
       "    </tr>\n",
       "    <tr>\n",
       "      <th>3</th>\n",
       "      <td>[7.129470076198828]</td>\n",
       "      <td>[7.1647242610426085]</td>\n",
       "    </tr>\n",
       "    <tr>\n",
       "      <th>4</th>\n",
       "      <td>[7.47911690628966]</td>\n",
       "      <td>[7.113096430256991]</td>\n",
       "    </tr>\n",
       "    <tr>\n",
       "      <th>5</th>\n",
       "      <td>[8.35903891566877]</td>\n",
       "      <td>[7.850210687449008]</td>\n",
       "    </tr>\n",
       "    <tr>\n",
       "      <th>6</th>\n",
       "      <td>[7.639741498042675]</td>\n",
       "      <td>[7.208373956849292]</td>\n",
       "    </tr>\n",
       "    <tr>\n",
       "      <th>7</th>\n",
       "      <td>[7.3177851058579435]</td>\n",
       "      <td>[7.781727356276739]</td>\n",
       "    </tr>\n",
       "    <tr>\n",
       "      <th>8</th>\n",
       "      <td>[7.663397096965246]</td>\n",
       "      <td>[8.28596998881948]</td>\n",
       "    </tr>\n",
       "    <tr>\n",
       "      <th>9</th>\n",
       "      <td>[0.009063054313147786]</td>\n",
       "      <td>[0.3704319999999511]</td>\n",
       "    </tr>\n",
       "    <tr>\n",
       "      <th>10</th>\n",
       "      <td>[2.419747887850618]</td>\n",
       "      <td>[1.2870188660437663]</td>\n",
       "    </tr>\n",
       "    <tr>\n",
       "      <th>11</th>\n",
       "      <td>[6.566502672597758]</td>\n",
       "      <td>[7.019838640293007]</td>\n",
       "    </tr>\n",
       "  </tbody>\n",
       "</table>\n",
       "</div>"
      ],
      "text/plain": [
       "          RNN-LSTM-Camadas        RNN-LSTM-Larga\n",
       "0     [13.425225186407353]  [13.420775271847699]\n",
       "1       [9.99608923465736]   [7.845713242254238]\n",
       "2     [1.4759137049593285]  [0.4542734091897782]\n",
       "3      [7.129470076198828]  [7.1647242610426085]\n",
       "4       [7.47911690628966]   [7.113096430256991]\n",
       "5       [8.35903891566877]   [7.850210687449008]\n",
       "6      [7.639741498042675]   [7.208373956849292]\n",
       "7     [7.3177851058579435]   [7.781727356276739]\n",
       "8      [7.663397096965246]    [8.28596998881948]\n",
       "9   [0.009063054313147786]  [0.3704319999999511]\n",
       "10     [2.419747887850618]  [1.2870188660437663]\n",
       "11     [6.566502672597758]   [7.019838640293007]"
      ]
     },
     "execution_count": 50,
     "metadata": {},
     "output_type": "execute_result"
    }
   ],
   "source": [
    "df_erro"
   ]
  },
  {
   "cell_type": "markdown",
   "metadata": {},
   "source": [
    "### Resultados"
   ]
  },
  {
   "cell_type": "code",
   "execution_count": 51,
   "metadata": {
    "scrolled": false
   },
   "outputs": [
    {
     "data": {
      "image/png": "[encoded data removed]",
      "text/plain": [
       "<Figure size 1080x720 with 1 Axes>"
      ]
     },
     "metadata": {
      "needs_background": "light"
     },
     "output_type": "display_data"
    }
   ],
   "source": [
    "fig = plt.figure(figsize=(15, 10))\n",
    "ax = sns.lineplot(data=df_prev)"
   ]
  },
  {
   "cell_type": "markdown",
   "metadata": {},
   "source": [
    "#### RMSE"
   ]
  },
  {
   "cell_type": "code",
   "execution_count": 52,
   "metadata": {},
   "outputs": [
    {
     "data": {
      "image/png": "[encoded data removed]",
      "text/plain": [
       "<Figure size 1080x720 with 1 Axes>"
      ]
     },
     "metadata": {
      "needs_background": "light"
     },
     "output_type": "display_data"
    }
   ],
   "source": [
    "fig = plt.figure(figsize=(15, 10))\n",
    "ax = sns.barplot(data=df_rmse)\n",
    "_ = plt.xticks(rotation=45)"
   ]
  },
  {
   "cell_type": "markdown",
   "metadata": {},
   "source": [
    "#### MAPE"
   ]
  },
  {
   "cell_type": "code",
   "execution_count": 53,
   "metadata": {
    "scrolled": false
   },
   "outputs": [
    {
     "data": {
      "image/png": "[encoded data removed]",
      "text/plain": [
       "<Figure size 1080x720 with 1 Axes>"
      ]
     },
     "metadata": {
      "needs_background": "light"
     },
     "output_type": "display_data"
    }
   ],
   "source": [
    "fig = plt.figure(figsize=(15, 10))\n",
    "ax = sns.barplot(data=df_mape)\n",
    "_ = plt.xticks(rotation=45)"
   ]
  },
  {
   "cell_type": "markdown",
   "metadata": {},
   "source": [
    "### Resumo das métricas"
   ]
  },
  {
   "cell_type": "code",
   "execution_count": 54,
   "metadata": {},
   "outputs": [],
   "source": [
    "df_rmse.index = ['RMSE']\n",
    "df_mape.index = ['MAPE']"
   ]
  },
  {
   "cell_type": "code",
   "execution_count": 55,
   "metadata": {},
   "outputs": [
    {
     "data": {
      "text/html": [
       "<div>\n",
       "<style scoped>\n",
       "    .dataframe tbody tr th:only-of-type {\n",
       "        vertical-align: middle;\n",
       "    }\n",
       "\n",
       "    .dataframe tbody tr th {\n",
       "        vertical-align: top;\n",
       "    }\n",
       "\n",
       "    .dataframe thead th {\n",
       "        text-align: right;\n",
       "    }\n",
       "</style>\n",
       "<table border=\"1\" class=\"dataframe\">\n",
       "  <thead>\n",
       "    <tr style=\"text-align: right;\">\n",
       "      <th></th>\n",
       "      <th>RNN-LSTM-Camadas</th>\n",
       "      <th>RNN-LSTM-Larga</th>\n",
       "    </tr>\n",
       "  </thead>\n",
       "  <tbody>\n",
       "    <tr>\n",
       "      <th>RMSE</th>\n",
       "      <td>1.194115e+09</td>\n",
       "      <td>1.241693e+09</td>\n",
       "    </tr>\n",
       "    <tr>\n",
       "      <th>MAPE</th>\n",
       "      <td>6.551987e-02</td>\n",
       "      <td>6.989529e-02</td>\n",
       "    </tr>\n",
       "  </tbody>\n",
       "</table>\n",
       "</div>"
      ],
      "text/plain": [
       "      RNN-LSTM-Camadas  RNN-LSTM-Larga\n",
       "RMSE      1.194115e+09    1.241693e+09\n",
       "MAPE      6.551987e-02    6.989529e-02"
      ]
     },
     "execution_count": 55,
     "metadata": {},
     "output_type": "execute_result"
    }
   ],
   "source": [
    "df_metricas = df_rmse.copy()\n",
    "df_metricas = df_metricas.append(df_mape)\n",
    "df_metricas"
   ]
  },
  {
   "cell_type": "code",
   "execution_count": 56,
   "metadata": {},
   "outputs": [
    {
     "name": "stdout",
     "output_type": "stream",
     "text": [
      "\\begin{tabular}{lrr}\n",
      "\\toprule\n",
      "{} &          RMSE &      MAPE \\\\\n",
      "\\midrule\n",
      "RNN-LSTM-Camadas &  1.194115e+09 &  0.065520 \\\\\n",
      "RNN-LSTM-Larga   &  1.241693e+09 &  0.069895 \\\\\n",
      "\\bottomrule\n",
      "\\end{tabular}\n",
      "\n"
     ]
    }
   ],
   "source": [
    "print(df_metricas.transpose().to_latex(escape=False))"
   ]
  },
  {
   "cell_type": "code",
   "execution_count": 57,
   "metadata": {
    "scrolled": true
   },
   "outputs": [
    {
     "name": "stdout",
     "output_type": "stream",
     "text": [
      "\\begin{tabular}{l}\n",
      "\\toprule\n",
      "Empty DataFrame\n",
      "Columns: DatetimeIndex([], dtype='datetime64[ns]', name='date', freq=None)\n",
      "Index: Index(['RNN-LSTM-Camadas', 'RNN-LSTM-Larga', 'real'], dtype='object') \\\\\n",
      "\\bottomrule\n",
      "\\end{tabular}\n",
      "\n"
     ]
    }
   ],
   "source": [
    "print(df_prev['2022-01-01':'2022-04-01'].transpose().to_latex(escape=False))"
   ]
  },
  {
   "cell_type": "code",
   "execution_count": 58,
   "metadata": {},
   "outputs": [
    {
     "name": "stdout",
     "output_type": "stream",
     "text": [
      "\\begin{tabular}{l}\n",
      "\\toprule\n",
      "Empty DataFrame\n",
      "Columns: DatetimeIndex([], dtype='datetime64[ns]', name='date', freq=None)\n",
      "Index: Index(['RNN-LSTM-Camadas', 'RNN-LSTM-Larga', 'real'], dtype='object') \\\\\n",
      "\\bottomrule\n",
      "\\end{tabular}\n",
      "\n"
     ]
    }
   ],
   "source": [
    "print(df_prev['2022-05-01':'2022-08-01'].transpose().to_latex(escape=False))"
   ]
  },
  {
   "cell_type": "code",
   "execution_count": 59,
   "metadata": {},
   "outputs": [
    {
     "name": "stdout",
     "output_type": "stream",
     "text": [
      "\\begin{tabular}{l}\n",
      "\\toprule\n",
      "Empty DataFrame\n",
      "Columns: DatetimeIndex([], dtype='datetime64[ns]', name='date', freq=None)\n",
      "Index: Index(['RNN-LSTM-Camadas', 'RNN-LSTM-Larga', 'real'], dtype='object') \\\\\n",
      "\\bottomrule\n",
      "\\end{tabular}\n",
      "\n"
     ]
    }
   ],
   "source": [
    "print(df_prev['2022-09-01':'2022-12-01'].transpose().to_latex(escape=False))"
   ]
  },
  {
   "cell_type": "code",
   "execution_count": null,
   "metadata": {},
   "outputs": [],
   "source": []
  },
  {
   "cell_type": "code",
   "execution_count": null,
   "metadata": {},
   "outputs": [],
   "source": []
  }
 ],
 "metadata": {
  "kernelspec": {
   "display_name": "Python 3",
   "language": "python",
   "name": "python3"
  },
  "language_info": {
   "codemirror_mode": {
    "name": "ipython",
    "version": 3
   },
   "file_extension": ".py",
   "mimetype": "text/x-python",
   "name": "python",
   "nbconvert_exporter": "python",
   "pygments_lexer": "ipython3",
   "version": "3.6.4"
  }
 },
 "nbformat": 4,
 "nbformat_minor": 2
}
