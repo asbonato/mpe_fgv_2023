{
 "cells": [
  {
   "cell_type": "markdown",
   "metadata": {},
   "source": [
    "# Aplicação de Modelos de Markov e Redes Neurais LSTM na Previsão de Arrecadação do ICMS Paulista\n",
    "## Resultados 2020\n",
    "\n",
    "### Antonio Sergio Ferreira Bonato"
   ]
  },
  {
   "cell_type": "markdown",
   "metadata": {},
   "source": [
    "Atualmente, na Secretaria da Fazenda e Planejamento do Estado de São Paulo, a previsão de arrecadação do ICMS paulista é feita usando-se um modelo ARIMA com variáveis exógenas, o ARIMAX. Mas o ICMS é não linear e há várias quebras estruturais controladas com diversas *dummies*. A consequência é um modelo bastante sobreajustado, inadequado para previsões de mais longo prazo (mais do que alguns meses, muito menos para um ano). \n",
    "A proposta deste trabalho é utilizar modelos não lineares multivariados na previsão do ICMS paulista, utilizando redes neurais recorrentes LSTM (*Long Short Term Memory*) e modelos Markov-Switching, fazendo um contraponto entre estes dois modelos. E utilizar, como baseline de comparação, o modelo ARIMAX atual. \n",
    "\n",
    "**Palavras-chave**: Markov-Switching Models. Redes Neurais Recorrentes. LSTM. ICMS."
   ]
  },
  {
   "cell_type": "markdown",
   "metadata": {},
   "source": [
    "## Treinamento das Redes Neurais - Série Univariada"
   ]
  },
  {
   "cell_type": "code",
   "execution_count": 1,
   "metadata": {},
   "outputs": [],
   "source": [
    "import pandas as pd\n",
    "import numpy as np\n",
    "import seaborn as sns\n",
    "import matplotlib.pyplot as plt\n",
    "import statsmodels.tsa.stattools\n",
    "import statsmodels.tsa.x13\n",
    "import statsmodels.graphics.tsaplots\n",
    "import statsmodels.api as sm\n",
    "from statsmodels.graphics.api import qqplot\n",
    "from statsmodels.tsa.api import acf, graphics, pacf\n",
    "from statsmodels.tsa.arima.model import ARIMA\n",
    "import pickle\n",
    "from pmdarima.arima import auto_arima, nsdiffs, ndiffs\n",
    "from sklearn.metrics import mean_squared_error, mean_absolute_percentage_error\n",
    "import random\n",
    "import tensorflow as tf\n",
    "seed = 42\n",
    "random.seed(seed)\n",
    "np.random.seed(seed)\n",
    "tf.random.set_seed(seed)\n",
    "\n",
    "sns.set()\n",
    "sns.set_context(\"notebook\")\n",
    "sns.set(rc={'figure.figsize':(10,7)})"
   ]
  },
  {
   "cell_type": "code",
   "execution_count": 2,
   "metadata": {},
   "outputs": [],
   "source": [
    "import warnings\n",
    "warnings.filterwarnings('ignore')\n",
    "warnings.simplefilter('ignore')"
   ]
  },
  {
   "cell_type": "code",
   "execution_count": 3,
   "metadata": {},
   "outputs": [],
   "source": [
    "df_main_orig = pd.read_excel(\"variaveis_previsao.xlsx\", parse_dates=['date'])"
   ]
  },
  {
   "cell_type": "markdown",
   "metadata": {},
   "source": [
    "Removendo as últimas linhas que são todas NaN"
   ]
  },
  {
   "cell_type": "code",
   "execution_count": 5,
   "metadata": {},
   "outputs": [],
   "source": [
    "df_main = df_main_orig.iloc[0:216]\n",
    "datas = df_main['date']"
   ]
  },
  {
   "cell_type": "code",
   "execution_count": 6,
   "metadata": {},
   "outputs": [
    {
     "data": {
      "text/html": [
       "<div>\n",
       "<style scoped>\n",
       "    .dataframe tbody tr th:only-of-type {\n",
       "        vertical-align: middle;\n",
       "    }\n",
       "\n",
       "    .dataframe tbody tr th {\n",
       "        vertical-align: top;\n",
       "    }\n",
       "\n",
       "    .dataframe thead th {\n",
       "        text-align: right;\n",
       "    }\n",
       "</style>\n",
       "<table border=\"1\" class=\"dataframe\">\n",
       "  <thead>\n",
       "    <tr style=\"text-align: right;\">\n",
       "      <th></th>\n",
       "      <th>date</th>\n",
       "      <th>icms_sp</th>\n",
       "      <th>igp_m</th>\n",
       "      <th>dolar</th>\n",
       "      <th>ibc_br</th>\n",
       "      <th>dias_uteis</th>\n",
       "      <th>igp_m_22</th>\n",
       "      <th>dolar_22</th>\n",
       "      <th>ibc_br_22</th>\n",
       "      <th>igp_m_21</th>\n",
       "      <th>...</th>\n",
       "      <th>ibc_br_16</th>\n",
       "      <th>igp_m_15</th>\n",
       "      <th>dolar_15</th>\n",
       "      <th>ibc_br_15</th>\n",
       "      <th>igp_m_14</th>\n",
       "      <th>dolar_14</th>\n",
       "      <th>ibc_br_14</th>\n",
       "      <th>igp_m_13</th>\n",
       "      <th>dolar_13</th>\n",
       "      <th>ibc_br_13</th>\n",
       "    </tr>\n",
       "  </thead>\n",
       "  <tbody>\n",
       "    <tr>\n",
       "      <th>211</th>\n",
       "      <td>2020-08-01</td>\n",
       "      <td>1.227731e+10</td>\n",
       "      <td>832.313</td>\n",
       "      <td>5.461233</td>\n",
       "      <td>135.61</td>\n",
       "      <td>21</td>\n",
       "      <td>832.313</td>\n",
       "      <td>5.461233</td>\n",
       "      <td>135.61</td>\n",
       "      <td>832.313</td>\n",
       "      <td>...</td>\n",
       "      <td>NaN</td>\n",
       "      <td>NaN</td>\n",
       "      <td>NaN</td>\n",
       "      <td>NaN</td>\n",
       "      <td>NaN</td>\n",
       "      <td>NaN</td>\n",
       "      <td>NaN</td>\n",
       "      <td>NaN</td>\n",
       "      <td>NaN</td>\n",
       "      <td>NaN</td>\n",
       "    </tr>\n",
       "    <tr>\n",
       "      <th>212</th>\n",
       "      <td>2020-09-01</td>\n",
       "      <td>1.309835e+10</td>\n",
       "      <td>868.442</td>\n",
       "      <td>5.399486</td>\n",
       "      <td>137.09</td>\n",
       "      <td>21</td>\n",
       "      <td>868.442</td>\n",
       "      <td>5.399486</td>\n",
       "      <td>137.09</td>\n",
       "      <td>868.442</td>\n",
       "      <td>...</td>\n",
       "      <td>NaN</td>\n",
       "      <td>NaN</td>\n",
       "      <td>NaN</td>\n",
       "      <td>NaN</td>\n",
       "      <td>NaN</td>\n",
       "      <td>NaN</td>\n",
       "      <td>NaN</td>\n",
       "      <td>NaN</td>\n",
       "      <td>NaN</td>\n",
       "      <td>NaN</td>\n",
       "    </tr>\n",
       "    <tr>\n",
       "      <th>213</th>\n",
       "      <td>2020-10-01</td>\n",
       "      <td>1.387787e+10</td>\n",
       "      <td>896.505</td>\n",
       "      <td>5.625790</td>\n",
       "      <td>139.80</td>\n",
       "      <td>21</td>\n",
       "      <td>896.505</td>\n",
       "      <td>5.625790</td>\n",
       "      <td>139.80</td>\n",
       "      <td>896.505</td>\n",
       "      <td>...</td>\n",
       "      <td>NaN</td>\n",
       "      <td>NaN</td>\n",
       "      <td>NaN</td>\n",
       "      <td>NaN</td>\n",
       "      <td>NaN</td>\n",
       "      <td>NaN</td>\n",
       "      <td>NaN</td>\n",
       "      <td>NaN</td>\n",
       "      <td>NaN</td>\n",
       "      <td>NaN</td>\n",
       "    </tr>\n",
       "    <tr>\n",
       "      <th>214</th>\n",
       "      <td>2020-11-01</td>\n",
       "      <td>1.474590e+10</td>\n",
       "      <td>925.887</td>\n",
       "      <td>5.417835</td>\n",
       "      <td>138.14</td>\n",
       "      <td>20</td>\n",
       "      <td>925.887</td>\n",
       "      <td>5.417835</td>\n",
       "      <td>138.14</td>\n",
       "      <td>925.887</td>\n",
       "      <td>...</td>\n",
       "      <td>NaN</td>\n",
       "      <td>NaN</td>\n",
       "      <td>NaN</td>\n",
       "      <td>NaN</td>\n",
       "      <td>NaN</td>\n",
       "      <td>NaN</td>\n",
       "      <td>NaN</td>\n",
       "      <td>NaN</td>\n",
       "      <td>NaN</td>\n",
       "      <td>NaN</td>\n",
       "    </tr>\n",
       "    <tr>\n",
       "      <th>215</th>\n",
       "      <td>2020-12-01</td>\n",
       "      <td>1.490640e+10</td>\n",
       "      <td>934.758</td>\n",
       "      <td>5.145586</td>\n",
       "      <td>139.27</td>\n",
       "      <td>22</td>\n",
       "      <td>934.758</td>\n",
       "      <td>5.145586</td>\n",
       "      <td>139.27</td>\n",
       "      <td>934.758</td>\n",
       "      <td>...</td>\n",
       "      <td>NaN</td>\n",
       "      <td>NaN</td>\n",
       "      <td>NaN</td>\n",
       "      <td>NaN</td>\n",
       "      <td>NaN</td>\n",
       "      <td>NaN</td>\n",
       "      <td>NaN</td>\n",
       "      <td>NaN</td>\n",
       "      <td>NaN</td>\n",
       "      <td>NaN</td>\n",
       "    </tr>\n",
       "  </tbody>\n",
       "</table>\n",
       "<p>5 rows × 36 columns</p>\n",
       "</div>"
      ],
      "text/plain": [
       "          date       icms_sp    igp_m     dolar  ibc_br  dias_uteis  igp_m_22  \\\n",
       "211 2020-08-01  1.227731e+10  832.313  5.461233  135.61          21   832.313   \n",
       "212 2020-09-01  1.309835e+10  868.442  5.399486  137.09          21   868.442   \n",
       "213 2020-10-01  1.387787e+10  896.505  5.625790  139.80          21   896.505   \n",
       "214 2020-11-01  1.474590e+10  925.887  5.417835  138.14          20   925.887   \n",
       "215 2020-12-01  1.490640e+10  934.758  5.145586  139.27          22   934.758   \n",
       "\n",
       "     dolar_22  ibc_br_22  igp_m_21  ...  ibc_br_16  igp_m_15  dolar_15  \\\n",
       "211  5.461233     135.61   832.313  ...        NaN       NaN       NaN   \n",
       "212  5.399486     137.09   868.442  ...        NaN       NaN       NaN   \n",
       "213  5.625790     139.80   896.505  ...        NaN       NaN       NaN   \n",
       "214  5.417835     138.14   925.887  ...        NaN       NaN       NaN   \n",
       "215  5.145586     139.27   934.758  ...        NaN       NaN       NaN   \n",
       "\n",
       "     ibc_br_15  igp_m_14  dolar_14  ibc_br_14  igp_m_13  dolar_13  ibc_br_13  \n",
       "211        NaN       NaN       NaN        NaN       NaN       NaN        NaN  \n",
       "212        NaN       NaN       NaN        NaN       NaN       NaN        NaN  \n",
       "213        NaN       NaN       NaN        NaN       NaN       NaN        NaN  \n",
       "214        NaN       NaN       NaN        NaN       NaN       NaN        NaN  \n",
       "215        NaN       NaN       NaN        NaN       NaN       NaN        NaN  \n",
       "\n",
       "[5 rows x 36 columns]"
      ]
     },
     "execution_count": 6,
     "metadata": {},
     "output_type": "execute_result"
    }
   ],
   "source": [
    "df_main.tail()"
   ]
  },
  {
   "cell_type": "markdown",
   "metadata": {},
   "source": [
    "### Criação das Séries"
   ]
  },
  {
   "cell_type": "code",
   "execution_count": 7,
   "metadata": {},
   "outputs": [],
   "source": [
    "icms_ts = pd.Series(list(df_main['icms_sp']), index = datas)"
   ]
  },
  {
   "cell_type": "markdown",
   "metadata": {},
   "source": [
    "#### Testes de Valores Nulos"
   ]
  },
  {
   "cell_type": "code",
   "execution_count": 8,
   "metadata": {},
   "outputs": [
    {
     "name": "stdout",
     "output_type": "stream",
     "text": [
      "ICMS 0\n"
     ]
    }
   ],
   "source": [
    "print('ICMS', icms_ts.isnull().sum())"
   ]
  },
  {
   "cell_type": "code",
   "execution_count": 9,
   "metadata": {},
   "outputs": [
    {
     "data": {
      "text/plain": [
       "Series([], dtype: float64)"
      ]
     },
     "execution_count": 9,
     "metadata": {},
     "output_type": "execute_result"
    }
   ],
   "source": [
    "# listando os nulos do icms\n",
    "icms_ts[icms_ts.isnull()]"
   ]
  },
  {
   "cell_type": "code",
   "execution_count": 10,
   "metadata": {},
   "outputs": [],
   "source": [
    "# eliminando os nulos do icms\n",
    "icms_ts = icms_ts[~icms_ts.isnull()]"
   ]
  },
  {
   "cell_type": "code",
   "execution_count": 11,
   "metadata": {},
   "outputs": [
    {
     "data": {
      "text/plain": [
       "(216,)"
      ]
     },
     "execution_count": 11,
     "metadata": {},
     "output_type": "execute_result"
    }
   ],
   "source": [
    "icms_ts.shape"
   ]
  },
  {
   "cell_type": "markdown",
   "metadata": {},
   "source": [
    "### Série em Log\n",
    "Como os valores do ICMS são muito elevados a série será colocada em log."
   ]
  },
  {
   "cell_type": "code",
   "execution_count": 12,
   "metadata": {},
   "outputs": [],
   "source": [
    "l_icms_ts = pd.Series(np.log(list(df_main['icms_sp'])), index = datas)"
   ]
  },
  {
   "cell_type": "markdown",
   "metadata": {},
   "source": [
    "## Divisão em treino e teste"
   ]
  },
  {
   "cell_type": "code",
   "execution_count": 13,
   "metadata": {},
   "outputs": [],
   "source": [
    "icms_train = icms_ts[:-24]\n",
    "icms_val = icms_ts[-24:-12]\n",
    "icms_test = icms_ts[-12:]"
   ]
  },
  {
   "cell_type": "code",
   "execution_count": 18,
   "metadata": {},
   "outputs": [
    {
     "name": "stdout",
     "output_type": "stream",
     "text": [
      "##############################\n",
      " date\n",
      "2003-01-01    3.360296e+09\n",
      "2003-02-01    3.196558e+09\n",
      "2003-03-01    3.160011e+09\n",
      "2003-04-01    3.215307e+09\n",
      "2003-05-01    3.098930e+09\n",
      "                  ...     \n",
      "2018-08-01    1.157415e+10\n",
      "2018-09-01    1.157068e+10\n",
      "2018-10-01    1.176202e+10\n",
      "2018-11-01    1.150136e+10\n",
      "2018-12-01    1.196787e+10\n",
      "Length: 192, dtype: float64\n",
      "##############################\n",
      " date\n",
      "2019-01-01    1.236685e+10\n",
      "2019-02-01    1.126598e+10\n",
      "2019-03-01    1.131000e+10\n",
      "2019-04-01    1.201696e+10\n",
      "2019-05-01    1.173362e+10\n",
      "2019-06-01    1.138744e+10\n",
      "2019-07-01    1.177099e+10\n",
      "2019-08-01    1.178403e+10\n",
      "2019-09-01    1.214739e+10\n",
      "2019-10-01    1.251718e+10\n",
      "2019-11-01    1.257453e+10\n",
      "2019-12-01    1.314626e+10\n",
      "dtype: float64\n",
      "##############################\n",
      " date\n",
      "2020-01-01    1.292981e+10\n",
      "2020-02-01    1.177686e+10\n",
      "2020-03-01    1.208593e+10\n",
      "2020-04-01    1.045560e+10\n",
      "2020-05-01    9.023529e+09\n",
      "2020-06-01    9.983544e+09\n",
      "2020-07-01    1.134873e+10\n",
      "2020-08-01    1.227731e+10\n",
      "2020-09-01    1.309835e+10\n",
      "2020-10-01    1.387787e+10\n",
      "2020-11-01    1.474590e+10\n",
      "2020-12-01    1.490640e+10\n",
      "dtype: float64\n"
     ]
    }
   ],
   "source": [
    "print('#'*30+'\\n',icms_train)\n",
    "print('#'*30+'\\n',icms_val)\n",
    "print('#'*30+'\\n',icms_test)"
   ]
  },
  {
   "cell_type": "markdown",
   "metadata": {},
   "source": [
    "## Utilidades para Previsões"
   ]
  },
  {
   "cell_type": "markdown",
   "metadata": {},
   "source": [
    "Além de MAPE e MSE, será usado o erro relativo, que é \n",
    "\n",
    "$Erro Relativo = \\frac{|previsão - real|}{real}$"
   ]
  },
  {
   "cell_type": "code",
   "execution_count": 19,
   "metadata": {},
   "outputs": [],
   "source": [
    "def erro_relativo(prev, real):\n",
    "    return 100*np.absolute(prev-real)/real"
   ]
  },
  {
   "cell_type": "markdown",
   "metadata": {},
   "source": [
    "#### Dicionário de Previsões\n",
    "Será usado para armazenar todas as previsões."
   ]
  },
  {
   "cell_type": "code",
   "execution_count": 20,
   "metadata": {},
   "outputs": [],
   "source": [
    "previsoes = {\n",
    "    'nome':[],\n",
    "    'modelo': [],\n",
    "    'previsoes': [],\n",
    "    'rmse': [],\n",
    "    'mape': [],\n",
    "    'erro relativo':[]\n",
    "}"
   ]
  },
  {
   "cell_type": "markdown",
   "metadata": {},
   "source": [
    "## Modelos RNN LSTM\n",
    "Redes Neurais Recorrentes com neurônios Long Short-Term Memory"
   ]
  },
  {
   "cell_type": "markdown",
   "metadata": {},
   "source": [
    "### Montagem da Série\n",
    "As redes neurais precisam de conjuntos de características e de etiquetas separados. Neste caso, o conjunto de etiquetas é a própria série de ICMS. Para os conjunto de caraterísticas será utilizada a série do ICMS com lags 1, 2, 3, 4, 6 e 12 defasagens, e médias móveis de 2, 3, 6 e 12 meses, conforme trabalho de [Silva & Figueiredo, 2020]."
   ]
  },
  {
   "cell_type": "code",
   "execution_count": 21,
   "metadata": {},
   "outputs": [],
   "source": [
    "def cria_features_target(serie, verbose=0):\n",
    "    serie_d1 = serie.shift(1)\n",
    "    serie_d2 = serie.shift(2)\n",
    "    serie_d3 = serie.shift(3)\n",
    "    serie_d4 = serie.shift(4)\n",
    "    serie_d6 = serie.shift(6)\n",
    "    serie_d12 = serie.shift(12)\n",
    "    serie_ma2 = serie.rolling(2).mean()\n",
    "    serie_ma3 = serie.rolling(3).mean()\n",
    "    serie_ma6 = serie.rolling(6).mean()\n",
    "    serie_ma12 = serie.rolling(12).mean()\n",
    "\n",
    "    if verbose==1:\n",
    "        print(\"shape de cada uma das séries:\")\n",
    "        print(serie_d1.shape, serie_d2.shape, serie_d3.shape, serie_d4.shape, \n",
    "              serie_d6.shape, serie_d12.shape, serie_ma2.shape, serie_ma3.shape, \n",
    "              serie_ma6.shape, serie_ma12.shape)\n",
    "    X = np.array([serie_d1, serie_d2, serie_d3, serie_d4, \n",
    "     serie_d6, serie_d12, serie_ma2, serie_ma3, \n",
    "     serie_ma6, serie_ma12])\n",
    "    if verbose==1:\n",
    "        print(\"shape do array de features:\", X.shape)\n",
    "    X = X[:,12:]\n",
    "    X = X.T\n",
    "    if verbose==1:\n",
    "        print(\"shape do array de features depois da poda e da transposição:\", X.shape)\n",
    "    Y = np.array(serie[12:])\n",
    "    if verbose==1:\n",
    "        print(\"shape do array target:\", Y.shape)\n",
    "    return X, Y"
   ]
  },
  {
   "cell_type": "code",
   "execution_count": 22,
   "metadata": {},
   "outputs": [
    {
     "name": "stdout",
     "output_type": "stream",
     "text": [
      "shape de cada uma das séries:\n",
      "(216,) (216,) (216,) (216,) (216,) (216,) (216,) (216,) (216,) (216,)\n",
      "shape do array de features: (10, 216)\n",
      "shape do array de features depois da poda e da transposição: (204, 10)\n",
      "shape do array target: (204,)\n"
     ]
    }
   ],
   "source": [
    "#série completa, com sazonalidade e em nível\n",
    "#seas_icms_ts = seas_icms.seasadj\n",
    "X_data, Y_data = cria_features_target(l_icms_ts, verbose=1)"
   ]
  },
  {
   "cell_type": "code",
   "execution_count": 23,
   "metadata": {},
   "outputs": [],
   "source": [
    "#print(X_data[0])\n",
    "#print(Y_data[0])\n",
    "#print(X_data[X_data.shape[0]-1])\n",
    "#print(Y_data[X_data.shape[0]-1])"
   ]
  },
  {
   "cell_type": "markdown",
   "metadata": {},
   "source": [
    "#### Normalização dos Dados\n",
    "Serão normalizados usando-se min-max. Apenas as features, a variável target não será normalizada. Os dados serão dividos em treno, validação e teste para a normalização, de modo que o fit seja feito somente nos dados de treino, aumentando-se assim a probabilidade de generalização do modelo."
   ]
  },
  {
   "cell_type": "code",
   "execution_count": 24,
   "metadata": {},
   "outputs": [
    {
     "name": "stdout",
     "output_type": "stream",
     "text": [
      "(180, 10) (12, 10) (12, 10)\n"
     ]
    }
   ],
   "source": [
    "X_train = X_data[:-24]\n",
    "X_val = X_data[-24:-12]\n",
    "X_test = X_data[-12:]\n",
    "print(X_train.shape, X_val.shape, X_test.shape)\n",
    "#Y_train = Y_data[:-24]\n",
    "#Y_val = Y_data[-24:-12]\n",
    "#Y_test = Y_data[-12:]\n",
    "#print(Y_train.shape, Y_val.shape, Y_test.shape)"
   ]
  },
  {
   "cell_type": "code",
   "execution_count": 25,
   "metadata": {},
   "outputs": [
    {
     "name": "stdout",
     "output_type": "stream",
     "text": [
      "numéricas [0, 1, 2, 3, 4, 5, 6, 7, 8, 9]\n",
      "ColumnTransformer(transformers=[('min-max', MinMaxScaler(),\n",
      "                                 [0, 1, 2, 3, 4, 5, 6, 7, 8, 9])],\n",
      "                  verbose=True)\n",
      "[ColumnTransformer] ....... (1 of 1) Processing min-max, total=   0.0s\n",
      "(180, 10)\n",
      "(12, 10)\n",
      "(12, 10)\n"
     ]
    }
   ],
   "source": [
    "from sklearn.preprocessing import MinMaxScaler\n",
    "from sklearn.compose import ColumnTransformer\n",
    "# índice dos atributos numéricos\n",
    "num_atrib = list(range(10))\n",
    "print('numéricas', num_atrib)\n",
    "\n",
    "enc_x = ColumnTransformer([('min-max',MinMaxScaler(), num_atrib)], verbose=True)\n",
    "\n",
    "print(enc_x)\n",
    "X_train_std = enc_x.fit_transform(X_train)\n",
    "X_val_std = enc_x.transform(X_val)\n",
    "X_test_std = enc_x.transform(X_test)\n",
    "\n",
    "print(X_train_std.shape)\n",
    "print(X_val_std.shape)\n",
    "print(X_test_std.shape)\n",
    "\n",
    "#enc_y = MinMaxScaler()\n",
    "\n",
    "#print(enc_y)\n",
    "#Y_train_std = enc_y.fit_transform(Y_train.reshape(Y_train.shape[0], 1))\n",
    "#Y_val_std = enc_y.transform(Y_val.reshape(12,1))\n",
    "#Y_test_std = enc_y.transform(Y_test.reshape(12,1))\n",
    "\n",
    "#print(Y_train_std.shape)\n",
    "#print(Y_val_std.shape)\n",
    "#print(Y_test_std.shape)"
   ]
  },
  {
   "cell_type": "markdown",
   "metadata": {},
   "source": [
    "# Modelo 1 mês\n",
    "Neste modelo cada mês será previsto pelos dados do mês anterior"
   ]
  },
  {
   "cell_type": "markdown",
   "metadata": {},
   "source": [
    "#### Criando as janelas de 12 meses e reshape para LSTM. A arrecadação de cada mês será prevista pela arrecadação dos 12 meses anteriores."
   ]
  },
  {
   "cell_type": "code",
   "execution_count": 26,
   "metadata": {},
   "outputs": [
    {
     "name": "stdout",
     "output_type": "stream",
     "text": [
      "(204, 10, 1)\n"
     ]
    }
   ],
   "source": [
    "X_data_jn = np.concatenate((X_train_std, X_val_std, X_test_std), axis = 0)\n",
    "X_data_jn = X_data_jn.reshape(X_data_jn.shape[0],10,1)\n",
    "print(X_data_jn.shape)"
   ]
  },
  {
   "cell_type": "code",
   "execution_count": 27,
   "metadata": {},
   "outputs": [],
   "source": [
    "def janelamento_1_mes(X, Y, verbose=0):\n",
    "    X_exp = np.roll(X, 1, axis=0)\n",
    "    X_exp_cut = X_exp[1:,:,:]#.transpose(0,2,1)\n",
    "    Y_cut = Y[1:]\n",
    "    if verbose==1:\n",
    "        print('shape das features janeladas:', X_exp.shape)\n",
    "        print('shape das features janeladas pós poda e transposição:', X_exp_cut.shape)\n",
    "        print('shape do array target pós poda:', Y_cut.shape)\n",
    "    return X_exp_cut, Y_cut"
   ]
  },
  {
   "cell_type": "code",
   "execution_count": 28,
   "metadata": {},
   "outputs": [],
   "source": [
    "X_data_exp_cut1, Y_data_cut1 = janelamento_1_mes(X_data_jn, Y_data, verbose=0)"
   ]
  },
  {
   "cell_type": "code",
   "execution_count": 29,
   "metadata": {},
   "outputs": [
    {
     "data": {
      "text/plain": [
       "((203, 10, 1), (203,))"
      ]
     },
     "execution_count": 29,
     "metadata": {},
     "output_type": "execute_result"
    }
   ],
   "source": [
    "X_data_exp_cut1.shape, Y_data_cut1.shape"
   ]
  },
  {
   "cell_type": "code",
   "execution_count": 30,
   "metadata": {},
   "outputs": [
    {
     "data": {
      "text/plain": [
       "array([[0.15676854],\n",
       "       [0.05127581],\n",
       "       [0.03750632],\n",
       "       [0.01846507],\n",
       "       [0.00891757],\n",
       "       [0.06195622],\n",
       "       [0.09248639],\n",
       "       [0.055686  ],\n",
       "       [0.        ],\n",
       "       [0.        ]])"
      ]
     },
     "execution_count": 30,
     "metadata": {},
     "output_type": "execute_result"
    }
   ],
   "source": [
    "X_data_exp_cut1[0]"
   ]
  },
  {
   "cell_type": "code",
   "execution_count": 31,
   "metadata": {},
   "outputs": [
    {
     "data": {
      "text/plain": [
       "21.905893928886627"
      ]
     },
     "execution_count": 31,
     "metadata": {},
     "output_type": "execute_result"
    }
   ],
   "source": [
    "Y_data_cut1[0]"
   ]
  },
  {
   "cell_type": "code",
   "execution_count": 32,
   "metadata": {},
   "outputs": [
    {
     "data": {
      "text/plain": [
       "23.425056612309927"
      ]
     },
     "execution_count": 32,
     "metadata": {},
     "output_type": "execute_result"
    }
   ],
   "source": [
    "Y_data_cut1[Y_data_cut1.shape[0]-1]"
   ]
  },
  {
   "cell_type": "code",
   "execution_count": 33,
   "metadata": {},
   "outputs": [
    {
     "data": {
      "text/plain": [
       "array([[1.1290071 ],\n",
       "       [1.08392306],\n",
       "       [1.03644518],\n",
       "       [0.97493142],\n",
       "       [0.80062037],\n",
       "       [1.07168997],\n",
       "       [1.15874891],\n",
       "       [1.13667195],\n",
       "       [1.05608977],\n",
       "       [1.04449814]])"
      ]
     },
     "execution_count": 33,
     "metadata": {},
     "output_type": "execute_result"
    }
   ],
   "source": [
    "X_data_exp_cut1[Y_data_cut1.shape[0]-1]"
   ]
  },
  {
   "cell_type": "markdown",
   "metadata": {},
   "source": [
    "#### Separando novamente em treino, validação e teste"
   ]
  },
  {
   "cell_type": "code",
   "execution_count": 34,
   "metadata": {},
   "outputs": [
    {
     "name": "stdout",
     "output_type": "stream",
     "text": [
      "(179, 10, 1) (12, 10, 1) (12, 10, 1)\n",
      "(179,) (12,) (12,)\n"
     ]
    }
   ],
   "source": [
    "x_train1 = X_data_exp_cut1[:-24]\n",
    "x_val1 = X_data_exp_cut1[-24:-12]\n",
    "x_test1 = X_data_exp_cut1[-12:]\n",
    "print(x_train1.shape, x_val1.shape, x_test1.shape)\n",
    "y_train1 = Y_data_cut1[:-24]\n",
    "y_val1 = Y_data_cut1[-24:-12]\n",
    "y_test1 = Y_data_cut1[-12:]\n",
    "print(y_train1.shape, y_val1.shape, y_test1.shape)"
   ]
  },
  {
   "cell_type": "markdown",
   "metadata": {},
   "source": [
    "### Criando o modelo LSTM "
   ]
  },
  {
   "cell_type": "code",
   "execution_count": 35,
   "metadata": {},
   "outputs": [],
   "source": [
    "# importando as bibliotecas do Keras\n",
    "from tensorflow.keras.models import Sequential\n",
    "from tensorflow.keras.layers import LSTM, Dense, Dropout\n",
    "from tensorflow.keras.callbacks import ReduceLROnPlateau, EarlyStopping\n",
    "from tensorflow.keras.optimizers import Adam"
   ]
  },
  {
   "cell_type": "markdown",
   "metadata": {},
   "source": [
    "## Arquitetura da Rede - Arquitetura Larga"
   ]
  },
  {
   "cell_type": "code",
   "execution_count": 36,
   "metadata": {},
   "outputs": [],
   "source": [
    "rlrop1 = ReduceLROnPlateau(monitor='val_loss', factor=0.1, patience=10, verbose=1)\n",
    "early_stop1 = EarlyStopping(monitor='val_loss', patience=100, verbose=1, \n",
    "                           restore_best_weights=True)"
   ]
  },
  {
   "cell_type": "code",
   "execution_count": 37,
   "metadata": {},
   "outputs": [],
   "source": [
    "# Épocas e tamanho do lote\n",
    "EPOCHS = 1000\n",
    "BATCH = 4\n",
    "NEURONIOS = 1200\n",
    "LR = 1e-5\n",
    "DROPOUT = 0.2\n",
    "\n",
    "# Imstanciação do modelo\n",
    "model = Sequential()\n",
    "\n",
    "# Adicionar camada LSTM \n",
    "model.add(LSTM(activation='tanh', dropout=DROPOUT,\n",
    "        input_shape = (10, 1), return_sequences = False,\n",
    "        units = NEURONIOS))\n",
    "\n",
    "# Adicionar a camada de saída com 1 neurônio linear\n",
    "model.add(Dense(\n",
    "        units = 1,\n",
    "        activation = 'linear'))\n",
    "# a learning rate padrão do Adam é 0.001\n",
    "model.compile(loss = 'mape', optimizer = Adam(learning_rate=LR))"
   ]
  },
  {
   "cell_type": "code",
   "execution_count": 38,
   "metadata": {},
   "outputs": [
    {
     "name": "stdout",
     "output_type": "stream",
     "text": [
      "Model: \"sequential\"\n",
      "_________________________________________________________________\n",
      "Layer (type)                 Output Shape              Param #   \n",
      "=================================================================\n",
      "lstm (LSTM)                  (None, 1200)              5769600   \n",
      "_________________________________________________________________\n",
      "dense (Dense)                (None, 1)                 1201      \n",
      "=================================================================\n",
      "Total params: 5,770,801\n",
      "Trainable params: 5,770,801\n",
      "Non-trainable params: 0\n",
      "_________________________________________________________________\n"
     ]
    }
   ],
   "source": [
    "model.summary()"
   ]
  },
  {
   "cell_type": "code",
   "execution_count": 39,
   "metadata": {
    "scrolled": true
   },
   "outputs": [
    {
     "name": "stdout",
     "output_type": "stream",
     "text": [
      "Epoch 1/1000\n",
      "45/45 [==============================] - 6s 126ms/step - loss: 99.6932 - val_loss: 98.7136\n",
      "Epoch 2/1000\n",
      "45/45 [==============================] - 5s 116ms/step - loss: 98.4810 - val_loss: 96.0179\n",
      "Epoch 3/1000\n",
      "45/45 [==============================] - 5s 116ms/step - loss: 95.1647 - val_loss: 85.0309\n",
      "Epoch 4/1000\n",
      "45/45 [==============================] - 5s 118ms/step - loss: 70.8693 - val_loss: 1.8914\n",
      "Epoch 5/1000\n",
      "45/45 [==============================] - 5s 114ms/step - loss: 22.1611 - val_loss: 5.8495\n",
      "Epoch 6/1000\n",
      "45/45 [==============================] - 5s 121ms/step - loss: 8.3186 - val_loss: 0.1620\n",
      "Epoch 7/1000\n",
      "45/45 [==============================] - 6s 123ms/step - loss: 2.7348 - val_loss: 0.6376\n",
      "Epoch 8/1000\n",
      "45/45 [==============================] - 6s 123ms/step - loss: 1.6856 - val_loss: 0.6154\n",
      "Epoch 9/1000\n",
      "45/45 [==============================] - 5s 116ms/step - loss: 1.4135 - val_loss: 0.8834\n",
      "Epoch 10/1000\n",
      "45/45 [==============================] - 5s 119ms/step - loss: 1.1976 - val_loss: 0.2406\n",
      "Epoch 11/1000\n",
      "45/45 [==============================] - 5s 120ms/step - loss: 1.2439 - val_loss: 1.1913\n",
      "Epoch 12/1000\n",
      "45/45 [==============================] - 6s 131ms/step - loss: 1.0971 - val_loss: 1.1265\n",
      "Epoch 13/1000\n",
      "45/45 [==============================] - 6s 132ms/step - loss: 1.0525 - val_loss: 0.6554\n",
      "Epoch 14/1000\n",
      "45/45 [==============================] - 6s 129ms/step - loss: 1.0764 - val_loss: 1.0999\n",
      "Epoch 15/1000\n",
      "45/45 [==============================] - 6s 122ms/step - loss: 1.0771 - val_loss: 0.8160\n",
      "Epoch 16/1000\n",
      "45/45 [==============================] - ETA: 0s - loss: 0.9790\n",
      "Epoch 00016: ReduceLROnPlateau reducing learning rate to 9.999999747378752e-07.\n",
      "45/45 [==============================] - 5s 113ms/step - loss: 0.9790 - val_loss: 0.7762\n",
      "Epoch 17/1000\n",
      "45/45 [==============================] - 5s 116ms/step - loss: 0.8738 - val_loss: 1.0719\n",
      "Epoch 18/1000\n",
      "45/45 [==============================] - 5s 119ms/step - loss: 0.9282 - val_loss: 1.0378\n",
      "Epoch 19/1000\n",
      "45/45 [==============================] - 5s 115ms/step - loss: 0.9630 - val_loss: 0.9130\n",
      "Epoch 20/1000\n",
      "45/45 [==============================] - 5s 118ms/step - loss: 0.9128 - val_loss: 1.0578\n",
      "Epoch 21/1000\n",
      "45/45 [==============================] - 5s 113ms/step - loss: 0.9279 - val_loss: 0.9718\n",
      "Epoch 22/1000\n",
      "45/45 [==============================] - 6s 123ms/step - loss: 0.7876 - val_loss: 0.9385\n",
      "Epoch 23/1000\n",
      "45/45 [==============================] - 5s 112ms/step - loss: 0.9410 - val_loss: 0.9397\n",
      "Epoch 24/1000\n",
      "45/45 [==============================] - 5s 112ms/step - loss: 0.9436 - val_loss: 1.0206\n",
      "Epoch 25/1000\n",
      "45/45 [==============================] - 5s 114ms/step - loss: 0.8477 - val_loss: 1.0078\n",
      "Epoch 26/1000\n",
      "45/45 [==============================] - ETA: 0s - loss: 0.8730\n",
      "Epoch 00026: ReduceLROnPlateau reducing learning rate to 9.999999974752428e-08.\n",
      "45/45 [==============================] - 5s 117ms/step - loss: 0.8730 - val_loss: 1.0958\n",
      "Epoch 27/1000\n",
      "45/45 [==============================] - 5s 114ms/step - loss: 0.8562 - val_loss: 1.0761\n",
      "Epoch 28/1000\n",
      "45/45 [==============================] - 5s 110ms/step - loss: 0.9745 - val_loss: 1.0780\n",
      "Epoch 29/1000\n",
      "45/45 [==============================] - 5s 121ms/step - loss: 0.9021 - val_loss: 1.0499\n",
      "Epoch 30/1000\n",
      "45/45 [==============================] - 5s 118ms/step - loss: 0.9083 - val_loss: 1.0421\n",
      "Epoch 31/1000\n",
      "45/45 [==============================] - 5s 117ms/step - loss: 0.8814 - val_loss: 1.0230\n",
      "Epoch 32/1000\n",
      "45/45 [==============================] - 5s 114ms/step - loss: 0.8584 - val_loss: 1.0096\n",
      "Epoch 33/1000\n",
      "45/45 [==============================] - 5s 117ms/step - loss: 0.8767 - val_loss: 1.0133\n",
      "Epoch 34/1000\n",
      "45/45 [==============================] - 5s 117ms/step - loss: 0.9236 - val_loss: 0.9996\n",
      "Epoch 35/1000\n",
      "45/45 [==============================] - 5s 114ms/step - loss: 0.8451 - val_loss: 0.9880\n",
      "Epoch 36/1000\n",
      "45/45 [==============================] - ETA: 0s - loss: 0.8681\n",
      "Epoch 00036: ReduceLROnPlateau reducing learning rate to 1.0000000116860975e-08.\n",
      "45/45 [==============================] - 5s 119ms/step - loss: 0.8681 - val_loss: 0.9915\n",
      "Epoch 37/1000\n",
      "45/45 [==============================] - 6s 133ms/step - loss: 0.8954 - val_loss: 0.9922\n",
      "Epoch 38/1000\n",
      "45/45 [==============================] - 7s 152ms/step - loss: 0.9233 - val_loss: 0.9912\n",
      "Epoch 39/1000\n",
      "45/45 [==============================] - 7s 146ms/step - loss: 0.8064 - val_loss: 0.9894\n",
      "Epoch 40/1000\n",
      "45/45 [==============================] - 9s 211ms/step - loss: 0.8570 - val_loss: 0.9898\n",
      "Epoch 41/1000\n",
      "45/45 [==============================] - 10s 214ms/step - loss: 0.9113 - val_loss: 0.9895\n",
      "Epoch 42/1000\n",
      "45/45 [==============================] - 9s 210ms/step - loss: 0.8260 - val_loss: 0.9890\n",
      "Epoch 43/1000\n",
      "45/45 [==============================] - 9s 201ms/step - loss: 0.9132 - val_loss: 0.9894\n",
      "Epoch 44/1000\n",
      "45/45 [==============================] - 9s 209ms/step - loss: 0.8872 - val_loss: 0.9895\n",
      "Epoch 45/1000\n",
      "45/45 [==============================] - 10s 221ms/step - loss: 0.8714 - val_loss: 0.9883\n",
      "Epoch 46/1000\n",
      "45/45 [==============================] - ETA: 0s - loss: 0.8870\n",
      "Epoch 00046: ReduceLROnPlateau reducing learning rate to 9.999999939225292e-10.\n",
      "45/45 [==============================] - 10s 217ms/step - loss: 0.8870 - val_loss: 0.9893\n",
      "Epoch 47/1000\n",
      "45/45 [==============================] - 9s 208ms/step - loss: 0.8687 - val_loss: 0.9893\n",
      "Epoch 48/1000\n",
      "45/45 [==============================] - 10s 215ms/step - loss: 0.8007 - val_loss: 0.9893\n",
      "Epoch 49/1000\n",
      "45/45 [==============================] - 10s 213ms/step - loss: 0.8899 - val_loss: 0.9893\n",
      "Epoch 50/1000\n",
      "45/45 [==============================] - 10s 221ms/step - loss: 0.7922 - val_loss: 0.9893\n",
      "Epoch 51/1000\n",
      "45/45 [==============================] - 10s 220ms/step - loss: 0.8960 - val_loss: 0.9893\n",
      "Epoch 52/1000\n",
      "45/45 [==============================] - 10s 227ms/step - loss: 0.8758 - val_loss: 0.9893\n",
      "Epoch 53/1000\n",
      "45/45 [==============================] - 10s 228ms/step - loss: 0.8979 - val_loss: 0.9893\n",
      "Epoch 54/1000\n",
      "45/45 [==============================] - 10s 218ms/step - loss: 0.8689 - val_loss: 0.9893\n",
      "Epoch 55/1000\n",
      "45/45 [==============================] - 10s 215ms/step - loss: 0.9013 - val_loss: 0.9892\n",
      "Epoch 56/1000\n",
      "45/45 [==============================] - ETA: 0s - loss: 0.9243\n",
      "Epoch 00056: ReduceLROnPlateau reducing learning rate to 9.999999717180686e-11.\n",
      "45/45 [==============================] - 10s 216ms/step - loss: 0.9243 - val_loss: 0.9892\n",
      "Epoch 57/1000\n",
      "45/45 [==============================] - 10s 212ms/step - loss: 0.8054 - val_loss: 0.9892\n",
      "Epoch 58/1000\n",
      "45/45 [==============================] - 9s 207ms/step - loss: 0.8948 - val_loss: 0.9892\n",
      "Epoch 59/1000\n",
      "45/45 [==============================] - 10s 214ms/step - loss: 0.8766 - val_loss: 0.9892\n",
      "Epoch 60/1000\n",
      "45/45 [==============================] - 10s 218ms/step - loss: 0.8963 - val_loss: 0.9892\n",
      "Epoch 61/1000\n",
      "45/45 [==============================] - 10s 222ms/step - loss: 0.8605 - val_loss: 0.9892\n",
      "Epoch 62/1000\n",
      "45/45 [==============================] - 10s 218ms/step - loss: 1.0043 - val_loss: 0.9892\n",
      "Epoch 63/1000\n",
      "45/45 [==============================] - 10s 212ms/step - loss: 0.9526 - val_loss: 0.9892\n",
      "Epoch 64/1000\n",
      "45/45 [==============================] - 10s 218ms/step - loss: 0.8455 - val_loss: 0.9892\n",
      "Epoch 65/1000\n",
      "45/45 [==============================] - 10s 223ms/step - loss: 0.9159 - val_loss: 0.9892\n",
      "Epoch 66/1000\n",
      "45/45 [==============================] - ETA: 0s - loss: 0.8875\n",
      "Epoch 00066: ReduceLROnPlateau reducing learning rate to 9.99999943962493e-12.\n",
      "45/45 [==============================] - 10s 218ms/step - loss: 0.8875 - val_loss: 0.9892\n",
      "Epoch 67/1000\n",
      "45/45 [==============================] - 10s 214ms/step - loss: 0.8609 - val_loss: 0.9892\n",
      "Epoch 68/1000\n",
      "45/45 [==============================] - 10s 228ms/step - loss: 0.8356 - val_loss: 0.9892\n",
      "Epoch 69/1000\n",
      "45/45 [==============================] - 10s 215ms/step - loss: 0.9588 - val_loss: 0.9892\n",
      "Epoch 70/1000\n",
      "45/45 [==============================] - 9s 211ms/step - loss: 0.8790 - val_loss: 0.9892\n",
      "Epoch 71/1000\n",
      "45/45 [==============================] - 9s 206ms/step - loss: 0.8866 - val_loss: 0.9892\n"
     ]
    },
    {
     "name": "stdout",
     "output_type": "stream",
     "text": [
      "Epoch 72/1000\n",
      "45/45 [==============================] - 9s 205ms/step - loss: 0.9031 - val_loss: 0.9892\n",
      "Epoch 73/1000\n",
      "45/45 [==============================] - 9s 210ms/step - loss: 0.9388 - val_loss: 0.9892\n",
      "Epoch 74/1000\n",
      "45/45 [==============================] - 10s 222ms/step - loss: 0.8572 - val_loss: 0.9892\n",
      "Epoch 75/1000\n",
      "45/45 [==============================] - 10s 221ms/step - loss: 0.8547 - val_loss: 0.9892\n",
      "Epoch 76/1000\n",
      "45/45 [==============================] - ETA: 0s - loss: 0.8684\n",
      "Epoch 00076: ReduceLROnPlateau reducing learning rate to 9.999999092680235e-13.\n",
      "45/45 [==============================] - 10s 212ms/step - loss: 0.8684 - val_loss: 0.9892\n",
      "Epoch 77/1000\n",
      "45/45 [==============================] - 10s 220ms/step - loss: 0.9408 - val_loss: 0.9892\n",
      "Epoch 78/1000\n",
      "45/45 [==============================] - 10s 226ms/step - loss: 0.8981 - val_loss: 0.9892\n",
      "Epoch 79/1000\n",
      "45/45 [==============================] - 10s 215ms/step - loss: 0.8906 - val_loss: 0.9892\n",
      "Epoch 80/1000\n",
      "45/45 [==============================] - 10s 213ms/step - loss: 0.8259 - val_loss: 0.9892\n",
      "Epoch 81/1000\n",
      "45/45 [==============================] - 10s 225ms/step - loss: 0.8027 - val_loss: 0.9892\n",
      "Epoch 82/1000\n",
      "45/45 [==============================] - 10s 220ms/step - loss: 0.9818 - val_loss: 0.9892\n",
      "Epoch 83/1000\n",
      "45/45 [==============================] - 10s 216ms/step - loss: 0.8547 - val_loss: 0.9892\n",
      "Epoch 84/1000\n",
      "45/45 [==============================] - 9s 209ms/step - loss: 0.9440 - val_loss: 0.9892\n",
      "Epoch 85/1000\n",
      "45/45 [==============================] - 9s 208ms/step - loss: 0.9559 - val_loss: 0.9892\n",
      "Epoch 86/1000\n",
      "45/45 [==============================] - ETA: 0s - loss: 0.8904\n",
      "Epoch 00086: ReduceLROnPlateau reducing learning rate to 9.9999988758398e-14.\n",
      "45/45 [==============================] - 11s 236ms/step - loss: 0.8904 - val_loss: 0.9892\n",
      "Epoch 87/1000\n",
      "45/45 [==============================] - 10s 232ms/step - loss: 0.9041 - val_loss: 0.9892\n",
      "Epoch 88/1000\n",
      "45/45 [==============================] - 12s 261ms/step - loss: 0.9478 - val_loss: 0.9892\n",
      "Epoch 89/1000\n",
      "45/45 [==============================] - 11s 254ms/step - loss: 0.9277 - val_loss: 0.9892\n",
      "Epoch 90/1000\n",
      "45/45 [==============================] - 10s 229ms/step - loss: 0.8261 - val_loss: 0.9892\n",
      "Epoch 91/1000\n",
      "45/45 [==============================] - 13s 281ms/step - loss: 0.9544 - val_loss: 0.9892\n",
      "Epoch 92/1000\n",
      "45/45 [==============================] - 14s 302ms/step - loss: 0.8916 - val_loss: 0.9892\n",
      "Epoch 93/1000\n",
      "45/45 [==============================] - 12s 276ms/step - loss: 0.8825 - val_loss: 0.9892\n",
      "Epoch 94/1000\n",
      "45/45 [==============================] - 16s 349ms/step - loss: 0.9044 - val_loss: 0.9892\n",
      "Epoch 95/1000\n",
      "45/45 [==============================] - 13s 296ms/step - loss: 0.9196 - val_loss: 0.9892\n",
      "Epoch 96/1000\n",
      "45/45 [==============================] - ETA: 0s - loss: 0.9431\n",
      "Epoch 00096: ReduceLROnPlateau reducing learning rate to 9.999999146890344e-15.\n",
      "45/45 [==============================] - 14s 321ms/step - loss: 0.9431 - val_loss: 0.9892\n",
      "Epoch 97/1000\n",
      "45/45 [==============================] - 12s 260ms/step - loss: 0.8685 - val_loss: 0.9892\n",
      "Epoch 98/1000\n",
      "45/45 [==============================] - 11s 240ms/step - loss: 0.8162 - val_loss: 0.9892\n",
      "Epoch 99/1000\n",
      "45/45 [==============================] - 12s 262ms/step - loss: 0.9128 - val_loss: 0.9892\n",
      "Epoch 100/1000\n",
      "45/45 [==============================] - 12s 273ms/step - loss: 1.0012 - val_loss: 0.9892\n",
      "Epoch 101/1000\n",
      "45/45 [==============================] - 13s 285ms/step - loss: 0.9174 - val_loss: 0.9892\n",
      "Epoch 102/1000\n",
      "45/45 [==============================] - 10s 226ms/step - loss: 0.9145 - val_loss: 0.9892\n",
      "Epoch 103/1000\n",
      "45/45 [==============================] - 11s 234ms/step - loss: 0.9189 - val_loss: 0.9892\n",
      "Epoch 104/1000\n",
      "45/45 [==============================] - 12s 262ms/step - loss: 0.9093 - val_loss: 0.9892\n",
      "Epoch 105/1000\n",
      "45/45 [==============================] - 16s 352ms/step - loss: 0.9123 - val_loss: 0.9892\n",
      "Epoch 106/1000\n",
      "45/45 [==============================] - ETA: 0s - loss: 0.8868\n",
      "Epoch 00106: ReduceLROnPlateau reducing learning rate to 9.999998977483753e-16.\n",
      "Restoring model weights from the end of the best epoch.\n",
      "45/45 [==============================] - 16s 350ms/step - loss: 0.8868 - val_loss: 0.9892\n",
      "Epoch 00106: early stopping\n"
     ]
    }
   ],
   "source": [
    "# History object for plotting our model loss by epoch\n",
    "history1 = model.fit(x_train1, y_train1, batch_size = BATCH, \n",
    "                    epochs = EPOCHS, validation_data = (x_val1, y_val1),\n",
    "                    callbacks = [rlrop1, early_stop1])"
   ]
  },
  {
   "cell_type": "code",
   "execution_count": 40,
   "metadata": {},
   "outputs": [
    {
     "data": {
      "image/png": "[encoded data removed]",
      "text/plain": [
       "<Figure size 720x504 with 1 Axes>"
      ]
     },
     "metadata": {
      "needs_background": "light"
     },
     "output_type": "display_data"
    }
   ],
   "source": [
    "# Loss History\n",
    "fig = plt.figure(figsize=(10, 7))\n",
    "plt.plot(history1.history['loss'])\n",
    "plt.plot(history1.history['val_loss'])\n",
    "plt.title('Model Loss')\n",
    "plt.ylabel('Loss')\n",
    "plt.xlabel('Epoch')\n",
    "plt.legend(['Train', 'Val'], loc='upper right')\n",
    "plt.show()"
   ]
  },
  {
   "cell_type": "markdown",
   "metadata": {},
   "source": [
    "### Previsão Multistep 12 meses em Validação\n",
    "Para ficar adequado à realidade, não podemos usar os dados de 2022 para prever 2022. Portanto, a previsão de 2022 será feita do moto *multistep*, isto é, o mês de janeiro/2022 será previsto usando-se os dados de arrecadação de janeiro a dezembro de 2021; o mês de fevereiro/2022 será previsto usando-se os dados de fevereiro a dezembro de 2021 mais a previsão feita para o mês de janeiro/2022; o mês de março/2022 será previsto usando-se os dados de março a dezembro de 2021 mais os meses de janeiro e fevereiro de 2022 previstos nos passos anteriores. E assim por diante, até que a previsão de dezembro/2022 será feita usando-se os dados de dezembro de 2021 mais as previsões de janeiro a novembro de 2022 feitas nos passos anteriores."
   ]
  },
  {
   "cell_type": "markdown",
   "metadata": {},
   "source": [
    "#### Remove os 12 últimos valores que serão previstos e cria as séries novamente"
   ]
  },
  {
   "cell_type": "code",
   "execution_count": 41,
   "metadata": {},
   "outputs": [
    {
     "name": "stdout",
     "output_type": "stream",
     "text": [
      "(216,)\n",
      "(192,)\n"
     ]
    }
   ],
   "source": [
    "# remove\n",
    "serie_multi1 = l_icms_ts[:-24]\n",
    "print(l_icms_ts.shape)\n",
    "print(serie_multi1.shape)"
   ]
  },
  {
   "cell_type": "code",
   "execution_count": 42,
   "metadata": {},
   "outputs": [
    {
     "name": "stdout",
     "output_type": "stream",
     "text": [
      "0 [[1.1825358e+10]]\n",
      "1 [[1.179947e+10]]\n",
      "2 [[1.1850035e+10]]\n",
      "3 [[1.1863333e+10]]\n",
      "4 [[1.1862678e+10]]\n",
      "5 [[1.1866185e+10]]\n",
      "6 [[1.1867203e+10]]\n",
      "7 [[1.1872296e+10]]\n",
      "8 [[1.1870463e+10]]\n",
      "9 [[1.1870078e+10]]\n",
      "10 [[1.1870938e+10]]\n",
      "11 [[1.1870395e+10]]\n"
     ]
    }
   ],
   "source": [
    "for i in range(12):\n",
    "    # cria as séries\n",
    "    X_multi1, Y_multi1 = cria_features_target(serie_multi1, verbose=0)\n",
    "\n",
    "    # Faz a normalização usando o modelo fitado na normalização anterior\n",
    "    X_multi_std1 = enc_x.transform(X_multi1)\n",
    "    X_multi_std1 = X_multi_std1.reshape(X_multi_std1.shape[0],10,1)\n",
    "\n",
    "    # Faz o janelamento das séries\n",
    "    x_multi1, y_multi1 = janelamento_1_mes(X_multi_std1, Y_multi1, verbose=0)\n",
    "\n",
    "    # Faz a predição da arrecadação do mês\n",
    "    #y_pred_multi = np.mean(model.predict(x_multi[-1:]), axis=1)#[:,0].ravel()\n",
    "    y_pred_multi1 = model.predict(x_multi1[-1:])#[:,0].ravel()\n",
    "    print(i, np.exp(y_pred_multi1))\n",
    "\n",
    "    #### Adicionar o valor previsto à série e fazer o novo janelamento\n",
    "    serie_multi1 = pd.Series(np.append(serie_multi1, y_pred_multi1))"
   ]
  },
  {
   "cell_type": "code",
   "execution_count": 43,
   "metadata": {},
   "outputs": [],
   "source": [
    "Y_pred_multi1 = np.exp(pd.Series(serie_multi1[-12:]))\n",
    "Y_pred_multi1.index = icms_val.index"
   ]
  },
  {
   "cell_type": "code",
   "execution_count": 44,
   "metadata": {},
   "outputs": [
    {
     "data": {
      "text/plain": [
       "date\n",
       "2019-01-01    1.182536e+10\n",
       "2019-02-01    1.179947e+10\n",
       "2019-03-01    1.185004e+10\n",
       "2019-04-01    1.186333e+10\n",
       "2019-05-01    1.186268e+10\n",
       "2019-06-01    1.186618e+10\n",
       "2019-07-01    1.186720e+10\n",
       "2019-08-01    1.187230e+10\n",
       "2019-09-01    1.187046e+10\n",
       "2019-10-01    1.187008e+10\n",
       "2019-11-01    1.187094e+10\n",
       "2019-12-01    1.187039e+10\n",
       "dtype: float64"
      ]
     },
     "execution_count": 44,
     "metadata": {},
     "output_type": "execute_result"
    }
   ],
   "source": [
    "Y_pred_multi1"
   ]
  },
  {
   "cell_type": "code",
   "execution_count": 45,
   "metadata": {},
   "outputs": [
    {
     "data": {
      "text/plain": [
       "560821302.0490772"
      ]
     },
     "execution_count": 45,
     "metadata": {},
     "output_type": "execute_result"
    }
   ],
   "source": [
    "RMSE_lstm_multi1 = mean_squared_error(icms_val, Y_pred_multi1, squared=False)\n",
    "RMSE_lstm_multi1"
   ]
  },
  {
   "cell_type": "code",
   "execution_count": 46,
   "metadata": {},
   "outputs": [
    {
     "data": {
      "text/plain": [
       "0.03732290668944217"
      ]
     },
     "execution_count": 46,
     "metadata": {},
     "output_type": "execute_result"
    }
   ],
   "source": [
    "MAPE_lstm_multi1 = mean_absolute_percentage_error(icms_val, Y_pred_multi1)\n",
    "MAPE_lstm_multi1"
   ]
  },
  {
   "cell_type": "code",
   "execution_count": 47,
   "metadata": {},
   "outputs": [],
   "source": [
    "previsoes['nome'].append('RNN-LSTM-1-mês-larga')\n",
    "previsoes['modelo'].append(model)\n",
    "previsoes['previsoes'].append(Y_pred_multi1)\n",
    "\n",
    "previsoes['rmse'].append(RMSE_lstm_multi1)\n",
    "\n",
    "previsoes['mape'].append(MAPE_lstm_multi1)\n",
    "\n",
    "previsoes['erro relativo'].append([erro_relativo(prev,real) \n",
    "                                   for prev,real in zip(Y_pred_multi1\n",
    "                                                        , icms_val)])"
   ]
  },
  {
   "cell_type": "markdown",
   "metadata": {},
   "source": [
    "## Arquitetura da Rede - Arquitetura Multicamada"
   ]
  },
  {
   "cell_type": "code",
   "execution_count": 48,
   "metadata": {},
   "outputs": [],
   "source": [
    "rlrop3 = ReduceLROnPlateau(monitor='val_loss', factor=0.1, patience=25, verbose=1)\n",
    "early_stop3 = EarlyStopping(monitor='val_loss', patience=100, verbose=1, \n",
    "                           restore_best_weights=True)"
   ]
  },
  {
   "cell_type": "code",
   "execution_count": 49,
   "metadata": {},
   "outputs": [],
   "source": [
    "# Épocas e tamanho do lote\n",
    "EPOCHS3 = 1000\n",
    "BATCH3 = 8\n",
    "NEURONIOS3 = 600\n",
    "LR3 = 1e-5\n",
    "DROPOUT3 = 0.25\n",
    "\n",
    "# Imstanciação do modelo\n",
    "model3 = Sequential()\n",
    "\n",
    "# Adicionar camada LSTM \n",
    "model3.add(LSTM(activation='tanh', dropout=DROPOUT3,\n",
    "        input_shape = (10, 1), return_sequences = True,\n",
    "        units = NEURONIOS3))\n",
    "\n",
    "# Adicionar camada LSTM \n",
    "model3.add(LSTM(activation='tanh', dropout=DROPOUT3,\n",
    "        input_shape = (10, 1), return_sequences = True,\n",
    "        units = NEURONIOS3))\n",
    "\n",
    "# Adicionar camada LSTM \n",
    "model3.add(LSTM(activation='tanh', dropout=DROPOUT3,\n",
    "        input_shape = (10, 1), return_sequences = False,\n",
    "        units = NEURONIOS3))\n",
    "\n",
    "\n",
    "# Adicionar a camada de saída com 1 neurônio linear\n",
    "model3.add(Dense(\n",
    "        units = 1,\n",
    "        activation = 'linear'))\n",
    "# a learning rate padrão do Adam é 0.001\n",
    "model3.compile(loss = 'mape', optimizer = Adam(learning_rate=LR3))"
   ]
  },
  {
   "cell_type": "code",
   "execution_count": 50,
   "metadata": {},
   "outputs": [
    {
     "name": "stdout",
     "output_type": "stream",
     "text": [
      "Model: \"sequential_1\"\n",
      "_________________________________________________________________\n",
      "Layer (type)                 Output Shape              Param #   \n",
      "=================================================================\n",
      "lstm_1 (LSTM)                (None, 10, 600)           1444800   \n",
      "_________________________________________________________________\n",
      "lstm_2 (LSTM)                (None, 10, 600)           2882400   \n",
      "_________________________________________________________________\n",
      "lstm_3 (LSTM)                (None, 600)               2882400   \n",
      "_________________________________________________________________\n",
      "dense_1 (Dense)              (None, 1)                 601       \n",
      "=================================================================\n",
      "Total params: 7,210,201\n",
      "Trainable params: 7,210,201\n",
      "Non-trainable params: 0\n",
      "_________________________________________________________________\n"
     ]
    }
   ],
   "source": [
    "model3.summary()"
   ]
  },
  {
   "cell_type": "code",
   "execution_count": 51,
   "metadata": {
    "scrolled": true
   },
   "outputs": [
    {
     "name": "stdout",
     "output_type": "stream",
     "text": [
      "Epoch 1/1000\n",
      "23/23 [==============================] - 10s 449ms/step - loss: 99.8409 - val_loss: 99.4457\n",
      "Epoch 2/1000\n",
      "23/23 [==============================] - 7s 298ms/step - loss: 99.4145 - val_loss: 98.6404\n",
      "Epoch 3/1000\n",
      "23/23 [==============================] - 7s 306ms/step - loss: 98.6851 - val_loss: 97.0276\n",
      "Epoch 4/1000\n",
      "23/23 [==============================] - 7s 310ms/step - loss: 97.1298 - val_loss: 93.0692\n",
      "Epoch 5/1000\n",
      "23/23 [==============================] - 8s 337ms/step - loss: 92.5655 - val_loss: 80.5485\n",
      "Epoch 6/1000\n",
      "23/23 [==============================] - 5s 216ms/step - loss: 78.6083 - val_loss: 40.4147\n",
      "Epoch 7/1000\n",
      "23/23 [==============================] - 5s 205ms/step - loss: 41.8834 - val_loss: 5.5986\n",
      "Epoch 8/1000\n",
      "23/23 [==============================] - 4s 192ms/step - loss: 18.0899 - val_loss: 11.6947\n",
      "Epoch 9/1000\n",
      "23/23 [==============================] - 4s 189ms/step - loss: 12.3731 - val_loss: 5.9030\n",
      "Epoch 10/1000\n",
      "23/23 [==============================] - 5s 218ms/step - loss: 7.5929 - val_loss: 1.1990\n",
      "Epoch 11/1000\n",
      "23/23 [==============================] - 6s 270ms/step - loss: 4.8648 - val_loss: 0.8356\n",
      "Epoch 12/1000\n",
      "23/23 [==============================] - 6s 272ms/step - loss: 3.0847 - val_loss: 0.2068\n",
      "Epoch 13/1000\n",
      "23/23 [==============================] - 7s 286ms/step - loss: 2.4991 - val_loss: 0.5032\n",
      "Epoch 14/1000\n",
      "23/23 [==============================] - 6s 270ms/step - loss: 1.6379 - val_loss: 0.3507\n",
      "Epoch 15/1000\n",
      "23/23 [==============================] - 7s 305ms/step - loss: 1.5241 - val_loss: 0.3658\n",
      "Epoch 16/1000\n",
      "23/23 [==============================] - 6s 250ms/step - loss: 1.2953 - val_loss: 0.2488\n",
      "Epoch 17/1000\n",
      "23/23 [==============================] - 5s 209ms/step - loss: 1.0635 - val_loss: 0.6383\n",
      "Epoch 18/1000\n",
      "23/23 [==============================] - 5s 206ms/step - loss: 1.0324 - val_loss: 0.7941\n",
      "Epoch 19/1000\n",
      "23/23 [==============================] - 5s 233ms/step - loss: 0.9999 - val_loss: 0.8500\n",
      "Epoch 20/1000\n",
      "23/23 [==============================] - 5s 229ms/step - loss: 1.0187 - val_loss: 0.6513\n",
      "Epoch 21/1000\n",
      "23/23 [==============================] - 5s 217ms/step - loss: 0.9902 - val_loss: 1.1514\n",
      "Epoch 22/1000\n",
      "23/23 [==============================] - 5s 218ms/step - loss: 1.0012 - val_loss: 0.5673\n",
      "Epoch 23/1000\n",
      "23/23 [==============================] - 5s 211ms/step - loss: 0.8790 - val_loss: 0.4819\n",
      "Epoch 24/1000\n",
      "23/23 [==============================] - 6s 241ms/step - loss: 0.9353 - val_loss: 0.8140\n",
      "Epoch 25/1000\n",
      "23/23 [==============================] - 5s 215ms/step - loss: 0.9436 - val_loss: 0.8399\n",
      "Epoch 26/1000\n",
      "23/23 [==============================] - 6s 250ms/step - loss: 0.8437 - val_loss: 0.6364\n",
      "Epoch 27/1000\n",
      "23/23 [==============================] - 5s 204ms/step - loss: 0.7997 - val_loss: 0.8914\n",
      "Epoch 28/1000\n",
      "23/23 [==============================] - 5s 226ms/step - loss: 0.9100 - val_loss: 0.5983\n",
      "Epoch 29/1000\n",
      "23/23 [==============================] - 5s 223ms/step - loss: 0.8903 - val_loss: 0.9056\n",
      "Epoch 30/1000\n",
      "23/23 [==============================] - 5s 215ms/step - loss: 0.9421 - val_loss: 0.9487\n",
      "Epoch 31/1000\n",
      "23/23 [==============================] - 5s 199ms/step - loss: 0.8618 - val_loss: 1.2408\n",
      "Epoch 32/1000\n",
      "23/23 [==============================] - 5s 202ms/step - loss: 0.9102 - val_loss: 0.7043\n",
      "Epoch 33/1000\n",
      "23/23 [==============================] - 5s 223ms/step - loss: 0.8906 - val_loss: 0.6746\n",
      "Epoch 34/1000\n",
      "23/23 [==============================] - 5s 217ms/step - loss: 0.8445 - val_loss: 0.9525\n",
      "Epoch 35/1000\n",
      "23/23 [==============================] - 5s 209ms/step - loss: 0.8029 - val_loss: 0.5258\n",
      "Epoch 36/1000\n",
      "23/23 [==============================] - 5s 223ms/step - loss: 0.8363 - val_loss: 0.4270\n",
      "Epoch 37/1000\n",
      "23/23 [==============================] - ETA: 0s - loss: 0.9717\n",
      "Epoch 00037: ReduceLROnPlateau reducing learning rate to 9.999999747378752e-07.\n",
      "23/23 [==============================] - 5s 238ms/step - loss: 0.9717 - val_loss: 0.6075\n",
      "Epoch 38/1000\n",
      "23/23 [==============================] - 5s 223ms/step - loss: 0.9065 - val_loss: 0.5514\n",
      "Epoch 39/1000\n",
      "23/23 [==============================] - 5s 219ms/step - loss: 0.7981 - val_loss: 0.6550\n",
      "Epoch 40/1000\n",
      "23/23 [==============================] - 5s 231ms/step - loss: 0.8339 - val_loss: 0.6737\n",
      "Epoch 41/1000\n",
      "23/23 [==============================] - 4s 195ms/step - loss: 0.7990 - val_loss: 0.7521\n",
      "Epoch 42/1000\n",
      "23/23 [==============================] - 5s 207ms/step - loss: 0.8325 - val_loss: 0.7484\n",
      "Epoch 43/1000\n",
      "23/23 [==============================] - 5s 234ms/step - loss: 0.8038 - val_loss: 0.6869\n",
      "Epoch 44/1000\n",
      "23/23 [==============================] - 6s 280ms/step - loss: 0.8236 - val_loss: 0.7239\n",
      "Epoch 45/1000\n",
      "23/23 [==============================] - 5s 222ms/step - loss: 0.7789 - val_loss: 0.6108\n",
      "Epoch 46/1000\n",
      "23/23 [==============================] - 3s 151ms/step - loss: 0.8378 - val_loss: 0.6511\n",
      "Epoch 47/1000\n",
      "23/23 [==============================] - 3s 120ms/step - loss: 0.7422 - val_loss: 0.5788\n",
      "Epoch 48/1000\n",
      "23/23 [==============================] - 3s 136ms/step - loss: 0.7672 - val_loss: 0.6545\n",
      "Epoch 49/1000\n",
      "23/23 [==============================] - 3s 143ms/step - loss: 0.8403 - val_loss: 0.6242\n",
      "Epoch 50/1000\n",
      "23/23 [==============================] - 4s 180ms/step - loss: 0.8459 - val_loss: 0.6327\n",
      "Epoch 51/1000\n",
      "23/23 [==============================] - 4s 191ms/step - loss: 0.8166 - val_loss: 0.6507\n",
      "Epoch 52/1000\n",
      "23/23 [==============================] - 5s 210ms/step - loss: 0.8500 - val_loss: 0.5907\n",
      "Epoch 53/1000\n",
      "23/23 [==============================] - 4s 188ms/step - loss: 0.7977 - val_loss: 0.6343\n",
      "Epoch 54/1000\n",
      "23/23 [==============================] - 5s 224ms/step - loss: 0.7450 - val_loss: 0.6439\n",
      "Epoch 55/1000\n",
      "23/23 [==============================] - 5s 200ms/step - loss: 0.9007 - val_loss: 0.5775\n",
      "Epoch 56/1000\n",
      "23/23 [==============================] - 5s 207ms/step - loss: 0.7568 - val_loss: 0.6167\n",
      "Epoch 57/1000\n",
      "23/23 [==============================] - 5s 204ms/step - loss: 0.8107 - val_loss: 0.5643\n",
      "Epoch 58/1000\n",
      "23/23 [==============================] - 4s 193ms/step - loss: 0.8522 - val_loss: 0.6070\n",
      "Epoch 59/1000\n",
      "23/23 [==============================] - 5s 215ms/step - loss: 0.7880 - val_loss: 0.6895\n",
      "Epoch 60/1000\n",
      "23/23 [==============================] - 4s 193ms/step - loss: 0.7607 - val_loss: 0.6843\n",
      "Epoch 61/1000\n",
      "23/23 [==============================] - 4s 191ms/step - loss: 0.7597 - val_loss: 0.6415\n",
      "Epoch 62/1000\n",
      "23/23 [==============================] - ETA: 0s - loss: 0.8727\n",
      "Epoch 00062: ReduceLROnPlateau reducing learning rate to 9.999999974752428e-08.\n",
      "23/23 [==============================] - 4s 193ms/step - loss: 0.8727 - val_loss: 0.5930\n",
      "Epoch 63/1000\n",
      "23/23 [==============================] - 4s 184ms/step - loss: 0.8048 - val_loss: 0.6036\n",
      "Epoch 64/1000\n",
      "23/23 [==============================] - 5s 212ms/step - loss: 0.8251 - val_loss: 0.6137\n",
      "Epoch 65/1000\n",
      "23/23 [==============================] - 5s 203ms/step - loss: 0.8569 - val_loss: 0.6114\n",
      "Epoch 66/1000\n",
      "23/23 [==============================] - 4s 183ms/step - loss: 0.7851 - val_loss: 0.6105\n",
      "Epoch 67/1000\n",
      "23/23 [==============================] - 4s 184ms/step - loss: 0.8084 - val_loss: 0.6066\n",
      "Epoch 68/1000\n",
      "23/23 [==============================] - 5s 213ms/step - loss: 0.7554 - val_loss: 0.6154\n",
      "Epoch 69/1000\n",
      "23/23 [==============================] - 5s 199ms/step - loss: 0.7136 - val_loss: 0.6197\n",
      "Epoch 70/1000\n",
      "23/23 [==============================] - 4s 191ms/step - loss: 0.7511 - val_loss: 0.6134\n",
      "Epoch 71/1000\n",
      "23/23 [==============================] - 6s 247ms/step - loss: 0.7975 - val_loss: 0.6211\n",
      "Epoch 72/1000\n",
      "23/23 [==============================] - 5s 197ms/step - loss: 0.8289 - val_loss: 0.6355\n",
      "Epoch 73/1000\n",
      "23/23 [==============================] - 4s 182ms/step - loss: 0.7587 - val_loss: 0.6393\n",
      "Epoch 74/1000\n",
      "23/23 [==============================] - 5s 196ms/step - loss: 0.7756 - val_loss: 0.6419\n",
      "Epoch 75/1000\n",
      "23/23 [==============================] - 5s 206ms/step - loss: 0.7928 - val_loss: 0.6462\n",
      "Epoch 76/1000\n",
      "23/23 [==============================] - 5s 198ms/step - loss: 0.8075 - val_loss: 0.6616\n",
      "Epoch 77/1000\n",
      "23/23 [==============================] - 5s 208ms/step - loss: 0.8065 - val_loss: 0.6612\n",
      "Epoch 78/1000\n",
      "23/23 [==============================] - 4s 195ms/step - loss: 0.8300 - val_loss: 0.6646\n",
      "Epoch 79/1000\n",
      "23/23 [==============================] - 5s 203ms/step - loss: 0.8298 - val_loss: 0.6767\n",
      "Epoch 80/1000\n",
      "23/23 [==============================] - 5s 196ms/step - loss: 0.8276 - val_loss: 0.6762\n",
      "Epoch 81/1000\n",
      "23/23 [==============================] - 5s 209ms/step - loss: 0.8100 - val_loss: 0.6843\n",
      "Epoch 82/1000\n",
      "23/23 [==============================] - 4s 184ms/step - loss: 0.8143 - val_loss: 0.6900\n",
      "Epoch 83/1000\n",
      "23/23 [==============================] - 4s 185ms/step - loss: 0.8225 - val_loss: 0.6853\n",
      "Epoch 84/1000\n",
      "23/23 [==============================] - 5s 200ms/step - loss: 0.8063 - val_loss: 0.6769\n",
      "Epoch 85/1000\n",
      "23/23 [==============================] - 4s 175ms/step - loss: 0.8069 - val_loss: 0.6685\n",
      "Epoch 86/1000\n",
      "23/23 [==============================] - 3s 145ms/step - loss: 0.7565 - val_loss: 0.6553\n",
      "Epoch 87/1000\n",
      "23/23 [==============================] - ETA: 0s - loss: 0.7933\n",
      "Epoch 00087: ReduceLROnPlateau reducing learning rate to 1.0000000116860975e-08.\n",
      "23/23 [==============================] - 3s 121ms/step - loss: 0.7933 - val_loss: 0.6566\n",
      "Epoch 88/1000\n",
      "23/23 [==============================] - 3s 114ms/step - loss: 0.7487 - val_loss: 0.6572\n",
      "Epoch 89/1000\n",
      "23/23 [==============================] - 3s 125ms/step - loss: 0.7396 - val_loss: 0.6576\n",
      "Epoch 90/1000\n",
      "23/23 [==============================] - 3s 113ms/step - loss: 0.8441 - val_loss: 0.6567\n",
      "Epoch 91/1000\n",
      "23/23 [==============================] - 2s 108ms/step - loss: 0.7967 - val_loss: 0.6562\n",
      "Epoch 92/1000\n",
      "23/23 [==============================] - 3s 145ms/step - loss: 0.7904 - val_loss: 0.6566\n",
      "Epoch 93/1000\n",
      "23/23 [==============================] - 3s 118ms/step - loss: 0.7361 - val_loss: 0.6573\n",
      "Epoch 94/1000\n",
      "23/23 [==============================] - 3s 122ms/step - loss: 0.8114 - val_loss: 0.6571\n",
      "Epoch 95/1000\n",
      "23/23 [==============================] - 3s 115ms/step - loss: 0.8051 - val_loss: 0.6566\n",
      "Epoch 96/1000\n",
      "23/23 [==============================] - 3s 128ms/step - loss: 0.7666 - val_loss: 0.6565\n",
      "Epoch 97/1000\n",
      "23/23 [==============================] - 3s 127ms/step - loss: 0.8029 - val_loss: 0.6557\n",
      "Epoch 98/1000\n",
      "23/23 [==============================] - 3s 124ms/step - loss: 0.8223 - val_loss: 0.6560\n",
      "Epoch 99/1000\n",
      "23/23 [==============================] - 3s 112ms/step - loss: 0.7565 - val_loss: 0.6556\n",
      "Epoch 100/1000\n",
      "23/23 [==============================] - 3s 110ms/step - loss: 0.7663 - val_loss: 0.6553\n",
      "Epoch 101/1000\n",
      "23/23 [==============================] - 2s 106ms/step - loss: 0.7654 - val_loss: 0.6560\n",
      "Epoch 102/1000\n",
      "23/23 [==============================] - 2s 104ms/step - loss: 0.8425 - val_loss: 0.6564\n",
      "Epoch 103/1000\n",
      "23/23 [==============================] - 2s 105ms/step - loss: 0.8407 - val_loss: 0.6562\n",
      "Epoch 104/1000\n",
      "23/23 [==============================] - 2s 108ms/step - loss: 0.8304 - val_loss: 0.6555\n",
      "Epoch 105/1000\n",
      "23/23 [==============================] - 3s 123ms/step - loss: 0.8070 - val_loss: 0.6546\n",
      "Epoch 106/1000\n",
      "23/23 [==============================] - 3s 113ms/step - loss: 0.7414 - val_loss: 0.6543\n",
      "Epoch 107/1000\n",
      "23/23 [==============================] - 2s 105ms/step - loss: 0.8396 - val_loss: 0.6537\n",
      "Epoch 108/1000\n",
      "23/23 [==============================] - 2s 108ms/step - loss: 0.7411 - val_loss: 0.6537\n",
      "Epoch 109/1000\n",
      "23/23 [==============================] - 3s 149ms/step - loss: 0.8401 - val_loss: 0.6534\n",
      "Epoch 110/1000\n",
      "23/23 [==============================] - 2s 108ms/step - loss: 0.7469 - val_loss: 0.6528\n",
      "Epoch 111/1000\n",
      "23/23 [==============================] - 2s 104ms/step - loss: 0.8329 - val_loss: 0.6517\n",
      "Epoch 112/1000\n",
      "23/23 [==============================] - ETA: 0s - loss: 0.7885\n",
      "Epoch 00112: ReduceLROnPlateau reducing learning rate to 9.999999939225292e-10.\n",
      "Restoring model weights from the end of the best epoch.\n",
      "23/23 [==============================] - 2s 107ms/step - loss: 0.7885 - val_loss: 0.6514\n",
      "Epoch 00112: early stopping\n"
     ]
    }
   ],
   "source": [
    "# History object for plotting our model loss by epoch\n",
    "history3 = model3.fit(x_train1, y_train1, batch_size = BATCH3, \n",
    "                    epochs = EPOCHS, validation_data = (x_val1, y_val1),\n",
    "                    callbacks = [rlrop3, early_stop3])"
   ]
  },
  {
   "cell_type": "code",
   "execution_count": 52,
   "metadata": {},
   "outputs": [
    {
     "data": {
      "image/png": "[encoded data removed]",
      "text/plain": [
       "<Figure size 720x504 with 1 Axes>"
      ]
     },
     "metadata": {
      "needs_background": "light"
     },
     "output_type": "display_data"
    }
   ],
   "source": [
    "# Loss History\n",
    "fig = plt.figure(figsize=(10, 7))\n",
    "plt.plot(history3.history['loss'])\n",
    "plt.plot(history3.history['val_loss'])\n",
    "plt.title('Model Loss')\n",
    "plt.ylabel('Loss')\n",
    "plt.xlabel('Epoch')\n",
    "plt.legend(['Train', 'Val'], loc='upper right')\n",
    "plt.show()"
   ]
  },
  {
   "cell_type": "markdown",
   "metadata": {},
   "source": [
    "### Previsão Multistep 12 meses em Validação\n",
    "Para ficar adequado à realidade, não podemos usar os dados de 2022 para prever 2022. Portanto, a previsão de 2022 será feita do moto *multistep*, isto é, o mês de janeiro/2022 será previsto usando-se os dados de arrecadação de janeiro a dezembro de 2021; o mês de fevereiro/2022 será previsto usando-se os dados de fevereiro a dezembro de 2021 mais a previsão feita para o mês de janeiro/2022; o mês de março/2022 será previsto usando-se os dados de março a dezembro de 2021 mais os meses de janeiro e fevereiro de 2022 previstos nos passos anteriores. E assim por diante, até que a previsão de dezembro/2022 será feita usando-se os dados de dezembro de 2021 mais as previsões de janeiro a novembro de 2022 feitas nos passos anteriores."
   ]
  },
  {
   "cell_type": "markdown",
   "metadata": {},
   "source": [
    "#### Remove os 12 últimos valores que serão previstos e cria as séries novamente"
   ]
  },
  {
   "cell_type": "code",
   "execution_count": 53,
   "metadata": {},
   "outputs": [
    {
     "name": "stdout",
     "output_type": "stream",
     "text": [
      "(216,)\n",
      "(204,)\n"
     ]
    }
   ],
   "source": [
    "# remove\n",
    "serie_multi12 = l_icms_ts[:-24]\n",
    "print(l_icms_ts.shape)\n",
    "print(serie_multi1.shape)"
   ]
  },
  {
   "cell_type": "code",
   "execution_count": 54,
   "metadata": {},
   "outputs": [
    {
     "name": "stdout",
     "output_type": "stream",
     "text": [
      "0 [[1.2420435e+10]]\n",
      "1 [[1.240881e+10]]\n",
      "2 [[1.2475875e+10]]\n",
      "3 [[1.2538186e+10]]\n",
      "4 [[1.2583706e+10]]\n",
      "5 [[1.2644792e+10]]\n",
      "6 [[1.2658958e+10]]\n",
      "7 [[1.2676161e+10]]\n",
      "8 [[1.2708868e+10]]\n",
      "9 [[1.2719659e+10]]\n",
      "10 [[1.272791e+10]]\n",
      "11 [[1.2738402e+10]]\n"
     ]
    }
   ],
   "source": [
    "for i in range(12):\n",
    "    # cria as séries\n",
    "    X_multi12, Y_multi12 = cria_features_target(serie_multi12, verbose=0)\n",
    "\n",
    "    # Faz a normalização usando o modelo fitado na normalização anterior\n",
    "    X_multi_std12 = enc_x.transform(X_multi12)\n",
    "    X_multi_std12 = X_multi_std12.reshape(X_multi_std12.shape[0],10,1)\n",
    "\n",
    "    # Faz o janelamento das séries\n",
    "    x_multi12, y_multi12 = janelamento_1_mes(X_multi_std12, Y_multi12, verbose=0)\n",
    "\n",
    "    # Faz a predição da arrecadação do mês\n",
    "    #y_pred_multi = np.mean(model.predict(x_multi[-1:]), axis=1)#[:,0].ravel()\n",
    "    y_pred_multi12 = model3.predict(x_multi12[-1:])#[:,0].ravel()\n",
    "    print(i, np.exp(y_pred_multi12))\n",
    "\n",
    "    #### Adicionar o valor previsto à série e fazer o novo janelamento\n",
    "    serie_multi12 = pd.Series(np.append(serie_multi12, y_pred_multi12))"
   ]
  },
  {
   "cell_type": "code",
   "execution_count": 55,
   "metadata": {},
   "outputs": [],
   "source": [
    "Y_pred_multi12 = np.exp(pd.Series(serie_multi12[-12:]))\n",
    "Y_pred_multi12.index = icms_val.index"
   ]
  },
  {
   "cell_type": "code",
   "execution_count": 56,
   "metadata": {},
   "outputs": [
    {
     "data": {
      "text/plain": [
       "date\n",
       "2019-01-01    1.242044e+10\n",
       "2019-02-01    1.240881e+10\n",
       "2019-03-01    1.247588e+10\n",
       "2019-04-01    1.253819e+10\n",
       "2019-05-01    1.258371e+10\n",
       "2019-06-01    1.264479e+10\n",
       "2019-07-01    1.265896e+10\n",
       "2019-08-01    1.267616e+10\n",
       "2019-09-01    1.270887e+10\n",
       "2019-10-01    1.271966e+10\n",
       "2019-11-01    1.272791e+10\n",
       "2019-12-01    1.273840e+10\n",
       "dtype: float64"
      ]
     },
     "execution_count": 56,
     "metadata": {},
     "output_type": "execute_result"
    }
   ],
   "source": [
    "Y_pred_multi12"
   ]
  },
  {
   "cell_type": "code",
   "execution_count": 57,
   "metadata": {},
   "outputs": [
    {
     "data": {
      "text/plain": [
       "783898869.0308831"
      ]
     },
     "execution_count": 57,
     "metadata": {},
     "output_type": "execute_result"
    }
   ],
   "source": [
    "RMSE_lstm_multi12 = mean_squared_error(icms_val, Y_pred_multi12, squared=False)\n",
    "RMSE_lstm_multi12"
   ]
  },
  {
   "cell_type": "code",
   "execution_count": 58,
   "metadata": {},
   "outputs": [
    {
     "data": {
      "text/plain": [
       "0.05765507700743861"
      ]
     },
     "execution_count": 58,
     "metadata": {},
     "output_type": "execute_result"
    }
   ],
   "source": [
    "MAPE_lstm_multi12 = mean_absolute_percentage_error(icms_val, Y_pred_multi12)\n",
    "MAPE_lstm_multi12"
   ]
  },
  {
   "cell_type": "code",
   "execution_count": 59,
   "metadata": {},
   "outputs": [],
   "source": [
    "previsoes['nome'].append('RNN-LSTM-1-mês-camadas')\n",
    "previsoes['modelo'].append(model3)\n",
    "previsoes['previsoes'].append(Y_pred_multi12)\n",
    "\n",
    "previsoes['rmse'].append(RMSE_lstm_multi12)\n",
    "\n",
    "previsoes['mape'].append(MAPE_lstm_multi12)\n",
    "\n",
    "previsoes['erro relativo'].append([erro_relativo(prev,real) \n",
    "                                   for prev,real in zip(Y_pred_multi12\n",
    "                                                        , icms_val)])"
   ]
  },
  {
   "cell_type": "markdown",
   "metadata": {},
   "source": [
    "# Modelo 12 meses"
   ]
  },
  {
   "cell_type": "markdown",
   "metadata": {},
   "source": [
    "#### Criando as janelas de 12 meses e reshape para LSTM. A arrecadação de cada mês será prevista pela arrecadação dos 12 meses anteriores."
   ]
  },
  {
   "cell_type": "markdown",
   "metadata": {},
   "source": [
    "##### Unindo novamente os dados."
   ]
  },
  {
   "cell_type": "code",
   "execution_count": 60,
   "metadata": {},
   "outputs": [],
   "source": [
    "def janelamento_12_meses(X, Y, verbose=0):\n",
    "    X_exp = np.concatenate((np.roll(X, 12, axis=0),\n",
    "                            np.roll(X, 11, axis=0),\n",
    "                            np.roll(X, 10, axis=0),\n",
    "                            np.roll(X, 9, axis=0),\n",
    "                            np.roll(X, 8, axis=0),\n",
    "                            np.roll(X, 7, axis=0),\n",
    "                            np.roll(X, 6, axis=0),\n",
    "                            np.roll(X, 5, axis=0),\n",
    "                            np.roll(X, 4, axis=0),\n",
    "                            np.roll(X, 3, axis=0),\n",
    "                            np.roll(X, 2, axis=0),\n",
    "                            np.roll(X, 1, axis=0),\n",
    "                            ), axis=2)\n",
    "    X_exp_cut = X_exp[12:,:,:].transpose(0,2,1)\n",
    "    Y_cut = Y[12:]\n",
    "    if verbose==1:\n",
    "        print('shape das features janeladas:', X_exp.shape)\n",
    "        print('shape das features janeladas pós poda e transposição:', X_exp_cut.shape)\n",
    "        print('shape do array target pós poda:', Y_cut.shape)\n",
    "    return X_exp_cut, Y_cut"
   ]
  },
  {
   "cell_type": "code",
   "execution_count": 61,
   "metadata": {},
   "outputs": [],
   "source": [
    "X_data_exp_cut12, Y_data_cut12 = janelamento_12_meses(X_data_jn, Y_data, verbose=0)"
   ]
  },
  {
   "cell_type": "code",
   "execution_count": 62,
   "metadata": {},
   "outputs": [],
   "source": [
    "#Y_data_cut[0]"
   ]
  },
  {
   "cell_type": "code",
   "execution_count": 63,
   "metadata": {},
   "outputs": [],
   "source": [
    "#X_data_exp_cut[0]"
   ]
  },
  {
   "cell_type": "code",
   "execution_count": 64,
   "metadata": {},
   "outputs": [],
   "source": [
    "#Y_data_cut[Y_data_cut.shape[0]-1]"
   ]
  },
  {
   "cell_type": "code",
   "execution_count": 65,
   "metadata": {},
   "outputs": [],
   "source": [
    "#X_data_exp_cut[Y_data_cut.shape[0]-1]"
   ]
  },
  {
   "cell_type": "markdown",
   "metadata": {},
   "source": [
    "#### Separando novamente em treino, validação e teste"
   ]
  },
  {
   "cell_type": "code",
   "execution_count": 66,
   "metadata": {},
   "outputs": [
    {
     "name": "stdout",
     "output_type": "stream",
     "text": [
      "(168, 12, 10) (12, 12, 10) (12, 12, 10)\n",
      "(168,) (12,) (12,)\n"
     ]
    }
   ],
   "source": [
    "x_train12 = X_data_exp_cut12[:-24]\n",
    "x_val12 = X_data_exp_cut12[-24:-12]\n",
    "x_test12 = X_data_exp_cut12[-12:]\n",
    "print(x_train12.shape, x_val12.shape, x_test12.shape)\n",
    "y_train12 = Y_data_cut12[:-24]\n",
    "y_val12 = Y_data_cut12[-24:-12]\n",
    "y_test12 = np.exp(Y_data_cut12[-12:]) # tirar o log para ficar o valor real\n",
    "print(y_train12.shape, y_val12.shape, y_test12.shape)"
   ]
  },
  {
   "cell_type": "markdown",
   "metadata": {},
   "source": [
    "### Criando o modelo LSTM"
   ]
  },
  {
   "cell_type": "markdown",
   "metadata": {},
   "source": [
    "## Arquitetura da Rede - Arquitetura Larga"
   ]
  },
  {
   "cell_type": "code",
   "execution_count": 67,
   "metadata": {},
   "outputs": [],
   "source": [
    "rlrop2 = ReduceLROnPlateau(monitor='val_loss', factor=0.1, patience=10, verbose=1)\n",
    "early_stop2 = EarlyStopping(monitor='val_loss', patience=100, verbose=1, \n",
    "                           restore_best_weights=True)"
   ]
  },
  {
   "cell_type": "code",
   "execution_count": 68,
   "metadata": {},
   "outputs": [],
   "source": [
    "# Épocas e tamanho do lote\n",
    "EPOCHS2 = 1000\n",
    "BATCH2 = 8\n",
    "NEURONIOS2 = 1000\n",
    "LR2 = 1e-5\n",
    "DROPOUT2 = 0.25\n",
    "\n",
    "# Imstanciação do modelo\n",
    "model2 = Sequential()\n",
    "\n",
    "# Adicionar camada LSTM \n",
    "model2.add(LSTM(activation='tanh', dropout=DROPOUT2,\n",
    "        input_shape = (12, 10), return_sequences = False,\n",
    "        units = NEURONIOS2))\n",
    "\n",
    "# Adicionar a camada de saída com 1 neurônio linear\n",
    "model2.add(Dense(\n",
    "        units = 1,\n",
    "        activation = 'linear'))\n",
    "# a learning rate padrão do Adam é 0.001\n",
    "model2.compile(loss = 'mape', optimizer = Adam(learning_rate=LR2))"
   ]
  },
  {
   "cell_type": "code",
   "execution_count": 69,
   "metadata": {},
   "outputs": [
    {
     "name": "stdout",
     "output_type": "stream",
     "text": [
      "Model: \"sequential_2\"\n",
      "_________________________________________________________________\n",
      "Layer (type)                 Output Shape              Param #   \n",
      "=================================================================\n",
      "lstm_4 (LSTM)                (None, 1000)              4044000   \n",
      "_________________________________________________________________\n",
      "dense_2 (Dense)              (None, 1)                 1001      \n",
      "=================================================================\n",
      "Total params: 4,045,001\n",
      "Trainable params: 4,045,001\n",
      "Non-trainable params: 0\n",
      "_________________________________________________________________\n"
     ]
    }
   ],
   "source": [
    "model2.summary()"
   ]
  },
  {
   "cell_type": "code",
   "execution_count": 70,
   "metadata": {
    "scrolled": true
   },
   "outputs": [
    {
     "name": "stdout",
     "output_type": "stream",
     "text": [
      "Epoch 1/1000\n",
      "21/21 [==============================] - 2s 108ms/step - loss: 99.3332 - val_loss: 97.9177\n",
      "Epoch 2/1000\n",
      "21/21 [==============================] - 2s 96ms/step - loss: 98.0277 - val_loss: 95.5889\n",
      "Epoch 3/1000\n",
      "21/21 [==============================] - 2s 110ms/step - loss: 96.2902 - val_loss: 92.3750\n",
      "Epoch 4/1000\n",
      "21/21 [==============================] - 2s 113ms/step - loss: 93.7105 - val_loss: 86.6051\n",
      "Epoch 5/1000\n",
      "21/21 [==============================] - 3s 119ms/step - loss: 88.6369 - val_loss: 73.6603\n",
      "Epoch 6/1000\n",
      "21/21 [==============================] - 2s 115ms/step - loss: 75.8010 - val_loss: 41.9038\n",
      "Epoch 7/1000\n",
      "21/21 [==============================] - 2s 115ms/step - loss: 47.5916 - val_loss: 5.2912\n",
      "Epoch 8/1000\n",
      "21/21 [==============================] - 2s 114ms/step - loss: 21.5879 - val_loss: 5.7205\n",
      "Epoch 9/1000\n",
      "21/21 [==============================] - 2s 102ms/step - loss: 13.8560 - val_loss: 0.8245\n",
      "Epoch 10/1000\n",
      "21/21 [==============================] - 2s 104ms/step - loss: 8.8302 - val_loss: 0.6048\n",
      "Epoch 11/1000\n",
      "21/21 [==============================] - 2s 114ms/step - loss: 6.1513 - val_loss: 0.6022\n",
      "Epoch 12/1000\n",
      "21/21 [==============================] - 2s 95ms/step - loss: 4.3217 - val_loss: 0.6286\n",
      "Epoch 13/1000\n",
      "21/21 [==============================] - 2s 89ms/step - loss: 3.1291 - val_loss: 0.8596\n",
      "Epoch 14/1000\n",
      "21/21 [==============================] - 2s 92ms/step - loss: 2.4631 - val_loss: 0.8189\n",
      "Epoch 15/1000\n",
      "21/21 [==============================] - 2s 91ms/step - loss: 2.2372 - val_loss: 1.1977\n",
      "Epoch 16/1000\n",
      "21/21 [==============================] - 2s 92ms/step - loss: 1.7611 - val_loss: 0.7375\n",
      "Epoch 17/1000\n",
      "21/21 [==============================] - 2s 102ms/step - loss: 1.6613 - val_loss: 0.6616\n",
      "Epoch 18/1000\n",
      "21/21 [==============================] - 2s 96ms/step - loss: 1.4470 - val_loss: 0.9291\n",
      "Epoch 19/1000\n",
      "21/21 [==============================] - 2s 107ms/step - loss: 1.4647 - val_loss: 1.3551\n",
      "Epoch 20/1000\n",
      "21/21 [==============================] - 2s 119ms/step - loss: 1.2712 - val_loss: 0.9060\n",
      "Epoch 21/1000\n",
      "21/21 [==============================] - ETA: 0s - loss: 1.2280\n",
      "Epoch 00021: ReduceLROnPlateau reducing learning rate to 9.999999747378752e-07.\n",
      "21/21 [==============================] - 2s 106ms/step - loss: 1.2280 - val_loss: 1.0188\n",
      "Epoch 22/1000\n",
      "21/21 [==============================] - 2s 109ms/step - loss: 1.1256 - val_loss: 1.0276\n",
      "Epoch 23/1000\n",
      "21/21 [==============================] - 2s 99ms/step - loss: 1.1605 - val_loss: 1.0013\n",
      "Epoch 24/1000\n",
      "21/21 [==============================] - 2s 98ms/step - loss: 1.1553 - val_loss: 1.0247\n",
      "Epoch 25/1000\n",
      "21/21 [==============================] - 2s 105ms/step - loss: 1.1745 - val_loss: 1.0498\n",
      "Epoch 26/1000\n",
      "21/21 [==============================] - 2s 118ms/step - loss: 1.1845 - val_loss: 1.0293\n",
      "Epoch 27/1000\n",
      "21/21 [==============================] - 2s 116ms/step - loss: 1.1301 - val_loss: 1.0759\n",
      "Epoch 28/1000\n",
      "21/21 [==============================] - 2s 110ms/step - loss: 1.1325 - val_loss: 1.0850\n",
      "Epoch 29/1000\n",
      "21/21 [==============================] - 3s 119ms/step - loss: 1.1174 - val_loss: 1.0372\n",
      "Epoch 30/1000\n",
      "21/21 [==============================] - 2s 108ms/step - loss: 1.1447 - val_loss: 0.9945\n",
      "Epoch 31/1000\n",
      "21/21 [==============================] - ETA: 0s - loss: 1.1143\n",
      "Epoch 00031: ReduceLROnPlateau reducing learning rate to 9.999999974752428e-08.\n",
      "21/21 [==============================] - 2s 112ms/step - loss: 1.1143 - val_loss: 1.0214\n",
      "Epoch 32/1000\n",
      "21/21 [==============================] - 2s 95ms/step - loss: 1.1244 - val_loss: 1.0221\n",
      "Epoch 33/1000\n",
      "21/21 [==============================] - 2s 104ms/step - loss: 1.0717 - val_loss: 1.0246\n",
      "Epoch 34/1000\n",
      "21/21 [==============================] - 2s 91ms/step - loss: 1.0764 - val_loss: 1.0351\n",
      "Epoch 35/1000\n",
      "21/21 [==============================] - 2s 90ms/step - loss: 1.0852 - val_loss: 1.0351\n",
      "Epoch 36/1000\n",
      "21/21 [==============================] - 2s 93ms/step - loss: 1.1055 - val_loss: 1.0325\n",
      "Epoch 37/1000\n",
      "21/21 [==============================] - 2s 88ms/step - loss: 1.1266 - val_loss: 1.0224\n",
      "Epoch 38/1000\n",
      "21/21 [==============================] - 2s 91ms/step - loss: 1.0976 - val_loss: 1.0289\n",
      "Epoch 39/1000\n",
      "21/21 [==============================] - 2s 108ms/step - loss: 1.1106 - val_loss: 1.0299\n",
      "Epoch 40/1000\n",
      "21/21 [==============================] - 2s 107ms/step - loss: 1.1062 - val_loss: 1.0273\n",
      "Epoch 41/1000\n",
      "21/21 [==============================] - ETA: 0s - loss: 1.0905\n",
      "Epoch 00041: ReduceLROnPlateau reducing learning rate to 1.0000000116860975e-08.\n",
      "21/21 [==============================] - 2s 97ms/step - loss: 1.0905 - val_loss: 1.0246\n",
      "Epoch 42/1000\n",
      "21/21 [==============================] - 2s 107ms/step - loss: 1.0455 - val_loss: 1.0250\n",
      "Epoch 43/1000\n",
      "21/21 [==============================] - 3s 120ms/step - loss: 1.1332 - val_loss: 1.0250\n",
      "Epoch 44/1000\n",
      "21/21 [==============================] - 3s 121ms/step - loss: 1.1299 - val_loss: 1.0250\n",
      "Epoch 45/1000\n",
      "21/21 [==============================] - 2s 113ms/step - loss: 1.1094 - val_loss: 1.0254\n",
      "Epoch 46/1000\n",
      "21/21 [==============================] - 2s 117ms/step - loss: 1.1036 - val_loss: 1.0253\n",
      "Epoch 47/1000\n",
      "21/21 [==============================] - 2s 109ms/step - loss: 1.0555 - val_loss: 1.0257\n",
      "Epoch 48/1000\n",
      "21/21 [==============================] - 2s 102ms/step - loss: 1.0704 - val_loss: 1.0258\n",
      "Epoch 49/1000\n",
      "21/21 [==============================] - 2s 98ms/step - loss: 1.1085 - val_loss: 1.0265\n",
      "Epoch 50/1000\n",
      "21/21 [==============================] - 2s 92ms/step - loss: 1.0799 - val_loss: 1.0264\n",
      "Epoch 51/1000\n",
      "21/21 [==============================] - ETA: 0s - loss: 1.1849\n",
      "Epoch 00051: ReduceLROnPlateau reducing learning rate to 9.999999939225292e-10.\n",
      "21/21 [==============================] - 2s 110ms/step - loss: 1.1849 - val_loss: 1.0262\n",
      "Epoch 52/1000\n",
      "21/21 [==============================] - 2s 100ms/step - loss: 1.1165 - val_loss: 1.0262\n",
      "Epoch 53/1000\n",
      "21/21 [==============================] - 2s 98ms/step - loss: 1.1589 - val_loss: 1.0262\n",
      "Epoch 54/1000\n",
      "21/21 [==============================] - 2s 90ms/step - loss: 1.0713 - val_loss: 1.0262\n",
      "Epoch 55/1000\n",
      "21/21 [==============================] - 2s 103ms/step - loss: 1.1000 - val_loss: 1.0262\n",
      "Epoch 56/1000\n",
      "21/21 [==============================] - 2s 92ms/step - loss: 1.0921 - val_loss: 1.0262\n",
      "Epoch 57/1000\n",
      "21/21 [==============================] - 2s 92ms/step - loss: 1.1243 - val_loss: 1.0262\n",
      "Epoch 58/1000\n",
      "21/21 [==============================] - 2s 102ms/step - loss: 1.1389 - val_loss: 1.0262\n",
      "Epoch 59/1000\n",
      "21/21 [==============================] - 2s 93ms/step - loss: 1.1384 - val_loss: 1.0262\n",
      "Epoch 60/1000\n",
      "21/21 [==============================] - 2s 89ms/step - loss: 1.1643 - val_loss: 1.0262\n",
      "Epoch 61/1000\n",
      "21/21 [==============================] - ETA: 0s - loss: 1.1673\n",
      "Epoch 00061: ReduceLROnPlateau reducing learning rate to 9.999999717180686e-11.\n",
      "21/21 [==============================] - 2s 92ms/step - loss: 1.1673 - val_loss: 1.0262\n",
      "Epoch 62/1000\n",
      "21/21 [==============================] - 2s 90ms/step - loss: 1.0718 - val_loss: 1.0262\n",
      "Epoch 63/1000\n",
      "21/21 [==============================] - 2s 97ms/step - loss: 1.1533 - val_loss: 1.0262\n",
      "Epoch 64/1000\n",
      "21/21 [==============================] - 3s 143ms/step - loss: 1.1434 - val_loss: 1.0262\n",
      "Epoch 65/1000\n",
      "21/21 [==============================] - 2s 100ms/step - loss: 1.0849 - val_loss: 1.0262\n",
      "Epoch 66/1000\n",
      "21/21 [==============================] - 2s 91ms/step - loss: 1.0824 - val_loss: 1.0262\n",
      "Epoch 67/1000\n",
      "21/21 [==============================] - 2s 90ms/step - loss: 1.0892 - val_loss: 1.0262\n",
      "Epoch 68/1000\n",
      "21/21 [==============================] - 2s 94ms/step - loss: 1.0896 - val_loss: 1.0262\n",
      "Epoch 69/1000\n",
      "21/21 [==============================] - 2s 91ms/step - loss: 1.0854 - val_loss: 1.0262\n",
      "Epoch 70/1000\n",
      "21/21 [==============================] - 2s 104ms/step - loss: 1.0850 - val_loss: 1.0262\n",
      "Epoch 71/1000\n",
      "21/21 [==============================] - ETA: 0s - loss: 1.1268\n",
      "Epoch 00071: ReduceLROnPlateau reducing learning rate to 9.99999943962493e-12.\n",
      "21/21 [==============================] - 2s 93ms/step - loss: 1.1268 - val_loss: 1.0262\n",
      "Epoch 72/1000\n",
      "21/21 [==============================] - 2s 92ms/step - loss: 1.1156 - val_loss: 1.0262\n",
      "Epoch 73/1000\n",
      "21/21 [==============================] - 2s 92ms/step - loss: 1.1305 - val_loss: 1.0262\n",
      "Epoch 74/1000\n",
      "21/21 [==============================] - 2s 90ms/step - loss: 1.1192 - val_loss: 1.0262\n",
      "Epoch 75/1000\n",
      "21/21 [==============================] - 2s 94ms/step - loss: 1.0898 - val_loss: 1.0262\n",
      "Epoch 76/1000\n",
      "21/21 [==============================] - 2s 93ms/step - loss: 1.0540 - val_loss: 1.0262\n",
      "Epoch 77/1000\n",
      "21/21 [==============================] - 2s 93ms/step - loss: 1.1671 - val_loss: 1.0262\n",
      "Epoch 78/1000\n",
      "21/21 [==============================] - 2s 91ms/step - loss: 1.0689 - val_loss: 1.0262\n",
      "Epoch 79/1000\n",
      "21/21 [==============================] - 2s 91ms/step - loss: 1.1091 - val_loss: 1.0262\n",
      "Epoch 80/1000\n",
      "21/21 [==============================] - 2s 90ms/step - loss: 1.1449 - val_loss: 1.0262\n",
      "Epoch 81/1000\n",
      "21/21 [==============================] - ETA: 0s - loss: 1.1291\n",
      "Epoch 00081: ReduceLROnPlateau reducing learning rate to 9.999999092680235e-13.\n",
      "21/21 [==============================] - 2s 94ms/step - loss: 1.1291 - val_loss: 1.0262\n",
      "Epoch 82/1000\n",
      "21/21 [==============================] - 2s 94ms/step - loss: 1.1318 - val_loss: 1.0262\n",
      "Epoch 83/1000\n",
      "21/21 [==============================] - 2s 94ms/step - loss: 1.1120 - val_loss: 1.0262\n",
      "Epoch 84/1000\n",
      "21/21 [==============================] - 2s 104ms/step - loss: 1.0977 - val_loss: 1.0262\n",
      "Epoch 85/1000\n",
      "21/21 [==============================] - 2s 91ms/step - loss: 1.0970 - val_loss: 1.0262\n",
      "Epoch 86/1000\n",
      "21/21 [==============================] - 2s 91ms/step - loss: 1.0761 - val_loss: 1.0262\n",
      "Epoch 87/1000\n",
      "21/21 [==============================] - 2s 93ms/step - loss: 1.1239 - val_loss: 1.0262\n",
      "Epoch 88/1000\n",
      "21/21 [==============================] - 2s 92ms/step - loss: 1.0813 - val_loss: 1.0262\n",
      "Epoch 89/1000\n",
      "21/21 [==============================] - 2s 105ms/step - loss: 1.0623 - val_loss: 1.0262\n",
      "Epoch 90/1000\n",
      "21/21 [==============================] - 2s 97ms/step - loss: 1.1121 - val_loss: 1.0262\n",
      "Epoch 91/1000\n",
      "21/21 [==============================] - ETA: 0s - loss: 1.0947\n",
      "Epoch 00091: ReduceLROnPlateau reducing learning rate to 9.9999988758398e-14.\n",
      "21/21 [==============================] - 2s 115ms/step - loss: 1.0947 - val_loss: 1.0262\n",
      "Epoch 92/1000\n",
      "21/21 [==============================] - 2s 100ms/step - loss: 1.1379 - val_loss: 1.0262\n",
      "Epoch 93/1000\n",
      "21/21 [==============================] - 2s 98ms/step - loss: 1.1043 - val_loss: 1.0262\n",
      "Epoch 94/1000\n",
      "21/21 [==============================] - 2s 95ms/step - loss: 1.1461 - val_loss: 1.0262\n",
      "Epoch 95/1000\n",
      "21/21 [==============================] - 2s 102ms/step - loss: 1.1078 - val_loss: 1.0262\n",
      "Epoch 96/1000\n",
      "21/21 [==============================] - 2s 96ms/step - loss: 1.0670 - val_loss: 1.0262\n",
      "Epoch 97/1000\n",
      "21/21 [==============================] - 2s 106ms/step - loss: 1.1291 - val_loss: 1.0262\n",
      "Epoch 98/1000\n",
      "21/21 [==============================] - 3s 155ms/step - loss: 1.1274 - val_loss: 1.0262\n",
      "Epoch 99/1000\n",
      "21/21 [==============================] - 3s 121ms/step - loss: 1.1447 - val_loss: 1.0262\n",
      "Epoch 100/1000\n",
      "21/21 [==============================] - 3s 121ms/step - loss: 1.1457 - val_loss: 1.0262\n",
      "Epoch 101/1000\n",
      "21/21 [==============================] - ETA: 0s - loss: 1.1093\n",
      "Epoch 00101: ReduceLROnPlateau reducing learning rate to 9.999999146890344e-15.\n",
      "21/21 [==============================] - 2s 111ms/step - loss: 1.1093 - val_loss: 1.0262\n",
      "Epoch 102/1000\n",
      "21/21 [==============================] - 3s 120ms/step - loss: 1.0937 - val_loss: 1.0262\n",
      "Epoch 103/1000\n",
      "21/21 [==============================] - 2s 102ms/step - loss: 1.0841 - val_loss: 1.0262\n",
      "Epoch 104/1000\n",
      "21/21 [==============================] - 2s 96ms/step - loss: 1.1027 - val_loss: 1.0262\n",
      "Epoch 105/1000\n",
      "21/21 [==============================] - 2s 105ms/step - loss: 1.1777 - val_loss: 1.0262\n",
      "Epoch 106/1000\n",
      "21/21 [==============================] - 2s 101ms/step - loss: 1.1387 - val_loss: 1.0262\n",
      "Epoch 107/1000\n",
      "21/21 [==============================] - 2s 96ms/step - loss: 1.0824 - val_loss: 1.0262\n",
      "Epoch 108/1000\n",
      "21/21 [==============================] - 3s 121ms/step - loss: 1.0803 - val_loss: 1.0262\n",
      "Epoch 109/1000\n",
      "21/21 [==============================] - 2s 106ms/step - loss: 1.1477 - val_loss: 1.0262\n",
      "Epoch 110/1000\n",
      "21/21 [==============================] - 2s 103ms/step - loss: 1.0908 - val_loss: 1.0262\n",
      "Epoch 111/1000\n",
      "21/21 [==============================] - ETA: 0s - loss: 1.0775\n",
      "Epoch 00111: ReduceLROnPlateau reducing learning rate to 9.999998977483753e-16.\n",
      "Restoring model weights from the end of the best epoch.\n",
      "21/21 [==============================] - 2s 91ms/step - loss: 1.0775 - val_loss: 1.0262\n",
      "Epoch 00111: early stopping\n"
     ]
    }
   ],
   "source": [
    "# History object for plotting our model loss by epoch\n",
    "history2 = model2.fit(x_train12, y_train12, batch_size = BATCH2, \n",
    "                    epochs = EPOCHS2, validation_data = (x_val12, y_val12),\n",
    "                    callbacks = [rlrop2, early_stop2])"
   ]
  },
  {
   "cell_type": "code",
   "execution_count": 71,
   "metadata": {},
   "outputs": [
    {
     "data": {
      "image/png": "[encoded data removed]",
      "text/plain": [
       "<Figure size 720x504 with 1 Axes>"
      ]
     },
     "metadata": {
      "needs_background": "light"
     },
     "output_type": "display_data"
    }
   ],
   "source": [
    "# Loss History\n",
    "fig = plt.figure(figsize=(10, 7))\n",
    "plt.plot(history2.history['loss'])\n",
    "plt.plot(history2.history['val_loss'])\n",
    "plt.title('Model Loss')\n",
    "plt.ylabel('Loss')\n",
    "plt.xlabel('Epoch')\n",
    "plt.legend(['Train', 'Val'], loc='upper right')\n",
    "plt.show()"
   ]
  },
  {
   "cell_type": "markdown",
   "metadata": {},
   "source": [
    "### Previsão Multistep 12 meses em Validação\n",
    "Para ficar adequado à realidade, não podemos usar os dados de 2022 para prever 2022. Portanto, a previsão de 2022 será feita do moto *multistep*, isto é, o mês de janeiro/2022 será previsto usando-se os dados de arrecadação de janeiro a dezembro de 2021; o mês de fevereiro/2022 será previsto usando-se os dados de fevereiro a dezembro de 2021 mais a previsão feita para o mês de janeiro/2022; o mês de março/2022 será previsto usando-se os dados de março a dezembro de 2021 mais os meses de janeiro e fevereiro de 2022 previstos nos passos anteriores. E assim por diante, até que a previsão de dezembro/2022 será feita usando-se os dados de dezembro de 2021 mais as previsões de janeiro a novembro de 2022 feitas nos passos anteriores."
   ]
  },
  {
   "cell_type": "markdown",
   "metadata": {},
   "source": [
    "#### Remove os 12 últimos valores que serão previstos e cria as séries novamente"
   ]
  },
  {
   "cell_type": "code",
   "execution_count": 72,
   "metadata": {},
   "outputs": [
    {
     "name": "stdout",
     "output_type": "stream",
     "text": [
      "(216,)\n",
      "(192,)\n"
     ]
    },
    {
     "data": {
      "text/plain": [
       "pandas.core.series.Series"
      ]
     },
     "execution_count": 72,
     "metadata": {},
     "output_type": "execute_result"
    }
   ],
   "source": [
    "# remove\n",
    "serie_multi12 = l_icms_ts[:-24]\n",
    "print(l_icms_ts.shape)\n",
    "print(serie_multi12.shape)\n",
    "type(serie_multi12)"
   ]
  },
  {
   "cell_type": "code",
   "execution_count": 73,
   "metadata": {},
   "outputs": [
    {
     "name": "stdout",
     "output_type": "stream",
     "text": [
      "0 [[1.043013e+10]]\n",
      "1 [[1.0425775e+10]]\n",
      "2 [[1.0417824e+10]]\n",
      "3 [[1.0408289e+10]]\n",
      "4 [[1.040958e+10]]\n",
      "5 [[1.0423428e+10]]\n",
      "6 [[1.0435084e+10]]\n",
      "7 [[1.0452076e+10]]\n",
      "8 [[1.047191e+10]]\n",
      "9 [[1.0491103e+10]]\n",
      "10 [[1.0505761e+10]]\n",
      "11 [[1.0511093e+10]]\n"
     ]
    }
   ],
   "source": [
    "for i in range(12):\n",
    "    # cria as séries\n",
    "    X_multi12, Y_multi12 = cria_features_target(serie_multi12, verbose=0)\n",
    "\n",
    "    # Faz a normalização usando o modelo fitado na normalização anterior\n",
    "    X_multi_std12 = enc_x.transform(X_multi12)\n",
    "    X_multi_std12 = X_multi_std12.reshape(X_multi_std12.shape[0],10,1)\n",
    "\n",
    "    # Faz o janelamento das séries\n",
    "    x_multi12, y_multi12 = janelamento_12_meses(X_multi_std12, Y_multi12, verbose=0)\n",
    "\n",
    "    # Faz a predição da arrecadação do mês\n",
    "    #y_pred_multi = np.mean(model.predict(x_multi[-1:]), axis=1)#[:,0].ravel()\n",
    "    y_pred_multi12 = model2.predict(x_multi12[-1:])#[:,0].ravel()\n",
    "    print(i, np.exp(y_pred_multi12))\n",
    "\n",
    "    #### Adicionar o valor previsto à série e fazer o novo janelamento\n",
    "    serie_multi12 = pd.Series(np.append(serie_multi12, y_pred_multi12))\n",
    "    type(serie_multi12)"
   ]
  },
  {
   "cell_type": "code",
   "execution_count": 74,
   "metadata": {},
   "outputs": [],
   "source": [
    "Y_pred_multi12 = np.exp(pd.Series(serie_multi12[-12:])) # tira o log das previsões\n",
    "Y_pred_multi12.index = icms_val.index"
   ]
  },
  {
   "cell_type": "code",
   "execution_count": 75,
   "metadata": {},
   "outputs": [
    {
     "data": {
      "text/plain": [
       "date\n",
       "2019-01-01    1.043013e+10\n",
       "2019-02-01    1.042577e+10\n",
       "2019-03-01    1.041782e+10\n",
       "2019-04-01    1.040829e+10\n",
       "2019-05-01    1.040958e+10\n",
       "2019-06-01    1.042343e+10\n",
       "2019-07-01    1.043508e+10\n",
       "2019-08-01    1.045208e+10\n",
       "2019-09-01    1.047191e+10\n",
       "2019-10-01    1.049110e+10\n",
       "2019-11-01    1.050576e+10\n",
       "2019-12-01    1.051109e+10\n",
       "dtype: float64"
      ]
     },
     "execution_count": 75,
     "metadata": {},
     "output_type": "execute_result"
    }
   ],
   "source": [
    "Y_pred_multi12"
   ]
  },
  {
   "cell_type": "code",
   "execution_count": 76,
   "metadata": {},
   "outputs": [
    {
     "data": {
      "text/plain": [
       "1638542637.253974"
      ]
     },
     "execution_count": 76,
     "metadata": {},
     "output_type": "execute_result"
    }
   ],
   "source": [
    "RMSE_lstm_multi12 = mean_squared_error(icms_val, Y_pred_multi12, squared=False)\n",
    "RMSE_lstm_multi12"
   ]
  },
  {
   "cell_type": "code",
   "execution_count": 77,
   "metadata": {},
   "outputs": [
    {
     "data": {
      "text/plain": [
       "0.1277264455225185"
      ]
     },
     "execution_count": 77,
     "metadata": {},
     "output_type": "execute_result"
    }
   ],
   "source": [
    "MAPE_lstm_multi12 = mean_absolute_percentage_error(icms_val, Y_pred_multi12)\n",
    "MAPE_lstm_multi12"
   ]
  },
  {
   "cell_type": "code",
   "execution_count": 78,
   "metadata": {},
   "outputs": [],
   "source": [
    "previsoes['nome'].append('RNN-LSTM-12-meses-larga')\n",
    "previsoes['modelo'].append(model2)\n",
    "previsoes['previsoes'].append(Y_pred_multi12)\n",
    "\n",
    "previsoes['rmse'].append(RMSE_lstm_multi12)\n",
    "\n",
    "previsoes['mape'].append(MAPE_lstm_multi12)"
   ]
  },
  {
   "cell_type": "code",
   "execution_count": 79,
   "metadata": {},
   "outputs": [],
   "source": [
    "previsoes['erro relativo'].append([erro_relativo(prev,real) \n",
    "                                   for prev,real in zip(Y_pred_multi12\n",
    "                                                        , icms_val)])"
   ]
  },
  {
   "cell_type": "markdown",
   "metadata": {},
   "source": [
    "## Arquitetura da Rede - Arquitetura Multicamada"
   ]
  },
  {
   "cell_type": "code",
   "execution_count": 80,
   "metadata": {},
   "outputs": [],
   "source": [
    "rlrop4 = ReduceLROnPlateau(monitor='val_loss', factor=0.1, patience=25, verbose=1)\n",
    "early_stop4 = EarlyStopping(monitor='val_loss', patience=100, verbose=1, \n",
    "                           restore_best_weights=True)"
   ]
  },
  {
   "cell_type": "code",
   "execution_count": 81,
   "metadata": {},
   "outputs": [],
   "source": [
    "# Épocas e tamanho do lote\n",
    "EPOCHS4 = 1000\n",
    "BATCH4 = 8\n",
    "NEURONIOS4 = 600\n",
    "LR4 = 1e-5\n",
    "DROPOUT4 = 0.25\n",
    "\n",
    "# Imstanciação do modelo\n",
    "model4 = Sequential()\n",
    "\n",
    "# Adicionar camada LSTM \n",
    "model4.add(LSTM(activation='tanh', dropout=DROPOUT4,\n",
    "        input_shape = (12, 10), return_sequences = True,\n",
    "        units = NEURONIOS4))\n",
    "\n",
    "# Adicionar camada LSTM \n",
    "model4.add(LSTM(activation='tanh', dropout=DROPOUT4,\n",
    "        input_shape = (12, 10), return_sequences = True,\n",
    "        units = NEURONIOS4))\n",
    "\n",
    "## Adicionar camada LSTM \n",
    "model4.add(LSTM(activation='tanh', dropout=DROPOUT4,\n",
    "        input_shape = (12, 10), return_sequences = False,\n",
    "        units = NEURONIOS4))\n",
    "\n",
    "\n",
    "# Adicionar a camada de saída com 1 neurônio linear\n",
    "model4.add(Dense(\n",
    "        units = 1,\n",
    "        activation = 'linear'))\n",
    "# a learning rate padrão do Adam é 0.001\n",
    "model4.compile(loss = 'mape', optimizer = Adam(learning_rate=LR4))"
   ]
  },
  {
   "cell_type": "code",
   "execution_count": 82,
   "metadata": {},
   "outputs": [
    {
     "name": "stdout",
     "output_type": "stream",
     "text": [
      "Model: \"sequential_3\"\n",
      "_________________________________________________________________\n",
      "Layer (type)                 Output Shape              Param #   \n",
      "=================================================================\n",
      "lstm_5 (LSTM)                (None, 12, 600)           1466400   \n",
      "_________________________________________________________________\n",
      "lstm_6 (LSTM)                (None, 12, 600)           2882400   \n",
      "_________________________________________________________________\n",
      "lstm_7 (LSTM)                (None, 600)               2882400   \n",
      "_________________________________________________________________\n",
      "dense_3 (Dense)              (None, 1)                 601       \n",
      "=================================================================\n",
      "Total params: 7,231,801\n",
      "Trainable params: 7,231,801\n",
      "Non-trainable params: 0\n",
      "_________________________________________________________________\n"
     ]
    }
   ],
   "source": [
    "model4.summary()"
   ]
  },
  {
   "cell_type": "code",
   "execution_count": 83,
   "metadata": {
    "scrolled": true
   },
   "outputs": [
    {
     "name": "stdout",
     "output_type": "stream",
     "text": [
      "Epoch 1/1000\n",
      "21/21 [==============================] - 3s 155ms/step - loss: 99.3902 - val_loss: 98.0357\n",
      "Epoch 2/1000\n",
      "21/21 [==============================] - 3s 128ms/step - loss: 98.0034 - val_loss: 95.1760\n",
      "Epoch 3/1000\n",
      "21/21 [==============================] - 3s 124ms/step - loss: 95.3972 - val_loss: 88.9926\n",
      "Epoch 4/1000\n",
      "21/21 [==============================] - 3s 125ms/step - loss: 89.0221 - val_loss: 71.7115\n",
      "Epoch 5/1000\n",
      "21/21 [==============================] - 3s 126ms/step - loss: 71.2369 - val_loss: 35.2243\n",
      "Epoch 6/1000\n",
      "21/21 [==============================] - 3s 126ms/step - loss: 39.8443 - val_loss: 7.2592\n",
      "Epoch 7/1000\n",
      "21/21 [==============================] - 3s 136ms/step - loss: 14.8613 - val_loss: 3.2741\n",
      "Epoch 8/1000\n",
      "21/21 [==============================] - 3s 122ms/step - loss: 7.8314 - val_loss: 0.3897\n",
      "Epoch 9/1000\n",
      "21/21 [==============================] - 4s 179ms/step - loss: 5.2938 - val_loss: 0.1579\n",
      "Epoch 10/1000\n",
      "21/21 [==============================] - 3s 125ms/step - loss: 3.4843 - val_loss: 0.2214\n",
      "Epoch 11/1000\n",
      "21/21 [==============================] - 3s 120ms/step - loss: 2.6465 - val_loss: 0.2402\n",
      "Epoch 12/1000\n",
      "21/21 [==============================] - 3s 131ms/step - loss: 1.9322 - val_loss: 0.2434\n",
      "Epoch 13/1000\n",
      "21/21 [==============================] - 3s 150ms/step - loss: 1.7328 - val_loss: 0.2671\n",
      "Epoch 14/1000\n",
      "21/21 [==============================] - 3s 154ms/step - loss: 1.4410 - val_loss: 0.6843\n",
      "Epoch 15/1000\n",
      "21/21 [==============================] - 3s 130ms/step - loss: 1.3748 - val_loss: 0.6951\n",
      "Epoch 16/1000\n",
      "21/21 [==============================] - 3s 133ms/step - loss: 1.1557 - val_loss: 0.1786\n",
      "Epoch 17/1000\n",
      "21/21 [==============================] - 3s 119ms/step - loss: 1.1958 - val_loss: 0.4931\n",
      "Epoch 18/1000\n",
      "21/21 [==============================] - 3s 131ms/step - loss: 1.0727 - val_loss: 0.6726\n",
      "Epoch 19/1000\n",
      "21/21 [==============================] - 3s 124ms/step - loss: 1.0015 - val_loss: 0.7527\n",
      "Epoch 20/1000\n",
      "21/21 [==============================] - 2s 119ms/step - loss: 0.9516 - val_loss: 0.7277\n",
      "Epoch 21/1000\n",
      "21/21 [==============================] - 3s 133ms/step - loss: 0.9593 - val_loss: 0.5293\n",
      "Epoch 22/1000\n",
      "21/21 [==============================] - 3s 129ms/step - loss: 0.9052 - val_loss: 0.6920\n",
      "Epoch 23/1000\n",
      "21/21 [==============================] - 3s 141ms/step - loss: 0.9368 - val_loss: 0.6057\n",
      "Epoch 24/1000\n",
      "21/21 [==============================] - 3s 130ms/step - loss: 0.8766 - val_loss: 0.6315\n",
      "Epoch 25/1000\n",
      "21/21 [==============================] - 3s 123ms/step - loss: 0.9216 - val_loss: 0.6207\n",
      "Epoch 26/1000\n",
      "21/21 [==============================] - 3s 124ms/step - loss: 0.8188 - val_loss: 0.5989\n",
      "Epoch 27/1000\n",
      "21/21 [==============================] - 3s 121ms/step - loss: 0.8048 - val_loss: 0.4835\n",
      "Epoch 28/1000\n",
      "21/21 [==============================] - 3s 120ms/step - loss: 0.8051 - val_loss: 0.2552\n",
      "Epoch 29/1000\n",
      "21/21 [==============================] - 2s 115ms/step - loss: 0.8427 - val_loss: 0.6426\n",
      "Epoch 30/1000\n",
      "21/21 [==============================] - 3s 124ms/step - loss: 0.7558 - val_loss: 0.6796\n",
      "Epoch 31/1000\n",
      "21/21 [==============================] - 2s 118ms/step - loss: 0.8035 - val_loss: 0.5723\n",
      "Epoch 32/1000\n",
      "21/21 [==============================] - 2s 117ms/step - loss: 0.7494 - val_loss: 0.6854\n",
      "Epoch 33/1000\n",
      "21/21 [==============================] - 2s 116ms/step - loss: 0.7789 - val_loss: 0.5511\n",
      "Epoch 34/1000\n",
      "21/21 [==============================] - ETA: 0s - loss: 0.7558\n",
      "Epoch 00034: ReduceLROnPlateau reducing learning rate to 9.999999747378752e-07.\n",
      "21/21 [==============================] - 2s 117ms/step - loss: 0.7558 - val_loss: 0.2195\n",
      "Epoch 35/1000\n",
      "21/21 [==============================] - 3s 124ms/step - loss: 0.7276 - val_loss: 0.3779\n",
      "Epoch 36/1000\n",
      "21/21 [==============================] - 3s 119ms/step - loss: 0.6545 - val_loss: 0.4982\n",
      "Epoch 37/1000\n",
      "21/21 [==============================] - 2s 116ms/step - loss: 0.6788 - val_loss: 0.4838\n",
      "Epoch 38/1000\n",
      "21/21 [==============================] - 3s 120ms/step - loss: 0.7100 - val_loss: 0.5164\n",
      "Epoch 39/1000\n",
      "21/21 [==============================] - 3s 139ms/step - loss: 0.6519 - val_loss: 0.5236\n",
      "Epoch 40/1000\n",
      "21/21 [==============================] - 2s 118ms/step - loss: 0.7279 - val_loss: 0.4975\n",
      "Epoch 41/1000\n",
      "21/21 [==============================] - 3s 131ms/step - loss: 0.6612 - val_loss: 0.4218\n",
      "Epoch 42/1000\n",
      "21/21 [==============================] - 2s 117ms/step - loss: 0.6726 - val_loss: 0.5185\n",
      "Epoch 43/1000\n",
      "21/21 [==============================] - 3s 142ms/step - loss: 0.7560 - val_loss: 0.5116\n",
      "Epoch 44/1000\n",
      "21/21 [==============================] - 2s 117ms/step - loss: 0.6912 - val_loss: 0.4776\n",
      "Epoch 45/1000\n",
      "21/21 [==============================] - 3s 126ms/step - loss: 0.6828 - val_loss: 0.5309\n",
      "Epoch 46/1000\n",
      "21/21 [==============================] - 3s 131ms/step - loss: 0.6845 - val_loss: 0.3914\n",
      "Epoch 47/1000\n",
      "21/21 [==============================] - 3s 120ms/step - loss: 0.6266 - val_loss: 0.4207\n",
      "Epoch 48/1000\n",
      "21/21 [==============================] - 3s 121ms/step - loss: 0.7179 - val_loss: 0.3851\n",
      "Epoch 49/1000\n",
      "21/21 [==============================] - 3s 120ms/step - loss: 0.6957 - val_loss: 0.4369\n",
      "Epoch 50/1000\n",
      "21/21 [==============================] - 3s 145ms/step - loss: 0.6709 - val_loss: 0.4140\n",
      "Epoch 51/1000\n",
      "21/21 [==============================] - 3s 121ms/step - loss: 0.6629 - val_loss: 0.4485\n",
      "Epoch 52/1000\n",
      "21/21 [==============================] - 3s 147ms/step - loss: 0.6934 - val_loss: 0.4407\n",
      "Epoch 53/1000\n",
      "21/21 [==============================] - 2s 115ms/step - loss: 0.6708 - val_loss: 0.4289\n",
      "Epoch 54/1000\n",
      "21/21 [==============================] - 3s 129ms/step - loss: 0.6587 - val_loss: 0.4069\n",
      "Epoch 55/1000\n",
      "21/21 [==============================] - 3s 132ms/step - loss: 0.6555 - val_loss: 0.4323\n",
      "Epoch 56/1000\n",
      "21/21 [==============================] - 3s 141ms/step - loss: 0.6053 - val_loss: 0.4885\n",
      "Epoch 57/1000\n",
      "21/21 [==============================] - 2s 117ms/step - loss: 0.6605 - val_loss: 0.3892\n",
      "Epoch 58/1000\n",
      "21/21 [==============================] - 3s 144ms/step - loss: 0.6551 - val_loss: 0.3961\n",
      "Epoch 59/1000\n",
      "21/21 [==============================] - ETA: 0s - loss: 0.6432\n",
      "Epoch 00059: ReduceLROnPlateau reducing learning rate to 9.999999974752428e-08.\n",
      "21/21 [==============================] - 3s 137ms/step - loss: 0.6432 - val_loss: 0.4577\n",
      "Epoch 60/1000\n",
      "21/21 [==============================] - 3s 139ms/step - loss: 0.6398 - val_loss: 0.4556\n",
      "Epoch 61/1000\n",
      "21/21 [==============================] - 3s 143ms/step - loss: 0.6245 - val_loss: 0.4475\n",
      "Epoch 62/1000\n",
      "21/21 [==============================] - 3s 142ms/step - loss: 0.5967 - val_loss: 0.4454\n",
      "Epoch 63/1000\n",
      "21/21 [==============================] - 3s 135ms/step - loss: 0.6677 - val_loss: 0.4414\n",
      "Epoch 64/1000\n",
      "21/21 [==============================] - 3s 119ms/step - loss: 0.6487 - val_loss: 0.4377\n",
      "Epoch 65/1000\n",
      "21/21 [==============================] - 3s 130ms/step - loss: 0.6209 - val_loss: 0.4437\n",
      "Epoch 66/1000\n",
      "21/21 [==============================] - 3s 123ms/step - loss: 0.6239 - val_loss: 0.4482\n",
      "Epoch 67/1000\n",
      "21/21 [==============================] - 3s 144ms/step - loss: 0.7188 - val_loss: 0.4356\n",
      "Epoch 68/1000\n",
      "21/21 [==============================] - 2s 115ms/step - loss: 0.6343 - val_loss: 0.4363\n",
      "Epoch 69/1000\n",
      "21/21 [==============================] - 3s 133ms/step - loss: 0.6687 - val_loss: 0.4333\n",
      "Epoch 70/1000\n",
      "21/21 [==============================] - 3s 162ms/step - loss: 0.6454 - val_loss: 0.4197\n",
      "Epoch 71/1000\n",
      "21/21 [==============================] - 3s 138ms/step - loss: 0.6489 - val_loss: 0.4169\n",
      "Epoch 72/1000\n",
      "21/21 [==============================] - 3s 135ms/step - loss: 0.6411 - val_loss: 0.4149\n",
      "Epoch 73/1000\n",
      "21/21 [==============================] - 3s 134ms/step - loss: 0.6357 - val_loss: 0.4185\n",
      "Epoch 74/1000\n",
      "21/21 [==============================] - 3s 125ms/step - loss: 0.6351 - val_loss: 0.4075\n",
      "Epoch 75/1000\n",
      "21/21 [==============================] - 3s 127ms/step - loss: 0.6216 - val_loss: 0.4026\n",
      "Epoch 76/1000\n",
      "21/21 [==============================] - 2s 118ms/step - loss: 0.6602 - val_loss: 0.4011\n",
      "Epoch 77/1000\n",
      "21/21 [==============================] - 3s 123ms/step - loss: 0.6686 - val_loss: 0.4006\n",
      "Epoch 78/1000\n",
      "21/21 [==============================] - 3s 121ms/step - loss: 0.6907 - val_loss: 0.3984\n",
      "Epoch 79/1000\n",
      "21/21 [==============================] - 2s 115ms/step - loss: 0.6475 - val_loss: 0.4009\n",
      "Epoch 80/1000\n",
      "21/21 [==============================] - 3s 155ms/step - loss: 0.6314 - val_loss: 0.4083\n",
      "Epoch 81/1000\n",
      "21/21 [==============================] - 4s 168ms/step - loss: 0.6282 - val_loss: 0.4091\n",
      "Epoch 82/1000\n",
      "21/21 [==============================] - 3s 156ms/step - loss: 0.6353 - val_loss: 0.4224\n",
      "Epoch 83/1000\n",
      "21/21 [==============================] - 3s 162ms/step - loss: 0.6741 - val_loss: 0.4188\n",
      "Epoch 84/1000\n",
      "21/21 [==============================] - ETA: 0s - loss: 0.6516\n",
      "Epoch 00084: ReduceLROnPlateau reducing learning rate to 1.0000000116860975e-08.\n",
      "21/21 [==============================] - 3s 133ms/step - loss: 0.6516 - val_loss: 0.4209\n",
      "Epoch 85/1000\n",
      "21/21 [==============================] - 3s 131ms/step - loss: 0.6813 - val_loss: 0.4209\n",
      "Epoch 86/1000\n",
      "21/21 [==============================] - 3s 149ms/step - loss: 0.6678 - val_loss: 0.4200\n",
      "Epoch 87/1000\n",
      "21/21 [==============================] - 3s 137ms/step - loss: 0.6633 - val_loss: 0.4201\n",
      "Epoch 88/1000\n",
      "21/21 [==============================] - 3s 142ms/step - loss: 0.6615 - val_loss: 0.4197\n",
      "Epoch 89/1000\n",
      "21/21 [==============================] - 3s 132ms/step - loss: 0.6337 - val_loss: 0.4180\n",
      "Epoch 90/1000\n",
      "21/21 [==============================] - 3s 143ms/step - loss: 0.6566 - val_loss: 0.4173\n",
      "Epoch 91/1000\n",
      "21/21 [==============================] - 3s 129ms/step - loss: 0.6347 - val_loss: 0.4169\n",
      "Epoch 92/1000\n",
      "21/21 [==============================] - 3s 136ms/step - loss: 0.6257 - val_loss: 0.4162\n",
      "Epoch 93/1000\n",
      "21/21 [==============================] - 2s 116ms/step - loss: 0.7037 - val_loss: 0.4164\n",
      "Epoch 94/1000\n",
      "21/21 [==============================] - 3s 129ms/step - loss: 0.6743 - val_loss: 0.4169\n",
      "Epoch 95/1000\n",
      "21/21 [==============================] - 3s 162ms/step - loss: 0.6612 - val_loss: 0.4176\n",
      "Epoch 96/1000\n",
      "21/21 [==============================] - 3s 132ms/step - loss: 0.6488 - val_loss: 0.4169\n",
      "Epoch 97/1000\n",
      "21/21 [==============================] - 3s 129ms/step - loss: 0.6211 - val_loss: 0.4177\n",
      "Epoch 98/1000\n",
      "21/21 [==============================] - 3s 137ms/step - loss: 0.6280 - val_loss: 0.4178\n",
      "Epoch 99/1000\n",
      "21/21 [==============================] - 3s 151ms/step - loss: 0.6712 - val_loss: 0.4184\n",
      "Epoch 100/1000\n",
      "21/21 [==============================] - 3s 152ms/step - loss: 0.6416 - val_loss: 0.4188\n",
      "Epoch 101/1000\n",
      "21/21 [==============================] - 3s 157ms/step - loss: 0.6681 - val_loss: 0.4191\n",
      "Epoch 102/1000\n",
      "21/21 [==============================] - 3s 132ms/step - loss: 0.6916 - val_loss: 0.4183\n",
      "Epoch 103/1000\n",
      "21/21 [==============================] - 3s 121ms/step - loss: 0.6501 - val_loss: 0.4179\n",
      "Epoch 104/1000\n",
      "21/21 [==============================] - 2s 116ms/step - loss: 0.6049 - val_loss: 0.4184\n",
      "Epoch 105/1000\n",
      "21/21 [==============================] - 2s 117ms/step - loss: 0.5995 - val_loss: 0.4193\n",
      "Epoch 106/1000\n",
      "21/21 [==============================] - 2s 114ms/step - loss: 0.6390 - val_loss: 0.4196\n",
      "Epoch 107/1000\n",
      "21/21 [==============================] - 2s 112ms/step - loss: 0.6150 - val_loss: 0.4194\n",
      "Epoch 108/1000\n",
      "21/21 [==============================] - 2s 112ms/step - loss: 0.6064 - val_loss: 0.4186\n",
      "Epoch 109/1000\n",
      "21/21 [==============================] - ETA: 0s - loss: 0.6408\n",
      "Epoch 00109: ReduceLROnPlateau reducing learning rate to 9.999999939225292e-10.\n",
      "Restoring model weights from the end of the best epoch.\n",
      "21/21 [==============================] - 2s 117ms/step - loss: 0.6408 - val_loss: 0.4187\n",
      "Epoch 00109: early stopping\n"
     ]
    }
   ],
   "source": [
    "# History object for plotting our model loss by epoch\n",
    "history4 = model4.fit(x_train12, y_train12, batch_size = BATCH4, \n",
    "                    epochs = EPOCHS4, validation_data = (x_val12, y_val12),\n",
    "                    callbacks = [rlrop4, early_stop4])"
   ]
  },
  {
   "cell_type": "code",
   "execution_count": 84,
   "metadata": {},
   "outputs": [
    {
     "data": {
      "image/png": "[encoded data removed]",
      "text/plain": [
       "<Figure size 720x504 with 1 Axes>"
      ]
     },
     "metadata": {
      "needs_background": "light"
     },
     "output_type": "display_data"
    }
   ],
   "source": [
    "# Loss History\n",
    "fig = plt.figure(figsize=(10, 7))\n",
    "plt.plot(history4.history['loss'])\n",
    "plt.plot(history4.history['val_loss'])\n",
    "plt.title('Model Loss')\n",
    "plt.ylabel('Loss')\n",
    "plt.xlabel('Epoch')\n",
    "plt.legend(['Train', 'Val'], loc='upper right')\n",
    "plt.show()"
   ]
  },
  {
   "cell_type": "markdown",
   "metadata": {},
   "source": [
    "### Previsão Multistep 12 meses em Validação\n",
    "Para ficar adequado à realidade, não podemos usar os dados de 2022 para prever 2022. Portanto, a previsão de 2022 será feita do moto *multistep*, isto é, o mês de janeiro/2022 será previsto usando-se os dados de arrecadação de janeiro a dezembro de 2021; o mês de fevereiro/2022 será previsto usando-se os dados de fevereiro a dezembro de 2021 mais a previsão feita para o mês de janeiro/2022; o mês de março/2022 será previsto usando-se os dados de março a dezembro de 2021 mais os meses de janeiro e fevereiro de 2022 previstos nos passos anteriores. E assim por diante, até que a previsão de dezembro/2022 será feita usando-se os dados de dezembro de 2021 mais as previsões de janeiro a novembro de 2022 feitas nos passos anteriores."
   ]
  },
  {
   "cell_type": "markdown",
   "metadata": {},
   "source": [
    "#### Remove os 12 últimos valores que serão previstos e cria as séries novamente"
   ]
  },
  {
   "cell_type": "code",
   "execution_count": 85,
   "metadata": {},
   "outputs": [
    {
     "name": "stdout",
     "output_type": "stream",
     "text": [
      "(216,)\n",
      "(192,)\n"
     ]
    },
    {
     "data": {
      "text/plain": [
       "pandas.core.series.Series"
      ]
     },
     "execution_count": 85,
     "metadata": {},
     "output_type": "execute_result"
    }
   ],
   "source": [
    "# remove\n",
    "serie_multi122 = l_icms_ts[:-24]\n",
    "print(l_icms_ts.shape)\n",
    "print(serie_multi122.shape)\n",
    "type(serie_multi122)"
   ]
  },
  {
   "cell_type": "code",
   "execution_count": 86,
   "metadata": {},
   "outputs": [
    {
     "name": "stdout",
     "output_type": "stream",
     "text": [
      "0 [[1.2023223e+10]]\n",
      "1 [[1.2029027e+10]]\n",
      "2 [[1.202905e+10]]\n",
      "3 [[1.203263e+10]]\n",
      "4 [[1.2045443e+10]]\n",
      "5 [[1.2058914e+10]]\n",
      "6 [[1.2073804e+10]]\n",
      "7 [[1.2093256e+10]]\n",
      "8 [[1.2115257e+10]]\n",
      "9 [[1.2137554e+10]]\n",
      "10 [[1.2159033e+10]]\n",
      "11 [[1.217335e+10]]\n"
     ]
    }
   ],
   "source": [
    "for i in range(12):\n",
    "    # cria as séries\n",
    "    X_multi122, Y_multi122 = cria_features_target(serie_multi122, verbose=0)\n",
    "\n",
    "    # Faz a normalização usando o modelo fitado na normalização anterior\n",
    "    X_multi_std122 = enc_x.transform(X_multi122)\n",
    "    X_multi_std122 = X_multi_std122.reshape(X_multi_std122.shape[0],10,1)\n",
    "\n",
    "    # Faz o janelamento das séries\n",
    "    x_multi122, y_multi122 = janelamento_12_meses(X_multi_std122, Y_multi122, verbose=0)\n",
    "\n",
    "    # Faz a predição da arrecadação do mês\n",
    "    #y_pred_multi = np.mean(model.predict(x_multi[-1:]), axis=1)#[:,0].ravel()\n",
    "    y_pred_multi122 = model4.predict(x_multi122[-1:])#[:,0].ravel()\n",
    "    print(i, np.exp(y_pred_multi122))\n",
    "\n",
    "    #### Adicionar o valor previsto à série e fazer o novo janelamento\n",
    "    serie_multi122 = pd.Series(np.append(serie_multi122, y_pred_multi122))\n",
    "    type(serie_multi122)"
   ]
  },
  {
   "cell_type": "code",
   "execution_count": 87,
   "metadata": {},
   "outputs": [],
   "source": [
    "Y_pred_multi122 = np.exp(pd.Series(serie_multi122[-12:])) # tira o log das previsões\n",
    "Y_pred_multi122.index = icms_val.index"
   ]
  },
  {
   "cell_type": "code",
   "execution_count": 88,
   "metadata": {},
   "outputs": [
    {
     "data": {
      "text/plain": [
       "date\n",
       "2019-01-01    1.202322e+10\n",
       "2019-02-01    1.202903e+10\n",
       "2019-03-01    1.202905e+10\n",
       "2019-04-01    1.203263e+10\n",
       "2019-05-01    1.204544e+10\n",
       "2019-06-01    1.205891e+10\n",
       "2019-07-01    1.207380e+10\n",
       "2019-08-01    1.209326e+10\n",
       "2019-09-01    1.211526e+10\n",
       "2019-10-01    1.213755e+10\n",
       "2019-11-01    1.215903e+10\n",
       "2019-12-01    1.217335e+10\n",
       "dtype: float64"
      ]
     },
     "execution_count": 88,
     "metadata": {},
     "output_type": "execute_result"
    }
   ],
   "source": [
    "Y_pred_multi122"
   ]
  },
  {
   "cell_type": "code",
   "execution_count": 89,
   "metadata": {},
   "outputs": [
    {
     "data": {
      "text/plain": [
       "517795281.4253468"
      ]
     },
     "execution_count": 89,
     "metadata": {},
     "output_type": "execute_result"
    }
   ],
   "source": [
    "RMSE_lstm_multi122 = mean_squared_error(icms_val, Y_pred_multi122, squared=False)\n",
    "RMSE_lstm_multi122"
   ]
  },
  {
   "cell_type": "code",
   "execution_count": 90,
   "metadata": {
    "scrolled": true
   },
   "outputs": [
    {
     "data": {
      "text/plain": [
       "0.036493802091693624"
      ]
     },
     "execution_count": 90,
     "metadata": {},
     "output_type": "execute_result"
    }
   ],
   "source": [
    "MAPE_lstm_multi122 = mean_absolute_percentage_error(icms_val, Y_pred_multi122)\n",
    "MAPE_lstm_multi122"
   ]
  },
  {
   "cell_type": "code",
   "execution_count": 91,
   "metadata": {},
   "outputs": [],
   "source": [
    "previsoes['nome'].append('RNN-LSTM-12-meses-camadas')\n",
    "previsoes['modelo'].append(model4)\n",
    "previsoes['previsoes'].append(Y_pred_multi122)\n",
    "\n",
    "previsoes['rmse'].append(RMSE_lstm_multi122)\n",
    "\n",
    "previsoes['mape'].append(MAPE_lstm_multi122)"
   ]
  },
  {
   "cell_type": "code",
   "execution_count": 92,
   "metadata": {},
   "outputs": [],
   "source": [
    "previsoes['erro relativo'].append([erro_relativo(prev,real) \n",
    "                                   for prev,real in zip(Y_pred_multi122\n",
    "                                                        , icms_val)])"
   ]
  },
  {
   "cell_type": "markdown",
   "metadata": {},
   "source": [
    "## Resultados"
   ]
  },
  {
   "cell_type": "code",
   "execution_count": 93,
   "metadata": {},
   "outputs": [
    {
     "data": {
      "text/plain": [
       "['RNN-LSTM-1-mês-larga',\n",
       " 'RNN-LSTM-1-mês-camadas',\n",
       " 'RNN-LSTM-12-meses-larga',\n",
       " 'RNN-LSTM-12-meses-camadas']"
      ]
     },
     "execution_count": 93,
     "metadata": {},
     "output_type": "execute_result"
    }
   ],
   "source": [
    "previsoes['nome']"
   ]
  },
  {
   "cell_type": "code",
   "execution_count": 94,
   "metadata": {},
   "outputs": [],
   "source": [
    "df_prev = pd.DataFrame(data=previsoes['previsoes'], \n",
    "                       index=previsoes['nome']).transpose()\n",
    "df_prev[\"real\"] = icms_val\n",
    "df_rmse = pd.DataFrame(data=previsoes['rmse'], \n",
    "                       index=previsoes['nome']).transpose()\n",
    "df_mape = pd.DataFrame(data=previsoes['mape'], \n",
    "                       index=previsoes['nome']).transpose()\n",
    "df_erro = pd.DataFrame(data=previsoes['erro relativo'], \n",
    "                       index=previsoes['nome']).transpose()"
   ]
  },
  {
   "cell_type": "code",
   "execution_count": 95,
   "metadata": {},
   "outputs": [
    {
     "data": {
      "text/html": [
       "<div>\n",
       "<style scoped>\n",
       "    .dataframe tbody tr th:only-of-type {\n",
       "        vertical-align: middle;\n",
       "    }\n",
       "\n",
       "    .dataframe tbody tr th {\n",
       "        vertical-align: top;\n",
       "    }\n",
       "\n",
       "    .dataframe thead th {\n",
       "        text-align: right;\n",
       "    }\n",
       "</style>\n",
       "<table border=\"1\" class=\"dataframe\">\n",
       "  <thead>\n",
       "    <tr style=\"text-align: right;\">\n",
       "      <th></th>\n",
       "      <th>RNN-LSTM-1-mês-larga</th>\n",
       "      <th>RNN-LSTM-1-mês-camadas</th>\n",
       "      <th>RNN-LSTM-12-meses-larga</th>\n",
       "      <th>RNN-LSTM-12-meses-camadas</th>\n",
       "      <th>real</th>\n",
       "    </tr>\n",
       "    <tr>\n",
       "      <th>date</th>\n",
       "      <th></th>\n",
       "      <th></th>\n",
       "      <th></th>\n",
       "      <th></th>\n",
       "      <th></th>\n",
       "    </tr>\n",
       "  </thead>\n",
       "  <tbody>\n",
       "    <tr>\n",
       "      <th>2019-01-01</th>\n",
       "      <td>1.182536e+10</td>\n",
       "      <td>1.242044e+10</td>\n",
       "      <td>1.043013e+10</td>\n",
       "      <td>1.202322e+10</td>\n",
       "      <td>1.236685e+10</td>\n",
       "    </tr>\n",
       "    <tr>\n",
       "      <th>2019-02-01</th>\n",
       "      <td>1.179947e+10</td>\n",
       "      <td>1.240881e+10</td>\n",
       "      <td>1.042577e+10</td>\n",
       "      <td>1.202903e+10</td>\n",
       "      <td>1.126598e+10</td>\n",
       "    </tr>\n",
       "    <tr>\n",
       "      <th>2019-03-01</th>\n",
       "      <td>1.185004e+10</td>\n",
       "      <td>1.247588e+10</td>\n",
       "      <td>1.041782e+10</td>\n",
       "      <td>1.202905e+10</td>\n",
       "      <td>1.131000e+10</td>\n",
       "    </tr>\n",
       "    <tr>\n",
       "      <th>2019-04-01</th>\n",
       "      <td>1.186333e+10</td>\n",
       "      <td>1.253819e+10</td>\n",
       "      <td>1.040829e+10</td>\n",
       "      <td>1.203263e+10</td>\n",
       "      <td>1.201696e+10</td>\n",
       "    </tr>\n",
       "    <tr>\n",
       "      <th>2019-05-01</th>\n",
       "      <td>1.186268e+10</td>\n",
       "      <td>1.258371e+10</td>\n",
       "      <td>1.040958e+10</td>\n",
       "      <td>1.204544e+10</td>\n",
       "      <td>1.173362e+10</td>\n",
       "    </tr>\n",
       "    <tr>\n",
       "      <th>2019-06-01</th>\n",
       "      <td>1.186618e+10</td>\n",
       "      <td>1.264479e+10</td>\n",
       "      <td>1.042343e+10</td>\n",
       "      <td>1.205891e+10</td>\n",
       "      <td>1.138744e+10</td>\n",
       "    </tr>\n",
       "    <tr>\n",
       "      <th>2019-07-01</th>\n",
       "      <td>1.186720e+10</td>\n",
       "      <td>1.265896e+10</td>\n",
       "      <td>1.043508e+10</td>\n",
       "      <td>1.207380e+10</td>\n",
       "      <td>1.177099e+10</td>\n",
       "    </tr>\n",
       "    <tr>\n",
       "      <th>2019-08-01</th>\n",
       "      <td>1.187230e+10</td>\n",
       "      <td>1.267616e+10</td>\n",
       "      <td>1.045208e+10</td>\n",
       "      <td>1.209326e+10</td>\n",
       "      <td>1.178403e+10</td>\n",
       "    </tr>\n",
       "    <tr>\n",
       "      <th>2019-09-01</th>\n",
       "      <td>1.187046e+10</td>\n",
       "      <td>1.270887e+10</td>\n",
       "      <td>1.047191e+10</td>\n",
       "      <td>1.211526e+10</td>\n",
       "      <td>1.214739e+10</td>\n",
       "    </tr>\n",
       "    <tr>\n",
       "      <th>2019-10-01</th>\n",
       "      <td>1.187008e+10</td>\n",
       "      <td>1.271966e+10</td>\n",
       "      <td>1.049110e+10</td>\n",
       "      <td>1.213755e+10</td>\n",
       "      <td>1.251718e+10</td>\n",
       "    </tr>\n",
       "    <tr>\n",
       "      <th>2019-11-01</th>\n",
       "      <td>1.187094e+10</td>\n",
       "      <td>1.272791e+10</td>\n",
       "      <td>1.050576e+10</td>\n",
       "      <td>1.215903e+10</td>\n",
       "      <td>1.257453e+10</td>\n",
       "    </tr>\n",
       "    <tr>\n",
       "      <th>2019-12-01</th>\n",
       "      <td>1.187039e+10</td>\n",
       "      <td>1.273840e+10</td>\n",
       "      <td>1.051109e+10</td>\n",
       "      <td>1.217335e+10</td>\n",
       "      <td>1.314626e+10</td>\n",
       "    </tr>\n",
       "  </tbody>\n",
       "</table>\n",
       "</div>"
      ],
      "text/plain": [
       "            RNN-LSTM-1-mês-larga  RNN-LSTM-1-mês-camadas  \\\n",
       "date                                                       \n",
       "2019-01-01          1.182536e+10            1.242044e+10   \n",
       "2019-02-01          1.179947e+10            1.240881e+10   \n",
       "2019-03-01          1.185004e+10            1.247588e+10   \n",
       "2019-04-01          1.186333e+10            1.253819e+10   \n",
       "2019-05-01          1.186268e+10            1.258371e+10   \n",
       "2019-06-01          1.186618e+10            1.264479e+10   \n",
       "2019-07-01          1.186720e+10            1.265896e+10   \n",
       "2019-08-01          1.187230e+10            1.267616e+10   \n",
       "2019-09-01          1.187046e+10            1.270887e+10   \n",
       "2019-10-01          1.187008e+10            1.271966e+10   \n",
       "2019-11-01          1.187094e+10            1.272791e+10   \n",
       "2019-12-01          1.187039e+10            1.273840e+10   \n",
       "\n",
       "            RNN-LSTM-12-meses-larga  RNN-LSTM-12-meses-camadas          real  \n",
       "date                                                                          \n",
       "2019-01-01             1.043013e+10               1.202322e+10  1.236685e+10  \n",
       "2019-02-01             1.042577e+10               1.202903e+10  1.126598e+10  \n",
       "2019-03-01             1.041782e+10               1.202905e+10  1.131000e+10  \n",
       "2019-04-01             1.040829e+10               1.203263e+10  1.201696e+10  \n",
       "2019-05-01             1.040958e+10               1.204544e+10  1.173362e+10  \n",
       "2019-06-01             1.042343e+10               1.205891e+10  1.138744e+10  \n",
       "2019-07-01             1.043508e+10               1.207380e+10  1.177099e+10  \n",
       "2019-08-01             1.045208e+10               1.209326e+10  1.178403e+10  \n",
       "2019-09-01             1.047191e+10               1.211526e+10  1.214739e+10  \n",
       "2019-10-01             1.049110e+10               1.213755e+10  1.251718e+10  \n",
       "2019-11-01             1.050576e+10               1.215903e+10  1.257453e+10  \n",
       "2019-12-01             1.051109e+10               1.217335e+10  1.314626e+10  "
      ]
     },
     "execution_count": 95,
     "metadata": {},
     "output_type": "execute_result"
    }
   ],
   "source": [
    "df_prev"
   ]
  },
  {
   "cell_type": "code",
   "execution_count": 96,
   "metadata": {},
   "outputs": [
    {
     "data": {
      "text/html": [
       "<div>\n",
       "<style scoped>\n",
       "    .dataframe tbody tr th:only-of-type {\n",
       "        vertical-align: middle;\n",
       "    }\n",
       "\n",
       "    .dataframe tbody tr th {\n",
       "        vertical-align: top;\n",
       "    }\n",
       "\n",
       "    .dataframe thead th {\n",
       "        text-align: right;\n",
       "    }\n",
       "</style>\n",
       "<table border=\"1\" class=\"dataframe\">\n",
       "  <thead>\n",
       "    <tr style=\"text-align: right;\">\n",
       "      <th></th>\n",
       "      <th>RNN-LSTM-1-mês-larga</th>\n",
       "      <th>RNN-LSTM-1-mês-camadas</th>\n",
       "      <th>RNN-LSTM-12-meses-larga</th>\n",
       "      <th>RNN-LSTM-12-meses-camadas</th>\n",
       "    </tr>\n",
       "  </thead>\n",
       "  <tbody>\n",
       "    <tr>\n",
       "      <th>0</th>\n",
       "      <td>4.378576</td>\n",
       "      <td>0.433313</td>\n",
       "      <td>15.660571</td>\n",
       "      <td>2.778603</td>\n",
       "    </tr>\n",
       "    <tr>\n",
       "      <th>1</th>\n",
       "      <td>4.735411</td>\n",
       "      <td>10.144084</td>\n",
       "      <td>7.457898</td>\n",
       "      <td>6.773024</td>\n",
       "    </tr>\n",
       "    <tr>\n",
       "      <th>2</th>\n",
       "      <td>4.774865</td>\n",
       "      <td>10.308379</td>\n",
       "      <td>7.888379</td>\n",
       "      <td>6.357661</td>\n",
       "    </tr>\n",
       "    <tr>\n",
       "      <th>3</th>\n",
       "      <td>1.278404</td>\n",
       "      <td>4.337433</td>\n",
       "      <td>13.386656</td>\n",
       "      <td>0.130409</td>\n",
       "    </tr>\n",
       "    <tr>\n",
       "      <th>4</th>\n",
       "      <td>1.099868</td>\n",
       "      <td>7.244852</td>\n",
       "      <td>11.284176</td>\n",
       "      <td>2.657492</td>\n",
       "    </tr>\n",
       "    <tr>\n",
       "      <th>5</th>\n",
       "      <td>4.204114</td>\n",
       "      <td>11.041551</td>\n",
       "      <td>8.465602</td>\n",
       "      <td>5.896582</td>\n",
       "    </tr>\n",
       "    <tr>\n",
       "      <th>6</th>\n",
       "      <td>0.817360</td>\n",
       "      <td>7.543692</td>\n",
       "      <td>11.349145</td>\n",
       "      <td>2.572531</td>\n",
       "    </tr>\n",
       "    <tr>\n",
       "      <th>7</th>\n",
       "      <td>0.749024</td>\n",
       "      <td>7.570671</td>\n",
       "      <td>11.303055</td>\n",
       "      <td>2.624096</td>\n",
       "    </tr>\n",
       "    <tr>\n",
       "      <th>8</th>\n",
       "      <td>2.279689</td>\n",
       "      <td>4.622253</td>\n",
       "      <td>13.792882</td>\n",
       "      <td>0.264481</td>\n",
       "    </tr>\n",
       "    <tr>\n",
       "      <th>9</th>\n",
       "      <td>5.169686</td>\n",
       "      <td>1.617642</td>\n",
       "      <td>16.186346</td>\n",
       "      <td>3.032809</td>\n",
       "    </tr>\n",
       "    <tr>\n",
       "      <th>10</th>\n",
       "      <td>5.595359</td>\n",
       "      <td>1.219790</td>\n",
       "      <td>16.452048</td>\n",
       "      <td>3.304253</td>\n",
       "    </tr>\n",
       "    <tr>\n",
       "      <th>11</th>\n",
       "      <td>9.705133</td>\n",
       "      <td>3.102432</td>\n",
       "      <td>20.044978</td>\n",
       "      <td>7.400623</td>\n",
       "    </tr>\n",
       "  </tbody>\n",
       "</table>\n",
       "</div>"
      ],
      "text/plain": [
       "    RNN-LSTM-1-mês-larga  RNN-LSTM-1-mês-camadas  RNN-LSTM-12-meses-larga  \\\n",
       "0               4.378576                0.433313                15.660571   \n",
       "1               4.735411               10.144084                 7.457898   \n",
       "2               4.774865               10.308379                 7.888379   \n",
       "3               1.278404                4.337433                13.386656   \n",
       "4               1.099868                7.244852                11.284176   \n",
       "5               4.204114               11.041551                 8.465602   \n",
       "6               0.817360                7.543692                11.349145   \n",
       "7               0.749024                7.570671                11.303055   \n",
       "8               2.279689                4.622253                13.792882   \n",
       "9               5.169686                1.617642                16.186346   \n",
       "10              5.595359                1.219790                16.452048   \n",
       "11              9.705133                3.102432                20.044978   \n",
       "\n",
       "    RNN-LSTM-12-meses-camadas  \n",
       "0                    2.778603  \n",
       "1                    6.773024  \n",
       "2                    6.357661  \n",
       "3                    0.130409  \n",
       "4                    2.657492  \n",
       "5                    5.896582  \n",
       "6                    2.572531  \n",
       "7                    2.624096  \n",
       "8                    0.264481  \n",
       "9                    3.032809  \n",
       "10                   3.304253  \n",
       "11                   7.400623  "
      ]
     },
     "execution_count": 96,
     "metadata": {},
     "output_type": "execute_result"
    }
   ],
   "source": [
    "df_erro"
   ]
  },
  {
   "cell_type": "markdown",
   "metadata": {},
   "source": [
    "#### Previsões"
   ]
  },
  {
   "cell_type": "code",
   "execution_count": 97,
   "metadata": {},
   "outputs": [
    {
     "data": {
      "image/png": "[encoded data removed]",
      "text/plain": [
       "<Figure size 1080x720 with 1 Axes>"
      ]
     },
     "metadata": {
      "needs_background": "light"
     },
     "output_type": "display_data"
    }
   ],
   "source": [
    "fig = plt.figure(figsize=(15, 10))\n",
    "ax = sns.lineplot(data=df_prev)"
   ]
  },
  {
   "cell_type": "markdown",
   "metadata": {},
   "source": [
    "#### RMSE"
   ]
  },
  {
   "cell_type": "code",
   "execution_count": 98,
   "metadata": {
    "scrolled": false
   },
   "outputs": [
    {
     "data": {
      "image/png": "[encoded data removed]",
      "text/plain": [
       "<Figure size 1080x720 with 1 Axes>"
      ]
     },
     "metadata": {
      "needs_background": "light"
     },
     "output_type": "display_data"
    }
   ],
   "source": [
    "fig = plt.figure(figsize=(15, 10))\n",
    "#df_rmse = df_rmse.drop(['mov_avg_12'], axis=1)\n",
    "ax = sns.barplot(data=df_rmse)\n",
    "_ = plt.xticks(rotation=45)"
   ]
  },
  {
   "cell_type": "markdown",
   "metadata": {},
   "source": [
    "#### MAPE"
   ]
  },
  {
   "cell_type": "code",
   "execution_count": 99,
   "metadata": {
    "scrolled": false
   },
   "outputs": [
    {
     "data": {
      "image/png": "[encoded data removed]",
      "text/plain": [
       "<Figure size 1080x720 with 1 Axes>"
      ]
     },
     "metadata": {
      "needs_background": "light"
     },
     "output_type": "display_data"
    }
   ],
   "source": [
    "fig = plt.figure(figsize=(15, 10))\n",
    "#df_mape = df_mape.drop(['mov_avg_12'], axis=1)\n",
    "ax = sns.barplot(data=df_mape)\n",
    "_ = plt.xticks(rotation=45)"
   ]
  },
  {
   "cell_type": "markdown",
   "metadata": {},
   "source": [
    "### Resumo das métricas"
   ]
  },
  {
   "cell_type": "code",
   "execution_count": 100,
   "metadata": {},
   "outputs": [],
   "source": [
    "df_rmse.index = ['RMSE']\n",
    "df_mape.index = ['MAPE']"
   ]
  },
  {
   "cell_type": "code",
   "execution_count": 101,
   "metadata": {},
   "outputs": [
    {
     "data": {
      "text/html": [
       "<div>\n",
       "<style scoped>\n",
       "    .dataframe tbody tr th:only-of-type {\n",
       "        vertical-align: middle;\n",
       "    }\n",
       "\n",
       "    .dataframe tbody tr th {\n",
       "        vertical-align: top;\n",
       "    }\n",
       "\n",
       "    .dataframe thead th {\n",
       "        text-align: right;\n",
       "    }\n",
       "</style>\n",
       "<table border=\"1\" class=\"dataframe\">\n",
       "  <thead>\n",
       "    <tr style=\"text-align: right;\">\n",
       "      <th></th>\n",
       "      <th>RNN-LSTM-1-mês-larga</th>\n",
       "      <th>RNN-LSTM-1-mês-camadas</th>\n",
       "      <th>RNN-LSTM-12-meses-larga</th>\n",
       "      <th>RNN-LSTM-12-meses-camadas</th>\n",
       "    </tr>\n",
       "  </thead>\n",
       "  <tbody>\n",
       "    <tr>\n",
       "      <th>RMSE</th>\n",
       "      <td>5.608213e+08</td>\n",
       "      <td>7.838989e+08</td>\n",
       "      <td>1.638543e+09</td>\n",
       "      <td>5.177953e+08</td>\n",
       "    </tr>\n",
       "    <tr>\n",
       "      <th>MAPE</th>\n",
       "      <td>3.732291e-02</td>\n",
       "      <td>5.765508e-02</td>\n",
       "      <td>1.277264e-01</td>\n",
       "      <td>3.649380e-02</td>\n",
       "    </tr>\n",
       "  </tbody>\n",
       "</table>\n",
       "</div>"
      ],
      "text/plain": [
       "      RNN-LSTM-1-mês-larga  RNN-LSTM-1-mês-camadas  RNN-LSTM-12-meses-larga  \\\n",
       "RMSE          5.608213e+08            7.838989e+08             1.638543e+09   \n",
       "MAPE          3.732291e-02            5.765508e-02             1.277264e-01   \n",
       "\n",
       "      RNN-LSTM-12-meses-camadas  \n",
       "RMSE               5.177953e+08  \n",
       "MAPE               3.649380e-02  "
      ]
     },
     "execution_count": 101,
     "metadata": {},
     "output_type": "execute_result"
    }
   ],
   "source": [
    "df_metricas = df_rmse.copy()\n",
    "df_metricas = df_metricas.append(df_mape.copy())\n",
    "df_metricas"
   ]
  }
 ],
 "metadata": {
  "kernelspec": {
   "display_name": "Python 3",
   "language": "python",
   "name": "python3"
  },
  "language_info": {
   "codemirror_mode": {
    "name": "ipython",
    "version": 3
   },
   "file_extension": ".py",
   "mimetype": "text/x-python",
   "name": "python",
   "nbconvert_exporter": "python",
   "pygments_lexer": "ipython3",
   "version": "3.6.4"
  }
 },
 "nbformat": 4,
 "nbformat_minor": 2
}
