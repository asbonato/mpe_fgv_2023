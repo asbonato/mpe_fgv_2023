{
 "cells": [
  {
   "cell_type": "markdown",
   "metadata": {},
   "source": [
    "# Aplicação de Modelos de Markov e Redes Neurais LSTM na Previsão de Arrecadação do ICMS Paulista\n",
    "## Resultados 2015\n",
    "\n",
    "### Antonio Sergio Ferreira Bonato"
   ]
  },
  {
   "cell_type": "markdown",
   "metadata": {},
   "source": [
    "Atualmente, na Secretaria da Fazenda e Planejamento do Estado de São Paulo, a previsão de arrecadação do ICMS paulista é feita usando-se um modelo ARIMA com variáveis exógenas, o ARIMAX. Mas o ICMS é não linear e há várias quebras estruturais controladas com diversas *dummies*. A consequência é um modelo bastante sobreajustado, inadequado para previsões de mais longo prazo (mais do que alguns meses, muito menos para um ano). \n",
    "A proposta deste trabalho é utilizar modelos não lineares multivariados na previsão do ICMS paulista, utilizando redes neurais recorrentes LSTM (*Long Short Term Memory*) e modelos Markov-Switching, fazendo um contraponto entre estes dois modelos. E utilizar, como baseline de comparação, o modelo ARIMAX atual. \n",
    "\n",
    "**Palavras-chave**: Markov-Switching Models. Redes Neurais Recorrentes. LSTM. ICMS."
   ]
  },
  {
   "cell_type": "markdown",
   "metadata": {},
   "source": [
    "## Treino das RNN-LSTM Multivariadas"
   ]
  },
  {
   "cell_type": "code",
   "execution_count": 1,
   "metadata": {},
   "outputs": [],
   "source": [
    "import pandas as pd\n",
    "import numpy as np\n",
    "import seaborn as sns\n",
    "import matplotlib.pyplot as plt\n",
    "import statsmodels.tsa.stattools\n",
    "import statsmodels.tsa.x13\n",
    "import statsmodels.graphics.tsaplots\n",
    "import statsmodels.api as sm\n",
    "from statsmodels.graphics.api import qqplot\n",
    "from statsmodels.tsa.api import acf, graphics, pacf\n",
    "from statsmodels.tsa.arima.model import ARIMA\n",
    "import pickle\n",
    "from pmdarima.arima import auto_arima\n",
    "from sklearn.metrics import mean_squared_error, mean_absolute_percentage_error\n",
    "import random\n",
    "import tensorflow as tf\n",
    "seed = 42\n",
    "random.seed(seed)\n",
    "np.random.seed(seed)\n",
    "tf.random.set_seed(seed)\n",
    "\n",
    "sns.set()\n",
    "sns.set_context(\"notebook\")\n",
    "sns.set(rc={'figure.figsize':(15,8)})"
   ]
  },
  {
   "cell_type": "code",
   "execution_count": 2,
   "metadata": {},
   "outputs": [],
   "source": [
    "import warnings\n",
    "warnings.filterwarnings('ignore')\n",
    "warnings.simplefilter('ignore')"
   ]
  },
  {
   "cell_type": "code",
   "execution_count": 3,
   "metadata": {},
   "outputs": [
    {
     "data": {
      "text/html": [
       "<div>\n",
       "<style scoped>\n",
       "    .dataframe tbody tr th:only-of-type {\n",
       "        vertical-align: middle;\n",
       "    }\n",
       "\n",
       "    .dataframe tbody tr th {\n",
       "        vertical-align: top;\n",
       "    }\n",
       "\n",
       "    .dataframe thead th {\n",
       "        text-align: right;\n",
       "    }\n",
       "</style>\n",
       "<table border=\"1\" class=\"dataframe\">\n",
       "  <thead>\n",
       "    <tr style=\"text-align: right;\">\n",
       "      <th></th>\n",
       "      <th>date</th>\n",
       "      <th>icms_sp</th>\n",
       "      <th>igp_m</th>\n",
       "      <th>dolar</th>\n",
       "      <th>ibc_br</th>\n",
       "      <th>dias_uteis</th>\n",
       "      <th>igp_m_22</th>\n",
       "      <th>dolar_22</th>\n",
       "      <th>ibc_br_22</th>\n",
       "      <th>igp_m_21</th>\n",
       "      <th>...</th>\n",
       "      <th>ibc_br_16</th>\n",
       "      <th>igp_m_15</th>\n",
       "      <th>dolar_15</th>\n",
       "      <th>ibc_br_15</th>\n",
       "      <th>igp_m_14</th>\n",
       "      <th>dolar_14</th>\n",
       "      <th>ibc_br_14</th>\n",
       "      <th>igp_m_13</th>\n",
       "      <th>dolar_13</th>\n",
       "      <th>ibc_br_13</th>\n",
       "    </tr>\n",
       "  </thead>\n",
       "  <tbody>\n",
       "    <tr>\n",
       "      <th>0</th>\n",
       "      <td>2003-01-01</td>\n",
       "      <td>3.360296e+09</td>\n",
       "      <td>277.173</td>\n",
       "      <td>3.4384</td>\n",
       "      <td>96.15</td>\n",
       "      <td>22</td>\n",
       "      <td>277.173</td>\n",
       "      <td>3.4384</td>\n",
       "      <td>96.15</td>\n",
       "      <td>277.173</td>\n",
       "      <td>...</td>\n",
       "      <td>96.15</td>\n",
       "      <td>277.173</td>\n",
       "      <td>3.4384</td>\n",
       "      <td>96.15</td>\n",
       "      <td>277.173</td>\n",
       "      <td>3.4384</td>\n",
       "      <td>96.15</td>\n",
       "      <td>277.173</td>\n",
       "      <td>3.4384</td>\n",
       "      <td>96.15</td>\n",
       "    </tr>\n",
       "    <tr>\n",
       "      <th>1</th>\n",
       "      <td>2003-02-01</td>\n",
       "      <td>3.196558e+09</td>\n",
       "      <td>283.506</td>\n",
       "      <td>3.5908</td>\n",
       "      <td>98.67</td>\n",
       "      <td>20</td>\n",
       "      <td>283.506</td>\n",
       "      <td>3.5908</td>\n",
       "      <td>98.67</td>\n",
       "      <td>283.506</td>\n",
       "      <td>...</td>\n",
       "      <td>98.67</td>\n",
       "      <td>283.506</td>\n",
       "      <td>3.5908</td>\n",
       "      <td>98.67</td>\n",
       "      <td>283.506</td>\n",
       "      <td>3.5908</td>\n",
       "      <td>98.67</td>\n",
       "      <td>283.506</td>\n",
       "      <td>3.5908</td>\n",
       "      <td>98.67</td>\n",
       "    </tr>\n",
       "    <tr>\n",
       "      <th>2</th>\n",
       "      <td>2003-03-01</td>\n",
       "      <td>3.160011e+09</td>\n",
       "      <td>287.855</td>\n",
       "      <td>3.4469</td>\n",
       "      <td>103.41</td>\n",
       "      <td>19</td>\n",
       "      <td>287.855</td>\n",
       "      <td>3.4469</td>\n",
       "      <td>103.41</td>\n",
       "      <td>287.855</td>\n",
       "      <td>...</td>\n",
       "      <td>103.41</td>\n",
       "      <td>287.855</td>\n",
       "      <td>3.4469</td>\n",
       "      <td>103.41</td>\n",
       "      <td>287.855</td>\n",
       "      <td>3.4469</td>\n",
       "      <td>103.41</td>\n",
       "      <td>287.855</td>\n",
       "      <td>3.4469</td>\n",
       "      <td>103.41</td>\n",
       "    </tr>\n",
       "    <tr>\n",
       "      <th>3</th>\n",
       "      <td>2003-04-01</td>\n",
       "      <td>3.215307e+09</td>\n",
       "      <td>290.512</td>\n",
       "      <td>3.1187</td>\n",
       "      <td>102.19</td>\n",
       "      <td>20</td>\n",
       "      <td>290.512</td>\n",
       "      <td>3.1187</td>\n",
       "      <td>102.19</td>\n",
       "      <td>290.512</td>\n",
       "      <td>...</td>\n",
       "      <td>102.19</td>\n",
       "      <td>290.512</td>\n",
       "      <td>3.1187</td>\n",
       "      <td>102.19</td>\n",
       "      <td>290.512</td>\n",
       "      <td>3.1187</td>\n",
       "      <td>102.19</td>\n",
       "      <td>290.512</td>\n",
       "      <td>3.1187</td>\n",
       "      <td>102.19</td>\n",
       "    </tr>\n",
       "    <tr>\n",
       "      <th>4</th>\n",
       "      <td>2003-05-01</td>\n",
       "      <td>3.098930e+09</td>\n",
       "      <td>289.747</td>\n",
       "      <td>2.9557</td>\n",
       "      <td>100.30</td>\n",
       "      <td>21</td>\n",
       "      <td>289.747</td>\n",
       "      <td>2.9557</td>\n",
       "      <td>100.30</td>\n",
       "      <td>289.747</td>\n",
       "      <td>...</td>\n",
       "      <td>100.30</td>\n",
       "      <td>289.747</td>\n",
       "      <td>2.9557</td>\n",
       "      <td>100.30</td>\n",
       "      <td>289.747</td>\n",
       "      <td>2.9557</td>\n",
       "      <td>100.30</td>\n",
       "      <td>289.747</td>\n",
       "      <td>2.9557</td>\n",
       "      <td>100.30</td>\n",
       "    </tr>\n",
       "  </tbody>\n",
       "</table>\n",
       "<p>5 rows × 36 columns</p>\n",
       "</div>"
      ],
      "text/plain": [
       "        date       icms_sp    igp_m   dolar  ibc_br  dias_uteis  igp_m_22  \\\n",
       "0 2003-01-01  3.360296e+09  277.173  3.4384   96.15          22   277.173   \n",
       "1 2003-02-01  3.196558e+09  283.506  3.5908   98.67          20   283.506   \n",
       "2 2003-03-01  3.160011e+09  287.855  3.4469  103.41          19   287.855   \n",
       "3 2003-04-01  3.215307e+09  290.512  3.1187  102.19          20   290.512   \n",
       "4 2003-05-01  3.098930e+09  289.747  2.9557  100.30          21   289.747   \n",
       "\n",
       "   dolar_22  ibc_br_22  igp_m_21  ...  ibc_br_16  igp_m_15  dolar_15  \\\n",
       "0    3.4384      96.15   277.173  ...      96.15   277.173    3.4384   \n",
       "1    3.5908      98.67   283.506  ...      98.67   283.506    3.5908   \n",
       "2    3.4469     103.41   287.855  ...     103.41   287.855    3.4469   \n",
       "3    3.1187     102.19   290.512  ...     102.19   290.512    3.1187   \n",
       "4    2.9557     100.30   289.747  ...     100.30   289.747    2.9557   \n",
       "\n",
       "   ibc_br_15  igp_m_14  dolar_14  ibc_br_14  igp_m_13  dolar_13  ibc_br_13  \n",
       "0      96.15   277.173    3.4384      96.15   277.173    3.4384      96.15  \n",
       "1      98.67   283.506    3.5908      98.67   283.506    3.5908      98.67  \n",
       "2     103.41   287.855    3.4469     103.41   287.855    3.4469     103.41  \n",
       "3     102.19   290.512    3.1187     102.19   290.512    3.1187     102.19  \n",
       "4     100.30   289.747    2.9557     100.30   289.747    2.9557     100.30  \n",
       "\n",
       "[5 rows x 36 columns]"
      ]
     },
     "execution_count": 3,
     "metadata": {},
     "output_type": "execute_result"
    }
   ],
   "source": [
    "df_main_orig = pd.read_excel(\"variaveis_previsao.xlsx\", parse_dates=['date'])\n",
    "df_main_orig.head()"
   ]
  },
  {
   "cell_type": "code",
   "execution_count": 4,
   "metadata": {},
   "outputs": [
    {
     "data": {
      "text/html": [
       "<div>\n",
       "<style scoped>\n",
       "    .dataframe tbody tr th:only-of-type {\n",
       "        vertical-align: middle;\n",
       "    }\n",
       "\n",
       "    .dataframe tbody tr th {\n",
       "        vertical-align: top;\n",
       "    }\n",
       "\n",
       "    .dataframe thead th {\n",
       "        text-align: right;\n",
       "    }\n",
       "</style>\n",
       "<table border=\"1\" class=\"dataframe\">\n",
       "  <thead>\n",
       "    <tr style=\"text-align: right;\">\n",
       "      <th></th>\n",
       "      <th>date</th>\n",
       "      <th>icms_sp</th>\n",
       "      <th>igp_m</th>\n",
       "      <th>dolar</th>\n",
       "      <th>ibc_br</th>\n",
       "      <th>dias_uteis</th>\n",
       "      <th>igp_m_22</th>\n",
       "      <th>dolar_22</th>\n",
       "      <th>ibc_br_22</th>\n",
       "      <th>igp_m_21</th>\n",
       "      <th>...</th>\n",
       "      <th>ibc_br_16</th>\n",
       "      <th>igp_m_15</th>\n",
       "      <th>dolar_15</th>\n",
       "      <th>ibc_br_15</th>\n",
       "      <th>igp_m_14</th>\n",
       "      <th>dolar_14</th>\n",
       "      <th>ibc_br_14</th>\n",
       "      <th>igp_m_13</th>\n",
       "      <th>dolar_13</th>\n",
       "      <th>ibc_br_13</th>\n",
       "    </tr>\n",
       "  </thead>\n",
       "  <tbody>\n",
       "    <tr>\n",
       "      <th>235</th>\n",
       "      <td>2022-08-01</td>\n",
       "      <td>1.756224e+10</td>\n",
       "      <td>1185.004</td>\n",
       "      <td>5.143287</td>\n",
       "      <td>149.60</td>\n",
       "      <td>23</td>\n",
       "      <td>1137.167829</td>\n",
       "      <td>5.6496</td>\n",
       "      <td>146.408337</td>\n",
       "      <td>NaN</td>\n",
       "      <td>...</td>\n",
       "      <td>NaN</td>\n",
       "      <td>NaN</td>\n",
       "      <td>NaN</td>\n",
       "      <td>NaN</td>\n",
       "      <td>NaN</td>\n",
       "      <td>NaN</td>\n",
       "      <td>NaN</td>\n",
       "      <td>NaN</td>\n",
       "      <td>NaN</td>\n",
       "      <td>NaN</td>\n",
       "    </tr>\n",
       "    <tr>\n",
       "      <th>236</th>\n",
       "      <td>2022-09-01</td>\n",
       "      <td>1.726287e+10</td>\n",
       "      <td>1173.793</td>\n",
       "      <td>5.236957</td>\n",
       "      <td>144.44</td>\n",
       "      <td>21</td>\n",
       "      <td>1143.597376</td>\n",
       "      <td>5.6800</td>\n",
       "      <td>142.808302</td>\n",
       "      <td>NaN</td>\n",
       "      <td>...</td>\n",
       "      <td>NaN</td>\n",
       "      <td>NaN</td>\n",
       "      <td>NaN</td>\n",
       "      <td>NaN</td>\n",
       "      <td>NaN</td>\n",
       "      <td>NaN</td>\n",
       "      <td>NaN</td>\n",
       "      <td>NaN</td>\n",
       "      <td>NaN</td>\n",
       "      <td>NaN</td>\n",
       "    </tr>\n",
       "    <tr>\n",
       "      <th>237</th>\n",
       "      <td>2022-10-01</td>\n",
       "      <td>1.565000e+10</td>\n",
       "      <td>1162.391</td>\n",
       "      <td>5.250300</td>\n",
       "      <td>142.34</td>\n",
       "      <td>20</td>\n",
       "      <td>1150.115881</td>\n",
       "      <td>5.6700</td>\n",
       "      <td>144.063428</td>\n",
       "      <td>NaN</td>\n",
       "      <td>...</td>\n",
       "      <td>NaN</td>\n",
       "      <td>NaN</td>\n",
       "      <td>NaN</td>\n",
       "      <td>NaN</td>\n",
       "      <td>NaN</td>\n",
       "      <td>NaN</td>\n",
       "      <td>NaN</td>\n",
       "      <td>NaN</td>\n",
       "      <td>NaN</td>\n",
       "      <td>NaN</td>\n",
       "    </tr>\n",
       "    <tr>\n",
       "      <th>238</th>\n",
       "      <td>2022-11-01</td>\n",
       "      <td>1.605000e+10</td>\n",
       "      <td>1155.829</td>\n",
       "      <td>5.274650</td>\n",
       "      <td>140.80</td>\n",
       "      <td>20</td>\n",
       "      <td>1155.866460</td>\n",
       "      <td>5.6000</td>\n",
       "      <td>143.165409</td>\n",
       "      <td>NaN</td>\n",
       "      <td>...</td>\n",
       "      <td>NaN</td>\n",
       "      <td>NaN</td>\n",
       "      <td>NaN</td>\n",
       "      <td>NaN</td>\n",
       "      <td>NaN</td>\n",
       "      <td>NaN</td>\n",
       "      <td>NaN</td>\n",
       "      <td>NaN</td>\n",
       "      <td>NaN</td>\n",
       "      <td>NaN</td>\n",
       "    </tr>\n",
       "    <tr>\n",
       "      <th>239</th>\n",
       "      <td>2022-12-01</td>\n",
       "      <td>1.767135e+10</td>\n",
       "      <td>1161.006</td>\n",
       "      <td>5.242432</td>\n",
       "      <td>142.78</td>\n",
       "      <td>22</td>\n",
       "      <td>1161.645792</td>\n",
       "      <td>5.6000</td>\n",
       "      <td>141.405133</td>\n",
       "      <td>NaN</td>\n",
       "      <td>...</td>\n",
       "      <td>NaN</td>\n",
       "      <td>NaN</td>\n",
       "      <td>NaN</td>\n",
       "      <td>NaN</td>\n",
       "      <td>NaN</td>\n",
       "      <td>NaN</td>\n",
       "      <td>NaN</td>\n",
       "      <td>NaN</td>\n",
       "      <td>NaN</td>\n",
       "      <td>NaN</td>\n",
       "    </tr>\n",
       "  </tbody>\n",
       "</table>\n",
       "<p>5 rows × 36 columns</p>\n",
       "</div>"
      ],
      "text/plain": [
       "          date       icms_sp     igp_m     dolar  ibc_br  dias_uteis  \\\n",
       "235 2022-08-01  1.756224e+10  1185.004  5.143287  149.60          23   \n",
       "236 2022-09-01  1.726287e+10  1173.793  5.236957  144.44          21   \n",
       "237 2022-10-01  1.565000e+10  1162.391  5.250300  142.34          20   \n",
       "238 2022-11-01  1.605000e+10  1155.829  5.274650  140.80          20   \n",
       "239 2022-12-01  1.767135e+10  1161.006  5.242432  142.78          22   \n",
       "\n",
       "        igp_m_22  dolar_22   ibc_br_22  igp_m_21  ...  ibc_br_16  igp_m_15  \\\n",
       "235  1137.167829    5.6496  146.408337       NaN  ...        NaN       NaN   \n",
       "236  1143.597376    5.6800  142.808302       NaN  ...        NaN       NaN   \n",
       "237  1150.115881    5.6700  144.063428       NaN  ...        NaN       NaN   \n",
       "238  1155.866460    5.6000  143.165409       NaN  ...        NaN       NaN   \n",
       "239  1161.645792    5.6000  141.405133       NaN  ...        NaN       NaN   \n",
       "\n",
       "     dolar_15  ibc_br_15  igp_m_14  dolar_14  ibc_br_14  igp_m_13  dolar_13  \\\n",
       "235       NaN        NaN       NaN       NaN        NaN       NaN       NaN   \n",
       "236       NaN        NaN       NaN       NaN        NaN       NaN       NaN   \n",
       "237       NaN        NaN       NaN       NaN        NaN       NaN       NaN   \n",
       "238       NaN        NaN       NaN       NaN        NaN       NaN       NaN   \n",
       "239       NaN        NaN       NaN       NaN        NaN       NaN       NaN   \n",
       "\n",
       "     ibc_br_13  \n",
       "235        NaN  \n",
       "236        NaN  \n",
       "237        NaN  \n",
       "238        NaN  \n",
       "239        NaN  \n",
       "\n",
       "[5 rows x 36 columns]"
      ]
     },
     "execution_count": 4,
     "metadata": {},
     "output_type": "execute_result"
    }
   ],
   "source": [
    "df_main_orig.tail()"
   ]
  },
  {
   "cell_type": "code",
   "execution_count": 5,
   "metadata": {},
   "outputs": [
    {
     "name": "stdout",
     "output_type": "stream",
     "text": [
      "<class 'pandas.core.frame.DataFrame'>\n",
      "RangeIndex: 240 entries, 0 to 239\n",
      "Data columns (total 36 columns):\n",
      " #   Column      Non-Null Count  Dtype         \n",
      "---  ------      --------------  -----         \n",
      " 0   date        240 non-null    datetime64[ns]\n",
      " 1   icms_sp     240 non-null    float64       \n",
      " 2   igp_m       240 non-null    float64       \n",
      " 3   dolar       240 non-null    float64       \n",
      " 4   ibc_br      240 non-null    float64       \n",
      " 5   dias_uteis  240 non-null    int64         \n",
      " 6   igp_m_22    240 non-null    float64       \n",
      " 7   dolar_22    240 non-null    float64       \n",
      " 8   ibc_br_22   240 non-null    float64       \n",
      " 9   igp_m_21    228 non-null    float64       \n",
      " 10  dolar_21    228 non-null    float64       \n",
      " 11  ibc_br_21   228 non-null    float64       \n",
      " 12  igp_m_20    216 non-null    float64       \n",
      " 13  dolar_20    216 non-null    float64       \n",
      " 14  ibc_br_20   216 non-null    float64       \n",
      " 15  igp_m_19    204 non-null    float64       \n",
      " 16  dolar_19    204 non-null    float64       \n",
      " 17  ibc_br_19   204 non-null    float64       \n",
      " 18  igp_m_18    192 non-null    float64       \n",
      " 19  dolar_18    192 non-null    float64       \n",
      " 20  ibc_br_18   192 non-null    float64       \n",
      " 21  igp_m_17    180 non-null    float64       \n",
      " 22  dolar_17    180 non-null    float64       \n",
      " 23  ibc_br_17   180 non-null    float64       \n",
      " 24  igp_m_16    168 non-null    float64       \n",
      " 25  dolar_16    168 non-null    float64       \n",
      " 26  ibc_br_16   168 non-null    float64       \n",
      " 27  igp_m_15    156 non-null    float64       \n",
      " 28  dolar_15    156 non-null    float64       \n",
      " 29  ibc_br_15   156 non-null    float64       \n",
      " 30  igp_m_14    144 non-null    float64       \n",
      " 31  dolar_14    144 non-null    float64       \n",
      " 32  ibc_br_14   144 non-null    float64       \n",
      " 33  igp_m_13    132 non-null    float64       \n",
      " 34  dolar_13    132 non-null    float64       \n",
      " 35  ibc_br_13   132 non-null    float64       \n",
      "dtypes: datetime64[ns](1), float64(34), int64(1)\n",
      "memory usage: 67.6 KB\n"
     ]
    }
   ],
   "source": [
    "df_main_orig.info()"
   ]
  },
  {
   "cell_type": "markdown",
   "metadata": {},
   "source": [
    "Removendo as últimas linhas que são todas NaN"
   ]
  },
  {
   "cell_type": "code",
   "execution_count": 6,
   "metadata": {},
   "outputs": [],
   "source": [
    "df_main = df_main_orig.iloc[0:156]\n",
    "datas = df_main['date']"
   ]
  },
  {
   "cell_type": "code",
   "execution_count": 7,
   "metadata": {},
   "outputs": [
    {
     "data": {
      "text/html": [
       "<div>\n",
       "<style scoped>\n",
       "    .dataframe tbody tr th:only-of-type {\n",
       "        vertical-align: middle;\n",
       "    }\n",
       "\n",
       "    .dataframe tbody tr th {\n",
       "        vertical-align: top;\n",
       "    }\n",
       "\n",
       "    .dataframe thead th {\n",
       "        text-align: right;\n",
       "    }\n",
       "</style>\n",
       "<table border=\"1\" class=\"dataframe\">\n",
       "  <thead>\n",
       "    <tr style=\"text-align: right;\">\n",
       "      <th></th>\n",
       "      <th>date</th>\n",
       "      <th>icms_sp</th>\n",
       "      <th>igp_m</th>\n",
       "      <th>dolar</th>\n",
       "      <th>ibc_br</th>\n",
       "      <th>dias_uteis</th>\n",
       "      <th>igp_m_22</th>\n",
       "      <th>dolar_22</th>\n",
       "      <th>ibc_br_22</th>\n",
       "      <th>igp_m_21</th>\n",
       "      <th>...</th>\n",
       "      <th>ibc_br_16</th>\n",
       "      <th>igp_m_15</th>\n",
       "      <th>dolar_15</th>\n",
       "      <th>ibc_br_15</th>\n",
       "      <th>igp_m_14</th>\n",
       "      <th>dolar_14</th>\n",
       "      <th>ibc_br_14</th>\n",
       "      <th>igp_m_13</th>\n",
       "      <th>dolar_13</th>\n",
       "      <th>ibc_br_13</th>\n",
       "    </tr>\n",
       "  </thead>\n",
       "  <tbody>\n",
       "    <tr>\n",
       "      <th>151</th>\n",
       "      <td>2015-08-01</td>\n",
       "      <td>9.864942e+09</td>\n",
       "      <td>588.042</td>\n",
       "      <td>3.514305</td>\n",
       "      <td>140.83</td>\n",
       "      <td>21</td>\n",
       "      <td>588.042</td>\n",
       "      <td>3.514305</td>\n",
       "      <td>140.83</td>\n",
       "      <td>588.042</td>\n",
       "      <td>...</td>\n",
       "      <td>140.83</td>\n",
       "      <td>582.314060</td>\n",
       "      <td>2.73</td>\n",
       "      <td>149.237535</td>\n",
       "      <td>NaN</td>\n",
       "      <td>NaN</td>\n",
       "      <td>NaN</td>\n",
       "      <td>NaN</td>\n",
       "      <td>NaN</td>\n",
       "      <td>NaN</td>\n",
       "    </tr>\n",
       "    <tr>\n",
       "      <th>152</th>\n",
       "      <td>2015-09-01</td>\n",
       "      <td>1.051019e+10</td>\n",
       "      <td>593.606</td>\n",
       "      <td>3.906457</td>\n",
       "      <td>138.07</td>\n",
       "      <td>21</td>\n",
       "      <td>593.606</td>\n",
       "      <td>3.906457</td>\n",
       "      <td>138.07</td>\n",
       "      <td>593.606</td>\n",
       "      <td>...</td>\n",
       "      <td>138.07</td>\n",
       "      <td>584.934474</td>\n",
       "      <td>2.75</td>\n",
       "      <td>149.582977</td>\n",
       "      <td>NaN</td>\n",
       "      <td>NaN</td>\n",
       "      <td>NaN</td>\n",
       "      <td>NaN</td>\n",
       "      <td>NaN</td>\n",
       "      <td>NaN</td>\n",
       "    </tr>\n",
       "    <tr>\n",
       "      <th>153</th>\n",
       "      <td>2015-10-01</td>\n",
       "      <td>1.056639e+10</td>\n",
       "      <td>604.832</td>\n",
       "      <td>3.880138</td>\n",
       "      <td>140.19</td>\n",
       "      <td>21</td>\n",
       "      <td>604.832</td>\n",
       "      <td>3.880138</td>\n",
       "      <td>140.19</td>\n",
       "      <td>604.832</td>\n",
       "      <td>...</td>\n",
       "      <td>140.19</td>\n",
       "      <td>587.859146</td>\n",
       "      <td>2.76</td>\n",
       "      <td>149.422134</td>\n",
       "      <td>NaN</td>\n",
       "      <td>NaN</td>\n",
       "      <td>NaN</td>\n",
       "      <td>NaN</td>\n",
       "      <td>NaN</td>\n",
       "      <td>NaN</td>\n",
       "    </tr>\n",
       "    <tr>\n",
       "      <th>154</th>\n",
       "      <td>2015-11-01</td>\n",
       "      <td>1.029608e+10</td>\n",
       "      <td>614.051</td>\n",
       "      <td>3.776460</td>\n",
       "      <td>135.94</td>\n",
       "      <td>20</td>\n",
       "      <td>614.051</td>\n",
       "      <td>3.776460</td>\n",
       "      <td>135.94</td>\n",
       "      <td>614.051</td>\n",
       "      <td>...</td>\n",
       "      <td>135.94</td>\n",
       "      <td>591.268729</td>\n",
       "      <td>2.77</td>\n",
       "      <td>146.260514</td>\n",
       "      <td>NaN</td>\n",
       "      <td>NaN</td>\n",
       "      <td>NaN</td>\n",
       "      <td>NaN</td>\n",
       "      <td>NaN</td>\n",
       "      <td>NaN</td>\n",
       "    </tr>\n",
       "    <tr>\n",
       "      <th>155</th>\n",
       "      <td>2015-12-01</td>\n",
       "      <td>1.109438e+10</td>\n",
       "      <td>617.044</td>\n",
       "      <td>3.871136</td>\n",
       "      <td>136.22</td>\n",
       "      <td>22</td>\n",
       "      <td>617.044</td>\n",
       "      <td>3.871136</td>\n",
       "      <td>136.22</td>\n",
       "      <td>617.044</td>\n",
       "      <td>...</td>\n",
       "      <td>136.22</td>\n",
       "      <td>595.111976</td>\n",
       "      <td>2.80</td>\n",
       "      <td>147.278002</td>\n",
       "      <td>NaN</td>\n",
       "      <td>NaN</td>\n",
       "      <td>NaN</td>\n",
       "      <td>NaN</td>\n",
       "      <td>NaN</td>\n",
       "      <td>NaN</td>\n",
       "    </tr>\n",
       "  </tbody>\n",
       "</table>\n",
       "<p>5 rows × 36 columns</p>\n",
       "</div>"
      ],
      "text/plain": [
       "          date       icms_sp    igp_m     dolar  ibc_br  dias_uteis  igp_m_22  \\\n",
       "151 2015-08-01  9.864942e+09  588.042  3.514305  140.83          21   588.042   \n",
       "152 2015-09-01  1.051019e+10  593.606  3.906457  138.07          21   593.606   \n",
       "153 2015-10-01  1.056639e+10  604.832  3.880138  140.19          21   604.832   \n",
       "154 2015-11-01  1.029608e+10  614.051  3.776460  135.94          20   614.051   \n",
       "155 2015-12-01  1.109438e+10  617.044  3.871136  136.22          22   617.044   \n",
       "\n",
       "     dolar_22  ibc_br_22  igp_m_21  ...  ibc_br_16    igp_m_15  dolar_15  \\\n",
       "151  3.514305     140.83   588.042  ...     140.83  582.314060      2.73   \n",
       "152  3.906457     138.07   593.606  ...     138.07  584.934474      2.75   \n",
       "153  3.880138     140.19   604.832  ...     140.19  587.859146      2.76   \n",
       "154  3.776460     135.94   614.051  ...     135.94  591.268729      2.77   \n",
       "155  3.871136     136.22   617.044  ...     136.22  595.111976      2.80   \n",
       "\n",
       "      ibc_br_15  igp_m_14  dolar_14  ibc_br_14  igp_m_13  dolar_13  ibc_br_13  \n",
       "151  149.237535       NaN       NaN        NaN       NaN       NaN        NaN  \n",
       "152  149.582977       NaN       NaN        NaN       NaN       NaN        NaN  \n",
       "153  149.422134       NaN       NaN        NaN       NaN       NaN        NaN  \n",
       "154  146.260514       NaN       NaN        NaN       NaN       NaN        NaN  \n",
       "155  147.278002       NaN       NaN        NaN       NaN       NaN        NaN  \n",
       "\n",
       "[5 rows x 36 columns]"
      ]
     },
     "execution_count": 7,
     "metadata": {},
     "output_type": "execute_result"
    }
   ],
   "source": [
    "df_main.tail()"
   ]
  },
  {
   "cell_type": "markdown",
   "metadata": {},
   "source": [
    "### Criação das Séries\n",
    "Como os valores do ICMS são muito elevados a série será colocada em log."
   ]
  },
  {
   "cell_type": "code",
   "execution_count": 8,
   "metadata": {},
   "outputs": [],
   "source": [
    "icms_ts = pd.Series(np.log(list(df_main['icms_sp'])), index = datas)\n",
    "ibcbr_ts = pd.Series(list(df_main['ibc_br']), index = datas)\n",
    "igpm_ts = pd.Series(list(df_main['igp_m']), index = datas)\n",
    "dolar_ts = pd.Series(list(df_main['dolar']), index = datas)\n",
    "dias_uteis_ts = pd.Series(list(df_main['dias_uteis']), index = datas)"
   ]
  },
  {
   "cell_type": "markdown",
   "metadata": {},
   "source": [
    "#### Testes de Valores Nulos"
   ]
  },
  {
   "cell_type": "code",
   "execution_count": 9,
   "metadata": {},
   "outputs": [
    {
     "name": "stdout",
     "output_type": "stream",
     "text": [
      "ICMS 0\n",
      "IBC-Br 0\n",
      "IGP-DI 0\n",
      "Dólar 0\n",
      "Dias Úteis 0\n"
     ]
    }
   ],
   "source": [
    "print('ICMS', icms_ts.isnull().sum())\n",
    "print('IBC-Br', ibcbr_ts.isnull().sum())\n",
    "print('IGP-DI', igpm_ts.isnull().sum())\n",
    "print('Dólar', dolar_ts.isnull().sum())\n",
    "print('Dias Úteis', dias_uteis_ts.isnull().sum())"
   ]
  },
  {
   "cell_type": "markdown",
   "metadata": {},
   "source": [
    "### Plotando a Série em Nível"
   ]
  },
  {
   "cell_type": "code",
   "execution_count": 10,
   "metadata": {},
   "outputs": [
    {
     "data": {
      "image/png": "[encoded data removed]",
      "text/plain": [
       "<Figure size 1080x2160 with 5 Axes>"
      ]
     },
     "metadata": {
      "needs_background": "light"
     },
     "output_type": "display_data"
    }
   ],
   "source": [
    "fig=plt.figure(figsize=(15, 30))\n",
    "ax1=fig.add_subplot(511)\n",
    "ax2=fig.add_subplot(512)\n",
    "ax3=fig.add_subplot(513)\n",
    "ax4=fig.add_subplot(514)\n",
    "ax5=fig.add_subplot(515)\n",
    "#plots\n",
    "ax1.plot(icms_ts, 'tab:blue', label='Log ICMS SP')\n",
    "ax1.legend(loc='best')\n",
    "ax2.plot(dias_uteis_ts, 'tab:purple', label='Dias Úteis')\n",
    "ax2.legend(loc='best')\n",
    "ax3.plot(ibcbr_ts, 'tab:orange',  label='IBC-BR')\n",
    "ax3.legend(loc='best')\n",
    "ax4.plot(igpm_ts, 'tab:gray', label='IGP-M')\n",
    "ax4.legend(loc='best')\n",
    "ax5.plot(dolar_ts, 'tab:green', label='Dólar')\n",
    "ax5.legend(loc='best')\n",
    "plt.show()"
   ]
  },
  {
   "cell_type": "markdown",
   "metadata": {},
   "source": [
    "## Preparação para Previsões"
   ]
  },
  {
   "cell_type": "markdown",
   "metadata": {},
   "source": [
    "O artigo usa, além de MAPE e MSE, o erro relativo, que é \n",
    "\n",
    "$Erro Relativo = \\frac{|previsão - real|}{real}$"
   ]
  },
  {
   "cell_type": "code",
   "execution_count": 11,
   "metadata": {},
   "outputs": [],
   "source": [
    "def erro_relativo(prev, real):\n",
    "    return 100*np.absolute(prev-real)/real"
   ]
  },
  {
   "cell_type": "markdown",
   "metadata": {},
   "source": [
    "#### Dicionário de Previsões"
   ]
  },
  {
   "cell_type": "code",
   "execution_count": 12,
   "metadata": {},
   "outputs": [],
   "source": [
    "previsoes = {\n",
    "    'nome':[],\n",
    "    'modelo': [],\n",
    "    'previsoes': [],\n",
    "    'rmse': [],\n",
    "    'mape': [],\n",
    "    'erro relativo':[]\n",
    "}"
   ]
  },
  {
   "cell_type": "markdown",
   "metadata": {},
   "source": [
    "### Separando a amostra em treinamento (in-sample) e teste (out-of-sample)\n",
    "Serão usadas as séries com sazonalidade e em nível e as questões de sazonalidade e estacionariedade serão tratadas pelo modelo."
   ]
  },
  {
   "cell_type": "code",
   "execution_count": 13,
   "metadata": {},
   "outputs": [
    {
     "data": {
      "text/html": [
       "<div>\n",
       "<style scoped>\n",
       "    .dataframe tbody tr th:only-of-type {\n",
       "        vertical-align: middle;\n",
       "    }\n",
       "\n",
       "    .dataframe tbody tr th {\n",
       "        vertical-align: top;\n",
       "    }\n",
       "\n",
       "    .dataframe thead th {\n",
       "        text-align: right;\n",
       "    }\n",
       "</style>\n",
       "<table border=\"1\" class=\"dataframe\">\n",
       "  <thead>\n",
       "    <tr style=\"text-align: right;\">\n",
       "      <th></th>\n",
       "      <th>ibcbr</th>\n",
       "      <th>igpdi</th>\n",
       "      <th>dolar</th>\n",
       "      <th>dias_uteis</th>\n",
       "    </tr>\n",
       "    <tr>\n",
       "      <th>date</th>\n",
       "      <th></th>\n",
       "      <th></th>\n",
       "      <th></th>\n",
       "      <th></th>\n",
       "    </tr>\n",
       "  </thead>\n",
       "  <tbody>\n",
       "    <tr>\n",
       "      <th>2003-01-01</th>\n",
       "      <td>96.15</td>\n",
       "      <td>277.173</td>\n",
       "      <td>3.4384</td>\n",
       "      <td>22.0</td>\n",
       "    </tr>\n",
       "    <tr>\n",
       "      <th>2003-02-01</th>\n",
       "      <td>98.67</td>\n",
       "      <td>283.506</td>\n",
       "      <td>3.5908</td>\n",
       "      <td>20.0</td>\n",
       "    </tr>\n",
       "    <tr>\n",
       "      <th>2003-03-01</th>\n",
       "      <td>103.41</td>\n",
       "      <td>287.855</td>\n",
       "      <td>3.4469</td>\n",
       "      <td>19.0</td>\n",
       "    </tr>\n",
       "    <tr>\n",
       "      <th>2003-04-01</th>\n",
       "      <td>102.19</td>\n",
       "      <td>290.512</td>\n",
       "      <td>3.1187</td>\n",
       "      <td>20.0</td>\n",
       "    </tr>\n",
       "    <tr>\n",
       "      <th>2003-05-01</th>\n",
       "      <td>100.30</td>\n",
       "      <td>289.747</td>\n",
       "      <td>2.9557</td>\n",
       "      <td>21.0</td>\n",
       "    </tr>\n",
       "  </tbody>\n",
       "</table>\n",
       "</div>"
      ],
      "text/plain": [
       "             ibcbr    igpdi   dolar  dias_uteis\n",
       "date                                           \n",
       "2003-01-01   96.15  277.173  3.4384        22.0\n",
       "2003-02-01   98.67  283.506  3.5908        20.0\n",
       "2003-03-01  103.41  287.855  3.4469        19.0\n",
       "2003-04-01  102.19  290.512  3.1187        20.0\n",
       "2003-05-01  100.30  289.747  2.9557        21.0"
      ]
     },
     "execution_count": 13,
     "metadata": {},
     "output_type": "execute_result"
    }
   ],
   "source": [
    "exog_df = pd.DataFrame((ibcbr_ts, igpm_ts,\n",
    "                        dolar_ts, dias_uteis_ts\n",
    "                       ), \n",
    "                        index=['ibcbr', 'igpdi', 'dolar', 'dias_uteis'\n",
    "                            ]).transpose()\n",
    "exog_df.head() "
   ]
  },
  {
   "cell_type": "code",
   "execution_count": 14,
   "metadata": {},
   "outputs": [
    {
     "data": {
      "text/html": [
       "<div>\n",
       "<style scoped>\n",
       "    .dataframe tbody tr th:only-of-type {\n",
       "        vertical-align: middle;\n",
       "    }\n",
       "\n",
       "    .dataframe tbody tr th {\n",
       "        vertical-align: top;\n",
       "    }\n",
       "\n",
       "    .dataframe thead th {\n",
       "        text-align: right;\n",
       "    }\n",
       "</style>\n",
       "<table border=\"1\" class=\"dataframe\">\n",
       "  <thead>\n",
       "    <tr style=\"text-align: right;\">\n",
       "      <th></th>\n",
       "      <th>ibcbr</th>\n",
       "      <th>igpdi</th>\n",
       "      <th>dolar</th>\n",
       "      <th>dias_uteis</th>\n",
       "    </tr>\n",
       "    <tr>\n",
       "      <th>date</th>\n",
       "      <th></th>\n",
       "      <th></th>\n",
       "      <th></th>\n",
       "      <th></th>\n",
       "    </tr>\n",
       "  </thead>\n",
       "  <tbody>\n",
       "    <tr>\n",
       "      <th>2015-08-01</th>\n",
       "      <td>140.83</td>\n",
       "      <td>588.042</td>\n",
       "      <td>3.514305</td>\n",
       "      <td>21.0</td>\n",
       "    </tr>\n",
       "    <tr>\n",
       "      <th>2015-09-01</th>\n",
       "      <td>138.07</td>\n",
       "      <td>593.606</td>\n",
       "      <td>3.906457</td>\n",
       "      <td>21.0</td>\n",
       "    </tr>\n",
       "    <tr>\n",
       "      <th>2015-10-01</th>\n",
       "      <td>140.19</td>\n",
       "      <td>604.832</td>\n",
       "      <td>3.880138</td>\n",
       "      <td>21.0</td>\n",
       "    </tr>\n",
       "    <tr>\n",
       "      <th>2015-11-01</th>\n",
       "      <td>135.94</td>\n",
       "      <td>614.051</td>\n",
       "      <td>3.776460</td>\n",
       "      <td>20.0</td>\n",
       "    </tr>\n",
       "    <tr>\n",
       "      <th>2015-12-01</th>\n",
       "      <td>136.22</td>\n",
       "      <td>617.044</td>\n",
       "      <td>3.871136</td>\n",
       "      <td>22.0</td>\n",
       "    </tr>\n",
       "  </tbody>\n",
       "</table>\n",
       "</div>"
      ],
      "text/plain": [
       "             ibcbr    igpdi     dolar  dias_uteis\n",
       "date                                             \n",
       "2015-08-01  140.83  588.042  3.514305        21.0\n",
       "2015-09-01  138.07  593.606  3.906457        21.0\n",
       "2015-10-01  140.19  604.832  3.880138        21.0\n",
       "2015-11-01  135.94  614.051  3.776460        20.0\n",
       "2015-12-01  136.22  617.044  3.871136        22.0"
      ]
     },
     "execution_count": 14,
     "metadata": {},
     "output_type": "execute_result"
    }
   ],
   "source": [
    "exog_df.tail() "
   ]
  },
  {
   "cell_type": "code",
   "execution_count": 15,
   "metadata": {},
   "outputs": [
    {
     "name": "stdout",
     "output_type": "stream",
     "text": [
      "(156, 4) (132, 4) (12, 4) (12, 4)\n"
     ]
    }
   ],
   "source": [
    "exog = exog_df[:].to_numpy()\n",
    "exog_train = exog[:-24]\n",
    "exog_val = exog[-24:-12]\n",
    "exog_test = exog[-12:]\n",
    "print(exog.shape, exog_train.shape, exog_val.shape, exog_test.shape)"
   ]
  },
  {
   "cell_type": "code",
   "execution_count": 16,
   "metadata": {},
   "outputs": [
    {
     "name": "stdout",
     "output_type": "stream",
     "text": [
      "(156,) (132,) (12,) (12,)\n"
     ]
    }
   ],
   "source": [
    "icms_train = icms_ts[:-24]\n",
    "icms_val = np.exp(icms_ts[-24:-12]) # série sem log\n",
    "icms_test = np.exp(icms_ts[-12:]) # série sem log\n",
    "print(icms_ts.shape, icms_train.shape, icms_val.shape, icms_test.shape)"
   ]
  },
  {
   "cell_type": "code",
   "execution_count": 17,
   "metadata": {},
   "outputs": [
    {
     "name": "stdout",
     "output_type": "stream",
     "text": [
      "##############################\n",
      " date\n",
      "2003-01-01    21.935295\n",
      "2003-02-01    21.885340\n",
      "2003-03-01    21.873841\n",
      "2003-04-01    21.891189\n",
      "2003-05-01    21.854323\n",
      "                ...    \n",
      "2013-08-01    22.985488\n",
      "2013-09-01    23.037321\n",
      "2013-10-01    23.046613\n",
      "2013-11-01    22.996710\n",
      "2013-12-01    23.099809\n",
      "Length: 132, dtype: float64\n",
      "##############################\n",
      " date\n",
      "2014-01-01    9.803278e+09\n",
      "2014-02-01    9.687760e+09\n",
      "2014-03-01    9.465054e+09\n",
      "2014-04-01    9.635430e+09\n",
      "2014-05-01    9.819079e+09\n",
      "2014-06-01    9.677264e+09\n",
      "2014-07-01    9.594590e+09\n",
      "2014-08-01    9.500060e+09\n",
      "2014-09-01    9.796970e+09\n",
      "2014-10-01    1.063363e+10\n",
      "2014-11-01    1.015244e+10\n",
      "2014-12-01    1.124082e+10\n",
      "dtype: float64\n",
      "##############################\n",
      " date\n",
      "2015-01-01    9.987825e+09\n",
      "2015-02-01    9.919477e+09\n",
      "2015-03-01    9.871727e+09\n",
      "2015-04-01    1.037640e+10\n",
      "2015-05-01    9.740006e+09\n",
      "2015-06-01    1.032307e+10\n",
      "2015-07-01    1.029487e+10\n",
      "2015-08-01    9.864942e+09\n",
      "2015-09-01    1.051019e+10\n",
      "2015-10-01    1.056639e+10\n",
      "2015-11-01    1.029608e+10\n",
      "2015-12-01    1.109438e+10\n",
      "dtype: float64\n"
     ]
    }
   ],
   "source": [
    "print('#'*30+'\\n',icms_train)\n",
    "print('#'*30+'\\n',icms_val)\n",
    "print('#'*30+'\\n',icms_test)"
   ]
  },
  {
   "cell_type": "markdown",
   "metadata": {},
   "source": [
    "## Modelos RNN LSTM\n",
    "Redes Neurais Recorrentes com neurônios Long Short-Term Memory"
   ]
  },
  {
   "cell_type": "markdown",
   "metadata": {},
   "source": [
    "### Montagem da Série com as Variáveis Exógenas\n",
    "As redes neurais precisam de conjuntos de características e de etiquetas separados. As variáveis exógenas serão o conjunto de características e a variável endógena será o conjunto de etiquetas."
   ]
  },
  {
   "cell_type": "code",
   "execution_count": 18,
   "metadata": {},
   "outputs": [],
   "source": [
    "X_data = np.append(exog, np.roll(exog, 1, axis = 0), axis = 1)\n",
    "X_data = np.append(X_data, np.roll(exog, 2, axis = 0), axis = 1)[2:]\n",
    "Y_data = icms_ts[2:].to_numpy()"
   ]
  },
  {
   "cell_type": "code",
   "execution_count": 19,
   "metadata": {},
   "outputs": [
    {
     "data": {
      "text/plain": [
       "((154, 12), (154,))"
      ]
     },
     "execution_count": 19,
     "metadata": {},
     "output_type": "execute_result"
    }
   ],
   "source": [
    "X_data.shape, Y_data.shape"
   ]
  },
  {
   "cell_type": "markdown",
   "metadata": {},
   "source": [
    "#### Normalização dos Dados\n",
    "Serão normalizados usando-se min-max. Apenas as features, a variável target não será normalizada. Os dados serão dividos em treno, validação e teste para a normalização, de modo que o fit seja feito somente nos dados de treino, aumentando-se assim a probabilidade de generalização do modelo."
   ]
  },
  {
   "cell_type": "code",
   "execution_count": 20,
   "metadata": {},
   "outputs": [
    {
     "name": "stdout",
     "output_type": "stream",
     "text": [
      "(130, 12) (12, 12) (12, 12)\n",
      "(130,) (12,) (12,)\n"
     ]
    }
   ],
   "source": [
    "X_train = X_data[:-24]\n",
    "X_val = X_data[-24:-12]\n",
    "X_test = X_data[-12:]\n",
    "print(X_train.shape, X_val.shape, X_test.shape)\n",
    "Y_train = Y_data[:-24]\n",
    "Y_val = Y_data[-24:-12]\n",
    "Y_test = np.exp(Y_data[-12:]) # tirando o log\n",
    "print(Y_train.shape, Y_val.shape, Y_test.shape)"
   ]
  },
  {
   "cell_type": "code",
   "execution_count": 21,
   "metadata": {},
   "outputs": [
    {
     "name": "stdout",
     "output_type": "stream",
     "text": [
      "numéricas [0, 1, 2, 3, 4, 5, 6, 7, 8, 9, 10, 11]\n",
      "ColumnTransformer(transformers=[('min-max', MinMaxScaler(),\n",
      "                                 [0, 1, 2, 3, 4, 5, 6, 7, 8, 9, 10, 11])],\n",
      "                  verbose=True)\n",
      "[ColumnTransformer] ....... (1 of 1) Processing min-max, total=   0.0s\n",
      "(130, 12)\n",
      "(12, 12)\n",
      "(12, 12)\n"
     ]
    }
   ],
   "source": [
    "from sklearn.preprocessing import MinMaxScaler\n",
    "from sklearn.compose import ColumnTransformer\n",
    "# índice dos atributos numéricos\n",
    "num_atrib = list(range(X_train.shape[1]))\n",
    "print('numéricas', num_atrib)\n",
    "\n",
    "enc_x = ColumnTransformer([('min-max',MinMaxScaler(), num_atrib)], verbose=True)\n",
    "\n",
    "print(enc_x)\n",
    "X_train_std = enc_x.fit_transform(X_train)\n",
    "X_val_std = enc_x.transform(X_val)\n",
    "X_test_std = enc_x.transform(X_test)\n",
    "\n",
    "print(X_train_std.shape)\n",
    "print(X_val_std.shape)\n",
    "print(X_test_std.shape)"
   ]
  },
  {
   "cell_type": "code",
   "execution_count": 22,
   "metadata": {},
   "outputs": [
    {
     "name": "stdout",
     "output_type": "stream",
     "text": [
      "(130, 12, 1) (12, 12, 1) (12, 12, 1)\n",
      "(130, 1) (12, 1) (12, 1)\n"
     ]
    }
   ],
   "source": [
    "x_train = X_train_std.reshape(X_train_std.shape[0], X_train_std.shape[1], 1)\n",
    "x_val = X_val_std.reshape(X_val_std.shape[0], X_val_std.shape[1], 1)\n",
    "x_test = X_test_std.reshape(X_test_std.shape[0], X_test_std.shape[1], 1)\n",
    "print(x_train.shape, x_val.shape, x_test.shape)\n",
    "\n",
    "y_train = Y_train.reshape(Y_train.shape[0], 1)\n",
    "y_val = Y_val.reshape(Y_val.shape[0], 1)\n",
    "y_test = Y_test.reshape(Y_test.shape[0], 1)\n",
    "print(y_train.shape, y_val.shape, y_test.shape)"
   ]
  },
  {
   "cell_type": "markdown",
   "metadata": {},
   "source": [
    "### Criando o modelo LSTM"
   ]
  },
  {
   "cell_type": "code",
   "execution_count": 23,
   "metadata": {},
   "outputs": [],
   "source": [
    "# importando as bibliotecas do Keras\n",
    "from tensorflow.keras.models import Sequential\n",
    "from tensorflow.keras.layers import LSTM, Dense, Dropout, Conv1D, MaxPooling1D\n",
    "from tensorflow.keras.callbacks import ReduceLROnPlateau, EarlyStopping\n",
    "from tensorflow.keras.optimizers import Adam"
   ]
  },
  {
   "cell_type": "markdown",
   "metadata": {},
   "source": [
    "## Arquitetura da Rede - Camadas"
   ]
  },
  {
   "cell_type": "code",
   "execution_count": 24,
   "metadata": {},
   "outputs": [],
   "source": [
    "rlrop = ReduceLROnPlateau(monitor='val_loss', factor=0.1, patience=25)\n",
    "early_stop = EarlyStopping(monitor='val_loss', patience=100, verbose=1, \n",
    "                           restore_best_weights=True)"
   ]
  },
  {
   "cell_type": "code",
   "execution_count": 25,
   "metadata": {},
   "outputs": [],
   "source": [
    "# Épocas\n",
    "EPOCHS = 1000\n",
    "NEURONIOS = 600\n",
    "DROPOUT = 0.15\n",
    "LR = 1e-5\n",
    "BATCH = 8\n",
    "\n",
    "# Imstanciação do modelo\n",
    "model = Sequential()\n",
    "\n",
    "# Adicionar camada LSTM \n",
    "model.add(LSTM(activation='tanh', dropout=DROPOUT,\n",
    "        input_shape = (12, 1), return_sequences = True,\n",
    "        units = NEURONIOS))\n",
    "\n",
    "# Adicionar camada LSTM \n",
    "model.add(LSTM(activation='tanh', dropout=DROPOUT,\n",
    "        input_shape = (12, 1), return_sequences = True,\n",
    "        units = NEURONIOS))\n",
    "\n",
    "# Adicionar camada LSTM \n",
    "model.add(LSTM(activation='tanh', dropout=DROPOUT,\n",
    "        input_shape = (12, 1), return_sequences = False,\n",
    "        units = NEURONIOS))\n",
    "\n",
    "# Adicionar a camada de saída com 1 neurônio linear\n",
    "model.add(Dense(\n",
    "        units = 1,\n",
    "        activation = 'linear'))\n",
    "# a learning rate padrão do Adam é 0.001\n",
    "model.compile(loss = 'mape', optimizer = Adam(learning_rate=LR))"
   ]
  },
  {
   "cell_type": "code",
   "execution_count": 26,
   "metadata": {},
   "outputs": [
    {
     "name": "stdout",
     "output_type": "stream",
     "text": [
      "Model: \"sequential\"\n",
      "_________________________________________________________________\n",
      "Layer (type)                 Output Shape              Param #   \n",
      "=================================================================\n",
      "lstm (LSTM)                  (None, 12, 600)           1444800   \n",
      "_________________________________________________________________\n",
      "lstm_1 (LSTM)                (None, 12, 600)           2882400   \n",
      "_________________________________________________________________\n",
      "lstm_2 (LSTM)                (None, 600)               2882400   \n",
      "_________________________________________________________________\n",
      "dense (Dense)                (None, 1)                 601       \n",
      "=================================================================\n",
      "Total params: 7,210,201\n",
      "Trainable params: 7,210,201\n",
      "Non-trainable params: 0\n",
      "_________________________________________________________________\n"
     ]
    }
   ],
   "source": [
    "model.summary()"
   ]
  },
  {
   "cell_type": "code",
   "execution_count": 27,
   "metadata": {
    "scrolled": true
   },
   "outputs": [
    {
     "name": "stdout",
     "output_type": "stream",
     "text": [
      "Epoch 1/1000\n",
      "17/17 [==============================] - 7s 389ms/step - loss: 99.8954 - val_loss: 99.6430\n",
      "Epoch 2/1000\n",
      "17/17 [==============================] - 4s 239ms/step - loss: 99.6368 - val_loss: 99.1886\n",
      "Epoch 3/1000\n",
      "17/17 [==============================] - 4s 246ms/step - loss: 99.2685 - val_loss: 98.4464\n",
      "Epoch 4/1000\n",
      "17/17 [==============================] - 4s 239ms/step - loss: 98.6235 - val_loss: 97.0133\n",
      "Epoch 5/1000\n",
      "17/17 [==============================] - 4s 243ms/step - loss: 97.3601 - val_loss: 93.8749\n",
      "Epoch 6/1000\n",
      "17/17 [==============================] - 4s 247ms/step - loss: 94.5672 - val_loss: 85.8837\n",
      "Epoch 7/1000\n",
      "17/17 [==============================] - 4s 250ms/step - loss: 86.4707 - val_loss: 63.1043\n",
      "Epoch 8/1000\n",
      "17/17 [==============================] - 4s 239ms/step - loss: 65.3160 - val_loss: 23.1381\n",
      "Epoch 9/1000\n",
      "17/17 [==============================] - 4s 233ms/step - loss: 27.6442 - val_loss: 0.5509\n",
      "Epoch 10/1000\n",
      "17/17 [==============================] - 4s 240ms/step - loss: 5.9982 - val_loss: 7.0501\n",
      "Epoch 11/1000\n",
      "17/17 [==============================] - 4s 224ms/step - loss: 4.0124 - val_loss: 4.1424\n",
      "Epoch 12/1000\n",
      "17/17 [==============================] - 4s 255ms/step - loss: 2.6649 - val_loss: 1.7172\n",
      "Epoch 13/1000\n",
      "17/17 [==============================] - 4s 231ms/step - loss: 2.8816 - val_loss: 1.6020\n",
      "Epoch 14/1000\n",
      "17/17 [==============================] - 4s 259ms/step - loss: 1.8973 - val_loss: 0.6597\n",
      "Epoch 15/1000\n",
      "17/17 [==============================] - 4s 264ms/step - loss: 1.5775 - val_loss: 0.1263\n",
      "Epoch 16/1000\n",
      "17/17 [==============================] - 4s 263ms/step - loss: 1.2526 - val_loss: 0.2015\n",
      "Epoch 17/1000\n",
      "17/17 [==============================] - 5s 266ms/step - loss: 1.1638 - val_loss: 0.1429\n",
      "Epoch 18/1000\n",
      "17/17 [==============================] - 4s 252ms/step - loss: 1.3835 - val_loss: 0.1867\n",
      "Epoch 19/1000\n",
      "17/17 [==============================] - 4s 256ms/step - loss: 1.1899 - val_loss: 0.2682\n",
      "Epoch 20/1000\n",
      "17/17 [==============================] - 4s 256ms/step - loss: 1.2021 - val_loss: 0.1749\n",
      "Epoch 21/1000\n",
      "17/17 [==============================] - 5s 272ms/step - loss: 1.0525 - val_loss: 0.6717\n",
      "Epoch 22/1000\n",
      "17/17 [==============================] - 4s 263ms/step - loss: 1.0185 - val_loss: 0.1241\n",
      "Epoch 23/1000\n",
      "17/17 [==============================] - 4s 243ms/step - loss: 0.9479 - val_loss: 0.6146\n",
      "Epoch 24/1000\n",
      "17/17 [==============================] - 4s 225ms/step - loss: 1.0922 - val_loss: 0.2815\n",
      "Epoch 25/1000\n",
      "17/17 [==============================] - 4s 211ms/step - loss: 0.8676 - val_loss: 0.6545\n",
      "Epoch 26/1000\n",
      "17/17 [==============================] - 4s 217ms/step - loss: 1.0715 - val_loss: 0.5110\n",
      "Epoch 27/1000\n",
      "17/17 [==============================] - 4s 214ms/step - loss: 0.8919 - val_loss: 0.6476\n",
      "Epoch 28/1000\n",
      "17/17 [==============================] - 4s 213ms/step - loss: 0.9256 - val_loss: 0.5876\n",
      "Epoch 29/1000\n",
      "17/17 [==============================] - 4s 218ms/step - loss: 1.0150 - val_loss: 0.4871\n",
      "Epoch 30/1000\n",
      "17/17 [==============================] - 4s 217ms/step - loss: 0.9125 - val_loss: 0.6939\n",
      "Epoch 31/1000\n",
      "17/17 [==============================] - 4s 221ms/step - loss: 0.9661 - val_loss: 0.1684\n",
      "Epoch 32/1000\n",
      "17/17 [==============================] - 4s 212ms/step - loss: 0.9371 - val_loss: 0.7483\n",
      "Epoch 33/1000\n",
      "17/17 [==============================] - 4s 206ms/step - loss: 0.9126 - val_loss: 0.5072\n",
      "Epoch 34/1000\n",
      "17/17 [==============================] - 4s 214ms/step - loss: 1.0274 - val_loss: 0.7141\n",
      "Epoch 35/1000\n",
      "17/17 [==============================] - 4s 225ms/step - loss: 0.9623 - val_loss: 0.3521\n",
      "Epoch 36/1000\n",
      "17/17 [==============================] - 4s 219ms/step - loss: 0.8567 - val_loss: 0.8575\n",
      "Epoch 37/1000\n",
      "17/17 [==============================] - 4s 218ms/step - loss: 1.0307 - val_loss: 0.2856\n",
      "Epoch 38/1000\n",
      "17/17 [==============================] - 4s 218ms/step - loss: 0.8535 - val_loss: 0.5127\n",
      "Epoch 39/1000\n",
      "17/17 [==============================] - 4s 216ms/step - loss: 0.7765 - val_loss: 0.6576\n",
      "Epoch 40/1000\n",
      "17/17 [==============================] - 3s 202ms/step - loss: 0.8046 - val_loss: 0.5989\n",
      "Epoch 41/1000\n",
      "17/17 [==============================] - 4s 210ms/step - loss: 0.9092 - val_loss: 0.6166\n",
      "Epoch 42/1000\n",
      "17/17 [==============================] - 4s 211ms/step - loss: 0.8998 - val_loss: 0.6415\n",
      "Epoch 43/1000\n",
      "17/17 [==============================] - 4s 215ms/step - loss: 0.8725 - val_loss: 0.7130\n",
      "Epoch 44/1000\n",
      "17/17 [==============================] - 4s 209ms/step - loss: 1.0711 - val_loss: 0.5866\n",
      "Epoch 45/1000\n",
      "17/17 [==============================] - 4s 209ms/step - loss: 0.9062 - val_loss: 0.6367\n",
      "Epoch 46/1000\n",
      "17/17 [==============================] - 4s 218ms/step - loss: 1.0215 - val_loss: 0.4244\n",
      "Epoch 47/1000\n",
      "17/17 [==============================] - 4s 215ms/step - loss: 0.7881 - val_loss: 0.5998\n",
      "Epoch 48/1000\n",
      "17/17 [==============================] - 4s 210ms/step - loss: 0.8095 - val_loss: 0.5969\n",
      "Epoch 49/1000\n",
      "17/17 [==============================] - 4s 223ms/step - loss: 0.8880 - val_loss: 0.5388\n",
      "Epoch 50/1000\n",
      "17/17 [==============================] - 4s 208ms/step - loss: 0.8724 - val_loss: 0.5079\n",
      "Epoch 51/1000\n",
      "17/17 [==============================] - 4s 215ms/step - loss: 0.7655 - val_loss: 0.4838\n",
      "Epoch 52/1000\n",
      "17/17 [==============================] - 4s 208ms/step - loss: 0.8717 - val_loss: 0.4528\n",
      "Epoch 53/1000\n",
      "17/17 [==============================] - 4s 215ms/step - loss: 1.0514 - val_loss: 0.3926\n",
      "Epoch 54/1000\n",
      "17/17 [==============================] - 4s 219ms/step - loss: 1.0196 - val_loss: 0.3248\n",
      "Epoch 55/1000\n",
      "17/17 [==============================] - 4s 219ms/step - loss: 0.8967 - val_loss: 0.4061\n",
      "Epoch 56/1000\n",
      "17/17 [==============================] - 4s 208ms/step - loss: 0.7873 - val_loss: 0.4757\n",
      "Epoch 57/1000\n",
      "17/17 [==============================] - 4s 213ms/step - loss: 0.9699 - val_loss: 0.4756\n",
      "Epoch 58/1000\n",
      "17/17 [==============================] - 4s 211ms/step - loss: 0.8750 - val_loss: 0.5127\n",
      "Epoch 59/1000\n",
      "17/17 [==============================] - 4s 216ms/step - loss: 0.7969 - val_loss: 0.5389\n",
      "Epoch 60/1000\n",
      "17/17 [==============================] - 3s 206ms/step - loss: 0.8847 - val_loss: 0.5239\n",
      "Epoch 61/1000\n",
      "17/17 [==============================] - 4s 217ms/step - loss: 0.9994 - val_loss: 0.4969\n",
      "Epoch 62/1000\n",
      "17/17 [==============================] - 4s 217ms/step - loss: 1.0288 - val_loss: 0.4689\n",
      "Epoch 63/1000\n",
      "17/17 [==============================] - 4s 208ms/step - loss: 0.8766 - val_loss: 0.4917\n",
      "Epoch 64/1000\n",
      "17/17 [==============================] - 4s 213ms/step - loss: 0.9145 - val_loss: 0.4844\n",
      "Epoch 65/1000\n",
      "17/17 [==============================] - 4s 214ms/step - loss: 0.8297 - val_loss: 0.4909\n",
      "Epoch 66/1000\n",
      "17/17 [==============================] - 4s 217ms/step - loss: 0.8456 - val_loss: 0.5934\n",
      "Epoch 67/1000\n",
      "17/17 [==============================] - 4s 218ms/step - loss: 1.0554 - val_loss: 0.5532\n",
      "Epoch 68/1000\n",
      "17/17 [==============================] - 4s 212ms/step - loss: 0.9633 - val_loss: 0.4939\n",
      "Epoch 69/1000\n",
      "17/17 [==============================] - 4s 213ms/step - loss: 0.8302 - val_loss: 0.4588\n",
      "Epoch 70/1000\n",
      "17/17 [==============================] - 4s 210ms/step - loss: 0.8958 - val_loss: 0.4597\n",
      "Epoch 71/1000\n",
      "17/17 [==============================] - 4s 210ms/step - loss: 0.9329 - val_loss: 0.5053\n",
      "Epoch 72/1000\n",
      "17/17 [==============================] - 4s 217ms/step - loss: 0.9356 - val_loss: 0.5654\n",
      "Epoch 73/1000\n",
      "17/17 [==============================] - 4s 214ms/step - loss: 0.9273 - val_loss: 0.5617\n",
      "Epoch 74/1000\n",
      "17/17 [==============================] - 4s 213ms/step - loss: 0.9521 - val_loss: 0.5583\n",
      "Epoch 75/1000\n",
      "17/17 [==============================] - 4s 218ms/step - loss: 0.8265 - val_loss: 0.5484\n",
      "Epoch 76/1000\n",
      "17/17 [==============================] - 4s 207ms/step - loss: 0.8883 - val_loss: 0.5445\n",
      "Epoch 77/1000\n",
      "17/17 [==============================] - 4s 218ms/step - loss: 0.9008 - val_loss: 0.5468\n",
      "Epoch 78/1000\n",
      "17/17 [==============================] - 4s 208ms/step - loss: 0.8860 - val_loss: 0.5383\n",
      "Epoch 79/1000\n",
      "17/17 [==============================] - 4s 214ms/step - loss: 0.9021 - val_loss: 0.5353\n",
      "Epoch 80/1000\n",
      "17/17 [==============================] - 4s 215ms/step - loss: 1.1021 - val_loss: 0.5397\n",
      "Epoch 81/1000\n",
      "17/17 [==============================] - 4s 233ms/step - loss: 0.7929 - val_loss: 0.5301\n",
      "Epoch 82/1000\n",
      "17/17 [==============================] - 4s 229ms/step - loss: 0.8089 - val_loss: 0.5313\n",
      "Epoch 83/1000\n",
      "17/17 [==============================] - 4s 226ms/step - loss: 0.8759 - val_loss: 0.5319\n",
      "Epoch 84/1000\n",
      "17/17 [==============================] - 4s 228ms/step - loss: 0.8348 - val_loss: 0.5301\n",
      "Epoch 85/1000\n",
      "17/17 [==============================] - 4s 230ms/step - loss: 0.7969 - val_loss: 0.5258\n",
      "Epoch 86/1000\n",
      "17/17 [==============================] - 4s 208ms/step - loss: 1.0447 - val_loss: 0.5274\n",
      "Epoch 87/1000\n",
      "17/17 [==============================] - 4s 209ms/step - loss: 0.9311 - val_loss: 0.5296\n",
      "Epoch 88/1000\n",
      "17/17 [==============================] - 4s 207ms/step - loss: 0.8944 - val_loss: 0.5258\n",
      "Epoch 89/1000\n",
      "17/17 [==============================] - 3s 204ms/step - loss: 1.0190 - val_loss: 0.5204\n",
      "Epoch 90/1000\n",
      "17/17 [==============================] - 4s 212ms/step - loss: 0.8825 - val_loss: 0.5164\n",
      "Epoch 91/1000\n",
      "17/17 [==============================] - 4s 212ms/step - loss: 0.7650 - val_loss: 0.5137\n",
      "Epoch 92/1000\n",
      "17/17 [==============================] - 4s 218ms/step - loss: 0.7522 - val_loss: 0.5089\n",
      "Epoch 93/1000\n",
      "17/17 [==============================] - 4s 212ms/step - loss: 0.9308 - val_loss: 0.5074\n",
      "Epoch 94/1000\n",
      "17/17 [==============================] - 4s 209ms/step - loss: 0.9519 - val_loss: 0.5127\n",
      "Epoch 95/1000\n",
      "17/17 [==============================] - 4s 219ms/step - loss: 0.8695 - val_loss: 0.5045\n",
      "Epoch 96/1000\n",
      "17/17 [==============================] - 4s 215ms/step - loss: 0.9133 - val_loss: 0.5080\n",
      "Epoch 97/1000\n",
      "17/17 [==============================] - 4s 221ms/step - loss: 0.8606 - val_loss: 0.5076\n",
      "Epoch 98/1000\n",
      "17/17 [==============================] - 4s 216ms/step - loss: 0.9160 - val_loss: 0.5089\n",
      "Epoch 99/1000\n",
      "17/17 [==============================] - 4s 209ms/step - loss: 0.9963 - val_loss: 0.5093\n",
      "Epoch 100/1000\n",
      "17/17 [==============================] - 4s 214ms/step - loss: 0.8430 - val_loss: 0.5089\n",
      "Epoch 101/1000\n",
      "17/17 [==============================] - 4s 215ms/step - loss: 0.8975 - val_loss: 0.5078\n",
      "Epoch 102/1000\n",
      "17/17 [==============================] - 4s 209ms/step - loss: 0.8962 - val_loss: 0.5070\n",
      "Epoch 103/1000\n",
      "17/17 [==============================] - 4s 218ms/step - loss: 0.8359 - val_loss: 0.5068\n",
      "Epoch 104/1000\n",
      "17/17 [==============================] - 4s 214ms/step - loss: 0.8490 - val_loss: 0.5067\n",
      "Epoch 105/1000\n",
      "17/17 [==============================] - 4s 214ms/step - loss: 0.8597 - val_loss: 0.5070\n",
      "Epoch 106/1000\n",
      "17/17 [==============================] - 4s 213ms/step - loss: 0.8786 - val_loss: 0.5075\n",
      "Epoch 107/1000\n",
      "17/17 [==============================] - 4s 218ms/step - loss: 0.9359 - val_loss: 0.5082\n",
      "Epoch 108/1000\n",
      "17/17 [==============================] - 4s 226ms/step - loss: 0.8779 - val_loss: 0.5079\n",
      "Epoch 109/1000\n",
      "17/17 [==============================] - 4s 216ms/step - loss: 0.8918 - val_loss: 0.5065\n",
      "Epoch 110/1000\n",
      "17/17 [==============================] - 4s 210ms/step - loss: 0.7837 - val_loss: 0.5060\n",
      "Epoch 111/1000\n",
      "17/17 [==============================] - 4s 218ms/step - loss: 0.8860 - val_loss: 0.5056\n",
      "Epoch 112/1000\n",
      "17/17 [==============================] - 4s 222ms/step - loss: 0.9090 - val_loss: 0.5059\n",
      "Epoch 113/1000\n",
      "17/17 [==============================] - 4s 217ms/step - loss: 0.9531 - val_loss: 0.5055\n",
      "Epoch 114/1000\n",
      "17/17 [==============================] - 4s 214ms/step - loss: 0.9227 - val_loss: 0.5056\n",
      "Epoch 115/1000\n",
      "17/17 [==============================] - 4s 218ms/step - loss: 0.9445 - val_loss: 0.5050\n",
      "Epoch 116/1000\n",
      "17/17 [==============================] - 4s 211ms/step - loss: 0.9982 - val_loss: 0.5048\n",
      "Epoch 117/1000\n",
      "17/17 [==============================] - 4s 223ms/step - loss: 0.9391 - val_loss: 0.5046\n",
      "Epoch 118/1000\n",
      "17/17 [==============================] - 3s 205ms/step - loss: 0.8809 - val_loss: 0.5043\n",
      "Epoch 119/1000\n",
      "17/17 [==============================] - 4s 221ms/step - loss: 0.8002 - val_loss: 0.5039\n",
      "Epoch 120/1000\n",
      "17/17 [==============================] - 4s 220ms/step - loss: 0.8865 - val_loss: 0.5042\n",
      "Epoch 121/1000\n",
      "17/17 [==============================] - 4s 211ms/step - loss: 0.8971 - val_loss: 0.5046\n",
      "Epoch 122/1000\n",
      "17/17 [==============================] - ETA: 0s - loss: 0.7505Restoring model weights from the end of the best epoch.\n",
      "17/17 [==============================] - 3s 205ms/step - loss: 0.7505 - val_loss: 0.5045\n",
      "Epoch 00122: early stopping\n"
     ]
    }
   ],
   "source": [
    "# History object for plotting our model loss by epoch\n",
    "history = model.fit(x_train, y_train, batch_size = BATCH, \n",
    "                    epochs = EPOCHS, validation_data = (x_val, y_val),\n",
    "                    callbacks = [rlrop, early_stop])"
   ]
  },
  {
   "cell_type": "code",
   "execution_count": 28,
   "metadata": {
    "scrolled": false
   },
   "outputs": [
    {
     "data": {
      "image/png": "[encoded data removed]",
      "text/plain": [
       "<Figure size 720x504 with 1 Axes>"
      ]
     },
     "metadata": {
      "needs_background": "light"
     },
     "output_type": "display_data"
    }
   ],
   "source": [
    "# Loss History\n",
    "fig = plt.figure(figsize=(10, 7))\n",
    "plt.plot(history.history['loss'])\n",
    "plt.plot(history.history['val_loss'])\n",
    "plt.title('Model Loss')\n",
    "plt.ylabel('Loss')\n",
    "plt.xlabel('Epoch')\n",
    "plt.legend(['Train', 'Val'], loc='upper right')\n",
    "plt.show()"
   ]
  },
  {
   "cell_type": "markdown",
   "metadata": {},
   "source": [
    "### Previsão 12 meses em Validação"
   ]
  },
  {
   "cell_type": "code",
   "execution_count": 29,
   "metadata": {},
   "outputs": [
    {
     "data": {
      "text/plain": [
       "array([[9.7303532e+09],\n",
       "       [9.5693445e+09],\n",
       "       [9.5340012e+09],\n",
       "       [9.5936328e+09],\n",
       "       [9.7022956e+09],\n",
       "       [9.4854267e+09],\n",
       "       [9.8783457e+09],\n",
       "       [9.7977702e+09],\n",
       "       [9.8821140e+09],\n",
       "       [1.0058817e+10],\n",
       "       [9.8105057e+09],\n",
       "       [9.9531069e+09]], dtype=float32)"
      ]
     },
     "execution_count": 29,
     "metadata": {},
     "output_type": "execute_result"
    }
   ],
   "source": [
    "Y_pred_val = np.exp(model.predict(x_val))\n",
    "Y_pred_val"
   ]
  },
  {
   "cell_type": "code",
   "execution_count": 30,
   "metadata": {},
   "outputs": [
    {
     "data": {
      "text/plain": [
       "date\n",
       "2014-01-01    9.730353e+09\n",
       "2014-02-01    9.569345e+09\n",
       "2014-03-01    9.534001e+09\n",
       "2014-04-01    9.593633e+09\n",
       "2014-05-01    9.702296e+09\n",
       "2014-06-01    9.485427e+09\n",
       "2014-07-01    9.878346e+09\n",
       "2014-08-01    9.797770e+09\n",
       "2014-09-01    9.882114e+09\n",
       "2014-10-01    1.005882e+10\n",
       "2014-11-01    9.810506e+09\n",
       "2014-12-01    9.953107e+09\n",
       "dtype: float32"
      ]
     },
     "execution_count": 30,
     "metadata": {},
     "output_type": "execute_result"
    }
   ],
   "source": [
    "y_pred_val = pd.Series(Y_pred_val.ravel())\n",
    "y_pred_val.index = icms_val.index\n",
    "y_pred_val"
   ]
  },
  {
   "cell_type": "code",
   "execution_count": 31,
   "metadata": {},
   "outputs": [
    {
     "data": {
      "text/plain": [
       "array([9.80327829e+09, 9.68776017e+09, 9.46505414e+09, 9.63542959e+09,\n",
       "       9.81907930e+09, 9.67726450e+09, 9.59458992e+09, 9.50005970e+09,\n",
       "       9.79697005e+09, 1.06336282e+10, 1.01524424e+10, 1.12408244e+10])"
      ]
     },
     "execution_count": 31,
     "metadata": {},
     "output_type": "execute_result"
    }
   ],
   "source": [
    "np.exp(y_val).ravel()"
   ]
  },
  {
   "cell_type": "code",
   "execution_count": 32,
   "metadata": {},
   "outputs": [
    {
     "data": {
      "text/plain": [
       "443304368.5174026"
      ]
     },
     "execution_count": 32,
     "metadata": {},
     "output_type": "execute_result"
    }
   ],
   "source": [
    "RMSE_lstm_val = mean_squared_error(np.exp(y_val).ravel(), y_pred_val, squared=False)\n",
    "RMSE_lstm_val"
   ]
  },
  {
   "cell_type": "code",
   "execution_count": 33,
   "metadata": {},
   "outputs": [
    {
     "data": {
      "text/plain": [
       "0.02790816958608124"
      ]
     },
     "execution_count": 33,
     "metadata": {},
     "output_type": "execute_result"
    }
   ],
   "source": [
    "MAPE_lstm_val = mean_absolute_percentage_error(np.exp(y_val).ravel(), y_pred_val)\n",
    "MAPE_lstm_val"
   ]
  },
  {
   "cell_type": "code",
   "execution_count": 34,
   "metadata": {},
   "outputs": [],
   "source": [
    "previsoes['nome'].append('RNN-LSTM-Camadas')\n",
    "previsoes['modelo'].append(model)\n",
    "previsoes['previsoes'].append(y_pred_val)\n",
    "\n",
    "previsoes['rmse'].append(RMSE_lstm_val)\n",
    "\n",
    "previsoes['mape'].append(MAPE_lstm_val)"
   ]
  },
  {
   "cell_type": "code",
   "execution_count": 35,
   "metadata": {},
   "outputs": [],
   "source": [
    "previsoes['erro relativo'].append([erro_relativo(prev,real) \n",
    "                                   for prev,real in zip(y_pred_val, y_test)])"
   ]
  },
  {
   "cell_type": "markdown",
   "metadata": {},
   "source": [
    "## Arquitetura da Rede - Larga"
   ]
  },
  {
   "cell_type": "code",
   "execution_count": 36,
   "metadata": {},
   "outputs": [],
   "source": [
    "rlrop2 = ReduceLROnPlateau(monitor='val_loss', factor=0.1, patience=25)\n",
    "early_stop2 = EarlyStopping(monitor='val_loss', patience=100, verbose=1, \n",
    "                           restore_best_weights=True)"
   ]
  },
  {
   "cell_type": "code",
   "execution_count": 37,
   "metadata": {},
   "outputs": [],
   "source": [
    "# Épocas\n",
    "EPOCHS2 = 1000\n",
    "NEURONIOS2 = 600\n",
    "DROPOUT2 = 0.15\n",
    "LR2 = 1e-5\n",
    "BATCH2 = 8\n",
    "\n",
    "# Imstanciação do modelo\n",
    "model2 = Sequential()\n",
    "\n",
    "# Adicionar camada LSTM \n",
    "model2.add(LSTM(activation='tanh', dropout=DROPOUT2,\n",
    "        input_shape = (12, 1), return_sequences = False,\n",
    "        units = NEURONIOS2))\n",
    "\n",
    "# Adicionar a camada de saída com 1 neurônio linear\n",
    "model2.add(Dense(\n",
    "        units = 1,\n",
    "        activation = 'linear'))\n",
    "# a learning rate padrão do Adam é 0.001\n",
    "model2.compile(loss = 'mape', optimizer = Adam(learning_rate=LR2))"
   ]
  },
  {
   "cell_type": "code",
   "execution_count": 38,
   "metadata": {},
   "outputs": [
    {
     "name": "stdout",
     "output_type": "stream",
     "text": [
      "Model: \"sequential_1\"\n",
      "_________________________________________________________________\n",
      "Layer (type)                 Output Shape              Param #   \n",
      "=================================================================\n",
      "lstm_3 (LSTM)                (None, 600)               1444800   \n",
      "_________________________________________________________________\n",
      "dense_1 (Dense)              (None, 1)                 601       \n",
      "=================================================================\n",
      "Total params: 1,445,401\n",
      "Trainable params: 1,445,401\n",
      "Non-trainable params: 0\n",
      "_________________________________________________________________\n"
     ]
    }
   ],
   "source": [
    "model2.summary()"
   ]
  },
  {
   "cell_type": "code",
   "execution_count": 39,
   "metadata": {
    "scrolled": true
   },
   "outputs": [
    {
     "name": "stdout",
     "output_type": "stream",
     "text": [
      "Epoch 1/1000\n",
      "17/17 [==============================] - 2s 101ms/step - loss: 99.9551 - val_loss: 99.7810\n",
      "Epoch 2/1000\n",
      "17/17 [==============================] - 1s 50ms/step - loss: 99.7770 - val_loss: 99.5097\n",
      "Epoch 3/1000\n",
      "17/17 [==============================] - 1s 51ms/step - loss: 99.5915 - val_loss: 99.2170\n",
      "Epoch 4/1000\n",
      "17/17 [==============================] - 1s 51ms/step - loss: 99.3942 - val_loss: 98.8873\n",
      "Epoch 5/1000\n",
      "17/17 [==============================] - 1s 52ms/step - loss: 99.1672 - val_loss: 98.5045\n",
      "Epoch 6/1000\n",
      "17/17 [==============================] - 1s 50ms/step - loss: 98.8975 - val_loss: 98.0325\n",
      "Epoch 7/1000\n",
      "17/17 [==============================] - 1s 53ms/step - loss: 98.5469 - val_loss: 97.4369\n",
      "Epoch 8/1000\n",
      "17/17 [==============================] - 1s 52ms/step - loss: 98.1338 - val_loss: 96.6270\n",
      "Epoch 9/1000\n",
      "17/17 [==============================] - 1s 51ms/step - loss: 97.4807 - val_loss: 95.4652\n",
      "Epoch 10/1000\n",
      "17/17 [==============================] - 1s 51ms/step - loss: 96.6617 - val_loss: 93.6776\n",
      "Epoch 11/1000\n",
      "17/17 [==============================] - 1s 52ms/step - loss: 95.2260 - val_loss: 90.6751\n",
      "Epoch 12/1000\n",
      "17/17 [==============================] - 1s 50ms/step - loss: 93.1574 - val_loss: 85.1399\n",
      "Epoch 13/1000\n",
      "17/17 [==============================] - 1s 52ms/step - loss: 88.7684 - val_loss: 73.4164\n",
      "Epoch 14/1000\n",
      "17/17 [==============================] - 1s 54ms/step - loss: 79.2442 - val_loss: 49.5834\n",
      "Epoch 15/1000\n",
      "17/17 [==============================] - 1s 54ms/step - loss: 59.4452 - val_loss: 22.1963\n",
      "Epoch 16/1000\n",
      "17/17 [==============================] - 1s 53ms/step - loss: 35.3454 - val_loss: 6.6141\n",
      "Epoch 17/1000\n",
      "17/17 [==============================] - 1s 54ms/step - loss: 13.8339 - val_loss: 2.3785\n",
      "Epoch 18/1000\n",
      "17/17 [==============================] - 1s 51ms/step - loss: 6.0905 - val_loss: 4.5651\n",
      "Epoch 19/1000\n",
      "17/17 [==============================] - 1s 53ms/step - loss: 4.4699 - val_loss: 2.4708\n",
      "Epoch 20/1000\n",
      "17/17 [==============================] - 1s 53ms/step - loss: 2.9298 - val_loss: 0.2083\n",
      "Epoch 21/1000\n",
      "17/17 [==============================] - 1s 52ms/step - loss: 2.6247 - val_loss: 0.3441\n",
      "Epoch 22/1000\n",
      "17/17 [==============================] - 1s 52ms/step - loss: 2.3742 - val_loss: 0.3500\n",
      "Epoch 23/1000\n",
      "17/17 [==============================] - 1s 53ms/step - loss: 1.4896 - val_loss: 0.7013\n",
      "Epoch 24/1000\n",
      "17/17 [==============================] - 1s 51ms/step - loss: 1.3020 - val_loss: 0.6060\n",
      "Epoch 25/1000\n",
      "17/17 [==============================] - 1s 52ms/step - loss: 1.5304 - val_loss: 0.7244\n",
      "Epoch 26/1000\n",
      "17/17 [==============================] - 1s 50ms/step - loss: 1.5298 - val_loss: 0.9047\n",
      "Epoch 27/1000\n",
      "17/17 [==============================] - 1s 53ms/step - loss: 1.2716 - val_loss: 0.9916\n",
      "Epoch 28/1000\n",
      "17/17 [==============================] - 1s 50ms/step - loss: 1.1848 - val_loss: 1.0674\n",
      "Epoch 29/1000\n",
      "17/17 [==============================] - 1s 54ms/step - loss: 1.1664 - val_loss: 0.8684\n",
      "Epoch 30/1000\n",
      "17/17 [==============================] - 1s 52ms/step - loss: 1.1042 - val_loss: 1.3174\n",
      "Epoch 31/1000\n",
      "17/17 [==============================] - 1s 51ms/step - loss: 1.1439 - val_loss: 1.1415\n",
      "Epoch 32/1000\n",
      "17/17 [==============================] - 1s 50ms/step - loss: 1.0311 - val_loss: 1.0413\n",
      "Epoch 33/1000\n",
      "17/17 [==============================] - 1s 51ms/step - loss: 1.2446 - val_loss: 0.9615\n",
      "Epoch 34/1000\n",
      "17/17 [==============================] - 1s 52ms/step - loss: 1.2678 - val_loss: 1.0075\n",
      "Epoch 35/1000\n",
      "17/17 [==============================] - 1s 53ms/step - loss: 1.1484 - val_loss: 1.0319\n",
      "Epoch 36/1000\n",
      "17/17 [==============================] - 1s 53ms/step - loss: 0.9597 - val_loss: 1.1008\n",
      "Epoch 37/1000\n",
      "17/17 [==============================] - 1s 50ms/step - loss: 1.1145 - val_loss: 1.0130\n",
      "Epoch 38/1000\n",
      "17/17 [==============================] - 1s 52ms/step - loss: 1.1418 - val_loss: 1.0087\n",
      "Epoch 39/1000\n",
      "17/17 [==============================] - 1s 51ms/step - loss: 1.2593 - val_loss: 0.9151\n",
      "Epoch 40/1000\n",
      "17/17 [==============================] - 1s 51ms/step - loss: 0.9982 - val_loss: 1.1094\n",
      "Epoch 41/1000\n",
      "17/17 [==============================] - 1s 51ms/step - loss: 1.1301 - val_loss: 1.1797\n",
      "Epoch 42/1000\n",
      "17/17 [==============================] - 1s 51ms/step - loss: 1.2871 - val_loss: 0.8974\n",
      "Epoch 43/1000\n",
      "17/17 [==============================] - 1s 51ms/step - loss: 1.3608 - val_loss: 1.0861\n",
      "Epoch 44/1000\n",
      "17/17 [==============================] - 1s 50ms/step - loss: 1.0787 - val_loss: 1.4276\n",
      "Epoch 45/1000\n",
      "17/17 [==============================] - 1s 51ms/step - loss: 1.0497 - val_loss: 1.1223\n",
      "Epoch 46/1000\n",
      "17/17 [==============================] - 1s 52ms/step - loss: 1.0561 - val_loss: 1.1367\n",
      "Epoch 47/1000\n",
      "17/17 [==============================] - 1s 55ms/step - loss: 0.9955 - val_loss: 1.1207\n",
      "Epoch 48/1000\n",
      "17/17 [==============================] - 1s 51ms/step - loss: 1.0971 - val_loss: 1.0978\n",
      "Epoch 49/1000\n",
      "17/17 [==============================] - 1s 53ms/step - loss: 0.9635 - val_loss: 1.0787\n",
      "Epoch 50/1000\n",
      "17/17 [==============================] - 1s 53ms/step - loss: 0.9217 - val_loss: 1.1182\n",
      "Epoch 51/1000\n",
      "17/17 [==============================] - 1s 51ms/step - loss: 0.8575 - val_loss: 1.0994\n",
      "Epoch 52/1000\n",
      "17/17 [==============================] - 1s 49ms/step - loss: 1.1100 - val_loss: 1.1230\n",
      "Epoch 53/1000\n",
      "17/17 [==============================] - 1s 53ms/step - loss: 1.2530 - val_loss: 1.0860\n",
      "Epoch 54/1000\n",
      "17/17 [==============================] - 1s 49ms/step - loss: 1.1046 - val_loss: 1.0720\n",
      "Epoch 55/1000\n",
      "17/17 [==============================] - 1s 50ms/step - loss: 1.0521 - val_loss: 1.0846\n",
      "Epoch 56/1000\n",
      "17/17 [==============================] - 1s 51ms/step - loss: 0.9652 - val_loss: 1.0901\n",
      "Epoch 57/1000\n",
      "17/17 [==============================] - 1s 52ms/step - loss: 0.9754 - val_loss: 1.1178\n",
      "Epoch 58/1000\n",
      "17/17 [==============================] - 1s 53ms/step - loss: 0.9835 - val_loss: 1.1113\n",
      "Epoch 59/1000\n",
      "17/17 [==============================] - 1s 53ms/step - loss: 0.9863 - val_loss: 1.0920\n",
      "Epoch 60/1000\n",
      "17/17 [==============================] - 1s 55ms/step - loss: 1.1468 - val_loss: 1.0991\n",
      "Epoch 61/1000\n",
      "17/17 [==============================] - 1s 55ms/step - loss: 0.9793 - val_loss: 1.1262\n",
      "Epoch 62/1000\n",
      "17/17 [==============================] - 1s 51ms/step - loss: 1.0606 - val_loss: 1.1089\n",
      "Epoch 63/1000\n",
      "17/17 [==============================] - 1s 54ms/step - loss: 0.9301 - val_loss: 1.1196\n",
      "Epoch 64/1000\n",
      "17/17 [==============================] - 1s 54ms/step - loss: 1.0572 - val_loss: 1.1040\n",
      "Epoch 65/1000\n",
      "17/17 [==============================] - 1s 57ms/step - loss: 0.9380 - val_loss: 1.0787\n",
      "Epoch 66/1000\n",
      "17/17 [==============================] - 1s 51ms/step - loss: 1.1921 - val_loss: 1.0777\n",
      "Epoch 67/1000\n",
      "17/17 [==============================] - 1s 52ms/step - loss: 1.0639 - val_loss: 1.0927\n",
      "Epoch 68/1000\n",
      "17/17 [==============================] - 1s 52ms/step - loss: 1.1152 - val_loss: 1.1080\n",
      "Epoch 69/1000\n",
      "17/17 [==============================] - 1s 54ms/step - loss: 1.1490 - val_loss: 1.0909\n",
      "Epoch 70/1000\n",
      "17/17 [==============================] - 1s 49ms/step - loss: 1.1291 - val_loss: 1.1121\n",
      "Epoch 71/1000\n",
      "17/17 [==============================] - 1s 50ms/step - loss: 0.9233 - val_loss: 1.1171\n",
      "Epoch 72/1000\n",
      "17/17 [==============================] - 1s 52ms/step - loss: 1.0200 - val_loss: 1.1172\n",
      "Epoch 73/1000\n",
      "17/17 [==============================] - 1s 53ms/step - loss: 0.8678 - val_loss: 1.1222\n",
      "Epoch 74/1000\n",
      "17/17 [==============================] - 1s 54ms/step - loss: 1.1747 - val_loss: 1.1189\n",
      "Epoch 75/1000\n",
      "17/17 [==============================] - 1s 52ms/step - loss: 1.0170 - val_loss: 1.1174\n",
      "Epoch 76/1000\n",
      "17/17 [==============================] - 1s 53ms/step - loss: 0.9979 - val_loss: 1.1098\n",
      "Epoch 77/1000\n",
      "17/17 [==============================] - 1s 53ms/step - loss: 1.0505 - val_loss: 1.1056\n",
      "Epoch 78/1000\n",
      "17/17 [==============================] - 1s 56ms/step - loss: 0.8789 - val_loss: 1.1000\n",
      "Epoch 79/1000\n",
      "17/17 [==============================] - 1s 52ms/step - loss: 1.2217 - val_loss: 1.0973\n",
      "Epoch 80/1000\n",
      "17/17 [==============================] - 1s 59ms/step - loss: 0.9632 - val_loss: 1.1000\n",
      "Epoch 81/1000\n"
     ]
    },
    {
     "name": "stdout",
     "output_type": "stream",
     "text": [
      "17/17 [==============================] - 1s 55ms/step - loss: 1.0619 - val_loss: 1.0948\n",
      "Epoch 82/1000\n",
      "17/17 [==============================] - 1s 50ms/step - loss: 1.1528 - val_loss: 1.0950\n",
      "Epoch 83/1000\n",
      "17/17 [==============================] - 1s 51ms/step - loss: 1.0283 - val_loss: 1.0941\n",
      "Epoch 84/1000\n",
      "17/17 [==============================] - 1s 52ms/step - loss: 0.8983 - val_loss: 1.0939\n",
      "Epoch 85/1000\n",
      "17/17 [==============================] - 1s 52ms/step - loss: 0.9888 - val_loss: 1.0944\n",
      "Epoch 86/1000\n",
      "17/17 [==============================] - 1s 51ms/step - loss: 1.1451 - val_loss: 1.0933\n",
      "Epoch 87/1000\n",
      "17/17 [==============================] - 1s 53ms/step - loss: 1.2559 - val_loss: 1.0960\n",
      "Epoch 88/1000\n",
      "17/17 [==============================] - 1s 51ms/step - loss: 1.1015 - val_loss: 1.0964\n",
      "Epoch 89/1000\n",
      "17/17 [==============================] - 1s 54ms/step - loss: 0.8998 - val_loss: 1.0977\n",
      "Epoch 90/1000\n",
      "17/17 [==============================] - 1s 49ms/step - loss: 0.9439 - val_loss: 1.0980\n",
      "Epoch 91/1000\n",
      "17/17 [==============================] - 1s 52ms/step - loss: 0.9941 - val_loss: 1.0950\n",
      "Epoch 92/1000\n",
      "17/17 [==============================] - 1s 54ms/step - loss: 1.0697 - val_loss: 1.0926\n",
      "Epoch 93/1000\n",
      "17/17 [==============================] - 1s 50ms/step - loss: 0.9867 - val_loss: 1.0939\n",
      "Epoch 94/1000\n",
      "17/17 [==============================] - 1s 35ms/step - loss: 1.0269 - val_loss: 1.0978\n",
      "Epoch 95/1000\n",
      "17/17 [==============================] - 1s 35ms/step - loss: 1.1731 - val_loss: 1.0948\n",
      "Epoch 96/1000\n",
      "17/17 [==============================] - 1s 35ms/step - loss: 1.1003 - val_loss: 1.0946\n",
      "Epoch 97/1000\n",
      "17/17 [==============================] - 1s 35ms/step - loss: 1.0263 - val_loss: 1.0947\n",
      "Epoch 98/1000\n",
      "17/17 [==============================] - 1s 34ms/step - loss: 0.9247 - val_loss: 1.0954\n",
      "Epoch 99/1000\n",
      "17/17 [==============================] - 1s 37ms/step - loss: 0.8850 - val_loss: 1.0955\n",
      "Epoch 100/1000\n",
      "17/17 [==============================] - 1s 35ms/step - loss: 1.0390 - val_loss: 1.0959\n",
      "Epoch 101/1000\n",
      "17/17 [==============================] - 1s 36ms/step - loss: 0.9068 - val_loss: 1.0958\n",
      "Epoch 102/1000\n",
      "17/17 [==============================] - 1s 36ms/step - loss: 1.1186 - val_loss: 1.0957\n",
      "Epoch 103/1000\n",
      "17/17 [==============================] - 1s 37ms/step - loss: 1.1149 - val_loss: 1.0952\n",
      "Epoch 104/1000\n",
      "17/17 [==============================] - 1s 35ms/step - loss: 1.0929 - val_loss: 1.0951\n",
      "Epoch 105/1000\n",
      "17/17 [==============================] - 1s 38ms/step - loss: 0.9072 - val_loss: 1.0948\n",
      "Epoch 106/1000\n",
      "17/17 [==============================] - 1s 37ms/step - loss: 1.1185 - val_loss: 1.0947\n",
      "Epoch 107/1000\n",
      "17/17 [==============================] - 1s 37ms/step - loss: 1.1868 - val_loss: 1.0949\n",
      "Epoch 108/1000\n",
      "17/17 [==============================] - 1s 37ms/step - loss: 0.9954 - val_loss: 1.0947\n",
      "Epoch 109/1000\n",
      "17/17 [==============================] - 1s 37ms/step - loss: 1.1238 - val_loss: 1.0945\n",
      "Epoch 110/1000\n",
      "17/17 [==============================] - 1s 38ms/step - loss: 1.0896 - val_loss: 1.0942\n",
      "Epoch 111/1000\n",
      "17/17 [==============================] - 1s 38ms/step - loss: 1.0253 - val_loss: 1.0940\n",
      "Epoch 112/1000\n",
      "17/17 [==============================] - 1s 37ms/step - loss: 1.1029 - val_loss: 1.0943\n",
      "Epoch 113/1000\n",
      "17/17 [==============================] - 1s 32ms/step - loss: 1.1203 - val_loss: 1.0939\n",
      "Epoch 114/1000\n",
      "17/17 [==============================] - 1s 34ms/step - loss: 0.9716 - val_loss: 1.0940\n",
      "Epoch 115/1000\n",
      "17/17 [==============================] - 1s 52ms/step - loss: 0.9549 - val_loss: 1.0941\n",
      "Epoch 116/1000\n",
      "17/17 [==============================] - 1s 53ms/step - loss: 0.8940 - val_loss: 1.0946\n",
      "Epoch 117/1000\n",
      "17/17 [==============================] - 1s 48ms/step - loss: 0.9505 - val_loss: 1.0946\n",
      "Epoch 118/1000\n",
      "17/17 [==============================] - 1s 36ms/step - loss: 1.1652 - val_loss: 1.0944\n",
      "Epoch 119/1000\n",
      "17/17 [==============================] - 1s 34ms/step - loss: 1.0695 - val_loss: 1.0945\n",
      "Epoch 120/1000\n",
      "17/17 [==============================] - ETA: 0s - loss: 0.9184Restoring model weights from the end of the best epoch.\n",
      "17/17 [==============================] - 1s 31ms/step - loss: 0.9184 - val_loss: 1.0946\n",
      "Epoch 00120: early stopping\n"
     ]
    }
   ],
   "source": [
    "# History object for plotting our model loss by epoch\n",
    "history2 = model2.fit(x_train, y_train, batch_size = BATCH2, \n",
    "                    epochs = EPOCHS2, validation_data = (x_val, y_val),\n",
    "                    callbacks = [rlrop2, early_stop2])"
   ]
  },
  {
   "cell_type": "code",
   "execution_count": 40,
   "metadata": {
    "scrolled": false
   },
   "outputs": [
    {
     "data": {
      "image/png": "[encoded data removed]",
      "text/plain": [
       "<Figure size 720x504 with 1 Axes>"
      ]
     },
     "metadata": {
      "needs_background": "light"
     },
     "output_type": "display_data"
    }
   ],
   "source": [
    "# Loss History\n",
    "fig = plt.figure(figsize=(10, 7))\n",
    "plt.plot(history2.history['loss'])\n",
    "plt.plot(history2.history['val_loss'])\n",
    "plt.title('Model Loss')\n",
    "plt.ylabel('Loss')\n",
    "plt.xlabel('Epoch')\n",
    "plt.legend(['Train', 'Val'], loc='upper right')\n",
    "plt.show()"
   ]
  },
  {
   "cell_type": "markdown",
   "metadata": {},
   "source": [
    "### Previsão 12 meses em Validação"
   ]
  },
  {
   "cell_type": "code",
   "execution_count": 41,
   "metadata": {},
   "outputs": [
    {
     "data": {
      "text/plain": [
       "array([[1.0213499e+10],\n",
       "       [9.9699405e+09],\n",
       "       [1.0104795e+10],\n",
       "       [1.0239207e+10],\n",
       "       [1.0308772e+10],\n",
       "       [9.8931087e+09],\n",
       "       [1.0481263e+10],\n",
       "       [1.0286773e+10],\n",
       "       [1.0348410e+10],\n",
       "       [1.0551065e+10],\n",
       "       [1.0170150e+10],\n",
       "       [1.0415618e+10]], dtype=float32)"
      ]
     },
     "execution_count": 41,
     "metadata": {},
     "output_type": "execute_result"
    }
   ],
   "source": [
    "Y_pred_val2 = np.exp(model2.predict(x_val))\n",
    "Y_pred_val2"
   ]
  },
  {
   "cell_type": "code",
   "execution_count": 42,
   "metadata": {},
   "outputs": [
    {
     "data": {
      "text/plain": [
       "date\n",
       "2014-01-01    1.021350e+10\n",
       "2014-02-01    9.969940e+09\n",
       "2014-03-01    1.010480e+10\n",
       "2014-04-01    1.023921e+10\n",
       "2014-05-01    1.030877e+10\n",
       "2014-06-01    9.893109e+09\n",
       "2014-07-01    1.048126e+10\n",
       "2014-08-01    1.028677e+10\n",
       "2014-09-01    1.034841e+10\n",
       "2014-10-01    1.055106e+10\n",
       "2014-11-01    1.017015e+10\n",
       "2014-12-01    1.041562e+10\n",
       "dtype: float32"
      ]
     },
     "execution_count": 42,
     "metadata": {},
     "output_type": "execute_result"
    }
   ],
   "source": [
    "y_pred_val2 = pd.Series(Y_pred_val2.ravel())\n",
    "y_pred_val2.index = icms_val.index\n",
    "y_pred_val2"
   ]
  },
  {
   "cell_type": "code",
   "execution_count": 43,
   "metadata": {},
   "outputs": [
    {
     "data": {
      "text/plain": [
       "array([9.80327829e+09, 9.68776017e+09, 9.46505414e+09, 9.63542959e+09,\n",
       "       9.81907930e+09, 9.67726450e+09, 9.59458992e+09, 9.50005970e+09,\n",
       "       9.79697005e+09, 1.06336282e+10, 1.01524424e+10, 1.12408244e+10])"
      ]
     },
     "execution_count": 43,
     "metadata": {},
     "output_type": "execute_result"
    }
   ],
   "source": [
    "np.exp(y_val).ravel()"
   ]
  },
  {
   "cell_type": "code",
   "execution_count": 44,
   "metadata": {},
   "outputs": [
    {
     "data": {
      "text/plain": [
       "555682671.3551872"
      ]
     },
     "execution_count": 44,
     "metadata": {},
     "output_type": "execute_result"
    }
   ],
   "source": [
    "RMSE_lstm_val2 = mean_squared_error(np.exp(y_val).ravel(), y_pred_val2, squared=False)\n",
    "RMSE_lstm_val2"
   ]
  },
  {
   "cell_type": "code",
   "execution_count": 45,
   "metadata": {},
   "outputs": [
    {
     "data": {
      "text/plain": [
       "0.04898605989479924"
      ]
     },
     "execution_count": 45,
     "metadata": {},
     "output_type": "execute_result"
    }
   ],
   "source": [
    "MAPE_lstm_val2 = mean_absolute_percentage_error(np.exp(y_val).ravel(), y_pred_val2)\n",
    "MAPE_lstm_val2"
   ]
  },
  {
   "cell_type": "code",
   "execution_count": 46,
   "metadata": {},
   "outputs": [],
   "source": [
    "previsoes['nome'].append('RNN-LSTM-Larga')\n",
    "previsoes['modelo'].append(model2)\n",
    "previsoes['previsoes'].append(y_pred_val2)\n",
    "\n",
    "previsoes['rmse'].append(RMSE_lstm_val2)\n",
    "\n",
    "previsoes['mape'].append(MAPE_lstm_val2)"
   ]
  },
  {
   "cell_type": "code",
   "execution_count": 47,
   "metadata": {},
   "outputs": [],
   "source": [
    "previsoes['erro relativo'].append([erro_relativo(prev,real) \n",
    "                                   for prev,real in zip(y_pred_val2, y_test)])"
   ]
  },
  {
   "cell_type": "markdown",
   "metadata": {},
   "source": [
    "## Resultados"
   ]
  },
  {
   "cell_type": "code",
   "execution_count": 48,
   "metadata": {},
   "outputs": [],
   "source": [
    "df_prev = pd.DataFrame(data=previsoes['previsoes'], \n",
    "                       index=previsoes['nome']).transpose()\n",
    "df_prev[\"real\"] = icms_val\n",
    "df_rmse = pd.DataFrame(data=previsoes['rmse'], \n",
    "                       index=previsoes['nome']).transpose()\n",
    "df_mape = pd.DataFrame(data=previsoes['mape'], \n",
    "                       index=previsoes['nome']).transpose()\n",
    "df_erro = pd.DataFrame(data=previsoes['erro relativo'], \n",
    "                       index=previsoes['nome']).transpose()"
   ]
  },
  {
   "cell_type": "code",
   "execution_count": 49,
   "metadata": {},
   "outputs": [
    {
     "data": {
      "text/html": [
       "<div>\n",
       "<style scoped>\n",
       "    .dataframe tbody tr th:only-of-type {\n",
       "        vertical-align: middle;\n",
       "    }\n",
       "\n",
       "    .dataframe tbody tr th {\n",
       "        vertical-align: top;\n",
       "    }\n",
       "\n",
       "    .dataframe thead th {\n",
       "        text-align: right;\n",
       "    }\n",
       "</style>\n",
       "<table border=\"1\" class=\"dataframe\">\n",
       "  <thead>\n",
       "    <tr style=\"text-align: right;\">\n",
       "      <th></th>\n",
       "      <th>RNN-LSTM-Camadas</th>\n",
       "      <th>RNN-LSTM-Larga</th>\n",
       "      <th>real</th>\n",
       "    </tr>\n",
       "    <tr>\n",
       "      <th>date</th>\n",
       "      <th></th>\n",
       "      <th></th>\n",
       "      <th></th>\n",
       "    </tr>\n",
       "  </thead>\n",
       "  <tbody>\n",
       "    <tr>\n",
       "      <th>2014-01-01</th>\n",
       "      <td>9.730353e+09</td>\n",
       "      <td>1.021350e+10</td>\n",
       "      <td>9.803278e+09</td>\n",
       "    </tr>\n",
       "    <tr>\n",
       "      <th>2014-02-01</th>\n",
       "      <td>9.569345e+09</td>\n",
       "      <td>9.969940e+09</td>\n",
       "      <td>9.687760e+09</td>\n",
       "    </tr>\n",
       "    <tr>\n",
       "      <th>2014-03-01</th>\n",
       "      <td>9.534001e+09</td>\n",
       "      <td>1.010480e+10</td>\n",
       "      <td>9.465054e+09</td>\n",
       "    </tr>\n",
       "    <tr>\n",
       "      <th>2014-04-01</th>\n",
       "      <td>9.593633e+09</td>\n",
       "      <td>1.023921e+10</td>\n",
       "      <td>9.635430e+09</td>\n",
       "    </tr>\n",
       "    <tr>\n",
       "      <th>2014-05-01</th>\n",
       "      <td>9.702296e+09</td>\n",
       "      <td>1.030877e+10</td>\n",
       "      <td>9.819079e+09</td>\n",
       "    </tr>\n",
       "    <tr>\n",
       "      <th>2014-06-01</th>\n",
       "      <td>9.485427e+09</td>\n",
       "      <td>9.893109e+09</td>\n",
       "      <td>9.677264e+09</td>\n",
       "    </tr>\n",
       "    <tr>\n",
       "      <th>2014-07-01</th>\n",
       "      <td>9.878346e+09</td>\n",
       "      <td>1.048126e+10</td>\n",
       "      <td>9.594590e+09</td>\n",
       "    </tr>\n",
       "    <tr>\n",
       "      <th>2014-08-01</th>\n",
       "      <td>9.797770e+09</td>\n",
       "      <td>1.028677e+10</td>\n",
       "      <td>9.500060e+09</td>\n",
       "    </tr>\n",
       "    <tr>\n",
       "      <th>2014-09-01</th>\n",
       "      <td>9.882114e+09</td>\n",
       "      <td>1.034841e+10</td>\n",
       "      <td>9.796970e+09</td>\n",
       "    </tr>\n",
       "    <tr>\n",
       "      <th>2014-10-01</th>\n",
       "      <td>1.005882e+10</td>\n",
       "      <td>1.055106e+10</td>\n",
       "      <td>1.063363e+10</td>\n",
       "    </tr>\n",
       "    <tr>\n",
       "      <th>2014-11-01</th>\n",
       "      <td>9.810506e+09</td>\n",
       "      <td>1.017015e+10</td>\n",
       "      <td>1.015244e+10</td>\n",
       "    </tr>\n",
       "    <tr>\n",
       "      <th>2014-12-01</th>\n",
       "      <td>9.953107e+09</td>\n",
       "      <td>1.041562e+10</td>\n",
       "      <td>1.124082e+10</td>\n",
       "    </tr>\n",
       "  </tbody>\n",
       "</table>\n",
       "</div>"
      ],
      "text/plain": [
       "            RNN-LSTM-Camadas  RNN-LSTM-Larga          real\n",
       "date                                                      \n",
       "2014-01-01      9.730353e+09    1.021350e+10  9.803278e+09\n",
       "2014-02-01      9.569345e+09    9.969940e+09  9.687760e+09\n",
       "2014-03-01      9.534001e+09    1.010480e+10  9.465054e+09\n",
       "2014-04-01      9.593633e+09    1.023921e+10  9.635430e+09\n",
       "2014-05-01      9.702296e+09    1.030877e+10  9.819079e+09\n",
       "2014-06-01      9.485427e+09    9.893109e+09  9.677264e+09\n",
       "2014-07-01      9.878346e+09    1.048126e+10  9.594590e+09\n",
       "2014-08-01      9.797770e+09    1.028677e+10  9.500060e+09\n",
       "2014-09-01      9.882114e+09    1.034841e+10  9.796970e+09\n",
       "2014-10-01      1.005882e+10    1.055106e+10  1.063363e+10\n",
       "2014-11-01      9.810506e+09    1.017015e+10  1.015244e+10\n",
       "2014-12-01      9.953107e+09    1.041562e+10  1.124082e+10"
      ]
     },
     "execution_count": 49,
     "metadata": {},
     "output_type": "execute_result"
    }
   ],
   "source": [
    "df_prev"
   ]
  },
  {
   "cell_type": "code",
   "execution_count": 50,
   "metadata": {},
   "outputs": [
    {
     "data": {
      "text/html": [
       "<div>\n",
       "<style scoped>\n",
       "    .dataframe tbody tr th:only-of-type {\n",
       "        vertical-align: middle;\n",
       "    }\n",
       "\n",
       "    .dataframe tbody tr th {\n",
       "        vertical-align: top;\n",
       "    }\n",
       "\n",
       "    .dataframe thead th {\n",
       "        text-align: right;\n",
       "    }\n",
       "</style>\n",
       "<table border=\"1\" class=\"dataframe\">\n",
       "  <thead>\n",
       "    <tr style=\"text-align: right;\">\n",
       "      <th></th>\n",
       "      <th>RNN-LSTM-Camadas</th>\n",
       "      <th>RNN-LSTM-Larga</th>\n",
       "    </tr>\n",
       "  </thead>\n",
       "  <tbody>\n",
       "    <tr>\n",
       "      <th>0</th>\n",
       "      <td>[2.5778601568627577]</td>\n",
       "      <td>[2.259486437094693]</td>\n",
       "    </tr>\n",
       "    <tr>\n",
       "      <th>1</th>\n",
       "      <td>[3.5297452459028347]</td>\n",
       "      <td>[0.5087335692304703]</td>\n",
       "    </tr>\n",
       "    <tr>\n",
       "      <th>2</th>\n",
       "      <td>[3.421138297189297]</td>\n",
       "      <td>[2.360970637207897]</td>\n",
       "    </tr>\n",
       "    <tr>\n",
       "      <th>3</th>\n",
       "      <td>[7.543723161625697]</td>\n",
       "      <td>[1.3221561537593536]</td>\n",
       "    </tr>\n",
       "    <tr>\n",
       "      <th>4</th>\n",
       "      <td>[0.38716870011776616]</td>\n",
       "      <td>[5.839483522558494]</td>\n",
       "    </tr>\n",
       "    <tr>\n",
       "      <th>5</th>\n",
       "      <td>[8.114289422247033]</td>\n",
       "      <td>[4.165056994183002]</td>\n",
       "    </tr>\n",
       "    <tr>\n",
       "      <th>6</th>\n",
       "      <td>[4.045958519688071]</td>\n",
       "      <td>[1.8105190090801535]</td>\n",
       "    </tr>\n",
       "    <tr>\n",
       "      <th>7</th>\n",
       "      <td>[0.6809182597568101]</td>\n",
       "      <td>[4.27605955591983]</td>\n",
       "    </tr>\n",
       "    <tr>\n",
       "      <th>8</th>\n",
       "      <td>[5.975868405718429]</td>\n",
       "      <td>[1.5392611979593693]</td>\n",
       "    </tr>\n",
       "    <tr>\n",
       "      <th>9</th>\n",
       "      <td>[4.80363384322639]</td>\n",
       "      <td>[0.14501154063209723]</td>\n",
       "    </tr>\n",
       "    <tr>\n",
       "      <th>10</th>\n",
       "      <td>[4.716121694410659]</td>\n",
       "      <td>[1.2231019332630404]</td>\n",
       "    </tr>\n",
       "    <tr>\n",
       "      <th>11</th>\n",
       "      <td>[10.28694221937269]</td>\n",
       "      <td>[6.1180645381832015]</td>\n",
       "    </tr>\n",
       "  </tbody>\n",
       "</table>\n",
       "</div>"
      ],
      "text/plain": [
       "         RNN-LSTM-Camadas         RNN-LSTM-Larga\n",
       "0    [2.5778601568627577]    [2.259486437094693]\n",
       "1    [3.5297452459028347]   [0.5087335692304703]\n",
       "2     [3.421138297189297]    [2.360970637207897]\n",
       "3     [7.543723161625697]   [1.3221561537593536]\n",
       "4   [0.38716870011776616]    [5.839483522558494]\n",
       "5     [8.114289422247033]    [4.165056994183002]\n",
       "6     [4.045958519688071]   [1.8105190090801535]\n",
       "7    [0.6809182597568101]     [4.27605955591983]\n",
       "8     [5.975868405718429]   [1.5392611979593693]\n",
       "9      [4.80363384322639]  [0.14501154063209723]\n",
       "10    [4.716121694410659]   [1.2231019332630404]\n",
       "11    [10.28694221937269]   [6.1180645381832015]"
      ]
     },
     "execution_count": 50,
     "metadata": {},
     "output_type": "execute_result"
    }
   ],
   "source": [
    "df_erro"
   ]
  },
  {
   "cell_type": "markdown",
   "metadata": {},
   "source": [
    "### Resultados"
   ]
  },
  {
   "cell_type": "code",
   "execution_count": 51,
   "metadata": {
    "scrolled": false
   },
   "outputs": [
    {
     "data": {
      "image/png": "[encoded data removed]",
      "text/plain": [
       "<Figure size 1080x720 with 1 Axes>"
      ]
     },
     "metadata": {
      "needs_background": "light"
     },
     "output_type": "display_data"
    }
   ],
   "source": [
    "fig = plt.figure(figsize=(15, 10))\n",
    "ax = sns.lineplot(data=df_prev)"
   ]
  },
  {
   "cell_type": "markdown",
   "metadata": {},
   "source": [
    "#### RMSE"
   ]
  },
  {
   "cell_type": "code",
   "execution_count": 52,
   "metadata": {},
   "outputs": [
    {
     "data": {
      "image/png": "[encoded data removed]",
      "text/plain": [
       "<Figure size 1080x720 with 1 Axes>"
      ]
     },
     "metadata": {
      "needs_background": "light"
     },
     "output_type": "display_data"
    }
   ],
   "source": [
    "fig = plt.figure(figsize=(15, 10))\n",
    "ax = sns.barplot(data=df_rmse)"
   ]
  },
  {
   "cell_type": "markdown",
   "metadata": {},
   "source": [
    "#### MAPE"
   ]
  },
  {
   "cell_type": "code",
   "execution_count": 53,
   "metadata": {
    "scrolled": false
   },
   "outputs": [
    {
     "data": {
      "image/png": "[encoded data removed]",
      "text/plain": [
       "<Figure size 1080x720 with 1 Axes>"
      ]
     },
     "metadata": {
      "needs_background": "light"
     },
     "output_type": "display_data"
    }
   ],
   "source": [
    "fig = plt.figure(figsize=(15, 10))\n",
    "ax = sns.barplot(data=df_mape)"
   ]
  },
  {
   "cell_type": "markdown",
   "metadata": {},
   "source": [
    "### Resumo das métricas"
   ]
  },
  {
   "cell_type": "code",
   "execution_count": 54,
   "metadata": {},
   "outputs": [],
   "source": [
    "df_rmse.index = ['RMSE']\n",
    "df_mape.index = ['MAPE']"
   ]
  },
  {
   "cell_type": "code",
   "execution_count": 55,
   "metadata": {},
   "outputs": [
    {
     "data": {
      "text/html": [
       "<div>\n",
       "<style scoped>\n",
       "    .dataframe tbody tr th:only-of-type {\n",
       "        vertical-align: middle;\n",
       "    }\n",
       "\n",
       "    .dataframe tbody tr th {\n",
       "        vertical-align: top;\n",
       "    }\n",
       "\n",
       "    .dataframe thead th {\n",
       "        text-align: right;\n",
       "    }\n",
       "</style>\n",
       "<table border=\"1\" class=\"dataframe\">\n",
       "  <thead>\n",
       "    <tr style=\"text-align: right;\">\n",
       "      <th></th>\n",
       "      <th>RNN-LSTM-Camadas</th>\n",
       "      <th>RNN-LSTM-Larga</th>\n",
       "    </tr>\n",
       "  </thead>\n",
       "  <tbody>\n",
       "    <tr>\n",
       "      <th>RMSE</th>\n",
       "      <td>4.433044e+08</td>\n",
       "      <td>5.556827e+08</td>\n",
       "    </tr>\n",
       "    <tr>\n",
       "      <th>MAPE</th>\n",
       "      <td>2.790817e-02</td>\n",
       "      <td>4.898606e-02</td>\n",
       "    </tr>\n",
       "  </tbody>\n",
       "</table>\n",
       "</div>"
      ],
      "text/plain": [
       "      RNN-LSTM-Camadas  RNN-LSTM-Larga\n",
       "RMSE      4.433044e+08    5.556827e+08\n",
       "MAPE      2.790817e-02    4.898606e-02"
      ]
     },
     "execution_count": 55,
     "metadata": {},
     "output_type": "execute_result"
    }
   ],
   "source": [
    "df_metricas = df_rmse.copy()\n",
    "df_metricas = df_metricas.append(df_mape)\n",
    "df_metricas"
   ]
  },
  {
   "cell_type": "code",
   "execution_count": 56,
   "metadata": {},
   "outputs": [
    {
     "name": "stdout",
     "output_type": "stream",
     "text": [
      "(2, 2) (2, 2)\n"
     ]
    }
   ],
   "source": [
    "m1 = np.array([[2,3],[1,-1]])\n",
    "m2 = np.array([[1,2],[3,1]])\n",
    "print(m1.shape, m2.shape)"
   ]
  },
  {
   "cell_type": "code",
   "execution_count": 57,
   "metadata": {},
   "outputs": [
    {
     "data": {
      "text/plain": [
       "array([[11,  7],\n",
       "       [-2,  1]])"
      ]
     },
     "execution_count": 57,
     "metadata": {},
     "output_type": "execute_result"
    }
   ],
   "source": [
    "m1@m2"
   ]
  },
  {
   "cell_type": "code",
   "execution_count": null,
   "metadata": {},
   "outputs": [],
   "source": []
  }
 ],
 "metadata": {
  "kernelspec": {
   "display_name": "Python 3",
   "language": "python",
   "name": "python3"
  },
  "language_info": {
   "codemirror_mode": {
    "name": "ipython",
    "version": 3
   },
   "file_extension": ".py",
   "mimetype": "text/x-python",
   "name": "python",
   "nbconvert_exporter": "python",
   "pygments_lexer": "ipython3",
   "version": "3.6.4"
  }
 },
 "nbformat": 4,
 "nbformat_minor": 2
}
