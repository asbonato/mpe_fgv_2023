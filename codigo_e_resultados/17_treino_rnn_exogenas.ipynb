{
 "cells": [
  {
   "cell_type": "markdown",
   "metadata": {},
   "source": [
    "# Aplicação de Modelos de Markov e Redes Neurais LSTM na Previsão de Arrecadação do ICMS Paulista\n",
    "## Resultados 2017\n",
    "\n",
    "### Antonio Sergio Ferreira Bonato"
   ]
  },
  {
   "cell_type": "markdown",
   "metadata": {},
   "source": [
    "Atualmente, na Secretaria da Fazenda e Planejamento do Estado de São Paulo, a previsão de arrecadação do ICMS paulista é feita usando-se um modelo ARIMA com variáveis exógenas, o ARIMAX. Mas o ICMS é não linear e há várias quebras estruturais controladas com diversas *dummies*. A consequência é um modelo bastante sobreajustado, inadequado para previsões de mais longo prazo (mais do que alguns meses, muito menos para um ano). \n",
    "A proposta deste trabalho é utilizar modelos não lineares multivariados na previsão do ICMS paulista, utilizando redes neurais recorrentes LSTM (*Long Short Term Memory*) e modelos Markov-Switching, fazendo um contraponto entre estes dois modelos. E utilizar, como baseline de comparação, o modelo ARIMAX atual. \n",
    "\n",
    "**Palavras-chave**: Markov-Switching Models. Redes Neurais Recorrentes. LSTM. ICMS."
   ]
  },
  {
   "cell_type": "markdown",
   "metadata": {},
   "source": [
    "## Treino das RNN-LSTM Multivariadas"
   ]
  },
  {
   "cell_type": "code",
   "execution_count": 1,
   "metadata": {},
   "outputs": [],
   "source": [
    "import pandas as pd\n",
    "import numpy as np\n",
    "import seaborn as sns\n",
    "import matplotlib.pyplot as plt\n",
    "import statsmodels.tsa.stattools\n",
    "import statsmodels.tsa.x13\n",
    "import statsmodels.graphics.tsaplots\n",
    "import statsmodels.api as sm\n",
    "from statsmodels.graphics.api import qqplot\n",
    "from statsmodels.tsa.api import acf, graphics, pacf\n",
    "from statsmodels.tsa.arima.model import ARIMA\n",
    "import pickle\n",
    "from pmdarima.arima import auto_arima\n",
    "from sklearn.metrics import mean_squared_error, mean_absolute_percentage_error\n",
    "import random\n",
    "import tensorflow as tf\n",
    "seed = 42\n",
    "random.seed(seed)\n",
    "np.random.seed(seed)\n",
    "tf.random.set_seed(seed)\n",
    "\n",
    "sns.set()\n",
    "sns.set_context(\"notebook\")\n",
    "sns.set(rc={'figure.figsize':(15,8)})"
   ]
  },
  {
   "cell_type": "code",
   "execution_count": 2,
   "metadata": {},
   "outputs": [],
   "source": [
    "import warnings\n",
    "warnings.filterwarnings('ignore')\n",
    "warnings.simplefilter('ignore')"
   ]
  },
  {
   "cell_type": "code",
   "execution_count": 3,
   "metadata": {},
   "outputs": [
    {
     "data": {
      "text/html": [
       "<div>\n",
       "<style scoped>\n",
       "    .dataframe tbody tr th:only-of-type {\n",
       "        vertical-align: middle;\n",
       "    }\n",
       "\n",
       "    .dataframe tbody tr th {\n",
       "        vertical-align: top;\n",
       "    }\n",
       "\n",
       "    .dataframe thead th {\n",
       "        text-align: right;\n",
       "    }\n",
       "</style>\n",
       "<table border=\"1\" class=\"dataframe\">\n",
       "  <thead>\n",
       "    <tr style=\"text-align: right;\">\n",
       "      <th></th>\n",
       "      <th>date</th>\n",
       "      <th>icms_sp</th>\n",
       "      <th>igp_m</th>\n",
       "      <th>dolar</th>\n",
       "      <th>ibc_br</th>\n",
       "      <th>dias_uteis</th>\n",
       "      <th>igp_m_22</th>\n",
       "      <th>dolar_22</th>\n",
       "      <th>ibc_br_22</th>\n",
       "      <th>igp_m_21</th>\n",
       "      <th>...</th>\n",
       "      <th>ibc_br_16</th>\n",
       "      <th>igp_m_15</th>\n",
       "      <th>dolar_15</th>\n",
       "      <th>ibc_br_15</th>\n",
       "      <th>igp_m_14</th>\n",
       "      <th>dolar_14</th>\n",
       "      <th>ibc_br_14</th>\n",
       "      <th>igp_m_13</th>\n",
       "      <th>dolar_13</th>\n",
       "      <th>ibc_br_13</th>\n",
       "    </tr>\n",
       "  </thead>\n",
       "  <tbody>\n",
       "    <tr>\n",
       "      <th>0</th>\n",
       "      <td>2003-01-01</td>\n",
       "      <td>3.360296e+09</td>\n",
       "      <td>277.173</td>\n",
       "      <td>3.4384</td>\n",
       "      <td>96.15</td>\n",
       "      <td>22</td>\n",
       "      <td>277.173</td>\n",
       "      <td>3.4384</td>\n",
       "      <td>96.15</td>\n",
       "      <td>277.173</td>\n",
       "      <td>...</td>\n",
       "      <td>96.15</td>\n",
       "      <td>277.173</td>\n",
       "      <td>3.4384</td>\n",
       "      <td>96.15</td>\n",
       "      <td>277.173</td>\n",
       "      <td>3.4384</td>\n",
       "      <td>96.15</td>\n",
       "      <td>277.173</td>\n",
       "      <td>3.4384</td>\n",
       "      <td>96.15</td>\n",
       "    </tr>\n",
       "    <tr>\n",
       "      <th>1</th>\n",
       "      <td>2003-02-01</td>\n",
       "      <td>3.196558e+09</td>\n",
       "      <td>283.506</td>\n",
       "      <td>3.5908</td>\n",
       "      <td>98.67</td>\n",
       "      <td>20</td>\n",
       "      <td>283.506</td>\n",
       "      <td>3.5908</td>\n",
       "      <td>98.67</td>\n",
       "      <td>283.506</td>\n",
       "      <td>...</td>\n",
       "      <td>98.67</td>\n",
       "      <td>283.506</td>\n",
       "      <td>3.5908</td>\n",
       "      <td>98.67</td>\n",
       "      <td>283.506</td>\n",
       "      <td>3.5908</td>\n",
       "      <td>98.67</td>\n",
       "      <td>283.506</td>\n",
       "      <td>3.5908</td>\n",
       "      <td>98.67</td>\n",
       "    </tr>\n",
       "    <tr>\n",
       "      <th>2</th>\n",
       "      <td>2003-03-01</td>\n",
       "      <td>3.160011e+09</td>\n",
       "      <td>287.855</td>\n",
       "      <td>3.4469</td>\n",
       "      <td>103.41</td>\n",
       "      <td>19</td>\n",
       "      <td>287.855</td>\n",
       "      <td>3.4469</td>\n",
       "      <td>103.41</td>\n",
       "      <td>287.855</td>\n",
       "      <td>...</td>\n",
       "      <td>103.41</td>\n",
       "      <td>287.855</td>\n",
       "      <td>3.4469</td>\n",
       "      <td>103.41</td>\n",
       "      <td>287.855</td>\n",
       "      <td>3.4469</td>\n",
       "      <td>103.41</td>\n",
       "      <td>287.855</td>\n",
       "      <td>3.4469</td>\n",
       "      <td>103.41</td>\n",
       "    </tr>\n",
       "    <tr>\n",
       "      <th>3</th>\n",
       "      <td>2003-04-01</td>\n",
       "      <td>3.215307e+09</td>\n",
       "      <td>290.512</td>\n",
       "      <td>3.1187</td>\n",
       "      <td>102.19</td>\n",
       "      <td>20</td>\n",
       "      <td>290.512</td>\n",
       "      <td>3.1187</td>\n",
       "      <td>102.19</td>\n",
       "      <td>290.512</td>\n",
       "      <td>...</td>\n",
       "      <td>102.19</td>\n",
       "      <td>290.512</td>\n",
       "      <td>3.1187</td>\n",
       "      <td>102.19</td>\n",
       "      <td>290.512</td>\n",
       "      <td>3.1187</td>\n",
       "      <td>102.19</td>\n",
       "      <td>290.512</td>\n",
       "      <td>3.1187</td>\n",
       "      <td>102.19</td>\n",
       "    </tr>\n",
       "    <tr>\n",
       "      <th>4</th>\n",
       "      <td>2003-05-01</td>\n",
       "      <td>3.098930e+09</td>\n",
       "      <td>289.747</td>\n",
       "      <td>2.9557</td>\n",
       "      <td>100.30</td>\n",
       "      <td>21</td>\n",
       "      <td>289.747</td>\n",
       "      <td>2.9557</td>\n",
       "      <td>100.30</td>\n",
       "      <td>289.747</td>\n",
       "      <td>...</td>\n",
       "      <td>100.30</td>\n",
       "      <td>289.747</td>\n",
       "      <td>2.9557</td>\n",
       "      <td>100.30</td>\n",
       "      <td>289.747</td>\n",
       "      <td>2.9557</td>\n",
       "      <td>100.30</td>\n",
       "      <td>289.747</td>\n",
       "      <td>2.9557</td>\n",
       "      <td>100.30</td>\n",
       "    </tr>\n",
       "  </tbody>\n",
       "</table>\n",
       "<p>5 rows × 36 columns</p>\n",
       "</div>"
      ],
      "text/plain": [
       "        date       icms_sp    igp_m   dolar  ibc_br  dias_uteis  igp_m_22  \\\n",
       "0 2003-01-01  3.360296e+09  277.173  3.4384   96.15          22   277.173   \n",
       "1 2003-02-01  3.196558e+09  283.506  3.5908   98.67          20   283.506   \n",
       "2 2003-03-01  3.160011e+09  287.855  3.4469  103.41          19   287.855   \n",
       "3 2003-04-01  3.215307e+09  290.512  3.1187  102.19          20   290.512   \n",
       "4 2003-05-01  3.098930e+09  289.747  2.9557  100.30          21   289.747   \n",
       "\n",
       "   dolar_22  ibc_br_22  igp_m_21  ...  ibc_br_16  igp_m_15  dolar_15  \\\n",
       "0    3.4384      96.15   277.173  ...      96.15   277.173    3.4384   \n",
       "1    3.5908      98.67   283.506  ...      98.67   283.506    3.5908   \n",
       "2    3.4469     103.41   287.855  ...     103.41   287.855    3.4469   \n",
       "3    3.1187     102.19   290.512  ...     102.19   290.512    3.1187   \n",
       "4    2.9557     100.30   289.747  ...     100.30   289.747    2.9557   \n",
       "\n",
       "   ibc_br_15  igp_m_14  dolar_14  ibc_br_14  igp_m_13  dolar_13  ibc_br_13  \n",
       "0      96.15   277.173    3.4384      96.15   277.173    3.4384      96.15  \n",
       "1      98.67   283.506    3.5908      98.67   283.506    3.5908      98.67  \n",
       "2     103.41   287.855    3.4469     103.41   287.855    3.4469     103.41  \n",
       "3     102.19   290.512    3.1187     102.19   290.512    3.1187     102.19  \n",
       "4     100.30   289.747    2.9557     100.30   289.747    2.9557     100.30  \n",
       "\n",
       "[5 rows x 36 columns]"
      ]
     },
     "execution_count": 3,
     "metadata": {},
     "output_type": "execute_result"
    }
   ],
   "source": [
    "df_main_orig = pd.read_excel(\"variaveis_previsao.xlsx\", parse_dates=['date'])\n",
    "df_main_orig.head()"
   ]
  },
  {
   "cell_type": "code",
   "execution_count": 4,
   "metadata": {},
   "outputs": [
    {
     "data": {
      "text/html": [
       "<div>\n",
       "<style scoped>\n",
       "    .dataframe tbody tr th:only-of-type {\n",
       "        vertical-align: middle;\n",
       "    }\n",
       "\n",
       "    .dataframe tbody tr th {\n",
       "        vertical-align: top;\n",
       "    }\n",
       "\n",
       "    .dataframe thead th {\n",
       "        text-align: right;\n",
       "    }\n",
       "</style>\n",
       "<table border=\"1\" class=\"dataframe\">\n",
       "  <thead>\n",
       "    <tr style=\"text-align: right;\">\n",
       "      <th></th>\n",
       "      <th>date</th>\n",
       "      <th>icms_sp</th>\n",
       "      <th>igp_m</th>\n",
       "      <th>dolar</th>\n",
       "      <th>ibc_br</th>\n",
       "      <th>dias_uteis</th>\n",
       "      <th>igp_m_22</th>\n",
       "      <th>dolar_22</th>\n",
       "      <th>ibc_br_22</th>\n",
       "      <th>igp_m_21</th>\n",
       "      <th>...</th>\n",
       "      <th>ibc_br_16</th>\n",
       "      <th>igp_m_15</th>\n",
       "      <th>dolar_15</th>\n",
       "      <th>ibc_br_15</th>\n",
       "      <th>igp_m_14</th>\n",
       "      <th>dolar_14</th>\n",
       "      <th>ibc_br_14</th>\n",
       "      <th>igp_m_13</th>\n",
       "      <th>dolar_13</th>\n",
       "      <th>ibc_br_13</th>\n",
       "    </tr>\n",
       "  </thead>\n",
       "  <tbody>\n",
       "    <tr>\n",
       "      <th>235</th>\n",
       "      <td>2022-08-01</td>\n",
       "      <td>1.756224e+10</td>\n",
       "      <td>1185.004</td>\n",
       "      <td>5.143287</td>\n",
       "      <td>149.60</td>\n",
       "      <td>23</td>\n",
       "      <td>1137.167829</td>\n",
       "      <td>5.6496</td>\n",
       "      <td>146.408337</td>\n",
       "      <td>NaN</td>\n",
       "      <td>...</td>\n",
       "      <td>NaN</td>\n",
       "      <td>NaN</td>\n",
       "      <td>NaN</td>\n",
       "      <td>NaN</td>\n",
       "      <td>NaN</td>\n",
       "      <td>NaN</td>\n",
       "      <td>NaN</td>\n",
       "      <td>NaN</td>\n",
       "      <td>NaN</td>\n",
       "      <td>NaN</td>\n",
       "    </tr>\n",
       "    <tr>\n",
       "      <th>236</th>\n",
       "      <td>2022-09-01</td>\n",
       "      <td>1.726287e+10</td>\n",
       "      <td>1173.793</td>\n",
       "      <td>5.236957</td>\n",
       "      <td>144.44</td>\n",
       "      <td>21</td>\n",
       "      <td>1143.597376</td>\n",
       "      <td>5.6800</td>\n",
       "      <td>142.808302</td>\n",
       "      <td>NaN</td>\n",
       "      <td>...</td>\n",
       "      <td>NaN</td>\n",
       "      <td>NaN</td>\n",
       "      <td>NaN</td>\n",
       "      <td>NaN</td>\n",
       "      <td>NaN</td>\n",
       "      <td>NaN</td>\n",
       "      <td>NaN</td>\n",
       "      <td>NaN</td>\n",
       "      <td>NaN</td>\n",
       "      <td>NaN</td>\n",
       "    </tr>\n",
       "    <tr>\n",
       "      <th>237</th>\n",
       "      <td>2022-10-01</td>\n",
       "      <td>1.565000e+10</td>\n",
       "      <td>1162.391</td>\n",
       "      <td>5.250300</td>\n",
       "      <td>142.34</td>\n",
       "      <td>20</td>\n",
       "      <td>1150.115881</td>\n",
       "      <td>5.6700</td>\n",
       "      <td>144.063428</td>\n",
       "      <td>NaN</td>\n",
       "      <td>...</td>\n",
       "      <td>NaN</td>\n",
       "      <td>NaN</td>\n",
       "      <td>NaN</td>\n",
       "      <td>NaN</td>\n",
       "      <td>NaN</td>\n",
       "      <td>NaN</td>\n",
       "      <td>NaN</td>\n",
       "      <td>NaN</td>\n",
       "      <td>NaN</td>\n",
       "      <td>NaN</td>\n",
       "    </tr>\n",
       "    <tr>\n",
       "      <th>238</th>\n",
       "      <td>2022-11-01</td>\n",
       "      <td>1.605000e+10</td>\n",
       "      <td>1155.829</td>\n",
       "      <td>5.274650</td>\n",
       "      <td>140.80</td>\n",
       "      <td>20</td>\n",
       "      <td>1155.866460</td>\n",
       "      <td>5.6000</td>\n",
       "      <td>143.165409</td>\n",
       "      <td>NaN</td>\n",
       "      <td>...</td>\n",
       "      <td>NaN</td>\n",
       "      <td>NaN</td>\n",
       "      <td>NaN</td>\n",
       "      <td>NaN</td>\n",
       "      <td>NaN</td>\n",
       "      <td>NaN</td>\n",
       "      <td>NaN</td>\n",
       "      <td>NaN</td>\n",
       "      <td>NaN</td>\n",
       "      <td>NaN</td>\n",
       "    </tr>\n",
       "    <tr>\n",
       "      <th>239</th>\n",
       "      <td>2022-12-01</td>\n",
       "      <td>1.767135e+10</td>\n",
       "      <td>1161.006</td>\n",
       "      <td>5.242432</td>\n",
       "      <td>142.78</td>\n",
       "      <td>22</td>\n",
       "      <td>1161.645792</td>\n",
       "      <td>5.6000</td>\n",
       "      <td>141.405133</td>\n",
       "      <td>NaN</td>\n",
       "      <td>...</td>\n",
       "      <td>NaN</td>\n",
       "      <td>NaN</td>\n",
       "      <td>NaN</td>\n",
       "      <td>NaN</td>\n",
       "      <td>NaN</td>\n",
       "      <td>NaN</td>\n",
       "      <td>NaN</td>\n",
       "      <td>NaN</td>\n",
       "      <td>NaN</td>\n",
       "      <td>NaN</td>\n",
       "    </tr>\n",
       "  </tbody>\n",
       "</table>\n",
       "<p>5 rows × 36 columns</p>\n",
       "</div>"
      ],
      "text/plain": [
       "          date       icms_sp     igp_m     dolar  ibc_br  dias_uteis  \\\n",
       "235 2022-08-01  1.756224e+10  1185.004  5.143287  149.60          23   \n",
       "236 2022-09-01  1.726287e+10  1173.793  5.236957  144.44          21   \n",
       "237 2022-10-01  1.565000e+10  1162.391  5.250300  142.34          20   \n",
       "238 2022-11-01  1.605000e+10  1155.829  5.274650  140.80          20   \n",
       "239 2022-12-01  1.767135e+10  1161.006  5.242432  142.78          22   \n",
       "\n",
       "        igp_m_22  dolar_22   ibc_br_22  igp_m_21  ...  ibc_br_16  igp_m_15  \\\n",
       "235  1137.167829    5.6496  146.408337       NaN  ...        NaN       NaN   \n",
       "236  1143.597376    5.6800  142.808302       NaN  ...        NaN       NaN   \n",
       "237  1150.115881    5.6700  144.063428       NaN  ...        NaN       NaN   \n",
       "238  1155.866460    5.6000  143.165409       NaN  ...        NaN       NaN   \n",
       "239  1161.645792    5.6000  141.405133       NaN  ...        NaN       NaN   \n",
       "\n",
       "     dolar_15  ibc_br_15  igp_m_14  dolar_14  ibc_br_14  igp_m_13  dolar_13  \\\n",
       "235       NaN        NaN       NaN       NaN        NaN       NaN       NaN   \n",
       "236       NaN        NaN       NaN       NaN        NaN       NaN       NaN   \n",
       "237       NaN        NaN       NaN       NaN        NaN       NaN       NaN   \n",
       "238       NaN        NaN       NaN       NaN        NaN       NaN       NaN   \n",
       "239       NaN        NaN       NaN       NaN        NaN       NaN       NaN   \n",
       "\n",
       "     ibc_br_13  \n",
       "235        NaN  \n",
       "236        NaN  \n",
       "237        NaN  \n",
       "238        NaN  \n",
       "239        NaN  \n",
       "\n",
       "[5 rows x 36 columns]"
      ]
     },
     "execution_count": 4,
     "metadata": {},
     "output_type": "execute_result"
    }
   ],
   "source": [
    "df_main_orig.tail()"
   ]
  },
  {
   "cell_type": "code",
   "execution_count": 5,
   "metadata": {},
   "outputs": [
    {
     "name": "stdout",
     "output_type": "stream",
     "text": [
      "<class 'pandas.core.frame.DataFrame'>\n",
      "RangeIndex: 240 entries, 0 to 239\n",
      "Data columns (total 36 columns):\n",
      " #   Column      Non-Null Count  Dtype         \n",
      "---  ------      --------------  -----         \n",
      " 0   date        240 non-null    datetime64[ns]\n",
      " 1   icms_sp     240 non-null    float64       \n",
      " 2   igp_m       240 non-null    float64       \n",
      " 3   dolar       240 non-null    float64       \n",
      " 4   ibc_br      240 non-null    float64       \n",
      " 5   dias_uteis  240 non-null    int64         \n",
      " 6   igp_m_22    240 non-null    float64       \n",
      " 7   dolar_22    240 non-null    float64       \n",
      " 8   ibc_br_22   240 non-null    float64       \n",
      " 9   igp_m_21    228 non-null    float64       \n",
      " 10  dolar_21    228 non-null    float64       \n",
      " 11  ibc_br_21   228 non-null    float64       \n",
      " 12  igp_m_20    216 non-null    float64       \n",
      " 13  dolar_20    216 non-null    float64       \n",
      " 14  ibc_br_20   216 non-null    float64       \n",
      " 15  igp_m_19    204 non-null    float64       \n",
      " 16  dolar_19    204 non-null    float64       \n",
      " 17  ibc_br_19   204 non-null    float64       \n",
      " 18  igp_m_18    192 non-null    float64       \n",
      " 19  dolar_18    192 non-null    float64       \n",
      " 20  ibc_br_18   192 non-null    float64       \n",
      " 21  igp_m_17    180 non-null    float64       \n",
      " 22  dolar_17    180 non-null    float64       \n",
      " 23  ibc_br_17   180 non-null    float64       \n",
      " 24  igp_m_16    168 non-null    float64       \n",
      " 25  dolar_16    168 non-null    float64       \n",
      " 26  ibc_br_16   168 non-null    float64       \n",
      " 27  igp_m_15    156 non-null    float64       \n",
      " 28  dolar_15    156 non-null    float64       \n",
      " 29  ibc_br_15   156 non-null    float64       \n",
      " 30  igp_m_14    144 non-null    float64       \n",
      " 31  dolar_14    144 non-null    float64       \n",
      " 32  ibc_br_14   144 non-null    float64       \n",
      " 33  igp_m_13    132 non-null    float64       \n",
      " 34  dolar_13    132 non-null    float64       \n",
      " 35  ibc_br_13   132 non-null    float64       \n",
      "dtypes: datetime64[ns](1), float64(34), int64(1)\n",
      "memory usage: 67.6 KB\n"
     ]
    }
   ],
   "source": [
    "df_main_orig.info()"
   ]
  },
  {
   "cell_type": "markdown",
   "metadata": {},
   "source": [
    "Removendo as últimas linhas que são todas NaN"
   ]
  },
  {
   "cell_type": "code",
   "execution_count": 6,
   "metadata": {},
   "outputs": [],
   "source": [
    "df_main = df_main_orig.iloc[0:180]\n",
    "datas = df_main['date']"
   ]
  },
  {
   "cell_type": "code",
   "execution_count": 7,
   "metadata": {},
   "outputs": [
    {
     "data": {
      "text/html": [
       "<div>\n",
       "<style scoped>\n",
       "    .dataframe tbody tr th:only-of-type {\n",
       "        vertical-align: middle;\n",
       "    }\n",
       "\n",
       "    .dataframe tbody tr th {\n",
       "        vertical-align: top;\n",
       "    }\n",
       "\n",
       "    .dataframe thead th {\n",
       "        text-align: right;\n",
       "    }\n",
       "</style>\n",
       "<table border=\"1\" class=\"dataframe\">\n",
       "  <thead>\n",
       "    <tr style=\"text-align: right;\">\n",
       "      <th></th>\n",
       "      <th>date</th>\n",
       "      <th>icms_sp</th>\n",
       "      <th>igp_m</th>\n",
       "      <th>dolar</th>\n",
       "      <th>ibc_br</th>\n",
       "      <th>dias_uteis</th>\n",
       "      <th>igp_m_22</th>\n",
       "      <th>dolar_22</th>\n",
       "      <th>ibc_br_22</th>\n",
       "      <th>igp_m_21</th>\n",
       "      <th>...</th>\n",
       "      <th>ibc_br_16</th>\n",
       "      <th>igp_m_15</th>\n",
       "      <th>dolar_15</th>\n",
       "      <th>ibc_br_15</th>\n",
       "      <th>igp_m_14</th>\n",
       "      <th>dolar_14</th>\n",
       "      <th>ibc_br_14</th>\n",
       "      <th>igp_m_13</th>\n",
       "      <th>dolar_13</th>\n",
       "      <th>ibc_br_13</th>\n",
       "    </tr>\n",
       "  </thead>\n",
       "  <tbody>\n",
       "    <tr>\n",
       "      <th>175</th>\n",
       "      <td>2017-08-01</td>\n",
       "      <td>1.068426e+10</td>\n",
       "      <td>644.383</td>\n",
       "      <td>3.150917</td>\n",
       "      <td>140.15</td>\n",
       "      <td>23</td>\n",
       "      <td>644.383</td>\n",
       "      <td>3.150917</td>\n",
       "      <td>140.15</td>\n",
       "      <td>644.383</td>\n",
       "      <td>...</td>\n",
       "      <td>NaN</td>\n",
       "      <td>NaN</td>\n",
       "      <td>NaN</td>\n",
       "      <td>NaN</td>\n",
       "      <td>NaN</td>\n",
       "      <td>NaN</td>\n",
       "      <td>NaN</td>\n",
       "      <td>NaN</td>\n",
       "      <td>NaN</td>\n",
       "      <td>NaN</td>\n",
       "    </tr>\n",
       "    <tr>\n",
       "      <th>176</th>\n",
       "      <td>2017-09-01</td>\n",
       "      <td>1.089186e+10</td>\n",
       "      <td>647.400</td>\n",
       "      <td>3.134790</td>\n",
       "      <td>134.85</td>\n",
       "      <td>20</td>\n",
       "      <td>647.400</td>\n",
       "      <td>3.134790</td>\n",
       "      <td>134.85</td>\n",
       "      <td>647.400</td>\n",
       "      <td>...</td>\n",
       "      <td>NaN</td>\n",
       "      <td>NaN</td>\n",
       "      <td>NaN</td>\n",
       "      <td>NaN</td>\n",
       "      <td>NaN</td>\n",
       "      <td>NaN</td>\n",
       "      <td>NaN</td>\n",
       "      <td>NaN</td>\n",
       "      <td>NaN</td>\n",
       "      <td>NaN</td>\n",
       "    </tr>\n",
       "    <tr>\n",
       "      <th>177</th>\n",
       "      <td>2017-10-01</td>\n",
       "      <td>1.101721e+10</td>\n",
       "      <td>648.672</td>\n",
       "      <td>3.191229</td>\n",
       "      <td>136.06</td>\n",
       "      <td>21</td>\n",
       "      <td>648.672</td>\n",
       "      <td>3.191229</td>\n",
       "      <td>136.06</td>\n",
       "      <td>648.672</td>\n",
       "      <td>...</td>\n",
       "      <td>NaN</td>\n",
       "      <td>NaN</td>\n",
       "      <td>NaN</td>\n",
       "      <td>NaN</td>\n",
       "      <td>NaN</td>\n",
       "      <td>NaN</td>\n",
       "      <td>NaN</td>\n",
       "      <td>NaN</td>\n",
       "      <td>NaN</td>\n",
       "      <td>NaN</td>\n",
       "    </tr>\n",
       "    <tr>\n",
       "      <th>178</th>\n",
       "      <td>2017-11-01</td>\n",
       "      <td>1.124273e+10</td>\n",
       "      <td>652.073</td>\n",
       "      <td>3.259380</td>\n",
       "      <td>135.08</td>\n",
       "      <td>20</td>\n",
       "      <td>652.073</td>\n",
       "      <td>3.259380</td>\n",
       "      <td>135.08</td>\n",
       "      <td>652.073</td>\n",
       "      <td>...</td>\n",
       "      <td>NaN</td>\n",
       "      <td>NaN</td>\n",
       "      <td>NaN</td>\n",
       "      <td>NaN</td>\n",
       "      <td>NaN</td>\n",
       "      <td>NaN</td>\n",
       "      <td>NaN</td>\n",
       "      <td>NaN</td>\n",
       "      <td>NaN</td>\n",
       "      <td>NaN</td>\n",
       "    </tr>\n",
       "    <tr>\n",
       "      <th>179</th>\n",
       "      <td>2017-12-01</td>\n",
       "      <td>1.144989e+10</td>\n",
       "      <td>657.859</td>\n",
       "      <td>3.291915</td>\n",
       "      <td>135.77</td>\n",
       "      <td>20</td>\n",
       "      <td>657.859</td>\n",
       "      <td>3.291915</td>\n",
       "      <td>135.77</td>\n",
       "      <td>657.859</td>\n",
       "      <td>...</td>\n",
       "      <td>NaN</td>\n",
       "      <td>NaN</td>\n",
       "      <td>NaN</td>\n",
       "      <td>NaN</td>\n",
       "      <td>NaN</td>\n",
       "      <td>NaN</td>\n",
       "      <td>NaN</td>\n",
       "      <td>NaN</td>\n",
       "      <td>NaN</td>\n",
       "      <td>NaN</td>\n",
       "    </tr>\n",
       "  </tbody>\n",
       "</table>\n",
       "<p>5 rows × 36 columns</p>\n",
       "</div>"
      ],
      "text/plain": [
       "          date       icms_sp    igp_m     dolar  ibc_br  dias_uteis  igp_m_22  \\\n",
       "175 2017-08-01  1.068426e+10  644.383  3.150917  140.15          23   644.383   \n",
       "176 2017-09-01  1.089186e+10  647.400  3.134790  134.85          20   647.400   \n",
       "177 2017-10-01  1.101721e+10  648.672  3.191229  136.06          21   648.672   \n",
       "178 2017-11-01  1.124273e+10  652.073  3.259380  135.08          20   652.073   \n",
       "179 2017-12-01  1.144989e+10  657.859  3.291915  135.77          20   657.859   \n",
       "\n",
       "     dolar_22  ibc_br_22  igp_m_21  ...  ibc_br_16  igp_m_15  dolar_15  \\\n",
       "175  3.150917     140.15   644.383  ...        NaN       NaN       NaN   \n",
       "176  3.134790     134.85   647.400  ...        NaN       NaN       NaN   \n",
       "177  3.191229     136.06   648.672  ...        NaN       NaN       NaN   \n",
       "178  3.259380     135.08   652.073  ...        NaN       NaN       NaN   \n",
       "179  3.291915     135.77   657.859  ...        NaN       NaN       NaN   \n",
       "\n",
       "     ibc_br_15  igp_m_14  dolar_14  ibc_br_14  igp_m_13  dolar_13  ibc_br_13  \n",
       "175        NaN       NaN       NaN        NaN       NaN       NaN        NaN  \n",
       "176        NaN       NaN       NaN        NaN       NaN       NaN        NaN  \n",
       "177        NaN       NaN       NaN        NaN       NaN       NaN        NaN  \n",
       "178        NaN       NaN       NaN        NaN       NaN       NaN        NaN  \n",
       "179        NaN       NaN       NaN        NaN       NaN       NaN        NaN  \n",
       "\n",
       "[5 rows x 36 columns]"
      ]
     },
     "execution_count": 7,
     "metadata": {},
     "output_type": "execute_result"
    }
   ],
   "source": [
    "df_main.tail()"
   ]
  },
  {
   "cell_type": "markdown",
   "metadata": {},
   "source": [
    "### Criação das Séries\n",
    "Como os valores do ICMS são muito elevados a série será colocada em log."
   ]
  },
  {
   "cell_type": "code",
   "execution_count": 8,
   "metadata": {},
   "outputs": [],
   "source": [
    "icms_ts = pd.Series(np.log(list(df_main['icms_sp'])), index = datas)\n",
    "ibcbr_ts = pd.Series(list(df_main['ibc_br']), index = datas)\n",
    "igpm_ts = pd.Series(list(df_main['igp_m']), index = datas)\n",
    "dolar_ts = pd.Series(list(df_main['dolar']), index = datas)\n",
    "dias_uteis_ts = pd.Series(list(df_main['dias_uteis']), index = datas)"
   ]
  },
  {
   "cell_type": "markdown",
   "metadata": {},
   "source": [
    "#### Testes de Valores Nulos"
   ]
  },
  {
   "cell_type": "code",
   "execution_count": 9,
   "metadata": {},
   "outputs": [
    {
     "name": "stdout",
     "output_type": "stream",
     "text": [
      "ICMS 0\n",
      "IBC-Br 0\n",
      "IGP-DI 0\n",
      "Dólar 0\n",
      "Dias Úteis 0\n"
     ]
    }
   ],
   "source": [
    "print('ICMS', icms_ts.isnull().sum())\n",
    "print('IBC-Br', ibcbr_ts.isnull().sum())\n",
    "print('IGP-DI', igpm_ts.isnull().sum())\n",
    "print('Dólar', dolar_ts.isnull().sum())\n",
    "print('Dias Úteis', dias_uteis_ts.isnull().sum())"
   ]
  },
  {
   "cell_type": "markdown",
   "metadata": {},
   "source": [
    "### Plotando a Série em Nível"
   ]
  },
  {
   "cell_type": "code",
   "execution_count": 10,
   "metadata": {},
   "outputs": [
    {
     "data": {
      "image/png": "[encoded data removed]",
      "text/plain": [
       "<Figure size 1080x2160 with 5 Axes>"
      ]
     },
     "metadata": {
      "needs_background": "light"
     },
     "output_type": "display_data"
    }
   ],
   "source": [
    "fig=plt.figure(figsize=(15, 30))\n",
    "ax1=fig.add_subplot(511)\n",
    "ax2=fig.add_subplot(512)\n",
    "ax3=fig.add_subplot(513)\n",
    "ax4=fig.add_subplot(514)\n",
    "ax5=fig.add_subplot(515)\n",
    "#plots\n",
    "ax1.plot(icms_ts, 'tab:blue', label='Log ICMS SP')\n",
    "ax1.legend(loc='best')\n",
    "ax2.plot(dias_uteis_ts, 'tab:purple', label='Dias Úteis')\n",
    "ax2.legend(loc='best')\n",
    "ax3.plot(ibcbr_ts, 'tab:orange',  label='IBC-BR')\n",
    "ax3.legend(loc='best')\n",
    "ax4.plot(igpm_ts, 'tab:gray', label='IGP-M')\n",
    "ax4.legend(loc='best')\n",
    "ax5.plot(dolar_ts, 'tab:green', label='Dólar')\n",
    "ax5.legend(loc='best')\n",
    "plt.show()"
   ]
  },
  {
   "cell_type": "markdown",
   "metadata": {},
   "source": [
    "## Preparação para Previsões"
   ]
  },
  {
   "cell_type": "markdown",
   "metadata": {},
   "source": [
    "O artigo usa, além de MAPE e MSE, o erro relativo, que é \n",
    "\n",
    "$Erro Relativo = \\frac{|previsão - real|}{real}$"
   ]
  },
  {
   "cell_type": "code",
   "execution_count": 11,
   "metadata": {},
   "outputs": [],
   "source": [
    "def erro_relativo(prev, real):\n",
    "    return 100*np.absolute(prev-real)/real"
   ]
  },
  {
   "cell_type": "markdown",
   "metadata": {},
   "source": [
    "#### Dicionário de Previsões"
   ]
  },
  {
   "cell_type": "code",
   "execution_count": 12,
   "metadata": {},
   "outputs": [],
   "source": [
    "previsoes = {\n",
    "    'nome':[],\n",
    "    'modelo': [],\n",
    "    'previsoes': [],\n",
    "    'rmse': [],\n",
    "    'mape': [],\n",
    "    'erro relativo':[]\n",
    "}"
   ]
  },
  {
   "cell_type": "markdown",
   "metadata": {},
   "source": [
    "### Separando a amostra em treinamento (in-sample) e teste (out-of-sample)\n",
    "Serão usadas as séries com sazonalidade e em nível e as questões de sazonalidade e estacionariedade serão tratadas pelo modelo."
   ]
  },
  {
   "cell_type": "code",
   "execution_count": 13,
   "metadata": {},
   "outputs": [
    {
     "data": {
      "text/html": [
       "<div>\n",
       "<style scoped>\n",
       "    .dataframe tbody tr th:only-of-type {\n",
       "        vertical-align: middle;\n",
       "    }\n",
       "\n",
       "    .dataframe tbody tr th {\n",
       "        vertical-align: top;\n",
       "    }\n",
       "\n",
       "    .dataframe thead th {\n",
       "        text-align: right;\n",
       "    }\n",
       "</style>\n",
       "<table border=\"1\" class=\"dataframe\">\n",
       "  <thead>\n",
       "    <tr style=\"text-align: right;\">\n",
       "      <th></th>\n",
       "      <th>ibcbr</th>\n",
       "      <th>igpdi</th>\n",
       "      <th>dolar</th>\n",
       "      <th>dias_uteis</th>\n",
       "    </tr>\n",
       "    <tr>\n",
       "      <th>date</th>\n",
       "      <th></th>\n",
       "      <th></th>\n",
       "      <th></th>\n",
       "      <th></th>\n",
       "    </tr>\n",
       "  </thead>\n",
       "  <tbody>\n",
       "    <tr>\n",
       "      <th>2003-01-01</th>\n",
       "      <td>96.15</td>\n",
       "      <td>277.173</td>\n",
       "      <td>3.4384</td>\n",
       "      <td>22.0</td>\n",
       "    </tr>\n",
       "    <tr>\n",
       "      <th>2003-02-01</th>\n",
       "      <td>98.67</td>\n",
       "      <td>283.506</td>\n",
       "      <td>3.5908</td>\n",
       "      <td>20.0</td>\n",
       "    </tr>\n",
       "    <tr>\n",
       "      <th>2003-03-01</th>\n",
       "      <td>103.41</td>\n",
       "      <td>287.855</td>\n",
       "      <td>3.4469</td>\n",
       "      <td>19.0</td>\n",
       "    </tr>\n",
       "    <tr>\n",
       "      <th>2003-04-01</th>\n",
       "      <td>102.19</td>\n",
       "      <td>290.512</td>\n",
       "      <td>3.1187</td>\n",
       "      <td>20.0</td>\n",
       "    </tr>\n",
       "    <tr>\n",
       "      <th>2003-05-01</th>\n",
       "      <td>100.30</td>\n",
       "      <td>289.747</td>\n",
       "      <td>2.9557</td>\n",
       "      <td>21.0</td>\n",
       "    </tr>\n",
       "  </tbody>\n",
       "</table>\n",
       "</div>"
      ],
      "text/plain": [
       "             ibcbr    igpdi   dolar  dias_uteis\n",
       "date                                           \n",
       "2003-01-01   96.15  277.173  3.4384        22.0\n",
       "2003-02-01   98.67  283.506  3.5908        20.0\n",
       "2003-03-01  103.41  287.855  3.4469        19.0\n",
       "2003-04-01  102.19  290.512  3.1187        20.0\n",
       "2003-05-01  100.30  289.747  2.9557        21.0"
      ]
     },
     "execution_count": 13,
     "metadata": {},
     "output_type": "execute_result"
    }
   ],
   "source": [
    "exog_df = pd.DataFrame((ibcbr_ts, igpm_ts,\n",
    "                        dolar_ts, dias_uteis_ts\n",
    "                       ), \n",
    "                        index=['ibcbr', 'igpdi', 'dolar', 'dias_uteis'\n",
    "                            ]).transpose()\n",
    "exog_df.head() "
   ]
  },
  {
   "cell_type": "code",
   "execution_count": 14,
   "metadata": {},
   "outputs": [
    {
     "data": {
      "text/html": [
       "<div>\n",
       "<style scoped>\n",
       "    .dataframe tbody tr th:only-of-type {\n",
       "        vertical-align: middle;\n",
       "    }\n",
       "\n",
       "    .dataframe tbody tr th {\n",
       "        vertical-align: top;\n",
       "    }\n",
       "\n",
       "    .dataframe thead th {\n",
       "        text-align: right;\n",
       "    }\n",
       "</style>\n",
       "<table border=\"1\" class=\"dataframe\">\n",
       "  <thead>\n",
       "    <tr style=\"text-align: right;\">\n",
       "      <th></th>\n",
       "      <th>ibcbr</th>\n",
       "      <th>igpdi</th>\n",
       "      <th>dolar</th>\n",
       "      <th>dias_uteis</th>\n",
       "    </tr>\n",
       "    <tr>\n",
       "      <th>date</th>\n",
       "      <th></th>\n",
       "      <th></th>\n",
       "      <th></th>\n",
       "      <th></th>\n",
       "    </tr>\n",
       "  </thead>\n",
       "  <tbody>\n",
       "    <tr>\n",
       "      <th>2017-08-01</th>\n",
       "      <td>140.15</td>\n",
       "      <td>644.383</td>\n",
       "      <td>3.150917</td>\n",
       "      <td>23.0</td>\n",
       "    </tr>\n",
       "    <tr>\n",
       "      <th>2017-09-01</th>\n",
       "      <td>134.85</td>\n",
       "      <td>647.400</td>\n",
       "      <td>3.134790</td>\n",
       "      <td>20.0</td>\n",
       "    </tr>\n",
       "    <tr>\n",
       "      <th>2017-10-01</th>\n",
       "      <td>136.06</td>\n",
       "      <td>648.672</td>\n",
       "      <td>3.191229</td>\n",
       "      <td>21.0</td>\n",
       "    </tr>\n",
       "    <tr>\n",
       "      <th>2017-11-01</th>\n",
       "      <td>135.08</td>\n",
       "      <td>652.073</td>\n",
       "      <td>3.259380</td>\n",
       "      <td>20.0</td>\n",
       "    </tr>\n",
       "    <tr>\n",
       "      <th>2017-12-01</th>\n",
       "      <td>135.77</td>\n",
       "      <td>657.859</td>\n",
       "      <td>3.291915</td>\n",
       "      <td>20.0</td>\n",
       "    </tr>\n",
       "  </tbody>\n",
       "</table>\n",
       "</div>"
      ],
      "text/plain": [
       "             ibcbr    igpdi     dolar  dias_uteis\n",
       "date                                             \n",
       "2017-08-01  140.15  644.383  3.150917        23.0\n",
       "2017-09-01  134.85  647.400  3.134790        20.0\n",
       "2017-10-01  136.06  648.672  3.191229        21.0\n",
       "2017-11-01  135.08  652.073  3.259380        20.0\n",
       "2017-12-01  135.77  657.859  3.291915        20.0"
      ]
     },
     "execution_count": 14,
     "metadata": {},
     "output_type": "execute_result"
    }
   ],
   "source": [
    "exog_df.tail() "
   ]
  },
  {
   "cell_type": "code",
   "execution_count": 15,
   "metadata": {},
   "outputs": [
    {
     "name": "stdout",
     "output_type": "stream",
     "text": [
      "(180, 4) (156, 4) (12, 4) (12, 4)\n"
     ]
    }
   ],
   "source": [
    "exog = exog_df[:].to_numpy()\n",
    "exog_train = exog[:-24]\n",
    "exog_val = exog[-24:-12]\n",
    "exog_test = exog[-12:]\n",
    "print(exog.shape, exog_train.shape, exog_val.shape, exog_test.shape)"
   ]
  },
  {
   "cell_type": "code",
   "execution_count": 16,
   "metadata": {},
   "outputs": [
    {
     "name": "stdout",
     "output_type": "stream",
     "text": [
      "(180,) (156,) (12,) (12,)\n"
     ]
    }
   ],
   "source": [
    "icms_train = icms_ts[:-24]\n",
    "icms_val = np.exp(icms_ts[-24:-12]) # série sem log\n",
    "icms_test = np.exp(icms_ts[-12:]) # série sem log\n",
    "print(icms_ts.shape, icms_train.shape, icms_val.shape, icms_test.shape)"
   ]
  },
  {
   "cell_type": "code",
   "execution_count": 17,
   "metadata": {},
   "outputs": [
    {
     "name": "stdout",
     "output_type": "stream",
     "text": [
      "##############################\n",
      " date\n",
      "2003-01-01    21.935295\n",
      "2003-02-01    21.885340\n",
      "2003-03-01    21.873841\n",
      "2003-04-01    21.891189\n",
      "2003-05-01    21.854323\n",
      "                ...    \n",
      "2015-08-01    23.012253\n",
      "2015-09-01    23.075611\n",
      "2015-10-01    23.080944\n",
      "2015-11-01    23.055029\n",
      "2015-12-01    23.129704\n",
      "Length: 156, dtype: float64\n",
      "##############################\n",
      " date\n",
      "2016-01-01    1.004910e+10\n",
      "2016-02-01    1.002313e+10\n",
      "2016-03-01    1.003487e+10\n",
      "2016-04-01    9.838065e+09\n",
      "2016-05-01    9.984410e+09\n",
      "2016-06-01    9.883704e+09\n",
      "2016-07-01    9.569317e+09\n",
      "2016-08-01    1.012199e+10\n",
      "2016-09-01    1.003972e+10\n",
      "2016-10-01    1.040347e+10\n",
      "2016-11-01    1.026535e+10\n",
      "2016-12-01    1.098004e+10\n",
      "dtype: float64\n",
      "##############################\n",
      " date\n",
      "2017-01-01    1.072886e+10\n",
      "2017-02-01    9.732300e+09\n",
      "2017-03-01    1.004051e+10\n",
      "2017-04-01    1.067568e+10\n",
      "2017-05-01    1.014303e+10\n",
      "2017-06-01    1.058851e+10\n",
      "2017-07-01    1.036689e+10\n",
      "2017-08-01    1.068426e+10\n",
      "2017-09-01    1.089186e+10\n",
      "2017-10-01    1.101721e+10\n",
      "2017-11-01    1.124273e+10\n",
      "2017-12-01    1.144989e+10\n",
      "dtype: float64\n"
     ]
    }
   ],
   "source": [
    "print('#'*30+'\\n',icms_train)\n",
    "print('#'*30+'\\n',icms_val)\n",
    "print('#'*30+'\\n',icms_test)"
   ]
  },
  {
   "cell_type": "markdown",
   "metadata": {},
   "source": [
    "## Modelos RNN LSTM\n",
    "Redes Neurais Recorrentes com neurônios Long Short-Term Memory"
   ]
  },
  {
   "cell_type": "markdown",
   "metadata": {},
   "source": [
    "### Montagem da Série com as Variáveis Exógenas\n",
    "As redes neurais precisam de conjuntos de características e de etiquetas separados. As variáveis exógenas serão o conjunto de características e a variável endógena será o conjunto de etiquetas."
   ]
  },
  {
   "cell_type": "code",
   "execution_count": 18,
   "metadata": {},
   "outputs": [],
   "source": [
    "X_data = np.append(exog, np.roll(exog, 1, axis = 0), axis = 1)\n",
    "X_data = np.append(X_data, np.roll(exog, 2, axis = 0), axis = 1)[2:]\n",
    "Y_data = icms_ts[2:].to_numpy()"
   ]
  },
  {
   "cell_type": "code",
   "execution_count": 19,
   "metadata": {},
   "outputs": [
    {
     "data": {
      "text/plain": [
       "((178, 12), (178,))"
      ]
     },
     "execution_count": 19,
     "metadata": {},
     "output_type": "execute_result"
    }
   ],
   "source": [
    "X_data.shape, Y_data.shape"
   ]
  },
  {
   "cell_type": "markdown",
   "metadata": {},
   "source": [
    "#### Normalização dos Dados\n",
    "Serão normalizados usando-se min-max. Apenas as features, a variável target não será normalizada. Os dados serão dividos em treno, validação e teste para a normalização, de modo que o fit seja feito somente nos dados de treino, aumentando-se assim a probabilidade de generalização do modelo."
   ]
  },
  {
   "cell_type": "code",
   "execution_count": 20,
   "metadata": {},
   "outputs": [
    {
     "name": "stdout",
     "output_type": "stream",
     "text": [
      "(154, 12) (12, 12) (12, 12)\n",
      "(154,) (12,) (12,)\n"
     ]
    }
   ],
   "source": [
    "X_train = X_data[:-24]\n",
    "X_val = X_data[-24:-12]\n",
    "X_test = X_data[-12:]\n",
    "print(X_train.shape, X_val.shape, X_test.shape)\n",
    "Y_train = Y_data[:-24]\n",
    "Y_val = Y_data[-24:-12]\n",
    "Y_test = np.exp(Y_data[-12:]) # tirando o log\n",
    "print(Y_train.shape, Y_val.shape, Y_test.shape)"
   ]
  },
  {
   "cell_type": "code",
   "execution_count": 21,
   "metadata": {},
   "outputs": [
    {
     "name": "stdout",
     "output_type": "stream",
     "text": [
      "numéricas [0, 1, 2, 3, 4, 5, 6, 7, 8, 9, 10, 11]\n",
      "ColumnTransformer(transformers=[('min-max', MinMaxScaler(),\n",
      "                                 [0, 1, 2, 3, 4, 5, 6, 7, 8, 9, 10, 11])],\n",
      "                  verbose=True)\n",
      "[ColumnTransformer] ....... (1 of 1) Processing min-max, total=   0.0s\n",
      "(154, 12)\n",
      "(12, 12)\n",
      "(12, 12)\n"
     ]
    }
   ],
   "source": [
    "from sklearn.preprocessing import MinMaxScaler\n",
    "from sklearn.compose import ColumnTransformer\n",
    "# índice dos atributos numéricos\n",
    "num_atrib = list(range(X_train.shape[1]))\n",
    "print('numéricas', num_atrib)\n",
    "\n",
    "enc_x = ColumnTransformer([('min-max',MinMaxScaler(), num_atrib)], verbose=True)\n",
    "\n",
    "print(enc_x)\n",
    "X_train_std = enc_x.fit_transform(X_train)\n",
    "X_val_std = enc_x.transform(X_val)\n",
    "X_test_std = enc_x.transform(X_test)\n",
    "\n",
    "print(X_train_std.shape)\n",
    "print(X_val_std.shape)\n",
    "print(X_test_std.shape)"
   ]
  },
  {
   "cell_type": "code",
   "execution_count": 22,
   "metadata": {},
   "outputs": [
    {
     "name": "stdout",
     "output_type": "stream",
     "text": [
      "(154, 12, 1) (12, 12, 1) (12, 12, 1)\n",
      "(154, 1) (12, 1) (12, 1)\n"
     ]
    }
   ],
   "source": [
    "x_train = X_train_std.reshape(X_train_std.shape[0], X_train_std.shape[1], 1)\n",
    "x_val = X_val_std.reshape(X_val_std.shape[0], X_val_std.shape[1], 1)\n",
    "x_test = X_test_std.reshape(X_test_std.shape[0], X_test_std.shape[1], 1)\n",
    "print(x_train.shape, x_val.shape, x_test.shape)\n",
    "\n",
    "y_train = Y_train.reshape(Y_train.shape[0], 1)\n",
    "y_val = Y_val.reshape(Y_val.shape[0], 1)\n",
    "y_test = Y_test.reshape(Y_test.shape[0], 1)\n",
    "print(y_train.shape, y_val.shape, y_test.shape)"
   ]
  },
  {
   "cell_type": "markdown",
   "metadata": {},
   "source": [
    "### Criando o modelo LSTM"
   ]
  },
  {
   "cell_type": "code",
   "execution_count": 23,
   "metadata": {},
   "outputs": [],
   "source": [
    "# importando as bibliotecas do Keras\n",
    "from tensorflow.keras.models import Sequential\n",
    "from tensorflow.keras.layers import LSTM, Dense, Dropout, Conv1D, MaxPooling1D\n",
    "from tensorflow.keras.callbacks import ReduceLROnPlateau, EarlyStopping\n",
    "from tensorflow.keras.optimizers import Adam"
   ]
  },
  {
   "cell_type": "markdown",
   "metadata": {},
   "source": [
    "## Arquitetura da Rede - Camadas"
   ]
  },
  {
   "cell_type": "code",
   "execution_count": 24,
   "metadata": {},
   "outputs": [],
   "source": [
    "rlrop = ReduceLROnPlateau(monitor='val_loss', factor=0.1, patience=25)\n",
    "early_stop = EarlyStopping(monitor='val_loss', patience=100, verbose=1, \n",
    "                           restore_best_weights=True)"
   ]
  },
  {
   "cell_type": "code",
   "execution_count": 25,
   "metadata": {},
   "outputs": [],
   "source": [
    "# Épocas\n",
    "EPOCHS = 1000\n",
    "NEURONIOS = 600\n",
    "DROPOUT = 0.15\n",
    "LR = 1e-5\n",
    "BATCH = 8\n",
    "\n",
    "# Imstanciação do modelo\n",
    "model = Sequential()\n",
    "\n",
    "# Adicionar camada LSTM \n",
    "model.add(LSTM(activation='tanh', dropout=DROPOUT,\n",
    "        input_shape = (12, 1), return_sequences = True,\n",
    "        units = NEURONIOS))\n",
    "\n",
    "# Adicionar camada LSTM \n",
    "model.add(LSTM(activation='tanh', dropout=DROPOUT,\n",
    "        input_shape = (12, 1), return_sequences = True,\n",
    "        units = NEURONIOS))\n",
    "\n",
    "# Adicionar camada LSTM \n",
    "model.add(LSTM(activation='tanh', dropout=DROPOUT,\n",
    "        input_shape = (12, 1), return_sequences = False,\n",
    "        units = NEURONIOS))\n",
    "\n",
    "# Adicionar a camada de saída com 1 neurônio linear\n",
    "model.add(Dense(\n",
    "        units = 1,\n",
    "        activation = 'linear'))\n",
    "# a learning rate padrão do Adam é 0.001\n",
    "model.compile(loss = 'mape', optimizer = Adam(learning_rate=LR))"
   ]
  },
  {
   "cell_type": "code",
   "execution_count": 26,
   "metadata": {},
   "outputs": [
    {
     "name": "stdout",
     "output_type": "stream",
     "text": [
      "Model: \"sequential\"\n",
      "_________________________________________________________________\n",
      "Layer (type)                 Output Shape              Param #   \n",
      "=================================================================\n",
      "lstm (LSTM)                  (None, 12, 600)           1444800   \n",
      "_________________________________________________________________\n",
      "lstm_1 (LSTM)                (None, 12, 600)           2882400   \n",
      "_________________________________________________________________\n",
      "lstm_2 (LSTM)                (None, 600)               2882400   \n",
      "_________________________________________________________________\n",
      "dense (Dense)                (None, 1)                 601       \n",
      "=================================================================\n",
      "Total params: 7,210,201\n",
      "Trainable params: 7,210,201\n",
      "Non-trainable params: 0\n",
      "_________________________________________________________________\n"
     ]
    }
   ],
   "source": [
    "model.summary()"
   ]
  },
  {
   "cell_type": "code",
   "execution_count": 27,
   "metadata": {
    "scrolled": true
   },
   "outputs": [
    {
     "name": "stdout",
     "output_type": "stream",
     "text": [
      "Epoch 1/1000\n",
      "20/20 [==============================] - 7s 327ms/step - loss: 99.8768 - val_loss: 99.5526\n",
      "Epoch 2/1000\n",
      "20/20 [==============================] - 4s 222ms/step - loss: 99.5628 - val_loss: 98.9260\n",
      "Epoch 3/1000\n",
      "20/20 [==============================] - 4s 217ms/step - loss: 99.0514 - val_loss: 97.7331\n",
      "Epoch 4/1000\n",
      "20/20 [==============================] - 4s 215ms/step - loss: 97.9006 - val_loss: 94.9108\n",
      "Epoch 5/1000\n",
      "20/20 [==============================] - 4s 217ms/step - loss: 95.1834 - val_loss: 86.9132\n",
      "Epoch 6/1000\n",
      "20/20 [==============================] - 4s 217ms/step - loss: 86.6860 - val_loss: 60.8164\n",
      "Epoch 7/1000\n",
      "20/20 [==============================] - 4s 221ms/step - loss: 60.6832 - val_loss: 16.0461\n",
      "Epoch 8/1000\n",
      "20/20 [==============================] - 5s 230ms/step - loss: 19.0727 - val_loss: 4.8566\n",
      "Epoch 9/1000\n",
      "20/20 [==============================] - 4s 214ms/step - loss: 5.2357 - val_loss: 6.3337\n",
      "Epoch 10/1000\n",
      "20/20 [==============================] - 4s 216ms/step - loss: 3.5168 - val_loss: 1.7514\n",
      "Epoch 11/1000\n",
      "20/20 [==============================] - 4s 207ms/step - loss: 2.5313 - val_loss: 1.4917\n",
      "Epoch 12/1000\n",
      "20/20 [==============================] - 4s 223ms/step - loss: 1.7173 - val_loss: 0.3568\n",
      "Epoch 13/1000\n",
      "20/20 [==============================] - 4s 216ms/step - loss: 1.8246 - val_loss: 0.4804\n",
      "Epoch 14/1000\n",
      "20/20 [==============================] - 4s 213ms/step - loss: 0.9658 - val_loss: 0.4564\n",
      "Epoch 15/1000\n",
      "20/20 [==============================] - 4s 220ms/step - loss: 1.1601 - val_loss: 0.1343\n",
      "Epoch 16/1000\n",
      "20/20 [==============================] - 4s 214ms/step - loss: 1.1458 - val_loss: 0.2170\n",
      "Epoch 17/1000\n",
      "20/20 [==============================] - 4s 214ms/step - loss: 0.9384 - val_loss: 0.1824\n",
      "Epoch 18/1000\n",
      "20/20 [==============================] - 4s 220ms/step - loss: 1.0124 - val_loss: 0.1732\n",
      "Epoch 19/1000\n",
      "20/20 [==============================] - 4s 216ms/step - loss: 0.7908 - val_loss: 0.2626\n",
      "Epoch 20/1000\n",
      "20/20 [==============================] - 4s 219ms/step - loss: 1.0346 - val_loss: 0.1280\n",
      "Epoch 21/1000\n",
      "20/20 [==============================] - 4s 219ms/step - loss: 0.8794 - val_loss: 0.1726\n",
      "Epoch 22/1000\n",
      "20/20 [==============================] - 4s 210ms/step - loss: 0.8997 - val_loss: 0.3189\n",
      "Epoch 23/1000\n",
      "20/20 [==============================] - 4s 222ms/step - loss: 0.9029 - val_loss: 0.2607\n",
      "Epoch 24/1000\n",
      "20/20 [==============================] - 4s 208ms/step - loss: 0.8716 - val_loss: 0.1714\n",
      "Epoch 25/1000\n",
      "20/20 [==============================] - 4s 219ms/step - loss: 0.9636 - val_loss: 0.1370\n",
      "Epoch 26/1000\n",
      "20/20 [==============================] - 4s 213ms/step - loss: 0.9500 - val_loss: 0.2528\n",
      "Epoch 27/1000\n",
      "20/20 [==============================] - 4s 213ms/step - loss: 0.8555 - val_loss: 0.1417\n",
      "Epoch 28/1000\n",
      "20/20 [==============================] - 4s 213ms/step - loss: 0.9056 - val_loss: 0.2993\n",
      "Epoch 29/1000\n",
      "20/20 [==============================] - 4s 207ms/step - loss: 0.8887 - val_loss: 0.3321\n",
      "Epoch 30/1000\n",
      "20/20 [==============================] - 4s 218ms/step - loss: 0.9087 - val_loss: 0.1314\n",
      "Epoch 31/1000\n",
      "20/20 [==============================] - 4s 209ms/step - loss: 0.7900 - val_loss: 0.4778\n",
      "Epoch 32/1000\n",
      "20/20 [==============================] - 4s 212ms/step - loss: 0.9195 - val_loss: 0.1442\n",
      "Epoch 33/1000\n",
      "20/20 [==============================] - 4s 217ms/step - loss: 0.9664 - val_loss: 0.5600\n",
      "Epoch 34/1000\n",
      "20/20 [==============================] - 4s 212ms/step - loss: 0.8295 - val_loss: 0.1476\n",
      "Epoch 35/1000\n",
      "20/20 [==============================] - 4s 213ms/step - loss: 0.8465 - val_loss: 0.1396\n",
      "Epoch 36/1000\n",
      "20/20 [==============================] - 4s 214ms/step - loss: 0.8975 - val_loss: 0.1530\n",
      "Epoch 37/1000\n",
      "20/20 [==============================] - 4s 213ms/step - loss: 0.9173 - val_loss: 0.1408\n",
      "Epoch 38/1000\n",
      "20/20 [==============================] - 4s 213ms/step - loss: 0.8569 - val_loss: 0.2877\n",
      "Epoch 39/1000\n",
      "20/20 [==============================] - 4s 211ms/step - loss: 0.8327 - val_loss: 0.3470\n",
      "Epoch 40/1000\n",
      "20/20 [==============================] - 4s 224ms/step - loss: 0.8051 - val_loss: 0.3994\n",
      "Epoch 41/1000\n",
      "20/20 [==============================] - 4s 214ms/step - loss: 0.8544 - val_loss: 0.1540\n",
      "Epoch 42/1000\n",
      "20/20 [==============================] - 4s 219ms/step - loss: 0.9980 - val_loss: 0.1579\n",
      "Epoch 43/1000\n",
      "20/20 [==============================] - 4s 208ms/step - loss: 0.9261 - val_loss: 0.1735\n",
      "Epoch 44/1000\n",
      "20/20 [==============================] - 4s 217ms/step - loss: 0.8965 - val_loss: 0.2540\n",
      "Epoch 45/1000\n",
      "20/20 [==============================] - 4s 215ms/step - loss: 0.8772 - val_loss: 0.1912\n",
      "Epoch 46/1000\n",
      "20/20 [==============================] - 4s 208ms/step - loss: 0.8227 - val_loss: 0.1469\n",
      "Epoch 47/1000\n",
      "20/20 [==============================] - 4s 213ms/step - loss: 0.7824 - val_loss: 0.1420\n",
      "Epoch 48/1000\n",
      "20/20 [==============================] - 4s 217ms/step - loss: 0.8127 - val_loss: 0.1435\n",
      "Epoch 49/1000\n",
      "20/20 [==============================] - 4s 215ms/step - loss: 0.8623 - val_loss: 0.1428\n",
      "Epoch 50/1000\n",
      "20/20 [==============================] - 4s 214ms/step - loss: 0.8028 - val_loss: 0.1637\n",
      "Epoch 51/1000\n",
      "20/20 [==============================] - 4s 213ms/step - loss: 0.9012 - val_loss: 0.1734\n",
      "Epoch 52/1000\n",
      "20/20 [==============================] - 4s 217ms/step - loss: 0.9322 - val_loss: 0.1703\n",
      "Epoch 53/1000\n",
      "20/20 [==============================] - 4s 217ms/step - loss: 0.8423 - val_loss: 0.1486\n",
      "Epoch 54/1000\n",
      "20/20 [==============================] - 4s 206ms/step - loss: 0.7874 - val_loss: 0.1533\n",
      "Epoch 55/1000\n",
      "20/20 [==============================] - 4s 214ms/step - loss: 0.8068 - val_loss: 0.1517\n",
      "Epoch 56/1000\n",
      "20/20 [==============================] - 4s 216ms/step - loss: 0.7758 - val_loss: 0.1428\n",
      "Epoch 57/1000\n",
      "20/20 [==============================] - 4s 217ms/step - loss: 0.8626 - val_loss: 0.1429\n",
      "Epoch 58/1000\n",
      "20/20 [==============================] - 4s 215ms/step - loss: 0.7290 - val_loss: 0.1432\n",
      "Epoch 59/1000\n",
      "20/20 [==============================] - 4s 219ms/step - loss: 0.7693 - val_loss: 0.1489\n",
      "Epoch 60/1000\n",
      "20/20 [==============================] - 4s 215ms/step - loss: 0.8122 - val_loss: 0.1750\n",
      "Epoch 61/1000\n",
      "20/20 [==============================] - 4s 208ms/step - loss: 0.7965 - val_loss: 0.1582\n",
      "Epoch 62/1000\n",
      "20/20 [==============================] - 4s 209ms/step - loss: 0.7475 - val_loss: 0.1436\n",
      "Epoch 63/1000\n",
      "20/20 [==============================] - 4s 211ms/step - loss: 0.8127 - val_loss: 0.1436\n",
      "Epoch 64/1000\n",
      "20/20 [==============================] - 4s 213ms/step - loss: 0.8686 - val_loss: 0.1453\n",
      "Epoch 65/1000\n",
      "20/20 [==============================] - 4s 212ms/step - loss: 0.9222 - val_loss: 0.1749\n",
      "Epoch 66/1000\n",
      "20/20 [==============================] - 4s 209ms/step - loss: 0.8752 - val_loss: 0.1537\n",
      "Epoch 67/1000\n",
      "20/20 [==============================] - 4s 218ms/step - loss: 0.8435 - val_loss: 0.1526\n",
      "Epoch 68/1000\n",
      "20/20 [==============================] - 4s 217ms/step - loss: 0.8293 - val_loss: 0.1443\n",
      "Epoch 69/1000\n",
      "20/20 [==============================] - 4s 217ms/step - loss: 0.8041 - val_loss: 0.1444\n",
      "Epoch 70/1000\n",
      "20/20 [==============================] - 5s 227ms/step - loss: 0.6688 - val_loss: 0.1825\n",
      "Epoch 71/1000\n",
      "20/20 [==============================] - 4s 213ms/step - loss: 0.9310 - val_loss: 0.1769\n",
      "Epoch 72/1000\n",
      "20/20 [==============================] - 4s 214ms/step - loss: 0.7537 - val_loss: 0.1702\n",
      "Epoch 73/1000\n",
      "20/20 [==============================] - 4s 219ms/step - loss: 0.7819 - val_loss: 0.1629\n",
      "Epoch 74/1000\n",
      "20/20 [==============================] - 4s 219ms/step - loss: 0.8474 - val_loss: 0.1545\n",
      "Epoch 75/1000\n",
      "20/20 [==============================] - 4s 219ms/step - loss: 0.8356 - val_loss: 0.1552\n",
      "Epoch 76/1000\n",
      "20/20 [==============================] - 4s 218ms/step - loss: 0.7950 - val_loss: 0.1526\n",
      "Epoch 77/1000\n",
      "20/20 [==============================] - 4s 217ms/step - loss: 0.9112 - val_loss: 0.1464\n",
      "Epoch 78/1000\n",
      "20/20 [==============================] - 4s 209ms/step - loss: 0.7582 - val_loss: 0.1449\n",
      "Epoch 79/1000\n",
      "20/20 [==============================] - 4s 218ms/step - loss: 0.8234 - val_loss: 0.1452\n",
      "Epoch 80/1000\n",
      "20/20 [==============================] - 4s 217ms/step - loss: 0.9800 - val_loss: 0.1452\n",
      "Epoch 81/1000\n",
      "20/20 [==============================] - 4s 211ms/step - loss: 0.8521 - val_loss: 0.1451\n",
      "Epoch 82/1000\n",
      "20/20 [==============================] - 4s 215ms/step - loss: 0.9056 - val_loss: 0.1453\n",
      "Epoch 83/1000\n",
      "20/20 [==============================] - 4s 213ms/step - loss: 0.9070 - val_loss: 0.1453\n",
      "Epoch 84/1000\n",
      "20/20 [==============================] - 4s 212ms/step - loss: 0.8930 - val_loss: 0.1453\n",
      "Epoch 85/1000\n",
      "20/20 [==============================] - 4s 211ms/step - loss: 0.7799 - val_loss: 0.1450\n",
      "Epoch 86/1000\n",
      "20/20 [==============================] - 4s 217ms/step - loss: 0.8650 - val_loss: 0.1450\n",
      "Epoch 87/1000\n",
      "20/20 [==============================] - 4s 212ms/step - loss: 0.8076 - val_loss: 0.1450\n",
      "Epoch 88/1000\n",
      "20/20 [==============================] - 4s 215ms/step - loss: 0.7583 - val_loss: 0.1450\n",
      "Epoch 89/1000\n",
      "20/20 [==============================] - 4s 212ms/step - loss: 0.8256 - val_loss: 0.1450\n",
      "Epoch 90/1000\n",
      "20/20 [==============================] - 4s 209ms/step - loss: 0.8624 - val_loss: 0.1450\n",
      "Epoch 91/1000\n",
      "20/20 [==============================] - 4s 213ms/step - loss: 0.8230 - val_loss: 0.1451\n",
      "Epoch 92/1000\n",
      "20/20 [==============================] - 4s 212ms/step - loss: 0.8565 - val_loss: 0.1451\n",
      "Epoch 93/1000\n",
      "20/20 [==============================] - 4s 213ms/step - loss: 0.7884 - val_loss: 0.1451\n",
      "Epoch 94/1000\n",
      "20/20 [==============================] - 4s 219ms/step - loss: 0.7702 - val_loss: 0.1451\n",
      "Epoch 95/1000\n",
      "20/20 [==============================] - 4s 215ms/step - loss: 0.8203 - val_loss: 0.1451\n",
      "Epoch 96/1000\n",
      "20/20 [==============================] - 4s 217ms/step - loss: 0.8695 - val_loss: 0.1451\n",
      "Epoch 97/1000\n",
      "20/20 [==============================] - 4s 211ms/step - loss: 0.7254 - val_loss: 0.1451\n",
      "Epoch 98/1000\n",
      "20/20 [==============================] - 4s 219ms/step - loss: 0.7699 - val_loss: 0.1451\n",
      "Epoch 99/1000\n",
      "20/20 [==============================] - 4s 212ms/step - loss: 0.9161 - val_loss: 0.1451\n",
      "Epoch 100/1000\n",
      "20/20 [==============================] - 4s 218ms/step - loss: 0.8577 - val_loss: 0.1451\n",
      "Epoch 101/1000\n",
      "20/20 [==============================] - 4s 216ms/step - loss: 0.8903 - val_loss: 0.1451\n",
      "Epoch 102/1000\n",
      "20/20 [==============================] - 4s 214ms/step - loss: 0.7860 - val_loss: 0.1451\n",
      "Epoch 103/1000\n",
      "20/20 [==============================] - 4s 214ms/step - loss: 0.8789 - val_loss: 0.1451\n",
      "Epoch 104/1000\n",
      "20/20 [==============================] - 4s 211ms/step - loss: 0.8744 - val_loss: 0.1451\n",
      "Epoch 105/1000\n",
      "20/20 [==============================] - 4s 216ms/step - loss: 0.9317 - val_loss: 0.1451\n",
      "Epoch 106/1000\n",
      "20/20 [==============================] - 4s 220ms/step - loss: 0.7321 - val_loss: 0.1451\n",
      "Epoch 107/1000\n",
      "20/20 [==============================] - 4s 217ms/step - loss: 0.8662 - val_loss: 0.1451\n",
      "Epoch 108/1000\n",
      "20/20 [==============================] - 4s 219ms/step - loss: 0.7636 - val_loss: 0.1451\n",
      "Epoch 109/1000\n",
      "20/20 [==============================] - 4s 215ms/step - loss: 0.8745 - val_loss: 0.1451\n",
      "Epoch 110/1000\n",
      "20/20 [==============================] - 4s 218ms/step - loss: 0.8589 - val_loss: 0.1451\n",
      "Epoch 111/1000\n",
      "20/20 [==============================] - 4s 220ms/step - loss: 0.7761 - val_loss: 0.1451\n",
      "Epoch 112/1000\n",
      "20/20 [==============================] - 4s 212ms/step - loss: 0.8010 - val_loss: 0.1451\n",
      "Epoch 113/1000\n",
      "20/20 [==============================] - 4s 209ms/step - loss: 0.7675 - val_loss: 0.1451\n",
      "Epoch 114/1000\n",
      "20/20 [==============================] - 4s 216ms/step - loss: 0.7208 - val_loss: 0.1451\n",
      "Epoch 115/1000\n",
      "20/20 [==============================] - 4s 220ms/step - loss: 0.7727 - val_loss: 0.1451\n",
      "Epoch 116/1000\n",
      "20/20 [==============================] - 4s 209ms/step - loss: 0.8597 - val_loss: 0.1451\n",
      "Epoch 117/1000\n",
      "20/20 [==============================] - 4s 220ms/step - loss: 0.8642 - val_loss: 0.1451\n",
      "Epoch 118/1000\n",
      "20/20 [==============================] - 4s 211ms/step - loss: 0.7745 - val_loss: 0.1451\n",
      "Epoch 119/1000\n",
      "20/20 [==============================] - 4s 217ms/step - loss: 0.9646 - val_loss: 0.1451\n",
      "Epoch 120/1000\n",
      "20/20 [==============================] - ETA: 0s - loss: 0.9073Restoring model weights from the end of the best epoch.\n",
      "20/20 [==============================] - 4s 209ms/step - loss: 0.9073 - val_loss: 0.1451\n",
      "Epoch 00120: early stopping\n"
     ]
    }
   ],
   "source": [
    "# History object for plotting our model loss by epoch\n",
    "history = model.fit(x_train, y_train, batch_size = BATCH, \n",
    "                    epochs = EPOCHS, validation_data = (x_val, y_val),\n",
    "                    callbacks = [rlrop, early_stop])"
   ]
  },
  {
   "cell_type": "code",
   "execution_count": 28,
   "metadata": {
    "scrolled": false
   },
   "outputs": [
    {
     "data": {
      "image/png": "[encoded data removed]",
      "text/plain": [
       "<Figure size 720x504 with 1 Axes>"
      ]
     },
     "metadata": {
      "needs_background": "light"
     },
     "output_type": "display_data"
    }
   ],
   "source": [
    "# Loss History\n",
    "fig = plt.figure(figsize=(10, 7))\n",
    "plt.plot(history.history['loss'])\n",
    "plt.plot(history.history['val_loss'])\n",
    "plt.title('Model Loss')\n",
    "plt.ylabel('Loss')\n",
    "plt.xlabel('Epoch')\n",
    "plt.legend(['Train', 'Val'], loc='upper right')\n",
    "plt.show()"
   ]
  },
  {
   "cell_type": "markdown",
   "metadata": {},
   "source": [
    "### Previsão 12 meses em Validação"
   ]
  },
  {
   "cell_type": "code",
   "execution_count": 29,
   "metadata": {},
   "outputs": [
    {
     "data": {
      "text/plain": [
       "array([[9.8597100e+09],\n",
       "       [9.7280901e+09],\n",
       "       [1.0082943e+10],\n",
       "       [9.9297638e+09],\n",
       "       [1.0008905e+10],\n",
       "       [1.0055056e+10],\n",
       "       [9.9746959e+09],\n",
       "       [1.0132992e+10],\n",
       "       [9.9528786e+09],\n",
       "       [9.7450076e+09],\n",
       "       [9.7140347e+09],\n",
       "       [9.9383101e+09]], dtype=float32)"
      ]
     },
     "execution_count": 29,
     "metadata": {},
     "output_type": "execute_result"
    }
   ],
   "source": [
    "Y_pred_val = np.exp(model.predict(x_val))\n",
    "Y_pred_val"
   ]
  },
  {
   "cell_type": "code",
   "execution_count": 30,
   "metadata": {},
   "outputs": [
    {
     "data": {
      "text/plain": [
       "date\n",
       "2016-01-01    9.859710e+09\n",
       "2016-02-01    9.728090e+09\n",
       "2016-03-01    1.008294e+10\n",
       "2016-04-01    9.929764e+09\n",
       "2016-05-01    1.000890e+10\n",
       "2016-06-01    1.005506e+10\n",
       "2016-07-01    9.974696e+09\n",
       "2016-08-01    1.013299e+10\n",
       "2016-09-01    9.952879e+09\n",
       "2016-10-01    9.745008e+09\n",
       "2016-11-01    9.714035e+09\n",
       "2016-12-01    9.938310e+09\n",
       "dtype: float32"
      ]
     },
     "execution_count": 30,
     "metadata": {},
     "output_type": "execute_result"
    }
   ],
   "source": [
    "y_pred_val = pd.Series(Y_pred_val.ravel())\n",
    "y_pred_val.index = icms_val.index\n",
    "y_pred_val"
   ]
  },
  {
   "cell_type": "code",
   "execution_count": 31,
   "metadata": {},
   "outputs": [
    {
     "data": {
      "text/plain": [
       "array([1.00490973e+10, 1.00231253e+10, 1.00348656e+10, 9.83806479e+09,\n",
       "       9.98441012e+09, 9.88370418e+09, 9.56931705e+09, 1.01219927e+10,\n",
       "       1.00397240e+10, 1.04034689e+10, 1.02653493e+10, 1.09800382e+10])"
      ]
     },
     "execution_count": 31,
     "metadata": {},
     "output_type": "execute_result"
    }
   ],
   "source": [
    "np.exp(y_val).ravel()"
   ]
  },
  {
   "cell_type": "code",
   "execution_count": 32,
   "metadata": {},
   "outputs": [
    {
     "data": {
      "text/plain": [
       "424097727.23086977"
      ]
     },
     "execution_count": 32,
     "metadata": {},
     "output_type": "execute_result"
    }
   ],
   "source": [
    "RMSE_lstm_val = mean_squared_error(np.exp(y_val).ravel(), y_pred_val, squared=False)\n",
    "RMSE_lstm_val"
   ]
  },
  {
   "cell_type": "code",
   "execution_count": 33,
   "metadata": {},
   "outputs": [
    {
     "data": {
      "text/plain": [
       "0.028846368519175408"
      ]
     },
     "execution_count": 33,
     "metadata": {},
     "output_type": "execute_result"
    }
   ],
   "source": [
    "MAPE_lstm_val = mean_absolute_percentage_error(np.exp(y_val).ravel(), y_pred_val)\n",
    "MAPE_lstm_val"
   ]
  },
  {
   "cell_type": "code",
   "execution_count": 34,
   "metadata": {},
   "outputs": [],
   "source": [
    "previsoes['nome'].append('RNN-LSTM-Camadas')\n",
    "previsoes['modelo'].append(model)\n",
    "previsoes['previsoes'].append(y_pred_val)\n",
    "\n",
    "previsoes['rmse'].append(RMSE_lstm_val)\n",
    "\n",
    "previsoes['mape'].append(MAPE_lstm_val)"
   ]
  },
  {
   "cell_type": "code",
   "execution_count": 35,
   "metadata": {},
   "outputs": [],
   "source": [
    "previsoes['erro relativo'].append([erro_relativo(prev,real) \n",
    "                                   for prev,real in zip(y_pred_val, y_test)])"
   ]
  },
  {
   "cell_type": "markdown",
   "metadata": {},
   "source": [
    "## Arquitetura da Rede - Larga"
   ]
  },
  {
   "cell_type": "code",
   "execution_count": 36,
   "metadata": {},
   "outputs": [],
   "source": [
    "rlrop2 = ReduceLROnPlateau(monitor='val_loss', factor=0.1, patience=25)\n",
    "early_stop2 = EarlyStopping(monitor='val_loss', patience=100, verbose=1, \n",
    "                           restore_best_weights=True)"
   ]
  },
  {
   "cell_type": "code",
   "execution_count": 37,
   "metadata": {},
   "outputs": [],
   "source": [
    "# Épocas\n",
    "EPOCHS2 = 1000\n",
    "NEURONIOS2 = 600\n",
    "DROPOUT2 = 0.15\n",
    "LR2 = 1e-5\n",
    "BATCH2 = 8\n",
    "\n",
    "# Imstanciação do modelo\n",
    "model2 = Sequential()\n",
    "\n",
    "# Adicionar camada LSTM \n",
    "model2.add(LSTM(activation='tanh', dropout=DROPOUT2,\n",
    "        input_shape = (12, 1), return_sequences = False,\n",
    "        units = NEURONIOS2))\n",
    "\n",
    "# Adicionar a camada de saída com 1 neurônio linear\n",
    "model2.add(Dense(\n",
    "        units = 1,\n",
    "        activation = 'linear'))\n",
    "# a learning rate padrão do Adam é 0.001\n",
    "model2.compile(loss = 'mape', optimizer = Adam(learning_rate=LR2))"
   ]
  },
  {
   "cell_type": "code",
   "execution_count": 38,
   "metadata": {},
   "outputs": [
    {
     "name": "stdout",
     "output_type": "stream",
     "text": [
      "Model: \"sequential_1\"\n",
      "_________________________________________________________________\n",
      "Layer (type)                 Output Shape              Param #   \n",
      "=================================================================\n",
      "lstm_3 (LSTM)                (None, 600)               1444800   \n",
      "_________________________________________________________________\n",
      "dense_1 (Dense)              (None, 1)                 601       \n",
      "=================================================================\n",
      "Total params: 1,445,401\n",
      "Trainable params: 1,445,401\n",
      "Non-trainable params: 0\n",
      "_________________________________________________________________\n"
     ]
    }
   ],
   "source": [
    "model2.summary()"
   ]
  },
  {
   "cell_type": "code",
   "execution_count": 39,
   "metadata": {
    "scrolled": true
   },
   "outputs": [
    {
     "name": "stdout",
     "output_type": "stream",
     "text": [
      "Epoch 1/1000\n",
      "20/20 [==============================] - 2s 87ms/step - loss: 99.9435 - val_loss: 99.7172\n",
      "Epoch 2/1000\n",
      "20/20 [==============================] - 1s 52ms/step - loss: 99.7311 - val_loss: 99.3654\n",
      "Epoch 3/1000\n",
      "20/20 [==============================] - 1s 54ms/step - loss: 99.5122 - val_loss: 98.9763\n",
      "Epoch 4/1000\n",
      "20/20 [==============================] - 1s 55ms/step - loss: 99.2632 - val_loss: 98.5193\n",
      "Epoch 5/1000\n",
      "20/20 [==============================] - 1s 53ms/step - loss: 98.9475 - val_loss: 97.9480\n",
      "Epoch 6/1000\n",
      "20/20 [==============================] - 1s 52ms/step - loss: 98.5508 - val_loss: 97.1982\n",
      "Epoch 7/1000\n",
      "20/20 [==============================] - 1s 57ms/step - loss: 98.0610 - val_loss: 96.1350\n",
      "Epoch 8/1000\n",
      "20/20 [==============================] - 1s 53ms/step - loss: 97.2985 - val_loss: 94.5058\n",
      "Epoch 9/1000\n",
      "20/20 [==============================] - 1s 51ms/step - loss: 96.0615 - val_loss: 91.6745\n",
      "Epoch 10/1000\n",
      "20/20 [==============================] - 1s 52ms/step - loss: 93.8143 - val_loss: 86.1139\n",
      "Epoch 11/1000\n",
      "20/20 [==============================] - 1s 53ms/step - loss: 89.3124 - val_loss: 73.4310\n",
      "Epoch 12/1000\n",
      "20/20 [==============================] - 1s 52ms/step - loss: 78.7603 - val_loss: 45.8556\n",
      "Epoch 13/1000\n",
      "20/20 [==============================] - 1s 54ms/step - loss: 55.7719 - val_loss: 17.1211\n",
      "Epoch 14/1000\n",
      "20/20 [==============================] - 1s 54ms/step - loss: 27.7575 - val_loss: 2.2087\n",
      "Epoch 15/1000\n",
      "20/20 [==============================] - 1s 53ms/step - loss: 8.8164 - val_loss: 4.2683\n",
      "Epoch 16/1000\n",
      "20/20 [==============================] - 1s 56ms/step - loss: 4.2199 - val_loss: 3.1252\n",
      "Epoch 17/1000\n",
      "20/20 [==============================] - 1s 52ms/step - loss: 2.9612 - val_loss: 0.1891\n",
      "Epoch 18/1000\n",
      "20/20 [==============================] - 1s 56ms/step - loss: 2.6700 - val_loss: 0.1186\n",
      "Epoch 19/1000\n",
      "20/20 [==============================] - 1s 55ms/step - loss: 1.4860 - val_loss: 0.2623\n",
      "Epoch 20/1000\n",
      "20/20 [==============================] - 1s 53ms/step - loss: 1.3298 - val_loss: 0.5486\n",
      "Epoch 21/1000\n",
      "20/20 [==============================] - 1s 51ms/step - loss: 1.5742 - val_loss: 0.1844\n",
      "Epoch 22/1000\n",
      "20/20 [==============================] - 1s 53ms/step - loss: 1.2638 - val_loss: 0.8623\n",
      "Epoch 23/1000\n",
      "20/20 [==============================] - 1s 55ms/step - loss: 1.1209 - val_loss: 0.6979\n",
      "Epoch 24/1000\n",
      "20/20 [==============================] - 1s 55ms/step - loss: 1.3561 - val_loss: 0.4297\n",
      "Epoch 25/1000\n",
      "20/20 [==============================] - 1s 53ms/step - loss: 1.1977 - val_loss: 0.6516\n",
      "Epoch 26/1000\n",
      "20/20 [==============================] - 1s 54ms/step - loss: 0.9481 - val_loss: 0.9263\n",
      "Epoch 27/1000\n",
      "20/20 [==============================] - 1s 52ms/step - loss: 1.2957 - val_loss: 0.4970\n",
      "Epoch 28/1000\n",
      "20/20 [==============================] - 1s 52ms/step - loss: 1.1522 - val_loss: 0.9451\n",
      "Epoch 29/1000\n",
      "20/20 [==============================] - 1s 52ms/step - loss: 1.3186 - val_loss: 0.6925\n",
      "Epoch 30/1000\n",
      "20/20 [==============================] - 1s 53ms/step - loss: 1.2911 - val_loss: 0.7572\n",
      "Epoch 31/1000\n",
      "20/20 [==============================] - 1s 54ms/step - loss: 1.0538 - val_loss: 0.9489\n",
      "Epoch 32/1000\n",
      "20/20 [==============================] - 1s 51ms/step - loss: 1.0318 - val_loss: 0.9006\n",
      "Epoch 33/1000\n",
      "20/20 [==============================] - 1s 54ms/step - loss: 1.0930 - val_loss: 0.8052\n",
      "Epoch 34/1000\n",
      "20/20 [==============================] - 1s 54ms/step - loss: 1.0461 - val_loss: 0.7460\n",
      "Epoch 35/1000\n",
      "20/20 [==============================] - 1s 57ms/step - loss: 1.0457 - val_loss: 0.8772\n",
      "Epoch 36/1000\n",
      "20/20 [==============================] - 1s 51ms/step - loss: 1.0830 - val_loss: 0.7617\n",
      "Epoch 37/1000\n",
      "20/20 [==============================] - 1s 51ms/step - loss: 0.9213 - val_loss: 0.8659\n",
      "Epoch 38/1000\n",
      "20/20 [==============================] - 1s 54ms/step - loss: 0.9627 - val_loss: 0.8602\n",
      "Epoch 39/1000\n",
      "20/20 [==============================] - 1s 54ms/step - loss: 1.0219 - val_loss: 0.7641\n",
      "Epoch 40/1000\n",
      "20/20 [==============================] - 1s 54ms/step - loss: 0.9967 - val_loss: 0.7913\n",
      "Epoch 41/1000\n",
      "20/20 [==============================] - 1s 55ms/step - loss: 1.1745 - val_loss: 0.6179\n",
      "Epoch 42/1000\n",
      "20/20 [==============================] - 1s 51ms/step - loss: 0.9456 - val_loss: 0.8749\n",
      "Epoch 43/1000\n",
      "20/20 [==============================] - 1s 56ms/step - loss: 1.1775 - val_loss: 0.6527\n",
      "Epoch 44/1000\n",
      "20/20 [==============================] - 1s 55ms/step - loss: 1.0398 - val_loss: 0.6234\n",
      "Epoch 45/1000\n",
      "20/20 [==============================] - 1s 54ms/step - loss: 1.1002 - val_loss: 0.6183\n",
      "Epoch 46/1000\n",
      "20/20 [==============================] - 1s 54ms/step - loss: 1.0122 - val_loss: 0.6569\n",
      "Epoch 47/1000\n",
      "20/20 [==============================] - 1s 56ms/step - loss: 1.0830 - val_loss: 0.6639\n",
      "Epoch 48/1000\n",
      "20/20 [==============================] - 1s 52ms/step - loss: 1.1184 - val_loss: 0.7137\n",
      "Epoch 49/1000\n",
      "20/20 [==============================] - 1s 53ms/step - loss: 1.0403 - val_loss: 0.7126\n",
      "Epoch 50/1000\n",
      "20/20 [==============================] - 1s 52ms/step - loss: 1.0256 - val_loss: 0.6975\n",
      "Epoch 51/1000\n",
      "20/20 [==============================] - 1s 55ms/step - loss: 0.8646 - val_loss: 0.6737\n",
      "Epoch 52/1000\n",
      "20/20 [==============================] - 1s 53ms/step - loss: 1.1147 - val_loss: 0.7086\n",
      "Epoch 53/1000\n",
      "20/20 [==============================] - 1s 53ms/step - loss: 1.0142 - val_loss: 0.7078\n",
      "Epoch 54/1000\n",
      "20/20 [==============================] - 1s 57ms/step - loss: 1.0185 - val_loss: 0.6801\n",
      "Epoch 55/1000\n",
      "20/20 [==============================] - 1s 53ms/step - loss: 1.0473 - val_loss: 0.7251\n",
      "Epoch 56/1000\n",
      "20/20 [==============================] - 1s 51ms/step - loss: 0.8933 - val_loss: 0.7365\n",
      "Epoch 57/1000\n",
      "20/20 [==============================] - 1s 51ms/step - loss: 0.9044 - val_loss: 0.7176\n",
      "Epoch 58/1000\n",
      "20/20 [==============================] - 1s 51ms/step - loss: 1.0050 - val_loss: 0.7098\n",
      "Epoch 59/1000\n",
      "20/20 [==============================] - 1s 54ms/step - loss: 1.0144 - val_loss: 0.6836\n",
      "Epoch 60/1000\n",
      "20/20 [==============================] - 1s 53ms/step - loss: 1.0073 - val_loss: 0.6361\n",
      "Epoch 61/1000\n",
      "20/20 [==============================] - 1s 52ms/step - loss: 0.9974 - val_loss: 0.6999\n",
      "Epoch 62/1000\n",
      "20/20 [==============================] - 1s 55ms/step - loss: 0.9046 - val_loss: 0.7325\n",
      "Epoch 63/1000\n",
      "20/20 [==============================] - 1s 54ms/step - loss: 0.9204 - val_loss: 0.8029\n",
      "Epoch 64/1000\n",
      "20/20 [==============================] - 1s 53ms/step - loss: 0.9611 - val_loss: 0.7861\n",
      "Epoch 65/1000\n",
      "20/20 [==============================] - 1s 49ms/step - loss: 1.0829 - val_loss: 0.7312\n",
      "Epoch 66/1000\n",
      "20/20 [==============================] - 1s 55ms/step - loss: 0.9861 - val_loss: 0.6805\n",
      "Epoch 67/1000\n",
      "20/20 [==============================] - 1s 55ms/step - loss: 1.2787 - val_loss: 0.6562\n",
      "Epoch 68/1000\n",
      "20/20 [==============================] - 1s 52ms/step - loss: 0.9316 - val_loss: 0.6737\n",
      "Epoch 69/1000\n",
      "20/20 [==============================] - 1s 52ms/step - loss: 1.0329 - val_loss: 0.6807\n",
      "Epoch 70/1000\n",
      "20/20 [==============================] - 1s 55ms/step - loss: 1.1700 - val_loss: 0.6816\n",
      "Epoch 71/1000\n",
      "20/20 [==============================] - 1s 56ms/step - loss: 1.0632 - val_loss: 0.6776\n",
      "Epoch 72/1000\n",
      "20/20 [==============================] - 1s 56ms/step - loss: 1.1259 - val_loss: 0.6750\n",
      "Epoch 73/1000\n",
      "20/20 [==============================] - 1s 53ms/step - loss: 0.8767 - val_loss: 0.6810\n",
      "Epoch 74/1000\n",
      "20/20 [==============================] - 1s 55ms/step - loss: 0.9700 - val_loss: 0.6827\n",
      "Epoch 75/1000\n",
      "20/20 [==============================] - 1s 54ms/step - loss: 1.0923 - val_loss: 0.6811\n",
      "Epoch 76/1000\n",
      "20/20 [==============================] - 1s 55ms/step - loss: 1.0208 - val_loss: 0.6807\n",
      "Epoch 77/1000\n",
      "20/20 [==============================] - 1s 54ms/step - loss: 0.9578 - val_loss: 0.6819\n",
      "Epoch 78/1000\n",
      "20/20 [==============================] - 1s 55ms/step - loss: 1.0349 - val_loss: 0.6822\n",
      "Epoch 79/1000\n",
      "20/20 [==============================] - 1s 56ms/step - loss: 0.9919 - val_loss: 0.6805\n",
      "Epoch 80/1000\n",
      "20/20 [==============================] - 1s 54ms/step - loss: 1.0616 - val_loss: 0.6797\n",
      "Epoch 81/1000\n",
      "20/20 [==============================] - 1s 54ms/step - loss: 1.0034 - val_loss: 0.6792\n",
      "Epoch 82/1000\n",
      "20/20 [==============================] - 1s 52ms/step - loss: 1.0321 - val_loss: 0.6760\n",
      "Epoch 83/1000\n",
      "20/20 [==============================] - 1s 53ms/step - loss: 1.0432 - val_loss: 0.6779\n",
      "Epoch 84/1000\n",
      "20/20 [==============================] - 1s 54ms/step - loss: 0.9578 - val_loss: 0.6798\n",
      "Epoch 85/1000\n",
      "20/20 [==============================] - 1s 51ms/step - loss: 0.8814 - val_loss: 0.6762\n",
      "Epoch 86/1000\n",
      "20/20 [==============================] - 1s 53ms/step - loss: 0.8798 - val_loss: 0.6784\n",
      "Epoch 87/1000\n",
      "20/20 [==============================] - 1s 51ms/step - loss: 1.0154 - val_loss: 0.6850\n",
      "Epoch 88/1000\n",
      "20/20 [==============================] - 1s 55ms/step - loss: 1.0786 - val_loss: 0.6902\n",
      "Epoch 89/1000\n",
      "20/20 [==============================] - 1s 52ms/step - loss: 1.1261 - val_loss: 0.6908\n",
      "Epoch 90/1000\n",
      "20/20 [==============================] - 1s 53ms/step - loss: 0.9946 - val_loss: 0.6891\n",
      "Epoch 91/1000\n",
      "20/20 [==============================] - 1s 54ms/step - loss: 1.0274 - val_loss: 0.6910\n",
      "Epoch 92/1000\n",
      "20/20 [==============================] - 1s 54ms/step - loss: 0.9453 - val_loss: 0.6952\n",
      "Epoch 93/1000\n",
      "20/20 [==============================] - 1s 53ms/step - loss: 0.9841 - val_loss: 0.6972\n",
      "Epoch 94/1000\n",
      "20/20 [==============================] - 1s 52ms/step - loss: 0.9667 - val_loss: 0.6972\n",
      "Epoch 95/1000\n",
      "20/20 [==============================] - 1s 53ms/step - loss: 1.0591 - val_loss: 0.6974\n",
      "Epoch 96/1000\n",
      "20/20 [==============================] - 1s 52ms/step - loss: 1.0773 - val_loss: 0.6970\n",
      "Epoch 97/1000\n",
      "20/20 [==============================] - 1s 56ms/step - loss: 0.9405 - val_loss: 0.6964\n",
      "Epoch 98/1000\n",
      "20/20 [==============================] - 1s 52ms/step - loss: 1.0107 - val_loss: 0.6967\n",
      "Epoch 99/1000\n",
      "20/20 [==============================] - 1s 51ms/step - loss: 1.0810 - val_loss: 0.6970\n",
      "Epoch 100/1000\n",
      "20/20 [==============================] - 1s 55ms/step - loss: 0.9804 - val_loss: 0.6972\n",
      "Epoch 101/1000\n",
      "20/20 [==============================] - 1s 53ms/step - loss: 1.0684 - val_loss: 0.6975\n",
      "Epoch 102/1000\n",
      "20/20 [==============================] - 1s 51ms/step - loss: 0.9209 - val_loss: 0.6975\n",
      "Epoch 103/1000\n",
      "20/20 [==============================] - 1s 53ms/step - loss: 1.1641 - val_loss: 0.6973\n",
      "Epoch 104/1000\n",
      "20/20 [==============================] - 1s 55ms/step - loss: 0.9043 - val_loss: 0.6975\n",
      "Epoch 105/1000\n",
      "20/20 [==============================] - 1s 53ms/step - loss: 1.0094 - val_loss: 0.6973\n",
      "Epoch 106/1000\n",
      "20/20 [==============================] - 1s 56ms/step - loss: 0.8696 - val_loss: 0.6973\n",
      "Epoch 107/1000\n",
      "20/20 [==============================] - 1s 56ms/step - loss: 1.0148 - val_loss: 0.6976\n",
      "Epoch 108/1000\n",
      "20/20 [==============================] - 1s 53ms/step - loss: 0.9656 - val_loss: 0.6978\n",
      "Epoch 109/1000\n",
      "20/20 [==============================] - 1s 54ms/step - loss: 0.9758 - val_loss: 0.6980\n",
      "Epoch 110/1000\n",
      "20/20 [==============================] - 1s 54ms/step - loss: 0.9420 - val_loss: 0.6983\n",
      "Epoch 111/1000\n",
      "20/20 [==============================] - 1s 48ms/step - loss: 0.9473 - val_loss: 0.6981\n",
      "Epoch 112/1000\n",
      "20/20 [==============================] - 1s 53ms/step - loss: 0.9945 - val_loss: 0.6980\n",
      "Epoch 113/1000\n",
      "20/20 [==============================] - 1s 53ms/step - loss: 1.0664 - val_loss: 0.6981\n",
      "Epoch 114/1000\n",
      "20/20 [==============================] - 1s 53ms/step - loss: 1.1071 - val_loss: 0.6981\n",
      "Epoch 115/1000\n",
      "20/20 [==============================] - 1s 53ms/step - loss: 0.9443 - val_loss: 0.6985\n",
      "Epoch 116/1000\n",
      "20/20 [==============================] - 1s 53ms/step - loss: 1.2558 - val_loss: 0.6983\n",
      "Epoch 117/1000\n",
      "20/20 [==============================] - 1s 53ms/step - loss: 0.9878 - val_loss: 0.6987\n",
      "Epoch 118/1000\n",
      "19/20 [===========================>..] - ETA: 0s - loss: 0.9775Restoring model weights from the end of the best epoch.\n",
      "20/20 [==============================] - 1s 52ms/step - loss: 0.9777 - val_loss: 0.6991\n",
      "Epoch 00118: early stopping\n"
     ]
    }
   ],
   "source": [
    "# History object for plotting our model loss by epoch\n",
    "history2 = model2.fit(x_train, y_train, batch_size = BATCH2, \n",
    "                    epochs = EPOCHS2, validation_data = (x_val, y_val),\n",
    "                    callbacks = [rlrop2, early_stop2])"
   ]
  },
  {
   "cell_type": "code",
   "execution_count": 40,
   "metadata": {
    "scrolled": false
   },
   "outputs": [
    {
     "data": {
      "image/png": "[encoded data removed]",
      "text/plain": [
       "<Figure size 720x504 with 1 Axes>"
      ]
     },
     "metadata": {
      "needs_background": "light"
     },
     "output_type": "display_data"
    }
   ],
   "source": [
    "# Loss History\n",
    "fig = plt.figure(figsize=(10, 7))\n",
    "plt.plot(history2.history['loss'])\n",
    "plt.plot(history2.history['val_loss'])\n",
    "plt.title('Model Loss')\n",
    "plt.ylabel('Loss')\n",
    "plt.xlabel('Epoch')\n",
    "plt.legend(['Train', 'Val'], loc='upper right')\n",
    "plt.show()"
   ]
  },
  {
   "cell_type": "markdown",
   "metadata": {},
   "source": [
    "### Previsão 12 meses em Validação"
   ]
  },
  {
   "cell_type": "code",
   "execution_count": 41,
   "metadata": {},
   "outputs": [
    {
     "data": {
      "text/plain": [
       "array([[9.9209236e+09],\n",
       "       [9.8723932e+09],\n",
       "       [1.0267231e+10],\n",
       "       [1.0052814e+10],\n",
       "       [1.0090253e+10],\n",
       "       [1.0138058e+10],\n",
       "       [1.0061753e+10],\n",
       "       [1.0202712e+10],\n",
       "       [1.0018836e+10],\n",
       "       [9.8846403e+09],\n",
       "       [9.9660431e+09],\n",
       "       [1.0150711e+10]], dtype=float32)"
      ]
     },
     "execution_count": 41,
     "metadata": {},
     "output_type": "execute_result"
    }
   ],
   "source": [
    "Y_pred_val2 = np.exp(model2.predict(x_val))\n",
    "Y_pred_val2"
   ]
  },
  {
   "cell_type": "code",
   "execution_count": 42,
   "metadata": {},
   "outputs": [
    {
     "data": {
      "text/plain": [
       "date\n",
       "2016-01-01    9.920924e+09\n",
       "2016-02-01    9.872393e+09\n",
       "2016-03-01    1.026723e+10\n",
       "2016-04-01    1.005281e+10\n",
       "2016-05-01    1.009025e+10\n",
       "2016-06-01    1.013806e+10\n",
       "2016-07-01    1.006175e+10\n",
       "2016-08-01    1.020271e+10\n",
       "2016-09-01    1.001884e+10\n",
       "2016-10-01    9.884640e+09\n",
       "2016-11-01    9.966043e+09\n",
       "2016-12-01    1.015071e+10\n",
       "dtype: float32"
      ]
     },
     "execution_count": 42,
     "metadata": {},
     "output_type": "execute_result"
    }
   ],
   "source": [
    "y_pred_val2 = pd.Series(Y_pred_val2.ravel())\n",
    "y_pred_val2.index = icms_val.index\n",
    "y_pred_val2"
   ]
  },
  {
   "cell_type": "code",
   "execution_count": 43,
   "metadata": {},
   "outputs": [
    {
     "data": {
      "text/plain": [
       "array([1.00490973e+10, 1.00231253e+10, 1.00348656e+10, 9.83806479e+09,\n",
       "       9.98441012e+09, 9.88370418e+09, 9.56931705e+09, 1.01219927e+10,\n",
       "       1.00397240e+10, 1.04034689e+10, 1.02653493e+10, 1.09800382e+10])"
      ]
     },
     "execution_count": 43,
     "metadata": {},
     "output_type": "execute_result"
    }
   ],
   "source": [
    "np.exp(y_val).ravel()"
   ]
  },
  {
   "cell_type": "code",
   "execution_count": 44,
   "metadata": {},
   "outputs": [
    {
     "data": {
      "text/plain": [
       "354865462.977378"
      ]
     },
     "execution_count": 44,
     "metadata": {},
     "output_type": "execute_result"
    }
   ],
   "source": [
    "RMSE_lstm_val2 = mean_squared_error(np.exp(y_val).ravel(), y_pred_val2, squared=False)\n",
    "RMSE_lstm_val2"
   ]
  },
  {
   "cell_type": "code",
   "execution_count": 45,
   "metadata": {},
   "outputs": [
    {
     "data": {
      "text/plain": [
       "0.027098834680984812"
      ]
     },
     "execution_count": 45,
     "metadata": {},
     "output_type": "execute_result"
    }
   ],
   "source": [
    "MAPE_lstm_val2 = mean_absolute_percentage_error(np.exp(y_val).ravel(), y_pred_val2)\n",
    "MAPE_lstm_val2"
   ]
  },
  {
   "cell_type": "code",
   "execution_count": 46,
   "metadata": {},
   "outputs": [],
   "source": [
    "previsoes['nome'].append('RNN-LSTM-Larga')\n",
    "previsoes['modelo'].append(model2)\n",
    "previsoes['previsoes'].append(y_pred_val2)\n",
    "\n",
    "previsoes['rmse'].append(RMSE_lstm_val2)\n",
    "\n",
    "previsoes['mape'].append(MAPE_lstm_val2)"
   ]
  },
  {
   "cell_type": "code",
   "execution_count": 47,
   "metadata": {},
   "outputs": [],
   "source": [
    "previsoes['erro relativo'].append([erro_relativo(prev,real) \n",
    "                                   for prev,real in zip(y_pred_val2, y_test)])"
   ]
  },
  {
   "cell_type": "markdown",
   "metadata": {},
   "source": [
    "## Resultados"
   ]
  },
  {
   "cell_type": "code",
   "execution_count": 48,
   "metadata": {},
   "outputs": [],
   "source": [
    "df_prev = pd.DataFrame(data=previsoes['previsoes'], \n",
    "                       index=previsoes['nome']).transpose()\n",
    "df_prev[\"real\"] = icms_val\n",
    "df_rmse = pd.DataFrame(data=previsoes['rmse'], \n",
    "                       index=previsoes['nome']).transpose()\n",
    "df_mape = pd.DataFrame(data=previsoes['mape'], \n",
    "                       index=previsoes['nome']).transpose()\n",
    "df_erro = pd.DataFrame(data=previsoes['erro relativo'], \n",
    "                       index=previsoes['nome']).transpose()"
   ]
  },
  {
   "cell_type": "code",
   "execution_count": 49,
   "metadata": {},
   "outputs": [
    {
     "data": {
      "text/html": [
       "<div>\n",
       "<style scoped>\n",
       "    .dataframe tbody tr th:only-of-type {\n",
       "        vertical-align: middle;\n",
       "    }\n",
       "\n",
       "    .dataframe tbody tr th {\n",
       "        vertical-align: top;\n",
       "    }\n",
       "\n",
       "    .dataframe thead th {\n",
       "        text-align: right;\n",
       "    }\n",
       "</style>\n",
       "<table border=\"1\" class=\"dataframe\">\n",
       "  <thead>\n",
       "    <tr style=\"text-align: right;\">\n",
       "      <th></th>\n",
       "      <th>RNN-LSTM-Camadas</th>\n",
       "      <th>RNN-LSTM-Larga</th>\n",
       "      <th>real</th>\n",
       "    </tr>\n",
       "    <tr>\n",
       "      <th>date</th>\n",
       "      <th></th>\n",
       "      <th></th>\n",
       "      <th></th>\n",
       "    </tr>\n",
       "  </thead>\n",
       "  <tbody>\n",
       "    <tr>\n",
       "      <th>2016-01-01</th>\n",
       "      <td>9.859710e+09</td>\n",
       "      <td>9.920924e+09</td>\n",
       "      <td>1.004910e+10</td>\n",
       "    </tr>\n",
       "    <tr>\n",
       "      <th>2016-02-01</th>\n",
       "      <td>9.728090e+09</td>\n",
       "      <td>9.872393e+09</td>\n",
       "      <td>1.002313e+10</td>\n",
       "    </tr>\n",
       "    <tr>\n",
       "      <th>2016-03-01</th>\n",
       "      <td>1.008294e+10</td>\n",
       "      <td>1.026723e+10</td>\n",
       "      <td>1.003487e+10</td>\n",
       "    </tr>\n",
       "    <tr>\n",
       "      <th>2016-04-01</th>\n",
       "      <td>9.929764e+09</td>\n",
       "      <td>1.005281e+10</td>\n",
       "      <td>9.838065e+09</td>\n",
       "    </tr>\n",
       "    <tr>\n",
       "      <th>2016-05-01</th>\n",
       "      <td>1.000890e+10</td>\n",
       "      <td>1.009025e+10</td>\n",
       "      <td>9.984410e+09</td>\n",
       "    </tr>\n",
       "    <tr>\n",
       "      <th>2016-06-01</th>\n",
       "      <td>1.005506e+10</td>\n",
       "      <td>1.013806e+10</td>\n",
       "      <td>9.883704e+09</td>\n",
       "    </tr>\n",
       "    <tr>\n",
       "      <th>2016-07-01</th>\n",
       "      <td>9.974696e+09</td>\n",
       "      <td>1.006175e+10</td>\n",
       "      <td>9.569317e+09</td>\n",
       "    </tr>\n",
       "    <tr>\n",
       "      <th>2016-08-01</th>\n",
       "      <td>1.013299e+10</td>\n",
       "      <td>1.020271e+10</td>\n",
       "      <td>1.012199e+10</td>\n",
       "    </tr>\n",
       "    <tr>\n",
       "      <th>2016-09-01</th>\n",
       "      <td>9.952879e+09</td>\n",
       "      <td>1.001884e+10</td>\n",
       "      <td>1.003972e+10</td>\n",
       "    </tr>\n",
       "    <tr>\n",
       "      <th>2016-10-01</th>\n",
       "      <td>9.745008e+09</td>\n",
       "      <td>9.884640e+09</td>\n",
       "      <td>1.040347e+10</td>\n",
       "    </tr>\n",
       "    <tr>\n",
       "      <th>2016-11-01</th>\n",
       "      <td>9.714035e+09</td>\n",
       "      <td>9.966043e+09</td>\n",
       "      <td>1.026535e+10</td>\n",
       "    </tr>\n",
       "    <tr>\n",
       "      <th>2016-12-01</th>\n",
       "      <td>9.938310e+09</td>\n",
       "      <td>1.015071e+10</td>\n",
       "      <td>1.098004e+10</td>\n",
       "    </tr>\n",
       "  </tbody>\n",
       "</table>\n",
       "</div>"
      ],
      "text/plain": [
       "            RNN-LSTM-Camadas  RNN-LSTM-Larga          real\n",
       "date                                                      \n",
       "2016-01-01      9.859710e+09    9.920924e+09  1.004910e+10\n",
       "2016-02-01      9.728090e+09    9.872393e+09  1.002313e+10\n",
       "2016-03-01      1.008294e+10    1.026723e+10  1.003487e+10\n",
       "2016-04-01      9.929764e+09    1.005281e+10  9.838065e+09\n",
       "2016-05-01      1.000890e+10    1.009025e+10  9.984410e+09\n",
       "2016-06-01      1.005506e+10    1.013806e+10  9.883704e+09\n",
       "2016-07-01      9.974696e+09    1.006175e+10  9.569317e+09\n",
       "2016-08-01      1.013299e+10    1.020271e+10  1.012199e+10\n",
       "2016-09-01      9.952879e+09    1.001884e+10  1.003972e+10\n",
       "2016-10-01      9.745008e+09    9.884640e+09  1.040347e+10\n",
       "2016-11-01      9.714035e+09    9.966043e+09  1.026535e+10\n",
       "2016-12-01      9.938310e+09    1.015071e+10  1.098004e+10"
      ]
     },
     "execution_count": 49,
     "metadata": {},
     "output_type": "execute_result"
    }
   ],
   "source": [
    "df_prev"
   ]
  },
  {
   "cell_type": "code",
   "execution_count": 50,
   "metadata": {},
   "outputs": [
    {
     "data": {
      "text/html": [
       "<div>\n",
       "<style scoped>\n",
       "    .dataframe tbody tr th:only-of-type {\n",
       "        vertical-align: middle;\n",
       "    }\n",
       "\n",
       "    .dataframe tbody tr th {\n",
       "        vertical-align: top;\n",
       "    }\n",
       "\n",
       "    .dataframe thead th {\n",
       "        text-align: right;\n",
       "    }\n",
       "</style>\n",
       "<table border=\"1\" class=\"dataframe\">\n",
       "  <thead>\n",
       "    <tr style=\"text-align: right;\">\n",
       "      <th></th>\n",
       "      <th>RNN-LSTM-Camadas</th>\n",
       "      <th>RNN-LSTM-Larga</th>\n",
       "    </tr>\n",
       "  </thead>\n",
       "  <tbody>\n",
       "    <tr>\n",
       "      <th>0</th>\n",
       "      <td>[8.101079245866787]</td>\n",
       "      <td>[7.530527715937603]</td>\n",
       "    </tr>\n",
       "    <tr>\n",
       "      <th>1</th>\n",
       "      <td>[0.043256095501310016]</td>\n",
       "      <td>[1.4394674653505326]</td>\n",
       "    </tr>\n",
       "    <tr>\n",
       "      <th>2</th>\n",
       "      <td>[0.42257570453897697]</td>\n",
       "      <td>[2.2580220998690086]</td>\n",
       "    </tr>\n",
       "    <tr>\n",
       "      <th>3</th>\n",
       "      <td>[6.987033586048733]</td>\n",
       "      <td>[5.834413623132351]</td>\n",
       "    </tr>\n",
       "    <tr>\n",
       "      <th>4</th>\n",
       "      <td>[1.3223673277714898]</td>\n",
       "      <td>[0.5203526922027195]</td>\n",
       "    </tr>\n",
       "    <tr>\n",
       "      <th>5</th>\n",
       "      <td>[5.038077202863652]</td>\n",
       "      <td>[4.254196245862889]</td>\n",
       "    </tr>\n",
       "    <tr>\n",
       "      <th>6</th>\n",
       "      <td>[3.7831866657051862]</td>\n",
       "      <td>[2.9434230850759207]</td>\n",
       "    </tr>\n",
       "    <tr>\n",
       "      <th>7</th>\n",
       "      <td>[5.159612318419767]</td>\n",
       "      <td>[4.507062913570283]</td>\n",
       "    </tr>\n",
       "    <tr>\n",
       "      <th>8</th>\n",
       "      <td>[8.620977671008758]</td>\n",
       "      <td>[8.015407406626185]</td>\n",
       "    </tr>\n",
       "    <tr>\n",
       "      <th>9</th>\n",
       "      <td>[11.547437519014537]</td>\n",
       "      <td>[10.280033192546234]</td>\n",
       "    </tr>\n",
       "    <tr>\n",
       "      <th>10</th>\n",
       "      <td>[13.597204049352584]</td>\n",
       "      <td>[11.355680809037041]</td>\n",
       "    </tr>\n",
       "    <tr>\n",
       "      <th>11</th>\n",
       "      <td>[13.201680999704143]</td>\n",
       "      <td>[11.346630927790596]</td>\n",
       "    </tr>\n",
       "  </tbody>\n",
       "</table>\n",
       "</div>"
      ],
      "text/plain": [
       "          RNN-LSTM-Camadas        RNN-LSTM-Larga\n",
       "0      [8.101079245866787]   [7.530527715937603]\n",
       "1   [0.043256095501310016]  [1.4394674653505326]\n",
       "2    [0.42257570453897697]  [2.2580220998690086]\n",
       "3      [6.987033586048733]   [5.834413623132351]\n",
       "4     [1.3223673277714898]  [0.5203526922027195]\n",
       "5      [5.038077202863652]   [4.254196245862889]\n",
       "6     [3.7831866657051862]  [2.9434230850759207]\n",
       "7      [5.159612318419767]   [4.507062913570283]\n",
       "8      [8.620977671008758]   [8.015407406626185]\n",
       "9     [11.547437519014537]  [10.280033192546234]\n",
       "10    [13.597204049352584]  [11.355680809037041]\n",
       "11    [13.201680999704143]  [11.346630927790596]"
      ]
     },
     "execution_count": 50,
     "metadata": {},
     "output_type": "execute_result"
    }
   ],
   "source": [
    "df_erro"
   ]
  },
  {
   "cell_type": "markdown",
   "metadata": {},
   "source": [
    "### Resultados"
   ]
  },
  {
   "cell_type": "code",
   "execution_count": 51,
   "metadata": {
    "scrolled": false
   },
   "outputs": [
    {
     "data": {
      "image/png": "[encoded data removed]",
      "text/plain": [
       "<Figure size 1080x720 with 1 Axes>"
      ]
     },
     "metadata": {
      "needs_background": "light"
     },
     "output_type": "display_data"
    }
   ],
   "source": [
    "fig = plt.figure(figsize=(15, 10))\n",
    "ax = sns.lineplot(data=df_prev)"
   ]
  },
  {
   "cell_type": "markdown",
   "metadata": {},
   "source": [
    "#### RMSE"
   ]
  },
  {
   "cell_type": "code",
   "execution_count": 52,
   "metadata": {},
   "outputs": [
    {
     "data": {
      "image/png": "[encoded data removed]",
      "text/plain": [
       "<Figure size 1080x720 with 1 Axes>"
      ]
     },
     "metadata": {
      "needs_background": "light"
     },
     "output_type": "display_data"
    }
   ],
   "source": [
    "fig = plt.figure(figsize=(15, 10))\n",
    "ax = sns.barplot(data=df_rmse)"
   ]
  },
  {
   "cell_type": "markdown",
   "metadata": {},
   "source": [
    "#### MAPE"
   ]
  },
  {
   "cell_type": "code",
   "execution_count": 53,
   "metadata": {
    "scrolled": false
   },
   "outputs": [
    {
     "data": {
      "image/png": "[encoded data removed]",
      "text/plain": [
       "<Figure size 1080x720 with 1 Axes>"
      ]
     },
     "metadata": {
      "needs_background": "light"
     },
     "output_type": "display_data"
    }
   ],
   "source": [
    "fig = plt.figure(figsize=(15, 10))\n",
    "ax = sns.barplot(data=df_mape)"
   ]
  },
  {
   "cell_type": "markdown",
   "metadata": {},
   "source": [
    "### Resumo das métricas"
   ]
  },
  {
   "cell_type": "code",
   "execution_count": 54,
   "metadata": {},
   "outputs": [],
   "source": [
    "df_rmse.index = ['RMSE']\n",
    "df_mape.index = ['MAPE']"
   ]
  },
  {
   "cell_type": "code",
   "execution_count": 55,
   "metadata": {},
   "outputs": [
    {
     "data": {
      "text/html": [
       "<div>\n",
       "<style scoped>\n",
       "    .dataframe tbody tr th:only-of-type {\n",
       "        vertical-align: middle;\n",
       "    }\n",
       "\n",
       "    .dataframe tbody tr th {\n",
       "        vertical-align: top;\n",
       "    }\n",
       "\n",
       "    .dataframe thead th {\n",
       "        text-align: right;\n",
       "    }\n",
       "</style>\n",
       "<table border=\"1\" class=\"dataframe\">\n",
       "  <thead>\n",
       "    <tr style=\"text-align: right;\">\n",
       "      <th></th>\n",
       "      <th>RNN-LSTM-Camadas</th>\n",
       "      <th>RNN-LSTM-Larga</th>\n",
       "    </tr>\n",
       "  </thead>\n",
       "  <tbody>\n",
       "    <tr>\n",
       "      <th>RMSE</th>\n",
       "      <td>4.240977e+08</td>\n",
       "      <td>3.548655e+08</td>\n",
       "    </tr>\n",
       "    <tr>\n",
       "      <th>MAPE</th>\n",
       "      <td>2.884637e-02</td>\n",
       "      <td>2.709883e-02</td>\n",
       "    </tr>\n",
       "  </tbody>\n",
       "</table>\n",
       "</div>"
      ],
      "text/plain": [
       "      RNN-LSTM-Camadas  RNN-LSTM-Larga\n",
       "RMSE      4.240977e+08    3.548655e+08\n",
       "MAPE      2.884637e-02    2.709883e-02"
      ]
     },
     "execution_count": 55,
     "metadata": {},
     "output_type": "execute_result"
    }
   ],
   "source": [
    "df_metricas = df_rmse.copy()\n",
    "df_metricas = df_metricas.append(df_mape)\n",
    "df_metricas"
   ]
  },
  {
   "cell_type": "code",
   "execution_count": 56,
   "metadata": {},
   "outputs": [
    {
     "name": "stdout",
     "output_type": "stream",
     "text": [
      "(2, 2) (2, 2)\n"
     ]
    }
   ],
   "source": [
    "m1 = np.array([[2,3],[1,-1]])\n",
    "m2 = np.array([[1,2],[3,1]])\n",
    "print(m1.shape, m2.shape)"
   ]
  },
  {
   "cell_type": "code",
   "execution_count": 57,
   "metadata": {},
   "outputs": [
    {
     "data": {
      "text/plain": [
       "array([[11,  7],\n",
       "       [-2,  1]])"
      ]
     },
     "execution_count": 57,
     "metadata": {},
     "output_type": "execute_result"
    }
   ],
   "source": [
    "m1@m2"
   ]
  },
  {
   "cell_type": "code",
   "execution_count": null,
   "metadata": {},
   "outputs": [],
   "source": []
  }
 ],
 "metadata": {
  "kernelspec": {
   "display_name": "Python 3",
   "language": "python",
   "name": "python3"
  },
  "language_info": {
   "codemirror_mode": {
    "name": "ipython",
    "version": 3
   },
   "file_extension": ".py",
   "mimetype": "text/x-python",
   "name": "python",
   "nbconvert_exporter": "python",
   "pygments_lexer": "ipython3",
   "version": "3.6.4"
  }
 },
 "nbformat": 4,
 "nbformat_minor": 2
}
