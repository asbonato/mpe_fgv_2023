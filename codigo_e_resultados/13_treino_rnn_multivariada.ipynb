{
 "cells": [
  {
   "cell_type": "markdown",
   "metadata": {},
   "source": [
    "# Aplicação de Modelos de Markov e Redes Neurais LSTM na Previsão de Arrecadação do ICMS Paulista\n",
    "## Resultados 2013\n",
    "\n",
    "### Antonio Sergio Ferreira Bonato"
   ]
  },
  {
   "cell_type": "markdown",
   "metadata": {},
   "source": [
    "Atualmente, na Secretaria da Fazenda e Planejamento do Estado de São Paulo, a previsão de arrecadação do ICMS paulista é feita usando-se um modelo ARIMA com variáveis exógenas, o ARIMAX. Mas o ICMS é não linear e há várias quebras estruturais controladas com diversas *dummies*. A consequência é um modelo bastante sobreajustado, inadequado para previsões de mais longo prazo (mais do que alguns meses, muito menos para um ano). \n",
    "A proposta deste trabalho é utilizar modelos não lineares multivariados na previsão do ICMS paulista, utilizando redes neurais recorrentes LSTM (*Long Short Term Memory*) e modelos Markov-Switching, fazendo um contraponto entre estes dois modelos. E utilizar, como baseline de comparação, o modelo ARIMAX atual. \n",
    "\n",
    "**Palavras-chave**: Markov-Switching Models. Redes Neurais Recorrentes. LSTM. ICMS."
   ]
  },
  {
   "cell_type": "markdown",
   "metadata": {},
   "source": [
    "## Treino das RNN-LSTM Multivariadas"
   ]
  },
  {
   "cell_type": "code",
   "execution_count": 2,
   "metadata": {},
   "outputs": [],
   "source": [
    "import pandas as pd\n",
    "import numpy as np\n",
    "import seaborn as sns\n",
    "import matplotlib.pyplot as plt\n",
    "import statsmodels.tsa.stattools\n",
    "import statsmodels.tsa.x13\n",
    "import statsmodels.graphics.tsaplots\n",
    "import statsmodels.api as sm\n",
    "from statsmodels.graphics.api import qqplot\n",
    "from statsmodels.tsa.api import acf, graphics, pacf\n",
    "from statsmodels.tsa.arima.model import ARIMA\n",
    "import pickle\n",
    "from pmdarima.arima import auto_arima\n",
    "from sklearn.metrics import mean_squared_error, mean_absolute_percentage_error\n",
    "import random\n",
    "import tensorflow as tf\n",
    "seed = 42\n",
    "random.seed(seed)\n",
    "np.random.seed(seed)\n",
    "tf.random.set_seed(seed)\n",
    "\n",
    "sns.set()\n",
    "sns.set_context(\"notebook\")\n",
    "sns.set(rc={'figure.figsize':(15,8)})"
   ]
  },
  {
   "cell_type": "code",
   "execution_count": 3,
   "metadata": {},
   "outputs": [],
   "source": [
    "import warnings\n",
    "warnings.filterwarnings('ignore')\n",
    "warnings.simplefilter('ignore')"
   ]
  },
  {
   "cell_type": "code",
   "execution_count": 4,
   "metadata": {},
   "outputs": [
    {
     "data": {
      "text/html": [
       "<div>\n",
       "<style scoped>\n",
       "    .dataframe tbody tr th:only-of-type {\n",
       "        vertical-align: middle;\n",
       "    }\n",
       "\n",
       "    .dataframe tbody tr th {\n",
       "        vertical-align: top;\n",
       "    }\n",
       "\n",
       "    .dataframe thead th {\n",
       "        text-align: right;\n",
       "    }\n",
       "</style>\n",
       "<table border=\"1\" class=\"dataframe\">\n",
       "  <thead>\n",
       "    <tr style=\"text-align: right;\">\n",
       "      <th></th>\n",
       "      <th>date</th>\n",
       "      <th>icms_sp</th>\n",
       "      <th>igp_m</th>\n",
       "      <th>dolar</th>\n",
       "      <th>ibc_br</th>\n",
       "      <th>dias_uteis</th>\n",
       "      <th>igp_m_22</th>\n",
       "      <th>dolar_22</th>\n",
       "      <th>ibc_br_22</th>\n",
       "      <th>igp_m_21</th>\n",
       "      <th>...</th>\n",
       "      <th>ibc_br_16</th>\n",
       "      <th>igp_m_15</th>\n",
       "      <th>dolar_15</th>\n",
       "      <th>ibc_br_15</th>\n",
       "      <th>igp_m_14</th>\n",
       "      <th>dolar_14</th>\n",
       "      <th>ibc_br_14</th>\n",
       "      <th>igp_m_13</th>\n",
       "      <th>dolar_13</th>\n",
       "      <th>ibc_br_13</th>\n",
       "    </tr>\n",
       "  </thead>\n",
       "  <tbody>\n",
       "    <tr>\n",
       "      <th>0</th>\n",
       "      <td>2003-01-01</td>\n",
       "      <td>3.360296e+09</td>\n",
       "      <td>277.173</td>\n",
       "      <td>3.4384</td>\n",
       "      <td>96.15</td>\n",
       "      <td>22</td>\n",
       "      <td>277.173</td>\n",
       "      <td>3.4384</td>\n",
       "      <td>96.15</td>\n",
       "      <td>277.173</td>\n",
       "      <td>...</td>\n",
       "      <td>96.15</td>\n",
       "      <td>277.173</td>\n",
       "      <td>3.4384</td>\n",
       "      <td>96.15</td>\n",
       "      <td>277.173</td>\n",
       "      <td>3.4384</td>\n",
       "      <td>96.15</td>\n",
       "      <td>277.173</td>\n",
       "      <td>3.4384</td>\n",
       "      <td>96.15</td>\n",
       "    </tr>\n",
       "    <tr>\n",
       "      <th>1</th>\n",
       "      <td>2003-02-01</td>\n",
       "      <td>3.196558e+09</td>\n",
       "      <td>283.506</td>\n",
       "      <td>3.5908</td>\n",
       "      <td>98.67</td>\n",
       "      <td>20</td>\n",
       "      <td>283.506</td>\n",
       "      <td>3.5908</td>\n",
       "      <td>98.67</td>\n",
       "      <td>283.506</td>\n",
       "      <td>...</td>\n",
       "      <td>98.67</td>\n",
       "      <td>283.506</td>\n",
       "      <td>3.5908</td>\n",
       "      <td>98.67</td>\n",
       "      <td>283.506</td>\n",
       "      <td>3.5908</td>\n",
       "      <td>98.67</td>\n",
       "      <td>283.506</td>\n",
       "      <td>3.5908</td>\n",
       "      <td>98.67</td>\n",
       "    </tr>\n",
       "    <tr>\n",
       "      <th>2</th>\n",
       "      <td>2003-03-01</td>\n",
       "      <td>3.160011e+09</td>\n",
       "      <td>287.855</td>\n",
       "      <td>3.4469</td>\n",
       "      <td>103.41</td>\n",
       "      <td>19</td>\n",
       "      <td>287.855</td>\n",
       "      <td>3.4469</td>\n",
       "      <td>103.41</td>\n",
       "      <td>287.855</td>\n",
       "      <td>...</td>\n",
       "      <td>103.41</td>\n",
       "      <td>287.855</td>\n",
       "      <td>3.4469</td>\n",
       "      <td>103.41</td>\n",
       "      <td>287.855</td>\n",
       "      <td>3.4469</td>\n",
       "      <td>103.41</td>\n",
       "      <td>287.855</td>\n",
       "      <td>3.4469</td>\n",
       "      <td>103.41</td>\n",
       "    </tr>\n",
       "    <tr>\n",
       "      <th>3</th>\n",
       "      <td>2003-04-01</td>\n",
       "      <td>3.215307e+09</td>\n",
       "      <td>290.512</td>\n",
       "      <td>3.1187</td>\n",
       "      <td>102.19</td>\n",
       "      <td>20</td>\n",
       "      <td>290.512</td>\n",
       "      <td>3.1187</td>\n",
       "      <td>102.19</td>\n",
       "      <td>290.512</td>\n",
       "      <td>...</td>\n",
       "      <td>102.19</td>\n",
       "      <td>290.512</td>\n",
       "      <td>3.1187</td>\n",
       "      <td>102.19</td>\n",
       "      <td>290.512</td>\n",
       "      <td>3.1187</td>\n",
       "      <td>102.19</td>\n",
       "      <td>290.512</td>\n",
       "      <td>3.1187</td>\n",
       "      <td>102.19</td>\n",
       "    </tr>\n",
       "    <tr>\n",
       "      <th>4</th>\n",
       "      <td>2003-05-01</td>\n",
       "      <td>3.098930e+09</td>\n",
       "      <td>289.747</td>\n",
       "      <td>2.9557</td>\n",
       "      <td>100.30</td>\n",
       "      <td>21</td>\n",
       "      <td>289.747</td>\n",
       "      <td>2.9557</td>\n",
       "      <td>100.30</td>\n",
       "      <td>289.747</td>\n",
       "      <td>...</td>\n",
       "      <td>100.30</td>\n",
       "      <td>289.747</td>\n",
       "      <td>2.9557</td>\n",
       "      <td>100.30</td>\n",
       "      <td>289.747</td>\n",
       "      <td>2.9557</td>\n",
       "      <td>100.30</td>\n",
       "      <td>289.747</td>\n",
       "      <td>2.9557</td>\n",
       "      <td>100.30</td>\n",
       "    </tr>\n",
       "  </tbody>\n",
       "</table>\n",
       "<p>5 rows × 36 columns</p>\n",
       "</div>"
      ],
      "text/plain": [
       "        date       icms_sp    igp_m   dolar  ibc_br  dias_uteis  igp_m_22  \\\n",
       "0 2003-01-01  3.360296e+09  277.173  3.4384   96.15          22   277.173   \n",
       "1 2003-02-01  3.196558e+09  283.506  3.5908   98.67          20   283.506   \n",
       "2 2003-03-01  3.160011e+09  287.855  3.4469  103.41          19   287.855   \n",
       "3 2003-04-01  3.215307e+09  290.512  3.1187  102.19          20   290.512   \n",
       "4 2003-05-01  3.098930e+09  289.747  2.9557  100.30          21   289.747   \n",
       "\n",
       "   dolar_22  ibc_br_22  igp_m_21  ...  ibc_br_16  igp_m_15  dolar_15  \\\n",
       "0    3.4384      96.15   277.173  ...      96.15   277.173    3.4384   \n",
       "1    3.5908      98.67   283.506  ...      98.67   283.506    3.5908   \n",
       "2    3.4469     103.41   287.855  ...     103.41   287.855    3.4469   \n",
       "3    3.1187     102.19   290.512  ...     102.19   290.512    3.1187   \n",
       "4    2.9557     100.30   289.747  ...     100.30   289.747    2.9557   \n",
       "\n",
       "   ibc_br_15  igp_m_14  dolar_14  ibc_br_14  igp_m_13  dolar_13  ibc_br_13  \n",
       "0      96.15   277.173    3.4384      96.15   277.173    3.4384      96.15  \n",
       "1      98.67   283.506    3.5908      98.67   283.506    3.5908      98.67  \n",
       "2     103.41   287.855    3.4469     103.41   287.855    3.4469     103.41  \n",
       "3     102.19   290.512    3.1187     102.19   290.512    3.1187     102.19  \n",
       "4     100.30   289.747    2.9557     100.30   289.747    2.9557     100.30  \n",
       "\n",
       "[5 rows x 36 columns]"
      ]
     },
     "execution_count": 4,
     "metadata": {},
     "output_type": "execute_result"
    }
   ],
   "source": [
    "df_main_orig = pd.read_excel(\"variaveis_previsao.xlsx\", parse_dates=['date'])\n",
    "df_main_orig.head()"
   ]
  },
  {
   "cell_type": "code",
   "execution_count": 5,
   "metadata": {},
   "outputs": [
    {
     "data": {
      "text/html": [
       "<div>\n",
       "<style scoped>\n",
       "    .dataframe tbody tr th:only-of-type {\n",
       "        vertical-align: middle;\n",
       "    }\n",
       "\n",
       "    .dataframe tbody tr th {\n",
       "        vertical-align: top;\n",
       "    }\n",
       "\n",
       "    .dataframe thead th {\n",
       "        text-align: right;\n",
       "    }\n",
       "</style>\n",
       "<table border=\"1\" class=\"dataframe\">\n",
       "  <thead>\n",
       "    <tr style=\"text-align: right;\">\n",
       "      <th></th>\n",
       "      <th>date</th>\n",
       "      <th>icms_sp</th>\n",
       "      <th>igp_m</th>\n",
       "      <th>dolar</th>\n",
       "      <th>ibc_br</th>\n",
       "      <th>dias_uteis</th>\n",
       "      <th>igp_m_22</th>\n",
       "      <th>dolar_22</th>\n",
       "      <th>ibc_br_22</th>\n",
       "      <th>igp_m_21</th>\n",
       "      <th>...</th>\n",
       "      <th>ibc_br_16</th>\n",
       "      <th>igp_m_15</th>\n",
       "      <th>dolar_15</th>\n",
       "      <th>ibc_br_15</th>\n",
       "      <th>igp_m_14</th>\n",
       "      <th>dolar_14</th>\n",
       "      <th>ibc_br_14</th>\n",
       "      <th>igp_m_13</th>\n",
       "      <th>dolar_13</th>\n",
       "      <th>ibc_br_13</th>\n",
       "    </tr>\n",
       "  </thead>\n",
       "  <tbody>\n",
       "    <tr>\n",
       "      <th>235</th>\n",
       "      <td>2022-08-01</td>\n",
       "      <td>1.756224e+10</td>\n",
       "      <td>1185.004</td>\n",
       "      <td>5.143287</td>\n",
       "      <td>149.60</td>\n",
       "      <td>23</td>\n",
       "      <td>1137.167829</td>\n",
       "      <td>5.6496</td>\n",
       "      <td>146.408337</td>\n",
       "      <td>NaN</td>\n",
       "      <td>...</td>\n",
       "      <td>NaN</td>\n",
       "      <td>NaN</td>\n",
       "      <td>NaN</td>\n",
       "      <td>NaN</td>\n",
       "      <td>NaN</td>\n",
       "      <td>NaN</td>\n",
       "      <td>NaN</td>\n",
       "      <td>NaN</td>\n",
       "      <td>NaN</td>\n",
       "      <td>NaN</td>\n",
       "    </tr>\n",
       "    <tr>\n",
       "      <th>236</th>\n",
       "      <td>2022-09-01</td>\n",
       "      <td>1.726287e+10</td>\n",
       "      <td>1173.793</td>\n",
       "      <td>5.236957</td>\n",
       "      <td>144.44</td>\n",
       "      <td>21</td>\n",
       "      <td>1143.597376</td>\n",
       "      <td>5.6800</td>\n",
       "      <td>142.808302</td>\n",
       "      <td>NaN</td>\n",
       "      <td>...</td>\n",
       "      <td>NaN</td>\n",
       "      <td>NaN</td>\n",
       "      <td>NaN</td>\n",
       "      <td>NaN</td>\n",
       "      <td>NaN</td>\n",
       "      <td>NaN</td>\n",
       "      <td>NaN</td>\n",
       "      <td>NaN</td>\n",
       "      <td>NaN</td>\n",
       "      <td>NaN</td>\n",
       "    </tr>\n",
       "    <tr>\n",
       "      <th>237</th>\n",
       "      <td>2022-10-01</td>\n",
       "      <td>1.565000e+10</td>\n",
       "      <td>1162.391</td>\n",
       "      <td>5.250300</td>\n",
       "      <td>142.34</td>\n",
       "      <td>20</td>\n",
       "      <td>1150.115881</td>\n",
       "      <td>5.6700</td>\n",
       "      <td>144.063428</td>\n",
       "      <td>NaN</td>\n",
       "      <td>...</td>\n",
       "      <td>NaN</td>\n",
       "      <td>NaN</td>\n",
       "      <td>NaN</td>\n",
       "      <td>NaN</td>\n",
       "      <td>NaN</td>\n",
       "      <td>NaN</td>\n",
       "      <td>NaN</td>\n",
       "      <td>NaN</td>\n",
       "      <td>NaN</td>\n",
       "      <td>NaN</td>\n",
       "    </tr>\n",
       "    <tr>\n",
       "      <th>238</th>\n",
       "      <td>2022-11-01</td>\n",
       "      <td>1.605000e+10</td>\n",
       "      <td>1155.829</td>\n",
       "      <td>5.274650</td>\n",
       "      <td>140.80</td>\n",
       "      <td>20</td>\n",
       "      <td>1155.866460</td>\n",
       "      <td>5.6000</td>\n",
       "      <td>143.165409</td>\n",
       "      <td>NaN</td>\n",
       "      <td>...</td>\n",
       "      <td>NaN</td>\n",
       "      <td>NaN</td>\n",
       "      <td>NaN</td>\n",
       "      <td>NaN</td>\n",
       "      <td>NaN</td>\n",
       "      <td>NaN</td>\n",
       "      <td>NaN</td>\n",
       "      <td>NaN</td>\n",
       "      <td>NaN</td>\n",
       "      <td>NaN</td>\n",
       "    </tr>\n",
       "    <tr>\n",
       "      <th>239</th>\n",
       "      <td>2022-12-01</td>\n",
       "      <td>1.767135e+10</td>\n",
       "      <td>1161.006</td>\n",
       "      <td>5.242432</td>\n",
       "      <td>142.78</td>\n",
       "      <td>22</td>\n",
       "      <td>1161.645792</td>\n",
       "      <td>5.6000</td>\n",
       "      <td>141.405133</td>\n",
       "      <td>NaN</td>\n",
       "      <td>...</td>\n",
       "      <td>NaN</td>\n",
       "      <td>NaN</td>\n",
       "      <td>NaN</td>\n",
       "      <td>NaN</td>\n",
       "      <td>NaN</td>\n",
       "      <td>NaN</td>\n",
       "      <td>NaN</td>\n",
       "      <td>NaN</td>\n",
       "      <td>NaN</td>\n",
       "      <td>NaN</td>\n",
       "    </tr>\n",
       "  </tbody>\n",
       "</table>\n",
       "<p>5 rows × 36 columns</p>\n",
       "</div>"
      ],
      "text/plain": [
       "          date       icms_sp     igp_m     dolar  ibc_br  dias_uteis  \\\n",
       "235 2022-08-01  1.756224e+10  1185.004  5.143287  149.60          23   \n",
       "236 2022-09-01  1.726287e+10  1173.793  5.236957  144.44          21   \n",
       "237 2022-10-01  1.565000e+10  1162.391  5.250300  142.34          20   \n",
       "238 2022-11-01  1.605000e+10  1155.829  5.274650  140.80          20   \n",
       "239 2022-12-01  1.767135e+10  1161.006  5.242432  142.78          22   \n",
       "\n",
       "        igp_m_22  dolar_22   ibc_br_22  igp_m_21  ...  ibc_br_16  igp_m_15  \\\n",
       "235  1137.167829    5.6496  146.408337       NaN  ...        NaN       NaN   \n",
       "236  1143.597376    5.6800  142.808302       NaN  ...        NaN       NaN   \n",
       "237  1150.115881    5.6700  144.063428       NaN  ...        NaN       NaN   \n",
       "238  1155.866460    5.6000  143.165409       NaN  ...        NaN       NaN   \n",
       "239  1161.645792    5.6000  141.405133       NaN  ...        NaN       NaN   \n",
       "\n",
       "     dolar_15  ibc_br_15  igp_m_14  dolar_14  ibc_br_14  igp_m_13  dolar_13  \\\n",
       "235       NaN        NaN       NaN       NaN        NaN       NaN       NaN   \n",
       "236       NaN        NaN       NaN       NaN        NaN       NaN       NaN   \n",
       "237       NaN        NaN       NaN       NaN        NaN       NaN       NaN   \n",
       "238       NaN        NaN       NaN       NaN        NaN       NaN       NaN   \n",
       "239       NaN        NaN       NaN       NaN        NaN       NaN       NaN   \n",
       "\n",
       "     ibc_br_13  \n",
       "235        NaN  \n",
       "236        NaN  \n",
       "237        NaN  \n",
       "238        NaN  \n",
       "239        NaN  \n",
       "\n",
       "[5 rows x 36 columns]"
      ]
     },
     "execution_count": 5,
     "metadata": {},
     "output_type": "execute_result"
    }
   ],
   "source": [
    "df_main_orig.tail()"
   ]
  },
  {
   "cell_type": "code",
   "execution_count": 6,
   "metadata": {},
   "outputs": [
    {
     "name": "stdout",
     "output_type": "stream",
     "text": [
      "<class 'pandas.core.frame.DataFrame'>\n",
      "RangeIndex: 240 entries, 0 to 239\n",
      "Data columns (total 36 columns):\n",
      " #   Column      Non-Null Count  Dtype         \n",
      "---  ------      --------------  -----         \n",
      " 0   date        240 non-null    datetime64[ns]\n",
      " 1   icms_sp     240 non-null    float64       \n",
      " 2   igp_m       240 non-null    float64       \n",
      " 3   dolar       240 non-null    float64       \n",
      " 4   ibc_br      240 non-null    float64       \n",
      " 5   dias_uteis  240 non-null    int64         \n",
      " 6   igp_m_22    240 non-null    float64       \n",
      " 7   dolar_22    240 non-null    float64       \n",
      " 8   ibc_br_22   240 non-null    float64       \n",
      " 9   igp_m_21    228 non-null    float64       \n",
      " 10  dolar_21    228 non-null    float64       \n",
      " 11  ibc_br_21   228 non-null    float64       \n",
      " 12  igp_m_20    216 non-null    float64       \n",
      " 13  dolar_20    216 non-null    float64       \n",
      " 14  ibc_br_20   216 non-null    float64       \n",
      " 15  igp_m_19    204 non-null    float64       \n",
      " 16  dolar_19    204 non-null    float64       \n",
      " 17  ibc_br_19   204 non-null    float64       \n",
      " 18  igp_m_18    192 non-null    float64       \n",
      " 19  dolar_18    192 non-null    float64       \n",
      " 20  ibc_br_18   192 non-null    float64       \n",
      " 21  igp_m_17    180 non-null    float64       \n",
      " 22  dolar_17    180 non-null    float64       \n",
      " 23  ibc_br_17   180 non-null    float64       \n",
      " 24  igp_m_16    168 non-null    float64       \n",
      " 25  dolar_16    168 non-null    float64       \n",
      " 26  ibc_br_16   168 non-null    float64       \n",
      " 27  igp_m_15    156 non-null    float64       \n",
      " 28  dolar_15    156 non-null    float64       \n",
      " 29  ibc_br_15   156 non-null    float64       \n",
      " 30  igp_m_14    144 non-null    float64       \n",
      " 31  dolar_14    144 non-null    float64       \n",
      " 32  ibc_br_14   144 non-null    float64       \n",
      " 33  igp_m_13    132 non-null    float64       \n",
      " 34  dolar_13    132 non-null    float64       \n",
      " 35  ibc_br_13   132 non-null    float64       \n",
      "dtypes: datetime64[ns](1), float64(34), int64(1)\n",
      "memory usage: 67.6 KB\n"
     ]
    }
   ],
   "source": [
    "df_main_orig.info()"
   ]
  },
  {
   "cell_type": "markdown",
   "metadata": {},
   "source": [
    "Removendo as últimas linhas que são todas NaN"
   ]
  },
  {
   "cell_type": "code",
   "execution_count": 7,
   "metadata": {},
   "outputs": [],
   "source": [
    "df_main = df_main_orig.iloc[0:132]\n",
    "datas = df_main['date']"
   ]
  },
  {
   "cell_type": "code",
   "execution_count": 8,
   "metadata": {},
   "outputs": [
    {
     "data": {
      "text/html": [
       "<div>\n",
       "<style scoped>\n",
       "    .dataframe tbody tr th:only-of-type {\n",
       "        vertical-align: middle;\n",
       "    }\n",
       "\n",
       "    .dataframe tbody tr th {\n",
       "        vertical-align: top;\n",
       "    }\n",
       "\n",
       "    .dataframe thead th {\n",
       "        text-align: right;\n",
       "    }\n",
       "</style>\n",
       "<table border=\"1\" class=\"dataframe\">\n",
       "  <thead>\n",
       "    <tr style=\"text-align: right;\">\n",
       "      <th></th>\n",
       "      <th>date</th>\n",
       "      <th>icms_sp</th>\n",
       "      <th>igp_m</th>\n",
       "      <th>dolar</th>\n",
       "      <th>ibc_br</th>\n",
       "      <th>dias_uteis</th>\n",
       "      <th>igp_m_22</th>\n",
       "      <th>dolar_22</th>\n",
       "      <th>ibc_br_22</th>\n",
       "      <th>igp_m_21</th>\n",
       "      <th>...</th>\n",
       "      <th>ibc_br_16</th>\n",
       "      <th>igp_m_15</th>\n",
       "      <th>dolar_15</th>\n",
       "      <th>ibc_br_15</th>\n",
       "      <th>igp_m_14</th>\n",
       "      <th>dolar_14</th>\n",
       "      <th>ibc_br_14</th>\n",
       "      <th>igp_m_13</th>\n",
       "      <th>dolar_13</th>\n",
       "      <th>ibc_br_13</th>\n",
       "    </tr>\n",
       "  </thead>\n",
       "  <tbody>\n",
       "    <tr>\n",
       "      <th>127</th>\n",
       "      <td>2013-08-01</td>\n",
       "      <td>9.604407e+09</td>\n",
       "      <td>521.270</td>\n",
       "      <td>2.342191</td>\n",
       "      <td>151.81</td>\n",
       "      <td>22</td>\n",
       "      <td>521.270</td>\n",
       "      <td>2.342191</td>\n",
       "      <td>151.81</td>\n",
       "      <td>521.270</td>\n",
       "      <td>...</td>\n",
       "      <td>151.81</td>\n",
       "      <td>521.270</td>\n",
       "      <td>2.342191</td>\n",
       "      <td>151.81</td>\n",
       "      <td>521.270</td>\n",
       "      <td>2.342191</td>\n",
       "      <td>151.81</td>\n",
       "      <td>527.544908</td>\n",
       "      <td>2.07</td>\n",
       "      <td>152.985410</td>\n",
       "    </tr>\n",
       "    <tr>\n",
       "      <th>128</th>\n",
       "      <td>2013-09-01</td>\n",
       "      <td>1.011536e+10</td>\n",
       "      <td>529.085</td>\n",
       "      <td>2.270510</td>\n",
       "      <td>147.27</td>\n",
       "      <td>21</td>\n",
       "      <td>529.085</td>\n",
       "      <td>2.270510</td>\n",
       "      <td>147.27</td>\n",
       "      <td>529.085</td>\n",
       "      <td>...</td>\n",
       "      <td>147.27</td>\n",
       "      <td>529.085</td>\n",
       "      <td>2.270510</td>\n",
       "      <td>147.27</td>\n",
       "      <td>529.085</td>\n",
       "      <td>2.270510</td>\n",
       "      <td>147.27</td>\n",
       "      <td>530.024369</td>\n",
       "      <td>2.07</td>\n",
       "      <td>148.834167</td>\n",
       "    </tr>\n",
       "    <tr>\n",
       "      <th>129</th>\n",
       "      <td>2013-10-01</td>\n",
       "      <td>1.020979e+10</td>\n",
       "      <td>533.621</td>\n",
       "      <td>2.188648</td>\n",
       "      <td>151.90</td>\n",
       "      <td>23</td>\n",
       "      <td>533.621</td>\n",
       "      <td>2.188648</td>\n",
       "      <td>151.90</td>\n",
       "      <td>533.621</td>\n",
       "      <td>...</td>\n",
       "      <td>151.90</td>\n",
       "      <td>533.621</td>\n",
       "      <td>2.188648</td>\n",
       "      <td>151.90</td>\n",
       "      <td>533.621</td>\n",
       "      <td>2.188648</td>\n",
       "      <td>151.90</td>\n",
       "      <td>532.833498</td>\n",
       "      <td>2.07</td>\n",
       "      <td>151.727873</td>\n",
       "    </tr>\n",
       "    <tr>\n",
       "      <th>130</th>\n",
       "      <td>2013-11-01</td>\n",
       "      <td>9.712795e+09</td>\n",
       "      <td>535.168</td>\n",
       "      <td>2.295350</td>\n",
       "      <td>147.79</td>\n",
       "      <td>20</td>\n",
       "      <td>535.168</td>\n",
       "      <td>2.295350</td>\n",
       "      <td>147.79</td>\n",
       "      <td>535.168</td>\n",
       "      <td>...</td>\n",
       "      <td>147.79</td>\n",
       "      <td>535.168</td>\n",
       "      <td>2.295350</td>\n",
       "      <td>147.79</td>\n",
       "      <td>535.168</td>\n",
       "      <td>2.295350</td>\n",
       "      <td>147.79</td>\n",
       "      <td>535.497666</td>\n",
       "      <td>2.08</td>\n",
       "      <td>149.174166</td>\n",
       "    </tr>\n",
       "    <tr>\n",
       "      <th>131</th>\n",
       "      <td>2013-12-01</td>\n",
       "      <td>1.076762e+10</td>\n",
       "      <td>538.370</td>\n",
       "      <td>2.345486</td>\n",
       "      <td>145.77</td>\n",
       "      <td>21</td>\n",
       "      <td>538.370</td>\n",
       "      <td>2.345486</td>\n",
       "      <td>145.77</td>\n",
       "      <td>538.370</td>\n",
       "      <td>...</td>\n",
       "      <td>145.77</td>\n",
       "      <td>538.370</td>\n",
       "      <td>2.345486</td>\n",
       "      <td>145.77</td>\n",
       "      <td>538.370</td>\n",
       "      <td>2.345486</td>\n",
       "      <td>145.77</td>\n",
       "      <td>537.907405</td>\n",
       "      <td>2.09</td>\n",
       "      <td>145.576261</td>\n",
       "    </tr>\n",
       "  </tbody>\n",
       "</table>\n",
       "<p>5 rows × 36 columns</p>\n",
       "</div>"
      ],
      "text/plain": [
       "          date       icms_sp    igp_m     dolar  ibc_br  dias_uteis  igp_m_22  \\\n",
       "127 2013-08-01  9.604407e+09  521.270  2.342191  151.81          22   521.270   \n",
       "128 2013-09-01  1.011536e+10  529.085  2.270510  147.27          21   529.085   \n",
       "129 2013-10-01  1.020979e+10  533.621  2.188648  151.90          23   533.621   \n",
       "130 2013-11-01  9.712795e+09  535.168  2.295350  147.79          20   535.168   \n",
       "131 2013-12-01  1.076762e+10  538.370  2.345486  145.77          21   538.370   \n",
       "\n",
       "     dolar_22  ibc_br_22  igp_m_21  ...  ibc_br_16  igp_m_15  dolar_15  \\\n",
       "127  2.342191     151.81   521.270  ...     151.81   521.270  2.342191   \n",
       "128  2.270510     147.27   529.085  ...     147.27   529.085  2.270510   \n",
       "129  2.188648     151.90   533.621  ...     151.90   533.621  2.188648   \n",
       "130  2.295350     147.79   535.168  ...     147.79   535.168  2.295350   \n",
       "131  2.345486     145.77   538.370  ...     145.77   538.370  2.345486   \n",
       "\n",
       "     ibc_br_15  igp_m_14  dolar_14  ibc_br_14    igp_m_13  dolar_13  \\\n",
       "127     151.81   521.270  2.342191     151.81  527.544908      2.07   \n",
       "128     147.27   529.085  2.270510     147.27  530.024369      2.07   \n",
       "129     151.90   533.621  2.188648     151.90  532.833498      2.07   \n",
       "130     147.79   535.168  2.295350     147.79  535.497666      2.08   \n",
       "131     145.77   538.370  2.345486     145.77  537.907405      2.09   \n",
       "\n",
       "      ibc_br_13  \n",
       "127  152.985410  \n",
       "128  148.834167  \n",
       "129  151.727873  \n",
       "130  149.174166  \n",
       "131  145.576261  \n",
       "\n",
       "[5 rows x 36 columns]"
      ]
     },
     "execution_count": 8,
     "metadata": {},
     "output_type": "execute_result"
    }
   ],
   "source": [
    "df_main.tail()"
   ]
  },
  {
   "cell_type": "markdown",
   "metadata": {},
   "source": [
    "### Criação das Séries\n",
    "Como os valores do ICMS são muito elevados a série será colocada em log."
   ]
  },
  {
   "cell_type": "code",
   "execution_count": 9,
   "metadata": {},
   "outputs": [],
   "source": [
    "icms_ts = pd.Series(np.log(list(df_main['icms_sp'])), index = datas)\n",
    "ibcbr_ts = pd.Series(list(df_main['ibc_br']), index = datas)\n",
    "igpm_ts = pd.Series(list(df_main['igp_m']), index = datas)\n",
    "dolar_ts = pd.Series(list(df_main['dolar']), index = datas)\n",
    "dias_uteis_ts = pd.Series(list(df_main['dias_uteis']), index = datas)"
   ]
  },
  {
   "cell_type": "markdown",
   "metadata": {},
   "source": [
    "#### Testes de Valores Nulos"
   ]
  },
  {
   "cell_type": "code",
   "execution_count": 10,
   "metadata": {},
   "outputs": [
    {
     "name": "stdout",
     "output_type": "stream",
     "text": [
      "ICMS 0\n",
      "IBC-Br 0\n",
      "IGP-DI 0\n",
      "Dólar 0\n",
      "Dias Úteis 0\n"
     ]
    }
   ],
   "source": [
    "print('ICMS', icms_ts.isnull().sum())\n",
    "print('IBC-Br', ibcbr_ts.isnull().sum())\n",
    "print('IGP-DI', igpm_ts.isnull().sum())\n",
    "print('Dólar', dolar_ts.isnull().sum())\n",
    "print('Dias Úteis', dias_uteis_ts.isnull().sum())"
   ]
  },
  {
   "cell_type": "markdown",
   "metadata": {},
   "source": [
    "### Plotando a Série em Nível"
   ]
  },
  {
   "cell_type": "code",
   "execution_count": 11,
   "metadata": {},
   "outputs": [
    {
     "data": {
      "image/png": "[encoded data removed]",
      "text/plain": [
       "<Figure size 1080x2160 with 5 Axes>"
      ]
     },
     "metadata": {
      "needs_background": "light"
     },
     "output_type": "display_data"
    }
   ],
   "source": [
    "fig=plt.figure(figsize=(15, 30))\n",
    "ax1=fig.add_subplot(511)\n",
    "ax2=fig.add_subplot(512)\n",
    "ax3=fig.add_subplot(513)\n",
    "ax4=fig.add_subplot(514)\n",
    "ax5=fig.add_subplot(515)\n",
    "#plots\n",
    "ax1.plot(icms_ts, 'tab:blue', label='Log ICMS SP')\n",
    "ax1.legend(loc='best')\n",
    "ax2.plot(dias_uteis_ts, 'tab:purple', label='Dias Úteis')\n",
    "ax2.legend(loc='best')\n",
    "ax3.plot(ibcbr_ts, 'tab:orange',  label='IBC-BR')\n",
    "ax3.legend(loc='best')\n",
    "ax4.plot(igpm_ts, 'tab:gray', label='IGP-M')\n",
    "ax4.legend(loc='best')\n",
    "ax5.plot(dolar_ts, 'tab:green', label='Dólar')\n",
    "ax5.legend(loc='best')\n",
    "plt.show()"
   ]
  },
  {
   "cell_type": "markdown",
   "metadata": {},
   "source": [
    "## Preparação para Previsões"
   ]
  },
  {
   "cell_type": "markdown",
   "metadata": {},
   "source": [
    "O artigo usa, além de MAPE e MSE, o erro relativo, que é \n",
    "\n",
    "$Erro Relativo = \\frac{|previsão - real|}{real}$"
   ]
  },
  {
   "cell_type": "code",
   "execution_count": 12,
   "metadata": {},
   "outputs": [],
   "source": [
    "def erro_relativo(prev, real):\n",
    "    return 100*np.absolute(prev-real)/real"
   ]
  },
  {
   "cell_type": "markdown",
   "metadata": {},
   "source": [
    "#### Dicionário de Previsões"
   ]
  },
  {
   "cell_type": "code",
   "execution_count": 13,
   "metadata": {},
   "outputs": [],
   "source": [
    "previsoes = {\n",
    "    'nome':[],\n",
    "    'modelo': [],\n",
    "    'previsoes': [],\n",
    "    'rmse': [],\n",
    "    'mape': [],\n",
    "    'erro relativo':[]\n",
    "}"
   ]
  },
  {
   "cell_type": "markdown",
   "metadata": {},
   "source": [
    "### Separando a amostra em treinamento (in-sample) e teste (out-of-sample)\n",
    "Serão usadas as séries com sazonalidade e em nível e as questões de sazonalidade e estacionariedade serão tratadas pelo modelo."
   ]
  },
  {
   "cell_type": "code",
   "execution_count": 14,
   "metadata": {},
   "outputs": [
    {
     "data": {
      "text/html": [
       "<div>\n",
       "<style scoped>\n",
       "    .dataframe tbody tr th:only-of-type {\n",
       "        vertical-align: middle;\n",
       "    }\n",
       "\n",
       "    .dataframe tbody tr th {\n",
       "        vertical-align: top;\n",
       "    }\n",
       "\n",
       "    .dataframe thead th {\n",
       "        text-align: right;\n",
       "    }\n",
       "</style>\n",
       "<table border=\"1\" class=\"dataframe\">\n",
       "  <thead>\n",
       "    <tr style=\"text-align: right;\">\n",
       "      <th></th>\n",
       "      <th>ibcbr</th>\n",
       "      <th>igpdi</th>\n",
       "      <th>dolar</th>\n",
       "      <th>dias_uteis</th>\n",
       "    </tr>\n",
       "    <tr>\n",
       "      <th>date</th>\n",
       "      <th></th>\n",
       "      <th></th>\n",
       "      <th></th>\n",
       "      <th></th>\n",
       "    </tr>\n",
       "  </thead>\n",
       "  <tbody>\n",
       "    <tr>\n",
       "      <th>2003-01-01</th>\n",
       "      <td>96.15</td>\n",
       "      <td>277.173</td>\n",
       "      <td>3.4384</td>\n",
       "      <td>22.0</td>\n",
       "    </tr>\n",
       "    <tr>\n",
       "      <th>2003-02-01</th>\n",
       "      <td>98.67</td>\n",
       "      <td>283.506</td>\n",
       "      <td>3.5908</td>\n",
       "      <td>20.0</td>\n",
       "    </tr>\n",
       "    <tr>\n",
       "      <th>2003-03-01</th>\n",
       "      <td>103.41</td>\n",
       "      <td>287.855</td>\n",
       "      <td>3.4469</td>\n",
       "      <td>19.0</td>\n",
       "    </tr>\n",
       "    <tr>\n",
       "      <th>2003-04-01</th>\n",
       "      <td>102.19</td>\n",
       "      <td>290.512</td>\n",
       "      <td>3.1187</td>\n",
       "      <td>20.0</td>\n",
       "    </tr>\n",
       "    <tr>\n",
       "      <th>2003-05-01</th>\n",
       "      <td>100.30</td>\n",
       "      <td>289.747</td>\n",
       "      <td>2.9557</td>\n",
       "      <td>21.0</td>\n",
       "    </tr>\n",
       "  </tbody>\n",
       "</table>\n",
       "</div>"
      ],
      "text/plain": [
       "             ibcbr    igpdi   dolar  dias_uteis\n",
       "date                                           \n",
       "2003-01-01   96.15  277.173  3.4384        22.0\n",
       "2003-02-01   98.67  283.506  3.5908        20.0\n",
       "2003-03-01  103.41  287.855  3.4469        19.0\n",
       "2003-04-01  102.19  290.512  3.1187        20.0\n",
       "2003-05-01  100.30  289.747  2.9557        21.0"
      ]
     },
     "execution_count": 14,
     "metadata": {},
     "output_type": "execute_result"
    }
   ],
   "source": [
    "exog_df = pd.DataFrame((ibcbr_ts, igpm_ts,\n",
    "                        dolar_ts, dias_uteis_ts\n",
    "                       ), \n",
    "                        index=['ibcbr', 'igpdi', 'dolar', 'dias_uteis'\n",
    "                            ]).transpose()\n",
    "exog_df.head() "
   ]
  },
  {
   "cell_type": "code",
   "execution_count": 15,
   "metadata": {},
   "outputs": [
    {
     "data": {
      "text/html": [
       "<div>\n",
       "<style scoped>\n",
       "    .dataframe tbody tr th:only-of-type {\n",
       "        vertical-align: middle;\n",
       "    }\n",
       "\n",
       "    .dataframe tbody tr th {\n",
       "        vertical-align: top;\n",
       "    }\n",
       "\n",
       "    .dataframe thead th {\n",
       "        text-align: right;\n",
       "    }\n",
       "</style>\n",
       "<table border=\"1\" class=\"dataframe\">\n",
       "  <thead>\n",
       "    <tr style=\"text-align: right;\">\n",
       "      <th></th>\n",
       "      <th>ibcbr</th>\n",
       "      <th>igpdi</th>\n",
       "      <th>dolar</th>\n",
       "      <th>dias_uteis</th>\n",
       "    </tr>\n",
       "    <tr>\n",
       "      <th>date</th>\n",
       "      <th></th>\n",
       "      <th></th>\n",
       "      <th></th>\n",
       "      <th></th>\n",
       "    </tr>\n",
       "  </thead>\n",
       "  <tbody>\n",
       "    <tr>\n",
       "      <th>2013-08-01</th>\n",
       "      <td>151.81</td>\n",
       "      <td>521.270</td>\n",
       "      <td>2.342191</td>\n",
       "      <td>22.0</td>\n",
       "    </tr>\n",
       "    <tr>\n",
       "      <th>2013-09-01</th>\n",
       "      <td>147.27</td>\n",
       "      <td>529.085</td>\n",
       "      <td>2.270510</td>\n",
       "      <td>21.0</td>\n",
       "    </tr>\n",
       "    <tr>\n",
       "      <th>2013-10-01</th>\n",
       "      <td>151.90</td>\n",
       "      <td>533.621</td>\n",
       "      <td>2.188648</td>\n",
       "      <td>23.0</td>\n",
       "    </tr>\n",
       "    <tr>\n",
       "      <th>2013-11-01</th>\n",
       "      <td>147.79</td>\n",
       "      <td>535.168</td>\n",
       "      <td>2.295350</td>\n",
       "      <td>20.0</td>\n",
       "    </tr>\n",
       "    <tr>\n",
       "      <th>2013-12-01</th>\n",
       "      <td>145.77</td>\n",
       "      <td>538.370</td>\n",
       "      <td>2.345486</td>\n",
       "      <td>21.0</td>\n",
       "    </tr>\n",
       "  </tbody>\n",
       "</table>\n",
       "</div>"
      ],
      "text/plain": [
       "             ibcbr    igpdi     dolar  dias_uteis\n",
       "date                                             \n",
       "2013-08-01  151.81  521.270  2.342191        22.0\n",
       "2013-09-01  147.27  529.085  2.270510        21.0\n",
       "2013-10-01  151.90  533.621  2.188648        23.0\n",
       "2013-11-01  147.79  535.168  2.295350        20.0\n",
       "2013-12-01  145.77  538.370  2.345486        21.0"
      ]
     },
     "execution_count": 15,
     "metadata": {},
     "output_type": "execute_result"
    }
   ],
   "source": [
    "exog_df.tail() "
   ]
  },
  {
   "cell_type": "code",
   "execution_count": 16,
   "metadata": {},
   "outputs": [
    {
     "name": "stdout",
     "output_type": "stream",
     "text": [
      "(132, 4) (108, 4) (12, 4) (12, 4)\n"
     ]
    }
   ],
   "source": [
    "exog = exog_df[:].to_numpy()\n",
    "exog_train = exog[:-24]\n",
    "exog_val = exog[-24:-12]\n",
    "exog_test = exog[-12:]\n",
    "print(exog.shape, exog_train.shape, exog_val.shape, exog_test.shape)"
   ]
  },
  {
   "cell_type": "code",
   "execution_count": 17,
   "metadata": {},
   "outputs": [
    {
     "name": "stdout",
     "output_type": "stream",
     "text": [
      "(132,) (108,) (12,) (12,)\n"
     ]
    }
   ],
   "source": [
    "icms_train = icms_ts[:-24]\n",
    "icms_val = np.exp(icms_ts[-24:-12]) # série sem log\n",
    "icms_test = np.exp(icms_ts[-12:]) # série sem log\n",
    "print(icms_ts.shape, icms_train.shape, icms_val.shape, icms_test.shape)"
   ]
  },
  {
   "cell_type": "code",
   "execution_count": 18,
   "metadata": {},
   "outputs": [
    {
     "name": "stdout",
     "output_type": "stream",
     "text": [
      "##############################\n",
      " date\n",
      "2003-01-01    21.935295\n",
      "2003-02-01    21.885340\n",
      "2003-03-01    21.873841\n",
      "2003-04-01    21.891189\n",
      "2003-05-01    21.854323\n",
      "                ...    \n",
      "2011-08-01    22.853371\n",
      "2011-09-01    22.894817\n",
      "2011-10-01    22.877690\n",
      "2011-11-01    22.864862\n",
      "2011-12-01    22.974485\n",
      "Length: 108, dtype: float64\n",
      "##############################\n",
      " date\n",
      "2012-01-01    8.415596e+09\n",
      "2012-02-01    7.817540e+09\n",
      "2012-03-01    8.641821e+09\n",
      "2012-04-01    8.978637e+09\n",
      "2012-05-01    8.658720e+09\n",
      "2012-06-01    8.728690e+09\n",
      "2012-07-01    8.646155e+09\n",
      "2012-08-01    9.020437e+09\n",
      "2012-09-01    9.082476e+09\n",
      "2012-10-01    9.544433e+09\n",
      "2012-11-01    9.154402e+09\n",
      "2012-12-01    1.025097e+10\n",
      "dtype: float64\n",
      "##############################\n",
      " date\n",
      "2013-01-01    8.799359e+09\n",
      "2013-02-01    8.690433e+09\n",
      "2013-03-01    8.698445e+09\n",
      "2013-04-01    9.446984e+09\n",
      "2013-05-01    9.497989e+09\n",
      "2013-06-01    9.133477e+09\n",
      "2013-07-01    9.657129e+09\n",
      "2013-08-01    9.604407e+09\n",
      "2013-09-01    1.011536e+10\n",
      "2013-10-01    1.020979e+10\n",
      "2013-11-01    9.712795e+09\n",
      "2013-12-01    1.076762e+10\n",
      "dtype: float64\n"
     ]
    }
   ],
   "source": [
    "print('#'*30+'\\n',icms_train)\n",
    "print('#'*30+'\\n',icms_val)\n",
    "print('#'*30+'\\n',icms_test)"
   ]
  },
  {
   "cell_type": "markdown",
   "metadata": {},
   "source": [
    "## Modelos RNN LSTM\n",
    "Redes Neurais Recorrentes com neurônios Long Short-Term Memory"
   ]
  },
  {
   "cell_type": "markdown",
   "metadata": {},
   "source": [
    "### Montagem da Série com as Variáveis Exógenas\n",
    "As redes neurais precisam de conjuntos de características e de etiquetas separados. As variáveis exógenas serão o conjunto de características e a variável endógena será o conjunto de etiquetas."
   ]
  },
  {
   "cell_type": "code",
   "execution_count": 19,
   "metadata": {},
   "outputs": [],
   "source": [
    "X_data = np.append(exog, np.roll(exog, 1, axis = 0), axis = 1)\n",
    "X_data = np.append(X_data, np.roll(exog, 2, axis = 0), axis = 1)[2:]\n",
    "Y_data = icms_ts[2:].to_numpy()"
   ]
  },
  {
   "cell_type": "code",
   "execution_count": 20,
   "metadata": {},
   "outputs": [
    {
     "data": {
      "text/plain": [
       "((130, 12), (130,))"
      ]
     },
     "execution_count": 20,
     "metadata": {},
     "output_type": "execute_result"
    }
   ],
   "source": [
    "X_data.shape, Y_data.shape"
   ]
  },
  {
   "cell_type": "markdown",
   "metadata": {},
   "source": [
    "#### Normalização dos Dados\n",
    "Serão normalizados usando-se min-max. Apenas as features, a variável target não será normalizada. Os dados serão dividos em treno, validação e teste para a normalização, de modo que o fit seja feito somente nos dados de treino, aumentando-se assim a probabilidade de generalização do modelo."
   ]
  },
  {
   "cell_type": "code",
   "execution_count": 21,
   "metadata": {},
   "outputs": [
    {
     "name": "stdout",
     "output_type": "stream",
     "text": [
      "(106, 12) (12, 12) (12, 12)\n",
      "(106,) (12,) (12,)\n"
     ]
    }
   ],
   "source": [
    "X_train = X_data[:-24]\n",
    "X_val = X_data[-24:-12]\n",
    "X_test = X_data[-12:]\n",
    "print(X_train.shape, X_val.shape, X_test.shape)\n",
    "Y_train = Y_data[:-24]\n",
    "Y_val = Y_data[-24:-12]\n",
    "Y_test = np.exp(Y_data[-12:]) # tirando o log\n",
    "print(Y_train.shape, Y_val.shape, Y_test.shape)"
   ]
  },
  {
   "cell_type": "code",
   "execution_count": 22,
   "metadata": {},
   "outputs": [
    {
     "name": "stdout",
     "output_type": "stream",
     "text": [
      "numéricas [0, 1, 2, 3, 4, 5, 6, 7, 8, 9, 10, 11]\n",
      "ColumnTransformer(transformers=[('min-max', MinMaxScaler(),\n",
      "                                 [0, 1, 2, 3, 4, 5, 6, 7, 8, 9, 10, 11])],\n",
      "                  verbose=True)\n",
      "[ColumnTransformer] ....... (1 of 1) Processing min-max, total=   0.0s\n",
      "(106, 12)\n",
      "(12, 12)\n",
      "(12, 12)\n"
     ]
    }
   ],
   "source": [
    "from sklearn.preprocessing import MinMaxScaler\n",
    "from sklearn.compose import ColumnTransformer\n",
    "# índice dos atributos numéricos\n",
    "num_atrib = list(range(X_train.shape[1]))\n",
    "print('numéricas', num_atrib)\n",
    "\n",
    "enc_x = ColumnTransformer([('min-max',MinMaxScaler(), num_atrib)], verbose=True)\n",
    "\n",
    "print(enc_x)\n",
    "X_train_std = enc_x.fit_transform(X_train)\n",
    "X_val_std = enc_x.transform(X_val)\n",
    "X_test_std = enc_x.transform(X_test)\n",
    "\n",
    "print(X_train_std.shape)\n",
    "print(X_val_std.shape)\n",
    "print(X_test_std.shape)"
   ]
  },
  {
   "cell_type": "code",
   "execution_count": 23,
   "metadata": {},
   "outputs": [
    {
     "name": "stdout",
     "output_type": "stream",
     "text": [
      "(106, 12, 1) (12, 12, 1) (12, 12, 1)\n",
      "(106, 1) (12, 1) (12, 1)\n"
     ]
    }
   ],
   "source": [
    "x_train = X_train_std.reshape(X_train_std.shape[0], X_train_std.shape[1], 1)\n",
    "x_val = X_val_std.reshape(X_val_std.shape[0], X_val_std.shape[1], 1)\n",
    "x_test = X_test_std.reshape(X_test_std.shape[0], X_test_std.shape[1], 1)\n",
    "print(x_train.shape, x_val.shape, x_test.shape)\n",
    "\n",
    "y_train = Y_train.reshape(Y_train.shape[0], 1)\n",
    "y_val = Y_val.reshape(Y_val.shape[0], 1)\n",
    "y_test = Y_test.reshape(Y_test.shape[0], 1)\n",
    "print(y_train.shape, y_val.shape, y_test.shape)"
   ]
  },
  {
   "cell_type": "markdown",
   "metadata": {},
   "source": [
    "### Criando o modelo LSTM"
   ]
  },
  {
   "cell_type": "code",
   "execution_count": 24,
   "metadata": {},
   "outputs": [],
   "source": [
    "# importando as bibliotecas do Keras\n",
    "from tensorflow.keras.models import Sequential\n",
    "from tensorflow.keras.layers import LSTM, Dense, Dropout, Conv1D, MaxPooling1D\n",
    "from tensorflow.keras.callbacks import ReduceLROnPlateau, EarlyStopping\n",
    "from tensorflow.keras.optimizers import Adam"
   ]
  },
  {
   "cell_type": "markdown",
   "metadata": {},
   "source": [
    "## Arquitetura da Rede - Camadas"
   ]
  },
  {
   "cell_type": "code",
   "execution_count": 25,
   "metadata": {},
   "outputs": [],
   "source": [
    "rlrop = ReduceLROnPlateau(monitor='val_loss', factor=0.1, patience=25)\n",
    "early_stop = EarlyStopping(monitor='val_loss', patience=100, verbose=1, \n",
    "                           restore_best_weights=True)"
   ]
  },
  {
   "cell_type": "code",
   "execution_count": 26,
   "metadata": {},
   "outputs": [],
   "source": [
    "# Épocas\n",
    "EPOCHS = 1000\n",
    "NEURONIOS = 600\n",
    "DROPOUT = 0.15\n",
    "LR = 1e-5\n",
    "BATCH = 8\n",
    "\n",
    "# Imstanciação do modelo\n",
    "model = Sequential()\n",
    "\n",
    "# Adicionar camada LSTM \n",
    "model.add(LSTM(activation='tanh', dropout=DROPOUT,\n",
    "        input_shape = (12, 1), return_sequences = True,\n",
    "        units = NEURONIOS))\n",
    "\n",
    "# Adicionar camada LSTM \n",
    "model.add(LSTM(activation='tanh', dropout=DROPOUT,\n",
    "        input_shape = (12, 1), return_sequences = True,\n",
    "        units = NEURONIOS))\n",
    "\n",
    "# Adicionar camada LSTM \n",
    "model.add(LSTM(activation='tanh', dropout=DROPOUT,\n",
    "        input_shape = (12, 1), return_sequences = False,\n",
    "        units = NEURONIOS))\n",
    "\n",
    "# Adicionar a camada de saída com 1 neurônio linear\n",
    "model.add(Dense(\n",
    "        units = 1,\n",
    "        activation = 'linear'))\n",
    "# a learning rate padrão do Adam é 0.001\n",
    "model.compile(loss = 'mape', optimizer = Adam(learning_rate=LR))"
   ]
  },
  {
   "cell_type": "code",
   "execution_count": 27,
   "metadata": {},
   "outputs": [
    {
     "name": "stdout",
     "output_type": "stream",
     "text": [
      "Model: \"sequential\"\n",
      "_________________________________________________________________\n",
      "Layer (type)                 Output Shape              Param #   \n",
      "=================================================================\n",
      "lstm (LSTM)                  (None, 12, 600)           1444800   \n",
      "_________________________________________________________________\n",
      "lstm_1 (LSTM)                (None, 12, 600)           2882400   \n",
      "_________________________________________________________________\n",
      "lstm_2 (LSTM)                (None, 600)               2882400   \n",
      "_________________________________________________________________\n",
      "dense (Dense)                (None, 1)                 601       \n",
      "=================================================================\n",
      "Total params: 7,210,201\n",
      "Trainable params: 7,210,201\n",
      "Non-trainable params: 0\n",
      "_________________________________________________________________\n"
     ]
    }
   ],
   "source": [
    "model.summary()"
   ]
  },
  {
   "cell_type": "code",
   "execution_count": 28,
   "metadata": {
    "scrolled": true
   },
   "outputs": [
    {
     "name": "stdout",
     "output_type": "stream",
     "text": [
      "Epoch 1/1000\n",
      "14/14 [==============================] - 5s 388ms/step - loss: 99.9146 - val_loss: 99.7203\n",
      "Epoch 2/1000\n",
      "14/14 [==============================] - 3s 232ms/step - loss: 99.7099 - val_loss: 99.3945\n",
      "Epoch 3/1000\n",
      "14/14 [==============================] - 3s 232ms/step - loss: 99.4599 - val_loss: 98.9358\n",
      "Epoch 4/1000\n",
      "14/14 [==============================] - 3s 224ms/step - loss: 99.0689 - val_loss: 98.2006\n",
      "Epoch 5/1000\n",
      "14/14 [==============================] - 3s 222ms/step - loss: 98.4714 - val_loss: 96.9120\n",
      "Epoch 6/1000\n",
      "14/14 [==============================] - 3s 227ms/step - loss: 97.3187 - val_loss: 94.4052\n",
      "Epoch 7/1000\n",
      "14/14 [==============================] - 3s 222ms/step - loss: 95.0223 - val_loss: 89.0085\n",
      "Epoch 8/1000\n",
      "14/14 [==============================] - 3s 228ms/step - loss: 90.0329 - val_loss: 76.1593\n",
      "Epoch 9/1000\n",
      "14/14 [==============================] - 3s 216ms/step - loss: 79.5881 - val_loss: 48.1698\n",
      "Epoch 10/1000\n",
      "14/14 [==============================] - 3s 217ms/step - loss: 53.8236 - val_loss: 15.8512\n",
      "Epoch 11/1000\n",
      "14/14 [==============================] - 3s 215ms/step - loss: 21.5598 - val_loss: 1.6681\n",
      "Epoch 12/1000\n",
      "14/14 [==============================] - 3s 227ms/step - loss: 5.2967 - val_loss: 6.3958\n",
      "Epoch 13/1000\n",
      "14/14 [==============================] - 3s 211ms/step - loss: 4.7222 - val_loss: 4.6757\n",
      "Epoch 14/1000\n",
      "14/14 [==============================] - 3s 221ms/step - loss: 3.1281 - val_loss: 1.6587\n",
      "Epoch 15/1000\n",
      "14/14 [==============================] - 3s 230ms/step - loss: 3.1780 - val_loss: 1.2201\n",
      "Epoch 16/1000\n",
      "14/14 [==============================] - 3s 213ms/step - loss: 1.8257 - val_loss: 1.2481\n",
      "Epoch 17/1000\n",
      "14/14 [==============================] - 3s 210ms/step - loss: 1.7950 - val_loss: 0.8451\n",
      "Epoch 18/1000\n",
      "14/14 [==============================] - 3s 224ms/step - loss: 2.0303 - val_loss: 0.6468\n",
      "Epoch 19/1000\n",
      "14/14 [==============================] - 3s 219ms/step - loss: 1.2385 - val_loss: 0.3938\n",
      "Epoch 20/1000\n",
      "14/14 [==============================] - 3s 222ms/step - loss: 1.3531 - val_loss: 0.2130\n",
      "Epoch 21/1000\n",
      "14/14 [==============================] - 3s 228ms/step - loss: 1.3321 - val_loss: 0.1871\n",
      "Epoch 22/1000\n",
      "14/14 [==============================] - 3s 215ms/step - loss: 1.2146 - val_loss: 0.5689\n",
      "Epoch 23/1000\n",
      "14/14 [==============================] - 3s 214ms/step - loss: 1.3055 - val_loss: 0.6663\n",
      "Epoch 24/1000\n",
      "14/14 [==============================] - 3s 220ms/step - loss: 0.9774 - val_loss: 0.3960\n",
      "Epoch 25/1000\n",
      "14/14 [==============================] - 3s 217ms/step - loss: 0.9024 - val_loss: 0.9522\n",
      "Epoch 26/1000\n",
      "14/14 [==============================] - 3s 220ms/step - loss: 0.8815 - val_loss: 0.3972\n",
      "Epoch 27/1000\n",
      "14/14 [==============================] - 3s 231ms/step - loss: 0.9350 - val_loss: 0.8123\n",
      "Epoch 28/1000\n",
      "14/14 [==============================] - 2s 134ms/step - loss: 0.8784 - val_loss: 0.6824\n",
      "Epoch 29/1000\n",
      "14/14 [==============================] - 2s 133ms/step - loss: 0.8173 - val_loss: 0.7767\n",
      "Epoch 30/1000\n",
      "14/14 [==============================] - 2s 131ms/step - loss: 0.8307 - val_loss: 0.3061\n",
      "Epoch 31/1000\n",
      "14/14 [==============================] - 2s 135ms/step - loss: 1.0734 - val_loss: 0.5242\n",
      "Epoch 32/1000\n",
      "14/14 [==============================] - 2s 134ms/step - loss: 0.9304 - val_loss: 0.6064\n",
      "Epoch 33/1000\n",
      "14/14 [==============================] - 2s 131ms/step - loss: 1.1394 - val_loss: 0.4803\n",
      "Epoch 34/1000\n",
      "14/14 [==============================] - 2s 130ms/step - loss: 1.0155 - val_loss: 0.7229\n",
      "Epoch 35/1000\n",
      "14/14 [==============================] - 2s 133ms/step - loss: 0.8018 - val_loss: 0.8343\n",
      "Epoch 36/1000\n",
      "14/14 [==============================] - 3s 199ms/step - loss: 1.0659 - val_loss: 1.0226\n",
      "Epoch 37/1000\n",
      "14/14 [==============================] - 2s 137ms/step - loss: 0.9121 - val_loss: 0.7495\n",
      "Epoch 38/1000\n",
      "14/14 [==============================] - 3s 220ms/step - loss: 0.8235 - val_loss: 1.0298\n",
      "Epoch 39/1000\n",
      "14/14 [==============================] - 3s 227ms/step - loss: 0.9648 - val_loss: 0.6394\n",
      "Epoch 40/1000\n",
      "14/14 [==============================] - 3s 229ms/step - loss: 0.8414 - val_loss: 0.8565\n",
      "Epoch 41/1000\n",
      "14/14 [==============================] - 3s 215ms/step - loss: 0.8703 - val_loss: 0.9020\n",
      "Epoch 42/1000\n",
      "14/14 [==============================] - 3s 229ms/step - loss: 0.9539 - val_loss: 1.0150\n",
      "Epoch 43/1000\n",
      "14/14 [==============================] - 3s 226ms/step - loss: 0.9306 - val_loss: 0.9840\n",
      "Epoch 44/1000\n",
      "14/14 [==============================] - 3s 218ms/step - loss: 0.8108 - val_loss: 0.8450\n",
      "Epoch 45/1000\n",
      "14/14 [==============================] - 3s 222ms/step - loss: 0.9864 - val_loss: 0.8302\n",
      "Epoch 46/1000\n",
      "14/14 [==============================] - 3s 223ms/step - loss: 0.9698 - val_loss: 0.6886\n",
      "Epoch 47/1000\n",
      "14/14 [==============================] - 3s 225ms/step - loss: 0.7911 - val_loss: 0.6687\n",
      "Epoch 48/1000\n",
      "14/14 [==============================] - 3s 233ms/step - loss: 0.8333 - val_loss: 0.7189\n",
      "Epoch 49/1000\n",
      "14/14 [==============================] - 3s 225ms/step - loss: 0.8425 - val_loss: 0.8445\n",
      "Epoch 50/1000\n",
      "14/14 [==============================] - 3s 216ms/step - loss: 0.9095 - val_loss: 0.8940\n",
      "Epoch 51/1000\n",
      "14/14 [==============================] - 3s 217ms/step - loss: 0.8280 - val_loss: 0.8781\n",
      "Epoch 52/1000\n",
      "14/14 [==============================] - 3s 222ms/step - loss: 0.7989 - val_loss: 0.9055\n",
      "Epoch 53/1000\n",
      "14/14 [==============================] - 3s 217ms/step - loss: 0.9312 - val_loss: 0.8845\n",
      "Epoch 54/1000\n",
      "14/14 [==============================] - 3s 229ms/step - loss: 0.8323 - val_loss: 0.9065\n",
      "Epoch 55/1000\n",
      "14/14 [==============================] - 3s 221ms/step - loss: 0.7726 - val_loss: 0.8666\n",
      "Epoch 56/1000\n",
      "14/14 [==============================] - 3s 226ms/step - loss: 0.8253 - val_loss: 0.8779\n",
      "Epoch 57/1000\n",
      "14/14 [==============================] - 3s 223ms/step - loss: 0.8225 - val_loss: 0.9048\n",
      "Epoch 58/1000\n",
      "14/14 [==============================] - 3s 221ms/step - loss: 0.8460 - val_loss: 0.9845\n",
      "Epoch 59/1000\n",
      "14/14 [==============================] - 3s 226ms/step - loss: 0.9491 - val_loss: 0.9728\n",
      "Epoch 60/1000\n",
      "14/14 [==============================] - 3s 215ms/step - loss: 0.7863 - val_loss: 0.9464\n",
      "Epoch 61/1000\n",
      "14/14 [==============================] - 3s 219ms/step - loss: 0.8833 - val_loss: 0.8906\n",
      "Epoch 62/1000\n",
      "14/14 [==============================] - 3s 221ms/step - loss: 0.8908 - val_loss: 0.8822\n",
      "Epoch 63/1000\n",
      "14/14 [==============================] - 3s 223ms/step - loss: 0.8528 - val_loss: 0.9410\n",
      "Epoch 64/1000\n",
      "14/14 [==============================] - 3s 225ms/step - loss: 0.8364 - val_loss: 0.9431\n",
      "Epoch 65/1000\n",
      "14/14 [==============================] - 3s 220ms/step - loss: 0.9324 - val_loss: 0.8689\n",
      "Epoch 66/1000\n",
      "14/14 [==============================] - 3s 224ms/step - loss: 0.8560 - val_loss: 0.8151\n",
      "Epoch 67/1000\n",
      "14/14 [==============================] - 3s 220ms/step - loss: 0.8671 - val_loss: 0.8762\n",
      "Epoch 68/1000\n",
      "14/14 [==============================] - 3s 233ms/step - loss: 0.7820 - val_loss: 0.8800\n",
      "Epoch 69/1000\n",
      "14/14 [==============================] - 3s 215ms/step - loss: 0.8436 - val_loss: 0.8452\n",
      "Epoch 70/1000\n",
      "14/14 [==============================] - 3s 224ms/step - loss: 0.8115 - val_loss: 0.8744\n",
      "Epoch 71/1000\n",
      "14/14 [==============================] - 3s 223ms/step - loss: 0.8586 - val_loss: 0.8367\n",
      "Epoch 72/1000\n",
      "14/14 [==============================] - 3s 220ms/step - loss: 0.9023 - val_loss: 0.8461\n",
      "Epoch 73/1000\n",
      "14/14 [==============================] - 3s 219ms/step - loss: 0.8740 - val_loss: 0.8508\n",
      "Epoch 74/1000\n",
      "14/14 [==============================] - 3s 221ms/step - loss: 0.8412 - val_loss: 0.8546\n",
      "Epoch 75/1000\n",
      "14/14 [==============================] - 3s 222ms/step - loss: 0.8925 - val_loss: 0.8579\n",
      "Epoch 76/1000\n",
      "14/14 [==============================] - 3s 221ms/step - loss: 0.7642 - val_loss: 0.8588\n",
      "Epoch 77/1000\n",
      "14/14 [==============================] - 3s 217ms/step - loss: 0.8618 - val_loss: 0.8541\n",
      "Epoch 78/1000\n",
      "14/14 [==============================] - 3s 226ms/step - loss: 0.8398 - val_loss: 0.8584\n",
      "Epoch 79/1000\n",
      "14/14 [==============================] - 3s 227ms/step - loss: 0.9697 - val_loss: 0.8592\n",
      "Epoch 80/1000\n",
      "14/14 [==============================] - 3s 225ms/step - loss: 0.8984 - val_loss: 0.8591\n",
      "Epoch 81/1000\n",
      "14/14 [==============================] - 3s 216ms/step - loss: 0.8117 - val_loss: 0.8641\n",
      "Epoch 82/1000\n",
      "14/14 [==============================] - 3s 232ms/step - loss: 0.8057 - val_loss: 0.8603\n",
      "Epoch 83/1000\n",
      "14/14 [==============================] - 3s 222ms/step - loss: 0.9053 - val_loss: 0.8567\n",
      "Epoch 84/1000\n",
      "14/14 [==============================] - 3s 214ms/step - loss: 0.8583 - val_loss: 0.8514\n",
      "Epoch 85/1000\n",
      "14/14 [==============================] - 3s 228ms/step - loss: 0.7635 - val_loss: 0.8510\n",
      "Epoch 86/1000\n",
      "14/14 [==============================] - 3s 211ms/step - loss: 0.8541 - val_loss: 0.8470\n",
      "Epoch 87/1000\n",
      "14/14 [==============================] - 3s 210ms/step - loss: 0.8815 - val_loss: 0.8473\n",
      "Epoch 88/1000\n",
      "14/14 [==============================] - 3s 220ms/step - loss: 0.8389 - val_loss: 0.8528\n",
      "Epoch 89/1000\n",
      "14/14 [==============================] - 3s 214ms/step - loss: 0.8205 - val_loss: 0.8487\n",
      "Epoch 90/1000\n",
      "14/14 [==============================] - 3s 217ms/step - loss: 0.8235 - val_loss: 0.8496\n",
      "Epoch 91/1000\n",
      "14/14 [==============================] - 3s 228ms/step - loss: 0.7360 - val_loss: 0.8470\n",
      "Epoch 92/1000\n",
      "14/14 [==============================] - 3s 215ms/step - loss: 0.8471 - val_loss: 0.8462\n",
      "Epoch 93/1000\n",
      "14/14 [==============================] - 3s 215ms/step - loss: 0.8435 - val_loss: 0.8509\n",
      "Epoch 94/1000\n",
      "14/14 [==============================] - 3s 219ms/step - loss: 0.8379 - val_loss: 0.8551\n",
      "Epoch 95/1000\n",
      "14/14 [==============================] - 3s 224ms/step - loss: 0.8869 - val_loss: 0.8624\n",
      "Epoch 96/1000\n",
      "14/14 [==============================] - 3s 219ms/step - loss: 0.8877 - val_loss: 0.8672\n",
      "Epoch 97/1000\n",
      "14/14 [==============================] - 3s 218ms/step - loss: 0.9807 - val_loss: 0.8671\n",
      "Epoch 98/1000\n",
      "14/14 [==============================] - 3s 217ms/step - loss: 0.8098 - val_loss: 0.8671\n",
      "Epoch 99/1000\n",
      "14/14 [==============================] - 3s 209ms/step - loss: 0.8492 - val_loss: 0.8676\n",
      "Epoch 100/1000\n",
      "14/14 [==============================] - 3s 213ms/step - loss: 0.8747 - val_loss: 0.8680\n",
      "Epoch 101/1000\n",
      "14/14 [==============================] - 3s 214ms/step - loss: 0.8498 - val_loss: 0.8684\n",
      "Epoch 102/1000\n",
      "14/14 [==============================] - 3s 219ms/step - loss: 0.7842 - val_loss: 0.8684\n",
      "Epoch 103/1000\n",
      "14/14 [==============================] - 3s 219ms/step - loss: 0.8129 - val_loss: 0.8680\n",
      "Epoch 104/1000\n",
      "14/14 [==============================] - 3s 218ms/step - loss: 0.8228 - val_loss: 0.8683\n",
      "Epoch 105/1000\n",
      "14/14 [==============================] - 3s 213ms/step - loss: 0.9122 - val_loss: 0.8690\n",
      "Epoch 106/1000\n",
      "14/14 [==============================] - 3s 212ms/step - loss: 0.9768 - val_loss: 0.8690\n",
      "Epoch 107/1000\n",
      "14/14 [==============================] - 3s 222ms/step - loss: 0.8048 - val_loss: 0.8691\n",
      "Epoch 108/1000\n",
      "14/14 [==============================] - 3s 214ms/step - loss: 0.8429 - val_loss: 0.8687\n",
      "Epoch 109/1000\n",
      "14/14 [==============================] - 3s 217ms/step - loss: 0.7983 - val_loss: 0.8684\n",
      "Epoch 110/1000\n",
      "14/14 [==============================] - 3s 218ms/step - loss: 0.7753 - val_loss: 0.8689\n",
      "Epoch 111/1000\n",
      "14/14 [==============================] - 3s 212ms/step - loss: 0.8354 - val_loss: 0.8691\n",
      "Epoch 112/1000\n",
      "14/14 [==============================] - 3s 214ms/step - loss: 0.7713 - val_loss: 0.8697\n",
      "Epoch 113/1000\n",
      "14/14 [==============================] - 3s 209ms/step - loss: 0.9085 - val_loss: 0.8703\n",
      "Epoch 114/1000\n",
      "14/14 [==============================] - 3s 212ms/step - loss: 0.9421 - val_loss: 0.8705\n",
      "Epoch 115/1000\n",
      "14/14 [==============================] - 3s 222ms/step - loss: 0.8161 - val_loss: 0.8708\n",
      "Epoch 116/1000\n",
      "14/14 [==============================] - 3s 215ms/step - loss: 0.8809 - val_loss: 0.8707\n",
      "Epoch 117/1000\n",
      "14/14 [==============================] - 3s 218ms/step - loss: 0.8776 - val_loss: 0.8710\n",
      "Epoch 118/1000\n",
      "14/14 [==============================] - 3s 214ms/step - loss: 0.8059 - val_loss: 0.8717\n",
      "Epoch 119/1000\n",
      "14/14 [==============================] - 3s 219ms/step - loss: 0.8492 - val_loss: 0.8730\n",
      "Epoch 120/1000\n",
      "14/14 [==============================] - 3s 208ms/step - loss: 0.9529 - val_loss: 0.8737\n",
      "Epoch 121/1000\n",
      "14/14 [==============================] - ETA: 0s - loss: 0.8079Restoring model weights from the end of the best epoch.\n",
      "14/14 [==============================] - 3s 216ms/step - loss: 0.8079 - val_loss: 0.8741\n",
      "Epoch 00121: early stopping\n"
     ]
    }
   ],
   "source": [
    "# History object for plotting our model loss by epoch\n",
    "history = model.fit(x_train, y_train, batch_size = BATCH, \n",
    "                    epochs = EPOCHS, validation_data = (x_val, y_val),\n",
    "                    callbacks = [rlrop, early_stop])"
   ]
  },
  {
   "cell_type": "code",
   "execution_count": 29,
   "metadata": {
    "scrolled": false
   },
   "outputs": [
    {
     "data": {
      "image/png": "[encoded data removed]",
      "text/plain": [
       "<Figure size 720x504 with 1 Axes>"
      ]
     },
     "metadata": {
      "needs_background": "light"
     },
     "output_type": "display_data"
    }
   ],
   "source": [
    "# Loss History\n",
    "fig = plt.figure(figsize=(10, 7))\n",
    "plt.plot(history.history['loss'])\n",
    "plt.plot(history.history['val_loss'])\n",
    "plt.title('Model Loss')\n",
    "plt.ylabel('Loss')\n",
    "plt.xlabel('Epoch')\n",
    "plt.legend(['Train', 'Val'], loc='upper right')\n",
    "plt.show()"
   ]
  },
  {
   "cell_type": "markdown",
   "metadata": {},
   "source": [
    "### Previsão 12 meses em Validação"
   ]
  },
  {
   "cell_type": "code",
   "execution_count": 30,
   "metadata": {},
   "outputs": [
    {
     "data": {
      "text/plain": [
       "array([[8.2434396e+09],\n",
       "       [7.9256279e+09],\n",
       "       [8.4789888e+09],\n",
       "       [8.2876293e+09],\n",
       "       [8.6508728e+09],\n",
       "       [8.5206052e+09],\n",
       "       [8.7318211e+09],\n",
       "       [9.0619228e+09],\n",
       "       [8.6275236e+09],\n",
       "       [8.9039544e+09],\n",
       "       [8.7428362e+09],\n",
       "       [8.5977088e+09]], dtype=float32)"
      ]
     },
     "execution_count": 30,
     "metadata": {},
     "output_type": "execute_result"
    }
   ],
   "source": [
    "Y_pred_val = np.exp(model.predict(x_val))\n",
    "Y_pred_val"
   ]
  },
  {
   "cell_type": "code",
   "execution_count": 31,
   "metadata": {},
   "outputs": [
    {
     "data": {
      "text/plain": [
       "date\n",
       "2012-01-01    8.243440e+09\n",
       "2012-02-01    7.925628e+09\n",
       "2012-03-01    8.478989e+09\n",
       "2012-04-01    8.287629e+09\n",
       "2012-05-01    8.650873e+09\n",
       "2012-06-01    8.520605e+09\n",
       "2012-07-01    8.731821e+09\n",
       "2012-08-01    9.061923e+09\n",
       "2012-09-01    8.627524e+09\n",
       "2012-10-01    8.903954e+09\n",
       "2012-11-01    8.742836e+09\n",
       "2012-12-01    8.597709e+09\n",
       "dtype: float32"
      ]
     },
     "execution_count": 31,
     "metadata": {},
     "output_type": "execute_result"
    }
   ],
   "source": [
    "y_pred_val = pd.Series(Y_pred_val.ravel())\n",
    "y_pred_val.index = icms_val.index\n",
    "y_pred_val"
   ]
  },
  {
   "cell_type": "code",
   "execution_count": 32,
   "metadata": {},
   "outputs": [
    {
     "data": {
      "text/plain": [
       "array([8.41559614e+09, 7.81754014e+09, 8.64182082e+09, 8.97863652e+09,\n",
       "       8.65872039e+09, 8.72868959e+09, 8.64615494e+09, 9.02043670e+09,\n",
       "       9.08247643e+09, 9.54443275e+09, 9.15440234e+09, 1.02509745e+10])"
      ]
     },
     "execution_count": 32,
     "metadata": {},
     "output_type": "execute_result"
    }
   ],
   "source": [
    "np.exp(y_val).ravel()"
   ]
  },
  {
   "cell_type": "code",
   "execution_count": 33,
   "metadata": {},
   "outputs": [
    {
     "data": {
      "text/plain": [
       "585776925.3502547"
      ]
     },
     "execution_count": 33,
     "metadata": {},
     "output_type": "execute_result"
    }
   ],
   "source": [
    "RMSE_lstm_val = mean_squared_error(np.exp(y_val).ravel(), y_pred_val, squared=False)\n",
    "RMSE_lstm_val"
   ]
  },
  {
   "cell_type": "code",
   "execution_count": 34,
   "metadata": {},
   "outputs": [
    {
     "data": {
      "text/plain": [
       "0.041064389280907825"
      ]
     },
     "execution_count": 34,
     "metadata": {},
     "output_type": "execute_result"
    }
   ],
   "source": [
    "MAPE_lstm_val = mean_absolute_percentage_error(np.exp(y_val).ravel(), y_pred_val)\n",
    "MAPE_lstm_val"
   ]
  },
  {
   "cell_type": "code",
   "execution_count": 35,
   "metadata": {},
   "outputs": [],
   "source": [
    "previsoes['nome'].append('RNN-LSTM-Camadas')\n",
    "previsoes['modelo'].append(model)\n",
    "previsoes['previsoes'].append(y_pred_val)\n",
    "\n",
    "previsoes['rmse'].append(RMSE_lstm_val)\n",
    "\n",
    "previsoes['mape'].append(MAPE_lstm_val)"
   ]
  },
  {
   "cell_type": "code",
   "execution_count": 36,
   "metadata": {},
   "outputs": [],
   "source": [
    "previsoes['erro relativo'].append([erro_relativo(prev,real) \n",
    "                                   for prev,real in zip(y_pred_val, y_test)])"
   ]
  },
  {
   "cell_type": "markdown",
   "metadata": {},
   "source": [
    "## Arquitetura da Rede - Larga"
   ]
  },
  {
   "cell_type": "code",
   "execution_count": 37,
   "metadata": {},
   "outputs": [],
   "source": [
    "rlrop2 = ReduceLROnPlateau(monitor='val_loss', factor=0.1, patience=25)\n",
    "early_stop2 = EarlyStopping(monitor='val_loss', patience=100, verbose=1, \n",
    "                           restore_best_weights=True)"
   ]
  },
  {
   "cell_type": "code",
   "execution_count": 38,
   "metadata": {},
   "outputs": [],
   "source": [
    "# Épocas\n",
    "EPOCHS2 = 1000\n",
    "NEURONIOS2 = 600\n",
    "DROPOUT2 = 0.15\n",
    "LR2 = 1e-5\n",
    "BATCH2 = 8\n",
    "\n",
    "# Imstanciação do modelo\n",
    "model2 = Sequential()\n",
    "\n",
    "# Adicionar camada LSTM \n",
    "model2.add(LSTM(activation='tanh', dropout=DROPOUT2,\n",
    "        input_shape = (12, 1), return_sequences = False,\n",
    "        units = NEURONIOS2))\n",
    "\n",
    "# Adicionar a camada de saída com 1 neurônio linear\n",
    "model2.add(Dense(\n",
    "        units = 1,\n",
    "        activation = 'linear'))\n",
    "# a learning rate padrão do Adam é 0.001\n",
    "model2.compile(loss = 'mape', optimizer = Adam(learning_rate=LR2))"
   ]
  },
  {
   "cell_type": "code",
   "execution_count": 39,
   "metadata": {},
   "outputs": [
    {
     "name": "stdout",
     "output_type": "stream",
     "text": [
      "Model: \"sequential_1\"\n",
      "_________________________________________________________________\n",
      "Layer (type)                 Output Shape              Param #   \n",
      "=================================================================\n",
      "lstm_3 (LSTM)                (None, 600)               1444800   \n",
      "_________________________________________________________________\n",
      "dense_1 (Dense)              (None, 1)                 601       \n",
      "=================================================================\n",
      "Total params: 1,445,401\n",
      "Trainable params: 1,445,401\n",
      "Non-trainable params: 0\n",
      "_________________________________________________________________\n"
     ]
    }
   ],
   "source": [
    "model2.summary()"
   ]
  },
  {
   "cell_type": "code",
   "execution_count": 40,
   "metadata": {
    "scrolled": true
   },
   "outputs": [
    {
     "name": "stdout",
     "output_type": "stream",
     "text": [
      "Epoch 1/1000\n",
      "14/14 [==============================] - 2s 114ms/step - loss: 99.9708 - val_loss: 99.8372\n",
      "Epoch 2/1000\n",
      "14/14 [==============================] - 1s 48ms/step - loss: 99.8233 - val_loss: 99.6246\n",
      "Epoch 3/1000\n",
      "14/14 [==============================] - 1s 53ms/step - loss: 99.6755 - val_loss: 99.4029\n",
      "Epoch 4/1000\n",
      "14/14 [==============================] - 1s 51ms/step - loss: 99.5254 - val_loss: 99.1689\n",
      "Epoch 5/1000\n",
      "14/14 [==============================] - 1s 50ms/step - loss: 99.3519 - val_loss: 98.9045\n",
      "Epoch 6/1000\n",
      "14/14 [==============================] - 1s 55ms/step - loss: 99.1698 - val_loss: 98.6027\n",
      "Epoch 7/1000\n",
      "14/14 [==============================] - 1s 58ms/step - loss: 98.9339 - val_loss: 98.2475\n",
      "Epoch 8/1000\n",
      "14/14 [==============================] - 1s 55ms/step - loss: 98.6830 - val_loss: 97.8179\n",
      "Epoch 9/1000\n",
      "14/14 [==============================] - 1s 53ms/step - loss: 98.3659 - val_loss: 97.2763\n",
      "Epoch 10/1000\n",
      "14/14 [==============================] - 1s 49ms/step - loss: 97.9450 - val_loss: 96.5706\n",
      "Epoch 11/1000\n",
      "14/14 [==============================] - 1s 53ms/step - loss: 97.4402 - val_loss: 95.6188\n",
      "Epoch 12/1000\n",
      "14/14 [==============================] - 1s 50ms/step - loss: 96.7379 - val_loss: 94.2562\n",
      "Epoch 13/1000\n",
      "14/14 [==============================] - 1s 50ms/step - loss: 95.6876 - val_loss: 92.2162\n",
      "Epoch 14/1000\n",
      "14/14 [==============================] - 1s 55ms/step - loss: 94.1594 - val_loss: 88.9000\n",
      "Epoch 15/1000\n",
      "14/14 [==============================] - 1s 53ms/step - loss: 91.5060 - val_loss: 83.0834\n",
      "Epoch 16/1000\n",
      "14/14 [==============================] - 1s 54ms/step - loss: 87.3395 - val_loss: 72.0093\n",
      "Epoch 17/1000\n",
      "14/14 [==============================] - 1s 58ms/step - loss: 78.8051 - val_loss: 52.0551\n",
      "Epoch 18/1000\n",
      "14/14 [==============================] - 1s 51ms/step - loss: 63.3908 - val_loss: 28.1067\n",
      "Epoch 19/1000\n",
      "14/14 [==============================] - 1s 52ms/step - loss: 41.8021 - val_loss: 11.5242\n",
      "Epoch 20/1000\n",
      "14/14 [==============================] - 1s 53ms/step - loss: 22.6258 - val_loss: 1.7745\n",
      "Epoch 21/1000\n",
      "14/14 [==============================] - 1s 53ms/step - loss: 7.5696 - val_loss: 3.7032\n",
      "Epoch 22/1000\n",
      "14/14 [==============================] - 0s 33ms/step - loss: 5.6132 - val_loss: 4.3660\n",
      "Epoch 23/1000\n",
      "14/14 [==============================] - 0s 34ms/step - loss: 4.7464 - val_loss: 2.3423\n",
      "Epoch 24/1000\n",
      "14/14 [==============================] - 0s 34ms/step - loss: 2.8300 - val_loss: 0.3014\n",
      "Epoch 25/1000\n",
      "14/14 [==============================] - 0s 31ms/step - loss: 2.7033 - val_loss: 0.3497\n",
      "Epoch 26/1000\n",
      "14/14 [==============================] - 0s 31ms/step - loss: 2.2183 - val_loss: 0.5002\n",
      "Epoch 27/1000\n",
      "14/14 [==============================] - 0s 31ms/step - loss: 1.9453 - val_loss: 0.5799\n",
      "Epoch 28/1000\n",
      "14/14 [==============================] - 0s 32ms/step - loss: 1.9017 - val_loss: 0.6778\n",
      "Epoch 29/1000\n",
      "14/14 [==============================] - 0s 33ms/step - loss: 1.3984 - val_loss: 0.7189\n",
      "Epoch 30/1000\n",
      "14/14 [==============================] - 0s 35ms/step - loss: 1.3554 - val_loss: 0.8157\n",
      "Epoch 31/1000\n",
      "14/14 [==============================] - 0s 34ms/step - loss: 1.2786 - val_loss: 1.2304\n",
      "Epoch 32/1000\n",
      "14/14 [==============================] - 0s 31ms/step - loss: 1.6462 - val_loss: 0.6402\n",
      "Epoch 33/1000\n",
      "14/14 [==============================] - 0s 31ms/step - loss: 1.1786 - val_loss: 0.9473\n",
      "Epoch 34/1000\n",
      "14/14 [==============================] - 0s 28ms/step - loss: 1.0892 - val_loss: 0.8559\n",
      "Epoch 35/1000\n",
      "14/14 [==============================] - 0s 33ms/step - loss: 1.1827 - val_loss: 1.0971\n",
      "Epoch 36/1000\n",
      "14/14 [==============================] - 0s 32ms/step - loss: 1.0660 - val_loss: 1.2676\n",
      "Epoch 37/1000\n",
      "14/14 [==============================] - 0s 32ms/step - loss: 1.1054 - val_loss: 1.1298\n",
      "Epoch 38/1000\n",
      "14/14 [==============================] - 0s 33ms/step - loss: 1.1694 - val_loss: 1.3970\n",
      "Epoch 39/1000\n",
      "14/14 [==============================] - 0s 31ms/step - loss: 1.1495 - val_loss: 1.4215\n",
      "Epoch 40/1000\n",
      "14/14 [==============================] - 0s 31ms/step - loss: 0.9131 - val_loss: 1.4109\n",
      "Epoch 41/1000\n",
      "14/14 [==============================] - 1s 50ms/step - loss: 1.0975 - val_loss: 1.2505\n",
      "Epoch 42/1000\n",
      "14/14 [==============================] - 1s 48ms/step - loss: 1.0936 - val_loss: 1.1553\n",
      "Epoch 43/1000\n",
      "14/14 [==============================] - 0s 33ms/step - loss: 1.0104 - val_loss: 1.3543\n",
      "Epoch 44/1000\n",
      "14/14 [==============================] - 1s 47ms/step - loss: 0.8598 - val_loss: 1.4481\n",
      "Epoch 45/1000\n",
      "14/14 [==============================] - 1s 49ms/step - loss: 1.0808 - val_loss: 1.4910\n",
      "Epoch 46/1000\n",
      "14/14 [==============================] - 1s 51ms/step - loss: 1.1547 - val_loss: 1.3540\n",
      "Epoch 47/1000\n",
      "14/14 [==============================] - 1s 49ms/step - loss: 1.0394 - val_loss: 1.2918\n",
      "Epoch 48/1000\n",
      "14/14 [==============================] - 1s 47ms/step - loss: 1.0299 - val_loss: 1.3885\n",
      "Epoch 49/1000\n",
      "14/14 [==============================] - 1s 55ms/step - loss: 0.8312 - val_loss: 1.4559\n",
      "Epoch 50/1000\n",
      "14/14 [==============================] - 1s 48ms/step - loss: 1.1152 - val_loss: 1.4417\n",
      "Epoch 51/1000\n",
      "14/14 [==============================] - 1s 49ms/step - loss: 1.0062 - val_loss: 1.3855\n",
      "Epoch 52/1000\n",
      "14/14 [==============================] - 1s 51ms/step - loss: 1.0216 - val_loss: 1.3597\n",
      "Epoch 53/1000\n",
      "14/14 [==============================] - 1s 49ms/step - loss: 0.9191 - val_loss: 1.3316\n",
      "Epoch 54/1000\n",
      "14/14 [==============================] - 1s 50ms/step - loss: 0.9685 - val_loss: 1.3603\n",
      "Epoch 55/1000\n",
      "14/14 [==============================] - 1s 48ms/step - loss: 1.0283 - val_loss: 1.3928\n",
      "Epoch 56/1000\n",
      "14/14 [==============================] - 1s 49ms/step - loss: 1.0445 - val_loss: 1.4025\n",
      "Epoch 57/1000\n",
      "14/14 [==============================] - 1s 48ms/step - loss: 0.8770 - val_loss: 1.4034\n",
      "Epoch 58/1000\n",
      "14/14 [==============================] - 1s 49ms/step - loss: 1.1441 - val_loss: 1.4163\n",
      "Epoch 59/1000\n",
      "14/14 [==============================] - 1s 48ms/step - loss: 1.1985 - val_loss: 1.4164\n",
      "Epoch 60/1000\n",
      "14/14 [==============================] - 1s 47ms/step - loss: 1.1291 - val_loss: 1.3724\n",
      "Epoch 61/1000\n",
      "14/14 [==============================] - 1s 50ms/step - loss: 1.1006 - val_loss: 1.3711\n",
      "Epoch 62/1000\n",
      "14/14 [==============================] - 1s 52ms/step - loss: 0.7897 - val_loss: 1.3894\n",
      "Epoch 63/1000\n",
      "14/14 [==============================] - 1s 53ms/step - loss: 0.9091 - val_loss: 1.3934\n",
      "Epoch 64/1000\n",
      "14/14 [==============================] - 1s 49ms/step - loss: 1.0184 - val_loss: 1.3623\n",
      "Epoch 65/1000\n",
      "14/14 [==============================] - 1s 51ms/step - loss: 1.2858 - val_loss: 1.3092\n",
      "Epoch 66/1000\n",
      "14/14 [==============================] - 1s 50ms/step - loss: 0.9597 - val_loss: 1.3035\n",
      "Epoch 67/1000\n",
      "14/14 [==============================] - 1s 46ms/step - loss: 0.9299 - val_loss: 1.3339\n",
      "Epoch 68/1000\n",
      "14/14 [==============================] - 1s 48ms/step - loss: 0.9803 - val_loss: 1.3522\n",
      "Epoch 69/1000\n",
      "14/14 [==============================] - 1s 49ms/step - loss: 0.8468 - val_loss: 1.3552\n",
      "Epoch 70/1000\n",
      "14/14 [==============================] - 1s 50ms/step - loss: 0.9386 - val_loss: 1.3437\n",
      "Epoch 71/1000\n",
      "14/14 [==============================] - 1s 50ms/step - loss: 0.9780 - val_loss: 1.3411\n",
      "Epoch 72/1000\n",
      "14/14 [==============================] - 1s 52ms/step - loss: 0.8764 - val_loss: 1.3912\n",
      "Epoch 73/1000\n",
      "14/14 [==============================] - 1s 51ms/step - loss: 0.8918 - val_loss: 1.3857\n",
      "Epoch 74/1000\n",
      "14/14 [==============================] - 1s 46ms/step - loss: 0.9079 - val_loss: 1.4006\n",
      "Epoch 75/1000\n",
      "14/14 [==============================] - 1s 49ms/step - loss: 0.9950 - val_loss: 1.4013\n",
      "Epoch 76/1000\n",
      "14/14 [==============================] - 1s 48ms/step - loss: 1.0508 - val_loss: 1.4038\n",
      "Epoch 77/1000\n",
      "14/14 [==============================] - 1s 51ms/step - loss: 0.9440 - val_loss: 1.4041\n",
      "Epoch 78/1000\n",
      "14/14 [==============================] - 1s 48ms/step - loss: 0.9471 - val_loss: 1.4063\n",
      "Epoch 79/1000\n",
      "14/14 [==============================] - 1s 48ms/step - loss: 1.1132 - val_loss: 1.4035\n",
      "Epoch 80/1000\n",
      "14/14 [==============================] - 1s 49ms/step - loss: 1.0099 - val_loss: 1.4042\n",
      "Epoch 81/1000\n"
     ]
    },
    {
     "name": "stdout",
     "output_type": "stream",
     "text": [
      "14/14 [==============================] - 1s 51ms/step - loss: 0.9896 - val_loss: 1.4017\n",
      "Epoch 82/1000\n",
      "14/14 [==============================] - 1s 51ms/step - loss: 1.0222 - val_loss: 1.3959\n",
      "Epoch 83/1000\n",
      "14/14 [==============================] - 1s 46ms/step - loss: 0.8152 - val_loss: 1.3948\n",
      "Epoch 84/1000\n",
      "14/14 [==============================] - 1s 50ms/step - loss: 1.0678 - val_loss: 1.3946\n",
      "Epoch 85/1000\n",
      "14/14 [==============================] - 1s 46ms/step - loss: 1.0613 - val_loss: 1.3946\n",
      "Epoch 86/1000\n",
      "14/14 [==============================] - 1s 47ms/step - loss: 0.9606 - val_loss: 1.3967\n",
      "Epoch 87/1000\n",
      "14/14 [==============================] - 1s 47ms/step - loss: 0.8358 - val_loss: 1.3984\n",
      "Epoch 88/1000\n",
      "14/14 [==============================] - 1s 49ms/step - loss: 0.9019 - val_loss: 1.4019\n",
      "Epoch 89/1000\n",
      "14/14 [==============================] - 1s 52ms/step - loss: 0.8990 - val_loss: 1.4044\n",
      "Epoch 90/1000\n",
      "14/14 [==============================] - 1s 50ms/step - loss: 0.9891 - val_loss: 1.4075\n",
      "Epoch 91/1000\n",
      "14/14 [==============================] - 1s 50ms/step - loss: 1.2464 - val_loss: 1.4038\n",
      "Epoch 92/1000\n",
      "14/14 [==============================] - 1s 55ms/step - loss: 1.0025 - val_loss: 1.3980\n",
      "Epoch 93/1000\n",
      "14/14 [==============================] - 1s 48ms/step - loss: 0.9612 - val_loss: 1.3980\n",
      "Epoch 94/1000\n",
      "14/14 [==============================] - 1s 50ms/step - loss: 0.8993 - val_loss: 1.3983\n",
      "Epoch 95/1000\n",
      "14/14 [==============================] - 1s 48ms/step - loss: 1.0068 - val_loss: 1.4020\n",
      "Epoch 96/1000\n",
      "14/14 [==============================] - 1s 48ms/step - loss: 0.9267 - val_loss: 1.4008\n",
      "Epoch 97/1000\n",
      "14/14 [==============================] - 1s 51ms/step - loss: 0.8142 - val_loss: 1.4006\n",
      "Epoch 98/1000\n",
      "14/14 [==============================] - 1s 53ms/step - loss: 1.0534 - val_loss: 1.4020\n",
      "Epoch 99/1000\n",
      "14/14 [==============================] - 1s 50ms/step - loss: 0.9566 - val_loss: 1.4009\n",
      "Epoch 100/1000\n",
      "14/14 [==============================] - 1s 50ms/step - loss: 0.8675 - val_loss: 1.4009\n",
      "Epoch 101/1000\n",
      "14/14 [==============================] - 1s 49ms/step - loss: 1.0369 - val_loss: 1.4007\n",
      "Epoch 102/1000\n",
      "14/14 [==============================] - 1s 50ms/step - loss: 1.0842 - val_loss: 1.4007\n",
      "Epoch 103/1000\n",
      "14/14 [==============================] - 1s 49ms/step - loss: 1.2349 - val_loss: 1.4004\n",
      "Epoch 104/1000\n",
      "14/14 [==============================] - 1s 53ms/step - loss: 1.0293 - val_loss: 1.3999\n",
      "Epoch 105/1000\n",
      "14/14 [==============================] - 1s 55ms/step - loss: 0.9960 - val_loss: 1.4000\n",
      "Epoch 106/1000\n",
      "14/14 [==============================] - 1s 46ms/step - loss: 1.3725 - val_loss: 1.4004\n",
      "Epoch 107/1000\n",
      "14/14 [==============================] - 1s 50ms/step - loss: 1.1142 - val_loss: 1.4004\n",
      "Epoch 108/1000\n",
      "14/14 [==============================] - 1s 51ms/step - loss: 1.0081 - val_loss: 1.4003\n",
      "Epoch 109/1000\n",
      "14/14 [==============================] - 1s 50ms/step - loss: 0.7140 - val_loss: 1.4000\n",
      "Epoch 110/1000\n",
      "14/14 [==============================] - 1s 48ms/step - loss: 1.0129 - val_loss: 1.3999\n",
      "Epoch 111/1000\n",
      "14/14 [==============================] - 1s 47ms/step - loss: 0.9093 - val_loss: 1.4000\n",
      "Epoch 112/1000\n",
      "14/14 [==============================] - 1s 46ms/step - loss: 1.0407 - val_loss: 1.3999\n",
      "Epoch 113/1000\n",
      "14/14 [==============================] - 1s 47ms/step - loss: 0.9113 - val_loss: 1.4000\n",
      "Epoch 114/1000\n",
      "14/14 [==============================] - 1s 48ms/step - loss: 0.9056 - val_loss: 1.4001\n",
      "Epoch 115/1000\n",
      "14/14 [==============================] - 1s 50ms/step - loss: 0.9265 - val_loss: 1.4002\n",
      "Epoch 116/1000\n",
      "14/14 [==============================] - 1s 50ms/step - loss: 1.1917 - val_loss: 1.4000\n",
      "Epoch 117/1000\n",
      "14/14 [==============================] - 1s 52ms/step - loss: 1.1793 - val_loss: 1.3999\n",
      "Epoch 118/1000\n",
      "14/14 [==============================] - 1s 48ms/step - loss: 1.0017 - val_loss: 1.3999\n",
      "Epoch 119/1000\n",
      "14/14 [==============================] - 1s 50ms/step - loss: 0.9699 - val_loss: 1.3999\n",
      "Epoch 120/1000\n",
      "14/14 [==============================] - 1s 49ms/step - loss: 1.0039 - val_loss: 1.4003\n",
      "Epoch 121/1000\n",
      "14/14 [==============================] - 1s 52ms/step - loss: 1.0331 - val_loss: 1.4000\n",
      "Epoch 122/1000\n",
      "14/14 [==============================] - 1s 52ms/step - loss: 0.8976 - val_loss: 1.4000\n",
      "Epoch 123/1000\n",
      "14/14 [==============================] - 1s 49ms/step - loss: 0.9195 - val_loss: 1.4002\n",
      "Epoch 124/1000\n",
      "13/14 [==========================>...] - ETA: 0s - loss: 0.8689Restoring model weights from the end of the best epoch.\n",
      "14/14 [==============================] - 1s 51ms/step - loss: 0.8593 - val_loss: 1.4002\n",
      "Epoch 00124: early stopping\n"
     ]
    }
   ],
   "source": [
    "# History object for plotting our model loss by epoch\n",
    "history2 = model2.fit(x_train, y_train, batch_size = BATCH2, \n",
    "                    epochs = EPOCHS2, validation_data = (x_val, y_val),\n",
    "                    callbacks = [rlrop2, early_stop2])"
   ]
  },
  {
   "cell_type": "code",
   "execution_count": 41,
   "metadata": {
    "scrolled": false
   },
   "outputs": [
    {
     "data": {
      "image/png": "[encoded data removed]",
      "text/plain": [
       "<Figure size 720x504 with 1 Axes>"
      ]
     },
     "metadata": {
      "needs_background": "light"
     },
     "output_type": "display_data"
    }
   ],
   "source": [
    "# Loss History\n",
    "fig = plt.figure(figsize=(10, 7))\n",
    "plt.plot(history2.history['loss'])\n",
    "plt.plot(history2.history['val_loss'])\n",
    "plt.title('Model Loss')\n",
    "plt.ylabel('Loss')\n",
    "plt.xlabel('Epoch')\n",
    "plt.legend(['Train', 'Val'], loc='upper right')\n",
    "plt.show()"
   ]
  },
  {
   "cell_type": "markdown",
   "metadata": {},
   "source": [
    "### Previsão 12 meses em Validação"
   ]
  },
  {
   "cell_type": "code",
   "execution_count": 42,
   "metadata": {},
   "outputs": [
    {
     "data": {
      "text/plain": [
       "array([[8.906945e+09],\n",
       "       [8.517225e+09],\n",
       "       [9.501434e+09],\n",
       "       [9.126292e+09],\n",
       "       [9.581143e+09],\n",
       "       [9.385725e+09],\n",
       "       [9.666018e+09],\n",
       "       [9.966043e+09],\n",
       "       [9.344926e+09],\n",
       "       [9.792110e+09],\n",
       "       [9.609676e+09],\n",
       "       [9.396400e+09]], dtype=float32)"
      ]
     },
     "execution_count": 42,
     "metadata": {},
     "output_type": "execute_result"
    }
   ],
   "source": [
    "Y_pred_val2 = np.exp(model2.predict(x_val))\n",
    "Y_pred_val2"
   ]
  },
  {
   "cell_type": "code",
   "execution_count": 43,
   "metadata": {},
   "outputs": [
    {
     "data": {
      "text/plain": [
       "date\n",
       "2012-01-01    8.906945e+09\n",
       "2012-02-01    8.517225e+09\n",
       "2012-03-01    9.501434e+09\n",
       "2012-04-01    9.126292e+09\n",
       "2012-05-01    9.581143e+09\n",
       "2012-06-01    9.385725e+09\n",
       "2012-07-01    9.666018e+09\n",
       "2012-08-01    9.966043e+09\n",
       "2012-09-01    9.344926e+09\n",
       "2012-10-01    9.792110e+09\n",
       "2012-11-01    9.609676e+09\n",
       "2012-12-01    9.396400e+09\n",
       "dtype: float32"
      ]
     },
     "execution_count": 43,
     "metadata": {},
     "output_type": "execute_result"
    }
   ],
   "source": [
    "y_pred_val2 = pd.Series(Y_pred_val2.ravel())\n",
    "y_pred_val2.index = icms_val.index\n",
    "y_pred_val2"
   ]
  },
  {
   "cell_type": "code",
   "execution_count": 44,
   "metadata": {},
   "outputs": [
    {
     "data": {
      "text/plain": [
       "array([8.41559614e+09, 7.81754014e+09, 8.64182082e+09, 8.97863652e+09,\n",
       "       8.65872039e+09, 8.72868959e+09, 8.64615494e+09, 9.02043670e+09,\n",
       "       9.08247643e+09, 9.54443275e+09, 9.15440234e+09, 1.02509745e+10])"
      ]
     },
     "execution_count": 44,
     "metadata": {},
     "output_type": "execute_result"
    }
   ],
   "source": [
    "np.exp(y_val).ravel()"
   ]
  },
  {
   "cell_type": "code",
   "execution_count": 45,
   "metadata": {},
   "outputs": [
    {
     "data": {
      "text/plain": [
       "693803851.8011844"
      ]
     },
     "execution_count": 45,
     "metadata": {},
     "output_type": "execute_result"
    }
   ],
   "source": [
    "RMSE_lstm_val2 = mean_squared_error(np.exp(y_val).ravel(), y_pred_val2, squared=False)\n",
    "RMSE_lstm_val2"
   ]
  },
  {
   "cell_type": "code",
   "execution_count": 46,
   "metadata": {},
   "outputs": [
    {
     "data": {
      "text/plain": [
       "0.07136142586791701"
      ]
     },
     "execution_count": 46,
     "metadata": {},
     "output_type": "execute_result"
    }
   ],
   "source": [
    "MAPE_lstm_val2 = mean_absolute_percentage_error(np.exp(y_val).ravel(), y_pred_val2)\n",
    "MAPE_lstm_val2"
   ]
  },
  {
   "cell_type": "code",
   "execution_count": 47,
   "metadata": {},
   "outputs": [],
   "source": [
    "previsoes['nome'].append('RNN-LSTM-Larga')\n",
    "previsoes['modelo'].append(model2)\n",
    "previsoes['previsoes'].append(y_pred_val2)\n",
    "\n",
    "previsoes['rmse'].append(RMSE_lstm_val2)\n",
    "\n",
    "previsoes['mape'].append(MAPE_lstm_val2)"
   ]
  },
  {
   "cell_type": "code",
   "execution_count": 48,
   "metadata": {},
   "outputs": [],
   "source": [
    "previsoes['erro relativo'].append([erro_relativo(prev,real) \n",
    "                                   for prev,real in zip(y_pred_val2, y_test)])"
   ]
  },
  {
   "cell_type": "markdown",
   "metadata": {},
   "source": [
    "## Resultados"
   ]
  },
  {
   "cell_type": "code",
   "execution_count": 49,
   "metadata": {},
   "outputs": [],
   "source": [
    "df_prev = pd.DataFrame(data=previsoes['previsoes'], \n",
    "                       index=previsoes['nome']).transpose()\n",
    "df_prev[\"real\"] = icms_val\n",
    "df_rmse = pd.DataFrame(data=previsoes['rmse'], \n",
    "                       index=previsoes['nome']).transpose()\n",
    "df_mape = pd.DataFrame(data=previsoes['mape'], \n",
    "                       index=previsoes['nome']).transpose()\n",
    "df_erro = pd.DataFrame(data=previsoes['erro relativo'], \n",
    "                       index=previsoes['nome']).transpose()"
   ]
  },
  {
   "cell_type": "code",
   "execution_count": 50,
   "metadata": {},
   "outputs": [
    {
     "data": {
      "text/html": [
       "<div>\n",
       "<style scoped>\n",
       "    .dataframe tbody tr th:only-of-type {\n",
       "        vertical-align: middle;\n",
       "    }\n",
       "\n",
       "    .dataframe tbody tr th {\n",
       "        vertical-align: top;\n",
       "    }\n",
       "\n",
       "    .dataframe thead th {\n",
       "        text-align: right;\n",
       "    }\n",
       "</style>\n",
       "<table border=\"1\" class=\"dataframe\">\n",
       "  <thead>\n",
       "    <tr style=\"text-align: right;\">\n",
       "      <th></th>\n",
       "      <th>RNN-LSTM-Camadas</th>\n",
       "      <th>RNN-LSTM-Larga</th>\n",
       "      <th>real</th>\n",
       "    </tr>\n",
       "    <tr>\n",
       "      <th>date</th>\n",
       "      <th></th>\n",
       "      <th></th>\n",
       "      <th></th>\n",
       "    </tr>\n",
       "  </thead>\n",
       "  <tbody>\n",
       "    <tr>\n",
       "      <th>2012-01-01</th>\n",
       "      <td>8.243440e+09</td>\n",
       "      <td>8.906945e+09</td>\n",
       "      <td>8.415596e+09</td>\n",
       "    </tr>\n",
       "    <tr>\n",
       "      <th>2012-02-01</th>\n",
       "      <td>7.925628e+09</td>\n",
       "      <td>8.517225e+09</td>\n",
       "      <td>7.817540e+09</td>\n",
       "    </tr>\n",
       "    <tr>\n",
       "      <th>2012-03-01</th>\n",
       "      <td>8.478989e+09</td>\n",
       "      <td>9.501434e+09</td>\n",
       "      <td>8.641821e+09</td>\n",
       "    </tr>\n",
       "    <tr>\n",
       "      <th>2012-04-01</th>\n",
       "      <td>8.287629e+09</td>\n",
       "      <td>9.126292e+09</td>\n",
       "      <td>8.978637e+09</td>\n",
       "    </tr>\n",
       "    <tr>\n",
       "      <th>2012-05-01</th>\n",
       "      <td>8.650873e+09</td>\n",
       "      <td>9.581143e+09</td>\n",
       "      <td>8.658720e+09</td>\n",
       "    </tr>\n",
       "    <tr>\n",
       "      <th>2012-06-01</th>\n",
       "      <td>8.520605e+09</td>\n",
       "      <td>9.385725e+09</td>\n",
       "      <td>8.728690e+09</td>\n",
       "    </tr>\n",
       "    <tr>\n",
       "      <th>2012-07-01</th>\n",
       "      <td>8.731821e+09</td>\n",
       "      <td>9.666018e+09</td>\n",
       "      <td>8.646155e+09</td>\n",
       "    </tr>\n",
       "    <tr>\n",
       "      <th>2012-08-01</th>\n",
       "      <td>9.061923e+09</td>\n",
       "      <td>9.966043e+09</td>\n",
       "      <td>9.020437e+09</td>\n",
       "    </tr>\n",
       "    <tr>\n",
       "      <th>2012-09-01</th>\n",
       "      <td>8.627524e+09</td>\n",
       "      <td>9.344926e+09</td>\n",
       "      <td>9.082476e+09</td>\n",
       "    </tr>\n",
       "    <tr>\n",
       "      <th>2012-10-01</th>\n",
       "      <td>8.903954e+09</td>\n",
       "      <td>9.792110e+09</td>\n",
       "      <td>9.544433e+09</td>\n",
       "    </tr>\n",
       "    <tr>\n",
       "      <th>2012-11-01</th>\n",
       "      <td>8.742836e+09</td>\n",
       "      <td>9.609676e+09</td>\n",
       "      <td>9.154402e+09</td>\n",
       "    </tr>\n",
       "    <tr>\n",
       "      <th>2012-12-01</th>\n",
       "      <td>8.597709e+09</td>\n",
       "      <td>9.396400e+09</td>\n",
       "      <td>1.025097e+10</td>\n",
       "    </tr>\n",
       "  </tbody>\n",
       "</table>\n",
       "</div>"
      ],
      "text/plain": [
       "            RNN-LSTM-Camadas  RNN-LSTM-Larga          real\n",
       "date                                                      \n",
       "2012-01-01      8.243440e+09    8.906945e+09  8.415596e+09\n",
       "2012-02-01      7.925628e+09    8.517225e+09  7.817540e+09\n",
       "2012-03-01      8.478989e+09    9.501434e+09  8.641821e+09\n",
       "2012-04-01      8.287629e+09    9.126292e+09  8.978637e+09\n",
       "2012-05-01      8.650873e+09    9.581143e+09  8.658720e+09\n",
       "2012-06-01      8.520605e+09    9.385725e+09  8.728690e+09\n",
       "2012-07-01      8.731821e+09    9.666018e+09  8.646155e+09\n",
       "2012-08-01      9.061923e+09    9.966043e+09  9.020437e+09\n",
       "2012-09-01      8.627524e+09    9.344926e+09  9.082476e+09\n",
       "2012-10-01      8.903954e+09    9.792110e+09  9.544433e+09\n",
       "2012-11-01      8.742836e+09    9.609676e+09  9.154402e+09\n",
       "2012-12-01      8.597709e+09    9.396400e+09  1.025097e+10"
      ]
     },
     "execution_count": 50,
     "metadata": {},
     "output_type": "execute_result"
    }
   ],
   "source": [
    "df_prev"
   ]
  },
  {
   "cell_type": "code",
   "execution_count": 51,
   "metadata": {},
   "outputs": [
    {
     "data": {
      "text/html": [
       "<div>\n",
       "<style scoped>\n",
       "    .dataframe tbody tr th:only-of-type {\n",
       "        vertical-align: middle;\n",
       "    }\n",
       "\n",
       "    .dataframe tbody tr th {\n",
       "        vertical-align: top;\n",
       "    }\n",
       "\n",
       "    .dataframe thead th {\n",
       "        text-align: right;\n",
       "    }\n",
       "</style>\n",
       "<table border=\"1\" class=\"dataframe\">\n",
       "  <thead>\n",
       "    <tr style=\"text-align: right;\">\n",
       "      <th></th>\n",
       "      <th>RNN-LSTM-Camadas</th>\n",
       "      <th>RNN-LSTM-Larga</th>\n",
       "    </tr>\n",
       "  </thead>\n",
       "  <tbody>\n",
       "    <tr>\n",
       "      <th>0</th>\n",
       "      <td>[6.317730096408967]</td>\n",
       "      <td>[1.2226471787250754]</td>\n",
       "    </tr>\n",
       "    <tr>\n",
       "      <th>1</th>\n",
       "      <td>[8.800544709026166]</td>\n",
       "      <td>[1.9930929951103589]</td>\n",
       "    </tr>\n",
       "    <tr>\n",
       "      <th>2</th>\n",
       "      <td>[2.5229355127054998]</td>\n",
       "      <td>[9.231407488482029]</td>\n",
       "    </tr>\n",
       "    <tr>\n",
       "      <th>3</th>\n",
       "      <td>[12.27221757974001]</td>\n",
       "      <td>[3.394641477288245]</td>\n",
       "    </tr>\n",
       "    <tr>\n",
       "      <th>4</th>\n",
       "      <td>[8.9188981167215]</td>\n",
       "      <td>[0.8754934133916422]</td>\n",
       "    </tr>\n",
       "    <tr>\n",
       "      <th>5</th>\n",
       "      <td>[6.710167403815905]</td>\n",
       "      <td>[2.7617978322878733]</td>\n",
       "    </tr>\n",
       "    <tr>\n",
       "      <th>6</th>\n",
       "      <td>[9.581603340161738]</td>\n",
       "      <td>[0.0920508479473241]</td>\n",
       "    </tr>\n",
       "    <tr>\n",
       "      <th>7</th>\n",
       "      <td>[5.648282844933431]</td>\n",
       "      <td>[3.765315840344565]</td>\n",
       "    </tr>\n",
       "    <tr>\n",
       "      <th>8</th>\n",
       "      <td>[14.708680703669712]</td>\n",
       "      <td>[7.616474927271837]</td>\n",
       "    </tr>\n",
       "    <tr>\n",
       "      <th>9</th>\n",
       "      <td>[12.79001226257263]</td>\n",
       "      <td>[4.090956229544951]</td>\n",
       "    </tr>\n",
       "    <tr>\n",
       "      <th>10</th>\n",
       "      <td>[9.986401546908557]</td>\n",
       "      <td>[1.0616835997974754]</td>\n",
       "    </tr>\n",
       "    <tr>\n",
       "      <th>11</th>\n",
       "      <td>[20.152187215870168]</td>\n",
       "      <td>[12.734658067819463]</td>\n",
       "    </tr>\n",
       "  </tbody>\n",
       "</table>\n",
       "</div>"
      ],
      "text/plain": [
       "        RNN-LSTM-Camadas        RNN-LSTM-Larga\n",
       "0    [6.317730096408967]  [1.2226471787250754]\n",
       "1    [8.800544709026166]  [1.9930929951103589]\n",
       "2   [2.5229355127054998]   [9.231407488482029]\n",
       "3    [12.27221757974001]   [3.394641477288245]\n",
       "4      [8.9188981167215]  [0.8754934133916422]\n",
       "5    [6.710167403815905]  [2.7617978322878733]\n",
       "6    [9.581603340161738]  [0.0920508479473241]\n",
       "7    [5.648282844933431]   [3.765315840344565]\n",
       "8   [14.708680703669712]   [7.616474927271837]\n",
       "9    [12.79001226257263]   [4.090956229544951]\n",
       "10   [9.986401546908557]  [1.0616835997974754]\n",
       "11  [20.152187215870168]  [12.734658067819463]"
      ]
     },
     "execution_count": 51,
     "metadata": {},
     "output_type": "execute_result"
    }
   ],
   "source": [
    "df_erro"
   ]
  },
  {
   "cell_type": "markdown",
   "metadata": {},
   "source": [
    "### Resultados"
   ]
  },
  {
   "cell_type": "code",
   "execution_count": 52,
   "metadata": {
    "scrolled": false
   },
   "outputs": [
    {
     "data": {
      "image/png": "[encoded data removed]",
      "text/plain": [
       "<Figure size 1080x720 with 1 Axes>"
      ]
     },
     "metadata": {
      "needs_background": "light"
     },
     "output_type": "display_data"
    }
   ],
   "source": [
    "fig = plt.figure(figsize=(15, 10))\n",
    "ax = sns.lineplot(data=df_prev)"
   ]
  },
  {
   "cell_type": "markdown",
   "metadata": {},
   "source": [
    "#### RMSE"
   ]
  },
  {
   "cell_type": "code",
   "execution_count": 53,
   "metadata": {},
   "outputs": [
    {
     "data": {
      "image/png": "[encoded data removed]",
      "text/plain": [
       "<Figure size 1080x720 with 1 Axes>"
      ]
     },
     "metadata": {
      "needs_background": "light"
     },
     "output_type": "display_data"
    }
   ],
   "source": [
    "fig = plt.figure(figsize=(15, 10))\n",
    "ax = sns.barplot(data=df_rmse)"
   ]
  },
  {
   "cell_type": "markdown",
   "metadata": {},
   "source": [
    "#### MAPE"
   ]
  },
  {
   "cell_type": "code",
   "execution_count": 54,
   "metadata": {
    "scrolled": false
   },
   "outputs": [
    {
     "data": {
      "image/png": "[encoded data removed]",
      "text/plain": [
       "<Figure size 1080x720 with 1 Axes>"
      ]
     },
     "metadata": {
      "needs_background": "light"
     },
     "output_type": "display_data"
    }
   ],
   "source": [
    "fig = plt.figure(figsize=(15, 10))\n",
    "ax = sns.barplot(data=df_mape)"
   ]
  },
  {
   "cell_type": "markdown",
   "metadata": {},
   "source": [
    "### Resumo das métricas"
   ]
  },
  {
   "cell_type": "code",
   "execution_count": 55,
   "metadata": {},
   "outputs": [],
   "source": [
    "df_rmse.index = ['RMSE']\n",
    "df_mape.index = ['MAPE']"
   ]
  },
  {
   "cell_type": "code",
   "execution_count": 56,
   "metadata": {},
   "outputs": [
    {
     "data": {
      "text/html": [
       "<div>\n",
       "<style scoped>\n",
       "    .dataframe tbody tr th:only-of-type {\n",
       "        vertical-align: middle;\n",
       "    }\n",
       "\n",
       "    .dataframe tbody tr th {\n",
       "        vertical-align: top;\n",
       "    }\n",
       "\n",
       "    .dataframe thead th {\n",
       "        text-align: right;\n",
       "    }\n",
       "</style>\n",
       "<table border=\"1\" class=\"dataframe\">\n",
       "  <thead>\n",
       "    <tr style=\"text-align: right;\">\n",
       "      <th></th>\n",
       "      <th>RMSE</th>\n",
       "      <th>MAPE</th>\n",
       "    </tr>\n",
       "  </thead>\n",
       "  <tbody>\n",
       "    <tr>\n",
       "      <th>RNN-LSTM-Camadas</th>\n",
       "      <td>5.857769e+08</td>\n",
       "      <td>0.041064</td>\n",
       "    </tr>\n",
       "    <tr>\n",
       "      <th>RNN-LSTM-Larga</th>\n",
       "      <td>6.938039e+08</td>\n",
       "      <td>0.071361</td>\n",
       "    </tr>\n",
       "  </tbody>\n",
       "</table>\n",
       "</div>"
      ],
      "text/plain": [
       "                          RMSE      MAPE\n",
       "RNN-LSTM-Camadas  5.857769e+08  0.041064\n",
       "RNN-LSTM-Larga    6.938039e+08  0.071361"
      ]
     },
     "execution_count": 56,
     "metadata": {},
     "output_type": "execute_result"
    }
   ],
   "source": [
    "df_metricas = df_rmse.copy()\n",
    "df_metricas = df_metricas.append(df_mape)\n",
    "df_metricas.transpose()"
   ]
  },
  {
   "cell_type": "code",
   "execution_count": 61,
   "metadata": {},
   "outputs": [],
   "source": [
    "df_metricas.transpose().to_excel('./metricas_val_rnn_multi_2013.xlsx', index_label='modelo')"
   ]
  },
  {
   "cell_type": "code",
   "execution_count": null,
   "metadata": {},
   "outputs": [],
   "source": []
  }
 ],
 "metadata": {
  "kernelspec": {
   "display_name": "Python 3",
   "language": "python",
   "name": "python3"
  },
  "language_info": {
   "codemirror_mode": {
    "name": "ipython",
    "version": 3
   },
   "file_extension": ".py",
   "mimetype": "text/x-python",
   "name": "python",
   "nbconvert_exporter": "python",
   "pygments_lexer": "ipython3",
   "version": "3.6.4"
  }
 },
 "nbformat": 4,
 "nbformat_minor": 2
}
