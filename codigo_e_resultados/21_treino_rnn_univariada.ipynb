{
 "cells": [
  {
   "cell_type": "markdown",
   "metadata": {},
   "source": [
    "# Aplicação de Modelos de Markov e Redes Neurais LSTM na Previsão de Arrecadação do ICMS Paulista\n",
    "## Resultados 2021\n",
    "\n",
    "### Antonio Sergio Ferreira Bonato"
   ]
  },
  {
   "cell_type": "markdown",
   "metadata": {},
   "source": [
    "Atualmente, na Secretaria da Fazenda e Planejamento do Estado de São Paulo, a previsão de arrecadação do ICMS paulista é feita usando-se um modelo ARIMA com variáveis exógenas, o ARIMAX. Mas o ICMS é não linear e há várias quebras estruturais controladas com diversas *dummies*. A consequência é um modelo bastante sobreajustado, inadequado para previsões de mais longo prazo (mais do que alguns meses, muito menos para um ano). \n",
    "A proposta deste trabalho é utilizar modelos não lineares multivariados na previsão do ICMS paulista, utilizando redes neurais recorrentes LSTM (*Long Short Term Memory*) e modelos Markov-Switching, fazendo um contraponto entre estes dois modelos. E utilizar, como baseline de comparação, o modelo ARIMAX atual. \n",
    "\n",
    "**Palavras-chave**: Markov-Switching Models. Redes Neurais Recorrentes. LSTM. ICMS."
   ]
  },
  {
   "cell_type": "markdown",
   "metadata": {},
   "source": [
    "## Treinamento das Redes Neurais - Série Univariada"
   ]
  },
  {
   "cell_type": "code",
   "execution_count": 1,
   "metadata": {},
   "outputs": [],
   "source": [
    "import pandas as pd\n",
    "import numpy as np\n",
    "import seaborn as sns\n",
    "import matplotlib.pyplot as plt\n",
    "import statsmodels.tsa.stattools\n",
    "import statsmodels.tsa.x13\n",
    "import statsmodels.graphics.tsaplots\n",
    "import statsmodels.api as sm\n",
    "from statsmodels.graphics.api import qqplot\n",
    "from statsmodels.tsa.api import acf, graphics, pacf\n",
    "from statsmodels.tsa.arima.model import ARIMA\n",
    "import pickle\n",
    "from pmdarima.arima import auto_arima, nsdiffs, ndiffs\n",
    "from sklearn.metrics import mean_squared_error, mean_absolute_percentage_error\n",
    "import random\n",
    "import tensorflow as tf\n",
    "seed = 42\n",
    "random.seed(seed)\n",
    "np.random.seed(seed)\n",
    "tf.random.set_seed(seed)\n",
    "\n",
    "sns.set()\n",
    "sns.set_context(\"notebook\")\n",
    "sns.set(rc={'figure.figsize':(10,7)})"
   ]
  },
  {
   "cell_type": "code",
   "execution_count": 2,
   "metadata": {},
   "outputs": [],
   "source": [
    "import warnings\n",
    "warnings.filterwarnings('ignore')\n",
    "warnings.simplefilter('ignore')"
   ]
  },
  {
   "cell_type": "code",
   "execution_count": 3,
   "metadata": {},
   "outputs": [],
   "source": [
    "df_main_orig = pd.read_excel(\"variaveis_previsao.xlsx\", parse_dates=['date'])"
   ]
  },
  {
   "cell_type": "markdown",
   "metadata": {},
   "source": [
    "Removendo as últimas linhas que são todas NaN"
   ]
  },
  {
   "cell_type": "code",
   "execution_count": 4,
   "metadata": {},
   "outputs": [],
   "source": [
    "df_main = df_main_orig.iloc[0:228]\n",
    "datas = df_main['date']"
   ]
  },
  {
   "cell_type": "code",
   "execution_count": 5,
   "metadata": {},
   "outputs": [
    {
     "data": {
      "text/html": [
       "<div>\n",
       "<style scoped>\n",
       "    .dataframe tbody tr th:only-of-type {\n",
       "        vertical-align: middle;\n",
       "    }\n",
       "\n",
       "    .dataframe tbody tr th {\n",
       "        vertical-align: top;\n",
       "    }\n",
       "\n",
       "    .dataframe thead th {\n",
       "        text-align: right;\n",
       "    }\n",
       "</style>\n",
       "<table border=\"1\" class=\"dataframe\">\n",
       "  <thead>\n",
       "    <tr style=\"text-align: right;\">\n",
       "      <th></th>\n",
       "      <th>date</th>\n",
       "      <th>icms_sp</th>\n",
       "      <th>igp_m</th>\n",
       "      <th>dolar</th>\n",
       "      <th>ibc_br</th>\n",
       "      <th>dias_uteis</th>\n",
       "      <th>igp_m_22</th>\n",
       "      <th>dolar_22</th>\n",
       "      <th>ibc_br_22</th>\n",
       "      <th>igp_m_21</th>\n",
       "      <th>...</th>\n",
       "      <th>ibc_br_15</th>\n",
       "      <th>Unnamed: 40</th>\n",
       "      <th>Unnamed: 41</th>\n",
       "      <th>igp_m_14</th>\n",
       "      <th>dolar_14</th>\n",
       "      <th>ibc_br_14</th>\n",
       "      <th>Unnamed: 45</th>\n",
       "      <th>igp_m_13</th>\n",
       "      <th>dolar_13</th>\n",
       "      <th>ibc_br_13</th>\n",
       "    </tr>\n",
       "  </thead>\n",
       "  <tbody>\n",
       "    <tr>\n",
       "      <th>223</th>\n",
       "      <td>2021-08-01</td>\n",
       "      <td>1.597532e+10</td>\n",
       "      <td>1091.290</td>\n",
       "      <td>5.251718</td>\n",
       "      <td>141.97</td>\n",
       "      <td>22</td>\n",
       "      <td>1091.290</td>\n",
       "      <td>5.251718</td>\n",
       "      <td>141.97</td>\n",
       "      <td>961.725459</td>\n",
       "      <td>...</td>\n",
       "      <td>NaN</td>\n",
       "      <td>NaN</td>\n",
       "      <td>NaN</td>\n",
       "      <td>NaN</td>\n",
       "      <td>NaN</td>\n",
       "      <td>NaN</td>\n",
       "      <td>NaN</td>\n",
       "      <td>NaN</td>\n",
       "      <td>NaN</td>\n",
       "      <td>NaN</td>\n",
       "    </tr>\n",
       "    <tr>\n",
       "      <th>224</th>\n",
       "      <td>2021-09-01</td>\n",
       "      <td>1.622460e+10</td>\n",
       "      <td>1084.312</td>\n",
       "      <td>5.279690</td>\n",
       "      <td>138.79</td>\n",
       "      <td>21</td>\n",
       "      <td>1084.312</td>\n",
       "      <td>5.279690</td>\n",
       "      <td>138.79</td>\n",
       "      <td>965.668534</td>\n",
       "      <td>...</td>\n",
       "      <td>NaN</td>\n",
       "      <td>NaN</td>\n",
       "      <td>NaN</td>\n",
       "      <td>NaN</td>\n",
       "      <td>NaN</td>\n",
       "      <td>NaN</td>\n",
       "      <td>NaN</td>\n",
       "      <td>NaN</td>\n",
       "      <td>NaN</td>\n",
       "      <td>NaN</td>\n",
       "    </tr>\n",
       "    <tr>\n",
       "      <th>225</th>\n",
       "      <td>2021-10-01</td>\n",
       "      <td>1.664068e+10</td>\n",
       "      <td>1091.283</td>\n",
       "      <td>5.539980</td>\n",
       "      <td>138.02</td>\n",
       "      <td>20</td>\n",
       "      <td>1091.283</td>\n",
       "      <td>5.539980</td>\n",
       "      <td>138.02</td>\n",
       "      <td>970.014042</td>\n",
       "      <td>...</td>\n",
       "      <td>NaN</td>\n",
       "      <td>NaN</td>\n",
       "      <td>NaN</td>\n",
       "      <td>NaN</td>\n",
       "      <td>NaN</td>\n",
       "      <td>NaN</td>\n",
       "      <td>NaN</td>\n",
       "      <td>NaN</td>\n",
       "      <td>NaN</td>\n",
       "      <td>NaN</td>\n",
       "    </tr>\n",
       "    <tr>\n",
       "      <th>226</th>\n",
       "      <td>2021-11-01</td>\n",
       "      <td>1.737603e+10</td>\n",
       "      <td>1091.483</td>\n",
       "      <td>5.556860</td>\n",
       "      <td>139.75</td>\n",
       "      <td>20</td>\n",
       "      <td>1091.483</td>\n",
       "      <td>5.556860</td>\n",
       "      <td>139.75</td>\n",
       "      <td>973.894098</td>\n",
       "      <td>...</td>\n",
       "      <td>NaN</td>\n",
       "      <td>NaN</td>\n",
       "      <td>NaN</td>\n",
       "      <td>NaN</td>\n",
       "      <td>NaN</td>\n",
       "      <td>NaN</td>\n",
       "      <td>NaN</td>\n",
       "      <td>NaN</td>\n",
       "      <td>NaN</td>\n",
       "      <td>NaN</td>\n",
       "    </tr>\n",
       "    <tr>\n",
       "      <th>227</th>\n",
       "      <td>2021-12-01</td>\n",
       "      <td>1.853772e+10</td>\n",
       "      <td>1100.988</td>\n",
       "      <td>5.651391</td>\n",
       "      <td>141.61</td>\n",
       "      <td>23</td>\n",
       "      <td>1100.988</td>\n",
       "      <td>5.651391</td>\n",
       "      <td>141.61</td>\n",
       "      <td>977.984454</td>\n",
       "      <td>...</td>\n",
       "      <td>NaN</td>\n",
       "      <td>NaN</td>\n",
       "      <td>NaN</td>\n",
       "      <td>NaN</td>\n",
       "      <td>NaN</td>\n",
       "      <td>NaN</td>\n",
       "      <td>NaN</td>\n",
       "      <td>NaN</td>\n",
       "      <td>NaN</td>\n",
       "      <td>NaN</td>\n",
       "    </tr>\n",
       "  </tbody>\n",
       "</table>\n",
       "<p>5 rows × 49 columns</p>\n",
       "</div>"
      ],
      "text/plain": [
       "          date       icms_sp     igp_m     dolar  ibc_br  dias_uteis  \\\n",
       "223 2021-08-01  1.597532e+10  1091.290  5.251718  141.97          22   \n",
       "224 2021-09-01  1.622460e+10  1084.312  5.279690  138.79          21   \n",
       "225 2021-10-01  1.664068e+10  1091.283  5.539980  138.02          20   \n",
       "226 2021-11-01  1.737603e+10  1091.483  5.556860  139.75          20   \n",
       "227 2021-12-01  1.853772e+10  1100.988  5.651391  141.61          23   \n",
       "\n",
       "     igp_m_22  dolar_22  ibc_br_22    igp_m_21  ...  ibc_br_15  Unnamed: 40  \\\n",
       "223  1091.290  5.251718     141.97  961.725459  ...        NaN          NaN   \n",
       "224  1084.312  5.279690     138.79  965.668534  ...        NaN          NaN   \n",
       "225  1091.283  5.539980     138.02  970.014042  ...        NaN          NaN   \n",
       "226  1091.483  5.556860     139.75  973.894098  ...        NaN          NaN   \n",
       "227  1100.988  5.651391     141.61  977.984454  ...        NaN          NaN   \n",
       "\n",
       "     Unnamed: 41  igp_m_14  dolar_14  ibc_br_14  Unnamed: 45  igp_m_13  \\\n",
       "223          NaN       NaN       NaN        NaN          NaN       NaN   \n",
       "224          NaN       NaN       NaN        NaN          NaN       NaN   \n",
       "225          NaN       NaN       NaN        NaN          NaN       NaN   \n",
       "226          NaN       NaN       NaN        NaN          NaN       NaN   \n",
       "227          NaN       NaN       NaN        NaN          NaN       NaN   \n",
       "\n",
       "     dolar_13  ibc_br_13  \n",
       "223       NaN        NaN  \n",
       "224       NaN        NaN  \n",
       "225       NaN        NaN  \n",
       "226       NaN        NaN  \n",
       "227       NaN        NaN  \n",
       "\n",
       "[5 rows x 49 columns]"
      ]
     },
     "execution_count": 5,
     "metadata": {},
     "output_type": "execute_result"
    }
   ],
   "source": [
    "df_main.tail()"
   ]
  },
  {
   "cell_type": "markdown",
   "metadata": {},
   "source": [
    "### Criação das Séries"
   ]
  },
  {
   "cell_type": "code",
   "execution_count": 6,
   "metadata": {},
   "outputs": [],
   "source": [
    "icms_ts = pd.Series(list(df_main['icms_sp']), index = datas)"
   ]
  },
  {
   "cell_type": "markdown",
   "metadata": {},
   "source": [
    "#### Testes de Valores Nulos"
   ]
  },
  {
   "cell_type": "code",
   "execution_count": 7,
   "metadata": {},
   "outputs": [
    {
     "name": "stdout",
     "output_type": "stream",
     "text": [
      "ICMS 0\n"
     ]
    }
   ],
   "source": [
    "print('ICMS', icms_ts.isnull().sum())"
   ]
  },
  {
   "cell_type": "code",
   "execution_count": 8,
   "metadata": {},
   "outputs": [
    {
     "data": {
      "text/plain": [
       "Series([], dtype: float64)"
      ]
     },
     "execution_count": 8,
     "metadata": {},
     "output_type": "execute_result"
    }
   ],
   "source": [
    "# listando os nulos do icms\n",
    "icms_ts[icms_ts.isnull()]"
   ]
  },
  {
   "cell_type": "code",
   "execution_count": 9,
   "metadata": {},
   "outputs": [],
   "source": [
    "# eliminando os nulos do icms\n",
    "icms_ts = icms_ts[~icms_ts.isnull()]"
   ]
  },
  {
   "cell_type": "code",
   "execution_count": 10,
   "metadata": {},
   "outputs": [
    {
     "data": {
      "text/plain": [
       "(228,)"
      ]
     },
     "execution_count": 10,
     "metadata": {},
     "output_type": "execute_result"
    }
   ],
   "source": [
    "icms_ts.shape"
   ]
  },
  {
   "cell_type": "markdown",
   "metadata": {},
   "source": [
    "### Série em Log\n",
    "Como os valores do ICMS são muito elevados a série será colocada em log."
   ]
  },
  {
   "cell_type": "code",
   "execution_count": 11,
   "metadata": {},
   "outputs": [],
   "source": [
    "l_icms_ts = pd.Series(np.log(list(df_main['icms_sp'])), index = datas)"
   ]
  },
  {
   "cell_type": "markdown",
   "metadata": {},
   "source": [
    "## Divisão em treino e teste"
   ]
  },
  {
   "cell_type": "code",
   "execution_count": 12,
   "metadata": {},
   "outputs": [],
   "source": [
    "icms_train = icms_ts[:-24]\n",
    "icms_val = icms_ts[-24:-12]\n",
    "icms_test = icms_ts[-12:]"
   ]
  },
  {
   "cell_type": "markdown",
   "metadata": {},
   "source": [
    "## Utilidades para Previsões"
   ]
  },
  {
   "cell_type": "markdown",
   "metadata": {},
   "source": [
    "Além de MAPE e MSE, será usado o erro relativo, que é \n",
    "\n",
    "$Erro Relativo = \\frac{|previsão - real|}{real}$"
   ]
  },
  {
   "cell_type": "code",
   "execution_count": 13,
   "metadata": {},
   "outputs": [],
   "source": [
    "def erro_relativo(prev, real):\n",
    "    return 100*np.absolute(prev-real)/real"
   ]
  },
  {
   "cell_type": "markdown",
   "metadata": {},
   "source": [
    "#### Dicionário de Previsões\n",
    "Será usado para armazenar todas as previsões."
   ]
  },
  {
   "cell_type": "code",
   "execution_count": 14,
   "metadata": {},
   "outputs": [],
   "source": [
    "previsoes = {\n",
    "    'nome':[],\n",
    "    'modelo': [],\n",
    "    'previsoes': [],\n",
    "    'rmse': [],\n",
    "    'mape': [],\n",
    "    'erro relativo':[]\n",
    "}"
   ]
  },
  {
   "cell_type": "markdown",
   "metadata": {},
   "source": [
    "## Modelos RNN LSTM\n",
    "Redes Neurais Recorrentes com neurônios Long Short-Term Memory"
   ]
  },
  {
   "cell_type": "markdown",
   "metadata": {},
   "source": [
    "### Montagem da Série\n",
    "As redes neurais precisam de conjuntos de características e de etiquetas separados. Neste caso, o conjunto de etiquetas é a própria série de ICMS. Para os conjunto de caraterísticas será utilizada a série do ICMS com lags 1, 2, 3, 4, 6 e 12 defasagens, e médias móveis de 2, 3, 6 e 12 meses, conforme trabalho de [Silva & Figueiredo, 2020]."
   ]
  },
  {
   "cell_type": "code",
   "execution_count": 15,
   "metadata": {},
   "outputs": [],
   "source": [
    "def cria_features_target(serie, verbose=0):\n",
    "    serie_d1 = serie.shift(1)\n",
    "    serie_d2 = serie.shift(2)\n",
    "    serie_d3 = serie.shift(3)\n",
    "    serie_d4 = serie.shift(4)\n",
    "    serie_d6 = serie.shift(6)\n",
    "    serie_d12 = serie.shift(12)\n",
    "    serie_ma2 = serie.rolling(2).mean()\n",
    "    serie_ma3 = serie.rolling(3).mean()\n",
    "    serie_ma6 = serie.rolling(6).mean()\n",
    "    serie_ma12 = serie.rolling(12).mean()\n",
    "\n",
    "    if verbose==1:\n",
    "        print(\"shape de cada uma das séries:\")\n",
    "        print(serie_d1.shape, serie_d2.shape, serie_d3.shape, serie_d4.shape, \n",
    "              serie_d6.shape, serie_d12.shape, serie_ma2.shape, serie_ma3.shape, \n",
    "              serie_ma6.shape, serie_ma12.shape)\n",
    "    X = np.array([serie_d1, serie_d2, serie_d3, serie_d4, \n",
    "     serie_d6, serie_d12, serie_ma2, serie_ma3, \n",
    "     serie_ma6, serie_ma12])\n",
    "    if verbose==1:\n",
    "        print(\"shape do array de features:\", X.shape)\n",
    "    X = X[:,12:]\n",
    "    X = X.T\n",
    "    if verbose==1:\n",
    "        print(\"shape do array de features depois da poda e da transposição:\", X.shape)\n",
    "    Y = np.array(serie[12:])\n",
    "    if verbose==1:\n",
    "        print(\"shape do array target:\", Y.shape)\n",
    "    return X, Y"
   ]
  },
  {
   "cell_type": "code",
   "execution_count": 16,
   "metadata": {},
   "outputs": [
    {
     "name": "stdout",
     "output_type": "stream",
     "text": [
      "shape de cada uma das séries:\n",
      "(228,) (228,) (228,) (228,) (228,) (228,) (228,) (228,) (228,) (228,)\n",
      "shape do array de features: (10, 228)\n",
      "shape do array de features depois da poda e da transposição: (216, 10)\n",
      "shape do array target: (216,)\n"
     ]
    }
   ],
   "source": [
    "#série completa, com sazonalidade e em nível\n",
    "#seas_icms_ts = seas_icms.seasadj\n",
    "X_data, Y_data = cria_features_target(l_icms_ts, verbose=1)"
   ]
  },
  {
   "cell_type": "code",
   "execution_count": 17,
   "metadata": {},
   "outputs": [],
   "source": [
    "#print(X_data[0])\n",
    "#print(Y_data[0])\n",
    "#print(X_data[X_data.shape[0]-1])\n",
    "#print(Y_data[X_data.shape[0]-1])"
   ]
  },
  {
   "cell_type": "markdown",
   "metadata": {},
   "source": [
    "#### Normalização dos Dados\n",
    "Serão normalizados usando-se min-max. Apenas as features, a variável target não será normalizada. Os dados serão dividos em treno, validação e teste para a normalização, de modo que o fit seja feito somente nos dados de treino, aumentando-se assim a probabilidade de generalização do modelo."
   ]
  },
  {
   "cell_type": "code",
   "execution_count": 18,
   "metadata": {},
   "outputs": [
    {
     "name": "stdout",
     "output_type": "stream",
     "text": [
      "(192, 10) (12, 10) (12, 10)\n"
     ]
    }
   ],
   "source": [
    "X_train = X_data[:-24]\n",
    "X_val = X_data[-24:-12]\n",
    "X_test = X_data[-12:]\n",
    "print(X_train.shape, X_val.shape, X_test.shape)\n",
    "#Y_train = Y_data[:-24]\n",
    "#Y_val = Y_data[-24:-12]\n",
    "#Y_test = Y_data[-12:]\n",
    "#print(Y_train.shape, Y_val.shape, Y_test.shape)"
   ]
  },
  {
   "cell_type": "code",
   "execution_count": 19,
   "metadata": {},
   "outputs": [
    {
     "name": "stdout",
     "output_type": "stream",
     "text": [
      "numéricas [0, 1, 2, 3, 4, 5, 6, 7, 8, 9]\n",
      "ColumnTransformer(transformers=[('min-max', MinMaxScaler(),\n",
      "                                 [0, 1, 2, 3, 4, 5, 6, 7, 8, 9])],\n",
      "                  verbose=True)\n",
      "[ColumnTransformer] ....... (1 of 1) Processing min-max, total=   0.0s\n",
      "(192, 10)\n",
      "(12, 10)\n",
      "(12, 10)\n"
     ]
    }
   ],
   "source": [
    "from sklearn.preprocessing import MinMaxScaler\n",
    "from sklearn.compose import ColumnTransformer\n",
    "# índice dos atributos numéricos\n",
    "num_atrib = list(range(10))\n",
    "print('numéricas', num_atrib)\n",
    "\n",
    "enc_x = ColumnTransformer([('min-max',MinMaxScaler(), num_atrib)], verbose=True)\n",
    "\n",
    "print(enc_x)\n",
    "X_train_std = enc_x.fit_transform(X_train)\n",
    "X_val_std = enc_x.transform(X_val)\n",
    "X_test_std = enc_x.transform(X_test)\n",
    "\n",
    "print(X_train_std.shape)\n",
    "print(X_val_std.shape)\n",
    "print(X_test_std.shape)\n",
    "\n",
    "#enc_y = MinMaxScaler()\n",
    "\n",
    "#print(enc_y)\n",
    "#Y_train_std = enc_y.fit_transform(Y_train.reshape(Y_train.shape[0], 1))\n",
    "#Y_val_std = enc_y.transform(Y_val.reshape(12,1))\n",
    "#Y_test_std = enc_y.transform(Y_test.reshape(12,1))\n",
    "\n",
    "#print(Y_train_std.shape)\n",
    "#print(Y_val_std.shape)\n",
    "#print(Y_test_std.shape)"
   ]
  },
  {
   "cell_type": "markdown",
   "metadata": {},
   "source": [
    "# Modelo 1 mês\n",
    "Neste modelo cada mês será previsto pelos dados do mês anterior"
   ]
  },
  {
   "cell_type": "markdown",
   "metadata": {},
   "source": [
    "#### Criando as janelas de 12 meses e reshape para LSTM. A arrecadação de cada mês será prevista pela arrecadação dos 12 meses anteriores."
   ]
  },
  {
   "cell_type": "code",
   "execution_count": 20,
   "metadata": {},
   "outputs": [
    {
     "name": "stdout",
     "output_type": "stream",
     "text": [
      "(216, 10, 1)\n"
     ]
    }
   ],
   "source": [
    "X_data_jn = np.concatenate((X_train_std, X_val_std, X_test_std), axis = 0)\n",
    "X_data_jn = X_data_jn.reshape(X_data_jn.shape[0],10,1)\n",
    "print(X_data_jn.shape)"
   ]
  },
  {
   "cell_type": "code",
   "execution_count": 21,
   "metadata": {},
   "outputs": [],
   "source": [
    "def janelamento_1_mes(X, Y, verbose=0):\n",
    "    X_exp = np.roll(X, 1, axis=0)\n",
    "    X_exp_cut = X_exp[1:,:,:]#.transpose(0,2,1)\n",
    "    Y_cut = Y[1:]\n",
    "    if verbose==1:\n",
    "        print('shape das features janeladas:', X_exp.shape)\n",
    "        print('shape das features janeladas pós poda e transposição:', X_exp_cut.shape)\n",
    "        print('shape do array target pós poda:', Y_cut.shape)\n",
    "    return X_exp_cut, Y_cut"
   ]
  },
  {
   "cell_type": "code",
   "execution_count": 22,
   "metadata": {},
   "outputs": [],
   "source": [
    "X_data_exp_cut1, Y_data_cut1 = janelamento_1_mes(X_data_jn, Y_data, verbose=0)"
   ]
  },
  {
   "cell_type": "code",
   "execution_count": 23,
   "metadata": {},
   "outputs": [
    {
     "data": {
      "text/plain": [
       "((215, 10, 1), (215,))"
      ]
     },
     "execution_count": 23,
     "metadata": {},
     "output_type": "execute_result"
    }
   ],
   "source": [
    "X_data_exp_cut1.shape, Y_data_cut1.shape"
   ]
  },
  {
   "cell_type": "code",
   "execution_count": 24,
   "metadata": {},
   "outputs": [
    {
     "data": {
      "text/plain": [
       "array([[0.14900625],\n",
       "       [0.04890264],\n",
       "       [0.0359901 ],\n",
       "       [0.0177186 ],\n",
       "       [0.00856557],\n",
       "       [0.0599274 ],\n",
       "       [0.08616981],\n",
       "       [0.0522134 ],\n",
       "       [0.        ],\n",
       "       [0.        ]])"
      ]
     },
     "execution_count": 24,
     "metadata": {},
     "output_type": "execute_result"
    }
   ],
   "source": [
    "X_data_exp_cut1[0]"
   ]
  },
  {
   "cell_type": "code",
   "execution_count": 25,
   "metadata": {},
   "outputs": [
    {
     "data": {
      "text/plain": [
       "21.905893928886627"
      ]
     },
     "execution_count": 25,
     "metadata": {},
     "output_type": "execute_result"
    }
   ],
   "source": [
    "Y_data_cut1[0]"
   ]
  },
  {
   "cell_type": "code",
   "execution_count": 26,
   "metadata": {},
   "outputs": [
    {
     "data": {
      "text/plain": [
       "23.64307342182826"
      ]
     },
     "execution_count": 26,
     "metadata": {},
     "output_type": "execute_result"
    }
   ],
   "source": [
    "Y_data_cut1[Y_data_cut1.shape[0]-1]"
   ]
  },
  {
   "cell_type": "code",
   "execution_count": 27,
   "metadata": {},
   "outputs": [
    {
     "data": {
      "text/plain": [
       "array([[1.20768547],\n",
       "       [1.19295803],\n",
       "       [1.19215508],\n",
       "       [1.17950796],\n",
       "       [1.09851605],\n",
       "       [1.15448817],\n",
       "       [1.20853681],\n",
       "       [1.20805576],\n",
       "       [1.21118774],\n",
       "       [1.18079797]])"
      ]
     },
     "execution_count": 27,
     "metadata": {},
     "output_type": "execute_result"
    }
   ],
   "source": [
    "X_data_exp_cut1[Y_data_cut1.shape[0]-1]"
   ]
  },
  {
   "cell_type": "markdown",
   "metadata": {},
   "source": [
    "#### Separando novamente em treino, validação e teste"
   ]
  },
  {
   "cell_type": "code",
   "execution_count": 28,
   "metadata": {},
   "outputs": [
    {
     "name": "stdout",
     "output_type": "stream",
     "text": [
      "(191, 10, 1) (12, 10, 1) (12, 10, 1)\n",
      "(191,) (12,) (12,)\n"
     ]
    }
   ],
   "source": [
    "x_train1 = X_data_exp_cut1[:-24]\n",
    "x_val1 = X_data_exp_cut1[-24:-12]\n",
    "x_test1 = X_data_exp_cut1[-12:]\n",
    "print(x_train1.shape, x_val1.shape, x_test1.shape)\n",
    "y_train1 = Y_data_cut1[:-24]\n",
    "y_val1 = Y_data_cut1[-24:-12]\n",
    "y_test1 = Y_data_cut1[-12:]\n",
    "print(y_train1.shape, y_val1.shape, y_test1.shape)"
   ]
  },
  {
   "cell_type": "markdown",
   "metadata": {},
   "source": [
    "### Criando o modelo LSTM "
   ]
  },
  {
   "cell_type": "code",
   "execution_count": 29,
   "metadata": {},
   "outputs": [],
   "source": [
    "# importando as bibliotecas do Keras\n",
    "from tensorflow.keras.models import Sequential\n",
    "from tensorflow.keras.layers import LSTM, Dense, Dropout\n",
    "from tensorflow.keras.callbacks import ReduceLROnPlateau, EarlyStopping\n",
    "from tensorflow.keras.optimizers import Adam"
   ]
  },
  {
   "cell_type": "markdown",
   "metadata": {},
   "source": [
    "## Arquitetura da Rede - Arquitetura Larga"
   ]
  },
  {
   "cell_type": "code",
   "execution_count": 30,
   "metadata": {},
   "outputs": [],
   "source": [
    "rlrop1 = ReduceLROnPlateau(monitor='val_loss', factor=0.1, patience=10, verbose=1)\n",
    "early_stop1 = EarlyStopping(monitor='val_loss', patience=100, verbose=1, \n",
    "                           restore_best_weights=True)"
   ]
  },
  {
   "cell_type": "code",
   "execution_count": 31,
   "metadata": {},
   "outputs": [],
   "source": [
    "# Épocas e tamanho do lote\n",
    "EPOCHS = 1000\n",
    "BATCH = 4\n",
    "NEURONIOS = 1200\n",
    "LR = 1e-5\n",
    "DROPOUT = 0.2\n",
    "\n",
    "# Imstanciação do modelo\n",
    "model = Sequential()\n",
    "\n",
    "# Adicionar camada LSTM \n",
    "model.add(LSTM(activation='tanh', dropout=DROPOUT,\n",
    "        input_shape = (10, 1), return_sequences = False,\n",
    "        units = NEURONIOS))\n",
    "\n",
    "# Adicionar a camada de saída com 1 neurônio linear\n",
    "model.add(Dense(\n",
    "        units = 1,\n",
    "        activation = 'linear'))\n",
    "# a learning rate padrão do Adam é 0.001\n",
    "model.compile(loss = 'mape', optimizer = Adam(learning_rate=LR))"
   ]
  },
  {
   "cell_type": "code",
   "execution_count": 32,
   "metadata": {},
   "outputs": [
    {
     "name": "stdout",
     "output_type": "stream",
     "text": [
      "Model: \"sequential\"\n",
      "_________________________________________________________________\n",
      "Layer (type)                 Output Shape              Param #   \n",
      "=================================================================\n",
      "lstm (LSTM)                  (None, 1200)              5769600   \n",
      "_________________________________________________________________\n",
      "dense (Dense)                (None, 1)                 1201      \n",
      "=================================================================\n",
      "Total params: 5,770,801\n",
      "Trainable params: 5,770,801\n",
      "Non-trainable params: 0\n",
      "_________________________________________________________________\n"
     ]
    }
   ],
   "source": [
    "model.summary()"
   ]
  },
  {
   "cell_type": "code",
   "execution_count": 33,
   "metadata": {
    "scrolled": true
   },
   "outputs": [
    {
     "name": "stdout",
     "output_type": "stream",
     "text": [
      "Epoch 1/1000\n",
      "48/48 [==============================] - 6s 119ms/step - loss: 99.6970 - val_loss: 98.7265\n",
      "Epoch 2/1000\n",
      "48/48 [==============================] - 6s 117ms/step - loss: 98.3883 - val_loss: 95.7323\n",
      "Epoch 3/1000\n",
      "48/48 [==============================] - 5s 113ms/step - loss: 94.1918 - val_loss: 80.5358\n",
      "Epoch 4/1000\n",
      "48/48 [==============================] - 6s 122ms/step - loss: 57.9686 - val_loss: 15.4466\n",
      "Epoch 5/1000\n",
      "48/48 [==============================] - 6s 123ms/step - loss: 18.8189 - val_loss: 1.4899\n",
      "Epoch 6/1000\n",
      "48/48 [==============================] - 6s 125ms/step - loss: 6.6363 - val_loss: 0.5300\n",
      "Epoch 7/1000\n",
      "48/48 [==============================] - 6s 124ms/step - loss: 2.3024 - val_loss: 0.7187\n",
      "Epoch 8/1000\n",
      "48/48 [==============================] - 6s 127ms/step - loss: 1.4831 - val_loss: 0.6860\n",
      "Epoch 9/1000\n",
      "48/48 [==============================] - 6s 124ms/step - loss: 1.4536 - val_loss: 0.9606\n",
      "Epoch 10/1000\n",
      "48/48 [==============================] - 6s 118ms/step - loss: 1.1938 - val_loss: 1.1303\n",
      "Epoch 11/1000\n",
      "48/48 [==============================] - 6s 119ms/step - loss: 1.1044 - val_loss: 1.1725\n",
      "Epoch 12/1000\n",
      "48/48 [==============================] - 6s 122ms/step - loss: 0.9866 - val_loss: 0.8781\n",
      "Epoch 13/1000\n",
      "48/48 [==============================] - 6s 122ms/step - loss: 1.0443 - val_loss: 1.5481\n",
      "Epoch 14/1000\n",
      "48/48 [==============================] - 6s 124ms/step - loss: 1.0002 - val_loss: 0.9901\n",
      "Epoch 15/1000\n",
      "48/48 [==============================] - 6s 119ms/step - loss: 0.9773 - val_loss: 1.0378\n",
      "Epoch 16/1000\n",
      "48/48 [==============================] - ETA: 0s - loss: 1.0147\n",
      "Epoch 00016: ReduceLROnPlateau reducing learning rate to 9.999999747378752e-07.\n",
      "48/48 [==============================] - 6s 125ms/step - loss: 1.0147 - val_loss: 0.6822\n",
      "Epoch 17/1000\n",
      "48/48 [==============================] - 6s 126ms/step - loss: 0.9568 - val_loss: 0.9265\n",
      "Epoch 18/1000\n",
      "48/48 [==============================] - 6s 129ms/step - loss: 0.9737 - val_loss: 0.9364\n",
      "Epoch 19/1000\n",
      "48/48 [==============================] - 6s 126ms/step - loss: 0.8557 - val_loss: 1.0313\n",
      "Epoch 20/1000\n",
      "48/48 [==============================] - 6s 124ms/step - loss: 0.9152 - val_loss: 0.8829\n",
      "Epoch 21/1000\n",
      "48/48 [==============================] - 6s 131ms/step - loss: 0.9006 - val_loss: 0.9823\n",
      "Epoch 22/1000\n",
      "48/48 [==============================] - 6s 128ms/step - loss: 0.8851 - val_loss: 0.9706\n",
      "Epoch 23/1000\n",
      "48/48 [==============================] - 6s 130ms/step - loss: 0.9131 - val_loss: 0.9900\n",
      "Epoch 24/1000\n",
      "48/48 [==============================] - 6s 132ms/step - loss: 0.8904 - val_loss: 1.0695\n",
      "Epoch 25/1000\n",
      "48/48 [==============================] - 6s 126ms/step - loss: 0.8277 - val_loss: 1.0255\n",
      "Epoch 26/1000\n",
      "48/48 [==============================] - ETA: 0s - loss: 0.9426\n",
      "Epoch 00026: ReduceLROnPlateau reducing learning rate to 9.999999974752428e-08.\n",
      "48/48 [==============================] - 6s 127ms/step - loss: 0.9426 - val_loss: 1.0448\n",
      "Epoch 27/1000\n",
      "48/48 [==============================] - 6s 127ms/step - loss: 0.8594 - val_loss: 1.0224\n",
      "Epoch 28/1000\n",
      "48/48 [==============================] - 6s 128ms/step - loss: 0.8809 - val_loss: 1.0112\n",
      "Epoch 29/1000\n",
      "48/48 [==============================] - 6s 128ms/step - loss: 0.9157 - val_loss: 1.0089\n",
      "Epoch 30/1000\n",
      "48/48 [==============================] - 6s 129ms/step - loss: 0.7972 - val_loss: 0.9933\n",
      "Epoch 31/1000\n",
      "48/48 [==============================] - 6s 132ms/step - loss: 0.9053 - val_loss: 0.9911\n",
      "Epoch 32/1000\n",
      "48/48 [==============================] - 6s 129ms/step - loss: 0.9503 - val_loss: 1.0048\n",
      "Epoch 33/1000\n",
      "48/48 [==============================] - 6s 124ms/step - loss: 0.9663 - val_loss: 1.0124\n",
      "Epoch 34/1000\n",
      "48/48 [==============================] - 6s 129ms/step - loss: 0.8746 - val_loss: 1.0142\n",
      "Epoch 35/1000\n",
      "48/48 [==============================] - 6s 129ms/step - loss: 0.9015 - val_loss: 1.0164\n",
      "Epoch 36/1000\n",
      "48/48 [==============================] - ETA: 0s - loss: 0.8889\n",
      "Epoch 00036: ReduceLROnPlateau reducing learning rate to 1.0000000116860975e-08.\n",
      "48/48 [==============================] - 6s 129ms/step - loss: 0.8889 - val_loss: 1.0157\n",
      "Epoch 37/1000\n",
      "48/48 [==============================] - 6s 131ms/step - loss: 0.8379 - val_loss: 1.0166\n",
      "Epoch 38/1000\n",
      "48/48 [==============================] - 6s 125ms/step - loss: 0.9185 - val_loss: 1.0161\n",
      "Epoch 39/1000\n",
      "48/48 [==============================] - 6s 128ms/step - loss: 0.8935 - val_loss: 1.0149\n",
      "Epoch 40/1000\n",
      "48/48 [==============================] - 6s 128ms/step - loss: 0.9749 - val_loss: 1.0150\n",
      "Epoch 41/1000\n",
      "48/48 [==============================] - 6s 130ms/step - loss: 0.9203 - val_loss: 1.0150\n",
      "Epoch 42/1000\n",
      "48/48 [==============================] - 6s 133ms/step - loss: 0.8614 - val_loss: 1.0153\n",
      "Epoch 43/1000\n",
      "48/48 [==============================] - 6s 128ms/step - loss: 0.8994 - val_loss: 1.0137\n",
      "Epoch 44/1000\n",
      "48/48 [==============================] - 6s 131ms/step - loss: 0.8441 - val_loss: 1.0125\n",
      "Epoch 45/1000\n",
      "48/48 [==============================] - 6s 129ms/step - loss: 0.8436 - val_loss: 1.0124\n",
      "Epoch 46/1000\n",
      "48/48 [==============================] - ETA: 0s - loss: 0.8930\n",
      "Epoch 00046: ReduceLROnPlateau reducing learning rate to 9.999999939225292e-10.\n",
      "48/48 [==============================] - 6s 124ms/step - loss: 0.8930 - val_loss: 1.0125\n",
      "Epoch 47/1000\n",
      "48/48 [==============================] - 6s 117ms/step - loss: 0.8624 - val_loss: 1.0124\n",
      "Epoch 48/1000\n",
      "48/48 [==============================] - 6s 117ms/step - loss: 0.8961 - val_loss: 1.0124\n",
      "Epoch 49/1000\n",
      "48/48 [==============================] - 6s 115ms/step - loss: 0.8583 - val_loss: 1.0124\n",
      "Epoch 50/1000\n",
      "48/48 [==============================] - 6s 116ms/step - loss: 0.8968 - val_loss: 1.0124\n",
      "Epoch 51/1000\n",
      "48/48 [==============================] - 6s 118ms/step - loss: 0.8474 - val_loss: 1.0123\n",
      "Epoch 52/1000\n",
      "48/48 [==============================] - 6s 119ms/step - loss: 0.7906 - val_loss: 1.0122\n",
      "Epoch 53/1000\n",
      "48/48 [==============================] - 6s 117ms/step - loss: 0.8205 - val_loss: 1.0122\n",
      "Epoch 54/1000\n",
      "48/48 [==============================] - 6s 120ms/step - loss: 0.8810 - val_loss: 1.0123\n",
      "Epoch 55/1000\n",
      "48/48 [==============================] - 6s 115ms/step - loss: 0.8732 - val_loss: 1.0122\n",
      "Epoch 56/1000\n",
      "48/48 [==============================] - ETA: 0s - loss: 0.9187\n",
      "Epoch 00056: ReduceLROnPlateau reducing learning rate to 9.999999717180686e-11.\n",
      "48/48 [==============================] - 6s 118ms/step - loss: 0.9187 - val_loss: 1.0122\n",
      "Epoch 57/1000\n",
      "48/48 [==============================] - 6s 118ms/step - loss: 0.9321 - val_loss: 1.0122\n",
      "Epoch 58/1000\n",
      "48/48 [==============================] - 6s 116ms/step - loss: 0.9264 - val_loss: 1.0122\n",
      "Epoch 59/1000\n",
      "48/48 [==============================] - 6s 117ms/step - loss: 1.0137 - val_loss: 1.0122\n",
      "Epoch 60/1000\n",
      "48/48 [==============================] - 6s 120ms/step - loss: 0.8281 - val_loss: 1.0122\n",
      "Epoch 61/1000\n",
      "48/48 [==============================] - 6s 121ms/step - loss: 0.8874 - val_loss: 1.0122\n",
      "Epoch 62/1000\n",
      "48/48 [==============================] - 6s 120ms/step - loss: 0.8954 - val_loss: 1.0122\n",
      "Epoch 63/1000\n",
      "48/48 [==============================] - 6s 123ms/step - loss: 0.8638 - val_loss: 1.0122\n",
      "Epoch 64/1000\n",
      "48/48 [==============================] - 6s 122ms/step - loss: 0.8857 - val_loss: 1.0122\n",
      "Epoch 65/1000\n",
      "48/48 [==============================] - 6s 119ms/step - loss: 0.8185 - val_loss: 1.0122\n",
      "Epoch 66/1000\n",
      "48/48 [==============================] - ETA: 0s - loss: 0.9406\n",
      "Epoch 00066: ReduceLROnPlateau reducing learning rate to 9.99999943962493e-12.\n",
      "48/48 [==============================] - 6s 123ms/step - loss: 0.9406 - val_loss: 1.0122\n",
      "Epoch 67/1000\n",
      "48/48 [==============================] - 6s 127ms/step - loss: 0.8713 - val_loss: 1.0122\n",
      "Epoch 68/1000\n",
      "48/48 [==============================] - 6s 124ms/step - loss: 0.9135 - val_loss: 1.0122\n",
      "Epoch 69/1000\n",
      "48/48 [==============================] - 6s 126ms/step - loss: 0.9199 - val_loss: 1.0122\n",
      "Epoch 70/1000\n",
      "48/48 [==============================] - 6s 124ms/step - loss: 0.9242 - val_loss: 1.0122\n",
      "Epoch 71/1000\n",
      "48/48 [==============================] - 6s 125ms/step - loss: 0.8197 - val_loss: 1.0122\n",
      "Epoch 72/1000\n",
      "48/48 [==============================] - 6s 125ms/step - loss: 0.8710 - val_loss: 1.0122\n",
      "Epoch 73/1000\n",
      "48/48 [==============================] - 6s 121ms/step - loss: 0.8838 - val_loss: 1.0122\n",
      "Epoch 74/1000\n",
      "48/48 [==============================] - 6s 119ms/step - loss: 0.8184 - val_loss: 1.0122\n",
      "Epoch 75/1000\n",
      "48/48 [==============================] - 6s 120ms/step - loss: 0.8699 - val_loss: 1.0122\n",
      "Epoch 76/1000\n",
      "48/48 [==============================] - ETA: 0s - loss: 0.8025\n",
      "Epoch 00076: ReduceLROnPlateau reducing learning rate to 9.999999092680235e-13.\n",
      "48/48 [==============================] - 6s 128ms/step - loss: 0.8025 - val_loss: 1.0122\n",
      "Epoch 77/1000\n",
      "48/48 [==============================] - 6s 132ms/step - loss: 0.8507 - val_loss: 1.0122\n",
      "Epoch 78/1000\n",
      "48/48 [==============================] - 7s 136ms/step - loss: 0.8312 - val_loss: 1.0122\n",
      "Epoch 79/1000\n",
      "48/48 [==============================] - 6s 132ms/step - loss: 0.8439 - val_loss: 1.0122\n",
      "Epoch 80/1000\n",
      "48/48 [==============================] - 6s 126ms/step - loss: 0.8254 - val_loss: 1.0122\n",
      "Epoch 81/1000\n",
      "48/48 [==============================] - 6s 126ms/step - loss: 0.8862 - val_loss: 1.0122\n",
      "Epoch 82/1000\n",
      "48/48 [==============================] - 6s 129ms/step - loss: 0.8466 - val_loss: 1.0122\n",
      "Epoch 83/1000\n",
      "48/48 [==============================] - 6s 124ms/step - loss: 0.8828 - val_loss: 1.0122\n",
      "Epoch 84/1000\n",
      "48/48 [==============================] - 6s 129ms/step - loss: 0.8721 - val_loss: 1.0122\n",
      "Epoch 85/1000\n",
      "48/48 [==============================] - 6s 125ms/step - loss: 0.8450 - val_loss: 1.0122\n",
      "Epoch 86/1000\n",
      "48/48 [==============================] - ETA: 0s - loss: 0.8597\n",
      "Epoch 00086: ReduceLROnPlateau reducing learning rate to 9.9999988758398e-14.\n",
      "48/48 [==============================] - 6s 124ms/step - loss: 0.8597 - val_loss: 1.0122\n",
      "Epoch 87/1000\n",
      "48/48 [==============================] - 6s 121ms/step - loss: 0.8939 - val_loss: 1.0122\n",
      "Epoch 88/1000\n",
      "48/48 [==============================] - 6s 128ms/step - loss: 0.8374 - val_loss: 1.0122\n",
      "Epoch 89/1000\n",
      "48/48 [==============================] - 6s 132ms/step - loss: 0.8799 - val_loss: 1.0122\n",
      "Epoch 90/1000\n",
      "48/48 [==============================] - 6s 120ms/step - loss: 0.8265 - val_loss: 1.0122\n",
      "Epoch 91/1000\n",
      "48/48 [==============================] - 6s 120ms/step - loss: 0.8757 - val_loss: 1.0122\n",
      "Epoch 92/1000\n",
      "48/48 [==============================] - 6s 117ms/step - loss: 0.8675 - val_loss: 1.0122\n",
      "Epoch 93/1000\n",
      "48/48 [==============================] - 6s 116ms/step - loss: 0.8874 - val_loss: 1.0122\n",
      "Epoch 94/1000\n",
      "48/48 [==============================] - 6s 119ms/step - loss: 0.8579 - val_loss: 1.0122\n",
      "Epoch 95/1000\n",
      "48/48 [==============================] - 6s 116ms/step - loss: 0.8965 - val_loss: 1.0122\n",
      "Epoch 96/1000\n",
      "48/48 [==============================] - ETA: 0s - loss: 0.8636\n",
      "Epoch 00096: ReduceLROnPlateau reducing learning rate to 9.999999146890344e-15.\n",
      "48/48 [==============================] - 6s 120ms/step - loss: 0.8636 - val_loss: 1.0122\n",
      "Epoch 97/1000\n",
      "48/48 [==============================] - 6s 121ms/step - loss: 0.7961 - val_loss: 1.0122\n",
      "Epoch 98/1000\n",
      "48/48 [==============================] - 6s 123ms/step - loss: 0.9142 - val_loss: 1.0122\n",
      "Epoch 99/1000\n",
      "48/48 [==============================] - 6s 120ms/step - loss: 0.9484 - val_loss: 1.0122\n",
      "Epoch 100/1000\n",
      "48/48 [==============================] - 6s 122ms/step - loss: 0.9439 - val_loss: 1.0122\n",
      "Epoch 101/1000\n",
      "48/48 [==============================] - 6s 121ms/step - loss: 0.8808 - val_loss: 1.0122\n",
      "Epoch 102/1000\n",
      "48/48 [==============================] - 6s 121ms/step - loss: 0.9094 - val_loss: 1.0122\n",
      "Epoch 103/1000\n",
      "48/48 [==============================] - 6s 122ms/step - loss: 0.8434 - val_loss: 1.0122\n",
      "Epoch 104/1000\n",
      "48/48 [==============================] - 6s 121ms/step - loss: 0.9310 - val_loss: 1.0122\n",
      "Epoch 105/1000\n",
      "48/48 [==============================] - 6s 119ms/step - loss: 0.8421 - val_loss: 1.0122\n",
      "Epoch 106/1000\n",
      "48/48 [==============================] - ETA: 0s - loss: 0.8551\n",
      "Epoch 00106: ReduceLROnPlateau reducing learning rate to 9.999998977483753e-16.\n",
      "Restoring model weights from the end of the best epoch.\n",
      "48/48 [==============================] - 6s 122ms/step - loss: 0.8551 - val_loss: 1.0122\n",
      "Epoch 00106: early stopping\n"
     ]
    }
   ],
   "source": [
    "# History object for plotting our model loss by epoch\n",
    "history1 = model.fit(x_train1, y_train1, batch_size = BATCH, \n",
    "                    epochs = EPOCHS, validation_data = (x_val1, y_val1),\n",
    "                    callbacks = [rlrop1, early_stop1])"
   ]
  },
  {
   "cell_type": "code",
   "execution_count": 34,
   "metadata": {},
   "outputs": [
    {
     "data": {
      "image/png": "[encoded data removed]",
      "text/plain": [
       "<Figure size 720x504 with 1 Axes>"
      ]
     },
     "metadata": {
      "needs_background": "light"
     },
     "output_type": "display_data"
    }
   ],
   "source": [
    "# Loss History\n",
    "fig = plt.figure(figsize=(10, 7))\n",
    "plt.plot(history1.history['loss'])\n",
    "plt.plot(history1.history['val_loss'])\n",
    "plt.title('Model Loss')\n",
    "plt.ylabel('Loss')\n",
    "plt.xlabel('Epoch')\n",
    "plt.legend(['Train', 'Val'], loc='upper right')\n",
    "plt.show()"
   ]
  },
  {
   "cell_type": "markdown",
   "metadata": {},
   "source": [
    "### Previsão Multistep 12 meses em Validação\n",
    "Para ficar adequado à realidade, não podemos usar os dados de 2022 para prever 2022. Portanto, a previsão de 2022 será feita do moto *multistep*, isto é, o mês de janeiro/2022 será previsto usando-se os dados de arrecadação de janeiro a dezembro de 2021; o mês de fevereiro/2022 será previsto usando-se os dados de fevereiro a dezembro de 2021 mais a previsão feita para o mês de janeiro/2022; o mês de março/2022 será previsto usando-se os dados de março a dezembro de 2021 mais os meses de janeiro e fevereiro de 2022 previstos nos passos anteriores. E assim por diante, até que a previsão de dezembro/2022 será feita usando-se os dados de dezembro de 2021 mais as previsões de janeiro a novembro de 2022 feitas nos passos anteriores."
   ]
  },
  {
   "cell_type": "markdown",
   "metadata": {},
   "source": [
    "#### Remove os 12 últimos valores que serão previstos e cria as séries novamente"
   ]
  },
  {
   "cell_type": "code",
   "execution_count": 35,
   "metadata": {},
   "outputs": [
    {
     "name": "stdout",
     "output_type": "stream",
     "text": [
      "(228,)\n",
      "(204,)\n"
     ]
    }
   ],
   "source": [
    "# remove\n",
    "serie_multi1 = l_icms_ts[:-24]\n",
    "print(l_icms_ts.shape)\n",
    "print(serie_multi1.shape)"
   ]
  },
  {
   "cell_type": "code",
   "execution_count": 36,
   "metadata": {},
   "outputs": [
    {
     "name": "stdout",
     "output_type": "stream",
     "text": [
      "0 [[1.1909469e+10]]\n",
      "1 [[1.1921016e+10]]\n",
      "2 [[1.1962742e+10]]\n",
      "3 [[1.1926131e+10]]\n",
      "4 [[1.189628e+10]]\n",
      "5 [[1.1876396e+10]]\n",
      "6 [[1.1871232e+10]]\n",
      "7 [[1.1872161e+10]]\n",
      "8 [[1.1868606e+10]]\n",
      "9 [[1.1866592e+10]]\n",
      "10 [[1.1863786e+10]]\n",
      "11 [[1.1861545e+10]]\n"
     ]
    }
   ],
   "source": [
    "for i in range(12):\n",
    "    # cria as séries\n",
    "    X_multi1, Y_multi1 = cria_features_target(serie_multi1, verbose=0)\n",
    "\n",
    "    # Faz a normalização usando o modelo fitado na normalização anterior\n",
    "    X_multi_std1 = enc_x.transform(X_multi1)\n",
    "    X_multi_std1 = X_multi_std1.reshape(X_multi_std1.shape[0],10,1)\n",
    "\n",
    "    # Faz o janelamento das séries\n",
    "    x_multi1, y_multi1 = janelamento_1_mes(X_multi_std1, Y_multi1, verbose=0)\n",
    "\n",
    "    # Faz a predição da arrecadação do mês\n",
    "    #y_pred_multi = np.mean(model.predict(x_multi[-1:]), axis=1)#[:,0].ravel()\n",
    "    y_pred_multi1 = model.predict(x_multi1[-1:])#[:,0].ravel()\n",
    "    print(i, np.exp(y_pred_multi1))\n",
    "\n",
    "    #### Adicionar o valor previsto à série e fazer o novo janelamento\n",
    "    serie_multi1 = pd.Series(np.append(serie_multi1, y_pred_multi1))"
   ]
  },
  {
   "cell_type": "code",
   "execution_count": 37,
   "metadata": {},
   "outputs": [],
   "source": [
    "Y_pred_multi1 = np.exp(pd.Series(serie_multi1[-12:]))\n",
    "Y_pred_multi1.index = icms_val.index"
   ]
  },
  {
   "cell_type": "code",
   "execution_count": 38,
   "metadata": {},
   "outputs": [
    {
     "data": {
      "text/plain": [
       "date\n",
       "2020-01-01    1.190947e+10\n",
       "2020-02-01    1.192101e+10\n",
       "2020-03-01    1.196274e+10\n",
       "2020-04-01    1.192613e+10\n",
       "2020-05-01    1.189628e+10\n",
       "2020-06-01    1.187640e+10\n",
       "2020-07-01    1.187123e+10\n",
       "2020-08-01    1.187216e+10\n",
       "2020-09-01    1.186861e+10\n",
       "2020-10-01    1.186659e+10\n",
       "2020-11-01    1.186379e+10\n",
       "2020-12-01    1.186155e+10\n",
       "dtype: float64"
      ]
     },
     "execution_count": 38,
     "metadata": {},
     "output_type": "execute_result"
    }
   ],
   "source": [
    "Y_pred_multi1"
   ]
  },
  {
   "cell_type": "code",
   "execution_count": 39,
   "metadata": {},
   "outputs": [
    {
     "data": {
      "text/plain": [
       "1794609274.818406"
      ]
     },
     "execution_count": 39,
     "metadata": {},
     "output_type": "execute_result"
    }
   ],
   "source": [
    "RMSE_lstm_multi1 = mean_squared_error(icms_val, Y_pred_multi1, squared=False)\n",
    "RMSE_lstm_multi1"
   ]
  },
  {
   "cell_type": "code",
   "execution_count": 40,
   "metadata": {},
   "outputs": [
    {
     "data": {
      "text/plain": [
       "0.12229349778405718"
      ]
     },
     "execution_count": 40,
     "metadata": {},
     "output_type": "execute_result"
    }
   ],
   "source": [
    "MAPE_lstm_multi1 = mean_absolute_percentage_error(icms_val, Y_pred_multi1)\n",
    "MAPE_lstm_multi1"
   ]
  },
  {
   "cell_type": "code",
   "execution_count": 41,
   "metadata": {},
   "outputs": [],
   "source": [
    "previsoes['nome'].append('RNN-LSTM-1-mês-larga')\n",
    "previsoes['modelo'].append(model)\n",
    "previsoes['previsoes'].append(Y_pred_multi1)\n",
    "\n",
    "previsoes['rmse'].append(RMSE_lstm_multi1)\n",
    "\n",
    "previsoes['mape'].append(MAPE_lstm_multi1)\n",
    "\n",
    "previsoes['erro relativo'].append([erro_relativo(prev,real) \n",
    "                                   for prev,real in zip(Y_pred_multi1\n",
    "                                                        , icms_val)])"
   ]
  },
  {
   "cell_type": "markdown",
   "metadata": {},
   "source": [
    "## Arquitetura da Rede - Arquitetura Multicamada"
   ]
  },
  {
   "cell_type": "code",
   "execution_count": 42,
   "metadata": {},
   "outputs": [],
   "source": [
    "rlrop3 = ReduceLROnPlateau(monitor='val_loss', factor=0.1, patience=25, verbose=1)\n",
    "early_stop3 = EarlyStopping(monitor='val_loss', patience=100, verbose=1, \n",
    "                           restore_best_weights=True)"
   ]
  },
  {
   "cell_type": "code",
   "execution_count": 43,
   "metadata": {},
   "outputs": [],
   "source": [
    "# Épocas e tamanho do lote\n",
    "EPOCHS3 = 1000\n",
    "BATCH3 = 8\n",
    "NEURONIOS3 = 600\n",
    "LR3 = 1e-5\n",
    "DROPOUT3 = 0.25\n",
    "\n",
    "# Imstanciação do modelo\n",
    "model3 = Sequential()\n",
    "\n",
    "# Adicionar camada LSTM \n",
    "model3.add(LSTM(activation='tanh', dropout=DROPOUT3,\n",
    "        input_shape = (10, 1), return_sequences = True,\n",
    "        units = NEURONIOS3))\n",
    "\n",
    "# Adicionar camada LSTM \n",
    "model3.add(LSTM(activation='tanh', dropout=DROPOUT3,\n",
    "        input_shape = (10, 1), return_sequences = True,\n",
    "        units = NEURONIOS3))\n",
    "\n",
    "# Adicionar camada LSTM \n",
    "model3.add(LSTM(activation='tanh', dropout=DROPOUT3,\n",
    "        input_shape = (10, 1), return_sequences = False,\n",
    "        units = NEURONIOS3))\n",
    "\n",
    "\n",
    "# Adicionar a camada de saída com 1 neurônio linear\n",
    "model3.add(Dense(\n",
    "        units = 1,\n",
    "        activation = 'linear'))\n",
    "# a learning rate padrão do Adam é 0.001\n",
    "model3.compile(loss = 'mape', optimizer = Adam(learning_rate=LR3))"
   ]
  },
  {
   "cell_type": "code",
   "execution_count": 44,
   "metadata": {},
   "outputs": [
    {
     "name": "stdout",
     "output_type": "stream",
     "text": [
      "Model: \"sequential_1\"\n",
      "_________________________________________________________________\n",
      "Layer (type)                 Output Shape              Param #   \n",
      "=================================================================\n",
      "lstm_1 (LSTM)                (None, 10, 600)           1444800   \n",
      "_________________________________________________________________\n",
      "lstm_2 (LSTM)                (None, 10, 600)           2882400   \n",
      "_________________________________________________________________\n",
      "lstm_3 (LSTM)                (None, 600)               2882400   \n",
      "_________________________________________________________________\n",
      "dense_1 (Dense)              (None, 1)                 601       \n",
      "=================================================================\n",
      "Total params: 7,210,201\n",
      "Trainable params: 7,210,201\n",
      "Non-trainable params: 0\n",
      "_________________________________________________________________\n"
     ]
    }
   ],
   "source": [
    "model3.summary()"
   ]
  },
  {
   "cell_type": "code",
   "execution_count": 45,
   "metadata": {
    "scrolled": true
   },
   "outputs": [
    {
     "name": "stdout",
     "output_type": "stream",
     "text": [
      "Epoch 1/1000\n",
      "24/24 [==============================] - 3s 138ms/step - loss: 99.8353 - val_loss: 99.4465\n",
      "Epoch 2/1000\n",
      "24/24 [==============================] - 3s 110ms/step - loss: 99.3958 - val_loss: 98.6169\n",
      "Epoch 3/1000\n",
      "24/24 [==============================] - 3s 116ms/step - loss: 98.5770 - val_loss: 96.8407\n",
      "Epoch 4/1000\n",
      "24/24 [==============================] - 3s 127ms/step - loss: 96.6108 - val_loss: 92.1414\n",
      "Epoch 5/1000\n",
      "24/24 [==============================] - 3s 121ms/step - loss: 90.6094 - val_loss: 75.8535\n",
      "Epoch 6/1000\n",
      "24/24 [==============================] - 3s 117ms/step - loss: 70.3808 - val_loss: 26.5850\n",
      "Epoch 7/1000\n",
      "24/24 [==============================] - 3s 113ms/step - loss: 29.9826 - val_loss: 9.1667\n",
      "Epoch 8/1000\n",
      "24/24 [==============================] - 3s 121ms/step - loss: 15.7495 - val_loss: 8.8416\n",
      "Epoch 9/1000\n",
      "24/24 [==============================] - 3s 117ms/step - loss: 10.2291 - val_loss: 3.8089\n",
      "Epoch 10/1000\n",
      "24/24 [==============================] - 3s 112ms/step - loss: 6.2176 - val_loss: 0.6141\n",
      "Epoch 11/1000\n",
      "24/24 [==============================] - 3s 110ms/step - loss: 4.0753 - val_loss: 0.5946\n",
      "Epoch 12/1000\n",
      "24/24 [==============================] - 3s 112ms/step - loss: 2.5813 - val_loss: 0.6805\n",
      "Epoch 13/1000\n",
      "24/24 [==============================] - 3s 114ms/step - loss: 1.8482 - val_loss: 0.6373\n",
      "Epoch 14/1000\n",
      "24/24 [==============================] - 3s 114ms/step - loss: 1.4696 - val_loss: 0.7034\n",
      "Epoch 15/1000\n",
      "24/24 [==============================] - 3s 106ms/step - loss: 1.2511 - val_loss: 0.6167\n",
      "Epoch 16/1000\n",
      "24/24 [==============================] - 3s 110ms/step - loss: 1.1119 - val_loss: 0.5249\n",
      "Epoch 17/1000\n",
      "24/24 [==============================] - 3s 110ms/step - loss: 1.1468 - val_loss: 0.6125\n",
      "Epoch 18/1000\n",
      "24/24 [==============================] - 3s 115ms/step - loss: 1.0455 - val_loss: 0.5237\n",
      "Epoch 19/1000\n",
      "24/24 [==============================] - 3s 113ms/step - loss: 1.1928 - val_loss: 0.6846\n",
      "Epoch 20/1000\n",
      "24/24 [==============================] - 3s 113ms/step - loss: 0.9704 - val_loss: 0.8638\n",
      "Epoch 21/1000\n",
      "24/24 [==============================] - 3s 117ms/step - loss: 0.8509 - val_loss: 0.7517\n",
      "Epoch 22/1000\n",
      "24/24 [==============================] - 3s 117ms/step - loss: 0.9905 - val_loss: 0.5703\n",
      "Epoch 23/1000\n",
      "24/24 [==============================] - 3s 122ms/step - loss: 1.0327 - val_loss: 0.7656\n",
      "Epoch 24/1000\n",
      "24/24 [==============================] - 3s 108ms/step - loss: 0.9053 - val_loss: 0.9822\n",
      "Epoch 25/1000\n",
      "24/24 [==============================] - 3s 113ms/step - loss: 0.8983 - val_loss: 0.7401\n",
      "Epoch 26/1000\n",
      "24/24 [==============================] - 3s 120ms/step - loss: 0.8916 - val_loss: 0.7177\n",
      "Epoch 27/1000\n",
      "24/24 [==============================] - 3s 118ms/step - loss: 0.9703 - val_loss: 1.0135\n",
      "Epoch 28/1000\n",
      "24/24 [==============================] - 3s 110ms/step - loss: 0.9991 - val_loss: 0.8469\n",
      "Epoch 29/1000\n",
      "24/24 [==============================] - 3s 106ms/step - loss: 0.8885 - val_loss: 1.0464\n",
      "Epoch 30/1000\n",
      "24/24 [==============================] - 3s 113ms/step - loss: 0.9663 - val_loss: 0.8891\n",
      "Epoch 31/1000\n",
      "24/24 [==============================] - 3s 113ms/step - loss: 0.8846 - val_loss: 0.8647\n",
      "Epoch 32/1000\n",
      "24/24 [==============================] - 3s 114ms/step - loss: 0.8888 - val_loss: 0.7029\n",
      "Epoch 33/1000\n",
      "24/24 [==============================] - 3s 113ms/step - loss: 0.9096 - val_loss: 0.6840\n",
      "Epoch 34/1000\n",
      "24/24 [==============================] - 3s 118ms/step - loss: 0.7751 - val_loss: 0.9288\n",
      "Epoch 35/1000\n",
      "24/24 [==============================] - 3s 119ms/step - loss: 0.8469 - val_loss: 1.0049\n",
      "Epoch 36/1000\n",
      "24/24 [==============================] - 3s 108ms/step - loss: 0.8313 - val_loss: 0.7516\n",
      "Epoch 37/1000\n",
      "24/24 [==============================] - 3s 111ms/step - loss: 0.7829 - val_loss: 0.8220\n",
      "Epoch 38/1000\n",
      "24/24 [==============================] - 3s 110ms/step - loss: 0.8388 - val_loss: 0.7507\n",
      "Epoch 39/1000\n",
      "24/24 [==============================] - 3s 108ms/step - loss: 0.7610 - val_loss: 0.8580\n",
      "Epoch 40/1000\n",
      "24/24 [==============================] - 3s 111ms/step - loss: 0.8467 - val_loss: 0.7775\n",
      "Epoch 41/1000\n",
      "24/24 [==============================] - 3s 109ms/step - loss: 0.8112 - val_loss: 0.8309\n",
      "Epoch 42/1000\n",
      "24/24 [==============================] - 3s 109ms/step - loss: 0.8884 - val_loss: 0.8564\n",
      "Epoch 43/1000\n",
      "24/24 [==============================] - ETA: 0s - loss: 0.8156\n",
      "Epoch 00043: ReduceLROnPlateau reducing learning rate to 9.999999747378752e-07.\n",
      "24/24 [==============================] - 3s 107ms/step - loss: 0.8156 - val_loss: 0.7853\n",
      "Epoch 44/1000\n",
      "24/24 [==============================] - 3s 108ms/step - loss: 0.8136 - val_loss: 0.7895\n",
      "Epoch 45/1000\n",
      "24/24 [==============================] - 3s 111ms/step - loss: 0.6925 - val_loss: 0.7597\n",
      "Epoch 46/1000\n",
      "24/24 [==============================] - 3s 110ms/step - loss: 0.7677 - val_loss: 0.7180\n",
      "Epoch 47/1000\n",
      "24/24 [==============================] - 3s 106ms/step - loss: 0.8141 - val_loss: 0.7346\n",
      "Epoch 48/1000\n",
      "24/24 [==============================] - 3s 111ms/step - loss: 0.7919 - val_loss: 0.7373\n",
      "Epoch 49/1000\n",
      "24/24 [==============================] - 3s 117ms/step - loss: 0.8488 - val_loss: 0.7523\n",
      "Epoch 50/1000\n",
      "24/24 [==============================] - 3s 110ms/step - loss: 0.7897 - val_loss: 0.7662\n",
      "Epoch 51/1000\n",
      "24/24 [==============================] - 3s 107ms/step - loss: 0.7867 - val_loss: 0.7616\n",
      "Epoch 52/1000\n",
      "24/24 [==============================] - 3s 115ms/step - loss: 0.8307 - val_loss: 0.7076\n",
      "Epoch 53/1000\n",
      "24/24 [==============================] - 3s 109ms/step - loss: 0.7312 - val_loss: 0.7362\n",
      "Epoch 54/1000\n",
      "24/24 [==============================] - 3s 115ms/step - loss: 0.7190 - val_loss: 0.7428\n",
      "Epoch 55/1000\n",
      "24/24 [==============================] - 3s 118ms/step - loss: 0.7416 - val_loss: 0.7624\n",
      "Epoch 56/1000\n",
      "24/24 [==============================] - 3s 117ms/step - loss: 0.7428 - val_loss: 0.7443\n",
      "Epoch 57/1000\n",
      "24/24 [==============================] - 3s 120ms/step - loss: 0.8231 - val_loss: 0.7141\n",
      "Epoch 58/1000\n",
      "24/24 [==============================] - 3s 115ms/step - loss: 0.7672 - val_loss: 0.6924\n",
      "Epoch 59/1000\n",
      "24/24 [==============================] - 3s 117ms/step - loss: 0.8020 - val_loss: 0.6968\n",
      "Epoch 60/1000\n",
      "24/24 [==============================] - 3s 121ms/step - loss: 0.8585 - val_loss: 0.7190\n",
      "Epoch 61/1000\n",
      "24/24 [==============================] - 3s 117ms/step - loss: 0.7574 - val_loss: 0.7584\n",
      "Epoch 62/1000\n",
      "24/24 [==============================] - 3s 119ms/step - loss: 0.7792 - val_loss: 0.7556\n",
      "Epoch 63/1000\n",
      "24/24 [==============================] - 3s 118ms/step - loss: 0.8557 - val_loss: 0.7147\n",
      "Epoch 64/1000\n",
      "24/24 [==============================] - 3s 119ms/step - loss: 0.7750 - val_loss: 0.7605\n",
      "Epoch 65/1000\n",
      "24/24 [==============================] - 3s 116ms/step - loss: 0.8151 - val_loss: 0.7743\n",
      "Epoch 66/1000\n",
      "24/24 [==============================] - 3s 115ms/step - loss: 0.7291 - val_loss: 0.7686\n",
      "Epoch 67/1000\n",
      "24/24 [==============================] - 3s 117ms/step - loss: 0.8223 - val_loss: 0.7784\n",
      "Epoch 68/1000\n",
      "24/24 [==============================] - ETA: 0s - loss: 0.7411\n",
      "Epoch 00068: ReduceLROnPlateau reducing learning rate to 9.999999974752428e-08.\n",
      "24/24 [==============================] - 3s 119ms/step - loss: 0.7411 - val_loss: 0.7559\n",
      "Epoch 69/1000\n",
      "24/24 [==============================] - 3s 118ms/step - loss: 0.7076 - val_loss: 0.7595\n",
      "Epoch 70/1000\n",
      "24/24 [==============================] - 3s 118ms/step - loss: 0.7126 - val_loss: 0.7612\n",
      "Epoch 71/1000\n",
      "24/24 [==============================] - 3s 118ms/step - loss: 0.7439 - val_loss: 0.7626\n",
      "Epoch 72/1000\n",
      "24/24 [==============================] - 3s 110ms/step - loss: 0.7957 - val_loss: 0.7596\n",
      "Epoch 73/1000\n",
      "24/24 [==============================] - 3s 107ms/step - loss: 0.7518 - val_loss: 0.7515\n",
      "Epoch 74/1000\n",
      "24/24 [==============================] - 3s 107ms/step - loss: 0.7538 - val_loss: 0.7525\n",
      "Epoch 75/1000\n",
      "24/24 [==============================] - 3s 105ms/step - loss: 0.7973 - val_loss: 0.7502\n",
      "Epoch 76/1000\n",
      "24/24 [==============================] - 3s 104ms/step - loss: 0.7946 - val_loss: 0.7484\n",
      "Epoch 77/1000\n",
      "24/24 [==============================] - 3s 105ms/step - loss: 0.7801 - val_loss: 0.7446\n",
      "Epoch 78/1000\n",
      "24/24 [==============================] - 3s 105ms/step - loss: 0.7519 - val_loss: 0.7440\n",
      "Epoch 79/1000\n",
      "24/24 [==============================] - 3s 104ms/step - loss: 0.8212 - val_loss: 0.7407\n",
      "Epoch 80/1000\n",
      "24/24 [==============================] - 3s 104ms/step - loss: 0.7738 - val_loss: 0.7383\n",
      "Epoch 81/1000\n",
      "24/24 [==============================] - 3s 105ms/step - loss: 0.7154 - val_loss: 0.7332\n",
      "Epoch 82/1000\n",
      "24/24 [==============================] - 3s 106ms/step - loss: 0.7627 - val_loss: 0.7325\n",
      "Epoch 83/1000\n",
      "24/24 [==============================] - 2s 103ms/step - loss: 0.7380 - val_loss: 0.7346\n",
      "Epoch 84/1000\n",
      "24/24 [==============================] - 3s 105ms/step - loss: 0.7094 - val_loss: 0.7320\n",
      "Epoch 85/1000\n",
      "24/24 [==============================] - 3s 110ms/step - loss: 0.8327 - val_loss: 0.7351\n",
      "Epoch 86/1000\n",
      "24/24 [==============================] - 3s 105ms/step - loss: 0.6898 - val_loss: 0.7297\n",
      "Epoch 87/1000\n",
      "24/24 [==============================] - 3s 110ms/step - loss: 0.8811 - val_loss: 0.7322\n",
      "Epoch 88/1000\n",
      "24/24 [==============================] - 3s 115ms/step - loss: 0.7208 - val_loss: 0.7311\n",
      "Epoch 89/1000\n",
      "24/24 [==============================] - 3s 113ms/step - loss: 0.7112 - val_loss: 0.7310\n",
      "Epoch 90/1000\n",
      "24/24 [==============================] - 3s 107ms/step - loss: 0.7420 - val_loss: 0.7322\n",
      "Epoch 91/1000\n",
      "24/24 [==============================] - 3s 113ms/step - loss: 0.7696 - val_loss: 0.7381\n",
      "Epoch 92/1000\n",
      "24/24 [==============================] - 3s 117ms/step - loss: 0.7413 - val_loss: 0.7371\n",
      "Epoch 93/1000\n",
      "24/24 [==============================] - ETA: 0s - loss: 0.7712\n",
      "Epoch 00093: ReduceLROnPlateau reducing learning rate to 1.0000000116860975e-08.\n",
      "24/24 [==============================] - 3s 107ms/step - loss: 0.7712 - val_loss: 0.7369\n",
      "Epoch 94/1000\n",
      "24/24 [==============================] - 3s 110ms/step - loss: 0.7010 - val_loss: 0.7374\n",
      "Epoch 95/1000\n",
      "24/24 [==============================] - 3s 110ms/step - loss: 0.7081 - val_loss: 0.7374\n",
      "Epoch 96/1000\n",
      "24/24 [==============================] - 3s 109ms/step - loss: 0.7948 - val_loss: 0.7373\n",
      "Epoch 97/1000\n",
      "24/24 [==============================] - 3s 105ms/step - loss: 0.7606 - val_loss: 0.7371\n",
      "Epoch 98/1000\n",
      "24/24 [==============================] - 3s 109ms/step - loss: 0.8243 - val_loss: 0.7368\n",
      "Epoch 99/1000\n",
      "24/24 [==============================] - 3s 109ms/step - loss: 0.7572 - val_loss: 0.7367\n",
      "Epoch 100/1000\n",
      "24/24 [==============================] - 3s 115ms/step - loss: 0.7766 - val_loss: 0.7364\n",
      "Epoch 101/1000\n",
      "24/24 [==============================] - 3s 115ms/step - loss: 0.7060 - val_loss: 0.7362\n",
      "Epoch 102/1000\n",
      "24/24 [==============================] - 3s 114ms/step - loss: 0.8258 - val_loss: 0.7365\n",
      "Epoch 103/1000\n",
      "24/24 [==============================] - 3s 107ms/step - loss: 0.7834 - val_loss: 0.7363\n",
      "Epoch 104/1000\n",
      "24/24 [==============================] - 3s 109ms/step - loss: 0.7107 - val_loss: 0.7361\n",
      "Epoch 105/1000\n",
      "24/24 [==============================] - 3s 109ms/step - loss: 0.8160 - val_loss: 0.7359\n",
      "Epoch 106/1000\n",
      "24/24 [==============================] - 3s 108ms/step - loss: 0.7326 - val_loss: 0.7363\n",
      "Epoch 107/1000\n",
      "24/24 [==============================] - 3s 115ms/step - loss: 0.8743 - val_loss: 0.7364\n",
      "Epoch 108/1000\n",
      "24/24 [==============================] - 3s 107ms/step - loss: 0.7422 - val_loss: 0.7361\n",
      "Epoch 109/1000\n",
      "24/24 [==============================] - 3s 112ms/step - loss: 0.7375 - val_loss: 0.7363\n",
      "Epoch 110/1000\n",
      "24/24 [==============================] - 3s 109ms/step - loss: 0.8053 - val_loss: 0.7363\n",
      "Epoch 111/1000\n",
      "24/24 [==============================] - 3s 110ms/step - loss: 0.7170 - val_loss: 0.7364\n",
      "Epoch 112/1000\n",
      "24/24 [==============================] - 3s 111ms/step - loss: 0.8558 - val_loss: 0.7359\n",
      "Epoch 113/1000\n",
      "24/24 [==============================] - 3s 108ms/step - loss: 0.7077 - val_loss: 0.7351\n",
      "Epoch 114/1000\n",
      "24/24 [==============================] - 3s 106ms/step - loss: 0.8097 - val_loss: 0.7349\n",
      "Epoch 115/1000\n",
      "24/24 [==============================] - 3s 107ms/step - loss: 0.7975 - val_loss: 0.7348\n",
      "Epoch 116/1000\n",
      "24/24 [==============================] - 3s 105ms/step - loss: 0.7546 - val_loss: 0.7349\n",
      "Epoch 117/1000\n",
      "24/24 [==============================] - 3s 107ms/step - loss: 0.7799 - val_loss: 0.7343\n",
      "Epoch 118/1000\n",
      "24/24 [==============================] - ETA: 0s - loss: 0.7148\n",
      "Epoch 00118: ReduceLROnPlateau reducing learning rate to 9.999999939225292e-10.\n",
      "Restoring model weights from the end of the best epoch.\n",
      "24/24 [==============================] - 3s 108ms/step - loss: 0.7148 - val_loss: 0.7343\n",
      "Epoch 00118: early stopping\n"
     ]
    }
   ],
   "source": [
    "# History object for plotting our model loss by epoch\n",
    "history3 = model3.fit(x_train1, y_train1, batch_size = BATCH3, \n",
    "                    epochs = EPOCHS, validation_data = (x_val1, y_val1),\n",
    "                    callbacks = [rlrop3, early_stop3])"
   ]
  },
  {
   "cell_type": "code",
   "execution_count": 46,
   "metadata": {},
   "outputs": [
    {
     "data": {
      "image/png": "[encoded data removed]",
      "text/plain": [
       "<Figure size 720x504 with 1 Axes>"
      ]
     },
     "metadata": {
      "needs_background": "light"
     },
     "output_type": "display_data"
    }
   ],
   "source": [
    "# Loss History\n",
    "fig = plt.figure(figsize=(10, 7))\n",
    "plt.plot(history3.history['loss'])\n",
    "plt.plot(history3.history['val_loss'])\n",
    "plt.title('Model Loss')\n",
    "plt.ylabel('Loss')\n",
    "plt.xlabel('Epoch')\n",
    "plt.legend(['Train', 'Val'], loc='upper right')\n",
    "plt.show()"
   ]
  },
  {
   "cell_type": "markdown",
   "metadata": {},
   "source": [
    "### Previsão Multistep 12 meses em Validação\n",
    "Para ficar adequado à realidade, não podemos usar os dados de 2022 para prever 2022. Portanto, a previsão de 2022 será feita do moto *multistep*, isto é, o mês de janeiro/2022 será previsto usando-se os dados de arrecadação de janeiro a dezembro de 2021; o mês de fevereiro/2022 será previsto usando-se os dados de fevereiro a dezembro de 2021 mais a previsão feita para o mês de janeiro/2022; o mês de março/2022 será previsto usando-se os dados de março a dezembro de 2021 mais os meses de janeiro e fevereiro de 2022 previstos nos passos anteriores. E assim por diante, até que a previsão de dezembro/2022 será feita usando-se os dados de dezembro de 2021 mais as previsões de janeiro a novembro de 2022 feitas nos passos anteriores."
   ]
  },
  {
   "cell_type": "markdown",
   "metadata": {},
   "source": [
    "#### Remove os 12 últimos valores que serão previstos e cria as séries novamente"
   ]
  },
  {
   "cell_type": "code",
   "execution_count": 47,
   "metadata": {},
   "outputs": [
    {
     "name": "stdout",
     "output_type": "stream",
     "text": [
      "(228,)\n",
      "(216,)\n"
     ]
    }
   ],
   "source": [
    "# remove\n",
    "serie_multi12 = l_icms_ts[:-24]\n",
    "print(l_icms_ts.shape)\n",
    "print(serie_multi1.shape)"
   ]
  },
  {
   "cell_type": "code",
   "execution_count": 48,
   "metadata": {},
   "outputs": [
    {
     "name": "stdout",
     "output_type": "stream",
     "text": [
      "0 [[1.2067059e+10]]\n",
      "1 [[1.208892e+10]]\n",
      "2 [[1.2126286e+10]]\n",
      "3 [[1.2097963e+10]]\n",
      "4 [[1.2084218e+10]]\n",
      "5 [[1.2081083e+10]]\n",
      "6 [[1.2066575e+10]]\n",
      "7 [[1.2068278e+10]]\n",
      "8 [[1.2061169e+10]]\n",
      "9 [[1.2060155e+10]]\n",
      "10 [[1.2061996e+10]]\n",
      "11 [[1.2063354e+10]]\n"
     ]
    }
   ],
   "source": [
    "for i in range(12):\n",
    "    # cria as séries\n",
    "    X_multi12, Y_multi12 = cria_features_target(serie_multi12, verbose=0)\n",
    "\n",
    "    # Faz a normalização usando o modelo fitado na normalização anterior\n",
    "    X_multi_std12 = enc_x.transform(X_multi12)\n",
    "    X_multi_std12 = X_multi_std12.reshape(X_multi_std12.shape[0],10,1)\n",
    "\n",
    "    # Faz o janelamento das séries\n",
    "    x_multi12, y_multi12 = janelamento_1_mes(X_multi_std12, Y_multi12, verbose=0)\n",
    "\n",
    "    # Faz a predição da arrecadação do mês\n",
    "    #y_pred_multi = np.mean(model.predict(x_multi[-1:]), axis=1)#[:,0].ravel()\n",
    "    y_pred_multi12 = model3.predict(x_multi12[-1:])#[:,0].ravel()\n",
    "    print(i, np.exp(y_pred_multi12))\n",
    "\n",
    "    #### Adicionar o valor previsto à série e fazer o novo janelamento\n",
    "    serie_multi12 = pd.Series(np.append(serie_multi12, y_pred_multi12))"
   ]
  },
  {
   "cell_type": "code",
   "execution_count": 49,
   "metadata": {},
   "outputs": [],
   "source": [
    "Y_pred_multi12 = np.exp(pd.Series(serie_multi12[-12:]))\n",
    "Y_pred_multi12.index = icms_val.index"
   ]
  },
  {
   "cell_type": "code",
   "execution_count": 50,
   "metadata": {},
   "outputs": [
    {
     "data": {
      "text/plain": [
       "date\n",
       "2020-01-01    1.206706e+10\n",
       "2020-02-01    1.208892e+10\n",
       "2020-03-01    1.212629e+10\n",
       "2020-04-01    1.209796e+10\n",
       "2020-05-01    1.208422e+10\n",
       "2020-06-01    1.208108e+10\n",
       "2020-07-01    1.206657e+10\n",
       "2020-08-01    1.206828e+10\n",
       "2020-09-01    1.206117e+10\n",
       "2020-10-01    1.206016e+10\n",
       "2020-11-01    1.206200e+10\n",
       "2020-12-01    1.206335e+10\n",
       "dtype: float64"
      ]
     },
     "execution_count": 50,
     "metadata": {},
     "output_type": "execute_result"
    }
   ],
   "source": [
    "Y_pred_multi12"
   ]
  },
  {
   "cell_type": "code",
   "execution_count": 51,
   "metadata": {},
   "outputs": [
    {
     "data": {
      "text/plain": [
       "1768550967.955679"
      ]
     },
     "execution_count": 51,
     "metadata": {},
     "output_type": "execute_result"
    }
   ],
   "source": [
    "RMSE_lstm_multi12 = mean_squared_error(icms_val, Y_pred_multi12, squared=False)\n",
    "RMSE_lstm_multi12"
   ]
  },
  {
   "cell_type": "code",
   "execution_count": 52,
   "metadata": {},
   "outputs": [
    {
     "data": {
      "text/plain": [
       "0.12217596364476047"
      ]
     },
     "execution_count": 52,
     "metadata": {},
     "output_type": "execute_result"
    }
   ],
   "source": [
    "MAPE_lstm_multi12 = mean_absolute_percentage_error(icms_val, Y_pred_multi12)\n",
    "MAPE_lstm_multi12"
   ]
  },
  {
   "cell_type": "code",
   "execution_count": 53,
   "metadata": {},
   "outputs": [],
   "source": [
    "previsoes['nome'].append('RNN-LSTM-1-mês-camadas')\n",
    "previsoes['modelo'].append(model3)\n",
    "previsoes['previsoes'].append(Y_pred_multi12)\n",
    "\n",
    "previsoes['rmse'].append(RMSE_lstm_multi12)\n",
    "\n",
    "previsoes['mape'].append(MAPE_lstm_multi12)\n",
    "\n",
    "previsoes['erro relativo'].append([erro_relativo(prev,real) \n",
    "                                   for prev,real in zip(Y_pred_multi12\n",
    "                                                        , icms_val)])"
   ]
  },
  {
   "cell_type": "markdown",
   "metadata": {},
   "source": [
    "# Modelo 12 meses"
   ]
  },
  {
   "cell_type": "markdown",
   "metadata": {},
   "source": [
    "#### Criando as janelas de 12 meses e reshape para LSTM. A arrecadação de cada mês será prevista pela arrecadação dos 12 meses anteriores."
   ]
  },
  {
   "cell_type": "markdown",
   "metadata": {},
   "source": [
    "##### Unindo novamente os dados."
   ]
  },
  {
   "cell_type": "code",
   "execution_count": 54,
   "metadata": {},
   "outputs": [],
   "source": [
    "def janelamento_12_meses(X, Y, verbose=0):\n",
    "    X_exp = np.concatenate((np.roll(X, 12, axis=0),\n",
    "                            np.roll(X, 11, axis=0),\n",
    "                            np.roll(X, 10, axis=0),\n",
    "                            np.roll(X, 9, axis=0),\n",
    "                            np.roll(X, 8, axis=0),\n",
    "                            np.roll(X, 7, axis=0),\n",
    "                            np.roll(X, 6, axis=0),\n",
    "                            np.roll(X, 5, axis=0),\n",
    "                            np.roll(X, 4, axis=0),\n",
    "                            np.roll(X, 3, axis=0),\n",
    "                            np.roll(X, 2, axis=0),\n",
    "                            np.roll(X, 1, axis=0),\n",
    "                            ), axis=2)\n",
    "    X_exp_cut = X_exp[12:,:,:].transpose(0,2,1)\n",
    "    Y_cut = Y[12:]\n",
    "    if verbose==1:\n",
    "        print('shape das features janeladas:', X_exp.shape)\n",
    "        print('shape das features janeladas pós poda e transposição:', X_exp_cut.shape)\n",
    "        print('shape do array target pós poda:', Y_cut.shape)\n",
    "    return X_exp_cut, Y_cut"
   ]
  },
  {
   "cell_type": "code",
   "execution_count": 55,
   "metadata": {},
   "outputs": [],
   "source": [
    "X_data_exp_cut12, Y_data_cut12 = janelamento_12_meses(X_data_jn, Y_data, verbose=0)"
   ]
  },
  {
   "cell_type": "code",
   "execution_count": 56,
   "metadata": {},
   "outputs": [],
   "source": [
    "#Y_data_cut[0]"
   ]
  },
  {
   "cell_type": "code",
   "execution_count": 57,
   "metadata": {},
   "outputs": [],
   "source": [
    "#X_data_exp_cut[0]"
   ]
  },
  {
   "cell_type": "code",
   "execution_count": 58,
   "metadata": {},
   "outputs": [],
   "source": [
    "#Y_data_cut[Y_data_cut.shape[0]-1]"
   ]
  },
  {
   "cell_type": "code",
   "execution_count": 59,
   "metadata": {},
   "outputs": [],
   "source": [
    "#X_data_exp_cut[Y_data_cut.shape[0]-1]"
   ]
  },
  {
   "cell_type": "markdown",
   "metadata": {},
   "source": [
    "#### Separando novamente em treino, validação e teste"
   ]
  },
  {
   "cell_type": "code",
   "execution_count": 60,
   "metadata": {},
   "outputs": [
    {
     "name": "stdout",
     "output_type": "stream",
     "text": [
      "(180, 12, 10) (12, 12, 10) (12, 12, 10)\n",
      "(180,) (12,) (12,)\n"
     ]
    }
   ],
   "source": [
    "x_train12 = X_data_exp_cut12[:-24]\n",
    "x_val12 = X_data_exp_cut12[-24:-12]\n",
    "x_test12 = X_data_exp_cut12[-12:]\n",
    "print(x_train12.shape, x_val12.shape, x_test12.shape)\n",
    "y_train12 = Y_data_cut12[:-24]\n",
    "y_val12 = Y_data_cut12[-24:-12]\n",
    "y_test12 = np.exp(Y_data_cut12[-12:]) # tirar o log para ficar o valor real\n",
    "print(y_train12.shape, y_val12.shape, y_test12.shape)"
   ]
  },
  {
   "cell_type": "markdown",
   "metadata": {},
   "source": [
    "### Criando o modelo LSTM"
   ]
  },
  {
   "cell_type": "markdown",
   "metadata": {},
   "source": [
    "## Arquitetura da Rede - Arquitetura Larga"
   ]
  },
  {
   "cell_type": "code",
   "execution_count": 61,
   "metadata": {},
   "outputs": [],
   "source": [
    "rlrop2 = ReduceLROnPlateau(monitor='val_loss', factor=0.1, patience=10, verbose=1)\n",
    "early_stop2 = EarlyStopping(monitor='val_loss', patience=100, verbose=1, \n",
    "                           restore_best_weights=True)"
   ]
  },
  {
   "cell_type": "code",
   "execution_count": 62,
   "metadata": {},
   "outputs": [],
   "source": [
    "# Épocas e tamanho do lote\n",
    "EPOCHS2 = 1000\n",
    "BATCH2 = 8\n",
    "NEURONIOS2 = 1000\n",
    "LR2 = 1e-5\n",
    "DROPOUT2 = 0.25\n",
    "\n",
    "# Imstanciação do modelo\n",
    "model2 = Sequential()\n",
    "\n",
    "# Adicionar camada LSTM \n",
    "model2.add(LSTM(activation='tanh', dropout=DROPOUT2,\n",
    "        input_shape = (12, 10), return_sequences = False,\n",
    "        units = NEURONIOS2))\n",
    "\n",
    "# Adicionar a camada de saída com 1 neurônio linear\n",
    "model2.add(Dense(\n",
    "        units = 1,\n",
    "        activation = 'linear'))\n",
    "# a learning rate padrão do Adam é 0.001\n",
    "model2.compile(loss = 'mape', optimizer = Adam(learning_rate=LR2))"
   ]
  },
  {
   "cell_type": "code",
   "execution_count": 63,
   "metadata": {},
   "outputs": [
    {
     "name": "stdout",
     "output_type": "stream",
     "text": [
      "Model: \"sequential_2\"\n",
      "_________________________________________________________________\n",
      "Layer (type)                 Output Shape              Param #   \n",
      "=================================================================\n",
      "lstm_4 (LSTM)                (None, 1000)              4044000   \n",
      "_________________________________________________________________\n",
      "dense_2 (Dense)              (None, 1)                 1001      \n",
      "=================================================================\n",
      "Total params: 4,045,001\n",
      "Trainable params: 4,045,001\n",
      "Non-trainable params: 0\n",
      "_________________________________________________________________\n"
     ]
    }
   ],
   "source": [
    "model2.summary()"
   ]
  },
  {
   "cell_type": "code",
   "execution_count": 64,
   "metadata": {
    "scrolled": true
   },
   "outputs": [
    {
     "name": "stdout",
     "output_type": "stream",
     "text": [
      "Epoch 1/1000\n",
      "23/23 [==============================] - 3s 115ms/step - loss: 99.2817 - val_loss: 97.7356\n",
      "Epoch 2/1000\n",
      "23/23 [==============================] - 2s 99ms/step - loss: 97.7972 - val_loss: 95.1214\n",
      "Epoch 3/1000\n",
      "23/23 [==============================] - 2s 102ms/step - loss: 95.8129 - val_loss: 91.1672\n",
      "Epoch 4/1000\n",
      "23/23 [==============================] - 2s 96ms/step - loss: 92.3616 - val_loss: 83.0214\n",
      "Epoch 5/1000\n",
      "23/23 [==============================] - 2s 98ms/step - loss: 84.5861 - val_loss: 60.8230\n",
      "Epoch 6/1000\n",
      "23/23 [==============================] - 2s 101ms/step - loss: 62.4075 - val_loss: 17.3391\n",
      "Epoch 7/1000\n",
      "23/23 [==============================] - 2s 97ms/step - loss: 27.6715 - val_loss: 7.0837\n",
      "Epoch 8/1000\n",
      "23/23 [==============================] - 2s 98ms/step - loss: 15.6760 - val_loss: 0.4811\n",
      "Epoch 9/1000\n",
      "23/23 [==============================] - 2s 97ms/step - loss: 9.9824 - val_loss: 0.6724\n",
      "Epoch 10/1000\n",
      "23/23 [==============================] - 2s 109ms/step - loss: 6.5930 - val_loss: 0.6328\n",
      "Epoch 11/1000\n",
      "23/23 [==============================] - 3s 113ms/step - loss: 4.5782 - val_loss: 0.6704\n",
      "Epoch 12/1000\n",
      "23/23 [==============================] - 2s 103ms/step - loss: 3.4554 - val_loss: 0.6282\n",
      "Epoch 13/1000\n",
      "23/23 [==============================] - 2s 99ms/step - loss: 2.4893 - val_loss: 1.0551\n",
      "Epoch 14/1000\n",
      "23/23 [==============================] - 2s 102ms/step - loss: 2.0953 - val_loss: 0.8384\n",
      "Epoch 15/1000\n",
      "23/23 [==============================] - 2s 100ms/step - loss: 1.8676 - val_loss: 1.0901\n",
      "Epoch 16/1000\n",
      "23/23 [==============================] - 2s 95ms/step - loss: 1.5930 - val_loss: 0.9418\n",
      "Epoch 17/1000\n",
      "23/23 [==============================] - 2s 97ms/step - loss: 1.4127 - val_loss: 0.7706\n",
      "Epoch 18/1000\n",
      "23/23 [==============================] - ETA: 0s - loss: 1.3749\n",
      "Epoch 00018: ReduceLROnPlateau reducing learning rate to 9.999999747378752e-07.\n",
      "23/23 [==============================] - 2s 99ms/step - loss: 1.3749 - val_loss: 1.1285\n",
      "Epoch 19/1000\n",
      "23/23 [==============================] - 2s 100ms/step - loss: 1.2208 - val_loss: 1.0109\n",
      "Epoch 20/1000\n",
      "23/23 [==============================] - 2s 97ms/step - loss: 1.2682 - val_loss: 0.9581\n",
      "Epoch 21/1000\n",
      "23/23 [==============================] - 2s 98ms/step - loss: 1.2989 - val_loss: 0.9781\n",
      "Epoch 22/1000\n",
      "23/23 [==============================] - 2s 97ms/step - loss: 1.2363 - val_loss: 1.0056\n",
      "Epoch 23/1000\n",
      "23/23 [==============================] - 2s 99ms/step - loss: 1.2436 - val_loss: 0.9626\n",
      "Epoch 24/1000\n",
      "23/23 [==============================] - 2s 103ms/step - loss: 1.2437 - val_loss: 0.9924\n",
      "Epoch 25/1000\n",
      "23/23 [==============================] - 2s 99ms/step - loss: 1.1977 - val_loss: 0.9793\n",
      "Epoch 26/1000\n",
      "23/23 [==============================] - 2s 95ms/step - loss: 1.2626 - val_loss: 1.0139\n",
      "Epoch 27/1000\n",
      "23/23 [==============================] - 2s 99ms/step - loss: 1.2457 - val_loss: 0.9811\n",
      "Epoch 28/1000\n",
      "23/23 [==============================] - ETA: 0s - loss: 1.2151\n",
      "Epoch 00028: ReduceLROnPlateau reducing learning rate to 9.999999974752428e-08.\n",
      "23/23 [==============================] - 2s 97ms/step - loss: 1.2151 - val_loss: 0.9916\n",
      "Epoch 29/1000\n",
      "23/23 [==============================] - 2s 99ms/step - loss: 1.1721 - val_loss: 0.9878\n",
      "Epoch 30/1000\n",
      "23/23 [==============================] - 2s 99ms/step - loss: 1.1673 - val_loss: 0.9897\n",
      "Epoch 31/1000\n",
      "23/23 [==============================] - 2s 100ms/step - loss: 1.1745 - val_loss: 0.9922\n",
      "Epoch 32/1000\n",
      "23/23 [==============================] - 2s 102ms/step - loss: 1.2388 - val_loss: 0.9939\n",
      "Epoch 33/1000\n",
      "23/23 [==============================] - 2s 99ms/step - loss: 1.1646 - val_loss: 0.9951\n",
      "Epoch 34/1000\n",
      "23/23 [==============================] - 2s 96ms/step - loss: 1.2037 - val_loss: 0.9994\n",
      "Epoch 35/1000\n",
      "23/23 [==============================] - 2s 99ms/step - loss: 1.1665 - val_loss: 0.9989\n",
      "Epoch 36/1000\n",
      "23/23 [==============================] - 2s 107ms/step - loss: 1.2219 - val_loss: 0.9890\n",
      "Epoch 37/1000\n",
      "23/23 [==============================] - 3s 110ms/step - loss: 1.2141 - val_loss: 0.9968\n",
      "Epoch 38/1000\n",
      "23/23 [==============================] - ETA: 0s - loss: 1.1566\n",
      "Epoch 00038: ReduceLROnPlateau reducing learning rate to 1.0000000116860975e-08.\n",
      "23/23 [==============================] - 2s 96ms/step - loss: 1.1566 - val_loss: 0.9928\n",
      "Epoch 39/1000\n",
      "23/23 [==============================] - 2s 95ms/step - loss: 1.2130 - val_loss: 0.9924\n",
      "Epoch 40/1000\n",
      "23/23 [==============================] - 2s 98ms/step - loss: 1.1488 - val_loss: 0.9917\n",
      "Epoch 41/1000\n",
      "23/23 [==============================] - 2s 97ms/step - loss: 1.1333 - val_loss: 0.9911\n",
      "Epoch 42/1000\n",
      "23/23 [==============================] - 2s 97ms/step - loss: 1.2385 - val_loss: 0.9910\n",
      "Epoch 43/1000\n",
      "23/23 [==============================] - 2s 96ms/step - loss: 1.1792 - val_loss: 0.9907\n",
      "Epoch 44/1000\n",
      "23/23 [==============================] - 2s 96ms/step - loss: 1.1710 - val_loss: 0.9912\n",
      "Epoch 45/1000\n",
      "23/23 [==============================] - 2s 98ms/step - loss: 1.1877 - val_loss: 0.9913\n",
      "Epoch 46/1000\n",
      "23/23 [==============================] - 2s 98ms/step - loss: 1.1965 - val_loss: 0.9907\n",
      "Epoch 47/1000\n",
      "23/23 [==============================] - 2s 99ms/step - loss: 1.1424 - val_loss: 0.9907\n",
      "Epoch 48/1000\n",
      "23/23 [==============================] - ETA: 0s - loss: 1.1412\n",
      "Epoch 00048: ReduceLROnPlateau reducing learning rate to 9.999999939225292e-10.\n",
      "23/23 [==============================] - 2s 98ms/step - loss: 1.1412 - val_loss: 0.9910\n",
      "Epoch 49/1000\n",
      "23/23 [==============================] - 2s 98ms/step - loss: 1.1536 - val_loss: 0.9909\n",
      "Epoch 50/1000\n",
      "23/23 [==============================] - 2s 97ms/step - loss: 1.1448 - val_loss: 0.9909\n",
      "Epoch 51/1000\n",
      "23/23 [==============================] - 2s 97ms/step - loss: 1.1800 - val_loss: 0.9909\n",
      "Epoch 52/1000\n",
      "23/23 [==============================] - 2s 96ms/step - loss: 1.1752 - val_loss: 0.9909\n",
      "Epoch 53/1000\n",
      "23/23 [==============================] - 2s 104ms/step - loss: 1.1297 - val_loss: 0.9909\n",
      "Epoch 54/1000\n",
      "23/23 [==============================] - 2s 97ms/step - loss: 1.2286 - val_loss: 0.9909\n",
      "Epoch 55/1000\n",
      "23/23 [==============================] - 2s 94ms/step - loss: 1.1776 - val_loss: 0.9909\n",
      "Epoch 56/1000\n",
      "23/23 [==============================] - 2s 98ms/step - loss: 1.1831 - val_loss: 0.9909\n",
      "Epoch 57/1000\n",
      "23/23 [==============================] - 2s 97ms/step - loss: 1.1191 - val_loss: 0.9909\n",
      "Epoch 58/1000\n",
      "23/23 [==============================] - ETA: 0s - loss: 1.1888\n",
      "Epoch 00058: ReduceLROnPlateau reducing learning rate to 9.999999717180686e-11.\n",
      "23/23 [==============================] - 2s 99ms/step - loss: 1.1888 - val_loss: 0.9909\n",
      "Epoch 59/1000\n",
      "23/23 [==============================] - 2s 96ms/step - loss: 1.1864 - val_loss: 0.9909\n",
      "Epoch 60/1000\n",
      "23/23 [==============================] - 2s 95ms/step - loss: 1.2153 - val_loss: 0.9909\n",
      "Epoch 61/1000\n",
      "23/23 [==============================] - 2s 95ms/step - loss: 1.1840 - val_loss: 0.9909\n",
      "Epoch 62/1000\n",
      "23/23 [==============================] - 2s 96ms/step - loss: 1.1795 - val_loss: 0.9909\n",
      "Epoch 63/1000\n",
      "23/23 [==============================] - 2s 100ms/step - loss: 1.2341 - val_loss: 0.9909\n",
      "Epoch 64/1000\n",
      "23/23 [==============================] - 2s 97ms/step - loss: 1.1691 - val_loss: 0.9909\n",
      "Epoch 65/1000\n",
      "23/23 [==============================] - 2s 97ms/step - loss: 1.1895 - val_loss: 0.9909\n",
      "Epoch 66/1000\n",
      "23/23 [==============================] - 2s 99ms/step - loss: 1.1768 - val_loss: 0.9909\n",
      "Epoch 67/1000\n",
      "23/23 [==============================] - 2s 99ms/step - loss: 1.2302 - val_loss: 0.9909\n",
      "Epoch 68/1000\n",
      "23/23 [==============================] - ETA: 0s - loss: 1.2237\n",
      "Epoch 00068: ReduceLROnPlateau reducing learning rate to 9.99999943962493e-12.\n",
      "23/23 [==============================] - 2s 101ms/step - loss: 1.2237 - val_loss: 0.9909\n",
      "Epoch 69/1000\n",
      "23/23 [==============================] - 2s 97ms/step - loss: 1.1634 - val_loss: 0.9909\n",
      "Epoch 70/1000\n",
      "23/23 [==============================] - 2s 97ms/step - loss: 1.1507 - val_loss: 0.9909\n",
      "Epoch 71/1000\n",
      "23/23 [==============================] - 2s 95ms/step - loss: 1.2299 - val_loss: 0.9909\n",
      "Epoch 72/1000\n",
      "23/23 [==============================] - 2s 100ms/step - loss: 1.1455 - val_loss: 0.9909\n",
      "Epoch 73/1000\n",
      "23/23 [==============================] - 2s 97ms/step - loss: 1.2187 - val_loss: 0.9909\n",
      "Epoch 74/1000\n",
      "23/23 [==============================] - 2s 93ms/step - loss: 1.1634 - val_loss: 0.9909\n",
      "Epoch 75/1000\n",
      "23/23 [==============================] - 2s 95ms/step - loss: 1.1925 - val_loss: 0.9909\n",
      "Epoch 76/1000\n",
      "23/23 [==============================] - 2s 102ms/step - loss: 1.1539 - val_loss: 0.9909\n",
      "Epoch 77/1000\n",
      "23/23 [==============================] - 2s 96ms/step - loss: 1.0996 - val_loss: 0.9909\n",
      "Epoch 78/1000\n",
      "23/23 [==============================] - ETA: 0s - loss: 1.1645\n",
      "Epoch 00078: ReduceLROnPlateau reducing learning rate to 9.999999092680235e-13.\n",
      "23/23 [==============================] - 2s 96ms/step - loss: 1.1645 - val_loss: 0.9909\n",
      "Epoch 79/1000\n",
      "23/23 [==============================] - 2s 100ms/step - loss: 1.1789 - val_loss: 0.9909\n",
      "Epoch 80/1000\n",
      "23/23 [==============================] - 2s 101ms/step - loss: 1.1343 - val_loss: 0.9909\n",
      "Epoch 81/1000\n",
      "23/23 [==============================] - 2s 100ms/step - loss: 1.1768 - val_loss: 0.9909\n",
      "Epoch 82/1000\n",
      "23/23 [==============================] - 2s 99ms/step - loss: 1.1897 - val_loss: 0.9909\n",
      "Epoch 83/1000\n",
      "23/23 [==============================] - 2s 97ms/step - loss: 1.1812 - val_loss: 0.9909\n",
      "Epoch 84/1000\n",
      "23/23 [==============================] - 2s 97ms/step - loss: 1.1606 - val_loss: 0.9909\n",
      "Epoch 85/1000\n",
      "23/23 [==============================] - 2s 106ms/step - loss: 1.1816 - val_loss: 0.9909\n",
      "Epoch 86/1000\n",
      "23/23 [==============================] - 2s 104ms/step - loss: 1.1936 - val_loss: 0.9909\n",
      "Epoch 87/1000\n",
      "23/23 [==============================] - 3s 110ms/step - loss: 1.1864 - val_loss: 0.9909\n",
      "Epoch 88/1000\n",
      "23/23 [==============================] - ETA: 0s - loss: 1.1904\n",
      "Epoch 00088: ReduceLROnPlateau reducing learning rate to 9.9999988758398e-14.\n",
      "23/23 [==============================] - 3s 112ms/step - loss: 1.1904 - val_loss: 0.9909\n",
      "Epoch 89/1000\n",
      "23/23 [==============================] - 2s 104ms/step - loss: 1.1754 - val_loss: 0.9909\n",
      "Epoch 90/1000\n",
      "23/23 [==============================] - 2s 102ms/step - loss: 1.2264 - val_loss: 0.9909\n",
      "Epoch 91/1000\n",
      "23/23 [==============================] - 3s 112ms/step - loss: 1.1264 - val_loss: 0.9909\n",
      "Epoch 92/1000\n",
      "23/23 [==============================] - 3s 121ms/step - loss: 1.2260 - val_loss: 0.9909\n",
      "Epoch 93/1000\n",
      "23/23 [==============================] - 2s 108ms/step - loss: 1.2058 - val_loss: 0.9909\n",
      "Epoch 94/1000\n",
      "23/23 [==============================] - 2s 104ms/step - loss: 1.1668 - val_loss: 0.9909\n",
      "Epoch 95/1000\n",
      "23/23 [==============================] - 2s 104ms/step - loss: 1.1943 - val_loss: 0.9909\n",
      "Epoch 96/1000\n",
      "23/23 [==============================] - 2s 105ms/step - loss: 1.2008 - val_loss: 0.9909\n",
      "Epoch 97/1000\n",
      "23/23 [==============================] - 2s 106ms/step - loss: 1.1947 - val_loss: 0.9909\n",
      "Epoch 98/1000\n",
      "23/23 [==============================] - ETA: 0s - loss: 1.1454\n",
      "Epoch 00098: ReduceLROnPlateau reducing learning rate to 9.999999146890344e-15.\n",
      "23/23 [==============================] - 2s 107ms/step - loss: 1.1454 - val_loss: 0.9909\n",
      "Epoch 99/1000\n",
      "23/23 [==============================] - 2s 99ms/step - loss: 1.1608 - val_loss: 0.9909\n",
      "Epoch 100/1000\n",
      "23/23 [==============================] - 2s 102ms/step - loss: 1.1849 - val_loss: 0.9909\n",
      "Epoch 101/1000\n",
      "23/23 [==============================] - 2s 103ms/step - loss: 1.1679 - val_loss: 0.9909\n",
      "Epoch 102/1000\n",
      "23/23 [==============================] - 2s 100ms/step - loss: 1.1885 - val_loss: 0.9909\n",
      "Epoch 103/1000\n",
      "23/23 [==============================] - 2s 102ms/step - loss: 1.2017 - val_loss: 0.9909\n",
      "Epoch 104/1000\n",
      "23/23 [==============================] - 2s 103ms/step - loss: 1.1306 - val_loss: 0.9909\n",
      "Epoch 105/1000\n",
      "23/23 [==============================] - 2s 101ms/step - loss: 1.1624 - val_loss: 0.9909\n",
      "Epoch 106/1000\n",
      "23/23 [==============================] - 2s 99ms/step - loss: 1.1810 - val_loss: 0.9909\n",
      "Epoch 107/1000\n",
      "23/23 [==============================] - 2s 97ms/step - loss: 1.1537 - val_loss: 0.9909\n",
      "Epoch 108/1000\n",
      "23/23 [==============================] - ETA: 0s - loss: 1.1921\n",
      "Epoch 00108: ReduceLROnPlateau reducing learning rate to 9.999998977483753e-16.\n",
      "Restoring model weights from the end of the best epoch.\n",
      "23/23 [==============================] - 2s 98ms/step - loss: 1.1921 - val_loss: 0.9909\n",
      "Epoch 00108: early stopping\n"
     ]
    }
   ],
   "source": [
    "# History object for plotting our model loss by epoch\n",
    "history2 = model2.fit(x_train12, y_train12, batch_size = BATCH2, \n",
    "                    epochs = EPOCHS2, validation_data = (x_val12, y_val12),\n",
    "                    callbacks = [rlrop2, early_stop2])"
   ]
  },
  {
   "cell_type": "code",
   "execution_count": 65,
   "metadata": {},
   "outputs": [
    {
     "data": {
      "image/png": "[encoded data removed]",
      "text/plain": [
       "<Figure size 720x504 with 1 Axes>"
      ]
     },
     "metadata": {
      "needs_background": "light"
     },
     "output_type": "display_data"
    }
   ],
   "source": [
    "# Loss History\n",
    "fig = plt.figure(figsize=(10, 7))\n",
    "plt.plot(history2.history['loss'])\n",
    "plt.plot(history2.history['val_loss'])\n",
    "plt.title('Model Loss')\n",
    "plt.ylabel('Loss')\n",
    "plt.xlabel('Epoch')\n",
    "plt.legend(['Train', 'Val'], loc='upper right')\n",
    "plt.show()"
   ]
  },
  {
   "cell_type": "markdown",
   "metadata": {},
   "source": [
    "### Previsão Multistep 12 meses em Validação\n",
    "Para ficar adequado à realidade, não podemos usar os dados de 2022 para prever 2022. Portanto, a previsão de 2022 será feita do moto *multistep*, isto é, o mês de janeiro/2022 será previsto usando-se os dados de arrecadação de janeiro a dezembro de 2021; o mês de fevereiro/2022 será previsto usando-se os dados de fevereiro a dezembro de 2021 mais a previsão feita para o mês de janeiro/2022; o mês de março/2022 será previsto usando-se os dados de março a dezembro de 2021 mais os meses de janeiro e fevereiro de 2022 previstos nos passos anteriores. E assim por diante, até que a previsão de dezembro/2022 será feita usando-se os dados de dezembro de 2021 mais as previsões de janeiro a novembro de 2022 feitas nos passos anteriores."
   ]
  },
  {
   "cell_type": "markdown",
   "metadata": {},
   "source": [
    "#### Remove os 12 últimos valores que serão previstos e cria as séries novamente"
   ]
  },
  {
   "cell_type": "code",
   "execution_count": 66,
   "metadata": {},
   "outputs": [
    {
     "name": "stdout",
     "output_type": "stream",
     "text": [
      "(228,)\n",
      "(204,)\n"
     ]
    },
    {
     "data": {
      "text/plain": [
       "pandas.core.series.Series"
      ]
     },
     "execution_count": 66,
     "metadata": {},
     "output_type": "execute_result"
    }
   ],
   "source": [
    "# remove\n",
    "serie_multi12 = l_icms_ts[:-24]\n",
    "print(l_icms_ts.shape)\n",
    "print(serie_multi12.shape)\n",
    "type(serie_multi12)"
   ]
  },
  {
   "cell_type": "code",
   "execution_count": 67,
   "metadata": {},
   "outputs": [
    {
     "name": "stdout",
     "output_type": "stream",
     "text": [
      "0 [[1.2290446e+10]]\n",
      "1 [[1.2308321e+10]]\n",
      "2 [[1.2275639e+10]]\n",
      "3 [[1.2252248e+10]]\n",
      "4 [[1.2271589e+10]]\n",
      "5 [[1.2276668e+10]]\n",
      "6 [[1.2288805e+10]]\n",
      "7 [[1.2334267e+10]]\n",
      "8 [[1.237756e+10]]\n",
      "9 [[1.2443033e+10]]\n",
      "10 [[1.2521001e+10]]\n",
      "11 [[1.2575763e+10]]\n"
     ]
    }
   ],
   "source": [
    "for i in range(12):\n",
    "    # cria as séries\n",
    "    X_multi12, Y_multi12 = cria_features_target(serie_multi12, verbose=0)\n",
    "\n",
    "    # Faz a normalização usando o modelo fitado na normalização anterior\n",
    "    X_multi_std12 = enc_x.transform(X_multi12)\n",
    "    X_multi_std12 = X_multi_std12.reshape(X_multi_std12.shape[0],10,1)\n",
    "\n",
    "    # Faz o janelamento das séries\n",
    "    x_multi12, y_multi12 = janelamento_12_meses(X_multi_std12, Y_multi12, verbose=0)\n",
    "\n",
    "    # Faz a predição da arrecadação do mês\n",
    "    #y_pred_multi = np.mean(model.predict(x_multi[-1:]), axis=1)#[:,0].ravel()\n",
    "    y_pred_multi12 = model2.predict(x_multi12[-1:])#[:,0].ravel()\n",
    "    print(i, np.exp(y_pred_multi12))\n",
    "\n",
    "    #### Adicionar o valor previsto à série e fazer o novo janelamento\n",
    "    serie_multi12 = pd.Series(np.append(serie_multi12, y_pred_multi12))\n",
    "    type(serie_multi12)"
   ]
  },
  {
   "cell_type": "code",
   "execution_count": 68,
   "metadata": {},
   "outputs": [],
   "source": [
    "Y_pred_multi12 = np.exp(pd.Series(serie_multi12[-12:])) # tira o log das previsões\n",
    "Y_pred_multi12.index = icms_val.index"
   ]
  },
  {
   "cell_type": "code",
   "execution_count": 69,
   "metadata": {},
   "outputs": [
    {
     "data": {
      "text/plain": [
       "date\n",
       "2020-01-01    1.229045e+10\n",
       "2020-02-01    1.230832e+10\n",
       "2020-03-01    1.227564e+10\n",
       "2020-04-01    1.225225e+10\n",
       "2020-05-01    1.227159e+10\n",
       "2020-06-01    1.227667e+10\n",
       "2020-07-01    1.228881e+10\n",
       "2020-08-01    1.233427e+10\n",
       "2020-09-01    1.237756e+10\n",
       "2020-10-01    1.244303e+10\n",
       "2020-11-01    1.252100e+10\n",
       "2020-12-01    1.257576e+10\n",
       "dtype: float64"
      ]
     },
     "execution_count": 69,
     "metadata": {},
     "output_type": "execute_result"
    }
   ],
   "source": [
    "Y_pred_multi12"
   ]
  },
  {
   "cell_type": "code",
   "execution_count": 70,
   "metadata": {},
   "outputs": [
    {
     "data": {
      "text/plain": [
       "1673589478.764412"
      ]
     },
     "execution_count": 70,
     "metadata": {},
     "output_type": "execute_result"
    }
   ],
   "source": [
    "RMSE_lstm_multi12 = mean_squared_error(icms_val, Y_pred_multi12, squared=False)\n",
    "RMSE_lstm_multi12"
   ]
  },
  {
   "cell_type": "code",
   "execution_count": 71,
   "metadata": {},
   "outputs": [
    {
     "data": {
      "text/plain": [
       "0.11874023884379238"
      ]
     },
     "execution_count": 71,
     "metadata": {},
     "output_type": "execute_result"
    }
   ],
   "source": [
    "MAPE_lstm_multi12 = mean_absolute_percentage_error(icms_val, Y_pred_multi12)\n",
    "MAPE_lstm_multi12"
   ]
  },
  {
   "cell_type": "code",
   "execution_count": 72,
   "metadata": {},
   "outputs": [],
   "source": [
    "previsoes['nome'].append('RNN-LSTM-12-meses-larga')\n",
    "previsoes['modelo'].append(model2)\n",
    "previsoes['previsoes'].append(Y_pred_multi12)\n",
    "\n",
    "previsoes['rmse'].append(RMSE_lstm_multi12)\n",
    "\n",
    "previsoes['mape'].append(MAPE_lstm_multi12)"
   ]
  },
  {
   "cell_type": "code",
   "execution_count": 73,
   "metadata": {},
   "outputs": [],
   "source": [
    "previsoes['erro relativo'].append([erro_relativo(prev,real) \n",
    "                                   for prev,real in zip(Y_pred_multi12\n",
    "                                                        , icms_val)])"
   ]
  },
  {
   "cell_type": "markdown",
   "metadata": {},
   "source": [
    "## Arquitetura da Rede - Arquitetura Multicamada"
   ]
  },
  {
   "cell_type": "code",
   "execution_count": 74,
   "metadata": {},
   "outputs": [],
   "source": [
    "rlrop4 = ReduceLROnPlateau(monitor='val_loss', factor=0.1, patience=25, verbose=1)\n",
    "early_stop4 = EarlyStopping(monitor='val_loss', patience=100, verbose=1, \n",
    "                           restore_best_weights=True)"
   ]
  },
  {
   "cell_type": "code",
   "execution_count": 75,
   "metadata": {},
   "outputs": [],
   "source": [
    "# Épocas e tamanho do lote\n",
    "EPOCHS4 = 1000\n",
    "BATCH4 = 8\n",
    "NEURONIOS4 = 600\n",
    "LR4 = 1e-5\n",
    "DROPOUT4 = 0.25\n",
    "\n",
    "# Imstanciação do modelo\n",
    "model4 = Sequential()\n",
    "\n",
    "# Adicionar camada LSTM \n",
    "model4.add(LSTM(activation='tanh', dropout=DROPOUT4,\n",
    "        input_shape = (12, 10), return_sequences = True,\n",
    "        units = NEURONIOS4))\n",
    "\n",
    "# Adicionar camada LSTM \n",
    "model4.add(LSTM(activation='tanh', dropout=DROPOUT4,\n",
    "        input_shape = (12, 10), return_sequences = True,\n",
    "        units = NEURONIOS4))\n",
    "\n",
    "## Adicionar camada LSTM \n",
    "model4.add(LSTM(activation='tanh', dropout=DROPOUT4,\n",
    "        input_shape = (12, 10), return_sequences = False,\n",
    "        units = NEURONIOS4))\n",
    "\n",
    "\n",
    "# Adicionar a camada de saída com 1 neurônio linear\n",
    "model4.add(Dense(\n",
    "        units = 1,\n",
    "        activation = 'linear'))\n",
    "# a learning rate padrão do Adam é 0.001\n",
    "model4.compile(loss = 'mape', optimizer = Adam(learning_rate=LR4))"
   ]
  },
  {
   "cell_type": "code",
   "execution_count": 76,
   "metadata": {},
   "outputs": [
    {
     "name": "stdout",
     "output_type": "stream",
     "text": [
      "Model: \"sequential_3\"\n",
      "_________________________________________________________________\n",
      "Layer (type)                 Output Shape              Param #   \n",
      "=================================================================\n",
      "lstm_5 (LSTM)                (None, 12, 600)           1466400   \n",
      "_________________________________________________________________\n",
      "lstm_6 (LSTM)                (None, 12, 600)           2882400   \n",
      "_________________________________________________________________\n",
      "lstm_7 (LSTM)                (None, 600)               2882400   \n",
      "_________________________________________________________________\n",
      "dense_3 (Dense)              (None, 1)                 601       \n",
      "=================================================================\n",
      "Total params: 7,231,801\n",
      "Trainable params: 7,231,801\n",
      "Non-trainable params: 0\n",
      "_________________________________________________________________\n"
     ]
    }
   ],
   "source": [
    "model4.summary()"
   ]
  },
  {
   "cell_type": "code",
   "execution_count": 77,
   "metadata": {
    "scrolled": true
   },
   "outputs": [
    {
     "name": "stdout",
     "output_type": "stream",
     "text": [
      "Epoch 1/1000\n",
      "23/23 [==============================] - 4s 156ms/step - loss: 99.3302 - val_loss: 97.8131\n",
      "Epoch 2/1000\n",
      "23/23 [==============================] - 3s 115ms/step - loss: 97.7168 - val_loss: 94.3441\n",
      "Epoch 3/1000\n",
      "23/23 [==============================] - 3s 138ms/step - loss: 94.3543 - val_loss: 85.6097\n",
      "Epoch 4/1000\n",
      "23/23 [==============================] - 3s 133ms/step - loss: 84.6036 - val_loss: 58.8187\n",
      "Epoch 5/1000\n",
      "23/23 [==============================] - 3s 126ms/step - loss: 58.0685 - val_loss: 18.6837\n",
      "Epoch 6/1000\n",
      "23/23 [==============================] - 3s 129ms/step - loss: 23.7067 - val_loss: 2.1584\n",
      "Epoch 7/1000\n",
      "23/23 [==============================] - 3s 125ms/step - loss: 9.6368 - val_loss: 1.9832\n",
      "Epoch 8/1000\n",
      "23/23 [==============================] - 3s 126ms/step - loss: 5.6369 - val_loss: 0.5330\n",
      "Epoch 9/1000\n",
      "23/23 [==============================] - 3s 123ms/step - loss: 3.8559 - val_loss: 0.5176\n",
      "Epoch 10/1000\n",
      "23/23 [==============================] - 3s 127ms/step - loss: 2.7970 - val_loss: 0.5175\n",
      "Epoch 11/1000\n",
      "23/23 [==============================] - 3s 129ms/step - loss: 2.0761 - val_loss: 0.5097\n",
      "Epoch 12/1000\n",
      "23/23 [==============================] - 3s 121ms/step - loss: 1.7598 - val_loss: 0.5103\n",
      "Epoch 13/1000\n",
      "23/23 [==============================] - 3s 122ms/step - loss: 1.4394 - val_loss: 0.5975\n",
      "Epoch 14/1000\n",
      "23/23 [==============================] - 3s 125ms/step - loss: 1.2750 - val_loss: 0.6556\n",
      "Epoch 15/1000\n",
      "23/23 [==============================] - 3s 121ms/step - loss: 1.2325 - val_loss: 0.6324\n",
      "Epoch 16/1000\n",
      "23/23 [==============================] - 3s 129ms/step - loss: 1.1389 - val_loss: 0.5772\n",
      "Epoch 17/1000\n",
      "23/23 [==============================] - 3s 131ms/step - loss: 1.1543 - val_loss: 0.7205\n",
      "Epoch 18/1000\n",
      "23/23 [==============================] - 3s 130ms/step - loss: 0.9927 - val_loss: 0.8552\n",
      "Epoch 19/1000\n",
      "23/23 [==============================] - 3s 129ms/step - loss: 0.9909 - val_loss: 0.9099\n",
      "Epoch 20/1000\n",
      "23/23 [==============================] - 3s 129ms/step - loss: 0.9485 - val_loss: 0.6835\n",
      "Epoch 21/1000\n",
      "23/23 [==============================] - 3s 128ms/step - loss: 0.9136 - val_loss: 0.7145\n",
      "Epoch 22/1000\n",
      "23/23 [==============================] - 3s 129ms/step - loss: 0.9623 - val_loss: 0.8926\n",
      "Epoch 23/1000\n",
      "23/23 [==============================] - 3s 138ms/step - loss: 0.9212 - val_loss: 0.7623\n",
      "Epoch 24/1000\n",
      "23/23 [==============================] - 3s 131ms/step - loss: 0.8324 - val_loss: 0.6274\n",
      "Epoch 25/1000\n",
      "23/23 [==============================] - 3s 126ms/step - loss: 0.8389 - val_loss: 0.8847\n",
      "Epoch 26/1000\n",
      "23/23 [==============================] - 3s 129ms/step - loss: 0.8312 - val_loss: 0.5596\n",
      "Epoch 27/1000\n",
      "23/23 [==============================] - 3s 129ms/step - loss: 0.8937 - val_loss: 0.5478\n",
      "Epoch 28/1000\n",
      "23/23 [==============================] - 3s 128ms/step - loss: 0.8180 - val_loss: 0.6283\n",
      "Epoch 29/1000\n",
      "23/23 [==============================] - 3s 121ms/step - loss: 0.7652 - val_loss: 0.6474\n",
      "Epoch 30/1000\n",
      "23/23 [==============================] - 3s 122ms/step - loss: 0.7635 - val_loss: 0.5539\n",
      "Epoch 31/1000\n",
      "23/23 [==============================] - 3s 135ms/step - loss: 0.8029 - val_loss: 0.5697\n",
      "Epoch 32/1000\n",
      "23/23 [==============================] - 3s 129ms/step - loss: 0.7844 - val_loss: 0.5243\n",
      "Epoch 33/1000\n",
      "23/23 [==============================] - 3s 122ms/step - loss: 0.7550 - val_loss: 0.6308\n",
      "Epoch 34/1000\n",
      "23/23 [==============================] - 3s 124ms/step - loss: 0.6880 - val_loss: 0.5418\n",
      "Epoch 35/1000\n",
      "23/23 [==============================] - 3s 132ms/step - loss: 0.7725 - val_loss: 0.5089\n",
      "Epoch 36/1000\n",
      "23/23 [==============================] - 3s 122ms/step - loss: 0.6908 - val_loss: 0.6548\n",
      "Epoch 37/1000\n",
      "23/23 [==============================] - 3s 125ms/step - loss: 0.6319 - val_loss: 0.6672\n",
      "Epoch 38/1000\n",
      "23/23 [==============================] - 3s 128ms/step - loss: 0.6404 - val_loss: 0.6189\n",
      "Epoch 39/1000\n",
      "23/23 [==============================] - 3s 128ms/step - loss: 0.6206 - val_loss: 0.6473\n",
      "Epoch 40/1000\n",
      "23/23 [==============================] - 3s 122ms/step - loss: 0.6205 - val_loss: 0.5983\n",
      "Epoch 41/1000\n",
      "23/23 [==============================] - 3s 125ms/step - loss: 0.5610 - val_loss: 0.5968\n",
      "Epoch 42/1000\n",
      "23/23 [==============================] - 3s 126ms/step - loss: 0.6099 - val_loss: 0.6290\n",
      "Epoch 43/1000\n",
      "23/23 [==============================] - 3s 123ms/step - loss: 0.6234 - val_loss: 0.5970\n",
      "Epoch 44/1000\n",
      "23/23 [==============================] - 3s 130ms/step - loss: 0.5656 - val_loss: 0.5201\n",
      "Epoch 45/1000\n",
      "23/23 [==============================] - 3s 132ms/step - loss: 0.5361 - val_loss: 0.6148\n",
      "Epoch 46/1000\n",
      "23/23 [==============================] - 3s 126ms/step - loss: 0.5023 - val_loss: 0.5505\n",
      "Epoch 47/1000\n",
      "23/23 [==============================] - 3s 135ms/step - loss: 0.5058 - val_loss: 0.6510\n",
      "Epoch 48/1000\n",
      "23/23 [==============================] - 3s 133ms/step - loss: 0.5444 - val_loss: 0.5325\n",
      "Epoch 49/1000\n",
      "23/23 [==============================] - 3s 131ms/step - loss: 0.4757 - val_loss: 0.5558\n",
      "Epoch 50/1000\n",
      "23/23 [==============================] - 3s 121ms/step - loss: 0.4509 - val_loss: 0.5371\n",
      "Epoch 51/1000\n",
      "23/23 [==============================] - 3s 126ms/step - loss: 0.4455 - val_loss: 0.5136\n",
      "Epoch 52/1000\n",
      "23/23 [==============================] - 3s 123ms/step - loss: 0.4443 - val_loss: 0.5048\n",
      "Epoch 53/1000\n",
      "23/23 [==============================] - 3s 124ms/step - loss: 0.4609 - val_loss: 0.5343\n",
      "Epoch 54/1000\n",
      "23/23 [==============================] - 3s 126ms/step - loss: 0.4639 - val_loss: 0.5176\n",
      "Epoch 55/1000\n",
      "23/23 [==============================] - 3s 123ms/step - loss: 0.4582 - val_loss: 0.5162\n",
      "Epoch 56/1000\n",
      "23/23 [==============================] - 3s 127ms/step - loss: 0.4471 - val_loss: 0.5079\n",
      "Epoch 57/1000\n",
      "23/23 [==============================] - 3s 132ms/step - loss: 0.4369 - val_loss: 0.5041\n",
      "Epoch 58/1000\n",
      "23/23 [==============================] - 3s 128ms/step - loss: 0.3999 - val_loss: 0.5167\n",
      "Epoch 59/1000\n",
      "23/23 [==============================] - 3s 129ms/step - loss: 0.4470 - val_loss: 0.5053\n",
      "Epoch 60/1000\n",
      "23/23 [==============================] - 3s 126ms/step - loss: 0.4435 - val_loss: 0.5456\n",
      "Epoch 61/1000\n",
      "23/23 [==============================] - 3s 123ms/step - loss: 0.4500 - val_loss: 0.5194\n",
      "Epoch 62/1000\n",
      "23/23 [==============================] - 3s 126ms/step - loss: 0.4542 - val_loss: 0.5139\n",
      "Epoch 63/1000\n",
      "23/23 [==============================] - 3s 124ms/step - loss: 0.4898 - val_loss: 0.5568\n",
      "Epoch 64/1000\n",
      "23/23 [==============================] - 3s 124ms/step - loss: 0.3780 - val_loss: 0.5115\n",
      "Epoch 65/1000\n",
      "23/23 [==============================] - 3s 132ms/step - loss: 0.3769 - val_loss: 0.5203\n",
      "Epoch 66/1000\n",
      "23/23 [==============================] - 3s 125ms/step - loss: 0.3885 - val_loss: 0.5360\n",
      "Epoch 67/1000\n",
      "23/23 [==============================] - 3s 128ms/step - loss: 0.4604 - val_loss: 0.5205\n",
      "Epoch 68/1000\n",
      "23/23 [==============================] - 3s 127ms/step - loss: 0.4154 - val_loss: 0.5149\n",
      "Epoch 69/1000\n",
      "23/23 [==============================] - 3s 127ms/step - loss: 0.4280 - val_loss: 0.5059\n",
      "Epoch 70/1000\n",
      "23/23 [==============================] - 3s 131ms/step - loss: 0.3909 - val_loss: 0.5115\n",
      "Epoch 71/1000\n",
      "23/23 [==============================] - 3s 136ms/step - loss: 0.4244 - val_loss: 0.5158\n",
      "Epoch 72/1000\n",
      "23/23 [==============================] - 3s 130ms/step - loss: 0.3793 - val_loss: 0.5039\n",
      "Epoch 73/1000\n",
      "23/23 [==============================] - 3s 132ms/step - loss: 0.4343 - val_loss: 0.6107\n",
      "Epoch 74/1000\n",
      "23/23 [==============================] - 3s 126ms/step - loss: 0.4111 - val_loss: 0.5069\n",
      "Epoch 75/1000\n",
      "23/23 [==============================] - 3s 130ms/step - loss: 0.3764 - val_loss: 0.5158\n",
      "Epoch 76/1000\n",
      "23/23 [==============================] - 3s 133ms/step - loss: 0.3782 - val_loss: 0.5490\n",
      "Epoch 77/1000\n",
      "23/23 [==============================] - 3s 126ms/step - loss: 0.4015 - val_loss: 0.5065\n",
      "Epoch 78/1000\n",
      "23/23 [==============================] - 3s 125ms/step - loss: 0.3842 - val_loss: 0.5155\n",
      "Epoch 79/1000\n",
      "23/23 [==============================] - 3s 130ms/step - loss: 0.4058 - val_loss: 0.5156\n",
      "Epoch 80/1000\n",
      "23/23 [==============================] - 3s 121ms/step - loss: 0.4192 - val_loss: 0.5201\n",
      "Epoch 81/1000\n",
      "23/23 [==============================] - 3s 124ms/step - loss: 0.3739 - val_loss: 0.5202\n",
      "Epoch 82/1000\n",
      "23/23 [==============================] - 3s 125ms/step - loss: 0.3886 - val_loss: 0.5244\n",
      "Epoch 83/1000\n",
      "23/23 [==============================] - 3s 123ms/step - loss: 0.3389 - val_loss: 0.5064\n",
      "Epoch 84/1000\n",
      "23/23 [==============================] - 3s 130ms/step - loss: 0.3657 - val_loss: 0.5423\n",
      "Epoch 85/1000\n",
      "23/23 [==============================] - 3s 125ms/step - loss: 0.3871 - val_loss: 0.5109\n",
      "Epoch 86/1000\n",
      "23/23 [==============================] - 3s 127ms/step - loss: 0.4008 - val_loss: 0.5102\n",
      "Epoch 87/1000\n",
      "23/23 [==============================] - 3s 124ms/step - loss: 0.3867 - val_loss: 0.5188\n",
      "Epoch 88/1000\n",
      "23/23 [==============================] - 3s 126ms/step - loss: 0.3756 - val_loss: 0.5206\n",
      "Epoch 89/1000\n",
      "23/23 [==============================] - 3s 126ms/step - loss: 0.3881 - val_loss: 0.5164\n",
      "Epoch 90/1000\n",
      "23/23 [==============================] - 3s 122ms/step - loss: 0.3993 - val_loss: 0.5261\n",
      "Epoch 91/1000\n",
      "23/23 [==============================] - 3s 127ms/step - loss: 0.3377 - val_loss: 0.5055\n",
      "Epoch 92/1000\n",
      "23/23 [==============================] - 3s 127ms/step - loss: 0.3370 - val_loss: 0.5092\n",
      "Epoch 93/1000\n",
      "23/23 [==============================] - 3s 126ms/step - loss: 0.3579 - val_loss: 0.5204\n",
      "Epoch 94/1000\n",
      "23/23 [==============================] - 3s 124ms/step - loss: 0.4012 - val_loss: 0.5166\n",
      "Epoch 95/1000\n",
      "23/23 [==============================] - 3s 135ms/step - loss: 0.3746 - val_loss: 0.5075\n",
      "Epoch 96/1000\n",
      "23/23 [==============================] - 3s 138ms/step - loss: 0.3337 - val_loss: 0.5166\n",
      "Epoch 97/1000\n",
      "23/23 [==============================] - ETA: 0s - loss: 0.3465\n",
      "Epoch 00097: ReduceLROnPlateau reducing learning rate to 9.999999747378752e-07.\n",
      "23/23 [==============================] - 3s 139ms/step - loss: 0.3465 - val_loss: 0.5052\n",
      "Epoch 98/1000\n",
      "23/23 [==============================] - 3s 138ms/step - loss: 0.3435 - val_loss: 0.5203\n",
      "Epoch 99/1000\n",
      "23/23 [==============================] - 3s 137ms/step - loss: 0.3242 - val_loss: 0.5072\n",
      "Epoch 100/1000\n",
      "23/23 [==============================] - 3s 136ms/step - loss: 0.3571 - val_loss: 0.5092\n",
      "Epoch 101/1000\n",
      "23/23 [==============================] - 3s 138ms/step - loss: 0.3834 - val_loss: 0.5089\n",
      "Epoch 102/1000\n",
      "23/23 [==============================] - 3s 135ms/step - loss: 0.3761 - val_loss: 0.5137\n",
      "Epoch 103/1000\n",
      "23/23 [==============================] - 3s 134ms/step - loss: 0.3576 - val_loss: 0.5158\n",
      "Epoch 104/1000\n",
      "23/23 [==============================] - 3s 146ms/step - loss: 0.3532 - val_loss: 0.5240\n",
      "Epoch 105/1000\n",
      "23/23 [==============================] - 4s 157ms/step - loss: 0.3683 - val_loss: 0.5050\n",
      "Epoch 106/1000\n",
      "23/23 [==============================] - 3s 141ms/step - loss: 0.3484 - val_loss: 0.5216\n",
      "Epoch 107/1000\n",
      "23/23 [==============================] - 3s 148ms/step - loss: 0.3396 - val_loss: 0.5255\n",
      "Epoch 108/1000\n",
      "23/23 [==============================] - 3s 140ms/step - loss: 0.3621 - val_loss: 0.5230\n",
      "Epoch 109/1000\n",
      "23/23 [==============================] - 3s 132ms/step - loss: 0.3574 - val_loss: 0.5228\n",
      "Epoch 110/1000\n",
      "23/23 [==============================] - 3s 137ms/step - loss: 0.3639 - val_loss: 0.5164\n",
      "Epoch 111/1000\n",
      "23/23 [==============================] - 3s 134ms/step - loss: 0.3741 - val_loss: 0.5132\n",
      "Epoch 112/1000\n",
      "23/23 [==============================] - 3s 131ms/step - loss: 0.3621 - val_loss: 0.5164\n",
      "Epoch 113/1000\n",
      "23/23 [==============================] - 3s 136ms/step - loss: 0.3659 - val_loss: 0.5181\n",
      "Epoch 114/1000\n",
      "23/23 [==============================] - 3s 136ms/step - loss: 0.3345 - val_loss: 0.5233\n",
      "Epoch 115/1000\n",
      "23/23 [==============================] - 3s 127ms/step - loss: 0.3909 - val_loss: 0.5219\n",
      "Epoch 116/1000\n",
      "23/23 [==============================] - 3s 122ms/step - loss: 0.3438 - val_loss: 0.5096\n",
      "Epoch 117/1000\n",
      "23/23 [==============================] - 3s 124ms/step - loss: 0.3339 - val_loss: 0.5186\n",
      "Epoch 118/1000\n",
      "23/23 [==============================] - 3s 131ms/step - loss: 0.3548 - val_loss: 0.5107\n",
      "Epoch 119/1000\n",
      "23/23 [==============================] - 3s 136ms/step - loss: 0.3451 - val_loss: 0.5088\n",
      "Epoch 120/1000\n",
      "23/23 [==============================] - 3s 131ms/step - loss: 0.3842 - val_loss: 0.5252\n",
      "Epoch 121/1000\n",
      "23/23 [==============================] - 3s 128ms/step - loss: 0.3345 - val_loss: 0.5149\n",
      "Epoch 122/1000\n",
      "23/23 [==============================] - ETA: 0s - loss: 0.3449\n",
      "Epoch 00122: ReduceLROnPlateau reducing learning rate to 9.999999974752428e-08.\n",
      "23/23 [==============================] - 3s 139ms/step - loss: 0.3449 - val_loss: 0.5148\n",
      "Epoch 123/1000\n",
      "23/23 [==============================] - 3s 141ms/step - loss: 0.3398 - val_loss: 0.5161\n",
      "Epoch 124/1000\n",
      "23/23 [==============================] - 3s 143ms/step - loss: 0.3284 - val_loss: 0.5165\n",
      "Epoch 125/1000\n",
      "23/23 [==============================] - 3s 124ms/step - loss: 0.3548 - val_loss: 0.5167\n",
      "Epoch 126/1000\n",
      "23/23 [==============================] - 3s 122ms/step - loss: 0.3318 - val_loss: 0.5157\n",
      "Epoch 127/1000\n",
      "23/23 [==============================] - 3s 138ms/step - loss: 0.3465 - val_loss: 0.5179\n",
      "Epoch 128/1000\n",
      "23/23 [==============================] - 3s 133ms/step - loss: 0.3315 - val_loss: 0.5177\n",
      "Epoch 129/1000\n",
      "23/23 [==============================] - 3s 128ms/step - loss: 0.3319 - val_loss: 0.5156\n",
      "Epoch 130/1000\n",
      "23/23 [==============================] - 3s 130ms/step - loss: 0.3602 - val_loss: 0.5128\n",
      "Epoch 131/1000\n",
      "23/23 [==============================] - 3s 121ms/step - loss: 0.3646 - val_loss: 0.5146\n",
      "Epoch 132/1000\n",
      "23/23 [==============================] - 3s 124ms/step - loss: 0.3628 - val_loss: 0.5158\n",
      "Epoch 133/1000\n",
      "23/23 [==============================] - 3s 128ms/step - loss: 0.3523 - val_loss: 0.5170\n",
      "Epoch 134/1000\n",
      "23/23 [==============================] - 3s 124ms/step - loss: 0.3659 - val_loss: 0.5171\n",
      "Epoch 135/1000\n",
      "23/23 [==============================] - 3s 122ms/step - loss: 0.3268 - val_loss: 0.5167\n",
      "Epoch 136/1000\n",
      "23/23 [==============================] - 3s 131ms/step - loss: 0.3449 - val_loss: 0.5175\n",
      "Epoch 137/1000\n",
      "23/23 [==============================] - 3s 134ms/step - loss: 0.3699 - val_loss: 0.5175\n",
      "Epoch 138/1000\n",
      "23/23 [==============================] - 3s 124ms/step - loss: 0.3858 - val_loss: 0.5187\n",
      "Epoch 139/1000\n",
      "23/23 [==============================] - 3s 131ms/step - loss: 0.3552 - val_loss: 0.5181\n",
      "Epoch 140/1000\n",
      "23/23 [==============================] - 3s 130ms/step - loss: 0.3297 - val_loss: 0.5179\n",
      "Epoch 141/1000\n",
      "23/23 [==============================] - 3s 128ms/step - loss: 0.3608 - val_loss: 0.5159\n",
      "Epoch 142/1000\n",
      "23/23 [==============================] - 3s 134ms/step - loss: 0.3553 - val_loss: 0.5149\n",
      "Epoch 143/1000\n",
      "23/23 [==============================] - 3s 133ms/step - loss: 0.3186 - val_loss: 0.5129\n",
      "Epoch 144/1000\n",
      "23/23 [==============================] - 3s 129ms/step - loss: 0.3627 - val_loss: 0.5117\n",
      "Epoch 145/1000\n",
      "23/23 [==============================] - 3s 128ms/step - loss: 0.3596 - val_loss: 0.5124\n",
      "Epoch 146/1000\n",
      "23/23 [==============================] - 3s 126ms/step - loss: 0.3456 - val_loss: 0.5146\n",
      "Epoch 147/1000\n",
      "23/23 [==============================] - ETA: 0s - loss: 0.3270\n",
      "Epoch 00147: ReduceLROnPlateau reducing learning rate to 1.0000000116860975e-08.\n",
      "23/23 [==============================] - 3s 127ms/step - loss: 0.3270 - val_loss: 0.5146\n",
      "Epoch 148/1000\n",
      "23/23 [==============================] - 3s 127ms/step - loss: 0.3458 - val_loss: 0.5146\n",
      "Epoch 149/1000\n",
      "23/23 [==============================] - 3s 131ms/step - loss: 0.3459 - val_loss: 0.5148\n",
      "Epoch 150/1000\n",
      "23/23 [==============================] - 3s 127ms/step - loss: 0.3541 - val_loss: 0.5147\n",
      "Epoch 151/1000\n",
      "23/23 [==============================] - 3s 128ms/step - loss: 0.3720 - val_loss: 0.5147\n",
      "Epoch 152/1000\n",
      "23/23 [==============================] - 3s 125ms/step - loss: 0.3622 - val_loss: 0.5147\n",
      "Epoch 153/1000\n",
      "23/23 [==============================] - 3s 125ms/step - loss: 0.3579 - val_loss: 0.5146\n",
      "Epoch 154/1000\n",
      "23/23 [==============================] - 3s 126ms/step - loss: 0.3438 - val_loss: 0.5150\n"
     ]
    },
    {
     "name": "stdout",
     "output_type": "stream",
     "text": [
      "Epoch 155/1000\n",
      "23/23 [==============================] - 3s 124ms/step - loss: 0.3328 - val_loss: 0.5151\n",
      "Epoch 156/1000\n",
      "23/23 [==============================] - 3s 124ms/step - loss: 0.3811 - val_loss: 0.5153\n",
      "Epoch 157/1000\n",
      "23/23 [==============================] - 3s 130ms/step - loss: 0.3165 - val_loss: 0.5153\n",
      "Epoch 158/1000\n",
      "23/23 [==============================] - 3s 130ms/step - loss: 0.3437 - val_loss: 0.5154\n",
      "Epoch 159/1000\n",
      "23/23 [==============================] - 3s 122ms/step - loss: 0.3261 - val_loss: 0.5153\n",
      "Epoch 160/1000\n",
      "23/23 [==============================] - 3s 144ms/step - loss: 0.3624 - val_loss: 0.5152\n",
      "Epoch 161/1000\n",
      "23/23 [==============================] - 3s 131ms/step - loss: 0.3189 - val_loss: 0.5152\n",
      "Epoch 162/1000\n",
      "23/23 [==============================] - 3s 151ms/step - loss: 0.3603 - val_loss: 0.5153\n",
      "Epoch 163/1000\n",
      "23/23 [==============================] - 3s 139ms/step - loss: 0.3527 - val_loss: 0.5153\n",
      "Epoch 164/1000\n",
      "23/23 [==============================] - 3s 145ms/step - loss: 0.3290 - val_loss: 0.5152\n",
      "Epoch 165/1000\n",
      "23/23 [==============================] - 3s 145ms/step - loss: 0.3424 - val_loss: 0.5152\n",
      "Epoch 166/1000\n",
      "23/23 [==============================] - 3s 142ms/step - loss: 0.3482 - val_loss: 0.5154\n",
      "Epoch 167/1000\n",
      "23/23 [==============================] - 3s 123ms/step - loss: 0.3707 - val_loss: 0.5155\n",
      "Epoch 168/1000\n",
      "23/23 [==============================] - 3s 129ms/step - loss: 0.3553 - val_loss: 0.5157\n",
      "Epoch 169/1000\n",
      "23/23 [==============================] - 3s 128ms/step - loss: 0.3421 - val_loss: 0.5157\n",
      "Epoch 170/1000\n",
      "23/23 [==============================] - 3s 123ms/step - loss: 0.3630 - val_loss: 0.5158\n",
      "Epoch 171/1000\n",
      "23/23 [==============================] - 3s 128ms/step - loss: 0.3672 - val_loss: 0.5160\n",
      "Epoch 172/1000\n",
      "23/23 [==============================] - ETA: 0s - loss: 0.3204\n",
      "Epoch 00172: ReduceLROnPlateau reducing learning rate to 9.999999939225292e-10.\n",
      "Restoring model weights from the end of the best epoch.\n",
      "23/23 [==============================] - 3s 126ms/step - loss: 0.3204 - val_loss: 0.5161\n",
      "Epoch 00172: early stopping\n"
     ]
    }
   ],
   "source": [
    "# History object for plotting our model loss by epoch\n",
    "history4 = model4.fit(x_train12, y_train12, batch_size = BATCH4, \n",
    "                    epochs = EPOCHS4, validation_data = (x_val12, y_val12),\n",
    "                    callbacks = [rlrop4, early_stop4])"
   ]
  },
  {
   "cell_type": "code",
   "execution_count": 78,
   "metadata": {},
   "outputs": [
    {
     "data": {
      "image/png": "[encoded data removed]",
      "text/plain": [
       "<Figure size 720x504 with 1 Axes>"
      ]
     },
     "metadata": {
      "needs_background": "light"
     },
     "output_type": "display_data"
    }
   ],
   "source": [
    "# Loss History\n",
    "fig = plt.figure(figsize=(10, 7))\n",
    "plt.plot(history4.history['loss'])\n",
    "plt.plot(history4.history['val_loss'])\n",
    "plt.title('Model Loss')\n",
    "plt.ylabel('Loss')\n",
    "plt.xlabel('Epoch')\n",
    "plt.legend(['Train', 'Val'], loc='upper right')\n",
    "plt.show()"
   ]
  },
  {
   "cell_type": "markdown",
   "metadata": {},
   "source": [
    "### Previsão Multistep 12 meses em Validação\n",
    "Para ficar adequado à realidade, não podemos usar os dados de 2022 para prever 2022. Portanto, a previsão de 2022 será feita do moto *multistep*, isto é, o mês de janeiro/2022 será previsto usando-se os dados de arrecadação de janeiro a dezembro de 2021; o mês de fevereiro/2022 será previsto usando-se os dados de fevereiro a dezembro de 2021 mais a previsão feita para o mês de janeiro/2022; o mês de março/2022 será previsto usando-se os dados de março a dezembro de 2021 mais os meses de janeiro e fevereiro de 2022 previstos nos passos anteriores. E assim por diante, até que a previsão de dezembro/2022 será feita usando-se os dados de dezembro de 2021 mais as previsões de janeiro a novembro de 2022 feitas nos passos anteriores."
   ]
  },
  {
   "cell_type": "markdown",
   "metadata": {},
   "source": [
    "#### Remove os 12 últimos valores que serão previstos e cria as séries novamente"
   ]
  },
  {
   "cell_type": "code",
   "execution_count": 79,
   "metadata": {},
   "outputs": [
    {
     "name": "stdout",
     "output_type": "stream",
     "text": [
      "(228,)\n",
      "(204,)\n"
     ]
    },
    {
     "data": {
      "text/plain": [
       "pandas.core.series.Series"
      ]
     },
     "execution_count": 79,
     "metadata": {},
     "output_type": "execute_result"
    }
   ],
   "source": [
    "# remove\n",
    "serie_multi122 = l_icms_ts[:-24]\n",
    "print(l_icms_ts.shape)\n",
    "print(serie_multi122.shape)\n",
    "type(serie_multi122)"
   ]
  },
  {
   "cell_type": "code",
   "execution_count": 80,
   "metadata": {},
   "outputs": [
    {
     "name": "stdout",
     "output_type": "stream",
     "text": [
      "0 [[1.2107889e+10]]\n",
      "1 [[1.2120851e+10]]\n",
      "2 [[1.2122169e+10]]\n",
      "3 [[1.2127858e+10]]\n",
      "4 [[1.2145427e+10]]\n",
      "5 [[1.2159776e+10]]\n",
      "6 [[1.2177647e+10]]\n",
      "7 [[1.2202898e+10]]\n",
      "8 [[1.2225961e+10]]\n",
      "9 [[1.2253253e+10]]\n",
      "10 [[1.228051e+10]]\n",
      "11 [[1.2297199e+10]]\n"
     ]
    }
   ],
   "source": [
    "for i in range(12):\n",
    "    # cria as séries\n",
    "    X_multi122, Y_multi122 = cria_features_target(serie_multi122, verbose=0)\n",
    "\n",
    "    # Faz a normalização usando o modelo fitado na normalização anterior\n",
    "    X_multi_std122 = enc_x.transform(X_multi122)\n",
    "    X_multi_std122 = X_multi_std122.reshape(X_multi_std122.shape[0],10,1)\n",
    "\n",
    "    # Faz o janelamento das séries\n",
    "    x_multi122, y_multi122 = janelamento_12_meses(X_multi_std122, Y_multi122, verbose=0)\n",
    "\n",
    "    # Faz a predição da arrecadação do mês\n",
    "    #y_pred_multi = np.mean(model.predict(x_multi[-1:]), axis=1)#[:,0].ravel()\n",
    "    y_pred_multi122 = model4.predict(x_multi122[-1:])#[:,0].ravel()\n",
    "    print(i, np.exp(y_pred_multi122))\n",
    "\n",
    "    #### Adicionar o valor previsto à série e fazer o novo janelamento\n",
    "    serie_multi122 = pd.Series(np.append(serie_multi122, y_pred_multi122))\n",
    "    type(serie_multi122)"
   ]
  },
  {
   "cell_type": "code",
   "execution_count": 81,
   "metadata": {},
   "outputs": [],
   "source": [
    "Y_pred_multi122 = np.exp(pd.Series(serie_multi122[-12:])) # tira o log das previsões\n",
    "Y_pred_multi122.index = icms_val.index"
   ]
  },
  {
   "cell_type": "code",
   "execution_count": 82,
   "metadata": {},
   "outputs": [
    {
     "data": {
      "text/plain": [
       "date\n",
       "2020-01-01    1.210789e+10\n",
       "2020-02-01    1.212085e+10\n",
       "2020-03-01    1.212217e+10\n",
       "2020-04-01    1.212786e+10\n",
       "2020-05-01    1.214543e+10\n",
       "2020-06-01    1.215978e+10\n",
       "2020-07-01    1.217765e+10\n",
       "2020-08-01    1.220290e+10\n",
       "2020-09-01    1.222596e+10\n",
       "2020-10-01    1.225325e+10\n",
       "2020-11-01    1.228051e+10\n",
       "2020-12-01    1.229720e+10\n",
       "dtype: float64"
      ]
     },
     "execution_count": 82,
     "metadata": {},
     "output_type": "execute_result"
    }
   ],
   "source": [
    "Y_pred_multi122"
   ]
  },
  {
   "cell_type": "code",
   "execution_count": 83,
   "metadata": {},
   "outputs": [
    {
     "data": {
      "text/plain": [
       "1709118599.0174081"
      ]
     },
     "execution_count": 83,
     "metadata": {},
     "output_type": "execute_result"
    }
   ],
   "source": [
    "RMSE_lstm_multi122 = mean_squared_error(icms_val, Y_pred_multi122, squared=False)\n",
    "RMSE_lstm_multi122"
   ]
  },
  {
   "cell_type": "code",
   "execution_count": 84,
   "metadata": {
    "scrolled": true
   },
   "outputs": [
    {
     "data": {
      "text/plain": [
       "0.1187224986636047"
      ]
     },
     "execution_count": 84,
     "metadata": {},
     "output_type": "execute_result"
    }
   ],
   "source": [
    "MAPE_lstm_multi122 = mean_absolute_percentage_error(icms_val, Y_pred_multi122)\n",
    "MAPE_lstm_multi122"
   ]
  },
  {
   "cell_type": "code",
   "execution_count": 85,
   "metadata": {},
   "outputs": [],
   "source": [
    "previsoes['nome'].append('RNN-LSTM-12-meses-camadas')\n",
    "previsoes['modelo'].append(model4)\n",
    "previsoes['previsoes'].append(Y_pred_multi122)\n",
    "\n",
    "previsoes['rmse'].append(RMSE_lstm_multi122)\n",
    "\n",
    "previsoes['mape'].append(MAPE_lstm_multi122)"
   ]
  },
  {
   "cell_type": "code",
   "execution_count": 86,
   "metadata": {},
   "outputs": [],
   "source": [
    "previsoes['erro relativo'].append([erro_relativo(prev,real) \n",
    "                                   for prev,real in zip(Y_pred_multi122\n",
    "                                                        , icms_val)])"
   ]
  },
  {
   "cell_type": "markdown",
   "metadata": {},
   "source": [
    "## Resultados"
   ]
  },
  {
   "cell_type": "code",
   "execution_count": 87,
   "metadata": {},
   "outputs": [
    {
     "data": {
      "text/plain": [
       "['RNN-LSTM-1-mês-larga',\n",
       " 'RNN-LSTM-1-mês-camadas',\n",
       " 'RNN-LSTM-12-meses-larga',\n",
       " 'RNN-LSTM-12-meses-camadas']"
      ]
     },
     "execution_count": 87,
     "metadata": {},
     "output_type": "execute_result"
    }
   ],
   "source": [
    "previsoes['nome']"
   ]
  },
  {
   "cell_type": "code",
   "execution_count": 88,
   "metadata": {},
   "outputs": [],
   "source": [
    "df_prev = pd.DataFrame(data=previsoes['previsoes'], \n",
    "                       index=previsoes['nome']).transpose()\n",
    "df_prev[\"real\"] = icms_val\n",
    "df_rmse = pd.DataFrame(data=previsoes['rmse'], \n",
    "                       index=previsoes['nome']).transpose()\n",
    "df_mape = pd.DataFrame(data=previsoes['mape'], \n",
    "                       index=previsoes['nome']).transpose()\n",
    "df_erro = pd.DataFrame(data=previsoes['erro relativo'], \n",
    "                       index=previsoes['nome']).transpose()"
   ]
  },
  {
   "cell_type": "code",
   "execution_count": 89,
   "metadata": {},
   "outputs": [
    {
     "data": {
      "text/html": [
       "<div>\n",
       "<style scoped>\n",
       "    .dataframe tbody tr th:only-of-type {\n",
       "        vertical-align: middle;\n",
       "    }\n",
       "\n",
       "    .dataframe tbody tr th {\n",
       "        vertical-align: top;\n",
       "    }\n",
       "\n",
       "    .dataframe thead th {\n",
       "        text-align: right;\n",
       "    }\n",
       "</style>\n",
       "<table border=\"1\" class=\"dataframe\">\n",
       "  <thead>\n",
       "    <tr style=\"text-align: right;\">\n",
       "      <th></th>\n",
       "      <th>RNN-LSTM-1-mês-larga</th>\n",
       "      <th>RNN-LSTM-1-mês-camadas</th>\n",
       "      <th>RNN-LSTM-12-meses-larga</th>\n",
       "      <th>RNN-LSTM-12-meses-camadas</th>\n",
       "      <th>real</th>\n",
       "    </tr>\n",
       "    <tr>\n",
       "      <th>date</th>\n",
       "      <th></th>\n",
       "      <th></th>\n",
       "      <th></th>\n",
       "      <th></th>\n",
       "      <th></th>\n",
       "    </tr>\n",
       "  </thead>\n",
       "  <tbody>\n",
       "    <tr>\n",
       "      <th>2020-01-01</th>\n",
       "      <td>1.190947e+10</td>\n",
       "      <td>1.206706e+10</td>\n",
       "      <td>1.229045e+10</td>\n",
       "      <td>1.210789e+10</td>\n",
       "      <td>1.292981e+10</td>\n",
       "    </tr>\n",
       "    <tr>\n",
       "      <th>2020-02-01</th>\n",
       "      <td>1.192101e+10</td>\n",
       "      <td>1.208892e+10</td>\n",
       "      <td>1.230832e+10</td>\n",
       "      <td>1.212085e+10</td>\n",
       "      <td>1.177686e+10</td>\n",
       "    </tr>\n",
       "    <tr>\n",
       "      <th>2020-03-01</th>\n",
       "      <td>1.196274e+10</td>\n",
       "      <td>1.212629e+10</td>\n",
       "      <td>1.227564e+10</td>\n",
       "      <td>1.212217e+10</td>\n",
       "      <td>1.208593e+10</td>\n",
       "    </tr>\n",
       "    <tr>\n",
       "      <th>2020-04-01</th>\n",
       "      <td>1.192613e+10</td>\n",
       "      <td>1.209796e+10</td>\n",
       "      <td>1.225225e+10</td>\n",
       "      <td>1.212786e+10</td>\n",
       "      <td>1.045560e+10</td>\n",
       "    </tr>\n",
       "    <tr>\n",
       "      <th>2020-05-01</th>\n",
       "      <td>1.189628e+10</td>\n",
       "      <td>1.208422e+10</td>\n",
       "      <td>1.227159e+10</td>\n",
       "      <td>1.214543e+10</td>\n",
       "      <td>9.023529e+09</td>\n",
       "    </tr>\n",
       "    <tr>\n",
       "      <th>2020-06-01</th>\n",
       "      <td>1.187640e+10</td>\n",
       "      <td>1.208108e+10</td>\n",
       "      <td>1.227667e+10</td>\n",
       "      <td>1.215978e+10</td>\n",
       "      <td>9.983544e+09</td>\n",
       "    </tr>\n",
       "    <tr>\n",
       "      <th>2020-07-01</th>\n",
       "      <td>1.187123e+10</td>\n",
       "      <td>1.206657e+10</td>\n",
       "      <td>1.228881e+10</td>\n",
       "      <td>1.217765e+10</td>\n",
       "      <td>1.134873e+10</td>\n",
       "    </tr>\n",
       "    <tr>\n",
       "      <th>2020-08-01</th>\n",
       "      <td>1.187216e+10</td>\n",
       "      <td>1.206828e+10</td>\n",
       "      <td>1.233427e+10</td>\n",
       "      <td>1.220290e+10</td>\n",
       "      <td>1.227731e+10</td>\n",
       "    </tr>\n",
       "    <tr>\n",
       "      <th>2020-09-01</th>\n",
       "      <td>1.186861e+10</td>\n",
       "      <td>1.206117e+10</td>\n",
       "      <td>1.237756e+10</td>\n",
       "      <td>1.222596e+10</td>\n",
       "      <td>1.309835e+10</td>\n",
       "    </tr>\n",
       "    <tr>\n",
       "      <th>2020-10-01</th>\n",
       "      <td>1.186659e+10</td>\n",
       "      <td>1.206016e+10</td>\n",
       "      <td>1.244303e+10</td>\n",
       "      <td>1.225325e+10</td>\n",
       "      <td>1.387787e+10</td>\n",
       "    </tr>\n",
       "    <tr>\n",
       "      <th>2020-11-01</th>\n",
       "      <td>1.186379e+10</td>\n",
       "      <td>1.206200e+10</td>\n",
       "      <td>1.252100e+10</td>\n",
       "      <td>1.228051e+10</td>\n",
       "      <td>1.474590e+10</td>\n",
       "    </tr>\n",
       "    <tr>\n",
       "      <th>2020-12-01</th>\n",
       "      <td>1.186155e+10</td>\n",
       "      <td>1.206335e+10</td>\n",
       "      <td>1.257576e+10</td>\n",
       "      <td>1.229720e+10</td>\n",
       "      <td>1.490640e+10</td>\n",
       "    </tr>\n",
       "  </tbody>\n",
       "</table>\n",
       "</div>"
      ],
      "text/plain": [
       "            RNN-LSTM-1-mês-larga  RNN-LSTM-1-mês-camadas  \\\n",
       "date                                                       \n",
       "2020-01-01          1.190947e+10            1.206706e+10   \n",
       "2020-02-01          1.192101e+10            1.208892e+10   \n",
       "2020-03-01          1.196274e+10            1.212629e+10   \n",
       "2020-04-01          1.192613e+10            1.209796e+10   \n",
       "2020-05-01          1.189628e+10            1.208422e+10   \n",
       "2020-06-01          1.187640e+10            1.208108e+10   \n",
       "2020-07-01          1.187123e+10            1.206657e+10   \n",
       "2020-08-01          1.187216e+10            1.206828e+10   \n",
       "2020-09-01          1.186861e+10            1.206117e+10   \n",
       "2020-10-01          1.186659e+10            1.206016e+10   \n",
       "2020-11-01          1.186379e+10            1.206200e+10   \n",
       "2020-12-01          1.186155e+10            1.206335e+10   \n",
       "\n",
       "            RNN-LSTM-12-meses-larga  RNN-LSTM-12-meses-camadas          real  \n",
       "date                                                                          \n",
       "2020-01-01             1.229045e+10               1.210789e+10  1.292981e+10  \n",
       "2020-02-01             1.230832e+10               1.212085e+10  1.177686e+10  \n",
       "2020-03-01             1.227564e+10               1.212217e+10  1.208593e+10  \n",
       "2020-04-01             1.225225e+10               1.212786e+10  1.045560e+10  \n",
       "2020-05-01             1.227159e+10               1.214543e+10  9.023529e+09  \n",
       "2020-06-01             1.227667e+10               1.215978e+10  9.983544e+09  \n",
       "2020-07-01             1.228881e+10               1.217765e+10  1.134873e+10  \n",
       "2020-08-01             1.233427e+10               1.220290e+10  1.227731e+10  \n",
       "2020-09-01             1.237756e+10               1.222596e+10  1.309835e+10  \n",
       "2020-10-01             1.244303e+10               1.225325e+10  1.387787e+10  \n",
       "2020-11-01             1.252100e+10               1.228051e+10  1.474590e+10  \n",
       "2020-12-01             1.257576e+10               1.229720e+10  1.490640e+10  "
      ]
     },
     "execution_count": 89,
     "metadata": {},
     "output_type": "execute_result"
    }
   ],
   "source": [
    "df_prev"
   ]
  },
  {
   "cell_type": "code",
   "execution_count": 90,
   "metadata": {},
   "outputs": [
    {
     "data": {
      "text/html": [
       "<div>\n",
       "<style scoped>\n",
       "    .dataframe tbody tr th:only-of-type {\n",
       "        vertical-align: middle;\n",
       "    }\n",
       "\n",
       "    .dataframe tbody tr th {\n",
       "        vertical-align: top;\n",
       "    }\n",
       "\n",
       "    .dataframe thead th {\n",
       "        text-align: right;\n",
       "    }\n",
       "</style>\n",
       "<table border=\"1\" class=\"dataframe\">\n",
       "  <thead>\n",
       "    <tr style=\"text-align: right;\">\n",
       "      <th></th>\n",
       "      <th>RNN-LSTM-1-mês-larga</th>\n",
       "      <th>RNN-LSTM-1-mês-camadas</th>\n",
       "      <th>RNN-LSTM-12-meses-larga</th>\n",
       "      <th>RNN-LSTM-12-meses-camadas</th>\n",
       "    </tr>\n",
       "  </thead>\n",
       "  <tbody>\n",
       "    <tr>\n",
       "      <th>0</th>\n",
       "      <td>7.891356</td>\n",
       "      <td>6.672553</td>\n",
       "      <td>4.944853</td>\n",
       "      <td>6.356768</td>\n",
       "    </tr>\n",
       "    <tr>\n",
       "      <th>1</th>\n",
       "      <td>1.224087</td>\n",
       "      <td>2.649814</td>\n",
       "      <td>4.512808</td>\n",
       "      <td>2.920948</td>\n",
       "    </tr>\n",
       "    <tr>\n",
       "      <th>2</th>\n",
       "      <td>1.019278</td>\n",
       "      <td>0.333889</td>\n",
       "      <td>1.569661</td>\n",
       "      <td>0.299831</td>\n",
       "    </tr>\n",
       "    <tr>\n",
       "      <th>3</th>\n",
       "      <td>14.064589</td>\n",
       "      <td>15.708023</td>\n",
       "      <td>17.183654</td>\n",
       "      <td>15.993956</td>\n",
       "    </tr>\n",
       "    <tr>\n",
       "      <th>4</th>\n",
       "      <td>31.836218</td>\n",
       "      <td>33.918977</td>\n",
       "      <td>35.995466</td>\n",
       "      <td>34.597324</td>\n",
       "    </tr>\n",
       "    <tr>\n",
       "      <th>5</th>\n",
       "      <td>18.959726</td>\n",
       "      <td>21.009970</td>\n",
       "      <td>22.969064</td>\n",
       "      <td>21.798197</td>\n",
       "    </tr>\n",
       "    <tr>\n",
       "      <th>6</th>\n",
       "      <td>4.604091</td>\n",
       "      <td>6.325362</td>\n",
       "      <td>8.283561</td>\n",
       "      <td>7.304088</td>\n",
       "    </tr>\n",
       "    <tr>\n",
       "      <th>7</th>\n",
       "      <td>3.299965</td>\n",
       "      <td>1.702569</td>\n",
       "      <td>0.463943</td>\n",
       "      <td>0.606071</td>\n",
       "    </tr>\n",
       "    <tr>\n",
       "      <th>8</th>\n",
       "      <td>9.388539</td>\n",
       "      <td>7.918421</td>\n",
       "      <td>5.502906</td>\n",
       "      <td>6.660284</td>\n",
       "    </tr>\n",
       "    <tr>\n",
       "      <th>9</th>\n",
       "      <td>14.492676</td>\n",
       "      <td>13.097911</td>\n",
       "      <td>10.339000</td>\n",
       "      <td>11.706502</td>\n",
       "    </tr>\n",
       "    <tr>\n",
       "      <th>10</th>\n",
       "      <td>19.545172</td>\n",
       "      <td>18.201000</td>\n",
       "      <td>15.088222</td>\n",
       "      <td>16.719128</td>\n",
       "    </tr>\n",
       "    <tr>\n",
       "      <th>11</th>\n",
       "      <td>20.426501</td>\n",
       "      <td>19.072669</td>\n",
       "      <td>15.635147</td>\n",
       "      <td>17.503903</td>\n",
       "    </tr>\n",
       "  </tbody>\n",
       "</table>\n",
       "</div>"
      ],
      "text/plain": [
       "    RNN-LSTM-1-mês-larga  RNN-LSTM-1-mês-camadas  RNN-LSTM-12-meses-larga  \\\n",
       "0               7.891356                6.672553                 4.944853   \n",
       "1               1.224087                2.649814                 4.512808   \n",
       "2               1.019278                0.333889                 1.569661   \n",
       "3              14.064589               15.708023                17.183654   \n",
       "4              31.836218               33.918977                35.995466   \n",
       "5              18.959726               21.009970                22.969064   \n",
       "6               4.604091                6.325362                 8.283561   \n",
       "7               3.299965                1.702569                 0.463943   \n",
       "8               9.388539                7.918421                 5.502906   \n",
       "9              14.492676               13.097911                10.339000   \n",
       "10             19.545172               18.201000                15.088222   \n",
       "11             20.426501               19.072669                15.635147   \n",
       "\n",
       "    RNN-LSTM-12-meses-camadas  \n",
       "0                    6.356768  \n",
       "1                    2.920948  \n",
       "2                    0.299831  \n",
       "3                   15.993956  \n",
       "4                   34.597324  \n",
       "5                   21.798197  \n",
       "6                    7.304088  \n",
       "7                    0.606071  \n",
       "8                    6.660284  \n",
       "9                   11.706502  \n",
       "10                  16.719128  \n",
       "11                  17.503903  "
      ]
     },
     "execution_count": 90,
     "metadata": {},
     "output_type": "execute_result"
    }
   ],
   "source": [
    "df_erro"
   ]
  },
  {
   "cell_type": "markdown",
   "metadata": {},
   "source": [
    "#### Previsões"
   ]
  },
  {
   "cell_type": "code",
   "execution_count": 91,
   "metadata": {},
   "outputs": [
    {
     "data": {
      "image/png": "[encoded data removed]",
      "text/plain": [
       "<Figure size 1080x720 with 1 Axes>"
      ]
     },
     "metadata": {
      "needs_background": "light"
     },
     "output_type": "display_data"
    }
   ],
   "source": [
    "fig = plt.figure(figsize=(15, 10))\n",
    "ax = sns.lineplot(data=df_prev)"
   ]
  },
  {
   "cell_type": "markdown",
   "metadata": {},
   "source": [
    "#### RMSE"
   ]
  },
  {
   "cell_type": "code",
   "execution_count": 92,
   "metadata": {
    "scrolled": false
   },
   "outputs": [
    {
     "data": {
      "image/png": "[encoded data removed]",
      "text/plain": [
       "<Figure size 1080x720 with 1 Axes>"
      ]
     },
     "metadata": {
      "needs_background": "light"
     },
     "output_type": "display_data"
    }
   ],
   "source": [
    "fig = plt.figure(figsize=(15, 10))\n",
    "#df_rmse = df_rmse.drop(['mov_avg_12'], axis=1)\n",
    "ax = sns.barplot(data=df_rmse)\n",
    "_ = plt.xticks(rotation=45)"
   ]
  },
  {
   "cell_type": "markdown",
   "metadata": {},
   "source": [
    "#### MAPE"
   ]
  },
  {
   "cell_type": "code",
   "execution_count": 93,
   "metadata": {
    "scrolled": false
   },
   "outputs": [
    {
     "data": {
      "image/png": "[encoded data removed]",
      "text/plain": [
       "<Figure size 1080x720 with 1 Axes>"
      ]
     },
     "metadata": {
      "needs_background": "light"
     },
     "output_type": "display_data"
    }
   ],
   "source": [
    "fig = plt.figure(figsize=(15, 10))\n",
    "#df_mape = df_mape.drop(['mov_avg_12'], axis=1)\n",
    "ax = sns.barplot(data=df_mape)\n",
    "_ = plt.xticks(rotation=45)"
   ]
  },
  {
   "cell_type": "markdown",
   "metadata": {},
   "source": [
    "### Resumo das métricas"
   ]
  },
  {
   "cell_type": "code",
   "execution_count": 94,
   "metadata": {},
   "outputs": [],
   "source": [
    "df_rmse.index = ['RMSE']\n",
    "df_mape.index = ['MAPE']"
   ]
  },
  {
   "cell_type": "code",
   "execution_count": 95,
   "metadata": {},
   "outputs": [
    {
     "data": {
      "text/html": [
       "<div>\n",
       "<style scoped>\n",
       "    .dataframe tbody tr th:only-of-type {\n",
       "        vertical-align: middle;\n",
       "    }\n",
       "\n",
       "    .dataframe tbody tr th {\n",
       "        vertical-align: top;\n",
       "    }\n",
       "\n",
       "    .dataframe thead th {\n",
       "        text-align: right;\n",
       "    }\n",
       "</style>\n",
       "<table border=\"1\" class=\"dataframe\">\n",
       "  <thead>\n",
       "    <tr style=\"text-align: right;\">\n",
       "      <th></th>\n",
       "      <th>RNN-LSTM-1-mês-larga</th>\n",
       "      <th>RNN-LSTM-1-mês-camadas</th>\n",
       "      <th>RNN-LSTM-12-meses-larga</th>\n",
       "      <th>RNN-LSTM-12-meses-camadas</th>\n",
       "    </tr>\n",
       "  </thead>\n",
       "  <tbody>\n",
       "    <tr>\n",
       "      <th>RMSE</th>\n",
       "      <td>1.794609e+09</td>\n",
       "      <td>1.768551e+09</td>\n",
       "      <td>1.673589e+09</td>\n",
       "      <td>1.709119e+09</td>\n",
       "    </tr>\n",
       "    <tr>\n",
       "      <th>MAPE</th>\n",
       "      <td>1.222935e-01</td>\n",
       "      <td>1.221760e-01</td>\n",
       "      <td>1.187402e-01</td>\n",
       "      <td>1.187225e-01</td>\n",
       "    </tr>\n",
       "  </tbody>\n",
       "</table>\n",
       "</div>"
      ],
      "text/plain": [
       "      RNN-LSTM-1-mês-larga  RNN-LSTM-1-mês-camadas  RNN-LSTM-12-meses-larga  \\\n",
       "RMSE          1.794609e+09            1.768551e+09             1.673589e+09   \n",
       "MAPE          1.222935e-01            1.221760e-01             1.187402e-01   \n",
       "\n",
       "      RNN-LSTM-12-meses-camadas  \n",
       "RMSE               1.709119e+09  \n",
       "MAPE               1.187225e-01  "
      ]
     },
     "execution_count": 95,
     "metadata": {},
     "output_type": "execute_result"
    }
   ],
   "source": [
    "df_metricas = df_rmse.copy()\n",
    "df_metricas = df_metricas.append(df_mape.copy())\n",
    "df_metricas"
   ]
  }
 ],
 "metadata": {
  "kernelspec": {
   "display_name": "Python 3",
   "language": "python",
   "name": "python3"
  },
  "language_info": {
   "codemirror_mode": {
    "name": "ipython",
    "version": 3
   },
   "file_extension": ".py",
   "mimetype": "text/x-python",
   "name": "python",
   "nbconvert_exporter": "python",
   "pygments_lexer": "ipython3",
   "version": "3.6.4"
  }
 },
 "nbformat": 4,
 "nbformat_minor": 2
}
