{
 "cells": [
  {
   "cell_type": "markdown",
   "metadata": {},
   "source": [
    "# Aplicação de Modelos de Markov e Redes Neurais LSTM na Previsão de Arrecadação do ICMS Paulista\n",
    "## Resultados 2015\n",
    "\n",
    "### Antonio Sergio Ferreira Bonato"
   ]
  },
  {
   "cell_type": "markdown",
   "metadata": {},
   "source": [
    "Atualmente, na Secretaria da Fazenda e Planejamento do Estado de São Paulo, a previsão de arrecadação do ICMS paulista é feita usando-se um modelo ARIMA com variáveis exógenas, o ARIMAX. Mas o ICMS é não linear e há várias quebras estruturais controladas com diversas *dummies*. A consequência é um modelo bastante sobreajustado, inadequado para previsões de mais longo prazo (mais do que alguns meses, muito menos para um ano). \n",
    "A proposta deste trabalho é utilizar modelos não lineares multivariados na previsão do ICMS paulista, utilizando redes neurais recorrentes LSTM (*Long Short Term Memory*) e modelos Markov-Switching, fazendo um contraponto entre estes dois modelos. E utilizar, como baseline de comparação, o modelo ARIMAX atual. \n",
    "\n",
    "**Palavras-chave**: Markov-Switching Models. Redes Neurais Recorrentes. LSTM. ICMS."
   ]
  },
  {
   "cell_type": "markdown",
   "metadata": {},
   "source": [
    "## Treinamento das Redes Neurais - Série Univariada"
   ]
  },
  {
   "cell_type": "code",
   "execution_count": 1,
   "metadata": {},
   "outputs": [],
   "source": [
    "import pandas as pd\n",
    "import numpy as np\n",
    "import seaborn as sns\n",
    "import matplotlib.pyplot as plt\n",
    "import statsmodels.tsa.stattools\n",
    "import statsmodels.tsa.x13\n",
    "import statsmodels.graphics.tsaplots\n",
    "import statsmodels.api as sm\n",
    "from statsmodels.graphics.api import qqplot\n",
    "from statsmodels.tsa.api import acf, graphics, pacf\n",
    "from statsmodels.tsa.arima.model import ARIMA\n",
    "import pickle\n",
    "from pmdarima.arima import auto_arima, nsdiffs, ndiffs\n",
    "from sklearn.metrics import mean_squared_error, mean_absolute_percentage_error\n",
    "import random\n",
    "import tensorflow as tf\n",
    "seed = 42\n",
    "random.seed(seed)\n",
    "np.random.seed(seed)\n",
    "tf.random.set_seed(seed)\n",
    "\n",
    "sns.set()\n",
    "sns.set_context(\"notebook\")\n",
    "sns.set(rc={'figure.figsize':(10,7)})"
   ]
  },
  {
   "cell_type": "code",
   "execution_count": 2,
   "metadata": {},
   "outputs": [],
   "source": [
    "import warnings\n",
    "warnings.filterwarnings('ignore')\n",
    "warnings.simplefilter('ignore')"
   ]
  },
  {
   "cell_type": "code",
   "execution_count": 3,
   "metadata": {},
   "outputs": [],
   "source": [
    "df_main_orig = pd.read_excel(\"variaveis_previsao.xlsx\", parse_dates=['date'])"
   ]
  },
  {
   "cell_type": "markdown",
   "metadata": {},
   "source": [
    "Removendo as últimas linhas que são todas NaN"
   ]
  },
  {
   "cell_type": "code",
   "execution_count": 4,
   "metadata": {},
   "outputs": [],
   "source": [
    "df_main = df_main_orig.iloc[0:156]\n",
    "datas = df_main['date']"
   ]
  },
  {
   "cell_type": "code",
   "execution_count": 5,
   "metadata": {},
   "outputs": [
    {
     "data": {
      "text/html": [
       "<div>\n",
       "<style scoped>\n",
       "    .dataframe tbody tr th:only-of-type {\n",
       "        vertical-align: middle;\n",
       "    }\n",
       "\n",
       "    .dataframe tbody tr th {\n",
       "        vertical-align: top;\n",
       "    }\n",
       "\n",
       "    .dataframe thead th {\n",
       "        text-align: right;\n",
       "    }\n",
       "</style>\n",
       "<table border=\"1\" class=\"dataframe\">\n",
       "  <thead>\n",
       "    <tr style=\"text-align: right;\">\n",
       "      <th></th>\n",
       "      <th>date</th>\n",
       "      <th>icms_sp</th>\n",
       "      <th>igp_m</th>\n",
       "      <th>dolar</th>\n",
       "      <th>ibc_br</th>\n",
       "      <th>dias_uteis</th>\n",
       "      <th>igp_m_22</th>\n",
       "      <th>dolar_22</th>\n",
       "      <th>ibc_br_22</th>\n",
       "      <th>igp_m_21</th>\n",
       "      <th>...</th>\n",
       "      <th>ibc_br_16</th>\n",
       "      <th>igp_m_15</th>\n",
       "      <th>dolar_15</th>\n",
       "      <th>ibc_br_15</th>\n",
       "      <th>igp_m_14</th>\n",
       "      <th>dolar_14</th>\n",
       "      <th>ibc_br_14</th>\n",
       "      <th>igp_m_13</th>\n",
       "      <th>dolar_13</th>\n",
       "      <th>ibc_br_13</th>\n",
       "    </tr>\n",
       "  </thead>\n",
       "  <tbody>\n",
       "    <tr>\n",
       "      <th>151</th>\n",
       "      <td>2015-08-01</td>\n",
       "      <td>9.864942e+09</td>\n",
       "      <td>588.042</td>\n",
       "      <td>3.514305</td>\n",
       "      <td>140.83</td>\n",
       "      <td>21</td>\n",
       "      <td>588.042</td>\n",
       "      <td>3.514305</td>\n",
       "      <td>140.83</td>\n",
       "      <td>588.042</td>\n",
       "      <td>...</td>\n",
       "      <td>140.83</td>\n",
       "      <td>582.314060</td>\n",
       "      <td>2.73</td>\n",
       "      <td>149.237535</td>\n",
       "      <td>NaN</td>\n",
       "      <td>NaN</td>\n",
       "      <td>NaN</td>\n",
       "      <td>NaN</td>\n",
       "      <td>NaN</td>\n",
       "      <td>NaN</td>\n",
       "    </tr>\n",
       "    <tr>\n",
       "      <th>152</th>\n",
       "      <td>2015-09-01</td>\n",
       "      <td>1.051019e+10</td>\n",
       "      <td>593.606</td>\n",
       "      <td>3.906457</td>\n",
       "      <td>138.07</td>\n",
       "      <td>21</td>\n",
       "      <td>593.606</td>\n",
       "      <td>3.906457</td>\n",
       "      <td>138.07</td>\n",
       "      <td>593.606</td>\n",
       "      <td>...</td>\n",
       "      <td>138.07</td>\n",
       "      <td>584.934474</td>\n",
       "      <td>2.75</td>\n",
       "      <td>149.582977</td>\n",
       "      <td>NaN</td>\n",
       "      <td>NaN</td>\n",
       "      <td>NaN</td>\n",
       "      <td>NaN</td>\n",
       "      <td>NaN</td>\n",
       "      <td>NaN</td>\n",
       "    </tr>\n",
       "    <tr>\n",
       "      <th>153</th>\n",
       "      <td>2015-10-01</td>\n",
       "      <td>1.056639e+10</td>\n",
       "      <td>604.832</td>\n",
       "      <td>3.880138</td>\n",
       "      <td>140.19</td>\n",
       "      <td>21</td>\n",
       "      <td>604.832</td>\n",
       "      <td>3.880138</td>\n",
       "      <td>140.19</td>\n",
       "      <td>604.832</td>\n",
       "      <td>...</td>\n",
       "      <td>140.19</td>\n",
       "      <td>587.859146</td>\n",
       "      <td>2.76</td>\n",
       "      <td>149.422134</td>\n",
       "      <td>NaN</td>\n",
       "      <td>NaN</td>\n",
       "      <td>NaN</td>\n",
       "      <td>NaN</td>\n",
       "      <td>NaN</td>\n",
       "      <td>NaN</td>\n",
       "    </tr>\n",
       "    <tr>\n",
       "      <th>154</th>\n",
       "      <td>2015-11-01</td>\n",
       "      <td>1.029608e+10</td>\n",
       "      <td>614.051</td>\n",
       "      <td>3.776460</td>\n",
       "      <td>135.94</td>\n",
       "      <td>20</td>\n",
       "      <td>614.051</td>\n",
       "      <td>3.776460</td>\n",
       "      <td>135.94</td>\n",
       "      <td>614.051</td>\n",
       "      <td>...</td>\n",
       "      <td>135.94</td>\n",
       "      <td>591.268729</td>\n",
       "      <td>2.77</td>\n",
       "      <td>146.260514</td>\n",
       "      <td>NaN</td>\n",
       "      <td>NaN</td>\n",
       "      <td>NaN</td>\n",
       "      <td>NaN</td>\n",
       "      <td>NaN</td>\n",
       "      <td>NaN</td>\n",
       "    </tr>\n",
       "    <tr>\n",
       "      <th>155</th>\n",
       "      <td>2015-12-01</td>\n",
       "      <td>1.109438e+10</td>\n",
       "      <td>617.044</td>\n",
       "      <td>3.871136</td>\n",
       "      <td>136.22</td>\n",
       "      <td>22</td>\n",
       "      <td>617.044</td>\n",
       "      <td>3.871136</td>\n",
       "      <td>136.22</td>\n",
       "      <td>617.044</td>\n",
       "      <td>...</td>\n",
       "      <td>136.22</td>\n",
       "      <td>595.111976</td>\n",
       "      <td>2.80</td>\n",
       "      <td>147.278002</td>\n",
       "      <td>NaN</td>\n",
       "      <td>NaN</td>\n",
       "      <td>NaN</td>\n",
       "      <td>NaN</td>\n",
       "      <td>NaN</td>\n",
       "      <td>NaN</td>\n",
       "    </tr>\n",
       "  </tbody>\n",
       "</table>\n",
       "<p>5 rows × 36 columns</p>\n",
       "</div>"
      ],
      "text/plain": [
       "          date       icms_sp    igp_m     dolar  ibc_br  dias_uteis  igp_m_22  \\\n",
       "151 2015-08-01  9.864942e+09  588.042  3.514305  140.83          21   588.042   \n",
       "152 2015-09-01  1.051019e+10  593.606  3.906457  138.07          21   593.606   \n",
       "153 2015-10-01  1.056639e+10  604.832  3.880138  140.19          21   604.832   \n",
       "154 2015-11-01  1.029608e+10  614.051  3.776460  135.94          20   614.051   \n",
       "155 2015-12-01  1.109438e+10  617.044  3.871136  136.22          22   617.044   \n",
       "\n",
       "     dolar_22  ibc_br_22  igp_m_21  ...  ibc_br_16    igp_m_15  dolar_15  \\\n",
       "151  3.514305     140.83   588.042  ...     140.83  582.314060      2.73   \n",
       "152  3.906457     138.07   593.606  ...     138.07  584.934474      2.75   \n",
       "153  3.880138     140.19   604.832  ...     140.19  587.859146      2.76   \n",
       "154  3.776460     135.94   614.051  ...     135.94  591.268729      2.77   \n",
       "155  3.871136     136.22   617.044  ...     136.22  595.111976      2.80   \n",
       "\n",
       "      ibc_br_15  igp_m_14  dolar_14  ibc_br_14  igp_m_13  dolar_13  ibc_br_13  \n",
       "151  149.237535       NaN       NaN        NaN       NaN       NaN        NaN  \n",
       "152  149.582977       NaN       NaN        NaN       NaN       NaN        NaN  \n",
       "153  149.422134       NaN       NaN        NaN       NaN       NaN        NaN  \n",
       "154  146.260514       NaN       NaN        NaN       NaN       NaN        NaN  \n",
       "155  147.278002       NaN       NaN        NaN       NaN       NaN        NaN  \n",
       "\n",
       "[5 rows x 36 columns]"
      ]
     },
     "execution_count": 5,
     "metadata": {},
     "output_type": "execute_result"
    }
   ],
   "source": [
    "df_main.tail()"
   ]
  },
  {
   "cell_type": "markdown",
   "metadata": {},
   "source": [
    "### Criação das Séries"
   ]
  },
  {
   "cell_type": "code",
   "execution_count": 6,
   "metadata": {},
   "outputs": [],
   "source": [
    "icms_ts = pd.Series(list(df_main['icms_sp']), index = datas)"
   ]
  },
  {
   "cell_type": "markdown",
   "metadata": {},
   "source": [
    "#### Testes de Valores Nulos"
   ]
  },
  {
   "cell_type": "code",
   "execution_count": 7,
   "metadata": {},
   "outputs": [
    {
     "name": "stdout",
     "output_type": "stream",
     "text": [
      "ICMS 0\n"
     ]
    }
   ],
   "source": [
    "print('ICMS', icms_ts.isnull().sum())"
   ]
  },
  {
   "cell_type": "code",
   "execution_count": 8,
   "metadata": {},
   "outputs": [
    {
     "data": {
      "text/plain": [
       "Series([], dtype: float64)"
      ]
     },
     "execution_count": 8,
     "metadata": {},
     "output_type": "execute_result"
    }
   ],
   "source": [
    "# listando os nulos do icms\n",
    "icms_ts[icms_ts.isnull()]"
   ]
  },
  {
   "cell_type": "code",
   "execution_count": 9,
   "metadata": {},
   "outputs": [],
   "source": [
    "# eliminando os nulos do icms\n",
    "icms_ts = icms_ts[~icms_ts.isnull()]"
   ]
  },
  {
   "cell_type": "code",
   "execution_count": 10,
   "metadata": {},
   "outputs": [
    {
     "data": {
      "text/plain": [
       "(156,)"
      ]
     },
     "execution_count": 10,
     "metadata": {},
     "output_type": "execute_result"
    }
   ],
   "source": [
    "icms_ts.shape"
   ]
  },
  {
   "cell_type": "markdown",
   "metadata": {},
   "source": [
    "### Série em Log\n",
    "Como os valores do ICMS são muito elevados a série será colocada em log."
   ]
  },
  {
   "cell_type": "code",
   "execution_count": 11,
   "metadata": {},
   "outputs": [],
   "source": [
    "l_icms_ts = pd.Series(np.log(list(df_main['icms_sp'])), index = datas)"
   ]
  },
  {
   "cell_type": "markdown",
   "metadata": {},
   "source": [
    "## Divisão em treino e teste"
   ]
  },
  {
   "cell_type": "code",
   "execution_count": 12,
   "metadata": {},
   "outputs": [],
   "source": [
    "icms_train = icms_ts[:-24]\n",
    "icms_val = icms_ts[-24:-12]\n",
    "icms_test = icms_ts[-12:]"
   ]
  },
  {
   "cell_type": "code",
   "execution_count": 13,
   "metadata": {},
   "outputs": [
    {
     "name": "stdout",
     "output_type": "stream",
     "text": [
      "##############################\n",
      " date\n",
      "2003-01-01    3.360296e+09\n",
      "2003-02-01    3.196558e+09\n",
      "2003-03-01    3.160011e+09\n",
      "2003-04-01    3.215307e+09\n",
      "2003-05-01    3.098930e+09\n",
      "                  ...     \n",
      "2013-08-01    9.604407e+09\n",
      "2013-09-01    1.011536e+10\n",
      "2013-10-01    1.020979e+10\n",
      "2013-11-01    9.712795e+09\n",
      "2013-12-01    1.076762e+10\n",
      "Length: 132, dtype: float64\n",
      "##############################\n",
      " date\n",
      "2014-01-01    9.803278e+09\n",
      "2014-02-01    9.687760e+09\n",
      "2014-03-01    9.465054e+09\n",
      "2014-04-01    9.635430e+09\n",
      "2014-05-01    9.819079e+09\n",
      "2014-06-01    9.677264e+09\n",
      "2014-07-01    9.594590e+09\n",
      "2014-08-01    9.500060e+09\n",
      "2014-09-01    9.796970e+09\n",
      "2014-10-01    1.063363e+10\n",
      "2014-11-01    1.015244e+10\n",
      "2014-12-01    1.124082e+10\n",
      "dtype: float64\n",
      "##############################\n",
      " date\n",
      "2015-01-01    9.987825e+09\n",
      "2015-02-01    9.919477e+09\n",
      "2015-03-01    9.871727e+09\n",
      "2015-04-01    1.037640e+10\n",
      "2015-05-01    9.740006e+09\n",
      "2015-06-01    1.032307e+10\n",
      "2015-07-01    1.029487e+10\n",
      "2015-08-01    9.864942e+09\n",
      "2015-09-01    1.051019e+10\n",
      "2015-10-01    1.056639e+10\n",
      "2015-11-01    1.029608e+10\n",
      "2015-12-01    1.109438e+10\n",
      "dtype: float64\n"
     ]
    }
   ],
   "source": [
    "print('#'*30+'\\n',icms_train)\n",
    "print('#'*30+'\\n',icms_val)\n",
    "print('#'*30+'\\n',icms_test)"
   ]
  },
  {
   "cell_type": "markdown",
   "metadata": {},
   "source": [
    "## Utilidades para Previsões"
   ]
  },
  {
   "cell_type": "markdown",
   "metadata": {},
   "source": [
    "Além de MAPE e MSE, será usado o erro relativo, que é \n",
    "\n",
    "$Erro Relativo = \\frac{|previsão - real|}{real}$"
   ]
  },
  {
   "cell_type": "code",
   "execution_count": 14,
   "metadata": {},
   "outputs": [],
   "source": [
    "def erro_relativo(prev, real):\n",
    "    return 100*np.absolute(prev-real)/real"
   ]
  },
  {
   "cell_type": "markdown",
   "metadata": {},
   "source": [
    "#### Dicionário de Previsões\n",
    "Será usado para armazenar todas as previsões."
   ]
  },
  {
   "cell_type": "code",
   "execution_count": 15,
   "metadata": {},
   "outputs": [],
   "source": [
    "previsoes = {\n",
    "    'nome':[],\n",
    "    'modelo': [],\n",
    "    'previsoes': [],\n",
    "    'rmse': [],\n",
    "    'mape': [],\n",
    "    'erro relativo':[]\n",
    "}"
   ]
  },
  {
   "cell_type": "markdown",
   "metadata": {},
   "source": [
    "## Modelos RNN LSTM\n",
    "Redes Neurais Recorrentes com neurônios Long Short-Term Memory"
   ]
  },
  {
   "cell_type": "markdown",
   "metadata": {},
   "source": [
    "### Montagem da Série\n",
    "As redes neurais precisam de conjuntos de características e de etiquetas separados. Neste caso, o conjunto de etiquetas é a própria série de ICMS. Para os conjunto de caraterísticas será utilizada a série do ICMS com lags 1, 2, 3, 4, 6 e 12 defasagens, e médias móveis de 2, 3, 6 e 12 meses, conforme trabalho de [Silva & Figueiredo, 2020]."
   ]
  },
  {
   "cell_type": "code",
   "execution_count": 16,
   "metadata": {},
   "outputs": [],
   "source": [
    "def cria_features_target(serie, verbose=0):\n",
    "    serie_d1 = serie.shift(1)\n",
    "    serie_d2 = serie.shift(2)\n",
    "    serie_d3 = serie.shift(3)\n",
    "    serie_d4 = serie.shift(4)\n",
    "    serie_d6 = serie.shift(6)\n",
    "    serie_d12 = serie.shift(12)\n",
    "    serie_ma2 = serie.rolling(2).mean()\n",
    "    serie_ma3 = serie.rolling(3).mean()\n",
    "    serie_ma6 = serie.rolling(6).mean()\n",
    "    serie_ma12 = serie.rolling(12).mean()\n",
    "\n",
    "    if verbose==1:\n",
    "        print(\"shape de cada uma das séries:\")\n",
    "        print(serie_d1.shape, serie_d2.shape, serie_d3.shape, serie_d4.shape, \n",
    "              serie_d6.shape, serie_d12.shape, serie_ma2.shape, serie_ma3.shape, \n",
    "              serie_ma6.shape, serie_ma12.shape)\n",
    "    X = np.array([serie_d1, serie_d2, serie_d3, serie_d4, \n",
    "     serie_d6, serie_d12, serie_ma2, serie_ma3, \n",
    "     serie_ma6, serie_ma12])\n",
    "    if verbose==1:\n",
    "        print(\"shape do array de features:\", X.shape)\n",
    "    X = X[:,12:]\n",
    "    X = X.T\n",
    "    if verbose==1:\n",
    "        print(\"shape do array de features depois da poda e da transposição:\", X.shape)\n",
    "    Y = np.array(serie[12:])\n",
    "    if verbose==1:\n",
    "        print(\"shape do array target:\", Y.shape)\n",
    "    return X, Y"
   ]
  },
  {
   "cell_type": "code",
   "execution_count": 17,
   "metadata": {},
   "outputs": [
    {
     "name": "stdout",
     "output_type": "stream",
     "text": [
      "shape de cada uma das séries:\n",
      "(156,) (156,) (156,) (156,) (156,) (156,) (156,) (156,) (156,) (156,)\n",
      "shape do array de features: (10, 156)\n",
      "shape do array de features depois da poda e da transposição: (144, 10)\n",
      "shape do array target: (144,)\n"
     ]
    }
   ],
   "source": [
    "#série completa, com sazonalidade e em nível\n",
    "#seas_icms_ts = seas_icms.seasadj\n",
    "X_data, Y_data = cria_features_target(l_icms_ts, verbose=1)"
   ]
  },
  {
   "cell_type": "code",
   "execution_count": 18,
   "metadata": {},
   "outputs": [],
   "source": [
    "#print(X_data[0])\n",
    "#print(Y_data[0])\n",
    "#print(X_data[X_data.shape[0]-1])\n",
    "#print(Y_data[X_data.shape[0]-1])"
   ]
  },
  {
   "cell_type": "markdown",
   "metadata": {},
   "source": [
    "#### Normalização dos Dados\n",
    "Serão normalizados usando-se min-max. Apenas as features, a variável target não será normalizada. Os dados serão dividos em treno, validação e teste para a normalização, de modo que o fit seja feito somente nos dados de treino, aumentando-se assim a probabilidade de generalização do modelo."
   ]
  },
  {
   "cell_type": "code",
   "execution_count": 19,
   "metadata": {},
   "outputs": [
    {
     "name": "stdout",
     "output_type": "stream",
     "text": [
      "(120, 10) (12, 10) (12, 10)\n"
     ]
    }
   ],
   "source": [
    "X_train = X_data[:-24]\n",
    "X_val = X_data[-24:-12]\n",
    "X_test = X_data[-12:]\n",
    "print(X_train.shape, X_val.shape, X_test.shape)\n",
    "#Y_train = Y_data[:-24]\n",
    "#Y_val = Y_data[-24:-12]\n",
    "#Y_test = Y_data[-12:]\n",
    "#print(Y_train.shape, Y_val.shape, Y_test.shape)"
   ]
  },
  {
   "cell_type": "code",
   "execution_count": 20,
   "metadata": {},
   "outputs": [
    {
     "name": "stdout",
     "output_type": "stream",
     "text": [
      "numéricas [0, 1, 2, 3, 4, 5, 6, 7, 8, 9]\n",
      "ColumnTransformer(transformers=[('min-max', MinMaxScaler(),\n",
      "                                 [0, 1, 2, 3, 4, 5, 6, 7, 8, 9])],\n",
      "                  verbose=True)\n",
      "[ColumnTransformer] ....... (1 of 1) Processing min-max, total=   0.0s\n",
      "(120, 10)\n",
      "(12, 10)\n",
      "(12, 10)\n"
     ]
    }
   ],
   "source": [
    "from sklearn.preprocessing import MinMaxScaler\n",
    "from sklearn.compose import ColumnTransformer\n",
    "# índice dos atributos numéricos\n",
    "num_atrib = list(range(10))\n",
    "print('numéricas', num_atrib)\n",
    "\n",
    "enc_x = ColumnTransformer([('min-max',MinMaxScaler(), num_atrib)], verbose=True)\n",
    "\n",
    "print(enc_x)\n",
    "X_train_std = enc_x.fit_transform(X_train)\n",
    "X_val_std = enc_x.transform(X_val)\n",
    "X_test_std = enc_x.transform(X_test)\n",
    "\n",
    "print(X_train_std.shape)\n",
    "print(X_val_std.shape)\n",
    "print(X_test_std.shape)\n",
    "\n",
    "#enc_y = MinMaxScaler()\n",
    "\n",
    "#print(enc_y)\n",
    "#Y_train_std = enc_y.fit_transform(Y_train.reshape(Y_train.shape[0], 1))\n",
    "#Y_val_std = enc_y.transform(Y_val.reshape(12,1))\n",
    "#Y_test_std = enc_y.transform(Y_test.reshape(12,1))\n",
    "\n",
    "#print(Y_train_std.shape)\n",
    "#print(Y_val_std.shape)\n",
    "#print(Y_test_std.shape)"
   ]
  },
  {
   "cell_type": "markdown",
   "metadata": {},
   "source": [
    "# Modelo 1 mês\n",
    "Neste modelo cada mês será previsto pelos dados do mês anterior"
   ]
  },
  {
   "cell_type": "markdown",
   "metadata": {},
   "source": [
    "#### Criando as janelas de 12 meses e reshape para LSTM. A arrecadação de cada mês será prevista pela arrecadação dos 12 meses anteriores."
   ]
  },
  {
   "cell_type": "code",
   "execution_count": 21,
   "metadata": {},
   "outputs": [
    {
     "name": "stdout",
     "output_type": "stream",
     "text": [
      "(144, 10, 1)\n"
     ]
    }
   ],
   "source": [
    "X_data_jn = np.concatenate((X_train_std, X_val_std, X_test_std), axis = 0)\n",
    "X_data_jn = X_data_jn.reshape(X_data_jn.shape[0],10,1)\n",
    "print(X_data_jn.shape)"
   ]
  },
  {
   "cell_type": "code",
   "execution_count": 22,
   "metadata": {},
   "outputs": [],
   "source": [
    "def janelamento_1_mes(X, Y, verbose=0):\n",
    "    X_exp = np.roll(X, 1, axis=0)\n",
    "    X_exp_cut = X_exp[1:,:,:]#.transpose(0,2,1)\n",
    "    Y_cut = Y[1:]\n",
    "    if verbose==1:\n",
    "        print('shape das features janeladas:', X_exp.shape)\n",
    "        print('shape das features janeladas pós poda e transposição:', X_exp_cut.shape)\n",
    "        print('shape do array target pós poda:', Y_cut.shape)\n",
    "    return X_exp_cut, Y_cut"
   ]
  },
  {
   "cell_type": "code",
   "execution_count": 23,
   "metadata": {},
   "outputs": [],
   "source": [
    "X_data_exp_cut1, Y_data_cut1 = janelamento_1_mes(X_data_jn, Y_data, verbose=0)"
   ]
  },
  {
   "cell_type": "code",
   "execution_count": 24,
   "metadata": {},
   "outputs": [
    {
     "data": {
      "text/plain": [
       "((143, 10, 1), (143,))"
      ]
     },
     "execution_count": 24,
     "metadata": {},
     "output_type": "execute_result"
    }
   ],
   "source": [
    "X_data_exp_cut1.shape, Y_data_cut1.shape"
   ]
  },
  {
   "cell_type": "code",
   "execution_count": 25,
   "metadata": {},
   "outputs": [
    {
     "data": {
      "text/plain": [
       "array([[0.17559911],\n",
       "       [0.05743491],\n",
       "       [0.0418896 ],\n",
       "       [0.02062304],\n",
       "       [0.00993129],\n",
       "       [0.06768447],\n",
       "       [0.1039132 ],\n",
       "       [0.06276821],\n",
       "       [0.        ],\n",
       "       [0.        ]])"
      ]
     },
     "execution_count": 25,
     "metadata": {},
     "output_type": "execute_result"
    }
   ],
   "source": [
    "X_data_exp_cut1[0]"
   ]
  },
  {
   "cell_type": "code",
   "execution_count": 26,
   "metadata": {},
   "outputs": [
    {
     "data": {
      "text/plain": [
       "21.905893928886627"
      ]
     },
     "execution_count": 26,
     "metadata": {},
     "output_type": "execute_result"
    }
   ],
   "source": [
    "Y_data_cut1[0]"
   ]
  },
  {
   "cell_type": "code",
   "execution_count": 27,
   "metadata": {},
   "outputs": [
    {
     "data": {
      "text/plain": [
       "23.129704450881135"
      ]
     },
     "execution_count": 27,
     "metadata": {},
     "output_type": "execute_result"
    }
   ],
   "source": [
    "Y_data_cut1[Y_data_cut1.shape[0]-1]"
   ]
  },
  {
   "cell_type": "code",
   "execution_count": 28,
   "metadata": {},
   "outputs": [
    {
     "data": {
      "text/plain": [
       "array([[1.02647329],\n",
       "       [1.02181482],\n",
       "       [0.96646809],\n",
       "       [1.00373282],\n",
       "       [0.95655397],\n",
       "       [0.99192649],\n",
       "       [1.01774486],\n",
       "       [1.02091581],\n",
       "       [1.02838289],\n",
       "       [1.07063891]])"
      ]
     },
     "execution_count": 28,
     "metadata": {},
     "output_type": "execute_result"
    }
   ],
   "source": [
    "X_data_exp_cut1[Y_data_cut1.shape[0]-1]"
   ]
  },
  {
   "cell_type": "markdown",
   "metadata": {},
   "source": [
    "#### Separando novamente em treino, validação e teste"
   ]
  },
  {
   "cell_type": "code",
   "execution_count": 29,
   "metadata": {},
   "outputs": [
    {
     "name": "stdout",
     "output_type": "stream",
     "text": [
      "(119, 10, 1) (12, 10, 1) (12, 10, 1)\n",
      "(119,) (12,) (12,)\n"
     ]
    }
   ],
   "source": [
    "x_train1 = X_data_exp_cut1[:-24]\n",
    "x_val1 = X_data_exp_cut1[-24:-12]\n",
    "x_test1 = X_data_exp_cut1[-12:]\n",
    "print(x_train1.shape, x_val1.shape, x_test1.shape)\n",
    "y_train1 = Y_data_cut1[:-24]\n",
    "y_val1 = Y_data_cut1[-24:-12]\n",
    "y_test1 = Y_data_cut1[-12:]\n",
    "print(y_train1.shape, y_val1.shape, y_test1.shape)"
   ]
  },
  {
   "cell_type": "markdown",
   "metadata": {},
   "source": [
    "### Criando o modelo LSTM "
   ]
  },
  {
   "cell_type": "code",
   "execution_count": 30,
   "metadata": {},
   "outputs": [],
   "source": [
    "# importando as bibliotecas do Keras\n",
    "from tensorflow.keras.models import Sequential\n",
    "from tensorflow.keras.layers import LSTM, Dense, Dropout\n",
    "from tensorflow.keras.callbacks import ReduceLROnPlateau, EarlyStopping\n",
    "from tensorflow.keras.optimizers import Adam"
   ]
  },
  {
   "cell_type": "markdown",
   "metadata": {},
   "source": [
    "## Arquitetura da Rede - Arquitetura Larga"
   ]
  },
  {
   "cell_type": "code",
   "execution_count": 31,
   "metadata": {},
   "outputs": [],
   "source": [
    "rlrop1 = ReduceLROnPlateau(monitor='val_loss', factor=0.1, patience=10, verbose=1)\n",
    "early_stop1 = EarlyStopping(monitor='val_loss', patience=100, verbose=1, \n",
    "                           restore_best_weights=True)"
   ]
  },
  {
   "cell_type": "code",
   "execution_count": 32,
   "metadata": {},
   "outputs": [],
   "source": [
    "# Épocas e tamanho do lote\n",
    "EPOCHS = 1000\n",
    "BATCH = 4\n",
    "NEURONIOS = 1200\n",
    "LR = 1e-5\n",
    "DROPOUT = 0.2\n",
    "\n",
    "# Imstanciação do modelo\n",
    "model = Sequential()\n",
    "\n",
    "# Adicionar camada LSTM \n",
    "model.add(LSTM(activation='tanh', dropout=DROPOUT,\n",
    "        input_shape = (10, 1), return_sequences = False,\n",
    "        units = NEURONIOS))\n",
    "\n",
    "# Adicionar a camada de saída com 1 neurônio linear\n",
    "model.add(Dense(\n",
    "        units = 1,\n",
    "        activation = 'linear'))\n",
    "# a learning rate padrão do Adam é 0.001\n",
    "model.compile(loss = 'mape', optimizer = Adam(learning_rate=LR))"
   ]
  },
  {
   "cell_type": "code",
   "execution_count": 33,
   "metadata": {},
   "outputs": [
    {
     "name": "stdout",
     "output_type": "stream",
     "text": [
      "Model: \"sequential\"\n",
      "_________________________________________________________________\n",
      "Layer (type)                 Output Shape              Param #   \n",
      "=================================================================\n",
      "lstm (LSTM)                  (None, 1200)              5769600   \n",
      "_________________________________________________________________\n",
      "dense (Dense)                (None, 1)                 1201      \n",
      "=================================================================\n",
      "Total params: 5,770,801\n",
      "Trainable params: 5,770,801\n",
      "Non-trainable params: 0\n",
      "_________________________________________________________________\n"
     ]
    }
   ],
   "source": [
    "model.summary()"
   ]
  },
  {
   "cell_type": "code",
   "execution_count": 34,
   "metadata": {
    "scrolled": true
   },
   "outputs": [
    {
     "name": "stdout",
     "output_type": "stream",
     "text": [
      "Epoch 1/1000\n",
      "30/30 [==============================] - 4s 129ms/step - loss: 99.8774 - val_loss: 99.3004\n",
      "Epoch 2/1000\n",
      "30/30 [==============================] - 3s 116ms/step - loss: 99.2904 - val_loss: 98.1403\n",
      "Epoch 3/1000\n",
      "30/30 [==============================] - 3s 103ms/step - loss: 98.3786 - val_loss: 96.1364\n",
      "Epoch 4/1000\n",
      "30/30 [==============================] - 3s 105ms/step - loss: 96.8022 - val_loss: 91.3445\n",
      "Epoch 5/1000\n",
      "30/30 [==============================] - 3s 101ms/step - loss: 91.6789 - val_loss: 73.2745\n",
      "Epoch 6/1000\n",
      "30/30 [==============================] - 3s 100ms/step - loss: 65.4909 - val_loss: 0.7472\n",
      "Epoch 7/1000\n",
      "30/30 [==============================] - 3s 100ms/step - loss: 30.7036 - val_loss: 20.2059\n",
      "Epoch 8/1000\n",
      "30/30 [==============================] - 3s 104ms/step - loss: 14.3704 - val_loss: 5.4802\n",
      "Epoch 9/1000\n",
      "30/30 [==============================] - 3s 103ms/step - loss: 6.7197 - val_loss: 0.2367\n",
      "Epoch 10/1000\n",
      "30/30 [==============================] - 3s 104ms/step - loss: 3.5927 - val_loss: 0.3155\n",
      "Epoch 11/1000\n",
      "30/30 [==============================] - 3s 105ms/step - loss: 1.9884 - val_loss: 0.8160\n",
      "Epoch 12/1000\n",
      "30/30 [==============================] - 3s 108ms/step - loss: 1.5236 - val_loss: 1.3872\n",
      "Epoch 13/1000\n",
      "30/30 [==============================] - 3s 105ms/step - loss: 1.1571 - val_loss: 1.6474\n",
      "Epoch 14/1000\n",
      "30/30 [==============================] - 3s 110ms/step - loss: 1.1893 - val_loss: 1.1259\n",
      "Epoch 15/1000\n",
      "30/30 [==============================] - 3s 108ms/step - loss: 1.0297 - val_loss: 0.7585\n",
      "Epoch 16/1000\n",
      "30/30 [==============================] - 3s 106ms/step - loss: 1.2126 - val_loss: 1.2436\n",
      "Epoch 17/1000\n",
      "30/30 [==============================] - 3s 107ms/step - loss: 1.1851 - val_loss: 1.6148\n",
      "Epoch 18/1000\n",
      "30/30 [==============================] - 3s 108ms/step - loss: 1.0451 - val_loss: 1.1154\n",
      "Epoch 19/1000\n",
      "30/30 [==============================] - ETA: 0s - loss: 1.0228\n",
      "Epoch 00019: ReduceLROnPlateau reducing learning rate to 9.999999747378752e-07.\n",
      "30/30 [==============================] - 3s 106ms/step - loss: 1.0228 - val_loss: 1.1753\n",
      "Epoch 20/1000\n",
      "30/30 [==============================] - 3s 105ms/step - loss: 1.1032 - val_loss: 1.1072\n",
      "Epoch 21/1000\n",
      "30/30 [==============================] - 3s 108ms/step - loss: 0.9196 - val_loss: 1.2277\n",
      "Epoch 22/1000\n",
      "30/30 [==============================] - 3s 107ms/step - loss: 0.9330 - val_loss: 1.2091\n",
      "Epoch 23/1000\n",
      "30/30 [==============================] - 3s 109ms/step - loss: 0.9115 - val_loss: 1.1654\n",
      "Epoch 24/1000\n",
      "30/30 [==============================] - 3s 111ms/step - loss: 1.1085 - val_loss: 1.2059\n",
      "Epoch 25/1000\n",
      "30/30 [==============================] - 3s 108ms/step - loss: 0.9002 - val_loss: 1.0652\n",
      "Epoch 26/1000\n",
      "30/30 [==============================] - 3s 108ms/step - loss: 0.9824 - val_loss: 1.1792\n",
      "Epoch 27/1000\n",
      "30/30 [==============================] - 3s 108ms/step - loss: 1.1489 - val_loss: 1.0744\n",
      "Epoch 28/1000\n",
      "30/30 [==============================] - 3s 108ms/step - loss: 0.9835 - val_loss: 1.1048\n",
      "Epoch 29/1000\n",
      "30/30 [==============================] - ETA: 0s - loss: 1.0081\n",
      "Epoch 00029: ReduceLROnPlateau reducing learning rate to 9.999999974752428e-08.\n",
      "30/30 [==============================] - 3s 108ms/step - loss: 1.0081 - val_loss: 1.0845\n",
      "Epoch 30/1000\n",
      "30/30 [==============================] - 3s 110ms/step - loss: 0.9891 - val_loss: 1.0984\n",
      "Epoch 31/1000\n",
      "30/30 [==============================] - 3s 107ms/step - loss: 0.8940 - val_loss: 1.1010\n",
      "Epoch 32/1000\n",
      "30/30 [==============================] - 3s 105ms/step - loss: 0.9724 - val_loss: 1.1053\n",
      "Epoch 33/1000\n",
      "30/30 [==============================] - 3s 110ms/step - loss: 0.9915 - val_loss: 1.1080\n",
      "Epoch 34/1000\n",
      "30/30 [==============================] - 3s 108ms/step - loss: 0.8995 - val_loss: 1.1140\n",
      "Epoch 35/1000\n",
      "30/30 [==============================] - 3s 108ms/step - loss: 0.8279 - val_loss: 1.1159\n",
      "Epoch 36/1000\n",
      "30/30 [==============================] - 3s 112ms/step - loss: 0.9328 - val_loss: 1.1334\n",
      "Epoch 37/1000\n",
      "30/30 [==============================] - 4s 120ms/step - loss: 0.9965 - val_loss: 1.1371\n",
      "Epoch 38/1000\n",
      "30/30 [==============================] - 4s 124ms/step - loss: 0.9970 - val_loss: 1.1240\n",
      "Epoch 39/1000\n",
      "30/30 [==============================] - ETA: 0s - loss: 0.9144\n",
      "Epoch 00039: ReduceLROnPlateau reducing learning rate to 1.0000000116860975e-08.\n",
      "30/30 [==============================] - 4s 121ms/step - loss: 0.9144 - val_loss: 1.1153\n",
      "Epoch 40/1000\n",
      "30/30 [==============================] - 4s 127ms/step - loss: 0.9393 - val_loss: 1.1145\n",
      "Epoch 41/1000\n",
      "30/30 [==============================] - 4s 125ms/step - loss: 0.9427 - val_loss: 1.1159\n",
      "Epoch 42/1000\n",
      "30/30 [==============================] - 4s 138ms/step - loss: 0.9223 - val_loss: 1.1164\n",
      "Epoch 43/1000\n",
      "30/30 [==============================] - 4s 134ms/step - loss: 0.9502 - val_loss: 1.1140\n",
      "Epoch 44/1000\n",
      "30/30 [==============================] - 4s 126ms/step - loss: 0.9201 - val_loss: 1.1141\n",
      "Epoch 45/1000\n",
      "30/30 [==============================] - 3s 112ms/step - loss: 0.9621 - val_loss: 1.1145\n",
      "Epoch 46/1000\n",
      "30/30 [==============================] - 3s 115ms/step - loss: 0.8708 - val_loss: 1.1137\n",
      "Epoch 47/1000\n",
      "30/30 [==============================] - 3s 110ms/step - loss: 0.9335 - val_loss: 1.1131\n",
      "Epoch 48/1000\n",
      "30/30 [==============================] - 3s 108ms/step - loss: 0.8747 - val_loss: 1.1137\n",
      "Epoch 49/1000\n",
      "30/30 [==============================] - ETA: 0s - loss: 0.9389\n",
      "Epoch 00049: ReduceLROnPlateau reducing learning rate to 9.999999939225292e-10.\n",
      "30/30 [==============================] - 3s 110ms/step - loss: 0.9389 - val_loss: 1.1138\n",
      "Epoch 50/1000\n",
      "30/30 [==============================] - 3s 113ms/step - loss: 1.0339 - val_loss: 1.1138\n",
      "Epoch 51/1000\n",
      "30/30 [==============================] - 3s 110ms/step - loss: 0.8821 - val_loss: 1.1138\n",
      "Epoch 52/1000\n",
      "30/30 [==============================] - 3s 111ms/step - loss: 1.0139 - val_loss: 1.1138\n",
      "Epoch 53/1000\n",
      "30/30 [==============================] - 3s 112ms/step - loss: 0.9444 - val_loss: 1.1138\n",
      "Epoch 54/1000\n",
      "30/30 [==============================] - 3s 108ms/step - loss: 0.9147 - val_loss: 1.1138\n",
      "Epoch 55/1000\n",
      "30/30 [==============================] - 3s 108ms/step - loss: 0.9238 - val_loss: 1.1138\n",
      "Epoch 56/1000\n",
      "30/30 [==============================] - 3s 112ms/step - loss: 0.8681 - val_loss: 1.1138\n",
      "Epoch 57/1000\n",
      "30/30 [==============================] - 3s 109ms/step - loss: 1.0015 - val_loss: 1.1138\n",
      "Epoch 58/1000\n",
      "30/30 [==============================] - 3s 108ms/step - loss: 0.9490 - val_loss: 1.1138\n",
      "Epoch 59/1000\n",
      "30/30 [==============================] - ETA: 0s - loss: 0.9183\n",
      "Epoch 00059: ReduceLROnPlateau reducing learning rate to 9.999999717180686e-11.\n",
      "30/30 [==============================] - 3s 114ms/step - loss: 0.9183 - val_loss: 1.1138\n",
      "Epoch 60/1000\n",
      "30/30 [==============================] - 3s 108ms/step - loss: 0.9102 - val_loss: 1.1138\n",
      "Epoch 61/1000\n",
      "30/30 [==============================] - 3s 110ms/step - loss: 0.8903 - val_loss: 1.1138\n",
      "Epoch 62/1000\n",
      "30/30 [==============================] - 3s 111ms/step - loss: 1.0000 - val_loss: 1.1138\n",
      "Epoch 63/1000\n",
      "30/30 [==============================] - 3s 109ms/step - loss: 0.9883 - val_loss: 1.1138\n",
      "Epoch 64/1000\n",
      "30/30 [==============================] - 3s 108ms/step - loss: 1.0464 - val_loss: 1.1138\n",
      "Epoch 65/1000\n",
      "30/30 [==============================] - 3s 112ms/step - loss: 0.9196 - val_loss: 1.1138\n",
      "Epoch 66/1000\n",
      "30/30 [==============================] - 3s 109ms/step - loss: 0.9347 - val_loss: 1.1138\n",
      "Epoch 67/1000\n",
      "30/30 [==============================] - 3s 111ms/step - loss: 0.9162 - val_loss: 1.1138\n",
      "Epoch 68/1000\n",
      "30/30 [==============================] - 3s 112ms/step - loss: 0.9503 - val_loss: 1.1138\n",
      "Epoch 69/1000\n",
      "30/30 [==============================] - ETA: 0s - loss: 1.0487\n",
      "Epoch 00069: ReduceLROnPlateau reducing learning rate to 9.99999943962493e-12.\n",
      "30/30 [==============================] - 3s 108ms/step - loss: 1.0487 - val_loss: 1.1138\n",
      "Epoch 70/1000\n",
      "30/30 [==============================] - 3s 110ms/step - loss: 0.9081 - val_loss: 1.1138\n",
      "Epoch 71/1000\n",
      "30/30 [==============================] - 3s 110ms/step - loss: 0.9879 - val_loss: 1.1138\n",
      "Epoch 72/1000\n"
     ]
    },
    {
     "name": "stdout",
     "output_type": "stream",
     "text": [
      "30/30 [==============================] - 3s 106ms/step - loss: 0.9415 - val_loss: 1.1138\n",
      "Epoch 73/1000\n",
      "30/30 [==============================] - 3s 108ms/step - loss: 0.9429 - val_loss: 1.1138\n",
      "Epoch 74/1000\n",
      "30/30 [==============================] - 3s 107ms/step - loss: 0.8804 - val_loss: 1.1138\n",
      "Epoch 75/1000\n",
      "30/30 [==============================] - 3s 109ms/step - loss: 0.9196 - val_loss: 1.1138\n",
      "Epoch 76/1000\n",
      "30/30 [==============================] - 3s 108ms/step - loss: 0.9087 - val_loss: 1.1138\n",
      "Epoch 77/1000\n",
      "30/30 [==============================] - 3s 110ms/step - loss: 0.9499 - val_loss: 1.1138\n",
      "Epoch 78/1000\n",
      "30/30 [==============================] - 3s 106ms/step - loss: 0.9888 - val_loss: 1.1138\n",
      "Epoch 79/1000\n",
      "30/30 [==============================] - ETA: 0s - loss: 1.0040\n",
      "Epoch 00079: ReduceLROnPlateau reducing learning rate to 9.999999092680235e-13.\n",
      "30/30 [==============================] - 3s 109ms/step - loss: 1.0040 - val_loss: 1.1138\n",
      "Epoch 80/1000\n",
      "30/30 [==============================] - 3s 107ms/step - loss: 0.9956 - val_loss: 1.1138\n",
      "Epoch 81/1000\n",
      "30/30 [==============================] - 3s 106ms/step - loss: 0.9949 - val_loss: 1.1138\n",
      "Epoch 82/1000\n",
      "30/30 [==============================] - 3s 109ms/step - loss: 0.9618 - val_loss: 1.1138\n",
      "Epoch 83/1000\n",
      "30/30 [==============================] - 3s 106ms/step - loss: 0.8951 - val_loss: 1.1138\n",
      "Epoch 84/1000\n",
      "30/30 [==============================] - 3s 106ms/step - loss: 0.8996 - val_loss: 1.1138\n",
      "Epoch 85/1000\n",
      "30/30 [==============================] - 3s 108ms/step - loss: 0.9394 - val_loss: 1.1138\n",
      "Epoch 86/1000\n",
      "30/30 [==============================] - 3s 107ms/step - loss: 0.8456 - val_loss: 1.1138\n",
      "Epoch 87/1000\n",
      "30/30 [==============================] - 3s 107ms/step - loss: 0.8741 - val_loss: 1.1138\n",
      "Epoch 88/1000\n",
      "30/30 [==============================] - 3s 109ms/step - loss: 0.9387 - val_loss: 1.1138\n",
      "Epoch 89/1000\n",
      "30/30 [==============================] - ETA: 0s - loss: 0.8253\n",
      "Epoch 00089: ReduceLROnPlateau reducing learning rate to 9.9999988758398e-14.\n",
      "30/30 [==============================] - 3s 109ms/step - loss: 0.8253 - val_loss: 1.1138\n",
      "Epoch 90/1000\n",
      "30/30 [==============================] - 3s 109ms/step - loss: 0.9738 - val_loss: 1.1138\n",
      "Epoch 91/1000\n",
      "30/30 [==============================] - 3s 106ms/step - loss: 0.9901 - val_loss: 1.1138\n",
      "Epoch 92/1000\n",
      "30/30 [==============================] - 3s 109ms/step - loss: 0.9714 - val_loss: 1.1138\n",
      "Epoch 93/1000\n",
      "30/30 [==============================] - 3s 107ms/step - loss: 0.9995 - val_loss: 1.1138\n",
      "Epoch 94/1000\n",
      "30/30 [==============================] - 3s 108ms/step - loss: 0.8520 - val_loss: 1.1138\n",
      "Epoch 95/1000\n",
      "30/30 [==============================] - 3s 109ms/step - loss: 0.9905 - val_loss: 1.1138\n",
      "Epoch 96/1000\n",
      "30/30 [==============================] - 3s 108ms/step - loss: 0.8978 - val_loss: 1.1138\n",
      "Epoch 97/1000\n",
      "30/30 [==============================] - 3s 107ms/step - loss: 0.9900 - val_loss: 1.1138\n",
      "Epoch 98/1000\n",
      "30/30 [==============================] - 3s 108ms/step - loss: 0.9977 - val_loss: 1.1138\n",
      "Epoch 99/1000\n",
      "30/30 [==============================] - ETA: 0s - loss: 0.8973\n",
      "Epoch 00099: ReduceLROnPlateau reducing learning rate to 9.999999146890344e-15.\n",
      "30/30 [==============================] - 3s 111ms/step - loss: 0.8973 - val_loss: 1.1138\n",
      "Epoch 100/1000\n",
      "30/30 [==============================] - 3s 106ms/step - loss: 0.9576 - val_loss: 1.1138\n",
      "Epoch 101/1000\n",
      "30/30 [==============================] - 3s 107ms/step - loss: 0.8771 - val_loss: 1.1138\n",
      "Epoch 102/1000\n",
      "30/30 [==============================] - 3s 107ms/step - loss: 0.8977 - val_loss: 1.1138\n",
      "Epoch 103/1000\n",
      "30/30 [==============================] - 3s 108ms/step - loss: 0.8936 - val_loss: 1.1138\n",
      "Epoch 104/1000\n",
      "30/30 [==============================] - 3s 111ms/step - loss: 0.9383 - val_loss: 1.1138\n",
      "Epoch 105/1000\n",
      "30/30 [==============================] - 3s 108ms/step - loss: 0.9317 - val_loss: 1.1138\n",
      "Epoch 106/1000\n",
      "30/30 [==============================] - 3s 108ms/step - loss: 0.9456 - val_loss: 1.1138\n",
      "Epoch 107/1000\n",
      "30/30 [==============================] - 3s 111ms/step - loss: 1.0530 - val_loss: 1.1138\n",
      "Epoch 108/1000\n",
      "30/30 [==============================] - 3s 108ms/step - loss: 0.9372 - val_loss: 1.1138\n",
      "Epoch 109/1000\n",
      "30/30 [==============================] - ETA: 0s - loss: 1.0634\n",
      "Epoch 00109: ReduceLROnPlateau reducing learning rate to 9.999998977483753e-16.\n",
      "Restoring model weights from the end of the best epoch.\n",
      "30/30 [==============================] - 3s 109ms/step - loss: 1.0634 - val_loss: 1.1138\n",
      "Epoch 00109: early stopping\n"
     ]
    }
   ],
   "source": [
    "# History object for plotting our model loss by epoch\n",
    "history1 = model.fit(x_train1, y_train1, batch_size = BATCH, \n",
    "                    epochs = EPOCHS, validation_data = (x_val1, y_val1),\n",
    "                    callbacks = [rlrop1, early_stop1])"
   ]
  },
  {
   "cell_type": "code",
   "execution_count": 35,
   "metadata": {},
   "outputs": [
    {
     "data": {
      "image/png": "[encoded data removed]",
      "text/plain": [
       "<Figure size 720x504 with 1 Axes>"
      ]
     },
     "metadata": {
      "needs_background": "light"
     },
     "output_type": "display_data"
    }
   ],
   "source": [
    "# Loss History\n",
    "fig = plt.figure(figsize=(10, 7))\n",
    "plt.plot(history1.history['loss'])\n",
    "plt.plot(history1.history['val_loss'])\n",
    "plt.title('Model Loss')\n",
    "plt.ylabel('Loss')\n",
    "plt.xlabel('Epoch')\n",
    "plt.legend(['Train', 'Val'], loc='upper right')\n",
    "plt.show()"
   ]
  },
  {
   "cell_type": "markdown",
   "metadata": {},
   "source": [
    "### Previsão Multistep 12 meses em Validação\n",
    "Para ficar adequado à realidade, não podemos usar os dados de 2022 para prever 2022. Portanto, a previsão de 2022 será feita do moto *multistep*, isto é, o mês de janeiro/2022 será previsto usando-se os dados de arrecadação de janeiro a dezembro de 2021; o mês de fevereiro/2022 será previsto usando-se os dados de fevereiro a dezembro de 2021 mais a previsão feita para o mês de janeiro/2022; o mês de março/2022 será previsto usando-se os dados de março a dezembro de 2021 mais os meses de janeiro e fevereiro de 2022 previstos nos passos anteriores. E assim por diante, até que a previsão de dezembro/2022 será feita usando-se os dados de dezembro de 2021 mais as previsões de janeiro a novembro de 2022 feitas nos passos anteriores."
   ]
  },
  {
   "cell_type": "markdown",
   "metadata": {},
   "source": [
    "#### Remove os 12 últimos valores que serão previstos e cria as séries novamente"
   ]
  },
  {
   "cell_type": "code",
   "execution_count": 36,
   "metadata": {},
   "outputs": [
    {
     "name": "stdout",
     "output_type": "stream",
     "text": [
      "(156,)\n",
      "(132,)\n"
     ]
    }
   ],
   "source": [
    "# remove\n",
    "serie_multi1 = l_icms_ts[:-24]\n",
    "print(l_icms_ts.shape)\n",
    "print(serie_multi1.shape)"
   ]
  },
  {
   "cell_type": "code",
   "execution_count": 37,
   "metadata": {},
   "outputs": [
    {
     "name": "stdout",
     "output_type": "stream",
     "text": [
      "0 [[9.437514e+09]]\n",
      "1 [[9.388877e+09]]\n",
      "2 [[9.496904e+09]]\n",
      "3 [[9.4042e+09]]\n",
      "4 [[9.33967e+09]]\n",
      "5 [[9.315296e+09]]\n",
      "6 [[9.283352e+09]]\n",
      "7 [[9.279138e+09]]\n",
      "8 [[9.260662e+09]]\n",
      "9 [[9.2491e+09]]\n",
      "10 [[9.242946e+09]]\n",
      "11 [[9.23771e+09]]\n"
     ]
    }
   ],
   "source": [
    "for i in range(12):\n",
    "    # cria as séries\n",
    "    X_multi1, Y_multi1 = cria_features_target(serie_multi1, verbose=0)\n",
    "\n",
    "    # Faz a normalização usando o modelo fitado na normalização anterior\n",
    "    X_multi_std1 = enc_x.transform(X_multi1)\n",
    "    X_multi_std1 = X_multi_std1.reshape(X_multi_std1.shape[0],10,1)\n",
    "\n",
    "    # Faz o janelamento das séries\n",
    "    x_multi1, y_multi1 = janelamento_1_mes(X_multi_std1, Y_multi1, verbose=0)\n",
    "\n",
    "    # Faz a predição da arrecadação do mês\n",
    "    #y_pred_multi = np.mean(model.predict(x_multi[-1:]), axis=1)#[:,0].ravel()\n",
    "    y_pred_multi1 = model.predict(x_multi1[-1:])#[:,0].ravel()\n",
    "    print(i, np.exp(y_pred_multi1))\n",
    "\n",
    "    #### Adicionar o valor previsto à série e fazer o novo janelamento\n",
    "    serie_multi1 = pd.Series(np.append(serie_multi1, y_pred_multi1))"
   ]
  },
  {
   "cell_type": "code",
   "execution_count": 38,
   "metadata": {},
   "outputs": [],
   "source": [
    "Y_pred_multi1 = np.exp(pd.Series(serie_multi1[-12:]))\n",
    "Y_pred_multi1.index = icms_val.index"
   ]
  },
  {
   "cell_type": "code",
   "execution_count": 39,
   "metadata": {},
   "outputs": [
    {
     "data": {
      "text/plain": [
       "date\n",
       "2014-01-01    9.437514e+09\n",
       "2014-02-01    9.388876e+09\n",
       "2014-03-01    9.496904e+09\n",
       "2014-04-01    9.404200e+09\n",
       "2014-05-01    9.339669e+09\n",
       "2014-06-01    9.315296e+09\n",
       "2014-07-01    9.283352e+09\n",
       "2014-08-01    9.279139e+09\n",
       "2014-09-01    9.260662e+09\n",
       "2014-10-01    9.249100e+09\n",
       "2014-11-01    9.242945e+09\n",
       "2014-12-01    9.237710e+09\n",
       "dtype: float64"
      ]
     },
     "execution_count": 39,
     "metadata": {},
     "output_type": "execute_result"
    }
   ],
   "source": [
    "Y_pred_multi1"
   ]
  },
  {
   "cell_type": "code",
   "execution_count": 40,
   "metadata": {},
   "outputs": [
    {
     "data": {
      "text/plain": [
       "807688256.4039431"
      ]
     },
     "execution_count": 40,
     "metadata": {},
     "output_type": "execute_result"
    }
   ],
   "source": [
    "RMSE_lstm_multi1 = mean_squared_error(icms_val, Y_pred_multi1, squared=False)\n",
    "RMSE_lstm_multi1"
   ]
  },
  {
   "cell_type": "code",
   "execution_count": 41,
   "metadata": {},
   "outputs": [
    {
     "data": {
      "text/plain": [
       "0.05751467043888848"
      ]
     },
     "execution_count": 41,
     "metadata": {},
     "output_type": "execute_result"
    }
   ],
   "source": [
    "MAPE_lstm_multi1 = mean_absolute_percentage_error(icms_val, Y_pred_multi1)\n",
    "MAPE_lstm_multi1"
   ]
  },
  {
   "cell_type": "code",
   "execution_count": 42,
   "metadata": {},
   "outputs": [],
   "source": [
    "previsoes['nome'].append('RNN-LSTM-1-mês-larga')\n",
    "previsoes['modelo'].append(model)\n",
    "previsoes['previsoes'].append(Y_pred_multi1)\n",
    "\n",
    "previsoes['rmse'].append(RMSE_lstm_multi1)\n",
    "\n",
    "previsoes['mape'].append(MAPE_lstm_multi1)\n",
    "\n",
    "previsoes['erro relativo'].append([erro_relativo(prev,real) \n",
    "                                   for prev,real in zip(Y_pred_multi1\n",
    "                                                        , icms_val)])"
   ]
  },
  {
   "cell_type": "markdown",
   "metadata": {},
   "source": [
    "## Arquitetura da Rede - Arquitetura Multicamada"
   ]
  },
  {
   "cell_type": "code",
   "execution_count": 43,
   "metadata": {},
   "outputs": [],
   "source": [
    "rlrop3 = ReduceLROnPlateau(monitor='val_loss', factor=0.1, patience=25, verbose=1)\n",
    "early_stop3 = EarlyStopping(monitor='val_loss', patience=100, verbose=1, \n",
    "                           restore_best_weights=True)"
   ]
  },
  {
   "cell_type": "code",
   "execution_count": 44,
   "metadata": {},
   "outputs": [],
   "source": [
    "# Épocas e tamanho do lote\n",
    "EPOCHS3 = 1000\n",
    "BATCH3 = 8\n",
    "NEURONIOS3 = 600\n",
    "LR3 = 1e-5\n",
    "DROPOUT3 = 0.25\n",
    "\n",
    "# Imstanciação do modelo\n",
    "model3 = Sequential()\n",
    "\n",
    "# Adicionar camada LSTM \n",
    "model3.add(LSTM(activation='tanh', dropout=DROPOUT3,\n",
    "        input_shape = (10, 1), return_sequences = True,\n",
    "        units = NEURONIOS3))\n",
    "\n",
    "# Adicionar camada LSTM \n",
    "model3.add(LSTM(activation='tanh', dropout=DROPOUT3,\n",
    "        input_shape = (10, 1), return_sequences = True,\n",
    "        units = NEURONIOS3))\n",
    "\n",
    "# Adicionar camada LSTM \n",
    "model3.add(LSTM(activation='tanh', dropout=DROPOUT3,\n",
    "        input_shape = (10, 1), return_sequences = False,\n",
    "        units = NEURONIOS3))\n",
    "\n",
    "\n",
    "# Adicionar a camada de saída com 1 neurônio linear\n",
    "model3.add(Dense(\n",
    "        units = 1,\n",
    "        activation = 'linear'))\n",
    "# a learning rate padrão do Adam é 0.001\n",
    "model3.compile(loss = 'mape', optimizer = Adam(learning_rate=LR3))"
   ]
  },
  {
   "cell_type": "code",
   "execution_count": 45,
   "metadata": {},
   "outputs": [
    {
     "name": "stdout",
     "output_type": "stream",
     "text": [
      "Model: \"sequential_1\"\n",
      "_________________________________________________________________\n",
      "Layer (type)                 Output Shape              Param #   \n",
      "=================================================================\n",
      "lstm_1 (LSTM)                (None, 10, 600)           1444800   \n",
      "_________________________________________________________________\n",
      "lstm_2 (LSTM)                (None, 10, 600)           2882400   \n",
      "_________________________________________________________________\n",
      "lstm_3 (LSTM)                (None, 600)               2882400   \n",
      "_________________________________________________________________\n",
      "dense_1 (Dense)              (None, 1)                 601       \n",
      "=================================================================\n",
      "Total params: 7,210,201\n",
      "Trainable params: 7,210,201\n",
      "Non-trainable params: 0\n",
      "_________________________________________________________________\n"
     ]
    }
   ],
   "source": [
    "model3.summary()"
   ]
  },
  {
   "cell_type": "code",
   "execution_count": 46,
   "metadata": {
    "scrolled": true
   },
   "outputs": [
    {
     "name": "stdout",
     "output_type": "stream",
     "text": [
      "Epoch 1/1000\n",
      "15/15 [==============================] - 2s 154ms/step - loss: 99.9132 - val_loss: 99.6662\n",
      "Epoch 2/1000\n",
      "15/15 [==============================] - 1s 95ms/step - loss: 99.7069 - val_loss: 99.2689\n",
      "Epoch 3/1000\n",
      "15/15 [==============================] - 1s 99ms/step - loss: 99.4422 - val_loss: 98.7363\n",
      "Epoch 4/1000\n",
      "15/15 [==============================] - 1s 100ms/step - loss: 99.0704 - val_loss: 97.8910\n",
      "Epoch 5/1000\n",
      "15/15 [==============================] - 1s 97ms/step - loss: 98.3973 - val_loss: 96.4511\n",
      "Epoch 6/1000\n",
      "15/15 [==============================] - 1s 99ms/step - loss: 97.3181 - val_loss: 93.7922\n",
      "Epoch 7/1000\n",
      "15/15 [==============================] - 2s 105ms/step - loss: 95.0819 - val_loss: 88.2777\n",
      "Epoch 8/1000\n",
      "15/15 [==============================] - 2s 104ms/step - loss: 90.2189 - val_loss: 75.6660\n",
      "Epoch 9/1000\n",
      "15/15 [==============================] - 2s 105ms/step - loss: 80.6566 - val_loss: 48.7423\n",
      "Epoch 10/1000\n",
      "15/15 [==============================] - 2s 105ms/step - loss: 58.9686 - val_loss: 12.0947\n",
      "Epoch 11/1000\n",
      "15/15 [==============================] - 2s 103ms/step - loss: 32.5257 - val_loss: 11.4867\n",
      "Epoch 12/1000\n",
      "15/15 [==============================] - 2s 102ms/step - loss: 18.0180 - val_loss: 16.1529\n",
      "Epoch 13/1000\n",
      "15/15 [==============================] - 1s 100ms/step - loss: 14.1236 - val_loss: 13.8116\n",
      "Epoch 14/1000\n",
      "15/15 [==============================] - 2s 105ms/step - loss: 12.5233 - val_loss: 8.7983\n",
      "Epoch 15/1000\n",
      "15/15 [==============================] - 2s 102ms/step - loss: 9.1482 - val_loss: 5.2383\n",
      "Epoch 16/1000\n",
      "15/15 [==============================] - 2s 104ms/step - loss: 6.1414 - val_loss: 1.6933\n",
      "Epoch 17/1000\n",
      "15/15 [==============================] - 2s 105ms/step - loss: 4.9398 - val_loss: 0.7597\n",
      "Epoch 18/1000\n",
      "15/15 [==============================] - 2s 101ms/step - loss: 3.9343 - val_loss: 0.7980\n",
      "Epoch 19/1000\n",
      "15/15 [==============================] - 2s 103ms/step - loss: 2.6678 - val_loss: 0.7536\n",
      "Epoch 20/1000\n",
      "15/15 [==============================] - 2s 105ms/step - loss: 1.7026 - val_loss: 0.4365\n",
      "Epoch 21/1000\n",
      "15/15 [==============================] - 2s 102ms/step - loss: 1.4807 - val_loss: 0.2488\n",
      "Epoch 22/1000\n",
      "15/15 [==============================] - 2s 104ms/step - loss: 1.6890 - val_loss: 0.4462\n",
      "Epoch 23/1000\n",
      "15/15 [==============================] - 2s 106ms/step - loss: 1.2949 - val_loss: 0.2281\n",
      "Epoch 24/1000\n",
      "15/15 [==============================] - 2s 101ms/step - loss: 1.3001 - val_loss: 0.1894\n",
      "Epoch 25/1000\n",
      "15/15 [==============================] - 2s 100ms/step - loss: 1.2582 - val_loss: 0.4249\n",
      "Epoch 26/1000\n",
      "15/15 [==============================] - 2s 102ms/step - loss: 1.0661 - val_loss: 0.3113\n",
      "Epoch 27/1000\n",
      "15/15 [==============================] - 2s 109ms/step - loss: 1.0457 - val_loss: 0.8278\n",
      "Epoch 28/1000\n",
      "15/15 [==============================] - 2s 106ms/step - loss: 1.0054 - val_loss: 0.1619\n",
      "Epoch 29/1000\n",
      "15/15 [==============================] - 2s 114ms/step - loss: 1.0696 - val_loss: 0.8738\n",
      "Epoch 30/1000\n",
      "15/15 [==============================] - 2s 107ms/step - loss: 0.9200 - val_loss: 0.4064\n",
      "Epoch 31/1000\n",
      "15/15 [==============================] - 2s 107ms/step - loss: 0.9056 - val_loss: 0.7529\n",
      "Epoch 32/1000\n",
      "15/15 [==============================] - 2s 117ms/step - loss: 1.0166 - val_loss: 0.7986\n",
      "Epoch 33/1000\n",
      "15/15 [==============================] - 2s 111ms/step - loss: 0.9404 - val_loss: 0.6934\n",
      "Epoch 34/1000\n",
      "15/15 [==============================] - 2s 114ms/step - loss: 0.9407 - val_loss: 0.8077\n",
      "Epoch 35/1000\n",
      "15/15 [==============================] - 2s 104ms/step - loss: 0.8548 - val_loss: 0.5041\n",
      "Epoch 36/1000\n",
      "15/15 [==============================] - 2s 100ms/step - loss: 0.9341 - val_loss: 0.8187\n",
      "Epoch 37/1000\n",
      "15/15 [==============================] - 2s 102ms/step - loss: 0.9580 - val_loss: 0.9578\n",
      "Epoch 38/1000\n",
      "15/15 [==============================] - 2s 102ms/step - loss: 0.7650 - val_loss: 0.5672\n",
      "Epoch 39/1000\n",
      "15/15 [==============================] - 2s 104ms/step - loss: 0.8709 - val_loss: 0.8595\n",
      "Epoch 40/1000\n",
      "15/15 [==============================] - 2s 104ms/step - loss: 0.8468 - val_loss: 0.7656\n",
      "Epoch 41/1000\n",
      "15/15 [==============================] - 2s 103ms/step - loss: 0.8949 - val_loss: 0.3208\n",
      "Epoch 42/1000\n",
      "15/15 [==============================] - 2s 102ms/step - loss: 0.8630 - val_loss: 0.3743\n",
      "Epoch 43/1000\n",
      "15/15 [==============================] - 1s 99ms/step - loss: 0.8587 - val_loss: 0.9517\n",
      "Epoch 44/1000\n",
      "15/15 [==============================] - 2s 103ms/step - loss: 0.9392 - val_loss: 0.3199\n",
      "Epoch 45/1000\n",
      "15/15 [==============================] - 2s 103ms/step - loss: 0.8006 - val_loss: 0.9230\n",
      "Epoch 46/1000\n",
      "15/15 [==============================] - 2s 102ms/step - loss: 0.8360 - val_loss: 0.2992\n",
      "Epoch 47/1000\n",
      "15/15 [==============================] - 2s 105ms/step - loss: 0.7649 - val_loss: 0.8308\n",
      "Epoch 48/1000\n",
      "15/15 [==============================] - 2s 101ms/step - loss: 0.8232 - val_loss: 0.9033\n",
      "Epoch 49/1000\n",
      "15/15 [==============================] - 2s 100ms/step - loss: 0.7536 - val_loss: 0.6420\n",
      "Epoch 50/1000\n",
      "15/15 [==============================] - 2s 104ms/step - loss: 0.8634 - val_loss: 0.4533\n",
      "Epoch 51/1000\n",
      "15/15 [==============================] - 2s 104ms/step - loss: 0.8063 - val_loss: 0.7558\n",
      "Epoch 52/1000\n",
      "15/15 [==============================] - 2s 102ms/step - loss: 0.7570 - val_loss: 0.3720\n",
      "Epoch 53/1000\n",
      "15/15 [==============================] - ETA: 0s - loss: 0.8278\n",
      "Epoch 00053: ReduceLROnPlateau reducing learning rate to 9.999999747378752e-07.\n",
      "15/15 [==============================] - 2s 106ms/step - loss: 0.8278 - val_loss: 0.8582\n",
      "Epoch 54/1000\n",
      "15/15 [==============================] - 2s 101ms/step - loss: 0.7068 - val_loss: 0.7988\n",
      "Epoch 55/1000\n",
      "15/15 [==============================] - 2s 102ms/step - loss: 0.7287 - val_loss: 0.7439\n",
      "Epoch 56/1000\n",
      "15/15 [==============================] - 2s 101ms/step - loss: 0.7707 - val_loss: 0.6858\n",
      "Epoch 57/1000\n",
      "15/15 [==============================] - 2s 107ms/step - loss: 0.8182 - val_loss: 0.6394\n",
      "Epoch 58/1000\n",
      "15/15 [==============================] - 2s 107ms/step - loss: 0.7659 - val_loss: 0.5878\n",
      "Epoch 59/1000\n",
      "15/15 [==============================] - 2s 104ms/step - loss: 0.7362 - val_loss: 0.6195\n",
      "Epoch 60/1000\n",
      "15/15 [==============================] - 2s 100ms/step - loss: 0.7759 - val_loss: 0.6579\n",
      "Epoch 61/1000\n",
      "15/15 [==============================] - 2s 102ms/step - loss: 0.7841 - val_loss: 0.6202\n",
      "Epoch 62/1000\n",
      "15/15 [==============================] - 2s 101ms/step - loss: 0.8524 - val_loss: 0.5500\n",
      "Epoch 63/1000\n",
      "15/15 [==============================] - 2s 102ms/step - loss: 0.7421 - val_loss: 0.4876\n",
      "Epoch 64/1000\n",
      "15/15 [==============================] - 2s 105ms/step - loss: 0.8871 - val_loss: 0.5310\n",
      "Epoch 65/1000\n",
      "15/15 [==============================] - 2s 104ms/step - loss: 0.7994 - val_loss: 0.5621\n",
      "Epoch 66/1000\n",
      "15/15 [==============================] - 2s 103ms/step - loss: 0.7869 - val_loss: 0.5542\n",
      "Epoch 67/1000\n",
      "15/15 [==============================] - 2s 104ms/step - loss: 0.6708 - val_loss: 0.5684\n",
      "Epoch 68/1000\n",
      "15/15 [==============================] - 1s 100ms/step - loss: 0.6988 - val_loss: 0.5907\n",
      "Epoch 69/1000\n",
      "15/15 [==============================] - 2s 102ms/step - loss: 0.7649 - val_loss: 0.6410\n",
      "Epoch 70/1000\n",
      "15/15 [==============================] - 2s 104ms/step - loss: 0.7541 - val_loss: 0.5813\n",
      "Epoch 71/1000\n",
      "15/15 [==============================] - 2s 103ms/step - loss: 0.7715 - val_loss: 0.5532\n",
      "Epoch 72/1000\n",
      "15/15 [==============================] - 2s 102ms/step - loss: 0.7863 - val_loss: 0.5641\n",
      "Epoch 73/1000\n",
      "15/15 [==============================] - 2s 102ms/step - loss: 0.7432 - val_loss: 0.5190\n",
      "Epoch 74/1000\n",
      "15/15 [==============================] - 2s 102ms/step - loss: 0.7692 - val_loss: 0.5116\n",
      "Epoch 75/1000\n",
      "15/15 [==============================] - 2s 101ms/step - loss: 0.7680 - val_loss: 0.5532\n",
      "Epoch 76/1000\n",
      "15/15 [==============================] - 2s 105ms/step - loss: 0.7476 - val_loss: 0.6570\n",
      "Epoch 77/1000\n",
      "15/15 [==============================] - 2s 103ms/step - loss: 0.7611 - val_loss: 0.7133\n",
      "Epoch 78/1000\n",
      "15/15 [==============================] - ETA: 0s - loss: 0.6899\n",
      "Epoch 00078: ReduceLROnPlateau reducing learning rate to 9.999999974752428e-08.\n",
      "15/15 [==============================] - 2s 103ms/step - loss: 0.6899 - val_loss: 0.6406\n"
     ]
    },
    {
     "name": "stdout",
     "output_type": "stream",
     "text": [
      "Epoch 79/1000\n",
      "15/15 [==============================] - 1s 100ms/step - loss: 0.8072 - val_loss: 0.6372\n",
      "Epoch 80/1000\n",
      "15/15 [==============================] - 2s 101ms/step - loss: 0.7851 - val_loss: 0.6318\n",
      "Epoch 81/1000\n",
      "15/15 [==============================] - 2s 100ms/step - loss: 0.7465 - val_loss: 0.6215\n",
      "Epoch 82/1000\n",
      "15/15 [==============================] - 2s 101ms/step - loss: 0.8306 - val_loss: 0.6204\n",
      "Epoch 83/1000\n",
      "15/15 [==============================] - 2s 105ms/step - loss: 0.7443 - val_loss: 0.6162\n",
      "Epoch 84/1000\n",
      "15/15 [==============================] - 2s 103ms/step - loss: 0.7267 - val_loss: 0.6116\n",
      "Epoch 85/1000\n",
      "15/15 [==============================] - 2s 101ms/step - loss: 0.7311 - val_loss: 0.6128\n",
      "Epoch 86/1000\n",
      "15/15 [==============================] - 2s 101ms/step - loss: 0.6969 - val_loss: 0.6139\n",
      "Epoch 87/1000\n",
      "15/15 [==============================] - 2s 101ms/step - loss: 0.7706 - val_loss: 0.6139\n",
      "Epoch 88/1000\n",
      "15/15 [==============================] - 2s 102ms/step - loss: 0.7330 - val_loss: 0.6166\n",
      "Epoch 89/1000\n",
      "15/15 [==============================] - 2s 103ms/step - loss: 0.6540 - val_loss: 0.6169\n",
      "Epoch 90/1000\n",
      "15/15 [==============================] - 2s 104ms/step - loss: 0.7935 - val_loss: 0.6099\n",
      "Epoch 91/1000\n",
      "15/15 [==============================] - 2s 101ms/step - loss: 0.7638 - val_loss: 0.6145\n",
      "Epoch 92/1000\n",
      "15/15 [==============================] - 2s 101ms/step - loss: 0.7261 - val_loss: 0.6185\n",
      "Epoch 93/1000\n",
      "15/15 [==============================] - 2s 103ms/step - loss: 0.7316 - val_loss: 0.6236\n",
      "Epoch 94/1000\n",
      "15/15 [==============================] - 2s 101ms/step - loss: 0.7427 - val_loss: 0.6293\n",
      "Epoch 95/1000\n",
      "15/15 [==============================] - 2s 102ms/step - loss: 0.6971 - val_loss: 0.6189\n",
      "Epoch 96/1000\n",
      "15/15 [==============================] - 2s 108ms/step - loss: 0.7068 - val_loss: 0.6186\n",
      "Epoch 97/1000\n",
      "15/15 [==============================] - 2s 101ms/step - loss: 0.7157 - val_loss: 0.6169\n",
      "Epoch 98/1000\n",
      "15/15 [==============================] - 2s 100ms/step - loss: 0.7648 - val_loss: 0.6173\n",
      "Epoch 99/1000\n",
      "15/15 [==============================] - 2s 102ms/step - loss: 0.6884 - val_loss: 0.6232\n",
      "Epoch 100/1000\n",
      "15/15 [==============================] - 2s 102ms/step - loss: 0.7641 - val_loss: 0.6243\n",
      "Epoch 101/1000\n",
      "15/15 [==============================] - 2s 102ms/step - loss: 0.7856 - val_loss: 0.6193\n",
      "Epoch 102/1000\n",
      "15/15 [==============================] - 2s 108ms/step - loss: 0.7215 - val_loss: 0.6191\n",
      "Epoch 103/1000\n",
      "15/15 [==============================] - ETA: 0s - loss: 0.7168\n",
      "Epoch 00103: ReduceLROnPlateau reducing learning rate to 1.0000000116860975e-08.\n",
      "15/15 [==============================] - 2s 101ms/step - loss: 0.7168 - val_loss: 0.6266\n",
      "Epoch 104/1000\n",
      "15/15 [==============================] - 1s 100ms/step - loss: 0.8097 - val_loss: 0.6274\n",
      "Epoch 105/1000\n",
      "15/15 [==============================] - 2s 101ms/step - loss: 0.7299 - val_loss: 0.6275\n",
      "Epoch 106/1000\n",
      "15/15 [==============================] - 2s 101ms/step - loss: 0.6800 - val_loss: 0.6277\n",
      "Epoch 107/1000\n",
      "15/15 [==============================] - 2s 101ms/step - loss: 0.8238 - val_loss: 0.6283\n",
      "Epoch 108/1000\n",
      "15/15 [==============================] - 2s 106ms/step - loss: 0.7990 - val_loss: 0.6283\n",
      "Epoch 109/1000\n",
      "15/15 [==============================] - 2s 102ms/step - loss: 0.8321 - val_loss: 0.6277\n",
      "Epoch 110/1000\n",
      "15/15 [==============================] - 2s 101ms/step - loss: 0.7855 - val_loss: 0.6271\n",
      "Epoch 111/1000\n",
      "15/15 [==============================] - 2s 102ms/step - loss: 0.7085 - val_loss: 0.6272\n",
      "Epoch 112/1000\n",
      "15/15 [==============================] - 1s 100ms/step - loss: 0.7442 - val_loss: 0.6277\n",
      "Epoch 113/1000\n",
      "15/15 [==============================] - 2s 103ms/step - loss: 0.7092 - val_loss: 0.6274\n",
      "Epoch 114/1000\n",
      "15/15 [==============================] - 2s 104ms/step - loss: 0.7675 - val_loss: 0.6274\n",
      "Epoch 115/1000\n",
      "15/15 [==============================] - 2s 106ms/step - loss: 0.7417 - val_loss: 0.6271\n",
      "Epoch 116/1000\n",
      "15/15 [==============================] - 2s 101ms/step - loss: 0.7299 - val_loss: 0.6265\n",
      "Epoch 117/1000\n",
      "15/15 [==============================] - 2s 101ms/step - loss: 0.7339 - val_loss: 0.6263\n",
      "Epoch 118/1000\n",
      "15/15 [==============================] - 2s 102ms/step - loss: 0.6912 - val_loss: 0.6265\n",
      "Epoch 119/1000\n",
      "15/15 [==============================] - 2s 102ms/step - loss: 0.7476 - val_loss: 0.6271\n",
      "Epoch 120/1000\n",
      "15/15 [==============================] - 2s 101ms/step - loss: 0.6959 - val_loss: 0.6268\n",
      "Epoch 121/1000\n",
      "15/15 [==============================] - 2s 107ms/step - loss: 0.6963 - val_loss: 0.6269\n",
      "Epoch 122/1000\n",
      "15/15 [==============================] - 2s 100ms/step - loss: 0.7789 - val_loss: 0.6274\n",
      "Epoch 123/1000\n",
      "15/15 [==============================] - 2s 101ms/step - loss: 0.7523 - val_loss: 0.6270\n",
      "Epoch 124/1000\n",
      "15/15 [==============================] - 2s 101ms/step - loss: 0.8095 - val_loss: 0.6265\n",
      "Epoch 125/1000\n",
      "15/15 [==============================] - 2s 103ms/step - loss: 0.6971 - val_loss: 0.6264\n",
      "Epoch 126/1000\n",
      "15/15 [==============================] - 2s 101ms/step - loss: 0.7195 - val_loss: 0.6256\n",
      "Epoch 127/1000\n",
      "15/15 [==============================] - 2s 106ms/step - loss: 0.7930 - val_loss: 0.6250\n",
      "Epoch 128/1000\n",
      "15/15 [==============================] - ETA: 0s - loss: 0.7599\n",
      "Epoch 00128: ReduceLROnPlateau reducing learning rate to 9.999999939225292e-10.\n",
      "Restoring model weights from the end of the best epoch.\n",
      "15/15 [==============================] - 2s 103ms/step - loss: 0.7599 - val_loss: 0.6251\n",
      "Epoch 00128: early stopping\n"
     ]
    }
   ],
   "source": [
    "# History object for plotting our model loss by epoch\n",
    "history3 = model3.fit(x_train1, y_train1, batch_size = BATCH3, \n",
    "                    epochs = EPOCHS, validation_data = (x_val1, y_val1),\n",
    "                    callbacks = [rlrop3, early_stop3])"
   ]
  },
  {
   "cell_type": "code",
   "execution_count": 47,
   "metadata": {},
   "outputs": [
    {
     "data": {
      "image/png": "[encoded data removed]",
      "text/plain": [
       "<Figure size 720x504 with 1 Axes>"
      ]
     },
     "metadata": {
      "needs_background": "light"
     },
     "output_type": "display_data"
    }
   ],
   "source": [
    "# Loss History\n",
    "fig = plt.figure(figsize=(10, 7))\n",
    "plt.plot(history3.history['loss'])\n",
    "plt.plot(history3.history['val_loss'])\n",
    "plt.title('Model Loss')\n",
    "plt.ylabel('Loss')\n",
    "plt.xlabel('Epoch')\n",
    "plt.legend(['Train', 'Val'], loc='upper right')\n",
    "plt.show()"
   ]
  },
  {
   "cell_type": "markdown",
   "metadata": {},
   "source": [
    "### Previsão Multistep 12 meses em Validação\n",
    "Para ficar adequado à realidade, não podemos usar os dados de 2022 para prever 2022. Portanto, a previsão de 2022 será feita do moto *multistep*, isto é, o mês de janeiro/2022 será previsto usando-se os dados de arrecadação de janeiro a dezembro de 2021; o mês de fevereiro/2022 será previsto usando-se os dados de fevereiro a dezembro de 2021 mais a previsão feita para o mês de janeiro/2022; o mês de março/2022 será previsto usando-se os dados de março a dezembro de 2021 mais os meses de janeiro e fevereiro de 2022 previstos nos passos anteriores. E assim por diante, até que a previsão de dezembro/2022 será feita usando-se os dados de dezembro de 2021 mais as previsões de janeiro a novembro de 2022 feitas nos passos anteriores."
   ]
  },
  {
   "cell_type": "markdown",
   "metadata": {},
   "source": [
    "#### Remove os 12 últimos valores que serão previstos e cria as séries novamente"
   ]
  },
  {
   "cell_type": "code",
   "execution_count": 48,
   "metadata": {},
   "outputs": [
    {
     "name": "stdout",
     "output_type": "stream",
     "text": [
      "(156,)\n",
      "(144,)\n"
     ]
    }
   ],
   "source": [
    "# remove\n",
    "serie_multi12 = l_icms_ts[:-24]\n",
    "print(l_icms_ts.shape)\n",
    "print(serie_multi1.shape)"
   ]
  },
  {
   "cell_type": "code",
   "execution_count": 49,
   "metadata": {},
   "outputs": [
    {
     "name": "stdout",
     "output_type": "stream",
     "text": [
      "0 [[9.588237e+09]]\n",
      "1 [[9.585511e+09]]\n",
      "2 [[9.618808e+09]]\n",
      "3 [[9.58648e+09]]\n",
      "4 [[9.568834e+09]]\n",
      "5 [[9.566462e+09]]\n",
      "6 [[9.544391e+09]]\n",
      "7 [[9.550053e+09]]\n",
      "8 [[9.541387e+09]]\n",
      "9 [[9.53884e+09]]\n",
      "10 [[9.541641e+09]]\n",
      "11 [[9.541042e+09]]\n"
     ]
    }
   ],
   "source": [
    "for i in range(12):\n",
    "    # cria as séries\n",
    "    X_multi12, Y_multi12 = cria_features_target(serie_multi12, verbose=0)\n",
    "\n",
    "    # Faz a normalização usando o modelo fitado na normalização anterior\n",
    "    X_multi_std12 = enc_x.transform(X_multi12)\n",
    "    X_multi_std12 = X_multi_std12.reshape(X_multi_std12.shape[0],10,1)\n",
    "\n",
    "    # Faz o janelamento das séries\n",
    "    x_multi12, y_multi12 = janelamento_1_mes(X_multi_std12, Y_multi12, verbose=0)\n",
    "\n",
    "    # Faz a predição da arrecadação do mês\n",
    "    #y_pred_multi = np.mean(model.predict(x_multi[-1:]), axis=1)#[:,0].ravel()\n",
    "    y_pred_multi12 = model3.predict(x_multi12[-1:])#[:,0].ravel()\n",
    "    print(i, np.exp(y_pred_multi12))\n",
    "\n",
    "    #### Adicionar o valor previsto à série e fazer o novo janelamento\n",
    "    serie_multi12 = pd.Series(np.append(serie_multi12, y_pred_multi12))"
   ]
  },
  {
   "cell_type": "code",
   "execution_count": 50,
   "metadata": {},
   "outputs": [],
   "source": [
    "Y_pred_multi12 = np.exp(pd.Series(serie_multi12[-12:]))\n",
    "Y_pred_multi12.index = icms_val.index"
   ]
  },
  {
   "cell_type": "code",
   "execution_count": 51,
   "metadata": {},
   "outputs": [
    {
     "data": {
      "text/plain": [
       "date\n",
       "2014-01-01    9.588236e+09\n",
       "2014-02-01    9.585512e+09\n",
       "2014-03-01    9.618808e+09\n",
       "2014-04-01    9.586481e+09\n",
       "2014-05-01    9.568834e+09\n",
       "2014-06-01    9.566462e+09\n",
       "2014-07-01    9.544390e+09\n",
       "2014-08-01    9.550054e+09\n",
       "2014-09-01    9.541387e+09\n",
       "2014-10-01    9.538840e+09\n",
       "2014-11-01    9.541642e+09\n",
       "2014-12-01    9.541041e+09\n",
       "dtype: float64"
      ]
     },
     "execution_count": 51,
     "metadata": {},
     "output_type": "execute_result"
    }
   ],
   "source": [
    "Y_pred_multi12"
   ]
  },
  {
   "cell_type": "code",
   "execution_count": 52,
   "metadata": {},
   "outputs": [
    {
     "data": {
      "text/plain": [
       "625091795.068695"
      ]
     },
     "execution_count": 52,
     "metadata": {},
     "output_type": "execute_result"
    }
   ],
   "source": [
    "RMSE_lstm_multi12 = mean_squared_error(icms_val, Y_pred_multi12, squared=False)\n",
    "RMSE_lstm_multi12"
   ]
  },
  {
   "cell_type": "code",
   "execution_count": 53,
   "metadata": {},
   "outputs": [
    {
     "data": {
      "text/plain": [
       "0.03680548779876822"
      ]
     },
     "execution_count": 53,
     "metadata": {},
     "output_type": "execute_result"
    }
   ],
   "source": [
    "MAPE_lstm_multi12 = mean_absolute_percentage_error(icms_val, Y_pred_multi12)\n",
    "MAPE_lstm_multi12"
   ]
  },
  {
   "cell_type": "code",
   "execution_count": 54,
   "metadata": {},
   "outputs": [],
   "source": [
    "previsoes['nome'].append('RNN-LSTM-1-mês-camadas')\n",
    "previsoes['modelo'].append(model3)\n",
    "previsoes['previsoes'].append(Y_pred_multi12)\n",
    "\n",
    "previsoes['rmse'].append(RMSE_lstm_multi12)\n",
    "\n",
    "previsoes['mape'].append(MAPE_lstm_multi12)\n",
    "\n",
    "previsoes['erro relativo'].append([erro_relativo(prev,real) \n",
    "                                   for prev,real in zip(Y_pred_multi12\n",
    "                                                        , icms_val)])"
   ]
  },
  {
   "cell_type": "markdown",
   "metadata": {},
   "source": [
    "# Modelo 12 meses"
   ]
  },
  {
   "cell_type": "markdown",
   "metadata": {},
   "source": [
    "#### Criando as janelas de 12 meses e reshape para LSTM. A arrecadação de cada mês será prevista pela arrecadação dos 12 meses anteriores."
   ]
  },
  {
   "cell_type": "markdown",
   "metadata": {},
   "source": [
    "##### Unindo novamente os dados."
   ]
  },
  {
   "cell_type": "code",
   "execution_count": 55,
   "metadata": {},
   "outputs": [],
   "source": [
    "def janelamento_12_meses(X, Y, verbose=0):\n",
    "    X_exp = np.concatenate((np.roll(X, 12, axis=0),\n",
    "                            np.roll(X, 11, axis=0),\n",
    "                            np.roll(X, 10, axis=0),\n",
    "                            np.roll(X, 9, axis=0),\n",
    "                            np.roll(X, 8, axis=0),\n",
    "                            np.roll(X, 7, axis=0),\n",
    "                            np.roll(X, 6, axis=0),\n",
    "                            np.roll(X, 5, axis=0),\n",
    "                            np.roll(X, 4, axis=0),\n",
    "                            np.roll(X, 3, axis=0),\n",
    "                            np.roll(X, 2, axis=0),\n",
    "                            np.roll(X, 1, axis=0),\n",
    "                            ), axis=2)\n",
    "    X_exp_cut = X_exp[12:,:,:].transpose(0,2,1)\n",
    "    Y_cut = Y[12:]\n",
    "    if verbose==1:\n",
    "        print('shape das features janeladas:', X_exp.shape)\n",
    "        print('shape das features janeladas pós poda e transposição:', X_exp_cut.shape)\n",
    "        print('shape do array target pós poda:', Y_cut.shape)\n",
    "    return X_exp_cut, Y_cut"
   ]
  },
  {
   "cell_type": "code",
   "execution_count": 56,
   "metadata": {},
   "outputs": [],
   "source": [
    "X_data_exp_cut12, Y_data_cut12 = janelamento_12_meses(X_data_jn, Y_data, verbose=0)"
   ]
  },
  {
   "cell_type": "code",
   "execution_count": 57,
   "metadata": {},
   "outputs": [],
   "source": [
    "#Y_data_cut[0]"
   ]
  },
  {
   "cell_type": "code",
   "execution_count": 58,
   "metadata": {},
   "outputs": [],
   "source": [
    "#X_data_exp_cut[0]"
   ]
  },
  {
   "cell_type": "code",
   "execution_count": 59,
   "metadata": {},
   "outputs": [],
   "source": [
    "#Y_data_cut[Y_data_cut.shape[0]-1]"
   ]
  },
  {
   "cell_type": "code",
   "execution_count": 60,
   "metadata": {},
   "outputs": [],
   "source": [
    "#X_data_exp_cut[Y_data_cut.shape[0]-1]"
   ]
  },
  {
   "cell_type": "markdown",
   "metadata": {},
   "source": [
    "#### Separando novamente em treino, validação e teste"
   ]
  },
  {
   "cell_type": "code",
   "execution_count": 61,
   "metadata": {},
   "outputs": [
    {
     "name": "stdout",
     "output_type": "stream",
     "text": [
      "(108, 12, 10) (12, 12, 10) (12, 12, 10)\n",
      "(108,) (12,) (12,)\n"
     ]
    }
   ],
   "source": [
    "x_train12 = X_data_exp_cut12[:-24]\n",
    "x_val12 = X_data_exp_cut12[-24:-12]\n",
    "x_test12 = X_data_exp_cut12[-12:]\n",
    "print(x_train12.shape, x_val12.shape, x_test12.shape)\n",
    "y_train12 = Y_data_cut12[:-24]\n",
    "y_val12 = Y_data_cut12[-24:-12]\n",
    "y_test12 = np.exp(Y_data_cut12[-12:]) # tirar o log para ficar o valor real\n",
    "print(y_train12.shape, y_val12.shape, y_test12.shape)"
   ]
  },
  {
   "cell_type": "markdown",
   "metadata": {},
   "source": [
    "### Criando o modelo LSTM"
   ]
  },
  {
   "cell_type": "markdown",
   "metadata": {},
   "source": [
    "## Arquitetura da Rede - Arquitetura Larga"
   ]
  },
  {
   "cell_type": "code",
   "execution_count": 62,
   "metadata": {},
   "outputs": [],
   "source": [
    "rlrop2 = ReduceLROnPlateau(monitor='val_loss', factor=0.1, patience=10, verbose=1)\n",
    "early_stop2 = EarlyStopping(monitor='val_loss', patience=100, verbose=1, \n",
    "                           restore_best_weights=True)"
   ]
  },
  {
   "cell_type": "code",
   "execution_count": 63,
   "metadata": {},
   "outputs": [],
   "source": [
    "# Épocas e tamanho do lote\n",
    "EPOCHS2 = 1000\n",
    "BATCH2 = 8\n",
    "NEURONIOS2 = 1000\n",
    "LR2 = 1e-5\n",
    "DROPOUT2 = 0.25\n",
    "\n",
    "# Imstanciação do modelo\n",
    "model2 = Sequential()\n",
    "\n",
    "# Adicionar camada LSTM \n",
    "model2.add(LSTM(activation='tanh', dropout=DROPOUT2,\n",
    "        input_shape = (12, 10), return_sequences = False,\n",
    "        units = NEURONIOS2))\n",
    "\n",
    "# Adicionar a camada de saída com 1 neurônio linear\n",
    "model2.add(Dense(\n",
    "        units = 1,\n",
    "        activation = 'linear'))\n",
    "# a learning rate padrão do Adam é 0.001\n",
    "model2.compile(loss = 'mape', optimizer = Adam(learning_rate=LR2))"
   ]
  },
  {
   "cell_type": "code",
   "execution_count": 64,
   "metadata": {},
   "outputs": [
    {
     "name": "stdout",
     "output_type": "stream",
     "text": [
      "Model: \"sequential_2\"\n",
      "_________________________________________________________________\n",
      "Layer (type)                 Output Shape              Param #   \n",
      "=================================================================\n",
      "lstm_4 (LSTM)                (None, 1000)              4044000   \n",
      "_________________________________________________________________\n",
      "dense_2 (Dense)              (None, 1)                 1001      \n",
      "=================================================================\n",
      "Total params: 4,045,001\n",
      "Trainable params: 4,045,001\n",
      "Non-trainable params: 0\n",
      "_________________________________________________________________\n"
     ]
    }
   ],
   "source": [
    "model2.summary()"
   ]
  },
  {
   "cell_type": "code",
   "execution_count": 65,
   "metadata": {
    "scrolled": true
   },
   "outputs": [
    {
     "name": "stdout",
     "output_type": "stream",
     "text": [
      "Epoch 1/1000\n",
      "14/14 [==============================] - 1s 105ms/step - loss: 99.6260 - val_loss: 98.6362\n",
      "Epoch 2/1000\n",
      "14/14 [==============================] - 1s 81ms/step - loss: 98.8959 - val_loss: 97.2810\n",
      "Epoch 3/1000\n",
      "14/14 [==============================] - 1s 83ms/step - loss: 98.0931 - val_loss: 95.7247\n",
      "Epoch 4/1000\n",
      "14/14 [==============================] - 1s 81ms/step - loss: 97.1521 - val_loss: 93.7793\n",
      "Epoch 5/1000\n",
      "14/14 [==============================] - 1s 85ms/step - loss: 95.9669 - val_loss: 91.1173\n",
      "Epoch 6/1000\n",
      "14/14 [==============================] - 1s 85ms/step - loss: 94.1735 - val_loss: 87.0806\n",
      "Epoch 7/1000\n",
      "14/14 [==============================] - 1s 84ms/step - loss: 91.6757 - val_loss: 80.1834\n",
      "Epoch 8/1000\n",
      "14/14 [==============================] - 1s 90ms/step - loss: 86.8534 - val_loss: 67.1913\n",
      "Epoch 9/1000\n",
      "14/14 [==============================] - 1s 89ms/step - loss: 77.9938 - val_loss: 43.5801\n",
      "Epoch 10/1000\n",
      "14/14 [==============================] - 1s 93ms/step - loss: 61.3643 - val_loss: 15.6049\n",
      "Epoch 11/1000\n",
      "14/14 [==============================] - 1s 89ms/step - loss: 38.1232 - val_loss: 3.3733\n",
      "Epoch 12/1000\n",
      "14/14 [==============================] - 1s 87ms/step - loss: 22.5451 - val_loss: 8.0499\n",
      "Epoch 13/1000\n",
      "14/14 [==============================] - 1s 84ms/step - loss: 15.7559 - val_loss: 3.2748\n",
      "Epoch 14/1000\n",
      "14/14 [==============================] - 1s 87ms/step - loss: 10.8678 - val_loss: 0.6898\n",
      "Epoch 15/1000\n",
      "14/14 [==============================] - 1s 90ms/step - loss: 7.7053 - val_loss: 0.1931\n",
      "Epoch 16/1000\n",
      "14/14 [==============================] - 1s 88ms/step - loss: 5.2207 - val_loss: 0.1689\n",
      "Epoch 17/1000\n",
      "14/14 [==============================] - 1s 86ms/step - loss: 4.3865 - val_loss: 0.7811\n",
      "Epoch 18/1000\n",
      "14/14 [==============================] - 1s 90ms/step - loss: 3.2109 - val_loss: 0.7273\n",
      "Epoch 19/1000\n",
      "14/14 [==============================] - 1s 87ms/step - loss: 2.7424 - val_loss: 0.6354\n",
      "Epoch 20/1000\n",
      "14/14 [==============================] - 1s 86ms/step - loss: 2.3960 - val_loss: 1.1919\n",
      "Epoch 21/1000\n",
      "14/14 [==============================] - 1s 88ms/step - loss: 2.1847 - val_loss: 0.8620\n",
      "Epoch 22/1000\n",
      "14/14 [==============================] - 1s 90ms/step - loss: 1.8222 - val_loss: 1.1968\n",
      "Epoch 23/1000\n",
      "14/14 [==============================] - 1s 87ms/step - loss: 1.9353 - val_loss: 0.9269\n",
      "Epoch 24/1000\n",
      "14/14 [==============================] - 1s 87ms/step - loss: 1.6271 - val_loss: 1.0166\n",
      "Epoch 25/1000\n",
      "14/14 [==============================] - 1s 87ms/step - loss: 1.5706 - val_loss: 1.2535\n",
      "Epoch 26/1000\n",
      "14/14 [==============================] - ETA: 0s - loss: 1.5045\n",
      "Epoch 00026: ReduceLROnPlateau reducing learning rate to 9.999999747378752e-07.\n",
      "14/14 [==============================] - 1s 87ms/step - loss: 1.5045 - val_loss: 1.1104\n",
      "Epoch 27/1000\n",
      "14/14 [==============================] - 1s 92ms/step - loss: 1.3983 - val_loss: 1.1370\n",
      "Epoch 28/1000\n",
      "14/14 [==============================] - 1s 87ms/step - loss: 1.3504 - val_loss: 1.0720\n",
      "Epoch 29/1000\n",
      "14/14 [==============================] - 1s 88ms/step - loss: 1.3416 - val_loss: 1.0429\n",
      "Epoch 30/1000\n",
      "14/14 [==============================] - 1s 85ms/step - loss: 1.3945 - val_loss: 1.0647\n",
      "Epoch 31/1000\n",
      "14/14 [==============================] - 1s 86ms/step - loss: 1.3113 - val_loss: 1.1068\n",
      "Epoch 32/1000\n",
      "14/14 [==============================] - 1s 87ms/step - loss: 1.3435 - val_loss: 1.1024\n",
      "Epoch 33/1000\n",
      "14/14 [==============================] - 1s 88ms/step - loss: 1.4409 - val_loss: 1.0840\n",
      "Epoch 34/1000\n",
      "14/14 [==============================] - 1s 88ms/step - loss: 1.3247 - val_loss: 1.0189\n",
      "Epoch 35/1000\n",
      "14/14 [==============================] - 1s 90ms/step - loss: 1.3310 - val_loss: 1.0484\n",
      "Epoch 36/1000\n",
      "14/14 [==============================] - ETA: 0s - loss: 1.3853\n",
      "Epoch 00036: ReduceLROnPlateau reducing learning rate to 9.999999974752428e-08.\n",
      "14/14 [==============================] - 1s 85ms/step - loss: 1.3853 - val_loss: 1.0567\n",
      "Epoch 37/1000\n",
      "14/14 [==============================] - 1s 87ms/step - loss: 1.3208 - val_loss: 1.0591\n",
      "Epoch 38/1000\n",
      "14/14 [==============================] - 1s 87ms/step - loss: 1.3731 - val_loss: 1.0630\n",
      "Epoch 39/1000\n",
      "14/14 [==============================] - 1s 87ms/step - loss: 1.2314 - val_loss: 1.0680\n",
      "Epoch 40/1000\n",
      "14/14 [==============================] - 1s 89ms/step - loss: 1.3085 - val_loss: 1.0650\n",
      "Epoch 41/1000\n",
      "14/14 [==============================] - 1s 86ms/step - loss: 1.3164 - val_loss: 1.0640\n",
      "Epoch 42/1000\n",
      "14/14 [==============================] - 1s 87ms/step - loss: 1.3112 - val_loss: 1.0625\n",
      "Epoch 43/1000\n",
      "14/14 [==============================] - 1s 90ms/step - loss: 1.3643 - val_loss: 1.0647\n",
      "Epoch 44/1000\n",
      "14/14 [==============================] - 1s 91ms/step - loss: 1.4555 - val_loss: 1.0650\n",
      "Epoch 45/1000\n",
      "14/14 [==============================] - 1s 88ms/step - loss: 1.2237 - val_loss: 1.0623\n",
      "Epoch 46/1000\n",
      "14/14 [==============================] - ETA: 0s - loss: 1.3439\n",
      "Epoch 00046: ReduceLROnPlateau reducing learning rate to 1.0000000116860975e-08.\n",
      "14/14 [==============================] - 1s 90ms/step - loss: 1.3439 - val_loss: 1.0557\n",
      "Epoch 47/1000\n",
      "14/14 [==============================] - 1s 96ms/step - loss: 1.3621 - val_loss: 1.0566\n",
      "Epoch 48/1000\n",
      "14/14 [==============================] - 1s 93ms/step - loss: 1.2759 - val_loss: 1.0558\n",
      "Epoch 49/1000\n",
      "14/14 [==============================] - 1s 98ms/step - loss: 1.4041 - val_loss: 1.0566\n",
      "Epoch 50/1000\n",
      "14/14 [==============================] - 1s 92ms/step - loss: 1.2890 - val_loss: 1.0569\n",
      "Epoch 51/1000\n",
      "14/14 [==============================] - 1s 93ms/step - loss: 1.2809 - val_loss: 1.0572\n",
      "Epoch 52/1000\n",
      "14/14 [==============================] - 1s 92ms/step - loss: 1.3021 - val_loss: 1.0574\n",
      "Epoch 53/1000\n",
      "14/14 [==============================] - 1s 89ms/step - loss: 1.3425 - val_loss: 1.0569\n",
      "Epoch 54/1000\n",
      "14/14 [==============================] - 1s 91ms/step - loss: 1.3112 - val_loss: 1.0569\n",
      "Epoch 55/1000\n",
      "14/14 [==============================] - 1s 92ms/step - loss: 1.3133 - val_loss: 1.0567\n",
      "Epoch 56/1000\n",
      "14/14 [==============================] - ETA: 0s - loss: 1.2776\n",
      "Epoch 00056: ReduceLROnPlateau reducing learning rate to 9.999999939225292e-10.\n",
      "14/14 [==============================] - 1s 89ms/step - loss: 1.2776 - val_loss: 1.0565\n",
      "Epoch 57/1000\n",
      "14/14 [==============================] - 1s 91ms/step - loss: 1.3876 - val_loss: 1.0565\n",
      "Epoch 58/1000\n",
      "14/14 [==============================] - 1s 92ms/step - loss: 1.2659 - val_loss: 1.0565\n",
      "Epoch 59/1000\n",
      "14/14 [==============================] - 1s 95ms/step - loss: 1.2663 - val_loss: 1.0565\n",
      "Epoch 60/1000\n",
      "14/14 [==============================] - 1s 89ms/step - loss: 1.4529 - val_loss: 1.0565\n",
      "Epoch 61/1000\n",
      "14/14 [==============================] - 1s 88ms/step - loss: 1.2984 - val_loss: 1.0565\n",
      "Epoch 62/1000\n",
      "14/14 [==============================] - 1s 92ms/step - loss: 1.3644 - val_loss: 1.0565\n",
      "Epoch 63/1000\n",
      "14/14 [==============================] - 1s 91ms/step - loss: 1.2992 - val_loss: 1.0565\n",
      "Epoch 64/1000\n",
      "14/14 [==============================] - 1s 89ms/step - loss: 1.3488 - val_loss: 1.0565\n",
      "Epoch 65/1000\n",
      "14/14 [==============================] - 1s 91ms/step - loss: 1.2878 - val_loss: 1.0565\n",
      "Epoch 66/1000\n",
      "14/14 [==============================] - ETA: 0s - loss: 1.3217\n",
      "Epoch 00066: ReduceLROnPlateau reducing learning rate to 9.999999717180686e-11.\n",
      "14/14 [==============================] - 1s 92ms/step - loss: 1.3217 - val_loss: 1.0565\n",
      "Epoch 67/1000\n",
      "14/14 [==============================] - 1s 89ms/step - loss: 1.2586 - val_loss: 1.0565\n",
      "Epoch 68/1000\n",
      "14/14 [==============================] - 1s 90ms/step - loss: 1.2924 - val_loss: 1.0565\n",
      "Epoch 69/1000\n",
      "14/14 [==============================] - 1s 90ms/step - loss: 1.3798 - val_loss: 1.0565\n",
      "Epoch 70/1000\n",
      "14/14 [==============================] - 1s 92ms/step - loss: 1.2606 - val_loss: 1.0565\n",
      "Epoch 71/1000\n",
      "14/14 [==============================] - 1s 92ms/step - loss: 1.3745 - val_loss: 1.0565\n",
      "Epoch 72/1000\n",
      "14/14 [==============================] - 1s 88ms/step - loss: 1.3270 - val_loss: 1.0565\n",
      "Epoch 73/1000\n",
      "14/14 [==============================] - 1s 89ms/step - loss: 1.2853 - val_loss: 1.0565\n",
      "Epoch 74/1000\n"
     ]
    },
    {
     "name": "stdout",
     "output_type": "stream",
     "text": [
      "14/14 [==============================] - 1s 91ms/step - loss: 1.3032 - val_loss: 1.0565\n",
      "Epoch 75/1000\n",
      "14/14 [==============================] - 1s 88ms/step - loss: 1.2751 - val_loss: 1.0565\n",
      "Epoch 76/1000\n",
      "14/14 [==============================] - ETA: 0s - loss: 1.2673\n",
      "Epoch 00076: ReduceLROnPlateau reducing learning rate to 9.99999943962493e-12.\n",
      "14/14 [==============================] - 1s 91ms/step - loss: 1.2673 - val_loss: 1.0565\n",
      "Epoch 77/1000\n",
      "14/14 [==============================] - 1s 92ms/step - loss: 1.3604 - val_loss: 1.0565\n",
      "Epoch 78/1000\n",
      "14/14 [==============================] - 1s 91ms/step - loss: 1.2967 - val_loss: 1.0565\n",
      "Epoch 79/1000\n",
      "14/14 [==============================] - 1s 92ms/step - loss: 1.3165 - val_loss: 1.0565\n",
      "Epoch 80/1000\n",
      "14/14 [==============================] - 1s 90ms/step - loss: 1.2583 - val_loss: 1.0565\n",
      "Epoch 81/1000\n",
      "14/14 [==============================] - 1s 92ms/step - loss: 1.3849 - val_loss: 1.0565\n",
      "Epoch 82/1000\n",
      "14/14 [==============================] - 1s 92ms/step - loss: 1.2612 - val_loss: 1.0565\n",
      "Epoch 83/1000\n",
      "14/14 [==============================] - 1s 90ms/step - loss: 1.3678 - val_loss: 1.0565\n",
      "Epoch 84/1000\n",
      "14/14 [==============================] - 1s 89ms/step - loss: 1.3089 - val_loss: 1.0565\n",
      "Epoch 85/1000\n",
      "14/14 [==============================] - 1s 91ms/step - loss: 1.3438 - val_loss: 1.0565\n",
      "Epoch 86/1000\n",
      "14/14 [==============================] - ETA: 0s - loss: 1.3481\n",
      "Epoch 00086: ReduceLROnPlateau reducing learning rate to 9.999999092680235e-13.\n",
      "14/14 [==============================] - 1s 98ms/step - loss: 1.3481 - val_loss: 1.0565\n",
      "Epoch 87/1000\n",
      "14/14 [==============================] - 1s 89ms/step - loss: 1.3834 - val_loss: 1.0565\n",
      "Epoch 88/1000\n",
      "14/14 [==============================] - 1s 94ms/step - loss: 1.3709 - val_loss: 1.0565\n",
      "Epoch 89/1000\n",
      "14/14 [==============================] - 1s 93ms/step - loss: 1.2440 - val_loss: 1.0565\n",
      "Epoch 90/1000\n",
      "14/14 [==============================] - 1s 89ms/step - loss: 1.3584 - val_loss: 1.0565\n",
      "Epoch 91/1000\n",
      "14/14 [==============================] - 1s 90ms/step - loss: 1.2636 - val_loss: 1.0565\n",
      "Epoch 92/1000\n",
      "14/14 [==============================] - 1s 91ms/step - loss: 1.2683 - val_loss: 1.0565\n",
      "Epoch 93/1000\n",
      "14/14 [==============================] - 1s 93ms/step - loss: 1.2682 - val_loss: 1.0565\n",
      "Epoch 94/1000\n",
      "14/14 [==============================] - 1s 91ms/step - loss: 1.3276 - val_loss: 1.0565\n",
      "Epoch 95/1000\n",
      "14/14 [==============================] - 1s 90ms/step - loss: 1.3317 - val_loss: 1.0565\n",
      "Epoch 96/1000\n",
      "14/14 [==============================] - ETA: 0s - loss: 1.3434\n",
      "Epoch 00096: ReduceLROnPlateau reducing learning rate to 9.9999988758398e-14.\n",
      "14/14 [==============================] - 1s 94ms/step - loss: 1.3434 - val_loss: 1.0565\n",
      "Epoch 97/1000\n",
      "14/14 [==============================] - 1s 93ms/step - loss: 1.2276 - val_loss: 1.0565\n",
      "Epoch 98/1000\n",
      "14/14 [==============================] - 1s 93ms/step - loss: 1.2716 - val_loss: 1.0565\n",
      "Epoch 99/1000\n",
      "14/14 [==============================] - 1s 90ms/step - loss: 1.3445 - val_loss: 1.0565\n",
      "Epoch 100/1000\n",
      "14/14 [==============================] - 1s 94ms/step - loss: 1.2853 - val_loss: 1.0565\n",
      "Epoch 101/1000\n",
      "14/14 [==============================] - 1s 96ms/step - loss: 1.2307 - val_loss: 1.0565\n",
      "Epoch 102/1000\n",
      "14/14 [==============================] - 1s 93ms/step - loss: 1.3363 - val_loss: 1.0565\n",
      "Epoch 103/1000\n",
      "14/14 [==============================] - 1s 89ms/step - loss: 1.2665 - val_loss: 1.0565\n",
      "Epoch 104/1000\n",
      "14/14 [==============================] - 1s 91ms/step - loss: 1.3101 - val_loss: 1.0565\n",
      "Epoch 105/1000\n",
      "14/14 [==============================] - 1s 92ms/step - loss: 1.2410 - val_loss: 1.0565\n",
      "Epoch 106/1000\n",
      "14/14 [==============================] - ETA: 0s - loss: 1.3045\n",
      "Epoch 00106: ReduceLROnPlateau reducing learning rate to 9.999999146890344e-15.\n",
      "14/14 [==============================] - 1s 90ms/step - loss: 1.3045 - val_loss: 1.0565\n",
      "Epoch 107/1000\n",
      "14/14 [==============================] - 1s 90ms/step - loss: 1.2928 - val_loss: 1.0565\n",
      "Epoch 108/1000\n",
      "14/14 [==============================] - 1s 92ms/step - loss: 1.3879 - val_loss: 1.0565\n",
      "Epoch 109/1000\n",
      "14/14 [==============================] - 1s 92ms/step - loss: 1.2984 - val_loss: 1.0565\n",
      "Epoch 110/1000\n",
      "14/14 [==============================] - 1s 90ms/step - loss: 1.2588 - val_loss: 1.0565\n",
      "Epoch 111/1000\n",
      "14/14 [==============================] - 1s 89ms/step - loss: 1.2518 - val_loss: 1.0565\n",
      "Epoch 112/1000\n",
      "14/14 [==============================] - 1s 93ms/step - loss: 1.3547 - val_loss: 1.0565\n",
      "Epoch 113/1000\n",
      "14/14 [==============================] - 1s 92ms/step - loss: 1.3108 - val_loss: 1.0565\n",
      "Epoch 114/1000\n",
      "14/14 [==============================] - 1s 89ms/step - loss: 1.2683 - val_loss: 1.0565\n",
      "Epoch 115/1000\n",
      "14/14 [==============================] - 1s 92ms/step - loss: 1.3686 - val_loss: 1.0565\n",
      "Epoch 116/1000\n",
      "14/14 [==============================] - ETA: 0s - loss: 1.2188\n",
      "Epoch 00116: ReduceLROnPlateau reducing learning rate to 9.999998977483753e-16.\n",
      "Restoring model weights from the end of the best epoch.\n",
      "14/14 [==============================] - 1s 94ms/step - loss: 1.2188 - val_loss: 1.0565\n",
      "Epoch 00116: early stopping\n"
     ]
    }
   ],
   "source": [
    "# History object for plotting our model loss by epoch\n",
    "history2 = model2.fit(x_train12, y_train12, batch_size = BATCH2, \n",
    "                    epochs = EPOCHS2, validation_data = (x_val12, y_val12),\n",
    "                    callbacks = [rlrop2, early_stop2])"
   ]
  },
  {
   "cell_type": "code",
   "execution_count": 66,
   "metadata": {},
   "outputs": [
    {
     "data": {
      "image/png": "[encoded data removed]",
      "text/plain": [
       "<Figure size 720x504 with 1 Axes>"
      ]
     },
     "metadata": {
      "needs_background": "light"
     },
     "output_type": "display_data"
    }
   ],
   "source": [
    "# Loss History\n",
    "fig = plt.figure(figsize=(10, 7))\n",
    "plt.plot(history2.history['loss'])\n",
    "plt.plot(history2.history['val_loss'])\n",
    "plt.title('Model Loss')\n",
    "plt.ylabel('Loss')\n",
    "plt.xlabel('Epoch')\n",
    "plt.legend(['Train', 'Val'], loc='upper right')\n",
    "plt.show()"
   ]
  },
  {
   "cell_type": "markdown",
   "metadata": {},
   "source": [
    "### Previsão Multistep 12 meses em Validação\n",
    "Para ficar adequado à realidade, não podemos usar os dados de 2022 para prever 2022. Portanto, a previsão de 2022 será feita do moto *multistep*, isto é, o mês de janeiro/2022 será previsto usando-se os dados de arrecadação de janeiro a dezembro de 2021; o mês de fevereiro/2022 será previsto usando-se os dados de fevereiro a dezembro de 2021 mais a previsão feita para o mês de janeiro/2022; o mês de março/2022 será previsto usando-se os dados de março a dezembro de 2021 mais os meses de janeiro e fevereiro de 2022 previstos nos passos anteriores. E assim por diante, até que a previsão de dezembro/2022 será feita usando-se os dados de dezembro de 2021 mais as previsões de janeiro a novembro de 2022 feitas nos passos anteriores."
   ]
  },
  {
   "cell_type": "markdown",
   "metadata": {},
   "source": [
    "#### Remove os 12 últimos valores que serão previstos e cria as séries novamente"
   ]
  },
  {
   "cell_type": "code",
   "execution_count": 67,
   "metadata": {},
   "outputs": [
    {
     "name": "stdout",
     "output_type": "stream",
     "text": [
      "(156,)\n",
      "(132,)\n"
     ]
    },
    {
     "data": {
      "text/plain": [
       "pandas.core.series.Series"
      ]
     },
     "execution_count": 67,
     "metadata": {},
     "output_type": "execute_result"
    }
   ],
   "source": [
    "# remove\n",
    "serie_multi12 = l_icms_ts[:-24]\n",
    "print(l_icms_ts.shape)\n",
    "print(serie_multi12.shape)\n",
    "type(serie_multi12)"
   ]
  },
  {
   "cell_type": "code",
   "execution_count": 68,
   "metadata": {},
   "outputs": [
    {
     "name": "stdout",
     "output_type": "stream",
     "text": [
      "0 [[9.552003e+09]]\n",
      "1 [[9.548305e+09]]\n",
      "2 [[9.514364e+09]]\n",
      "3 [[9.510427e+09]]\n",
      "4 [[9.513529e+09]]\n",
      "5 [[9.519955e+09]]\n",
      "6 [[9.528493e+09]]\n",
      "7 [[9.535928e+09]]\n",
      "8 [[9.551456e+09]]\n",
      "9 [[9.565239e+09]]\n",
      "10 [[9.58405e+09]]\n",
      "11 [[9.590797e+09]]\n"
     ]
    }
   ],
   "source": [
    "for i in range(12):\n",
    "    # cria as séries\n",
    "    X_multi12, Y_multi12 = cria_features_target(serie_multi12, verbose=0)\n",
    "\n",
    "    # Faz a normalização usando o modelo fitado na normalização anterior\n",
    "    X_multi_std12 = enc_x.transform(X_multi12)\n",
    "    X_multi_std12 = X_multi_std12.reshape(X_multi_std12.shape[0],10,1)\n",
    "\n",
    "    # Faz o janelamento das séries\n",
    "    x_multi12, y_multi12 = janelamento_12_meses(X_multi_std12, Y_multi12, verbose=0)\n",
    "\n",
    "    # Faz a predição da arrecadação do mês\n",
    "    #y_pred_multi = np.mean(model.predict(x_multi[-1:]), axis=1)#[:,0].ravel()\n",
    "    y_pred_multi12 = model2.predict(x_multi12[-1:])#[:,0].ravel()\n",
    "    print(i, np.exp(y_pred_multi12))\n",
    "\n",
    "    #### Adicionar o valor previsto à série e fazer o novo janelamento\n",
    "    serie_multi12 = pd.Series(np.append(serie_multi12, y_pred_multi12))\n",
    "    type(serie_multi12)"
   ]
  },
  {
   "cell_type": "code",
   "execution_count": 69,
   "metadata": {},
   "outputs": [],
   "source": [
    "Y_pred_multi12 = np.exp(pd.Series(serie_multi12[-12:])) # tira o log das previsões\n",
    "Y_pred_multi12.index = icms_val.index"
   ]
  },
  {
   "cell_type": "code",
   "execution_count": 70,
   "metadata": {},
   "outputs": [
    {
     "data": {
      "text/plain": [
       "date\n",
       "2014-01-01    9.552003e+09\n",
       "2014-02-01    9.548305e+09\n",
       "2014-03-01    9.514364e+09\n",
       "2014-04-01    9.510427e+09\n",
       "2014-05-01    9.513529e+09\n",
       "2014-06-01    9.519955e+09\n",
       "2014-07-01    9.528493e+09\n",
       "2014-08-01    9.535929e+09\n",
       "2014-09-01    9.551456e+09\n",
       "2014-10-01    9.565239e+09\n",
       "2014-11-01    9.584049e+09\n",
       "2014-12-01    9.590797e+09\n",
       "dtype: float64"
      ]
     },
     "execution_count": 70,
     "metadata": {},
     "output_type": "execute_result"
    }
   ],
   "source": [
    "Y_pred_multi12"
   ]
  },
  {
   "cell_type": "code",
   "execution_count": 71,
   "metadata": {},
   "outputs": [
    {
     "data": {
      "text/plain": [
       "610450668.6733928"
      ]
     },
     "execution_count": 71,
     "metadata": {},
     "output_type": "execute_result"
    }
   ],
   "source": [
    "RMSE_lstm_multi12 = mean_squared_error(icms_val, Y_pred_multi12, squared=False)\n",
    "RMSE_lstm_multi12"
   ]
  },
  {
   "cell_type": "code",
   "execution_count": 72,
   "metadata": {},
   "outputs": [
    {
     "data": {
      "text/plain": [
       "0.037046283351695505"
      ]
     },
     "execution_count": 72,
     "metadata": {},
     "output_type": "execute_result"
    }
   ],
   "source": [
    "MAPE_lstm_multi12 = mean_absolute_percentage_error(icms_val, Y_pred_multi12)\n",
    "MAPE_lstm_multi12"
   ]
  },
  {
   "cell_type": "code",
   "execution_count": 73,
   "metadata": {},
   "outputs": [],
   "source": [
    "previsoes['nome'].append('RNN-LSTM-12-meses-larga')\n",
    "previsoes['modelo'].append(model2)\n",
    "previsoes['previsoes'].append(Y_pred_multi12)\n",
    "\n",
    "previsoes['rmse'].append(RMSE_lstm_multi12)\n",
    "\n",
    "previsoes['mape'].append(MAPE_lstm_multi12)"
   ]
  },
  {
   "cell_type": "code",
   "execution_count": 74,
   "metadata": {},
   "outputs": [],
   "source": [
    "previsoes['erro relativo'].append([erro_relativo(prev,real) \n",
    "                                   for prev,real in zip(Y_pred_multi12\n",
    "                                                        , icms_val)])"
   ]
  },
  {
   "cell_type": "markdown",
   "metadata": {},
   "source": [
    "## Arquitetura da Rede - Arquitetura Multicamada"
   ]
  },
  {
   "cell_type": "code",
   "execution_count": 75,
   "metadata": {},
   "outputs": [],
   "source": [
    "rlrop4 = ReduceLROnPlateau(monitor='val_loss', factor=0.1, patience=25, verbose=1)\n",
    "early_stop4 = EarlyStopping(monitor='val_loss', patience=100, verbose=1, \n",
    "                           restore_best_weights=True)"
   ]
  },
  {
   "cell_type": "code",
   "execution_count": 76,
   "metadata": {},
   "outputs": [],
   "source": [
    "# Épocas e tamanho do lote\n",
    "EPOCHS4 = 1000\n",
    "BATCH4 = 8\n",
    "NEURONIOS4 = 600\n",
    "LR4 = 1e-5\n",
    "DROPOUT4 = 0.25\n",
    "\n",
    "# Imstanciação do modelo\n",
    "model4 = Sequential()\n",
    "\n",
    "# Adicionar camada LSTM \n",
    "model4.add(LSTM(activation='tanh', dropout=DROPOUT4,\n",
    "        input_shape = (12, 10), return_sequences = True,\n",
    "        units = NEURONIOS4))\n",
    "\n",
    "# Adicionar camada LSTM \n",
    "model4.add(LSTM(activation='tanh', dropout=DROPOUT4,\n",
    "        input_shape = (12, 10), return_sequences = True,\n",
    "        units = NEURONIOS4))\n",
    "\n",
    "## Adicionar camada LSTM \n",
    "model4.add(LSTM(activation='tanh', dropout=DROPOUT4,\n",
    "        input_shape = (12, 10), return_sequences = False,\n",
    "        units = NEURONIOS4))\n",
    "\n",
    "\n",
    "# Adicionar a camada de saída com 1 neurônio linear\n",
    "model4.add(Dense(\n",
    "        units = 1,\n",
    "        activation = 'linear'))\n",
    "# a learning rate padrão do Adam é 0.001\n",
    "model4.compile(loss = 'mape', optimizer = Adam(learning_rate=LR4))"
   ]
  },
  {
   "cell_type": "code",
   "execution_count": 77,
   "metadata": {},
   "outputs": [
    {
     "name": "stdout",
     "output_type": "stream",
     "text": [
      "Model: \"sequential_3\"\n",
      "_________________________________________________________________\n",
      "Layer (type)                 Output Shape              Param #   \n",
      "=================================================================\n",
      "lstm_5 (LSTM)                (None, 12, 600)           1466400   \n",
      "_________________________________________________________________\n",
      "lstm_6 (LSTM)                (None, 12, 600)           2882400   \n",
      "_________________________________________________________________\n",
      "lstm_7 (LSTM)                (None, 600)               2882400   \n",
      "_________________________________________________________________\n",
      "dense_3 (Dense)              (None, 1)                 601       \n",
      "=================================================================\n",
      "Total params: 7,231,801\n",
      "Trainable params: 7,231,801\n",
      "Non-trainable params: 0\n",
      "_________________________________________________________________\n"
     ]
    }
   ],
   "source": [
    "model4.summary()"
   ]
  },
  {
   "cell_type": "code",
   "execution_count": 78,
   "metadata": {
    "scrolled": true
   },
   "outputs": [
    {
     "name": "stdout",
     "output_type": "stream",
     "text": [
      "Epoch 1/1000\n",
      "14/14 [==============================] - 3s 179ms/step - loss: 99.6517 - val_loss: 98.7210\n",
      "Epoch 2/1000\n",
      "14/14 [==============================] - 2s 115ms/step - loss: 98.9539 - val_loss: 97.3252\n",
      "Epoch 3/1000\n",
      "14/14 [==============================] - 2s 119ms/step - loss: 98.0644 - val_loss: 95.3054\n",
      "Epoch 4/1000\n",
      "14/14 [==============================] - 2s 120ms/step - loss: 96.6455 - val_loss: 91.9003\n",
      "Epoch 5/1000\n",
      "14/14 [==============================] - 2s 126ms/step - loss: 94.2916 - val_loss: 85.4582\n",
      "Epoch 6/1000\n",
      "14/14 [==============================] - 2s 127ms/step - loss: 89.4864 - val_loss: 72.4465\n",
      "Epoch 7/1000\n",
      "14/14 [==============================] - 2s 129ms/step - loss: 79.8861 - val_loss: 49.0160\n",
      "Epoch 8/1000\n",
      "14/14 [==============================] - 2s 134ms/step - loss: 62.2053 - val_loss: 23.4245\n",
      "Epoch 9/1000\n",
      "14/14 [==============================] - 2s 127ms/step - loss: 39.5972 - val_loss: 6.3008\n",
      "Epoch 10/1000\n",
      "14/14 [==============================] - 2s 129ms/step - loss: 19.0996 - val_loss: 4.0140\n",
      "Epoch 11/1000\n",
      "14/14 [==============================] - 2s 125ms/step - loss: 11.0642 - val_loss: 5.2270\n",
      "Epoch 12/1000\n",
      "14/14 [==============================] - 2s 128ms/step - loss: 7.7982 - val_loss: 2.2629\n",
      "Epoch 13/1000\n",
      "14/14 [==============================] - 2s 123ms/step - loss: 5.3469 - val_loss: 0.1489\n",
      "Epoch 14/1000\n",
      "14/14 [==============================] - 2s 127ms/step - loss: 3.9394 - val_loss: 0.5039\n",
      "Epoch 15/1000\n",
      "14/14 [==============================] - 2s 124ms/step - loss: 3.2167 - val_loss: 0.2127\n",
      "Epoch 16/1000\n",
      "14/14 [==============================] - 2s 124ms/step - loss: 2.3720 - val_loss: 0.1352\n",
      "Epoch 17/1000\n",
      "14/14 [==============================] - 2s 122ms/step - loss: 2.1521 - val_loss: 0.2275\n",
      "Epoch 18/1000\n",
      "14/14 [==============================] - 2s 123ms/step - loss: 1.7649 - val_loss: 0.1811\n",
      "Epoch 19/1000\n",
      "14/14 [==============================] - 2s 123ms/step - loss: 1.4973 - val_loss: 0.1631\n",
      "Epoch 20/1000\n",
      "14/14 [==============================] - 2s 123ms/step - loss: 1.3596 - val_loss: 0.6973\n",
      "Epoch 21/1000\n",
      "14/14 [==============================] - 2s 124ms/step - loss: 1.2716 - val_loss: 0.1460\n",
      "Epoch 22/1000\n",
      "14/14 [==============================] - 2s 122ms/step - loss: 1.2814 - val_loss: 0.7926\n",
      "Epoch 23/1000\n",
      "14/14 [==============================] - 2s 123ms/step - loss: 1.2229 - val_loss: 0.2842\n",
      "Epoch 24/1000\n",
      "14/14 [==============================] - 2s 129ms/step - loss: 1.1548 - val_loss: 0.4249\n",
      "Epoch 25/1000\n",
      "14/14 [==============================] - 2s 124ms/step - loss: 1.0217 - val_loss: 0.5067\n",
      "Epoch 26/1000\n",
      "14/14 [==============================] - 2s 128ms/step - loss: 1.0504 - val_loss: 0.5185\n",
      "Epoch 27/1000\n",
      "14/14 [==============================] - 2s 120ms/step - loss: 0.9479 - val_loss: 0.3981\n",
      "Epoch 28/1000\n",
      "14/14 [==============================] - 2s 125ms/step - loss: 0.9723 - val_loss: 0.5538\n",
      "Epoch 29/1000\n",
      "14/14 [==============================] - 2s 123ms/step - loss: 1.0013 - val_loss: 0.6245\n",
      "Epoch 30/1000\n",
      "14/14 [==============================] - 2s 124ms/step - loss: 1.0452 - val_loss: 0.6476\n",
      "Epoch 31/1000\n",
      "14/14 [==============================] - 2s 120ms/step - loss: 1.0009 - val_loss: 0.5208\n",
      "Epoch 32/1000\n",
      "14/14 [==============================] - 2s 126ms/step - loss: 0.9505 - val_loss: 0.7576\n",
      "Epoch 33/1000\n",
      "14/14 [==============================] - 2s 120ms/step - loss: 0.8902 - val_loss: 0.4125\n",
      "Epoch 34/1000\n",
      "14/14 [==============================] - 2s 122ms/step - loss: 0.9255 - val_loss: 0.5750\n",
      "Epoch 35/1000\n",
      "14/14 [==============================] - 2s 120ms/step - loss: 0.8087 - val_loss: 0.5164\n",
      "Epoch 36/1000\n",
      "14/14 [==============================] - 2s 116ms/step - loss: 0.8427 - val_loss: 0.6584\n",
      "Epoch 37/1000\n",
      "14/14 [==============================] - 2s 121ms/step - loss: 0.9215 - val_loss: 0.4331\n",
      "Epoch 38/1000\n",
      "14/14 [==============================] - 2s 117ms/step - loss: 0.7638 - val_loss: 0.7207\n",
      "Epoch 39/1000\n",
      "14/14 [==============================] - 2s 119ms/step - loss: 0.8270 - val_loss: 0.2664\n",
      "Epoch 40/1000\n",
      "14/14 [==============================] - 2s 122ms/step - loss: 0.8442 - val_loss: 0.7142\n",
      "Epoch 41/1000\n",
      "14/14 [==============================] - ETA: 0s - loss: 0.7857\n",
      "Epoch 00041: ReduceLROnPlateau reducing learning rate to 9.999999747378752e-07.\n",
      "14/14 [==============================] - 2s 117ms/step - loss: 0.7857 - val_loss: 0.4096\n",
      "Epoch 42/1000\n",
      "14/14 [==============================] - 2s 118ms/step - loss: 0.7443 - val_loss: 0.5052\n",
      "Epoch 43/1000\n",
      "14/14 [==============================] - 2s 119ms/step - loss: 0.7581 - val_loss: 0.5674\n",
      "Epoch 44/1000\n",
      "14/14 [==============================] - 2s 119ms/step - loss: 0.7387 - val_loss: 0.5155\n",
      "Epoch 45/1000\n",
      "14/14 [==============================] - 2s 120ms/step - loss: 0.7520 - val_loss: 0.4340\n",
      "Epoch 46/1000\n",
      "14/14 [==============================] - 2s 121ms/step - loss: 0.7308 - val_loss: 0.3451\n",
      "Epoch 47/1000\n",
      "14/14 [==============================] - 2s 120ms/step - loss: 0.7225 - val_loss: 0.4295\n",
      "Epoch 48/1000\n",
      "14/14 [==============================] - 2s 117ms/step - loss: 0.7186 - val_loss: 0.3897\n",
      "Epoch 49/1000\n",
      "14/14 [==============================] - 2s 124ms/step - loss: 0.7788 - val_loss: 0.4132\n",
      "Epoch 50/1000\n",
      "14/14 [==============================] - 2s 119ms/step - loss: 0.7077 - val_loss: 0.4813\n",
      "Epoch 51/1000\n",
      "14/14 [==============================] - 2s 124ms/step - loss: 0.7408 - val_loss: 0.4919\n",
      "Epoch 52/1000\n",
      "14/14 [==============================] - 2s 122ms/step - loss: 0.7995 - val_loss: 0.5011\n",
      "Epoch 53/1000\n",
      "14/14 [==============================] - 2s 122ms/step - loss: 0.7625 - val_loss: 0.4748\n",
      "Epoch 54/1000\n",
      "14/14 [==============================] - 2s 126ms/step - loss: 0.7201 - val_loss: 0.5201\n",
      "Epoch 55/1000\n",
      "14/14 [==============================] - 2s 122ms/step - loss: 0.7387 - val_loss: 0.4710\n",
      "Epoch 56/1000\n",
      "14/14 [==============================] - 2s 128ms/step - loss: 0.7786 - val_loss: 0.4228\n",
      "Epoch 57/1000\n",
      "14/14 [==============================] - 2s 125ms/step - loss: 0.7222 - val_loss: 0.3799\n",
      "Epoch 58/1000\n",
      "14/14 [==============================] - 2s 122ms/step - loss: 0.7692 - val_loss: 0.3925\n",
      "Epoch 59/1000\n",
      "14/14 [==============================] - 2s 123ms/step - loss: 0.7805 - val_loss: 0.4445\n",
      "Epoch 60/1000\n",
      "14/14 [==============================] - 2s 131ms/step - loss: 0.7977 - val_loss: 0.4852\n",
      "Epoch 61/1000\n",
      "14/14 [==============================] - 2s 126ms/step - loss: 0.7581 - val_loss: 0.4330\n",
      "Epoch 62/1000\n",
      "14/14 [==============================] - 2s 139ms/step - loss: 0.7508 - val_loss: 0.4014\n",
      "Epoch 63/1000\n",
      "14/14 [==============================] - 2s 150ms/step - loss: 0.7439 - val_loss: 0.4128\n",
      "Epoch 64/1000\n",
      "14/14 [==============================] - 2s 130ms/step - loss: 0.7021 - val_loss: 0.4197\n",
      "Epoch 65/1000\n",
      "14/14 [==============================] - 2s 135ms/step - loss: 0.7156 - val_loss: 0.4344\n",
      "Epoch 66/1000\n",
      "14/14 [==============================] - ETA: 0s - loss: 0.7076\n",
      "Epoch 00066: ReduceLROnPlateau reducing learning rate to 9.999999974752428e-08.\n",
      "14/14 [==============================] - 2s 141ms/step - loss: 0.7076 - val_loss: 0.4305\n",
      "Epoch 67/1000\n",
      "14/14 [==============================] - 2s 146ms/step - loss: 0.7175 - val_loss: 0.4345\n",
      "Epoch 68/1000\n",
      "14/14 [==============================] - 2s 131ms/step - loss: 0.7242 - val_loss: 0.4278\n",
      "Epoch 69/1000\n",
      "14/14 [==============================] - 2s 158ms/step - loss: 0.7239 - val_loss: 0.4346\n",
      "Epoch 70/1000\n",
      "14/14 [==============================] - 2s 154ms/step - loss: 0.7544 - val_loss: 0.4364\n",
      "Epoch 71/1000\n",
      "14/14 [==============================] - 2s 140ms/step - loss: 0.7255 - val_loss: 0.4337\n",
      "Epoch 72/1000\n",
      "14/14 [==============================] - 2s 132ms/step - loss: 0.6793 - val_loss: 0.4303\n",
      "Epoch 73/1000\n",
      "14/14 [==============================] - 2s 132ms/step - loss: 0.6805 - val_loss: 0.4230\n",
      "Epoch 74/1000\n",
      "14/14 [==============================] - 2s 132ms/step - loss: 0.7400 - val_loss: 0.4210\n",
      "Epoch 75/1000\n",
      "14/14 [==============================] - 2s 138ms/step - loss: 0.6904 - val_loss: 0.4193\n",
      "Epoch 76/1000\n",
      "14/14 [==============================] - 2s 132ms/step - loss: 0.6850 - val_loss: 0.4247\n",
      "Epoch 77/1000\n",
      "14/14 [==============================] - 2s 132ms/step - loss: 0.7534 - val_loss: 0.4321\n",
      "Epoch 78/1000\n",
      "14/14 [==============================] - 2s 132ms/step - loss: 0.7280 - val_loss: 0.4336\n",
      "Epoch 79/1000\n",
      "14/14 [==============================] - 2s 134ms/step - loss: 0.6541 - val_loss: 0.4423\n",
      "Epoch 80/1000\n",
      "14/14 [==============================] - 2s 132ms/step - loss: 0.6774 - val_loss: 0.4448\n",
      "Epoch 81/1000\n",
      "14/14 [==============================] - 2s 139ms/step - loss: 0.7191 - val_loss: 0.4351\n",
      "Epoch 82/1000\n",
      "14/14 [==============================] - 2s 136ms/step - loss: 0.6747 - val_loss: 0.4356\n",
      "Epoch 83/1000\n",
      "14/14 [==============================] - 2s 144ms/step - loss: 0.7448 - val_loss: 0.4364\n",
      "Epoch 84/1000\n",
      "14/14 [==============================] - 2s 137ms/step - loss: 0.7433 - val_loss: 0.4286\n",
      "Epoch 85/1000\n",
      "14/14 [==============================] - 2s 133ms/step - loss: 0.7234 - val_loss: 0.4246\n",
      "Epoch 86/1000\n",
      "14/14 [==============================] - 2s 130ms/step - loss: 0.6777 - val_loss: 0.4264\n",
      "Epoch 87/1000\n",
      "14/14 [==============================] - 2s 124ms/step - loss: 0.6574 - val_loss: 0.4264\n",
      "Epoch 88/1000\n",
      "14/14 [==============================] - 2s 132ms/step - loss: 0.7533 - val_loss: 0.4237\n",
      "Epoch 89/1000\n",
      "14/14 [==============================] - 2s 130ms/step - loss: 0.6383 - val_loss: 0.4194\n",
      "Epoch 90/1000\n",
      "14/14 [==============================] - 2s 135ms/step - loss: 0.7050 - val_loss: 0.4158\n",
      "Epoch 91/1000\n",
      "14/14 [==============================] - ETA: 0s - loss: 0.6684\n",
      "Epoch 00091: ReduceLROnPlateau reducing learning rate to 1.0000000116860975e-08.\n",
      "14/14 [==============================] - 2s 133ms/step - loss: 0.6684 - val_loss: 0.4186\n",
      "Epoch 92/1000\n",
      "14/14 [==============================] - 2s 130ms/step - loss: 0.7050 - val_loss: 0.4187\n",
      "Epoch 93/1000\n",
      "14/14 [==============================] - 2s 127ms/step - loss: 0.7064 - val_loss: 0.4186\n",
      "Epoch 94/1000\n",
      "14/14 [==============================] - 2s 126ms/step - loss: 0.6754 - val_loss: 0.4189\n",
      "Epoch 95/1000\n",
      "14/14 [==============================] - 2s 124ms/step - loss: 0.6870 - val_loss: 0.4190\n",
      "Epoch 96/1000\n",
      "14/14 [==============================] - 2s 122ms/step - loss: 0.6973 - val_loss: 0.4190\n",
      "Epoch 97/1000\n",
      "14/14 [==============================] - 2s 124ms/step - loss: 0.6987 - val_loss: 0.4188\n",
      "Epoch 98/1000\n",
      "14/14 [==============================] - 2s 125ms/step - loss: 0.6757 - val_loss: 0.4185\n",
      "Epoch 99/1000\n",
      "14/14 [==============================] - 2s 119ms/step - loss: 0.7553 - val_loss: 0.4180\n",
      "Epoch 100/1000\n",
      "14/14 [==============================] - 2s 124ms/step - loss: 0.7256 - val_loss: 0.4179\n",
      "Epoch 101/1000\n",
      "14/14 [==============================] - 2s 124ms/step - loss: 0.6713 - val_loss: 0.4179\n",
      "Epoch 102/1000\n",
      "14/14 [==============================] - 2s 126ms/step - loss: 0.6918 - val_loss: 0.4177\n",
      "Epoch 103/1000\n",
      "14/14 [==============================] - 2s 126ms/step - loss: 0.7304 - val_loss: 0.4182\n",
      "Epoch 104/1000\n",
      "14/14 [==============================] - 2s 129ms/step - loss: 0.7252 - val_loss: 0.4180\n",
      "Epoch 105/1000\n",
      "14/14 [==============================] - 2s 124ms/step - loss: 0.7260 - val_loss: 0.4184\n",
      "Epoch 106/1000\n",
      "14/14 [==============================] - 2s 123ms/step - loss: 0.6975 - val_loss: 0.4182\n",
      "Epoch 107/1000\n",
      "14/14 [==============================] - 2s 124ms/step - loss: 0.7130 - val_loss: 0.4182\n",
      "Epoch 108/1000\n",
      "14/14 [==============================] - 2s 128ms/step - loss: 0.6955 - val_loss: 0.4186\n",
      "Epoch 109/1000\n",
      "14/14 [==============================] - 2s 135ms/step - loss: 0.6866 - val_loss: 0.4191\n",
      "Epoch 110/1000\n",
      "14/14 [==============================] - 2s 134ms/step - loss: 0.7148 - val_loss: 0.4189\n",
      "Epoch 111/1000\n",
      "14/14 [==============================] - 2s 129ms/step - loss: 0.6532 - val_loss: 0.4186\n",
      "Epoch 112/1000\n",
      "14/14 [==============================] - 2s 126ms/step - loss: 0.7131 - val_loss: 0.4187\n",
      "Epoch 113/1000\n",
      "14/14 [==============================] - 2s 140ms/step - loss: 0.6995 - val_loss: 0.4188\n",
      "Epoch 114/1000\n",
      "14/14 [==============================] - 2s 134ms/step - loss: 0.6754 - val_loss: 0.4189\n",
      "Epoch 115/1000\n",
      "14/14 [==============================] - 2s 127ms/step - loss: 0.7193 - val_loss: 0.4184\n",
      "Epoch 116/1000\n",
      "14/14 [==============================] - ETA: 0s - loss: 0.7118\n",
      "Epoch 00116: ReduceLROnPlateau reducing learning rate to 9.999999939225292e-10.\n",
      "Restoring model weights from the end of the best epoch.\n",
      "14/14 [==============================] - 2s 127ms/step - loss: 0.7118 - val_loss: 0.4183\n",
      "Epoch 00116: early stopping\n"
     ]
    }
   ],
   "source": [
    "# History object for plotting our model loss by epoch\n",
    "history4 = model4.fit(x_train12, y_train12, batch_size = BATCH4, \n",
    "                    epochs = EPOCHS4, validation_data = (x_val12, y_val12),\n",
    "                    callbacks = [rlrop4, early_stop4])"
   ]
  },
  {
   "cell_type": "code",
   "execution_count": 79,
   "metadata": {},
   "outputs": [
    {
     "data": {
      "image/png": "[encoded data removed]",
      "text/plain": [
       "<Figure size 720x504 with 1 Axes>"
      ]
     },
     "metadata": {
      "needs_background": "light"
     },
     "output_type": "display_data"
    }
   ],
   "source": [
    "# Loss History\n",
    "fig = plt.figure(figsize=(10, 7))\n",
    "plt.plot(history4.history['loss'])\n",
    "plt.plot(history4.history['val_loss'])\n",
    "plt.title('Model Loss')\n",
    "plt.ylabel('Loss')\n",
    "plt.xlabel('Epoch')\n",
    "plt.legend(['Train', 'Val'], loc='upper right')\n",
    "plt.show()"
   ]
  },
  {
   "cell_type": "markdown",
   "metadata": {},
   "source": [
    "### Previsão Multistep 12 meses em Validação\n",
    "Para ficar adequado à realidade, não podemos usar os dados de 2022 para prever 2022. Portanto, a previsão de 2022 será feita do moto *multistep*, isto é, o mês de janeiro/2022 será previsto usando-se os dados de arrecadação de janeiro a dezembro de 2021; o mês de fevereiro/2022 será previsto usando-se os dados de fevereiro a dezembro de 2021 mais a previsão feita para o mês de janeiro/2022; o mês de março/2022 será previsto usando-se os dados de março a dezembro de 2021 mais os meses de janeiro e fevereiro de 2022 previstos nos passos anteriores. E assim por diante, até que a previsão de dezembro/2022 será feita usando-se os dados de dezembro de 2021 mais as previsões de janeiro a novembro de 2022 feitas nos passos anteriores."
   ]
  },
  {
   "cell_type": "markdown",
   "metadata": {},
   "source": [
    "#### Remove os 12 últimos valores que serão previstos e cria as séries novamente"
   ]
  },
  {
   "cell_type": "code",
   "execution_count": 80,
   "metadata": {},
   "outputs": [
    {
     "name": "stdout",
     "output_type": "stream",
     "text": [
      "(156,)\n",
      "(132,)\n"
     ]
    },
    {
     "data": {
      "text/plain": [
       "pandas.core.series.Series"
      ]
     },
     "execution_count": 80,
     "metadata": {},
     "output_type": "execute_result"
    }
   ],
   "source": [
    "# remove\n",
    "serie_multi122 = l_icms_ts[:-24]\n",
    "print(l_icms_ts.shape)\n",
    "print(serie_multi122.shape)\n",
    "type(serie_multi122)"
   ]
  },
  {
   "cell_type": "code",
   "execution_count": 81,
   "metadata": {},
   "outputs": [
    {
     "name": "stdout",
     "output_type": "stream",
     "text": [
      "0 [[9.772313e+09]]\n",
      "1 [[9.771064e+09]]\n",
      "2 [[9.769741e+09]]\n",
      "3 [[9.775071e+09]]\n",
      "4 [[9.784474e+09]]\n",
      "5 [[9.793846e+09]]\n",
      "6 [[9.805715e+09]]\n",
      "7 [[9.814267e+09]]\n",
      "8 [[9.827885e+09]]\n",
      "9 [[9.839214e+09]]\n",
      "10 [[9.849635e+09]]\n",
      "11 [[9.853562e+09]]\n"
     ]
    }
   ],
   "source": [
    "for i in range(12):\n",
    "    # cria as séries\n",
    "    X_multi122, Y_multi122 = cria_features_target(serie_multi122, verbose=0)\n",
    "\n",
    "    # Faz a normalização usando o modelo fitado na normalização anterior\n",
    "    X_multi_std122 = enc_x.transform(X_multi122)\n",
    "    X_multi_std122 = X_multi_std122.reshape(X_multi_std122.shape[0],10,1)\n",
    "\n",
    "    # Faz o janelamento das séries\n",
    "    x_multi122, y_multi122 = janelamento_12_meses(X_multi_std122, Y_multi122, verbose=0)\n",
    "\n",
    "    # Faz a predição da arrecadação do mês\n",
    "    #y_pred_multi = np.mean(model.predict(x_multi[-1:]), axis=1)#[:,0].ravel()\n",
    "    y_pred_multi122 = model4.predict(x_multi122[-1:])#[:,0].ravel()\n",
    "    print(i, np.exp(y_pred_multi122))\n",
    "\n",
    "    #### Adicionar o valor previsto à série e fazer o novo janelamento\n",
    "    serie_multi122 = pd.Series(np.append(serie_multi122, y_pred_multi122))\n",
    "    type(serie_multi122)"
   ]
  },
  {
   "cell_type": "code",
   "execution_count": 82,
   "metadata": {},
   "outputs": [],
   "source": [
    "Y_pred_multi122 = np.exp(pd.Series(serie_multi122[-12:])) # tira o log das previsões\n",
    "Y_pred_multi122.index = icms_val.index"
   ]
  },
  {
   "cell_type": "code",
   "execution_count": 83,
   "metadata": {},
   "outputs": [
    {
     "data": {
      "text/plain": [
       "date\n",
       "2014-01-01    9.772313e+09\n",
       "2014-02-01    9.771065e+09\n",
       "2014-03-01    9.769742e+09\n",
       "2014-04-01    9.775072e+09\n",
       "2014-05-01    9.784474e+09\n",
       "2014-06-01    9.793847e+09\n",
       "2014-07-01    9.805716e+09\n",
       "2014-08-01    9.814267e+09\n",
       "2014-09-01    9.827885e+09\n",
       "2014-10-01    9.839214e+09\n",
       "2014-11-01    9.849635e+09\n",
       "2014-12-01    9.853562e+09\n",
       "dtype: float64"
      ]
     },
     "execution_count": 83,
     "metadata": {},
     "output_type": "execute_result"
    }
   ],
   "source": [
    "Y_pred_multi122"
   ]
  },
  {
   "cell_type": "code",
   "execution_count": 84,
   "metadata": {},
   "outputs": [
    {
     "data": {
      "text/plain": [
       "493842200.28396624"
      ]
     },
     "execution_count": 84,
     "metadata": {},
     "output_type": "execute_result"
    }
   ],
   "source": [
    "RMSE_lstm_multi122 = mean_squared_error(icms_val, Y_pred_multi122, squared=False)\n",
    "RMSE_lstm_multi122"
   ]
  },
  {
   "cell_type": "code",
   "execution_count": 85,
   "metadata": {
    "scrolled": true
   },
   "outputs": [
    {
     "data": {
      "text/plain": [
       "0.030016125821660123"
      ]
     },
     "execution_count": 85,
     "metadata": {},
     "output_type": "execute_result"
    }
   ],
   "source": [
    "MAPE_lstm_multi122 = mean_absolute_percentage_error(icms_val, Y_pred_multi122)\n",
    "MAPE_lstm_multi122"
   ]
  },
  {
   "cell_type": "code",
   "execution_count": 86,
   "metadata": {},
   "outputs": [],
   "source": [
    "previsoes['nome'].append('RNN-LSTM-12-meses-camadas')\n",
    "previsoes['modelo'].append(model4)\n",
    "previsoes['previsoes'].append(Y_pred_multi122)\n",
    "\n",
    "previsoes['rmse'].append(RMSE_lstm_multi122)\n",
    "\n",
    "previsoes['mape'].append(MAPE_lstm_multi122)"
   ]
  },
  {
   "cell_type": "code",
   "execution_count": 87,
   "metadata": {},
   "outputs": [],
   "source": [
    "previsoes['erro relativo'].append([erro_relativo(prev,real) \n",
    "                                   for prev,real in zip(Y_pred_multi122\n",
    "                                                        , icms_val)])"
   ]
  },
  {
   "cell_type": "markdown",
   "metadata": {},
   "source": [
    "## Resultados"
   ]
  },
  {
   "cell_type": "code",
   "execution_count": 88,
   "metadata": {},
   "outputs": [
    {
     "data": {
      "text/plain": [
       "['RNN-LSTM-1-mês-larga',\n",
       " 'RNN-LSTM-1-mês-camadas',\n",
       " 'RNN-LSTM-12-meses-larga',\n",
       " 'RNN-LSTM-12-meses-camadas']"
      ]
     },
     "execution_count": 88,
     "metadata": {},
     "output_type": "execute_result"
    }
   ],
   "source": [
    "previsoes['nome']"
   ]
  },
  {
   "cell_type": "code",
   "execution_count": 89,
   "metadata": {},
   "outputs": [],
   "source": [
    "df_prev = pd.DataFrame(data=previsoes['previsoes'], \n",
    "                       index=previsoes['nome']).transpose()\n",
    "df_prev[\"real\"] = icms_val\n",
    "df_rmse = pd.DataFrame(data=previsoes['rmse'], \n",
    "                       index=previsoes['nome']).transpose()\n",
    "df_mape = pd.DataFrame(data=previsoes['mape'], \n",
    "                       index=previsoes['nome']).transpose()\n",
    "df_erro = pd.DataFrame(data=previsoes['erro relativo'], \n",
    "                       index=previsoes['nome']).transpose()"
   ]
  },
  {
   "cell_type": "code",
   "execution_count": 90,
   "metadata": {},
   "outputs": [
    {
     "data": {
      "text/html": [
       "<div>\n",
       "<style scoped>\n",
       "    .dataframe tbody tr th:only-of-type {\n",
       "        vertical-align: middle;\n",
       "    }\n",
       "\n",
       "    .dataframe tbody tr th {\n",
       "        vertical-align: top;\n",
       "    }\n",
       "\n",
       "    .dataframe thead th {\n",
       "        text-align: right;\n",
       "    }\n",
       "</style>\n",
       "<table border=\"1\" class=\"dataframe\">\n",
       "  <thead>\n",
       "    <tr style=\"text-align: right;\">\n",
       "      <th></th>\n",
       "      <th>RNN-LSTM-1-mês-larga</th>\n",
       "      <th>RNN-LSTM-1-mês-camadas</th>\n",
       "      <th>RNN-LSTM-12-meses-larga</th>\n",
       "      <th>RNN-LSTM-12-meses-camadas</th>\n",
       "      <th>real</th>\n",
       "    </tr>\n",
       "    <tr>\n",
       "      <th>date</th>\n",
       "      <th></th>\n",
       "      <th></th>\n",
       "      <th></th>\n",
       "      <th></th>\n",
       "      <th></th>\n",
       "    </tr>\n",
       "  </thead>\n",
       "  <tbody>\n",
       "    <tr>\n",
       "      <th>2014-01-01</th>\n",
       "      <td>9.437514e+09</td>\n",
       "      <td>9.588236e+09</td>\n",
       "      <td>9.552003e+09</td>\n",
       "      <td>9.772313e+09</td>\n",
       "      <td>9.803278e+09</td>\n",
       "    </tr>\n",
       "    <tr>\n",
       "      <th>2014-02-01</th>\n",
       "      <td>9.388876e+09</td>\n",
       "      <td>9.585512e+09</td>\n",
       "      <td>9.548305e+09</td>\n",
       "      <td>9.771065e+09</td>\n",
       "      <td>9.687760e+09</td>\n",
       "    </tr>\n",
       "    <tr>\n",
       "      <th>2014-03-01</th>\n",
       "      <td>9.496904e+09</td>\n",
       "      <td>9.618808e+09</td>\n",
       "      <td>9.514364e+09</td>\n",
       "      <td>9.769742e+09</td>\n",
       "      <td>9.465054e+09</td>\n",
       "    </tr>\n",
       "    <tr>\n",
       "      <th>2014-04-01</th>\n",
       "      <td>9.404200e+09</td>\n",
       "      <td>9.586481e+09</td>\n",
       "      <td>9.510427e+09</td>\n",
       "      <td>9.775072e+09</td>\n",
       "      <td>9.635430e+09</td>\n",
       "    </tr>\n",
       "    <tr>\n",
       "      <th>2014-05-01</th>\n",
       "      <td>9.339669e+09</td>\n",
       "      <td>9.568834e+09</td>\n",
       "      <td>9.513529e+09</td>\n",
       "      <td>9.784474e+09</td>\n",
       "      <td>9.819079e+09</td>\n",
       "    </tr>\n",
       "    <tr>\n",
       "      <th>2014-06-01</th>\n",
       "      <td>9.315296e+09</td>\n",
       "      <td>9.566462e+09</td>\n",
       "      <td>9.519955e+09</td>\n",
       "      <td>9.793847e+09</td>\n",
       "      <td>9.677264e+09</td>\n",
       "    </tr>\n",
       "    <tr>\n",
       "      <th>2014-07-01</th>\n",
       "      <td>9.283352e+09</td>\n",
       "      <td>9.544390e+09</td>\n",
       "      <td>9.528493e+09</td>\n",
       "      <td>9.805716e+09</td>\n",
       "      <td>9.594590e+09</td>\n",
       "    </tr>\n",
       "    <tr>\n",
       "      <th>2014-08-01</th>\n",
       "      <td>9.279139e+09</td>\n",
       "      <td>9.550054e+09</td>\n",
       "      <td>9.535929e+09</td>\n",
       "      <td>9.814267e+09</td>\n",
       "      <td>9.500060e+09</td>\n",
       "    </tr>\n",
       "    <tr>\n",
       "      <th>2014-09-01</th>\n",
       "      <td>9.260662e+09</td>\n",
       "      <td>9.541387e+09</td>\n",
       "      <td>9.551456e+09</td>\n",
       "      <td>9.827885e+09</td>\n",
       "      <td>9.796970e+09</td>\n",
       "    </tr>\n",
       "    <tr>\n",
       "      <th>2014-10-01</th>\n",
       "      <td>9.249100e+09</td>\n",
       "      <td>9.538840e+09</td>\n",
       "      <td>9.565239e+09</td>\n",
       "      <td>9.839214e+09</td>\n",
       "      <td>1.063363e+10</td>\n",
       "    </tr>\n",
       "    <tr>\n",
       "      <th>2014-11-01</th>\n",
       "      <td>9.242945e+09</td>\n",
       "      <td>9.541642e+09</td>\n",
       "      <td>9.584049e+09</td>\n",
       "      <td>9.849635e+09</td>\n",
       "      <td>1.015244e+10</td>\n",
       "    </tr>\n",
       "    <tr>\n",
       "      <th>2014-12-01</th>\n",
       "      <td>9.237710e+09</td>\n",
       "      <td>9.541041e+09</td>\n",
       "      <td>9.590797e+09</td>\n",
       "      <td>9.853562e+09</td>\n",
       "      <td>1.124082e+10</td>\n",
       "    </tr>\n",
       "  </tbody>\n",
       "</table>\n",
       "</div>"
      ],
      "text/plain": [
       "            RNN-LSTM-1-mês-larga  RNN-LSTM-1-mês-camadas  \\\n",
       "date                                                       \n",
       "2014-01-01          9.437514e+09            9.588236e+09   \n",
       "2014-02-01          9.388876e+09            9.585512e+09   \n",
       "2014-03-01          9.496904e+09            9.618808e+09   \n",
       "2014-04-01          9.404200e+09            9.586481e+09   \n",
       "2014-05-01          9.339669e+09            9.568834e+09   \n",
       "2014-06-01          9.315296e+09            9.566462e+09   \n",
       "2014-07-01          9.283352e+09            9.544390e+09   \n",
       "2014-08-01          9.279139e+09            9.550054e+09   \n",
       "2014-09-01          9.260662e+09            9.541387e+09   \n",
       "2014-10-01          9.249100e+09            9.538840e+09   \n",
       "2014-11-01          9.242945e+09            9.541642e+09   \n",
       "2014-12-01          9.237710e+09            9.541041e+09   \n",
       "\n",
       "            RNN-LSTM-12-meses-larga  RNN-LSTM-12-meses-camadas          real  \n",
       "date                                                                          \n",
       "2014-01-01             9.552003e+09               9.772313e+09  9.803278e+09  \n",
       "2014-02-01             9.548305e+09               9.771065e+09  9.687760e+09  \n",
       "2014-03-01             9.514364e+09               9.769742e+09  9.465054e+09  \n",
       "2014-04-01             9.510427e+09               9.775072e+09  9.635430e+09  \n",
       "2014-05-01             9.513529e+09               9.784474e+09  9.819079e+09  \n",
       "2014-06-01             9.519955e+09               9.793847e+09  9.677264e+09  \n",
       "2014-07-01             9.528493e+09               9.805716e+09  9.594590e+09  \n",
       "2014-08-01             9.535929e+09               9.814267e+09  9.500060e+09  \n",
       "2014-09-01             9.551456e+09               9.827885e+09  9.796970e+09  \n",
       "2014-10-01             9.565239e+09               9.839214e+09  1.063363e+10  \n",
       "2014-11-01             9.584049e+09               9.849635e+09  1.015244e+10  \n",
       "2014-12-01             9.590797e+09               9.853562e+09  1.124082e+10  "
      ]
     },
     "execution_count": 90,
     "metadata": {},
     "output_type": "execute_result"
    }
   ],
   "source": [
    "df_prev"
   ]
  },
  {
   "cell_type": "code",
   "execution_count": 91,
   "metadata": {},
   "outputs": [
    {
     "data": {
      "text/html": [
       "<div>\n",
       "<style scoped>\n",
       "    .dataframe tbody tr th:only-of-type {\n",
       "        vertical-align: middle;\n",
       "    }\n",
       "\n",
       "    .dataframe tbody tr th {\n",
       "        vertical-align: top;\n",
       "    }\n",
       "\n",
       "    .dataframe thead th {\n",
       "        text-align: right;\n",
       "    }\n",
       "</style>\n",
       "<table border=\"1\" class=\"dataframe\">\n",
       "  <thead>\n",
       "    <tr style=\"text-align: right;\">\n",
       "      <th></th>\n",
       "      <th>RNN-LSTM-1-mês-larga</th>\n",
       "      <th>RNN-LSTM-1-mês-camadas</th>\n",
       "      <th>RNN-LSTM-12-meses-larga</th>\n",
       "      <th>RNN-LSTM-12-meses-camadas</th>\n",
       "    </tr>\n",
       "  </thead>\n",
       "  <tbody>\n",
       "    <tr>\n",
       "      <th>0</th>\n",
       "      <td>3.731039</td>\n",
       "      <td>2.193573</td>\n",
       "      <td>2.563176</td>\n",
       "      <td>0.315863</td>\n",
       "    </tr>\n",
       "    <tr>\n",
       "      <th>1</th>\n",
       "      <td>3.085171</td>\n",
       "      <td>1.055439</td>\n",
       "      <td>1.439496</td>\n",
       "      <td>0.859894</td>\n",
       "    </tr>\n",
       "    <tr>\n",
       "      <th>2</th>\n",
       "      <td>0.336503</td>\n",
       "      <td>1.624435</td>\n",
       "      <td>0.520968</td>\n",
       "      <td>3.219077</td>\n",
       "    </tr>\n",
       "    <tr>\n",
       "      <th>3</th>\n",
       "      <td>2.399786</td>\n",
       "      <td>0.508009</td>\n",
       "      <td>1.297323</td>\n",
       "      <td>1.449264</td>\n",
       "    </tr>\n",
       "    <tr>\n",
       "      <th>4</th>\n",
       "      <td>4.882432</td>\n",
       "      <td>2.548562</td>\n",
       "      <td>3.111799</td>\n",
       "      <td>0.352432</td>\n",
       "    </tr>\n",
       "    <tr>\n",
       "      <th>5</th>\n",
       "      <td>3.740400</td>\n",
       "      <td>1.144982</td>\n",
       "      <td>1.625557</td>\n",
       "      <td>1.204702</td>\n",
       "    </tr>\n",
       "    <tr>\n",
       "      <th>6</th>\n",
       "      <td>3.243893</td>\n",
       "      <td>0.523205</td>\n",
       "      <td>0.688897</td>\n",
       "      <td>2.200469</td>\n",
       "    </tr>\n",
       "    <tr>\n",
       "      <th>7</th>\n",
       "      <td>2.325472</td>\n",
       "      <td>0.526250</td>\n",
       "      <td>0.377571</td>\n",
       "      <td>3.307423</td>\n",
       "    </tr>\n",
       "    <tr>\n",
       "      <th>8</th>\n",
       "      <td>5.474224</td>\n",
       "      <td>2.608795</td>\n",
       "      <td>2.506016</td>\n",
       "      <td>0.315558</td>\n",
       "    </tr>\n",
       "    <tr>\n",
       "      <th>9</th>\n",
       "      <td>13.020283</td>\n",
       "      <td>10.295531</td>\n",
       "      <td>10.047267</td>\n",
       "      <td>7.470775</td>\n",
       "    </tr>\n",
       "    <tr>\n",
       "      <th>10</th>\n",
       "      <td>8.958411</td>\n",
       "      <td>6.016290</td>\n",
       "      <td>5.598586</td>\n",
       "      <td>2.982608</td>\n",
       "    </tr>\n",
       "    <tr>\n",
       "      <th>11</th>\n",
       "      <td>17.819992</td>\n",
       "      <td>15.121515</td>\n",
       "      <td>14.678883</td>\n",
       "      <td>12.341286</td>\n",
       "    </tr>\n",
       "  </tbody>\n",
       "</table>\n",
       "</div>"
      ],
      "text/plain": [
       "    RNN-LSTM-1-mês-larga  RNN-LSTM-1-mês-camadas  RNN-LSTM-12-meses-larga  \\\n",
       "0               3.731039                2.193573                 2.563176   \n",
       "1               3.085171                1.055439                 1.439496   \n",
       "2               0.336503                1.624435                 0.520968   \n",
       "3               2.399786                0.508009                 1.297323   \n",
       "4               4.882432                2.548562                 3.111799   \n",
       "5               3.740400                1.144982                 1.625557   \n",
       "6               3.243893                0.523205                 0.688897   \n",
       "7               2.325472                0.526250                 0.377571   \n",
       "8               5.474224                2.608795                 2.506016   \n",
       "9              13.020283               10.295531                10.047267   \n",
       "10              8.958411                6.016290                 5.598586   \n",
       "11             17.819992               15.121515                14.678883   \n",
       "\n",
       "    RNN-LSTM-12-meses-camadas  \n",
       "0                    0.315863  \n",
       "1                    0.859894  \n",
       "2                    3.219077  \n",
       "3                    1.449264  \n",
       "4                    0.352432  \n",
       "5                    1.204702  \n",
       "6                    2.200469  \n",
       "7                    3.307423  \n",
       "8                    0.315558  \n",
       "9                    7.470775  \n",
       "10                   2.982608  \n",
       "11                  12.341286  "
      ]
     },
     "execution_count": 91,
     "metadata": {},
     "output_type": "execute_result"
    }
   ],
   "source": [
    "df_erro"
   ]
  },
  {
   "cell_type": "markdown",
   "metadata": {},
   "source": [
    "#### Previsões"
   ]
  },
  {
   "cell_type": "code",
   "execution_count": 92,
   "metadata": {},
   "outputs": [
    {
     "data": {
      "image/png": "[encoded data removed]",
      "text/plain": [
       "<Figure size 1080x720 with 1 Axes>"
      ]
     },
     "metadata": {
      "needs_background": "light"
     },
     "output_type": "display_data"
    }
   ],
   "source": [
    "fig = plt.figure(figsize=(15, 10))\n",
    "ax = sns.lineplot(data=df_prev)"
   ]
  },
  {
   "cell_type": "markdown",
   "metadata": {},
   "source": [
    "#### RMSE"
   ]
  },
  {
   "cell_type": "code",
   "execution_count": 93,
   "metadata": {
    "scrolled": false
   },
   "outputs": [
    {
     "data": {
      "image/png": "[encoded data removed]",
      "text/plain": [
       "<Figure size 1080x720 with 1 Axes>"
      ]
     },
     "metadata": {
      "needs_background": "light"
     },
     "output_type": "display_data"
    }
   ],
   "source": [
    "fig = plt.figure(figsize=(15, 10))\n",
    "#df_rmse = df_rmse.drop(['mov_avg_12'], axis=1)\n",
    "ax = sns.barplot(data=df_rmse)\n",
    "_ = plt.xticks(rotation=45)"
   ]
  },
  {
   "cell_type": "markdown",
   "metadata": {},
   "source": [
    "#### MAPE"
   ]
  },
  {
   "cell_type": "code",
   "execution_count": 94,
   "metadata": {
    "scrolled": false
   },
   "outputs": [
    {
     "data": {
      "image/png": "[encoded data removed]",
      "text/plain": [
       "<Figure size 1080x720 with 1 Axes>"
      ]
     },
     "metadata": {
      "needs_background": "light"
     },
     "output_type": "display_data"
    }
   ],
   "source": [
    "fig = plt.figure(figsize=(15, 10))\n",
    "#df_mape = df_mape.drop(['mov_avg_12'], axis=1)\n",
    "ax = sns.barplot(data=df_mape)\n",
    "_ = plt.xticks(rotation=45)"
   ]
  },
  {
   "cell_type": "markdown",
   "metadata": {},
   "source": [
    "### Resumo das métricas"
   ]
  },
  {
   "cell_type": "code",
   "execution_count": 95,
   "metadata": {},
   "outputs": [],
   "source": [
    "df_rmse.index = ['RMSE']\n",
    "df_mape.index = ['MAPE']"
   ]
  },
  {
   "cell_type": "code",
   "execution_count": 96,
   "metadata": {},
   "outputs": [
    {
     "data": {
      "text/html": [
       "<div>\n",
       "<style scoped>\n",
       "    .dataframe tbody tr th:only-of-type {\n",
       "        vertical-align: middle;\n",
       "    }\n",
       "\n",
       "    .dataframe tbody tr th {\n",
       "        vertical-align: top;\n",
       "    }\n",
       "\n",
       "    .dataframe thead th {\n",
       "        text-align: right;\n",
       "    }\n",
       "</style>\n",
       "<table border=\"1\" class=\"dataframe\">\n",
       "  <thead>\n",
       "    <tr style=\"text-align: right;\">\n",
       "      <th></th>\n",
       "      <th>RNN-LSTM-1-mês-larga</th>\n",
       "      <th>RNN-LSTM-1-mês-camadas</th>\n",
       "      <th>RNN-LSTM-12-meses-larga</th>\n",
       "      <th>RNN-LSTM-12-meses-camadas</th>\n",
       "    </tr>\n",
       "  </thead>\n",
       "  <tbody>\n",
       "    <tr>\n",
       "      <th>RMSE</th>\n",
       "      <td>8.076883e+08</td>\n",
       "      <td>6.250918e+08</td>\n",
       "      <td>6.104507e+08</td>\n",
       "      <td>4.938422e+08</td>\n",
       "    </tr>\n",
       "    <tr>\n",
       "      <th>MAPE</th>\n",
       "      <td>5.751467e-02</td>\n",
       "      <td>3.680549e-02</td>\n",
       "      <td>3.704628e-02</td>\n",
       "      <td>3.001613e-02</td>\n",
       "    </tr>\n",
       "  </tbody>\n",
       "</table>\n",
       "</div>"
      ],
      "text/plain": [
       "      RNN-LSTM-1-mês-larga  RNN-LSTM-1-mês-camadas  RNN-LSTM-12-meses-larga  \\\n",
       "RMSE          8.076883e+08            6.250918e+08             6.104507e+08   \n",
       "MAPE          5.751467e-02            3.680549e-02             3.704628e-02   \n",
       "\n",
       "      RNN-LSTM-12-meses-camadas  \n",
       "RMSE               4.938422e+08  \n",
       "MAPE               3.001613e-02  "
      ]
     },
     "execution_count": 96,
     "metadata": {},
     "output_type": "execute_result"
    }
   ],
   "source": [
    "df_metricas = df_rmse.copy()\n",
    "df_metricas = df_metricas.append(df_mape.copy())\n",
    "df_metricas"
   ]
  }
 ],
 "metadata": {
  "kernelspec": {
   "display_name": "Python 3",
   "language": "python",
   "name": "python3"
  },
  "language_info": {
   "codemirror_mode": {
    "name": "ipython",
    "version": 3
   },
   "file_extension": ".py",
   "mimetype": "text/x-python",
   "name": "python",
   "nbconvert_exporter": "python",
   "pygments_lexer": "ipython3",
   "version": "3.6.4"
  }
 },
 "nbformat": 4,
 "nbformat_minor": 2
}
