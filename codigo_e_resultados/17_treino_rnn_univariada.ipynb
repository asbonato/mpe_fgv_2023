{
 "cells": [
  {
   "cell_type": "markdown",
   "metadata": {},
   "source": [
    "# Aplicação de Modelos de Markov e Redes Neurais LSTM na Previsão de Arrecadação do ICMS Paulista\n",
    "## Resultados 2017\n",
    "\n",
    "### Antonio Sergio Ferreira Bonato"
   ]
  },
  {
   "cell_type": "markdown",
   "metadata": {},
   "source": [
    "Atualmente, na Secretaria da Fazenda e Planejamento do Estado de São Paulo, a previsão de arrecadação do ICMS paulista é feita usando-se um modelo ARIMA com variáveis exógenas, o ARIMAX. Mas o ICMS é não linear e há várias quebras estruturais controladas com diversas *dummies*. A consequência é um modelo bastante sobreajustado, inadequado para previsões de mais longo prazo (mais do que alguns meses, muito menos para um ano). \n",
    "A proposta deste trabalho é utilizar modelos não lineares multivariados na previsão do ICMS paulista, utilizando redes neurais recorrentes LSTM (*Long Short Term Memory*) e modelos Markov-Switching, fazendo um contraponto entre estes dois modelos. E utilizar, como baseline de comparação, o modelo ARIMAX atual. \n",
    "\n",
    "**Palavras-chave**: Markov-Switching Models. Redes Neurais Recorrentes. LSTM. ICMS."
   ]
  },
  {
   "cell_type": "markdown",
   "metadata": {},
   "source": [
    "## Treinamento das Redes Neurais - Série Univariada"
   ]
  },
  {
   "cell_type": "code",
   "execution_count": 6,
   "metadata": {},
   "outputs": [],
   "source": [
    "import pandas as pd\n",
    "import numpy as np\n",
    "import seaborn as sns\n",
    "import matplotlib.pyplot as plt\n",
    "import statsmodels.tsa.stattools\n",
    "import statsmodels.tsa.x13\n",
    "import statsmodels.graphics.tsaplots\n",
    "import statsmodels.api as sm\n",
    "from statsmodels.graphics.api import qqplot\n",
    "from statsmodels.tsa.api import acf, graphics, pacf\n",
    "from statsmodels.tsa.arima.model import ARIMA\n",
    "import pickle\n",
    "from pmdarima.arima import auto_arima, nsdiffs, ndiffs\n",
    "from sklearn.metrics import mean_squared_error, mean_absolute_percentage_error\n",
    "import random\n",
    "import tensorflow as tf\n",
    "seed = 42\n",
    "random.seed(seed)\n",
    "np.random.seed(seed)\n",
    "tf.random.set_seed(seed)\n",
    "\n",
    "sns.set()\n",
    "sns.set_context(\"notebook\")\n",
    "sns.set(rc={'figure.figsize':(10,7)})"
   ]
  },
  {
   "cell_type": "code",
   "execution_count": 7,
   "metadata": {},
   "outputs": [],
   "source": [
    "import warnings\n",
    "warnings.filterwarnings('ignore')\n",
    "warnings.simplefilter('ignore')"
   ]
  },
  {
   "cell_type": "code",
   "execution_count": 8,
   "metadata": {},
   "outputs": [],
   "source": [
    "df_main_orig = pd.read_excel(\"variaveis_previsao.xlsx\", parse_dates=['date'])"
   ]
  },
  {
   "cell_type": "markdown",
   "metadata": {},
   "source": [
    "Removendo as últimas linhas que são todas NaN"
   ]
  },
  {
   "cell_type": "code",
   "execution_count": 9,
   "metadata": {},
   "outputs": [],
   "source": [
    "df_main = df_main_orig.iloc[0:180]\n",
    "datas = df_main['date']"
   ]
  },
  {
   "cell_type": "code",
   "execution_count": 10,
   "metadata": {},
   "outputs": [
    {
     "data": {
      "text/html": [
       "<div>\n",
       "<style scoped>\n",
       "    .dataframe tbody tr th:only-of-type {\n",
       "        vertical-align: middle;\n",
       "    }\n",
       "\n",
       "    .dataframe tbody tr th {\n",
       "        vertical-align: top;\n",
       "    }\n",
       "\n",
       "    .dataframe thead th {\n",
       "        text-align: right;\n",
       "    }\n",
       "</style>\n",
       "<table border=\"1\" class=\"dataframe\">\n",
       "  <thead>\n",
       "    <tr style=\"text-align: right;\">\n",
       "      <th></th>\n",
       "      <th>date</th>\n",
       "      <th>icms_sp</th>\n",
       "      <th>igp_m</th>\n",
       "      <th>dolar</th>\n",
       "      <th>ibc_br</th>\n",
       "      <th>dias_uteis</th>\n",
       "      <th>igp_m_22</th>\n",
       "      <th>dolar_22</th>\n",
       "      <th>ibc_br_22</th>\n",
       "      <th>igp_m_21</th>\n",
       "      <th>...</th>\n",
       "      <th>ibc_br_16</th>\n",
       "      <th>igp_m_15</th>\n",
       "      <th>dolar_15</th>\n",
       "      <th>ibc_br_15</th>\n",
       "      <th>igp_m_14</th>\n",
       "      <th>dolar_14</th>\n",
       "      <th>ibc_br_14</th>\n",
       "      <th>igp_m_13</th>\n",
       "      <th>dolar_13</th>\n",
       "      <th>ibc_br_13</th>\n",
       "    </tr>\n",
       "  </thead>\n",
       "  <tbody>\n",
       "    <tr>\n",
       "      <th>175</th>\n",
       "      <td>2017-08-01</td>\n",
       "      <td>1.068426e+10</td>\n",
       "      <td>644.383</td>\n",
       "      <td>3.150917</td>\n",
       "      <td>140.15</td>\n",
       "      <td>23</td>\n",
       "      <td>644.383</td>\n",
       "      <td>3.150917</td>\n",
       "      <td>140.15</td>\n",
       "      <td>644.383</td>\n",
       "      <td>...</td>\n",
       "      <td>NaN</td>\n",
       "      <td>NaN</td>\n",
       "      <td>NaN</td>\n",
       "      <td>NaN</td>\n",
       "      <td>NaN</td>\n",
       "      <td>NaN</td>\n",
       "      <td>NaN</td>\n",
       "      <td>NaN</td>\n",
       "      <td>NaN</td>\n",
       "      <td>NaN</td>\n",
       "    </tr>\n",
       "    <tr>\n",
       "      <th>176</th>\n",
       "      <td>2017-09-01</td>\n",
       "      <td>1.089186e+10</td>\n",
       "      <td>647.400</td>\n",
       "      <td>3.134790</td>\n",
       "      <td>134.85</td>\n",
       "      <td>20</td>\n",
       "      <td>647.400</td>\n",
       "      <td>3.134790</td>\n",
       "      <td>134.85</td>\n",
       "      <td>647.400</td>\n",
       "      <td>...</td>\n",
       "      <td>NaN</td>\n",
       "      <td>NaN</td>\n",
       "      <td>NaN</td>\n",
       "      <td>NaN</td>\n",
       "      <td>NaN</td>\n",
       "      <td>NaN</td>\n",
       "      <td>NaN</td>\n",
       "      <td>NaN</td>\n",
       "      <td>NaN</td>\n",
       "      <td>NaN</td>\n",
       "    </tr>\n",
       "    <tr>\n",
       "      <th>177</th>\n",
       "      <td>2017-10-01</td>\n",
       "      <td>1.101721e+10</td>\n",
       "      <td>648.672</td>\n",
       "      <td>3.191229</td>\n",
       "      <td>136.06</td>\n",
       "      <td>21</td>\n",
       "      <td>648.672</td>\n",
       "      <td>3.191229</td>\n",
       "      <td>136.06</td>\n",
       "      <td>648.672</td>\n",
       "      <td>...</td>\n",
       "      <td>NaN</td>\n",
       "      <td>NaN</td>\n",
       "      <td>NaN</td>\n",
       "      <td>NaN</td>\n",
       "      <td>NaN</td>\n",
       "      <td>NaN</td>\n",
       "      <td>NaN</td>\n",
       "      <td>NaN</td>\n",
       "      <td>NaN</td>\n",
       "      <td>NaN</td>\n",
       "    </tr>\n",
       "    <tr>\n",
       "      <th>178</th>\n",
       "      <td>2017-11-01</td>\n",
       "      <td>1.124273e+10</td>\n",
       "      <td>652.073</td>\n",
       "      <td>3.259380</td>\n",
       "      <td>135.08</td>\n",
       "      <td>20</td>\n",
       "      <td>652.073</td>\n",
       "      <td>3.259380</td>\n",
       "      <td>135.08</td>\n",
       "      <td>652.073</td>\n",
       "      <td>...</td>\n",
       "      <td>NaN</td>\n",
       "      <td>NaN</td>\n",
       "      <td>NaN</td>\n",
       "      <td>NaN</td>\n",
       "      <td>NaN</td>\n",
       "      <td>NaN</td>\n",
       "      <td>NaN</td>\n",
       "      <td>NaN</td>\n",
       "      <td>NaN</td>\n",
       "      <td>NaN</td>\n",
       "    </tr>\n",
       "    <tr>\n",
       "      <th>179</th>\n",
       "      <td>2017-12-01</td>\n",
       "      <td>1.144989e+10</td>\n",
       "      <td>657.859</td>\n",
       "      <td>3.291915</td>\n",
       "      <td>135.77</td>\n",
       "      <td>20</td>\n",
       "      <td>657.859</td>\n",
       "      <td>3.291915</td>\n",
       "      <td>135.77</td>\n",
       "      <td>657.859</td>\n",
       "      <td>...</td>\n",
       "      <td>NaN</td>\n",
       "      <td>NaN</td>\n",
       "      <td>NaN</td>\n",
       "      <td>NaN</td>\n",
       "      <td>NaN</td>\n",
       "      <td>NaN</td>\n",
       "      <td>NaN</td>\n",
       "      <td>NaN</td>\n",
       "      <td>NaN</td>\n",
       "      <td>NaN</td>\n",
       "    </tr>\n",
       "  </tbody>\n",
       "</table>\n",
       "<p>5 rows × 36 columns</p>\n",
       "</div>"
      ],
      "text/plain": [
       "          date       icms_sp    igp_m     dolar  ibc_br  dias_uteis  igp_m_22  \\\n",
       "175 2017-08-01  1.068426e+10  644.383  3.150917  140.15          23   644.383   \n",
       "176 2017-09-01  1.089186e+10  647.400  3.134790  134.85          20   647.400   \n",
       "177 2017-10-01  1.101721e+10  648.672  3.191229  136.06          21   648.672   \n",
       "178 2017-11-01  1.124273e+10  652.073  3.259380  135.08          20   652.073   \n",
       "179 2017-12-01  1.144989e+10  657.859  3.291915  135.77          20   657.859   \n",
       "\n",
       "     dolar_22  ibc_br_22  igp_m_21  ...  ibc_br_16  igp_m_15  dolar_15  \\\n",
       "175  3.150917     140.15   644.383  ...        NaN       NaN       NaN   \n",
       "176  3.134790     134.85   647.400  ...        NaN       NaN       NaN   \n",
       "177  3.191229     136.06   648.672  ...        NaN       NaN       NaN   \n",
       "178  3.259380     135.08   652.073  ...        NaN       NaN       NaN   \n",
       "179  3.291915     135.77   657.859  ...        NaN       NaN       NaN   \n",
       "\n",
       "     ibc_br_15  igp_m_14  dolar_14  ibc_br_14  igp_m_13  dolar_13  ibc_br_13  \n",
       "175        NaN       NaN       NaN        NaN       NaN       NaN        NaN  \n",
       "176        NaN       NaN       NaN        NaN       NaN       NaN        NaN  \n",
       "177        NaN       NaN       NaN        NaN       NaN       NaN        NaN  \n",
       "178        NaN       NaN       NaN        NaN       NaN       NaN        NaN  \n",
       "179        NaN       NaN       NaN        NaN       NaN       NaN        NaN  \n",
       "\n",
       "[5 rows x 36 columns]"
      ]
     },
     "execution_count": 10,
     "metadata": {},
     "output_type": "execute_result"
    }
   ],
   "source": [
    "df_main.tail()"
   ]
  },
  {
   "cell_type": "markdown",
   "metadata": {},
   "source": [
    "### Criação das Séries"
   ]
  },
  {
   "cell_type": "code",
   "execution_count": 11,
   "metadata": {},
   "outputs": [],
   "source": [
    "icms_ts = pd.Series(list(df_main['icms_sp']), index = datas)"
   ]
  },
  {
   "cell_type": "markdown",
   "metadata": {},
   "source": [
    "#### Testes de Valores Nulos"
   ]
  },
  {
   "cell_type": "code",
   "execution_count": 12,
   "metadata": {},
   "outputs": [
    {
     "name": "stdout",
     "output_type": "stream",
     "text": [
      "ICMS 0\n"
     ]
    }
   ],
   "source": [
    "print('ICMS', icms_ts.isnull().sum())"
   ]
  },
  {
   "cell_type": "code",
   "execution_count": 13,
   "metadata": {},
   "outputs": [
    {
     "data": {
      "text/plain": [
       "Series([], dtype: float64)"
      ]
     },
     "execution_count": 13,
     "metadata": {},
     "output_type": "execute_result"
    }
   ],
   "source": [
    "# listando os nulos do icms\n",
    "icms_ts[icms_ts.isnull()]"
   ]
  },
  {
   "cell_type": "code",
   "execution_count": 14,
   "metadata": {},
   "outputs": [],
   "source": [
    "# eliminando os nulos do icms\n",
    "icms_ts = icms_ts[~icms_ts.isnull()]"
   ]
  },
  {
   "cell_type": "code",
   "execution_count": 15,
   "metadata": {},
   "outputs": [
    {
     "data": {
      "text/plain": [
       "(180,)"
      ]
     },
     "execution_count": 15,
     "metadata": {},
     "output_type": "execute_result"
    }
   ],
   "source": [
    "icms_ts.shape"
   ]
  },
  {
   "cell_type": "markdown",
   "metadata": {},
   "source": [
    "### Série em Log\n",
    "Como os valores do ICMS são muito elevados a série será colocada em log."
   ]
  },
  {
   "cell_type": "code",
   "execution_count": 16,
   "metadata": {},
   "outputs": [],
   "source": [
    "l_icms_ts = pd.Series(np.log(list(df_main['icms_sp'])), index = datas)"
   ]
  },
  {
   "cell_type": "markdown",
   "metadata": {},
   "source": [
    "## Divisão em treino e teste"
   ]
  },
  {
   "cell_type": "code",
   "execution_count": 17,
   "metadata": {},
   "outputs": [],
   "source": [
    "icms_train = icms_ts[:-24]\n",
    "icms_val = icms_ts[-24:-12]\n",
    "icms_test = icms_ts[-12:]"
   ]
  },
  {
   "cell_type": "code",
   "execution_count": 18,
   "metadata": {},
   "outputs": [
    {
     "name": "stdout",
     "output_type": "stream",
     "text": [
      "##############################\n",
      " date\n",
      "2003-01-01    3.360296e+09\n",
      "2003-02-01    3.196558e+09\n",
      "2003-03-01    3.160011e+09\n",
      "2003-04-01    3.215307e+09\n",
      "2003-05-01    3.098930e+09\n",
      "                  ...     \n",
      "2015-08-01    9.864942e+09\n",
      "2015-09-01    1.051019e+10\n",
      "2015-10-01    1.056639e+10\n",
      "2015-11-01    1.029608e+10\n",
      "2015-12-01    1.109438e+10\n",
      "Length: 156, dtype: float64\n",
      "##############################\n",
      " date\n",
      "2016-01-01    1.004910e+10\n",
      "2016-02-01    1.002313e+10\n",
      "2016-03-01    1.003487e+10\n",
      "2016-04-01    9.838065e+09\n",
      "2016-05-01    9.984410e+09\n",
      "2016-06-01    9.883704e+09\n",
      "2016-07-01    9.569317e+09\n",
      "2016-08-01    1.012199e+10\n",
      "2016-09-01    1.003972e+10\n",
      "2016-10-01    1.040347e+10\n",
      "2016-11-01    1.026535e+10\n",
      "2016-12-01    1.098004e+10\n",
      "dtype: float64\n",
      "##############################\n",
      " date\n",
      "2017-01-01    1.072886e+10\n",
      "2017-02-01    9.732300e+09\n",
      "2017-03-01    1.004051e+10\n",
      "2017-04-01    1.067568e+10\n",
      "2017-05-01    1.014303e+10\n",
      "2017-06-01    1.058851e+10\n",
      "2017-07-01    1.036689e+10\n",
      "2017-08-01    1.068426e+10\n",
      "2017-09-01    1.089186e+10\n",
      "2017-10-01    1.101721e+10\n",
      "2017-11-01    1.124273e+10\n",
      "2017-12-01    1.144989e+10\n",
      "dtype: float64\n"
     ]
    }
   ],
   "source": [
    "print('#'*30+'\\n',icms_train)\n",
    "print('#'*30+'\\n',icms_val)\n",
    "print('#'*30+'\\n',icms_test)"
   ]
  },
  {
   "cell_type": "markdown",
   "metadata": {},
   "source": [
    "## Utilidades para Previsões"
   ]
  },
  {
   "cell_type": "markdown",
   "metadata": {},
   "source": [
    "Além de MAPE e MSE, será usado o erro relativo, que é \n",
    "\n",
    "$Erro Relativo = \\frac{|previsão - real|}{real}$"
   ]
  },
  {
   "cell_type": "code",
   "execution_count": 19,
   "metadata": {},
   "outputs": [],
   "source": [
    "def erro_relativo(prev, real):\n",
    "    return 100*np.absolute(prev-real)/real"
   ]
  },
  {
   "cell_type": "markdown",
   "metadata": {},
   "source": [
    "#### Dicionário de Previsões\n",
    "Será usado para armazenar todas as previsões."
   ]
  },
  {
   "cell_type": "code",
   "execution_count": 20,
   "metadata": {},
   "outputs": [],
   "source": [
    "previsoes = {\n",
    "    'nome':[],\n",
    "    'modelo': [],\n",
    "    'previsoes': [],\n",
    "    'rmse': [],\n",
    "    'mape': [],\n",
    "    'erro relativo':[]\n",
    "}"
   ]
  },
  {
   "cell_type": "markdown",
   "metadata": {},
   "source": [
    "## Modelos RNN LSTM\n",
    "Redes Neurais Recorrentes com neurônios Long Short-Term Memory"
   ]
  },
  {
   "cell_type": "markdown",
   "metadata": {},
   "source": [
    "### Montagem da Série\n",
    "As redes neurais precisam de conjuntos de características e de etiquetas separados. Neste caso, o conjunto de etiquetas é a própria série de ICMS. Para os conjunto de caraterísticas será utilizada a série do ICMS com lags 1, 2, 3, 4, 6 e 12 defasagens, e médias móveis de 2, 3, 6 e 12 meses, conforme trabalho de [Silva & Figueiredo, 2020]."
   ]
  },
  {
   "cell_type": "code",
   "execution_count": 21,
   "metadata": {},
   "outputs": [],
   "source": [
    "def cria_features_target(serie, verbose=0):\n",
    "    serie_d1 = serie.shift(1)\n",
    "    serie_d2 = serie.shift(2)\n",
    "    serie_d3 = serie.shift(3)\n",
    "    serie_d4 = serie.shift(4)\n",
    "    serie_d6 = serie.shift(6)\n",
    "    serie_d12 = serie.shift(12)\n",
    "    serie_ma2 = serie.rolling(2).mean()\n",
    "    serie_ma3 = serie.rolling(3).mean()\n",
    "    serie_ma6 = serie.rolling(6).mean()\n",
    "    serie_ma12 = serie.rolling(12).mean()\n",
    "\n",
    "    if verbose==1:\n",
    "        print(\"shape de cada uma das séries:\")\n",
    "        print(serie_d1.shape, serie_d2.shape, serie_d3.shape, serie_d4.shape, \n",
    "              serie_d6.shape, serie_d12.shape, serie_ma2.shape, serie_ma3.shape, \n",
    "              serie_ma6.shape, serie_ma12.shape)\n",
    "    X = np.array([serie_d1, serie_d2, serie_d3, serie_d4, \n",
    "     serie_d6, serie_d12, serie_ma2, serie_ma3, \n",
    "     serie_ma6, serie_ma12])\n",
    "    if verbose==1:\n",
    "        print(\"shape do array de features:\", X.shape)\n",
    "    X = X[:,12:]\n",
    "    X = X.T\n",
    "    if verbose==1:\n",
    "        print(\"shape do array de features depois da poda e da transposição:\", X.shape)\n",
    "    Y = np.array(serie[12:])\n",
    "    if verbose==1:\n",
    "        print(\"shape do array target:\", Y.shape)\n",
    "    return X, Y"
   ]
  },
  {
   "cell_type": "code",
   "execution_count": 22,
   "metadata": {},
   "outputs": [
    {
     "name": "stdout",
     "output_type": "stream",
     "text": [
      "shape de cada uma das séries:\n",
      "(180,) (180,) (180,) (180,) (180,) (180,) (180,) (180,) (180,) (180,)\n",
      "shape do array de features: (10, 180)\n",
      "shape do array de features depois da poda e da transposição: (168, 10)\n",
      "shape do array target: (168,)\n"
     ]
    }
   ],
   "source": [
    "#série completa, com sazonalidade e em nível\n",
    "#seas_icms_ts = seas_icms.seasadj\n",
    "X_data, Y_data = cria_features_target(l_icms_ts, verbose=1)"
   ]
  },
  {
   "cell_type": "code",
   "execution_count": 23,
   "metadata": {},
   "outputs": [],
   "source": [
    "#print(X_data[0])\n",
    "#print(Y_data[0])\n",
    "#print(X_data[X_data.shape[0]-1])\n",
    "#print(Y_data[X_data.shape[0]-1])"
   ]
  },
  {
   "cell_type": "markdown",
   "metadata": {},
   "source": [
    "#### Normalização dos Dados\n",
    "Serão normalizados usando-se min-max. Apenas as features, a variável target não será normalizada. Os dados serão dividos em treno, validação e teste para a normalização, de modo que o fit seja feito somente nos dados de treino, aumentando-se assim a probabilidade de generalização do modelo."
   ]
  },
  {
   "cell_type": "code",
   "execution_count": 24,
   "metadata": {},
   "outputs": [
    {
     "name": "stdout",
     "output_type": "stream",
     "text": [
      "(144, 10) (12, 10) (12, 10)\n"
     ]
    }
   ],
   "source": [
    "X_train = X_data[:-24]\n",
    "X_val = X_data[-24:-12]\n",
    "X_test = X_data[-12:]\n",
    "print(X_train.shape, X_val.shape, X_test.shape)\n",
    "#Y_train = Y_data[:-24]\n",
    "#Y_val = Y_data[-24:-12]\n",
    "#Y_test = Y_data[-12:]\n",
    "#print(Y_train.shape, Y_val.shape, Y_test.shape)"
   ]
  },
  {
   "cell_type": "code",
   "execution_count": 25,
   "metadata": {},
   "outputs": [
    {
     "name": "stdout",
     "output_type": "stream",
     "text": [
      "numéricas [0, 1, 2, 3, 4, 5, 6, 7, 8, 9]\n",
      "ColumnTransformer(transformers=[('min-max', MinMaxScaler(),\n",
      "                                 [0, 1, 2, 3, 4, 5, 6, 7, 8, 9])],\n",
      "                  verbose=True)\n",
      "[ColumnTransformer] ....... (1 of 1) Processing min-max, total=   0.0s\n",
      "(144, 10)\n",
      "(12, 10)\n",
      "(12, 10)\n"
     ]
    }
   ],
   "source": [
    "from sklearn.preprocessing import MinMaxScaler\n",
    "from sklearn.compose import ColumnTransformer\n",
    "# índice dos atributos numéricos\n",
    "num_atrib = list(range(10))\n",
    "print('numéricas', num_atrib)\n",
    "\n",
    "enc_x = ColumnTransformer([('min-max',MinMaxScaler(), num_atrib)], verbose=True)\n",
    "\n",
    "print(enc_x)\n",
    "X_train_std = enc_x.fit_transform(X_train)\n",
    "X_val_std = enc_x.transform(X_val)\n",
    "X_test_std = enc_x.transform(X_test)\n",
    "\n",
    "print(X_train_std.shape)\n",
    "print(X_val_std.shape)\n",
    "print(X_test_std.shape)\n",
    "\n",
    "#enc_y = MinMaxScaler()\n",
    "\n",
    "#print(enc_y)\n",
    "#Y_train_std = enc_y.fit_transform(Y_train.reshape(Y_train.shape[0], 1))\n",
    "#Y_val_std = enc_y.transform(Y_val.reshape(12,1))\n",
    "#Y_test_std = enc_y.transform(Y_test.reshape(12,1))\n",
    "\n",
    "#print(Y_train_std.shape)\n",
    "#print(Y_val_std.shape)\n",
    "#print(Y_test_std.shape)"
   ]
  },
  {
   "cell_type": "markdown",
   "metadata": {},
   "source": [
    "# Modelo 1 mês\n",
    "Neste modelo cada mês será previsto pelos dados do mês anterior"
   ]
  },
  {
   "cell_type": "markdown",
   "metadata": {},
   "source": [
    "#### Criando as janelas de 12 meses e reshape para LSTM. A arrecadação de cada mês será prevista pela arrecadação dos 12 meses anteriores."
   ]
  },
  {
   "cell_type": "code",
   "execution_count": 26,
   "metadata": {},
   "outputs": [
    {
     "name": "stdout",
     "output_type": "stream",
     "text": [
      "(168, 10, 1)\n"
     ]
    }
   ],
   "source": [
    "X_data_jn = np.concatenate((X_train_std, X_val_std, X_test_std), axis = 0)\n",
    "X_data_jn = X_data_jn.reshape(X_data_jn.shape[0],10,1)\n",
    "print(X_data_jn.shape)"
   ]
  },
  {
   "cell_type": "code",
   "execution_count": 27,
   "metadata": {},
   "outputs": [],
   "source": [
    "def janelamento_1_mes(X, Y, verbose=0):\n",
    "    X_exp = np.roll(X, 1, axis=0)\n",
    "    X_exp_cut = X_exp[1:,:,:]#.transpose(0,2,1)\n",
    "    Y_cut = Y[1:]\n",
    "    if verbose==1:\n",
    "        print('shape das features janeladas:', X_exp.shape)\n",
    "        print('shape das features janeladas pós poda e transposição:', X_exp_cut.shape)\n",
    "        print('shape do array target pós poda:', Y_cut.shape)\n",
    "    return X_exp_cut, Y_cut"
   ]
  },
  {
   "cell_type": "code",
   "execution_count": 28,
   "metadata": {},
   "outputs": [],
   "source": [
    "X_data_exp_cut1, Y_data_cut1 = janelamento_1_mes(X_data_jn, Y_data, verbose=0)"
   ]
  },
  {
   "cell_type": "code",
   "execution_count": 29,
   "metadata": {},
   "outputs": [
    {
     "data": {
      "text/plain": [
       "((167, 10, 1), (167,))"
      ]
     },
     "execution_count": 29,
     "metadata": {},
     "output_type": "execute_result"
    }
   ],
   "source": [
    "X_data_exp_cut1.shape, Y_data_cut1.shape"
   ]
  },
  {
   "cell_type": "code",
   "execution_count": 30,
   "metadata": {},
   "outputs": [
    {
     "data": {
      "text/plain": [
       "array([[0.16251292],\n",
       "       [0.05315468],\n",
       "       [0.03876786],\n",
       "       [0.01908615],\n",
       "       [0.00920992],\n",
       "       [0.0628423 ],\n",
       "       [0.09994771],\n",
       "       [0.06040652],\n",
       "       [0.        ],\n",
       "       [0.        ]])"
      ]
     },
     "execution_count": 30,
     "metadata": {},
     "output_type": "execute_result"
    }
   ],
   "source": [
    "X_data_exp_cut1[0]"
   ]
  },
  {
   "cell_type": "code",
   "execution_count": 31,
   "metadata": {},
   "outputs": [
    {
     "data": {
      "text/plain": [
       "21.905893928886627"
      ]
     },
     "execution_count": 31,
     "metadata": {},
     "output_type": "execute_result"
    }
   ],
   "source": [
    "Y_data_cut1[0]"
   ]
  },
  {
   "cell_type": "code",
   "execution_count": 32,
   "metadata": {},
   "outputs": [
    {
     "data": {
      "text/plain": [
       "23.16124576839385"
      ]
     },
     "execution_count": 32,
     "metadata": {},
     "output_type": "execute_result"
    }
   ],
   "source": [
    "Y_data_cut1[Y_data_cut1.shape[0]-1]"
   ]
  },
  {
   "cell_type": "code",
   "execution_count": 33,
   "metadata": {},
   "outputs": [
    {
     "data": {
      "text/plain": [
       "array([[0.98375545],\n",
       "       [0.9745044 ],\n",
       "       [0.95894597],\n",
       "       [0.93456782],\n",
       "       [0.91902303],\n",
       "       [0.92954719],\n",
       "       [1.0350314 ],\n",
       "       [1.03114326],\n",
       "       [1.03125177],\n",
       "       [1.02904772]])"
      ]
     },
     "execution_count": 33,
     "metadata": {},
     "output_type": "execute_result"
    }
   ],
   "source": [
    "X_data_exp_cut1[Y_data_cut1.shape[0]-1]"
   ]
  },
  {
   "cell_type": "markdown",
   "metadata": {},
   "source": [
    "#### Separando novamente em treino, validação e teste"
   ]
  },
  {
   "cell_type": "code",
   "execution_count": 34,
   "metadata": {},
   "outputs": [
    {
     "name": "stdout",
     "output_type": "stream",
     "text": [
      "(143, 10, 1) (12, 10, 1) (12, 10, 1)\n",
      "(143,) (12,) (12,)\n"
     ]
    }
   ],
   "source": [
    "x_train1 = X_data_exp_cut1[:-24]\n",
    "x_val1 = X_data_exp_cut1[-24:-12]\n",
    "x_test1 = X_data_exp_cut1[-12:]\n",
    "print(x_train1.shape, x_val1.shape, x_test1.shape)\n",
    "y_train1 = Y_data_cut1[:-24]\n",
    "y_val1 = Y_data_cut1[-24:-12]\n",
    "y_test1 = Y_data_cut1[-12:]\n",
    "print(y_train1.shape, y_val1.shape, y_test1.shape)"
   ]
  },
  {
   "cell_type": "markdown",
   "metadata": {},
   "source": [
    "### Criando o modelo LSTM "
   ]
  },
  {
   "cell_type": "code",
   "execution_count": 35,
   "metadata": {},
   "outputs": [],
   "source": [
    "# importando as bibliotecas do Keras\n",
    "from tensorflow.keras.models import Sequential\n",
    "from tensorflow.keras.layers import LSTM, Dense, Dropout\n",
    "from tensorflow.keras.callbacks import ReduceLROnPlateau, EarlyStopping\n",
    "from tensorflow.keras.optimizers import Adam"
   ]
  },
  {
   "cell_type": "markdown",
   "metadata": {},
   "source": [
    "## Arquitetura da Rede - Arquitetura Larga"
   ]
  },
  {
   "cell_type": "code",
   "execution_count": 36,
   "metadata": {},
   "outputs": [],
   "source": [
    "rlrop1 = ReduceLROnPlateau(monitor='val_loss', factor=0.1, patience=10, verbose=1)\n",
    "early_stop1 = EarlyStopping(monitor='val_loss', patience=100, verbose=1, \n",
    "                           restore_best_weights=True)"
   ]
  },
  {
   "cell_type": "code",
   "execution_count": 37,
   "metadata": {},
   "outputs": [],
   "source": [
    "# Épocas e tamanho do lote\n",
    "EPOCHS = 1000\n",
    "BATCH = 4\n",
    "NEURONIOS = 1200\n",
    "LR = 1e-5\n",
    "DROPOUT = 0.2\n",
    "\n",
    "# Imstanciação do modelo\n",
    "model = Sequential()\n",
    "\n",
    "# Adicionar camada LSTM \n",
    "model.add(LSTM(activation='tanh', dropout=DROPOUT,\n",
    "        input_shape = (10, 1), return_sequences = False,\n",
    "        units = NEURONIOS))\n",
    "\n",
    "# Adicionar a camada de saída com 1 neurônio linear\n",
    "model.add(Dense(\n",
    "        units = 1,\n",
    "        activation = 'linear'))\n",
    "# a learning rate padrão do Adam é 0.001\n",
    "model.compile(loss = 'mape', optimizer = Adam(learning_rate=LR))"
   ]
  },
  {
   "cell_type": "code",
   "execution_count": 38,
   "metadata": {},
   "outputs": [
    {
     "name": "stdout",
     "output_type": "stream",
     "text": [
      "Model: \"sequential\"\n",
      "_________________________________________________________________\n",
      "Layer (type)                 Output Shape              Param #   \n",
      "=================================================================\n",
      "lstm (LSTM)                  (None, 1200)              5769600   \n",
      "_________________________________________________________________\n",
      "dense (Dense)                (None, 1)                 1201      \n",
      "=================================================================\n",
      "Total params: 5,770,801\n",
      "Trainable params: 5,770,801\n",
      "Non-trainable params: 0\n",
      "_________________________________________________________________\n"
     ]
    }
   ],
   "source": [
    "model.summary()"
   ]
  },
  {
   "cell_type": "code",
   "execution_count": 39,
   "metadata": {
    "scrolled": true
   },
   "outputs": [
    {
     "name": "stdout",
     "output_type": "stream",
     "text": [
      "Epoch 1/1000\n",
      "36/36 [==============================] - 4s 125ms/step - loss: 99.8132 - val_loss: 99.1202\n",
      "Epoch 2/1000\n",
      "36/36 [==============================] - 4s 102ms/step - loss: 99.0439 - val_loss: 97.5796\n",
      "Epoch 3/1000\n",
      "36/36 [==============================] - 4s 104ms/step - loss: 97.5510 - val_loss: 94.0987\n",
      "Epoch 4/1000\n",
      "36/36 [==============================] - 4s 108ms/step - loss: 93.4241 - val_loss: 80.2963\n",
      "Epoch 5/1000\n",
      "36/36 [==============================] - 4s 114ms/step - loss: 70.4266 - val_loss: 4.6432\n",
      "Epoch 6/1000\n",
      "36/36 [==============================] - 4s 122ms/step - loss: 26.1488 - val_loss: 13.2959\n",
      "Epoch 7/1000\n",
      "36/36 [==============================] - 4s 123ms/step - loss: 12.1172 - val_loss: 0.8887\n",
      "Epoch 8/1000\n",
      "36/36 [==============================] - 4s 121ms/step - loss: 4.2871 - val_loss: 0.1203\n",
      "Epoch 9/1000\n",
      "36/36 [==============================] - 5s 129ms/step - loss: 2.0737 - val_loss: 0.1843\n",
      "Epoch 10/1000\n",
      "36/36 [==============================] - 6s 166ms/step - loss: 1.5674 - val_loss: 1.7395\n",
      "Epoch 11/1000\n",
      "36/36 [==============================] - 8s 213ms/step - loss: 1.3402 - val_loss: 0.6565\n",
      "Epoch 12/1000\n",
      "36/36 [==============================] - 7s 204ms/step - loss: 1.1944 - val_loss: 1.0864\n",
      "Epoch 13/1000\n",
      "36/36 [==============================] - 7s 205ms/step - loss: 1.1861 - val_loss: 0.8798\n",
      "Epoch 14/1000\n",
      "36/36 [==============================] - 8s 210ms/step - loss: 1.1445 - val_loss: 0.4539\n",
      "Epoch 15/1000\n",
      "36/36 [==============================] - 7s 208ms/step - loss: 1.1251 - val_loss: 0.5430\n",
      "Epoch 16/1000\n",
      "36/36 [==============================] - 7s 200ms/step - loss: 1.0409 - val_loss: 1.1260\n",
      "Epoch 17/1000\n",
      "36/36 [==============================] - 7s 205ms/step - loss: 1.0331 - val_loss: 0.4814\n",
      "Epoch 18/1000\n",
      "36/36 [==============================] - ETA: 0s - loss: 0.9119\n",
      "Epoch 00018: ReduceLROnPlateau reducing learning rate to 9.999999747378752e-07.\n",
      "36/36 [==============================] - 7s 205ms/step - loss: 0.9119 - val_loss: 0.9799\n",
      "Epoch 19/1000\n",
      "36/36 [==============================] - 7s 201ms/step - loss: 1.0273 - val_loss: 0.8523\n",
      "Epoch 20/1000\n",
      "36/36 [==============================] - 7s 206ms/step - loss: 0.9650 - val_loss: 0.7558\n",
      "Epoch 21/1000\n",
      "36/36 [==============================] - 7s 197ms/step - loss: 0.8811 - val_loss: 0.8126\n",
      "Epoch 22/1000\n",
      "36/36 [==============================] - 7s 203ms/step - loss: 0.9718 - val_loss: 0.7731\n",
      "Epoch 23/1000\n",
      "36/36 [==============================] - 7s 205ms/step - loss: 1.0739 - val_loss: 0.6615\n",
      "Epoch 24/1000\n",
      "36/36 [==============================] - 7s 200ms/step - loss: 0.8687 - val_loss: 0.8105\n",
      "Epoch 25/1000\n",
      "36/36 [==============================] - 7s 197ms/step - loss: 0.8494 - val_loss: 0.7815\n",
      "Epoch 26/1000\n",
      "36/36 [==============================] - 7s 201ms/step - loss: 0.9710 - val_loss: 0.7175\n",
      "Epoch 27/1000\n",
      "36/36 [==============================] - 7s 203ms/step - loss: 0.8870 - val_loss: 0.6839\n",
      "Epoch 28/1000\n",
      "36/36 [==============================] - ETA: 0s - loss: 0.9506\n",
      "Epoch 00028: ReduceLROnPlateau reducing learning rate to 9.999999974752428e-08.\n",
      "36/36 [==============================] - 7s 203ms/step - loss: 0.9506 - val_loss: 0.8307\n",
      "Epoch 29/1000\n",
      "36/36 [==============================] - 7s 200ms/step - loss: 1.0158 - val_loss: 0.8274\n",
      "Epoch 30/1000\n",
      "36/36 [==============================] - 7s 201ms/step - loss: 0.9047 - val_loss: 0.8282\n",
      "Epoch 31/1000\n",
      "36/36 [==============================] - 7s 202ms/step - loss: 0.9659 - val_loss: 0.8225\n",
      "Epoch 32/1000\n",
      "36/36 [==============================] - 7s 202ms/step - loss: 0.9385 - val_loss: 0.8277\n",
      "Epoch 33/1000\n",
      "36/36 [==============================] - 7s 201ms/step - loss: 0.8840 - val_loss: 0.8368\n",
      "Epoch 34/1000\n",
      "36/36 [==============================] - 7s 206ms/step - loss: 0.9807 - val_loss: 0.8155\n",
      "Epoch 35/1000\n",
      "36/36 [==============================] - 7s 201ms/step - loss: 0.8882 - val_loss: 0.8187\n",
      "Epoch 36/1000\n",
      "36/36 [==============================] - 7s 203ms/step - loss: 0.9686 - val_loss: 0.8041\n",
      "Epoch 37/1000\n",
      "36/36 [==============================] - 7s 198ms/step - loss: 0.9612 - val_loss: 0.7935\n",
      "Epoch 38/1000\n",
      "36/36 [==============================] - ETA: 0s - loss: 0.8402\n",
      "Epoch 00038: ReduceLROnPlateau reducing learning rate to 1.0000000116860975e-08.\n",
      "36/36 [==============================] - 7s 208ms/step - loss: 0.8402 - val_loss: 0.7923\n",
      "Epoch 39/1000\n",
      "36/36 [==============================] - 7s 201ms/step - loss: 0.8448 - val_loss: 0.7912\n",
      "Epoch 40/1000\n",
      "36/36 [==============================] - 7s 204ms/step - loss: 0.9157 - val_loss: 0.7905\n",
      "Epoch 41/1000\n",
      "36/36 [==============================] - 7s 206ms/step - loss: 0.8673 - val_loss: 0.7911\n",
      "Epoch 42/1000\n",
      "36/36 [==============================] - 7s 206ms/step - loss: 0.9030 - val_loss: 0.7909\n",
      "Epoch 43/1000\n",
      "36/36 [==============================] - 7s 204ms/step - loss: 0.9940 - val_loss: 0.7904\n",
      "Epoch 44/1000\n",
      "36/36 [==============================] - 7s 204ms/step - loss: 0.9408 - val_loss: 0.7890\n",
      "Epoch 45/1000\n",
      "36/36 [==============================] - 7s 203ms/step - loss: 0.9476 - val_loss: 0.7888\n",
      "Epoch 46/1000\n",
      "36/36 [==============================] - 7s 206ms/step - loss: 0.9759 - val_loss: 0.7886\n",
      "Epoch 47/1000\n",
      "36/36 [==============================] - 7s 203ms/step - loss: 0.9557 - val_loss: 0.7889\n",
      "Epoch 48/1000\n",
      "36/36 [==============================] - ETA: 0s - loss: 0.8619\n",
      "Epoch 00048: ReduceLROnPlateau reducing learning rate to 9.999999939225292e-10.\n",
      "36/36 [==============================] - 7s 207ms/step - loss: 0.8619 - val_loss: 0.7890\n",
      "Epoch 49/1000\n",
      "36/36 [==============================] - 7s 206ms/step - loss: 0.8149 - val_loss: 0.7891\n",
      "Epoch 50/1000\n",
      "36/36 [==============================] - 7s 202ms/step - loss: 0.9280 - val_loss: 0.7891\n",
      "Epoch 51/1000\n",
      "36/36 [==============================] - 7s 208ms/step - loss: 1.0204 - val_loss: 0.7890\n",
      "Epoch 52/1000\n",
      "36/36 [==============================] - 7s 205ms/step - loss: 1.0064 - val_loss: 0.7890\n",
      "Epoch 53/1000\n",
      "36/36 [==============================] - 7s 207ms/step - loss: 0.9389 - val_loss: 0.7890\n",
      "Epoch 54/1000\n",
      "36/36 [==============================] - 8s 209ms/step - loss: 0.8287 - val_loss: 0.7890\n",
      "Epoch 55/1000\n",
      "36/36 [==============================] - 7s 208ms/step - loss: 0.8969 - val_loss: 0.7890\n",
      "Epoch 56/1000\n",
      "36/36 [==============================] - 7s 201ms/step - loss: 0.9178 - val_loss: 0.7890\n",
      "Epoch 57/1000\n",
      "36/36 [==============================] - 7s 203ms/step - loss: 0.9020 - val_loss: 0.7890\n",
      "Epoch 58/1000\n",
      "36/36 [==============================] - ETA: 0s - loss: 0.9372\n",
      "Epoch 00058: ReduceLROnPlateau reducing learning rate to 9.999999717180686e-11.\n",
      "36/36 [==============================] - 7s 203ms/step - loss: 0.9372 - val_loss: 0.7889\n",
      "Epoch 59/1000\n",
      "36/36 [==============================] - 8s 209ms/step - loss: 0.8903 - val_loss: 0.7889\n",
      "Epoch 60/1000\n",
      "36/36 [==============================] - 7s 199ms/step - loss: 0.8955 - val_loss: 0.7889\n",
      "Epoch 61/1000\n",
      "36/36 [==============================] - 7s 205ms/step - loss: 0.8748 - val_loss: 0.7889\n",
      "Epoch 62/1000\n",
      "36/36 [==============================] - 7s 198ms/step - loss: 0.9324 - val_loss: 0.7889\n",
      "Epoch 63/1000\n",
      "36/36 [==============================] - 7s 205ms/step - loss: 0.8831 - val_loss: 0.7889\n",
      "Epoch 64/1000\n",
      "36/36 [==============================] - 7s 197ms/step - loss: 0.8754 - val_loss: 0.7889\n",
      "Epoch 65/1000\n",
      "36/36 [==============================] - 7s 203ms/step - loss: 0.9125 - val_loss: 0.7889\n",
      "Epoch 66/1000\n",
      "36/36 [==============================] - 7s 200ms/step - loss: 0.8935 - val_loss: 0.7889\n",
      "Epoch 67/1000\n",
      "36/36 [==============================] - 7s 204ms/step - loss: 0.8829 - val_loss: 0.7889\n",
      "Epoch 68/1000\n",
      "36/36 [==============================] - ETA: 0s - loss: 0.9105\n",
      "Epoch 00068: ReduceLROnPlateau reducing learning rate to 9.99999943962493e-12.\n",
      "36/36 [==============================] - 7s 206ms/step - loss: 0.9105 - val_loss: 0.7889\n",
      "Epoch 69/1000\n",
      "36/36 [==============================] - 7s 204ms/step - loss: 0.9575 - val_loss: 0.7889\n",
      "Epoch 70/1000\n",
      "36/36 [==============================] - 7s 206ms/step - loss: 0.9470 - val_loss: 0.7889\n",
      "Epoch 71/1000\n",
      "36/36 [==============================] - 8s 211ms/step - loss: 0.8624 - val_loss: 0.7889\n",
      "Epoch 72/1000\n"
     ]
    },
    {
     "name": "stdout",
     "output_type": "stream",
     "text": [
      "36/36 [==============================] - 7s 203ms/step - loss: 0.9137 - val_loss: 0.7889\n",
      "Epoch 73/1000\n",
      "36/36 [==============================] - 7s 204ms/step - loss: 0.8532 - val_loss: 0.7889\n",
      "Epoch 74/1000\n",
      "36/36 [==============================] - 7s 202ms/step - loss: 0.9053 - val_loss: 0.7889\n",
      "Epoch 75/1000\n",
      "36/36 [==============================] - 7s 200ms/step - loss: 0.9385 - val_loss: 0.7889\n",
      "Epoch 76/1000\n",
      "36/36 [==============================] - 7s 206ms/step - loss: 0.9213 - val_loss: 0.7889\n",
      "Epoch 77/1000\n",
      "36/36 [==============================] - 7s 203ms/step - loss: 0.8043 - val_loss: 0.7889\n",
      "Epoch 78/1000\n",
      "36/36 [==============================] - ETA: 0s - loss: 0.9822\n",
      "Epoch 00078: ReduceLROnPlateau reducing learning rate to 9.999999092680235e-13.\n",
      "36/36 [==============================] - 8s 211ms/step - loss: 0.9822 - val_loss: 0.7889\n",
      "Epoch 79/1000\n",
      "36/36 [==============================] - 7s 208ms/step - loss: 1.0411 - val_loss: 0.7889\n",
      "Epoch 80/1000\n",
      "36/36 [==============================] - 8s 209ms/step - loss: 0.8672 - val_loss: 0.7889\n",
      "Epoch 81/1000\n",
      "36/36 [==============================] - 7s 205ms/step - loss: 0.9033 - val_loss: 0.7889\n",
      "Epoch 82/1000\n",
      "36/36 [==============================] - 5s 134ms/step - loss: 0.8434 - val_loss: 0.7889\n",
      "Epoch 83/1000\n",
      "36/36 [==============================] - 4s 122ms/step - loss: 0.8824 - val_loss: 0.7889\n",
      "Epoch 84/1000\n",
      "36/36 [==============================] - 7s 182ms/step - loss: 0.9450 - val_loss: 0.7889\n",
      "Epoch 85/1000\n",
      "36/36 [==============================] - 7s 193ms/step - loss: 0.9375 - val_loss: 0.7889\n",
      "Epoch 86/1000\n",
      "36/36 [==============================] - 7s 191ms/step - loss: 0.8581 - val_loss: 0.7889\n",
      "Epoch 87/1000\n",
      "36/36 [==============================] - 7s 192ms/step - loss: 0.9098 - val_loss: 0.7889\n",
      "Epoch 88/1000\n",
      "36/36 [==============================] - ETA: 0s - loss: 0.9829\n",
      "Epoch 00088: ReduceLROnPlateau reducing learning rate to 9.9999988758398e-14.\n",
      "36/36 [==============================] - 7s 192ms/step - loss: 0.9829 - val_loss: 0.7889\n",
      "Epoch 89/1000\n",
      "36/36 [==============================] - 7s 194ms/step - loss: 0.8826 - val_loss: 0.7889\n",
      "Epoch 90/1000\n",
      "36/36 [==============================] - 7s 196ms/step - loss: 0.9458 - val_loss: 0.7889\n",
      "Epoch 91/1000\n",
      "36/36 [==============================] - 7s 189ms/step - loss: 0.9292 - val_loss: 0.7889\n",
      "Epoch 92/1000\n",
      "36/36 [==============================] - 7s 195ms/step - loss: 0.9909 - val_loss: 0.7889\n",
      "Epoch 93/1000\n",
      "36/36 [==============================] - 7s 196ms/step - loss: 0.9301 - val_loss: 0.7889\n",
      "Epoch 94/1000\n",
      "36/36 [==============================] - 7s 191ms/step - loss: 0.9158 - val_loss: 0.7889\n",
      "Epoch 95/1000\n",
      "36/36 [==============================] - 7s 198ms/step - loss: 0.8501 - val_loss: 0.7889\n",
      "Epoch 96/1000\n",
      "36/36 [==============================] - 7s 195ms/step - loss: 0.9304 - val_loss: 0.7889\n",
      "Epoch 97/1000\n",
      "36/36 [==============================] - 7s 193ms/step - loss: 0.9735 - val_loss: 0.7889\n",
      "Epoch 98/1000\n",
      "36/36 [==============================] - ETA: 0s - loss: 0.9085\n",
      "Epoch 00098: ReduceLROnPlateau reducing learning rate to 9.999999146890344e-15.\n",
      "36/36 [==============================] - 7s 189ms/step - loss: 0.9085 - val_loss: 0.7889\n",
      "Epoch 99/1000\n",
      "36/36 [==============================] - 7s 198ms/step - loss: 0.9398 - val_loss: 0.7889\n",
      "Epoch 100/1000\n",
      "36/36 [==============================] - 7s 193ms/step - loss: 0.9119 - val_loss: 0.7889\n",
      "Epoch 101/1000\n",
      "36/36 [==============================] - 7s 192ms/step - loss: 0.8500 - val_loss: 0.7889\n",
      "Epoch 102/1000\n",
      "36/36 [==============================] - 6s 169ms/step - loss: 1.0365 - val_loss: 0.7889\n",
      "Epoch 103/1000\n",
      "36/36 [==============================] - 4s 123ms/step - loss: 0.9415 - val_loss: 0.7889\n",
      "Epoch 104/1000\n",
      "36/36 [==============================] - 4s 114ms/step - loss: 0.9515 - val_loss: 0.7889\n",
      "Epoch 105/1000\n",
      "36/36 [==============================] - 4s 113ms/step - loss: 0.9619 - val_loss: 0.7889\n",
      "Epoch 106/1000\n",
      "36/36 [==============================] - 4s 111ms/step - loss: 0.8918 - val_loss: 0.7889\n",
      "Epoch 107/1000\n",
      "36/36 [==============================] - 4s 112ms/step - loss: 0.8999 - val_loss: 0.7889\n",
      "Epoch 108/1000\n",
      "36/36 [==============================] - ETA: 0s - loss: 0.8414\n",
      "Epoch 00108: ReduceLROnPlateau reducing learning rate to 9.999998977483753e-16.\n",
      "Restoring model weights from the end of the best epoch.\n",
      "36/36 [==============================] - 4s 110ms/step - loss: 0.8414 - val_loss: 0.7889\n",
      "Epoch 00108: early stopping\n"
     ]
    }
   ],
   "source": [
    "# History object for plotting our model loss by epoch\n",
    "history1 = model.fit(x_train1, y_train1, batch_size = BATCH, \n",
    "                    epochs = EPOCHS, validation_data = (x_val1, y_val1),\n",
    "                    callbacks = [rlrop1, early_stop1])"
   ]
  },
  {
   "cell_type": "code",
   "execution_count": 40,
   "metadata": {},
   "outputs": [
    {
     "data": {
      "image/png": "[encoded data removed]",
      "text/plain": [
       "<Figure size 720x504 with 1 Axes>"
      ]
     },
     "metadata": {},
     "output_type": "display_data"
    }
   ],
   "source": [
    "# Loss History\n",
    "fig = plt.figure(figsize=(10, 7))\n",
    "plt.plot(history1.history['loss'])\n",
    "plt.plot(history1.history['val_loss'])\n",
    "plt.title('Model Loss')\n",
    "plt.ylabel('Loss')\n",
    "plt.xlabel('Epoch')\n",
    "plt.legend(['Train', 'Val'], loc='upper right')\n",
    "plt.show()"
   ]
  },
  {
   "cell_type": "markdown",
   "metadata": {},
   "source": [
    "### Previsão Multistep 12 meses em Validação\n",
    "Para ficar adequado à realidade, não podemos usar os dados de 2022 para prever 2022. Portanto, a previsão de 2022 será feita do moto *multistep*, isto é, o mês de janeiro/2022 será previsto usando-se os dados de arrecadação de janeiro a dezembro de 2021; o mês de fevereiro/2022 será previsto usando-se os dados de fevereiro a dezembro de 2021 mais a previsão feita para o mês de janeiro/2022; o mês de março/2022 será previsto usando-se os dados de março a dezembro de 2021 mais os meses de janeiro e fevereiro de 2022 previstos nos passos anteriores. E assim por diante, até que a previsão de dezembro/2022 será feita usando-se os dados de dezembro de 2021 mais as previsões de janeiro a novembro de 2022 feitas nos passos anteriores."
   ]
  },
  {
   "cell_type": "markdown",
   "metadata": {},
   "source": [
    "#### Remove os 12 últimos valores que serão previstos e cria as séries novamente"
   ]
  },
  {
   "cell_type": "code",
   "execution_count": 41,
   "metadata": {},
   "outputs": [
    {
     "name": "stdout",
     "output_type": "stream",
     "text": [
      "(180,)\n",
      "(156,)\n"
     ]
    }
   ],
   "source": [
    "# remove\n",
    "serie_multi1 = l_icms_ts[:-24]\n",
    "print(l_icms_ts.shape)\n",
    "print(serie_multi1.shape)"
   ]
  },
  {
   "cell_type": "code",
   "execution_count": 42,
   "metadata": {},
   "outputs": [
    {
     "name": "stdout",
     "output_type": "stream",
     "text": [
      "0 [[9.89494e+09]]\n",
      "1 [[9.876065e+09]]\n",
      "2 [[9.911146e+09]]\n",
      "3 [[9.891354e+09]]\n",
      "4 [[9.874238e+09]]\n",
      "5 [[9.862136e+09]]\n",
      "6 [[9.865729e+09]]\n",
      "7 [[9.860236e+09]]\n",
      "8 [[9.863697e+09]]\n",
      "9 [[9.866425e+09]]\n",
      "10 [[9.861778e+09]]\n",
      "11 [[9.861797e+09]]\n"
     ]
    }
   ],
   "source": [
    "for i in range(12):\n",
    "    # cria as séries\n",
    "    X_multi1, Y_multi1 = cria_features_target(serie_multi1, verbose=0)\n",
    "\n",
    "    # Faz a normalização usando o modelo fitado na normalização anterior\n",
    "    X_multi_std1 = enc_x.transform(X_multi1)\n",
    "    X_multi_std1 = X_multi_std1.reshape(X_multi_std1.shape[0],10,1)\n",
    "\n",
    "    # Faz o janelamento das séries\n",
    "    x_multi1, y_multi1 = janelamento_1_mes(X_multi_std1, Y_multi1, verbose=0)\n",
    "\n",
    "    # Faz a predição da arrecadação do mês\n",
    "    #y_pred_multi = np.mean(model.predict(x_multi[-1:]), axis=1)#[:,0].ravel()\n",
    "    y_pred_multi1 = model.predict(x_multi1[-1:])#[:,0].ravel()\n",
    "    print(i, np.exp(y_pred_multi1))\n",
    "\n",
    "    #### Adicionar o valor previsto à série e fazer o novo janelamento\n",
    "    serie_multi1 = pd.Series(np.append(serie_multi1, y_pred_multi1))"
   ]
  },
  {
   "cell_type": "code",
   "execution_count": 43,
   "metadata": {},
   "outputs": [],
   "source": [
    "Y_pred_multi1 = np.exp(pd.Series(serie_multi1[-12:]))\n",
    "Y_pred_multi1.index = icms_val.index"
   ]
  },
  {
   "cell_type": "code",
   "execution_count": 44,
   "metadata": {},
   "outputs": [
    {
     "data": {
      "text/plain": [
       "date\n",
       "2016-01-01    9.894940e+09\n",
       "2016-02-01    9.876066e+09\n",
       "2016-03-01    9.911146e+09\n",
       "2016-04-01    9.891354e+09\n",
       "2016-05-01    9.874239e+09\n",
       "2016-06-01    9.862136e+09\n",
       "2016-07-01    9.865729e+09\n",
       "2016-08-01    9.860236e+09\n",
       "2016-09-01    9.863697e+09\n",
       "2016-10-01    9.866426e+09\n",
       "2016-11-01    9.861779e+09\n",
       "2016-12-01    9.861797e+09\n",
       "dtype: float64"
      ]
     },
     "execution_count": 44,
     "metadata": {},
     "output_type": "execute_result"
    }
   ],
   "source": [
    "Y_pred_multi1"
   ]
  },
  {
   "cell_type": "code",
   "execution_count": 45,
   "metadata": {},
   "outputs": [
    {
     "data": {
      "text/plain": [
       "404686068.51461655"
      ]
     },
     "execution_count": 45,
     "metadata": {},
     "output_type": "execute_result"
    }
   ],
   "source": [
    "RMSE_lstm_multi1 = mean_squared_error(icms_val, Y_pred_multi1, squared=False)\n",
    "RMSE_lstm_multi1"
   ]
  },
  {
   "cell_type": "code",
   "execution_count": 46,
   "metadata": {},
   "outputs": [
    {
     "data": {
      "text/plain": [
       "0.027343472409391428"
      ]
     },
     "execution_count": 46,
     "metadata": {},
     "output_type": "execute_result"
    }
   ],
   "source": [
    "MAPE_lstm_multi1 = mean_absolute_percentage_error(icms_val, Y_pred_multi1)\n",
    "MAPE_lstm_multi1"
   ]
  },
  {
   "cell_type": "code",
   "execution_count": 47,
   "metadata": {},
   "outputs": [],
   "source": [
    "previsoes['nome'].append('RNN-LSTM-1-mês-larga')\n",
    "previsoes['modelo'].append(model)\n",
    "previsoes['previsoes'].append(Y_pred_multi1)\n",
    "\n",
    "previsoes['rmse'].append(RMSE_lstm_multi1)\n",
    "\n",
    "previsoes['mape'].append(MAPE_lstm_multi1)\n",
    "\n",
    "previsoes['erro relativo'].append([erro_relativo(prev,real) \n",
    "                                   for prev,real in zip(Y_pred_multi1\n",
    "                                                        , icms_val)])"
   ]
  },
  {
   "cell_type": "markdown",
   "metadata": {},
   "source": [
    "## Arquitetura da Rede - Arquitetura Multicamada"
   ]
  },
  {
   "cell_type": "code",
   "execution_count": 48,
   "metadata": {},
   "outputs": [],
   "source": [
    "rlrop3 = ReduceLROnPlateau(monitor='val_loss', factor=0.1, patience=25, verbose=1)\n",
    "early_stop3 = EarlyStopping(monitor='val_loss', patience=100, verbose=1, \n",
    "                           restore_best_weights=True)"
   ]
  },
  {
   "cell_type": "code",
   "execution_count": 49,
   "metadata": {},
   "outputs": [],
   "source": [
    "# Épocas e tamanho do lote\n",
    "EPOCHS3 = 1000\n",
    "BATCH3 = 8\n",
    "NEURONIOS3 = 600\n",
    "LR3 = 1e-5\n",
    "DROPOUT3 = 0.25\n",
    "\n",
    "# Imstanciação do modelo\n",
    "model3 = Sequential()\n",
    "\n",
    "# Adicionar camada LSTM \n",
    "model3.add(LSTM(activation='tanh', dropout=DROPOUT3,\n",
    "        input_shape = (10, 1), return_sequences = True,\n",
    "        units = NEURONIOS3))\n",
    "\n",
    "# Adicionar camada LSTM \n",
    "model3.add(LSTM(activation='tanh', dropout=DROPOUT3,\n",
    "        input_shape = (10, 1), return_sequences = True,\n",
    "        units = NEURONIOS3))\n",
    "\n",
    "# Adicionar camada LSTM \n",
    "model3.add(LSTM(activation='tanh', dropout=DROPOUT3,\n",
    "        input_shape = (10, 1), return_sequences = False,\n",
    "        units = NEURONIOS3))\n",
    "\n",
    "\n",
    "# Adicionar a camada de saída com 1 neurônio linear\n",
    "model3.add(Dense(\n",
    "        units = 1,\n",
    "        activation = 'linear'))\n",
    "# a learning rate padrão do Adam é 0.001\n",
    "model3.compile(loss = 'mape', optimizer = Adam(learning_rate=LR3))"
   ]
  },
  {
   "cell_type": "code",
   "execution_count": 50,
   "metadata": {},
   "outputs": [
    {
     "name": "stdout",
     "output_type": "stream",
     "text": [
      "Model: \"sequential_1\"\n",
      "_________________________________________________________________\n",
      "Layer (type)                 Output Shape              Param #   \n",
      "=================================================================\n",
      "lstm_1 (LSTM)                (None, 10, 600)           1444800   \n",
      "_________________________________________________________________\n",
      "lstm_2 (LSTM)                (None, 10, 600)           2882400   \n",
      "_________________________________________________________________\n",
      "lstm_3 (LSTM)                (None, 600)               2882400   \n",
      "_________________________________________________________________\n",
      "dense_1 (Dense)              (None, 1)                 601       \n",
      "=================================================================\n",
      "Total params: 7,210,201\n",
      "Trainable params: 7,210,201\n",
      "Non-trainable params: 0\n",
      "_________________________________________________________________\n"
     ]
    }
   ],
   "source": [
    "model3.summary()"
   ]
  },
  {
   "cell_type": "code",
   "execution_count": 51,
   "metadata": {
    "scrolled": true
   },
   "outputs": [
    {
     "name": "stdout",
     "output_type": "stream",
     "text": [
      "Epoch 1/1000\n",
      "18/18 [==============================] - 2s 138ms/step - loss: 99.8898 - val_loss: 99.6065\n",
      "Epoch 2/1000\n",
      "18/18 [==============================] - 2s 94ms/step - loss: 99.6142 - val_loss: 99.1099\n",
      "Epoch 3/1000\n",
      "18/18 [==============================] - 2s 97ms/step - loss: 99.2048 - val_loss: 98.3385\n",
      "Epoch 4/1000\n",
      "18/18 [==============================] - 2s 105ms/step - loss: 98.5723 - val_loss: 96.9427\n",
      "Epoch 5/1000\n",
      "18/18 [==============================] - 2s 97ms/step - loss: 97.2323 - val_loss: 93.9995\n",
      "Epoch 6/1000\n",
      "18/18 [==============================] - 2s 100ms/step - loss: 94.1953 - val_loss: 87.0342\n",
      "Epoch 7/1000\n",
      "18/18 [==============================] - 2s 103ms/step - loss: 87.7046 - val_loss: 68.4088\n",
      "Epoch 8/1000\n",
      "18/18 [==============================] - 2s 102ms/step - loss: 71.3733 - val_loss: 28.7650\n",
      "Epoch 9/1000\n",
      "18/18 [==============================] - 2s 107ms/step - loss: 38.5169 - val_loss: 6.3314\n",
      "Epoch 10/1000\n",
      "18/18 [==============================] - 2s 103ms/step - loss: 20.4471 - val_loss: 11.7403\n",
      "Epoch 11/1000\n",
      "18/18 [==============================] - 2s 100ms/step - loss: 14.6156 - val_loss: 8.3394\n",
      "Epoch 12/1000\n",
      "18/18 [==============================] - 2s 100ms/step - loss: 8.8082 - val_loss: 3.8000\n",
      "Epoch 13/1000\n",
      "18/18 [==============================] - 2s 102ms/step - loss: 6.3483 - val_loss: 1.6254\n",
      "Epoch 14/1000\n",
      "18/18 [==============================] - 2s 101ms/step - loss: 4.7966 - val_loss: 0.4774\n",
      "Epoch 15/1000\n",
      "18/18 [==============================] - 2s 101ms/step - loss: 3.2427 - val_loss: 0.4979\n",
      "Epoch 16/1000\n",
      "18/18 [==============================] - 2s 99ms/step - loss: 2.4707 - val_loss: 0.5132\n",
      "Epoch 17/1000\n",
      "18/18 [==============================] - 2s 100ms/step - loss: 1.8995 - val_loss: 0.1043\n",
      "Epoch 18/1000\n",
      "18/18 [==============================] - 2s 101ms/step - loss: 1.6243 - val_loss: 0.2414\n",
      "Epoch 19/1000\n",
      "18/18 [==============================] - 2s 102ms/step - loss: 1.5968 - val_loss: 0.4675\n",
      "Epoch 20/1000\n",
      "18/18 [==============================] - 2s 98ms/step - loss: 1.4184 - val_loss: 0.1110\n",
      "Epoch 21/1000\n",
      "18/18 [==============================] - 2s 101ms/step - loss: 1.0061 - val_loss: 0.1463\n",
      "Epoch 22/1000\n",
      "18/18 [==============================] - 2s 100ms/step - loss: 1.0990 - val_loss: 0.0959\n",
      "Epoch 23/1000\n",
      "18/18 [==============================] - 2s 100ms/step - loss: 0.9450 - val_loss: 0.6158\n",
      "Epoch 24/1000\n",
      "18/18 [==============================] - 2s 97ms/step - loss: 1.0644 - val_loss: 0.2514\n",
      "Epoch 25/1000\n",
      "18/18 [==============================] - 2s 100ms/step - loss: 0.9320 - val_loss: 0.2527\n",
      "Epoch 26/1000\n",
      "18/18 [==============================] - 2s 99ms/step - loss: 0.8528 - val_loss: 0.5977\n",
      "Epoch 27/1000\n",
      "18/18 [==============================] - 2s 99ms/step - loss: 0.9591 - val_loss: 0.3924\n",
      "Epoch 28/1000\n",
      "18/18 [==============================] - 2s 98ms/step - loss: 0.9349 - val_loss: 0.7997\n",
      "Epoch 29/1000\n",
      "18/18 [==============================] - 2s 99ms/step - loss: 0.9688 - val_loss: 0.1611\n",
      "Epoch 30/1000\n",
      "18/18 [==============================] - 2s 102ms/step - loss: 0.9648 - val_loss: 0.3202\n",
      "Epoch 31/1000\n",
      "18/18 [==============================] - 2s 99ms/step - loss: 0.9743 - val_loss: 0.4770\n",
      "Epoch 32/1000\n",
      "18/18 [==============================] - 2s 99ms/step - loss: 0.8775 - val_loss: 0.5811\n",
      "Epoch 33/1000\n",
      "18/18 [==============================] - 2s 99ms/step - loss: 0.8654 - val_loss: 0.1308\n",
      "Epoch 34/1000\n",
      "18/18 [==============================] - 2s 102ms/step - loss: 0.9242 - val_loss: 0.7814\n",
      "Epoch 35/1000\n",
      "18/18 [==============================] - 2s 98ms/step - loss: 1.0814 - val_loss: 0.2161\n",
      "Epoch 36/1000\n",
      "18/18 [==============================] - 2s 100ms/step - loss: 0.8438 - val_loss: 0.8368\n",
      "Epoch 37/1000\n",
      "18/18 [==============================] - 2s 100ms/step - loss: 0.8918 - val_loss: 0.1214\n",
      "Epoch 38/1000\n",
      "18/18 [==============================] - 2s 100ms/step - loss: 0.9430 - val_loss: 0.5290\n",
      "Epoch 39/1000\n",
      "18/18 [==============================] - 2s 99ms/step - loss: 0.8377 - val_loss: 0.3685\n",
      "Epoch 40/1000\n",
      "18/18 [==============================] - 2s 99ms/step - loss: 0.7782 - val_loss: 0.4232\n",
      "Epoch 41/1000\n",
      "18/18 [==============================] - 2s 102ms/step - loss: 0.8030 - val_loss: 0.3956\n",
      "Epoch 42/1000\n",
      "18/18 [==============================] - 2s 99ms/step - loss: 0.8656 - val_loss: 0.1159\n",
      "Epoch 43/1000\n",
      "18/18 [==============================] - 2s 96ms/step - loss: 0.7854 - val_loss: 0.6372\n",
      "Epoch 44/1000\n",
      "18/18 [==============================] - 2s 98ms/step - loss: 0.7908 - val_loss: 0.4210\n",
      "Epoch 45/1000\n",
      "18/18 [==============================] - 2s 102ms/step - loss: 0.8282 - val_loss: 0.1938\n",
      "Epoch 46/1000\n",
      "18/18 [==============================] - 2s 101ms/step - loss: 0.7770 - val_loss: 0.4914\n",
      "Epoch 47/1000\n",
      "18/18 [==============================] - ETA: 0s - loss: 0.8019\n",
      "Epoch 00047: ReduceLROnPlateau reducing learning rate to 9.999999747378752e-07.\n",
      "18/18 [==============================] - 2s 102ms/step - loss: 0.8019 - val_loss: 0.3711\n",
      "Epoch 48/1000\n",
      "18/18 [==============================] - 2s 99ms/step - loss: 0.8320 - val_loss: 0.3619\n",
      "Epoch 49/1000\n",
      "18/18 [==============================] - 2s 98ms/step - loss: 0.7643 - val_loss: 0.3751\n",
      "Epoch 50/1000\n",
      "18/18 [==============================] - 2s 102ms/step - loss: 0.7782 - val_loss: 0.3935\n",
      "Epoch 51/1000\n",
      "18/18 [==============================] - 2s 99ms/step - loss: 0.7865 - val_loss: 0.3465\n",
      "Epoch 52/1000\n",
      "18/18 [==============================] - 2s 103ms/step - loss: 0.7231 - val_loss: 0.3060\n",
      "Epoch 53/1000\n",
      "18/18 [==============================] - 2s 98ms/step - loss: 0.7849 - val_loss: 0.4346\n",
      "Epoch 54/1000\n",
      "18/18 [==============================] - 2s 100ms/step - loss: 0.7434 - val_loss: 0.4425\n",
      "Epoch 55/1000\n",
      "18/18 [==============================] - 2s 99ms/step - loss: 0.8182 - val_loss: 0.4083\n",
      "Epoch 56/1000\n",
      "18/18 [==============================] - 2s 101ms/step - loss: 0.7894 - val_loss: 0.3560\n",
      "Epoch 57/1000\n",
      "18/18 [==============================] - 2s 102ms/step - loss: 0.8341 - val_loss: 0.3581\n",
      "Epoch 58/1000\n",
      "18/18 [==============================] - 2s 101ms/step - loss: 0.7863 - val_loss: 0.3774\n",
      "Epoch 59/1000\n",
      "18/18 [==============================] - 2s 97ms/step - loss: 0.7376 - val_loss: 0.3679\n",
      "Epoch 60/1000\n",
      "18/18 [==============================] - 2s 98ms/step - loss: 0.7597 - val_loss: 0.3827\n",
      "Epoch 61/1000\n",
      "18/18 [==============================] - 2s 101ms/step - loss: 0.7483 - val_loss: 0.2665\n",
      "Epoch 62/1000\n",
      "18/18 [==============================] - 2s 102ms/step - loss: 0.7699 - val_loss: 0.2239\n",
      "Epoch 63/1000\n",
      "18/18 [==============================] - 2s 101ms/step - loss: 0.8470 - val_loss: 0.2990\n",
      "Epoch 64/1000\n",
      "18/18 [==============================] - 2s 98ms/step - loss: 0.7780 - val_loss: 0.3153\n",
      "Epoch 65/1000\n",
      "18/18 [==============================] - 2s 99ms/step - loss: 0.7269 - val_loss: 0.3707\n",
      "Epoch 66/1000\n",
      "18/18 [==============================] - 2s 100ms/step - loss: 0.8044 - val_loss: 0.3754\n",
      "Epoch 67/1000\n",
      "18/18 [==============================] - 2s 100ms/step - loss: 0.7353 - val_loss: 0.3798\n",
      "Epoch 68/1000\n",
      "18/18 [==============================] - 2s 103ms/step - loss: 0.8524 - val_loss: 0.3428\n",
      "Epoch 69/1000\n",
      "18/18 [==============================] - 2s 97ms/step - loss: 0.7588 - val_loss: 0.3358\n",
      "Epoch 70/1000\n",
      "18/18 [==============================] - 2s 99ms/step - loss: 0.7568 - val_loss: 0.3602\n",
      "Epoch 71/1000\n",
      "18/18 [==============================] - 2s 101ms/step - loss: 0.7398 - val_loss: 0.3936\n",
      "Epoch 72/1000\n",
      "18/18 [==============================] - ETA: 0s - loss: 0.6896\n",
      "Epoch 00072: ReduceLROnPlateau reducing learning rate to 9.999999974752428e-08.\n",
      "18/18 [==============================] - 2s 99ms/step - loss: 0.6896 - val_loss: 0.2701\n",
      "Epoch 73/1000\n",
      "18/18 [==============================] - 2s 102ms/step - loss: 0.8119 - val_loss: 0.2676\n",
      "Epoch 74/1000\n",
      "18/18 [==============================] - 2s 100ms/step - loss: 0.7125 - val_loss: 0.2714\n",
      "Epoch 75/1000\n",
      "18/18 [==============================] - 2s 98ms/step - loss: 0.8315 - val_loss: 0.2679\n",
      "Epoch 76/1000\n",
      "18/18 [==============================] - 2s 99ms/step - loss: 0.8006 - val_loss: 0.2720\n",
      "Epoch 77/1000\n",
      "18/18 [==============================] - 2s 101ms/step - loss: 0.7513 - val_loss: 0.2781\n"
     ]
    },
    {
     "name": "stdout",
     "output_type": "stream",
     "text": [
      "Epoch 78/1000\n",
      "18/18 [==============================] - 2s 100ms/step - loss: 0.7511 - val_loss: 0.2840\n",
      "Epoch 79/1000\n",
      "18/18 [==============================] - 2s 102ms/step - loss: 0.7318 - val_loss: 0.2869\n",
      "Epoch 80/1000\n",
      "18/18 [==============================] - 2s 99ms/step - loss: 0.7850 - val_loss: 0.2925\n",
      "Epoch 81/1000\n",
      "18/18 [==============================] - 2s 98ms/step - loss: 0.7936 - val_loss: 0.2966\n",
      "Epoch 82/1000\n",
      "18/18 [==============================] - 2s 101ms/step - loss: 0.7592 - val_loss: 0.3090\n",
      "Epoch 83/1000\n",
      "18/18 [==============================] - 2s 99ms/step - loss: 0.7727 - val_loss: 0.3145\n",
      "Epoch 84/1000\n",
      "18/18 [==============================] - 2s 101ms/step - loss: 0.8279 - val_loss: 0.3091\n",
      "Epoch 85/1000\n",
      "18/18 [==============================] - 2s 101ms/step - loss: 0.7096 - val_loss: 0.3155\n",
      "Epoch 86/1000\n",
      "18/18 [==============================] - 2s 99ms/step - loss: 0.6821 - val_loss: 0.3222\n",
      "Epoch 87/1000\n",
      "18/18 [==============================] - 2s 98ms/step - loss: 0.7824 - val_loss: 0.3205\n",
      "Epoch 88/1000\n",
      "18/18 [==============================] - 2s 101ms/step - loss: 0.7868 - val_loss: 0.3169\n",
      "Epoch 89/1000\n",
      "18/18 [==============================] - 2s 102ms/step - loss: 0.7784 - val_loss: 0.3195\n",
      "Epoch 90/1000\n",
      "18/18 [==============================] - 2s 100ms/step - loss: 0.7136 - val_loss: 0.3318\n",
      "Epoch 91/1000\n",
      "18/18 [==============================] - 2s 99ms/step - loss: 0.8526 - val_loss: 0.3321\n",
      "Epoch 92/1000\n",
      "18/18 [==============================] - 2s 99ms/step - loss: 0.8518 - val_loss: 0.3351\n",
      "Epoch 93/1000\n",
      "18/18 [==============================] - 2s 102ms/step - loss: 0.7211 - val_loss: 0.3381\n",
      "Epoch 94/1000\n",
      "18/18 [==============================] - 2s 100ms/step - loss: 0.7546 - val_loss: 0.3345\n",
      "Epoch 95/1000\n",
      "18/18 [==============================] - 2s 100ms/step - loss: 0.8206 - val_loss: 0.3371\n",
      "Epoch 96/1000\n",
      "18/18 [==============================] - 2s 99ms/step - loss: 0.8310 - val_loss: 0.3420\n",
      "Epoch 97/1000\n",
      "18/18 [==============================] - ETA: 0s - loss: 0.7555\n",
      "Epoch 00097: ReduceLROnPlateau reducing learning rate to 1.0000000116860975e-08.\n",
      "18/18 [==============================] - 2s 101ms/step - loss: 0.7555 - val_loss: 0.3375\n",
      "Epoch 98/1000\n",
      "18/18 [==============================] - 2s 99ms/step - loss: 0.8244 - val_loss: 0.3373\n",
      "Epoch 99/1000\n",
      "18/18 [==============================] - 2s 100ms/step - loss: 0.7657 - val_loss: 0.3368\n",
      "Epoch 100/1000\n",
      "18/18 [==============================] - 2s 101ms/step - loss: 0.8254 - val_loss: 0.3372\n",
      "Epoch 101/1000\n",
      "18/18 [==============================] - 2s 98ms/step - loss: 0.7058 - val_loss: 0.3375\n",
      "Epoch 102/1000\n",
      "18/18 [==============================] - 2s 99ms/step - loss: 0.7824 - val_loss: 0.3384\n",
      "Epoch 103/1000\n",
      "18/18 [==============================] - 2s 96ms/step - loss: 0.7392 - val_loss: 0.3386\n",
      "Epoch 104/1000\n",
      "18/18 [==============================] - 2s 104ms/step - loss: 0.7834 - val_loss: 0.3386\n",
      "Epoch 105/1000\n",
      "18/18 [==============================] - 2s 101ms/step - loss: 0.8390 - val_loss: 0.3382\n",
      "Epoch 106/1000\n",
      "18/18 [==============================] - 2s 100ms/step - loss: 0.8136 - val_loss: 0.3377\n",
      "Epoch 107/1000\n",
      "18/18 [==============================] - 2s 99ms/step - loss: 0.7249 - val_loss: 0.3381\n",
      "Epoch 108/1000\n",
      "18/18 [==============================] - 2s 99ms/step - loss: 0.7290 - val_loss: 0.3381\n",
      "Epoch 109/1000\n",
      "18/18 [==============================] - 2s 100ms/step - loss: 0.7324 - val_loss: 0.3384\n",
      "Epoch 110/1000\n",
      "18/18 [==============================] - 2s 101ms/step - loss: 0.7287 - val_loss: 0.3387\n",
      "Epoch 111/1000\n",
      "18/18 [==============================] - 2s 108ms/step - loss: 0.7433 - val_loss: 0.3399\n",
      "Epoch 112/1000\n",
      "18/18 [==============================] - 2s 102ms/step - loss: 0.6870 - val_loss: 0.3405\n",
      "Epoch 113/1000\n",
      "18/18 [==============================] - 2s 101ms/step - loss: 0.8071 - val_loss: 0.3404\n",
      "Epoch 114/1000\n",
      "18/18 [==============================] - 2s 112ms/step - loss: 0.7265 - val_loss: 0.3406\n",
      "Epoch 115/1000\n",
      "18/18 [==============================] - 2s 100ms/step - loss: 0.7037 - val_loss: 0.3413\n",
      "Epoch 116/1000\n",
      "18/18 [==============================] - 2s 102ms/step - loss: 0.7200 - val_loss: 0.3411\n",
      "Epoch 117/1000\n",
      "18/18 [==============================] - 2s 98ms/step - loss: 0.7681 - val_loss: 0.3417\n",
      "Epoch 118/1000\n",
      "18/18 [==============================] - 2s 98ms/step - loss: 0.7660 - val_loss: 0.3419\n",
      "Epoch 119/1000\n",
      "18/18 [==============================] - 2s 98ms/step - loss: 0.7522 - val_loss: 0.3411\n",
      "Epoch 120/1000\n",
      "18/18 [==============================] - 2s 102ms/step - loss: 0.7630 - val_loss: 0.3412\n",
      "Epoch 121/1000\n",
      "18/18 [==============================] - 2s 101ms/step - loss: 0.7919 - val_loss: 0.3405\n",
      "Epoch 122/1000\n",
      "18/18 [==============================] - ETA: 0s - loss: 0.7853\n",
      "Epoch 00122: ReduceLROnPlateau reducing learning rate to 9.999999939225292e-10.\n",
      "Restoring model weights from the end of the best epoch.\n",
      "18/18 [==============================] - 2s 100ms/step - loss: 0.7853 - val_loss: 0.3396\n",
      "Epoch 00122: early stopping\n"
     ]
    }
   ],
   "source": [
    "# History object for plotting our model loss by epoch\n",
    "history3 = model3.fit(x_train1, y_train1, batch_size = BATCH3, \n",
    "                    epochs = EPOCHS, validation_data = (x_val1, y_val1),\n",
    "                    callbacks = [rlrop3, early_stop3])"
   ]
  },
  {
   "cell_type": "code",
   "execution_count": 52,
   "metadata": {},
   "outputs": [
    {
     "data": {
      "image/png": "[encoded data removed]",
      "text/plain": [
       "<Figure size 720x504 with 1 Axes>"
      ]
     },
     "metadata": {},
     "output_type": "display_data"
    }
   ],
   "source": [
    "# Loss History\n",
    "fig = plt.figure(figsize=(10, 7))\n",
    "plt.plot(history3.history['loss'])\n",
    "plt.plot(history3.history['val_loss'])\n",
    "plt.title('Model Loss')\n",
    "plt.ylabel('Loss')\n",
    "plt.xlabel('Epoch')\n",
    "plt.legend(['Train', 'Val'], loc='upper right')\n",
    "plt.show()"
   ]
  },
  {
   "cell_type": "markdown",
   "metadata": {},
   "source": [
    "### Previsão Multistep 12 meses em Validação\n",
    "Para ficar adequado à realidade, não podemos usar os dados de 2022 para prever 2022. Portanto, a previsão de 2022 será feita do moto *multistep*, isto é, o mês de janeiro/2022 será previsto usando-se os dados de arrecadação de janeiro a dezembro de 2021; o mês de fevereiro/2022 será previsto usando-se os dados de fevereiro a dezembro de 2021 mais a previsão feita para o mês de janeiro/2022; o mês de março/2022 será previsto usando-se os dados de março a dezembro de 2021 mais os meses de janeiro e fevereiro de 2022 previstos nos passos anteriores. E assim por diante, até que a previsão de dezembro/2022 será feita usando-se os dados de dezembro de 2021 mais as previsões de janeiro a novembro de 2022 feitas nos passos anteriores."
   ]
  },
  {
   "cell_type": "markdown",
   "metadata": {},
   "source": [
    "#### Remove os 12 últimos valores que serão previstos e cria as séries novamente"
   ]
  },
  {
   "cell_type": "code",
   "execution_count": 53,
   "metadata": {},
   "outputs": [
    {
     "name": "stdout",
     "output_type": "stream",
     "text": [
      "(180,)\n",
      "(168,)\n"
     ]
    }
   ],
   "source": [
    "# remove\n",
    "serie_multi12 = l_icms_ts[:-24]\n",
    "print(l_icms_ts.shape)\n",
    "print(serie_multi1.shape)"
   ]
  },
  {
   "cell_type": "code",
   "execution_count": 54,
   "metadata": {},
   "outputs": [
    {
     "name": "stdout",
     "output_type": "stream",
     "text": [
      "0 [[1.0040091e+10]]\n",
      "1 [[1.0051376e+10]]\n",
      "2 [[1.0077367e+10]]\n",
      "3 [[1.0044476e+10]]\n",
      "4 [[1.0030348e+10]]\n",
      "5 [[1.0024686e+10]]\n",
      "6 [[1.0002703e+10]]\n",
      "7 [[1.0012189e+10]]\n",
      "8 [[1.0001119e+10]]\n",
      "9 [[9.996332e+09]]\n",
      "10 [[9.999993e+09]]\n",
      "11 [[9.999097e+09]]\n"
     ]
    }
   ],
   "source": [
    "for i in range(12):\n",
    "    # cria as séries\n",
    "    X_multi12, Y_multi12 = cria_features_target(serie_multi12, verbose=0)\n",
    "\n",
    "    # Faz a normalização usando o modelo fitado na normalização anterior\n",
    "    X_multi_std12 = enc_x.transform(X_multi12)\n",
    "    X_multi_std12 = X_multi_std12.reshape(X_multi_std12.shape[0],10,1)\n",
    "\n",
    "    # Faz o janelamento das séries\n",
    "    x_multi12, y_multi12 = janelamento_1_mes(X_multi_std12, Y_multi12, verbose=0)\n",
    "\n",
    "    # Faz a predição da arrecadação do mês\n",
    "    #y_pred_multi = np.mean(model.predict(x_multi[-1:]), axis=1)#[:,0].ravel()\n",
    "    y_pred_multi12 = model3.predict(x_multi12[-1:])#[:,0].ravel()\n",
    "    print(i, np.exp(y_pred_multi12))\n",
    "\n",
    "    #### Adicionar o valor previsto à série e fazer o novo janelamento\n",
    "    serie_multi12 = pd.Series(np.append(serie_multi12, y_pred_multi12))"
   ]
  },
  {
   "cell_type": "code",
   "execution_count": 55,
   "metadata": {},
   "outputs": [],
   "source": [
    "Y_pred_multi12 = np.exp(pd.Series(serie_multi12[-12:]))\n",
    "Y_pred_multi12.index = icms_val.index"
   ]
  },
  {
   "cell_type": "code",
   "execution_count": 56,
   "metadata": {},
   "outputs": [
    {
     "data": {
      "text/plain": [
       "date\n",
       "2016-01-01    1.004009e+10\n",
       "2016-02-01    1.005138e+10\n",
       "2016-03-01    1.007737e+10\n",
       "2016-04-01    1.004448e+10\n",
       "2016-05-01    1.003035e+10\n",
       "2016-06-01    1.002469e+10\n",
       "2016-07-01    1.000270e+10\n",
       "2016-08-01    1.001219e+10\n",
       "2016-09-01    1.000112e+10\n",
       "2016-10-01    9.996332e+09\n",
       "2016-11-01    9.999994e+09\n",
       "2016-12-01    9.999097e+09\n",
       "dtype: float64"
      ]
     },
     "execution_count": 56,
     "metadata": {},
     "output_type": "execute_result"
    }
   ],
   "source": [
    "Y_pred_multi12"
   ]
  },
  {
   "cell_type": "code",
   "execution_count": 57,
   "metadata": {},
   "outputs": [
    {
     "data": {
      "text/plain": [
       "349650613.564944"
      ]
     },
     "execution_count": 57,
     "metadata": {},
     "output_type": "execute_result"
    }
   ],
   "source": [
    "RMSE_lstm_multi12 = mean_squared_error(icms_val, Y_pred_multi12, squared=False)\n",
    "RMSE_lstm_multi12"
   ]
  },
  {
   "cell_type": "code",
   "execution_count": 58,
   "metadata": {},
   "outputs": [
    {
     "data": {
      "text/plain": [
       "0.021841781571912564"
      ]
     },
     "execution_count": 58,
     "metadata": {},
     "output_type": "execute_result"
    }
   ],
   "source": [
    "MAPE_lstm_multi12 = mean_absolute_percentage_error(icms_val, Y_pred_multi12)\n",
    "MAPE_lstm_multi12"
   ]
  },
  {
   "cell_type": "code",
   "execution_count": 59,
   "metadata": {},
   "outputs": [],
   "source": [
    "previsoes['nome'].append('RNN-LSTM-1-mês-camadas')\n",
    "previsoes['modelo'].append(model3)\n",
    "previsoes['previsoes'].append(Y_pred_multi12)\n",
    "\n",
    "previsoes['rmse'].append(RMSE_lstm_multi12)\n",
    "\n",
    "previsoes['mape'].append(MAPE_lstm_multi12)\n",
    "\n",
    "previsoes['erro relativo'].append([erro_relativo(prev,real) \n",
    "                                   for prev,real in zip(Y_pred_multi12\n",
    "                                                        , icms_val)])"
   ]
  },
  {
   "cell_type": "markdown",
   "metadata": {},
   "source": [
    "# Modelo 12 meses"
   ]
  },
  {
   "cell_type": "markdown",
   "metadata": {},
   "source": [
    "#### Criando as janelas de 12 meses e reshape para LSTM. A arrecadação de cada mês será prevista pela arrecadação dos 12 meses anteriores."
   ]
  },
  {
   "cell_type": "markdown",
   "metadata": {},
   "source": [
    "##### Unindo novamente os dados."
   ]
  },
  {
   "cell_type": "code",
   "execution_count": 60,
   "metadata": {},
   "outputs": [],
   "source": [
    "def janelamento_12_meses(X, Y, verbose=0):\n",
    "    X_exp = np.concatenate((np.roll(X, 12, axis=0),\n",
    "                            np.roll(X, 11, axis=0),\n",
    "                            np.roll(X, 10, axis=0),\n",
    "                            np.roll(X, 9, axis=0),\n",
    "                            np.roll(X, 8, axis=0),\n",
    "                            np.roll(X, 7, axis=0),\n",
    "                            np.roll(X, 6, axis=0),\n",
    "                            np.roll(X, 5, axis=0),\n",
    "                            np.roll(X, 4, axis=0),\n",
    "                            np.roll(X, 3, axis=0),\n",
    "                            np.roll(X, 2, axis=0),\n",
    "                            np.roll(X, 1, axis=0),\n",
    "                            ), axis=2)\n",
    "    X_exp_cut = X_exp[12:,:,:].transpose(0,2,1)\n",
    "    Y_cut = Y[12:]\n",
    "    if verbose==1:\n",
    "        print('shape das features janeladas:', X_exp.shape)\n",
    "        print('shape das features janeladas pós poda e transposição:', X_exp_cut.shape)\n",
    "        print('shape do array target pós poda:', Y_cut.shape)\n",
    "    return X_exp_cut, Y_cut"
   ]
  },
  {
   "cell_type": "code",
   "execution_count": 61,
   "metadata": {},
   "outputs": [],
   "source": [
    "X_data_exp_cut12, Y_data_cut12 = janelamento_12_meses(X_data_jn, Y_data, verbose=0)"
   ]
  },
  {
   "cell_type": "code",
   "execution_count": 62,
   "metadata": {},
   "outputs": [],
   "source": [
    "#Y_data_cut[0]"
   ]
  },
  {
   "cell_type": "code",
   "execution_count": 63,
   "metadata": {},
   "outputs": [],
   "source": [
    "#X_data_exp_cut[0]"
   ]
  },
  {
   "cell_type": "code",
   "execution_count": 64,
   "metadata": {},
   "outputs": [],
   "source": [
    "#Y_data_cut[Y_data_cut.shape[0]-1]"
   ]
  },
  {
   "cell_type": "code",
   "execution_count": 65,
   "metadata": {},
   "outputs": [],
   "source": [
    "#X_data_exp_cut[Y_data_cut.shape[0]-1]"
   ]
  },
  {
   "cell_type": "markdown",
   "metadata": {},
   "source": [
    "#### Separando novamente em treino, validação e teste"
   ]
  },
  {
   "cell_type": "code",
   "execution_count": 66,
   "metadata": {},
   "outputs": [
    {
     "name": "stdout",
     "output_type": "stream",
     "text": [
      "(132, 12, 10) (12, 12, 10) (12, 12, 10)\n",
      "(132,) (12,) (12,)\n"
     ]
    }
   ],
   "source": [
    "x_train12 = X_data_exp_cut12[:-24]\n",
    "x_val12 = X_data_exp_cut12[-24:-12]\n",
    "x_test12 = X_data_exp_cut12[-12:]\n",
    "print(x_train12.shape, x_val12.shape, x_test12.shape)\n",
    "y_train12 = Y_data_cut12[:-24]\n",
    "y_val12 = Y_data_cut12[-24:-12]\n",
    "y_test12 = np.exp(Y_data_cut12[-12:]) # tirar o log para ficar o valor real\n",
    "print(y_train12.shape, y_val12.shape, y_test12.shape)"
   ]
  },
  {
   "cell_type": "markdown",
   "metadata": {},
   "source": [
    "### Criando o modelo LSTM"
   ]
  },
  {
   "cell_type": "markdown",
   "metadata": {},
   "source": [
    "## Arquitetura da Rede - Arquitetura Larga"
   ]
  },
  {
   "cell_type": "code",
   "execution_count": 67,
   "metadata": {},
   "outputs": [],
   "source": [
    "rlrop2 = ReduceLROnPlateau(monitor='val_loss', factor=0.1, patience=10, verbose=1)\n",
    "early_stop2 = EarlyStopping(monitor='val_loss', patience=100, verbose=1, \n",
    "                           restore_best_weights=True)"
   ]
  },
  {
   "cell_type": "code",
   "execution_count": 68,
   "metadata": {},
   "outputs": [],
   "source": [
    "# Épocas e tamanho do lote\n",
    "EPOCHS2 = 1000\n",
    "BATCH2 = 8\n",
    "NEURONIOS2 = 1000\n",
    "LR2 = 1e-5\n",
    "DROPOUT2 = 0.25\n",
    "\n",
    "# Imstanciação do modelo\n",
    "model2 = Sequential()\n",
    "\n",
    "# Adicionar camada LSTM \n",
    "model2.add(LSTM(activation='tanh', dropout=DROPOUT2,\n",
    "        input_shape = (12, 10), return_sequences = False,\n",
    "        units = NEURONIOS2))\n",
    "\n",
    "# Adicionar a camada de saída com 1 neurônio linear\n",
    "model2.add(Dense(\n",
    "        units = 1,\n",
    "        activation = 'linear'))\n",
    "# a learning rate padrão do Adam é 0.001\n",
    "model2.compile(loss = 'mape', optimizer = Adam(learning_rate=LR2))"
   ]
  },
  {
   "cell_type": "code",
   "execution_count": 69,
   "metadata": {},
   "outputs": [
    {
     "name": "stdout",
     "output_type": "stream",
     "text": [
      "Model: \"sequential_2\"\n",
      "_________________________________________________________________\n",
      "Layer (type)                 Output Shape              Param #   \n",
      "=================================================================\n",
      "lstm_4 (LSTM)                (None, 1000)              4044000   \n",
      "_________________________________________________________________\n",
      "dense_2 (Dense)              (None, 1)                 1001      \n",
      "=================================================================\n",
      "Total params: 4,045,001\n",
      "Trainable params: 4,045,001\n",
      "Non-trainable params: 0\n",
      "_________________________________________________________________\n"
     ]
    }
   ],
   "source": [
    "model2.summary()"
   ]
  },
  {
   "cell_type": "code",
   "execution_count": 70,
   "metadata": {
    "scrolled": true
   },
   "outputs": [
    {
     "name": "stdout",
     "output_type": "stream",
     "text": [
      "Epoch 1/1000\n",
      "17/17 [==============================] - 2s 105ms/step - loss: 99.4982 - val_loss: 98.3568\n",
      "Epoch 2/1000\n",
      "17/17 [==============================] - 1s 85ms/step - loss: 98.5148 - val_loss: 96.6401\n",
      "Epoch 3/1000\n",
      "17/17 [==============================] - 1s 86ms/step - loss: 97.3688 - val_loss: 94.5794\n",
      "Epoch 4/1000\n",
      "17/17 [==============================] - 1s 85ms/step - loss: 95.9999 - val_loss: 91.6139\n",
      "Epoch 5/1000\n",
      "17/17 [==============================] - 1s 86ms/step - loss: 93.8073 - val_loss: 86.7837\n",
      "Epoch 6/1000\n",
      "17/17 [==============================] - 1s 86ms/step - loss: 90.1374 - val_loss: 77.4639\n",
      "Epoch 7/1000\n",
      "17/17 [==============================] - 2s 91ms/step - loss: 82.6086 - val_loss: 57.1897\n",
      "Epoch 8/1000\n",
      "17/17 [==============================] - 2s 92ms/step - loss: 66.1263 - val_loss: 23.5438\n",
      "Epoch 9/1000\n",
      "17/17 [==============================] - 2s 91ms/step - loss: 39.8623 - val_loss: 2.0509\n",
      "Epoch 10/1000\n",
      "17/17 [==============================] - 2s 93ms/step - loss: 20.9600 - val_loss: 6.7794\n",
      "Epoch 11/1000\n",
      "17/17 [==============================] - 2s 89ms/step - loss: 14.9123 - val_loss: 0.3384\n",
      "Epoch 12/1000\n",
      "17/17 [==============================] - 1s 87ms/step - loss: 9.7878 - val_loss: 0.1311\n",
      "Epoch 13/1000\n",
      "17/17 [==============================] - 2s 91ms/step - loss: 6.7885 - val_loss: 0.0933\n",
      "Epoch 14/1000\n",
      "17/17 [==============================] - 2s 88ms/step - loss: 4.8348 - val_loss: 0.2904\n",
      "Epoch 15/1000\n",
      "17/17 [==============================] - 2s 90ms/step - loss: 3.6373 - val_loss: 0.4857\n",
      "Epoch 16/1000\n",
      "17/17 [==============================] - 1s 87ms/step - loss: 2.8548 - val_loss: 0.4802\n",
      "Epoch 17/1000\n",
      "17/17 [==============================] - 1s 87ms/step - loss: 2.3451 - val_loss: 0.2287\n",
      "Epoch 18/1000\n",
      "17/17 [==============================] - 2s 88ms/step - loss: 2.1170 - val_loss: 0.5592\n",
      "Epoch 19/1000\n",
      "17/17 [==============================] - 2s 89ms/step - loss: 1.8425 - val_loss: 0.5896\n",
      "Epoch 20/1000\n",
      "17/17 [==============================] - 1s 86ms/step - loss: 1.6099 - val_loss: 1.0048\n",
      "Epoch 21/1000\n",
      "17/17 [==============================] - 2s 90ms/step - loss: 1.5511 - val_loss: 0.7249\n",
      "Epoch 22/1000\n",
      "17/17 [==============================] - 2s 90ms/step - loss: 1.4830 - val_loss: 0.3326\n",
      "Epoch 23/1000\n",
      "17/17 [==============================] - ETA: 0s - loss: 1.3640\n",
      "Epoch 00023: ReduceLROnPlateau reducing learning rate to 9.999999747378752e-07.\n",
      "17/17 [==============================] - 1s 87ms/step - loss: 1.3640 - val_loss: 1.1803\n",
      "Epoch 24/1000\n",
      "17/17 [==============================] - 1s 88ms/step - loss: 1.3205 - val_loss: 1.0300\n",
      "Epoch 25/1000\n",
      "17/17 [==============================] - 2s 89ms/step - loss: 1.4045 - val_loss: 0.8303\n",
      "Epoch 26/1000\n",
      "17/17 [==============================] - 2s 89ms/step - loss: 1.2443 - val_loss: 0.7619\n",
      "Epoch 27/1000\n",
      "17/17 [==============================] - 2s 89ms/step - loss: 1.2505 - val_loss: 0.7234\n",
      "Epoch 28/1000\n",
      "17/17 [==============================] - 2s 89ms/step - loss: 1.2552 - val_loss: 0.6976\n",
      "Epoch 29/1000\n",
      "17/17 [==============================] - 1s 88ms/step - loss: 1.2850 - val_loss: 0.6957\n",
      "Epoch 30/1000\n",
      "17/17 [==============================] - 1s 86ms/step - loss: 1.2273 - val_loss: 0.7818\n",
      "Epoch 31/1000\n",
      "17/17 [==============================] - 1s 85ms/step - loss: 1.2443 - val_loss: 0.8144\n",
      "Epoch 32/1000\n",
      "17/17 [==============================] - 1s 87ms/step - loss: 1.2943 - val_loss: 0.7632\n",
      "Epoch 33/1000\n",
      "17/17 [==============================] - ETA: 0s - loss: 1.2152\n",
      "Epoch 00033: ReduceLROnPlateau reducing learning rate to 9.999999974752428e-08.\n",
      "17/17 [==============================] - 1s 88ms/step - loss: 1.2152 - val_loss: 0.7661\n",
      "Epoch 34/1000\n",
      "17/17 [==============================] - 2s 92ms/step - loss: 1.2454 - val_loss: 0.7613\n",
      "Epoch 35/1000\n",
      "17/17 [==============================] - 2s 90ms/step - loss: 1.3614 - val_loss: 0.7664\n",
      "Epoch 36/1000\n",
      "17/17 [==============================] - 1s 85ms/step - loss: 1.2083 - val_loss: 0.7648\n",
      "Epoch 37/1000\n",
      "17/17 [==============================] - 1s 88ms/step - loss: 1.2834 - val_loss: 0.7657\n",
      "Epoch 38/1000\n",
      "17/17 [==============================] - 2s 88ms/step - loss: 1.1678 - val_loss: 0.7711\n",
      "Epoch 39/1000\n",
      "17/17 [==============================] - 1s 85ms/step - loss: 1.2253 - val_loss: 0.7734\n",
      "Epoch 40/1000\n",
      "17/17 [==============================] - 2s 89ms/step - loss: 1.2024 - val_loss: 0.7766\n",
      "Epoch 41/1000\n",
      "17/17 [==============================] - 2s 89ms/step - loss: 1.2490 - val_loss: 0.7781\n",
      "Epoch 42/1000\n",
      "17/17 [==============================] - 1s 84ms/step - loss: 1.2739 - val_loss: 0.7656\n",
      "Epoch 43/1000\n",
      "17/17 [==============================] - ETA: 0s - loss: 1.1803\n",
      "Epoch 00043: ReduceLROnPlateau reducing learning rate to 1.0000000116860975e-08.\n",
      "17/17 [==============================] - 1s 88ms/step - loss: 1.1803 - val_loss: 0.7731\n",
      "Epoch 44/1000\n",
      "17/17 [==============================] - 1s 87ms/step - loss: 1.2782 - val_loss: 0.7733\n",
      "Epoch 45/1000\n",
      "17/17 [==============================] - 2s 89ms/step - loss: 1.2497 - val_loss: 0.7732\n",
      "Epoch 46/1000\n",
      "17/17 [==============================] - 1s 88ms/step - loss: 1.3113 - val_loss: 0.7737\n",
      "Epoch 47/1000\n",
      "17/17 [==============================] - 2s 91ms/step - loss: 1.2652 - val_loss: 0.7735\n",
      "Epoch 48/1000\n",
      "17/17 [==============================] - 1s 86ms/step - loss: 1.3285 - val_loss: 0.7736\n",
      "Epoch 49/1000\n",
      "17/17 [==============================] - 1s 81ms/step - loss: 1.3054 - val_loss: 0.7739\n",
      "Epoch 50/1000\n",
      "17/17 [==============================] - 1s 85ms/step - loss: 1.3422 - val_loss: 0.7737\n",
      "Epoch 51/1000\n",
      "17/17 [==============================] - 1s 85ms/step - loss: 1.2581 - val_loss: 0.7732\n",
      "Epoch 52/1000\n",
      "17/17 [==============================] - 1s 85ms/step - loss: 1.2698 - val_loss: 0.7726\n",
      "Epoch 53/1000\n",
      "17/17 [==============================] - ETA: 0s - loss: 1.2890\n",
      "Epoch 00053: ReduceLROnPlateau reducing learning rate to 9.999999939225292e-10.\n",
      "17/17 [==============================] - 1s 85ms/step - loss: 1.2890 - val_loss: 0.7733\n",
      "Epoch 54/1000\n",
      "17/17 [==============================] - 2s 89ms/step - loss: 1.1958 - val_loss: 0.7733\n",
      "Epoch 55/1000\n",
      "17/17 [==============================] - 1s 85ms/step - loss: 1.2895 - val_loss: 0.7733\n",
      "Epoch 56/1000\n",
      "17/17 [==============================] - 1s 83ms/step - loss: 1.2395 - val_loss: 0.7733\n",
      "Epoch 57/1000\n",
      "17/17 [==============================] - 1s 84ms/step - loss: 1.2678 - val_loss: 0.7733\n",
      "Epoch 58/1000\n",
      "17/17 [==============================] - 1s 87ms/step - loss: 1.2258 - val_loss: 0.7733\n",
      "Epoch 59/1000\n",
      "17/17 [==============================] - 1s 85ms/step - loss: 1.1915 - val_loss: 0.7733\n",
      "Epoch 60/1000\n",
      "17/17 [==============================] - 1s 86ms/step - loss: 1.2209 - val_loss: 0.7733\n",
      "Epoch 61/1000\n",
      "17/17 [==============================] - 1s 86ms/step - loss: 1.2375 - val_loss: 0.7733\n",
      "Epoch 62/1000\n",
      "17/17 [==============================] - 1s 83ms/step - loss: 1.2249 - val_loss: 0.7733\n",
      "Epoch 63/1000\n",
      "17/17 [==============================] - ETA: 0s - loss: 1.3013\n",
      "Epoch 00063: ReduceLROnPlateau reducing learning rate to 9.999999717180686e-11.\n",
      "17/17 [==============================] - 1s 82ms/step - loss: 1.3013 - val_loss: 0.7733\n",
      "Epoch 64/1000\n",
      "17/17 [==============================] - 1s 86ms/step - loss: 1.3030 - val_loss: 0.7733\n",
      "Epoch 65/1000\n",
      "17/17 [==============================] - 1s 85ms/step - loss: 1.2850 - val_loss: 0.7733\n",
      "Epoch 66/1000\n",
      "17/17 [==============================] - 1s 85ms/step - loss: 1.2341 - val_loss: 0.7733\n",
      "Epoch 67/1000\n",
      "17/17 [==============================] - 1s 86ms/step - loss: 1.2366 - val_loss: 0.7733\n",
      "Epoch 68/1000\n",
      "17/17 [==============================] - 1s 85ms/step - loss: 1.1847 - val_loss: 0.7733\n",
      "Epoch 69/1000\n",
      "17/17 [==============================] - 1s 83ms/step - loss: 1.3008 - val_loss: 0.7733\n",
      "Epoch 70/1000\n",
      "17/17 [==============================] - 1s 85ms/step - loss: 1.1825 - val_loss: 0.7733\n",
      "Epoch 71/1000\n",
      "17/17 [==============================] - 1s 85ms/step - loss: 1.2614 - val_loss: 0.7733\n",
      "Epoch 72/1000\n",
      "17/17 [==============================] - 1s 82ms/step - loss: 1.2782 - val_loss: 0.7733\n",
      "Epoch 73/1000\n",
      "17/17 [==============================] - ETA: 0s - loss: 1.2878\n",
      "Epoch 00073: ReduceLROnPlateau reducing learning rate to 9.99999943962493e-12.\n",
      "17/17 [==============================] - 2s 88ms/step - loss: 1.2878 - val_loss: 0.7733\n"
     ]
    },
    {
     "name": "stdout",
     "output_type": "stream",
     "text": [
      "Epoch 74/1000\n",
      "17/17 [==============================] - 1s 86ms/step - loss: 1.2638 - val_loss: 0.7733\n",
      "Epoch 75/1000\n",
      "17/17 [==============================] - 1s 83ms/step - loss: 1.2087 - val_loss: 0.7733\n",
      "Epoch 76/1000\n",
      "17/17 [==============================] - 1s 85ms/step - loss: 1.2405 - val_loss: 0.7733\n",
      "Epoch 77/1000\n",
      "17/17 [==============================] - 1s 85ms/step - loss: 1.2470 - val_loss: 0.7733\n",
      "Epoch 78/1000\n",
      "17/17 [==============================] - 1s 86ms/step - loss: 1.2402 - val_loss: 0.7733\n",
      "Epoch 79/1000\n",
      "17/17 [==============================] - 1s 87ms/step - loss: 1.2531 - val_loss: 0.7733\n",
      "Epoch 80/1000\n",
      "17/17 [==============================] - 1s 87ms/step - loss: 1.2307 - val_loss: 0.7733\n",
      "Epoch 81/1000\n",
      "17/17 [==============================] - 1s 88ms/step - loss: 1.2407 - val_loss: 0.7733\n",
      "Epoch 82/1000\n",
      "17/17 [==============================] - 1s 84ms/step - loss: 1.1931 - val_loss: 0.7733\n",
      "Epoch 83/1000\n",
      "17/17 [==============================] - ETA: 0s - loss: 1.2169\n",
      "Epoch 00083: ReduceLROnPlateau reducing learning rate to 9.999999092680235e-13.\n",
      "17/17 [==============================] - 1s 83ms/step - loss: 1.2169 - val_loss: 0.7733\n",
      "Epoch 84/1000\n",
      "17/17 [==============================] - 1s 85ms/step - loss: 1.2663 - val_loss: 0.7733\n",
      "Epoch 85/1000\n",
      "17/17 [==============================] - 1s 85ms/step - loss: 1.1770 - val_loss: 0.7733\n",
      "Epoch 86/1000\n",
      "17/17 [==============================] - 1s 85ms/step - loss: 1.3179 - val_loss: 0.7733\n",
      "Epoch 87/1000\n",
      "17/17 [==============================] - 1s 84ms/step - loss: 1.3149 - val_loss: 0.7733\n",
      "Epoch 88/1000\n",
      "17/17 [==============================] - 1s 84ms/step - loss: 1.3064 - val_loss: 0.7733\n",
      "Epoch 89/1000\n",
      "17/17 [==============================] - 1s 83ms/step - loss: 1.2932 - val_loss: 0.7733\n",
      "Epoch 90/1000\n",
      "17/17 [==============================] - 1s 86ms/step - loss: 1.2357 - val_loss: 0.7733\n",
      "Epoch 91/1000\n",
      "17/17 [==============================] - 1s 83ms/step - loss: 1.3128 - val_loss: 0.7733\n",
      "Epoch 92/1000\n",
      "17/17 [==============================] - 1s 88ms/step - loss: 1.2345 - val_loss: 0.7733\n",
      "Epoch 93/1000\n",
      "17/17 [==============================] - ETA: 0s - loss: 1.2031\n",
      "Epoch 00093: ReduceLROnPlateau reducing learning rate to 9.9999988758398e-14.\n",
      "17/17 [==============================] - 2s 88ms/step - loss: 1.2031 - val_loss: 0.7733\n",
      "Epoch 94/1000\n",
      "17/17 [==============================] - 1s 84ms/step - loss: 1.3308 - val_loss: 0.7733\n",
      "Epoch 95/1000\n",
      "17/17 [==============================] - 1s 85ms/step - loss: 1.3558 - val_loss: 0.7733\n",
      "Epoch 96/1000\n",
      "17/17 [==============================] - 1s 87ms/step - loss: 1.2836 - val_loss: 0.7733\n",
      "Epoch 97/1000\n",
      "17/17 [==============================] - 1s 83ms/step - loss: 1.2070 - val_loss: 0.7733\n",
      "Epoch 98/1000\n",
      "17/17 [==============================] - 1s 83ms/step - loss: 1.3035 - val_loss: 0.7733\n",
      "Epoch 99/1000\n",
      "17/17 [==============================] - 1s 88ms/step - loss: 1.2414 - val_loss: 0.7733\n",
      "Epoch 100/1000\n",
      "17/17 [==============================] - 2s 89ms/step - loss: 1.2382 - val_loss: 0.7733\n",
      "Epoch 101/1000\n",
      "17/17 [==============================] - 1s 86ms/step - loss: 1.2188 - val_loss: 0.7733\n",
      "Epoch 102/1000\n",
      "17/17 [==============================] - 1s 87ms/step - loss: 1.2318 - val_loss: 0.7733\n",
      "Epoch 103/1000\n",
      "17/17 [==============================] - ETA: 0s - loss: 1.2597\n",
      "Epoch 00103: ReduceLROnPlateau reducing learning rate to 9.999999146890344e-15.\n",
      "17/17 [==============================] - 1s 83ms/step - loss: 1.2597 - val_loss: 0.7733\n",
      "Epoch 104/1000\n",
      "17/17 [==============================] - 1s 84ms/step - loss: 1.2801 - val_loss: 0.7733\n",
      "Epoch 105/1000\n",
      "17/17 [==============================] - 1s 86ms/step - loss: 1.2205 - val_loss: 0.7733\n",
      "Epoch 106/1000\n",
      "17/17 [==============================] - 1s 86ms/step - loss: 1.2603 - val_loss: 0.7733\n",
      "Epoch 107/1000\n",
      "17/17 [==============================] - 1s 85ms/step - loss: 1.2714 - val_loss: 0.7733\n",
      "Epoch 108/1000\n",
      "17/17 [==============================] - 1s 86ms/step - loss: 1.2662 - val_loss: 0.7733\n",
      "Epoch 109/1000\n",
      "17/17 [==============================] - 1s 87ms/step - loss: 1.1690 - val_loss: 0.7733\n",
      "Epoch 110/1000\n",
      "17/17 [==============================] - 1s 82ms/step - loss: 1.3014 - val_loss: 0.7733\n",
      "Epoch 111/1000\n",
      "17/17 [==============================] - 1s 87ms/step - loss: 1.2086 - val_loss: 0.7733\n",
      "Epoch 112/1000\n",
      "17/17 [==============================] - 2s 88ms/step - loss: 1.2621 - val_loss: 0.7733\n",
      "Epoch 113/1000\n",
      "17/17 [==============================] - ETA: 0s - loss: 1.2210\n",
      "Epoch 00113: ReduceLROnPlateau reducing learning rate to 9.999998977483753e-16.\n",
      "Restoring model weights from the end of the best epoch.\n",
      "17/17 [==============================] - 1s 86ms/step - loss: 1.2210 - val_loss: 0.7733\n",
      "Epoch 00113: early stopping\n"
     ]
    }
   ],
   "source": [
    "# History object for plotting our model loss by epoch\n",
    "history2 = model2.fit(x_train12, y_train12, batch_size = BATCH2, \n",
    "                    epochs = EPOCHS2, validation_data = (x_val12, y_val12),\n",
    "                    callbacks = [rlrop2, early_stop2])"
   ]
  },
  {
   "cell_type": "code",
   "execution_count": 71,
   "metadata": {},
   "outputs": [
    {
     "data": {
      "image/png": "[encoded data removed]",
      "text/plain": [
       "<Figure size 720x504 with 1 Axes>"
      ]
     },
     "metadata": {},
     "output_type": "display_data"
    }
   ],
   "source": [
    "# Loss History\n",
    "fig = plt.figure(figsize=(10, 7))\n",
    "plt.plot(history2.history['loss'])\n",
    "plt.plot(history2.history['val_loss'])\n",
    "plt.title('Model Loss')\n",
    "plt.ylabel('Loss')\n",
    "plt.xlabel('Epoch')\n",
    "plt.legend(['Train', 'Val'], loc='upper right')\n",
    "plt.show()"
   ]
  },
  {
   "cell_type": "markdown",
   "metadata": {},
   "source": [
    "### Previsão Multistep 12 meses em Validação\n",
    "Para ficar adequado à realidade, não podemos usar os dados de 2022 para prever 2022. Portanto, a previsão de 2022 será feita do moto *multistep*, isto é, o mês de janeiro/2022 será previsto usando-se os dados de arrecadação de janeiro a dezembro de 2021; o mês de fevereiro/2022 será previsto usando-se os dados de fevereiro a dezembro de 2021 mais a previsão feita para o mês de janeiro/2022; o mês de março/2022 será previsto usando-se os dados de março a dezembro de 2021 mais os meses de janeiro e fevereiro de 2022 previstos nos passos anteriores. E assim por diante, até que a previsão de dezembro/2022 será feita usando-se os dados de dezembro de 2021 mais as previsões de janeiro a novembro de 2022 feitas nos passos anteriores."
   ]
  },
  {
   "cell_type": "markdown",
   "metadata": {},
   "source": [
    "#### Remove os 12 últimos valores que serão previstos e cria as séries novamente"
   ]
  },
  {
   "cell_type": "code",
   "execution_count": 72,
   "metadata": {},
   "outputs": [
    {
     "name": "stdout",
     "output_type": "stream",
     "text": [
      "(180,)\n",
      "(156,)\n"
     ]
    },
    {
     "data": {
      "text/plain": [
       "pandas.core.series.Series"
      ]
     },
     "execution_count": 72,
     "metadata": {},
     "output_type": "execute_result"
    }
   ],
   "source": [
    "# remove\n",
    "serie_multi12 = l_icms_ts[:-24]\n",
    "print(l_icms_ts.shape)\n",
    "print(serie_multi12.shape)\n",
    "type(serie_multi12)"
   ]
  },
  {
   "cell_type": "code",
   "execution_count": 73,
   "metadata": {},
   "outputs": [
    {
     "name": "stdout",
     "output_type": "stream",
     "text": [
      "0 [[1.0120553e+10]]\n",
      "1 [[1.0128142e+10]]\n",
      "2 [[1.0101307e+10]]\n",
      "3 [[1.0093834e+10]]\n",
      "4 [[1.0096298e+10]]\n",
      "5 [[1.0093179e+10]]\n",
      "6 [[1.0091523e+10]]\n",
      "7 [[1.0103734e+10]]\n",
      "8 [[1.0108534e+10]]\n",
      "9 [[1.0116925e+10]]\n",
      "10 [[1.0139082e+10]]\n",
      "11 [[1.0143201e+10]]\n"
     ]
    }
   ],
   "source": [
    "for i in range(12):\n",
    "    # cria as séries\n",
    "    X_multi12, Y_multi12 = cria_features_target(serie_multi12, verbose=0)\n",
    "\n",
    "    # Faz a normalização usando o modelo fitado na normalização anterior\n",
    "    X_multi_std12 = enc_x.transform(X_multi12)\n",
    "    X_multi_std12 = X_multi_std12.reshape(X_multi_std12.shape[0],10,1)\n",
    "\n",
    "    # Faz o janelamento das séries\n",
    "    x_multi12, y_multi12 = janelamento_12_meses(X_multi_std12, Y_multi12, verbose=0)\n",
    "\n",
    "    # Faz a predição da arrecadação do mês\n",
    "    #y_pred_multi = np.mean(model.predict(x_multi[-1:]), axis=1)#[:,0].ravel()\n",
    "    y_pred_multi12 = model2.predict(x_multi12[-1:])#[:,0].ravel()\n",
    "    print(i, np.exp(y_pred_multi12))\n",
    "\n",
    "    #### Adicionar o valor previsto à série e fazer o novo janelamento\n",
    "    serie_multi12 = pd.Series(np.append(serie_multi12, y_pred_multi12))\n",
    "    type(serie_multi12)"
   ]
  },
  {
   "cell_type": "code",
   "execution_count": 74,
   "metadata": {},
   "outputs": [],
   "source": [
    "Y_pred_multi12 = np.exp(pd.Series(serie_multi12[-12:])) # tira o log das previsões\n",
    "Y_pred_multi12.index = icms_val.index"
   ]
  },
  {
   "cell_type": "code",
   "execution_count": 75,
   "metadata": {},
   "outputs": [
    {
     "data": {
      "text/plain": [
       "date\n",
       "2016-01-01    1.012055e+10\n",
       "2016-02-01    1.012814e+10\n",
       "2016-03-01    1.010131e+10\n",
       "2016-04-01    1.009383e+10\n",
       "2016-05-01    1.009630e+10\n",
       "2016-06-01    1.009318e+10\n",
       "2016-07-01    1.009152e+10\n",
       "2016-08-01    1.010373e+10\n",
       "2016-09-01    1.010853e+10\n",
       "2016-10-01    1.011692e+10\n",
       "2016-11-01    1.013908e+10\n",
       "2016-12-01    1.014320e+10\n",
       "dtype: float64"
      ]
     },
     "execution_count": 75,
     "metadata": {},
     "output_type": "execute_result"
    }
   ],
   "source": [
    "Y_pred_multi12"
   ]
  },
  {
   "cell_type": "code",
   "execution_count": 76,
   "metadata": {},
   "outputs": [
    {
     "data": {
      "text/plain": [
       "318653363.41934854"
      ]
     },
     "execution_count": 76,
     "metadata": {},
     "output_type": "execute_result"
    }
   ],
   "source": [
    "RMSE_lstm_multi12 = mean_squared_error(icms_val, Y_pred_multi12, squared=False)\n",
    "RMSE_lstm_multi12"
   ]
  },
  {
   "cell_type": "code",
   "execution_count": 77,
   "metadata": {},
   "outputs": [
    {
     "data": {
      "text/plain": [
       "0.021824483120092136"
      ]
     },
     "execution_count": 77,
     "metadata": {},
     "output_type": "execute_result"
    }
   ],
   "source": [
    "MAPE_lstm_multi12 = mean_absolute_percentage_error(icms_val, Y_pred_multi12)\n",
    "MAPE_lstm_multi12"
   ]
  },
  {
   "cell_type": "code",
   "execution_count": 78,
   "metadata": {},
   "outputs": [],
   "source": [
    "previsoes['nome'].append('RNN-LSTM-12-meses-larga')\n",
    "previsoes['modelo'].append(model2)\n",
    "previsoes['previsoes'].append(Y_pred_multi12)\n",
    "\n",
    "previsoes['rmse'].append(RMSE_lstm_multi12)\n",
    "\n",
    "previsoes['mape'].append(MAPE_lstm_multi12)"
   ]
  },
  {
   "cell_type": "code",
   "execution_count": 79,
   "metadata": {},
   "outputs": [],
   "source": [
    "previsoes['erro relativo'].append([erro_relativo(prev,real) \n",
    "                                   for prev,real in zip(Y_pred_multi12\n",
    "                                                        , icms_val)])"
   ]
  },
  {
   "cell_type": "markdown",
   "metadata": {},
   "source": [
    "## Arquitetura da Rede - Arquitetura Multicamada"
   ]
  },
  {
   "cell_type": "code",
   "execution_count": 80,
   "metadata": {},
   "outputs": [],
   "source": [
    "rlrop4 = ReduceLROnPlateau(monitor='val_loss', factor=0.1, patience=25, verbose=1)\n",
    "early_stop4 = EarlyStopping(monitor='val_loss', patience=100, verbose=1, \n",
    "                           restore_best_weights=True)"
   ]
  },
  {
   "cell_type": "code",
   "execution_count": 81,
   "metadata": {},
   "outputs": [],
   "source": [
    "# Épocas e tamanho do lote\n",
    "EPOCHS4 = 1000\n",
    "BATCH4 = 8\n",
    "NEURONIOS4 = 600\n",
    "LR4 = 1e-5\n",
    "DROPOUT4 = 0.25\n",
    "\n",
    "# Imstanciação do modelo\n",
    "model4 = Sequential()\n",
    "\n",
    "# Adicionar camada LSTM \n",
    "model4.add(LSTM(activation='tanh', dropout=DROPOUT4,\n",
    "        input_shape = (12, 10), return_sequences = True,\n",
    "        units = NEURONIOS4))\n",
    "\n",
    "# Adicionar camada LSTM \n",
    "model4.add(LSTM(activation='tanh', dropout=DROPOUT4,\n",
    "        input_shape = (12, 10), return_sequences = True,\n",
    "        units = NEURONIOS4))\n",
    "\n",
    "## Adicionar camada LSTM \n",
    "model4.add(LSTM(activation='tanh', dropout=DROPOUT4,\n",
    "        input_shape = (12, 10), return_sequences = False,\n",
    "        units = NEURONIOS4))\n",
    "\n",
    "\n",
    "# Adicionar a camada de saída com 1 neurônio linear\n",
    "model4.add(Dense(\n",
    "        units = 1,\n",
    "        activation = 'linear'))\n",
    "# a learning rate padrão do Adam é 0.001\n",
    "model4.compile(loss = 'mape', optimizer = Adam(learning_rate=LR4))"
   ]
  },
  {
   "cell_type": "code",
   "execution_count": 82,
   "metadata": {},
   "outputs": [
    {
     "name": "stdout",
     "output_type": "stream",
     "text": [
      "Model: \"sequential_3\"\n",
      "_________________________________________________________________\n",
      "Layer (type)                 Output Shape              Param #   \n",
      "=================================================================\n",
      "lstm_5 (LSTM)                (None, 12, 600)           1466400   \n",
      "_________________________________________________________________\n",
      "lstm_6 (LSTM)                (None, 12, 600)           2882400   \n",
      "_________________________________________________________________\n",
      "lstm_7 (LSTM)                (None, 600)               2882400   \n",
      "_________________________________________________________________\n",
      "dense_3 (Dense)              (None, 1)                 601       \n",
      "=================================================================\n",
      "Total params: 7,231,801\n",
      "Trainable params: 7,231,801\n",
      "Non-trainable params: 0\n",
      "_________________________________________________________________\n"
     ]
    }
   ],
   "source": [
    "model4.summary()"
   ]
  },
  {
   "cell_type": "code",
   "execution_count": 83,
   "metadata": {
    "scrolled": true
   },
   "outputs": [
    {
     "name": "stdout",
     "output_type": "stream",
     "text": [
      "Epoch 1/1000\n",
      "17/17 [==============================] - 3s 159ms/step - loss: 99.5323 - val_loss: 98.4354\n",
      "Epoch 2/1000\n",
      "17/17 [==============================] - 2s 106ms/step - loss: 98.5691 - val_loss: 96.5241\n",
      "Epoch 3/1000\n",
      "17/17 [==============================] - 2s 111ms/step - loss: 97.1497 - val_loss: 93.3587\n",
      "Epoch 4/1000\n",
      "17/17 [==============================] - 2s 112ms/step - loss: 94.5742 - val_loss: 86.6507\n",
      "Epoch 5/1000\n",
      "17/17 [==============================] - 2s 120ms/step - loss: 88.7658 - val_loss: 71.0685\n",
      "Epoch 6/1000\n",
      "17/17 [==============================] - 2s 116ms/step - loss: 75.3121 - val_loss: 41.5452\n",
      "Epoch 7/1000\n",
      "17/17 [==============================] - 2s 120ms/step - loss: 51.4214 - val_loss: 14.4085\n",
      "Epoch 8/1000\n",
      "17/17 [==============================] - 2s 117ms/step - loss: 25.7010 - val_loss: 1.1567\n",
      "Epoch 9/1000\n",
      "17/17 [==============================] - 2s 116ms/step - loss: 11.1541 - val_loss: 5.1396\n",
      "Epoch 10/1000\n",
      "17/17 [==============================] - 2s 116ms/step - loss: 7.8269 - val_loss: 1.9939\n",
      "Epoch 11/1000\n",
      "17/17 [==============================] - 2s 118ms/step - loss: 4.8657 - val_loss: 0.4621\n",
      "Epoch 12/1000\n",
      "17/17 [==============================] - 2s 116ms/step - loss: 3.5285 - val_loss: 0.1129\n",
      "Epoch 13/1000\n",
      "17/17 [==============================] - 2s 114ms/step - loss: 2.8176 - val_loss: 0.2931\n",
      "Epoch 14/1000\n",
      "17/17 [==============================] - 2s 115ms/step - loss: 2.0146 - val_loss: 0.1749\n",
      "Epoch 15/1000\n",
      "17/17 [==============================] - 2s 116ms/step - loss: 1.8418 - val_loss: 0.1654\n",
      "Epoch 16/1000\n",
      "17/17 [==============================] - 2s 117ms/step - loss: 1.5726 - val_loss: 0.1677\n",
      "Epoch 17/1000\n",
      "17/17 [==============================] - 2s 117ms/step - loss: 1.4152 - val_loss: 0.1797\n",
      "Epoch 18/1000\n",
      "17/17 [==============================] - 2s 113ms/step - loss: 1.3811 - val_loss: 0.1930\n",
      "Epoch 19/1000\n",
      "17/17 [==============================] - 2s 115ms/step - loss: 1.2208 - val_loss: 0.2180\n",
      "Epoch 20/1000\n",
      "17/17 [==============================] - 2s 118ms/step - loss: 1.2228 - val_loss: 0.7069\n",
      "Epoch 21/1000\n",
      "17/17 [==============================] - 2s 117ms/step - loss: 1.1677 - val_loss: 0.2660\n",
      "Epoch 22/1000\n",
      "17/17 [==============================] - 2s 118ms/step - loss: 1.0403 - val_loss: 0.1039\n",
      "Epoch 23/1000\n",
      "17/17 [==============================] - 2s 113ms/step - loss: 1.0317 - val_loss: 0.6361\n",
      "Epoch 24/1000\n",
      "17/17 [==============================] - 2s 114ms/step - loss: 1.0640 - val_loss: 0.1357\n",
      "Epoch 25/1000\n",
      "17/17 [==============================] - 2s 115ms/step - loss: 0.9659 - val_loss: 0.3563\n",
      "Epoch 26/1000\n",
      "17/17 [==============================] - 2s 118ms/step - loss: 0.9438 - val_loss: 0.1013\n",
      "Epoch 27/1000\n",
      "17/17 [==============================] - 2s 115ms/step - loss: 1.0017 - val_loss: 0.3583\n",
      "Epoch 28/1000\n",
      "17/17 [==============================] - 2s 114ms/step - loss: 0.9216 - val_loss: 0.3812\n",
      "Epoch 29/1000\n",
      "17/17 [==============================] - 2s 114ms/step - loss: 0.9614 - val_loss: 0.5382\n",
      "Epoch 30/1000\n",
      "17/17 [==============================] - 2s 118ms/step - loss: 0.8712 - val_loss: 0.3910\n",
      "Epoch 31/1000\n",
      "17/17 [==============================] - 2s 119ms/step - loss: 0.8460 - val_loss: 0.1001\n",
      "Epoch 32/1000\n",
      "17/17 [==============================] - 2s 117ms/step - loss: 0.8406 - val_loss: 0.4360\n",
      "Epoch 33/1000\n",
      "17/17 [==============================] - 2s 118ms/step - loss: 0.8408 - val_loss: 0.0956\n",
      "Epoch 34/1000\n",
      "17/17 [==============================] - 2s 112ms/step - loss: 0.8477 - val_loss: 0.5054\n",
      "Epoch 35/1000\n",
      "17/17 [==============================] - 2s 117ms/step - loss: 0.8088 - val_loss: 0.0920\n",
      "Epoch 36/1000\n",
      "17/17 [==============================] - 2s 118ms/step - loss: 0.7775 - val_loss: 0.4668\n",
      "Epoch 37/1000\n",
      "17/17 [==============================] - 2s 114ms/step - loss: 0.9128 - val_loss: 0.2071\n",
      "Epoch 38/1000\n",
      "17/17 [==============================] - 2s 115ms/step - loss: 0.7305 - val_loss: 0.0996\n",
      "Epoch 39/1000\n",
      "17/17 [==============================] - 2s 116ms/step - loss: 0.7567 - val_loss: 0.2932\n",
      "Epoch 40/1000\n",
      "17/17 [==============================] - 2s 116ms/step - loss: 0.7135 - val_loss: 0.1025\n",
      "Epoch 41/1000\n",
      "17/17 [==============================] - 2s 117ms/step - loss: 0.7735 - val_loss: 0.1464\n",
      "Epoch 42/1000\n",
      "17/17 [==============================] - 2s 115ms/step - loss: 0.6865 - val_loss: 0.6486\n",
      "Epoch 43/1000\n",
      "17/17 [==============================] - 2s 116ms/step - loss: 0.7276 - val_loss: 0.1402\n",
      "Epoch 44/1000\n",
      "17/17 [==============================] - 2s 115ms/step - loss: 0.6925 - val_loss: 0.1538\n",
      "Epoch 45/1000\n",
      "17/17 [==============================] - 2s 116ms/step - loss: 0.6890 - val_loss: 0.2159\n",
      "Epoch 46/1000\n",
      "17/17 [==============================] - 2s 119ms/step - loss: 0.6699 - val_loss: 0.2475\n",
      "Epoch 47/1000\n",
      "17/17 [==============================] - 2s 114ms/step - loss: 0.6368 - val_loss: 0.3881\n",
      "Epoch 48/1000\n",
      "17/17 [==============================] - 2s 116ms/step - loss: 0.6633 - val_loss: 0.1071\n",
      "Epoch 49/1000\n",
      "17/17 [==============================] - 2s 113ms/step - loss: 0.6603 - val_loss: 0.2801\n",
      "Epoch 50/1000\n",
      "17/17 [==============================] - 2s 117ms/step - loss: 0.6350 - val_loss: 0.3327\n",
      "Epoch 51/1000\n",
      "17/17 [==============================] - 2s 118ms/step - loss: 0.6084 - val_loss: 0.1451\n",
      "Epoch 52/1000\n",
      "17/17 [==============================] - 2s 113ms/step - loss: 0.6035 - val_loss: 0.1015\n",
      "Epoch 53/1000\n",
      "17/17 [==============================] - 2s 116ms/step - loss: 0.5951 - val_loss: 0.2125\n",
      "Epoch 54/1000\n",
      "17/17 [==============================] - 2s 112ms/step - loss: 0.5766 - val_loss: 0.1575\n",
      "Epoch 55/1000\n",
      "17/17 [==============================] - 2s 117ms/step - loss: 0.5816 - val_loss: 0.1111\n",
      "Epoch 56/1000\n",
      "17/17 [==============================] - 2s 116ms/step - loss: 0.5229 - val_loss: 0.3000\n",
      "Epoch 57/1000\n",
      "17/17 [==============================] - 2s 114ms/step - loss: 0.5693 - val_loss: 0.2217\n",
      "Epoch 58/1000\n",
      "17/17 [==============================] - 2s 116ms/step - loss: 0.5483 - val_loss: 0.2298\n",
      "Epoch 59/1000\n",
      "17/17 [==============================] - 2s 114ms/step - loss: 0.5362 - val_loss: 0.4224\n",
      "Epoch 60/1000\n",
      "17/17 [==============================] - ETA: 0s - loss: 0.6234\n",
      "Epoch 00060: ReduceLROnPlateau reducing learning rate to 9.999999747378752e-07.\n",
      "17/17 [==============================] - 2s 119ms/step - loss: 0.6234 - val_loss: 0.1990\n",
      "Epoch 61/1000\n",
      "17/17 [==============================] - 2s 116ms/step - loss: 0.5981 - val_loss: 0.1341\n",
      "Epoch 62/1000\n",
      "17/17 [==============================] - 2s 116ms/step - loss: 0.4581 - val_loss: 0.2267\n",
      "Epoch 63/1000\n",
      "17/17 [==============================] - 2s 116ms/step - loss: 0.5022 - val_loss: 0.2220\n",
      "Epoch 64/1000\n",
      "17/17 [==============================] - 2s 117ms/step - loss: 0.4948 - val_loss: 0.1972\n",
      "Epoch 65/1000\n",
      "17/17 [==============================] - 2s 117ms/step - loss: 0.5331 - val_loss: 0.1634\n",
      "Epoch 66/1000\n",
      "17/17 [==============================] - 2s 116ms/step - loss: 0.4588 - val_loss: 0.2117\n",
      "Epoch 67/1000\n",
      "17/17 [==============================] - 2s 114ms/step - loss: 0.5434 - val_loss: 0.2042\n",
      "Epoch 68/1000\n",
      "17/17 [==============================] - 2s 116ms/step - loss: 0.4899 - val_loss: 0.2408\n",
      "Epoch 69/1000\n",
      "17/17 [==============================] - 2s 115ms/step - loss: 0.4759 - val_loss: 0.2498\n",
      "Epoch 70/1000\n",
      "17/17 [==============================] - 2s 119ms/step - loss: 0.4709 - val_loss: 0.1932\n",
      "Epoch 71/1000\n",
      "17/17 [==============================] - 2s 115ms/step - loss: 0.4731 - val_loss: 0.2457\n",
      "Epoch 72/1000\n",
      "17/17 [==============================] - 2s 114ms/step - loss: 0.4848 - val_loss: 0.1986\n",
      "Epoch 73/1000\n",
      "17/17 [==============================] - 2s 117ms/step - loss: 0.5314 - val_loss: 0.2963\n",
      "Epoch 74/1000\n",
      "17/17 [==============================] - 2s 116ms/step - loss: 0.4907 - val_loss: 0.2728\n",
      "Epoch 75/1000\n",
      "17/17 [==============================] - 2s 118ms/step - loss: 0.5069 - val_loss: 0.1626\n",
      "Epoch 76/1000\n",
      "17/17 [==============================] - 2s 113ms/step - loss: 0.4907 - val_loss: 0.1602\n",
      "Epoch 77/1000\n",
      "17/17 [==============================] - 2s 115ms/step - loss: 0.4689 - val_loss: 0.2080\n",
      "Epoch 78/1000\n",
      "17/17 [==============================] - 2s 118ms/step - loss: 0.4722 - val_loss: 0.2269\n",
      "Epoch 79/1000\n"
     ]
    },
    {
     "name": "stdout",
     "output_type": "stream",
     "text": [
      "17/17 [==============================] - 2s 117ms/step - loss: 0.4459 - val_loss: 0.2273\n",
      "Epoch 80/1000\n",
      "17/17 [==============================] - 2s 117ms/step - loss: 0.5090 - val_loss: 0.2167\n",
      "Epoch 81/1000\n",
      "17/17 [==============================] - 2s 116ms/step - loss: 0.5374 - val_loss: 0.2573\n",
      "Epoch 82/1000\n",
      "17/17 [==============================] - 2s 114ms/step - loss: 0.5200 - val_loss: 0.2194\n",
      "Epoch 83/1000\n",
      "17/17 [==============================] - 2s 119ms/step - loss: 0.4593 - val_loss: 0.2298\n",
      "Epoch 84/1000\n",
      "17/17 [==============================] - 2s 119ms/step - loss: 0.4565 - val_loss: 0.2295\n",
      "Epoch 85/1000\n",
      "17/17 [==============================] - ETA: 0s - loss: 0.4710\n",
      "Epoch 00085: ReduceLROnPlateau reducing learning rate to 9.999999974752428e-08.\n",
      "17/17 [==============================] - 2s 120ms/step - loss: 0.4710 - val_loss: 0.2498\n",
      "Epoch 86/1000\n",
      "17/17 [==============================] - 2s 116ms/step - loss: 0.4992 - val_loss: 0.2487\n",
      "Epoch 87/1000\n",
      "17/17 [==============================] - 2s 115ms/step - loss: 0.5068 - val_loss: 0.2436\n",
      "Epoch 88/1000\n",
      "17/17 [==============================] - 2s 119ms/step - loss: 0.4592 - val_loss: 0.2455\n",
      "Epoch 89/1000\n",
      "17/17 [==============================] - 2s 117ms/step - loss: 0.4781 - val_loss: 0.2506\n",
      "Epoch 90/1000\n",
      "17/17 [==============================] - 2s 118ms/step - loss: 0.4823 - val_loss: 0.2540\n",
      "Epoch 91/1000\n",
      "17/17 [==============================] - 2s 115ms/step - loss: 0.4556 - val_loss: 0.2444\n",
      "Epoch 92/1000\n",
      "17/17 [==============================] - 2s 115ms/step - loss: 0.4735 - val_loss: 0.2417\n",
      "Epoch 93/1000\n",
      "17/17 [==============================] - 2s 119ms/step - loss: 0.5009 - val_loss: 0.2456\n",
      "Epoch 94/1000\n",
      "17/17 [==============================] - 2s 119ms/step - loss: 0.4695 - val_loss: 0.2418\n",
      "Epoch 95/1000\n",
      "17/17 [==============================] - 2s 119ms/step - loss: 0.4861 - val_loss: 0.2329\n",
      "Epoch 96/1000\n",
      "17/17 [==============================] - 2s 116ms/step - loss: 0.5187 - val_loss: 0.2253\n",
      "Epoch 97/1000\n",
      "17/17 [==============================] - 2s 114ms/step - loss: 0.5171 - val_loss: 0.2205\n",
      "Epoch 98/1000\n",
      "17/17 [==============================] - 2s 117ms/step - loss: 0.4939 - val_loss: 0.2207\n",
      "Epoch 99/1000\n",
      "17/17 [==============================] - 2s 118ms/step - loss: 0.4800 - val_loss: 0.2283\n",
      "Epoch 100/1000\n",
      "17/17 [==============================] - 2s 114ms/step - loss: 0.5241 - val_loss: 0.2355\n",
      "Epoch 101/1000\n",
      "17/17 [==============================] - 2s 114ms/step - loss: 0.5338 - val_loss: 0.2389\n",
      "Epoch 102/1000\n",
      "17/17 [==============================] - 2s 116ms/step - loss: 0.5285 - val_loss: 0.2503\n",
      "Epoch 103/1000\n",
      "17/17 [==============================] - 2s 118ms/step - loss: 0.4645 - val_loss: 0.2508\n",
      "Epoch 104/1000\n",
      "17/17 [==============================] - 2s 116ms/step - loss: 0.4823 - val_loss: 0.2480\n",
      "Epoch 105/1000\n",
      "17/17 [==============================] - 2s 114ms/step - loss: 0.4738 - val_loss: 0.2535\n",
      "Epoch 106/1000\n",
      "17/17 [==============================] - 2s 116ms/step - loss: 0.4824 - val_loss: 0.2521\n",
      "Epoch 107/1000\n",
      "17/17 [==============================] - 2s 115ms/step - loss: 0.4632 - val_loss: 0.2502\n",
      "Epoch 108/1000\n",
      "17/17 [==============================] - 2s 116ms/step - loss: 0.5218 - val_loss: 0.2546\n",
      "Epoch 109/1000\n",
      "17/17 [==============================] - 2s 120ms/step - loss: 0.4928 - val_loss: 0.2555\n",
      "Epoch 110/1000\n",
      "17/17 [==============================] - ETA: 0s - loss: 0.4766\n",
      "Epoch 00110: ReduceLROnPlateau reducing learning rate to 1.0000000116860975e-08.\n",
      "17/17 [==============================] - 2s 115ms/step - loss: 0.4766 - val_loss: 0.2472\n",
      "Epoch 111/1000\n",
      "17/17 [==============================] - 2s 114ms/step - loss: 0.4624 - val_loss: 0.2477\n",
      "Epoch 112/1000\n",
      "17/17 [==============================] - 2s 113ms/step - loss: 0.4422 - val_loss: 0.2476\n",
      "Epoch 113/1000\n",
      "17/17 [==============================] - 2s 118ms/step - loss: 0.4428 - val_loss: 0.2470\n",
      "Epoch 114/1000\n",
      "17/17 [==============================] - 2s 117ms/step - loss: 0.4829 - val_loss: 0.2469\n",
      "Epoch 115/1000\n",
      "17/17 [==============================] - 2s 114ms/step - loss: 0.5022 - val_loss: 0.2464\n",
      "Epoch 116/1000\n",
      "17/17 [==============================] - 2s 113ms/step - loss: 0.4866 - val_loss: 0.2454\n",
      "Epoch 117/1000\n",
      "17/17 [==============================] - 2s 117ms/step - loss: 0.4475 - val_loss: 0.2453\n",
      "Epoch 118/1000\n",
      "17/17 [==============================] - 2s 118ms/step - loss: 0.4932 - val_loss: 0.2459\n",
      "Epoch 119/1000\n",
      "17/17 [==============================] - 2s 118ms/step - loss: 0.5078 - val_loss: 0.2460\n",
      "Epoch 120/1000\n",
      "17/17 [==============================] - 2s 115ms/step - loss: 0.4715 - val_loss: 0.2464\n",
      "Epoch 121/1000\n",
      "17/17 [==============================] - 2s 113ms/step - loss: 0.5196 - val_loss: 0.2465\n",
      "Epoch 122/1000\n",
      "17/17 [==============================] - 2s 116ms/step - loss: 0.4717 - val_loss: 0.2463\n",
      "Epoch 123/1000\n",
      "17/17 [==============================] - 2s 118ms/step - loss: 0.5027 - val_loss: 0.2459\n",
      "Epoch 124/1000\n",
      "17/17 [==============================] - 2s 116ms/step - loss: 0.5010 - val_loss: 0.2456\n",
      "Epoch 125/1000\n",
      "17/17 [==============================] - 2s 115ms/step - loss: 0.4610 - val_loss: 0.2452\n",
      "Epoch 126/1000\n",
      "17/17 [==============================] - 2s 117ms/step - loss: 0.4448 - val_loss: 0.2448\n",
      "Epoch 127/1000\n",
      "17/17 [==============================] - 2s 113ms/step - loss: 0.4730 - val_loss: 0.2444\n",
      "Epoch 128/1000\n",
      "17/17 [==============================] - 2s 119ms/step - loss: 0.4899 - val_loss: 0.2438\n",
      "Epoch 129/1000\n",
      "17/17 [==============================] - 2s 115ms/step - loss: 0.5151 - val_loss: 0.2439\n",
      "Epoch 130/1000\n",
      "17/17 [==============================] - 2s 114ms/step - loss: 0.4481 - val_loss: 0.2441\n",
      "Epoch 131/1000\n",
      "17/17 [==============================] - 2s 112ms/step - loss: 0.4886 - val_loss: 0.2442\n",
      "Epoch 132/1000\n",
      "17/17 [==============================] - 2s 116ms/step - loss: 0.4792 - val_loss: 0.2442\n",
      "Epoch 133/1000\n",
      "17/17 [==============================] - 2s 119ms/step - loss: 0.4076 - val_loss: 0.2440\n",
      "Epoch 134/1000\n",
      "17/17 [==============================] - 2s 115ms/step - loss: 0.4962 - val_loss: 0.2434\n",
      "Epoch 135/1000\n",
      "17/17 [==============================] - ETA: 0s - loss: 0.4963\n",
      "Epoch 00135: ReduceLROnPlateau reducing learning rate to 9.999999939225292e-10.\n",
      "Restoring model weights from the end of the best epoch.\n",
      "17/17 [==============================] - 2s 115ms/step - loss: 0.4963 - val_loss: 0.2432\n",
      "Epoch 00135: early stopping\n"
     ]
    }
   ],
   "source": [
    "# History object for plotting our model loss by epoch\n",
    "history4 = model4.fit(x_train12, y_train12, batch_size = BATCH4, \n",
    "                    epochs = EPOCHS4, validation_data = (x_val12, y_val12),\n",
    "                    callbacks = [rlrop4, early_stop4])"
   ]
  },
  {
   "cell_type": "code",
   "execution_count": 84,
   "metadata": {},
   "outputs": [
    {
     "data": {
      "image/png": "[encoded data removed]",
      "text/plain": [
       "<Figure size 720x504 with 1 Axes>"
      ]
     },
     "metadata": {},
     "output_type": "display_data"
    }
   ],
   "source": [
    "# Loss History\n",
    "fig = plt.figure(figsize=(10, 7))\n",
    "plt.plot(history4.history['loss'])\n",
    "plt.plot(history4.history['val_loss'])\n",
    "plt.title('Model Loss')\n",
    "plt.ylabel('Loss')\n",
    "plt.xlabel('Epoch')\n",
    "plt.legend(['Train', 'Val'], loc='upper right')\n",
    "plt.show()"
   ]
  },
  {
   "cell_type": "markdown",
   "metadata": {},
   "source": [
    "### Previsão Multistep 12 meses em Validação\n",
    "Para ficar adequado à realidade, não podemos usar os dados de 2022 para prever 2022. Portanto, a previsão de 2022 será feita do moto *multistep*, isto é, o mês de janeiro/2022 será previsto usando-se os dados de arrecadação de janeiro a dezembro de 2021; o mês de fevereiro/2022 será previsto usando-se os dados de fevereiro a dezembro de 2021 mais a previsão feita para o mês de janeiro/2022; o mês de março/2022 será previsto usando-se os dados de março a dezembro de 2021 mais os meses de janeiro e fevereiro de 2022 previstos nos passos anteriores. E assim por diante, até que a previsão de dezembro/2022 será feita usando-se os dados de dezembro de 2021 mais as previsões de janeiro a novembro de 2022 feitas nos passos anteriores."
   ]
  },
  {
   "cell_type": "markdown",
   "metadata": {},
   "source": [
    "#### Remove os 12 últimos valores que serão previstos e cria as séries novamente"
   ]
  },
  {
   "cell_type": "code",
   "execution_count": 85,
   "metadata": {},
   "outputs": [
    {
     "name": "stdout",
     "output_type": "stream",
     "text": [
      "(180,)\n",
      "(156,)\n"
     ]
    },
    {
     "data": {
      "text/plain": [
       "pandas.core.series.Series"
      ]
     },
     "execution_count": 85,
     "metadata": {},
     "output_type": "execute_result"
    }
   ],
   "source": [
    "# remove\n",
    "serie_multi122 = l_icms_ts[:-24]\n",
    "print(l_icms_ts.shape)\n",
    "print(serie_multi122.shape)\n",
    "type(serie_multi122)"
   ]
  },
  {
   "cell_type": "code",
   "execution_count": 86,
   "metadata": {},
   "outputs": [
    {
     "name": "stdout",
     "output_type": "stream",
     "text": [
      "0 [[1.0002226e+10]]\n",
      "1 [[1.0001843e+10]]\n",
      "2 [[9.999021e+09]]\n",
      "3 [[9.998048e+09]]\n",
      "4 [[9.999879e+09]]\n",
      "5 [[9.999707e+09]]\n",
      "6 [[1.0001997e+10]]\n",
      "7 [[1.0003599e+10]]\n",
      "8 [[1.0006443e+10]]\n",
      "9 [[1.0010318e+10]]\n",
      "10 [[1.0014862e+10]]\n",
      "11 [[1.0013947e+10]]\n"
     ]
    }
   ],
   "source": [
    "for i in range(12):\n",
    "    # cria as séries\n",
    "    X_multi122, Y_multi122 = cria_features_target(serie_multi122, verbose=0)\n",
    "\n",
    "    # Faz a normalização usando o modelo fitado na normalização anterior\n",
    "    X_multi_std122 = enc_x.transform(X_multi122)\n",
    "    X_multi_std122 = X_multi_std122.reshape(X_multi_std122.shape[0],10,1)\n",
    "\n",
    "    # Faz o janelamento das séries\n",
    "    x_multi122, y_multi122 = janelamento_12_meses(X_multi_std122, Y_multi122, verbose=0)\n",
    "\n",
    "    # Faz a predição da arrecadação do mês\n",
    "    #y_pred_multi = np.mean(model.predict(x_multi[-1:]), axis=1)#[:,0].ravel()\n",
    "    y_pred_multi122 = model4.predict(x_multi122[-1:])#[:,0].ravel()\n",
    "    print(i, np.exp(y_pred_multi122))\n",
    "\n",
    "    #### Adicionar o valor previsto à série e fazer o novo janelamento\n",
    "    serie_multi122 = pd.Series(np.append(serie_multi122, y_pred_multi122))\n",
    "    type(serie_multi122)"
   ]
  },
  {
   "cell_type": "code",
   "execution_count": 87,
   "metadata": {},
   "outputs": [],
   "source": [
    "Y_pred_multi122 = np.exp(pd.Series(serie_multi122[-12:])) # tira o log das previsões\n",
    "Y_pred_multi122.index = icms_val.index"
   ]
  },
  {
   "cell_type": "code",
   "execution_count": 88,
   "metadata": {},
   "outputs": [
    {
     "data": {
      "text/plain": [
       "date\n",
       "2016-01-01    1.000223e+10\n",
       "2016-02-01    1.000184e+10\n",
       "2016-03-01    9.999021e+09\n",
       "2016-04-01    9.998048e+09\n",
       "2016-05-01    9.999879e+09\n",
       "2016-06-01    9.999708e+09\n",
       "2016-07-01    1.000200e+10\n",
       "2016-08-01    1.000360e+10\n",
       "2016-09-01    1.000644e+10\n",
       "2016-10-01    1.001032e+10\n",
       "2016-11-01    1.001486e+10\n",
       "2016-12-01    1.001395e+10\n",
       "dtype: float64"
      ]
     },
     "execution_count": 88,
     "metadata": {},
     "output_type": "execute_result"
    }
   ],
   "source": [
    "Y_pred_multi122"
   ]
  },
  {
   "cell_type": "code",
   "execution_count": 89,
   "metadata": {},
   "outputs": [
    {
     "data": {
      "text/plain": [
       "341102012.3055502"
      ]
     },
     "execution_count": 89,
     "metadata": {},
     "output_type": "execute_result"
    }
   ],
   "source": [
    "RMSE_lstm_multi122 = mean_squared_error(icms_val, Y_pred_multi122, squared=False)\n",
    "RMSE_lstm_multi122"
   ]
  },
  {
   "cell_type": "code",
   "execution_count": 90,
   "metadata": {
    "scrolled": true
   },
   "outputs": [
    {
     "data": {
      "text/plain": [
       "0.020859338023638197"
      ]
     },
     "execution_count": 90,
     "metadata": {},
     "output_type": "execute_result"
    }
   ],
   "source": [
    "MAPE_lstm_multi122 = mean_absolute_percentage_error(icms_val, Y_pred_multi122)\n",
    "MAPE_lstm_multi122"
   ]
  },
  {
   "cell_type": "code",
   "execution_count": 91,
   "metadata": {},
   "outputs": [],
   "source": [
    "previsoes['nome'].append('RNN-LSTM-12-meses-camadas')\n",
    "previsoes['modelo'].append(model4)\n",
    "previsoes['previsoes'].append(Y_pred_multi122)\n",
    "\n",
    "previsoes['rmse'].append(RMSE_lstm_multi122)\n",
    "\n",
    "previsoes['mape'].append(MAPE_lstm_multi122)"
   ]
  },
  {
   "cell_type": "code",
   "execution_count": 92,
   "metadata": {},
   "outputs": [],
   "source": [
    "previsoes['erro relativo'].append([erro_relativo(prev,real) \n",
    "                                   for prev,real in zip(Y_pred_multi122\n",
    "                                                        , icms_val)])"
   ]
  },
  {
   "cell_type": "markdown",
   "metadata": {},
   "source": [
    "## Resultados"
   ]
  },
  {
   "cell_type": "code",
   "execution_count": 93,
   "metadata": {},
   "outputs": [
    {
     "data": {
      "text/plain": [
       "['RNN-LSTM-1-mês-larga',\n",
       " 'RNN-LSTM-1-mês-camadas',\n",
       " 'RNN-LSTM-12-meses-larga',\n",
       " 'RNN-LSTM-12-meses-camadas']"
      ]
     },
     "execution_count": 93,
     "metadata": {},
     "output_type": "execute_result"
    }
   ],
   "source": [
    "previsoes['nome']"
   ]
  },
  {
   "cell_type": "code",
   "execution_count": 94,
   "metadata": {},
   "outputs": [],
   "source": [
    "df_prev = pd.DataFrame(data=previsoes['previsoes'], \n",
    "                       index=previsoes['nome']).transpose()\n",
    "df_prev[\"real\"] = icms_val\n",
    "df_rmse = pd.DataFrame(data=previsoes['rmse'], \n",
    "                       index=previsoes['nome']).transpose()\n",
    "df_mape = pd.DataFrame(data=previsoes['mape'], \n",
    "                       index=previsoes['nome']).transpose()\n",
    "df_erro = pd.DataFrame(data=previsoes['erro relativo'], \n",
    "                       index=previsoes['nome']).transpose()"
   ]
  },
  {
   "cell_type": "code",
   "execution_count": 95,
   "metadata": {},
   "outputs": [
    {
     "data": {
      "text/html": [
       "<div>\n",
       "<style scoped>\n",
       "    .dataframe tbody tr th:only-of-type {\n",
       "        vertical-align: middle;\n",
       "    }\n",
       "\n",
       "    .dataframe tbody tr th {\n",
       "        vertical-align: top;\n",
       "    }\n",
       "\n",
       "    .dataframe thead th {\n",
       "        text-align: right;\n",
       "    }\n",
       "</style>\n",
       "<table border=\"1\" class=\"dataframe\">\n",
       "  <thead>\n",
       "    <tr style=\"text-align: right;\">\n",
       "      <th></th>\n",
       "      <th>RNN-LSTM-1-mês-larga</th>\n",
       "      <th>RNN-LSTM-1-mês-camadas</th>\n",
       "      <th>RNN-LSTM-12-meses-larga</th>\n",
       "      <th>RNN-LSTM-12-meses-camadas</th>\n",
       "      <th>real</th>\n",
       "    </tr>\n",
       "    <tr>\n",
       "      <th>date</th>\n",
       "      <th></th>\n",
       "      <th></th>\n",
       "      <th></th>\n",
       "      <th></th>\n",
       "      <th></th>\n",
       "    </tr>\n",
       "  </thead>\n",
       "  <tbody>\n",
       "    <tr>\n",
       "      <th>2016-01-01</th>\n",
       "      <td>9.894940e+09</td>\n",
       "      <td>1.004009e+10</td>\n",
       "      <td>1.012055e+10</td>\n",
       "      <td>1.000223e+10</td>\n",
       "      <td>1.004910e+10</td>\n",
       "    </tr>\n",
       "    <tr>\n",
       "      <th>2016-02-01</th>\n",
       "      <td>9.876066e+09</td>\n",
       "      <td>1.005138e+10</td>\n",
       "      <td>1.012814e+10</td>\n",
       "      <td>1.000184e+10</td>\n",
       "      <td>1.002313e+10</td>\n",
       "    </tr>\n",
       "    <tr>\n",
       "      <th>2016-03-01</th>\n",
       "      <td>9.911146e+09</td>\n",
       "      <td>1.007737e+10</td>\n",
       "      <td>1.010131e+10</td>\n",
       "      <td>9.999021e+09</td>\n",
       "      <td>1.003487e+10</td>\n",
       "    </tr>\n",
       "    <tr>\n",
       "      <th>2016-04-01</th>\n",
       "      <td>9.891354e+09</td>\n",
       "      <td>1.004448e+10</td>\n",
       "      <td>1.009383e+10</td>\n",
       "      <td>9.998048e+09</td>\n",
       "      <td>9.838065e+09</td>\n",
       "    </tr>\n",
       "    <tr>\n",
       "      <th>2016-05-01</th>\n",
       "      <td>9.874239e+09</td>\n",
       "      <td>1.003035e+10</td>\n",
       "      <td>1.009630e+10</td>\n",
       "      <td>9.999879e+09</td>\n",
       "      <td>9.984410e+09</td>\n",
       "    </tr>\n",
       "    <tr>\n",
       "      <th>2016-06-01</th>\n",
       "      <td>9.862136e+09</td>\n",
       "      <td>1.002469e+10</td>\n",
       "      <td>1.009318e+10</td>\n",
       "      <td>9.999708e+09</td>\n",
       "      <td>9.883704e+09</td>\n",
       "    </tr>\n",
       "    <tr>\n",
       "      <th>2016-07-01</th>\n",
       "      <td>9.865729e+09</td>\n",
       "      <td>1.000270e+10</td>\n",
       "      <td>1.009152e+10</td>\n",
       "      <td>1.000200e+10</td>\n",
       "      <td>9.569317e+09</td>\n",
       "    </tr>\n",
       "    <tr>\n",
       "      <th>2016-08-01</th>\n",
       "      <td>9.860236e+09</td>\n",
       "      <td>1.001219e+10</td>\n",
       "      <td>1.010373e+10</td>\n",
       "      <td>1.000360e+10</td>\n",
       "      <td>1.012199e+10</td>\n",
       "    </tr>\n",
       "    <tr>\n",
       "      <th>2016-09-01</th>\n",
       "      <td>9.863697e+09</td>\n",
       "      <td>1.000112e+10</td>\n",
       "      <td>1.010853e+10</td>\n",
       "      <td>1.000644e+10</td>\n",
       "      <td>1.003972e+10</td>\n",
       "    </tr>\n",
       "    <tr>\n",
       "      <th>2016-10-01</th>\n",
       "      <td>9.866426e+09</td>\n",
       "      <td>9.996332e+09</td>\n",
       "      <td>1.011692e+10</td>\n",
       "      <td>1.001032e+10</td>\n",
       "      <td>1.040347e+10</td>\n",
       "    </tr>\n",
       "    <tr>\n",
       "      <th>2016-11-01</th>\n",
       "      <td>9.861779e+09</td>\n",
       "      <td>9.999994e+09</td>\n",
       "      <td>1.013908e+10</td>\n",
       "      <td>1.001486e+10</td>\n",
       "      <td>1.026535e+10</td>\n",
       "    </tr>\n",
       "    <tr>\n",
       "      <th>2016-12-01</th>\n",
       "      <td>9.861797e+09</td>\n",
       "      <td>9.999097e+09</td>\n",
       "      <td>1.014320e+10</td>\n",
       "      <td>1.001395e+10</td>\n",
       "      <td>1.098004e+10</td>\n",
       "    </tr>\n",
       "  </tbody>\n",
       "</table>\n",
       "</div>"
      ],
      "text/plain": [
       "            RNN-LSTM-1-mês-larga  RNN-LSTM-1-mês-camadas  \\\n",
       "date                                                       \n",
       "2016-01-01          9.894940e+09            1.004009e+10   \n",
       "2016-02-01          9.876066e+09            1.005138e+10   \n",
       "2016-03-01          9.911146e+09            1.007737e+10   \n",
       "2016-04-01          9.891354e+09            1.004448e+10   \n",
       "2016-05-01          9.874239e+09            1.003035e+10   \n",
       "2016-06-01          9.862136e+09            1.002469e+10   \n",
       "2016-07-01          9.865729e+09            1.000270e+10   \n",
       "2016-08-01          9.860236e+09            1.001219e+10   \n",
       "2016-09-01          9.863697e+09            1.000112e+10   \n",
       "2016-10-01          9.866426e+09            9.996332e+09   \n",
       "2016-11-01          9.861779e+09            9.999994e+09   \n",
       "2016-12-01          9.861797e+09            9.999097e+09   \n",
       "\n",
       "            RNN-LSTM-12-meses-larga  RNN-LSTM-12-meses-camadas          real  \n",
       "date                                                                          \n",
       "2016-01-01             1.012055e+10               1.000223e+10  1.004910e+10  \n",
       "2016-02-01             1.012814e+10               1.000184e+10  1.002313e+10  \n",
       "2016-03-01             1.010131e+10               9.999021e+09  1.003487e+10  \n",
       "2016-04-01             1.009383e+10               9.998048e+09  9.838065e+09  \n",
       "2016-05-01             1.009630e+10               9.999879e+09  9.984410e+09  \n",
       "2016-06-01             1.009318e+10               9.999708e+09  9.883704e+09  \n",
       "2016-07-01             1.009152e+10               1.000200e+10  9.569317e+09  \n",
       "2016-08-01             1.010373e+10               1.000360e+10  1.012199e+10  \n",
       "2016-09-01             1.010853e+10               1.000644e+10  1.003972e+10  \n",
       "2016-10-01             1.011692e+10               1.001032e+10  1.040347e+10  \n",
       "2016-11-01             1.013908e+10               1.001486e+10  1.026535e+10  \n",
       "2016-12-01             1.014320e+10               1.001395e+10  1.098004e+10  "
      ]
     },
     "execution_count": 95,
     "metadata": {},
     "output_type": "execute_result"
    }
   ],
   "source": [
    "df_prev"
   ]
  },
  {
   "cell_type": "code",
   "execution_count": 96,
   "metadata": {},
   "outputs": [
    {
     "data": {
      "text/html": [
       "<div>\n",
       "<style scoped>\n",
       "    .dataframe tbody tr th:only-of-type {\n",
       "        vertical-align: middle;\n",
       "    }\n",
       "\n",
       "    .dataframe tbody tr th {\n",
       "        vertical-align: top;\n",
       "    }\n",
       "\n",
       "    .dataframe thead th {\n",
       "        text-align: right;\n",
       "    }\n",
       "</style>\n",
       "<table border=\"1\" class=\"dataframe\">\n",
       "  <thead>\n",
       "    <tr style=\"text-align: right;\">\n",
       "      <th></th>\n",
       "      <th>RNN-LSTM-1-mês-larga</th>\n",
       "      <th>RNN-LSTM-1-mês-camadas</th>\n",
       "      <th>RNN-LSTM-12-meses-larga</th>\n",
       "      <th>RNN-LSTM-12-meses-camadas</th>\n",
       "    </tr>\n",
       "  </thead>\n",
       "  <tbody>\n",
       "    <tr>\n",
       "      <th>0</th>\n",
       "      <td>1.534046</td>\n",
       "      <td>0.089633</td>\n",
       "      <td>0.711068</td>\n",
       "      <td>0.466428</td>\n",
       "    </tr>\n",
       "    <tr>\n",
       "      <th>1</th>\n",
       "      <td>1.467204</td>\n",
       "      <td>0.281852</td>\n",
       "      <td>1.047748</td>\n",
       "      <td>0.212322</td>\n",
       "    </tr>\n",
       "    <tr>\n",
       "      <th>2</th>\n",
       "      <td>1.232898</td>\n",
       "      <td>0.423541</td>\n",
       "      <td>0.662103</td>\n",
       "      <td>0.357201</td>\n",
       "    </tr>\n",
       "    <tr>\n",
       "      <th>3</th>\n",
       "      <td>0.541667</td>\n",
       "      <td>2.098090</td>\n",
       "      <td>2.599792</td>\n",
       "      <td>1.626169</td>\n",
       "    </tr>\n",
       "    <tr>\n",
       "      <th>4</th>\n",
       "      <td>1.103436</td>\n",
       "      <td>0.460090</td>\n",
       "      <td>1.120632</td>\n",
       "      <td>0.154933</td>\n",
       "    </tr>\n",
       "    <tr>\n",
       "      <th>5</th>\n",
       "      <td>0.218220</td>\n",
       "      <td>1.426408</td>\n",
       "      <td>2.119401</td>\n",
       "      <td>1.173683</td>\n",
       "    </tr>\n",
       "    <tr>\n",
       "      <th>6</th>\n",
       "      <td>3.097529</td>\n",
       "      <td>4.528906</td>\n",
       "      <td>5.457097</td>\n",
       "      <td>4.521530</td>\n",
       "    </tr>\n",
       "    <tr>\n",
       "      <th>7</th>\n",
       "      <td>2.586017</td>\n",
       "      <td>1.084803</td>\n",
       "      <td>0.180380</td>\n",
       "      <td>1.169666</td>\n",
       "    </tr>\n",
       "    <tr>\n",
       "      <th>8</th>\n",
       "      <td>1.753301</td>\n",
       "      <td>0.384522</td>\n",
       "      <td>0.685381</td>\n",
       "      <td>0.331497</td>\n",
       "    </tr>\n",
       "    <tr>\n",
       "      <th>9</th>\n",
       "      <td>5.162155</td>\n",
       "      <td>3.913470</td>\n",
       "      <td>2.754313</td>\n",
       "      <td>3.779039</td>\n",
       "    </tr>\n",
       "    <tr>\n",
       "      <th>10</th>\n",
       "      <td>3.931388</td>\n",
       "      <td>2.584964</td>\n",
       "      <td>1.230032</td>\n",
       "      <td>2.440115</td>\n",
       "    </tr>\n",
       "    <tr>\n",
       "      <th>11</th>\n",
       "      <td>10.184307</td>\n",
       "      <td>8.933857</td>\n",
       "      <td>7.621431</td>\n",
       "      <td>8.798623</td>\n",
       "    </tr>\n",
       "  </tbody>\n",
       "</table>\n",
       "</div>"
      ],
      "text/plain": [
       "    RNN-LSTM-1-mês-larga  RNN-LSTM-1-mês-camadas  RNN-LSTM-12-meses-larga  \\\n",
       "0               1.534046                0.089633                 0.711068   \n",
       "1               1.467204                0.281852                 1.047748   \n",
       "2               1.232898                0.423541                 0.662103   \n",
       "3               0.541667                2.098090                 2.599792   \n",
       "4               1.103436                0.460090                 1.120632   \n",
       "5               0.218220                1.426408                 2.119401   \n",
       "6               3.097529                4.528906                 5.457097   \n",
       "7               2.586017                1.084803                 0.180380   \n",
       "8               1.753301                0.384522                 0.685381   \n",
       "9               5.162155                3.913470                 2.754313   \n",
       "10              3.931388                2.584964                 1.230032   \n",
       "11             10.184307                8.933857                 7.621431   \n",
       "\n",
       "    RNN-LSTM-12-meses-camadas  \n",
       "0                    0.466428  \n",
       "1                    0.212322  \n",
       "2                    0.357201  \n",
       "3                    1.626169  \n",
       "4                    0.154933  \n",
       "5                    1.173683  \n",
       "6                    4.521530  \n",
       "7                    1.169666  \n",
       "8                    0.331497  \n",
       "9                    3.779039  \n",
       "10                   2.440115  \n",
       "11                   8.798623  "
      ]
     },
     "execution_count": 96,
     "metadata": {},
     "output_type": "execute_result"
    }
   ],
   "source": [
    "df_erro"
   ]
  },
  {
   "cell_type": "markdown",
   "metadata": {},
   "source": [
    "#### Previsões"
   ]
  },
  {
   "cell_type": "code",
   "execution_count": 97,
   "metadata": {},
   "outputs": [
    {
     "data": {
      "image/png": "[encoded data removed]",
      "text/plain": [
       "<Figure size 1080x720 with 1 Axes>"
      ]
     },
     "metadata": {},
     "output_type": "display_data"
    }
   ],
   "source": [
    "fig = plt.figure(figsize=(15, 10))\n",
    "ax = sns.lineplot(data=df_prev)"
   ]
  },
  {
   "cell_type": "markdown",
   "metadata": {},
   "source": [
    "#### RMSE"
   ]
  },
  {
   "cell_type": "code",
   "execution_count": 98,
   "metadata": {
    "scrolled": false
   },
   "outputs": [
    {
     "data": {
      "image/png": "[encoded data removed]",
      "text/plain": [
       "<Figure size 1080x720 with 1 Axes>"
      ]
     },
     "metadata": {},
     "output_type": "display_data"
    }
   ],
   "source": [
    "fig = plt.figure(figsize=(15, 10))\n",
    "#df_rmse = df_rmse.drop(['mov_avg_12'], axis=1)\n",
    "ax = sns.barplot(data=df_rmse)\n",
    "_ = plt.xticks(rotation=45)"
   ]
  },
  {
   "cell_type": "markdown",
   "metadata": {},
   "source": [
    "#### MAPE"
   ]
  },
  {
   "cell_type": "code",
   "execution_count": 99,
   "metadata": {
    "scrolled": false
   },
   "outputs": [
    {
     "data": {
      "image/png": "[encoded data removed]",
      "text/plain": [
       "<Figure size 1080x720 with 1 Axes>"
      ]
     },
     "metadata": {},
     "output_type": "display_data"
    }
   ],
   "source": [
    "fig = plt.figure(figsize=(15, 10))\n",
    "#df_mape = df_mape.drop(['mov_avg_12'], axis=1)\n",
    "ax = sns.barplot(data=df_mape)\n",
    "_ = plt.xticks(rotation=45)"
   ]
  },
  {
   "cell_type": "markdown",
   "metadata": {},
   "source": [
    "### Resumo das métricas"
   ]
  },
  {
   "cell_type": "code",
   "execution_count": 100,
   "metadata": {},
   "outputs": [],
   "source": [
    "df_rmse.index = ['RMSE']\n",
    "df_mape.index = ['MAPE']"
   ]
  },
  {
   "cell_type": "code",
   "execution_count": 101,
   "metadata": {},
   "outputs": [
    {
     "data": {
      "text/html": [
       "<div>\n",
       "<style scoped>\n",
       "    .dataframe tbody tr th:only-of-type {\n",
       "        vertical-align: middle;\n",
       "    }\n",
       "\n",
       "    .dataframe tbody tr th {\n",
       "        vertical-align: top;\n",
       "    }\n",
       "\n",
       "    .dataframe thead th {\n",
       "        text-align: right;\n",
       "    }\n",
       "</style>\n",
       "<table border=\"1\" class=\"dataframe\">\n",
       "  <thead>\n",
       "    <tr style=\"text-align: right;\">\n",
       "      <th></th>\n",
       "      <th>RNN-LSTM-1-mês-larga</th>\n",
       "      <th>RNN-LSTM-1-mês-camadas</th>\n",
       "      <th>RNN-LSTM-12-meses-larga</th>\n",
       "      <th>RNN-LSTM-12-meses-camadas</th>\n",
       "    </tr>\n",
       "  </thead>\n",
       "  <tbody>\n",
       "    <tr>\n",
       "      <th>RMSE</th>\n",
       "      <td>4.046861e+08</td>\n",
       "      <td>3.496506e+08</td>\n",
       "      <td>3.186534e+08</td>\n",
       "      <td>3.411020e+08</td>\n",
       "    </tr>\n",
       "    <tr>\n",
       "      <th>MAPE</th>\n",
       "      <td>2.734347e-02</td>\n",
       "      <td>2.184178e-02</td>\n",
       "      <td>2.182448e-02</td>\n",
       "      <td>2.085934e-02</td>\n",
       "    </tr>\n",
       "  </tbody>\n",
       "</table>\n",
       "</div>"
      ],
      "text/plain": [
       "      RNN-LSTM-1-mês-larga  RNN-LSTM-1-mês-camadas  RNN-LSTM-12-meses-larga  \\\n",
       "RMSE          4.046861e+08            3.496506e+08             3.186534e+08   \n",
       "MAPE          2.734347e-02            2.184178e-02             2.182448e-02   \n",
       "\n",
       "      RNN-LSTM-12-meses-camadas  \n",
       "RMSE               3.411020e+08  \n",
       "MAPE               2.085934e-02  "
      ]
     },
     "execution_count": 101,
     "metadata": {},
     "output_type": "execute_result"
    }
   ],
   "source": [
    "df_metricas = df_rmse.copy()\n",
    "df_metricas = df_metricas.append(df_mape.copy())\n",
    "df_metricas"
   ]
  }
 ],
 "metadata": {
  "kernelspec": {
   "display_name": "Python 3",
   "language": "python",
   "name": "python3"
  },
  "language_info": {
   "codemirror_mode": {
    "name": "ipython",
    "version": 3
   },
   "file_extension": ".py",
   "mimetype": "text/x-python",
   "name": "python",
   "nbconvert_exporter": "python",
   "pygments_lexer": "ipython3",
   "version": "3.6.4"
  }
 },
 "nbformat": 4,
 "nbformat_minor": 2
}
